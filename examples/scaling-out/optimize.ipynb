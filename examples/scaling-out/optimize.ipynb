{
 "cells": [
  {
   "cell_type": "markdown",
   "metadata": {},
   "source": [
    "# Double 7's (Short Term Trading Strategies that Work)\n",
    "\n",
    "    1. The SPY is above its 200-day moving average\n",
    "    2. The SPY closes at a X-day low, buy with full capital.\n",
    "    3. If the SPY closes at a X-day high, sell some.\n",
    "       If it sets further highs, sell some more, etc...\n",
    "    4. If you have free cash, use it all when fresh lows are set.\n",
    "    \n",
    "    (optimize for number of positions)"
   ]
  },
  {
   "cell_type": "code",
   "execution_count": 1,
   "metadata": {
    "ExecuteTime": {
     "end_time": "2020-02-17T03:37:10.595997Z",
     "start_time": "2020-02-17T03:37:09.364998Z"
    }
   },
   "outputs": [],
   "source": [
    "import pandas as pd\n",
    "import matplotlib.pyplot as plt\n",
    "import datetime\n",
    "from talib.abstract import *\n",
    "\n",
    "import pinkfish as pf\n",
    "import strategy\n",
    "\n",
    "# format price data\n",
    "pd.options.display.float_format = '{:0.2f}'.format\n",
    "\n",
    "%matplotlib inline"
   ]
  },
  {
   "cell_type": "code",
   "execution_count": 2,
   "metadata": {
    "ExecuteTime": {
     "end_time": "2020-02-17T03:37:10.613866Z",
     "start_time": "2020-02-17T03:37:10.606623Z"
    }
   },
   "outputs": [],
   "source": [
    "# set size of inline plots\n",
    "'''note: rcParams can't be in same cell as import matplotlib\n",
    "   or %matplotlib inline\n",
    "   \n",
    "   %matplotlib notebook: will lead to interactive plots embedded within\n",
    "   the notebook, you can zoom and resize the figure\n",
    "   \n",
    "   %matplotlib inline: only draw static images in the notebook\n",
    "'''\n",
    "plt.rcParams[\"figure.figsize\"] = (10, 7)"
   ]
  },
  {
   "cell_type": "markdown",
   "metadata": {},
   "source": [
    "Some global data"
   ]
  },
  {
   "cell_type": "code",
   "execution_count": 3,
   "metadata": {
    "ExecuteTime": {
     "end_time": "2020-02-17T03:37:10.626332Z",
     "start_time": "2020-02-17T03:37:10.618683Z"
    }
   },
   "outputs": [],
   "source": [
    "#symbol = '^GSPC'\n",
    "#symbol = 'SPY'\n",
    "#symbol = 'DIA'\n",
    "#symbol = 'QQQ'\n",
    "#symbol = 'IWM'\n",
    "#symbol = 'TLT'\n",
    "#symbol = 'GLD'\n",
    "#symbol = 'AAPL'\n",
    "#symbol = 'BBRY'\n",
    "symbol = 'GDX'\n",
    "capital = 10000\n",
    "start = datetime.datetime(2000, 1, 1)\n",
    "#end = datetime.datetime(2010, 12, 1)\n",
    "end = datetime.datetime.now()"
   ]
  },
  {
   "cell_type": "markdown",
   "metadata": {},
   "source": [
    "Define high low trade periods"
   ]
  },
  {
   "cell_type": "code",
   "execution_count": 4,
   "metadata": {
    "ExecuteTime": {
     "end_time": "2020-02-17T03:37:10.637828Z",
     "start_time": "2020-02-17T03:37:10.633435Z"
    }
   },
   "outputs": [],
   "source": [
    "period = 7"
   ]
  },
  {
   "cell_type": "markdown",
   "metadata": {},
   "source": [
    "Define max number of positions to scale into"
   ]
  },
  {
   "cell_type": "code",
   "execution_count": 5,
   "metadata": {
    "ExecuteTime": {
     "end_time": "2020-02-17T03:37:10.655625Z",
     "start_time": "2020-02-17T03:37:10.647619Z"
    }
   },
   "outputs": [],
   "source": [
    "pos = range(1, 10)\n",
    "pos = [str(p) for p in pos]"
   ]
  },
  {
   "cell_type": "markdown",
   "metadata": {},
   "source": [
    "Run Strategy"
   ]
  },
  {
   "cell_type": "code",
   "execution_count": 6,
   "metadata": {
    "ExecuteTime": {
     "end_time": "2020-02-17T03:37:16.010934Z",
     "start_time": "2020-02-17T03:37:10.660456Z"
    }
   },
   "outputs": [
    {
     "name": "stdout",
     "output_type": "stream",
     "text": [
      "1 2 3 4 5 6 7 8 9 "
     ]
    }
   ],
   "source": [
    "strategies = pd.Series(dtype=object)\n",
    "for p in pos:\n",
    "    print(\"{0}\".format(p), end=\" \")\n",
    "    strategies[p] = strategy.Strategy(symbol, capital, start, end, period=period, max_positions=int(p))\n",
    "    strategies[p].run()\n",
    "    strategies[p].tlog, strategies[p].dbal = strategies[p].get_logs()\n",
    "    strategies[p].stats = strategies[p].get_stats()"
   ]
  },
  {
   "cell_type": "markdown",
   "metadata": {},
   "source": [
    "Summarize results"
   ]
  },
  {
   "cell_type": "code",
   "execution_count": 7,
   "metadata": {
    "ExecuteTime": {
     "end_time": "2020-02-17T03:37:16.156482Z",
     "start_time": "2020-02-17T03:37:16.068798Z"
    },
    "scrolled": false
   },
   "outputs": [
    {
     "data": {
      "text/html": [
       "<div>\n",
       "<style scoped>\n",
       "    .dataframe tbody tr th:only-of-type {\n",
       "        vertical-align: middle;\n",
       "    }\n",
       "\n",
       "    .dataframe tbody tr th {\n",
       "        vertical-align: top;\n",
       "    }\n",
       "\n",
       "    .dataframe thead th {\n",
       "        text-align: right;\n",
       "    }\n",
       "</style>\n",
       "<table border=\"1\" class=\"dataframe\">\n",
       "  <thead>\n",
       "    <tr style=\"text-align: right;\">\n",
       "      <th></th>\n",
       "      <th>1</th>\n",
       "      <th>2</th>\n",
       "      <th>3</th>\n",
       "      <th>4</th>\n",
       "      <th>5</th>\n",
       "      <th>6</th>\n",
       "      <th>7</th>\n",
       "      <th>8</th>\n",
       "      <th>9</th>\n",
       "    </tr>\n",
       "  </thead>\n",
       "  <tbody>\n",
       "    <tr>\n",
       "      <th>annual_return_rate</th>\n",
       "      <td>8.89</td>\n",
       "      <td>6.99</td>\n",
       "      <td>6.68</td>\n",
       "      <td>7.19</td>\n",
       "      <td>7.41</td>\n",
       "      <td>7.57</td>\n",
       "      <td>7.59</td>\n",
       "      <td>7.42</td>\n",
       "      <td>7.15</td>\n",
       "    </tr>\n",
       "    <tr>\n",
       "      <th>max_closed_out_drawdown</th>\n",
       "      <td>-24.83</td>\n",
       "      <td>-31.25</td>\n",
       "      <td>-37.25</td>\n",
       "      <td>-40.61</td>\n",
       "      <td>-41.91</td>\n",
       "      <td>-43.92</td>\n",
       "      <td>-45.34</td>\n",
       "      <td>-46.71</td>\n",
       "      <td>-47.62</td>\n",
       "    </tr>\n",
       "    <tr>\n",
       "      <th>drawdown_annualized_return</th>\n",
       "      <td>-2.79</td>\n",
       "      <td>-4.47</td>\n",
       "      <td>-5.57</td>\n",
       "      <td>-5.65</td>\n",
       "      <td>-5.66</td>\n",
       "      <td>-5.80</td>\n",
       "      <td>-5.97</td>\n",
       "      <td>-6.29</td>\n",
       "      <td>-6.66</td>\n",
       "    </tr>\n",
       "    <tr>\n",
       "      <th>drawdown_recovery</th>\n",
       "      <td>-0.06</td>\n",
       "      <td>-3.52</td>\n",
       "      <td>-3.52</td>\n",
       "      <td>-3.52</td>\n",
       "      <td>-3.52</td>\n",
       "      <td>-3.12</td>\n",
       "      <td>-3.12</td>\n",
       "      <td>-3.12</td>\n",
       "      <td>-3.12</td>\n",
       "    </tr>\n",
       "    <tr>\n",
       "      <th>best_month</th>\n",
       "      <td>19.12</td>\n",
       "      <td>19.33</td>\n",
       "      <td>20.93</td>\n",
       "      <td>22.96</td>\n",
       "      <td>26.07</td>\n",
       "      <td>28.49</td>\n",
       "      <td>30.24</td>\n",
       "      <td>31.49</td>\n",
       "      <td>32.51</td>\n",
       "    </tr>\n",
       "    <tr>\n",
       "      <th>worst_month</th>\n",
       "      <td>-18.83</td>\n",
       "      <td>-18.81</td>\n",
       "      <td>-18.83</td>\n",
       "      <td>-18.82</td>\n",
       "      <td>-18.64</td>\n",
       "      <td>-19.81</td>\n",
       "      <td>-20.66</td>\n",
       "      <td>-21.27</td>\n",
       "      <td>-21.76</td>\n",
       "    </tr>\n",
       "    <tr>\n",
       "      <th>sharpe_ratio</th>\n",
       "      <td>0.57</td>\n",
       "      <td>0.46</td>\n",
       "      <td>0.44</td>\n",
       "      <td>0.46</td>\n",
       "      <td>0.46</td>\n",
       "      <td>0.47</td>\n",
       "      <td>0.46</td>\n",
       "      <td>0.45</td>\n",
       "      <td>0.44</td>\n",
       "    </tr>\n",
       "    <tr>\n",
       "      <th>sortino_ratio</th>\n",
       "      <td>0.42</td>\n",
       "      <td>0.37</td>\n",
       "      <td>0.37</td>\n",
       "      <td>0.41</td>\n",
       "      <td>0.43</td>\n",
       "      <td>0.44</td>\n",
       "      <td>0.45</td>\n",
       "      <td>0.45</td>\n",
       "      <td>0.45</td>\n",
       "    </tr>\n",
       "    <tr>\n",
       "      <th>monthly_std</th>\n",
       "      <td>3.81</td>\n",
       "      <td>3.99</td>\n",
       "      <td>4.26</td>\n",
       "      <td>4.55</td>\n",
       "      <td>4.77</td>\n",
       "      <td>4.99</td>\n",
       "      <td>5.19</td>\n",
       "      <td>5.37</td>\n",
       "      <td>5.49</td>\n",
       "    </tr>\n",
       "    <tr>\n",
       "      <th>pct_time_in_market</th>\n",
       "      <td>22.24</td>\n",
       "      <td>29.81</td>\n",
       "      <td>35.68</td>\n",
       "      <td>40.71</td>\n",
       "      <td>45.47</td>\n",
       "      <td>48.70</td>\n",
       "      <td>51.51</td>\n",
       "      <td>54.56</td>\n",
       "      <td>55.91</td>\n",
       "    </tr>\n",
       "    <tr>\n",
       "      <th>total_num_trades</th>\n",
       "      <td>91.00</td>\n",
       "      <td>182.00</td>\n",
       "      <td>256.00</td>\n",
       "      <td>310.00</td>\n",
       "      <td>354.00</td>\n",
       "      <td>394.00</td>\n",
       "      <td>427.00</td>\n",
       "      <td>453.00</td>\n",
       "      <td>469.00</td>\n",
       "    </tr>\n",
       "    <tr>\n",
       "      <th>pct_profitable_trades</th>\n",
       "      <td>70.33</td>\n",
       "      <td>66.48</td>\n",
       "      <td>64.45</td>\n",
       "      <td>63.55</td>\n",
       "      <td>64.41</td>\n",
       "      <td>63.45</td>\n",
       "      <td>63.47</td>\n",
       "      <td>63.36</td>\n",
       "      <td>62.26</td>\n",
       "    </tr>\n",
       "    <tr>\n",
       "      <th>avg_points</th>\n",
       "      <td>0.53</td>\n",
       "      <td>0.41</td>\n",
       "      <td>0.39</td>\n",
       "      <td>0.43</td>\n",
       "      <td>0.58</td>\n",
       "      <td>0.62</td>\n",
       "      <td>0.70</td>\n",
       "      <td>0.74</td>\n",
       "      <td>0.77</td>\n",
       "    </tr>\n",
       "    <tr>\n",
       "      <th>pct_profitable_trades</th>\n",
       "      <td>70.33</td>\n",
       "      <td>66.48</td>\n",
       "      <td>64.45</td>\n",
       "      <td>63.55</td>\n",
       "      <td>64.41</td>\n",
       "      <td>63.45</td>\n",
       "      <td>63.47</td>\n",
       "      <td>63.36</td>\n",
       "      <td>62.26</td>\n",
       "    </tr>\n",
       "  </tbody>\n",
       "</table>\n",
       "</div>"
      ],
      "text/plain": [
       "                                1      2      3      4      5      6      7  \\\n",
       "annual_return_rate           8.89   6.99   6.68   7.19   7.41   7.57   7.59   \n",
       "max_closed_out_drawdown    -24.83 -31.25 -37.25 -40.61 -41.91 -43.92 -45.34   \n",
       "drawdown_annualized_return  -2.79  -4.47  -5.57  -5.65  -5.66  -5.80  -5.97   \n",
       "drawdown_recovery           -0.06  -3.52  -3.52  -3.52  -3.52  -3.12  -3.12   \n",
       "best_month                  19.12  19.33  20.93  22.96  26.07  28.49  30.24   \n",
       "worst_month                -18.83 -18.81 -18.83 -18.82 -18.64 -19.81 -20.66   \n",
       "sharpe_ratio                 0.57   0.46   0.44   0.46   0.46   0.47   0.46   \n",
       "sortino_ratio                0.42   0.37   0.37   0.41   0.43   0.44   0.45   \n",
       "monthly_std                  3.81   3.99   4.26   4.55   4.77   4.99   5.19   \n",
       "pct_time_in_market          22.24  29.81  35.68  40.71  45.47  48.70  51.51   \n",
       "total_num_trades            91.00 182.00 256.00 310.00 354.00 394.00 427.00   \n",
       "pct_profitable_trades       70.33  66.48  64.45  63.55  64.41  63.45  63.47   \n",
       "avg_points                   0.53   0.41   0.39   0.43   0.58   0.62   0.70   \n",
       "pct_profitable_trades       70.33  66.48  64.45  63.55  64.41  63.45  63.47   \n",
       "\n",
       "                                8      9  \n",
       "annual_return_rate           7.42   7.15  \n",
       "max_closed_out_drawdown    -46.71 -47.62  \n",
       "drawdown_annualized_return  -6.29  -6.66  \n",
       "drawdown_recovery           -3.12  -3.12  \n",
       "best_month                  31.49  32.51  \n",
       "worst_month                -21.27 -21.76  \n",
       "sharpe_ratio                 0.45   0.44  \n",
       "sortino_ratio                0.45   0.45  \n",
       "monthly_std                  5.37   5.49  \n",
       "pct_time_in_market          54.56  55.91  \n",
       "total_num_trades           453.00 469.00  \n",
       "pct_profitable_trades       63.36  62.26  \n",
       "avg_points                   0.74   0.77  \n",
       "pct_profitable_trades       63.36  62.26  "
      ]
     },
     "execution_count": 7,
     "metadata": {},
     "output_type": "execute_result"
    }
   ],
   "source": [
    "metrics = ('annual_return_rate',\n",
    "           'max_closed_out_drawdown',\n",
    "           'drawdown_annualized_return',\n",
    "           'drawdown_recovery',\n",
    "           'best_month',\n",
    "           'worst_month',\n",
    "           'sharpe_ratio',\n",
    "           'sortino_ratio',\n",
    "           'monthly_std',\n",
    "           'pct_time_in_market',\n",
    "           'total_num_trades',\n",
    "           'pct_profitable_trades',\n",
    "           'avg_points',\n",
    "           'pct_profitable_trades')\n",
    "\n",
    "df = strategy.summary(strategies, metrics)\n",
    "df"
   ]
  },
  {
   "cell_type": "markdown",
   "metadata": {},
   "source": [
    "Bar graphs"
   ]
  },
  {
   "cell_type": "code",
   "execution_count": 8,
   "metadata": {
    "ExecuteTime": {
     "end_time": "2020-02-17T03:37:17.057759Z",
     "start_time": "2020-02-17T03:37:16.160852Z"
    }
   },
   "outputs": [
    {
     "data": {
      "image/png": "[encoded data removed]",
      "text/plain": [
       "<Figure size 720x504 with 1 Axes>"
      ]
     },
     "metadata": {
      "needs_background": "light"
     },
     "output_type": "display_data"
    },
    {
     "data": {
      "image/png": "[encoded data removed]",
      "text/plain": [
       "<Figure size 720x504 with 1 Axes>"
      ]
     },
     "metadata": {
      "needs_background": "light"
     },
     "output_type": "display_data"
    },
    {
     "data": {
      "image/png": "[encoded data removed]",
      "text/plain": [
       "<Figure size 720x504 with 1 Axes>"
      ]
     },
     "metadata": {
      "needs_background": "light"
     },
     "output_type": "display_data"
    }
   ],
   "source": [
    "strategy.plot_bar_graph(df, 'annual_return_rate')\n",
    "strategy.plot_bar_graph(df, 'sharpe_ratio')\n",
    "strategy.plot_bar_graph(df, 'max_closed_out_drawdown')"
   ]
  },
  {
   "cell_type": "markdown",
   "metadata": {},
   "source": [
    "Run Benchmark"
   ]
  },
  {
   "cell_type": "code",
   "execution_count": 9,
   "metadata": {
    "ExecuteTime": {
     "end_time": "2020-02-17T03:37:17.708295Z",
     "start_time": "2020-02-17T03:37:17.063464Z"
    }
   },
   "outputs": [
    {
     "name": "stdout",
     "output_type": "stream",
     "text": [
      "2007-03-08 00:00:00 BUY  260 GDX @ 38.35\n",
      "2020-06-12 00:00:00 SELL 260 GDX @ 32.64\n"
     ]
    }
   ],
   "source": [
    "s = strategies[pos[0]]\n",
    "benchmark = pf.Benchmark(symbol, capital, s._start, s._end)\n",
    "benchmark.run()\n",
    "benchmark.tlog, benchmark.dbal = benchmark.get_logs()\n",
    "benchmark.stats = benchmark.get_stats()"
   ]
  },
  {
   "cell_type": "markdown",
   "metadata": {},
   "source": [
    "Equity curve"
   ]
  },
  {
   "cell_type": "code",
   "execution_count": 10,
   "metadata": {
    "ExecuteTime": {
     "end_time": "2020-02-17T03:37:17.980435Z",
     "start_time": "2020-02-17T03:37:17.718709Z"
    }
   },
   "outputs": [
    {
     "data": {
      "image/png": "[encoded data removed]",
      "text/plain": [
       "<Figure size 720x504 with 1 Axes>"
      ]
     },
     "metadata": {
      "needs_background": "light"
     },
     "output_type": "display_data"
    }
   ],
   "source": [
    "pf.plot_equity_curve(strategies['1'].dbal, benchmark=benchmark.dbal)"
   ]
  }
 ],
 "metadata": {
  "kernelspec": {
   "display_name": "Python 3",
   "language": "python",
   "name": "python3"
  },
  "language_info": {
   "codemirror_mode": {
    "name": "ipython",
    "version": 3
   },
   "file_extension": ".py",
   "mimetype": "text/x-python",
   "name": "python",
   "nbconvert_exporter": "python",
   "pygments_lexer": "ipython3",
   "version": "3.8.2"
  },
  "latex_envs": {
   "LaTeX_envs_menu_present": true,
   "autoclose": false,
   "autocomplete": true,
   "bibliofile": "biblio.bib",
   "cite_by": "apalike",
   "current_citInitial": 1,
   "eqLabelWithNumbers": true,
   "eqNumInitial": 1,
   "hotkeys": {
    "equation": "Ctrl-E",
    "itemize": "Ctrl-I"
   },
   "labels_anchors": false,
   "latex_user_defs": false,
   "report_style_numbering": false,
   "user_envs_cfg": false
  }
 },
 "nbformat": 4,
 "nbformat_minor": 1
}
