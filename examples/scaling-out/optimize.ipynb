{
 "cells": [
  {
   "cell_type": "markdown",
   "metadata": {},
   "source": [
    "# Double 7's (Short Term Trading Strategies that Work)\n",
    "\n",
    "    1. The SPY is above its 200-day moving average\n",
    "    2. The SPY closes at a X-day low, buy with full capital.\n",
    "    3. If the SPY closes at a X-day high, sell some.\n",
    "       If it sets further highs, sell some more, etc...\n",
    "    4. If you have free cash, use it all when fresh lows are set.\n",
    "    \n",
    "    (optimize for number of positions)"
   ]
  },
  {
   "cell_type": "code",
   "execution_count": 1,
   "metadata": {
    "ExecuteTime": {
     "end_time": "2020-02-17T03:37:10.595997Z",
     "start_time": "2020-02-17T03:37:09.364998Z"
    }
   },
   "outputs": [],
   "source": [
    "# other imports\n",
    "import pandas as pd\n",
    "import matplotlib.pyplot as plt\n",
    "import datetime\n",
    "from talib.abstract import *\n",
    "\n",
    "# project imports\n",
    "import pinkfish as pf\n",
    "import strategy\n",
    "\n",
    "# format price data\n",
    "pd.options.display.float_format = '{:0.2f}'.format\n",
    "\n",
    "%matplotlib inline"
   ]
  },
  {
   "cell_type": "code",
   "execution_count": 2,
   "metadata": {
    "ExecuteTime": {
     "end_time": "2020-02-17T03:37:10.613866Z",
     "start_time": "2020-02-17T03:37:10.606623Z"
    }
   },
   "outputs": [],
   "source": [
    "# set size of inline plots\n",
    "'''note: rcParams can't be in same cell as import matplotlib\n",
    "   or %matplotlib inline\n",
    "   \n",
    "   %matplotlib notebook: will lead to interactive plots embedded within\n",
    "   the notebook, you can zoom and resize the figure\n",
    "   \n",
    "   %matplotlib inline: only draw static images in the notebook\n",
    "'''\n",
    "plt.rcParams[\"figure.figsize\"] = (10, 7)"
   ]
  },
  {
   "cell_type": "markdown",
   "metadata": {},
   "source": [
    "Some global data"
   ]
  },
  {
   "cell_type": "code",
   "execution_count": 3,
   "metadata": {
    "ExecuteTime": {
     "end_time": "2020-02-17T03:37:10.626332Z",
     "start_time": "2020-02-17T03:37:10.618683Z"
    }
   },
   "outputs": [],
   "source": [
    "#symbol = '^GSPC'\n",
    "#symbol = 'SPY'\n",
    "#symbol = 'DIA'\n",
    "#symbol = 'QQQ'\n",
    "#symbol = 'IWM'\n",
    "#symbol = 'TLT'\n",
    "#symbol = 'GLD'\n",
    "#symbol = 'AAPL'\n",
    "#symbol = 'BBRY'\n",
    "symbol = 'GDX'\n",
    "capital = 10000\n",
    "start = datetime.datetime(2000, 1, 1)\n",
    "#end = datetime.datetime(2010, 12, 1)\n",
    "end = datetime.datetime.now()"
   ]
  },
  {
   "cell_type": "markdown",
   "metadata": {},
   "source": [
    "Define high low trade periods"
   ]
  },
  {
   "cell_type": "code",
   "execution_count": 4,
   "metadata": {
    "ExecuteTime": {
     "end_time": "2020-02-17T03:37:10.637828Z",
     "start_time": "2020-02-17T03:37:10.633435Z"
    }
   },
   "outputs": [],
   "source": [
    "period = 7"
   ]
  },
  {
   "cell_type": "markdown",
   "metadata": {},
   "source": [
    "Define max number of positions to scale into"
   ]
  },
  {
   "cell_type": "code",
   "execution_count": 5,
   "metadata": {
    "ExecuteTime": {
     "end_time": "2020-02-17T03:37:10.655625Z",
     "start_time": "2020-02-17T03:37:10.647619Z"
    }
   },
   "outputs": [],
   "source": [
    "pos = range(1, 10)\n",
    "pos = [str(p) for p in pos]"
   ]
  },
  {
   "cell_type": "markdown",
   "metadata": {},
   "source": [
    "Run Strategy"
   ]
  },
  {
   "cell_type": "code",
   "execution_count": 6,
   "metadata": {
    "ExecuteTime": {
     "end_time": "2020-02-17T03:37:16.010934Z",
     "start_time": "2020-02-17T03:37:10.660456Z"
    }
   },
   "outputs": [
    {
     "name": "stdout",
     "output_type": "stream",
     "text": [
      "1 2 3 4 5 6 7 8 9 "
     ]
    }
   ],
   "source": [
    "strategies = pd.Series(dtype=object)\n",
    "for p in pos:\n",
    "    print(\"{0}\".format(p), end=\" \")\n",
    "    strategies[p] = strategy.Strategy(symbol, capital, start, end, period=period, max_positions=int(p))\n",
    "    strategies[p].run()\n",
    "    strategies[p].tlog, strategies[p].dbal = strategies[p].get_logs()\n",
    "    strategies[p].stats = strategies[p].get_stats()"
   ]
  },
  {
   "cell_type": "markdown",
   "metadata": {},
   "source": [
    "Summarize results"
   ]
  },
  {
   "cell_type": "code",
   "execution_count": 7,
   "metadata": {
    "ExecuteTime": {
     "end_time": "2020-02-17T03:37:16.156482Z",
     "start_time": "2020-02-17T03:37:16.068798Z"
    },
    "scrolled": false
   },
   "outputs": [
    {
     "data": {
      "text/html": [
       "<div>\n",
       "<style scoped>\n",
       "    .dataframe tbody tr th:only-of-type {\n",
       "        vertical-align: middle;\n",
       "    }\n",
       "\n",
       "    .dataframe tbody tr th {\n",
       "        vertical-align: top;\n",
       "    }\n",
       "\n",
       "    .dataframe thead th {\n",
       "        text-align: right;\n",
       "    }\n",
       "</style>\n",
       "<table border=\"1\" class=\"dataframe\">\n",
       "  <thead>\n",
       "    <tr style=\"text-align: right;\">\n",
       "      <th></th>\n",
       "      <th>1</th>\n",
       "      <th>2</th>\n",
       "      <th>3</th>\n",
       "      <th>4</th>\n",
       "      <th>5</th>\n",
       "      <th>6</th>\n",
       "      <th>7</th>\n",
       "      <th>8</th>\n",
       "      <th>9</th>\n",
       "    </tr>\n",
       "  </thead>\n",
       "  <tbody>\n",
       "    <tr>\n",
       "      <th>annual_return_rate</th>\n",
       "      <td>8.47</td>\n",
       "      <td>6.80</td>\n",
       "      <td>6.57</td>\n",
       "      <td>7.11</td>\n",
       "      <td>7.35</td>\n",
       "      <td>7.53</td>\n",
       "      <td>7.57</td>\n",
       "      <td>7.40</td>\n",
       "      <td>7.13</td>\n",
       "    </tr>\n",
       "    <tr>\n",
       "      <th>max_closed_out_drawdown</th>\n",
       "      <td>-36.28</td>\n",
       "      <td>-36.26</td>\n",
       "      <td>-38.53</td>\n",
       "      <td>-42.06</td>\n",
       "      <td>-43.47</td>\n",
       "      <td>-45.30</td>\n",
       "      <td>-46.42</td>\n",
       "      <td>-47.79</td>\n",
       "      <td>-48.71</td>\n",
       "    </tr>\n",
       "    <tr>\n",
       "      <th>drawdown_annualized_return</th>\n",
       "      <td>-4.29</td>\n",
       "      <td>-5.33</td>\n",
       "      <td>-5.86</td>\n",
       "      <td>-5.91</td>\n",
       "      <td>-5.91</td>\n",
       "      <td>-6.02</td>\n",
       "      <td>-6.14</td>\n",
       "      <td>-6.46</td>\n",
       "      <td>-6.83</td>\n",
       "    </tr>\n",
       "    <tr>\n",
       "      <th>drawdown_recovery</th>\n",
       "      <td>-0.02</td>\n",
       "      <td>-0.02</td>\n",
       "      <td>-3.52</td>\n",
       "      <td>-3.52</td>\n",
       "      <td>-3.52</td>\n",
       "      <td>-3.52</td>\n",
       "      <td>-3.13</td>\n",
       "      <td>-3.13</td>\n",
       "      <td>-3.13</td>\n",
       "    </tr>\n",
       "    <tr>\n",
       "      <th>best_month</th>\n",
       "      <td>38.47</td>\n",
       "      <td>38.51</td>\n",
       "      <td>43.15</td>\n",
       "      <td>47.85</td>\n",
       "      <td>50.70</td>\n",
       "      <td>52.57</td>\n",
       "      <td>53.94</td>\n",
       "      <td>54.88</td>\n",
       "      <td>55.69</td>\n",
       "    </tr>\n",
       "    <tr>\n",
       "      <th>worst_month</th>\n",
       "      <td>-30.33</td>\n",
       "      <td>-30.07</td>\n",
       "      <td>-30.09</td>\n",
       "      <td>-29.54</td>\n",
       "      <td>-29.04</td>\n",
       "      <td>-29.84</td>\n",
       "      <td>-30.42</td>\n",
       "      <td>-30.83</td>\n",
       "      <td>-31.17</td>\n",
       "    </tr>\n",
       "    <tr>\n",
       "      <th>sharpe_ratio</th>\n",
       "      <td>0.49</td>\n",
       "      <td>0.41</td>\n",
       "      <td>0.40</td>\n",
       "      <td>0.42</td>\n",
       "      <td>0.42</td>\n",
       "      <td>0.43</td>\n",
       "      <td>0.42</td>\n",
       "      <td>0.41</td>\n",
       "      <td>0.40</td>\n",
       "    </tr>\n",
       "    <tr>\n",
       "      <th>sortino_ratio</th>\n",
       "      <td>0.31</td>\n",
       "      <td>0.29</td>\n",
       "      <td>0.31</td>\n",
       "      <td>0.34</td>\n",
       "      <td>0.37</td>\n",
       "      <td>0.39</td>\n",
       "      <td>0.40</td>\n",
       "      <td>0.40</td>\n",
       "      <td>0.40</td>\n",
       "    </tr>\n",
       "    <tr>\n",
       "      <th>monthly_std</th>\n",
       "      <td>4.19</td>\n",
       "      <td>4.39</td>\n",
       "      <td>4.70</td>\n",
       "      <td>5.03</td>\n",
       "      <td>5.25</td>\n",
       "      <td>5.48</td>\n",
       "      <td>5.68</td>\n",
       "      <td>5.85</td>\n",
       "      <td>5.97</td>\n",
       "    </tr>\n",
       "    <tr>\n",
       "      <th>pct_time_in_market</th>\n",
       "      <td>22.24</td>\n",
       "      <td>29.73</td>\n",
       "      <td>35.60</td>\n",
       "      <td>40.64</td>\n",
       "      <td>45.40</td>\n",
       "      <td>48.64</td>\n",
       "      <td>51.45</td>\n",
       "      <td>54.51</td>\n",
       "      <td>55.86</td>\n",
       "    </tr>\n",
       "    <tr>\n",
       "      <th>total_num_trades</th>\n",
       "      <td>91.00</td>\n",
       "      <td>181.00</td>\n",
       "      <td>255.00</td>\n",
       "      <td>309.00</td>\n",
       "      <td>353.00</td>\n",
       "      <td>393.00</td>\n",
       "      <td>426.00</td>\n",
       "      <td>452.00</td>\n",
       "      <td>468.00</td>\n",
       "    </tr>\n",
       "    <tr>\n",
       "      <th>pct_profitable_trades</th>\n",
       "      <td>69.23</td>\n",
       "      <td>66.30</td>\n",
       "      <td>64.31</td>\n",
       "      <td>63.43</td>\n",
       "      <td>64.31</td>\n",
       "      <td>63.36</td>\n",
       "      <td>63.38</td>\n",
       "      <td>63.27</td>\n",
       "      <td>62.18</td>\n",
       "    </tr>\n",
       "    <tr>\n",
       "      <th>avg_points</th>\n",
       "      <td>0.51</td>\n",
       "      <td>0.41</td>\n",
       "      <td>0.39</td>\n",
       "      <td>0.43</td>\n",
       "      <td>0.58</td>\n",
       "      <td>0.61</td>\n",
       "      <td>0.70</td>\n",
       "      <td>0.73</td>\n",
       "      <td>0.77</td>\n",
       "    </tr>\n",
       "    <tr>\n",
       "      <th>pct_profitable_trades</th>\n",
       "      <td>69.23</td>\n",
       "      <td>66.30</td>\n",
       "      <td>64.31</td>\n",
       "      <td>63.43</td>\n",
       "      <td>64.31</td>\n",
       "      <td>63.36</td>\n",
       "      <td>63.38</td>\n",
       "      <td>63.27</td>\n",
       "      <td>62.18</td>\n",
       "    </tr>\n",
       "  </tbody>\n",
       "</table>\n",
       "</div>"
      ],
      "text/plain": [
       "                                1      2      3      4      5      6      7  \\\n",
       "annual_return_rate           8.47   6.80   6.57   7.11   7.35   7.53   7.57   \n",
       "max_closed_out_drawdown    -36.28 -36.26 -38.53 -42.06 -43.47 -45.30 -46.42   \n",
       "drawdown_annualized_return  -4.29  -5.33  -5.86  -5.91  -5.91  -6.02  -6.14   \n",
       "drawdown_recovery           -0.02  -0.02  -3.52  -3.52  -3.52  -3.52  -3.13   \n",
       "best_month                  38.47  38.51  43.15  47.85  50.70  52.57  53.94   \n",
       "worst_month                -30.33 -30.07 -30.09 -29.54 -29.04 -29.84 -30.42   \n",
       "sharpe_ratio                 0.49   0.41   0.40   0.42   0.42   0.43   0.42   \n",
       "sortino_ratio                0.31   0.29   0.31   0.34   0.37   0.39   0.40   \n",
       "monthly_std                  4.19   4.39   4.70   5.03   5.25   5.48   5.68   \n",
       "pct_time_in_market          22.24  29.73  35.60  40.64  45.40  48.64  51.45   \n",
       "total_num_trades            91.00 181.00 255.00 309.00 353.00 393.00 426.00   \n",
       "pct_profitable_trades       69.23  66.30  64.31  63.43  64.31  63.36  63.38   \n",
       "avg_points                   0.51   0.41   0.39   0.43   0.58   0.61   0.70   \n",
       "pct_profitable_trades       69.23  66.30  64.31  63.43  64.31  63.36  63.38   \n",
       "\n",
       "                                8      9  \n",
       "annual_return_rate           7.40   7.13  \n",
       "max_closed_out_drawdown    -47.79 -48.71  \n",
       "drawdown_annualized_return  -6.46  -6.83  \n",
       "drawdown_recovery           -3.13  -3.13  \n",
       "best_month                  54.88  55.69  \n",
       "worst_month                -30.83 -31.17  \n",
       "sharpe_ratio                 0.41   0.40  \n",
       "sortino_ratio                0.40   0.40  \n",
       "monthly_std                  5.85   5.97  \n",
       "pct_time_in_market          54.51  55.86  \n",
       "total_num_trades           452.00 468.00  \n",
       "pct_profitable_trades       63.27  62.18  \n",
       "avg_points                   0.73   0.77  \n",
       "pct_profitable_trades       63.27  62.18  "
      ]
     },
     "execution_count": 7,
     "metadata": {},
     "output_type": "execute_result"
    }
   ],
   "source": [
    "metrics = ('annual_return_rate',\n",
    "           'max_closed_out_drawdown',\n",
    "           'drawdown_annualized_return',\n",
    "           'drawdown_recovery',\n",
    "           'best_month',\n",
    "           'worst_month',\n",
    "           'sharpe_ratio',\n",
    "           'sortino_ratio',\n",
    "           'monthly_std',\n",
    "           'pct_time_in_market',\n",
    "           'total_num_trades',\n",
    "           'pct_profitable_trades',\n",
    "           'avg_points',\n",
    "           'pct_profitable_trades')\n",
    "\n",
    "df = strategy.summary(strategies, *metrics)\n",
    "df"
   ]
  },
  {
   "cell_type": "markdown",
   "metadata": {},
   "source": [
    "Bar graphs"
   ]
  },
  {
   "cell_type": "code",
   "execution_count": 8,
   "metadata": {
    "ExecuteTime": {
     "end_time": "2020-02-17T03:37:17.057759Z",
     "start_time": "2020-02-17T03:37:16.160852Z"
    }
   },
   "outputs": [
    {
     "data": {
      "image/png": "[encoded data removed]",
      "text/plain": [
       "<Figure size 720x504 with 1 Axes>"
      ]
     },
     "metadata": {
      "needs_background": "light"
     },
     "output_type": "display_data"
    },
    {
     "data": {
      "image/png": "[encoded data removed]",
      "text/plain": [
       "<Figure size 720x504 with 1 Axes>"
      ]
     },
     "metadata": {
      "needs_background": "light"
     },
     "output_type": "display_data"
    },
    {
     "data": {
      "image/png": "[encoded data removed]",
      "text/plain": [
       "<Figure size 720x504 with 1 Axes>"
      ]
     },
     "metadata": {
      "needs_background": "light"
     },
     "output_type": "display_data"
    }
   ],
   "source": [
    "strategy.plot_bar_graph(df, 'annual_return_rate')\n",
    "strategy.plot_bar_graph(df, 'sharpe_ratio')\n",
    "strategy.plot_bar_graph(df, 'max_closed_out_drawdown')"
   ]
  },
  {
   "cell_type": "markdown",
   "metadata": {},
   "source": [
    "Run Benchmark"
   ]
  },
  {
   "cell_type": "code",
   "execution_count": 9,
   "metadata": {
    "ExecuteTime": {
     "end_time": "2020-02-17T03:37:17.708295Z",
     "start_time": "2020-02-17T03:37:17.063464Z"
    }
   },
   "outputs": [
    {
     "name": "stdout",
     "output_type": "stream",
     "text": [
      "2007-03-08 00:00:00 BUY  260 GDX @ 38.35\n",
      "2020-06-08 00:00:00 SELL 260 GDX @ 32.78\n"
     ]
    }
   ],
   "source": [
    "s = strategies[pos[0]]\n",
    "benchmark = pf.Benchmark(symbol, capital, s._start, s._end)\n",
    "benchmark.run()\n",
    "benchmark.tlog, benchmark.dbal = benchmark.get_logs()\n",
    "benchmark.stats = benchmark.get_stats()"
   ]
  },
  {
   "cell_type": "markdown",
   "metadata": {},
   "source": [
    "Equity curve"
   ]
  },
  {
   "cell_type": "code",
   "execution_count": 10,
   "metadata": {
    "ExecuteTime": {
     "end_time": "2020-02-17T03:37:17.980435Z",
     "start_time": "2020-02-17T03:37:17.718709Z"
    }
   },
   "outputs": [
    {
     "data": {
      "image/png": "[encoded data removed]",
      "text/plain": [
       "<Figure size 720x504 with 1 Axes>"
      ]
     },
     "metadata": {
      "needs_background": "light"
     },
     "output_type": "display_data"
    }
   ],
   "source": [
    "pf.plot_equity_curve(strategies['1'].dbal, benchmark=benchmark.dbal)"
   ]
  }
 ],
 "metadata": {
  "kernelspec": {
   "display_name": "Python 3",
   "language": "python",
   "name": "python3"
  },
  "language_info": {
   "codemirror_mode": {
    "name": "ipython",
    "version": 3
   },
   "file_extension": ".py",
   "mimetype": "text/x-python",
   "name": "python",
   "nbconvert_exporter": "python",
   "pygments_lexer": "ipython3",
   "version": "3.8.2"
  },
  "latex_envs": {
   "LaTeX_envs_menu_present": true,
   "autoclose": false,
   "autocomplete": true,
   "bibliofile": "biblio.bib",
   "cite_by": "apalike",
   "current_citInitial": 1,
   "eqLabelWithNumbers": true,
   "eqNumInitial": 1,
   "hotkeys": {
    "equation": "Ctrl-E",
    "itemize": "Ctrl-I"
   },
   "labels_anchors": false,
   "latex_user_defs": false,
   "report_style_numbering": false,
   "user_envs_cfg": false
  }
 },
 "nbformat": 4,
 "nbformat_minor": 1
}
