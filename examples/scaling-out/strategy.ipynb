{
 "cells": [
  {
   "cell_type": "markdown",
   "metadata": {},
   "source": [
    "# Double 7's (Short Term Trading Strategies that Work)\n",
    "\n",
    "    1. The SPY is above its 200-day moving average\n",
    "    2. The SPY closes at a X-day low, buy with full capital.\n",
    "    3. If the SPY closes at a X-day high, sell some.\n",
    "       If it sets further highs, sell some more, etc...\n",
    "    4. If you have free cash, use it all when fresh lows are set.\n",
    "    \n",
    "    (Scaling out)"
   ]
  },
  {
   "cell_type": "code",
   "execution_count": 1,
   "metadata": {
    "ExecuteTime": {
     "end_time": "2020-02-17T03:34:19.691223Z",
     "start_time": "2020-02-17T03:34:18.377601Z"
    }
   },
   "outputs": [],
   "source": [
    "import pandas as pd\n",
    "import matplotlib.pyplot as plt\n",
    "import datetime\n",
    "from talib.abstract import *\n",
    "\n",
    "import pinkfish as pf\n",
    "import strategy\n",
    "\n",
    "# format price data\n",
    "pd.options.display.float_format = '{:0.2f}'.format\n",
    "\n",
    "%matplotlib inline"
   ]
  },
  {
   "cell_type": "code",
   "execution_count": 2,
   "metadata": {
    "ExecuteTime": {
     "end_time": "2020-02-17T03:34:19.708716Z",
     "start_time": "2020-02-17T03:34:19.701218Z"
    }
   },
   "outputs": [],
   "source": [
    "# set size of inline plots\n",
    "'''note: rcParams can't be in same cell as import matplotlib\n",
    "   or %matplotlib inline\n",
    "   \n",
    "   %matplotlib notebook: will lead to interactive plots embedded within\n",
    "   the notebook, you can zoom and resize the figure\n",
    "   \n",
    "   %matplotlib inline: only draw static images in the notebook\n",
    "'''\n",
    "plt.rcParams[\"figure.figsize\"] = (10, 7)"
   ]
  },
  {
   "cell_type": "markdown",
   "metadata": {},
   "source": [
    "Some global data"
   ]
  },
  {
   "cell_type": "code",
   "execution_count": 3,
   "metadata": {
    "ExecuteTime": {
     "end_time": "2020-02-17T03:34:19.721829Z",
     "start_time": "2020-02-17T03:34:19.712902Z"
    }
   },
   "outputs": [],
   "source": [
    "#symbol = '^GSPC'\n",
    "symbol = 'SPY'\n",
    "#symbol = 'DIA'\n",
    "#symbol = 'QQQ'\n",
    "#symbol = 'IWM'\n",
    "#symbol = 'TLT'\n",
    "#symbol = 'GLD'\n",
    "#symbol = 'AAPL'\n",
    "#symbol = 'BBRY'\n",
    "#symbol = 'GDX'\n",
    "capital = 10000\n",
    "start = datetime.datetime(1900, 1, 1)\n",
    "end = datetime.datetime.now()"
   ]
  },
  {
   "cell_type": "markdown",
   "metadata": {},
   "source": [
    "Define high low trade periods"
   ]
  },
  {
   "cell_type": "code",
   "execution_count": 4,
   "metadata": {
    "ExecuteTime": {
     "end_time": "2020-02-17T03:34:19.733196Z",
     "start_time": "2020-02-17T03:34:19.726497Z"
    }
   },
   "outputs": [],
   "source": [
    "period = 7"
   ]
  },
  {
   "cell_type": "markdown",
   "metadata": {},
   "source": [
    "Define max number of positions to scale into"
   ]
  },
  {
   "cell_type": "code",
   "execution_count": 5,
   "metadata": {
    "ExecuteTime": {
     "end_time": "2020-02-17T03:34:19.751131Z",
     "start_time": "2020-02-17T03:34:19.742394Z"
    }
   },
   "outputs": [],
   "source": [
    "max_positions = 2"
   ]
  },
  {
   "cell_type": "markdown",
   "metadata": {},
   "source": [
    "Define the margin multiple"
   ]
  },
  {
   "cell_type": "code",
   "execution_count": 6,
   "metadata": {},
   "outputs": [],
   "source": [
    "margin = 2"
   ]
  },
  {
   "cell_type": "markdown",
   "metadata": {},
   "source": [
    "Run Strategy"
   ]
  },
  {
   "cell_type": "code",
   "execution_count": 7,
   "metadata": {
    "ExecuteTime": {
     "end_time": "2020-02-17T03:34:19.941261Z",
     "start_time": "2020-02-17T03:34:19.752834Z"
    },
    "scrolled": false
   },
   "outputs": [],
   "source": [
    "s = strategy.Strategy(symbol, capital, start, end, period=period, max_positions=max_positions, stop_loss_pct=85, margin=margin)\n",
    "s.run()"
   ]
  },
  {
   "cell_type": "markdown",
   "metadata": {},
   "source": [
    "Retrieve log DataFrames"
   ]
  },
  {
   "cell_type": "code",
   "execution_count": 8,
   "metadata": {
    "ExecuteTime": {
     "end_time": "2020-02-17T03:34:20.504120Z",
     "start_time": "2020-02-17T03:34:19.953379Z"
    }
   },
   "outputs": [],
   "source": [
    "tlog, dbal = s.get_logs()\n",
    "stats = s.get_stats()"
   ]
  },
  {
   "cell_type": "code",
   "execution_count": 9,
   "metadata": {
    "ExecuteTime": {
     "end_time": "2020-02-17T03:34:20.555125Z",
     "start_time": "2020-02-17T03:34:20.513983Z"
    }
   },
   "outputs": [
    {
     "data": {
      "text/html": [
       "<div>\n",
       "<style scoped>\n",
       "    .dataframe tbody tr th:only-of-type {\n",
       "        vertical-align: middle;\n",
       "    }\n",
       "\n",
       "    .dataframe tbody tr th {\n",
       "        vertical-align: top;\n",
       "    }\n",
       "\n",
       "    .dataframe thead th {\n",
       "        text-align: right;\n",
       "    }\n",
       "</style>\n",
       "<table border=\"1\" class=\"dataframe\">\n",
       "  <thead>\n",
       "    <tr style=\"text-align: right;\">\n",
       "      <th></th>\n",
       "      <th>entry_date</th>\n",
       "      <th>entry_price</th>\n",
       "      <th>exit_date</th>\n",
       "      <th>exit_price</th>\n",
       "      <th>pl_points</th>\n",
       "      <th>pl_cash</th>\n",
       "      <th>qty</th>\n",
       "      <th>cumul_total</th>\n",
       "      <th>direction</th>\n",
       "      <th>symbol</th>\n",
       "    </tr>\n",
       "  </thead>\n",
       "  <tbody>\n",
       "    <tr>\n",
       "      <th>520</th>\n",
       "      <td>2019-09-20</td>\n",
       "      <td>298.28</td>\n",
       "      <td>2019-10-11</td>\n",
       "      <td>296.28</td>\n",
       "      <td>-2.00</td>\n",
       "      <td>-2398.00</td>\n",
       "      <td>1199</td>\n",
       "      <td>345325.21</td>\n",
       "      <td>LONG</td>\n",
       "      <td>SPY</td>\n",
       "    </tr>\n",
       "    <tr>\n",
       "      <th>521</th>\n",
       "      <td>2019-09-20</td>\n",
       "      <td>298.28</td>\n",
       "      <td>2019-10-15</td>\n",
       "      <td>298.88</td>\n",
       "      <td>0.60</td>\n",
       "      <td>719.41</td>\n",
       "      <td>1199</td>\n",
       "      <td>346044.62</td>\n",
       "      <td>LONG</td>\n",
       "      <td>SPY</td>\n",
       "    </tr>\n",
       "    <tr>\n",
       "      <th>522</th>\n",
       "      <td>2019-12-03</td>\n",
       "      <td>309.55</td>\n",
       "      <td>2019-12-12</td>\n",
       "      <td>317.13</td>\n",
       "      <td>7.58</td>\n",
       "      <td>8717.02</td>\n",
       "      <td>1150</td>\n",
       "      <td>354761.64</td>\n",
       "      <td>LONG</td>\n",
       "      <td>SPY</td>\n",
       "    </tr>\n",
       "    <tr>\n",
       "      <th>523</th>\n",
       "      <td>2019-12-03</td>\n",
       "      <td>309.55</td>\n",
       "      <td>2019-12-13</td>\n",
       "      <td>317.32</td>\n",
       "      <td>7.77</td>\n",
       "      <td>8935.52</td>\n",
       "      <td>1150</td>\n",
       "      <td>363697.16</td>\n",
       "      <td>LONG</td>\n",
       "      <td>SPY</td>\n",
       "    </tr>\n",
       "    <tr>\n",
       "      <th>524</th>\n",
       "      <td>2020-01-27</td>\n",
       "      <td>323.50</td>\n",
       "      <td>2020-02-04</td>\n",
       "      <td>329.06</td>\n",
       "      <td>5.56</td>\n",
       "      <td>6421.80</td>\n",
       "      <td>1155</td>\n",
       "      <td>370118.96</td>\n",
       "      <td>LONG</td>\n",
       "      <td>SPY</td>\n",
       "    </tr>\n",
       "    <tr>\n",
       "      <th>525</th>\n",
       "      <td>2020-01-27</td>\n",
       "      <td>323.50</td>\n",
       "      <td>2020-02-05</td>\n",
       "      <td>332.86</td>\n",
       "      <td>9.36</td>\n",
       "      <td>10810.78</td>\n",
       "      <td>1155</td>\n",
       "      <td>380929.74</td>\n",
       "      <td>LONG</td>\n",
       "      <td>SPY</td>\n",
       "    </tr>\n",
       "    <tr>\n",
       "      <th>526</th>\n",
       "      <td>2020-02-21</td>\n",
       "      <td>333.48</td>\n",
       "      <td>2020-03-04</td>\n",
       "      <td>312.86</td>\n",
       "      <td>-20.62</td>\n",
       "      <td>-24166.67</td>\n",
       "      <td>1172</td>\n",
       "      <td>356763.07</td>\n",
       "      <td>LONG</td>\n",
       "      <td>SPY</td>\n",
       "    </tr>\n",
       "    <tr>\n",
       "      <th>527</th>\n",
       "      <td>2020-02-21</td>\n",
       "      <td>333.48</td>\n",
       "      <td>2020-03-26</td>\n",
       "      <td>261.20</td>\n",
       "      <td>-72.28</td>\n",
       "      <td>-84712.16</td>\n",
       "      <td>1172</td>\n",
       "      <td>272050.91</td>\n",
       "      <td>LONG</td>\n",
       "      <td>SPY</td>\n",
       "    </tr>\n",
       "    <tr>\n",
       "      <th>528</th>\n",
       "      <td>2020-06-24</td>\n",
       "      <td>304.09</td>\n",
       "      <td>2020-07-02</td>\n",
       "      <td>312.23</td>\n",
       "      <td>8.14</td>\n",
       "      <td>7545.79</td>\n",
       "      <td>927</td>\n",
       "      <td>279596.71</td>\n",
       "      <td>LONG</td>\n",
       "      <td>SPY</td>\n",
       "    </tr>\n",
       "    <tr>\n",
       "      <th>529</th>\n",
       "      <td>2020-06-24</td>\n",
       "      <td>304.09</td>\n",
       "      <td>2020-07-06</td>\n",
       "      <td>317.05</td>\n",
       "      <td>12.96</td>\n",
       "      <td>12026.87</td>\n",
       "      <td>928</td>\n",
       "      <td>291623.58</td>\n",
       "      <td>LONG</td>\n",
       "      <td>SPY</td>\n",
       "    </tr>\n",
       "  </tbody>\n",
       "</table>\n",
       "</div>"
      ],
      "text/plain": [
       "    entry_date  entry_price  exit_date  exit_price  pl_points   pl_cash   qty  \\\n",
       "520 2019-09-20       298.28 2019-10-11      296.28      -2.00  -2398.00  1199   \n",
       "521 2019-09-20       298.28 2019-10-15      298.88       0.60    719.41  1199   \n",
       "522 2019-12-03       309.55 2019-12-12      317.13       7.58   8717.02  1150   \n",
       "523 2019-12-03       309.55 2019-12-13      317.32       7.77   8935.52  1150   \n",
       "524 2020-01-27       323.50 2020-02-04      329.06       5.56   6421.80  1155   \n",
       "525 2020-01-27       323.50 2020-02-05      332.86       9.36  10810.78  1155   \n",
       "526 2020-02-21       333.48 2020-03-04      312.86     -20.62 -24166.67  1172   \n",
       "527 2020-02-21       333.48 2020-03-26      261.20     -72.28 -84712.16  1172   \n",
       "528 2020-06-24       304.09 2020-07-02      312.23       8.14   7545.79   927   \n",
       "529 2020-06-24       304.09 2020-07-06      317.05      12.96  12026.87   928   \n",
       "\n",
       "     cumul_total direction symbol  \n",
       "520    345325.21      LONG    SPY  \n",
       "521    346044.62      LONG    SPY  \n",
       "522    354761.64      LONG    SPY  \n",
       "523    363697.16      LONG    SPY  \n",
       "524    370118.96      LONG    SPY  \n",
       "525    380929.74      LONG    SPY  \n",
       "526    356763.07      LONG    SPY  \n",
       "527    272050.91      LONG    SPY  \n",
       "528    279596.71      LONG    SPY  \n",
       "529    291623.58      LONG    SPY  "
      ]
     },
     "execution_count": 9,
     "metadata": {},
     "output_type": "execute_result"
    }
   ],
   "source": [
    "tlog.tail(10)"
   ]
  },
  {
   "cell_type": "code",
   "execution_count": 10,
   "metadata": {
    "ExecuteTime": {
     "end_time": "2020-02-17T03:34:20.591121Z",
     "start_time": "2020-02-17T03:34:20.561781Z"
    }
   },
   "outputs": [
    {
     "data": {
      "text/html": [
       "<div>\n",
       "<style scoped>\n",
       "    .dataframe tbody tr th:only-of-type {\n",
       "        vertical-align: middle;\n",
       "    }\n",
       "\n",
       "    .dataframe tbody tr th {\n",
       "        vertical-align: top;\n",
       "    }\n",
       "\n",
       "    .dataframe thead th {\n",
       "        text-align: right;\n",
       "    }\n",
       "</style>\n",
       "<table border=\"1\" class=\"dataframe\">\n",
       "  <thead>\n",
       "    <tr style=\"text-align: right;\">\n",
       "      <th></th>\n",
       "      <th>high</th>\n",
       "      <th>low</th>\n",
       "      <th>close</th>\n",
       "      <th>shares</th>\n",
       "      <th>cash</th>\n",
       "      <th>leverage</th>\n",
       "      <th>state</th>\n",
       "    </tr>\n",
       "    <tr>\n",
       "      <th>date</th>\n",
       "      <th></th>\n",
       "      <th></th>\n",
       "      <th></th>\n",
       "      <th></th>\n",
       "      <th></th>\n",
       "      <th></th>\n",
       "      <th></th>\n",
       "    </tr>\n",
       "  </thead>\n",
       "  <tbody>\n",
       "    <tr>\n",
       "      <th>2020-07-08</th>\n",
       "      <td>301623.58</td>\n",
       "      <td>301623.58</td>\n",
       "      <td>301623.58</td>\n",
       "      <td>0</td>\n",
       "      <td>301623.58</td>\n",
       "      <td>0.00</td>\n",
       "      <td>-</td>\n",
       "    </tr>\n",
       "    <tr>\n",
       "      <th>2020-07-09</th>\n",
       "      <td>301623.58</td>\n",
       "      <td>301623.58</td>\n",
       "      <td>301623.58</td>\n",
       "      <td>0</td>\n",
       "      <td>301623.58</td>\n",
       "      <td>0.00</td>\n",
       "      <td>-</td>\n",
       "    </tr>\n",
       "    <tr>\n",
       "      <th>2020-07-10</th>\n",
       "      <td>301623.58</td>\n",
       "      <td>301623.58</td>\n",
       "      <td>301623.58</td>\n",
       "      <td>0</td>\n",
       "      <td>301623.58</td>\n",
       "      <td>0.00</td>\n",
       "      <td>-</td>\n",
       "    </tr>\n",
       "    <tr>\n",
       "      <th>2020-07-13</th>\n",
       "      <td>301623.58</td>\n",
       "      <td>301623.58</td>\n",
       "      <td>301623.58</td>\n",
       "      <td>0</td>\n",
       "      <td>301623.58</td>\n",
       "      <td>0.00</td>\n",
       "      <td>-</td>\n",
       "    </tr>\n",
       "    <tr>\n",
       "      <th>2020-07-14</th>\n",
       "      <td>301623.58</td>\n",
       "      <td>301623.58</td>\n",
       "      <td>301623.58</td>\n",
       "      <td>0</td>\n",
       "      <td>301623.58</td>\n",
       "      <td>0.00</td>\n",
       "      <td>-</td>\n",
       "    </tr>\n",
       "  </tbody>\n",
       "</table>\n",
       "</div>"
      ],
      "text/plain": [
       "                high       low     close  shares      cash  leverage state\n",
       "date                                                                      \n",
       "2020-07-08 301623.58 301623.58 301623.58       0 301623.58      0.00     -\n",
       "2020-07-09 301623.58 301623.58 301623.58       0 301623.58      0.00     -\n",
       "2020-07-10 301623.58 301623.58 301623.58       0 301623.58      0.00     -\n",
       "2020-07-13 301623.58 301623.58 301623.58       0 301623.58      0.00     -\n",
       "2020-07-14 301623.58 301623.58 301623.58       0 301623.58      0.00     -"
      ]
     },
     "execution_count": 10,
     "metadata": {},
     "output_type": "execute_result"
    }
   ],
   "source": [
    "dbal.tail()"
   ]
  },
  {
   "cell_type": "markdown",
   "metadata": {},
   "source": [
    "Generate strategy stats - display all available stats"
   ]
  },
  {
   "cell_type": "code",
   "execution_count": 11,
   "metadata": {
    "ExecuteTime": {
     "end_time": "2020-02-17T03:34:20.640169Z",
     "start_time": "2020-02-17T03:34:20.595069Z"
    }
   },
   "outputs": [
    {
     "name": "stdout",
     "output_type": "stream",
     "text": [
      "start                                                  1993-11-11\n",
      "end                                                    2020-07-14\n",
      "beginning_balance                                           10000\n",
      "ending_balance                                          301623.58\n",
      "total_net_profit                                        291623.58\n",
      "gross_profit                                            692396.40\n",
      "gross_loss                                             -400772.82\n",
      "profit_factor                                                1.73\n",
      "return_on_initial_capital                                 2916.24\n",
      "annual_return_rate                                          13.62\n",
      "trading_period                           26 years 8 months 3 days\n",
      "pct_time_in_market                                          38.03\n",
      "margin                                                          2\n",
      "avg_leverage                                                 1.80\n",
      "max_leverage                                                 2.39\n",
      "min_leverage                                                 0.94\n",
      "total_num_trades                                              530\n",
      "trades_per_year                                             19.87\n",
      "num_winning_trades                                            396\n",
      "num_losing_trades                                             132\n",
      "num_even_trades                                                 2\n",
      "pct_profitable_trades                                       74.72\n",
      "avg_profit_per_trade                                       550.23\n",
      "avg_profit_per_winning_trade                              1748.48\n",
      "avg_loss_per_losing_trade                                -3036.16\n",
      "ratio_avg_profit_win_loss                                    0.58\n",
      "largest_profit_winning_trade                             13839.61\n",
      "largest_loss_losing_trade                               -84712.16\n",
      "num_winning_points                                         933.06\n",
      "num_losing_points                                         -472.59\n",
      "total_net_points                                           460.47\n",
      "avg_points                                                   0.87\n",
      "largest_points_winning_trade                                12.96\n",
      "largest_points_losing_trade                                -72.28\n",
      "avg_pct_gain_per_trade                                       0.71\n",
      "largest_pct_winning_trade                                    7.35\n",
      "largest_pct_losing_trade                                   -21.67\n",
      "max_consecutive_winning_trades                                 35\n",
      "max_consecutive_losing_trades                                   9\n",
      "avg_bars_winning_trades                                      7.93\n",
      "avg_bars_losing_trades                                      18.37\n",
      "max_closed_out_drawdown                                    -39.32\n",
      "max_closed_out_drawdown_start_date                     2020-02-05\n",
      "max_closed_out_drawdown_end_date                       2020-03-23\n",
      "max_closed_out_drawdown_recovery_date           Not Recovered Yet\n",
      "drawdown_recovery                                           -0.13\n",
      "drawdown_annualized_return                                  -2.89\n",
      "max_intra_day_drawdown                                     -41.54\n",
      "avg_yearly_closed_out_drawdown                             -13.79\n",
      "max_yearly_closed_out_drawdown                             -39.32\n",
      "avg_monthly_closed_out_drawdown                             -3.24\n",
      "max_monthly_closed_out_drawdown                            -37.56\n",
      "avg_weekly_closed_out_drawdown                              -1.12\n",
      "max_weekly_closed_out_drawdown                             -26.02\n",
      "avg_yearly_closed_out_runup                                 28.06\n",
      "max_yearly_closed_out_runup                                 91.04\n",
      "avg_monthly_closed_out_runup                                 4.25\n",
      "max_monthly_closed_out_runup                                29.69\n",
      "avg_weekly_closed_out_runup                                  1.45\n",
      "max_weekly_closed_out_runup                                 18.90\n",
      "pct_profitable_years                                        74.38\n",
      "best_year                                                   89.08\n",
      "worst_year                                                 -30.14\n",
      "avg_year                                                    16.00\n",
      "annual_std                                                  19.42\n",
      "pct_profitable_months                                       52.01\n",
      "best_month                                                  29.69\n",
      "worst_month                                                -37.56\n",
      "avg_month                                                    1.12\n",
      "monthly_std                                                  4.57\n",
      "pct_profitable_weeks                                        33.06\n",
      "best_week                                                   18.90\n",
      "worst_week                                                 -26.02\n",
      "avg_week                                                     0.29\n",
      "weekly_std                                                   2.63\n",
      "sharpe_ratio                                                 0.70\n",
      "sortino_ratio                                                0.55\n",
      "dtype: object\n"
     ]
    }
   ],
   "source": [
    "pf.print_full(stats)"
   ]
  },
  {
   "cell_type": "markdown",
   "metadata": {},
   "source": [
    "Equity curve"
   ]
  },
  {
   "cell_type": "markdown",
   "metadata": {},
   "source": [
    "Run Benchmark, Retrieve benchmark logs, and Generate benchmark stats"
   ]
  },
  {
   "cell_type": "code",
   "execution_count": 12,
   "metadata": {
    "ExecuteTime": {
     "end_time": "2020-02-17T03:34:21.152126Z",
     "start_time": "2020-02-17T03:34:20.648640Z"
    }
   },
   "outputs": [
    {
     "name": "stdout",
     "output_type": "stream",
     "text": [
      "1993-11-11 00:00:00 BUY  215 SPY @ 46.38\n",
      "2020-07-14 00:00:00 SELL 215 SPY @ 316.03\n"
     ]
    }
   ],
   "source": [
    "benchmark = pf.Benchmark(symbol, capital, s._start, s._end)\n",
    "benchmark.run()\n",
    "benchmark.tlog, benchmark.dbal = benchmark.get_logs()\n",
    "benchmark.stats = benchmark.get_stats()"
   ]
  },
  {
   "cell_type": "markdown",
   "metadata": {},
   "source": [
    "Plot Equity Curves: Strategy vs Benchmark"
   ]
  },
  {
   "cell_type": "code",
   "execution_count": 13,
   "metadata": {
    "ExecuteTime": {
     "end_time": "2020-02-17T03:34:21.451911Z",
     "start_time": "2020-02-17T03:34:21.161066Z"
    }
   },
   "outputs": [
    {
     "data": {
      "image/png": "[encoded data removed]",
      "text/plain": [
       "<Figure size 720x504 with 1 Axes>"
      ]
     },
     "metadata": {
      "needs_background": "light"
     },
     "output_type": "display_data"
    }
   ],
   "source": [
    "pf.plot_equity_curve(dbal, benchmark=benchmark.dbal)"
   ]
  },
  {
   "cell_type": "markdown",
   "metadata": {},
   "source": [
    "Plot Trades"
   ]
  },
  {
   "cell_type": "code",
   "execution_count": 14,
   "metadata": {
    "ExecuteTime": {
     "end_time": "2020-02-17T03:34:21.769134Z",
     "start_time": "2020-02-17T03:34:21.459267Z"
    }
   },
   "outputs": [
    {
     "data": {
      "image/png": "[encoded data removed]",
      "text/plain": [
       "<Figure size 720x504 with 1 Axes>"
      ]
     },
     "metadata": {
      "needs_background": "light"
     },
     "output_type": "display_data"
    }
   ],
   "source": [
    "pf.plot_trades(dbal, benchmark=benchmark.dbal)"
   ]
  },
  {
   "cell_type": "markdown",
   "metadata": {},
   "source": [
    "Bar Graph: Strategy vs Benchmark"
   ]
  },
  {
   "cell_type": "code",
   "execution_count": 15,
   "metadata": {
    "ExecuteTime": {
     "end_time": "2020-02-17T03:34:22.133953Z",
     "start_time": "2020-02-17T03:34:21.774480Z"
    }
   },
   "outputs": [
    {
     "data": {
      "text/html": [
       "<div>\n",
       "<style scoped>\n",
       "    .dataframe tbody tr th:only-of-type {\n",
       "        vertical-align: middle;\n",
       "    }\n",
       "\n",
       "    .dataframe tbody tr th {\n",
       "        vertical-align: top;\n",
       "    }\n",
       "\n",
       "    .dataframe thead th {\n",
       "        text-align: right;\n",
       "    }\n",
       "</style>\n",
       "<table border=\"1\" class=\"dataframe\">\n",
       "  <thead>\n",
       "    <tr style=\"text-align: right;\">\n",
       "      <th></th>\n",
       "      <th>strategy</th>\n",
       "      <th>benchmark</th>\n",
       "    </tr>\n",
       "  </thead>\n",
       "  <tbody>\n",
       "    <tr>\n",
       "      <th>annual_return_rate</th>\n",
       "      <td>13.62</td>\n",
       "      <td>7.45</td>\n",
       "    </tr>\n",
       "    <tr>\n",
       "      <th>max_closed_out_drawdown</th>\n",
       "      <td>-39.32</td>\n",
       "      <td>-56.42</td>\n",
       "    </tr>\n",
       "    <tr>\n",
       "      <th>drawdown_annualized_return</th>\n",
       "      <td>-2.89</td>\n",
       "      <td>-7.57</td>\n",
       "    </tr>\n",
       "    <tr>\n",
       "      <th>drawdown_recovery</th>\n",
       "      <td>-0.13</td>\n",
       "      <td>-1.42</td>\n",
       "    </tr>\n",
       "    <tr>\n",
       "      <th>best_month</th>\n",
       "      <td>29.69</td>\n",
       "      <td>23.06</td>\n",
       "    </tr>\n",
       "    <tr>\n",
       "      <th>worst_month</th>\n",
       "      <td>-37.56</td>\n",
       "      <td>-31.38</td>\n",
       "    </tr>\n",
       "    <tr>\n",
       "      <th>sharpe_ratio</th>\n",
       "      <td>0.70</td>\n",
       "      <td>0.47</td>\n",
       "    </tr>\n",
       "    <tr>\n",
       "      <th>sortino_ratio</th>\n",
       "      <td>0.55</td>\n",
       "      <td>0.60</td>\n",
       "    </tr>\n",
       "    <tr>\n",
       "      <th>monthly_std</th>\n",
       "      <td>4.57</td>\n",
       "      <td>4.54</td>\n",
       "    </tr>\n",
       "  </tbody>\n",
       "</table>\n",
       "</div>"
      ],
      "text/plain": [
       "                            strategy  benchmark\n",
       "annual_return_rate             13.62       7.45\n",
       "max_closed_out_drawdown       -39.32     -56.42\n",
       "drawdown_annualized_return     -2.89      -7.57\n",
       "drawdown_recovery              -0.13      -1.42\n",
       "best_month                     29.69      23.06\n",
       "worst_month                   -37.56     -31.38\n",
       "sharpe_ratio                    0.70       0.47\n",
       "sortino_ratio                   0.55       0.60\n",
       "monthly_std                     4.57       4.54"
      ]
     },
     "execution_count": 15,
     "metadata": {},
     "output_type": "execute_result"
    },
    {
     "data": {
      "image/png": "[encoded data removed]",
      "text/plain": [
       "<Figure size 720x504 with 1 Axes>"
      ]
     },
     "metadata": {
      "needs_background": "light"
     },
     "output_type": "display_data"
    }
   ],
   "source": [
    "df = pf.plot_bar_graph(stats, benchmark.stats)\n",
    "df"
   ]
  },
  {
   "cell_type": "code",
   "execution_count": null,
   "metadata": {},
   "outputs": [],
   "source": []
  }
 ],
 "metadata": {
  "kernelspec": {
   "display_name": "Python 3",
   "language": "python",
   "name": "python3"
  },
  "language_info": {
   "codemirror_mode": {
    "name": "ipython",
    "version": 3
   },
   "file_extension": ".py",
   "mimetype": "text/x-python",
   "name": "python",
   "nbconvert_exporter": "python",
   "pygments_lexer": "ipython3",
   "version": "3.8.2"
  },
  "latex_envs": {
   "LaTeX_envs_menu_present": true,
   "autoclose": false,
   "autocomplete": true,
   "bibliofile": "biblio.bib",
   "cite_by": "apalike",
   "current_citInitial": 1,
   "eqLabelWithNumbers": true,
   "eqNumInitial": 1,
   "hotkeys": {
    "equation": "Ctrl-E",
    "itemize": "Ctrl-I"
   },
   "labels_anchors": false,
   "latex_user_defs": false,
   "report_style_numbering": false,
   "user_envs_cfg": false
  }
 },
 "nbformat": 4,
 "nbformat_minor": 1
}
