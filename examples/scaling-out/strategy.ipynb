{
 "cells": [
  {
   "cell_type": "markdown",
   "metadata": {},
   "source": [
    "# Double 7's (Short Term Trading Strategies that Work)\n",
    "\n",
    "    1. The SPY is above its 200-day moving average\n",
    "    2. The SPY closes at a X-day low, buy with full capital.\n",
    "    3. If the SPY closes at a X-day high, sell some.\n",
    "       If it sets further highs, sell some more, etc...\n",
    "    4. If you have free cash, use it all when fresh lows are set.\n",
    "    \n",
    "    (Scaling out)"
   ]
  },
  {
   "cell_type": "code",
   "execution_count": 1,
   "metadata": {
    "ExecuteTime": {
     "end_time": "2020-02-17T03:34:19.691223Z",
     "start_time": "2020-02-17T03:34:18.377601Z"
    }
   },
   "outputs": [],
   "source": [
    "# other imports\n",
    "import pandas as pd\n",
    "import matplotlib.pyplot as plt\n",
    "import datetime\n",
    "from talib.abstract import *\n",
    "\n",
    "# project imports\n",
    "import pinkfish as pf\n",
    "import strategy\n",
    "\n",
    "# format price data\n",
    "pd.options.display.float_format = '{:0.2f}'.format\n",
    "\n",
    "%matplotlib inline"
   ]
  },
  {
   "cell_type": "code",
   "execution_count": 2,
   "metadata": {
    "ExecuteTime": {
     "end_time": "2020-02-17T03:34:19.708716Z",
     "start_time": "2020-02-17T03:34:19.701218Z"
    }
   },
   "outputs": [],
   "source": [
    "# set size of inline plots\n",
    "'''note: rcParams can't be in same cell as import matplotlib\n",
    "   or %matplotlib inline\n",
    "   \n",
    "   %matplotlib notebook: will lead to interactive plots embedded within\n",
    "   the notebook, you can zoom and resize the figure\n",
    "   \n",
    "   %matplotlib inline: only draw static images in the notebook\n",
    "'''\n",
    "plt.rcParams[\"figure.figsize\"] = (10, 7)"
   ]
  },
  {
   "cell_type": "markdown",
   "metadata": {},
   "source": [
    "Some global data"
   ]
  },
  {
   "cell_type": "code",
   "execution_count": 3,
   "metadata": {
    "ExecuteTime": {
     "end_time": "2020-02-17T03:34:19.721829Z",
     "start_time": "2020-02-17T03:34:19.712902Z"
    }
   },
   "outputs": [],
   "source": [
    "#symbol = '^GSPC'\n",
    "#symbol = 'SPY'\n",
    "#symbol = 'DIA'\n",
    "#symbol = 'QQQ'\n",
    "#symbol = 'IWM'\n",
    "#symbol = 'TLT'\n",
    "#symbol = 'GLD'\n",
    "#symbol = 'AAPL'\n",
    "#symbol = 'BBRY'\n",
    "symbol = 'GDX'\n",
    "capital = 10000\n",
    "start = datetime.datetime(1900, 1, 1)\n",
    "end = datetime.datetime.now()"
   ]
  },
  {
   "cell_type": "markdown",
   "metadata": {},
   "source": [
    "Define high low trade periods"
   ]
  },
  {
   "cell_type": "code",
   "execution_count": 4,
   "metadata": {
    "ExecuteTime": {
     "end_time": "2020-02-17T03:34:19.733196Z",
     "start_time": "2020-02-17T03:34:19.726497Z"
    }
   },
   "outputs": [],
   "source": [
    "period = 7"
   ]
  },
  {
   "cell_type": "markdown",
   "metadata": {},
   "source": [
    "Define max number of positions to scale into"
   ]
  },
  {
   "cell_type": "code",
   "execution_count": 5,
   "metadata": {
    "ExecuteTime": {
     "end_time": "2020-02-17T03:34:19.751131Z",
     "start_time": "2020-02-17T03:34:19.742394Z"
    }
   },
   "outputs": [],
   "source": [
    "max_positions = 2"
   ]
  },
  {
   "cell_type": "markdown",
   "metadata": {},
   "source": [
    "Run Strategy"
   ]
  },
  {
   "cell_type": "code",
   "execution_count": 6,
   "metadata": {
    "ExecuteTime": {
     "end_time": "2020-02-17T03:34:19.941261Z",
     "start_time": "2020-02-17T03:34:19.752834Z"
    },
    "scrolled": false
   },
   "outputs": [],
   "source": [
    "s = strategy.Strategy(symbol, capital, start, end, period=period, max_positions=max_positions)\n",
    "s.run()"
   ]
  },
  {
   "cell_type": "markdown",
   "metadata": {},
   "source": [
    "Retrieve log DataFrames"
   ]
  },
  {
   "cell_type": "code",
   "execution_count": 7,
   "metadata": {
    "ExecuteTime": {
     "end_time": "2020-02-17T03:34:20.504120Z",
     "start_time": "2020-02-17T03:34:19.953379Z"
    }
   },
   "outputs": [],
   "source": [
    "tlog, dbal = s.get_logs()\n",
    "stats = s.get_stats()"
   ]
  },
  {
   "cell_type": "code",
   "execution_count": 8,
   "metadata": {
    "ExecuteTime": {
     "end_time": "2020-02-17T03:34:20.555125Z",
     "start_time": "2020-02-17T03:34:20.513983Z"
    }
   },
   "outputs": [
    {
     "data": {
      "text/html": [
       "<div>\n",
       "<style scoped>\n",
       "    .dataframe tbody tr th:only-of-type {\n",
       "        vertical-align: middle;\n",
       "    }\n",
       "\n",
       "    .dataframe tbody tr th {\n",
       "        vertical-align: top;\n",
       "    }\n",
       "\n",
       "    .dataframe thead th {\n",
       "        text-align: right;\n",
       "    }\n",
       "</style>\n",
       "<table border=\"1\" class=\"dataframe\">\n",
       "  <thead>\n",
       "    <tr style=\"text-align: right;\">\n",
       "      <th></th>\n",
       "      <th>entry_date</th>\n",
       "      <th>entry_price</th>\n",
       "      <th>exit_date</th>\n",
       "      <th>exit_price</th>\n",
       "      <th>pl_points</th>\n",
       "      <th>pl_cash</th>\n",
       "      <th>qty</th>\n",
       "      <th>cumul_total</th>\n",
       "      <th>symbol</th>\n",
       "    </tr>\n",
       "  </thead>\n",
       "  <tbody>\n",
       "    <tr>\n",
       "      <th>171</th>\n",
       "      <td>2020-01-08</td>\n",
       "      <td>28.35</td>\n",
       "      <td>2020-01-21</td>\n",
       "      <td>28.95</td>\n",
       "      <td>0.60</td>\n",
       "      <td>243.00</td>\n",
       "      <td>405</td>\n",
       "      <td>13229.73</td>\n",
       "      <td></td>\n",
       "    </tr>\n",
       "    <tr>\n",
       "      <th>172</th>\n",
       "      <td>2020-01-08</td>\n",
       "      <td>28.35</td>\n",
       "      <td>2020-01-24</td>\n",
       "      <td>29.22</td>\n",
       "      <td>0.87</td>\n",
       "      <td>352.35</td>\n",
       "      <td>405</td>\n",
       "      <td>13582.08</td>\n",
       "      <td></td>\n",
       "    </tr>\n",
       "    <tr>\n",
       "      <th>173</th>\n",
       "      <td>2020-01-28</td>\n",
       "      <td>28.31</td>\n",
       "      <td>2020-02-18</td>\n",
       "      <td>29.23</td>\n",
       "      <td>0.92</td>\n",
       "      <td>382.72</td>\n",
       "      <td>416</td>\n",
       "      <td>13964.80</td>\n",
       "      <td></td>\n",
       "    </tr>\n",
       "    <tr>\n",
       "      <th>174</th>\n",
       "      <td>2020-01-28</td>\n",
       "      <td>28.31</td>\n",
       "      <td>2020-02-19</td>\n",
       "      <td>29.75</td>\n",
       "      <td>1.44</td>\n",
       "      <td>599.04</td>\n",
       "      <td>416</td>\n",
       "      <td>14563.84</td>\n",
       "      <td></td>\n",
       "    </tr>\n",
       "    <tr>\n",
       "      <th>175</th>\n",
       "      <td>2020-02-04</td>\n",
       "      <td>28.05</td>\n",
       "      <td>2020-02-19</td>\n",
       "      <td>29.75</td>\n",
       "      <td>1.70</td>\n",
       "      <td>1.70</td>\n",
       "      <td>1</td>\n",
       "      <td>14565.54</td>\n",
       "      <td></td>\n",
       "    </tr>\n",
       "    <tr>\n",
       "      <th>176</th>\n",
       "      <td>2020-02-27</td>\n",
       "      <td>28.15</td>\n",
       "      <td>2020-03-25</td>\n",
       "      <td>26.31</td>\n",
       "      <td>-1.84</td>\n",
       "      <td>-802.24</td>\n",
       "      <td>436</td>\n",
       "      <td>13763.30</td>\n",
       "      <td></td>\n",
       "    </tr>\n",
       "    <tr>\n",
       "      <th>177</th>\n",
       "      <td>2020-02-27</td>\n",
       "      <td>28.15</td>\n",
       "      <td>2020-04-06</td>\n",
       "      <td>26.34</td>\n",
       "      <td>-1.81</td>\n",
       "      <td>-789.16</td>\n",
       "      <td>436</td>\n",
       "      <td>12974.14</td>\n",
       "      <td></td>\n",
       "    </tr>\n",
       "    <tr>\n",
       "      <th>178</th>\n",
       "      <td>2020-04-30</td>\n",
       "      <td>32.26</td>\n",
       "      <td>2020-05-05</td>\n",
       "      <td>34.79</td>\n",
       "      <td>2.53</td>\n",
       "      <td>900.68</td>\n",
       "      <td>356</td>\n",
       "      <td>13874.82</td>\n",
       "      <td></td>\n",
       "    </tr>\n",
       "    <tr>\n",
       "      <th>179</th>\n",
       "      <td>2020-04-30</td>\n",
       "      <td>32.26</td>\n",
       "      <td>2020-05-07</td>\n",
       "      <td>35.03</td>\n",
       "      <td>2.77</td>\n",
       "      <td>986.12</td>\n",
       "      <td>356</td>\n",
       "      <td>14860.94</td>\n",
       "      <td></td>\n",
       "    </tr>\n",
       "    <tr>\n",
       "      <th>180</th>\n",
       "      <td>2020-05-26</td>\n",
       "      <td>34.08</td>\n",
       "      <td>2020-06-08</td>\n",
       "      <td>32.78</td>\n",
       "      <td>-1.30</td>\n",
       "      <td>-947.70</td>\n",
       "      <td>729</td>\n",
       "      <td>13913.24</td>\n",
       "      <td></td>\n",
       "    </tr>\n",
       "  </tbody>\n",
       "</table>\n",
       "</div>"
      ],
      "text/plain": [
       "    entry_date  entry_price  exit_date  exit_price  pl_points  pl_cash  qty  \\\n",
       "171 2020-01-08        28.35 2020-01-21       28.95       0.60   243.00  405   \n",
       "172 2020-01-08        28.35 2020-01-24       29.22       0.87   352.35  405   \n",
       "173 2020-01-28        28.31 2020-02-18       29.23       0.92   382.72  416   \n",
       "174 2020-01-28        28.31 2020-02-19       29.75       1.44   599.04  416   \n",
       "175 2020-02-04        28.05 2020-02-19       29.75       1.70     1.70    1   \n",
       "176 2020-02-27        28.15 2020-03-25       26.31      -1.84  -802.24  436   \n",
       "177 2020-02-27        28.15 2020-04-06       26.34      -1.81  -789.16  436   \n",
       "178 2020-04-30        32.26 2020-05-05       34.79       2.53   900.68  356   \n",
       "179 2020-04-30        32.26 2020-05-07       35.03       2.77   986.12  356   \n",
       "180 2020-05-26        34.08 2020-06-08       32.78      -1.30  -947.70  729   \n",
       "\n",
       "     cumul_total symbol  \n",
       "171     13229.73         \n",
       "172     13582.08         \n",
       "173     13964.80         \n",
       "174     14563.84         \n",
       "175     14565.54         \n",
       "176     13763.30         \n",
       "177     12974.14         \n",
       "178     13874.82         \n",
       "179     14860.94         \n",
       "180     13913.24         "
      ]
     },
     "execution_count": 8,
     "metadata": {},
     "output_type": "execute_result"
    }
   ],
   "source": [
    "tlog.tail(10)"
   ]
  },
  {
   "cell_type": "code",
   "execution_count": 9,
   "metadata": {
    "ExecuteTime": {
     "end_time": "2020-02-17T03:34:20.591121Z",
     "start_time": "2020-02-17T03:34:20.561781Z"
    }
   },
   "outputs": [
    {
     "data": {
      "text/html": [
       "<div>\n",
       "<style scoped>\n",
       "    .dataframe tbody tr th:only-of-type {\n",
       "        vertical-align: middle;\n",
       "    }\n",
       "\n",
       "    .dataframe tbody tr th {\n",
       "        vertical-align: top;\n",
       "    }\n",
       "\n",
       "    .dataframe thead th {\n",
       "        text-align: right;\n",
       "    }\n",
       "</style>\n",
       "<table border=\"1\" class=\"dataframe\">\n",
       "  <thead>\n",
       "    <tr style=\"text-align: right;\">\n",
       "      <th></th>\n",
       "      <th>high</th>\n",
       "      <th>low</th>\n",
       "      <th>close</th>\n",
       "      <th>shares</th>\n",
       "      <th>cash</th>\n",
       "      <th>state</th>\n",
       "    </tr>\n",
       "    <tr>\n",
       "      <th>date</th>\n",
       "      <th></th>\n",
       "      <th></th>\n",
       "      <th></th>\n",
       "      <th></th>\n",
       "      <th></th>\n",
       "      <th></th>\n",
       "    </tr>\n",
       "  </thead>\n",
       "  <tbody>\n",
       "    <tr>\n",
       "      <th>2020-06-02</th>\n",
       "      <td>25954.44</td>\n",
       "      <td>24758.88</td>\n",
       "      <td>24868.23</td>\n",
       "      <td>729</td>\n",
       "      <td>16.62</td>\n",
       "      <td>-</td>\n",
       "    </tr>\n",
       "    <tr>\n",
       "      <th>2020-06-03</th>\n",
       "      <td>24503.73</td>\n",
       "      <td>23658.09</td>\n",
       "      <td>23949.69</td>\n",
       "      <td>729</td>\n",
       "      <td>16.62</td>\n",
       "      <td>-</td>\n",
       "    </tr>\n",
       "    <tr>\n",
       "      <th>2020-06-04</th>\n",
       "      <td>24496.44</td>\n",
       "      <td>23956.98</td>\n",
       "      <td>24153.81</td>\n",
       "      <td>729</td>\n",
       "      <td>16.62</td>\n",
       "      <td>-</td>\n",
       "    </tr>\n",
       "    <tr>\n",
       "      <th>2020-06-05</th>\n",
       "      <td>23679.96</td>\n",
       "      <td>22776.00</td>\n",
       "      <td>23679.96</td>\n",
       "      <td>729</td>\n",
       "      <td>16.62</td>\n",
       "      <td>-</td>\n",
       "    </tr>\n",
       "    <tr>\n",
       "      <th>2020-06-08</th>\n",
       "      <td>23913.24</td>\n",
       "      <td>23913.24</td>\n",
       "      <td>23913.24</td>\n",
       "      <td>0</td>\n",
       "      <td>23913.24</td>\n",
       "      <td>X</td>\n",
       "    </tr>\n",
       "  </tbody>\n",
       "</table>\n",
       "</div>"
      ],
      "text/plain": [
       "               high      low    close  shares     cash state\n",
       "date                                                        \n",
       "2020-06-02 25954.44 24758.88 24868.23     729    16.62     -\n",
       "2020-06-03 24503.73 23658.09 23949.69     729    16.62     -\n",
       "2020-06-04 24496.44 23956.98 24153.81     729    16.62     -\n",
       "2020-06-05 23679.96 22776.00 23679.96     729    16.62     -\n",
       "2020-06-08 23913.24 23913.24 23913.24       0 23913.24     X"
      ]
     },
     "execution_count": 9,
     "metadata": {},
     "output_type": "execute_result"
    }
   ],
   "source": [
    "dbal.tail()"
   ]
  },
  {
   "cell_type": "markdown",
   "metadata": {},
   "source": [
    "Generate strategy stats - display all available stats"
   ]
  },
  {
   "cell_type": "code",
   "execution_count": 10,
   "metadata": {
    "ExecuteTime": {
     "end_time": "2020-02-17T03:34:20.640169Z",
     "start_time": "2020-02-17T03:34:20.595069Z"
    }
   },
   "outputs": [
    {
     "name": "stdout",
     "output_type": "stream",
     "text": [
      "start                                                  2007-03-08\n",
      "end                                                    2020-06-08\n",
      "beginning_balance                                           10000\n",
      "ending_balance                                           23913.24\n",
      "total_net_profit                                         13913.24\n",
      "gross_profit                                             37306.28\n",
      "gross_loss                                              -23393.04\n",
      "profit_factor                                                1.59\n",
      "return_on_initial_capital                                  139.13\n",
      "annual_return_rate                                           6.80\n",
      "trading_period                           13 years 3 months 0 days\n",
      "pct_time_in_market                                          29.73\n",
      "total_num_trades                                              181\n",
      "trades_per_year                                             13.66\n",
      "num_winning_trades                                            120\n",
      "num_losing_trades                                              60\n",
      "num_even_trades                                                 1\n",
      "pct_profitable_trades                                       66.30\n",
      "avg_profit_per_trade                                        76.87\n",
      "avg_profit_per_winning_trade                               310.89\n",
      "avg_loss_per_losing_trade                                 -389.88\n",
      "ratio_avg_profit_win_loss                                    0.80\n",
      "largest_profit_winning_trade                              1060.66\n",
      "largest_loss_losing_trade                                -2140.32\n",
      "num_winning_points                                         183.88\n",
      "num_losing_points                                         -110.39\n",
      "total_net_points                                            73.49\n",
      "avg_points                                                   0.41\n",
      "largest_points_winning_trade                                 5.86\n",
      "largest_points_losing_trade                                 -6.90\n",
      "avg_pct_gain_per_trade                                       1.22\n",
      "largest_pct_winning_trade                                   15.11\n",
      "largest_pct_losing_trade                                   -25.08\n",
      "max_consecutive_winning_trades                                 17\n",
      "max_consecutive_losing_trades                                   5\n",
      "avg_bars_winning_trades                                      8.22\n",
      "avg_bars_losing_trades                                      17.92\n",
      "max_closed_out_drawdown                                    -36.26\n",
      "max_closed_out_drawdown_start_date                     2020-03-05\n",
      "max_closed_out_drawdown_end_date                       2020-03-13\n",
      "max_closed_out_drawdown_recovery_date           Not Recovered Yet\n",
      "drawdown_recovery                                           -0.02\n",
      "drawdown_annualized_return                                  -5.33\n",
      "max_intra_day_drawdown                                     -46.74\n",
      "avg_yearly_closed_out_drawdown                             -12.96\n",
      "max_yearly_closed_out_drawdown                             -36.26\n",
      "avg_monthly_closed_out_drawdown                             -2.87\n",
      "max_monthly_closed_out_drawdown                            -36.26\n",
      "avg_weekly_closed_out_drawdown                              -0.98\n",
      "max_weekly_closed_out_drawdown                             -35.37\n",
      "avg_yearly_closed_out_runup                                 20.03\n",
      "max_yearly_closed_out_runup                                 57.35\n",
      "avg_monthly_closed_out_runup                                 3.46\n",
      "max_monthly_closed_out_runup                                38.51\n",
      "avg_weekly_closed_out_runup                                  1.19\n",
      "max_weekly_closed_out_runup                                 34.17\n",
      "pct_profitable_years                                        53.97\n",
      "best_year                                                   57.35\n",
      "worst_year                                                 -21.20\n",
      "avg_year                                                     7.07\n",
      "annual_std                                                  15.77\n",
      "pct_profitable_months                                       32.17\n",
      "best_month                                                  38.51\n",
      "worst_month                                                -30.07\n",
      "avg_month                                                    0.64\n",
      "monthly_std                                                  4.39\n",
      "pct_profitable_weeks                                        22.15\n",
      "best_week                                                   33.65\n",
      "worst_week                                                 -35.37\n",
      "avg_week                                                     0.17\n",
      "weekly_std                                                   2.70\n",
      "sharpe_ratio                                                 0.41\n",
      "sortino_ratio                                                0.29\n",
      "dtype: object\n"
     ]
    }
   ],
   "source": [
    "pf.print_full(stats)"
   ]
  },
  {
   "cell_type": "markdown",
   "metadata": {},
   "source": [
    "Equity curve"
   ]
  },
  {
   "cell_type": "markdown",
   "metadata": {},
   "source": [
    "Run Benchmark, Retrieve benchmark logs, and Generate benchmark stats"
   ]
  },
  {
   "cell_type": "code",
   "execution_count": 11,
   "metadata": {
    "ExecuteTime": {
     "end_time": "2020-02-17T03:34:21.152126Z",
     "start_time": "2020-02-17T03:34:20.648640Z"
    }
   },
   "outputs": [
    {
     "name": "stdout",
     "output_type": "stream",
     "text": [
      "2007-03-08 00:00:00 BUY  260 GDX @ 38.35\n",
      "2020-06-08 00:00:00 SELL 260 GDX @ 32.78\n"
     ]
    }
   ],
   "source": [
    "benchmark = pf.Benchmark(symbol, capital, s._start, s._end)\n",
    "benchmark.run()\n",
    "benchmark.tlog, benchmark.dbal = benchmark.get_logs()\n",
    "benchmark.stats = benchmark.get_stats()"
   ]
  },
  {
   "cell_type": "markdown",
   "metadata": {},
   "source": [
    "Plot Equity Curves: Strategy vs Benchmark"
   ]
  },
  {
   "cell_type": "code",
   "execution_count": 12,
   "metadata": {
    "ExecuteTime": {
     "end_time": "2020-02-17T03:34:21.451911Z",
     "start_time": "2020-02-17T03:34:21.161066Z"
    }
   },
   "outputs": [
    {
     "data": {
      "image/png": "[encoded data removed]",
      "text/plain": [
       "<Figure size 720x504 with 1 Axes>"
      ]
     },
     "metadata": {
      "needs_background": "light"
     },
     "output_type": "display_data"
    }
   ],
   "source": [
    "pf.plot_equity_curve(dbal, benchmark=benchmark.dbal)"
   ]
  },
  {
   "cell_type": "markdown",
   "metadata": {},
   "source": [
    "Plot Trades"
   ]
  },
  {
   "cell_type": "code",
   "execution_count": 13,
   "metadata": {
    "ExecuteTime": {
     "end_time": "2020-02-17T03:34:21.769134Z",
     "start_time": "2020-02-17T03:34:21.459267Z"
    }
   },
   "outputs": [
    {
     "data": {
      "image/png": "[encoded data removed]",
      "text/plain": [
       "<Figure size 720x504 with 1 Axes>"
      ]
     },
     "metadata": {
      "needs_background": "light"
     },
     "output_type": "display_data"
    }
   ],
   "source": [
    "pf.plot_trades(dbal, benchmark=benchmark.dbal)"
   ]
  },
  {
   "cell_type": "markdown",
   "metadata": {},
   "source": [
    "Bar Graph: Strategy vs Benchmark"
   ]
  },
  {
   "cell_type": "code",
   "execution_count": 14,
   "metadata": {
    "ExecuteTime": {
     "end_time": "2020-02-17T03:34:22.133953Z",
     "start_time": "2020-02-17T03:34:21.774480Z"
    }
   },
   "outputs": [
    {
     "data": {
      "text/html": [
       "<div>\n",
       "<style scoped>\n",
       "    .dataframe tbody tr th:only-of-type {\n",
       "        vertical-align: middle;\n",
       "    }\n",
       "\n",
       "    .dataframe tbody tr th {\n",
       "        vertical-align: top;\n",
       "    }\n",
       "\n",
       "    .dataframe thead th {\n",
       "        text-align: right;\n",
       "    }\n",
       "</style>\n",
       "<table border=\"1\" class=\"dataframe\">\n",
       "  <thead>\n",
       "    <tr style=\"text-align: right;\">\n",
       "      <th></th>\n",
       "      <th>strategy</th>\n",
       "      <th>benchmark</th>\n",
       "    </tr>\n",
       "  </thead>\n",
       "  <tbody>\n",
       "    <tr>\n",
       "      <th>annual_return_rate</th>\n",
       "      <td>6.80</td>\n",
       "      <td>-1.17</td>\n",
       "    </tr>\n",
       "    <tr>\n",
       "      <th>max_closed_out_drawdown</th>\n",
       "      <td>-36.26</td>\n",
       "      <td>-81.15</td>\n",
       "    </tr>\n",
       "    <tr>\n",
       "      <th>drawdown_annualized_return</th>\n",
       "      <td>-5.33</td>\n",
       "      <td>69.16</td>\n",
       "    </tr>\n",
       "    <tr>\n",
       "      <th>drawdown_recovery</th>\n",
       "      <td>-0.02</td>\n",
       "      <td>-4.36</td>\n",
       "    </tr>\n",
       "    <tr>\n",
       "      <th>best_month</th>\n",
       "      <td>38.51</td>\n",
       "      <td>67.61</td>\n",
       "    </tr>\n",
       "    <tr>\n",
       "      <th>worst_month</th>\n",
       "      <td>-30.07</td>\n",
       "      <td>-52.01</td>\n",
       "    </tr>\n",
       "    <tr>\n",
       "      <th>sharpe_ratio</th>\n",
       "      <td>0.41</td>\n",
       "      <td>0.19</td>\n",
       "    </tr>\n",
       "    <tr>\n",
       "      <th>sortino_ratio</th>\n",
       "      <td>0.29</td>\n",
       "      <td>0.28</td>\n",
       "    </tr>\n",
       "    <tr>\n",
       "      <th>monthly_std</th>\n",
       "      <td>4.39</td>\n",
       "      <td>11.04</td>\n",
       "    </tr>\n",
       "  </tbody>\n",
       "</table>\n",
       "</div>"
      ],
      "text/plain": [
       "                            strategy  benchmark\n",
       "annual_return_rate              6.80      -1.17\n",
       "max_closed_out_drawdown       -36.26     -81.15\n",
       "drawdown_annualized_return     -5.33      69.16\n",
       "drawdown_recovery              -0.02      -4.36\n",
       "best_month                     38.51      67.61\n",
       "worst_month                   -30.07     -52.01\n",
       "sharpe_ratio                    0.41       0.19\n",
       "sortino_ratio                   0.29       0.28\n",
       "monthly_std                     4.39      11.04"
      ]
     },
     "execution_count": 14,
     "metadata": {},
     "output_type": "execute_result"
    },
    {
     "data": {
      "image/png": "[encoded data removed]",
      "text/plain": [
       "<Figure size 720x504 with 1 Axes>"
      ]
     },
     "metadata": {
      "needs_background": "light"
     },
     "output_type": "display_data"
    }
   ],
   "source": [
    "metrics = ('annual_return_rate',\n",
    "           'max_closed_out_drawdown',\n",
    "           'drawdown_annualized_return',\n",
    "           'drawdown_recovery',\n",
    "           'best_month',\n",
    "           'worst_month',\n",
    "           'sharpe_ratio',\n",
    "           'sortino_ratio',\n",
    "           'monthly_std')\n",
    "\n",
    "df = pf.plot_bar_graph(stats, benchmark.stats, *metrics)\n",
    "df"
   ]
  },
  {
   "cell_type": "code",
   "execution_count": null,
   "metadata": {},
   "outputs": [],
   "source": []
  }
 ],
 "metadata": {
  "kernelspec": {
   "display_name": "Python 3",
   "language": "python",
   "name": "python3"
  },
  "language_info": {
   "codemirror_mode": {
    "name": "ipython",
    "version": 3
   },
   "file_extension": ".py",
   "mimetype": "text/x-python",
   "name": "python",
   "nbconvert_exporter": "python",
   "pygments_lexer": "ipython3",
   "version": "3.8.2"
  },
  "latex_envs": {
   "LaTeX_envs_menu_present": true,
   "autoclose": false,
   "autocomplete": true,
   "bibliofile": "biblio.bib",
   "cite_by": "apalike",
   "current_citInitial": 1,
   "eqLabelWithNumbers": true,
   "eqNumInitial": 1,
   "hotkeys": {
    "equation": "Ctrl-E",
    "itemize": "Ctrl-I"
   },
   "labels_anchors": false,
   "latex_user_defs": false,
   "report_style_numbering": false,
   "user_envs_cfg": false
  }
 },
 "nbformat": 4,
 "nbformat_minor": 1
}
