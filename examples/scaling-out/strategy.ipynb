{
 "cells": [
  {
   "cell_type": "markdown",
   "metadata": {},
   "source": [
    "# Double 7's (Short Term Trading Strategies that Work)\n",
    "\n",
    "    1. The SPY is above its 200-day moving average\n",
    "    2. The SPY closes at a X-day low, buy with full capital.\n",
    "    3. If the SPY closes at a X-day high, sell some.\n",
    "       If it sets further highs, sell some more, etc...\n",
    "    4. If you have free cash, use it all when fresh lows are set.\n",
    "    \n",
    "    (Scaling out)"
   ]
  },
  {
   "cell_type": "code",
   "execution_count": 1,
   "metadata": {
    "ExecuteTime": {
     "end_time": "2020-02-17T03:34:19.691223Z",
     "start_time": "2020-02-17T03:34:18.377601Z"
    }
   },
   "outputs": [],
   "source": [
    "import pandas as pd\n",
    "import matplotlib.pyplot as plt\n",
    "import datetime\n",
    "from talib.abstract import *\n",
    "\n",
    "import pinkfish as pf\n",
    "import strategy\n",
    "\n",
    "# format price data\n",
    "pd.options.display.float_format = '{:0.2f}'.format\n",
    "\n",
    "%matplotlib inline"
   ]
  },
  {
   "cell_type": "code",
   "execution_count": 2,
   "metadata": {
    "ExecuteTime": {
     "end_time": "2020-02-17T03:34:19.708716Z",
     "start_time": "2020-02-17T03:34:19.701218Z"
    }
   },
   "outputs": [],
   "source": [
    "# set size of inline plots\n",
    "'''note: rcParams can't be in same cell as import matplotlib\n",
    "   or %matplotlib inline\n",
    "   \n",
    "   %matplotlib notebook: will lead to interactive plots embedded within\n",
    "   the notebook, you can zoom and resize the figure\n",
    "   \n",
    "   %matplotlib inline: only draw static images in the notebook\n",
    "'''\n",
    "plt.rcParams[\"figure.figsize\"] = (10, 7)"
   ]
  },
  {
   "cell_type": "markdown",
   "metadata": {},
   "source": [
    "Some global data"
   ]
  },
  {
   "cell_type": "code",
   "execution_count": 3,
   "metadata": {
    "ExecuteTime": {
     "end_time": "2020-02-17T03:34:19.721829Z",
     "start_time": "2020-02-17T03:34:19.712902Z"
    }
   },
   "outputs": [],
   "source": [
    "#symbol = '^GSPC'\n",
    "symbol = 'SPY'\n",
    "#symbol = 'DIA'\n",
    "#symbol = 'QQQ'\n",
    "#symbol = 'IWM'\n",
    "#symbol = 'TLT'\n",
    "#symbol = 'GLD'\n",
    "#symbol = 'AAPL'\n",
    "#symbol = 'BBRY'\n",
    "#symbol = 'GDX'\n",
    "capital = 10000\n",
    "start = datetime.datetime(1900, 1, 1)\n",
    "end = datetime.datetime.now()"
   ]
  },
  {
   "cell_type": "markdown",
   "metadata": {},
   "source": [
    "Define high low trade periods"
   ]
  },
  {
   "cell_type": "code",
   "execution_count": 4,
   "metadata": {
    "ExecuteTime": {
     "end_time": "2020-02-17T03:34:19.733196Z",
     "start_time": "2020-02-17T03:34:19.726497Z"
    }
   },
   "outputs": [],
   "source": [
    "period = 7"
   ]
  },
  {
   "cell_type": "markdown",
   "metadata": {},
   "source": [
    "Define max number of positions to scale into"
   ]
  },
  {
   "cell_type": "code",
   "execution_count": 5,
   "metadata": {
    "ExecuteTime": {
     "end_time": "2020-02-17T03:34:19.751131Z",
     "start_time": "2020-02-17T03:34:19.742394Z"
    }
   },
   "outputs": [],
   "source": [
    "max_positions = 2"
   ]
  },
  {
   "cell_type": "markdown",
   "metadata": {},
   "source": [
    "Define the margin multiple"
   ]
  },
  {
   "cell_type": "code",
   "execution_count": 6,
   "metadata": {},
   "outputs": [],
   "source": [
    "margin = 1"
   ]
  },
  {
   "cell_type": "markdown",
   "metadata": {},
   "source": [
    "Run Strategy"
   ]
  },
  {
   "cell_type": "code",
   "execution_count": 7,
   "metadata": {
    "ExecuteTime": {
     "end_time": "2020-02-17T03:34:19.941261Z",
     "start_time": "2020-02-17T03:34:19.752834Z"
    },
    "scrolled": false
   },
   "outputs": [],
   "source": [
    "s = strategy.Strategy(symbol, capital, start, end, use_adj=False, stop_loss_pct=85, margin=margin,\n",
    "                      period=period, max_positions=max_positions)\n",
    "s.run()"
   ]
  },
  {
   "cell_type": "markdown",
   "metadata": {},
   "source": [
    "Retrieve log DataFrames"
   ]
  },
  {
   "cell_type": "code",
   "execution_count": 8,
   "metadata": {
    "ExecuteTime": {
     "end_time": "2020-02-17T03:34:20.504120Z",
     "start_time": "2020-02-17T03:34:19.953379Z"
    }
   },
   "outputs": [],
   "source": [
    "tlog, dbal = s.get_logs()\n",
    "stats = s.get_stats()"
   ]
  },
  {
   "cell_type": "code",
   "execution_count": 9,
   "metadata": {
    "ExecuteTime": {
     "end_time": "2020-02-17T03:34:20.555125Z",
     "start_time": "2020-02-17T03:34:20.513983Z"
    }
   },
   "outputs": [
    {
     "data": {
      "text/html": [
       "<div>\n",
       "<style scoped>\n",
       "    .dataframe tbody tr th:only-of-type {\n",
       "        vertical-align: middle;\n",
       "    }\n",
       "\n",
       "    .dataframe tbody tr th {\n",
       "        vertical-align: top;\n",
       "    }\n",
       "\n",
       "    .dataframe thead th {\n",
       "        text-align: right;\n",
       "    }\n",
       "</style>\n",
       "<table border=\"1\" class=\"dataframe\">\n",
       "  <thead>\n",
       "    <tr style=\"text-align: right;\">\n",
       "      <th></th>\n",
       "      <th>entry_date</th>\n",
       "      <th>entry_price</th>\n",
       "      <th>exit_date</th>\n",
       "      <th>exit_price</th>\n",
       "      <th>pl_points</th>\n",
       "      <th>pl_cash</th>\n",
       "      <th>qty</th>\n",
       "      <th>cumul_total</th>\n",
       "      <th>direction</th>\n",
       "      <th>symbol</th>\n",
       "    </tr>\n",
       "  </thead>\n",
       "  <tbody>\n",
       "    <tr>\n",
       "      <th>506</th>\n",
       "      <td>2019-09-20</td>\n",
       "      <td>298.28</td>\n",
       "      <td>2019-10-11</td>\n",
       "      <td>296.28</td>\n",
       "      <td>-2.00</td>\n",
       "      <td>-210.00</td>\n",
       "      <td>105</td>\n",
       "      <td>52558.34</td>\n",
       "      <td>LONG</td>\n",
       "      <td>SPY</td>\n",
       "    </tr>\n",
       "    <tr>\n",
       "      <th>507</th>\n",
       "      <td>2019-09-20</td>\n",
       "      <td>298.28</td>\n",
       "      <td>2019-10-15</td>\n",
       "      <td>298.88</td>\n",
       "      <td>0.60</td>\n",
       "      <td>63.00</td>\n",
       "      <td>105</td>\n",
       "      <td>52621.34</td>\n",
       "      <td>LONG</td>\n",
       "      <td>SPY</td>\n",
       "    </tr>\n",
       "    <tr>\n",
       "      <th>508</th>\n",
       "      <td>2019-12-03</td>\n",
       "      <td>309.55</td>\n",
       "      <td>2019-12-12</td>\n",
       "      <td>317.13</td>\n",
       "      <td>7.58</td>\n",
       "      <td>765.58</td>\n",
       "      <td>101</td>\n",
       "      <td>53386.92</td>\n",
       "      <td>LONG</td>\n",
       "      <td>SPY</td>\n",
       "    </tr>\n",
       "    <tr>\n",
       "      <th>509</th>\n",
       "      <td>2019-12-03</td>\n",
       "      <td>309.55</td>\n",
       "      <td>2019-12-13</td>\n",
       "      <td>317.32</td>\n",
       "      <td>7.77</td>\n",
       "      <td>784.77</td>\n",
       "      <td>101</td>\n",
       "      <td>54171.70</td>\n",
       "      <td>LONG</td>\n",
       "      <td>SPY</td>\n",
       "    </tr>\n",
       "    <tr>\n",
       "      <th>510</th>\n",
       "      <td>2020-01-27</td>\n",
       "      <td>323.50</td>\n",
       "      <td>2020-02-04</td>\n",
       "      <td>329.06</td>\n",
       "      <td>5.56</td>\n",
       "      <td>550.44</td>\n",
       "      <td>99</td>\n",
       "      <td>54722.13</td>\n",
       "      <td>LONG</td>\n",
       "      <td>SPY</td>\n",
       "    </tr>\n",
       "    <tr>\n",
       "      <th>511</th>\n",
       "      <td>2020-01-27</td>\n",
       "      <td>323.50</td>\n",
       "      <td>2020-02-05</td>\n",
       "      <td>332.86</td>\n",
       "      <td>9.36</td>\n",
       "      <td>926.64</td>\n",
       "      <td>99</td>\n",
       "      <td>55648.77</td>\n",
       "      <td>LONG</td>\n",
       "      <td>SPY</td>\n",
       "    </tr>\n",
       "    <tr>\n",
       "      <th>512</th>\n",
       "      <td>2020-02-21</td>\n",
       "      <td>333.48</td>\n",
       "      <td>2020-03-04</td>\n",
       "      <td>312.86</td>\n",
       "      <td>-20.62</td>\n",
       "      <td>-2020.76</td>\n",
       "      <td>98</td>\n",
       "      <td>53628.01</td>\n",
       "      <td>LONG</td>\n",
       "      <td>SPY</td>\n",
       "    </tr>\n",
       "    <tr>\n",
       "      <th>513</th>\n",
       "      <td>2020-02-21</td>\n",
       "      <td>333.48</td>\n",
       "      <td>2020-03-26</td>\n",
       "      <td>261.20</td>\n",
       "      <td>-72.28</td>\n",
       "      <td>-7083.44</td>\n",
       "      <td>98</td>\n",
       "      <td>46544.57</td>\n",
       "      <td>LONG</td>\n",
       "      <td>SPY</td>\n",
       "    </tr>\n",
       "    <tr>\n",
       "      <th>514</th>\n",
       "      <td>2020-06-24</td>\n",
       "      <td>304.09</td>\n",
       "      <td>2020-07-02</td>\n",
       "      <td>312.23</td>\n",
       "      <td>8.14</td>\n",
       "      <td>748.88</td>\n",
       "      <td>92</td>\n",
       "      <td>47293.45</td>\n",
       "      <td>LONG</td>\n",
       "      <td>SPY</td>\n",
       "    </tr>\n",
       "    <tr>\n",
       "      <th>515</th>\n",
       "      <td>2020-06-24</td>\n",
       "      <td>304.09</td>\n",
       "      <td>2020-07-06</td>\n",
       "      <td>317.05</td>\n",
       "      <td>12.96</td>\n",
       "      <td>1205.28</td>\n",
       "      <td>93</td>\n",
       "      <td>48498.73</td>\n",
       "      <td>LONG</td>\n",
       "      <td>SPY</td>\n",
       "    </tr>\n",
       "  </tbody>\n",
       "</table>\n",
       "</div>"
      ],
      "text/plain": [
       "    entry_date  entry_price  exit_date  exit_price  pl_points  pl_cash  qty  \\\n",
       "506 2019-09-20       298.28 2019-10-11      296.28      -2.00  -210.00  105   \n",
       "507 2019-09-20       298.28 2019-10-15      298.88       0.60    63.00  105   \n",
       "508 2019-12-03       309.55 2019-12-12      317.13       7.58   765.58  101   \n",
       "509 2019-12-03       309.55 2019-12-13      317.32       7.77   784.77  101   \n",
       "510 2020-01-27       323.50 2020-02-04      329.06       5.56   550.44   99   \n",
       "511 2020-01-27       323.50 2020-02-05      332.86       9.36   926.64   99   \n",
       "512 2020-02-21       333.48 2020-03-04      312.86     -20.62 -2020.76   98   \n",
       "513 2020-02-21       333.48 2020-03-26      261.20     -72.28 -7083.44   98   \n",
       "514 2020-06-24       304.09 2020-07-02      312.23       8.14   748.88   92   \n",
       "515 2020-06-24       304.09 2020-07-06      317.05      12.96  1205.28   93   \n",
       "\n",
       "     cumul_total direction symbol  \n",
       "506     52558.34      LONG    SPY  \n",
       "507     52621.34      LONG    SPY  \n",
       "508     53386.92      LONG    SPY  \n",
       "509     54171.70      LONG    SPY  \n",
       "510     54722.13      LONG    SPY  \n",
       "511     55648.77      LONG    SPY  \n",
       "512     53628.01      LONG    SPY  \n",
       "513     46544.57      LONG    SPY  \n",
       "514     47293.45      LONG    SPY  \n",
       "515     48498.73      LONG    SPY  "
      ]
     },
     "execution_count": 9,
     "metadata": {},
     "output_type": "execute_result"
    }
   ],
   "source": [
    "tlog.tail(10)"
   ]
  },
  {
   "cell_type": "code",
   "execution_count": 10,
   "metadata": {
    "ExecuteTime": {
     "end_time": "2020-02-17T03:34:20.591121Z",
     "start_time": "2020-02-17T03:34:20.561781Z"
    }
   },
   "outputs": [
    {
     "data": {
      "text/html": [
       "<div>\n",
       "<style scoped>\n",
       "    .dataframe tbody tr th:only-of-type {\n",
       "        vertical-align: middle;\n",
       "    }\n",
       "\n",
       "    .dataframe tbody tr th {\n",
       "        vertical-align: top;\n",
       "    }\n",
       "\n",
       "    .dataframe thead th {\n",
       "        text-align: right;\n",
       "    }\n",
       "</style>\n",
       "<table border=\"1\" class=\"dataframe\">\n",
       "  <thead>\n",
       "    <tr style=\"text-align: right;\">\n",
       "      <th></th>\n",
       "      <th>high</th>\n",
       "      <th>low</th>\n",
       "      <th>close</th>\n",
       "      <th>shares</th>\n",
       "      <th>cash</th>\n",
       "      <th>leverage</th>\n",
       "      <th>state</th>\n",
       "    </tr>\n",
       "    <tr>\n",
       "      <th>date</th>\n",
       "      <th></th>\n",
       "      <th></th>\n",
       "      <th></th>\n",
       "      <th></th>\n",
       "      <th></th>\n",
       "      <th></th>\n",
       "      <th></th>\n",
       "    </tr>\n",
       "  </thead>\n",
       "  <tbody>\n",
       "    <tr>\n",
       "      <th>2020-07-17</th>\n",
       "      <td>58498.73</td>\n",
       "      <td>58498.73</td>\n",
       "      <td>58498.73</td>\n",
       "      <td>0</td>\n",
       "      <td>58498.73</td>\n",
       "      <td>1.00</td>\n",
       "      <td>-</td>\n",
       "    </tr>\n",
       "    <tr>\n",
       "      <th>2020-07-20</th>\n",
       "      <td>58498.73</td>\n",
       "      <td>58498.73</td>\n",
       "      <td>58498.73</td>\n",
       "      <td>0</td>\n",
       "      <td>58498.73</td>\n",
       "      <td>1.00</td>\n",
       "      <td>-</td>\n",
       "    </tr>\n",
       "    <tr>\n",
       "      <th>2020-07-21</th>\n",
       "      <td>58498.73</td>\n",
       "      <td>58498.73</td>\n",
       "      <td>58498.73</td>\n",
       "      <td>0</td>\n",
       "      <td>58498.73</td>\n",
       "      <td>1.00</td>\n",
       "      <td>-</td>\n",
       "    </tr>\n",
       "    <tr>\n",
       "      <th>2020-07-22</th>\n",
       "      <td>58498.73</td>\n",
       "      <td>58498.73</td>\n",
       "      <td>58498.73</td>\n",
       "      <td>0</td>\n",
       "      <td>58498.73</td>\n",
       "      <td>1.00</td>\n",
       "      <td>-</td>\n",
       "    </tr>\n",
       "    <tr>\n",
       "      <th>2020-07-23</th>\n",
       "      <td>58498.73</td>\n",
       "      <td>58498.73</td>\n",
       "      <td>58498.73</td>\n",
       "      <td>0</td>\n",
       "      <td>58498.73</td>\n",
       "      <td>1.00</td>\n",
       "      <td>-</td>\n",
       "    </tr>\n",
       "  </tbody>\n",
       "</table>\n",
       "</div>"
      ],
      "text/plain": [
       "               high      low    close  shares     cash  leverage state\n",
       "date                                                                  \n",
       "2020-07-17 58498.73 58498.73 58498.73       0 58498.73      1.00     -\n",
       "2020-07-20 58498.73 58498.73 58498.73       0 58498.73      1.00     -\n",
       "2020-07-21 58498.73 58498.73 58498.73       0 58498.73      1.00     -\n",
       "2020-07-22 58498.73 58498.73 58498.73       0 58498.73      1.00     -\n",
       "2020-07-23 58498.73 58498.73 58498.73       0 58498.73      1.00     -"
      ]
     },
     "execution_count": 10,
     "metadata": {},
     "output_type": "execute_result"
    }
   ],
   "source": [
    "dbal.tail()"
   ]
  },
  {
   "cell_type": "markdown",
   "metadata": {},
   "source": [
    "Generate strategy stats - display all available stats"
   ]
  },
  {
   "cell_type": "code",
   "execution_count": 11,
   "metadata": {
    "ExecuteTime": {
     "end_time": "2020-02-17T03:34:20.640169Z",
     "start_time": "2020-02-17T03:34:20.595069Z"
    }
   },
   "outputs": [
    {
     "name": "stdout",
     "output_type": "stream",
     "text": [
      "start                                                   1993-11-11\n",
      "end                                                     2020-07-23\n",
      "beginning_balance                                            10000\n",
      "ending_balance                                            58498.73\n",
      "total_net_profit                                          48498.73\n",
      "gross_profit                                              96251.45\n",
      "gross_loss                                               -47752.72\n",
      "profit_factor                                                 2.02\n",
      "return_on_initial_capital                                   484.99\n",
      "annual_return_rate                                            6.84\n",
      "trading_period                           26 years 8 months 12 days\n",
      "pct_time_in_market                                           37.98\n",
      "margin                                                           1\n",
      "avg_leverage                                                  1.00\n",
      "max_leverage                                                  1.00\n",
      "min_leverage                                                  1.00\n",
      "total_num_trades                                               516\n",
      "trades_per_year                                              19.33\n",
      "num_winning_trades                                             394\n",
      "num_losing_trades                                              120\n",
      "num_even_trades                                                  2\n",
      "pct_profitable_trades                                        76.36\n",
      "avg_profit_per_trade                                         93.99\n",
      "avg_profit_per_winning_trade                                244.29\n",
      "avg_loss_per_losing_trade                                  -397.94\n",
      "ratio_avg_profit_win_loss                                     0.61\n",
      "largest_profit_winning_trade                               1262.21\n",
      "largest_loss_losing_trade                                 -7083.44\n",
      "num_winning_points                                          932.01\n",
      "num_losing_points                                          -447.08\n",
      "total_net_points                                            484.92\n",
      "avg_points                                                    0.94\n",
      "largest_points_winning_trade                                 12.96\n",
      "largest_points_losing_trade                                 -72.28\n",
      "avg_pct_gain_per_trade                                        0.79\n",
      "largest_pct_winning_trade                                     7.35\n",
      "largest_pct_losing_trade                                    -21.67\n",
      "max_consecutive_winning_trades                                  33\n",
      "max_consecutive_losing_trades                                    6\n",
      "avg_bars_winning_trades                                       7.97\n",
      "avg_bars_losing_trades                                       18.21\n",
      "max_closed_out_drawdown                                     -19.58\n",
      "max_closed_out_drawdown_start_date                      2020-02-05\n",
      "max_closed_out_drawdown_end_date                        2020-03-23\n",
      "max_closed_out_drawdown_recovery_date            Not Recovered Yet\n",
      "drawdown_recovery                                            -0.13\n",
      "drawdown_annualized_return                                   -2.86\n",
      "max_intra_day_drawdown                                      -20.83\n",
      "avg_yearly_closed_out_drawdown                               -6.96\n",
      "max_yearly_closed_out_drawdown                              -19.58\n",
      "avg_monthly_closed_out_drawdown                              -1.62\n",
      "max_monthly_closed_out_drawdown                             -18.70\n",
      "avg_weekly_closed_out_drawdown                               -0.55\n",
      "max_weekly_closed_out_drawdown                              -12.82\n",
      "avg_yearly_closed_out_runup                                  12.85\n",
      "max_yearly_closed_out_runup                                  39.05\n",
      "avg_monthly_closed_out_runup                                  2.05\n",
      "max_monthly_closed_out_runup                                 13.66\n",
      "avg_weekly_closed_out_runup                                   0.70\n",
      "max_weekly_closed_out_runup                                   7.78\n",
      "pct_profitable_years                                         75.18\n",
      "best_year                                                    38.35\n",
      "worst_year                                                  -13.61\n",
      "avg_year                                                      7.55\n",
      "annual_std                                                    8.88\n",
      "pct_profitable_months                                        52.04\n",
      "best_month                                                   13.66\n",
      "worst_month                                                 -18.70\n",
      "avg_month                                                     0.55\n",
      "monthly_std                                                   2.25\n",
      "pct_profitable_weeks                                         33.01\n",
      "best_week                                                     7.78\n",
      "worst_week                                                  -12.82\n",
      "avg_week                                                      0.14\n",
      "weekly_std                                                    1.28\n",
      "sharpe_ratio                                                  0.69\n",
      "sortino_ratio                                                 0.55\n",
      "dtype: object\n"
     ]
    }
   ],
   "source": [
    "pf.print_full(stats)"
   ]
  },
  {
   "cell_type": "markdown",
   "metadata": {},
   "source": [
    "Equity curve"
   ]
  },
  {
   "cell_type": "markdown",
   "metadata": {},
   "source": [
    "Run Benchmark, Retrieve benchmark logs, and Generate benchmark stats"
   ]
  },
  {
   "cell_type": "code",
   "execution_count": 12,
   "metadata": {
    "ExecuteTime": {
     "end_time": "2020-02-17T03:34:21.152126Z",
     "start_time": "2020-02-17T03:34:20.648640Z"
    }
   },
   "outputs": [
    {
     "name": "stdout",
     "output_type": "stream",
     "text": [
      "1993-11-11 00:00:00 BUY  215 SPY @ 46.38\n",
      "2020-07-23 00:00:00 SELL 215 SPY @ 322.28\n"
     ]
    }
   ],
   "source": [
    "benchmark = pf.Benchmark(symbol, capital, s.start, s.end)\n",
    "benchmark.run()\n",
    "benchmark.tlog, benchmark.dbal = benchmark.get_logs()\n",
    "benchmark.stats = benchmark.get_stats()"
   ]
  },
  {
   "cell_type": "markdown",
   "metadata": {},
   "source": [
    "Plot Equity Curves: Strategy vs Benchmark"
   ]
  },
  {
   "cell_type": "code",
   "execution_count": 13,
   "metadata": {
    "ExecuteTime": {
     "end_time": "2020-02-17T03:34:21.451911Z",
     "start_time": "2020-02-17T03:34:21.161066Z"
    }
   },
   "outputs": [
    {
     "data": {
      "image/png": "[encoded data removed]",
      "text/plain": [
       "<Figure size 720x504 with 1 Axes>"
      ]
     },
     "metadata": {
      "needs_background": "light"
     },
     "output_type": "display_data"
    }
   ],
   "source": [
    "pf.plot_equity_curve(dbal, benchmark=benchmark.dbal)"
   ]
  },
  {
   "cell_type": "markdown",
   "metadata": {},
   "source": [
    "Plot Trades"
   ]
  },
  {
   "cell_type": "code",
   "execution_count": 14,
   "metadata": {
    "ExecuteTime": {
     "end_time": "2020-02-17T03:34:21.769134Z",
     "start_time": "2020-02-17T03:34:21.459267Z"
    }
   },
   "outputs": [
    {
     "data": {
      "image/png": "[encoded data removed]",
      "text/plain": [
       "<Figure size 720x504 with 1 Axes>"
      ]
     },
     "metadata": {
      "needs_background": "light"
     },
     "output_type": "display_data"
    }
   ],
   "source": [
    "pf.plot_trades(dbal, benchmark=benchmark.dbal)"
   ]
  },
  {
   "cell_type": "markdown",
   "metadata": {},
   "source": [
    "Bar Graph: Strategy vs Benchmark"
   ]
  },
  {
   "cell_type": "code",
   "execution_count": 15,
   "metadata": {
    "ExecuteTime": {
     "end_time": "2020-02-17T03:34:22.133953Z",
     "start_time": "2020-02-17T03:34:21.774480Z"
    }
   },
   "outputs": [
    {
     "data": {
      "text/html": [
       "<div>\n",
       "<style scoped>\n",
       "    .dataframe tbody tr th:only-of-type {\n",
       "        vertical-align: middle;\n",
       "    }\n",
       "\n",
       "    .dataframe tbody tr th {\n",
       "        vertical-align: top;\n",
       "    }\n",
       "\n",
       "    .dataframe thead th {\n",
       "        text-align: right;\n",
       "    }\n",
       "</style>\n",
       "<table border=\"1\" class=\"dataframe\">\n",
       "  <thead>\n",
       "    <tr style=\"text-align: right;\">\n",
       "      <th></th>\n",
       "      <th>strategy</th>\n",
       "      <th>benchmark</th>\n",
       "    </tr>\n",
       "  </thead>\n",
       "  <tbody>\n",
       "    <tr>\n",
       "      <th>annual_return_rate</th>\n",
       "      <td>6.84</td>\n",
       "      <td>7.52</td>\n",
       "    </tr>\n",
       "    <tr>\n",
       "      <th>max_closed_out_drawdown</th>\n",
       "      <td>-19.58</td>\n",
       "      <td>-56.42</td>\n",
       "    </tr>\n",
       "    <tr>\n",
       "      <th>drawdown_annualized_return</th>\n",
       "      <td>-2.86</td>\n",
       "      <td>-7.50</td>\n",
       "    </tr>\n",
       "    <tr>\n",
       "      <th>drawdown_recovery</th>\n",
       "      <td>-0.13</td>\n",
       "      <td>-1.42</td>\n",
       "    </tr>\n",
       "    <tr>\n",
       "      <th>best_month</th>\n",
       "      <td>13.66</td>\n",
       "      <td>23.06</td>\n",
       "    </tr>\n",
       "    <tr>\n",
       "      <th>worst_month</th>\n",
       "      <td>-18.70</td>\n",
       "      <td>-31.38</td>\n",
       "    </tr>\n",
       "    <tr>\n",
       "      <th>sharpe_ratio</th>\n",
       "      <td>0.69</td>\n",
       "      <td>0.48</td>\n",
       "    </tr>\n",
       "    <tr>\n",
       "      <th>sortino_ratio</th>\n",
       "      <td>0.55</td>\n",
       "      <td>0.60</td>\n",
       "    </tr>\n",
       "    <tr>\n",
       "      <th>monthly_std</th>\n",
       "      <td>2.25</td>\n",
       "      <td>4.54</td>\n",
       "    </tr>\n",
       "  </tbody>\n",
       "</table>\n",
       "</div>"
      ],
      "text/plain": [
       "                            strategy  benchmark\n",
       "annual_return_rate              6.84       7.52\n",
       "max_closed_out_drawdown       -19.58     -56.42\n",
       "drawdown_annualized_return     -2.86      -7.50\n",
       "drawdown_recovery              -0.13      -1.42\n",
       "best_month                     13.66      23.06\n",
       "worst_month                   -18.70     -31.38\n",
       "sharpe_ratio                    0.69       0.48\n",
       "sortino_ratio                   0.55       0.60\n",
       "monthly_std                     2.25       4.54"
      ]
     },
     "execution_count": 15,
     "metadata": {},
     "output_type": "execute_result"
    },
    {
     "data": {
      "image/png": "[encoded data removed]",
      "text/plain": [
       "<Figure size 720x504 with 1 Axes>"
      ]
     },
     "metadata": {
      "needs_background": "light"
     },
     "output_type": "display_data"
    }
   ],
   "source": [
    "df = pf.plot_bar_graph(stats, benchmark.stats)\n",
    "df"
   ]
  },
  {
   "cell_type": "code",
   "execution_count": null,
   "metadata": {},
   "outputs": [],
   "source": []
  }
 ],
 "metadata": {
  "kernelspec": {
   "display_name": "Python 3",
   "language": "python",
   "name": "python3"
  },
  "language_info": {
   "codemirror_mode": {
    "name": "ipython",
    "version": 3
   },
   "file_extension": ".py",
   "mimetype": "text/x-python",
   "name": "python",
   "nbconvert_exporter": "python",
   "pygments_lexer": "ipython3",
   "version": "3.8.2"
  },
  "latex_envs": {
   "LaTeX_envs_menu_present": true,
   "autoclose": false,
   "autocomplete": true,
   "bibliofile": "biblio.bib",
   "cite_by": "apalike",
   "current_citInitial": 1,
   "eqLabelWithNumbers": true,
   "eqNumInitial": 1,
   "hotkeys": {
    "equation": "Ctrl-E",
    "itemize": "Ctrl-I"
   },
   "labels_anchors": false,
   "latex_user_defs": false,
   "report_style_numbering": false,
   "user_envs_cfg": false
  }
 },
 "nbformat": 4,
 "nbformat_minor": 1
}
