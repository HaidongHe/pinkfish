{
 "cells": [
  {
   "cell_type": "markdown",
   "metadata": {},
   "source": [
    "# Double 7's (Short Term Trading Strategies that Work)\n",
    "\n",
    "    1. The SPY is above its 200-day moving average\n",
    "    2. The SPY closes at a X-day low, buy with full capital.\n",
    "    3. If the SPY closes at a X-day high, sell some.\n",
    "       If it sets further highs, sell some more, etc...\n",
    "    4. If you have free cash, use it all when fresh lows are set.\n",
    "    \n",
    "    (Scaling out)"
   ]
  },
  {
   "cell_type": "code",
   "execution_count": 1,
   "metadata": {
    "ExecuteTime": {
     "end_time": "2020-02-17T03:34:19.691223Z",
     "start_time": "2020-02-17T03:34:18.377601Z"
    }
   },
   "outputs": [],
   "source": [
    "# use future imports for python 3.x forward compatibility\n",
    "from __future__ import print_function\n",
    "from __future__ import unicode_literals\n",
    "from __future__ import division\n",
    "from __future__ import absolute_import\n",
    "\n",
    "# other imports\n",
    "import pandas as pd\n",
    "import matplotlib.pyplot as plt\n",
    "import datetime\n",
    "from talib.abstract import *\n",
    "\n",
    "# project imports\n",
    "import pinkfish as pf\n",
    "import strategy\n",
    "\n",
    "# format price data\n",
    "pd.options.display.float_format = '{:0.2f}'.format\n",
    "\n",
    "%matplotlib inline"
   ]
  },
  {
   "cell_type": "code",
   "execution_count": 2,
   "metadata": {
    "ExecuteTime": {
     "end_time": "2020-02-17T03:34:19.708716Z",
     "start_time": "2020-02-17T03:34:19.701218Z"
    }
   },
   "outputs": [],
   "source": [
    "# set size of inline plots\n",
    "'''note: rcParams can't be in same cell as import matplotlib\n",
    "   or %matplotlib inline\n",
    "   \n",
    "   %matplotlib notebook: will lead to interactive plots embedded within\n",
    "   the notebook, you can zoom and resize the figure\n",
    "   \n",
    "   %matplotlib inline: only draw static images in the notebook\n",
    "'''\n",
    "plt.rcParams[\"figure.figsize\"] = (10, 7)"
   ]
  },
  {
   "cell_type": "markdown",
   "metadata": {},
   "source": [
    "Some global data"
   ]
  },
  {
   "cell_type": "code",
   "execution_count": 3,
   "metadata": {
    "ExecuteTime": {
     "end_time": "2020-02-17T03:34:19.721829Z",
     "start_time": "2020-02-17T03:34:19.712902Z"
    }
   },
   "outputs": [],
   "source": [
    "#symbol = '^GSPC'\n",
    "#symbol = 'SPY'\n",
    "#symbol = 'DIA'\n",
    "#symbol = 'QQQ'\n",
    "#symbol = 'IWM'\n",
    "#symbol = 'TLT'\n",
    "#symbol = 'GLD'\n",
    "#symbol = 'AAPL'\n",
    "#symbol = 'BBRY'\n",
    "symbol = 'GDX'\n",
    "capital = 10000\n",
    "start = datetime.datetime(1900, 1, 1)\n",
    "end = datetime.datetime.now()"
   ]
  },
  {
   "cell_type": "markdown",
   "metadata": {},
   "source": [
    "Define high low trade periods"
   ]
  },
  {
   "cell_type": "code",
   "execution_count": 4,
   "metadata": {
    "ExecuteTime": {
     "end_time": "2020-02-17T03:34:19.733196Z",
     "start_time": "2020-02-17T03:34:19.726497Z"
    }
   },
   "outputs": [],
   "source": [
    "period = 7"
   ]
  },
  {
   "cell_type": "markdown",
   "metadata": {},
   "source": [
    "Define max number of positions to scale into"
   ]
  },
  {
   "cell_type": "code",
   "execution_count": 5,
   "metadata": {
    "ExecuteTime": {
     "end_time": "2020-02-17T03:34:19.751131Z",
     "start_time": "2020-02-17T03:34:19.742394Z"
    }
   },
   "outputs": [],
   "source": [
    "max_positions = 2"
   ]
  },
  {
   "cell_type": "markdown",
   "metadata": {},
   "source": [
    "Run Strategy"
   ]
  },
  {
   "cell_type": "code",
   "execution_count": 6,
   "metadata": {
    "ExecuteTime": {
     "end_time": "2020-02-17T03:34:19.941261Z",
     "start_time": "2020-02-17T03:34:19.752834Z"
    },
    "scrolled": false
   },
   "outputs": [],
   "source": [
    "s = strategy.Strategy(symbol, capital, start, end, period=period, max_positions=max_positions)\n",
    "s.run()"
   ]
  },
  {
   "cell_type": "markdown",
   "metadata": {},
   "source": [
    "Retrieve log DataFrames"
   ]
  },
  {
   "cell_type": "code",
   "execution_count": 7,
   "metadata": {
    "ExecuteTime": {
     "end_time": "2020-02-17T03:34:20.504120Z",
     "start_time": "2020-02-17T03:34:19.953379Z"
    }
   },
   "outputs": [],
   "source": [
    "tlog, dbal = s.get_logs()\n",
    "stats = s.get_stats()"
   ]
  },
  {
   "cell_type": "code",
   "execution_count": 8,
   "metadata": {
    "ExecuteTime": {
     "end_time": "2020-02-17T03:34:20.555125Z",
     "start_time": "2020-02-17T03:34:20.513983Z"
    }
   },
   "outputs": [
    {
     "data": {
      "text/html": [
       "<div>\n",
       "<style scoped>\n",
       "    .dataframe tbody tr th:only-of-type {\n",
       "        vertical-align: middle;\n",
       "    }\n",
       "\n",
       "    .dataframe tbody tr th {\n",
       "        vertical-align: top;\n",
       "    }\n",
       "\n",
       "    .dataframe thead th {\n",
       "        text-align: right;\n",
       "    }\n",
       "</style>\n",
       "<table border=\"1\" class=\"dataframe\">\n",
       "  <thead>\n",
       "    <tr style=\"text-align: right;\">\n",
       "      <th></th>\n",
       "      <th>entry_date</th>\n",
       "      <th>entry_price</th>\n",
       "      <th>exit_date</th>\n",
       "      <th>exit_price</th>\n",
       "      <th>pl_points</th>\n",
       "      <th>pl_cash</th>\n",
       "      <th>qty</th>\n",
       "      <th>cumul_total</th>\n",
       "      <th>symbol</th>\n",
       "    </tr>\n",
       "  </thead>\n",
       "  <tbody>\n",
       "    <tr>\n",
       "      <th>165</th>\n",
       "      <td>2019-11-25</td>\n",
       "      <td>26.20</td>\n",
       "      <td>2019-12-02</td>\n",
       "      <td>27.17</td>\n",
       "      <td>0.97</td>\n",
       "      <td>382.18</td>\n",
       "      <td>394</td>\n",
       "      <td>11077.16</td>\n",
       "      <td></td>\n",
       "    </tr>\n",
       "    <tr>\n",
       "      <th>166</th>\n",
       "      <td>2019-11-25</td>\n",
       "      <td>26.20</td>\n",
       "      <td>2019-12-03</td>\n",
       "      <td>27.77</td>\n",
       "      <td>1.57</td>\n",
       "      <td>620.15</td>\n",
       "      <td>395</td>\n",
       "      <td>11697.31</td>\n",
       "      <td></td>\n",
       "    </tr>\n",
       "    <tr>\n",
       "      <th>167</th>\n",
       "      <td>2019-12-09</td>\n",
       "      <td>26.92</td>\n",
       "      <td>2019-12-13</td>\n",
       "      <td>27.72</td>\n",
       "      <td>0.80</td>\n",
       "      <td>321.60</td>\n",
       "      <td>402</td>\n",
       "      <td>12018.91</td>\n",
       "      <td></td>\n",
       "    </tr>\n",
       "    <tr>\n",
       "      <th>168</th>\n",
       "      <td>2019-12-09</td>\n",
       "      <td>26.92</td>\n",
       "      <td>2019-12-23</td>\n",
       "      <td>27.77</td>\n",
       "      <td>0.85</td>\n",
       "      <td>342.55</td>\n",
       "      <td>403</td>\n",
       "      <td>12361.46</td>\n",
       "      <td></td>\n",
       "    </tr>\n",
       "    <tr>\n",
       "      <th>169</th>\n",
       "      <td>2019-12-20</td>\n",
       "      <td>27.13</td>\n",
       "      <td>2019-12-23</td>\n",
       "      <td>27.77</td>\n",
       "      <td>0.64</td>\n",
       "      <td>2.56</td>\n",
       "      <td>4</td>\n",
       "      <td>12364.02</td>\n",
       "      <td></td>\n",
       "    </tr>\n",
       "    <tr>\n",
       "      <th>170</th>\n",
       "      <td>2019-12-20</td>\n",
       "      <td>27.13</td>\n",
       "      <td>2019-12-24</td>\n",
       "      <td>28.66</td>\n",
       "      <td>1.53</td>\n",
       "      <td>622.71</td>\n",
       "      <td>407</td>\n",
       "      <td>12986.73</td>\n",
       "      <td></td>\n",
       "    </tr>\n",
       "    <tr>\n",
       "      <th>171</th>\n",
       "      <td>2020-01-08</td>\n",
       "      <td>28.35</td>\n",
       "      <td>2020-01-21</td>\n",
       "      <td>28.95</td>\n",
       "      <td>0.60</td>\n",
       "      <td>243.00</td>\n",
       "      <td>405</td>\n",
       "      <td>13229.73</td>\n",
       "      <td></td>\n",
       "    </tr>\n",
       "    <tr>\n",
       "      <th>172</th>\n",
       "      <td>2020-01-08</td>\n",
       "      <td>28.35</td>\n",
       "      <td>2020-01-24</td>\n",
       "      <td>29.22</td>\n",
       "      <td>0.87</td>\n",
       "      <td>352.35</td>\n",
       "      <td>405</td>\n",
       "      <td>13582.08</td>\n",
       "      <td></td>\n",
       "    </tr>\n",
       "    <tr>\n",
       "      <th>173</th>\n",
       "      <td>2020-01-28</td>\n",
       "      <td>28.31</td>\n",
       "      <td>2020-02-14</td>\n",
       "      <td>28.31</td>\n",
       "      <td>0.00</td>\n",
       "      <td>0.00</td>\n",
       "      <td>832</td>\n",
       "      <td>13582.08</td>\n",
       "      <td></td>\n",
       "    </tr>\n",
       "    <tr>\n",
       "      <th>174</th>\n",
       "      <td>2020-02-04</td>\n",
       "      <td>28.05</td>\n",
       "      <td>2020-02-14</td>\n",
       "      <td>28.31</td>\n",
       "      <td>0.26</td>\n",
       "      <td>0.26</td>\n",
       "      <td>1</td>\n",
       "      <td>13582.34</td>\n",
       "      <td></td>\n",
       "    </tr>\n",
       "  </tbody>\n",
       "</table>\n",
       "</div>"
      ],
      "text/plain": [
       "    entry_date  entry_price  exit_date  exit_price  pl_points  pl_cash  qty  \\\n",
       "165 2019-11-25        26.20 2019-12-02       27.17       0.97   382.18  394   \n",
       "166 2019-11-25        26.20 2019-12-03       27.77       1.57   620.15  395   \n",
       "167 2019-12-09        26.92 2019-12-13       27.72       0.80   321.60  402   \n",
       "168 2019-12-09        26.92 2019-12-23       27.77       0.85   342.55  403   \n",
       "169 2019-12-20        27.13 2019-12-23       27.77       0.64     2.56    4   \n",
       "170 2019-12-20        27.13 2019-12-24       28.66       1.53   622.71  407   \n",
       "171 2020-01-08        28.35 2020-01-21       28.95       0.60   243.00  405   \n",
       "172 2020-01-08        28.35 2020-01-24       29.22       0.87   352.35  405   \n",
       "173 2020-01-28        28.31 2020-02-14       28.31       0.00     0.00  832   \n",
       "174 2020-02-04        28.05 2020-02-14       28.31       0.26     0.26    1   \n",
       "\n",
       "     cumul_total symbol  \n",
       "165     11077.16         \n",
       "166     11697.31         \n",
       "167     12018.91         \n",
       "168     12361.46         \n",
       "169     12364.02         \n",
       "170     12986.73         \n",
       "171     13229.73         \n",
       "172     13582.08         \n",
       "173     13582.08         \n",
       "174     13582.34         "
      ]
     },
     "execution_count": 8,
     "metadata": {},
     "output_type": "execute_result"
    }
   ],
   "source": [
    "tlog.tail(10)"
   ]
  },
  {
   "cell_type": "code",
   "execution_count": 9,
   "metadata": {
    "ExecuteTime": {
     "end_time": "2020-02-17T03:34:20.591121Z",
     "start_time": "2020-02-17T03:34:20.561781Z"
    }
   },
   "outputs": [
    {
     "data": {
      "text/html": [
       "<div>\n",
       "<style scoped>\n",
       "    .dataframe tbody tr th:only-of-type {\n",
       "        vertical-align: middle;\n",
       "    }\n",
       "\n",
       "    .dataframe tbody tr th {\n",
       "        vertical-align: top;\n",
       "    }\n",
       "\n",
       "    .dataframe thead th {\n",
       "        text-align: right;\n",
       "    }\n",
       "</style>\n",
       "<table border=\"1\" class=\"dataframe\">\n",
       "  <thead>\n",
       "    <tr style=\"text-align: right;\">\n",
       "      <th></th>\n",
       "      <th>high</th>\n",
       "      <th>low</th>\n",
       "      <th>close</th>\n",
       "      <th>shares</th>\n",
       "      <th>cash</th>\n",
       "      <th>state</th>\n",
       "    </tr>\n",
       "    <tr>\n",
       "      <th>date</th>\n",
       "      <th></th>\n",
       "      <th></th>\n",
       "      <th></th>\n",
       "      <th></th>\n",
       "      <th></th>\n",
       "      <th></th>\n",
       "    </tr>\n",
       "  </thead>\n",
       "  <tbody>\n",
       "    <tr>\n",
       "      <th>2020-02-10</th>\n",
       "      <td>23748.94</td>\n",
       "      <td>23340.77</td>\n",
       "      <td>23648.98</td>\n",
       "      <td>833</td>\n",
       "      <td>0.11</td>\n",
       "      <td>-</td>\n",
       "    </tr>\n",
       "    <tr>\n",
       "      <th>2020-02-11</th>\n",
       "      <td>23765.60</td>\n",
       "      <td>23382.42</td>\n",
       "      <td>23682.30</td>\n",
       "      <td>833</td>\n",
       "      <td>0.11</td>\n",
       "      <td>-</td>\n",
       "    </tr>\n",
       "    <tr>\n",
       "      <th>2020-02-12</th>\n",
       "      <td>23665.64</td>\n",
       "      <td>23390.75</td>\n",
       "      <td>23424.07</td>\n",
       "      <td>833</td>\n",
       "      <td>0.11</td>\n",
       "      <td>-</td>\n",
       "    </tr>\n",
       "    <tr>\n",
       "      <th>2020-02-13</th>\n",
       "      <td>23815.58</td>\n",
       "      <td>23499.04</td>\n",
       "      <td>23590.67</td>\n",
       "      <td>833</td>\n",
       "      <td>0.11</td>\n",
       "      <td>-</td>\n",
       "    </tr>\n",
       "    <tr>\n",
       "      <th>2020-02-14</th>\n",
       "      <td>23582.34</td>\n",
       "      <td>23582.34</td>\n",
       "      <td>23582.34</td>\n",
       "      <td>0</td>\n",
       "      <td>23582.34</td>\n",
       "      <td>X</td>\n",
       "    </tr>\n",
       "  </tbody>\n",
       "</table>\n",
       "</div>"
      ],
      "text/plain": [
       "               high      low    close  shares     cash state\n",
       "date                                                        \n",
       "2020-02-10 23748.94 23340.77 23648.98     833     0.11     -\n",
       "2020-02-11 23765.60 23382.42 23682.30     833     0.11     -\n",
       "2020-02-12 23665.64 23390.75 23424.07     833     0.11     -\n",
       "2020-02-13 23815.58 23499.04 23590.67     833     0.11     -\n",
       "2020-02-14 23582.34 23582.34 23582.34       0 23582.34     X"
      ]
     },
     "execution_count": 9,
     "metadata": {},
     "output_type": "execute_result"
    }
   ],
   "source": [
    "dbal.tail()"
   ]
  },
  {
   "cell_type": "markdown",
   "metadata": {},
   "source": [
    "Generate strategy stats - display all available stats"
   ]
  },
  {
   "cell_type": "code",
   "execution_count": 10,
   "metadata": {
    "ExecuteTime": {
     "end_time": "2020-02-17T03:34:20.640169Z",
     "start_time": "2020-02-17T03:34:20.595069Z"
    }
   },
   "outputs": [
    {
     "name": "stdout",
     "output_type": "stream",
     "text": [
      "start                                                   2007-03-08\n",
      "end                                                     2020-02-14\n",
      "beginning_balance                                            10000\n",
      "ending_balance                                            23582.34\n",
      "total_net_profit                                          13582.34\n",
      "gross_profit                                              34436.28\n",
      "gross_loss                                               -20853.94\n",
      "profit_factor                                                 1.65\n",
      "return_on_initial_capital                                   135.82\n",
      "annual_return_rate                                            6.86\n",
      "trading_period                           12 years 11 months 6 days\n",
      "pct_time_in_market                                           29.12\n",
      "total_num_trades                                               175\n",
      "trades_per_year                                              13.53\n",
      "num_winning_trades                                             116\n",
      "num_losing_trades                                               57\n",
      "num_even_trades                                                  2\n",
      "pct_profitable_trades                                        66.29\n",
      "avg_profit_per_trade                                         77.61\n",
      "avg_profit_per_winning_trade                                296.86\n",
      "avg_loss_per_losing_trade                                  -365.86\n",
      "ratio_avg_profit_win_loss                                     0.81\n",
      "largest_profit_winning_trade                               1060.66\n",
      "largest_loss_losing_trade                                 -2140.32\n",
      "num_winning_points                                          174.78\n",
      "num_losing_points                                          -105.44\n",
      "total_net_points                                             69.34\n",
      "avg_points                                                    0.40\n",
      "largest_points_winning_trade                                  5.86\n",
      "largest_points_losing_trade                                  -6.90\n",
      "avg_pct_gain_per_trade                                        1.19\n",
      "largest_pct_winning_trade                                    15.11\n",
      "largest_pct_losing_trade                                    -25.08\n",
      "max_consecutive_winning_trades                                  14\n",
      "max_consecutive_losing_trades                                    5\n",
      "avg_bars_winning_trades                                       8.14\n",
      "avg_bars_losing_trades                                       17.84\n",
      "max_closed_out_drawdown                                     -32.14\n",
      "max_closed_out_drawdown_start_date                      2011-04-29\n",
      "max_closed_out_drawdown_end_date                        2014-11-05\n",
      "max_closed_out_drawdown_recovery_date                   2016-07-27\n",
      "drawdown_recovery                                            -3.52\n",
      "drawdown_annualized_return                                   -4.69\n",
      "max_intra_day_drawdown                                      -32.81\n",
      "avg_yearly_closed_out_drawdown                              -12.55\n",
      "max_yearly_closed_out_drawdown                              -25.17\n",
      "avg_monthly_closed_out_drawdown                              -2.63\n",
      "max_monthly_closed_out_drawdown                             -17.70\n",
      "avg_weekly_closed_out_drawdown                               -0.89\n",
      "max_weekly_closed_out_drawdown                              -13.18\n",
      "avg_yearly_closed_out_runup                                  19.33\n",
      "max_yearly_closed_out_runup                                  57.35\n",
      "avg_monthly_closed_out_runup                                  3.14\n",
      "max_monthly_closed_out_runup                                 22.97\n",
      "avg_weekly_closed_out_runup                                   1.06\n",
      "max_weekly_closed_out_runup                                  13.95\n",
      "pct_profitable_years                                         52.88\n",
      "best_year                                                    57.35\n",
      "worst_year                                                  -21.20\n",
      "avg_year                                                      6.50\n",
      "annual_std                                                   15.44\n",
      "pct_profitable_months                                        31.34\n",
      "best_month                                                   22.97\n",
      "worst_month                                                 -17.70\n",
      "avg_month                                                     0.61\n",
      "monthly_std                                                   3.99\n",
      "pct_profitable_weeks                                         21.63\n",
      "best_week                                                    13.95\n",
      "worst_week                                                  -13.18\n",
      "avg_week                                                      0.16\n",
      "weekly_std                                                    2.36\n",
      "sharpe_ratio                                                  0.46\n",
      "sortino_ratio                                                 0.38\n",
      "dtype: object\n"
     ]
    }
   ],
   "source": [
    "pf.print_full(stats)"
   ]
  },
  {
   "cell_type": "markdown",
   "metadata": {},
   "source": [
    "Equity curve"
   ]
  },
  {
   "cell_type": "markdown",
   "metadata": {},
   "source": [
    "Run Benchmark, Retrieve benchmark logs, and Generate benchmark stats"
   ]
  },
  {
   "cell_type": "code",
   "execution_count": 11,
   "metadata": {
    "ExecuteTime": {
     "end_time": "2020-02-17T03:34:21.152126Z",
     "start_time": "2020-02-17T03:34:20.648640Z"
    }
   },
   "outputs": [
    {
     "name": "stdout",
     "output_type": "stream",
     "text": [
      "2007-03-08 00:00:00 BUY  260 GDX @ 38.35\n",
      "2020-02-14 00:00:00 SELL 260 GDX @ 28.31\n"
     ]
    }
   ],
   "source": [
    "benchmark = pf.Benchmark(symbol, capital, s._start, s._end)\n",
    "benchmark.run()\n",
    "benchmark.tlog, benchmark.dbal = benchmark.get_logs()\n",
    "benchmark.stats = benchmark.get_stats()"
   ]
  },
  {
   "cell_type": "markdown",
   "metadata": {},
   "source": [
    "Plot Equity Curves: Strategy vs Benchmark"
   ]
  },
  {
   "cell_type": "code",
   "execution_count": 12,
   "metadata": {
    "ExecuteTime": {
     "end_time": "2020-02-17T03:34:21.451911Z",
     "start_time": "2020-02-17T03:34:21.161066Z"
    }
   },
   "outputs": [
    {
     "data": {
      "image/png": "[encoded data removed]",
      "text/plain": [
       "<Figure size 720x504 with 1 Axes>"
      ]
     },
     "metadata": {
      "needs_background": "light"
     },
     "output_type": "display_data"
    }
   ],
   "source": [
    "pf.plot_equity_curve(dbal, benchmark=benchmark.dbal)"
   ]
  },
  {
   "cell_type": "markdown",
   "metadata": {},
   "source": [
    "Plot Trades"
   ]
  },
  {
   "cell_type": "code",
   "execution_count": 13,
   "metadata": {
    "ExecuteTime": {
     "end_time": "2020-02-17T03:34:21.769134Z",
     "start_time": "2020-02-17T03:34:21.459267Z"
    }
   },
   "outputs": [
    {
     "data": {
      "image/png": "[encoded data removed]",
      "text/plain": [
       "<Figure size 720x504 with 1 Axes>"
      ]
     },
     "metadata": {
      "needs_background": "light"
     },
     "output_type": "display_data"
    }
   ],
   "source": [
    "pf.plot_trades(dbal, benchmark=benchmark.dbal)"
   ]
  },
  {
   "cell_type": "markdown",
   "metadata": {},
   "source": [
    "Bar Graph: Strategy vs Benchmark"
   ]
  },
  {
   "cell_type": "code",
   "execution_count": 14,
   "metadata": {
    "ExecuteTime": {
     "end_time": "2020-02-17T03:34:22.133953Z",
     "start_time": "2020-02-17T03:34:21.774480Z"
    }
   },
   "outputs": [
    {
     "data": {
      "text/html": [
       "<div>\n",
       "<style scoped>\n",
       "    .dataframe tbody tr th:only-of-type {\n",
       "        vertical-align: middle;\n",
       "    }\n",
       "\n",
       "    .dataframe tbody tr th {\n",
       "        vertical-align: top;\n",
       "    }\n",
       "\n",
       "    .dataframe thead th {\n",
       "        text-align: right;\n",
       "    }\n",
       "</style>\n",
       "<table border=\"1\" class=\"dataframe\">\n",
       "  <thead>\n",
       "    <tr style=\"text-align: right;\">\n",
       "      <th></th>\n",
       "      <th>strategy</th>\n",
       "      <th>benchmark</th>\n",
       "    </tr>\n",
       "  </thead>\n",
       "  <tbody>\n",
       "    <tr>\n",
       "      <th>annual_return_rate</th>\n",
       "      <td>6.86</td>\n",
       "      <td>-2.31</td>\n",
       "    </tr>\n",
       "    <tr>\n",
       "      <th>max_closed_out_drawdown</th>\n",
       "      <td>-32.14</td>\n",
       "      <td>-81.15</td>\n",
       "    </tr>\n",
       "    <tr>\n",
       "      <th>drawdown_annualized_return</th>\n",
       "      <td>-4.69</td>\n",
       "      <td>35.12</td>\n",
       "    </tr>\n",
       "    <tr>\n",
       "      <th>drawdown_recovery</th>\n",
       "      <td>-3.52</td>\n",
       "      <td>-4.36</td>\n",
       "    </tr>\n",
       "    <tr>\n",
       "      <th>best_month</th>\n",
       "      <td>22.97</td>\n",
       "      <td>67.61</td>\n",
       "    </tr>\n",
       "    <tr>\n",
       "      <th>worst_month</th>\n",
       "      <td>-17.70</td>\n",
       "      <td>-52.01</td>\n",
       "    </tr>\n",
       "    <tr>\n",
       "      <th>sharpe_ratio</th>\n",
       "      <td>0.46</td>\n",
       "      <td>0.15</td>\n",
       "    </tr>\n",
       "    <tr>\n",
       "      <th>sortino_ratio</th>\n",
       "      <td>0.38</td>\n",
       "      <td>0.23</td>\n",
       "    </tr>\n",
       "    <tr>\n",
       "      <th>monthly_std</th>\n",
       "      <td>3.99</td>\n",
       "      <td>10.61</td>\n",
       "    </tr>\n",
       "  </tbody>\n",
       "</table>\n",
       "</div>"
      ],
      "text/plain": [
       "                            strategy  benchmark\n",
       "annual_return_rate              6.86      -2.31\n",
       "max_closed_out_drawdown       -32.14     -81.15\n",
       "drawdown_annualized_return     -4.69      35.12\n",
       "drawdown_recovery              -3.52      -4.36\n",
       "best_month                     22.97      67.61\n",
       "worst_month                   -17.70     -52.01\n",
       "sharpe_ratio                    0.46       0.15\n",
       "sortino_ratio                   0.38       0.23\n",
       "monthly_std                     3.99      10.61"
      ]
     },
     "execution_count": 14,
     "metadata": {},
     "output_type": "execute_result"
    },
    {
     "data": {
      "image/png": "[encoded data removed]",
      "text/plain": [
       "<Figure size 720x504 with 1 Axes>"
      ]
     },
     "metadata": {
      "needs_background": "light"
     },
     "output_type": "display_data"
    }
   ],
   "source": [
    "metrics = ('annual_return_rate',\n",
    "           'max_closed_out_drawdown',\n",
    "           'drawdown_annualized_return',\n",
    "           'drawdown_recovery',\n",
    "           'best_month',\n",
    "           'worst_month',\n",
    "           'sharpe_ratio',\n",
    "           'sortino_ratio',\n",
    "           'monthly_std')\n",
    "\n",
    "df = pf.plot_bar_graph(stats, benchmark.stats, *metrics)\n",
    "df"
   ]
  },
  {
   "cell_type": "code",
   "execution_count": null,
   "metadata": {},
   "outputs": [],
   "source": []
  }
 ],
 "metadata": {
  "kernelspec": {
   "display_name": "Python 2",
   "language": "python",
   "name": "python2"
  },
  "language_info": {
   "codemirror_mode": {
    "name": "ipython",
    "version": 2
   },
   "file_extension": ".py",
   "mimetype": "text/x-python",
   "name": "python",
   "nbconvert_exporter": "python",
   "pygments_lexer": "ipython2",
   "version": "2.7.15+"
  },
  "latex_envs": {
   "LaTeX_envs_menu_present": true,
   "autoclose": false,
   "autocomplete": true,
   "bibliofile": "biblio.bib",
   "cite_by": "apalike",
   "current_citInitial": 1,
   "eqLabelWithNumbers": true,
   "eqNumInitial": 1,
   "hotkeys": {
    "equation": "Ctrl-E",
    "itemize": "Ctrl-I"
   },
   "labels_anchors": false,
   "latex_user_defs": false,
   "report_style_numbering": false,
   "user_envs_cfg": false
  }
 },
 "nbformat": 4,
 "nbformat_minor": 1
}
