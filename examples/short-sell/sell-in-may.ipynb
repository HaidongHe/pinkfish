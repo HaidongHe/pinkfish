{
 "cells": [
  {
   "cell_type": "markdown",
   "metadata": {},
   "source": [
    "# sell-short-in-may-and-go-away\n",
    "\n",
    "see: https://en.wikipedia.org/wiki/Sell_in_May\n",
    "\n",
    "algo  - Sell short in May and go away, buy to cover in Nov  \n",
    "algo2 - first trading day of the month, adjust position to 50%  \n",
    "(select the one you want to call in the Strategy.run() function"
   ]
  },
  {
   "cell_type": "code",
   "execution_count": 1,
   "metadata": {
    "ExecuteTime": {
     "end_time": "2020-02-17T03:41:59.416311Z",
     "start_time": "2020-02-17T03:41:58.377375Z"
    }
   },
   "outputs": [],
   "source": [
    "import pandas as pd\n",
    "import matplotlib.pyplot as plt\n",
    "import datetime\n",
    "from talib.abstract import *\n",
    "\n",
    "import pinkfish as pf\n",
    "\n",
    "# format price data\n",
    "pd.options.display.float_format = '{:0.2f}'.format\n",
    "\n",
    "%matplotlib inline"
   ]
  },
  {
   "cell_type": "code",
   "execution_count": 2,
   "metadata": {
    "ExecuteTime": {
     "end_time": "2020-02-17T03:41:59.432971Z",
     "start_time": "2020-02-17T03:41:59.426278Z"
    }
   },
   "outputs": [],
   "source": [
    "# set size of inline plots\n",
    "'''note: rcParams can't be in same cell as import matplotlib\n",
    "   or %matplotlib inline\n",
    "   \n",
    "   %matplotlib notebook: will lead to interactive plots embedded within\n",
    "   the notebook, you can zoom and resize the figure\n",
    "   \n",
    "   %matplotlib inline: only draw static images in the notebook\n",
    "'''\n",
    "plt.rcParams[\"figure.figsize\"] = (10, 7)"
   ]
  },
  {
   "cell_type": "code",
   "execution_count": 3,
   "metadata": {
    "ExecuteTime": {
     "end_time": "2020-02-17T03:41:59.444369Z",
     "start_time": "2020-02-17T03:41:59.437040Z"
    }
   },
   "outputs": [],
   "source": [
    "pf.DEBUG = False"
   ]
  },
  {
   "cell_type": "markdown",
   "metadata": {},
   "source": [
    "Some global data"
   ]
  },
  {
   "cell_type": "code",
   "execution_count": 4,
   "metadata": {
    "ExecuteTime": {
     "end_time": "2020-02-17T03:41:59.454422Z",
     "start_time": "2020-02-17T03:41:59.447859Z"
    }
   },
   "outputs": [],
   "source": [
    "#symbol = '^GSPC'\n",
    "symbol = 'SPY'\n",
    "capital = 10000\n",
    "start = datetime.datetime(2015, 10, 30)\n",
    "#start = datetime.datetime.strptime(pf.SP500_BEGIN, '%Y-%m-%d')\n",
    "end = datetime.datetime.now()"
   ]
  },
  {
   "cell_type": "markdown",
   "metadata": {},
   "source": [
    "Define Strategy Class"
   ]
  },
  {
   "cell_type": "code",
   "execution_count": 5,
   "metadata": {
    "ExecuteTime": {
     "end_time": "2020-02-17T03:41:59.538335Z",
     "start_time": "2020-02-17T03:41:59.457371Z"
    }
   },
   "outputs": [],
   "source": [
    "class Strategy:\n",
    "\n",
    "    def __init__(self, symbol, capital, start, end):\n",
    "        self._symbol = symbol\n",
    "        self._capital = capital\n",
    "        self._start = start\n",
    "        self._end = end\n",
    "\n",
    "    def _algo(self):\n",
    "        pf.TradeLog.cash = self._capital\n",
    "\n",
    "        for i, row in enumerate(self._ts.itertuples()):\n",
    "\n",
    "            date = row.Index.to_pydatetime()\n",
    "            high = row.high; low = row.low; close = row.close; \n",
    "            end_flag = pf.is_last_row(self._ts, i)\n",
    "            shares = 0\n",
    "\n",
    "            # buy to cover (at the open on first trading day in Nov)\n",
    "            if (self._tlog.shares > 0\n",
    "                and row.month == 11 and row.first_dotm or end_flag):\n",
    "                shares = self._tlog.buy2cover(date, row.open)\n",
    "\n",
    "            # sell short (at the open on first trading day in May)\n",
    "            elif (self._tlog.shares == 0\n",
    "                  and row.month == 5 and row.first_dotm):\n",
    "                shares = self._tlog.sell_short(date, row.open)\n",
    "\n",
    "            if shares > 0:\n",
    "                pf.DBG(\"{0} SELL SHORT  {1} {2} @ {3:.2f}\".format(\n",
    "                       date, shares, self._symbol, row.open))\n",
    "            elif shares < 0:\n",
    "                pf.DBG(\"{0} BUY TO COVER {1} {2} @ {3:.2f}\".format(\n",
    "                       date, -shares, self._symbol, row.open))\n",
    "            # record daily balance\n",
    "            self._dbal.append(date, high, low, close)\n",
    "\n",
    "    def _algo2(self):\n",
    "        pf.TradeLog.cash = self._capital\n",
    "\n",
    "        for i, row in enumerate(self._ts.itertuples()):\n",
    "\n",
    "            date = row.Index.to_pydatetime()\n",
    "            high = row.high; low = row.low; close = row.close; \n",
    "            end_flag = pf.is_last_row(self._ts, i)\n",
    "            shares = 0\n",
    "\n",
    "            # on the first day of the month, adjust short position to 50%\n",
    "            if (row.first_dotm or end_flag):\n",
    "                weight = 0 if end_flag else 0.5\n",
    "                self._tlog.adjust_percent(date, close, weight, pf.Direction.SHORT)\n",
    "\n",
    "            # record daily balance\n",
    "            self._dbal.append(date, high, low, close)\n",
    "\n",
    "    def run(self):\n",
    "        self._ts = pf.fetch_timeseries(self._symbol)\n",
    "        self._ts = pf.select_tradeperiod(self._ts, self._start, self._end,\n",
    "                                         use_adj=True)\n",
    "        # add calendar columns\n",
    "        self._ts = pf.calendar(self._ts)\n",
    "        \n",
    "        self._tlog = pf.TradeLog(self._symbol)\n",
    "        self._dbal = pf.DailyBal()\n",
    "        \n",
    "        self._ts, self._start = pf.finalize_timeseries(self._ts, self._start)\n",
    "\n",
    "        self._algo()\n",
    "        #self._algo2()\n",
    "\n",
    "    def get_logs(self):\n",
    "        \"\"\" return DataFrames \"\"\"\n",
    "        self.rlog = self._tlog.get_log_raw()\n",
    "        self.tlog = self._tlog.get_log()\n",
    "        self.dbal = self._dbal.get_log(self.tlog)\n",
    "        return self.rlog, self.tlog, self.dbal\n",
    "\n",
    "    def get_stats(self):\n",
    "        stats = pf.stats(self._ts, self.tlog, self.dbal, self._capital)\n",
    "        return stats"
   ]
  },
  {
   "cell_type": "markdown",
   "metadata": {},
   "source": [
    "Run Strategy"
   ]
  },
  {
   "cell_type": "code",
   "execution_count": 6,
   "metadata": {
    "ExecuteTime": {
     "end_time": "2020-02-17T03:42:00.914179Z",
     "start_time": "2020-02-17T03:41:59.549227Z"
    },
    "scrolled": false
   },
   "outputs": [],
   "source": [
    "s = Strategy(symbol, capital, start, end)\n",
    "s.run()"
   ]
  },
  {
   "cell_type": "markdown",
   "metadata": {},
   "source": [
    "Retrieve log DataFrames"
   ]
  },
  {
   "cell_type": "code",
   "execution_count": 7,
   "metadata": {
    "ExecuteTime": {
     "end_time": "2020-02-17T03:42:02.701765Z",
     "start_time": "2020-02-17T03:42:00.923528Z"
    }
   },
   "outputs": [],
   "source": [
    "rlog, tlog, dbal = s.get_logs()\n",
    "stats = s.get_stats()"
   ]
  },
  {
   "cell_type": "code",
   "execution_count": 8,
   "metadata": {
    "ExecuteTime": {
     "end_time": "2020-02-17T03:42:02.745231Z",
     "start_time": "2020-02-17T03:42:02.712511Z"
    }
   },
   "outputs": [
    {
     "data": {
      "text/html": [
       "<div>\n",
       "<style scoped>\n",
       "    .dataframe tbody tr th:only-of-type {\n",
       "        vertical-align: middle;\n",
       "    }\n",
       "\n",
       "    .dataframe tbody tr th {\n",
       "        vertical-align: top;\n",
       "    }\n",
       "\n",
       "    .dataframe thead th {\n",
       "        text-align: right;\n",
       "    }\n",
       "</style>\n",
       "<table border=\"1\" class=\"dataframe\">\n",
       "  <thead>\n",
       "    <tr style=\"text-align: right;\">\n",
       "      <th></th>\n",
       "      <th>date</th>\n",
       "      <th>price</th>\n",
       "      <th>shares</th>\n",
       "      <th>entry_exit</th>\n",
       "      <th>direction</th>\n",
       "      <th>symbol</th>\n",
       "    </tr>\n",
       "  </thead>\n",
       "  <tbody>\n",
       "    <tr>\n",
       "      <th>0</th>\n",
       "      <td>2016-05-02</td>\n",
       "      <td>190.40</td>\n",
       "      <td>52</td>\n",
       "      <td>entry</td>\n",
       "      <td>SHRT</td>\n",
       "      <td>SPY</td>\n",
       "    </tr>\n",
       "    <tr>\n",
       "      <th>1</th>\n",
       "      <td>2016-11-01</td>\n",
       "      <td>197.95</td>\n",
       "      <td>52</td>\n",
       "      <td>exit</td>\n",
       "      <td>SHRT</td>\n",
       "      <td>SPY</td>\n",
       "    </tr>\n",
       "    <tr>\n",
       "      <th>2</th>\n",
       "      <td>2017-05-01</td>\n",
       "      <td>224.16</td>\n",
       "      <td>42</td>\n",
       "      <td>entry</td>\n",
       "      <td>SHRT</td>\n",
       "      <td>SPY</td>\n",
       "    </tr>\n",
       "    <tr>\n",
       "      <th>3</th>\n",
       "      <td>2017-11-01</td>\n",
       "      <td>244.74</td>\n",
       "      <td>42</td>\n",
       "      <td>exit</td>\n",
       "      <td>SHRT</td>\n",
       "      <td>SPY</td>\n",
       "    </tr>\n",
       "    <tr>\n",
       "      <th>4</th>\n",
       "      <td>2018-05-01</td>\n",
       "      <td>252.55</td>\n",
       "      <td>34</td>\n",
       "      <td>entry</td>\n",
       "      <td>SHRT</td>\n",
       "      <td>SPY</td>\n",
       "    </tr>\n",
       "    <tr>\n",
       "      <th>5</th>\n",
       "      <td>2018-11-01</td>\n",
       "      <td>262.30</td>\n",
       "      <td>34</td>\n",
       "      <td>exit</td>\n",
       "      <td>SHRT</td>\n",
       "      <td>SPY</td>\n",
       "    </tr>\n",
       "    <tr>\n",
       "      <th>6</th>\n",
       "      <td>2019-05-01</td>\n",
       "      <td>287.55</td>\n",
       "      <td>29</td>\n",
       "      <td>entry</td>\n",
       "      <td>SHRT</td>\n",
       "      <td>SPY</td>\n",
       "    </tr>\n",
       "    <tr>\n",
       "      <th>7</th>\n",
       "      <td>2019-11-01</td>\n",
       "      <td>300.33</td>\n",
       "      <td>29</td>\n",
       "      <td>exit</td>\n",
       "      <td>SHRT</td>\n",
       "      <td>SPY</td>\n",
       "    </tr>\n",
       "    <tr>\n",
       "      <th>8</th>\n",
       "      <td>2020-05-01</td>\n",
       "      <td>284.06</td>\n",
       "      <td>28</td>\n",
       "      <td>entry</td>\n",
       "      <td>SHRT</td>\n",
       "      <td>SPY</td>\n",
       "    </tr>\n",
       "    <tr>\n",
       "      <th>9</th>\n",
       "      <td>2020-07-15</td>\n",
       "      <td>322.41</td>\n",
       "      <td>28</td>\n",
       "      <td>exit</td>\n",
       "      <td>SHRT</td>\n",
       "      <td>SPY</td>\n",
       "    </tr>\n",
       "  </tbody>\n",
       "</table>\n",
       "</div>"
      ],
      "text/plain": [
       "        date  price  shares entry_exit direction symbol\n",
       "0 2016-05-02 190.40      52      entry      SHRT    SPY\n",
       "1 2016-11-01 197.95      52       exit      SHRT    SPY\n",
       "2 2017-05-01 224.16      42      entry      SHRT    SPY\n",
       "3 2017-11-01 244.74      42       exit      SHRT    SPY\n",
       "4 2018-05-01 252.55      34      entry      SHRT    SPY\n",
       "5 2018-11-01 262.30      34       exit      SHRT    SPY\n",
       "6 2019-05-01 287.55      29      entry      SHRT    SPY\n",
       "7 2019-11-01 300.33      29       exit      SHRT    SPY\n",
       "8 2020-05-01 284.06      28      entry      SHRT    SPY\n",
       "9 2020-07-15 322.41      28       exit      SHRT    SPY"
      ]
     },
     "execution_count": 8,
     "metadata": {},
     "output_type": "execute_result"
    }
   ],
   "source": [
    "rlog.head(10)"
   ]
  },
  {
   "cell_type": "code",
   "execution_count": 9,
   "metadata": {
    "ExecuteTime": {
     "end_time": "2020-02-17T03:42:02.785222Z",
     "start_time": "2020-02-17T03:42:02.751230Z"
    },
    "scrolled": false
   },
   "outputs": [
    {
     "data": {
      "text/html": [
       "<div>\n",
       "<style scoped>\n",
       "    .dataframe tbody tr th:only-of-type {\n",
       "        vertical-align: middle;\n",
       "    }\n",
       "\n",
       "    .dataframe tbody tr th {\n",
       "        vertical-align: top;\n",
       "    }\n",
       "\n",
       "    .dataframe thead th {\n",
       "        text-align: right;\n",
       "    }\n",
       "</style>\n",
       "<table border=\"1\" class=\"dataframe\">\n",
       "  <thead>\n",
       "    <tr style=\"text-align: right;\">\n",
       "      <th></th>\n",
       "      <th>entry_date</th>\n",
       "      <th>entry_price</th>\n",
       "      <th>exit_date</th>\n",
       "      <th>exit_price</th>\n",
       "      <th>pl_points</th>\n",
       "      <th>pl_cash</th>\n",
       "      <th>qty</th>\n",
       "      <th>cumul_total</th>\n",
       "      <th>direction</th>\n",
       "      <th>symbol</th>\n",
       "    </tr>\n",
       "  </thead>\n",
       "  <tbody>\n",
       "    <tr>\n",
       "      <th>0</th>\n",
       "      <td>2016-05-02</td>\n",
       "      <td>190.40</td>\n",
       "      <td>2016-11-01</td>\n",
       "      <td>197.95</td>\n",
       "      <td>-7.54</td>\n",
       "      <td>-392.29</td>\n",
       "      <td>52</td>\n",
       "      <td>-392.29</td>\n",
       "      <td>SHRT</td>\n",
       "      <td>SPY</td>\n",
       "    </tr>\n",
       "    <tr>\n",
       "      <th>1</th>\n",
       "      <td>2017-05-01</td>\n",
       "      <td>224.16</td>\n",
       "      <td>2017-11-01</td>\n",
       "      <td>244.74</td>\n",
       "      <td>-20.57</td>\n",
       "      <td>-864.07</td>\n",
       "      <td>42</td>\n",
       "      <td>-1256.36</td>\n",
       "      <td>SHRT</td>\n",
       "      <td>SPY</td>\n",
       "    </tr>\n",
       "    <tr>\n",
       "      <th>2</th>\n",
       "      <td>2018-05-01</td>\n",
       "      <td>252.55</td>\n",
       "      <td>2018-11-01</td>\n",
       "      <td>262.30</td>\n",
       "      <td>-9.75</td>\n",
       "      <td>-331.43</td>\n",
       "      <td>34</td>\n",
       "      <td>-1587.79</td>\n",
       "      <td>SHRT</td>\n",
       "      <td>SPY</td>\n",
       "    </tr>\n",
       "    <tr>\n",
       "      <th>3</th>\n",
       "      <td>2019-05-01</td>\n",
       "      <td>287.55</td>\n",
       "      <td>2019-11-01</td>\n",
       "      <td>300.33</td>\n",
       "      <td>-12.78</td>\n",
       "      <td>-370.61</td>\n",
       "      <td>29</td>\n",
       "      <td>-1958.39</td>\n",
       "      <td>SHRT</td>\n",
       "      <td>SPY</td>\n",
       "    </tr>\n",
       "    <tr>\n",
       "      <th>4</th>\n",
       "      <td>2020-05-01</td>\n",
       "      <td>284.06</td>\n",
       "      <td>2020-07-15</td>\n",
       "      <td>322.41</td>\n",
       "      <td>-38.35</td>\n",
       "      <td>-1073.80</td>\n",
       "      <td>28</td>\n",
       "      <td>-3032.19</td>\n",
       "      <td>SHRT</td>\n",
       "      <td>SPY</td>\n",
       "    </tr>\n",
       "  </tbody>\n",
       "</table>\n",
       "</div>"
      ],
      "text/plain": [
       "  entry_date  entry_price  exit_date  exit_price  pl_points  pl_cash  qty  \\\n",
       "0 2016-05-02       190.40 2016-11-01      197.95      -7.54  -392.29   52   \n",
       "1 2017-05-01       224.16 2017-11-01      244.74     -20.57  -864.07   42   \n",
       "2 2018-05-01       252.55 2018-11-01      262.30      -9.75  -331.43   34   \n",
       "3 2019-05-01       287.55 2019-11-01      300.33     -12.78  -370.61   29   \n",
       "4 2020-05-01       284.06 2020-07-15      322.41     -38.35 -1073.80   28   \n",
       "\n",
       "   cumul_total direction symbol  \n",
       "0      -392.29      SHRT    SPY  \n",
       "1     -1256.36      SHRT    SPY  \n",
       "2     -1587.79      SHRT    SPY  \n",
       "3     -1958.39      SHRT    SPY  \n",
       "4     -3032.19      SHRT    SPY  "
      ]
     },
     "execution_count": 9,
     "metadata": {},
     "output_type": "execute_result"
    }
   ],
   "source": [
    "tlog.head(10)"
   ]
  },
  {
   "cell_type": "code",
   "execution_count": 10,
   "metadata": {
    "ExecuteTime": {
     "end_time": "2020-02-17T03:42:02.820218Z",
     "start_time": "2020-02-17T03:42:02.789185Z"
    },
    "scrolled": false
   },
   "outputs": [
    {
     "data": {
      "text/html": [
       "<div>\n",
       "<style scoped>\n",
       "    .dataframe tbody tr th:only-of-type {\n",
       "        vertical-align: middle;\n",
       "    }\n",
       "\n",
       "    .dataframe tbody tr th {\n",
       "        vertical-align: top;\n",
       "    }\n",
       "\n",
       "    .dataframe thead th {\n",
       "        text-align: right;\n",
       "    }\n",
       "</style>\n",
       "<table border=\"1\" class=\"dataframe\">\n",
       "  <thead>\n",
       "    <tr style=\"text-align: right;\">\n",
       "      <th></th>\n",
       "      <th>high</th>\n",
       "      <th>low</th>\n",
       "      <th>close</th>\n",
       "      <th>shares</th>\n",
       "      <th>cash</th>\n",
       "      <th>leverage</th>\n",
       "      <th>state</th>\n",
       "    </tr>\n",
       "    <tr>\n",
       "      <th>date</th>\n",
       "      <th></th>\n",
       "      <th></th>\n",
       "      <th></th>\n",
       "      <th></th>\n",
       "      <th></th>\n",
       "      <th></th>\n",
       "      <th></th>\n",
       "    </tr>\n",
       "  </thead>\n",
       "  <tbody>\n",
       "    <tr>\n",
       "      <th>2020-07-01</th>\n",
       "      <td>7341.33</td>\n",
       "      <td>7262.37</td>\n",
       "      <td>7300.73</td>\n",
       "      <td>28</td>\n",
       "      <td>87.93</td>\n",
       "      <td>1.00</td>\n",
       "      <td>-</td>\n",
       "    </tr>\n",
       "    <tr>\n",
       "      <th>2020-07-02</th>\n",
       "      <td>7273.01</td>\n",
       "      <td>7155.69</td>\n",
       "      <td>7252.85</td>\n",
       "      <td>28</td>\n",
       "      <td>87.93</td>\n",
       "      <td>1.00</td>\n",
       "      <td>-</td>\n",
       "    </tr>\n",
       "    <tr>\n",
       "      <th>2020-07-06</th>\n",
       "      <td>7159.61</td>\n",
       "      <td>7100.25</td>\n",
       "      <td>7117.89</td>\n",
       "      <td>28</td>\n",
       "      <td>87.93</td>\n",
       "      <td>1.00</td>\n",
       "      <td>-</td>\n",
       "    </tr>\n",
       "    <tr>\n",
       "      <th>2020-07-07</th>\n",
       "      <td>7220.93</td>\n",
       "      <td>7104.73</td>\n",
       "      <td>7209.45</td>\n",
       "      <td>28</td>\n",
       "      <td>87.93</td>\n",
       "      <td>1.00</td>\n",
       "      <td>-</td>\n",
       "    </tr>\n",
       "    <tr>\n",
       "      <th>2020-07-08</th>\n",
       "      <td>7239.69</td>\n",
       "      <td>7138.89</td>\n",
       "      <td>7142.25</td>\n",
       "      <td>28</td>\n",
       "      <td>87.93</td>\n",
       "      <td>1.00</td>\n",
       "      <td>-</td>\n",
       "    </tr>\n",
       "    <tr>\n",
       "      <th>2020-07-09</th>\n",
       "      <td>7296.25</td>\n",
       "      <td>7116.49</td>\n",
       "      <td>7192.65</td>\n",
       "      <td>28</td>\n",
       "      <td>87.93</td>\n",
       "      <td>1.00</td>\n",
       "      <td>-</td>\n",
       "    </tr>\n",
       "    <tr>\n",
       "      <th>2020-07-10</th>\n",
       "      <td>7238.01</td>\n",
       "      <td>7094.65</td>\n",
       "      <td>7102.77</td>\n",
       "      <td>28</td>\n",
       "      <td>87.93</td>\n",
       "      <td>1.00</td>\n",
       "      <td>-</td>\n",
       "    </tr>\n",
       "    <tr>\n",
       "      <th>2020-07-13</th>\n",
       "      <td>7199.65</td>\n",
       "      <td>6959.41</td>\n",
       "      <td>7179.77</td>\n",
       "      <td>28</td>\n",
       "      <td>87.93</td>\n",
       "      <td>1.00</td>\n",
       "      <td>-</td>\n",
       "    </tr>\n",
       "    <tr>\n",
       "      <th>2020-07-14</th>\n",
       "      <td>7259.29</td>\n",
       "      <td>7042.01</td>\n",
       "      <td>7065.53</td>\n",
       "      <td>28</td>\n",
       "      <td>87.93</td>\n",
       "      <td>1.00</td>\n",
       "      <td>-</td>\n",
       "    </tr>\n",
       "    <tr>\n",
       "      <th>2020-07-15</th>\n",
       "      <td>6967.81</td>\n",
       "      <td>6967.81</td>\n",
       "      <td>6967.81</td>\n",
       "      <td>0</td>\n",
       "      <td>6967.81</td>\n",
       "      <td>1.00</td>\n",
       "      <td>X</td>\n",
       "    </tr>\n",
       "  </tbody>\n",
       "</table>\n",
       "</div>"
      ],
      "text/plain": [
       "              high     low   close  shares    cash  leverage state\n",
       "date                                                              \n",
       "2020-07-01 7341.33 7262.37 7300.73      28   87.93      1.00     -\n",
       "2020-07-02 7273.01 7155.69 7252.85      28   87.93      1.00     -\n",
       "2020-07-06 7159.61 7100.25 7117.89      28   87.93      1.00     -\n",
       "2020-07-07 7220.93 7104.73 7209.45      28   87.93      1.00     -\n",
       "2020-07-08 7239.69 7138.89 7142.25      28   87.93      1.00     -\n",
       "2020-07-09 7296.25 7116.49 7192.65      28   87.93      1.00     -\n",
       "2020-07-10 7238.01 7094.65 7102.77      28   87.93      1.00     -\n",
       "2020-07-13 7199.65 6959.41 7179.77      28   87.93      1.00     -\n",
       "2020-07-14 7259.29 7042.01 7065.53      28   87.93      1.00     -\n",
       "2020-07-15 6967.81 6967.81 6967.81       0 6967.81      1.00     X"
      ]
     },
     "execution_count": 10,
     "metadata": {},
     "output_type": "execute_result"
    }
   ],
   "source": [
    "dbal.tail(10)"
   ]
  },
  {
   "cell_type": "code",
   "execution_count": 11,
   "metadata": {
    "ExecuteTime": {
     "end_time": "2020-02-17T03:42:02.862277Z",
     "start_time": "2020-02-17T03:42:02.826576Z"
    },
    "scrolled": false
   },
   "outputs": [
    {
     "name": "stdout",
     "output_type": "stream",
     "text": [
      "start                                                  2015-10-30\n",
      "end                                                    2020-07-15\n",
      "beginning_balance                                           10000\n",
      "ending_balance                                            6967.81\n",
      "total_net_profit                                         -3032.19\n",
      "gross_profit                                                 0.00\n",
      "gross_loss                                               -3032.19\n",
      "profit_factor                                                   0\n",
      "return_on_initial_capital                                  -30.32\n",
      "annual_return_rate                                          -7.38\n",
      "trading_period                           4 years 8 months 15 days\n",
      "pct_time_in_market                                          47.89\n",
      "margin                                                          1\n",
      "avg_leverage                                                 1.00\n",
      "max_leverage                                                 1.00\n",
      "min_leverage                                                 1.00\n",
      "total_num_trades                                                5\n",
      "trades_per_year                                              1.06\n",
      "num_winning_trades                                              0\n",
      "num_losing_trades                                               5\n",
      "num_even_trades                                                 0\n",
      "pct_profitable_trades                                        0.00\n",
      "avg_profit_per_trade                                      -606.44\n",
      "avg_profit_per_winning_trade                                    0\n",
      "avg_loss_per_losing_trade                                 -606.44\n",
      "ratio_avg_profit_win_loss                                       0\n",
      "largest_profit_winning_trade                                    0\n",
      "largest_loss_losing_trade                                -1073.80\n",
      "num_winning_points                                              0\n",
      "num_losing_points                                          -88.99\n",
      "total_net_points                                           -88.99\n",
      "avg_points                                                 -17.80\n",
      "largest_points_winning_trade                                    0\n",
      "largest_points_losing_trade                                -38.35\n",
      "avg_pct_gain_per_trade                                      -6.99\n",
      "largest_pct_winning_trade                                       0\n",
      "largest_pct_losing_trade                                   -13.50\n",
      "max_consecutive_winning_trades                                  0\n",
      "max_consecutive_losing_trades                                   5\n",
      "avg_bars_winning_trades                                         0\n",
      "avg_bars_losing_trades                                     114.20\n",
      "max_closed_out_drawdown                                    -32.36\n",
      "max_closed_out_drawdown_start_date                     2016-06-27\n",
      "max_closed_out_drawdown_end_date                       2020-07-15\n",
      "max_closed_out_drawdown_recovery_date           Not Recovered Yet\n",
      "drawdown_recovery                                           -4.05\n",
      "drawdown_annualized_return                                   4.38\n",
      "max_intra_day_drawdown                                     -32.74\n",
      "avg_yearly_closed_out_drawdown                              -9.04\n",
      "max_yearly_closed_out_drawdown                             -19.74\n",
      "avg_monthly_closed_out_drawdown                             -1.73\n",
      "max_monthly_closed_out_drawdown                            -14.24\n",
      "avg_weekly_closed_out_drawdown                              -0.66\n",
      "max_weekly_closed_out_drawdown                              -6.58\n",
      "avg_yearly_closed_out_runup                                  6.07\n",
      "max_yearly_closed_out_runup                                 16.14\n",
      "avg_monthly_closed_out_runup                                 1.41\n",
      "max_monthly_closed_out_runup                                11.81\n",
      "avg_weekly_closed_out_runup                                  0.55\n",
      "max_weekly_closed_out_runup                                  9.02\n",
      "pct_profitable_years                                        11.16\n",
      "best_year                                                    9.96\n",
      "worst_year                                                 -18.89\n",
      "avg_year                                                    -5.24\n",
      "annual_std                                                   4.90\n",
      "pct_profitable_months                                       17.61\n",
      "best_month                                                  11.81\n",
      "worst_month                                                -11.26\n",
      "avg_month                                                   -0.52\n",
      "monthly_std                                                  2.20\n",
      "pct_profitable_weeks                                        18.83\n",
      "best_week                                                    7.25\n",
      "worst_week                                                  -6.58\n",
      "avg_week                                                    -0.14\n",
      "weekly_std                                                   1.19\n",
      "sharpe_ratio                                                -0.76\n",
      "sortino_ratio                                               -0.90\n",
      "dtype: object\n"
     ]
    }
   ],
   "source": [
    "pf.print_full(stats)"
   ]
  },
  {
   "cell_type": "markdown",
   "metadata": {},
   "source": [
    "Run Benchmark, Retrieve benchmark logs, and Generate benchmark stats"
   ]
  },
  {
   "cell_type": "code",
   "execution_count": 12,
   "metadata": {
    "ExecuteTime": {
     "end_time": "2020-02-17T03:42:05.103568Z",
     "start_time": "2020-02-17T03:42:02.871307Z"
    },
    "scrolled": false
   },
   "outputs": [
    {
     "name": "stdout",
     "output_type": "stream",
     "text": [
      "2015-10-30 00:00:00 BUY  48 SPY @ 207.93\n",
      "2020-07-15 00:00:00 SELL 48 SPY @ 321.85\n"
     ]
    }
   ],
   "source": [
    "benchmark = pf.Benchmark(symbol, capital, s._start, s._end)\n",
    "benchmark.run()\n",
    "benchmark.tlog, benchmark.dbal = benchmark.get_logs()\n",
    "benchmark.stats = benchmark.get_stats()"
   ]
  },
  {
   "cell_type": "markdown",
   "metadata": {},
   "source": [
    "Plot Equity Curves: Strategy vs Benchmark"
   ]
  },
  {
   "cell_type": "code",
   "execution_count": 13,
   "metadata": {
    "ExecuteTime": {
     "end_time": "2020-02-17T03:42:05.435255Z",
     "start_time": "2020-02-17T03:42:05.114316Z"
    },
    "scrolled": false
   },
   "outputs": [
    {
     "data": {
      "image/png": "[encoded data removed]",
      "text/plain": [
       "<Figure size 720x504 with 1 Axes>"
      ]
     },
     "metadata": {
      "needs_background": "light"
     },
     "output_type": "display_data"
    }
   ],
   "source": [
    "pf.plot_equity_curve(dbal, benchmark=benchmark.dbal)"
   ]
  },
  {
   "cell_type": "markdown",
   "metadata": {},
   "source": [
    "Plot Trades"
   ]
  },
  {
   "cell_type": "code",
   "execution_count": 14,
   "metadata": {
    "ExecuteTime": {
     "end_time": "2020-02-17T03:42:05.734945Z",
     "start_time": "2020-02-17T03:42:05.442607Z"
    }
   },
   "outputs": [
    {
     "data": {
      "image/png": "[encoded data removed]",
      "text/plain": [
       "<Figure size 720x504 with 1 Axes>"
      ]
     },
     "metadata": {
      "needs_background": "light"
     },
     "output_type": "display_data"
    }
   ],
   "source": [
    "pf.plot_trades(dbal, benchmark=benchmark.dbal)"
   ]
  },
  {
   "cell_type": "markdown",
   "metadata": {},
   "source": [
    "Bar Graph: Strategy vs Benchmark"
   ]
  },
  {
   "cell_type": "code",
   "execution_count": 15,
   "metadata": {
    "ExecuteTime": {
     "end_time": "2020-02-17T03:42:06.166236Z",
     "start_time": "2020-02-17T03:42:05.742988Z"
    }
   },
   "outputs": [
    {
     "data": {
      "text/html": [
       "<div>\n",
       "<style scoped>\n",
       "    .dataframe tbody tr th:only-of-type {\n",
       "        vertical-align: middle;\n",
       "    }\n",
       "\n",
       "    .dataframe tbody tr th {\n",
       "        vertical-align: top;\n",
       "    }\n",
       "\n",
       "    .dataframe thead th {\n",
       "        text-align: right;\n",
       "    }\n",
       "</style>\n",
       "<table border=\"1\" class=\"dataframe\">\n",
       "  <thead>\n",
       "    <tr style=\"text-align: right;\">\n",
       "      <th></th>\n",
       "      <th>strategy</th>\n",
       "      <th>benchmark</th>\n",
       "    </tr>\n",
       "  </thead>\n",
       "  <tbody>\n",
       "    <tr>\n",
       "      <th>annual_return_rate</th>\n",
       "      <td>-7.38</td>\n",
       "      <td>9.71</td>\n",
       "    </tr>\n",
       "    <tr>\n",
       "      <th>max_closed_out_drawdown</th>\n",
       "      <td>-32.36</td>\n",
       "      <td>-34.06</td>\n",
       "    </tr>\n",
       "    <tr>\n",
       "      <th>drawdown_annualized_return</th>\n",
       "      <td>4.38</td>\n",
       "      <td>-3.51</td>\n",
       "    </tr>\n",
       "    <tr>\n",
       "      <th>drawdown_recovery</th>\n",
       "      <td>-4.05</td>\n",
       "      <td>-0.09</td>\n",
       "    </tr>\n",
       "    <tr>\n",
       "      <th>best_month</th>\n",
       "      <td>11.81</td>\n",
       "      <td>23.03</td>\n",
       "    </tr>\n",
       "    <tr>\n",
       "      <th>worst_month</th>\n",
       "      <td>-11.26</td>\n",
       "      <td>-31.35</td>\n",
       "    </tr>\n",
       "    <tr>\n",
       "      <th>sharpe_ratio</th>\n",
       "      <td>-0.76</td>\n",
       "      <td>0.58</td>\n",
       "    </tr>\n",
       "    <tr>\n",
       "      <th>sortino_ratio</th>\n",
       "      <td>-0.90</td>\n",
       "      <td>0.64</td>\n",
       "    </tr>\n",
       "    <tr>\n",
       "      <th>monthly_std</th>\n",
       "      <td>2.20</td>\n",
       "      <td>4.78</td>\n",
       "    </tr>\n",
       "  </tbody>\n",
       "</table>\n",
       "</div>"
      ],
      "text/plain": [
       "                            strategy  benchmark\n",
       "annual_return_rate             -7.38       9.71\n",
       "max_closed_out_drawdown       -32.36     -34.06\n",
       "drawdown_annualized_return      4.38      -3.51\n",
       "drawdown_recovery              -4.05      -0.09\n",
       "best_month                     11.81      23.03\n",
       "worst_month                   -11.26     -31.35\n",
       "sharpe_ratio                   -0.76       0.58\n",
       "sortino_ratio                  -0.90       0.64\n",
       "monthly_std                     2.20       4.78"
      ]
     },
     "execution_count": 15,
     "metadata": {},
     "output_type": "execute_result"
    },
    {
     "data": {
      "image/png": "[encoded data removed]",
      "text/plain": [
       "<Figure size 720x504 with 1 Axes>"
      ]
     },
     "metadata": {
      "needs_background": "light"
     },
     "output_type": "display_data"
    }
   ],
   "source": [
    "df = pf.plot_bar_graph(stats, benchmark.stats)\n",
    "df"
   ]
  }
 ],
 "metadata": {
  "kernelspec": {
   "display_name": "Python 3",
   "language": "python",
   "name": "python3"
  },
  "language_info": {
   "codemirror_mode": {
    "name": "ipython",
    "version": 3
   },
   "file_extension": ".py",
   "mimetype": "text/x-python",
   "name": "python",
   "nbconvert_exporter": "python",
   "pygments_lexer": "ipython3",
   "version": "3.8.2"
  },
  "latex_envs": {
   "LaTeX_envs_menu_present": true,
   "autoclose": false,
   "autocomplete": true,
   "bibliofile": "biblio.bib",
   "cite_by": "apalike",
   "current_citInitial": 1,
   "eqLabelWithNumbers": true,
   "eqNumInitial": 1,
   "hotkeys": {
    "equation": "Ctrl-E",
    "itemize": "Ctrl-I"
   },
   "labels_anchors": false,
   "latex_user_defs": false,
   "report_style_numbering": false,
   "user_envs_cfg": false
  }
 },
 "nbformat": 4,
 "nbformat_minor": 1
}
