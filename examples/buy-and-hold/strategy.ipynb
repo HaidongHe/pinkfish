{
 "cells": [
  {
   "cell_type": "markdown",
   "metadata": {},
   "source": [
    "# buy-and-hold\n",
    "\n",
    "buy, then never ever sell, until the end date :)"
   ]
  },
  {
   "cell_type": "code",
   "execution_count": 1,
   "metadata": {
    "ExecuteTime": {
     "end_time": "2020-02-16T23:04:46.346075Z",
     "start_time": "2020-02-16T23:04:45.611359Z"
    }
   },
   "outputs": [],
   "source": [
    "import pandas as pd\n",
    "import datetime\n",
    "import pinkfish as pf\n",
    "\n",
    "# format price data\n",
    "pd.options.display.float_format = '{:0.2f}'.format"
   ]
  },
  {
   "cell_type": "markdown",
   "metadata": {},
   "source": [
    "Some global data"
   ]
  },
  {
   "cell_type": "code",
   "execution_count": 2,
   "metadata": {
    "ExecuteTime": {
     "end_time": "2020-02-16T23:04:46.391293Z",
     "start_time": "2020-02-16T23:04:46.382836Z"
    }
   },
   "outputs": [],
   "source": [
    "symbol = 'SPY'\n",
    "capital = 10000\n",
    "start = datetime.datetime(1900, 1, 1)\n",
    "end = datetime.datetime.now()"
   ]
  },
  {
   "cell_type": "markdown",
   "metadata": {},
   "source": [
    "Timeseries"
   ]
  },
  {
   "cell_type": "code",
   "execution_count": 3,
   "metadata": {},
   "outputs": [],
   "source": [
    "# fetch timeseries, select, finalize\n",
    "ts = pf.fetch_timeseries(symbol)\n",
    "ts = pf.select_tradeperiod(ts, start, end, use_adj=False, pad=False)\n",
    "ts['adj_close'] = ts['close']\n",
    "ts, start = pf.finalize_timeseries(ts, start)\n",
    "\n",
    "# create tradelog and daily balance objects\n",
    "tlog = pf.TradeLog(symbol)\n",
    "dbal = pf.DailyBal()"
   ]
  },
  {
   "cell_type": "code",
   "execution_count": 4,
   "metadata": {},
   "outputs": [
    {
     "data": {
      "text/html": [
       "<div>\n",
       "<style scoped>\n",
       "    .dataframe tbody tr th:only-of-type {\n",
       "        vertical-align: middle;\n",
       "    }\n",
       "\n",
       "    .dataframe tbody tr th {\n",
       "        vertical-align: top;\n",
       "    }\n",
       "\n",
       "    .dataframe thead th {\n",
       "        text-align: right;\n",
       "    }\n",
       "</style>\n",
       "<table border=\"1\" class=\"dataframe\">\n",
       "  <thead>\n",
       "    <tr style=\"text-align: right;\">\n",
       "      <th></th>\n",
       "      <th>high</th>\n",
       "      <th>low</th>\n",
       "      <th>open</th>\n",
       "      <th>close</th>\n",
       "      <th>volume</th>\n",
       "      <th>adj_close</th>\n",
       "    </tr>\n",
       "    <tr>\n",
       "      <th>date</th>\n",
       "      <th></th>\n",
       "      <th></th>\n",
       "      <th></th>\n",
       "      <th></th>\n",
       "      <th></th>\n",
       "      <th></th>\n",
       "    </tr>\n",
       "  </thead>\n",
       "  <tbody>\n",
       "    <tr>\n",
       "      <th>1993-01-29</th>\n",
       "      <td>43.97</td>\n",
       "      <td>43.75</td>\n",
       "      <td>43.97</td>\n",
       "      <td>43.94</td>\n",
       "      <td>1003200.00</td>\n",
       "      <td>43.94</td>\n",
       "    </tr>\n",
       "    <tr>\n",
       "      <th>1993-02-01</th>\n",
       "      <td>44.25</td>\n",
       "      <td>43.97</td>\n",
       "      <td>43.97</td>\n",
       "      <td>44.25</td>\n",
       "      <td>480500.00</td>\n",
       "      <td>44.25</td>\n",
       "    </tr>\n",
       "    <tr>\n",
       "      <th>1993-02-02</th>\n",
       "      <td>44.38</td>\n",
       "      <td>44.12</td>\n",
       "      <td>44.22</td>\n",
       "      <td>44.34</td>\n",
       "      <td>201300.00</td>\n",
       "      <td>44.34</td>\n",
       "    </tr>\n",
       "    <tr>\n",
       "      <th>1993-02-03</th>\n",
       "      <td>44.84</td>\n",
       "      <td>44.38</td>\n",
       "      <td>44.41</td>\n",
       "      <td>44.81</td>\n",
       "      <td>529400.00</td>\n",
       "      <td>44.81</td>\n",
       "    </tr>\n",
       "    <tr>\n",
       "      <th>1993-02-04</th>\n",
       "      <td>45.09</td>\n",
       "      <td>44.47</td>\n",
       "      <td>44.97</td>\n",
       "      <td>45.00</td>\n",
       "      <td>531500.00</td>\n",
       "      <td>45.00</td>\n",
       "    </tr>\n",
       "    <tr>\n",
       "      <th>...</th>\n",
       "      <td>...</td>\n",
       "      <td>...</td>\n",
       "      <td>...</td>\n",
       "      <td>...</td>\n",
       "      <td>...</td>\n",
       "      <td>...</td>\n",
       "    </tr>\n",
       "    <tr>\n",
       "      <th>2020-07-08</th>\n",
       "      <td>316.30</td>\n",
       "      <td>312.70</td>\n",
       "      <td>314.61</td>\n",
       "      <td>316.18</td>\n",
       "      <td>54638600.00</td>\n",
       "      <td>316.18</td>\n",
       "    </tr>\n",
       "    <tr>\n",
       "      <th>2020-07-09</th>\n",
       "      <td>317.10</td>\n",
       "      <td>310.68</td>\n",
       "      <td>316.84</td>\n",
       "      <td>314.38</td>\n",
       "      <td>83354200.00</td>\n",
       "      <td>314.38</td>\n",
       "    </tr>\n",
       "    <tr>\n",
       "      <th>2020-07-10</th>\n",
       "      <td>317.88</td>\n",
       "      <td>312.76</td>\n",
       "      <td>314.31</td>\n",
       "      <td>317.59</td>\n",
       "      <td>57550400.00</td>\n",
       "      <td>317.59</td>\n",
       "    </tr>\n",
       "    <tr>\n",
       "      <th>2020-07-13</th>\n",
       "      <td>322.71</td>\n",
       "      <td>314.13</td>\n",
       "      <td>320.13</td>\n",
       "      <td>314.84</td>\n",
       "      <td>102639500.00</td>\n",
       "      <td>314.84</td>\n",
       "    </tr>\n",
       "    <tr>\n",
       "      <th>2020-07-14</th>\n",
       "      <td>316.67</td>\n",
       "      <td>312.00</td>\n",
       "      <td>313.30</td>\n",
       "      <td>316.03</td>\n",
       "      <td>39688390.00</td>\n",
       "      <td>316.03</td>\n",
       "    </tr>\n",
       "  </tbody>\n",
       "</table>\n",
       "<p>6914 rows × 6 columns</p>\n",
       "</div>"
      ],
      "text/plain": [
       "             high    low   open  close       volume  adj_close\n",
       "date                                                          \n",
       "1993-01-29  43.97  43.75  43.97  43.94   1003200.00      43.94\n",
       "1993-02-01  44.25  43.97  43.97  44.25    480500.00      44.25\n",
       "1993-02-02  44.38  44.12  44.22  44.34    201300.00      44.34\n",
       "1993-02-03  44.84  44.38  44.41  44.81    529400.00      44.81\n",
       "1993-02-04  45.09  44.47  44.97  45.00    531500.00      45.00\n",
       "...           ...    ...    ...    ...          ...        ...\n",
       "2020-07-08 316.30 312.70 314.61 316.18  54638600.00     316.18\n",
       "2020-07-09 317.10 310.68 316.84 314.38  83354200.00     314.38\n",
       "2020-07-10 317.88 312.76 314.31 317.59  57550400.00     317.59\n",
       "2020-07-13 322.71 314.13 320.13 314.84 102639500.00     314.84\n",
       "2020-07-14 316.67 312.00 313.30 316.03  39688390.00     316.03\n",
       "\n",
       "[6914 rows x 6 columns]"
      ]
     },
     "execution_count": 4,
     "metadata": {},
     "output_type": "execute_result"
    }
   ],
   "source": [
    "ts"
   ]
  },
  {
   "cell_type": "markdown",
   "metadata": {},
   "source": [
    "Algorithm"
   ]
  },
  {
   "cell_type": "code",
   "execution_count": 5,
   "metadata": {
    "ExecuteTime": {
     "end_time": "2020-02-16T23:04:46.487324Z",
     "start_time": "2020-02-16T23:04:46.397308Z"
    }
   },
   "outputs": [],
   "source": [
    "pf.TradeLog.cash = capital\n",
    "\n",
    "# loop through timeseries\n",
    "for i, row in enumerate(ts.itertuples()):\n",
    "\n",
    "    date = row.Index.to_pydatetime()\n",
    "    end_flag = pf.is_last_row(ts, i)\n",
    "\n",
    "    # buy\n",
    "    if tlog.shares == 0:\n",
    "        tlog.buy(date, row.close)\n",
    "    # sell\n",
    "    elif end_flag:\n",
    "        tlog.sell(date, row.close)\n",
    "\n",
    "    # record daily balance\n",
    "    dbal.append(date, row.high, row.low, row.close)"
   ]
  },
  {
   "cell_type": "markdown",
   "metadata": {},
   "source": [
    "Retrieve logs"
   ]
  },
  {
   "cell_type": "code",
   "execution_count": 6,
   "metadata": {
    "ExecuteTime": {
     "end_time": "2020-02-16T23:04:48.667996Z",
     "start_time": "2020-02-16T23:04:46.790740Z"
    }
   },
   "outputs": [],
   "source": [
    "tlog = tlog.get_log()\n",
    "dbal = dbal.get_log(tlog)"
   ]
  },
  {
   "cell_type": "code",
   "execution_count": 7,
   "metadata": {
    "ExecuteTime": {
     "end_time": "2020-02-16T23:04:48.713721Z",
     "start_time": "2020-02-16T23:04:48.677746Z"
    }
   },
   "outputs": [
    {
     "data": {
      "text/html": [
       "<div>\n",
       "<style scoped>\n",
       "    .dataframe tbody tr th:only-of-type {\n",
       "        vertical-align: middle;\n",
       "    }\n",
       "\n",
       "    .dataframe tbody tr th {\n",
       "        vertical-align: top;\n",
       "    }\n",
       "\n",
       "    .dataframe thead th {\n",
       "        text-align: right;\n",
       "    }\n",
       "</style>\n",
       "<table border=\"1\" class=\"dataframe\">\n",
       "  <thead>\n",
       "    <tr style=\"text-align: right;\">\n",
       "      <th></th>\n",
       "      <th>entry_date</th>\n",
       "      <th>entry_price</th>\n",
       "      <th>exit_date</th>\n",
       "      <th>exit_price</th>\n",
       "      <th>pl_points</th>\n",
       "      <th>pl_cash</th>\n",
       "      <th>qty</th>\n",
       "      <th>cumul_total</th>\n",
       "      <th>direction</th>\n",
       "      <th>symbol</th>\n",
       "    </tr>\n",
       "  </thead>\n",
       "  <tbody>\n",
       "    <tr>\n",
       "      <th>0</th>\n",
       "      <td>1993-01-29</td>\n",
       "      <td>43.94</td>\n",
       "      <td>2020-07-14</td>\n",
       "      <td>316.03</td>\n",
       "      <td>272.09</td>\n",
       "      <td>61765.00</td>\n",
       "      <td>227</td>\n",
       "      <td>61765.00</td>\n",
       "      <td>LONG</td>\n",
       "      <td>SPY</td>\n",
       "    </tr>\n",
       "  </tbody>\n",
       "</table>\n",
       "</div>"
      ],
      "text/plain": [
       "  entry_date  entry_price  exit_date  exit_price  pl_points  pl_cash  qty  \\\n",
       "0 1993-01-29        43.94 2020-07-14      316.03     272.09 61765.00  227   \n",
       "\n",
       "   cumul_total direction symbol  \n",
       "0     61765.00      LONG    SPY  "
      ]
     },
     "execution_count": 7,
     "metadata": {},
     "output_type": "execute_result"
    }
   ],
   "source": [
    "tlog.tail()"
   ]
  },
  {
   "cell_type": "markdown",
   "metadata": {},
   "source": [
    "Get stats"
   ]
  },
  {
   "cell_type": "code",
   "execution_count": 8,
   "metadata": {},
   "outputs": [],
   "source": [
    "stats = pf.stats(ts, tlog, dbal, capital)"
   ]
  },
  {
   "cell_type": "markdown",
   "metadata": {},
   "source": [
    "Summary"
   ]
  },
  {
   "cell_type": "code",
   "execution_count": 9,
   "metadata": {
    "ExecuteTime": {
     "end_time": "2020-02-16T23:04:48.833820Z",
     "start_time": "2020-02-16T23:04:48.796820Z"
    },
    "scrolled": true
   },
   "outputs": [
    {
     "data": {
      "text/html": [
       "<div>\n",
       "<style scoped>\n",
       "    .dataframe tbody tr th:only-of-type {\n",
       "        vertical-align: middle;\n",
       "    }\n",
       "\n",
       "    .dataframe tbody tr th {\n",
       "        vertical-align: top;\n",
       "    }\n",
       "\n",
       "    .dataframe thead th {\n",
       "        text-align: right;\n",
       "    }\n",
       "</style>\n",
       "<table border=\"1\" class=\"dataframe\">\n",
       "  <thead>\n",
       "    <tr style=\"text-align: right;\">\n",
       "      <th></th>\n",
       "      <th>strategy</th>\n",
       "    </tr>\n",
       "  </thead>\n",
       "  <tbody>\n",
       "    <tr>\n",
       "      <th>annual_return_rate</th>\n",
       "      <td>7.44</td>\n",
       "    </tr>\n",
       "    <tr>\n",
       "      <th>max_closed_out_drawdown</th>\n",
       "      <td>-56.43</td>\n",
       "    </tr>\n",
       "    <tr>\n",
       "      <th>best_month</th>\n",
       "      <td>23.06</td>\n",
       "    </tr>\n",
       "    <tr>\n",
       "      <th>worst_month</th>\n",
       "      <td>-31.38</td>\n",
       "    </tr>\n",
       "    <tr>\n",
       "      <th>sharpe_ratio</th>\n",
       "      <td>0.47</td>\n",
       "    </tr>\n",
       "    <tr>\n",
       "      <th>sortino_ratio</th>\n",
       "      <td>0.60</td>\n",
       "    </tr>\n",
       "    <tr>\n",
       "      <th>monthly_std</th>\n",
       "      <td>4.49</td>\n",
       "    </tr>\n",
       "  </tbody>\n",
       "</table>\n",
       "</div>"
      ],
      "text/plain": [
       "                         strategy\n",
       "annual_return_rate           7.44\n",
       "max_closed_out_drawdown    -56.43\n",
       "best_month                  23.06\n",
       "worst_month                -31.38\n",
       "sharpe_ratio                 0.47\n",
       "sortino_ratio                0.60\n",
       "monthly_std                  4.49"
      ]
     },
     "execution_count": 9,
     "metadata": {},
     "output_type": "execute_result"
    }
   ],
   "source": [
    "pf.summary(stats)"
   ]
  },
  {
   "cell_type": "code",
   "execution_count": null,
   "metadata": {},
   "outputs": [],
   "source": []
  }
 ],
 "metadata": {
  "kernelspec": {
   "display_name": "Python 3",
   "language": "python",
   "name": "python3"
  },
  "language_info": {
   "codemirror_mode": {
    "name": "ipython",
    "version": 3
   },
   "file_extension": ".py",
   "mimetype": "text/x-python",
   "name": "python",
   "nbconvert_exporter": "python",
   "pygments_lexer": "ipython3",
   "version": "3.8.2"
  },
  "latex_envs": {
   "LaTeX_envs_menu_present": true,
   "autoclose": false,
   "autocomplete": true,
   "bibliofile": "biblio.bib",
   "cite_by": "apalike",
   "current_citInitial": 1,
   "eqLabelWithNumbers": true,
   "eqNumInitial": 1,
   "hotkeys": {
    "equation": "Ctrl-E",
    "itemize": "Ctrl-I"
   },
   "labels_anchors": false,
   "latex_user_defs": false,
   "report_style_numbering": false,
   "user_envs_cfg": false
  }
 },
 "nbformat": 4,
 "nbformat_minor": 1
}
