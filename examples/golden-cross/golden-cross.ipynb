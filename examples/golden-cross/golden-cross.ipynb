{
 "cells": [
  {
   "cell_type": "markdown",
   "metadata": {},
   "source": [
    "# Golden Cross / Death Cross S&P 500 index (^GSPC)\n",
    "\n",
    "    1. sma50>sma200, buy\n",
    "    2. sma50<sma200, sell your long position."
   ]
  },
  {
   "cell_type": "code",
   "execution_count": 1,
   "metadata": {
    "ExecuteTime": {
     "end_time": "2020-02-16T23:06:25.607999Z",
     "start_time": "2020-02-16T23:06:24.350022Z"
    }
   },
   "outputs": [],
   "source": [
    "# other imports\n",
    "import pandas as pd\n",
    "import matplotlib.pyplot as plt\n",
    "import datetime\n",
    "from talib.abstract import *\n",
    "\n",
    "# project imports\n",
    "import pinkfish as pf\n",
    "\n",
    "# format price data\n",
    "pd.options.display.float_format = '{:0.2f}'.format\n",
    "\n",
    "%matplotlib inline"
   ]
  },
  {
   "cell_type": "code",
   "execution_count": 2,
   "metadata": {
    "ExecuteTime": {
     "end_time": "2020-02-16T23:06:25.629044Z",
     "start_time": "2020-02-16T23:06:25.618153Z"
    }
   },
   "outputs": [],
   "source": [
    "# set size of inline plots\n",
    "'''note: rcParams can't be in same cell as import matplotlib\n",
    "   or %matplotlib inline\n",
    "   \n",
    "   %matplotlib notebook: will lead to interactive plots embedded within\n",
    "   the notebook, you can zoom and resize the figure\n",
    "   \n",
    "   %matplotlib inline: only draw static images in the notebook\n",
    "'''\n",
    "plt.rcParams[\"figure.figsize\"] = (10, 7)"
   ]
  },
  {
   "cell_type": "markdown",
   "metadata": {},
   "source": [
    "Some global data"
   ]
  },
  {
   "cell_type": "code",
   "execution_count": 3,
   "metadata": {
    "ExecuteTime": {
     "end_time": "2020-02-16T23:06:25.646650Z",
     "start_time": "2020-02-16T23:06:25.633319Z"
    }
   },
   "outputs": [],
   "source": [
    "symbol = '^GSPC'\n",
    "#symbol = 'SPY'\n",
    "#symbol = '^DJI'\n",
    "#symbol = 'DJA'\n",
    "#symbol = 'DIA'\n",
    "#symbol = 'QQQ'\n",
    "#symbol = 'IWM'\n",
    "#symbol = 'TLT'\n",
    "#symbol = 'GLD'\n",
    "#symbol = 'AAPL'\n",
    "#symbol = 'BBRY'\n",
    "capital = 10000\n",
    "#start = datetime.datetime(1900, 1, 1)\n",
    "start = datetime.datetime.strptime(pf.SP500_BEGIN, '%Y-%m-%d')\n",
    "end = datetime.datetime.now()"
   ]
  },
  {
   "cell_type": "markdown",
   "metadata": {},
   "source": [
    "Include dividends? (If yes, set to True)"
   ]
  },
  {
   "cell_type": "code",
   "execution_count": 4,
   "metadata": {
    "ExecuteTime": {
     "end_time": "2020-02-16T23:06:25.663693Z",
     "start_time": "2020-02-16T23:06:25.648450Z"
    }
   },
   "outputs": [],
   "source": [
    "use_adj = False"
   ]
  },
  {
   "cell_type": "markdown",
   "metadata": {},
   "source": [
    "Fetch symbol data from internet; use cache if available."
   ]
  },
  {
   "cell_type": "code",
   "execution_count": 5,
   "metadata": {
    "ExecuteTime": {
     "end_time": "2020-02-16T23:06:25.791667Z",
     "start_time": "2020-02-16T23:06:25.665622Z"
    }
   },
   "outputs": [
    {
     "data": {
      "text/html": [
       "<div>\n",
       "<style scoped>\n",
       "    .dataframe tbody tr th:only-of-type {\n",
       "        vertical-align: middle;\n",
       "    }\n",
       "\n",
       "    .dataframe tbody tr th {\n",
       "        vertical-align: top;\n",
       "    }\n",
       "\n",
       "    .dataframe thead th {\n",
       "        text-align: right;\n",
       "    }\n",
       "</style>\n",
       "<table border=\"1\" class=\"dataframe\">\n",
       "  <thead>\n",
       "    <tr style=\"text-align: right;\">\n",
       "      <th></th>\n",
       "      <th>high</th>\n",
       "      <th>low</th>\n",
       "      <th>open</th>\n",
       "      <th>close</th>\n",
       "      <th>volume</th>\n",
       "      <th>adj_close</th>\n",
       "    </tr>\n",
       "    <tr>\n",
       "      <th>date</th>\n",
       "      <th></th>\n",
       "      <th></th>\n",
       "      <th></th>\n",
       "      <th></th>\n",
       "      <th></th>\n",
       "      <th></th>\n",
       "    </tr>\n",
       "  </thead>\n",
       "  <tbody>\n",
       "    <tr>\n",
       "      <th>1927-12-30</th>\n",
       "      <td>17.66</td>\n",
       "      <td>17.66</td>\n",
       "      <td>17.66</td>\n",
       "      <td>17.66</td>\n",
       "      <td>0</td>\n",
       "      <td>17.66</td>\n",
       "    </tr>\n",
       "    <tr>\n",
       "      <th>1928-01-03</th>\n",
       "      <td>17.76</td>\n",
       "      <td>17.76</td>\n",
       "      <td>17.76</td>\n",
       "      <td>17.76</td>\n",
       "      <td>0</td>\n",
       "      <td>17.76</td>\n",
       "    </tr>\n",
       "    <tr>\n",
       "      <th>1928-01-04</th>\n",
       "      <td>17.72</td>\n",
       "      <td>17.72</td>\n",
       "      <td>17.72</td>\n",
       "      <td>17.72</td>\n",
       "      <td>0</td>\n",
       "      <td>17.72</td>\n",
       "    </tr>\n",
       "    <tr>\n",
       "      <th>1928-01-05</th>\n",
       "      <td>17.55</td>\n",
       "      <td>17.55</td>\n",
       "      <td>17.55</td>\n",
       "      <td>17.55</td>\n",
       "      <td>0</td>\n",
       "      <td>17.55</td>\n",
       "    </tr>\n",
       "    <tr>\n",
       "      <th>1928-01-06</th>\n",
       "      <td>17.66</td>\n",
       "      <td>17.66</td>\n",
       "      <td>17.66</td>\n",
       "      <td>17.66</td>\n",
       "      <td>0</td>\n",
       "      <td>17.66</td>\n",
       "    </tr>\n",
       "  </tbody>\n",
       "</table>\n",
       "</div>"
      ],
      "text/plain": [
       "            high   low  open  close  volume  adj_close\n",
       "date                                                  \n",
       "1927-12-30 17.66 17.66 17.66  17.66       0      17.66\n",
       "1928-01-03 17.76 17.76 17.76  17.76       0      17.76\n",
       "1928-01-04 17.72 17.72 17.72  17.72       0      17.72\n",
       "1928-01-05 17.55 17.55 17.55  17.55       0      17.55\n",
       "1928-01-06 17.66 17.66 17.66  17.66       0      17.66"
      ]
     },
     "execution_count": 5,
     "metadata": {},
     "output_type": "execute_result"
    }
   ],
   "source": [
    "ts = pf.fetch_timeseries(symbol)\n",
    "ts.head()"
   ]
  },
  {
   "cell_type": "markdown",
   "metadata": {},
   "source": [
    "Select timeseries between start and end. Back adjust prices relative to adj_close for dividends and splits."
   ]
  },
  {
   "cell_type": "code",
   "execution_count": 6,
   "metadata": {
    "ExecuteTime": {
     "end_time": "2020-02-16T23:06:25.832676Z",
     "start_time": "2020-02-16T23:06:25.798816Z"
    }
   },
   "outputs": [
    {
     "data": {
      "text/html": [
       "<div>\n",
       "<style scoped>\n",
       "    .dataframe tbody tr th:only-of-type {\n",
       "        vertical-align: middle;\n",
       "    }\n",
       "\n",
       "    .dataframe tbody tr th {\n",
       "        vertical-align: top;\n",
       "    }\n",
       "\n",
       "    .dataframe thead th {\n",
       "        text-align: right;\n",
       "    }\n",
       "</style>\n",
       "<table border=\"1\" class=\"dataframe\">\n",
       "  <thead>\n",
       "    <tr style=\"text-align: right;\">\n",
       "      <th></th>\n",
       "      <th>high</th>\n",
       "      <th>low</th>\n",
       "      <th>open</th>\n",
       "      <th>close</th>\n",
       "      <th>volume</th>\n",
       "      <th>adj_close</th>\n",
       "    </tr>\n",
       "    <tr>\n",
       "      <th>date</th>\n",
       "      <th></th>\n",
       "      <th></th>\n",
       "      <th></th>\n",
       "      <th></th>\n",
       "      <th></th>\n",
       "      <th></th>\n",
       "    </tr>\n",
       "  </thead>\n",
       "  <tbody>\n",
       "    <tr>\n",
       "      <th>1956-03-05</th>\n",
       "      <td>46.06</td>\n",
       "      <td>46.06</td>\n",
       "      <td>46.06</td>\n",
       "      <td>46.06</td>\n",
       "      <td>3090000</td>\n",
       "      <td>46.06</td>\n",
       "    </tr>\n",
       "    <tr>\n",
       "      <th>1956-03-06</th>\n",
       "      <td>46.04</td>\n",
       "      <td>46.04</td>\n",
       "      <td>46.04</td>\n",
       "      <td>46.04</td>\n",
       "      <td>2770000</td>\n",
       "      <td>46.04</td>\n",
       "    </tr>\n",
       "    <tr>\n",
       "      <th>1956-03-07</th>\n",
       "      <td>46.01</td>\n",
       "      <td>46.01</td>\n",
       "      <td>46.01</td>\n",
       "      <td>46.01</td>\n",
       "      <td>2380000</td>\n",
       "      <td>46.01</td>\n",
       "    </tr>\n",
       "    <tr>\n",
       "      <th>1956-03-08</th>\n",
       "      <td>46.12</td>\n",
       "      <td>46.12</td>\n",
       "      <td>46.12</td>\n",
       "      <td>46.12</td>\n",
       "      <td>2500000</td>\n",
       "      <td>46.12</td>\n",
       "    </tr>\n",
       "    <tr>\n",
       "      <th>1956-03-09</th>\n",
       "      <td>46.70</td>\n",
       "      <td>46.70</td>\n",
       "      <td>46.70</td>\n",
       "      <td>46.70</td>\n",
       "      <td>3430000</td>\n",
       "      <td>46.70</td>\n",
       "    </tr>\n",
       "  </tbody>\n",
       "</table>\n",
       "</div>"
      ],
      "text/plain": [
       "            high   low  open  close   volume  adj_close\n",
       "date                                                   \n",
       "1956-03-05 46.06 46.06 46.06  46.06  3090000      46.06\n",
       "1956-03-06 46.04 46.04 46.04  46.04  2770000      46.04\n",
       "1956-03-07 46.01 46.01 46.01  46.01  2380000      46.01\n",
       "1956-03-08 46.12 46.12 46.12  46.12  2500000      46.12\n",
       "1956-03-09 46.70 46.70 46.70  46.70  3430000      46.70"
      ]
     },
     "execution_count": 6,
     "metadata": {},
     "output_type": "execute_result"
    }
   ],
   "source": [
    "ts = pf.select_tradeperiod(ts, start, end, use_adj)\n",
    "ts.head()"
   ]
  },
  {
   "cell_type": "markdown",
   "metadata": {},
   "source": [
    "Add technical indicator: 50 day ma and 200 day ma"
   ]
  },
  {
   "cell_type": "code",
   "execution_count": 7,
   "metadata": {
    "ExecuteTime": {
     "end_time": "2020-02-16T23:06:25.989830Z",
     "start_time": "2020-02-16T23:06:25.836445Z"
    },
    "scrolled": true
   },
   "outputs": [
    {
     "data": {
      "text/html": [
       "<div>\n",
       "<style scoped>\n",
       "    .dataframe tbody tr th:only-of-type {\n",
       "        vertical-align: middle;\n",
       "    }\n",
       "\n",
       "    .dataframe tbody tr th {\n",
       "        vertical-align: top;\n",
       "    }\n",
       "\n",
       "    .dataframe thead th {\n",
       "        text-align: right;\n",
       "    }\n",
       "</style>\n",
       "<table border=\"1\" class=\"dataframe\">\n",
       "  <thead>\n",
       "    <tr style=\"text-align: right;\">\n",
       "      <th></th>\n",
       "      <th>high</th>\n",
       "      <th>low</th>\n",
       "      <th>open</th>\n",
       "      <th>close</th>\n",
       "      <th>volume</th>\n",
       "      <th>adj_close</th>\n",
       "      <th>sma50</th>\n",
       "      <th>sma200</th>\n",
       "    </tr>\n",
       "    <tr>\n",
       "      <th>date</th>\n",
       "      <th></th>\n",
       "      <th></th>\n",
       "      <th></th>\n",
       "      <th></th>\n",
       "      <th></th>\n",
       "      <th></th>\n",
       "      <th></th>\n",
       "      <th></th>\n",
       "    </tr>\n",
       "  </thead>\n",
       "  <tbody>\n",
       "    <tr>\n",
       "      <th>1956-03-05</th>\n",
       "      <td>46.06</td>\n",
       "      <td>46.06</td>\n",
       "      <td>46.06</td>\n",
       "      <td>46.06</td>\n",
       "      <td>3090000</td>\n",
       "      <td>46.06</td>\n",
       "      <td>nan</td>\n",
       "      <td>nan</td>\n",
       "    </tr>\n",
       "    <tr>\n",
       "      <th>1956-03-06</th>\n",
       "      <td>46.04</td>\n",
       "      <td>46.04</td>\n",
       "      <td>46.04</td>\n",
       "      <td>46.04</td>\n",
       "      <td>2770000</td>\n",
       "      <td>46.04</td>\n",
       "      <td>nan</td>\n",
       "      <td>nan</td>\n",
       "    </tr>\n",
       "    <tr>\n",
       "      <th>1956-03-07</th>\n",
       "      <td>46.01</td>\n",
       "      <td>46.01</td>\n",
       "      <td>46.01</td>\n",
       "      <td>46.01</td>\n",
       "      <td>2380000</td>\n",
       "      <td>46.01</td>\n",
       "      <td>nan</td>\n",
       "      <td>nan</td>\n",
       "    </tr>\n",
       "    <tr>\n",
       "      <th>1956-03-08</th>\n",
       "      <td>46.12</td>\n",
       "      <td>46.12</td>\n",
       "      <td>46.12</td>\n",
       "      <td>46.12</td>\n",
       "      <td>2500000</td>\n",
       "      <td>46.12</td>\n",
       "      <td>nan</td>\n",
       "      <td>nan</td>\n",
       "    </tr>\n",
       "    <tr>\n",
       "      <th>1956-03-09</th>\n",
       "      <td>46.70</td>\n",
       "      <td>46.70</td>\n",
       "      <td>46.70</td>\n",
       "      <td>46.70</td>\n",
       "      <td>3430000</td>\n",
       "      <td>46.70</td>\n",
       "      <td>nan</td>\n",
       "      <td>nan</td>\n",
       "    </tr>\n",
       "  </tbody>\n",
       "</table>\n",
       "</div>"
      ],
      "text/plain": [
       "            high   low  open  close   volume  adj_close  sma50  sma200\n",
       "date                                                                  \n",
       "1956-03-05 46.06 46.06 46.06  46.06  3090000      46.06    nan     nan\n",
       "1956-03-06 46.04 46.04 46.04  46.04  2770000      46.04    nan     nan\n",
       "1956-03-07 46.01 46.01 46.01  46.01  2380000      46.01    nan     nan\n",
       "1956-03-08 46.12 46.12 46.12  46.12  2500000      46.12    nan     nan\n",
       "1956-03-09 46.70 46.70 46.70  46.70  3430000      46.70    nan     nan"
      ]
     },
     "execution_count": 7,
     "metadata": {},
     "output_type": "execute_result"
    }
   ],
   "source": [
    "sma50 = SMA(ts, timeperiod=50)\n",
    "ts['sma50'] = sma50\n",
    "\n",
    "sma200 = SMA(ts, timeperiod=200)\n",
    "ts['sma200'] = sma200\n",
    "\n",
    "ts.head()"
   ]
  },
  {
   "cell_type": "markdown",
   "metadata": {},
   "source": [
    "Finalize the time series before implementing trading strategy"
   ]
  },
  {
   "cell_type": "code",
   "execution_count": 8,
   "metadata": {
    "ExecuteTime": {
     "end_time": "2020-02-16T23:06:26.047710Z",
     "start_time": "2020-02-16T23:06:25.995799Z"
    }
   },
   "outputs": [
    {
     "data": {
      "text/html": [
       "<div>\n",
       "<style scoped>\n",
       "    .dataframe tbody tr th:only-of-type {\n",
       "        vertical-align: middle;\n",
       "    }\n",
       "\n",
       "    .dataframe tbody tr th {\n",
       "        vertical-align: top;\n",
       "    }\n",
       "\n",
       "    .dataframe thead th {\n",
       "        text-align: right;\n",
       "    }\n",
       "</style>\n",
       "<table border=\"1\" class=\"dataframe\">\n",
       "  <thead>\n",
       "    <tr style=\"text-align: right;\">\n",
       "      <th></th>\n",
       "      <th>high</th>\n",
       "      <th>low</th>\n",
       "      <th>open</th>\n",
       "      <th>close</th>\n",
       "      <th>volume</th>\n",
       "      <th>adj_close</th>\n",
       "      <th>sma50</th>\n",
       "      <th>sma200</th>\n",
       "    </tr>\n",
       "    <tr>\n",
       "      <th>date</th>\n",
       "      <th></th>\n",
       "      <th></th>\n",
       "      <th></th>\n",
       "      <th></th>\n",
       "      <th></th>\n",
       "      <th></th>\n",
       "      <th></th>\n",
       "      <th></th>\n",
       "    </tr>\n",
       "  </thead>\n",
       "  <tbody>\n",
       "    <tr>\n",
       "      <th>1957-03-04</th>\n",
       "      <td>44.06</td>\n",
       "      <td>44.06</td>\n",
       "      <td>44.06</td>\n",
       "      <td>44.06</td>\n",
       "      <td>1890000</td>\n",
       "      <td>44.06</td>\n",
       "      <td>44.76</td>\n",
       "      <td>46.36</td>\n",
       "    </tr>\n",
       "    <tr>\n",
       "      <th>1957-03-05</th>\n",
       "      <td>44.22</td>\n",
       "      <td>44.22</td>\n",
       "      <td>44.22</td>\n",
       "      <td>44.22</td>\n",
       "      <td>1860000</td>\n",
       "      <td>44.22</td>\n",
       "      <td>44.71</td>\n",
       "      <td>46.35</td>\n",
       "    </tr>\n",
       "    <tr>\n",
       "      <th>1957-03-06</th>\n",
       "      <td>44.23</td>\n",
       "      <td>44.23</td>\n",
       "      <td>44.23</td>\n",
       "      <td>44.23</td>\n",
       "      <td>1840000</td>\n",
       "      <td>44.23</td>\n",
       "      <td>44.68</td>\n",
       "      <td>46.34</td>\n",
       "    </tr>\n",
       "    <tr>\n",
       "      <th>1957-03-07</th>\n",
       "      <td>44.21</td>\n",
       "      <td>44.21</td>\n",
       "      <td>44.21</td>\n",
       "      <td>44.21</td>\n",
       "      <td>1830000</td>\n",
       "      <td>44.21</td>\n",
       "      <td>44.63</td>\n",
       "      <td>46.33</td>\n",
       "    </tr>\n",
       "    <tr>\n",
       "      <th>1957-03-08</th>\n",
       "      <td>44.07</td>\n",
       "      <td>44.07</td>\n",
       "      <td>44.07</td>\n",
       "      <td>44.07</td>\n",
       "      <td>1630000</td>\n",
       "      <td>44.07</td>\n",
       "      <td>44.59</td>\n",
       "      <td>46.32</td>\n",
       "    </tr>\n",
       "  </tbody>\n",
       "</table>\n",
       "</div>"
      ],
      "text/plain": [
       "            high   low  open  close   volume  adj_close  sma50  sma200\n",
       "date                                                                  \n",
       "1957-03-04 44.06 44.06 44.06  44.06  1890000      44.06  44.76   46.36\n",
       "1957-03-05 44.22 44.22 44.22  44.22  1860000      44.22  44.71   46.35\n",
       "1957-03-06 44.23 44.23 44.23  44.23  1840000      44.23  44.68   46.34\n",
       "1957-03-07 44.21 44.21 44.21  44.21  1830000      44.21  44.63   46.33\n",
       "1957-03-08 44.07 44.07 44.07  44.07  1630000      44.07  44.59   46.32"
      ]
     },
     "execution_count": 8,
     "metadata": {},
     "output_type": "execute_result"
    }
   ],
   "source": [
    "ts, start = pf.finalize_timeseries(ts, start)\n",
    "ts.head()"
   ]
  },
  {
   "cell_type": "markdown",
   "metadata": {},
   "source": [
    "Plot closing price along with moving averages"
   ]
  },
  {
   "cell_type": "code",
   "execution_count": 9,
   "metadata": {
    "ExecuteTime": {
     "end_time": "2020-02-16T23:06:26.562144Z",
     "start_time": "2020-02-16T23:06:26.057765Z"
    }
   },
   "outputs": [
    {
     "data": {
      "text/plain": [
       "<matplotlib.legend.Legend at 0x7fd9e1960f40>"
      ]
     },
     "execution_count": 9,
     "metadata": {},
     "output_type": "execute_result"
    },
    {
     "data": {
      "image/png": "[encoded data removed]",
      "text/plain": [
       "<Figure size 720x504 with 1 Axes>"
      ]
     },
     "metadata": {
      "needs_background": "light"
     },
     "output_type": "display_data"
    }
   ],
   "source": [
    "fig = plt.figure()\n",
    "axes = fig.add_subplot(111,  ylabel='Price in $')\n",
    "\n",
    "ts['close'].plot(ax=axes, label='close', color='k')\n",
    "ts['sma50'].plot(ax=axes, label='sma50', color='r')\n",
    "ts['sma200'].plot(ax=axes, label='sma200', color='b')\n",
    "plt.legend(loc='best')"
   ]
  },
  {
   "cell_type": "markdown",
   "metadata": {},
   "source": [
    "Create Trade Log (tlog); Create Daily Balance (dbal)"
   ]
  },
  {
   "cell_type": "code",
   "execution_count": 10,
   "metadata": {
    "ExecuteTime": {
     "end_time": "2020-02-16T23:06:26.578969Z",
     "start_time": "2020-02-16T23:06:26.570175Z"
    }
   },
   "outputs": [],
   "source": [
    "tlog = pf.TradeLog()\n",
    "dbal = pf.DailyBal()"
   ]
  },
  {
   "cell_type": "markdown",
   "metadata": {},
   "source": [
    "Algo: Buy when 50 day ma crosses above 200 day ma.  Sell when 50 day ma crosses below 200 day ma. "
   ]
  },
  {
   "cell_type": "code",
   "execution_count": 11,
   "metadata": {
    "ExecuteTime": {
     "end_time": "2020-02-16T23:06:26.836322Z",
     "start_time": "2020-02-16T23:06:26.583526Z"
    },
    "scrolled": false
   },
   "outputs": [
    {
     "name": "stdout",
     "output_type": "stream",
     "text": [
      "1957-06-03 00:00:00 BUY  211 ^GSPC @ 47.37\n",
      "1957-09-26 00:00:00 SELL 211 ^GSPC @ 42.57\n",
      "1958-05-08 00:00:00 BUY  204 ^GSPC @ 43.99\n",
      "1959-10-30 00:00:00 SELL 204 ^GSPC @ 57.52\n",
      "1959-12-30 00:00:00 BUY  196 ^GSPC @ 59.77\n",
      "1960-02-15 00:00:00 SELL 196 ^GSPC @ 55.17\n",
      "1961-01-04 00:00:00 BUY  185 ^GSPC @ 58.36\n",
      "1962-05-07 00:00:00 SELL 185 ^GSPC @ 66.02\n",
      "1963-01-03 00:00:00 BUY  192 ^GSPC @ 63.72\n",
      "1965-07-22 00:00:00 SELL 192 ^GSPC @ 83.85\n",
      "1965-09-17 00:00:00 BUY  179 ^GSPC @ 90.05\n",
      "1966-04-28 00:00:00 SELL 179 ^GSPC @ 91.13\n",
      "1967-02-03 00:00:00 BUY  186 ^GSPC @ 87.36\n",
      "1968-02-27 00:00:00 SELL 186 ^GSPC @ 90.53\n",
      "1968-05-17 00:00:00 BUY  174 ^GSPC @ 96.90\n",
      "1969-03-13 00:00:00 SELL 174 ^GSPC @ 98.39\n",
      "1969-05-27 00:00:00 BUY  165 ^GSPC @ 103.57\n",
      "1969-06-23 00:00:00 SELL 165 ^GSPC @ 96.23\n",
      "1970-10-22 00:00:00 BUY  191 ^GSPC @ 83.38\n",
      "1971-09-24 00:00:00 SELL 191 ^GSPC @ 98.15\n",
      "1972-01-26 00:00:00 BUY  183 ^GSPC @ 102.50\n",
      "1973-04-18 00:00:00 SELL 183 ^GSPC @ 111.54\n",
      "1975-03-06 00:00:00 BUY  244 ^GSPC @ 83.69\n",
      "1976-12-01 00:00:00 SELL 244 ^GSPC @ 102.49\n",
      "1977-01-04 00:00:00 BUY  236 ^GSPC @ 105.70\n",
      "1977-03-03 00:00:00 SELL 236 ^GSPC @ 100.88\n",
      "1978-05-22 00:00:00 BUY  241 ^GSPC @ 99.09\n",
      "1978-12-13 00:00:00 SELL 241 ^GSPC @ 96.06\n",
      "1979-03-21 00:00:00 BUY  228 ^GSPC @ 101.25\n",
      "1980-04-22 00:00:00 SELL 228 ^GSPC @ 103.43\n",
      "1980-06-17 00:00:00 BUY  203 ^GSPC @ 116.03\n",
      "1981-07-02 00:00:00 SELL 203 ^GSPC @ 128.64\n",
      "1982-09-28 00:00:00 BUY  212 ^GSPC @ 123.24\n",
      "1984-02-03 00:00:00 SELL 212 ^GSPC @ 160.91\n",
      "1984-09-12 00:00:00 BUY  207 ^GSPC @ 164.68\n",
      "1986-11-18 00:00:00 SELL 207 ^GSPC @ 236.78\n",
      "1986-11-25 00:00:00 BUY  197 ^GSPC @ 248.17\n",
      "1987-11-05 00:00:00 SELL 197 ^GSPC @ 254.48\n",
      "1988-06-28 00:00:00 BUY  184 ^GSPC @ 272.31\n",
      "1990-02-26 00:00:00 SELL 184 ^GSPC @ 328.67\n",
      "1990-05-25 00:00:00 BUY  171 ^GSPC @ 354.58\n",
      "1990-09-07 00:00:00 SELL 171 ^GSPC @ 323.40\n",
      "1991-02-15 00:00:00 BUY  150 ^GSPC @ 369.06\n",
      "1994-04-19 00:00:00 SELL 150 ^GSPC @ 442.54\n",
      "1994-09-15 00:00:00 BUY  139 ^GSPC @ 474.81\n",
      "1998-09-29 00:00:00 SELL 139 ^GSPC @ 1049.02\n",
      "1998-12-08 00:00:00 BUY  123 ^GSPC @ 1181.38\n",
      "1999-11-04 00:00:00 SELL 123 ^GSPC @ 1362.64\n",
      "1999-11-11 00:00:00 BUY  121 ^GSPC @ 1381.46\n",
      "2000-10-30 00:00:00 SELL 121 ^GSPC @ 1398.66\n",
      "2003-05-14 00:00:00 BUY  181 ^GSPC @ 939.28\n",
      "2004-08-18 00:00:00 SELL 181 ^GSPC @ 1095.17\n",
      "2004-11-05 00:00:00 BUY  170 ^GSPC @ 1166.17\n",
      "2006-07-19 00:00:00 SELL 170 ^GSPC @ 1259.81\n",
      "2006-09-12 00:00:00 BUY  163 ^GSPC @ 1313.00\n",
      "2007-12-21 00:00:00 SELL 163 ^GSPC @ 1484.46\n",
      "2009-06-23 00:00:00 BUY  271 ^GSPC @ 895.10\n",
      "2010-07-02 00:00:00 SELL 271 ^GSPC @ 1022.58\n",
      "2010-10-22 00:00:00 BUY  234 ^GSPC @ 1183.08\n",
      "2011-08-12 00:00:00 SELL 234 ^GSPC @ 1178.81\n",
      "2012-01-31 00:00:00 BUY  210 ^GSPC @ 1312.41\n",
      "2015-08-28 00:00:00 SELL 210 ^GSPC @ 1988.87\n",
      "2015-12-21 00:00:00 BUY  206 ^GSPC @ 2021.15\n",
      "2016-01-11 00:00:00 SELL 206 ^GSPC @ 1923.67\n",
      "2016-04-25 00:00:00 BUY  190 ^GSPC @ 2087.79\n",
      "2018-12-07 00:00:00 SELL 190 ^GSPC @ 2633.08\n",
      "2019-04-01 00:00:00 BUY  175 ^GSPC @ 2867.19\n",
      "2020-03-30 00:00:00 SELL 175 ^GSPC @ 2626.65\n",
      "0.09794878959655762\n"
     ]
    }
   ],
   "source": [
    "tlog.initialize(capital)\n",
    "\n",
    "import time\n",
    "t0 = time.time()\n",
    "\n",
    "\"\"\"\n",
    "# This is the slowest (2.42 s)\n",
    "for i in range(len(ts.index)):\n",
    "\n",
    "    date = ts.index[i]\n",
    "    high = ts['high'][i]\n",
    "    low = ts['low'][i]\n",
    "    close = ts['close'][i]\n",
    "    sma50 = ts['sma50'][i]\n",
    "    sma200 = ts['sma200'][i]\n",
    "\n",
    "# This is still slow (2.53 s)\n",
    "for i, (index, row) in enumerate(ts.iterrows()):\n",
    "\n",
    "    date = index\n",
    "    high = row['high']\n",
    "    low = row['low']\n",
    "    close = row['close']\n",
    "    sma50 = row['sma50']\n",
    "    sma200 = row['sma200']\n",
    "\n",
    "\n",
    "# using .at[] is fast (832 ms)\n",
    "for i, index in enumerate(ts.index):\n",
    "\n",
    "    date = index\n",
    "    high = ts.at[index, 'high']\n",
    "    low = ts.at[index, 'low']\n",
    "    close = ts.at[index, 'close']\n",
    "    sma50 = ts.at[index, 'sma50']\n",
    "    sma200 = ts.at[index, 'sma200']\n",
    "\n",
    "# using itertuples is fastest for looping (378 ms)\n",
    "for i, row in enumerate(ts.itertuples()):\n",
    "\n",
    "    date = row.Index.to_pydatetime()\n",
    "    high = row.high\n",
    "    low = row.low\n",
    "    close = row.close\n",
    "    sma50 = row.sma50\n",
    "    sma200 = row.sma200\n",
    "\"\"\"\n",
    "\n",
    "for i, row in enumerate(ts.itertuples()):\n",
    "\n",
    "    date = row.Index.to_pydatetime()\n",
    "    high = row.high; low = row.low; close = row.close; \n",
    "    end_flag = pf.is_last_row(ts, i)\n",
    "    shares = 0\n",
    "    \n",
    "    # close all positions on last trade day\n",
    "    if end_flag:\n",
    "        shares = tlog.exit_trade(date, close)\n",
    "    # buy\n",
    "    elif (tlog.num_open_trades() == 0\n",
    "          and row.sma50 > row.sma200 and ts['sma50'][i-1] <= ts['sma200'][i-1]):\n",
    "\n",
    "        # enter buy in trade log\n",
    "        shares = tlog.enter_trade(date, close)  \n",
    "    # sell\n",
    "    elif (tlog.num_open_trades() > 0\n",
    "          and row.sma50 < row.sma200 and ts['sma50'][i-1] >= ts['sma200'][i-1]):\n",
    "\n",
    "        # enter sell in trade log\n",
    "        shares = tlog.exit_trade(date, close)\n",
    "\n",
    "    if shares > 0:\n",
    "        print(\"{0} BUY  {1} {2} @ {3:.2f}\".format(\n",
    "              date, shares, symbol, close))\n",
    "    elif shares < 0:\n",
    "        print(\"{0} SELL {1} {2} @ {3:.2f}\".format(\n",
    "              date, -shares, symbol, close))\n",
    "\n",
    "    # record daily balance\n",
    "    dbal.append(date, high, low, close, tlog.shares)  \n",
    "\n",
    "t1 = time.time()\n",
    "total = t1-t0\n",
    "print(total)\n",
    "        "
   ]
  },
  {
   "cell_type": "markdown",
   "metadata": {},
   "source": [
    "Retrieve raw log and trade log DataFrames"
   ]
  },
  {
   "cell_type": "code",
   "execution_count": 12,
   "metadata": {
    "ExecuteTime": {
     "end_time": "2020-02-16T23:06:26.861694Z",
     "start_time": "2020-02-16T23:06:26.846951Z"
    }
   },
   "outputs": [],
   "source": [
    "rlog = tlog.get_log_raw()\n",
    "tlog = tlog.get_log()"
   ]
  },
  {
   "cell_type": "code",
   "execution_count": 13,
   "metadata": {
    "ExecuteTime": {
     "end_time": "2020-02-16T23:06:26.904678Z",
     "start_time": "2020-02-16T23:06:26.865894Z"
    }
   },
   "outputs": [
    {
     "data": {
      "text/html": [
       "<div>\n",
       "<style scoped>\n",
       "    .dataframe tbody tr th:only-of-type {\n",
       "        vertical-align: middle;\n",
       "    }\n",
       "\n",
       "    .dataframe tbody tr th {\n",
       "        vertical-align: top;\n",
       "    }\n",
       "\n",
       "    .dataframe thead th {\n",
       "        text-align: right;\n",
       "    }\n",
       "</style>\n",
       "<table border=\"1\" class=\"dataframe\">\n",
       "  <thead>\n",
       "    <tr style=\"text-align: right;\">\n",
       "      <th></th>\n",
       "      <th>date</th>\n",
       "      <th>price</th>\n",
       "      <th>shares</th>\n",
       "      <th>entry_exit</th>\n",
       "      <th>symbol</th>\n",
       "    </tr>\n",
       "  </thead>\n",
       "  <tbody>\n",
       "    <tr>\n",
       "      <th>63</th>\n",
       "      <td>2016-01-11</td>\n",
       "      <td>1923.67</td>\n",
       "      <td>206</td>\n",
       "      <td>exit</td>\n",
       "      <td></td>\n",
       "    </tr>\n",
       "    <tr>\n",
       "      <th>64</th>\n",
       "      <td>2016-04-25</td>\n",
       "      <td>2087.79</td>\n",
       "      <td>190</td>\n",
       "      <td>entry</td>\n",
       "      <td></td>\n",
       "    </tr>\n",
       "    <tr>\n",
       "      <th>65</th>\n",
       "      <td>2018-12-07</td>\n",
       "      <td>2633.08</td>\n",
       "      <td>190</td>\n",
       "      <td>exit</td>\n",
       "      <td></td>\n",
       "    </tr>\n",
       "    <tr>\n",
       "      <th>66</th>\n",
       "      <td>2019-04-01</td>\n",
       "      <td>2867.19</td>\n",
       "      <td>175</td>\n",
       "      <td>entry</td>\n",
       "      <td></td>\n",
       "    </tr>\n",
       "    <tr>\n",
       "      <th>67</th>\n",
       "      <td>2020-03-30</td>\n",
       "      <td>2626.65</td>\n",
       "      <td>175</td>\n",
       "      <td>exit</td>\n",
       "      <td></td>\n",
       "    </tr>\n",
       "  </tbody>\n",
       "</table>\n",
       "</div>"
      ],
      "text/plain": [
       "         date   price  shares entry_exit symbol\n",
       "63 2016-01-11 1923.67     206       exit       \n",
       "64 2016-04-25 2087.79     190      entry       \n",
       "65 2018-12-07 2633.08     190       exit       \n",
       "66 2019-04-01 2867.19     175      entry       \n",
       "67 2020-03-30 2626.65     175       exit       "
      ]
     },
     "execution_count": 13,
     "metadata": {},
     "output_type": "execute_result"
    }
   ],
   "source": [
    "rlog.tail()"
   ]
  },
  {
   "cell_type": "code",
   "execution_count": 14,
   "metadata": {
    "ExecuteTime": {
     "end_time": "2020-02-16T23:06:26.958698Z",
     "start_time": "2020-02-16T23:06:26.909716Z"
    }
   },
   "outputs": [
    {
     "data": {
      "text/html": [
       "<div>\n",
       "<style scoped>\n",
       "    .dataframe tbody tr th:only-of-type {\n",
       "        vertical-align: middle;\n",
       "    }\n",
       "\n",
       "    .dataframe tbody tr th {\n",
       "        vertical-align: top;\n",
       "    }\n",
       "\n",
       "    .dataframe thead th {\n",
       "        text-align: right;\n",
       "    }\n",
       "</style>\n",
       "<table border=\"1\" class=\"dataframe\">\n",
       "  <thead>\n",
       "    <tr style=\"text-align: right;\">\n",
       "      <th></th>\n",
       "      <th>entry_date</th>\n",
       "      <th>entry_price</th>\n",
       "      <th>exit_date</th>\n",
       "      <th>exit_price</th>\n",
       "      <th>pl_points</th>\n",
       "      <th>pl_cash</th>\n",
       "      <th>qty</th>\n",
       "      <th>cumul_total</th>\n",
       "      <th>symbol</th>\n",
       "    </tr>\n",
       "  </thead>\n",
       "  <tbody>\n",
       "    <tr>\n",
       "      <th>24</th>\n",
       "      <td>1999-11-11</td>\n",
       "      <td>1381.46</td>\n",
       "      <td>2000-10-30</td>\n",
       "      <td>1398.66</td>\n",
       "      <td>17.20</td>\n",
       "      <td>2081.21</td>\n",
       "      <td>121</td>\n",
       "      <td>160616.25</td>\n",
       "      <td></td>\n",
       "    </tr>\n",
       "    <tr>\n",
       "      <th>25</th>\n",
       "      <td>2003-05-14</td>\n",
       "      <td>939.28</td>\n",
       "      <td>2004-08-18</td>\n",
       "      <td>1095.17</td>\n",
       "      <td>155.89</td>\n",
       "      <td>28216.09</td>\n",
       "      <td>181</td>\n",
       "      <td>188832.34</td>\n",
       "      <td></td>\n",
       "    </tr>\n",
       "    <tr>\n",
       "      <th>26</th>\n",
       "      <td>2004-11-05</td>\n",
       "      <td>1166.17</td>\n",
       "      <td>2006-07-19</td>\n",
       "      <td>1259.81</td>\n",
       "      <td>93.64</td>\n",
       "      <td>15918.80</td>\n",
       "      <td>170</td>\n",
       "      <td>204751.14</td>\n",
       "      <td></td>\n",
       "    </tr>\n",
       "    <tr>\n",
       "      <th>27</th>\n",
       "      <td>2006-09-12</td>\n",
       "      <td>1313.00</td>\n",
       "      <td>2007-12-21</td>\n",
       "      <td>1484.46</td>\n",
       "      <td>171.46</td>\n",
       "      <td>27947.97</td>\n",
       "      <td>163</td>\n",
       "      <td>232699.12</td>\n",
       "      <td></td>\n",
       "    </tr>\n",
       "    <tr>\n",
       "      <th>28</th>\n",
       "      <td>2009-06-23</td>\n",
       "      <td>895.10</td>\n",
       "      <td>2010-07-02</td>\n",
       "      <td>1022.58</td>\n",
       "      <td>127.48</td>\n",
       "      <td>34547.09</td>\n",
       "      <td>271</td>\n",
       "      <td>267246.21</td>\n",
       "      <td></td>\n",
       "    </tr>\n",
       "    <tr>\n",
       "      <th>29</th>\n",
       "      <td>2010-10-22</td>\n",
       "      <td>1183.08</td>\n",
       "      <td>2011-08-12</td>\n",
       "      <td>1178.81</td>\n",
       "      <td>-4.27</td>\n",
       "      <td>-999.16</td>\n",
       "      <td>234</td>\n",
       "      <td>266247.05</td>\n",
       "      <td></td>\n",
       "    </tr>\n",
       "    <tr>\n",
       "      <th>30</th>\n",
       "      <td>2012-01-31</td>\n",
       "      <td>1312.41</td>\n",
       "      <td>2015-08-28</td>\n",
       "      <td>1988.87</td>\n",
       "      <td>676.46</td>\n",
       "      <td>142056.59</td>\n",
       "      <td>210</td>\n",
       "      <td>408303.64</td>\n",
       "      <td></td>\n",
       "    </tr>\n",
       "    <tr>\n",
       "      <th>31</th>\n",
       "      <td>2015-12-21</td>\n",
       "      <td>2021.15</td>\n",
       "      <td>2016-01-11</td>\n",
       "      <td>1923.67</td>\n",
       "      <td>-97.48</td>\n",
       "      <td>-20080.88</td>\n",
       "      <td>206</td>\n",
       "      <td>388222.77</td>\n",
       "      <td></td>\n",
       "    </tr>\n",
       "    <tr>\n",
       "      <th>32</th>\n",
       "      <td>2016-04-25</td>\n",
       "      <td>2087.79</td>\n",
       "      <td>2018-12-07</td>\n",
       "      <td>2633.08</td>\n",
       "      <td>545.29</td>\n",
       "      <td>103605.11</td>\n",
       "      <td>190</td>\n",
       "      <td>491827.88</td>\n",
       "      <td></td>\n",
       "    </tr>\n",
       "    <tr>\n",
       "      <th>33</th>\n",
       "      <td>2019-04-01</td>\n",
       "      <td>2867.19</td>\n",
       "      <td>2020-03-30</td>\n",
       "      <td>2626.65</td>\n",
       "      <td>-240.54</td>\n",
       "      <td>-42094.51</td>\n",
       "      <td>175</td>\n",
       "      <td>449733.37</td>\n",
       "      <td></td>\n",
       "    </tr>\n",
       "  </tbody>\n",
       "</table>\n",
       "</div>"
      ],
      "text/plain": [
       "   entry_date  entry_price  exit_date  exit_price  pl_points   pl_cash  qty  \\\n",
       "24 1999-11-11      1381.46 2000-10-30     1398.66      17.20   2081.21  121   \n",
       "25 2003-05-14       939.28 2004-08-18     1095.17     155.89  28216.09  181   \n",
       "26 2004-11-05      1166.17 2006-07-19     1259.81      93.64  15918.80  170   \n",
       "27 2006-09-12      1313.00 2007-12-21     1484.46     171.46  27947.97  163   \n",
       "28 2009-06-23       895.10 2010-07-02     1022.58     127.48  34547.09  271   \n",
       "29 2010-10-22      1183.08 2011-08-12     1178.81      -4.27   -999.16  234   \n",
       "30 2012-01-31      1312.41 2015-08-28     1988.87     676.46 142056.59  210   \n",
       "31 2015-12-21      2021.15 2016-01-11     1923.67     -97.48 -20080.88  206   \n",
       "32 2016-04-25      2087.79 2018-12-07     2633.08     545.29 103605.11  190   \n",
       "33 2019-04-01      2867.19 2020-03-30     2626.65    -240.54 -42094.51  175   \n",
       "\n",
       "    cumul_total symbol  \n",
       "24    160616.25         \n",
       "25    188832.34         \n",
       "26    204751.14         \n",
       "27    232699.12         \n",
       "28    267246.21         \n",
       "29    266247.05         \n",
       "30    408303.64         \n",
       "31    388222.77         \n",
       "32    491827.88         \n",
       "33    449733.37         "
      ]
     },
     "execution_count": 14,
     "metadata": {},
     "output_type": "execute_result"
    }
   ],
   "source": [
    "tlog.tail(10)"
   ]
  },
  {
   "cell_type": "code",
   "execution_count": 15,
   "metadata": {
    "ExecuteTime": {
     "end_time": "2020-02-16T23:06:27.989690Z",
     "start_time": "2020-02-16T23:06:26.966479Z"
    }
   },
   "outputs": [
    {
     "data": {
      "text/html": [
       "<div>\n",
       "<style scoped>\n",
       "    .dataframe tbody tr th:only-of-type {\n",
       "        vertical-align: middle;\n",
       "    }\n",
       "\n",
       "    .dataframe tbody tr th {\n",
       "        vertical-align: top;\n",
       "    }\n",
       "\n",
       "    .dataframe thead th {\n",
       "        text-align: right;\n",
       "    }\n",
       "</style>\n",
       "<table border=\"1\" class=\"dataframe\">\n",
       "  <thead>\n",
       "    <tr style=\"text-align: right;\">\n",
       "      <th></th>\n",
       "      <th>high</th>\n",
       "      <th>low</th>\n",
       "      <th>close</th>\n",
       "      <th>shares</th>\n",
       "      <th>cash</th>\n",
       "      <th>state</th>\n",
       "    </tr>\n",
       "    <tr>\n",
       "      <th>date</th>\n",
       "      <th></th>\n",
       "      <th></th>\n",
       "      <th></th>\n",
       "      <th></th>\n",
       "      <th></th>\n",
       "      <th></th>\n",
       "    </tr>\n",
       "  </thead>\n",
       "  <tbody>\n",
       "    <tr>\n",
       "      <th>2020-06-02</th>\n",
       "      <td>459733.37</td>\n",
       "      <td>459733.37</td>\n",
       "      <td>459733.37</td>\n",
       "      <td>0</td>\n",
       "      <td>459733.37</td>\n",
       "      <td>-</td>\n",
       "    </tr>\n",
       "    <tr>\n",
       "      <th>2020-06-03</th>\n",
       "      <td>459733.37</td>\n",
       "      <td>459733.37</td>\n",
       "      <td>459733.37</td>\n",
       "      <td>0</td>\n",
       "      <td>459733.37</td>\n",
       "      <td>-</td>\n",
       "    </tr>\n",
       "    <tr>\n",
       "      <th>2020-06-04</th>\n",
       "      <td>459733.37</td>\n",
       "      <td>459733.37</td>\n",
       "      <td>459733.37</td>\n",
       "      <td>0</td>\n",
       "      <td>459733.37</td>\n",
       "      <td>-</td>\n",
       "    </tr>\n",
       "    <tr>\n",
       "      <th>2020-06-05</th>\n",
       "      <td>459733.37</td>\n",
       "      <td>459733.37</td>\n",
       "      <td>459733.37</td>\n",
       "      <td>0</td>\n",
       "      <td>459733.37</td>\n",
       "      <td>-</td>\n",
       "    </tr>\n",
       "    <tr>\n",
       "      <th>2020-06-08</th>\n",
       "      <td>459733.37</td>\n",
       "      <td>459733.37</td>\n",
       "      <td>459733.37</td>\n",
       "      <td>0</td>\n",
       "      <td>459733.37</td>\n",
       "      <td>-</td>\n",
       "    </tr>\n",
       "  </tbody>\n",
       "</table>\n",
       "</div>"
      ],
      "text/plain": [
       "                high       low     close  shares      cash state\n",
       "date                                                            \n",
       "2020-06-02 459733.37 459733.37 459733.37       0 459733.37     -\n",
       "2020-06-03 459733.37 459733.37 459733.37       0 459733.37     -\n",
       "2020-06-04 459733.37 459733.37 459733.37       0 459733.37     -\n",
       "2020-06-05 459733.37 459733.37 459733.37       0 459733.37     -\n",
       "2020-06-08 459733.37 459733.37 459733.37       0 459733.37     -"
      ]
     },
     "execution_count": 15,
     "metadata": {},
     "output_type": "execute_result"
    }
   ],
   "source": [
    "dbal = dbal.get_log(tlog)\n",
    "dbal.tail()"
   ]
  },
  {
   "cell_type": "markdown",
   "metadata": {},
   "source": [
    "Generate strategy stats - display all available stats"
   ]
  },
  {
   "cell_type": "code",
   "execution_count": 16,
   "metadata": {
    "ExecuteTime": {
     "end_time": "2020-02-16T23:06:28.373532Z",
     "start_time": "2020-02-16T23:06:27.993693Z"
    }
   },
   "outputs": [
    {
     "name": "stdout",
     "output_type": "stream",
     "text": [
      "start                                                  1957-03-04\n",
      "end                                                    2020-06-08\n",
      "beginning_balance                                           10000\n",
      "ending_balance                                          459733.37\n",
      "total_net_profit                                        449733.37\n",
      "gross_profit                                            523232.94\n",
      "gross_loss                                              -73499.57\n",
      "profit_factor                                                7.12\n",
      "return_on_initial_capital                                 4497.33\n",
      "annual_return_rate                                           6.24\n",
      "trading_period                           63 years 3 months 4 days\n",
      "pct_time_in_market                                          69.45\n",
      "total_num_trades                                               34\n",
      "trades_per_year                                              0.54\n",
      "num_winning_trades                                             25\n",
      "num_losing_trades                                               9\n",
      "num_even_trades                                                 0\n",
      "pct_profitable_trades                                       73.53\n",
      "avg_profit_per_trade                                     13227.45\n",
      "avg_profit_per_winning_trade                             20929.32\n",
      "avg_loss_per_losing_trade                                -8166.62\n",
      "ratio_avg_profit_win_loss                                    2.56\n",
      "largest_profit_winning_trade                            142056.59\n",
      "largest_loss_losing_trade                               -42094.51\n",
      "num_winning_points                                        2893.27\n",
      "num_losing_points                                         -398.06\n",
      "total_net_points                                          2495.21\n",
      "avg_points                                                  73.39\n",
      "largest_points_winning_trade                               676.46\n",
      "largest_points_losing_trade                               -240.54\n",
      "avg_pct_gain_per_trade                                      13.93\n",
      "largest_pct_winning_trade                                  120.93\n",
      "largest_pct_losing_trade                                   -10.13\n",
      "max_consecutive_winning_trades                                  8\n",
      "max_consecutive_losing_trades                                   2\n",
      "avg_bars_winning_trades                                    409.28\n",
      "avg_bars_losing_trades                                      95.89\n",
      "max_closed_out_drawdown                                    -33.92\n",
      "max_closed_out_drawdown_start_date                     2020-02-19\n",
      "max_closed_out_drawdown_end_date                       2020-03-23\n",
      "max_closed_out_drawdown_recovery_date           Not Recovered Yet\n",
      "drawdown_recovery                                           -0.09\n",
      "drawdown_annualized_return                                  -5.44\n",
      "max_intra_day_drawdown                                     -35.81\n",
      "avg_yearly_closed_out_drawdown                              -8.79\n",
      "max_yearly_closed_out_drawdown                             -33.92\n",
      "avg_monthly_closed_out_drawdown                             -2.24\n",
      "max_monthly_closed_out_drawdown                            -31.36\n",
      "avg_weekly_closed_out_drawdown                              -0.85\n",
      "max_weekly_closed_out_drawdown                             -28.41\n",
      "avg_yearly_closed_out_runup                                 15.56\n",
      "max_yearly_closed_out_runup                                 51.98\n",
      "avg_monthly_closed_out_runup                                 2.73\n",
      "max_monthly_closed_out_runup                                17.55\n",
      "avg_weekly_closed_out_runup                                  0.99\n",
      "max_weekly_closed_out_runup                                 17.55\n",
      "pct_profitable_years                                        66.82\n",
      "best_year                                                   50.23\n",
      "worst_year                                                 -28.56\n",
      "avg_year                                                     7.21\n",
      "annual_std                                                  11.26\n",
      "pct_profitable_months                                       45.89\n",
      "best_month                                                  17.39\n",
      "worst_month                                                -30.94\n",
      "avg_month                                                    0.53\n",
      "monthly_std                                                  3.07\n",
      "pct_profitable_weeks                                        40.54\n",
      "best_week                                                   17.39\n",
      "worst_week                                                 -27.22\n",
      "avg_week                                                     0.13\n",
      "weekly_std                                                   1.61\n",
      "sharpe_ratio                                                 0.58\n",
      "sortino_ratio                                                0.59\n",
      "dtype: object\n"
     ]
    }
   ],
   "source": [
    "stats = pf.stats(ts, tlog, dbal, capital)\n",
    "pf.print_full(stats)"
   ]
  },
  {
   "cell_type": "markdown",
   "metadata": {},
   "source": [
    "Run Benchmark"
   ]
  },
  {
   "cell_type": "code",
   "execution_count": 17,
   "metadata": {
    "ExecuteTime": {
     "end_time": "2020-02-16T23:06:28.662544Z",
     "start_time": "2020-02-16T23:06:28.382522Z"
    }
   },
   "outputs": [
    {
     "name": "stdout",
     "output_type": "stream",
     "text": [
      "1957-03-04 00:00:00 BUY  226 ^GSPC @ 44.06\n",
      "2020-06-08 00:00:00 SELL 226 ^GSPC @ 3232.39\n"
     ]
    }
   ],
   "source": [
    "benchmark = pf.Benchmark(symbol, capital, start, end, use_adj)\n",
    "benchmark.run()"
   ]
  },
  {
   "cell_type": "markdown",
   "metadata": {},
   "source": [
    "Retrieve benchmark logs"
   ]
  },
  {
   "cell_type": "code",
   "execution_count": 18,
   "metadata": {
    "ExecuteTime": {
     "end_time": "2020-02-16T23:06:29.601496Z",
     "start_time": "2020-02-16T23:06:28.670209Z"
    }
   },
   "outputs": [],
   "source": [
    "benchmark.tlog, benchmark.dbal = benchmark.get_logs()"
   ]
  },
  {
   "cell_type": "markdown",
   "metadata": {},
   "source": [
    "Generate benchmark stats"
   ]
  },
  {
   "cell_type": "code",
   "execution_count": 19,
   "metadata": {
    "ExecuteTime": {
     "end_time": "2020-02-16T23:06:29.896894Z",
     "start_time": "2020-02-16T23:06:29.611895Z"
    },
    "scrolled": false
   },
   "outputs": [],
   "source": [
    "benchmark.stats = benchmark.get_stats()"
   ]
  },
  {
   "cell_type": "markdown",
   "metadata": {},
   "source": [
    "Plot Equity Curves: Strategy vs Benchmark"
   ]
  },
  {
   "cell_type": "code",
   "execution_count": 20,
   "metadata": {
    "ExecuteTime": {
     "end_time": "2020-02-16T23:06:30.229456Z",
     "start_time": "2020-02-16T23:06:29.905725Z"
    }
   },
   "outputs": [
    {
     "data": {
      "image/png": "[encoded data removed]",
      "text/plain": [
       "<Figure size 720x504 with 1 Axes>"
      ]
     },
     "metadata": {
      "needs_background": "light"
     },
     "output_type": "display_data"
    }
   ],
   "source": [
    "pf.plot_equity_curve(dbal, benchmark=benchmark.dbal)"
   ]
  },
  {
   "cell_type": "markdown",
   "metadata": {},
   "source": [
    "Plot Trades"
   ]
  },
  {
   "cell_type": "code",
   "execution_count": 21,
   "metadata": {
    "ExecuteTime": {
     "end_time": "2020-02-16T23:06:30.548129Z",
     "start_time": "2020-02-16T23:06:30.236358Z"
    }
   },
   "outputs": [
    {
     "data": {
      "image/png": "[encoded data removed]",
      "text/plain": [
       "<Figure size 720x504 with 1 Axes>"
      ]
     },
     "metadata": {
      "needs_background": "light"
     },
     "output_type": "display_data"
    }
   ],
   "source": [
    "pf.plot_trades(dbal, benchmark=benchmark.dbal)"
   ]
  },
  {
   "cell_type": "markdown",
   "metadata": {},
   "source": [
    "Strategy vs Benchmark"
   ]
  },
  {
   "cell_type": "code",
   "execution_count": 22,
   "metadata": {
    "ExecuteTime": {
     "end_time": "2020-02-16T23:06:30.582747Z",
     "start_time": "2020-02-16T23:06:30.555947Z"
    }
   },
   "outputs": [
    {
     "data": {
      "text/html": [
       "<div>\n",
       "<style scoped>\n",
       "    .dataframe tbody tr th:only-of-type {\n",
       "        vertical-align: middle;\n",
       "    }\n",
       "\n",
       "    .dataframe tbody tr th {\n",
       "        vertical-align: top;\n",
       "    }\n",
       "\n",
       "    .dataframe thead th {\n",
       "        text-align: right;\n",
       "    }\n",
       "</style>\n",
       "<table border=\"1\" class=\"dataframe\">\n",
       "  <thead>\n",
       "    <tr style=\"text-align: right;\">\n",
       "      <th></th>\n",
       "      <th>strategy</th>\n",
       "      <th>benchmark</th>\n",
       "    </tr>\n",
       "  </thead>\n",
       "  <tbody>\n",
       "    <tr>\n",
       "      <th>beginning_balance</th>\n",
       "      <td>$10,000.00</td>\n",
       "      <td>$10,000.00</td>\n",
       "    </tr>\n",
       "    <tr>\n",
       "      <th>ending_balance</th>\n",
       "      <td>$459,733.37</td>\n",
       "      <td>$730,562.56</td>\n",
       "    </tr>\n",
       "    <tr>\n",
       "      <th>total_net_profit</th>\n",
       "      <td>$449,733.37</td>\n",
       "      <td>$720,562.56</td>\n",
       "    </tr>\n",
       "    <tr>\n",
       "      <th>gross_profit</th>\n",
       "      <td>$523,232.94</td>\n",
       "      <td>$720,562.56</td>\n",
       "    </tr>\n",
       "    <tr>\n",
       "      <th>gross_loss</th>\n",
       "      <td>-$73,499.57</td>\n",
       "      <td>$0.00</td>\n",
       "    </tr>\n",
       "  </tbody>\n",
       "</table>\n",
       "</div>"
      ],
      "text/plain": [
       "                      strategy    benchmark\n",
       "beginning_balance   $10,000.00   $10,000.00\n",
       "ending_balance     $459,733.37  $730,562.56\n",
       "total_net_profit   $449,733.37  $720,562.56\n",
       "gross_profit       $523,232.94  $720,562.56\n",
       "gross_loss         -$73,499.57        $0.00"
      ]
     },
     "execution_count": 22,
     "metadata": {},
     "output_type": "execute_result"
    }
   ],
   "source": [
    "df = pf.summary5(stats, benchmark.stats)\n",
    "df"
   ]
  },
  {
   "cell_type": "code",
   "execution_count": 23,
   "metadata": {
    "ExecuteTime": {
     "end_time": "2020-02-16T23:06:31.139756Z",
     "start_time": "2020-02-16T23:06:30.587570Z"
    },
    "scrolled": false
   },
   "outputs": [
    {
     "data": {
      "text/html": [
       "<div>\n",
       "<style scoped>\n",
       "    .dataframe tbody tr th:only-of-type {\n",
       "        vertical-align: middle;\n",
       "    }\n",
       "\n",
       "    .dataframe tbody tr th {\n",
       "        vertical-align: top;\n",
       "    }\n",
       "\n",
       "    .dataframe thead th {\n",
       "        text-align: right;\n",
       "    }\n",
       "</style>\n",
       "<table border=\"1\" class=\"dataframe\">\n",
       "  <thead>\n",
       "    <tr style=\"text-align: right;\">\n",
       "      <th></th>\n",
       "      <th>strategy</th>\n",
       "      <th>benchmark</th>\n",
       "    </tr>\n",
       "  </thead>\n",
       "  <tbody>\n",
       "    <tr>\n",
       "      <th>annual_return_rate</th>\n",
       "      <td>6.24</td>\n",
       "      <td>7.02</td>\n",
       "    </tr>\n",
       "    <tr>\n",
       "      <th>max_closed_out_drawdown</th>\n",
       "      <td>-33.92</td>\n",
       "      <td>-56.77</td>\n",
       "    </tr>\n",
       "    <tr>\n",
       "      <th>drawdown_annualized_return</th>\n",
       "      <td>-5.44</td>\n",
       "      <td>-8.09</td>\n",
       "    </tr>\n",
       "    <tr>\n",
       "      <th>drawdown_recovery</th>\n",
       "      <td>-0.09</td>\n",
       "      <td>-1.42</td>\n",
       "    </tr>\n",
       "    <tr>\n",
       "      <th>best_month</th>\n",
       "      <td>17.39</td>\n",
       "      <td>23.49</td>\n",
       "    </tr>\n",
       "    <tr>\n",
       "      <th>worst_month</th>\n",
       "      <td>-30.94</td>\n",
       "      <td>-30.94</td>\n",
       "    </tr>\n",
       "    <tr>\n",
       "      <th>sharpe_ratio</th>\n",
       "      <td>0.58</td>\n",
       "      <td>0.50</td>\n",
       "    </tr>\n",
       "    <tr>\n",
       "      <th>sortino_ratio</th>\n",
       "      <td>0.59</td>\n",
       "      <td>0.64</td>\n",
       "    </tr>\n",
       "    <tr>\n",
       "      <th>monthly_std</th>\n",
       "      <td>3.07</td>\n",
       "      <td>4.28</td>\n",
       "    </tr>\n",
       "    <tr>\n",
       "      <th>trades_per_year</th>\n",
       "      <td>0.54</td>\n",
       "      <td>0.02</td>\n",
       "    </tr>\n",
       "  </tbody>\n",
       "</table>\n",
       "</div>"
      ],
      "text/plain": [
       "                            strategy  benchmark\n",
       "annual_return_rate              6.24       7.02\n",
       "max_closed_out_drawdown       -33.92     -56.77\n",
       "drawdown_annualized_return     -5.44      -8.09\n",
       "drawdown_recovery              -0.09      -1.42\n",
       "best_month                     17.39      23.49\n",
       "worst_month                   -30.94     -30.94\n",
       "sharpe_ratio                    0.58       0.50\n",
       "sortino_ratio                   0.59       0.64\n",
       "monthly_std                     3.07       4.28\n",
       "trades_per_year                 0.54       0.02"
      ]
     },
     "execution_count": 23,
     "metadata": {},
     "output_type": "execute_result"
    },
    {
     "data": {
      "image/png": "[encoded data removed]",
      "text/plain": [
       "<Figure size 720x504 with 1 Axes>"
      ]
     },
     "metadata": {
      "needs_background": "light"
     },
     "output_type": "display_data"
    }
   ],
   "source": [
    "metrics = ('annual_return_rate',\n",
    "           'max_closed_out_drawdown',\n",
    "           'drawdown_annualized_return',\n",
    "           'drawdown_recovery',\n",
    "           'best_month',\n",
    "           'worst_month',\n",
    "           'sharpe_ratio',\n",
    "           'sortino_ratio',\n",
    "           'monthly_std',\n",
    "           'trades_per_year')\n",
    "\n",
    "df = pf.plot_bar_graph(stats, benchmark.stats, *metrics)\n",
    "df"
   ]
  }
 ],
 "metadata": {
  "kernelspec": {
   "display_name": "Python 3",
   "language": "python",
   "name": "python3"
  },
  "language_info": {
   "codemirror_mode": {
    "name": "ipython",
    "version": 3
   },
   "file_extension": ".py",
   "mimetype": "text/x-python",
   "name": "python",
   "nbconvert_exporter": "python",
   "pygments_lexer": "ipython3",
   "version": "3.8.2"
  },
  "latex_envs": {
   "LaTeX_envs_menu_present": true,
   "autoclose": false,
   "autocomplete": true,
   "bibliofile": "biblio.bib",
   "cite_by": "apalike",
   "current_citInitial": 1,
   "eqLabelWithNumbers": true,
   "eqNumInitial": 1,
   "hotkeys": {
    "equation": "Ctrl-E",
    "itemize": "Ctrl-I"
   },
   "labels_anchors": false,
   "latex_user_defs": false,
   "report_style_numbering": false,
   "user_envs_cfg": false
  }
 },
 "nbformat": 4,
 "nbformat_minor": 1
}
