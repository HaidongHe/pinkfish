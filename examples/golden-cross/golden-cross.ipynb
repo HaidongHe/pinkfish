{
 "cells": [
  {
   "cell_type": "markdown",
   "metadata": {},
   "source": [
    "# Golden Cross / Death Cross S&P 500 index (^GSPC)\n",
    "\n",
    "    1. sma50>sma200, buy\n",
    "    2. sma50<sma200, sell your long position.\n",
    "    \n",
    "    THIS IS MEANT FOR EDUCATIONAL PURPOSES.  The condensed version is in strategy.ipynb"
   ]
  },
  {
   "cell_type": "code",
   "execution_count": 47,
   "metadata": {
    "ExecuteTime": {
     "end_time": "2020-02-16T23:06:25.607999Z",
     "start_time": "2020-02-16T23:06:24.350022Z"
    }
   },
   "outputs": [],
   "source": [
    "import pandas as pd\n",
    "import matplotlib.pyplot as plt\n",
    "import datetime\n",
    "from talib.abstract import *\n",
    "\n",
    "import pinkfish as pf\n",
    "\n",
    "# format price data\n",
    "pd.options.display.float_format = '{:0.2f}'.format\n",
    "\n",
    "%matplotlib inline"
   ]
  },
  {
   "cell_type": "code",
   "execution_count": 48,
   "metadata": {
    "ExecuteTime": {
     "end_time": "2020-02-16T23:06:25.629044Z",
     "start_time": "2020-02-16T23:06:25.618153Z"
    }
   },
   "outputs": [],
   "source": [
    "# set size of inline plots\n",
    "'''note: rcParams can't be in same cell as import matplotlib\n",
    "   or %matplotlib inline\n",
    "   \n",
    "   %matplotlib notebook: will lead to interactive plots embedded within\n",
    "   the notebook, you can zoom and resize the figure\n",
    "   \n",
    "   %matplotlib inline: only draw static images in the notebook\n",
    "'''\n",
    "plt.rcParams[\"figure.figsize\"] = (10, 7)"
   ]
  },
  {
   "cell_type": "markdown",
   "metadata": {},
   "source": [
    "Some global data"
   ]
  },
  {
   "cell_type": "code",
   "execution_count": 49,
   "metadata": {
    "ExecuteTime": {
     "end_time": "2020-02-16T23:06:25.646650Z",
     "start_time": "2020-02-16T23:06:25.633319Z"
    }
   },
   "outputs": [],
   "source": [
    "#symbol = '^GSPC'\n",
    "symbol = 'SPY'\n",
    "#symbol = '^DJI'\n",
    "#symbol = 'DJA'\n",
    "#symbol = 'DIA'\n",
    "#symbol = 'QQQ'\n",
    "#symbol = 'IWM'\n",
    "#symbol = 'TLT'\n",
    "#symbol = 'GLD'\n",
    "#symbol = 'AAPL'\n",
    "#symbol = 'BBRY'\n",
    "capital = 10000\n",
    "#start = datetime.datetime(1900, 1, 1)\n",
    "start = datetime.datetime.strptime(pf.SP500_BEGIN, '%Y-%m-%d')\n",
    "end = datetime.datetime.now()"
   ]
  },
  {
   "cell_type": "markdown",
   "metadata": {},
   "source": [
    "Include dividends? (If yes, set to True)"
   ]
  },
  {
   "cell_type": "code",
   "execution_count": 50,
   "metadata": {
    "ExecuteTime": {
     "end_time": "2020-02-16T23:06:25.663693Z",
     "start_time": "2020-02-16T23:06:25.648450Z"
    }
   },
   "outputs": [],
   "source": [
    "use_adj = True"
   ]
  },
  {
   "cell_type": "markdown",
   "metadata": {},
   "source": [
    "Fetch symbol data from internet; use cache if available."
   ]
  },
  {
   "cell_type": "code",
   "execution_count": 51,
   "metadata": {
    "ExecuteTime": {
     "end_time": "2020-02-16T23:06:25.791667Z",
     "start_time": "2020-02-16T23:06:25.665622Z"
    }
   },
   "outputs": [
    {
     "data": {
      "text/html": [
       "<div>\n",
       "<style scoped>\n",
       "    .dataframe tbody tr th:only-of-type {\n",
       "        vertical-align: middle;\n",
       "    }\n",
       "\n",
       "    .dataframe tbody tr th {\n",
       "        vertical-align: top;\n",
       "    }\n",
       "\n",
       "    .dataframe thead th {\n",
       "        text-align: right;\n",
       "    }\n",
       "</style>\n",
       "<table border=\"1\" class=\"dataframe\">\n",
       "  <thead>\n",
       "    <tr style=\"text-align: right;\">\n",
       "      <th></th>\n",
       "      <th>high</th>\n",
       "      <th>low</th>\n",
       "      <th>open</th>\n",
       "      <th>close</th>\n",
       "      <th>volume</th>\n",
       "      <th>adj_close</th>\n",
       "    </tr>\n",
       "    <tr>\n",
       "      <th>date</th>\n",
       "      <th></th>\n",
       "      <th></th>\n",
       "      <th></th>\n",
       "      <th></th>\n",
       "      <th></th>\n",
       "      <th></th>\n",
       "    </tr>\n",
       "  </thead>\n",
       "  <tbody>\n",
       "    <tr>\n",
       "      <th>1993-01-29</th>\n",
       "      <td>43.97</td>\n",
       "      <td>43.75</td>\n",
       "      <td>43.97</td>\n",
       "      <td>43.94</td>\n",
       "      <td>1003200.00</td>\n",
       "      <td>26.18</td>\n",
       "    </tr>\n",
       "    <tr>\n",
       "      <th>1993-02-01</th>\n",
       "      <td>44.25</td>\n",
       "      <td>43.97</td>\n",
       "      <td>43.97</td>\n",
       "      <td>44.25</td>\n",
       "      <td>480500.00</td>\n",
       "      <td>26.37</td>\n",
       "    </tr>\n",
       "    <tr>\n",
       "      <th>1993-02-02</th>\n",
       "      <td>44.38</td>\n",
       "      <td>44.12</td>\n",
       "      <td>44.22</td>\n",
       "      <td>44.34</td>\n",
       "      <td>201300.00</td>\n",
       "      <td>26.43</td>\n",
       "    </tr>\n",
       "    <tr>\n",
       "      <th>1993-02-03</th>\n",
       "      <td>44.84</td>\n",
       "      <td>44.38</td>\n",
       "      <td>44.41</td>\n",
       "      <td>44.81</td>\n",
       "      <td>529400.00</td>\n",
       "      <td>26.71</td>\n",
       "    </tr>\n",
       "    <tr>\n",
       "      <th>1993-02-04</th>\n",
       "      <td>45.09</td>\n",
       "      <td>44.47</td>\n",
       "      <td>44.97</td>\n",
       "      <td>45.00</td>\n",
       "      <td>531500.00</td>\n",
       "      <td>26.82</td>\n",
       "    </tr>\n",
       "  </tbody>\n",
       "</table>\n",
       "</div>"
      ],
      "text/plain": [
       "            high   low  open  close     volume  adj_close\n",
       "date                                                     \n",
       "1993-01-29 43.97 43.75 43.97  43.94 1003200.00      26.18\n",
       "1993-02-01 44.25 43.97 43.97  44.25  480500.00      26.37\n",
       "1993-02-02 44.38 44.12 44.22  44.34  201300.00      26.43\n",
       "1993-02-03 44.84 44.38 44.41  44.81  529400.00      26.71\n",
       "1993-02-04 45.09 44.47 44.97  45.00  531500.00      26.82"
      ]
     },
     "execution_count": 51,
     "metadata": {},
     "output_type": "execute_result"
    }
   ],
   "source": [
    "ts = pf.fetch_timeseries(symbol)\n",
    "ts.head()"
   ]
  },
  {
   "cell_type": "markdown",
   "metadata": {},
   "source": [
    "Select timeseries between start and end. Back adjust prices relative to adj_close for dividends and splits."
   ]
  },
  {
   "cell_type": "code",
   "execution_count": 52,
   "metadata": {
    "ExecuteTime": {
     "end_time": "2020-02-16T23:06:25.832676Z",
     "start_time": "2020-02-16T23:06:25.798816Z"
    }
   },
   "outputs": [
    {
     "data": {
      "text/html": [
       "<div>\n",
       "<style scoped>\n",
       "    .dataframe tbody tr th:only-of-type {\n",
       "        vertical-align: middle;\n",
       "    }\n",
       "\n",
       "    .dataframe tbody tr th {\n",
       "        vertical-align: top;\n",
       "    }\n",
       "\n",
       "    .dataframe thead th {\n",
       "        text-align: right;\n",
       "    }\n",
       "</style>\n",
       "<table border=\"1\" class=\"dataframe\">\n",
       "  <thead>\n",
       "    <tr style=\"text-align: right;\">\n",
       "      <th></th>\n",
       "      <th>high</th>\n",
       "      <th>low</th>\n",
       "      <th>open</th>\n",
       "      <th>close</th>\n",
       "      <th>volume</th>\n",
       "      <th>adj_close</th>\n",
       "    </tr>\n",
       "    <tr>\n",
       "      <th>date</th>\n",
       "      <th></th>\n",
       "      <th></th>\n",
       "      <th></th>\n",
       "      <th></th>\n",
       "      <th></th>\n",
       "      <th></th>\n",
       "    </tr>\n",
       "  </thead>\n",
       "  <tbody>\n",
       "    <tr>\n",
       "      <th>1993-01-29</th>\n",
       "      <td>26.20</td>\n",
       "      <td>26.07</td>\n",
       "      <td>26.20</td>\n",
       "      <td>26.18</td>\n",
       "      <td>1003200.00</td>\n",
       "      <td>26.18</td>\n",
       "    </tr>\n",
       "    <tr>\n",
       "      <th>1993-02-01</th>\n",
       "      <td>26.37</td>\n",
       "      <td>26.20</td>\n",
       "      <td>26.20</td>\n",
       "      <td>26.37</td>\n",
       "      <td>480500.00</td>\n",
       "      <td>26.37</td>\n",
       "    </tr>\n",
       "    <tr>\n",
       "      <th>1993-02-02</th>\n",
       "      <td>26.44</td>\n",
       "      <td>26.30</td>\n",
       "      <td>26.35</td>\n",
       "      <td>26.43</td>\n",
       "      <td>201300.00</td>\n",
       "      <td>26.43</td>\n",
       "    </tr>\n",
       "    <tr>\n",
       "      <th>1993-02-03</th>\n",
       "      <td>26.72</td>\n",
       "      <td>26.44</td>\n",
       "      <td>26.46</td>\n",
       "      <td>26.71</td>\n",
       "      <td>529400.00</td>\n",
       "      <td>26.71</td>\n",
       "    </tr>\n",
       "    <tr>\n",
       "      <th>1993-02-04</th>\n",
       "      <td>26.87</td>\n",
       "      <td>26.50</td>\n",
       "      <td>26.80</td>\n",
       "      <td>26.82</td>\n",
       "      <td>531500.00</td>\n",
       "      <td>26.82</td>\n",
       "    </tr>\n",
       "  </tbody>\n",
       "</table>\n",
       "</div>"
      ],
      "text/plain": [
       "            high   low  open  close     volume  adj_close\n",
       "date                                                     \n",
       "1993-01-29 26.20 26.07 26.20  26.18 1003200.00      26.18\n",
       "1993-02-01 26.37 26.20 26.20  26.37  480500.00      26.37\n",
       "1993-02-02 26.44 26.30 26.35  26.43  201300.00      26.43\n",
       "1993-02-03 26.72 26.44 26.46  26.71  529400.00      26.71\n",
       "1993-02-04 26.87 26.50 26.80  26.82  531500.00      26.82"
      ]
     },
     "execution_count": 52,
     "metadata": {},
     "output_type": "execute_result"
    }
   ],
   "source": [
    "ts = pf.select_tradeperiod(ts, start, end, use_adj)\n",
    "ts.head()"
   ]
  },
  {
   "cell_type": "markdown",
   "metadata": {},
   "source": [
    "Add technical indicator: 50 day ma and 200 day ma"
   ]
  },
  {
   "cell_type": "code",
   "execution_count": 53,
   "metadata": {
    "ExecuteTime": {
     "end_time": "2020-02-16T23:06:25.989830Z",
     "start_time": "2020-02-16T23:06:25.836445Z"
    },
    "scrolled": true
   },
   "outputs": [
    {
     "data": {
      "text/html": [
       "<div>\n",
       "<style scoped>\n",
       "    .dataframe tbody tr th:only-of-type {\n",
       "        vertical-align: middle;\n",
       "    }\n",
       "\n",
       "    .dataframe tbody tr th {\n",
       "        vertical-align: top;\n",
       "    }\n",
       "\n",
       "    .dataframe thead th {\n",
       "        text-align: right;\n",
       "    }\n",
       "</style>\n",
       "<table border=\"1\" class=\"dataframe\">\n",
       "  <thead>\n",
       "    <tr style=\"text-align: right;\">\n",
       "      <th></th>\n",
       "      <th>high</th>\n",
       "      <th>low</th>\n",
       "      <th>open</th>\n",
       "      <th>close</th>\n",
       "      <th>volume</th>\n",
       "      <th>adj_close</th>\n",
       "      <th>sma50</th>\n",
       "      <th>sma200</th>\n",
       "    </tr>\n",
       "    <tr>\n",
       "      <th>date</th>\n",
       "      <th></th>\n",
       "      <th></th>\n",
       "      <th></th>\n",
       "      <th></th>\n",
       "      <th></th>\n",
       "      <th></th>\n",
       "      <th></th>\n",
       "      <th></th>\n",
       "    </tr>\n",
       "  </thead>\n",
       "  <tbody>\n",
       "    <tr>\n",
       "      <th>1993-01-29</th>\n",
       "      <td>26.20</td>\n",
       "      <td>26.07</td>\n",
       "      <td>26.20</td>\n",
       "      <td>26.18</td>\n",
       "      <td>1003200.00</td>\n",
       "      <td>26.18</td>\n",
       "      <td>nan</td>\n",
       "      <td>nan</td>\n",
       "    </tr>\n",
       "    <tr>\n",
       "      <th>1993-02-01</th>\n",
       "      <td>26.37</td>\n",
       "      <td>26.20</td>\n",
       "      <td>26.20</td>\n",
       "      <td>26.37</td>\n",
       "      <td>480500.00</td>\n",
       "      <td>26.37</td>\n",
       "      <td>nan</td>\n",
       "      <td>nan</td>\n",
       "    </tr>\n",
       "    <tr>\n",
       "      <th>1993-02-02</th>\n",
       "      <td>26.44</td>\n",
       "      <td>26.30</td>\n",
       "      <td>26.35</td>\n",
       "      <td>26.43</td>\n",
       "      <td>201300.00</td>\n",
       "      <td>26.43</td>\n",
       "      <td>nan</td>\n",
       "      <td>nan</td>\n",
       "    </tr>\n",
       "    <tr>\n",
       "      <th>1993-02-03</th>\n",
       "      <td>26.72</td>\n",
       "      <td>26.44</td>\n",
       "      <td>26.46</td>\n",
       "      <td>26.71</td>\n",
       "      <td>529400.00</td>\n",
       "      <td>26.71</td>\n",
       "      <td>nan</td>\n",
       "      <td>nan</td>\n",
       "    </tr>\n",
       "    <tr>\n",
       "      <th>1993-02-04</th>\n",
       "      <td>26.87</td>\n",
       "      <td>26.50</td>\n",
       "      <td>26.80</td>\n",
       "      <td>26.82</td>\n",
       "      <td>531500.00</td>\n",
       "      <td>26.82</td>\n",
       "      <td>nan</td>\n",
       "      <td>nan</td>\n",
       "    </tr>\n",
       "  </tbody>\n",
       "</table>\n",
       "</div>"
      ],
      "text/plain": [
       "            high   low  open  close     volume  adj_close  sma50  sma200\n",
       "date                                                                    \n",
       "1993-01-29 26.20 26.07 26.20  26.18 1003200.00      26.18    nan     nan\n",
       "1993-02-01 26.37 26.20 26.20  26.37  480500.00      26.37    nan     nan\n",
       "1993-02-02 26.44 26.30 26.35  26.43  201300.00      26.43    nan     nan\n",
       "1993-02-03 26.72 26.44 26.46  26.71  529400.00      26.71    nan     nan\n",
       "1993-02-04 26.87 26.50 26.80  26.82  531500.00      26.82    nan     nan"
      ]
     },
     "execution_count": 53,
     "metadata": {},
     "output_type": "execute_result"
    }
   ],
   "source": [
    "sma50 = SMA(ts, timeperiod=50)\n",
    "ts['sma50'] = sma50\n",
    "\n",
    "sma200 = SMA(ts, timeperiod=200)\n",
    "ts['sma200'] = sma200\n",
    "\n",
    "ts.head()"
   ]
  },
  {
   "cell_type": "markdown",
   "metadata": {},
   "source": [
    "Finalize the time series before implementing trading strategy"
   ]
  },
  {
   "cell_type": "code",
   "execution_count": 54,
   "metadata": {
    "ExecuteTime": {
     "end_time": "2020-02-16T23:06:26.047710Z",
     "start_time": "2020-02-16T23:06:25.995799Z"
    }
   },
   "outputs": [
    {
     "data": {
      "text/html": [
       "<div>\n",
       "<style scoped>\n",
       "    .dataframe tbody tr th:only-of-type {\n",
       "        vertical-align: middle;\n",
       "    }\n",
       "\n",
       "    .dataframe tbody tr th {\n",
       "        vertical-align: top;\n",
       "    }\n",
       "\n",
       "    .dataframe thead th {\n",
       "        text-align: right;\n",
       "    }\n",
       "</style>\n",
       "<table border=\"1\" class=\"dataframe\">\n",
       "  <thead>\n",
       "    <tr style=\"text-align: right;\">\n",
       "      <th></th>\n",
       "      <th>high</th>\n",
       "      <th>low</th>\n",
       "      <th>open</th>\n",
       "      <th>close</th>\n",
       "      <th>volume</th>\n",
       "      <th>adj_close</th>\n",
       "      <th>sma50</th>\n",
       "      <th>sma200</th>\n",
       "    </tr>\n",
       "    <tr>\n",
       "      <th>date</th>\n",
       "      <th></th>\n",
       "      <th></th>\n",
       "      <th></th>\n",
       "      <th></th>\n",
       "      <th></th>\n",
       "      <th></th>\n",
       "      <th></th>\n",
       "      <th></th>\n",
       "    </tr>\n",
       "  </thead>\n",
       "  <tbody>\n",
       "    <tr>\n",
       "      <th>1993-11-11</th>\n",
       "      <td>28.29</td>\n",
       "      <td>28.12</td>\n",
       "      <td>28.21</td>\n",
       "      <td>28.14</td>\n",
       "      <td>88900.00</td>\n",
       "      <td>28.14</td>\n",
       "      <td>28.04</td>\n",
       "      <td>27.18</td>\n",
       "    </tr>\n",
       "    <tr>\n",
       "      <th>1993-11-12</th>\n",
       "      <td>28.37</td>\n",
       "      <td>28.18</td>\n",
       "      <td>28.20</td>\n",
       "      <td>28.27</td>\n",
       "      <td>108200.00</td>\n",
       "      <td>28.27</td>\n",
       "      <td>28.05</td>\n",
       "      <td>27.19</td>\n",
       "    </tr>\n",
       "    <tr>\n",
       "      <th>1993-11-15</th>\n",
       "      <td>28.33</td>\n",
       "      <td>28.18</td>\n",
       "      <td>28.33</td>\n",
       "      <td>28.25</td>\n",
       "      <td>243300.00</td>\n",
       "      <td>28.25</td>\n",
       "      <td>28.05</td>\n",
       "      <td>27.20</td>\n",
       "    </tr>\n",
       "    <tr>\n",
       "      <th>1993-11-16</th>\n",
       "      <td>28.40</td>\n",
       "      <td>28.20</td>\n",
       "      <td>28.31</td>\n",
       "      <td>28.38</td>\n",
       "      <td>492600.00</td>\n",
       "      <td>28.38</td>\n",
       "      <td>28.06</td>\n",
       "      <td>27.21</td>\n",
       "    </tr>\n",
       "    <tr>\n",
       "      <th>1993-11-17</th>\n",
       "      <td>28.40</td>\n",
       "      <td>28.16</td>\n",
       "      <td>28.40</td>\n",
       "      <td>28.23</td>\n",
       "      <td>39600.00</td>\n",
       "      <td>28.23</td>\n",
       "      <td>28.07</td>\n",
       "      <td>27.22</td>\n",
       "    </tr>\n",
       "  </tbody>\n",
       "</table>\n",
       "</div>"
      ],
      "text/plain": [
       "            high   low  open  close    volume  adj_close  sma50  sma200\n",
       "date                                                                   \n",
       "1993-11-11 28.29 28.12 28.21  28.14  88900.00      28.14  28.04   27.18\n",
       "1993-11-12 28.37 28.18 28.20  28.27 108200.00      28.27  28.05   27.19\n",
       "1993-11-15 28.33 28.18 28.33  28.25 243300.00      28.25  28.05   27.20\n",
       "1993-11-16 28.40 28.20 28.31  28.38 492600.00      28.38  28.06   27.21\n",
       "1993-11-17 28.40 28.16 28.40  28.23  39600.00      28.23  28.07   27.22"
      ]
     },
     "execution_count": 54,
     "metadata": {},
     "output_type": "execute_result"
    }
   ],
   "source": [
    "ts, start = pf.finalize_timeseries(ts, start)\n",
    "ts.head()"
   ]
  },
  {
   "cell_type": "markdown",
   "metadata": {},
   "source": [
    "Plot closing price along with moving averages"
   ]
  },
  {
   "cell_type": "code",
   "execution_count": 55,
   "metadata": {
    "ExecuteTime": {
     "end_time": "2020-02-16T23:06:26.562144Z",
     "start_time": "2020-02-16T23:06:26.057765Z"
    }
   },
   "outputs": [
    {
     "data": {
      "text/plain": [
       "<matplotlib.legend.Legend at 0x7fa1b849eee0>"
      ]
     },
     "execution_count": 55,
     "metadata": {},
     "output_type": "execute_result"
    },
    {
     "data": {
      "image/png": "[encoded data removed]",
      "text/plain": [
       "<Figure size 720x504 with 1 Axes>"
      ]
     },
     "metadata": {
      "needs_background": "light"
     },
     "output_type": "display_data"
    }
   ],
   "source": [
    "fig = plt.figure()\n",
    "axes = fig.add_subplot(111,  ylabel='Price in $')\n",
    "\n",
    "ts['close'].plot(ax=axes, label='close', color='k')\n",
    "ts['sma50'].plot(ax=axes, label='sma50', color='r')\n",
    "ts['sma200'].plot(ax=axes, label='sma200', color='b')\n",
    "plt.legend(loc='best')"
   ]
  },
  {
   "cell_type": "markdown",
   "metadata": {},
   "source": [
    "Create Trade Log (tlog); Create Daily Balance (dbal)"
   ]
  },
  {
   "cell_type": "code",
   "execution_count": 56,
   "metadata": {
    "ExecuteTime": {
     "end_time": "2020-02-16T23:06:26.578969Z",
     "start_time": "2020-02-16T23:06:26.570175Z"
    }
   },
   "outputs": [],
   "source": [
    "tlog = pf.TradeLog(symbol)\n",
    "dbal = pf.DailyBal()"
   ]
  },
  {
   "cell_type": "markdown",
   "metadata": {},
   "source": [
    "Algo: Buy when 50 day ma crosses above 200 day ma.  Sell when 50 day ma crosses below 200 day ma. "
   ]
  },
  {
   "cell_type": "code",
   "execution_count": 57,
   "metadata": {
    "ExecuteTime": {
     "end_time": "2020-02-16T23:06:26.836322Z",
     "start_time": "2020-02-16T23:06:26.583526Z"
    },
    "scrolled": false
   },
   "outputs": [
    {
     "name": "stdout",
     "output_type": "stream",
     "text": [
      "1994-09-01 00:00:00 BUY  340 SPY @ 29.38\n",
      "1998-10-01 00:00:00 SELL 340 SPY @ 66.30\n",
      "1998-12-04 00:00:00 BUY  283 SPY @ 79.42\n",
      "2000-11-02 00:00:00 SELL 283 SPY @ 97.82\n",
      "2002-04-19 00:00:00 BUY  352 SPY @ 78.83\n",
      "2002-05-17 00:00:00 SELL 352 SPY @ 77.45\n",
      "2003-05-12 00:00:00 BUY  404 SPY @ 67.39\n",
      "2004-08-25 00:00:00 SELL 404 SPY @ 80.45\n",
      "2004-10-27 00:00:00 BUY  396 SPY @ 82.08\n",
      "2006-07-25 00:00:00 SELL 396 SPY @ 95.24\n",
      "2006-08-29 00:00:00 BUY  384 SPY @ 98.18\n",
      "2007-12-28 00:00:00 SELL 384 SPY @ 113.93\n",
      "2009-06-18 00:00:00 BUY  595 SPY @ 73.57\n",
      "2010-07-07 00:00:00 SELL 595 SPY @ 86.76\n",
      "2010-10-13 00:00:00 BUY  532 SPY @ 96.93\n",
      "2011-08-17 00:00:00 SELL 532 SPY @ 99.81\n",
      "2012-01-23 00:00:00 BUY  478 SPY @ 111.03\n",
      "2015-09-03 00:00:00 SELL 478 SPY @ 177.04\n",
      "2015-12-09 00:00:00 BUY  453 SPY @ 186.87\n",
      "2016-01-15 00:00:00 SELL 453 SPY @ 171.93\n",
      "2016-04-20 00:00:00 BUY  403 SPY @ 193.33\n",
      "2018-12-12 00:00:00 SELL 403 SPY @ 256.37\n",
      "2019-03-26 00:00:00 BUY  376 SPY @ 274.28\n",
      "2020-03-31 00:00:00 SELL 376 SPY @ 256.62\n",
      "2020-07-06 00:00:00 BUY  305 SPY @ 317.05\n",
      "2020-07-15 00:00:00 SELL 305 SPY @ 321.85\n",
      "0.06407999992370605\n"
     ]
    }
   ],
   "source": [
    "pf.TradeLog.cash = capital\n",
    "\n",
    "import time\n",
    "t0 = time.time()\n",
    "\n",
    "\"\"\"\n",
    "# This is the slowest (2.42 s)\n",
    "for i in range(len(ts.index)):\n",
    "\n",
    "    date = ts.index[i]\n",
    "    high = ts['high'][i]\n",
    "    low = ts['low'][i]\n",
    "    close = ts['close'][i]\n",
    "    sma50 = ts['sma50'][i]\n",
    "    sma200 = ts['sma200'][i]\n",
    "\n",
    "# This is still slow (2.53 s)\n",
    "for i, (index, row) in enumerate(ts.iterrows()):\n",
    "\n",
    "    date = index\n",
    "    high = row['high']\n",
    "    low = row['low']\n",
    "    close = row['close']\n",
    "    sma50 = row['sma50']\n",
    "    sma200 = row['sma200']\n",
    "\n",
    "\n",
    "# using .at[] is fast (832 ms)\n",
    "for i, index in enumerate(ts.index):\n",
    "\n",
    "    date = index\n",
    "    high = ts.at[index, 'high']\n",
    "    low = ts.at[index, 'low']\n",
    "    close = ts.at[index, 'close']\n",
    "    sma50 = ts.at[index, 'sma50']\n",
    "    sma200 = ts.at[index, 'sma200']\n",
    "\n",
    "# using itertuples is fastest for looping (378 ms)\n",
    "for i, row in enumerate(ts.itertuples()):\n",
    "\n",
    "    date = row.Index.to_pydatetime()\n",
    "    high = row.high\n",
    "    low = row.low\n",
    "    close = row.close\n",
    "    sma50 = row.sma50\n",
    "    sma200 = row.sma200\n",
    "\"\"\"\n",
    "\n",
    "for i, row in enumerate(ts.itertuples()):\n",
    "\n",
    "    date = row.Index.to_pydatetime()\n",
    "    high = row.high; low = row.low; close = row.close; \n",
    "    end_flag = pf.is_last_row(ts, i)\n",
    "    shares = 0\n",
    "    \n",
    "    # close all positions on last trade day\n",
    "    if end_flag:\n",
    "        shares = tlog.sell(date, close)\n",
    "    # buy\n",
    "    elif (tlog.shares == 0\n",
    "          and row.sma50 > row.sma200\n",
    "          and ts['sma50'][i-1] <= ts['sma200'][i-1]):\n",
    "\n",
    "        # enter buy in trade log\n",
    "        shares = tlog.buy(date, close)  \n",
    "    # sell\n",
    "    elif (tlog.shares > 0\n",
    "          and row.sma50 < row.sma200\n",
    "          and ts['sma50'][i-1] >= ts['sma200'][i-1]):\n",
    "\n",
    "        # enter sell in trade log\n",
    "        shares = tlog.sell(date, close)\n",
    "\n",
    "    if shares > 0:\n",
    "        print(\"{0} BUY  {1} {2} @ {3:.2f}\".format(\n",
    "              date, shares, symbol, close))\n",
    "    elif shares < 0:\n",
    "        print(\"{0} SELL {1} {2} @ {3:.2f}\".format(\n",
    "              date, -shares, symbol, close))\n",
    "\n",
    "    # record daily balance\n",
    "    dbal.append(date, high, low, close)  \n",
    "\n",
    "t1 = time.time()\n",
    "total = t1-t0\n",
    "print(total)\n",
    "        "
   ]
  },
  {
   "cell_type": "markdown",
   "metadata": {},
   "source": [
    "Retrieve raw log and trade log DataFrames"
   ]
  },
  {
   "cell_type": "code",
   "execution_count": 58,
   "metadata": {
    "ExecuteTime": {
     "end_time": "2020-02-16T23:06:26.861694Z",
     "start_time": "2020-02-16T23:06:26.846951Z"
    }
   },
   "outputs": [],
   "source": [
    "rlog = tlog.get_log_raw()\n",
    "tlog = tlog.get_log()"
   ]
  },
  {
   "cell_type": "code",
   "execution_count": 59,
   "metadata": {
    "ExecuteTime": {
     "end_time": "2020-02-16T23:06:26.904678Z",
     "start_time": "2020-02-16T23:06:26.865894Z"
    }
   },
   "outputs": [
    {
     "data": {
      "text/html": [
       "<div>\n",
       "<style scoped>\n",
       "    .dataframe tbody tr th:only-of-type {\n",
       "        vertical-align: middle;\n",
       "    }\n",
       "\n",
       "    .dataframe tbody tr th {\n",
       "        vertical-align: top;\n",
       "    }\n",
       "\n",
       "    .dataframe thead th {\n",
       "        text-align: right;\n",
       "    }\n",
       "</style>\n",
       "<table border=\"1\" class=\"dataframe\">\n",
       "  <thead>\n",
       "    <tr style=\"text-align: right;\">\n",
       "      <th></th>\n",
       "      <th>date</th>\n",
       "      <th>price</th>\n",
       "      <th>shares</th>\n",
       "      <th>entry_exit</th>\n",
       "      <th>direction</th>\n",
       "      <th>symbol</th>\n",
       "    </tr>\n",
       "  </thead>\n",
       "  <tbody>\n",
       "    <tr>\n",
       "      <th>21</th>\n",
       "      <td>2018-12-12</td>\n",
       "      <td>256.37</td>\n",
       "      <td>403</td>\n",
       "      <td>exit</td>\n",
       "      <td>LONG</td>\n",
       "      <td>SPY</td>\n",
       "    </tr>\n",
       "    <tr>\n",
       "      <th>22</th>\n",
       "      <td>2019-03-26</td>\n",
       "      <td>274.28</td>\n",
       "      <td>376</td>\n",
       "      <td>entry</td>\n",
       "      <td>LONG</td>\n",
       "      <td>SPY</td>\n",
       "    </tr>\n",
       "    <tr>\n",
       "      <th>23</th>\n",
       "      <td>2020-03-31</td>\n",
       "      <td>256.62</td>\n",
       "      <td>376</td>\n",
       "      <td>exit</td>\n",
       "      <td>LONG</td>\n",
       "      <td>SPY</td>\n",
       "    </tr>\n",
       "    <tr>\n",
       "      <th>24</th>\n",
       "      <td>2020-07-06</td>\n",
       "      <td>317.05</td>\n",
       "      <td>305</td>\n",
       "      <td>entry</td>\n",
       "      <td>LONG</td>\n",
       "      <td>SPY</td>\n",
       "    </tr>\n",
       "    <tr>\n",
       "      <th>25</th>\n",
       "      <td>2020-07-15</td>\n",
       "      <td>321.85</td>\n",
       "      <td>305</td>\n",
       "      <td>exit</td>\n",
       "      <td>LONG</td>\n",
       "      <td>SPY</td>\n",
       "    </tr>\n",
       "  </tbody>\n",
       "</table>\n",
       "</div>"
      ],
      "text/plain": [
       "         date  price  shares entry_exit direction symbol\n",
       "21 2018-12-12 256.37     403       exit      LONG    SPY\n",
       "22 2019-03-26 274.28     376      entry      LONG    SPY\n",
       "23 2020-03-31 256.62     376       exit      LONG    SPY\n",
       "24 2020-07-06 317.05     305      entry      LONG    SPY\n",
       "25 2020-07-15 321.85     305       exit      LONG    SPY"
      ]
     },
     "execution_count": 59,
     "metadata": {},
     "output_type": "execute_result"
    }
   ],
   "source": [
    "rlog.tail()"
   ]
  },
  {
   "cell_type": "code",
   "execution_count": 60,
   "metadata": {
    "ExecuteTime": {
     "end_time": "2020-02-16T23:06:26.958698Z",
     "start_time": "2020-02-16T23:06:26.909716Z"
    }
   },
   "outputs": [
    {
     "data": {
      "text/html": [
       "<div>\n",
       "<style scoped>\n",
       "    .dataframe tbody tr th:only-of-type {\n",
       "        vertical-align: middle;\n",
       "    }\n",
       "\n",
       "    .dataframe tbody tr th {\n",
       "        vertical-align: top;\n",
       "    }\n",
       "\n",
       "    .dataframe thead th {\n",
       "        text-align: right;\n",
       "    }\n",
       "</style>\n",
       "<table border=\"1\" class=\"dataframe\">\n",
       "  <thead>\n",
       "    <tr style=\"text-align: right;\">\n",
       "      <th></th>\n",
       "      <th>entry_date</th>\n",
       "      <th>entry_price</th>\n",
       "      <th>exit_date</th>\n",
       "      <th>exit_price</th>\n",
       "      <th>pl_points</th>\n",
       "      <th>pl_cash</th>\n",
       "      <th>qty</th>\n",
       "      <th>cumul_total</th>\n",
       "      <th>direction</th>\n",
       "      <th>symbol</th>\n",
       "    </tr>\n",
       "  </thead>\n",
       "  <tbody>\n",
       "    <tr>\n",
       "      <th>3</th>\n",
       "      <td>2003-05-12</td>\n",
       "      <td>67.39</td>\n",
       "      <td>2004-08-25</td>\n",
       "      <td>80.45</td>\n",
       "      <td>13.06</td>\n",
       "      <td>5275.34</td>\n",
       "      <td>404</td>\n",
       "      <td>22547.36</td>\n",
       "      <td>LONG</td>\n",
       "      <td>SPY</td>\n",
       "    </tr>\n",
       "    <tr>\n",
       "      <th>4</th>\n",
       "      <td>2004-10-27</td>\n",
       "      <td>82.08</td>\n",
       "      <td>2006-07-25</td>\n",
       "      <td>95.24</td>\n",
       "      <td>13.16</td>\n",
       "      <td>5211.51</td>\n",
       "      <td>396</td>\n",
       "      <td>27758.87</td>\n",
       "      <td>LONG</td>\n",
       "      <td>SPY</td>\n",
       "    </tr>\n",
       "    <tr>\n",
       "      <th>5</th>\n",
       "      <td>2006-08-29</td>\n",
       "      <td>98.18</td>\n",
       "      <td>2007-12-28</td>\n",
       "      <td>113.93</td>\n",
       "      <td>15.74</td>\n",
       "      <td>6045.36</td>\n",
       "      <td>384</td>\n",
       "      <td>33804.23</td>\n",
       "      <td>LONG</td>\n",
       "      <td>SPY</td>\n",
       "    </tr>\n",
       "    <tr>\n",
       "      <th>6</th>\n",
       "      <td>2009-06-18</td>\n",
       "      <td>73.57</td>\n",
       "      <td>2010-07-07</td>\n",
       "      <td>86.76</td>\n",
       "      <td>13.19</td>\n",
       "      <td>7847.70</td>\n",
       "      <td>595</td>\n",
       "      <td>41651.93</td>\n",
       "      <td>LONG</td>\n",
       "      <td>SPY</td>\n",
       "    </tr>\n",
       "    <tr>\n",
       "      <th>7</th>\n",
       "      <td>2010-10-13</td>\n",
       "      <td>96.93</td>\n",
       "      <td>2011-08-17</td>\n",
       "      <td>99.81</td>\n",
       "      <td>2.88</td>\n",
       "      <td>1530.95</td>\n",
       "      <td>532</td>\n",
       "      <td>43182.88</td>\n",
       "      <td>LONG</td>\n",
       "      <td>SPY</td>\n",
       "    </tr>\n",
       "    <tr>\n",
       "      <th>8</th>\n",
       "      <td>2012-01-23</td>\n",
       "      <td>111.03</td>\n",
       "      <td>2015-09-03</td>\n",
       "      <td>177.04</td>\n",
       "      <td>66.01</td>\n",
       "      <td>31551.42</td>\n",
       "      <td>478</td>\n",
       "      <td>74734.30</td>\n",
       "      <td>LONG</td>\n",
       "      <td>SPY</td>\n",
       "    </tr>\n",
       "    <tr>\n",
       "      <th>9</th>\n",
       "      <td>2015-12-09</td>\n",
       "      <td>186.87</td>\n",
       "      <td>2016-01-15</td>\n",
       "      <td>171.93</td>\n",
       "      <td>-14.94</td>\n",
       "      <td>-6765.93</td>\n",
       "      <td>453</td>\n",
       "      <td>67968.38</td>\n",
       "      <td>LONG</td>\n",
       "      <td>SPY</td>\n",
       "    </tr>\n",
       "    <tr>\n",
       "      <th>10</th>\n",
       "      <td>2016-04-20</td>\n",
       "      <td>193.33</td>\n",
       "      <td>2018-12-12</td>\n",
       "      <td>256.37</td>\n",
       "      <td>63.04</td>\n",
       "      <td>25405.94</td>\n",
       "      <td>403</td>\n",
       "      <td>93374.32</td>\n",
       "      <td>LONG</td>\n",
       "      <td>SPY</td>\n",
       "    </tr>\n",
       "    <tr>\n",
       "      <th>11</th>\n",
       "      <td>2019-03-26</td>\n",
       "      <td>274.28</td>\n",
       "      <td>2020-03-31</td>\n",
       "      <td>256.62</td>\n",
       "      <td>-17.66</td>\n",
       "      <td>-6641.38</td>\n",
       "      <td>376</td>\n",
       "      <td>86732.94</td>\n",
       "      <td>LONG</td>\n",
       "      <td>SPY</td>\n",
       "    </tr>\n",
       "    <tr>\n",
       "      <th>12</th>\n",
       "      <td>2020-07-06</td>\n",
       "      <td>317.05</td>\n",
       "      <td>2020-07-15</td>\n",
       "      <td>321.85</td>\n",
       "      <td>4.80</td>\n",
       "      <td>1464.01</td>\n",
       "      <td>305</td>\n",
       "      <td>88196.94</td>\n",
       "      <td>LONG</td>\n",
       "      <td>SPY</td>\n",
       "    </tr>\n",
       "  </tbody>\n",
       "</table>\n",
       "</div>"
      ],
      "text/plain": [
       "   entry_date  entry_price  exit_date  exit_price  pl_points  pl_cash  qty  \\\n",
       "3  2003-05-12        67.39 2004-08-25       80.45      13.06  5275.34  404   \n",
       "4  2004-10-27        82.08 2006-07-25       95.24      13.16  5211.51  396   \n",
       "5  2006-08-29        98.18 2007-12-28      113.93      15.74  6045.36  384   \n",
       "6  2009-06-18        73.57 2010-07-07       86.76      13.19  7847.70  595   \n",
       "7  2010-10-13        96.93 2011-08-17       99.81       2.88  1530.95  532   \n",
       "8  2012-01-23       111.03 2015-09-03      177.04      66.01 31551.42  478   \n",
       "9  2015-12-09       186.87 2016-01-15      171.93     -14.94 -6765.93  453   \n",
       "10 2016-04-20       193.33 2018-12-12      256.37      63.04 25405.94  403   \n",
       "11 2019-03-26       274.28 2020-03-31      256.62     -17.66 -6641.38  376   \n",
       "12 2020-07-06       317.05 2020-07-15      321.85       4.80  1464.01  305   \n",
       "\n",
       "    cumul_total direction symbol  \n",
       "3      22547.36      LONG    SPY  \n",
       "4      27758.87      LONG    SPY  \n",
       "5      33804.23      LONG    SPY  \n",
       "6      41651.93      LONG    SPY  \n",
       "7      43182.88      LONG    SPY  \n",
       "8      74734.30      LONG    SPY  \n",
       "9      67968.38      LONG    SPY  \n",
       "10     93374.32      LONG    SPY  \n",
       "11     86732.94      LONG    SPY  \n",
       "12     88196.94      LONG    SPY  "
      ]
     },
     "execution_count": 60,
     "metadata": {},
     "output_type": "execute_result"
    }
   ],
   "source": [
    "tlog.tail(10)"
   ]
  },
  {
   "cell_type": "code",
   "execution_count": 61,
   "metadata": {
    "ExecuteTime": {
     "end_time": "2020-02-16T23:06:27.989690Z",
     "start_time": "2020-02-16T23:06:26.966479Z"
    }
   },
   "outputs": [
    {
     "data": {
      "text/html": [
       "<div>\n",
       "<style scoped>\n",
       "    .dataframe tbody tr th:only-of-type {\n",
       "        vertical-align: middle;\n",
       "    }\n",
       "\n",
       "    .dataframe tbody tr th {\n",
       "        vertical-align: top;\n",
       "    }\n",
       "\n",
       "    .dataframe thead th {\n",
       "        text-align: right;\n",
       "    }\n",
       "</style>\n",
       "<table border=\"1\" class=\"dataframe\">\n",
       "  <thead>\n",
       "    <tr style=\"text-align: right;\">\n",
       "      <th></th>\n",
       "      <th>high</th>\n",
       "      <th>low</th>\n",
       "      <th>close</th>\n",
       "      <th>shares</th>\n",
       "      <th>cash</th>\n",
       "      <th>leverage</th>\n",
       "      <th>state</th>\n",
       "    </tr>\n",
       "    <tr>\n",
       "      <th>date</th>\n",
       "      <th></th>\n",
       "      <th></th>\n",
       "      <th></th>\n",
       "      <th></th>\n",
       "      <th></th>\n",
       "      <th></th>\n",
       "      <th></th>\n",
       "    </tr>\n",
       "  </thead>\n",
       "  <tbody>\n",
       "    <tr>\n",
       "      <th>2020-07-09</th>\n",
       "      <td>96748.19</td>\n",
       "      <td>94790.09</td>\n",
       "      <td>95918.59</td>\n",
       "      <td>305</td>\n",
       "      <td>32.69</td>\n",
       "      <td>1.00</td>\n",
       "      <td>-</td>\n",
       "    </tr>\n",
       "    <tr>\n",
       "      <th>2020-07-10</th>\n",
       "      <td>96986.09</td>\n",
       "      <td>95424.50</td>\n",
       "      <td>96897.64</td>\n",
       "      <td>305</td>\n",
       "      <td>32.69</td>\n",
       "      <td>1.00</td>\n",
       "      <td>-</td>\n",
       "    </tr>\n",
       "    <tr>\n",
       "      <th>2020-07-13</th>\n",
       "      <td>98459.24</td>\n",
       "      <td>95842.34</td>\n",
       "      <td>96058.89</td>\n",
       "      <td>305</td>\n",
       "      <td>32.69</td>\n",
       "      <td>1.00</td>\n",
       "      <td>-</td>\n",
       "    </tr>\n",
       "    <tr>\n",
       "      <th>2020-07-14</th>\n",
       "      <td>97559.50</td>\n",
       "      <td>95192.69</td>\n",
       "      <td>97303.30</td>\n",
       "      <td>305</td>\n",
       "      <td>32.69</td>\n",
       "      <td>1.00</td>\n",
       "      <td>-</td>\n",
       "    </tr>\n",
       "    <tr>\n",
       "      <th>2020-07-15</th>\n",
       "      <td>98196.94</td>\n",
       "      <td>98196.94</td>\n",
       "      <td>98196.94</td>\n",
       "      <td>0</td>\n",
       "      <td>98196.94</td>\n",
       "      <td>1.00</td>\n",
       "      <td>X</td>\n",
       "    </tr>\n",
       "  </tbody>\n",
       "</table>\n",
       "</div>"
      ],
      "text/plain": [
       "               high      low    close  shares     cash  leverage state\n",
       "date                                                                  \n",
       "2020-07-09 96748.19 94790.09 95918.59     305    32.69      1.00     -\n",
       "2020-07-10 96986.09 95424.50 96897.64     305    32.69      1.00     -\n",
       "2020-07-13 98459.24 95842.34 96058.89     305    32.69      1.00     -\n",
       "2020-07-14 97559.50 95192.69 97303.30     305    32.69      1.00     -\n",
       "2020-07-15 98196.94 98196.94 98196.94       0 98196.94      1.00     X"
      ]
     },
     "execution_count": 61,
     "metadata": {},
     "output_type": "execute_result"
    }
   ],
   "source": [
    "dbal = dbal.get_log(tlog)\n",
    "dbal.tail()"
   ]
  },
  {
   "cell_type": "markdown",
   "metadata": {},
   "source": [
    "Generate strategy stats - display all available stats"
   ]
  },
  {
   "cell_type": "code",
   "execution_count": 62,
   "metadata": {
    "ExecuteTime": {
     "end_time": "2020-02-16T23:06:28.373532Z",
     "start_time": "2020-02-16T23:06:27.993693Z"
    }
   },
   "outputs": [
    {
     "name": "stdout",
     "output_type": "stream",
     "text": [
      "start                                                  1993-11-11\n",
      "end                                                    2020-07-15\n",
      "beginning_balance                                           10000\n",
      "ending_balance                                           98196.94\n",
      "total_net_profit                                         88196.94\n",
      "gross_profit                                            102090.99\n",
      "gross_loss                                              -13894.04\n",
      "profit_factor                                                7.35\n",
      "return_on_initial_capital                                  881.97\n",
      "annual_return_rate                                           8.94\n",
      "trading_period                           26 years 8 months 4 days\n",
      "pct_time_in_market                                          74.08\n",
      "margin                                                          1\n",
      "avg_leverage                                                 1.00\n",
      "max_leverage                                                 1.00\n",
      "min_leverage                                                 1.00\n",
      "total_num_trades                                               13\n",
      "trades_per_year                                              0.49\n",
      "num_winning_trades                                             10\n",
      "num_losing_trades                                               3\n",
      "num_even_trades                                                 0\n",
      "pct_profitable_trades                                       76.92\n",
      "avg_profit_per_trade                                      6784.38\n",
      "avg_profit_per_winning_trade                             10209.10\n",
      "avg_loss_per_losing_trade                                -4631.35\n",
      "ratio_avg_profit_win_loss                                    2.20\n",
      "largest_profit_winning_trade                             31551.42\n",
      "largest_loss_losing_trade                                -6765.93\n",
      "num_winning_points                                         247.19\n",
      "num_losing_points                                          -33.98\n",
      "total_net_points                                           213.21\n",
      "avg_points                                                  16.40\n",
      "largest_points_winning_trade                                66.01\n",
      "largest_points_losing_trade                                -17.66\n",
      "avg_pct_gain_per_trade                                      22.97\n",
      "largest_pct_winning_trade                                  125.67\n",
      "largest_pct_losing_trade                                    -7.99\n",
      "max_consecutive_winning_trades                                  6\n",
      "max_consecutive_losing_trades                                   1\n",
      "avg_bars_winning_trades                                    468.30\n",
      "avg_bars_losing_trades                                     101.33\n",
      "max_closed_out_drawdown                                    -33.65\n",
      "max_closed_out_drawdown_start_date                     2020-02-19\n",
      "max_closed_out_drawdown_end_date                       2020-03-23\n",
      "max_closed_out_drawdown_recovery_date           Not Recovered Yet\n",
      "drawdown_recovery                                           -0.09\n",
      "drawdown_annualized_return                                  -3.76\n",
      "max_intra_day_drawdown                                     -35.19\n",
      "avg_yearly_closed_out_drawdown                              -8.95\n",
      "max_yearly_closed_out_drawdown                             -33.65\n",
      "avg_monthly_closed_out_drawdown                             -2.54\n",
      "max_monthly_closed_out_drawdown                            -30.93\n",
      "avg_weekly_closed_out_drawdown                              -1.01\n",
      "max_weekly_closed_out_drawdown                             -17.93\n",
      "avg_yearly_closed_out_runup                                 18.32\n",
      "max_yearly_closed_out_runup                                 55.64\n",
      "avg_monthly_closed_out_runup                                 3.23\n",
      "max_monthly_closed_out_runup                                17.31\n",
      "avg_weekly_closed_out_runup                                  1.21\n",
      "max_weekly_closed_out_runup                                 17.31\n",
      "pct_profitable_years                                        76.25\n",
      "best_year                                                   53.26\n",
      "worst_year                                                 -19.03\n",
      "avg_year                                                    10.34\n",
      "annual_std                                                  11.90\n",
      "pct_profitable_months                                       51.81\n",
      "best_month                                                  15.56\n",
      "worst_month                                                -30.93\n",
      "avg_month                                                    0.73\n",
      "monthly_std                                                  3.26\n",
      "pct_profitable_weeks                                        44.75\n",
      "best_week                                                   17.31\n",
      "worst_week                                                 -17.93\n",
      "avg_week                                                     0.19\n",
      "weekly_std                                                   1.78\n",
      "sharpe_ratio                                                 0.69\n",
      "sortino_ratio                                                0.74\n",
      "dtype: object\n"
     ]
    }
   ],
   "source": [
    "stats = pf.stats(ts, tlog, dbal, capital)\n",
    "pf.print_full(stats)"
   ]
  },
  {
   "cell_type": "markdown",
   "metadata": {},
   "source": [
    "Run Benchmark"
   ]
  },
  {
   "cell_type": "code",
   "execution_count": 63,
   "metadata": {
    "ExecuteTime": {
     "end_time": "2020-02-16T23:06:28.662544Z",
     "start_time": "2020-02-16T23:06:28.382522Z"
    }
   },
   "outputs": [
    {
     "name": "stdout",
     "output_type": "stream",
     "text": [
      "1993-11-11 00:00:00 BUY  355 SPY @ 28.14\n",
      "2020-07-15 00:00:00 SELL 355 SPY @ 321.85\n"
     ]
    }
   ],
   "source": [
    "benchmark = pf.Benchmark(symbol, capital, start, end, use_adj)\n",
    "benchmark.run()"
   ]
  },
  {
   "cell_type": "markdown",
   "metadata": {},
   "source": [
    "Retrieve benchmark logs"
   ]
  },
  {
   "cell_type": "code",
   "execution_count": 64,
   "metadata": {
    "ExecuteTime": {
     "end_time": "2020-02-16T23:06:29.601496Z",
     "start_time": "2020-02-16T23:06:28.670209Z"
    }
   },
   "outputs": [],
   "source": [
    "benchmark.tlog, benchmark.dbal = benchmark.get_logs()"
   ]
  },
  {
   "cell_type": "markdown",
   "metadata": {},
   "source": [
    "Generate benchmark stats"
   ]
  },
  {
   "cell_type": "code",
   "execution_count": 65,
   "metadata": {
    "ExecuteTime": {
     "end_time": "2020-02-16T23:06:29.896894Z",
     "start_time": "2020-02-16T23:06:29.611895Z"
    },
    "scrolled": false
   },
   "outputs": [],
   "source": [
    "benchmark.stats = benchmark.get_stats()"
   ]
  },
  {
   "cell_type": "markdown",
   "metadata": {},
   "source": [
    "Plot Equity Curves: Strategy vs Benchmark"
   ]
  },
  {
   "cell_type": "code",
   "execution_count": 66,
   "metadata": {
    "ExecuteTime": {
     "end_time": "2020-02-16T23:06:30.229456Z",
     "start_time": "2020-02-16T23:06:29.905725Z"
    }
   },
   "outputs": [
    {
     "data": {
      "image/png": "[encoded data removed]",
      "text/plain": [
       "<Figure size 720x504 with 1 Axes>"
      ]
     },
     "metadata": {
      "needs_background": "light"
     },
     "output_type": "display_data"
    }
   ],
   "source": [
    "pf.plot_equity_curve(dbal, benchmark=benchmark.dbal)"
   ]
  },
  {
   "cell_type": "markdown",
   "metadata": {},
   "source": [
    "Plot Trades"
   ]
  },
  {
   "cell_type": "code",
   "execution_count": 67,
   "metadata": {
    "ExecuteTime": {
     "end_time": "2020-02-16T23:06:30.548129Z",
     "start_time": "2020-02-16T23:06:30.236358Z"
    }
   },
   "outputs": [
    {
     "data": {
      "image/png": "[encoded data removed]",
      "text/plain": [
       "<Figure size 720x504 with 1 Axes>"
      ]
     },
     "metadata": {
      "needs_background": "light"
     },
     "output_type": "display_data"
    }
   ],
   "source": [
    "pf.plot_trades(dbal, benchmark=benchmark.dbal)"
   ]
  },
  {
   "cell_type": "markdown",
   "metadata": {},
   "source": [
    "Strategy vs Benchmark"
   ]
  },
  {
   "cell_type": "code",
   "execution_count": 68,
   "metadata": {
    "ExecuteTime": {
     "end_time": "2020-02-16T23:06:30.582747Z",
     "start_time": "2020-02-16T23:06:30.555947Z"
    }
   },
   "outputs": [
    {
     "data": {
      "text/html": [
       "<div>\n",
       "<style scoped>\n",
       "    .dataframe tbody tr th:only-of-type {\n",
       "        vertical-align: middle;\n",
       "    }\n",
       "\n",
       "    .dataframe tbody tr th {\n",
       "        vertical-align: top;\n",
       "    }\n",
       "\n",
       "    .dataframe thead th {\n",
       "        text-align: right;\n",
       "    }\n",
       "</style>\n",
       "<table border=\"1\" class=\"dataframe\">\n",
       "  <thead>\n",
       "    <tr style=\"text-align: right;\">\n",
       "      <th></th>\n",
       "      <th>strategy</th>\n",
       "      <th>benchmark</th>\n",
       "    </tr>\n",
       "  </thead>\n",
       "  <tbody>\n",
       "    <tr>\n",
       "      <th>beginning_balance</th>\n",
       "      <td>$10,000.00</td>\n",
       "      <td>$10,000.00</td>\n",
       "    </tr>\n",
       "    <tr>\n",
       "      <th>ending_balance</th>\n",
       "      <td>$98,196.94</td>\n",
       "      <td>$114,267.69</td>\n",
       "    </tr>\n",
       "    <tr>\n",
       "      <th>total_net_profit</th>\n",
       "      <td>$88,196.94</td>\n",
       "      <td>$104,267.69</td>\n",
       "    </tr>\n",
       "    <tr>\n",
       "      <th>gross_profit</th>\n",
       "      <td>$102,090.99</td>\n",
       "      <td>$104,267.69</td>\n",
       "    </tr>\n",
       "    <tr>\n",
       "      <th>gross_loss</th>\n",
       "      <td>-$13,894.04</td>\n",
       "      <td>$0.00</td>\n",
       "    </tr>\n",
       "  </tbody>\n",
       "</table>\n",
       "</div>"
      ],
      "text/plain": [
       "                      strategy    benchmark\n",
       "beginning_balance   $10,000.00   $10,000.00\n",
       "ending_balance      $98,196.94  $114,267.69\n",
       "total_net_profit    $88,196.94  $104,267.69\n",
       "gross_profit       $102,090.99  $104,267.69\n",
       "gross_loss         -$13,894.04        $0.00"
      ]
     },
     "execution_count": 68,
     "metadata": {},
     "output_type": "execute_result"
    }
   ],
   "source": [
    "df = pf.summary(stats, benchmark.stats, metrics=pf.currency_metrics)\n",
    "df"
   ]
  },
  {
   "cell_type": "code",
   "execution_count": 69,
   "metadata": {
    "ExecuteTime": {
     "end_time": "2020-02-16T23:06:31.139756Z",
     "start_time": "2020-02-16T23:06:30.587570Z"
    },
    "scrolled": false
   },
   "outputs": [
    {
     "data": {
      "text/html": [
       "<div>\n",
       "<style scoped>\n",
       "    .dataframe tbody tr th:only-of-type {\n",
       "        vertical-align: middle;\n",
       "    }\n",
       "\n",
       "    .dataframe tbody tr th {\n",
       "        vertical-align: top;\n",
       "    }\n",
       "\n",
       "    .dataframe thead th {\n",
       "        text-align: right;\n",
       "    }\n",
       "</style>\n",
       "<table border=\"1\" class=\"dataframe\">\n",
       "  <thead>\n",
       "    <tr style=\"text-align: right;\">\n",
       "      <th></th>\n",
       "      <th>strategy</th>\n",
       "      <th>benchmark</th>\n",
       "    </tr>\n",
       "  </thead>\n",
       "  <tbody>\n",
       "    <tr>\n",
       "      <th>annual_return_rate</th>\n",
       "      <td>8.94</td>\n",
       "      <td>9.56</td>\n",
       "    </tr>\n",
       "    <tr>\n",
       "      <th>max_closed_out_drawdown</th>\n",
       "      <td>-33.65</td>\n",
       "      <td>-55.18</td>\n",
       "    </tr>\n",
       "    <tr>\n",
       "      <th>drawdown_annualized_return</th>\n",
       "      <td>-3.76</td>\n",
       "      <td>-5.77</td>\n",
       "    </tr>\n",
       "    <tr>\n",
       "      <th>drawdown_recovery</th>\n",
       "      <td>-0.09</td>\n",
       "      <td>-1.42</td>\n",
       "    </tr>\n",
       "    <tr>\n",
       "      <th>best_month</th>\n",
       "      <td>15.56</td>\n",
       "      <td>23.61</td>\n",
       "    </tr>\n",
       "    <tr>\n",
       "      <th>worst_month</th>\n",
       "      <td>-30.93</td>\n",
       "      <td>-30.98</td>\n",
       "    </tr>\n",
       "    <tr>\n",
       "      <th>sharpe_ratio</th>\n",
       "      <td>0.69</td>\n",
       "      <td>0.57</td>\n",
       "    </tr>\n",
       "    <tr>\n",
       "      <th>sortino_ratio</th>\n",
       "      <td>0.74</td>\n",
       "      <td>0.73</td>\n",
       "    </tr>\n",
       "    <tr>\n",
       "      <th>monthly_std</th>\n",
       "      <td>3.26</td>\n",
       "      <td>4.55</td>\n",
       "    </tr>\n",
       "    <tr>\n",
       "      <th>avg_month</th>\n",
       "      <td>0.73</td>\n",
       "      <td>0.83</td>\n",
       "    </tr>\n",
       "  </tbody>\n",
       "</table>\n",
       "</div>"
      ],
      "text/plain": [
       "                            strategy  benchmark\n",
       "annual_return_rate              8.94       9.56\n",
       "max_closed_out_drawdown       -33.65     -55.18\n",
       "drawdown_annualized_return     -3.76      -5.77\n",
       "drawdown_recovery              -0.09      -1.42\n",
       "best_month                     15.56      23.61\n",
       "worst_month                   -30.93     -30.98\n",
       "sharpe_ratio                    0.69       0.57\n",
       "sortino_ratio                   0.74       0.73\n",
       "monthly_std                     3.26       4.55\n",
       "avg_month                       0.73       0.83"
      ]
     },
     "execution_count": 69,
     "metadata": {},
     "output_type": "execute_result"
    },
    {
     "data": {
      "image/png": "[encoded data removed]",
      "text/plain": [
       "<Figure size 720x504 with 1 Axes>"
      ]
     },
     "metadata": {
      "needs_background": "light"
     },
     "output_type": "display_data"
    }
   ],
   "source": [
    "extras = ('avg_month',)\n",
    "\n",
    "df = pf.plot_bar_graph(stats, benchmark.stats, extras=extras)\n",
    "df"
   ]
  },
  {
   "cell_type": "code",
   "execution_count": null,
   "metadata": {},
   "outputs": [],
   "source": []
  }
 ],
 "metadata": {
  "kernelspec": {
   "display_name": "Python 3",
   "language": "python",
   "name": "python3"
  },
  "language_info": {
   "codemirror_mode": {
    "name": "ipython",
    "version": 3
   },
   "file_extension": ".py",
   "mimetype": "text/x-python",
   "name": "python",
   "nbconvert_exporter": "python",
   "pygments_lexer": "ipython3",
   "version": "3.8.2"
  },
  "latex_envs": {
   "LaTeX_envs_menu_present": true,
   "autoclose": false,
   "autocomplete": true,
   "bibliofile": "biblio.bib",
   "cite_by": "apalike",
   "current_citInitial": 1,
   "eqLabelWithNumbers": true,
   "eqNumInitial": 1,
   "hotkeys": {
    "equation": "Ctrl-E",
    "itemize": "Ctrl-I"
   },
   "labels_anchors": false,
   "latex_user_defs": false,
   "report_style_numbering": false,
   "user_envs_cfg": false
  }
 },
 "nbformat": 4,
 "nbformat_minor": 1
}
