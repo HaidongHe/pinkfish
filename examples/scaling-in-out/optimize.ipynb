{
 "cells": [
  {
   "cell_type": "markdown",
   "metadata": {},
   "source": [
    "# Double 7's (Short Term Trading Strategies that Work)\n",
    "\n",
    "    1. The SPY is above its 200-day moving average\n",
    "    2. The SPY closes at a X-day low, buy some shares.\n",
    "       If it falls further, buy some more, etc...\n",
    "    3. If the SPY closes at a X-day high, sell your entire long position.\n",
    "    \n",
    "    (optimize for number of positions)"
   ]
  },
  {
   "cell_type": "code",
   "execution_count": 1,
   "metadata": {
    "ExecuteTime": {
     "end_time": "2020-02-17T03:32:11.769070Z",
     "start_time": "2020-02-17T03:32:10.650370Z"
    }
   },
   "outputs": [],
   "source": [
    "import pandas as pd\n",
    "import matplotlib.pyplot as plt\n",
    "import datetime\n",
    "from talib.abstract import *\n",
    "\n",
    "import pinkfish as pf\n",
    "import strategy\n",
    "\n",
    "# format price data\n",
    "pd.options.display.float_format = '{:0.2f}'.format\n",
    "\n",
    "%matplotlib inline"
   ]
  },
  {
   "cell_type": "code",
   "execution_count": 2,
   "metadata": {
    "ExecuteTime": {
     "end_time": "2020-02-17T03:32:11.799042Z",
     "start_time": "2020-02-17T03:32:11.785862Z"
    }
   },
   "outputs": [],
   "source": [
    "# set size of inline plots\n",
    "'''note: rcParams can't be in same cell as import matplotlib\n",
    "   or %matplotlib inline\n",
    "   \n",
    "   %matplotlib notebook: will lead to interactive plots embedded within\n",
    "   the notebook, you can zoom and resize the figure\n",
    "   \n",
    "   %matplotlib inline: only draw static images in the notebook\n",
    "'''\n",
    "plt.rcParams[\"figure.figsize\"] = (10, 7)"
   ]
  },
  {
   "cell_type": "markdown",
   "metadata": {},
   "source": [
    "Some global data"
   ]
  },
  {
   "cell_type": "code",
   "execution_count": 3,
   "metadata": {
    "ExecuteTime": {
     "end_time": "2020-02-17T03:32:11.817537Z",
     "start_time": "2020-02-17T03:32:11.805869Z"
    }
   },
   "outputs": [],
   "source": [
    "#symbol = '^GSPC'\n",
    "symbol = 'SPY'\n",
    "#symbol = 'DIA'\n",
    "#symbol = 'QQQ'\n",
    "#symbol = 'IWM'\n",
    "#symbol = 'TLT'\n",
    "#symbol = 'GLD'\n",
    "#symbol = 'AAPL'\n",
    "#symbol = 'BBRY'\n",
    "#symbol = 'GDX'\n",
    "capital = 10000\n",
    "start = datetime.datetime(1900, 1, 1)\n",
    "#end = datetime.datetime(2010, 12, 1)\n",
    "end = datetime.datetime.now()"
   ]
  },
  {
   "cell_type": "markdown",
   "metadata": {},
   "source": [
    "Define high low trade periods"
   ]
  },
  {
   "cell_type": "code",
   "execution_count": 4,
   "metadata": {
    "ExecuteTime": {
     "end_time": "2020-02-17T03:32:11.834970Z",
     "start_time": "2020-02-17T03:32:11.824222Z"
    }
   },
   "outputs": [],
   "source": [
    "period = 7"
   ]
  },
  {
   "cell_type": "markdown",
   "metadata": {},
   "source": [
    "Define max number of positions to scale into"
   ]
  },
  {
   "cell_type": "code",
   "execution_count": 5,
   "metadata": {
    "ExecuteTime": {
     "end_time": "2020-02-17T03:32:11.849950Z",
     "start_time": "2020-02-17T03:32:11.841937Z"
    }
   },
   "outputs": [],
   "source": [
    "pos = range(1, 10)\n",
    "pos = [str(p) for p in pos]"
   ]
  },
  {
   "cell_type": "markdown",
   "metadata": {},
   "source": [
    "Run Strategy"
   ]
  },
  {
   "cell_type": "code",
   "execution_count": 6,
   "metadata": {
    "ExecuteTime": {
     "end_time": "2020-02-17T03:32:20.830130Z",
     "start_time": "2020-02-17T03:32:11.858952Z"
    }
   },
   "outputs": [
    {
     "name": "stdout",
     "output_type": "stream",
     "text": [
      "1 2 3 4 5 6 7 8 9 "
     ]
    }
   ],
   "source": [
    "strategies = pd.Series(dtype=object)\n",
    "for p in pos:\n",
    "    print(\"{0}\".format(p), end=\" \")\n",
    "    strategies[p] = strategy.Strategy(symbol, capital, start, end, period=period, max_positions=int(p))\n",
    "    strategies[p].run()\n",
    "    strategies[p].tlog, strategies[p].dbal = strategies[p].get_logs()\n",
    "    strategies[p].stats = strategies[p].get_stats()"
   ]
  },
  {
   "cell_type": "markdown",
   "metadata": {},
   "source": [
    "Summarize results"
   ]
  },
  {
   "cell_type": "code",
   "execution_count": 7,
   "metadata": {
    "ExecuteTime": {
     "end_time": "2020-02-17T03:32:20.896119Z",
     "start_time": "2020-02-17T03:32:20.839894Z"
    },
    "scrolled": false
   },
   "outputs": [
    {
     "data": {
      "text/html": [
       "<div>\n",
       "<style scoped>\n",
       "    .dataframe tbody tr th:only-of-type {\n",
       "        vertical-align: middle;\n",
       "    }\n",
       "\n",
       "    .dataframe tbody tr th {\n",
       "        vertical-align: top;\n",
       "    }\n",
       "\n",
       "    .dataframe thead th {\n",
       "        text-align: right;\n",
       "    }\n",
       "</style>\n",
       "<table border=\"1\" class=\"dataframe\">\n",
       "  <thead>\n",
       "    <tr style=\"text-align: right;\">\n",
       "      <th></th>\n",
       "      <th>1</th>\n",
       "      <th>2</th>\n",
       "      <th>3</th>\n",
       "      <th>4</th>\n",
       "      <th>5</th>\n",
       "      <th>6</th>\n",
       "      <th>7</th>\n",
       "      <th>8</th>\n",
       "      <th>9</th>\n",
       "    </tr>\n",
       "  </thead>\n",
       "  <tbody>\n",
       "    <tr>\n",
       "      <th>annual_return_rate</th>\n",
       "      <td>7.21</td>\n",
       "      <td>6.31</td>\n",
       "      <td>5.49</td>\n",
       "      <td>5.22</td>\n",
       "      <td>5.00</td>\n",
       "      <td>4.47</td>\n",
       "      <td>3.95</td>\n",
       "      <td>3.46</td>\n",
       "      <td>3.11</td>\n",
       "    </tr>\n",
       "    <tr>\n",
       "      <th>max_closed_out_drawdown</th>\n",
       "      <td>-14.63</td>\n",
       "      <td>-18.58</td>\n",
       "      <td>-21.96</td>\n",
       "      <td>-23.56</td>\n",
       "      <td>-18.74</td>\n",
       "      <td>-15.45</td>\n",
       "      <td>-13.98</td>\n",
       "      <td>-13.94</td>\n",
       "      <td>-13.52</td>\n",
       "    </tr>\n",
       "    <tr>\n",
       "      <th>drawdown_annualized_return</th>\n",
       "      <td>-2.03</td>\n",
       "      <td>-2.95</td>\n",
       "      <td>-4.00</td>\n",
       "      <td>-4.52</td>\n",
       "      <td>-3.75</td>\n",
       "      <td>-3.46</td>\n",
       "      <td>-3.54</td>\n",
       "      <td>-4.02</td>\n",
       "      <td>-4.34</td>\n",
       "    </tr>\n",
       "    <tr>\n",
       "      <th>drawdown_recovery</th>\n",
       "      <td>-1.84</td>\n",
       "      <td>-0.13</td>\n",
       "      <td>-0.13</td>\n",
       "      <td>-0.13</td>\n",
       "      <td>-0.13</td>\n",
       "      <td>-0.13</td>\n",
       "      <td>-0.18</td>\n",
       "      <td>-0.18</td>\n",
       "      <td>-0.18</td>\n",
       "    </tr>\n",
       "    <tr>\n",
       "      <th>best_month</th>\n",
       "      <td>12.88</td>\n",
       "      <td>10.33</td>\n",
       "      <td>10.41</td>\n",
       "      <td>12.35</td>\n",
       "      <td>9.26</td>\n",
       "      <td>7.64</td>\n",
       "      <td>8.47</td>\n",
       "      <td>7.98</td>\n",
       "      <td>8.15</td>\n",
       "    </tr>\n",
       "    <tr>\n",
       "      <th>worst_month</th>\n",
       "      <td>-13.54</td>\n",
       "      <td>-17.67</td>\n",
       "      <td>-21.10</td>\n",
       "      <td>-22.93</td>\n",
       "      <td>-18.21</td>\n",
       "      <td>-14.99</td>\n",
       "      <td>-12.66</td>\n",
       "      <td>-12.13</td>\n",
       "      <td>-12.24</td>\n",
       "    </tr>\n",
       "    <tr>\n",
       "      <th>sharpe_ratio</th>\n",
       "      <td>0.75</td>\n",
       "      <td>0.69</td>\n",
       "      <td>0.62</td>\n",
       "      <td>0.61</td>\n",
       "      <td>0.65</td>\n",
       "      <td>0.64</td>\n",
       "      <td>0.61</td>\n",
       "      <td>0.58</td>\n",
       "      <td>0.56</td>\n",
       "    </tr>\n",
       "    <tr>\n",
       "      <th>sortino_ratio</th>\n",
       "      <td>0.55</td>\n",
       "      <td>0.52</td>\n",
       "      <td>0.46</td>\n",
       "      <td>0.46</td>\n",
       "      <td>0.49</td>\n",
       "      <td>0.49</td>\n",
       "      <td>0.46</td>\n",
       "      <td>0.43</td>\n",
       "      <td>0.41</td>\n",
       "    </tr>\n",
       "    <tr>\n",
       "      <th>monthly_std</th>\n",
       "      <td>2.10</td>\n",
       "      <td>2.02</td>\n",
       "      <td>1.93</td>\n",
       "      <td>1.86</td>\n",
       "      <td>1.70</td>\n",
       "      <td>1.52</td>\n",
       "      <td>1.41</td>\n",
       "      <td>1.29</td>\n",
       "      <td>1.20</td>\n",
       "    </tr>\n",
       "    <tr>\n",
       "      <th>pct_time_in_market</th>\n",
       "      <td>29.71</td>\n",
       "      <td>35.86</td>\n",
       "      <td>39.66</td>\n",
       "      <td>42.44</td>\n",
       "      <td>43.96</td>\n",
       "      <td>44.75</td>\n",
       "      <td>45.24</td>\n",
       "      <td>45.63</td>\n",
       "      <td>45.84</td>\n",
       "    </tr>\n",
       "    <tr>\n",
       "      <th>total_num_trades</th>\n",
       "      <td>265.00</td>\n",
       "      <td>424.00</td>\n",
       "      <td>522.00</td>\n",
       "      <td>590.00</td>\n",
       "      <td>636.00</td>\n",
       "      <td>660.00</td>\n",
       "      <td>673.00</td>\n",
       "      <td>680.00</td>\n",
       "      <td>685.00</td>\n",
       "    </tr>\n",
       "    <tr>\n",
       "      <th>pct_profitable_trades</th>\n",
       "      <td>78.11</td>\n",
       "      <td>76.89</td>\n",
       "      <td>76.44</td>\n",
       "      <td>76.78</td>\n",
       "      <td>77.20</td>\n",
       "      <td>77.42</td>\n",
       "      <td>77.27</td>\n",
       "      <td>77.21</td>\n",
       "      <td>77.08</td>\n",
       "    </tr>\n",
       "    <tr>\n",
       "      <th>avg_points</th>\n",
       "      <td>0.89</td>\n",
       "      <td>0.92</td>\n",
       "      <td>0.96</td>\n",
       "      <td>1.08</td>\n",
       "      <td>1.27</td>\n",
       "      <td>1.36</td>\n",
       "      <td>1.39</td>\n",
       "      <td>1.41</td>\n",
       "      <td>1.42</td>\n",
       "    </tr>\n",
       "    <tr>\n",
       "      <th>pct_profitable_trades</th>\n",
       "      <td>78.11</td>\n",
       "      <td>76.89</td>\n",
       "      <td>76.44</td>\n",
       "      <td>76.78</td>\n",
       "      <td>77.20</td>\n",
       "      <td>77.42</td>\n",
       "      <td>77.27</td>\n",
       "      <td>77.21</td>\n",
       "      <td>77.08</td>\n",
       "    </tr>\n",
       "  </tbody>\n",
       "</table>\n",
       "</div>"
      ],
      "text/plain": [
       "                                1      2      3      4      5      6      7  \\\n",
       "annual_return_rate           7.21   6.31   5.49   5.22   5.00   4.47   3.95   \n",
       "max_closed_out_drawdown    -14.63 -18.58 -21.96 -23.56 -18.74 -15.45 -13.98   \n",
       "drawdown_annualized_return  -2.03  -2.95  -4.00  -4.52  -3.75  -3.46  -3.54   \n",
       "drawdown_recovery           -1.84  -0.13  -0.13  -0.13  -0.13  -0.13  -0.18   \n",
       "best_month                  12.88  10.33  10.41  12.35   9.26   7.64   8.47   \n",
       "worst_month                -13.54 -17.67 -21.10 -22.93 -18.21 -14.99 -12.66   \n",
       "sharpe_ratio                 0.75   0.69   0.62   0.61   0.65   0.64   0.61   \n",
       "sortino_ratio                0.55   0.52   0.46   0.46   0.49   0.49   0.46   \n",
       "monthly_std                  2.10   2.02   1.93   1.86   1.70   1.52   1.41   \n",
       "pct_time_in_market          29.71  35.86  39.66  42.44  43.96  44.75  45.24   \n",
       "total_num_trades           265.00 424.00 522.00 590.00 636.00 660.00 673.00   \n",
       "pct_profitable_trades       78.11  76.89  76.44  76.78  77.20  77.42  77.27   \n",
       "avg_points                   0.89   0.92   0.96   1.08   1.27   1.36   1.39   \n",
       "pct_profitable_trades       78.11  76.89  76.44  76.78  77.20  77.42  77.27   \n",
       "\n",
       "                                8      9  \n",
       "annual_return_rate           3.46   3.11  \n",
       "max_closed_out_drawdown    -13.94 -13.52  \n",
       "drawdown_annualized_return  -4.02  -4.34  \n",
       "drawdown_recovery           -0.18  -0.18  \n",
       "best_month                   7.98   8.15  \n",
       "worst_month                -12.13 -12.24  \n",
       "sharpe_ratio                 0.58   0.56  \n",
       "sortino_ratio                0.43   0.41  \n",
       "monthly_std                  1.29   1.20  \n",
       "pct_time_in_market          45.63  45.84  \n",
       "total_num_trades           680.00 685.00  \n",
       "pct_profitable_trades       77.21  77.08  \n",
       "avg_points                   1.41   1.42  \n",
       "pct_profitable_trades       77.21  77.08  "
      ]
     },
     "execution_count": 7,
     "metadata": {},
     "output_type": "execute_result"
    }
   ],
   "source": [
    "metrics = ('annual_return_rate',\n",
    "           'max_closed_out_drawdown',\n",
    "           'drawdown_annualized_return',\n",
    "           'drawdown_recovery',\n",
    "           'best_month',\n",
    "           'worst_month',\n",
    "           'sharpe_ratio',\n",
    "           'sortino_ratio',\n",
    "           'monthly_std',\n",
    "           'pct_time_in_market',\n",
    "           'total_num_trades',\n",
    "           'pct_profitable_trades',\n",
    "           'avg_points',\n",
    "           'pct_profitable_trades')\n",
    "\n",
    "df = strategy.summary(strategies, metrics)\n",
    "df"
   ]
  },
  {
   "cell_type": "markdown",
   "metadata": {},
   "source": [
    "Bar graphs"
   ]
  },
  {
   "cell_type": "code",
   "execution_count": 8,
   "metadata": {
    "ExecuteTime": {
     "end_time": "2020-02-17T03:32:21.989889Z",
     "start_time": "2020-02-17T03:32:20.904892Z"
    }
   },
   "outputs": [
    {
     "data": {
      "image/png": "[encoded data removed]",
      "text/plain": [
       "<Figure size 720x504 with 1 Axes>"
      ]
     },
     "metadata": {
      "needs_background": "light"
     },
     "output_type": "display_data"
    },
    {
     "data": {
      "image/png": "[encoded data removed]",
      "text/plain": [
       "<Figure size 720x504 with 1 Axes>"
      ]
     },
     "metadata": {
      "needs_background": "light"
     },
     "output_type": "display_data"
    },
    {
     "data": {
      "image/png": "[encoded data removed]",
      "text/plain": [
       "<Figure size 720x504 with 1 Axes>"
      ]
     },
     "metadata": {
      "needs_background": "light"
     },
     "output_type": "display_data"
    }
   ],
   "source": [
    "strategy.plot_bar_graph(df, 'annual_return_rate')\n",
    "strategy.plot_bar_graph(df, 'sharpe_ratio')\n",
    "strategy.plot_bar_graph(df, 'max_closed_out_drawdown')"
   ]
  },
  {
   "cell_type": "markdown",
   "metadata": {},
   "source": [
    "Run Benchmark"
   ]
  },
  {
   "cell_type": "code",
   "execution_count": 9,
   "metadata": {
    "ExecuteTime": {
     "end_time": "2020-02-17T03:32:23.164841Z",
     "start_time": "2020-02-17T03:32:21.996274Z"
    }
   },
   "outputs": [
    {
     "name": "stdout",
     "output_type": "stream",
     "text": [
      "1993-11-11 00:00:00 BUY  215 SPY @ 46.38\n",
      "2020-07-14 00:00:00 SELL 215 SPY @ 316.03\n"
     ]
    }
   ],
   "source": [
    "s = strategies[pos[0]]\n",
    "benchmark = pf.Benchmark(symbol, capital, s._start, s._end)\n",
    "benchmark.run()\n",
    "benchmark.tlog, benchmark.dbal = benchmark.get_logs()\n",
    "benchmark.stats = benchmark.get_stats()"
   ]
  },
  {
   "cell_type": "markdown",
   "metadata": {},
   "source": [
    "Equity curve"
   ]
  },
  {
   "cell_type": "code",
   "execution_count": 10,
   "metadata": {
    "ExecuteTime": {
     "end_time": "2020-02-17T03:32:23.456844Z",
     "start_time": "2020-02-17T03:32:23.174862Z"
    }
   },
   "outputs": [
    {
     "data": {
      "image/png": "[encoded data removed]",
      "text/plain": [
       "<Figure size 720x504 with 1 Axes>"
      ]
     },
     "metadata": {
      "needs_background": "light"
     },
     "output_type": "display_data"
    }
   ],
   "source": [
    "pf.plot_equity_curve(strategies['4'].dbal, benchmark=benchmark.dbal)"
   ]
  }
 ],
 "metadata": {
  "kernelspec": {
   "display_name": "Python 3",
   "language": "python",
   "name": "python3"
  },
  "language_info": {
   "codemirror_mode": {
    "name": "ipython",
    "version": 3
   },
   "file_extension": ".py",
   "mimetype": "text/x-python",
   "name": "python",
   "nbconvert_exporter": "python",
   "pygments_lexer": "ipython3",
   "version": "3.8.2"
  },
  "latex_envs": {
   "LaTeX_envs_menu_present": true,
   "autoclose": false,
   "autocomplete": true,
   "bibliofile": "biblio.bib",
   "cite_by": "apalike",
   "current_citInitial": 1,
   "eqLabelWithNumbers": true,
   "eqNumInitial": 1,
   "hotkeys": {
    "equation": "Ctrl-E",
    "itemize": "Ctrl-I"
   },
   "labels_anchors": false,
   "latex_user_defs": false,
   "report_style_numbering": false,
   "user_envs_cfg": false
  }
 },
 "nbformat": 4,
 "nbformat_minor": 1
}
