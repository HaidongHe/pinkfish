{
 "cells": [
  {
   "cell_type": "markdown",
   "metadata": {},
   "source": [
    "# Double 7's (Short Term Trading Strategies that Work)\n",
    "\n",
    "    1. The SPY is above its 200-day moving average\n",
    "    2. The SPY closes at a X-day low, buy some shares.\n",
    "       If it falls further, buy some more, etc...\n",
    "    3. If the SPY closes at a X-day high, sell your entire long position.\n",
    "    \n",
    "    (optimize for number of positions)"
   ]
  },
  {
   "cell_type": "code",
   "execution_count": 1,
   "metadata": {
    "ExecuteTime": {
     "end_time": "2020-02-17T03:32:11.769070Z",
     "start_time": "2020-02-17T03:32:10.650370Z"
    }
   },
   "outputs": [],
   "source": [
    "# use future imports for python 3.x forward compatibility\n",
    "from __future__ import print_function\n",
    "from __future__ import unicode_literals\n",
    "from __future__ import division\n",
    "from __future__ import absolute_import\n",
    "\n",
    "# other imports\n",
    "import pandas as pd\n",
    "import matplotlib.pyplot as plt\n",
    "import datetime\n",
    "from talib.abstract import *\n",
    "\n",
    "# project imports\n",
    "import pinkfish as pf\n",
    "import strategy\n",
    "\n",
    "# format price data\n",
    "pd.options.display.float_format = '{:0.2f}'.format\n",
    "\n",
    "%matplotlib inline"
   ]
  },
  {
   "cell_type": "code",
   "execution_count": 2,
   "metadata": {
    "ExecuteTime": {
     "end_time": "2020-02-17T03:32:11.799042Z",
     "start_time": "2020-02-17T03:32:11.785862Z"
    }
   },
   "outputs": [],
   "source": [
    "# set size of inline plots\n",
    "'''note: rcParams can't be in same cell as import matplotlib\n",
    "   or %matplotlib inline\n",
    "   \n",
    "   %matplotlib notebook: will lead to interactive plots embedded within\n",
    "   the notebook, you can zoom and resize the figure\n",
    "   \n",
    "   %matplotlib inline: only draw static images in the notebook\n",
    "'''\n",
    "plt.rcParams[\"figure.figsize\"] = (10, 7)"
   ]
  },
  {
   "cell_type": "markdown",
   "metadata": {},
   "source": [
    "Some global data"
   ]
  },
  {
   "cell_type": "code",
   "execution_count": 3,
   "metadata": {
    "ExecuteTime": {
     "end_time": "2020-02-17T03:32:11.817537Z",
     "start_time": "2020-02-17T03:32:11.805869Z"
    }
   },
   "outputs": [],
   "source": [
    "#symbol = '^GSPC'\n",
    "symbol = 'SPY'\n",
    "#symbol = 'DIA'\n",
    "#symbol = 'QQQ'\n",
    "#symbol = 'IWM'\n",
    "#symbol = 'TLT'\n",
    "#symbol = 'GLD'\n",
    "#symbol = 'AAPL'\n",
    "#symbol = 'BBRY'\n",
    "#symbol = 'GDX'\n",
    "capital = 10000\n",
    "start = datetime.datetime(1900, 1, 1)\n",
    "#end = datetime.datetime(2010, 12, 1)\n",
    "end = datetime.datetime.now()"
   ]
  },
  {
   "cell_type": "markdown",
   "metadata": {},
   "source": [
    "Define high low trade periods"
   ]
  },
  {
   "cell_type": "code",
   "execution_count": 4,
   "metadata": {
    "ExecuteTime": {
     "end_time": "2020-02-17T03:32:11.834970Z",
     "start_time": "2020-02-17T03:32:11.824222Z"
    }
   },
   "outputs": [],
   "source": [
    "period = 7"
   ]
  },
  {
   "cell_type": "markdown",
   "metadata": {},
   "source": [
    "Define max number of positions to scale into"
   ]
  },
  {
   "cell_type": "code",
   "execution_count": 5,
   "metadata": {
    "ExecuteTime": {
     "end_time": "2020-02-17T03:32:11.849950Z",
     "start_time": "2020-02-17T03:32:11.841937Z"
    }
   },
   "outputs": [],
   "source": [
    "pos = range(1, 10)\n",
    "pos = [str(p) for p in pos]"
   ]
  },
  {
   "cell_type": "markdown",
   "metadata": {},
   "source": [
    "Run Strategy"
   ]
  },
  {
   "cell_type": "code",
   "execution_count": 6,
   "metadata": {
    "ExecuteTime": {
     "end_time": "2020-02-17T03:32:20.830130Z",
     "start_time": "2020-02-17T03:32:11.858952Z"
    }
   },
   "outputs": [
    {
     "name": "stdout",
     "output_type": "stream",
     "text": [
      "1 2 3 4 5 6 7 8 9 "
     ]
    }
   ],
   "source": [
    "strategies = pd.Series()\n",
    "for p in pos:\n",
    "    print(\"{0}\".format(p), end=\" \")\n",
    "    strategies[p] = strategy.Strategy(symbol, capital, start, end, period=period, max_positions=int(p))\n",
    "    strategies[p].run()\n",
    "    strategies[p].tlog, strategies[p].dbal = strategies[p].get_logs()\n",
    "    strategies[p].stats = strategies[p].get_stats()"
   ]
  },
  {
   "cell_type": "markdown",
   "metadata": {},
   "source": [
    "Summarize results"
   ]
  },
  {
   "cell_type": "code",
   "execution_count": 7,
   "metadata": {
    "ExecuteTime": {
     "end_time": "2020-02-17T03:32:20.896119Z",
     "start_time": "2020-02-17T03:32:20.839894Z"
    },
    "scrolled": true
   },
   "outputs": [
    {
     "data": {
      "text/html": [
       "<div>\n",
       "<style scoped>\n",
       "    .dataframe tbody tr th:only-of-type {\n",
       "        vertical-align: middle;\n",
       "    }\n",
       "\n",
       "    .dataframe tbody tr th {\n",
       "        vertical-align: top;\n",
       "    }\n",
       "\n",
       "    .dataframe thead th {\n",
       "        text-align: right;\n",
       "    }\n",
       "</style>\n",
       "<table border=\"1\" class=\"dataframe\">\n",
       "  <thead>\n",
       "    <tr style=\"text-align: right;\">\n",
       "      <th></th>\n",
       "      <th>1</th>\n",
       "      <th>2</th>\n",
       "      <th>3</th>\n",
       "      <th>4</th>\n",
       "      <th>5</th>\n",
       "      <th>6</th>\n",
       "      <th>7</th>\n",
       "      <th>8</th>\n",
       "      <th>9</th>\n",
       "    </tr>\n",
       "  </thead>\n",
       "  <tbody>\n",
       "    <tr>\n",
       "      <th>annual_return_rate</th>\n",
       "      <td>7.48</td>\n",
       "      <td>6.90</td>\n",
       "      <td>6.14</td>\n",
       "      <td>5.89</td>\n",
       "      <td>5.53</td>\n",
       "      <td>4.91</td>\n",
       "      <td>4.32</td>\n",
       "      <td>3.79</td>\n",
       "      <td>3.39</td>\n",
       "    </tr>\n",
       "    <tr>\n",
       "      <th>max_closed_out_drawdown</th>\n",
       "      <td>-14.63</td>\n",
       "      <td>-14.23</td>\n",
       "      <td>-13.62</td>\n",
       "      <td>-14.35</td>\n",
       "      <td>-14.09</td>\n",
       "      <td>-14.11</td>\n",
       "      <td>-13.98</td>\n",
       "      <td>-13.94</td>\n",
       "      <td>-13.52</td>\n",
       "    </tr>\n",
       "    <tr>\n",
       "      <th>drawdown_annualized_return</th>\n",
       "      <td>-1.96</td>\n",
       "      <td>-2.06</td>\n",
       "      <td>-2.22</td>\n",
       "      <td>-2.44</td>\n",
       "      <td>-2.55</td>\n",
       "      <td>-2.87</td>\n",
       "      <td>-3.24</td>\n",
       "      <td>-3.68</td>\n",
       "      <td>-3.98</td>\n",
       "    </tr>\n",
       "    <tr>\n",
       "      <th>drawdown_recovery</th>\n",
       "      <td>-1.84</td>\n",
       "      <td>-1.66</td>\n",
       "      <td>-0.05</td>\n",
       "      <td>-0.05</td>\n",
       "      <td>-0.05</td>\n",
       "      <td>-0.18</td>\n",
       "      <td>-0.18</td>\n",
       "      <td>-0.18</td>\n",
       "      <td>-0.18</td>\n",
       "    </tr>\n",
       "    <tr>\n",
       "      <th>best_month</th>\n",
       "      <td>12.88</td>\n",
       "      <td>10.33</td>\n",
       "      <td>9.61</td>\n",
       "      <td>9.70</td>\n",
       "      <td>7.72</td>\n",
       "      <td>7.64</td>\n",
       "      <td>8.47</td>\n",
       "      <td>7.98</td>\n",
       "      <td>8.15</td>\n",
       "    </tr>\n",
       "    <tr>\n",
       "      <th>worst_month</th>\n",
       "      <td>-13.54</td>\n",
       "      <td>-12.72</td>\n",
       "      <td>-12.02</td>\n",
       "      <td>-12.56</td>\n",
       "      <td>-12.60</td>\n",
       "      <td>-11.73</td>\n",
       "      <td>-11.90</td>\n",
       "      <td>-12.13</td>\n",
       "      <td>-12.24</td>\n",
       "    </tr>\n",
       "    <tr>\n",
       "      <th>sharpe_ratio</th>\n",
       "      <td>0.78</td>\n",
       "      <td>0.77</td>\n",
       "      <td>0.73</td>\n",
       "      <td>0.74</td>\n",
       "      <td>0.75</td>\n",
       "      <td>0.74</td>\n",
       "      <td>0.69</td>\n",
       "      <td>0.65</td>\n",
       "      <td>0.62</td>\n",
       "    </tr>\n",
       "    <tr>\n",
       "      <th>sortino_ratio</th>\n",
       "      <td>0.58</td>\n",
       "      <td>0.59</td>\n",
       "      <td>0.56</td>\n",
       "      <td>0.58</td>\n",
       "      <td>0.58</td>\n",
       "      <td>0.57</td>\n",
       "      <td>0.53</td>\n",
       "      <td>0.49</td>\n",
       "      <td>0.46</td>\n",
       "    </tr>\n",
       "    <tr>\n",
       "      <th>monthly_std</th>\n",
       "      <td>2.07</td>\n",
       "      <td>1.90</td>\n",
       "      <td>1.75</td>\n",
       "      <td>1.64</td>\n",
       "      <td>1.55</td>\n",
       "      <td>1.41</td>\n",
       "      <td>1.32</td>\n",
       "      <td>1.23</td>\n",
       "      <td>1.15</td>\n",
       "    </tr>\n",
       "    <tr>\n",
       "      <th>pct_time_in_market</th>\n",
       "      <td>29.96</td>\n",
       "      <td>35.96</td>\n",
       "      <td>39.79</td>\n",
       "      <td>42.54</td>\n",
       "      <td>44.09</td>\n",
       "      <td>44.89</td>\n",
       "      <td>45.39</td>\n",
       "      <td>45.78</td>\n",
       "      <td>45.99</td>\n",
       "    </tr>\n",
       "    <tr>\n",
       "      <th>total_num_trades</th>\n",
       "      <td>263.00</td>\n",
       "      <td>421.00</td>\n",
       "      <td>518.00</td>\n",
       "      <td>585.00</td>\n",
       "      <td>631.00</td>\n",
       "      <td>655.00</td>\n",
       "      <td>668.00</td>\n",
       "      <td>675.00</td>\n",
       "      <td>680.00</td>\n",
       "    </tr>\n",
       "    <tr>\n",
       "      <th>pct_profitable_trades</th>\n",
       "      <td>78.33</td>\n",
       "      <td>77.20</td>\n",
       "      <td>76.83</td>\n",
       "      <td>77.26</td>\n",
       "      <td>77.65</td>\n",
       "      <td>77.86</td>\n",
       "      <td>77.69</td>\n",
       "      <td>77.63</td>\n",
       "      <td>77.50</td>\n",
       "    </tr>\n",
       "    <tr>\n",
       "      <th>avg_points</th>\n",
       "      <td>0.94</td>\n",
       "      <td>1.10</td>\n",
       "      <td>1.20</td>\n",
       "      <td>1.38</td>\n",
       "      <td>1.55</td>\n",
       "      <td>1.63</td>\n",
       "      <td>1.65</td>\n",
       "      <td>1.67</td>\n",
       "      <td>1.69</td>\n",
       "    </tr>\n",
       "    <tr>\n",
       "      <th>pct_profitable_trades</th>\n",
       "      <td>78.33</td>\n",
       "      <td>77.20</td>\n",
       "      <td>76.83</td>\n",
       "      <td>77.26</td>\n",
       "      <td>77.65</td>\n",
       "      <td>77.86</td>\n",
       "      <td>77.69</td>\n",
       "      <td>77.63</td>\n",
       "      <td>77.50</td>\n",
       "    </tr>\n",
       "  </tbody>\n",
       "</table>\n",
       "</div>"
      ],
      "text/plain": [
       "                                1      2      3      4      5      6      7  \\\n",
       "annual_return_rate           7.48   6.90   6.14   5.89   5.53   4.91   4.32   \n",
       "max_closed_out_drawdown    -14.63 -14.23 -13.62 -14.35 -14.09 -14.11 -13.98   \n",
       "drawdown_annualized_return  -1.96  -2.06  -2.22  -2.44  -2.55  -2.87  -3.24   \n",
       "drawdown_recovery           -1.84  -1.66  -0.05  -0.05  -0.05  -0.18  -0.18   \n",
       "best_month                  12.88  10.33   9.61   9.70   7.72   7.64   8.47   \n",
       "worst_month                -13.54 -12.72 -12.02 -12.56 -12.60 -11.73 -11.90   \n",
       "sharpe_ratio                 0.78   0.77   0.73   0.74   0.75   0.74   0.69   \n",
       "sortino_ratio                0.58   0.59   0.56   0.58   0.58   0.57   0.53   \n",
       "monthly_std                  2.07   1.90   1.75   1.64   1.55   1.41   1.32   \n",
       "pct_time_in_market          29.96  35.96  39.79  42.54  44.09  44.89  45.39   \n",
       "total_num_trades           263.00 421.00 518.00 585.00 631.00 655.00 668.00   \n",
       "pct_profitable_trades       78.33  77.20  76.83  77.26  77.65  77.86  77.69   \n",
       "avg_points                   0.94   1.10   1.20   1.38   1.55   1.63   1.65   \n",
       "pct_profitable_trades       78.33  77.20  76.83  77.26  77.65  77.86  77.69   \n",
       "\n",
       "                                8      9  \n",
       "annual_return_rate           3.79   3.39  \n",
       "max_closed_out_drawdown    -13.94 -13.52  \n",
       "drawdown_annualized_return  -3.68  -3.98  \n",
       "drawdown_recovery           -0.18  -0.18  \n",
       "best_month                   7.98   8.15  \n",
       "worst_month                -12.13 -12.24  \n",
       "sharpe_ratio                 0.65   0.62  \n",
       "sortino_ratio                0.49   0.46  \n",
       "monthly_std                  1.23   1.15  \n",
       "pct_time_in_market          45.78  45.99  \n",
       "total_num_trades           675.00 680.00  \n",
       "pct_profitable_trades       77.63  77.50  \n",
       "avg_points                   1.67   1.69  \n",
       "pct_profitable_trades       77.63  77.50  "
      ]
     },
     "execution_count": 7,
     "metadata": {},
     "output_type": "execute_result"
    }
   ],
   "source": [
    "metrics = ('annual_return_rate',\n",
    "           'max_closed_out_drawdown',\n",
    "           'drawdown_annualized_return',\n",
    "           'drawdown_recovery',\n",
    "           'best_month',\n",
    "           'worst_month',\n",
    "           'sharpe_ratio',\n",
    "           'sortino_ratio',\n",
    "           'monthly_std',\n",
    "           'pct_time_in_market',\n",
    "           'total_num_trades',\n",
    "           'pct_profitable_trades',\n",
    "           'avg_points',\n",
    "           'pct_profitable_trades')\n",
    "\n",
    "df = strategy.summary(strategies, *metrics)\n",
    "df"
   ]
  },
  {
   "cell_type": "markdown",
   "metadata": {},
   "source": [
    "Bar graphs"
   ]
  },
  {
   "cell_type": "code",
   "execution_count": 8,
   "metadata": {
    "ExecuteTime": {
     "end_time": "2020-02-17T03:32:21.989889Z",
     "start_time": "2020-02-17T03:32:20.904892Z"
    }
   },
   "outputs": [
    {
     "data": {
      "image/png": "[encoded data removed]",
      "text/plain": [
       "<Figure size 720x504 with 1 Axes>"
      ]
     },
     "metadata": {
      "needs_background": "light"
     },
     "output_type": "display_data"
    },
    {
     "data": {
      "image/png": "[encoded data removed]",
      "text/plain": [
       "<Figure size 720x504 with 1 Axes>"
      ]
     },
     "metadata": {
      "needs_background": "light"
     },
     "output_type": "display_data"
    },
    {
     "data": {
      "image/png": "[encoded data removed]",
      "text/plain": [
       "<Figure size 720x504 with 1 Axes>"
      ]
     },
     "metadata": {
      "needs_background": "light"
     },
     "output_type": "display_data"
    }
   ],
   "source": [
    "strategy.plot_bar_graph(df, 'annual_return_rate')\n",
    "strategy.plot_bar_graph(df, 'sharpe_ratio')\n",
    "strategy.plot_bar_graph(df, 'max_closed_out_drawdown')"
   ]
  },
  {
   "cell_type": "markdown",
   "metadata": {},
   "source": [
    "Run Benchmark"
   ]
  },
  {
   "cell_type": "code",
   "execution_count": 9,
   "metadata": {
    "ExecuteTime": {
     "end_time": "2020-02-17T03:32:23.164841Z",
     "start_time": "2020-02-17T03:32:21.996274Z"
    }
   },
   "outputs": [
    {
     "name": "stdout",
     "output_type": "stream",
     "text": [
      "1993-11-11 00:00:00 BUY  215 SPY @ 46.38\n",
      "2020-02-14 00:00:00 SELL 215 SPY @ 337.60\n"
     ]
    }
   ],
   "source": [
    "s = strategies[pos[0]]\n",
    "benchmark = pf.Benchmark(symbol, capital, s._start, s._end)\n",
    "benchmark.run()\n",
    "benchmark.tlog, benchmark.dbal = benchmark.get_logs()\n",
    "benchmark.stats = benchmark.get_stats()"
   ]
  },
  {
   "cell_type": "markdown",
   "metadata": {},
   "source": [
    "Equity curve"
   ]
  },
  {
   "cell_type": "code",
   "execution_count": 10,
   "metadata": {
    "ExecuteTime": {
     "end_time": "2020-02-17T03:32:23.456844Z",
     "start_time": "2020-02-17T03:32:23.174862Z"
    }
   },
   "outputs": [
    {
     "data": {
      "image/png": "[encoded data removed]",
      "text/plain": [
       "<Figure size 720x504 with 1 Axes>"
      ]
     },
     "metadata": {
      "needs_background": "light"
     },
     "output_type": "display_data"
    }
   ],
   "source": [
    "pf.plot_equity_curve(strategies['4'].dbal, benchmark=benchmark.dbal)"
   ]
  }
 ],
 "metadata": {
  "kernelspec": {
   "display_name": "Python 2",
   "language": "python",
   "name": "python2"
  },
  "language_info": {
   "codemirror_mode": {
    "name": "ipython",
    "version": 2
   },
   "file_extension": ".py",
   "mimetype": "text/x-python",
   "name": "python",
   "nbconvert_exporter": "python",
   "pygments_lexer": "ipython2",
   "version": "2.7.15+"
  },
  "latex_envs": {
   "LaTeX_envs_menu_present": true,
   "autoclose": false,
   "autocomplete": true,
   "bibliofile": "biblio.bib",
   "cite_by": "apalike",
   "current_citInitial": 1,
   "eqLabelWithNumbers": true,
   "eqNumInitial": 1,
   "hotkeys": {
    "equation": "Ctrl-E",
    "itemize": "Ctrl-I"
   },
   "labels_anchors": false,
   "latex_user_defs": false,
   "report_style_numbering": false,
   "user_envs_cfg": false
  }
 },
 "nbformat": 4,
 "nbformat_minor": 1
}
