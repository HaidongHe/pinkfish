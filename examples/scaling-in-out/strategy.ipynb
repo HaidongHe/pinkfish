{
 "cells": [
  {
   "cell_type": "markdown",
   "metadata": {},
   "source": [
    "# Double 7's (Short Term Trading Strategies that Work)\n",
    "\n",
    "    1. The SPY is above its 200-day moving average\n",
    "    2. The SPY closes at a X-day low, buy some shares\n",
    "       If it set further lows, buy some more\n",
    "    3. If the SPY closes at a X-day high, sell some.\n",
    "       If it sets further highs, sell some more, etc...\n",
    "    \n",
    "    (Scaling in and out)"
   ]
  },
  {
   "cell_type": "code",
   "execution_count": 1,
   "metadata": {
    "ExecuteTime": {
     "end_time": "2020-02-17T03:31:24.392630Z",
     "start_time": "2020-02-17T03:31:23.151150Z"
    }
   },
   "outputs": [],
   "source": [
    "import pandas as pd\n",
    "import matplotlib.pyplot as plt\n",
    "import datetime\n",
    "from talib.abstract import *\n",
    "\n",
    "import pinkfish as pf\n",
    "import strategy\n",
    "\n",
    "# format price data\n",
    "pd.options.display.float_format = '{:0.2f}'.format\n",
    "\n",
    "%matplotlib inline"
   ]
  },
  {
   "cell_type": "code",
   "execution_count": 2,
   "metadata": {
    "ExecuteTime": {
     "end_time": "2020-02-17T03:31:24.413973Z",
     "start_time": "2020-02-17T03:31:24.407155Z"
    }
   },
   "outputs": [],
   "source": [
    "# set size of inline plots\n",
    "'''note: rcParams can't be in same cell as import matplotlib\n",
    "   or %matplotlib inline\n",
    "   \n",
    "   %matplotlib notebook: will lead to interactive plots embedded within\n",
    "   the notebook, you can zoom and resize the figure\n",
    "   \n",
    "   %matplotlib inline: only draw static images in the notebook\n",
    "'''\n",
    "plt.rcParams[\"figure.figsize\"] = (10, 7)"
   ]
  },
  {
   "cell_type": "markdown",
   "metadata": {},
   "source": [
    "Some global data"
   ]
  },
  {
   "cell_type": "code",
   "execution_count": 3,
   "metadata": {
    "ExecuteTime": {
     "end_time": "2020-02-17T03:31:24.429012Z",
     "start_time": "2020-02-17T03:31:24.418520Z"
    }
   },
   "outputs": [],
   "source": [
    "#symbol = '^GSPC'\n",
    "symbol = 'SPY'\n",
    "#symbol = 'DIA'\n",
    "#symbol = 'QQQ'\n",
    "#symbol = 'IWM'\n",
    "#symbol = 'TLT'\n",
    "#symbol = 'GLD'\n",
    "#symbol = 'AAPL'\n",
    "#symbol = 'BBRY'\n",
    "#symbol = 'GDX'\n",
    "capital = 10000\n",
    "start = datetime.datetime(1900, 1, 1)\n",
    "end = datetime.datetime.now()"
   ]
  },
  {
   "cell_type": "markdown",
   "metadata": {},
   "source": [
    "Define high low trade periods"
   ]
  },
  {
   "cell_type": "code",
   "execution_count": 4,
   "metadata": {
    "ExecuteTime": {
     "end_time": "2020-02-17T03:31:24.443106Z",
     "start_time": "2020-02-17T03:31:24.433306Z"
    }
   },
   "outputs": [],
   "source": [
    "period = 7"
   ]
  },
  {
   "cell_type": "markdown",
   "metadata": {},
   "source": [
    "Define max number of positions to scale into"
   ]
  },
  {
   "cell_type": "code",
   "execution_count": 5,
   "metadata": {
    "ExecuteTime": {
     "end_time": "2020-02-17T03:31:24.451334Z",
     "start_time": "2020-02-17T03:31:24.447099Z"
    }
   },
   "outputs": [],
   "source": [
    "max_positions = 2"
   ]
  },
  {
   "cell_type": "markdown",
   "metadata": {},
   "source": [
    "Define the margin multiple"
   ]
  },
  {
   "cell_type": "code",
   "execution_count": 6,
   "metadata": {},
   "outputs": [],
   "source": [
    "margin = 2"
   ]
  },
  {
   "cell_type": "markdown",
   "metadata": {},
   "source": [
    "Run Strategy"
   ]
  },
  {
   "cell_type": "code",
   "execution_count": 7,
   "metadata": {
    "ExecuteTime": {
     "end_time": "2020-02-17T03:31:24.663628Z",
     "start_time": "2020-02-17T03:31:24.454544Z"
    },
    "scrolled": false
   },
   "outputs": [],
   "source": [
    "s = strategy.Strategy(symbol, capital, start, end, period=period, max_positions=max_positions, stop_loss_pct=85, margin=margin)\n",
    "s.run()"
   ]
  },
  {
   "cell_type": "markdown",
   "metadata": {},
   "source": [
    "Retrieve log DataFrames"
   ]
  },
  {
   "cell_type": "code",
   "execution_count": 8,
   "metadata": {
    "ExecuteTime": {
     "end_time": "2020-02-17T03:31:25.438889Z",
     "start_time": "2020-02-17T03:31:24.676427Z"
    }
   },
   "outputs": [],
   "source": [
    "tlog, dbal = s.get_logs()\n",
    "stats = s.get_stats()"
   ]
  },
  {
   "cell_type": "code",
   "execution_count": 9,
   "metadata": {
    "ExecuteTime": {
     "end_time": "2020-02-17T03:31:25.550325Z",
     "start_time": "2020-02-17T03:31:25.449988Z"
    },
    "scrolled": true
   },
   "outputs": [
    {
     "data": {
      "text/html": [
       "<div>\n",
       "<style scoped>\n",
       "    .dataframe tbody tr th:only-of-type {\n",
       "        vertical-align: middle;\n",
       "    }\n",
       "\n",
       "    .dataframe tbody tr th {\n",
       "        vertical-align: top;\n",
       "    }\n",
       "\n",
       "    .dataframe thead th {\n",
       "        text-align: right;\n",
       "    }\n",
       "</style>\n",
       "<table border=\"1\" class=\"dataframe\">\n",
       "  <thead>\n",
       "    <tr style=\"text-align: right;\">\n",
       "      <th></th>\n",
       "      <th>entry_date</th>\n",
       "      <th>entry_price</th>\n",
       "      <th>exit_date</th>\n",
       "      <th>exit_price</th>\n",
       "      <th>pl_points</th>\n",
       "      <th>pl_cash</th>\n",
       "      <th>qty</th>\n",
       "      <th>cumul_total</th>\n",
       "      <th>direction</th>\n",
       "      <th>symbol</th>\n",
       "    </tr>\n",
       "  </thead>\n",
       "  <tbody>\n",
       "    <tr>\n",
       "      <th>419</th>\n",
       "      <td>2020-01-27</td>\n",
       "      <td>323.50</td>\n",
       "      <td>2020-02-04</td>\n",
       "      <td>329.06</td>\n",
       "      <td>5.56</td>\n",
       "      <td>4375.72</td>\n",
       "      <td>787</td>\n",
       "      <td>249150.50</td>\n",
       "      <td>LONG</td>\n",
       "      <td>SPY</td>\n",
       "    </tr>\n",
       "    <tr>\n",
       "      <th>420</th>\n",
       "      <td>2020-01-31</td>\n",
       "      <td>321.73</td>\n",
       "      <td>2020-02-05</td>\n",
       "      <td>332.86</td>\n",
       "      <td>11.13</td>\n",
       "      <td>8770.42</td>\n",
       "      <td>788</td>\n",
       "      <td>257920.92</td>\n",
       "      <td>LONG</td>\n",
       "      <td>SPY</td>\n",
       "    </tr>\n",
       "    <tr>\n",
       "      <th>421</th>\n",
       "      <td>2020-02-21</td>\n",
       "      <td>333.48</td>\n",
       "      <td>2020-03-04</td>\n",
       "      <td>312.86</td>\n",
       "      <td>-20.62</td>\n",
       "      <td>-16557.88</td>\n",
       "      <td>803</td>\n",
       "      <td>241363.04</td>\n",
       "      <td>LONG</td>\n",
       "      <td>SPY</td>\n",
       "    </tr>\n",
       "    <tr>\n",
       "      <th>422</th>\n",
       "      <td>2020-02-24</td>\n",
       "      <td>322.42</td>\n",
       "      <td>2020-03-09</td>\n",
       "      <td>274.23</td>\n",
       "      <td>-48.19</td>\n",
       "      <td>-38696.57</td>\n",
       "      <td>803</td>\n",
       "      <td>202666.47</td>\n",
       "      <td>LONG</td>\n",
       "      <td>SPY</td>\n",
       "    </tr>\n",
       "    <tr>\n",
       "      <th>423</th>\n",
       "      <td>2020-06-24</td>\n",
       "      <td>304.09</td>\n",
       "      <td>2020-07-02</td>\n",
       "      <td>312.23</td>\n",
       "      <td>8.14</td>\n",
       "      <td>5689.87</td>\n",
       "      <td>699</td>\n",
       "      <td>208356.34</td>\n",
       "      <td>LONG</td>\n",
       "      <td>SPY</td>\n",
       "    </tr>\n",
       "  </tbody>\n",
       "</table>\n",
       "</div>"
      ],
      "text/plain": [
       "    entry_date  entry_price  exit_date  exit_price  pl_points   pl_cash  qty  \\\n",
       "419 2020-01-27       323.50 2020-02-04      329.06       5.56   4375.72  787   \n",
       "420 2020-01-31       321.73 2020-02-05      332.86      11.13   8770.42  788   \n",
       "421 2020-02-21       333.48 2020-03-04      312.86     -20.62 -16557.88  803   \n",
       "422 2020-02-24       322.42 2020-03-09      274.23     -48.19 -38696.57  803   \n",
       "423 2020-06-24       304.09 2020-07-02      312.23       8.14   5689.87  699   \n",
       "\n",
       "     cumul_total direction symbol  \n",
       "419    249150.50      LONG    SPY  \n",
       "420    257920.92      LONG    SPY  \n",
       "421    241363.04      LONG    SPY  \n",
       "422    202666.47      LONG    SPY  \n",
       "423    208356.34      LONG    SPY  "
      ]
     },
     "execution_count": 9,
     "metadata": {},
     "output_type": "execute_result"
    }
   ],
   "source": [
    "tlog.tail()"
   ]
  },
  {
   "cell_type": "code",
   "execution_count": 10,
   "metadata": {
    "ExecuteTime": {
     "end_time": "2020-02-17T03:31:25.581309Z",
     "start_time": "2020-02-17T03:31:25.554397Z"
    },
    "scrolled": false
   },
   "outputs": [
    {
     "data": {
      "text/html": [
       "<div>\n",
       "<style scoped>\n",
       "    .dataframe tbody tr th:only-of-type {\n",
       "        vertical-align: middle;\n",
       "    }\n",
       "\n",
       "    .dataframe tbody tr th {\n",
       "        vertical-align: top;\n",
       "    }\n",
       "\n",
       "    .dataframe thead th {\n",
       "        text-align: right;\n",
       "    }\n",
       "</style>\n",
       "<table border=\"1\" class=\"dataframe\">\n",
       "  <thead>\n",
       "    <tr style=\"text-align: right;\">\n",
       "      <th></th>\n",
       "      <th>high</th>\n",
       "      <th>low</th>\n",
       "      <th>close</th>\n",
       "      <th>shares</th>\n",
       "      <th>cash</th>\n",
       "      <th>leverage</th>\n",
       "      <th>state</th>\n",
       "    </tr>\n",
       "    <tr>\n",
       "      <th>date</th>\n",
       "      <th></th>\n",
       "      <th></th>\n",
       "      <th></th>\n",
       "      <th></th>\n",
       "      <th></th>\n",
       "      <th></th>\n",
       "      <th></th>\n",
       "    </tr>\n",
       "  </thead>\n",
       "  <tbody>\n",
       "    <tr>\n",
       "      <th>2020-07-08</th>\n",
       "      <td>218356.34</td>\n",
       "      <td>218356.34</td>\n",
       "      <td>218356.34</td>\n",
       "      <td>0</td>\n",
       "      <td>218356.34</td>\n",
       "      <td>0.00</td>\n",
       "      <td>-</td>\n",
       "    </tr>\n",
       "    <tr>\n",
       "      <th>2020-07-09</th>\n",
       "      <td>218356.34</td>\n",
       "      <td>218356.34</td>\n",
       "      <td>218356.34</td>\n",
       "      <td>0</td>\n",
       "      <td>218356.34</td>\n",
       "      <td>0.00</td>\n",
       "      <td>-</td>\n",
       "    </tr>\n",
       "    <tr>\n",
       "      <th>2020-07-10</th>\n",
       "      <td>218356.34</td>\n",
       "      <td>218356.34</td>\n",
       "      <td>218356.34</td>\n",
       "      <td>0</td>\n",
       "      <td>218356.34</td>\n",
       "      <td>0.00</td>\n",
       "      <td>-</td>\n",
       "    </tr>\n",
       "    <tr>\n",
       "      <th>2020-07-13</th>\n",
       "      <td>218356.34</td>\n",
       "      <td>218356.34</td>\n",
       "      <td>218356.34</td>\n",
       "      <td>0</td>\n",
       "      <td>218356.34</td>\n",
       "      <td>0.00</td>\n",
       "      <td>-</td>\n",
       "    </tr>\n",
       "    <tr>\n",
       "      <th>2020-07-14</th>\n",
       "      <td>218356.34</td>\n",
       "      <td>218356.34</td>\n",
       "      <td>218356.34</td>\n",
       "      <td>0</td>\n",
       "      <td>218356.34</td>\n",
       "      <td>0.00</td>\n",
       "      <td>-</td>\n",
       "    </tr>\n",
       "  </tbody>\n",
       "</table>\n",
       "</div>"
      ],
      "text/plain": [
       "                high       low     close  shares      cash  leverage state\n",
       "date                                                                      \n",
       "2020-07-08 218356.34 218356.34 218356.34       0 218356.34      0.00     -\n",
       "2020-07-09 218356.34 218356.34 218356.34       0 218356.34      0.00     -\n",
       "2020-07-10 218356.34 218356.34 218356.34       0 218356.34      0.00     -\n",
       "2020-07-13 218356.34 218356.34 218356.34       0 218356.34      0.00     -\n",
       "2020-07-14 218356.34 218356.34 218356.34       0 218356.34      0.00     -"
      ]
     },
     "execution_count": 10,
     "metadata": {},
     "output_type": "execute_result"
    }
   ],
   "source": [
    "dbal.tail()"
   ]
  },
  {
   "cell_type": "markdown",
   "metadata": {},
   "source": [
    "Generate strategy stats - display all available stats"
   ]
  },
  {
   "cell_type": "code",
   "execution_count": 11,
   "metadata": {
    "ExecuteTime": {
     "end_time": "2020-02-17T03:31:25.637551Z",
     "start_time": "2020-02-17T03:31:25.587174Z"
    },
    "scrolled": false
   },
   "outputs": [
    {
     "name": "stdout",
     "output_type": "stream",
     "text": [
      "start                                                  1993-11-11\n",
      "end                                                    2020-07-14\n",
      "beginning_balance                                           10000\n",
      "ending_balance                                          218356.34\n",
      "total_net_profit                                        208356.34\n",
      "gross_profit                                            463974.47\n",
      "gross_loss                                             -255618.13\n",
      "profit_factor                                                1.82\n",
      "return_on_initial_capital                                 2083.56\n",
      "annual_return_rate                                          12.26\n",
      "trading_period                           26 years 8 months 3 days\n",
      "pct_time_in_market                                          35.38\n",
      "margin                                                          2\n",
      "avg_leverage                                                 1.61\n",
      "max_leverage                                                 2.38\n",
      "min_leverage                                                 0.93\n",
      "total_num_trades                                              424\n",
      "trades_per_year                                             15.90\n",
      "num_winning_trades                                            326\n",
      "num_losing_trades                                              97\n",
      "num_even_trades                                                 1\n",
      "pct_profitable_trades                                       76.89\n",
      "avg_profit_per_trade                                       491.41\n",
      "avg_profit_per_winning_trade                              1423.23\n",
      "avg_loss_per_losing_trade                                -2635.24\n",
      "ratio_avg_profit_win_loss                                    0.54\n",
      "largest_profit_winning_trade                              9418.31\n",
      "largest_loss_losing_trade                               -38696.57\n",
      "num_winning_points                                         764.64\n",
      "num_losing_points                                         -374.77\n",
      "total_net_points                                           389.88\n",
      "avg_points                                                   0.92\n",
      "largest_points_winning_trade                                11.13\n",
      "largest_points_losing_trade                                -48.19\n",
      "avg_pct_gain_per_trade                                       0.78\n",
      "largest_pct_winning_trade                                    6.92\n",
      "largest_pct_losing_trade                                   -17.60\n",
      "max_consecutive_winning_trades                                 29\n",
      "max_consecutive_losing_trades                                   4\n",
      "avg_bars_winning_trades                                      7.76\n",
      "avg_bars_losing_trades                                      17.29\n",
      "max_closed_out_drawdown                                    -27.87\n",
      "max_closed_out_drawdown_start_date                     2011-05-31\n",
      "max_closed_out_drawdown_end_date                       2011-08-08\n",
      "max_closed_out_drawdown_recovery_date                  2012-07-27\n",
      "drawdown_recovery                                           -0.19\n",
      "drawdown_annualized_return                                  -2.27\n",
      "max_intra_day_drawdown                                     -29.85\n",
      "avg_yearly_closed_out_drawdown                             -12.31\n",
      "max_yearly_closed_out_drawdown                             -27.87\n",
      "avg_monthly_closed_out_drawdown                             -2.71\n",
      "max_monthly_closed_out_drawdown                            -27.79\n",
      "avg_weekly_closed_out_drawdown                              -0.93\n",
      "max_weekly_closed_out_drawdown                             -25.94\n",
      "avg_yearly_closed_out_runup                                 24.64\n",
      "max_yearly_closed_out_runup                                 71.49\n",
      "avg_monthly_closed_out_runup                                 3.65\n",
      "max_monthly_closed_out_runup                                22.45\n",
      "avg_weekly_closed_out_runup                                  1.22\n",
      "max_weekly_closed_out_runup                                 16.93\n",
      "pct_profitable_years                                        74.18\n",
      "best_year                                                   71.49\n",
      "worst_year                                                 -17.91\n",
      "avg_year                                                    14.09\n",
      "annual_std                                                  16.92\n",
      "pct_profitable_months                                       53.41\n",
      "best_month                                                  22.45\n",
      "worst_month                                                -25.69\n",
      "avg_month                                                    1.00\n",
      "monthly_std                                                  3.98\n",
      "pct_profitable_weeks                                        32.52\n",
      "best_week                                                   16.93\n",
      "worst_week                                                 -25.94\n",
      "avg_week                                                     0.26\n",
      "weekly_std                                                   2.31\n",
      "sharpe_ratio                                                 0.70\n",
      "sortino_ratio                                                0.53\n",
      "dtype: object\n"
     ]
    }
   ],
   "source": [
    "pf.print_full(stats)"
   ]
  },
  {
   "cell_type": "markdown",
   "metadata": {},
   "source": [
    "Equity curve"
   ]
  },
  {
   "cell_type": "markdown",
   "metadata": {},
   "source": [
    "Run Benchmark, Retrieve benchmark logs, and Generate benchmark stats"
   ]
  },
  {
   "cell_type": "code",
   "execution_count": 12,
   "metadata": {
    "ExecuteTime": {
     "end_time": "2020-02-17T03:31:26.538711Z",
     "start_time": "2020-02-17T03:31:25.650981Z"
    }
   },
   "outputs": [
    {
     "name": "stdout",
     "output_type": "stream",
     "text": [
      "1993-11-11 00:00:00 BUY  215 SPY @ 46.38\n",
      "2020-07-14 00:00:00 SELL 215 SPY @ 316.03\n"
     ]
    }
   ],
   "source": [
    "benchmark = pf.Benchmark(symbol, capital, s._start, s._end)\n",
    "benchmark.run()\n",
    "benchmark.tlog, benchmark.dbal = benchmark.get_logs()\n",
    "benchmark.stats = benchmark.get_stats()"
   ]
  },
  {
   "cell_type": "markdown",
   "metadata": {},
   "source": [
    "Plot Equity Curves: Strategy vs Benchmark"
   ]
  },
  {
   "cell_type": "code",
   "execution_count": 13,
   "metadata": {
    "ExecuteTime": {
     "end_time": "2020-02-17T03:31:26.916802Z",
     "start_time": "2020-02-17T03:31:26.550752Z"
    }
   },
   "outputs": [
    {
     "data": {
      "image/png": "[encoded data removed]",
      "text/plain": [
       "<Figure size 720x504 with 1 Axes>"
      ]
     },
     "metadata": {
      "needs_background": "light"
     },
     "output_type": "display_data"
    }
   ],
   "source": [
    "pf.plot_equity_curve(dbal, benchmark=benchmark.dbal)"
   ]
  },
  {
   "cell_type": "markdown",
   "metadata": {},
   "source": [
    "Plot Trades"
   ]
  },
  {
   "cell_type": "code",
   "execution_count": 14,
   "metadata": {
    "ExecuteTime": {
     "end_time": "2020-02-17T03:31:27.153271Z",
     "start_time": "2020-02-17T03:31:26.925482Z"
    }
   },
   "outputs": [
    {
     "data": {
      "image/png": "[encoded data removed]",
      "text/plain": [
       "<Figure size 720x504 with 1 Axes>"
      ]
     },
     "metadata": {
      "needs_background": "light"
     },
     "output_type": "display_data"
    }
   ],
   "source": [
    "pf.plot_trades(dbal, benchmark=benchmark.dbal)"
   ]
  },
  {
   "cell_type": "markdown",
   "metadata": {},
   "source": [
    "Bar Graph: Strategy vs Benchmark"
   ]
  },
  {
   "cell_type": "code",
   "execution_count": 15,
   "metadata": {
    "ExecuteTime": {
     "end_time": "2020-02-17T03:31:27.424917Z",
     "start_time": "2020-02-17T03:31:27.161434Z"
    }
   },
   "outputs": [
    {
     "data": {
      "text/html": [
       "<div>\n",
       "<style scoped>\n",
       "    .dataframe tbody tr th:only-of-type {\n",
       "        vertical-align: middle;\n",
       "    }\n",
       "\n",
       "    .dataframe tbody tr th {\n",
       "        vertical-align: top;\n",
       "    }\n",
       "\n",
       "    .dataframe thead th {\n",
       "        text-align: right;\n",
       "    }\n",
       "</style>\n",
       "<table border=\"1\" class=\"dataframe\">\n",
       "  <thead>\n",
       "    <tr style=\"text-align: right;\">\n",
       "      <th></th>\n",
       "      <th>strategy</th>\n",
       "      <th>benchmark</th>\n",
       "    </tr>\n",
       "  </thead>\n",
       "  <tbody>\n",
       "    <tr>\n",
       "      <th>annual_return_rate</th>\n",
       "      <td>12.26</td>\n",
       "      <td>7.45</td>\n",
       "    </tr>\n",
       "    <tr>\n",
       "      <th>max_closed_out_drawdown</th>\n",
       "      <td>-27.87</td>\n",
       "      <td>-56.42</td>\n",
       "    </tr>\n",
       "    <tr>\n",
       "      <th>drawdown_annualized_return</th>\n",
       "      <td>-2.27</td>\n",
       "      <td>-7.57</td>\n",
       "    </tr>\n",
       "    <tr>\n",
       "      <th>drawdown_recovery</th>\n",
       "      <td>-0.19</td>\n",
       "      <td>-1.42</td>\n",
       "    </tr>\n",
       "    <tr>\n",
       "      <th>best_month</th>\n",
       "      <td>22.45</td>\n",
       "      <td>23.06</td>\n",
       "    </tr>\n",
       "    <tr>\n",
       "      <th>worst_month</th>\n",
       "      <td>-25.69</td>\n",
       "      <td>-31.38</td>\n",
       "    </tr>\n",
       "    <tr>\n",
       "      <th>sharpe_ratio</th>\n",
       "      <td>0.70</td>\n",
       "      <td>0.47</td>\n",
       "    </tr>\n",
       "    <tr>\n",
       "      <th>sortino_ratio</th>\n",
       "      <td>0.53</td>\n",
       "      <td>0.60</td>\n",
       "    </tr>\n",
       "    <tr>\n",
       "      <th>monthly_std</th>\n",
       "      <td>3.98</td>\n",
       "      <td>4.54</td>\n",
       "    </tr>\n",
       "  </tbody>\n",
       "</table>\n",
       "</div>"
      ],
      "text/plain": [
       "                            strategy  benchmark\n",
       "annual_return_rate             12.26       7.45\n",
       "max_closed_out_drawdown       -27.87     -56.42\n",
       "drawdown_annualized_return     -2.27      -7.57\n",
       "drawdown_recovery              -0.19      -1.42\n",
       "best_month                     22.45      23.06\n",
       "worst_month                   -25.69     -31.38\n",
       "sharpe_ratio                    0.70       0.47\n",
       "sortino_ratio                   0.53       0.60\n",
       "monthly_std                     3.98       4.54"
      ]
     },
     "execution_count": 15,
     "metadata": {},
     "output_type": "execute_result"
    },
    {
     "data": {
      "image/png": "[encoded data removed]",
      "text/plain": [
       "<Figure size 720x504 with 1 Axes>"
      ]
     },
     "metadata": {
      "needs_background": "light"
     },
     "output_type": "display_data"
    }
   ],
   "source": [
    "df = pf.plot_bar_graph(stats, benchmark.stats)\n",
    "df"
   ]
  }
 ],
 "metadata": {
  "kernelspec": {
   "display_name": "Python 3",
   "language": "python",
   "name": "python3"
  },
  "language_info": {
   "codemirror_mode": {
    "name": "ipython",
    "version": 3
   },
   "file_extension": ".py",
   "mimetype": "text/x-python",
   "name": "python",
   "nbconvert_exporter": "python",
   "pygments_lexer": "ipython3",
   "version": "3.8.2"
  },
  "latex_envs": {
   "LaTeX_envs_menu_present": true,
   "autoclose": false,
   "autocomplete": true,
   "bibliofile": "biblio.bib",
   "cite_by": "apalike",
   "current_citInitial": 1,
   "eqLabelWithNumbers": true,
   "eqNumInitial": 1,
   "hotkeys": {
    "equation": "Ctrl-E",
    "itemize": "Ctrl-I"
   },
   "labels_anchors": false,
   "latex_user_defs": false,
   "report_style_numbering": false,
   "user_envs_cfg": false
  }
 },
 "nbformat": 4,
 "nbformat_minor": 1
}
