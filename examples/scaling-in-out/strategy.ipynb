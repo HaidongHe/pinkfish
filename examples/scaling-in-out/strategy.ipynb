{
 "cells": [
  {
   "cell_type": "markdown",
   "metadata": {},
   "source": [
    "# Double 7's (Short Term Trading Strategies that Work)\n",
    "\n",
    "    1. The SPY is above its 200-day moving average\n",
    "    2. The SPY closes at a X-day low, buy some shares\n",
    "       If it set further lows, buy some more\n",
    "    3. If the SPY closes at a X-day high, sell some.\n",
    "       If it sets further highs, sell some more, etc...\n",
    "    \n",
    "    (Scaling in and out)"
   ]
  },
  {
   "cell_type": "code",
   "execution_count": 1,
   "metadata": {
    "ExecuteTime": {
     "end_time": "2020-02-17T03:31:24.392630Z",
     "start_time": "2020-02-17T03:31:23.151150Z"
    }
   },
   "outputs": [],
   "source": [
    "# other imports\n",
    "import pandas as pd\n",
    "import matplotlib.pyplot as plt\n",
    "import datetime\n",
    "from talib.abstract import *\n",
    "\n",
    "# project imports\n",
    "import pinkfish as pf\n",
    "import strategy\n",
    "\n",
    "# format price data\n",
    "pd.options.display.float_format = '{:0.2f}'.format\n",
    "\n",
    "%matplotlib inline"
   ]
  },
  {
   "cell_type": "code",
   "execution_count": 2,
   "metadata": {
    "ExecuteTime": {
     "end_time": "2020-02-17T03:31:24.413973Z",
     "start_time": "2020-02-17T03:31:24.407155Z"
    }
   },
   "outputs": [],
   "source": [
    "# set size of inline plots\n",
    "'''note: rcParams can't be in same cell as import matplotlib\n",
    "   or %matplotlib inline\n",
    "   \n",
    "   %matplotlib notebook: will lead to interactive plots embedded within\n",
    "   the notebook, you can zoom and resize the figure\n",
    "   \n",
    "   %matplotlib inline: only draw static images in the notebook\n",
    "'''\n",
    "plt.rcParams[\"figure.figsize\"] = (10, 7)"
   ]
  },
  {
   "cell_type": "markdown",
   "metadata": {},
   "source": [
    "Some global data"
   ]
  },
  {
   "cell_type": "code",
   "execution_count": 3,
   "metadata": {
    "ExecuteTime": {
     "end_time": "2020-02-17T03:31:24.429012Z",
     "start_time": "2020-02-17T03:31:24.418520Z"
    }
   },
   "outputs": [],
   "source": [
    "#symbol = '^GSPC'\n",
    "symbol = 'SPY'\n",
    "#symbol = 'DIA'\n",
    "#symbol = 'QQQ'\n",
    "#symbol = 'IWM'\n",
    "#symbol = 'TLT'\n",
    "#symbol = 'GLD'\n",
    "#symbol = 'AAPL'\n",
    "#symbol = 'BBRY'\n",
    "#symbol = 'GDX'\n",
    "capital = 10000\n",
    "start = datetime.datetime(2000, 1, 1)\n",
    "end = datetime.datetime.now()"
   ]
  },
  {
   "cell_type": "markdown",
   "metadata": {},
   "source": [
    "Define high low trade periods"
   ]
  },
  {
   "cell_type": "code",
   "execution_count": 4,
   "metadata": {
    "ExecuteTime": {
     "end_time": "2020-02-17T03:31:24.443106Z",
     "start_time": "2020-02-17T03:31:24.433306Z"
    }
   },
   "outputs": [],
   "source": [
    "period = 7"
   ]
  },
  {
   "cell_type": "markdown",
   "metadata": {},
   "source": [
    "Define max number of positions to scale into"
   ]
  },
  {
   "cell_type": "code",
   "execution_count": 5,
   "metadata": {
    "ExecuteTime": {
     "end_time": "2020-02-17T03:31:24.451334Z",
     "start_time": "2020-02-17T03:31:24.447099Z"
    }
   },
   "outputs": [],
   "source": [
    "max_positions = 4"
   ]
  },
  {
   "cell_type": "markdown",
   "metadata": {},
   "source": [
    "Run Strategy"
   ]
  },
  {
   "cell_type": "code",
   "execution_count": 6,
   "metadata": {
    "ExecuteTime": {
     "end_time": "2020-02-17T03:31:24.663628Z",
     "start_time": "2020-02-17T03:31:24.454544Z"
    },
    "scrolled": false
   },
   "outputs": [],
   "source": [
    "s = strategy.Strategy(symbol, capital, start, end, period=period, max_positions=max_positions)\n",
    "s.run()"
   ]
  },
  {
   "cell_type": "markdown",
   "metadata": {},
   "source": [
    "Retrieve log DataFrames"
   ]
  },
  {
   "cell_type": "code",
   "execution_count": 7,
   "metadata": {
    "ExecuteTime": {
     "end_time": "2020-02-17T03:31:25.438889Z",
     "start_time": "2020-02-17T03:31:24.676427Z"
    }
   },
   "outputs": [],
   "source": [
    "tlog, dbal = s.get_logs()\n",
    "stats = s.get_stats()"
   ]
  },
  {
   "cell_type": "code",
   "execution_count": 8,
   "metadata": {
    "ExecuteTime": {
     "end_time": "2020-02-17T03:31:25.550325Z",
     "start_time": "2020-02-17T03:31:25.449988Z"
    },
    "scrolled": true
   },
   "outputs": [
    {
     "data": {
      "text/html": [
       "<div>\n",
       "<style scoped>\n",
       "    .dataframe tbody tr th:only-of-type {\n",
       "        vertical-align: middle;\n",
       "    }\n",
       "\n",
       "    .dataframe tbody tr th {\n",
       "        vertical-align: top;\n",
       "    }\n",
       "\n",
       "    .dataframe thead th {\n",
       "        text-align: right;\n",
       "    }\n",
       "</style>\n",
       "<table border=\"1\" class=\"dataframe\">\n",
       "  <thead>\n",
       "    <tr style=\"text-align: right;\">\n",
       "      <th></th>\n",
       "      <th>entry_date</th>\n",
       "      <th>entry_price</th>\n",
       "      <th>exit_date</th>\n",
       "      <th>exit_price</th>\n",
       "      <th>pl_points</th>\n",
       "      <th>pl_cash</th>\n",
       "      <th>qty</th>\n",
       "      <th>cumul_total</th>\n",
       "      <th>symbol</th>\n",
       "    </tr>\n",
       "  </thead>\n",
       "  <tbody>\n",
       "    <tr>\n",
       "      <th>332</th>\n",
       "      <td>2015-12-02</td>\n",
       "      <td>208.53</td>\n",
       "      <td>2015-12-16</td>\n",
       "      <td>208.03</td>\n",
       "      <td>-0.50</td>\n",
       "      <td>-12.50</td>\n",
       "      <td>25</td>\n",
       "      <td>11069.22</td>\n",
       "      <td></td>\n",
       "    </tr>\n",
       "    <tr>\n",
       "      <th>333</th>\n",
       "      <td>2016-03-24</td>\n",
       "      <td>203.12</td>\n",
       "      <td>2016-03-29</td>\n",
       "      <td>205.12</td>\n",
       "      <td>2.00</td>\n",
       "      <td>50.00</td>\n",
       "      <td>25</td>\n",
       "      <td>11119.22</td>\n",
       "      <td></td>\n",
       "    </tr>\n",
       "    <tr>\n",
       "      <th>334</th>\n",
       "      <td>2016-04-07</td>\n",
       "      <td>203.95</td>\n",
       "      <td>2016-04-13</td>\n",
       "      <td>208.00</td>\n",
       "      <td>4.05</td>\n",
       "      <td>101.25</td>\n",
       "      <td>25</td>\n",
       "      <td>11220.47</td>\n",
       "      <td></td>\n",
       "    </tr>\n",
       "    <tr>\n",
       "      <th>335</th>\n",
       "      <td>2016-04-28</td>\n",
       "      <td>207.45</td>\n",
       "      <td>2016-05-10</td>\n",
       "      <td>208.45</td>\n",
       "      <td>1.00</td>\n",
       "      <td>25.00</td>\n",
       "      <td>25</td>\n",
       "      <td>11245.47</td>\n",
       "      <td></td>\n",
       "    </tr>\n",
       "    <tr>\n",
       "      <th>336</th>\n",
       "      <td>2016-04-29</td>\n",
       "      <td>206.33</td>\n",
       "      <td>2016-05-24</td>\n",
       "      <td>207.87</td>\n",
       "      <td>1.54</td>\n",
       "      <td>38.50</td>\n",
       "      <td>25</td>\n",
       "      <td>11283.97</td>\n",
       "      <td></td>\n",
       "    </tr>\n",
       "    <tr>\n",
       "      <th>...</th>\n",
       "      <td>...</td>\n",
       "      <td>...</td>\n",
       "      <td>...</td>\n",
       "      <td>...</td>\n",
       "      <td>...</td>\n",
       "      <td>...</td>\n",
       "      <td>...</td>\n",
       "      <td>...</td>\n",
       "      <td>...</td>\n",
       "    </tr>\n",
       "    <tr>\n",
       "      <th>427</th>\n",
       "      <td>2020-01-31</td>\n",
       "      <td>321.73</td>\n",
       "      <td>2020-02-05</td>\n",
       "      <td>332.86</td>\n",
       "      <td>11.13</td>\n",
       "      <td>211.47</td>\n",
       "      <td>19</td>\n",
       "      <td>15607.54</td>\n",
       "      <td></td>\n",
       "    </tr>\n",
       "    <tr>\n",
       "      <th>428</th>\n",
       "      <td>2020-02-21</td>\n",
       "      <td>333.48</td>\n",
       "      <td>2020-03-04</td>\n",
       "      <td>312.86</td>\n",
       "      <td>-20.62</td>\n",
       "      <td>-391.78</td>\n",
       "      <td>19</td>\n",
       "      <td>15215.76</td>\n",
       "      <td></td>\n",
       "    </tr>\n",
       "    <tr>\n",
       "      <th>429</th>\n",
       "      <td>2020-02-24</td>\n",
       "      <td>322.42</td>\n",
       "      <td>2020-03-26</td>\n",
       "      <td>261.20</td>\n",
       "      <td>-61.22</td>\n",
       "      <td>-1163.18</td>\n",
       "      <td>19</td>\n",
       "      <td>14052.58</td>\n",
       "      <td></td>\n",
       "    </tr>\n",
       "    <tr>\n",
       "      <th>430</th>\n",
       "      <td>2020-02-25</td>\n",
       "      <td>312.65</td>\n",
       "      <td>2020-03-30</td>\n",
       "      <td>261.65</td>\n",
       "      <td>-51.00</td>\n",
       "      <td>-1071.00</td>\n",
       "      <td>21</td>\n",
       "      <td>12981.58</td>\n",
       "      <td></td>\n",
       "    </tr>\n",
       "    <tr>\n",
       "      <th>431</th>\n",
       "      <td>2020-02-26</td>\n",
       "      <td>311.50</td>\n",
       "      <td>2020-04-06</td>\n",
       "      <td>264.86</td>\n",
       "      <td>-46.64</td>\n",
       "      <td>-979.44</td>\n",
       "      <td>21</td>\n",
       "      <td>12002.14</td>\n",
       "      <td></td>\n",
       "    </tr>\n",
       "  </tbody>\n",
       "</table>\n",
       "<p>100 rows × 9 columns</p>\n",
       "</div>"
      ],
      "text/plain": [
       "    entry_date  entry_price  exit_date  exit_price  pl_points  pl_cash  qty  \\\n",
       "332 2015-12-02       208.53 2015-12-16      208.03      -0.50   -12.50   25   \n",
       "333 2016-03-24       203.12 2016-03-29      205.12       2.00    50.00   25   \n",
       "334 2016-04-07       203.95 2016-04-13      208.00       4.05   101.25   25   \n",
       "335 2016-04-28       207.45 2016-05-10      208.45       1.00    25.00   25   \n",
       "336 2016-04-29       206.33 2016-05-24      207.87       1.54    38.50   25   \n",
       "..         ...          ...        ...         ...        ...      ...  ...   \n",
       "427 2020-01-31       321.73 2020-02-05      332.86      11.13   211.47   19   \n",
       "428 2020-02-21       333.48 2020-03-04      312.86     -20.62  -391.78   19   \n",
       "429 2020-02-24       322.42 2020-03-26      261.20     -61.22 -1163.18   19   \n",
       "430 2020-02-25       312.65 2020-03-30      261.65     -51.00 -1071.00   21   \n",
       "431 2020-02-26       311.50 2020-04-06      264.86     -46.64  -979.44   21   \n",
       "\n",
       "     cumul_total symbol  \n",
       "332     11069.22         \n",
       "333     11119.22         \n",
       "334     11220.47         \n",
       "335     11245.47         \n",
       "336     11283.97         \n",
       "..           ...    ...  \n",
       "427     15607.54         \n",
       "428     15215.76         \n",
       "429     14052.58         \n",
       "430     12981.58         \n",
       "431     12002.14         \n",
       "\n",
       "[100 rows x 9 columns]"
      ]
     },
     "execution_count": 8,
     "metadata": {},
     "output_type": "execute_result"
    }
   ],
   "source": [
    "tlog.tail(100)"
   ]
  },
  {
   "cell_type": "code",
   "execution_count": 9,
   "metadata": {
    "ExecuteTime": {
     "end_time": "2020-02-17T03:31:25.581309Z",
     "start_time": "2020-02-17T03:31:25.554397Z"
    }
   },
   "outputs": [
    {
     "data": {
      "text/html": [
       "<div>\n",
       "<style scoped>\n",
       "    .dataframe tbody tr th:only-of-type {\n",
       "        vertical-align: middle;\n",
       "    }\n",
       "\n",
       "    .dataframe tbody tr th {\n",
       "        vertical-align: top;\n",
       "    }\n",
       "\n",
       "    .dataframe thead th {\n",
       "        text-align: right;\n",
       "    }\n",
       "</style>\n",
       "<table border=\"1\" class=\"dataframe\">\n",
       "  <thead>\n",
       "    <tr style=\"text-align: right;\">\n",
       "      <th></th>\n",
       "      <th>high</th>\n",
       "      <th>low</th>\n",
       "      <th>close</th>\n",
       "      <th>shares</th>\n",
       "      <th>cash</th>\n",
       "      <th>state</th>\n",
       "    </tr>\n",
       "    <tr>\n",
       "      <th>date</th>\n",
       "      <th></th>\n",
       "      <th></th>\n",
       "      <th></th>\n",
       "      <th></th>\n",
       "      <th></th>\n",
       "      <th></th>\n",
       "    </tr>\n",
       "  </thead>\n",
       "  <tbody>\n",
       "    <tr>\n",
       "      <th>2020-06-02</th>\n",
       "      <td>22002.14</td>\n",
       "      <td>22002.14</td>\n",
       "      <td>22002.14</td>\n",
       "      <td>0</td>\n",
       "      <td>22002.14</td>\n",
       "      <td>-</td>\n",
       "    </tr>\n",
       "    <tr>\n",
       "      <th>2020-06-03</th>\n",
       "      <td>22002.14</td>\n",
       "      <td>22002.14</td>\n",
       "      <td>22002.14</td>\n",
       "      <td>0</td>\n",
       "      <td>22002.14</td>\n",
       "      <td>-</td>\n",
       "    </tr>\n",
       "    <tr>\n",
       "      <th>2020-06-04</th>\n",
       "      <td>22002.14</td>\n",
       "      <td>22002.14</td>\n",
       "      <td>22002.14</td>\n",
       "      <td>0</td>\n",
       "      <td>22002.14</td>\n",
       "      <td>-</td>\n",
       "    </tr>\n",
       "    <tr>\n",
       "      <th>2020-06-05</th>\n",
       "      <td>22002.14</td>\n",
       "      <td>22002.14</td>\n",
       "      <td>22002.14</td>\n",
       "      <td>0</td>\n",
       "      <td>22002.14</td>\n",
       "      <td>-</td>\n",
       "    </tr>\n",
       "    <tr>\n",
       "      <th>2020-06-08</th>\n",
       "      <td>22002.14</td>\n",
       "      <td>22002.14</td>\n",
       "      <td>22002.14</td>\n",
       "      <td>0</td>\n",
       "      <td>22002.14</td>\n",
       "      <td>-</td>\n",
       "    </tr>\n",
       "  </tbody>\n",
       "</table>\n",
       "</div>"
      ],
      "text/plain": [
       "               high      low    close  shares     cash state\n",
       "date                                                        \n",
       "2020-06-02 22002.14 22002.14 22002.14       0 22002.14     -\n",
       "2020-06-03 22002.14 22002.14 22002.14       0 22002.14     -\n",
       "2020-06-04 22002.14 22002.14 22002.14       0 22002.14     -\n",
       "2020-06-05 22002.14 22002.14 22002.14       0 22002.14     -\n",
       "2020-06-08 22002.14 22002.14 22002.14       0 22002.14     -"
      ]
     },
     "execution_count": 9,
     "metadata": {},
     "output_type": "execute_result"
    }
   ],
   "source": [
    "dbal.tail()"
   ]
  },
  {
   "cell_type": "markdown",
   "metadata": {},
   "source": [
    "Generate strategy stats - display all available stats"
   ]
  },
  {
   "cell_type": "code",
   "execution_count": 10,
   "metadata": {
    "ExecuteTime": {
     "end_time": "2020-02-17T03:31:25.637551Z",
     "start_time": "2020-02-17T03:31:25.587174Z"
    },
    "scrolled": false
   },
   "outputs": [
    {
     "name": "stdout",
     "output_type": "stream",
     "text": [
      "start                                                  2000-01-03\n",
      "end                                                    2020-06-08\n",
      "beginning_balance                                           10000\n",
      "ending_balance                                           22002.14\n",
      "total_net_profit                                         12002.14\n",
      "gross_profit                                             24827.20\n",
      "gross_loss                                              -12825.06\n",
      "profit_factor                                                1.94\n",
      "return_on_initial_capital                                  120.02\n",
      "annual_return_rate                                           3.94\n",
      "trading_period                           20 years 5 months 5 days\n",
      "pct_time_in_market                                          39.84\n",
      "total_num_trades                                              432\n",
      "trades_per_year                                             21.14\n",
      "num_winning_trades                                            324\n",
      "num_losing_trades                                             108\n",
      "num_even_trades                                                 0\n",
      "pct_profitable_trades                                       75.00\n",
      "avg_profit_per_trade                                        27.78\n",
      "avg_profit_per_winning_trade                                76.63\n",
      "avg_loss_per_losing_trade                                 -118.75\n",
      "ratio_avg_profit_win_loss                                    0.65\n",
      "largest_profit_winning_trade                               334.88\n",
      "largest_loss_losing_trade                                -1163.18\n",
      "num_winning_points                                         983.23\n",
      "num_losing_points                                         -550.46\n",
      "total_net_points                                           432.77\n",
      "avg_points                                                   1.00\n",
      "largest_points_winning_trade                                14.23\n",
      "largest_points_losing_trade                                -61.22\n",
      "avg_pct_gain_per_trade                                       0.76\n",
      "largest_pct_winning_trade                                    6.92\n",
      "largest_pct_losing_trade                                   -18.99\n",
      "max_consecutive_winning_trades                                 27\n",
      "max_consecutive_losing_trades                                   7\n",
      "avg_bars_winning_trades                                      9.93\n",
      "avg_bars_losing_trades                                      20.24\n",
      "max_closed_out_drawdown                                    -23.53\n",
      "max_closed_out_drawdown_start_date                     2020-02-05\n",
      "max_closed_out_drawdown_end_date                       2020-03-23\n",
      "max_closed_out_drawdown_recovery_date           Not Recovered Yet\n",
      "drawdown_recovery                                           -0.13\n",
      "drawdown_annualized_return                                  -5.98\n",
      "max_intra_day_drawdown                                     -25.27\n",
      "avg_yearly_closed_out_drawdown                              -5.54\n",
      "max_yearly_closed_out_drawdown                             -23.53\n",
      "avg_monthly_closed_out_drawdown                             -1.17\n",
      "max_monthly_closed_out_drawdown                            -22.90\n",
      "avg_weekly_closed_out_drawdown                              -0.42\n",
      "max_weekly_closed_out_drawdown                             -13.57\n",
      "avg_yearly_closed_out_runup                                  8.80\n",
      "max_yearly_closed_out_runup                                 20.30\n",
      "avg_monthly_closed_out_runup                                 1.47\n",
      "max_monthly_closed_out_runup                                12.36\n",
      "avg_weekly_closed_out_runup                                  0.51\n",
      "max_weekly_closed_out_runup                                 12.01\n",
      "pct_profitable_years                                        69.48\n",
      "best_year                                                   16.77\n",
      "worst_year                                                 -19.54\n",
      "avg_year                                                     4.47\n",
      "annual_std                                                   5.58\n",
      "pct_profitable_months                                       54.20\n",
      "best_month                                                  12.36\n",
      "worst_month                                                -22.90\n",
      "avg_month                                                    0.32\n",
      "monthly_std                                                  1.85\n",
      "pct_profitable_weeks                                        33.85\n",
      "best_week                                                   12.01\n",
      "worst_week                                                 -13.57\n",
      "avg_week                                                     0.08\n",
      "weekly_std                                                   1.09\n",
      "sharpe_ratio                                                 0.48\n",
      "sortino_ratio                                                0.34\n",
      "dtype: object\n"
     ]
    }
   ],
   "source": [
    "pf.print_full(stats)"
   ]
  },
  {
   "cell_type": "markdown",
   "metadata": {},
   "source": [
    "Equity curve"
   ]
  },
  {
   "cell_type": "markdown",
   "metadata": {},
   "source": [
    "Run Benchmark, Retrieve benchmark logs, and Generate benchmark stats"
   ]
  },
  {
   "cell_type": "code",
   "execution_count": 11,
   "metadata": {
    "ExecuteTime": {
     "end_time": "2020-02-17T03:31:26.538711Z",
     "start_time": "2020-02-17T03:31:25.650981Z"
    }
   },
   "outputs": [
    {
     "name": "stdout",
     "output_type": "stream",
     "text": [
      "2000-01-03 00:00:00 BUY  68 SPY @ 145.44\n",
      "2020-06-08 00:00:00 SELL 68 SPY @ 323.20\n"
     ]
    }
   ],
   "source": [
    "benchmark = pf.Benchmark(symbol, capital, s._start, s._end)\n",
    "benchmark.run()\n",
    "benchmark.tlog, benchmark.dbal = benchmark.get_logs()\n",
    "benchmark.stats = benchmark.get_stats()"
   ]
  },
  {
   "cell_type": "markdown",
   "metadata": {},
   "source": [
    "Plot Equity Curves: Strategy vs Benchmark"
   ]
  },
  {
   "cell_type": "code",
   "execution_count": 12,
   "metadata": {
    "ExecuteTime": {
     "end_time": "2020-02-17T03:31:26.916802Z",
     "start_time": "2020-02-17T03:31:26.550752Z"
    }
   },
   "outputs": [
    {
     "data": {
      "image/png": "[encoded data removed]",
      "text/plain": [
       "<Figure size 720x504 with 1 Axes>"
      ]
     },
     "metadata": {
      "needs_background": "light"
     },
     "output_type": "display_data"
    }
   ],
   "source": [
    "pf.plot_equity_curve(dbal, benchmark=benchmark.dbal)"
   ]
  },
  {
   "cell_type": "markdown",
   "metadata": {},
   "source": [
    "Plot Trades"
   ]
  },
  {
   "cell_type": "code",
   "execution_count": 13,
   "metadata": {
    "ExecuteTime": {
     "end_time": "2020-02-17T03:31:27.153271Z",
     "start_time": "2020-02-17T03:31:26.925482Z"
    }
   },
   "outputs": [
    {
     "data": {
      "image/png": "[encoded data removed]",
      "text/plain": [
       "<Figure size 720x504 with 1 Axes>"
      ]
     },
     "metadata": {
      "needs_background": "light"
     },
     "output_type": "display_data"
    }
   ],
   "source": [
    "pf.plot_trades(dbal, benchmark=benchmark.dbal)"
   ]
  },
  {
   "cell_type": "markdown",
   "metadata": {},
   "source": [
    "Bar Graph: Strategy vs Benchmark"
   ]
  },
  {
   "cell_type": "code",
   "execution_count": 14,
   "metadata": {
    "ExecuteTime": {
     "end_time": "2020-02-17T03:31:27.424917Z",
     "start_time": "2020-02-17T03:31:27.161434Z"
    }
   },
   "outputs": [
    {
     "data": {
      "text/html": [
       "<div>\n",
       "<style scoped>\n",
       "    .dataframe tbody tr th:only-of-type {\n",
       "        vertical-align: middle;\n",
       "    }\n",
       "\n",
       "    .dataframe tbody tr th {\n",
       "        vertical-align: top;\n",
       "    }\n",
       "\n",
       "    .dataframe thead th {\n",
       "        text-align: right;\n",
       "    }\n",
       "</style>\n",
       "<table border=\"1\" class=\"dataframe\">\n",
       "  <thead>\n",
       "    <tr style=\"text-align: right;\">\n",
       "      <th></th>\n",
       "      <th>strategy</th>\n",
       "      <th>benchmark</th>\n",
       "    </tr>\n",
       "  </thead>\n",
       "  <tbody>\n",
       "    <tr>\n",
       "      <th>annual_return_rate</th>\n",
       "      <td>3.94</td>\n",
       "      <td>3.95</td>\n",
       "    </tr>\n",
       "    <tr>\n",
       "      <th>max_closed_out_drawdown</th>\n",
       "      <td>-23.53</td>\n",
       "      <td>-55.89</td>\n",
       "    </tr>\n",
       "    <tr>\n",
       "      <th>drawdown_annualized_return</th>\n",
       "      <td>-5.98</td>\n",
       "      <td>-14.13</td>\n",
       "    </tr>\n",
       "    <tr>\n",
       "      <th>drawdown_recovery</th>\n",
       "      <td>-0.13</td>\n",
       "      <td>-1.42</td>\n",
       "    </tr>\n",
       "    <tr>\n",
       "      <th>best_month</th>\n",
       "      <td>12.36</td>\n",
       "      <td>22.91</td>\n",
       "    </tr>\n",
       "    <tr>\n",
       "      <th>worst_month</th>\n",
       "      <td>-22.90</td>\n",
       "      <td>-31.24</td>\n",
       "    </tr>\n",
       "    <tr>\n",
       "      <th>sharpe_ratio</th>\n",
       "      <td>0.48</td>\n",
       "      <td>0.30</td>\n",
       "    </tr>\n",
       "    <tr>\n",
       "      <th>sortino_ratio</th>\n",
       "      <td>0.34</td>\n",
       "      <td>0.37</td>\n",
       "    </tr>\n",
       "    <tr>\n",
       "      <th>monthly_std</th>\n",
       "      <td>1.85</td>\n",
       "      <td>4.67</td>\n",
       "    </tr>\n",
       "  </tbody>\n",
       "</table>\n",
       "</div>"
      ],
      "text/plain": [
       "                            strategy  benchmark\n",
       "annual_return_rate              3.94       3.95\n",
       "max_closed_out_drawdown       -23.53     -55.89\n",
       "drawdown_annualized_return     -5.98     -14.13\n",
       "drawdown_recovery              -0.13      -1.42\n",
       "best_month                     12.36      22.91\n",
       "worst_month                   -22.90     -31.24\n",
       "sharpe_ratio                    0.48       0.30\n",
       "sortino_ratio                   0.34       0.37\n",
       "monthly_std                     1.85       4.67"
      ]
     },
     "execution_count": 14,
     "metadata": {},
     "output_type": "execute_result"
    },
    {
     "data": {
      "image/png": "[encoded data removed]",
      "text/plain": [
       "<Figure size 720x504 with 1 Axes>"
      ]
     },
     "metadata": {
      "needs_background": "light"
     },
     "output_type": "display_data"
    }
   ],
   "source": [
    "metrics = ('annual_return_rate',\n",
    "           'max_closed_out_drawdown',\n",
    "           'drawdown_annualized_return',\n",
    "           'drawdown_recovery',\n",
    "           'best_month',\n",
    "           'worst_month',\n",
    "           'sharpe_ratio',\n",
    "           'sortino_ratio',\n",
    "           'monthly_std')\n",
    "\n",
    "df = pf.plot_bar_graph(stats, benchmark.stats, *metrics)\n",
    "df"
   ]
  }
 ],
 "metadata": {
  "kernelspec": {
   "display_name": "Python 3",
   "language": "python",
   "name": "python3"
  },
  "language_info": {
   "codemirror_mode": {
    "name": "ipython",
    "version": 3
   },
   "file_extension": ".py",
   "mimetype": "text/x-python",
   "name": "python",
   "nbconvert_exporter": "python",
   "pygments_lexer": "ipython3",
   "version": "3.8.2"
  },
  "latex_envs": {
   "LaTeX_envs_menu_present": true,
   "autoclose": false,
   "autocomplete": true,
   "bibliofile": "biblio.bib",
   "cite_by": "apalike",
   "current_citInitial": 1,
   "eqLabelWithNumbers": true,
   "eqNumInitial": 1,
   "hotkeys": {
    "equation": "Ctrl-E",
    "itemize": "Ctrl-I"
   },
   "labels_anchors": false,
   "latex_user_defs": false,
   "report_style_numbering": false,
   "user_envs_cfg": false
  }
 },
 "nbformat": 4,
 "nbformat_minor": 1
}
