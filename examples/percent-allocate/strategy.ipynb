{
 "cells": [
  {
   "cell_type": "markdown",
   "metadata": {},
   "source": [
    "# percent-allocate\n",
    "\n",
    "Maintain a percent allocation of a security in account"
   ]
  },
  {
   "cell_type": "code",
   "execution_count": 1,
   "metadata": {
    "ExecuteTime": {
     "end_time": "2020-02-17T03:15:03.515877Z",
     "start_time": "2020-02-17T03:15:02.423279Z"
    }
   },
   "outputs": [],
   "source": [
    "import pandas as pd\n",
    "import matplotlib.pyplot as plt\n",
    "import datetime\n",
    "from talib.abstract import *\n",
    "\n",
    "import pinkfish as pf\n",
    "\n",
    "# format price data\n",
    "pd.options.display.float_format = '{:0.2f}'.format\n",
    "\n",
    "%matplotlib inline"
   ]
  },
  {
   "cell_type": "code",
   "execution_count": 2,
   "metadata": {
    "ExecuteTime": {
     "end_time": "2020-02-17T03:15:03.531819Z",
     "start_time": "2020-02-17T03:15:03.525627Z"
    }
   },
   "outputs": [],
   "source": [
    "# set size of inline plots\n",
    "'''note: rcParams can't be in same cell as import matplotlib\n",
    "   or %matplotlib inline\n",
    "   \n",
    "   %matplotlib notebook: will lead to interactive plots embedded within\n",
    "   the notebook, you can zoom and resize the figure\n",
    "   \n",
    "   %matplotlib inline: only draw static images in the notebook\n",
    "'''\n",
    "plt.rcParams[\"figure.figsize\"] = (10, 7)"
   ]
  },
  {
   "cell_type": "code",
   "execution_count": 3,
   "metadata": {
    "ExecuteTime": {
     "end_time": "2020-02-17T03:15:03.543310Z",
     "start_time": "2020-02-17T03:15:03.536383Z"
    }
   },
   "outputs": [],
   "source": [
    "pf.DEBUG = False"
   ]
  },
  {
   "cell_type": "markdown",
   "metadata": {},
   "source": [
    "Some global data"
   ]
  },
  {
   "cell_type": "code",
   "execution_count": 4,
   "metadata": {
    "ExecuteTime": {
     "end_time": "2020-02-17T03:15:03.554304Z",
     "start_time": "2020-02-17T03:15:03.547215Z"
    }
   },
   "outputs": [],
   "source": [
    "#symbol = '^GSPC'\n",
    "symbol = 'SPY'\n",
    "#symbol = 'DIA'\n",
    "#symbol = 'QQQ'\n",
    "#symbol = 'IWM'\n",
    "#symbol = 'TLT'\n",
    "#symbol = 'GLD'\n",
    "#symbol = 'AAPL'\n",
    "#symbol = 'BBRY'\n",
    "capital = 10000\n",
    "#start = datetime.datetime(1900, 1, 1)\n",
    "start = datetime.datetime.strptime(pf.SP500_BEGIN, '%Y-%m-%d')\n",
    "end = datetime.datetime.now()"
   ]
  },
  {
   "cell_type": "markdown",
   "metadata": {},
   "source": [
    "Define target_percent and band"
   ]
  },
  {
   "cell_type": "code",
   "execution_count": 5,
   "metadata": {
    "ExecuteTime": {
     "end_time": "2020-02-17T03:15:03.571198Z",
     "start_time": "2020-02-17T03:15:03.558479Z"
    }
   },
   "outputs": [],
   "source": [
    "target_percent = 100\n",
    "band = 3\n",
    "\n",
    "sma200_band = 3.5/100"
   ]
  },
  {
   "cell_type": "markdown",
   "metadata": {},
   "source": [
    "Define Strategy Class "
   ]
  },
  {
   "cell_type": "code",
   "execution_count": 6,
   "metadata": {
    "ExecuteTime": {
     "end_time": "2020-02-17T03:15:03.656429Z",
     "start_time": "2020-02-17T03:15:03.576982Z"
    },
    "scrolled": false
   },
   "outputs": [],
   "source": [
    "class Strategy:\n",
    "\n",
    "    def __init__(self, symbol, capital, start, end):\n",
    "        self._symbol = symbol\n",
    "        self._capital = capital\n",
    "        self._start = start\n",
    "        self._end = end\n",
    "\n",
    "    def _algo(self):\n",
    "        pf.TradeLog.cash = self._capital\n",
    "\n",
    "        for i, row in enumerate(self._ts.itertuples()):\n",
    "\n",
    "            date = row.Index.to_pydatetime()\n",
    "            high = row.high; low = row.low; close = row.close; \n",
    "            end_flag = pf.is_last_row(self._ts, i)\n",
    "            shares = 0\n",
    "\n",
    "            # adjust shares\n",
    "            if ((self._tlog.share_percent(close) > target_percent+band or\n",
    "                self._tlog.share_percent(close) < target_percent-band)\n",
    "                and close > row.sma200*(1+sma200_band)\n",
    "                and not end_flag):\n",
    "                # adjust shares to target_percent\n",
    "                shares = self._tlog.adjust_percent(date, close, target_percent)   \n",
    "            # close out\n",
    "            elif (close < row.sma200*(1-sma200_band)\n",
    "                  or end_flag):\n",
    "                # adjust shares to 0\n",
    "                shares = self._tlog.adjust_percent(date, close, 0)\n",
    "\n",
    "            if shares > 0:\n",
    "                pf.DBG(\"{0} BUY  {1} {2} @ {3:.2f}\".format(\n",
    "                       date, shares, self._symbol, close))\n",
    "            elif shares < 0:\n",
    "                pf.DBG(\"{0} SELL {1} {2} @ {3:.2f}\".format(\n",
    "                       date, -shares, self._symbol, close))\n",
    "\n",
    "            # record daily balance\n",
    "            self._dbal.append(date, high, low, close)\n",
    "\n",
    "    def run(self):\n",
    "        self._ts = pf.fetch_timeseries(self._symbol)\n",
    "        self._ts = pf.select_tradeperiod(self._ts, self._start, self._end,\n",
    "                                         use_adj=True, pad=False)\n",
    "\n",
    "        # Add technical indicator: 200 day sma\n",
    "        sma200 = SMA(self._ts, timeperiod=200)\n",
    "        self._ts['sma200'] = sma200\n",
    "        \n",
    "        self._ts, self._start = pf.finalize_timeseries(self._ts, self._start)\n",
    "\n",
    "        self._tlog = pf.TradeLog(self._symbol)\n",
    "        self._dbal = pf.DailyBal()\n",
    "\n",
    "        self._algo()\n",
    "\n",
    "    def get_logs(self):\n",
    "        \"\"\" return DataFrames \"\"\"\n",
    "        self.rlog = self._tlog.get_log_raw()\n",
    "        self.tlog = self._tlog.get_log()\n",
    "        self.dbal = self._dbal.get_log(self.tlog)\n",
    "        return self.rlog, self.tlog, self.dbal\n",
    "\n",
    "    def get_stats(self):\n",
    "        stats = pf.stats(self._ts, self.tlog, self.dbal, self._capital)\n",
    "        return stats"
   ]
  },
  {
   "cell_type": "markdown",
   "metadata": {},
   "source": [
    "Run Strategy"
   ]
  },
  {
   "cell_type": "code",
   "execution_count": 7,
   "metadata": {
    "ExecuteTime": {
     "end_time": "2020-02-17T03:15:03.909171Z",
     "start_time": "2020-02-17T03:15:03.666727Z"
    }
   },
   "outputs": [],
   "source": [
    "s = Strategy(symbol, capital, start, end)\n",
    "s.run()"
   ]
  },
  {
   "cell_type": "markdown",
   "metadata": {},
   "source": [
    "Retrieve log DataFrames"
   ]
  },
  {
   "cell_type": "code",
   "execution_count": 8,
   "metadata": {
    "ExecuteTime": {
     "end_time": "2020-02-17T03:15:04.638208Z",
     "start_time": "2020-02-17T03:15:03.919139Z"
    }
   },
   "outputs": [],
   "source": [
    "rlog, tlog, dbal = s.get_logs()\n",
    "stats = s.get_stats()"
   ]
  },
  {
   "cell_type": "code",
   "execution_count": 9,
   "metadata": {
    "ExecuteTime": {
     "end_time": "2020-02-17T03:15:04.688620Z",
     "start_time": "2020-02-17T03:15:04.649143Z"
    }
   },
   "outputs": [
    {
     "data": {
      "text/html": [
       "<div>\n",
       "<style scoped>\n",
       "    .dataframe tbody tr th:only-of-type {\n",
       "        vertical-align: middle;\n",
       "    }\n",
       "\n",
       "    .dataframe tbody tr th {\n",
       "        vertical-align: top;\n",
       "    }\n",
       "\n",
       "    .dataframe thead th {\n",
       "        text-align: right;\n",
       "    }\n",
       "</style>\n",
       "<table border=\"1\" class=\"dataframe\">\n",
       "  <thead>\n",
       "    <tr style=\"text-align: right;\">\n",
       "      <th></th>\n",
       "      <th>date</th>\n",
       "      <th>price</th>\n",
       "      <th>shares</th>\n",
       "      <th>entry_exit</th>\n",
       "      <th>direction</th>\n",
       "      <th>symbol</th>\n",
       "    </tr>\n",
       "  </thead>\n",
       "  <tbody>\n",
       "    <tr>\n",
       "      <th>12</th>\n",
       "      <td>2010-09-24</td>\n",
       "      <td>94.38</td>\n",
       "      <td>484</td>\n",
       "      <td>entry</td>\n",
       "      <td>LONG</td>\n",
       "      <td>SPY</td>\n",
       "    </tr>\n",
       "    <tr>\n",
       "      <th>13</th>\n",
       "      <td>2011-08-04</td>\n",
       "      <td>100.30</td>\n",
       "      <td>484</td>\n",
       "      <td>exit</td>\n",
       "      <td>LONG</td>\n",
       "      <td>SPY</td>\n",
       "    </tr>\n",
       "    <tr>\n",
       "      <th>14</th>\n",
       "      <td>2012-01-10</td>\n",
       "      <td>108.94</td>\n",
       "      <td>445</td>\n",
       "      <td>entry</td>\n",
       "      <td>LONG</td>\n",
       "      <td>SPY</td>\n",
       "    </tr>\n",
       "    <tr>\n",
       "      <th>15</th>\n",
       "      <td>2015-08-21</td>\n",
       "      <td>179.10</td>\n",
       "      <td>445</td>\n",
       "      <td>exit</td>\n",
       "      <td>LONG</td>\n",
       "      <td>SPY</td>\n",
       "    </tr>\n",
       "    <tr>\n",
       "      <th>16</th>\n",
       "      <td>2016-04-01</td>\n",
       "      <td>190.40</td>\n",
       "      <td>418</td>\n",
       "      <td>entry</td>\n",
       "      <td>LONG</td>\n",
       "      <td>SPY</td>\n",
       "    </tr>\n",
       "    <tr>\n",
       "      <th>17</th>\n",
       "      <td>2018-10-29</td>\n",
       "      <td>254.83</td>\n",
       "      <td>418</td>\n",
       "      <td>exit</td>\n",
       "      <td>LONG</td>\n",
       "      <td>SPY</td>\n",
       "    </tr>\n",
       "    <tr>\n",
       "      <th>18</th>\n",
       "      <td>2019-03-18</td>\n",
       "      <td>275.46</td>\n",
       "      <td>387</td>\n",
       "      <td>entry</td>\n",
       "      <td>LONG</td>\n",
       "      <td>SPY</td>\n",
       "    </tr>\n",
       "    <tr>\n",
       "      <th>19</th>\n",
       "      <td>2020-03-09</td>\n",
       "      <td>271.43</td>\n",
       "      <td>387</td>\n",
       "      <td>exit</td>\n",
       "      <td>LONG</td>\n",
       "      <td>SPY</td>\n",
       "    </tr>\n",
       "    <tr>\n",
       "      <th>20</th>\n",
       "      <td>2020-06-03</td>\n",
       "      <td>310.81</td>\n",
       "      <td>338</td>\n",
       "      <td>entry</td>\n",
       "      <td>LONG</td>\n",
       "      <td>SPY</td>\n",
       "    </tr>\n",
       "    <tr>\n",
       "      <th>21</th>\n",
       "      <td>2020-07-14</td>\n",
       "      <td>316.03</td>\n",
       "      <td>338</td>\n",
       "      <td>exit</td>\n",
       "      <td>LONG</td>\n",
       "      <td>SPY</td>\n",
       "    </tr>\n",
       "  </tbody>\n",
       "</table>\n",
       "</div>"
      ],
      "text/plain": [
       "         date  price  shares entry_exit direction symbol\n",
       "12 2010-09-24  94.38     484      entry      LONG    SPY\n",
       "13 2011-08-04 100.30     484       exit      LONG    SPY\n",
       "14 2012-01-10 108.94     445      entry      LONG    SPY\n",
       "15 2015-08-21 179.10     445       exit      LONG    SPY\n",
       "16 2016-04-01 190.40     418      entry      LONG    SPY\n",
       "17 2018-10-29 254.83     418       exit      LONG    SPY\n",
       "18 2019-03-18 275.46     387      entry      LONG    SPY\n",
       "19 2020-03-09 271.43     387       exit      LONG    SPY\n",
       "20 2020-06-03 310.81     338      entry      LONG    SPY\n",
       "21 2020-07-14 316.03     338       exit      LONG    SPY"
      ]
     },
     "execution_count": 9,
     "metadata": {},
     "output_type": "execute_result"
    }
   ],
   "source": [
    "rlog.tail(10)"
   ]
  },
  {
   "cell_type": "code",
   "execution_count": 10,
   "metadata": {
    "ExecuteTime": {
     "end_time": "2020-02-17T03:15:04.736529Z",
     "start_time": "2020-02-17T03:15:04.697248Z"
    }
   },
   "outputs": [
    {
     "data": {
      "text/html": [
       "<div>\n",
       "<style scoped>\n",
       "    .dataframe tbody tr th:only-of-type {\n",
       "        vertical-align: middle;\n",
       "    }\n",
       "\n",
       "    .dataframe tbody tr th {\n",
       "        vertical-align: top;\n",
       "    }\n",
       "\n",
       "    .dataframe thead th {\n",
       "        text-align: right;\n",
       "    }\n",
       "</style>\n",
       "<table border=\"1\" class=\"dataframe\">\n",
       "  <thead>\n",
       "    <tr style=\"text-align: right;\">\n",
       "      <th></th>\n",
       "      <th>entry_date</th>\n",
       "      <th>entry_price</th>\n",
       "      <th>exit_date</th>\n",
       "      <th>exit_price</th>\n",
       "      <th>pl_points</th>\n",
       "      <th>pl_cash</th>\n",
       "      <th>qty</th>\n",
       "      <th>cumul_total</th>\n",
       "      <th>direction</th>\n",
       "      <th>symbol</th>\n",
       "    </tr>\n",
       "  </thead>\n",
       "  <tbody>\n",
       "    <tr>\n",
       "      <th>1</th>\n",
       "      <td>1994-08-26</td>\n",
       "      <td>29.49</td>\n",
       "      <td>1998-08-31</td>\n",
       "      <td>64.18</td>\n",
       "      <td>34.69</td>\n",
       "      <td>11274.33</td>\n",
       "      <td>325</td>\n",
       "      <td>10862.24</td>\n",
       "      <td>LONG</td>\n",
       "      <td>SPY</td>\n",
       "    </tr>\n",
       "    <tr>\n",
       "      <th>2</th>\n",
       "      <td>1998-11-02</td>\n",
       "      <td>75.06</td>\n",
       "      <td>1999-10-15</td>\n",
       "      <td>84.76</td>\n",
       "      <td>9.70</td>\n",
       "      <td>2686.09</td>\n",
       "      <td>277</td>\n",
       "      <td>13548.32</td>\n",
       "      <td>LONG</td>\n",
       "      <td>SPY</td>\n",
       "    </tr>\n",
       "    <tr>\n",
       "      <th>3</th>\n",
       "      <td>1999-10-29</td>\n",
       "      <td>92.99</td>\n",
       "      <td>2000-10-10</td>\n",
       "      <td>94.38</td>\n",
       "      <td>1.39</td>\n",
       "      <td>352.13</td>\n",
       "      <td>253</td>\n",
       "      <td>13900.45</td>\n",
       "      <td>LONG</td>\n",
       "      <td>SPY</td>\n",
       "    </tr>\n",
       "    <tr>\n",
       "      <th>4</th>\n",
       "      <td>2003-04-22</td>\n",
       "      <td>64.88</td>\n",
       "      <td>2007-11-21</td>\n",
       "      <td>109.00</td>\n",
       "      <td>44.13</td>\n",
       "      <td>16238.76</td>\n",
       "      <td>368</td>\n",
       "      <td>30139.20</td>\n",
       "      <td>LONG</td>\n",
       "      <td>SPY</td>\n",
       "    </tr>\n",
       "    <tr>\n",
       "      <th>5</th>\n",
       "      <td>2009-06-05</td>\n",
       "      <td>75.43</td>\n",
       "      <td>2010-06-07</td>\n",
       "      <td>85.84</td>\n",
       "      <td>10.42</td>\n",
       "      <td>5541.00</td>\n",
       "      <td>532</td>\n",
       "      <td>35680.20</td>\n",
       "      <td>LONG</td>\n",
       "      <td>SPY</td>\n",
       "    </tr>\n",
       "    <tr>\n",
       "      <th>6</th>\n",
       "      <td>2010-09-24</td>\n",
       "      <td>94.38</td>\n",
       "      <td>2011-08-04</td>\n",
       "      <td>100.30</td>\n",
       "      <td>5.92</td>\n",
       "      <td>2864.27</td>\n",
       "      <td>484</td>\n",
       "      <td>38544.47</td>\n",
       "      <td>LONG</td>\n",
       "      <td>SPY</td>\n",
       "    </tr>\n",
       "    <tr>\n",
       "      <th>7</th>\n",
       "      <td>2012-01-10</td>\n",
       "      <td>108.94</td>\n",
       "      <td>2015-08-21</td>\n",
       "      <td>179.10</td>\n",
       "      <td>70.16</td>\n",
       "      <td>31222.77</td>\n",
       "      <td>445</td>\n",
       "      <td>69767.24</td>\n",
       "      <td>LONG</td>\n",
       "      <td>SPY</td>\n",
       "    </tr>\n",
       "    <tr>\n",
       "      <th>8</th>\n",
       "      <td>2016-04-01</td>\n",
       "      <td>190.40</td>\n",
       "      <td>2018-10-29</td>\n",
       "      <td>254.83</td>\n",
       "      <td>64.42</td>\n",
       "      <td>26928.83</td>\n",
       "      <td>418</td>\n",
       "      <td>96696.07</td>\n",
       "      <td>LONG</td>\n",
       "      <td>SPY</td>\n",
       "    </tr>\n",
       "    <tr>\n",
       "      <th>9</th>\n",
       "      <td>2019-03-18</td>\n",
       "      <td>275.46</td>\n",
       "      <td>2020-03-09</td>\n",
       "      <td>271.43</td>\n",
       "      <td>-4.03</td>\n",
       "      <td>-1560.41</td>\n",
       "      <td>387</td>\n",
       "      <td>95135.66</td>\n",
       "      <td>LONG</td>\n",
       "      <td>SPY</td>\n",
       "    </tr>\n",
       "    <tr>\n",
       "      <th>10</th>\n",
       "      <td>2020-06-03</td>\n",
       "      <td>310.81</td>\n",
       "      <td>2020-07-14</td>\n",
       "      <td>316.03</td>\n",
       "      <td>5.22</td>\n",
       "      <td>1763.61</td>\n",
       "      <td>338</td>\n",
       "      <td>96899.27</td>\n",
       "      <td>LONG</td>\n",
       "      <td>SPY</td>\n",
       "    </tr>\n",
       "  </tbody>\n",
       "</table>\n",
       "</div>"
      ],
      "text/plain": [
       "   entry_date  entry_price  exit_date  exit_price  pl_points  pl_cash  qty  \\\n",
       "1  1994-08-26        29.49 1998-08-31       64.18      34.69 11274.33  325   \n",
       "2  1998-11-02        75.06 1999-10-15       84.76       9.70  2686.09  277   \n",
       "3  1999-10-29        92.99 2000-10-10       94.38       1.39   352.13  253   \n",
       "4  2003-04-22        64.88 2007-11-21      109.00      44.13 16238.76  368   \n",
       "5  2009-06-05        75.43 2010-06-07       85.84      10.42  5541.00  532   \n",
       "6  2010-09-24        94.38 2011-08-04      100.30       5.92  2864.27  484   \n",
       "7  2012-01-10       108.94 2015-08-21      179.10      70.16 31222.77  445   \n",
       "8  2016-04-01       190.40 2018-10-29      254.83      64.42 26928.83  418   \n",
       "9  2019-03-18       275.46 2020-03-09      271.43      -4.03 -1560.41  387   \n",
       "10 2020-06-03       310.81 2020-07-14      316.03       5.22  1763.61  338   \n",
       "\n",
       "    cumul_total direction symbol  \n",
       "1      10862.24      LONG    SPY  \n",
       "2      13548.32      LONG    SPY  \n",
       "3      13900.45      LONG    SPY  \n",
       "4      30139.20      LONG    SPY  \n",
       "5      35680.20      LONG    SPY  \n",
       "6      38544.47      LONG    SPY  \n",
       "7      69767.24      LONG    SPY  \n",
       "8      96696.07      LONG    SPY  \n",
       "9      95135.66      LONG    SPY  \n",
       "10     96899.27      LONG    SPY  "
      ]
     },
     "execution_count": 10,
     "metadata": {},
     "output_type": "execute_result"
    }
   ],
   "source": [
    "tlog.tail(10)"
   ]
  },
  {
   "cell_type": "code",
   "execution_count": 11,
   "metadata": {
    "ExecuteTime": {
     "end_time": "2020-02-17T03:15:04.771082Z",
     "start_time": "2020-02-17T03:15:04.742132Z"
    }
   },
   "outputs": [
    {
     "data": {
      "text/html": [
       "<div>\n",
       "<style scoped>\n",
       "    .dataframe tbody tr th:only-of-type {\n",
       "        vertical-align: middle;\n",
       "    }\n",
       "\n",
       "    .dataframe tbody tr th {\n",
       "        vertical-align: top;\n",
       "    }\n",
       "\n",
       "    .dataframe thead th {\n",
       "        text-align: right;\n",
       "    }\n",
       "</style>\n",
       "<table border=\"1\" class=\"dataframe\">\n",
       "  <thead>\n",
       "    <tr style=\"text-align: right;\">\n",
       "      <th></th>\n",
       "      <th>high</th>\n",
       "      <th>low</th>\n",
       "      <th>close</th>\n",
       "      <th>shares</th>\n",
       "      <th>cash</th>\n",
       "      <th>leverage</th>\n",
       "      <th>state</th>\n",
       "    </tr>\n",
       "    <tr>\n",
       "      <th>date</th>\n",
       "      <th></th>\n",
       "      <th></th>\n",
       "      <th></th>\n",
       "      <th></th>\n",
       "      <th></th>\n",
       "      <th></th>\n",
       "      <th></th>\n",
       "    </tr>\n",
       "  </thead>\n",
       "  <tbody>\n",
       "    <tr>\n",
       "      <th>2020-07-08</th>\n",
       "      <td>106990.52</td>\n",
       "      <td>105773.73</td>\n",
       "      <td>106949.97</td>\n",
       "      <td>338</td>\n",
       "      <td>81.13</td>\n",
       "      <td>1.00</td>\n",
       "      <td>-</td>\n",
       "    </tr>\n",
       "    <tr>\n",
       "      <th>2020-07-09</th>\n",
       "      <td>107260.93</td>\n",
       "      <td>105090.97</td>\n",
       "      <td>106341.57</td>\n",
       "      <td>338</td>\n",
       "      <td>81.13</td>\n",
       "      <td>1.00</td>\n",
       "      <td>-</td>\n",
       "    </tr>\n",
       "    <tr>\n",
       "      <th>2020-07-10</th>\n",
       "      <td>107524.57</td>\n",
       "      <td>105794.01</td>\n",
       "      <td>107426.55</td>\n",
       "      <td>338</td>\n",
       "      <td>81.13</td>\n",
       "      <td>1.00</td>\n",
       "      <td>-</td>\n",
       "    </tr>\n",
       "    <tr>\n",
       "      <th>2020-07-13</th>\n",
       "      <td>109157.11</td>\n",
       "      <td>106257.07</td>\n",
       "      <td>106497.05</td>\n",
       "      <td>338</td>\n",
       "      <td>81.13</td>\n",
       "      <td>1.00</td>\n",
       "      <td>-</td>\n",
       "    </tr>\n",
       "    <tr>\n",
       "      <th>2020-07-14</th>\n",
       "      <td>106899.27</td>\n",
       "      <td>106899.27</td>\n",
       "      <td>106899.27</td>\n",
       "      <td>0</td>\n",
       "      <td>106899.27</td>\n",
       "      <td>0.00</td>\n",
       "      <td>X</td>\n",
       "    </tr>\n",
       "  </tbody>\n",
       "</table>\n",
       "</div>"
      ],
      "text/plain": [
       "                high       low     close  shares      cash  leverage state\n",
       "date                                                                      \n",
       "2020-07-08 106990.52 105773.73 106949.97     338     81.13      1.00     -\n",
       "2020-07-09 107260.93 105090.97 106341.57     338     81.13      1.00     -\n",
       "2020-07-10 107524.57 105794.01 107426.55     338     81.13      1.00     -\n",
       "2020-07-13 109157.11 106257.07 106497.05     338     81.13      1.00     -\n",
       "2020-07-14 106899.27 106899.27 106899.27       0 106899.27      0.00     X"
      ]
     },
     "execution_count": 11,
     "metadata": {},
     "output_type": "execute_result"
    }
   ],
   "source": [
    "dbal.tail()"
   ]
  },
  {
   "cell_type": "markdown",
   "metadata": {},
   "source": [
    "Generate strategy stats - display all available stats"
   ]
  },
  {
   "cell_type": "code",
   "execution_count": 12,
   "metadata": {
    "ExecuteTime": {
     "end_time": "2020-02-17T03:15:04.829122Z",
     "start_time": "2020-02-17T03:15:04.786873Z"
    }
   },
   "outputs": [
    {
     "name": "stdout",
     "output_type": "stream",
     "text": [
      "start                                                  1993-11-11\n",
      "end                                                    2020-07-14\n",
      "beginning_balance                                           10000\n",
      "ending_balance                                          106899.27\n",
      "total_net_profit                                         96899.27\n",
      "gross_profit                                             98871.78\n",
      "gross_loss                                               -1972.51\n",
      "profit_factor                                               50.12\n",
      "return_on_initial_capital                                  968.99\n",
      "annual_return_rate                                           9.29\n",
      "trading_period                           26 years 8 months 3 days\n",
      "pct_time_in_market                                          75.19\n",
      "margin                                                          1\n",
      "avg_leverage                                                 1.00\n",
      "max_leverage                                                 1.00\n",
      "min_leverage                                                 1.00\n",
      "total_num_trades                                               11\n",
      "trades_per_year                                              0.41\n",
      "num_winning_trades                                              9\n",
      "num_losing_trades                                               2\n",
      "num_even_trades                                                 0\n",
      "pct_profitable_trades                                       81.82\n",
      "avg_profit_per_trade                                      8809.02\n",
      "avg_profit_per_winning_trade                             10985.75\n",
      "avg_loss_per_losing_trade                                 -986.25\n",
      "ratio_avg_profit_win_loss                                   11.14\n",
      "largest_profit_winning_trade                             31222.77\n",
      "largest_loss_losing_trade                                -1560.41\n",
      "num_winning_points                                         246.04\n",
      "num_losing_points                                           -5.19\n",
      "total_net_points                                           240.85\n",
      "avg_points                                                  21.90\n",
      "largest_points_winning_trade                                70.16\n",
      "largest_points_losing_trade                                 -4.03\n",
      "avg_pct_gain_per_trade                                      28.59\n",
      "largest_pct_winning_trade                                  117.62\n",
      "largest_pct_losing_trade                                    -4.13\n",
      "max_consecutive_winning_trades                                  8\n",
      "max_consecutive_losing_trades                                   1\n",
      "avg_bars_winning_trades                                    523.67\n",
      "avg_bars_losing_trades                                     173.00\n",
      "max_closed_out_drawdown                                    -21.94\n",
      "max_closed_out_drawdown_start_date                     2020-02-19\n",
      "max_closed_out_drawdown_end_date                       2020-06-11\n",
      "max_closed_out_drawdown_recovery_date           Not Recovered Yet\n",
      "drawdown_recovery                                           -0.31\n",
      "drawdown_annualized_return                                  -2.36\n",
      "max_intra_day_drawdown                                     -23.11\n",
      "avg_yearly_closed_out_drawdown                              -8.17\n",
      "max_yearly_closed_out_drawdown                             -21.94\n",
      "avg_monthly_closed_out_drawdown                             -2.41\n",
      "max_monthly_closed_out_drawdown                            -18.94\n",
      "avg_weekly_closed_out_drawdown                              -0.96\n",
      "max_weekly_closed_out_drawdown                             -12.34\n",
      "avg_yearly_closed_out_runup                                 18.26\n",
      "max_yearly_closed_out_runup                                 55.67\n",
      "avg_monthly_closed_out_runup                                 3.09\n",
      "max_monthly_closed_out_runup                                15.45\n",
      "avg_weekly_closed_out_runup                                  1.16\n",
      "max_weekly_closed_out_runup                                  9.46\n",
      "pct_profitable_years                                        74.02\n",
      "best_year                                                   53.29\n",
      "worst_year                                                  -9.89\n",
      "avg_year                                                    10.61\n",
      "annual_std                                                  11.65\n",
      "pct_profitable_months                                       52.19\n",
      "best_month                                                  15.45\n",
      "worst_month                                                -18.94\n",
      "avg_month                                                    0.75\n",
      "monthly_std                                                  3.15\n",
      "pct_profitable_weeks                                        45.41\n",
      "best_week                                                    9.46\n",
      "worst_week                                                 -12.34\n",
      "avg_week                                                     0.19\n",
      "weekly_std                                                   1.66\n",
      "sharpe_ratio                                                 0.78\n",
      "sortino_ratio                                                0.85\n",
      "dtype: object\n"
     ]
    }
   ],
   "source": [
    "pf.print_full(stats)"
   ]
  },
  {
   "cell_type": "markdown",
   "metadata": {},
   "source": [
    "Run Benchmark"
   ]
  },
  {
   "cell_type": "code",
   "execution_count": 13,
   "metadata": {
    "ExecuteTime": {
     "end_time": "2020-02-17T03:15:04.990269Z",
     "start_time": "2020-02-17T03:15:04.835240Z"
    }
   },
   "outputs": [
    {
     "name": "stdout",
     "output_type": "stream",
     "text": [
      "1993-11-11 00:00:00 BUY  215 SPY @ 46.38\n",
      "2020-07-14 00:00:00 SELL 215 SPY @ 316.03\n"
     ]
    }
   ],
   "source": [
    "benchmark = pf.Benchmark(symbol, capital, s._start, s._end)\n",
    "benchmark.run()"
   ]
  },
  {
   "cell_type": "markdown",
   "metadata": {},
   "source": [
    "Retrieve benchmark logs"
   ]
  },
  {
   "cell_type": "code",
   "execution_count": 14,
   "metadata": {
    "ExecuteTime": {
     "end_time": "2020-02-17T03:15:05.440284Z",
     "start_time": "2020-02-17T03:15:04.999217Z"
    }
   },
   "outputs": [],
   "source": [
    "benchmark.tlog, benchmark.dbal = benchmark.get_logs()"
   ]
  },
  {
   "cell_type": "markdown",
   "metadata": {},
   "source": [
    "Generate benchmark stats"
   ]
  },
  {
   "cell_type": "code",
   "execution_count": 15,
   "metadata": {
    "ExecuteTime": {
     "end_time": "2020-02-17T03:15:05.725638Z",
     "start_time": "2020-02-17T03:15:05.450579Z"
    },
    "scrolled": false
   },
   "outputs": [
    {
     "name": "stdout",
     "output_type": "stream",
     "text": [
      "start                                                  1993-11-11\n",
      "end                                                    2020-07-14\n",
      "beginning_balance                                           10000\n",
      "ending_balance                                           67975.82\n",
      "total_net_profit                                         57975.82\n",
      "gross_profit                                             57975.82\n",
      "gross_loss                                                   0.00\n",
      "profit_factor                                                1000\n",
      "return_on_initial_capital                                  579.76\n",
      "annual_return_rate                                           7.45\n",
      "trading_period                           26 years 8 months 3 days\n",
      "pct_time_in_market                                         100.00\n",
      "margin                                                          1\n",
      "avg_leverage                                                 1.00\n",
      "max_leverage                                                 1.00\n",
      "min_leverage                                                 1.00\n",
      "total_num_trades                                                1\n",
      "trades_per_year                                              0.04\n",
      "num_winning_trades                                              1\n",
      "num_losing_trades                                               0\n",
      "num_even_trades                                                 0\n",
      "pct_profitable_trades                                      100.00\n",
      "avg_profit_per_trade                                     57975.82\n",
      "avg_profit_per_winning_trade                             57975.82\n",
      "avg_loss_per_losing_trade                                       0\n",
      "ratio_avg_profit_win_loss                                    1000\n",
      "largest_profit_winning_trade                             57975.82\n",
      "largest_loss_losing_trade                                       0\n",
      "num_winning_points                                         269.65\n",
      "num_losing_points                                               0\n",
      "total_net_points                                           269.65\n",
      "avg_points                                                 269.65\n",
      "largest_points_winning_trade                               269.65\n",
      "largest_points_losing_trade                                     0\n",
      "avg_pct_gain_per_trade                                     581.47\n",
      "largest_pct_winning_trade                                  581.47\n",
      "largest_pct_losing_trade                                        0\n",
      "max_consecutive_winning_trades                                  1\n",
      "max_consecutive_losing_trades                                   0\n",
      "avg_bars_winning_trades                                   6715.00\n",
      "avg_bars_losing_trades                                          0\n",
      "max_closed_out_drawdown                                    -56.42\n",
      "max_closed_out_drawdown_start_date                     2007-10-09\n",
      "max_closed_out_drawdown_end_date                       2009-03-09\n",
      "max_closed_out_drawdown_recovery_date                  2013-03-14\n",
      "drawdown_recovery                                           -1.42\n",
      "drawdown_annualized_return                                  -7.57\n",
      "max_intra_day_drawdown                                     -57.35\n",
      "avg_yearly_closed_out_drawdown                             -14.21\n",
      "max_yearly_closed_out_drawdown                             -52.34\n",
      "avg_monthly_closed_out_drawdown                             -4.06\n",
      "max_monthly_closed_out_drawdown                            -31.38\n",
      "avg_weekly_closed_out_drawdown                              -1.65\n",
      "max_weekly_closed_out_drawdown                             -19.77\n",
      "avg_yearly_closed_out_runup                                 23.76\n",
      "max_yearly_closed_out_runup                                 68.79\n",
      "avg_monthly_closed_out_runup                                 4.79\n",
      "max_monthly_closed_out_runup                                28.55\n",
      "avg_weekly_closed_out_runup                                  1.85\n",
      "max_weekly_closed_out_runup                                 19.37\n",
      "pct_profitable_years                                        77.98\n",
      "best_year                                                   67.92\n",
      "worst_year                                                 -48.54\n",
      "avg_year                                                     8.98\n",
      "annual_std                                                  16.58\n",
      "pct_profitable_months                                       63.17\n",
      "best_month                                                  23.06\n",
      "worst_month                                                -31.38\n",
      "avg_month                                                    0.67\n",
      "monthly_std                                                  4.54\n",
      "pct_profitable_weeks                                        57.41\n",
      "best_week                                                   19.37\n",
      "worst_week                                                 -19.77\n",
      "avg_week                                                     0.17\n",
      "weekly_std                                                   2.43\n",
      "sharpe_ratio                                                 0.47\n",
      "sortino_ratio                                                0.60\n",
      "dtype: object\n"
     ]
    }
   ],
   "source": [
    "benchmark.stats = benchmark.get_stats()\n",
    "pf.print_full(benchmark.stats)"
   ]
  },
  {
   "cell_type": "markdown",
   "metadata": {},
   "source": [
    "Plot Equity Curves: Strategy vs Benchmark"
   ]
  },
  {
   "cell_type": "code",
   "execution_count": 16,
   "metadata": {
    "ExecuteTime": {
     "end_time": "2020-02-17T03:15:06.060402Z",
     "start_time": "2020-02-17T03:15:05.735142Z"
    }
   },
   "outputs": [
    {
     "data": {
      "image/png": "[encoded data removed]",
      "text/plain": [
       "<Figure size 720x504 with 1 Axes>"
      ]
     },
     "metadata": {
      "needs_background": "light"
     },
     "output_type": "display_data"
    }
   ],
   "source": [
    "pf.plot_equity_curve(dbal, benchmark=benchmark.dbal)"
   ]
  },
  {
   "cell_type": "markdown",
   "metadata": {},
   "source": [
    "Plot Trades"
   ]
  },
  {
   "cell_type": "code",
   "execution_count": 17,
   "metadata": {
    "ExecuteTime": {
     "end_time": "2020-02-17T03:15:06.372872Z",
     "start_time": "2020-02-17T03:15:06.065643Z"
    },
    "scrolled": false
   },
   "outputs": [
    {
     "data": {
      "image/png": "[encoded data removed]",
      "text/plain": [
       "<Figure size 720x504 with 1 Axes>"
      ]
     },
     "metadata": {
      "needs_background": "light"
     },
     "output_type": "display_data"
    }
   ],
   "source": [
    "pf.plot_trades(dbal, benchmark=benchmark.dbal)"
   ]
  },
  {
   "cell_type": "markdown",
   "metadata": {},
   "source": [
    "Bar Graph: Strategy vs Benchmark"
   ]
  },
  {
   "cell_type": "code",
   "execution_count": 18,
   "metadata": {
    "ExecuteTime": {
     "end_time": "2020-02-17T03:15:06.833919Z",
     "start_time": "2020-02-17T03:15:06.380990Z"
    },
    "scrolled": false
   },
   "outputs": [
    {
     "data": {
      "text/html": [
       "<div>\n",
       "<style scoped>\n",
       "    .dataframe tbody tr th:only-of-type {\n",
       "        vertical-align: middle;\n",
       "    }\n",
       "\n",
       "    .dataframe tbody tr th {\n",
       "        vertical-align: top;\n",
       "    }\n",
       "\n",
       "    .dataframe thead th {\n",
       "        text-align: right;\n",
       "    }\n",
       "</style>\n",
       "<table border=\"1\" class=\"dataframe\">\n",
       "  <thead>\n",
       "    <tr style=\"text-align: right;\">\n",
       "      <th></th>\n",
       "      <th>strategy</th>\n",
       "      <th>benchmark</th>\n",
       "    </tr>\n",
       "  </thead>\n",
       "  <tbody>\n",
       "    <tr>\n",
       "      <th>annual_return_rate</th>\n",
       "      <td>9.29</td>\n",
       "      <td>7.45</td>\n",
       "    </tr>\n",
       "    <tr>\n",
       "      <th>max_closed_out_drawdown</th>\n",
       "      <td>-21.94</td>\n",
       "      <td>-56.42</td>\n",
       "    </tr>\n",
       "    <tr>\n",
       "      <th>drawdown_annualized_return</th>\n",
       "      <td>-2.36</td>\n",
       "      <td>-7.57</td>\n",
       "    </tr>\n",
       "    <tr>\n",
       "      <th>drawdown_recovery</th>\n",
       "      <td>-0.31</td>\n",
       "      <td>-1.42</td>\n",
       "    </tr>\n",
       "    <tr>\n",
       "      <th>best_month</th>\n",
       "      <td>15.45</td>\n",
       "      <td>23.06</td>\n",
       "    </tr>\n",
       "    <tr>\n",
       "      <th>worst_month</th>\n",
       "      <td>-18.94</td>\n",
       "      <td>-31.38</td>\n",
       "    </tr>\n",
       "    <tr>\n",
       "      <th>sharpe_ratio</th>\n",
       "      <td>0.78</td>\n",
       "      <td>0.47</td>\n",
       "    </tr>\n",
       "    <tr>\n",
       "      <th>sortino_ratio</th>\n",
       "      <td>0.85</td>\n",
       "      <td>0.60</td>\n",
       "    </tr>\n",
       "    <tr>\n",
       "      <th>monthly_std</th>\n",
       "      <td>3.15</td>\n",
       "      <td>4.54</td>\n",
       "    </tr>\n",
       "  </tbody>\n",
       "</table>\n",
       "</div>"
      ],
      "text/plain": [
       "                            strategy  benchmark\n",
       "annual_return_rate              9.29       7.45\n",
       "max_closed_out_drawdown       -21.94     -56.42\n",
       "drawdown_annualized_return     -2.36      -7.57\n",
       "drawdown_recovery              -0.31      -1.42\n",
       "best_month                     15.45      23.06\n",
       "worst_month                   -18.94     -31.38\n",
       "sharpe_ratio                    0.78       0.47\n",
       "sortino_ratio                   0.85       0.60\n",
       "monthly_std                     3.15       4.54"
      ]
     },
     "execution_count": 18,
     "metadata": {},
     "output_type": "execute_result"
    },
    {
     "data": {
      "image/png": "[encoded data removed]",
      "text/plain": [
       "<Figure size 720x504 with 1 Axes>"
      ]
     },
     "metadata": {
      "needs_background": "light"
     },
     "output_type": "display_data"
    }
   ],
   "source": [
    "df = pf.plot_bar_graph(stats, benchmark.stats)\n",
    "df"
   ]
  }
 ],
 "metadata": {
  "kernelspec": {
   "display_name": "Python 3",
   "language": "python",
   "name": "python3"
  },
  "language_info": {
   "codemirror_mode": {
    "name": "ipython",
    "version": 3
   },
   "file_extension": ".py",
   "mimetype": "text/x-python",
   "name": "python",
   "nbconvert_exporter": "python",
   "pygments_lexer": "ipython3",
   "version": "3.8.2"
  },
  "latex_envs": {
   "LaTeX_envs_menu_present": true,
   "autoclose": false,
   "autocomplete": true,
   "bibliofile": "biblio.bib",
   "cite_by": "apalike",
   "current_citInitial": 1,
   "eqLabelWithNumbers": true,
   "eqNumInitial": 1,
   "hotkeys": {
    "equation": "Ctrl-E",
    "itemize": "Ctrl-I"
   },
   "labels_anchors": false,
   "latex_user_defs": false,
   "report_style_numbering": false,
   "user_envs_cfg": false
  }
 },
 "nbformat": 4,
 "nbformat_minor": 1
}
