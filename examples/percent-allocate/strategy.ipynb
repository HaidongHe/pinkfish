{
 "cells": [
  {
   "cell_type": "markdown",
   "metadata": {},
   "source": [
    "# percent-allocate\n",
    "\n",
    "Maintain a percent allocation of a security in account  \n",
    "(1) If close > 200dma, maintain share percentage between 46.5% and 53.5%.  \n",
    "(2) If close < 200dma, close out position"
   ]
  },
  {
   "cell_type": "code",
   "execution_count": 1,
   "metadata": {
    "ExecuteTime": {
     "end_time": "2020-02-17T03:15:03.515877Z",
     "start_time": "2020-02-17T03:15:02.423279Z"
    }
   },
   "outputs": [],
   "source": [
    "import pandas as pd\n",
    "import matplotlib.pyplot as plt\n",
    "import datetime\n",
    "from talib.abstract import *\n",
    "\n",
    "import pinkfish as pf\n",
    "\n",
    "# format price data\n",
    "pd.options.display.float_format = '{:0.2f}'.format\n",
    "\n",
    "%matplotlib inline"
   ]
  },
  {
   "cell_type": "code",
   "execution_count": 2,
   "metadata": {
    "ExecuteTime": {
     "end_time": "2020-02-17T03:15:03.531819Z",
     "start_time": "2020-02-17T03:15:03.525627Z"
    }
   },
   "outputs": [],
   "source": [
    "# set size of inline plots\n",
    "'''note: rcParams can't be in same cell as import matplotlib\n",
    "   or %matplotlib inline\n",
    "   \n",
    "   %matplotlib notebook: will lead to interactive plots embedded within\n",
    "   the notebook, you can zoom and resize the figure\n",
    "   \n",
    "   %matplotlib inline: only draw static images in the notebook\n",
    "'''\n",
    "plt.rcParams[\"figure.figsize\"] = (10, 7)"
   ]
  },
  {
   "cell_type": "code",
   "execution_count": 3,
   "metadata": {
    "ExecuteTime": {
     "end_time": "2020-02-17T03:15:03.543310Z",
     "start_time": "2020-02-17T03:15:03.536383Z"
    }
   },
   "outputs": [],
   "source": [
    "pf.DEBUG = False"
   ]
  },
  {
   "cell_type": "markdown",
   "metadata": {},
   "source": [
    "Some global data"
   ]
  },
  {
   "cell_type": "code",
   "execution_count": 4,
   "metadata": {
    "ExecuteTime": {
     "end_time": "2020-02-17T03:15:03.554304Z",
     "start_time": "2020-02-17T03:15:03.547215Z"
    }
   },
   "outputs": [],
   "source": [
    "#symbol = '^GSPC'\n",
    "symbol = 'SPY'\n",
    "#symbol = 'DIA'\n",
    "#symbol = 'QQQ'\n",
    "#symbol = 'IWM'\n",
    "#symbol = 'TLT'\n",
    "#symbol = 'GLD'\n",
    "#symbol = 'AAPL'\n",
    "#symbol = 'BBRY'\n",
    "capital = 10000\n",
    "#start = datetime.datetime(1900, 1, 1)\n",
    "start = datetime.datetime.strptime(pf.SP500_BEGIN, '%Y-%m-%d')\n",
    "end = datetime.datetime.now()"
   ]
  },
  {
   "cell_type": "markdown",
   "metadata": {},
   "source": [
    "Define target_percent and band"
   ]
  },
  {
   "cell_type": "code",
   "execution_count": 5,
   "metadata": {
    "ExecuteTime": {
     "end_time": "2020-02-17T03:15:03.571198Z",
     "start_time": "2020-02-17T03:15:03.558479Z"
    }
   },
   "outputs": [],
   "source": [
    "target_percent = 50\n",
    "band = 3\n",
    "\n",
    "sma200_band = 3.5"
   ]
  },
  {
   "cell_type": "markdown",
   "metadata": {},
   "source": [
    "Define Strategy Class "
   ]
  },
  {
   "cell_type": "code",
   "execution_count": 6,
   "metadata": {
    "ExecuteTime": {
     "end_time": "2020-02-17T03:15:03.656429Z",
     "start_time": "2020-02-17T03:15:03.576982Z"
    },
    "scrolled": false
   },
   "outputs": [],
   "source": [
    "class Strategy:\n",
    "\n",
    "    def __init__(self, symbol, capital, start, end):\n",
    "        self._symbol = symbol\n",
    "        self._capital = capital\n",
    "        self._start = start\n",
    "        self._end = end\n",
    "\n",
    "    def _algo(self):\n",
    "        pf.TradeLog.cash = self._capital\n",
    "\n",
    "        for i, row in enumerate(self._ts.itertuples()):\n",
    "\n",
    "            date = row.Index.to_pydatetime()\n",
    "            high = row.high; low = row.low; close = row.close; \n",
    "            end_flag = pf.is_last_row(self._ts, i)\n",
    "            shares = 0\n",
    "\n",
    "            # adjust shares\n",
    "            if ((self._tlog.share_percent(close) > target_percent+band or\n",
    "                self._tlog.share_percent(close) < target_percent-band)\n",
    "                and row.regime > 0\n",
    "                and not end_flag):\n",
    "                # adjust shares to target_percent\n",
    "                shares = self._tlog.adjust_percent(date, close, target_percent)   \n",
    "            # close out\n",
    "            elif (row.regime < 0\n",
    "                  or end_flag):\n",
    "                # adjust shares to 0\n",
    "                shares = self._tlog.adjust_percent(date, close, 0)\n",
    "\n",
    "            if shares > 0:\n",
    "                pf.DBG(\"{0} BUY  {1} {2} @ {3:.2f}\".format(\n",
    "                       date, shares, self._symbol, close))\n",
    "            elif shares < 0:\n",
    "                pf.DBG(\"{0} SELL {1} {2} @ {3:.2f}\".format(\n",
    "                       date, -shares, self._symbol, close))\n",
    "\n",
    "            # record daily balance\n",
    "            self._dbal.append(date, high, low, close)\n",
    "\n",
    "    def run(self):\n",
    "        self._ts = pf.fetch_timeseries(self._symbol)\n",
    "        self._ts = pf.select_tradeperiod(self._ts, self._start, self._end, use_adj=True)\n",
    "\n",
    "        # Add technical indicator: 200 sma regime filter\n",
    "        self._ts['regime'] = \\\n",
    "            pf.CROSSOVER(self._ts, timeperiod_fast=1, timeperiod_slow=200, band=sma200_band)\n",
    "        \n",
    "        self._ts, self._start = pf.finalize_timeseries(self._ts, self._start)\n",
    "\n",
    "        self._tlog = pf.TradeLog(self._symbol)\n",
    "        self._dbal = pf.DailyBal()\n",
    "\n",
    "        self._algo()\n",
    "\n",
    "    def get_logs(self):\n",
    "        \"\"\" return DataFrames \"\"\"\n",
    "        self.rlog = self._tlog.get_log_raw()\n",
    "        self.tlog = self._tlog.get_log()\n",
    "        self.dbal = self._dbal.get_log(self.tlog)\n",
    "        return self.rlog, self.tlog, self.dbal\n",
    "\n",
    "    def get_stats(self):\n",
    "        stats = pf.stats(self._ts, self.tlog, self.dbal, self._capital)\n",
    "        return stats"
   ]
  },
  {
   "cell_type": "markdown",
   "metadata": {},
   "source": [
    "Run Strategy"
   ]
  },
  {
   "cell_type": "code",
   "execution_count": 7,
   "metadata": {
    "ExecuteTime": {
     "end_time": "2020-02-17T03:15:03.909171Z",
     "start_time": "2020-02-17T03:15:03.666727Z"
    },
    "scrolled": false
   },
   "outputs": [],
   "source": [
    "s = Strategy(symbol, capital, start, end)\n",
    "s.run()"
   ]
  },
  {
   "cell_type": "markdown",
   "metadata": {},
   "source": [
    "Retrieve log DataFrames"
   ]
  },
  {
   "cell_type": "code",
   "execution_count": 8,
   "metadata": {
    "ExecuteTime": {
     "end_time": "2020-02-17T03:15:04.638208Z",
     "start_time": "2020-02-17T03:15:03.919139Z"
    }
   },
   "outputs": [],
   "source": [
    "rlog, tlog, dbal = s.get_logs()\n",
    "stats = s.get_stats()"
   ]
  },
  {
   "cell_type": "code",
   "execution_count": 9,
   "metadata": {
    "ExecuteTime": {
     "end_time": "2020-02-17T03:15:04.688620Z",
     "start_time": "2020-02-17T03:15:04.649143Z"
    }
   },
   "outputs": [
    {
     "data": {
      "text/html": [
       "<div>\n",
       "<style scoped>\n",
       "    .dataframe tbody tr th:only-of-type {\n",
       "        vertical-align: middle;\n",
       "    }\n",
       "\n",
       "    .dataframe tbody tr th {\n",
       "        vertical-align: top;\n",
       "    }\n",
       "\n",
       "    .dataframe thead th {\n",
       "        text-align: right;\n",
       "    }\n",
       "</style>\n",
       "<table border=\"1\" class=\"dataframe\">\n",
       "  <thead>\n",
       "    <tr style=\"text-align: right;\">\n",
       "      <th></th>\n",
       "      <th>date</th>\n",
       "      <th>seq_num</th>\n",
       "      <th>price</th>\n",
       "      <th>shares</th>\n",
       "      <th>entry_exit</th>\n",
       "      <th>direction</th>\n",
       "      <th>symbol</th>\n",
       "    </tr>\n",
       "  </thead>\n",
       "  <tbody>\n",
       "    <tr>\n",
       "      <th>35</th>\n",
       "      <td>2015-08-21</td>\n",
       "      <td>35</td>\n",
       "      <td>179.10</td>\n",
       "      <td>80</td>\n",
       "      <td>exit</td>\n",
       "      <td>LONG</td>\n",
       "      <td>SPY</td>\n",
       "    </tr>\n",
       "    <tr>\n",
       "      <th>36</th>\n",
       "      <td>2016-04-01</td>\n",
       "      <td>36</td>\n",
       "      <td>190.40</td>\n",
       "      <td>77</td>\n",
       "      <td>entry</td>\n",
       "      <td>LONG</td>\n",
       "      <td>SPY</td>\n",
       "    </tr>\n",
       "    <tr>\n",
       "      <th>37</th>\n",
       "      <td>2017-02-13</td>\n",
       "      <td>37</td>\n",
       "      <td>217.67</td>\n",
       "      <td>5</td>\n",
       "      <td>exit</td>\n",
       "      <td>LONG</td>\n",
       "      <td>SPY</td>\n",
       "    </tr>\n",
       "    <tr>\n",
       "      <th>38</th>\n",
       "      <td>2017-11-28</td>\n",
       "      <td>38</td>\n",
       "      <td>249.32</td>\n",
       "      <td>5</td>\n",
       "      <td>exit</td>\n",
       "      <td>LONG</td>\n",
       "      <td>SPY</td>\n",
       "    </tr>\n",
       "    <tr>\n",
       "      <th>39</th>\n",
       "      <td>2018-10-29</td>\n",
       "      <td>39</td>\n",
       "      <td>254.83</td>\n",
       "      <td>67</td>\n",
       "      <td>exit</td>\n",
       "      <td>LONG</td>\n",
       "      <td>SPY</td>\n",
       "    </tr>\n",
       "    <tr>\n",
       "      <th>40</th>\n",
       "      <td>2019-03-18</td>\n",
       "      <td>40</td>\n",
       "      <td>275.46</td>\n",
       "      <td>62</td>\n",
       "      <td>entry</td>\n",
       "      <td>LONG</td>\n",
       "      <td>SPY</td>\n",
       "    </tr>\n",
       "    <tr>\n",
       "      <th>41</th>\n",
       "      <td>2019-12-12</td>\n",
       "      <td>41</td>\n",
       "      <td>312.36</td>\n",
       "      <td>4</td>\n",
       "      <td>exit</td>\n",
       "      <td>LONG</td>\n",
       "      <td>SPY</td>\n",
       "    </tr>\n",
       "    <tr>\n",
       "      <th>42</th>\n",
       "      <td>2020-03-09</td>\n",
       "      <td>42</td>\n",
       "      <td>271.43</td>\n",
       "      <td>58</td>\n",
       "      <td>exit</td>\n",
       "      <td>LONG</td>\n",
       "      <td>SPY</td>\n",
       "    </tr>\n",
       "    <tr>\n",
       "      <th>43</th>\n",
       "      <td>2020-06-03</td>\n",
       "      <td>43</td>\n",
       "      <td>310.81</td>\n",
       "      <td>54</td>\n",
       "      <td>entry</td>\n",
       "      <td>LONG</td>\n",
       "      <td>SPY</td>\n",
       "    </tr>\n",
       "    <tr>\n",
       "      <th>44</th>\n",
       "      <td>2020-07-23</td>\n",
       "      <td>44</td>\n",
       "      <td>322.28</td>\n",
       "      <td>54</td>\n",
       "      <td>exit</td>\n",
       "      <td>LONG</td>\n",
       "      <td>SPY</td>\n",
       "    </tr>\n",
       "  </tbody>\n",
       "</table>\n",
       "</div>"
      ],
      "text/plain": [
       "         date  seq_num  price  shares entry_exit direction symbol\n",
       "35 2015-08-21       35 179.10      80       exit      LONG    SPY\n",
       "36 2016-04-01       36 190.40      77      entry      LONG    SPY\n",
       "37 2017-02-13       37 217.67       5       exit      LONG    SPY\n",
       "38 2017-11-28       38 249.32       5       exit      LONG    SPY\n",
       "39 2018-10-29       39 254.83      67       exit      LONG    SPY\n",
       "40 2019-03-18       40 275.46      62      entry      LONG    SPY\n",
       "41 2019-12-12       41 312.36       4       exit      LONG    SPY\n",
       "42 2020-03-09       42 271.43      58       exit      LONG    SPY\n",
       "43 2020-06-03       43 310.81      54      entry      LONG    SPY\n",
       "44 2020-07-23       44 322.28      54       exit      LONG    SPY"
      ]
     },
     "execution_count": 9,
     "metadata": {},
     "output_type": "execute_result"
    }
   ],
   "source": [
    "rlog.tail(10)"
   ]
  },
  {
   "cell_type": "code",
   "execution_count": 10,
   "metadata": {
    "ExecuteTime": {
     "end_time": "2020-02-17T03:15:04.736529Z",
     "start_time": "2020-02-17T03:15:04.697248Z"
    }
   },
   "outputs": [
    {
     "data": {
      "text/html": [
       "<div>\n",
       "<style scoped>\n",
       "    .dataframe tbody tr th:only-of-type {\n",
       "        vertical-align: middle;\n",
       "    }\n",
       "\n",
       "    .dataframe tbody tr th {\n",
       "        vertical-align: top;\n",
       "    }\n",
       "\n",
       "    .dataframe thead th {\n",
       "        text-align: right;\n",
       "    }\n",
       "</style>\n",
       "<table border=\"1\" class=\"dataframe\">\n",
       "  <thead>\n",
       "    <tr style=\"text-align: right;\">\n",
       "      <th></th>\n",
       "      <th>entry_date</th>\n",
       "      <th>entry_price</th>\n",
       "      <th>exit_date</th>\n",
       "      <th>exit_price</th>\n",
       "      <th>pl_points</th>\n",
       "      <th>pl_cash</th>\n",
       "      <th>qty</th>\n",
       "      <th>cumul_total</th>\n",
       "      <th>direction</th>\n",
       "      <th>symbol</th>\n",
       "    </tr>\n",
       "  </thead>\n",
       "  <tbody>\n",
       "    <tr>\n",
       "      <th>24</th>\n",
       "      <td>2012-01-10</td>\n",
       "      <td>108.94</td>\n",
       "      <td>2013-05-15</td>\n",
       "      <td>143.89</td>\n",
       "      <td>34.95</td>\n",
       "      <td>209.71</td>\n",
       "      <td>6</td>\n",
       "      <td>13118.22</td>\n",
       "      <td>LONG</td>\n",
       "      <td>SPY</td>\n",
       "    </tr>\n",
       "    <tr>\n",
       "      <th>25</th>\n",
       "      <td>2012-01-10</td>\n",
       "      <td>108.94</td>\n",
       "      <td>2014-02-28</td>\n",
       "      <td>163.89</td>\n",
       "      <td>54.95</td>\n",
       "      <td>329.71</td>\n",
       "      <td>6</td>\n",
       "      <td>13447.93</td>\n",
       "      <td>LONG</td>\n",
       "      <td>SPY</td>\n",
       "    </tr>\n",
       "    <tr>\n",
       "      <th>26</th>\n",
       "      <td>2012-01-10</td>\n",
       "      <td>108.94</td>\n",
       "      <td>2015-02-17</td>\n",
       "      <td>188.46</td>\n",
       "      <td>79.52</td>\n",
       "      <td>397.60</td>\n",
       "      <td>5</td>\n",
       "      <td>13845.52</td>\n",
       "      <td>LONG</td>\n",
       "      <td>SPY</td>\n",
       "    </tr>\n",
       "    <tr>\n",
       "      <th>27</th>\n",
       "      <td>2012-01-10</td>\n",
       "      <td>108.94</td>\n",
       "      <td>2015-08-21</td>\n",
       "      <td>179.10</td>\n",
       "      <td>70.16</td>\n",
       "      <td>5613.08</td>\n",
       "      <td>80</td>\n",
       "      <td>19458.61</td>\n",
       "      <td>LONG</td>\n",
       "      <td>SPY</td>\n",
       "    </tr>\n",
       "    <tr>\n",
       "      <th>28</th>\n",
       "      <td>2016-04-01</td>\n",
       "      <td>190.40</td>\n",
       "      <td>2017-02-13</td>\n",
       "      <td>217.67</td>\n",
       "      <td>27.26</td>\n",
       "      <td>136.32</td>\n",
       "      <td>5</td>\n",
       "      <td>19594.92</td>\n",
       "      <td>LONG</td>\n",
       "      <td>SPY</td>\n",
       "    </tr>\n",
       "    <tr>\n",
       "      <th>29</th>\n",
       "      <td>2016-04-01</td>\n",
       "      <td>190.40</td>\n",
       "      <td>2017-11-28</td>\n",
       "      <td>249.32</td>\n",
       "      <td>58.92</td>\n",
       "      <td>294.58</td>\n",
       "      <td>5</td>\n",
       "      <td>19889.50</td>\n",
       "      <td>LONG</td>\n",
       "      <td>SPY</td>\n",
       "    </tr>\n",
       "    <tr>\n",
       "      <th>30</th>\n",
       "      <td>2016-04-01</td>\n",
       "      <td>190.40</td>\n",
       "      <td>2018-10-29</td>\n",
       "      <td>254.83</td>\n",
       "      <td>64.42</td>\n",
       "      <td>4316.34</td>\n",
       "      <td>67</td>\n",
       "      <td>24205.84</td>\n",
       "      <td>LONG</td>\n",
       "      <td>SPY</td>\n",
       "    </tr>\n",
       "    <tr>\n",
       "      <th>31</th>\n",
       "      <td>2019-03-18</td>\n",
       "      <td>275.46</td>\n",
       "      <td>2019-12-12</td>\n",
       "      <td>312.36</td>\n",
       "      <td>36.89</td>\n",
       "      <td>147.58</td>\n",
       "      <td>4</td>\n",
       "      <td>24353.42</td>\n",
       "      <td>LONG</td>\n",
       "      <td>SPY</td>\n",
       "    </tr>\n",
       "    <tr>\n",
       "      <th>32</th>\n",
       "      <td>2019-03-18</td>\n",
       "      <td>275.46</td>\n",
       "      <td>2020-03-09</td>\n",
       "      <td>271.43</td>\n",
       "      <td>-4.03</td>\n",
       "      <td>-233.86</td>\n",
       "      <td>58</td>\n",
       "      <td>24119.56</td>\n",
       "      <td>LONG</td>\n",
       "      <td>SPY</td>\n",
       "    </tr>\n",
       "    <tr>\n",
       "      <th>33</th>\n",
       "      <td>2020-06-03</td>\n",
       "      <td>310.81</td>\n",
       "      <td>2020-07-23</td>\n",
       "      <td>322.28</td>\n",
       "      <td>11.47</td>\n",
       "      <td>619.26</td>\n",
       "      <td>54</td>\n",
       "      <td>24738.82</td>\n",
       "      <td>LONG</td>\n",
       "      <td>SPY</td>\n",
       "    </tr>\n",
       "  </tbody>\n",
       "</table>\n",
       "</div>"
      ],
      "text/plain": [
       "   entry_date  entry_price  exit_date  exit_price  pl_points  pl_cash  qty  \\\n",
       "24 2012-01-10       108.94 2013-05-15      143.89      34.95   209.71    6   \n",
       "25 2012-01-10       108.94 2014-02-28      163.89      54.95   329.71    6   \n",
       "26 2012-01-10       108.94 2015-02-17      188.46      79.52   397.60    5   \n",
       "27 2012-01-10       108.94 2015-08-21      179.10      70.16  5613.08   80   \n",
       "28 2016-04-01       190.40 2017-02-13      217.67      27.26   136.32    5   \n",
       "29 2016-04-01       190.40 2017-11-28      249.32      58.92   294.58    5   \n",
       "30 2016-04-01       190.40 2018-10-29      254.83      64.42  4316.34   67   \n",
       "31 2019-03-18       275.46 2019-12-12      312.36      36.89   147.58    4   \n",
       "32 2019-03-18       275.46 2020-03-09      271.43      -4.03  -233.86   58   \n",
       "33 2020-06-03       310.81 2020-07-23      322.28      11.47   619.26   54   \n",
       "\n",
       "    cumul_total direction symbol  \n",
       "24     13118.22      LONG    SPY  \n",
       "25     13447.93      LONG    SPY  \n",
       "26     13845.52      LONG    SPY  \n",
       "27     19458.61      LONG    SPY  \n",
       "28     19594.92      LONG    SPY  \n",
       "29     19889.50      LONG    SPY  \n",
       "30     24205.84      LONG    SPY  \n",
       "31     24353.42      LONG    SPY  \n",
       "32     24119.56      LONG    SPY  \n",
       "33     24738.82      LONG    SPY  "
      ]
     },
     "execution_count": 10,
     "metadata": {},
     "output_type": "execute_result"
    }
   ],
   "source": [
    "tlog.tail(10)"
   ]
  },
  {
   "cell_type": "code",
   "execution_count": 11,
   "metadata": {
    "ExecuteTime": {
     "end_time": "2020-02-17T03:15:04.771082Z",
     "start_time": "2020-02-17T03:15:04.742132Z"
    }
   },
   "outputs": [
    {
     "data": {
      "text/html": [
       "<div>\n",
       "<style scoped>\n",
       "    .dataframe tbody tr th:only-of-type {\n",
       "        vertical-align: middle;\n",
       "    }\n",
       "\n",
       "    .dataframe tbody tr th {\n",
       "        vertical-align: top;\n",
       "    }\n",
       "\n",
       "    .dataframe thead th {\n",
       "        text-align: right;\n",
       "    }\n",
       "</style>\n",
       "<table border=\"1\" class=\"dataframe\">\n",
       "  <thead>\n",
       "    <tr style=\"text-align: right;\">\n",
       "      <th></th>\n",
       "      <th>high</th>\n",
       "      <th>low</th>\n",
       "      <th>close</th>\n",
       "      <th>shares</th>\n",
       "      <th>cash</th>\n",
       "      <th>leverage</th>\n",
       "      <th>state</th>\n",
       "    </tr>\n",
       "    <tr>\n",
       "      <th>date</th>\n",
       "      <th></th>\n",
       "      <th></th>\n",
       "      <th></th>\n",
       "      <th></th>\n",
       "      <th></th>\n",
       "      <th></th>\n",
       "      <th></th>\n",
       "    </tr>\n",
       "  </thead>\n",
       "  <tbody>\n",
       "    <tr>\n",
       "      <th>2020-07-17</th>\n",
       "      <td>34754.48</td>\n",
       "      <td>34601.66</td>\n",
       "      <td>34708.58</td>\n",
       "      <td>54</td>\n",
       "      <td>17335.70</td>\n",
       "      <td>1.00</td>\n",
       "      <td>-</td>\n",
       "    </tr>\n",
       "    <tr>\n",
       "      <th>2020-07-20</th>\n",
       "      <td>34892.72</td>\n",
       "      <td>34649.18</td>\n",
       "      <td>34848.98</td>\n",
       "      <td>54</td>\n",
       "      <td>17335.70</td>\n",
       "      <td>1.00</td>\n",
       "      <td>-</td>\n",
       "    </tr>\n",
       "    <tr>\n",
       "      <th>2020-07-21</th>\n",
       "      <td>34989.92</td>\n",
       "      <td>34828.46</td>\n",
       "      <td>34886.24</td>\n",
       "      <td>54</td>\n",
       "      <td>17335.70</td>\n",
       "      <td>1.00</td>\n",
       "      <td>-</td>\n",
       "    </tr>\n",
       "    <tr>\n",
       "      <th>2020-07-22</th>\n",
       "      <td>35004.50</td>\n",
       "      <td>34858.70</td>\n",
       "      <td>34986.14</td>\n",
       "      <td>54</td>\n",
       "      <td>17335.70</td>\n",
       "      <td>1.00</td>\n",
       "      <td>-</td>\n",
       "    </tr>\n",
       "    <tr>\n",
       "      <th>2020-07-23</th>\n",
       "      <td>34738.82</td>\n",
       "      <td>34738.82</td>\n",
       "      <td>34738.82</td>\n",
       "      <td>0</td>\n",
       "      <td>34738.82</td>\n",
       "      <td>1.00</td>\n",
       "      <td>X</td>\n",
       "    </tr>\n",
       "  </tbody>\n",
       "</table>\n",
       "</div>"
      ],
      "text/plain": [
       "               high      low    close  shares     cash  leverage state\n",
       "date                                                                  \n",
       "2020-07-17 34754.48 34601.66 34708.58      54 17335.70      1.00     -\n",
       "2020-07-20 34892.72 34649.18 34848.98      54 17335.70      1.00     -\n",
       "2020-07-21 34989.92 34828.46 34886.24      54 17335.70      1.00     -\n",
       "2020-07-22 35004.50 34858.70 34986.14      54 17335.70      1.00     -\n",
       "2020-07-23 34738.82 34738.82 34738.82       0 34738.82      1.00     X"
      ]
     },
     "execution_count": 11,
     "metadata": {},
     "output_type": "execute_result"
    }
   ],
   "source": [
    "dbal.tail()"
   ]
  },
  {
   "cell_type": "markdown",
   "metadata": {},
   "source": [
    "Generate strategy stats - display all available stats"
   ]
  },
  {
   "cell_type": "code",
   "execution_count": 12,
   "metadata": {
    "ExecuteTime": {
     "end_time": "2020-02-17T03:15:04.829122Z",
     "start_time": "2020-02-17T03:15:04.786873Z"
    }
   },
   "outputs": [
    {
     "name": "stdout",
     "output_type": "stream",
     "text": [
      "start                                                   1993-11-11\n",
      "end                                                     2020-07-23\n",
      "beginning_balance                                            10000\n",
      "ending_balance                                            34738.82\n",
      "total_net_profit                                          24738.82\n",
      "gross_profit                                              25191.50\n",
      "gross_loss                                                 -452.67\n",
      "profit_factor                                                55.65\n",
      "return_on_initial_capital                                   247.39\n",
      "annual_return_rate                                            4.77\n",
      "trading_period                           26 years 8 months 12 days\n",
      "pct_time_in_market                                           75.22\n",
      "margin                                                           1\n",
      "avg_leverage                                                  1.00\n",
      "max_leverage                                                  1.00\n",
      "min_leverage                                                  1.00\n",
      "total_num_trades                                                34\n",
      "trades_per_year                                               1.27\n",
      "num_winning_trades                                              31\n",
      "num_losing_trades                                                3\n",
      "num_even_trades                                                  0\n",
      "pct_profitable_trades                                        91.18\n",
      "avg_profit_per_trade                                        727.61\n",
      "avg_profit_per_winning_trade                                812.63\n",
      "avg_loss_per_losing_trade                                  -150.89\n",
      "ratio_avg_profit_win_loss                                     5.39\n",
      "largest_profit_winning_trade                               5613.08\n",
      "largest_loss_losing_trade                                  -233.86\n",
      "num_winning_points                                          875.27\n",
      "num_losing_points                                            -6.86\n",
      "total_net_points                                            868.41\n",
      "avg_points                                                   25.54\n",
      "largest_points_winning_trade                                 79.52\n",
      "largest_points_losing_trade                                  -4.03\n",
      "avg_pct_gain_per_trade                                       37.86\n",
      "largest_pct_winning_trade                                   145.53\n",
      "largest_pct_losing_trade                                     -4.13\n",
      "max_consecutive_winning_trades                                  19\n",
      "max_consecutive_losing_trades                                    1\n",
      "avg_bars_winning_trades                                     447.65\n",
      "avg_bars_losing_trades                                      119.33\n",
      "max_closed_out_drawdown                                     -11.38\n",
      "max_closed_out_drawdown_start_date                      2020-02-19\n",
      "max_closed_out_drawdown_end_date                        2020-06-11\n",
      "max_closed_out_drawdown_recovery_date            Not Recovered Yet\n",
      "drawdown_recovery                                            -0.31\n",
      "drawdown_annualized_return                                   -2.38\n",
      "max_intra_day_drawdown                                      -12.03\n",
      "avg_yearly_closed_out_drawdown                               -4.21\n",
      "max_yearly_closed_out_drawdown                              -11.38\n",
      "avg_monthly_closed_out_drawdown                              -1.23\n",
      "max_monthly_closed_out_drawdown                              -9.74\n",
      "avg_weekly_closed_out_drawdown                               -0.49\n",
      "max_weekly_closed_out_drawdown                               -6.18\n",
      "avg_yearly_closed_out_runup                                   8.83\n",
      "max_yearly_closed_out_runup                                  25.47\n",
      "avg_monthly_closed_out_runup                                  1.56\n",
      "max_monthly_closed_out_runup                                  7.55\n",
      "avg_weekly_closed_out_runup                                   0.59\n",
      "max_weekly_closed_out_runup                                   4.68\n",
      "pct_profitable_years                                         74.61\n",
      "best_year                                                    24.50\n",
      "worst_year                                                   -5.19\n",
      "avg_year                                                      5.23\n",
      "annual_std                                                    5.60\n",
      "pct_profitable_months                                        52.25\n",
      "best_month                                                    7.55\n",
      "worst_month                                                  -9.74\n",
      "avg_month                                                     0.38\n",
      "monthly_std                                                   1.59\n",
      "pct_profitable_weeks                                         45.50\n",
      "best_week                                                     4.68\n",
      "worst_week                                                   -6.18\n",
      "avg_week                                                      0.10\n",
      "weekly_std                                                    0.84\n",
      "sharpe_ratio                                                  0.78\n",
      "sortino_ratio                                                 0.85\n",
      "dtype: object\n"
     ]
    }
   ],
   "source": [
    "pf.print_full(stats)"
   ]
  },
  {
   "cell_type": "markdown",
   "metadata": {},
   "source": [
    "Run Benchmark"
   ]
  },
  {
   "cell_type": "code",
   "execution_count": 13,
   "metadata": {
    "ExecuteTime": {
     "end_time": "2020-02-17T03:15:04.990269Z",
     "start_time": "2020-02-17T03:15:04.835240Z"
    }
   },
   "outputs": [
    {
     "name": "stdout",
     "output_type": "stream",
     "text": [
      "1993-11-11 00:00:00 BUY  215 SPY @ 46.38\n",
      "2020-07-23 00:00:00 SELL 215 SPY @ 322.28\n"
     ]
    }
   ],
   "source": [
    "benchmark = pf.Benchmark(symbol, capital, s._start, s._end)\n",
    "benchmark.run()"
   ]
  },
  {
   "cell_type": "markdown",
   "metadata": {},
   "source": [
    "Retrieve benchmark logs"
   ]
  },
  {
   "cell_type": "code",
   "execution_count": 14,
   "metadata": {
    "ExecuteTime": {
     "end_time": "2020-02-17T03:15:05.440284Z",
     "start_time": "2020-02-17T03:15:04.999217Z"
    }
   },
   "outputs": [],
   "source": [
    "benchmark.tlog, benchmark.dbal = benchmark.get_logs()"
   ]
  },
  {
   "cell_type": "markdown",
   "metadata": {},
   "source": [
    "Generate benchmark stats"
   ]
  },
  {
   "cell_type": "code",
   "execution_count": 15,
   "metadata": {
    "ExecuteTime": {
     "end_time": "2020-02-17T03:15:05.725638Z",
     "start_time": "2020-02-17T03:15:05.450579Z"
    },
    "scrolled": false
   },
   "outputs": [
    {
     "name": "stdout",
     "output_type": "stream",
     "text": [
      "start                                                   1993-11-11\n",
      "end                                                     2020-07-23\n",
      "beginning_balance                                            10000\n",
      "ending_balance                                            69319.57\n",
      "total_net_profit                                          59319.57\n",
      "gross_profit                                              59319.57\n",
      "gross_loss                                                    0.00\n",
      "profit_factor                                                 1000\n",
      "return_on_initial_capital                                   593.20\n",
      "annual_return_rate                                            7.52\n",
      "trading_period                           26 years 8 months 12 days\n",
      "pct_time_in_market                                          100.00\n",
      "margin                                                           1\n",
      "avg_leverage                                                  1.00\n",
      "max_leverage                                                  1.00\n",
      "min_leverage                                                  1.00\n",
      "total_num_trades                                                 1\n",
      "trades_per_year                                               0.04\n",
      "num_winning_trades                                               1\n",
      "num_losing_trades                                                0\n",
      "num_even_trades                                                  0\n",
      "pct_profitable_trades                                       100.00\n",
      "avg_profit_per_trade                                      59319.57\n",
      "avg_profit_per_winning_trade                              59319.57\n",
      "avg_loss_per_losing_trade                                        0\n",
      "ratio_avg_profit_win_loss                                     1000\n",
      "largest_profit_winning_trade                              59319.57\n",
      "largest_loss_losing_trade                                        0\n",
      "num_winning_points                                          275.90\n",
      "num_losing_points                                                0\n",
      "total_net_points                                            275.90\n",
      "avg_points                                                  275.90\n",
      "largest_points_winning_trade                                275.90\n",
      "largest_points_losing_trade                                      0\n",
      "avg_pct_gain_per_trade                                      594.94\n",
      "largest_pct_winning_trade                                   594.94\n",
      "largest_pct_losing_trade                                         0\n",
      "max_consecutive_winning_trades                                   1\n",
      "max_consecutive_losing_trades                                    0\n",
      "avg_bars_winning_trades                                    6722.00\n",
      "avg_bars_losing_trades                                           0\n",
      "max_closed_out_drawdown                                     -56.42\n",
      "max_closed_out_drawdown_start_date                      2007-10-09\n",
      "max_closed_out_drawdown_end_date                        2009-03-09\n",
      "max_closed_out_drawdown_recovery_date                   2013-03-14\n",
      "drawdown_recovery                                            -1.42\n",
      "drawdown_annualized_return                                   -7.50\n",
      "max_intra_day_drawdown                                      -57.35\n",
      "avg_yearly_closed_out_drawdown                              -14.23\n",
      "max_yearly_closed_out_drawdown                              -52.34\n",
      "avg_monthly_closed_out_drawdown                              -4.06\n",
      "max_monthly_closed_out_drawdown                             -31.38\n",
      "avg_weekly_closed_out_drawdown                               -1.65\n",
      "max_weekly_closed_out_drawdown                              -19.77\n",
      "avg_yearly_closed_out_runup                                  23.78\n",
      "max_yearly_closed_out_runup                                  68.79\n",
      "avg_monthly_closed_out_runup                                  4.79\n",
      "max_monthly_closed_out_runup                                 28.55\n",
      "avg_weekly_closed_out_runup                                   1.85\n",
      "max_weekly_closed_out_runup                                  19.37\n",
      "pct_profitable_years                                         78.01\n",
      "best_year                                                    67.92\n",
      "worst_year                                                  -48.54\n",
      "avg_year                                                      8.98\n",
      "annual_std                                                   16.58\n",
      "pct_profitable_months                                        63.21\n",
      "best_month                                                   23.06\n",
      "worst_month                                                 -31.38\n",
      "avg_month                                                     0.68\n",
      "monthly_std                                                   4.54\n",
      "pct_profitable_weeks                                         57.45\n",
      "best_week                                                    19.37\n",
      "worst_week                                                  -19.77\n",
      "avg_week                                                      0.17\n",
      "weekly_std                                                    2.43\n",
      "sharpe_ratio                                                  0.48\n",
      "sortino_ratio                                                 0.60\n",
      "dtype: object\n"
     ]
    }
   ],
   "source": [
    "benchmark.stats = benchmark.get_stats()\n",
    "pf.print_full(benchmark.stats)"
   ]
  },
  {
   "cell_type": "markdown",
   "metadata": {},
   "source": [
    "Plot Equity Curves: Strategy vs Benchmark"
   ]
  },
  {
   "cell_type": "code",
   "execution_count": 16,
   "metadata": {
    "ExecuteTime": {
     "end_time": "2020-02-17T03:15:06.060402Z",
     "start_time": "2020-02-17T03:15:05.735142Z"
    }
   },
   "outputs": [
    {
     "data": {
      "image/png": "[encoded data removed]",
      "text/plain": [
       "<Figure size 720x504 with 1 Axes>"
      ]
     },
     "metadata": {
      "needs_background": "light"
     },
     "output_type": "display_data"
    }
   ],
   "source": [
    "pf.plot_equity_curve(dbal, benchmark=benchmark.dbal)"
   ]
  },
  {
   "cell_type": "markdown",
   "metadata": {},
   "source": [
    "Plot Trades"
   ]
  },
  {
   "cell_type": "code",
   "execution_count": 17,
   "metadata": {
    "ExecuteTime": {
     "end_time": "2020-02-17T03:15:06.372872Z",
     "start_time": "2020-02-17T03:15:06.065643Z"
    },
    "scrolled": false
   },
   "outputs": [
    {
     "data": {
      "image/png": "[encoded data removed]",
      "text/plain": [
       "<Figure size 720x504 with 1 Axes>"
      ]
     },
     "metadata": {
      "needs_background": "light"
     },
     "output_type": "display_data"
    }
   ],
   "source": [
    "pf.plot_trades(dbal, benchmark=benchmark.dbal)"
   ]
  },
  {
   "cell_type": "markdown",
   "metadata": {},
   "source": [
    "Bar Graph: Strategy vs Benchmark"
   ]
  },
  {
   "cell_type": "code",
   "execution_count": 18,
   "metadata": {
    "ExecuteTime": {
     "end_time": "2020-02-17T03:15:06.833919Z",
     "start_time": "2020-02-17T03:15:06.380990Z"
    },
    "scrolled": false
   },
   "outputs": [
    {
     "data": {
      "text/html": [
       "<div>\n",
       "<style scoped>\n",
       "    .dataframe tbody tr th:only-of-type {\n",
       "        vertical-align: middle;\n",
       "    }\n",
       "\n",
       "    .dataframe tbody tr th {\n",
       "        vertical-align: top;\n",
       "    }\n",
       "\n",
       "    .dataframe thead th {\n",
       "        text-align: right;\n",
       "    }\n",
       "</style>\n",
       "<table border=\"1\" class=\"dataframe\">\n",
       "  <thead>\n",
       "    <tr style=\"text-align: right;\">\n",
       "      <th></th>\n",
       "      <th>strategy</th>\n",
       "      <th>benchmark</th>\n",
       "    </tr>\n",
       "  </thead>\n",
       "  <tbody>\n",
       "    <tr>\n",
       "      <th>annual_return_rate</th>\n",
       "      <td>4.77</td>\n",
       "      <td>7.52</td>\n",
       "    </tr>\n",
       "    <tr>\n",
       "      <th>max_closed_out_drawdown</th>\n",
       "      <td>-11.38</td>\n",
       "      <td>-56.42</td>\n",
       "    </tr>\n",
       "    <tr>\n",
       "      <th>drawdown_annualized_return</th>\n",
       "      <td>-2.38</td>\n",
       "      <td>-7.50</td>\n",
       "    </tr>\n",
       "    <tr>\n",
       "      <th>drawdown_recovery</th>\n",
       "      <td>-0.31</td>\n",
       "      <td>-1.42</td>\n",
       "    </tr>\n",
       "    <tr>\n",
       "      <th>best_month</th>\n",
       "      <td>7.55</td>\n",
       "      <td>23.06</td>\n",
       "    </tr>\n",
       "    <tr>\n",
       "      <th>worst_month</th>\n",
       "      <td>-9.74</td>\n",
       "      <td>-31.38</td>\n",
       "    </tr>\n",
       "    <tr>\n",
       "      <th>sharpe_ratio</th>\n",
       "      <td>0.78</td>\n",
       "      <td>0.48</td>\n",
       "    </tr>\n",
       "    <tr>\n",
       "      <th>sortino_ratio</th>\n",
       "      <td>0.85</td>\n",
       "      <td>0.60</td>\n",
       "    </tr>\n",
       "    <tr>\n",
       "      <th>monthly_std</th>\n",
       "      <td>1.59</td>\n",
       "      <td>4.54</td>\n",
       "    </tr>\n",
       "  </tbody>\n",
       "</table>\n",
       "</div>"
      ],
      "text/plain": [
       "                            strategy  benchmark\n",
       "annual_return_rate              4.77       7.52\n",
       "max_closed_out_drawdown       -11.38     -56.42\n",
       "drawdown_annualized_return     -2.38      -7.50\n",
       "drawdown_recovery              -0.31      -1.42\n",
       "best_month                      7.55      23.06\n",
       "worst_month                    -9.74     -31.38\n",
       "sharpe_ratio                    0.78       0.48\n",
       "sortino_ratio                   0.85       0.60\n",
       "monthly_std                     1.59       4.54"
      ]
     },
     "execution_count": 18,
     "metadata": {},
     "output_type": "execute_result"
    },
    {
     "data": {
      "image/png": "[encoded data removed]",
      "text/plain": [
       "<Figure size 720x504 with 1 Axes>"
      ]
     },
     "metadata": {
      "needs_background": "light"
     },
     "output_type": "display_data"
    }
   ],
   "source": [
    "df = pf.plot_bar_graph(stats, benchmark.stats)\n",
    "df"
   ]
  }
 ],
 "metadata": {
  "kernelspec": {
   "display_name": "Python 3",
   "language": "python",
   "name": "python3"
  },
  "language_info": {
   "codemirror_mode": {
    "name": "ipython",
    "version": 3
   },
   "file_extension": ".py",
   "mimetype": "text/x-python",
   "name": "python",
   "nbconvert_exporter": "python",
   "pygments_lexer": "ipython3",
   "version": "3.8.2"
  },
  "latex_envs": {
   "LaTeX_envs_menu_present": true,
   "autoclose": false,
   "autocomplete": true,
   "bibliofile": "biblio.bib",
   "cite_by": "apalike",
   "current_citInitial": 1,
   "eqLabelWithNumbers": true,
   "eqNumInitial": 1,
   "hotkeys": {
    "equation": "Ctrl-E",
    "itemize": "Ctrl-I"
   },
   "labels_anchors": false,
   "latex_user_defs": false,
   "report_style_numbering": false,
   "user_envs_cfg": false
  }
 },
 "nbformat": 4,
 "nbformat_minor": 1
}
