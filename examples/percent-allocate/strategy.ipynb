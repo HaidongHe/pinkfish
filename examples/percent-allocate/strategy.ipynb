{
 "cells": [
  {
   "cell_type": "markdown",
   "metadata": {},
   "source": [
    "# percent-allocate\n",
    "\n",
    "Maintain a percent allocation of a security in account"
   ]
  },
  {
   "cell_type": "code",
   "execution_count": 1,
   "metadata": {
    "ExecuteTime": {
     "end_time": "2020-02-17T03:15:03.515877Z",
     "start_time": "2020-02-17T03:15:02.423279Z"
    }
   },
   "outputs": [],
   "source": [
    "import pandas as pd\n",
    "import matplotlib.pyplot as plt\n",
    "import datetime\n",
    "from talib.abstract import *\n",
    "\n",
    "import pinkfish as pf\n",
    "\n",
    "# format price data\n",
    "pd.options.display.float_format = '{:0.2f}'.format\n",
    "\n",
    "%matplotlib inline"
   ]
  },
  {
   "cell_type": "code",
   "execution_count": 2,
   "metadata": {
    "ExecuteTime": {
     "end_time": "2020-02-17T03:15:03.531819Z",
     "start_time": "2020-02-17T03:15:03.525627Z"
    }
   },
   "outputs": [],
   "source": [
    "# set size of inline plots\n",
    "'''note: rcParams can't be in same cell as import matplotlib\n",
    "   or %matplotlib inline\n",
    "   \n",
    "   %matplotlib notebook: will lead to interactive plots embedded within\n",
    "   the notebook, you can zoom and resize the figure\n",
    "   \n",
    "   %matplotlib inline: only draw static images in the notebook\n",
    "'''\n",
    "plt.rcParams[\"figure.figsize\"] = (10, 7)"
   ]
  },
  {
   "cell_type": "code",
   "execution_count": 3,
   "metadata": {
    "ExecuteTime": {
     "end_time": "2020-02-17T03:15:03.543310Z",
     "start_time": "2020-02-17T03:15:03.536383Z"
    }
   },
   "outputs": [],
   "source": [
    "pf.DEBUG = False"
   ]
  },
  {
   "cell_type": "markdown",
   "metadata": {},
   "source": [
    "Some global data"
   ]
  },
  {
   "cell_type": "code",
   "execution_count": 4,
   "metadata": {
    "ExecuteTime": {
     "end_time": "2020-02-17T03:15:03.554304Z",
     "start_time": "2020-02-17T03:15:03.547215Z"
    }
   },
   "outputs": [],
   "source": [
    "#symbol = '^GSPC'\n",
    "symbol = 'SPY'\n",
    "#symbol = 'DIA'\n",
    "#symbol = 'QQQ'\n",
    "#symbol = 'IWM'\n",
    "#symbol = 'TLT'\n",
    "#symbol = 'GLD'\n",
    "#symbol = 'AAPL'\n",
    "#symbol = 'BBRY'\n",
    "capital = 10000\n",
    "start = datetime.datetime(1900, 1, 1)\n",
    "end = datetime.datetime.now()"
   ]
  },
  {
   "cell_type": "markdown",
   "metadata": {},
   "source": [
    "Define target_percent and band"
   ]
  },
  {
   "cell_type": "code",
   "execution_count": 5,
   "metadata": {
    "ExecuteTime": {
     "end_time": "2020-02-17T03:15:03.571198Z",
     "start_time": "2020-02-17T03:15:03.558479Z"
    }
   },
   "outputs": [],
   "source": [
    "target_percent = 50\n",
    "band = 3\n",
    "\n",
    "sma200_band = 3.5/100"
   ]
  },
  {
   "cell_type": "markdown",
   "metadata": {},
   "source": [
    "Define Strategy Class "
   ]
  },
  {
   "cell_type": "code",
   "execution_count": 6,
   "metadata": {
    "ExecuteTime": {
     "end_time": "2020-02-17T03:15:03.656429Z",
     "start_time": "2020-02-17T03:15:03.576982Z"
    },
    "scrolled": false
   },
   "outputs": [],
   "source": [
    "class Strategy:\n",
    "\n",
    "    def __init__(self, symbol, capital, start, end):\n",
    "        self._symbol = symbol\n",
    "        self._capital = capital\n",
    "        self._start = start\n",
    "        self._end = end\n",
    "\n",
    "    def _algo(self):\n",
    "        pf.TradeLog.cash = self._capital\n",
    "\n",
    "        for i, row in enumerate(self._ts.itertuples()):\n",
    "\n",
    "            date = row.Index.to_pydatetime()\n",
    "            high = row.high; low = row.low; close = row.close; \n",
    "            end_flag = pf.is_last_row(self._ts, i)\n",
    "            shares = 0\n",
    "\n",
    "            # adjust shares\n",
    "            if ((self._tlog.percent(close) > target_percent+band or\n",
    "                self._tlog.percent(close) < target_percent-band)\n",
    "                and close > row.sma200*(1+sma200_band)\n",
    "                and not end_flag):\n",
    "                # adjust shares to target_percent\n",
    "                shares = self._tlog.adjust_percent(date, close, target_percent)   \n",
    "            # close out\n",
    "            elif (close < row.sma200*(1-sma200_band)\n",
    "                  or end_flag):\n",
    "                # adjust shares to 0\n",
    "                shares = self._tlog.adjust_percent(date, close, 0)\n",
    "\n",
    "            if shares > 0:\n",
    "                pf.DBG(\"{0} BUY  {1} {2} @ {3:.2f}\".format(\n",
    "                       date, shares, self._symbol, close))\n",
    "            elif shares < 0:\n",
    "                pf.DBG(\"{0} SELL {1} {2} @ {3:.2f}\".format(\n",
    "                       date, -shares, self._symbol, close))\n",
    "\n",
    "            # record daily balance\n",
    "            self._dbal.append(date, high, low, close)\n",
    "\n",
    "    def run(self):\n",
    "        self._ts = pf.fetch_timeseries(self._symbol)\n",
    "        self._ts = pf.select_tradeperiod(self._ts, self._start, self._end,\n",
    "                                         use_adj=True, pad=False)\n",
    "\n",
    "        # Add technical indicator: 200 day sma\n",
    "        sma200 = SMA(self._ts, timeperiod=200)\n",
    "        self._ts['sma200'] = sma200\n",
    "        \n",
    "        self._ts, self._start = pf.finalize_timeseries(self._ts, self._start)\n",
    "\n",
    "        self._tlog = pf.TradeLog(self._symbol)\n",
    "        self._dbal = pf.DailyBal()\n",
    "\n",
    "        self._algo()\n",
    "\n",
    "    def get_logs(self):\n",
    "        \"\"\" return DataFrames \"\"\"\n",
    "        self.rlog = self._tlog.get_log_raw()\n",
    "        self.tlog = self._tlog.get_log()\n",
    "        self.dbal = self._dbal.get_log(self.tlog)\n",
    "        return self.rlog, self.tlog, self.dbal\n",
    "\n",
    "    def get_stats(self):\n",
    "        stats = pf.stats(self._ts, self.tlog, self.dbal, self._capital)\n",
    "        return stats"
   ]
  },
  {
   "cell_type": "markdown",
   "metadata": {},
   "source": [
    "Run Strategy"
   ]
  },
  {
   "cell_type": "code",
   "execution_count": 7,
   "metadata": {
    "ExecuteTime": {
     "end_time": "2020-02-17T03:15:03.909171Z",
     "start_time": "2020-02-17T03:15:03.666727Z"
    }
   },
   "outputs": [],
   "source": [
    "s = Strategy(symbol, capital, start, end)\n",
    "s.run()"
   ]
  },
  {
   "cell_type": "markdown",
   "metadata": {},
   "source": [
    "Retrieve log DataFrames"
   ]
  },
  {
   "cell_type": "code",
   "execution_count": 8,
   "metadata": {
    "ExecuteTime": {
     "end_time": "2020-02-17T03:15:04.638208Z",
     "start_time": "2020-02-17T03:15:03.919139Z"
    }
   },
   "outputs": [],
   "source": [
    "rlog, tlog, dbal = s.get_logs()\n",
    "stats = s.get_stats()"
   ]
  },
  {
   "cell_type": "code",
   "execution_count": 9,
   "metadata": {
    "ExecuteTime": {
     "end_time": "2020-02-17T03:15:04.688620Z",
     "start_time": "2020-02-17T03:15:04.649143Z"
    }
   },
   "outputs": [
    {
     "data": {
      "text/html": [
       "<div>\n",
       "<style scoped>\n",
       "    .dataframe tbody tr th:only-of-type {\n",
       "        vertical-align: middle;\n",
       "    }\n",
       "\n",
       "    .dataframe tbody tr th {\n",
       "        vertical-align: top;\n",
       "    }\n",
       "\n",
       "    .dataframe thead th {\n",
       "        text-align: right;\n",
       "    }\n",
       "</style>\n",
       "<table border=\"1\" class=\"dataframe\">\n",
       "  <thead>\n",
       "    <tr style=\"text-align: right;\">\n",
       "      <th></th>\n",
       "      <th>date</th>\n",
       "      <th>price</th>\n",
       "      <th>shares</th>\n",
       "      <th>entry_exit</th>\n",
       "      <th>direction</th>\n",
       "      <th>symbol</th>\n",
       "    </tr>\n",
       "  </thead>\n",
       "  <tbody>\n",
       "    <tr>\n",
       "      <th>34</th>\n",
       "      <td>2015-08-21</td>\n",
       "      <td>179.10</td>\n",
       "      <td>80</td>\n",
       "      <td>exit</td>\n",
       "      <td>LONG</td>\n",
       "      <td>None</td>\n",
       "    </tr>\n",
       "    <tr>\n",
       "      <th>35</th>\n",
       "      <td>2016-04-01</td>\n",
       "      <td>190.40</td>\n",
       "      <td>77</td>\n",
       "      <td>entry</td>\n",
       "      <td>LONG</td>\n",
       "      <td>SPY</td>\n",
       "    </tr>\n",
       "    <tr>\n",
       "      <th>36</th>\n",
       "      <td>2017-02-13</td>\n",
       "      <td>217.67</td>\n",
       "      <td>5</td>\n",
       "      <td>exit</td>\n",
       "      <td>LONG</td>\n",
       "      <td>None</td>\n",
       "    </tr>\n",
       "    <tr>\n",
       "      <th>37</th>\n",
       "      <td>2017-11-28</td>\n",
       "      <td>249.32</td>\n",
       "      <td>5</td>\n",
       "      <td>exit</td>\n",
       "      <td>LONG</td>\n",
       "      <td>None</td>\n",
       "    </tr>\n",
       "    <tr>\n",
       "      <th>38</th>\n",
       "      <td>2018-10-29</td>\n",
       "      <td>254.83</td>\n",
       "      <td>67</td>\n",
       "      <td>exit</td>\n",
       "      <td>LONG</td>\n",
       "      <td>None</td>\n",
       "    </tr>\n",
       "    <tr>\n",
       "      <th>39</th>\n",
       "      <td>2019-03-18</td>\n",
       "      <td>275.46</td>\n",
       "      <td>62</td>\n",
       "      <td>entry</td>\n",
       "      <td>LONG</td>\n",
       "      <td>SPY</td>\n",
       "    </tr>\n",
       "    <tr>\n",
       "      <th>40</th>\n",
       "      <td>2019-12-12</td>\n",
       "      <td>312.36</td>\n",
       "      <td>4</td>\n",
       "      <td>exit</td>\n",
       "      <td>LONG</td>\n",
       "      <td>None</td>\n",
       "    </tr>\n",
       "    <tr>\n",
       "      <th>41</th>\n",
       "      <td>2020-03-09</td>\n",
       "      <td>271.43</td>\n",
       "      <td>58</td>\n",
       "      <td>exit</td>\n",
       "      <td>LONG</td>\n",
       "      <td>None</td>\n",
       "    </tr>\n",
       "    <tr>\n",
       "      <th>42</th>\n",
       "      <td>2020-06-03</td>\n",
       "      <td>310.81</td>\n",
       "      <td>54</td>\n",
       "      <td>entry</td>\n",
       "      <td>LONG</td>\n",
       "      <td>SPY</td>\n",
       "    </tr>\n",
       "    <tr>\n",
       "      <th>43</th>\n",
       "      <td>2020-06-22</td>\n",
       "      <td>310.62</td>\n",
       "      <td>54</td>\n",
       "      <td>exit</td>\n",
       "      <td>LONG</td>\n",
       "      <td>None</td>\n",
       "    </tr>\n",
       "  </tbody>\n",
       "</table>\n",
       "</div>"
      ],
      "text/plain": [
       "         date  price  shares entry_exit direction symbol\n",
       "34 2015-08-21 179.10      80       exit      LONG   None\n",
       "35 2016-04-01 190.40      77      entry      LONG    SPY\n",
       "36 2017-02-13 217.67       5       exit      LONG   None\n",
       "37 2017-11-28 249.32       5       exit      LONG   None\n",
       "38 2018-10-29 254.83      67       exit      LONG   None\n",
       "39 2019-03-18 275.46      62      entry      LONG    SPY\n",
       "40 2019-12-12 312.36       4       exit      LONG   None\n",
       "41 2020-03-09 271.43      58       exit      LONG   None\n",
       "42 2020-06-03 310.81      54      entry      LONG    SPY\n",
       "43 2020-06-22 310.62      54       exit      LONG   None"
      ]
     },
     "execution_count": 9,
     "metadata": {},
     "output_type": "execute_result"
    }
   ],
   "source": [
    "rlog.tail(10)"
   ]
  },
  {
   "cell_type": "code",
   "execution_count": 10,
   "metadata": {
    "ExecuteTime": {
     "end_time": "2020-02-17T03:15:04.736529Z",
     "start_time": "2020-02-17T03:15:04.697248Z"
    }
   },
   "outputs": [
    {
     "data": {
      "text/html": [
       "<div>\n",
       "<style scoped>\n",
       "    .dataframe tbody tr th:only-of-type {\n",
       "        vertical-align: middle;\n",
       "    }\n",
       "\n",
       "    .dataframe tbody tr th {\n",
       "        vertical-align: top;\n",
       "    }\n",
       "\n",
       "    .dataframe thead th {\n",
       "        text-align: right;\n",
       "    }\n",
       "</style>\n",
       "<table border=\"1\" class=\"dataframe\">\n",
       "  <thead>\n",
       "    <tr style=\"text-align: right;\">\n",
       "      <th></th>\n",
       "      <th>entry_date</th>\n",
       "      <th>entry_price</th>\n",
       "      <th>exit_date</th>\n",
       "      <th>exit_price</th>\n",
       "      <th>pl_points</th>\n",
       "      <th>pl_cash</th>\n",
       "      <th>qty</th>\n",
       "      <th>cumul_total</th>\n",
       "      <th>direction</th>\n",
       "      <th>symbol</th>\n",
       "    </tr>\n",
       "  </thead>\n",
       "  <tbody>\n",
       "    <tr>\n",
       "      <th>23</th>\n",
       "      <td>2012-01-10</td>\n",
       "      <td>108.94</td>\n",
       "      <td>2013-05-15</td>\n",
       "      <td>143.89</td>\n",
       "      <td>34.95</td>\n",
       "      <td>209.71</td>\n",
       "      <td>6</td>\n",
       "      <td>13133.94</td>\n",
       "      <td>LONG</td>\n",
       "      <td>SPY</td>\n",
       "    </tr>\n",
       "    <tr>\n",
       "      <th>24</th>\n",
       "      <td>2012-01-10</td>\n",
       "      <td>108.94</td>\n",
       "      <td>2014-02-28</td>\n",
       "      <td>163.89</td>\n",
       "      <td>54.95</td>\n",
       "      <td>329.71</td>\n",
       "      <td>6</td>\n",
       "      <td>13463.65</td>\n",
       "      <td>LONG</td>\n",
       "      <td>SPY</td>\n",
       "    </tr>\n",
       "    <tr>\n",
       "      <th>25</th>\n",
       "      <td>2012-01-10</td>\n",
       "      <td>108.94</td>\n",
       "      <td>2015-02-17</td>\n",
       "      <td>188.46</td>\n",
       "      <td>79.52</td>\n",
       "      <td>397.60</td>\n",
       "      <td>5</td>\n",
       "      <td>13861.24</td>\n",
       "      <td>LONG</td>\n",
       "      <td>SPY</td>\n",
       "    </tr>\n",
       "    <tr>\n",
       "      <th>26</th>\n",
       "      <td>2012-01-10</td>\n",
       "      <td>108.94</td>\n",
       "      <td>2015-08-21</td>\n",
       "      <td>179.10</td>\n",
       "      <td>70.16</td>\n",
       "      <td>5613.08</td>\n",
       "      <td>80</td>\n",
       "      <td>19474.32</td>\n",
       "      <td>LONG</td>\n",
       "      <td>SPY</td>\n",
       "    </tr>\n",
       "    <tr>\n",
       "      <th>27</th>\n",
       "      <td>2016-04-01</td>\n",
       "      <td>190.40</td>\n",
       "      <td>2017-02-13</td>\n",
       "      <td>217.67</td>\n",
       "      <td>27.26</td>\n",
       "      <td>136.32</td>\n",
       "      <td>5</td>\n",
       "      <td>19610.64</td>\n",
       "      <td>LONG</td>\n",
       "      <td>SPY</td>\n",
       "    </tr>\n",
       "    <tr>\n",
       "      <th>28</th>\n",
       "      <td>2016-04-01</td>\n",
       "      <td>190.40</td>\n",
       "      <td>2017-11-28</td>\n",
       "      <td>249.32</td>\n",
       "      <td>58.92</td>\n",
       "      <td>294.58</td>\n",
       "      <td>5</td>\n",
       "      <td>19905.22</td>\n",
       "      <td>LONG</td>\n",
       "      <td>SPY</td>\n",
       "    </tr>\n",
       "    <tr>\n",
       "      <th>29</th>\n",
       "      <td>2016-04-01</td>\n",
       "      <td>190.40</td>\n",
       "      <td>2018-10-29</td>\n",
       "      <td>254.83</td>\n",
       "      <td>64.42</td>\n",
       "      <td>4316.34</td>\n",
       "      <td>67</td>\n",
       "      <td>24221.56</td>\n",
       "      <td>LONG</td>\n",
       "      <td>SPY</td>\n",
       "    </tr>\n",
       "    <tr>\n",
       "      <th>30</th>\n",
       "      <td>2019-03-18</td>\n",
       "      <td>275.46</td>\n",
       "      <td>2019-12-12</td>\n",
       "      <td>312.36</td>\n",
       "      <td>36.89</td>\n",
       "      <td>147.58</td>\n",
       "      <td>4</td>\n",
       "      <td>24369.14</td>\n",
       "      <td>LONG</td>\n",
       "      <td>SPY</td>\n",
       "    </tr>\n",
       "    <tr>\n",
       "      <th>31</th>\n",
       "      <td>2019-03-18</td>\n",
       "      <td>275.46</td>\n",
       "      <td>2020-03-09</td>\n",
       "      <td>271.43</td>\n",
       "      <td>-4.03</td>\n",
       "      <td>-233.86</td>\n",
       "      <td>58</td>\n",
       "      <td>24135.28</td>\n",
       "      <td>LONG</td>\n",
       "      <td>SPY</td>\n",
       "    </tr>\n",
       "    <tr>\n",
       "      <th>32</th>\n",
       "      <td>2020-06-03</td>\n",
       "      <td>310.81</td>\n",
       "      <td>2020-06-22</td>\n",
       "      <td>310.62</td>\n",
       "      <td>-0.19</td>\n",
       "      <td>-10.38</td>\n",
       "      <td>54</td>\n",
       "      <td>24124.90</td>\n",
       "      <td>LONG</td>\n",
       "      <td>SPY</td>\n",
       "    </tr>\n",
       "  </tbody>\n",
       "</table>\n",
       "</div>"
      ],
      "text/plain": [
       "   entry_date  entry_price  exit_date  exit_price  pl_points  pl_cash  qty  \\\n",
       "23 2012-01-10       108.94 2013-05-15      143.89      34.95   209.71    6   \n",
       "24 2012-01-10       108.94 2014-02-28      163.89      54.95   329.71    6   \n",
       "25 2012-01-10       108.94 2015-02-17      188.46      79.52   397.60    5   \n",
       "26 2012-01-10       108.94 2015-08-21      179.10      70.16  5613.08   80   \n",
       "27 2016-04-01       190.40 2017-02-13      217.67      27.26   136.32    5   \n",
       "28 2016-04-01       190.40 2017-11-28      249.32      58.92   294.58    5   \n",
       "29 2016-04-01       190.40 2018-10-29      254.83      64.42  4316.34   67   \n",
       "30 2019-03-18       275.46 2019-12-12      312.36      36.89   147.58    4   \n",
       "31 2019-03-18       275.46 2020-03-09      271.43      -4.03  -233.86   58   \n",
       "32 2020-06-03       310.81 2020-06-22      310.62      -0.19   -10.38   54   \n",
       "\n",
       "    cumul_total direction symbol  \n",
       "23     13133.94      LONG    SPY  \n",
       "24     13463.65      LONG    SPY  \n",
       "25     13861.24      LONG    SPY  \n",
       "26     19474.32      LONG    SPY  \n",
       "27     19610.64      LONG    SPY  \n",
       "28     19905.22      LONG    SPY  \n",
       "29     24221.56      LONG    SPY  \n",
       "30     24369.14      LONG    SPY  \n",
       "31     24135.28      LONG    SPY  \n",
       "32     24124.90      LONG    SPY  "
      ]
     },
     "execution_count": 10,
     "metadata": {},
     "output_type": "execute_result"
    }
   ],
   "source": [
    "tlog.tail(10)"
   ]
  },
  {
   "cell_type": "code",
   "execution_count": 11,
   "metadata": {
    "ExecuteTime": {
     "end_time": "2020-02-17T03:15:04.771082Z",
     "start_time": "2020-02-17T03:15:04.742132Z"
    }
   },
   "outputs": [
    {
     "data": {
      "text/html": [
       "<div>\n",
       "<style scoped>\n",
       "    .dataframe tbody tr th:only-of-type {\n",
       "        vertical-align: middle;\n",
       "    }\n",
       "\n",
       "    .dataframe tbody tr th {\n",
       "        vertical-align: top;\n",
       "    }\n",
       "\n",
       "    .dataframe thead th {\n",
       "        text-align: right;\n",
       "    }\n",
       "</style>\n",
       "<table border=\"1\" class=\"dataframe\">\n",
       "  <thead>\n",
       "    <tr style=\"text-align: right;\">\n",
       "      <th></th>\n",
       "      <th>high</th>\n",
       "      <th>low</th>\n",
       "      <th>close</th>\n",
       "      <th>shares</th>\n",
       "      <th>cash</th>\n",
       "      <th>state</th>\n",
       "    </tr>\n",
       "    <tr>\n",
       "      <th>date</th>\n",
       "      <th></th>\n",
       "      <th></th>\n",
       "      <th></th>\n",
       "      <th></th>\n",
       "      <th></th>\n",
       "      <th></th>\n",
       "    </tr>\n",
       "  </thead>\n",
       "  <tbody>\n",
       "    <tr>\n",
       "      <th>2020-06-16</th>\n",
       "      <td>34321.30</td>\n",
       "      <td>33892.81</td>\n",
       "      <td>34321.30</td>\n",
       "      <td>54</td>\n",
       "      <td>17351.42</td>\n",
       "      <td>-</td>\n",
       "    </tr>\n",
       "    <tr>\n",
       "      <th>2020-06-17</th>\n",
       "      <td>34254.10</td>\n",
       "      <td>34064.31</td>\n",
       "      <td>34254.10</td>\n",
       "      <td>54</td>\n",
       "      <td>17351.42</td>\n",
       "      <td>-</td>\n",
       "    </tr>\n",
       "    <tr>\n",
       "      <th>2020-06-18</th>\n",
       "      <td>34141.73</td>\n",
       "      <td>33991.73</td>\n",
       "      <td>34141.73</td>\n",
       "      <td>54</td>\n",
       "      <td>17351.42</td>\n",
       "      <td>-</td>\n",
       "    </tr>\n",
       "    <tr>\n",
       "      <th>2020-06-19</th>\n",
       "      <td>34327.94</td>\n",
       "      <td>33904.04</td>\n",
       "      <td>34327.94</td>\n",
       "      <td>54</td>\n",
       "      <td>17351.42</td>\n",
       "      <td>-</td>\n",
       "    </tr>\n",
       "    <tr>\n",
       "      <th>2020-06-22</th>\n",
       "      <td>34124.90</td>\n",
       "      <td>34124.90</td>\n",
       "      <td>34124.90</td>\n",
       "      <td>0</td>\n",
       "      <td>34124.90</td>\n",
       "      <td>X</td>\n",
       "    </tr>\n",
       "  </tbody>\n",
       "</table>\n",
       "</div>"
      ],
      "text/plain": [
       "               high      low    close  shares     cash state\n",
       "date                                                        \n",
       "2020-06-16 34321.30 33892.81 34321.30      54 17351.42     -\n",
       "2020-06-17 34254.10 34064.31 34254.10      54 17351.42     -\n",
       "2020-06-18 34141.73 33991.73 34141.73      54 17351.42     -\n",
       "2020-06-19 34327.94 33904.04 34327.94      54 17351.42     -\n",
       "2020-06-22 34124.90 34124.90 34124.90       0 34124.90     X"
      ]
     },
     "execution_count": 11,
     "metadata": {},
     "output_type": "execute_result"
    }
   ],
   "source": [
    "dbal.tail()"
   ]
  },
  {
   "cell_type": "markdown",
   "metadata": {},
   "source": [
    "Generate strategy stats - display all available stats"
   ]
  },
  {
   "cell_type": "code",
   "execution_count": 12,
   "metadata": {
    "ExecuteTime": {
     "end_time": "2020-02-17T03:15:04.829122Z",
     "start_time": "2020-02-17T03:15:04.786873Z"
    }
   },
   "outputs": [
    {
     "name": "stdout",
     "output_type": "stream",
     "text": [
      "start                                                   1993-11-11\n",
      "end                                                     2020-06-22\n",
      "beginning_balance                                            10000\n",
      "ending_balance                                            34124.90\n",
      "total_net_profit                                          24124.90\n",
      "gross_profit                                              24574.61\n",
      "gross_loss                                                 -449.71\n",
      "profit_factor                                                54.65\n",
      "return_on_initial_capital                                   241.25\n",
      "annual_return_rate                                            4.72\n",
      "trading_period                           26 years 7 months 11 days\n",
      "pct_time_in_market                                           75.13\n",
      "total_num_trades                                                33\n",
      "trades_per_year                                               1.24\n",
      "num_winning_trades                                              30\n",
      "num_losing_trades                                                3\n",
      "num_even_trades                                                  0\n",
      "pct_profitable_trades                                        90.91\n",
      "avg_profit_per_trade                                        731.06\n",
      "avg_profit_per_winning_trade                                819.15\n",
      "avg_loss_per_losing_trade                                  -149.90\n",
      "ratio_avg_profit_win_loss                                     5.46\n",
      "largest_profit_winning_trade                               5613.08\n",
      "largest_loss_losing_trade                                  -233.86\n",
      "num_winning_points                                          864.14\n",
      "num_losing_points                                            -5.39\n",
      "total_net_points                                            858.76\n",
      "avg_points                                                   26.02\n",
      "largest_points_winning_trade                                 79.52\n",
      "largest_points_losing_trade                                  -4.03\n",
      "avg_pct_gain_per_trade                                       38.96\n",
      "largest_pct_winning_trade                                   145.53\n",
      "largest_pct_losing_trade                                     -4.13\n",
      "max_consecutive_winning_trades                                  30\n",
      "max_consecutive_losing_trades                                    2\n",
      "avg_bars_winning_trades                                     461.47\n",
      "avg_bars_losing_trades                                      120.00\n",
      "max_closed_out_drawdown                                     -10.39\n",
      "max_closed_out_drawdown_start_date                      2020-02-19\n",
      "max_closed_out_drawdown_end_date                        2020-06-15\n",
      "max_closed_out_drawdown_recovery_date            Not Recovered Yet\n",
      "drawdown_recovery                                            -0.32\n",
      "drawdown_annualized_return                                   -2.20\n",
      "max_intra_day_drawdown                                      -12.03\n",
      "avg_yearly_closed_out_drawdown                               -3.99\n",
      "max_yearly_closed_out_drawdown                              -10.39\n",
      "avg_monthly_closed_out_drawdown                              -1.08\n",
      "max_monthly_closed_out_drawdown                              -9.83\n",
      "avg_weekly_closed_out_drawdown                               -0.41\n",
      "max_weekly_closed_out_drawdown                               -6.92\n",
      "avg_yearly_closed_out_runup                                   8.59\n",
      "max_yearly_closed_out_runup                                  25.00\n",
      "avg_monthly_closed_out_runup                                  1.40\n",
      "max_monthly_closed_out_runup                                  7.41\n",
      "avg_weekly_closed_out_runup                                   0.50\n",
      "max_weekly_closed_out_runup                                   3.85\n",
      "pct_profitable_years                                         74.22\n",
      "best_year                                                    24.13\n",
      "worst_year                                                   -5.89\n",
      "avg_year                                                      5.26\n",
      "annual_std                                                    5.65\n",
      "pct_profitable_months                                        53.13\n",
      "best_month                                                    7.41\n",
      "worst_month                                                  -9.83\n",
      "avg_month                                                     0.38\n",
      "monthly_std                                                   1.56\n",
      "pct_profitable_weeks                                         46.27\n",
      "best_week                                                     3.85\n",
      "worst_week                                                   -6.92\n",
      "avg_week                                                      0.09\n",
      "weekly_std                                                    0.78\n",
      "sharpe_ratio                                                  0.92\n",
      "sortino_ratio                                                 0.99\n",
      "dtype: object\n"
     ]
    }
   ],
   "source": [
    "pf.print_full(stats)"
   ]
  },
  {
   "cell_type": "markdown",
   "metadata": {},
   "source": [
    "Run Benchmark"
   ]
  },
  {
   "cell_type": "code",
   "execution_count": 13,
   "metadata": {
    "ExecuteTime": {
     "end_time": "2020-02-17T03:15:04.990269Z",
     "start_time": "2020-02-17T03:15:04.835240Z"
    }
   },
   "outputs": [
    {
     "name": "stdout",
     "output_type": "stream",
     "text": [
      "1993-11-11 00:00:00 BUY  215 SPY @ 46.38\n",
      "2020-06-22 00:00:00 SELL 215 SPY @ 310.62\n"
     ]
    }
   ],
   "source": [
    "benchmark = pf.Benchmark(symbol, capital, s._start, s._end)\n",
    "benchmark.run()"
   ]
  },
  {
   "cell_type": "markdown",
   "metadata": {},
   "source": [
    "Retrieve benchmark logs"
   ]
  },
  {
   "cell_type": "code",
   "execution_count": 14,
   "metadata": {
    "ExecuteTime": {
     "end_time": "2020-02-17T03:15:05.440284Z",
     "start_time": "2020-02-17T03:15:04.999217Z"
    }
   },
   "outputs": [],
   "source": [
    "benchmark.tlog, benchmark.dbal = benchmark.get_logs()"
   ]
  },
  {
   "cell_type": "markdown",
   "metadata": {},
   "source": [
    "Generate benchmark stats"
   ]
  },
  {
   "cell_type": "code",
   "execution_count": 15,
   "metadata": {
    "ExecuteTime": {
     "end_time": "2020-02-17T03:15:05.725638Z",
     "start_time": "2020-02-17T03:15:05.450579Z"
    },
    "scrolled": false
   },
   "outputs": [
    {
     "name": "stdout",
     "output_type": "stream",
     "text": [
      "start                                                   1993-11-11\n",
      "end                                                     2020-06-22\n",
      "beginning_balance                                            10000\n",
      "ending_balance                                            66812.67\n",
      "total_net_profit                                          56812.67\n",
      "gross_profit                                              56812.67\n",
      "gross_loss                                                    0.00\n",
      "profit_factor                                                 1000\n",
      "return_on_initial_capital                                   568.13\n",
      "annual_return_rate                                            7.40\n",
      "trading_period                           26 years 7 months 11 days\n",
      "pct_time_in_market                                          100.00\n",
      "total_num_trades                                                 1\n",
      "trades_per_year                                               0.04\n",
      "num_winning_trades                                               1\n",
      "num_losing_trades                                                0\n",
      "num_even_trades                                                  0\n",
      "pct_profitable_trades                                       100.00\n",
      "avg_profit_per_trade                                      56812.67\n",
      "avg_profit_per_winning_trade                              56812.67\n",
      "avg_loss_per_losing_trade                                        0\n",
      "ratio_avg_profit_win_loss                                     1000\n",
      "largest_profit_winning_trade                              56812.67\n",
      "largest_loss_losing_trade                                        0\n",
      "num_winning_points                                          264.24\n",
      "num_losing_points                                                0\n",
      "total_net_points                                            264.24\n",
      "avg_points                                                  264.24\n",
      "largest_points_winning_trade                                264.24\n",
      "largest_points_losing_trade                                      0\n",
      "avg_pct_gain_per_trade                                      569.80\n",
      "largest_pct_winning_trade                                   569.80\n",
      "largest_pct_losing_trade                                         0\n",
      "max_consecutive_winning_trades                                   1\n",
      "max_consecutive_losing_trades                                    0\n",
      "avg_bars_winning_trades                                    6700.00\n",
      "avg_bars_losing_trades                                           0\n",
      "max_closed_out_drawdown                                     -55.51\n",
      "max_closed_out_drawdown_start_date                      2007-10-11\n",
      "max_closed_out_drawdown_end_date                        2009-03-09\n",
      "max_closed_out_drawdown_recovery_date                   2013-04-10\n",
      "drawdown_recovery                                            -1.41\n",
      "drawdown_annualized_return                                   -7.50\n",
      "max_intra_day_drawdown                                      -57.35\n",
      "avg_yearly_closed_out_drawdown                              -13.36\n",
      "max_yearly_closed_out_drawdown                              -51.44\n",
      "avg_monthly_closed_out_drawdown                              -3.53\n",
      "max_monthly_closed_out_drawdown                             -31.13\n",
      "avg_weekly_closed_out_drawdown                               -1.36\n",
      "max_weekly_closed_out_drawdown                              -18.61\n",
      "avg_yearly_closed_out_runup                                  22.67\n",
      "max_yearly_closed_out_runup                                  64.36\n",
      "avg_monthly_closed_out_runup                                  4.23\n",
      "max_monthly_closed_out_runup                                 25.07\n",
      "avg_weekly_closed_out_runup                                   1.53\n",
      "max_weekly_closed_out_runup                                  14.41\n",
      "pct_profitable_years                                         78.12\n",
      "best_year                                                    64.15\n",
      "worst_year                                                  -47.07\n",
      "avg_year                                                      8.97\n",
      "annual_std                                                   16.42\n",
      "pct_profitable_months                                        63.16\n",
      "best_month                                                   21.04\n",
      "worst_month                                                 -31.13\n",
      "avg_month                                                     0.66\n",
      "monthly_std                                                   4.27\n",
      "pct_profitable_weeks                                         57.63\n",
      "best_week                                                    14.25\n",
      "worst_week                                                  -18.61\n",
      "avg_week                                                      0.17\n",
      "weekly_std                                                    2.17\n",
      "sharpe_ratio                                                  0.55\n",
      "sortino_ratio                                                 0.71\n",
      "dtype: object\n"
     ]
    }
   ],
   "source": [
    "benchmark.stats = benchmark.get_stats()\n",
    "pf.print_full(benchmark.stats)"
   ]
  },
  {
   "cell_type": "markdown",
   "metadata": {},
   "source": [
    "Plot Equity Curves: Strategy vs Benchmark"
   ]
  },
  {
   "cell_type": "code",
   "execution_count": 16,
   "metadata": {
    "ExecuteTime": {
     "end_time": "2020-02-17T03:15:06.060402Z",
     "start_time": "2020-02-17T03:15:05.735142Z"
    }
   },
   "outputs": [
    {
     "data": {
      "image/png": "[encoded data removed]",
      "text/plain": [
       "<Figure size 720x504 with 1 Axes>"
      ]
     },
     "metadata": {
      "needs_background": "light"
     },
     "output_type": "display_data"
    }
   ],
   "source": [
    "pf.plot_equity_curve(dbal, benchmark=benchmark.dbal)"
   ]
  },
  {
   "cell_type": "markdown",
   "metadata": {},
   "source": [
    "Plot Trades"
   ]
  },
  {
   "cell_type": "code",
   "execution_count": 17,
   "metadata": {
    "ExecuteTime": {
     "end_time": "2020-02-17T03:15:06.372872Z",
     "start_time": "2020-02-17T03:15:06.065643Z"
    },
    "scrolled": false
   },
   "outputs": [
    {
     "data": {
      "image/png": "[encoded data removed]",
      "text/plain": [
       "<Figure size 720x504 with 1 Axes>"
      ]
     },
     "metadata": {
      "needs_background": "light"
     },
     "output_type": "display_data"
    }
   ],
   "source": [
    "pf.plot_trades(dbal, benchmark=benchmark.dbal)"
   ]
  },
  {
   "cell_type": "markdown",
   "metadata": {},
   "source": [
    "Bar Graph: Strategy vs Benchmark"
   ]
  },
  {
   "cell_type": "code",
   "execution_count": 18,
   "metadata": {
    "ExecuteTime": {
     "end_time": "2020-02-17T03:15:06.833919Z",
     "start_time": "2020-02-17T03:15:06.380990Z"
    },
    "scrolled": false
   },
   "outputs": [
    {
     "data": {
      "text/html": [
       "<div>\n",
       "<style scoped>\n",
       "    .dataframe tbody tr th:only-of-type {\n",
       "        vertical-align: middle;\n",
       "    }\n",
       "\n",
       "    .dataframe tbody tr th {\n",
       "        vertical-align: top;\n",
       "    }\n",
       "\n",
       "    .dataframe thead th {\n",
       "        text-align: right;\n",
       "    }\n",
       "</style>\n",
       "<table border=\"1\" class=\"dataframe\">\n",
       "  <thead>\n",
       "    <tr style=\"text-align: right;\">\n",
       "      <th></th>\n",
       "      <th>strategy</th>\n",
       "      <th>benchmark</th>\n",
       "    </tr>\n",
       "  </thead>\n",
       "  <tbody>\n",
       "    <tr>\n",
       "      <th>annual_return_rate</th>\n",
       "      <td>4.72</td>\n",
       "      <td>7.40</td>\n",
       "    </tr>\n",
       "    <tr>\n",
       "      <th>max_closed_out_drawdown</th>\n",
       "      <td>-10.39</td>\n",
       "      <td>-55.51</td>\n",
       "    </tr>\n",
       "    <tr>\n",
       "      <th>drawdown_annualized_return</th>\n",
       "      <td>-2.20</td>\n",
       "      <td>-7.50</td>\n",
       "    </tr>\n",
       "    <tr>\n",
       "      <th>drawdown_recovery</th>\n",
       "      <td>-0.32</td>\n",
       "      <td>-1.41</td>\n",
       "    </tr>\n",
       "    <tr>\n",
       "      <th>best_month</th>\n",
       "      <td>7.41</td>\n",
       "      <td>21.04</td>\n",
       "    </tr>\n",
       "    <tr>\n",
       "      <th>worst_month</th>\n",
       "      <td>-9.83</td>\n",
       "      <td>-31.13</td>\n",
       "    </tr>\n",
       "    <tr>\n",
       "      <th>sharpe_ratio</th>\n",
       "      <td>0.92</td>\n",
       "      <td>0.55</td>\n",
       "    </tr>\n",
       "    <tr>\n",
       "      <th>sortino_ratio</th>\n",
       "      <td>0.99</td>\n",
       "      <td>0.71</td>\n",
       "    </tr>\n",
       "    <tr>\n",
       "      <th>monthly_std</th>\n",
       "      <td>1.56</td>\n",
       "      <td>4.27</td>\n",
       "    </tr>\n",
       "  </tbody>\n",
       "</table>\n",
       "</div>"
      ],
      "text/plain": [
       "                            strategy  benchmark\n",
       "annual_return_rate              4.72       7.40\n",
       "max_closed_out_drawdown       -10.39     -55.51\n",
       "drawdown_annualized_return     -2.20      -7.50\n",
       "drawdown_recovery              -0.32      -1.41\n",
       "best_month                      7.41      21.04\n",
       "worst_month                    -9.83     -31.13\n",
       "sharpe_ratio                    0.92       0.55\n",
       "sortino_ratio                   0.99       0.71\n",
       "monthly_std                     1.56       4.27"
      ]
     },
     "execution_count": 18,
     "metadata": {},
     "output_type": "execute_result"
    },
    {
     "data": {
      "image/png": "[encoded data removed]",
      "text/plain": [
       "<Figure size 720x504 with 1 Axes>"
      ]
     },
     "metadata": {
      "needs_background": "light"
     },
     "output_type": "display_data"
    }
   ],
   "source": [
    "df = pf.plot_bar_graph(stats, benchmark.stats)\n",
    "df"
   ]
  }
 ],
 "metadata": {
  "kernelspec": {
   "display_name": "Python 3",
   "language": "python",
   "name": "python3"
  },
  "language_info": {
   "codemirror_mode": {
    "name": "ipython",
    "version": 3
   },
   "file_extension": ".py",
   "mimetype": "text/x-python",
   "name": "python",
   "nbconvert_exporter": "python",
   "pygments_lexer": "ipython3",
   "version": "3.8.2"
  },
  "latex_envs": {
   "LaTeX_envs_menu_present": true,
   "autoclose": false,
   "autocomplete": true,
   "bibliofile": "biblio.bib",
   "cite_by": "apalike",
   "current_citInitial": 1,
   "eqLabelWithNumbers": true,
   "eqNumInitial": 1,
   "hotkeys": {
    "equation": "Ctrl-E",
    "itemize": "Ctrl-I"
   },
   "labels_anchors": false,
   "latex_user_defs": false,
   "report_style_numbering": false,
   "user_envs_cfg": false
  }
 },
 "nbformat": 4,
 "nbformat_minor": 1
}
