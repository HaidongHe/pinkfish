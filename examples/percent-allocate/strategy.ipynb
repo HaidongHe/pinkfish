{
 "cells": [
  {
   "cell_type": "markdown",
   "metadata": {},
   "source": [
    "# percent-allocate\n",
    "\n",
    "Maintain a percent allocation of a security in account"
   ]
  },
  {
   "cell_type": "code",
   "execution_count": 1,
   "metadata": {
    "ExecuteTime": {
     "end_time": "2020-02-17T03:15:03.515877Z",
     "start_time": "2020-02-17T03:15:02.423279Z"
    }
   },
   "outputs": [],
   "source": [
    "# use future imports for python 3.x forward compatibility\n",
    "from __future__ import print_function\n",
    "from __future__ import unicode_literals\n",
    "from __future__ import division\n",
    "from __future__ import absolute_import\n",
    "\n",
    "# other imports\n",
    "import pandas as pd\n",
    "import matplotlib.pyplot as plt\n",
    "import datetime\n",
    "from talib.abstract import *\n",
    "\n",
    "# project imports\n",
    "import pinkfish as pf\n",
    "\n",
    "# format price data\n",
    "pd.options.display.float_format = '{:0.2f}'.format\n",
    "\n",
    "%matplotlib inline"
   ]
  },
  {
   "cell_type": "code",
   "execution_count": 2,
   "metadata": {
    "ExecuteTime": {
     "end_time": "2020-02-17T03:15:03.531819Z",
     "start_time": "2020-02-17T03:15:03.525627Z"
    }
   },
   "outputs": [],
   "source": [
    "# set size of inline plots\n",
    "'''note: rcParams can't be in same cell as import matplotlib\n",
    "   or %matplotlib inline\n",
    "   \n",
    "   %matplotlib notebook: will lead to interactive plots embedded within\n",
    "   the notebook, you can zoom and resize the figure\n",
    "   \n",
    "   %matplotlib inline: only draw static images in the notebook\n",
    "'''\n",
    "plt.rcParams[\"figure.figsize\"] = (10, 7)"
   ]
  },
  {
   "cell_type": "code",
   "execution_count": 3,
   "metadata": {
    "ExecuteTime": {
     "end_time": "2020-02-17T03:15:03.543310Z",
     "start_time": "2020-02-17T03:15:03.536383Z"
    }
   },
   "outputs": [],
   "source": [
    "pf.DEBUG = False"
   ]
  },
  {
   "cell_type": "markdown",
   "metadata": {},
   "source": [
    "Some global data"
   ]
  },
  {
   "cell_type": "code",
   "execution_count": 4,
   "metadata": {
    "ExecuteTime": {
     "end_time": "2020-02-17T03:15:03.554304Z",
     "start_time": "2020-02-17T03:15:03.547215Z"
    }
   },
   "outputs": [],
   "source": [
    "#symbol = '^GSPC'\n",
    "symbol = 'SPY'\n",
    "#symbol = 'DIA'\n",
    "#symbol = 'QQQ'\n",
    "#symbol = 'IWM'\n",
    "#symbol = 'TLT'\n",
    "#symbol = 'GLD'\n",
    "#symbol = 'AAPL'\n",
    "#symbol = 'BBRY'\n",
    "capital = 10000\n",
    "start = datetime.datetime(1900, 1, 1)\n",
    "end = datetime.datetime.now()"
   ]
  },
  {
   "cell_type": "markdown",
   "metadata": {},
   "source": [
    "Define target_percent and band"
   ]
  },
  {
   "cell_type": "code",
   "execution_count": 5,
   "metadata": {
    "ExecuteTime": {
     "end_time": "2020-02-17T03:15:03.571198Z",
     "start_time": "2020-02-17T03:15:03.558479Z"
    }
   },
   "outputs": [],
   "source": [
    "target_percent = 50\n",
    "band = 3\n",
    "\n",
    "sma200_band = 3.5/100"
   ]
  },
  {
   "cell_type": "markdown",
   "metadata": {},
   "source": [
    "Define Strategy Class "
   ]
  },
  {
   "cell_type": "code",
   "execution_count": 6,
   "metadata": {
    "ExecuteTime": {
     "end_time": "2020-02-17T03:15:03.656429Z",
     "start_time": "2020-02-17T03:15:03.576982Z"
    },
    "scrolled": false
   },
   "outputs": [],
   "source": [
    "class Strategy(object):\n",
    "\n",
    "    def __init__(self, symbol, capital, start, end):\n",
    "        self._symbol = symbol\n",
    "        self._capital = capital\n",
    "        self._start = start\n",
    "        self._end = end\n",
    "\n",
    "    def _algo(self):\n",
    "        self._tlog.cash = self._capital\n",
    "\n",
    "        for i, row in enumerate(self._ts.itertuples()):\n",
    "\n",
    "            date = row.Index.to_pydatetime()\n",
    "            high = row.high\n",
    "            low = row.low\n",
    "            close = row.close\n",
    "            sma200 = row.sma200\n",
    "            end_flag = True if (i == len(self._ts) - 1) else False\n",
    "            shares = 0\n",
    "\n",
    "            # adjust shares\n",
    "            if ((self._tlog.percent(close) > target_percent+band or\n",
    "                self._tlog.percent(close) < target_percent-band)\n",
    "                and close > sma200*(1+sma200_band)\n",
    "                and not end_flag):\n",
    "                # adjust shares to target_percent\n",
    "                shares = self._tlog.adjust_percent(date, close, target_percent)   \n",
    "            # close out\n",
    "            elif (close < sma200*(1-sma200_band)\n",
    "                  or end_flag):\n",
    "                # adjust shares to 0\n",
    "                shares = self._tlog.adjust_percent(date, close, 0)\n",
    "\n",
    "            if shares > 0:\n",
    "                pf.DBG(\"{0} BUY  {1} {2} @ {3:.2f}\".format(\n",
    "                       date, shares, self._symbol, close))\n",
    "            elif shares < 0:\n",
    "                pf.DBG(\"{0} SELL {1} {2} @ {3:.2f}\".format(\n",
    "                       date, -shares, self._symbol, close))\n",
    "\n",
    "            # record daily balance\n",
    "            self._dbal.append(date, high, low, close,\n",
    "                              self._tlog.shares, self._tlog.cash)\n",
    "\n",
    "    def run(self):\n",
    "        self._ts = pf.fetch_timeseries(self._symbol)\n",
    "        self._ts = pf.select_tradeperiod(self._ts, self._start, self._end,\n",
    "                                         use_adj=True, pad=False)\n",
    "\n",
    "        # Add technical indicator: 200 day sma\n",
    "        sma200 = SMA(self._ts, timeperiod=200)\n",
    "        self._ts['sma200'] = sma200\n",
    "        \n",
    "        self._ts, self._start = pf.finalize_timeseries(self._ts, self._start)\n",
    "\n",
    "        self._tlog = pf.TradeLog()\n",
    "        self._dbal = pf.DailyBal()\n",
    "\n",
    "        self._algo()\n",
    "\n",
    "    def get_logs(self):\n",
    "        \"\"\" return DataFrames \"\"\"\n",
    "        self.rlog = self._tlog.get_log_raw()\n",
    "        self.tlog = self._tlog.get_log()\n",
    "        self.dbal = self._dbal.get_log(self.tlog)\n",
    "        return self.rlog, self.tlog, self.dbal\n",
    "\n",
    "    def get_stats(self):\n",
    "        stats = pf.stats(self._ts, self.tlog, self.dbal, self._capital)\n",
    "        return stats"
   ]
  },
  {
   "cell_type": "markdown",
   "metadata": {},
   "source": [
    "Run Strategy"
   ]
  },
  {
   "cell_type": "code",
   "execution_count": 7,
   "metadata": {
    "ExecuteTime": {
     "end_time": "2020-02-17T03:15:03.909171Z",
     "start_time": "2020-02-17T03:15:03.666727Z"
    }
   },
   "outputs": [],
   "source": [
    "s = Strategy(symbol, capital, start, end)\n",
    "s.run()"
   ]
  },
  {
   "cell_type": "markdown",
   "metadata": {},
   "source": [
    "Retrieve log DataFrames"
   ]
  },
  {
   "cell_type": "code",
   "execution_count": 8,
   "metadata": {
    "ExecuteTime": {
     "end_time": "2020-02-17T03:15:04.638208Z",
     "start_time": "2020-02-17T03:15:03.919139Z"
    }
   },
   "outputs": [],
   "source": [
    "rlog, tlog, dbal = s.get_logs()\n",
    "stats = s.get_stats()"
   ]
  },
  {
   "cell_type": "code",
   "execution_count": 9,
   "metadata": {
    "ExecuteTime": {
     "end_time": "2020-02-17T03:15:04.688620Z",
     "start_time": "2020-02-17T03:15:04.649143Z"
    }
   },
   "outputs": [
    {
     "data": {
      "text/html": [
       "<div>\n",
       "<style scoped>\n",
       "    .dataframe tbody tr th:only-of-type {\n",
       "        vertical-align: middle;\n",
       "    }\n",
       "\n",
       "    .dataframe tbody tr th {\n",
       "        vertical-align: top;\n",
       "    }\n",
       "\n",
       "    .dataframe thead th {\n",
       "        text-align: right;\n",
       "    }\n",
       "</style>\n",
       "<table border=\"1\" class=\"dataframe\">\n",
       "  <thead>\n",
       "    <tr style=\"text-align: right;\">\n",
       "      <th></th>\n",
       "      <th>date</th>\n",
       "      <th>price</th>\n",
       "      <th>shares</th>\n",
       "      <th>entry_exit</th>\n",
       "      <th>symbol</th>\n",
       "    </tr>\n",
       "  </thead>\n",
       "  <tbody>\n",
       "    <tr>\n",
       "      <th>32</th>\n",
       "      <td>2013-12-26</td>\n",
       "      <td>163.42</td>\n",
       "      <td>6</td>\n",
       "      <td>exit</td>\n",
       "      <td></td>\n",
       "    </tr>\n",
       "    <tr>\n",
       "      <th>33</th>\n",
       "      <td>2014-12-03</td>\n",
       "      <td>187.35</td>\n",
       "      <td>5</td>\n",
       "      <td>exit</td>\n",
       "      <td></td>\n",
       "    </tr>\n",
       "    <tr>\n",
       "      <th>34</th>\n",
       "      <td>2015-08-21</td>\n",
       "      <td>180.95</td>\n",
       "      <td>80</td>\n",
       "      <td>exit</td>\n",
       "      <td></td>\n",
       "    </tr>\n",
       "    <tr>\n",
       "      <th>35</th>\n",
       "      <td>2016-04-01</td>\n",
       "      <td>192.37</td>\n",
       "      <td>76</td>\n",
       "      <td>entry</td>\n",
       "      <td></td>\n",
       "    </tr>\n",
       "    <tr>\n",
       "      <th>36</th>\n",
       "      <td>2017-02-15</td>\n",
       "      <td>221.94</td>\n",
       "      <td>5</td>\n",
       "      <td>exit</td>\n",
       "      <td></td>\n",
       "    </tr>\n",
       "    <tr>\n",
       "      <th>37</th>\n",
       "      <td>2017-12-08</td>\n",
       "      <td>254.42</td>\n",
       "      <td>5</td>\n",
       "      <td>exit</td>\n",
       "      <td></td>\n",
       "    </tr>\n",
       "    <tr>\n",
       "      <th>38</th>\n",
       "      <td>2018-10-29</td>\n",
       "      <td>257.45</td>\n",
       "      <td>66</td>\n",
       "      <td>exit</td>\n",
       "      <td></td>\n",
       "    </tr>\n",
       "    <tr>\n",
       "      <th>39</th>\n",
       "      <td>2019-03-18</td>\n",
       "      <td>278.30</td>\n",
       "      <td>61</td>\n",
       "      <td>entry</td>\n",
       "      <td></td>\n",
       "    </tr>\n",
       "    <tr>\n",
       "      <th>40</th>\n",
       "      <td>2019-12-20</td>\n",
       "      <td>320.73</td>\n",
       "      <td>4</td>\n",
       "      <td>exit</td>\n",
       "      <td></td>\n",
       "    </tr>\n",
       "    <tr>\n",
       "      <th>41</th>\n",
       "      <td>2020-02-14</td>\n",
       "      <td>337.60</td>\n",
       "      <td>57</td>\n",
       "      <td>exit</td>\n",
       "      <td></td>\n",
       "    </tr>\n",
       "  </tbody>\n",
       "</table>\n",
       "</div>"
      ],
      "text/plain": [
       "         date  price  shares entry_exit symbol\n",
       "32 2013-12-26 163.42       6       exit       \n",
       "33 2014-12-03 187.35       5       exit       \n",
       "34 2015-08-21 180.95      80       exit       \n",
       "35 2016-04-01 192.37      76      entry       \n",
       "36 2017-02-15 221.94       5       exit       \n",
       "37 2017-12-08 254.42       5       exit       \n",
       "38 2018-10-29 257.45      66       exit       \n",
       "39 2019-03-18 278.30      61      entry       \n",
       "40 2019-12-20 320.73       4       exit       \n",
       "41 2020-02-14 337.60      57       exit       "
      ]
     },
     "execution_count": 9,
     "metadata": {},
     "output_type": "execute_result"
    }
   ],
   "source": [
    "rlog.tail(10)"
   ]
  },
  {
   "cell_type": "code",
   "execution_count": 10,
   "metadata": {
    "ExecuteTime": {
     "end_time": "2020-02-17T03:15:04.736529Z",
     "start_time": "2020-02-17T03:15:04.697248Z"
    }
   },
   "outputs": [
    {
     "data": {
      "text/html": [
       "<div>\n",
       "<style scoped>\n",
       "    .dataframe tbody tr th:only-of-type {\n",
       "        vertical-align: middle;\n",
       "    }\n",
       "\n",
       "    .dataframe tbody tr th {\n",
       "        vertical-align: top;\n",
       "    }\n",
       "\n",
       "    .dataframe thead th {\n",
       "        text-align: right;\n",
       "    }\n",
       "</style>\n",
       "<table border=\"1\" class=\"dataframe\">\n",
       "  <thead>\n",
       "    <tr style=\"text-align: right;\">\n",
       "      <th></th>\n",
       "      <th>entry_date</th>\n",
       "      <th>entry_price</th>\n",
       "      <th>exit_date</th>\n",
       "      <th>exit_price</th>\n",
       "      <th>pl_points</th>\n",
       "      <th>pl_cash</th>\n",
       "      <th>qty</th>\n",
       "      <th>cumul_total</th>\n",
       "      <th>symbol</th>\n",
       "    </tr>\n",
       "  </thead>\n",
       "  <tbody>\n",
       "    <tr>\n",
       "      <th>22</th>\n",
       "      <td>2012-01-10</td>\n",
       "      <td>110.06</td>\n",
       "      <td>2012-09-13</td>\n",
       "      <td>126.14</td>\n",
       "      <td>16.08</td>\n",
       "      <td>96.48</td>\n",
       "      <td>6</td>\n",
       "      <td>12944.17</td>\n",
       "      <td></td>\n",
       "    </tr>\n",
       "    <tr>\n",
       "      <th>23</th>\n",
       "      <td>2012-01-10</td>\n",
       "      <td>110.06</td>\n",
       "      <td>2013-05-08</td>\n",
       "      <td>142.94</td>\n",
       "      <td>32.88</td>\n",
       "      <td>197.27</td>\n",
       "      <td>6</td>\n",
       "      <td>13141.44</td>\n",
       "      <td></td>\n",
       "    </tr>\n",
       "    <tr>\n",
       "      <th>24</th>\n",
       "      <td>2012-01-10</td>\n",
       "      <td>110.06</td>\n",
       "      <td>2013-12-26</td>\n",
       "      <td>163.42</td>\n",
       "      <td>53.36</td>\n",
       "      <td>320.15</td>\n",
       "      <td>6</td>\n",
       "      <td>13461.59</td>\n",
       "      <td></td>\n",
       "    </tr>\n",
       "    <tr>\n",
       "      <th>25</th>\n",
       "      <td>2012-01-10</td>\n",
       "      <td>110.06</td>\n",
       "      <td>2014-12-03</td>\n",
       "      <td>187.35</td>\n",
       "      <td>77.29</td>\n",
       "      <td>386.46</td>\n",
       "      <td>5</td>\n",
       "      <td>13848.05</td>\n",
       "      <td></td>\n",
       "    </tr>\n",
       "    <tr>\n",
       "      <th>26</th>\n",
       "      <td>2012-01-10</td>\n",
       "      <td>110.06</td>\n",
       "      <td>2015-08-21</td>\n",
       "      <td>180.95</td>\n",
       "      <td>70.89</td>\n",
       "      <td>5670.94</td>\n",
       "      <td>80</td>\n",
       "      <td>19518.99</td>\n",
       "      <td></td>\n",
       "    </tr>\n",
       "    <tr>\n",
       "      <th>27</th>\n",
       "      <td>2016-04-01</td>\n",
       "      <td>192.37</td>\n",
       "      <td>2017-02-15</td>\n",
       "      <td>221.94</td>\n",
       "      <td>29.58</td>\n",
       "      <td>147.88</td>\n",
       "      <td>5</td>\n",
       "      <td>19666.87</td>\n",
       "      <td></td>\n",
       "    </tr>\n",
       "    <tr>\n",
       "      <th>28</th>\n",
       "      <td>2016-04-01</td>\n",
       "      <td>192.37</td>\n",
       "      <td>2017-12-08</td>\n",
       "      <td>254.42</td>\n",
       "      <td>62.05</td>\n",
       "      <td>310.26</td>\n",
       "      <td>5</td>\n",
       "      <td>19977.13</td>\n",
       "      <td></td>\n",
       "    </tr>\n",
       "    <tr>\n",
       "      <th>29</th>\n",
       "      <td>2016-04-01</td>\n",
       "      <td>192.37</td>\n",
       "      <td>2018-10-29</td>\n",
       "      <td>257.45</td>\n",
       "      <td>65.09</td>\n",
       "      <td>4295.74</td>\n",
       "      <td>66</td>\n",
       "      <td>24272.87</td>\n",
       "      <td></td>\n",
       "    </tr>\n",
       "    <tr>\n",
       "      <th>30</th>\n",
       "      <td>2019-03-18</td>\n",
       "      <td>278.30</td>\n",
       "      <td>2019-12-20</td>\n",
       "      <td>320.73</td>\n",
       "      <td>42.43</td>\n",
       "      <td>169.71</td>\n",
       "      <td>4</td>\n",
       "      <td>24442.58</td>\n",
       "      <td></td>\n",
       "    </tr>\n",
       "    <tr>\n",
       "      <th>31</th>\n",
       "      <td>2019-03-18</td>\n",
       "      <td>278.30</td>\n",
       "      <td>2020-02-14</td>\n",
       "      <td>337.60</td>\n",
       "      <td>59.30</td>\n",
       "      <td>3379.89</td>\n",
       "      <td>57</td>\n",
       "      <td>27822.47</td>\n",
       "      <td></td>\n",
       "    </tr>\n",
       "  </tbody>\n",
       "</table>\n",
       "</div>"
      ],
      "text/plain": [
       "   entry_date  entry_price  exit_date  exit_price  pl_points  pl_cash  qty  \\\n",
       "22 2012-01-10       110.06 2012-09-13      126.14      16.08    96.48    6   \n",
       "23 2012-01-10       110.06 2013-05-08      142.94      32.88   197.27    6   \n",
       "24 2012-01-10       110.06 2013-12-26      163.42      53.36   320.15    6   \n",
       "25 2012-01-10       110.06 2014-12-03      187.35      77.29   386.46    5   \n",
       "26 2012-01-10       110.06 2015-08-21      180.95      70.89  5670.94   80   \n",
       "27 2016-04-01       192.37 2017-02-15      221.94      29.58   147.88    5   \n",
       "28 2016-04-01       192.37 2017-12-08      254.42      62.05   310.26    5   \n",
       "29 2016-04-01       192.37 2018-10-29      257.45      65.09  4295.74   66   \n",
       "30 2019-03-18       278.30 2019-12-20      320.73      42.43   169.71    4   \n",
       "31 2019-03-18       278.30 2020-02-14      337.60      59.30  3379.89   57   \n",
       "\n",
       "    cumul_total symbol  \n",
       "22     12944.17         \n",
       "23     13141.44         \n",
       "24     13461.59         \n",
       "25     13848.05         \n",
       "26     19518.99         \n",
       "27     19666.87         \n",
       "28     19977.13         \n",
       "29     24272.87         \n",
       "30     24442.58         \n",
       "31     27822.47         "
      ]
     },
     "execution_count": 10,
     "metadata": {},
     "output_type": "execute_result"
    }
   ],
   "source": [
    "tlog.tail(10)"
   ]
  },
  {
   "cell_type": "code",
   "execution_count": 11,
   "metadata": {
    "ExecuteTime": {
     "end_time": "2020-02-17T03:15:04.771082Z",
     "start_time": "2020-02-17T03:15:04.742132Z"
    }
   },
   "outputs": [
    {
     "data": {
      "text/html": [
       "<div>\n",
       "<style scoped>\n",
       "    .dataframe tbody tr th:only-of-type {\n",
       "        vertical-align: middle;\n",
       "    }\n",
       "\n",
       "    .dataframe tbody tr th {\n",
       "        vertical-align: top;\n",
       "    }\n",
       "\n",
       "    .dataframe thead th {\n",
       "        text-align: right;\n",
       "    }\n",
       "</style>\n",
       "<table border=\"1\" class=\"dataframe\">\n",
       "  <thead>\n",
       "    <tr style=\"text-align: right;\">\n",
       "      <th></th>\n",
       "      <th>high</th>\n",
       "      <th>low</th>\n",
       "      <th>close</th>\n",
       "      <th>shares</th>\n",
       "      <th>cash</th>\n",
       "      <th>state</th>\n",
       "    </tr>\n",
       "    <tr>\n",
       "      <th>date</th>\n",
       "      <th></th>\n",
       "      <th></th>\n",
       "      <th></th>\n",
       "      <th></th>\n",
       "      <th></th>\n",
       "      <th></th>\n",
       "    </tr>\n",
       "  </thead>\n",
       "  <tbody>\n",
       "    <tr>\n",
       "      <th>2020-02-10</th>\n",
       "      <td>37660.02</td>\n",
       "      <td>37457.10</td>\n",
       "      <td>37656.03</td>\n",
       "      <td>57</td>\n",
       "      <td>18579.27</td>\n",
       "      <td>-</td>\n",
       "    </tr>\n",
       "    <tr>\n",
       "      <th>2020-02-11</th>\n",
       "      <td>37789.41</td>\n",
       "      <td>37656.03</td>\n",
       "      <td>37689.09</td>\n",
       "      <td>57</td>\n",
       "      <td>18579.27</td>\n",
       "      <td>-</td>\n",
       "    </tr>\n",
       "    <tr>\n",
       "      <th>2020-02-12</th>\n",
       "      <td>37825.32</td>\n",
       "      <td>37755.78</td>\n",
       "      <td>37812.21</td>\n",
       "      <td>57</td>\n",
       "      <td>18579.27</td>\n",
       "      <td>-</td>\n",
       "    </tr>\n",
       "    <tr>\n",
       "      <th>2020-02-13</th>\n",
       "      <td>37852.11</td>\n",
       "      <td>37706.19</td>\n",
       "      <td>37791.69</td>\n",
       "      <td>57</td>\n",
       "      <td>18579.27</td>\n",
       "      <td>-</td>\n",
       "    </tr>\n",
       "    <tr>\n",
       "      <th>2020-02-14</th>\n",
       "      <td>37822.47</td>\n",
       "      <td>37822.47</td>\n",
       "      <td>37822.47</td>\n",
       "      <td>0</td>\n",
       "      <td>37822.47</td>\n",
       "      <td>X</td>\n",
       "    </tr>\n",
       "  </tbody>\n",
       "</table>\n",
       "</div>"
      ],
      "text/plain": [
       "               high      low    close  shares     cash state\n",
       "date                                                        \n",
       "2020-02-10 37660.02 37457.10 37656.03      57 18579.27     -\n",
       "2020-02-11 37789.41 37656.03 37689.09      57 18579.27     -\n",
       "2020-02-12 37825.32 37755.78 37812.21      57 18579.27     -\n",
       "2020-02-13 37852.11 37706.19 37791.69      57 18579.27     -\n",
       "2020-02-14 37822.47 37822.47 37822.47       0 37822.47     X"
      ]
     },
     "execution_count": 11,
     "metadata": {},
     "output_type": "execute_result"
    }
   ],
   "source": [
    "dbal.tail()"
   ]
  },
  {
   "cell_type": "markdown",
   "metadata": {},
   "source": [
    "Generate strategy stats - display all available stats"
   ]
  },
  {
   "cell_type": "code",
   "execution_count": 12,
   "metadata": {
    "ExecuteTime": {
     "end_time": "2020-02-17T03:15:04.829122Z",
     "start_time": "2020-02-17T03:15:04.786873Z"
    }
   },
   "outputs": [
    {
     "name": "stdout",
     "output_type": "stream",
     "text": [
      "start                                                  1993-11-11\n",
      "end                                                    2020-02-14\n",
      "beginning_balance                                           10000\n",
      "ending_balance                                           37822.47\n",
      "total_net_profit                                         27822.47\n",
      "gross_profit                                             28027.71\n",
      "gross_loss                                                -205.24\n",
      "profit_factor                                              136.56\n",
      "return_on_initial_capital                                  278.22\n",
      "annual_return_rate                                           5.20\n",
      "trading_period                           26 years 3 months 3 days\n",
      "pct_time_in_market                                          75.71\n",
      "total_num_trades                                               32\n",
      "trades_per_year                                              1.22\n",
      "num_winning_trades                                             31\n",
      "num_losing_trades                                               1\n",
      "num_even_trades                                                 0\n",
      "pct_profitable_trades                                       96.88\n",
      "avg_profit_per_trade                                       869.45\n",
      "avg_profit_per_winning_trade                               904.12\n",
      "avg_loss_per_losing_trade                                 -205.24\n",
      "ratio_avg_profit_win_loss                                    4.41\n",
      "largest_profit_winning_trade                              5670.94\n",
      "largest_loss_losing_trade                                 -205.24\n",
      "num_winning_points                                         934.38\n",
      "num_losing_points                                           -1.17\n",
      "total_net_points                                           933.21\n",
      "avg_points                                                  29.16\n",
      "largest_points_winning_trade                                77.29\n",
      "largest_points_losing_trade                                 -1.17\n",
      "avg_pct_gain_per_trade                                      41.11\n",
      "largest_pct_winning_trade                                  153.15\n",
      "largest_pct_losing_trade                                    -4.13\n",
      "max_consecutive_winning_trades                                 31\n",
      "max_consecutive_losing_trades                                   1\n",
      "avg_bars_winning_trades                                    443.84\n",
      "avg_bars_losing_trades                                      99.00\n",
      "max_closed_out_drawdown                                    -10.06\n",
      "max_closed_out_drawdown_start_date                     1998-07-17\n",
      "max_closed_out_drawdown_end_date                       1998-11-03\n",
      "max_closed_out_drawdown_recovery_date                  1999-04-12\n",
      "drawdown_recovery                                           -0.30\n",
      "drawdown_annualized_return                                  -1.94\n",
      "max_intra_day_drawdown                                     -10.67\n",
      "avg_yearly_closed_out_drawdown                              -4.10\n",
      "max_yearly_closed_out_drawdown                             -10.06\n",
      "avg_monthly_closed_out_drawdown                             -1.20\n",
      "max_monthly_closed_out_drawdown                             -6.82\n",
      "avg_weekly_closed_out_drawdown                              -0.48\n",
      "max_weekly_closed_out_drawdown                              -6.06\n",
      "avg_yearly_closed_out_runup                                  8.78\n",
      "max_yearly_closed_out_runup                                 25.45\n",
      "avg_monthly_closed_out_runup                                 1.55\n",
      "max_monthly_closed_out_runup                                 7.62\n",
      "avg_weekly_closed_out_runup                                  0.58\n",
      "max_weekly_closed_out_runup                                  4.72\n",
      "pct_profitable_years                                        75.42\n",
      "best_year                                                   24.50\n",
      "worst_year                                                  -5.23\n",
      "avg_year                                                     5.33\n",
      "annual_std                                                   5.59\n",
      "pct_profitable_months                                       52.81\n",
      "best_month                                                   7.62\n",
      "worst_month                                                 -6.82\n",
      "avg_month                                                    0.41\n",
      "monthly_std                                                  1.53\n",
      "pct_profitable_weeks                                        45.85\n",
      "best_week                                                    4.72\n",
      "worst_week                                                  -6.06\n",
      "avg_week                                                     0.10\n",
      "weekly_std                                                   0.82\n",
      "sharpe_ratio                                                 0.86\n",
      "sortino_ratio                                                0.97\n",
      "dtype: object\n"
     ]
    }
   ],
   "source": [
    "pf.print_full(stats)"
   ]
  },
  {
   "cell_type": "markdown",
   "metadata": {},
   "source": [
    "Run Benchmark"
   ]
  },
  {
   "cell_type": "code",
   "execution_count": 13,
   "metadata": {
    "ExecuteTime": {
     "end_time": "2020-02-17T03:15:04.990269Z",
     "start_time": "2020-02-17T03:15:04.835240Z"
    }
   },
   "outputs": [
    {
     "name": "stdout",
     "output_type": "stream",
     "text": [
      "1993-11-11 00:00:00 BUY  215 SPY @ 46.38\n",
      "2020-02-14 00:00:00 SELL 215 SPY @ 337.60\n"
     ]
    }
   ],
   "source": [
    "benchmark = pf.Benchmark(symbol, capital, s._start, s._end)\n",
    "benchmark.run()"
   ]
  },
  {
   "cell_type": "markdown",
   "metadata": {},
   "source": [
    "Retrieve benchmark logs"
   ]
  },
  {
   "cell_type": "code",
   "execution_count": 14,
   "metadata": {
    "ExecuteTime": {
     "end_time": "2020-02-17T03:15:05.440284Z",
     "start_time": "2020-02-17T03:15:04.999217Z"
    }
   },
   "outputs": [],
   "source": [
    "benchmark.tlog, benchmark.dbal = benchmark.get_logs()"
   ]
  },
  {
   "cell_type": "markdown",
   "metadata": {},
   "source": [
    "Generate benchmark stats"
   ]
  },
  {
   "cell_type": "code",
   "execution_count": 15,
   "metadata": {
    "ExecuteTime": {
     "end_time": "2020-02-17T03:15:05.725638Z",
     "start_time": "2020-02-17T03:15:05.450579Z"
    },
    "scrolled": false
   },
   "outputs": [
    {
     "name": "stdout",
     "output_type": "stream",
     "text": [
      "start                                                  1993-11-11\n",
      "end                                                    2020-02-14\n",
      "beginning_balance                                           10000\n",
      "ending_balance                                           72613.38\n",
      "total_net_profit                                         62613.38\n",
      "gross_profit                                             62613.38\n",
      "gross_loss                                                   0.00\n",
      "profit_factor                                                1000\n",
      "return_on_initial_capital                                  626.13\n",
      "annual_return_rate                                           7.84\n",
      "trading_period                           26 years 3 months 3 days\n",
      "pct_time_in_market                                         100.00\n",
      "total_num_trades                                                1\n",
      "trades_per_year                                              0.04\n",
      "num_winning_trades                                              1\n",
      "num_losing_trades                                               0\n",
      "num_even_trades                                                 0\n",
      "pct_profitable_trades                                      100.00\n",
      "avg_profit_per_trade                                     62613.38\n",
      "avg_profit_per_winning_trade                             62613.38\n",
      "avg_loss_per_losing_trade                                       0\n",
      "ratio_avg_profit_win_loss                                    1000\n",
      "largest_profit_winning_trade                             62613.38\n",
      "largest_loss_losing_trade                                       0\n",
      "num_winning_points                                         291.23\n",
      "num_losing_points                                               0\n",
      "total_net_points                                           291.23\n",
      "avg_points                                                 291.23\n",
      "largest_points_winning_trade                               291.23\n",
      "largest_points_losing_trade                                     0\n",
      "avg_pct_gain_per_trade                                     627.98\n",
      "largest_pct_winning_trade                                  627.98\n",
      "largest_pct_losing_trade                                        0\n",
      "max_consecutive_winning_trades                                  1\n",
      "max_consecutive_losing_trades                                   0\n",
      "avg_bars_winning_trades                                   6612.00\n",
      "avg_bars_losing_trades                                          0\n",
      "max_closed_out_drawdown                                    -56.42\n",
      "max_closed_out_drawdown_start_date                     2007-10-09\n",
      "max_closed_out_drawdown_end_date                       2009-03-09\n",
      "max_closed_out_drawdown_recovery_date                  2013-03-14\n",
      "drawdown_recovery                                           -1.42\n",
      "drawdown_annualized_return                                  -7.19\n",
      "max_intra_day_drawdown                                     -57.35\n",
      "avg_yearly_closed_out_drawdown                             -13.97\n",
      "max_yearly_closed_out_drawdown                             -52.34\n",
      "avg_monthly_closed_out_drawdown                             -3.95\n",
      "max_monthly_closed_out_drawdown                            -29.78\n",
      "avg_weekly_closed_out_drawdown                              -1.61\n",
      "max_weekly_closed_out_drawdown                             -19.77\n",
      "avg_yearly_closed_out_runup                                 23.63\n",
      "max_yearly_closed_out_runup                                 68.79\n",
      "avg_monthly_closed_out_runup                                 4.69\n",
      "max_monthly_closed_out_runup                                23.66\n",
      "avg_weekly_closed_out_runup                                  1.81\n",
      "max_weekly_closed_out_runup                                 19.37\n",
      "pct_profitable_years                                        78.32\n",
      "best_year                                                   67.92\n",
      "worst_year                                                 -48.54\n",
      "avg_year                                                     9.10\n",
      "annual_std                                                  16.65\n",
      "pct_profitable_months                                       63.21\n",
      "best_month                                                  22.70\n",
      "worst_month                                                -29.78\n",
      "avg_month                                                    0.69\n",
      "monthly_std                                                  4.31\n",
      "pct_profitable_weeks                                        57.44\n",
      "best_week                                                   19.37\n",
      "worst_week                                                 -19.77\n",
      "avg_week                                                     0.18\n",
      "weekly_std                                                   2.34\n",
      "sharpe_ratio                                                 0.50\n",
      "sortino_ratio                                                0.65\n",
      "dtype: object\n"
     ]
    }
   ],
   "source": [
    "benchmark.stats = benchmark.get_stats()\n",
    "pf.print_full(benchmark.stats)"
   ]
  },
  {
   "cell_type": "markdown",
   "metadata": {},
   "source": [
    "Plot Equity Curves: Strategy vs Benchmark"
   ]
  },
  {
   "cell_type": "code",
   "execution_count": 16,
   "metadata": {
    "ExecuteTime": {
     "end_time": "2020-02-17T03:15:06.060402Z",
     "start_time": "2020-02-17T03:15:05.735142Z"
    }
   },
   "outputs": [
    {
     "data": {
      "image/png": "[encoded data removed]",
      "text/plain": [
       "<Figure size 720x504 with 1 Axes>"
      ]
     },
     "metadata": {
      "needs_background": "light"
     },
     "output_type": "display_data"
    }
   ],
   "source": [
    "pf.plot_equity_curve(dbal, benchmark=benchmark.dbal)"
   ]
  },
  {
   "cell_type": "markdown",
   "metadata": {},
   "source": [
    "Plot Trades"
   ]
  },
  {
   "cell_type": "code",
   "execution_count": 17,
   "metadata": {
    "ExecuteTime": {
     "end_time": "2020-02-17T03:15:06.372872Z",
     "start_time": "2020-02-17T03:15:06.065643Z"
    },
    "scrolled": false
   },
   "outputs": [
    {
     "data": {
      "image/png": "[encoded data removed]",
      "text/plain": [
       "<Figure size 720x504 with 1 Axes>"
      ]
     },
     "metadata": {
      "needs_background": "light"
     },
     "output_type": "display_data"
    }
   ],
   "source": [
    "pf.plot_trades(dbal, benchmark=benchmark.dbal)"
   ]
  },
  {
   "cell_type": "markdown",
   "metadata": {},
   "source": [
    "Bar Graph: Strategy vs Benchmark"
   ]
  },
  {
   "cell_type": "code",
   "execution_count": 18,
   "metadata": {
    "ExecuteTime": {
     "end_time": "2020-02-17T03:15:06.833919Z",
     "start_time": "2020-02-17T03:15:06.380990Z"
    },
    "scrolled": false
   },
   "outputs": [
    {
     "data": {
      "text/html": [
       "<div>\n",
       "<style scoped>\n",
       "    .dataframe tbody tr th:only-of-type {\n",
       "        vertical-align: middle;\n",
       "    }\n",
       "\n",
       "    .dataframe tbody tr th {\n",
       "        vertical-align: top;\n",
       "    }\n",
       "\n",
       "    .dataframe thead th {\n",
       "        text-align: right;\n",
       "    }\n",
       "</style>\n",
       "<table border=\"1\" class=\"dataframe\">\n",
       "  <thead>\n",
       "    <tr style=\"text-align: right;\">\n",
       "      <th></th>\n",
       "      <th>strategy</th>\n",
       "      <th>benchmark</th>\n",
       "    </tr>\n",
       "  </thead>\n",
       "  <tbody>\n",
       "    <tr>\n",
       "      <th>annual_return_rate</th>\n",
       "      <td>5.20</td>\n",
       "      <td>7.84</td>\n",
       "    </tr>\n",
       "    <tr>\n",
       "      <th>max_closed_out_drawdown</th>\n",
       "      <td>-10.06</td>\n",
       "      <td>-56.42</td>\n",
       "    </tr>\n",
       "    <tr>\n",
       "      <th>drawdown_annualized_return</th>\n",
       "      <td>-1.94</td>\n",
       "      <td>-7.19</td>\n",
       "    </tr>\n",
       "    <tr>\n",
       "      <th>drawdown_recovery</th>\n",
       "      <td>-0.30</td>\n",
       "      <td>-1.42</td>\n",
       "    </tr>\n",
       "    <tr>\n",
       "      <th>best_month</th>\n",
       "      <td>7.62</td>\n",
       "      <td>22.70</td>\n",
       "    </tr>\n",
       "    <tr>\n",
       "      <th>worst_month</th>\n",
       "      <td>-6.82</td>\n",
       "      <td>-29.78</td>\n",
       "    </tr>\n",
       "    <tr>\n",
       "      <th>sharpe_ratio</th>\n",
       "      <td>0.86</td>\n",
       "      <td>0.50</td>\n",
       "    </tr>\n",
       "    <tr>\n",
       "      <th>sortino_ratio</th>\n",
       "      <td>0.97</td>\n",
       "      <td>0.65</td>\n",
       "    </tr>\n",
       "    <tr>\n",
       "      <th>monthly_std</th>\n",
       "      <td>1.53</td>\n",
       "      <td>4.31</td>\n",
       "    </tr>\n",
       "  </tbody>\n",
       "</table>\n",
       "</div>"
      ],
      "text/plain": [
       "                            strategy  benchmark\n",
       "annual_return_rate              5.20       7.84\n",
       "max_closed_out_drawdown       -10.06     -56.42\n",
       "drawdown_annualized_return     -1.94      -7.19\n",
       "drawdown_recovery              -0.30      -1.42\n",
       "best_month                      7.62      22.70\n",
       "worst_month                    -6.82     -29.78\n",
       "sharpe_ratio                    0.86       0.50\n",
       "sortino_ratio                   0.97       0.65\n",
       "monthly_std                     1.53       4.31"
      ]
     },
     "execution_count": 18,
     "metadata": {},
     "output_type": "execute_result"
    },
    {
     "data": {
      "image/png": "[encoded data removed]",
      "text/plain": [
       "<Figure size 720x504 with 1 Axes>"
      ]
     },
     "metadata": {
      "needs_background": "light"
     },
     "output_type": "display_data"
    }
   ],
   "source": [
    "metrics = ('annual_return_rate',\n",
    "           'max_closed_out_drawdown',\n",
    "           'drawdown_annualized_return',\n",
    "           'drawdown_recovery',\n",
    "           'best_month',\n",
    "           'worst_month',\n",
    "           'sharpe_ratio',\n",
    "           'sortino_ratio',\n",
    "           'monthly_std')\n",
    "df = pf.plot_bar_graph(stats, benchmark.stats, *metrics)\n",
    "df"
   ]
  }
 ],
 "metadata": {
  "kernelspec": {
   "display_name": "Python 2",
   "language": "python",
   "name": "python2"
  },
  "language_info": {
   "codemirror_mode": {
    "name": "ipython",
    "version": 2
   },
   "file_extension": ".py",
   "mimetype": "text/x-python",
   "name": "python",
   "nbconvert_exporter": "python",
   "pygments_lexer": "ipython2",
   "version": "2.7.15+"
  },
  "latex_envs": {
   "LaTeX_envs_menu_present": true,
   "autoclose": false,
   "autocomplete": true,
   "bibliofile": "biblio.bib",
   "cite_by": "apalike",
   "current_citInitial": 1,
   "eqLabelWithNumbers": true,
   "eqNumInitial": 1,
   "hotkeys": {
    "equation": "Ctrl-E",
    "itemize": "Ctrl-I"
   },
   "labels_anchors": false,
   "latex_user_defs": false,
   "report_style_numbering": false,
   "user_envs_cfg": false
  }
 },
 "nbformat": 4,
 "nbformat_minor": 1
}
