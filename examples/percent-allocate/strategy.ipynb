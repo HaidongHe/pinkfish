{
 "cells": [
  {
   "cell_type": "markdown",
   "metadata": {},
   "source": [
    "# percent-allocate\n",
    "\n",
    "Maintain a percent allocation of a security in account"
   ]
  },
  {
   "cell_type": "code",
   "execution_count": 1,
   "metadata": {
    "ExecuteTime": {
     "end_time": "2020-02-17T03:15:03.515877Z",
     "start_time": "2020-02-17T03:15:02.423279Z"
    }
   },
   "outputs": [],
   "source": [
    "# other imports\n",
    "import pandas as pd\n",
    "import matplotlib.pyplot as plt\n",
    "import datetime\n",
    "from talib.abstract import *\n",
    "\n",
    "# project imports\n",
    "import pinkfish as pf\n",
    "\n",
    "# format price data\n",
    "pd.options.display.float_format = '{:0.2f}'.format\n",
    "\n",
    "%matplotlib inline"
   ]
  },
  {
   "cell_type": "code",
   "execution_count": 2,
   "metadata": {
    "ExecuteTime": {
     "end_time": "2020-02-17T03:15:03.531819Z",
     "start_time": "2020-02-17T03:15:03.525627Z"
    }
   },
   "outputs": [],
   "source": [
    "# set size of inline plots\n",
    "'''note: rcParams can't be in same cell as import matplotlib\n",
    "   or %matplotlib inline\n",
    "   \n",
    "   %matplotlib notebook: will lead to interactive plots embedded within\n",
    "   the notebook, you can zoom and resize the figure\n",
    "   \n",
    "   %matplotlib inline: only draw static images in the notebook\n",
    "'''\n",
    "plt.rcParams[\"figure.figsize\"] = (10, 7)"
   ]
  },
  {
   "cell_type": "code",
   "execution_count": 3,
   "metadata": {
    "ExecuteTime": {
     "end_time": "2020-02-17T03:15:03.543310Z",
     "start_time": "2020-02-17T03:15:03.536383Z"
    }
   },
   "outputs": [],
   "source": [
    "pf.DEBUG = False"
   ]
  },
  {
   "cell_type": "markdown",
   "metadata": {},
   "source": [
    "Some global data"
   ]
  },
  {
   "cell_type": "code",
   "execution_count": 4,
   "metadata": {
    "ExecuteTime": {
     "end_time": "2020-02-17T03:15:03.554304Z",
     "start_time": "2020-02-17T03:15:03.547215Z"
    }
   },
   "outputs": [],
   "source": [
    "#symbol = '^GSPC'\n",
    "symbol = 'SPY'\n",
    "#symbol = 'DIA'\n",
    "#symbol = 'QQQ'\n",
    "#symbol = 'IWM'\n",
    "#symbol = 'TLT'\n",
    "#symbol = 'GLD'\n",
    "#symbol = 'AAPL'\n",
    "#symbol = 'BBRY'\n",
    "capital = 10000\n",
    "start = datetime.datetime(1900, 1, 1)\n",
    "end = datetime.datetime.now()"
   ]
  },
  {
   "cell_type": "markdown",
   "metadata": {},
   "source": [
    "Define target_percent and band"
   ]
  },
  {
   "cell_type": "code",
   "execution_count": 5,
   "metadata": {
    "ExecuteTime": {
     "end_time": "2020-02-17T03:15:03.571198Z",
     "start_time": "2020-02-17T03:15:03.558479Z"
    }
   },
   "outputs": [],
   "source": [
    "target_percent = 50\n",
    "band = 3\n",
    "\n",
    "sma200_band = 3.5/100"
   ]
  },
  {
   "cell_type": "markdown",
   "metadata": {},
   "source": [
    "Define Strategy Class "
   ]
  },
  {
   "cell_type": "code",
   "execution_count": 6,
   "metadata": {
    "ExecuteTime": {
     "end_time": "2020-02-17T03:15:03.656429Z",
     "start_time": "2020-02-17T03:15:03.576982Z"
    },
    "scrolled": false
   },
   "outputs": [],
   "source": [
    "class Strategy(object):\n",
    "\n",
    "    def __init__(self, symbol, capital, start, end):\n",
    "        self._symbol = symbol\n",
    "        self._capital = capital\n",
    "        self._start = start\n",
    "        self._end = end\n",
    "\n",
    "    def _algo(self):\n",
    "        self._tlog.initialize(self._capital)\n",
    "\n",
    "        for i, row in enumerate(self._ts.itertuples()):\n",
    "\n",
    "            date = row.Index.to_pydatetime()\n",
    "            high = row.high; low = row.low; close = row.close; \n",
    "            end_flag = pf.is_last_row(self._ts, i)\n",
    "            shares = 0\n",
    "\n",
    "            # adjust shares\n",
    "            if ((self._tlog.percent(close) > target_percent+band or\n",
    "                self._tlog.percent(close) < target_percent-band)\n",
    "                and close > row.sma200*(1+sma200_band)\n",
    "                and not end_flag):\n",
    "                # adjust shares to target_percent\n",
    "                shares = self._tlog.adjust_percent(date, close, target_percent, self._symbol)   \n",
    "            # close out\n",
    "            elif (close < row.sma200*(1-sma200_band)\n",
    "                  or end_flag):\n",
    "                # adjust shares to 0\n",
    "                shares = self._tlog.adjust_percent(date, close, 0, self._symbol)\n",
    "\n",
    "            if shares > 0:\n",
    "                pf.DBG(\"{0} BUY  {1} {2} @ {3:.2f}\".format(\n",
    "                       date, shares, self._symbol, close))\n",
    "            elif shares < 0:\n",
    "                pf.DBG(\"{0} SELL {1} {2} @ {3:.2f}\".format(\n",
    "                       date, -shares, self._symbol, close))\n",
    "\n",
    "            # record daily balance\n",
    "            self._dbal.append(date, high, low, close, self._tlog.shares)\n",
    "\n",
    "    def run(self):\n",
    "        self._ts = pf.fetch_timeseries(self._symbol)\n",
    "        self._ts = pf.select_tradeperiod(self._ts, self._start, self._end,\n",
    "                                         use_adj=True, pad=False)\n",
    "\n",
    "        # Add technical indicator: 200 day sma\n",
    "        sma200 = SMA(self._ts, timeperiod=200)\n",
    "        self._ts['sma200'] = sma200\n",
    "        \n",
    "        self._ts, self._start = pf.finalize_timeseries(self._ts, self._start)\n",
    "\n",
    "        self._tlog = pf.TradeLog()\n",
    "        self._dbal = pf.DailyBal()\n",
    "\n",
    "        self._algo()\n",
    "\n",
    "    def get_logs(self):\n",
    "        \"\"\" return DataFrames \"\"\"\n",
    "        self.rlog = self._tlog.get_log_raw()\n",
    "        self.tlog = self._tlog.get_log()\n",
    "        self.dbal = self._dbal.get_log(self.tlog)\n",
    "        return self.rlog, self.tlog, self.dbal\n",
    "\n",
    "    def get_stats(self):\n",
    "        stats = pf.stats(self._ts, self.tlog, self.dbal, self._capital)\n",
    "        return stats"
   ]
  },
  {
   "cell_type": "markdown",
   "metadata": {},
   "source": [
    "Run Strategy"
   ]
  },
  {
   "cell_type": "code",
   "execution_count": 7,
   "metadata": {
    "ExecuteTime": {
     "end_time": "2020-02-17T03:15:03.909171Z",
     "start_time": "2020-02-17T03:15:03.666727Z"
    }
   },
   "outputs": [],
   "source": [
    "s = Strategy(symbol, capital, start, end)\n",
    "s.run()"
   ]
  },
  {
   "cell_type": "markdown",
   "metadata": {},
   "source": [
    "Retrieve log DataFrames"
   ]
  },
  {
   "cell_type": "code",
   "execution_count": 8,
   "metadata": {
    "ExecuteTime": {
     "end_time": "2020-02-17T03:15:04.638208Z",
     "start_time": "2020-02-17T03:15:03.919139Z"
    }
   },
   "outputs": [],
   "source": [
    "rlog, tlog, dbal = s.get_logs()\n",
    "stats = s.get_stats()"
   ]
  },
  {
   "cell_type": "code",
   "execution_count": 9,
   "metadata": {
    "ExecuteTime": {
     "end_time": "2020-02-17T03:15:04.688620Z",
     "start_time": "2020-02-17T03:15:04.649143Z"
    }
   },
   "outputs": [
    {
     "data": {
      "text/html": [
       "<div>\n",
       "<style scoped>\n",
       "    .dataframe tbody tr th:only-of-type {\n",
       "        vertical-align: middle;\n",
       "    }\n",
       "\n",
       "    .dataframe tbody tr th {\n",
       "        vertical-align: top;\n",
       "    }\n",
       "\n",
       "    .dataframe thead th {\n",
       "        text-align: right;\n",
       "    }\n",
       "</style>\n",
       "<table border=\"1\" class=\"dataframe\">\n",
       "  <thead>\n",
       "    <tr style=\"text-align: right;\">\n",
       "      <th></th>\n",
       "      <th>date</th>\n",
       "      <th>price</th>\n",
       "      <th>shares</th>\n",
       "      <th>entry_exit</th>\n",
       "      <th>symbol</th>\n",
       "    </tr>\n",
       "  </thead>\n",
       "  <tbody>\n",
       "    <tr>\n",
       "      <th>34</th>\n",
       "      <td>2015-08-21</td>\n",
       "      <td>179.89</td>\n",
       "      <td>80</td>\n",
       "      <td>exit</td>\n",
       "      <td>SPY</td>\n",
       "    </tr>\n",
       "    <tr>\n",
       "      <th>35</th>\n",
       "      <td>2016-04-01</td>\n",
       "      <td>191.24</td>\n",
       "      <td>77</td>\n",
       "      <td>entry</td>\n",
       "      <td>SPY</td>\n",
       "    </tr>\n",
       "    <tr>\n",
       "      <th>36</th>\n",
       "      <td>2017-02-09</td>\n",
       "      <td>216.59</td>\n",
       "      <td>5</td>\n",
       "      <td>exit</td>\n",
       "      <td>SPY</td>\n",
       "    </tr>\n",
       "    <tr>\n",
       "      <th>37</th>\n",
       "      <td>2017-11-28</td>\n",
       "      <td>250.42</td>\n",
       "      <td>5</td>\n",
       "      <td>exit</td>\n",
       "      <td>SPY</td>\n",
       "    </tr>\n",
       "    <tr>\n",
       "      <th>38</th>\n",
       "      <td>2018-10-29</td>\n",
       "      <td>255.95</td>\n",
       "      <td>67</td>\n",
       "      <td>exit</td>\n",
       "      <td>SPY</td>\n",
       "    </tr>\n",
       "    <tr>\n",
       "      <th>39</th>\n",
       "      <td>2019-03-18</td>\n",
       "      <td>276.68</td>\n",
       "      <td>61</td>\n",
       "      <td>entry</td>\n",
       "      <td>SPY</td>\n",
       "    </tr>\n",
       "    <tr>\n",
       "      <th>40</th>\n",
       "      <td>2019-12-26</td>\n",
       "      <td>321.05</td>\n",
       "      <td>4</td>\n",
       "      <td>exit</td>\n",
       "      <td>SPY</td>\n",
       "    </tr>\n",
       "    <tr>\n",
       "      <th>41</th>\n",
       "      <td>2020-03-09</td>\n",
       "      <td>272.63</td>\n",
       "      <td>57</td>\n",
       "      <td>exit</td>\n",
       "      <td>SPY</td>\n",
       "    </tr>\n",
       "    <tr>\n",
       "      <th>42</th>\n",
       "      <td>2020-06-03</td>\n",
       "      <td>312.18</td>\n",
       "      <td>54</td>\n",
       "      <td>entry</td>\n",
       "      <td>SPY</td>\n",
       "    </tr>\n",
       "    <tr>\n",
       "      <th>43</th>\n",
       "      <td>2020-06-08</td>\n",
       "      <td>323.20</td>\n",
       "      <td>54</td>\n",
       "      <td>exit</td>\n",
       "      <td>SPY</td>\n",
       "    </tr>\n",
       "  </tbody>\n",
       "</table>\n",
       "</div>"
      ],
      "text/plain": [
       "         date  price  shares entry_exit symbol\n",
       "34 2015-08-21 179.89      80       exit    SPY\n",
       "35 2016-04-01 191.24      77      entry    SPY\n",
       "36 2017-02-09 216.59       5       exit    SPY\n",
       "37 2017-11-28 250.42       5       exit    SPY\n",
       "38 2018-10-29 255.95      67       exit    SPY\n",
       "39 2019-03-18 276.68      61      entry    SPY\n",
       "40 2019-12-26 321.05       4       exit    SPY\n",
       "41 2020-03-09 272.63      57       exit    SPY\n",
       "42 2020-06-03 312.18      54      entry    SPY\n",
       "43 2020-06-08 323.20      54       exit    SPY"
      ]
     },
     "execution_count": 9,
     "metadata": {},
     "output_type": "execute_result"
    }
   ],
   "source": [
    "rlog.tail(10)"
   ]
  },
  {
   "cell_type": "code",
   "execution_count": 10,
   "metadata": {
    "ExecuteTime": {
     "end_time": "2020-02-17T03:15:04.736529Z",
     "start_time": "2020-02-17T03:15:04.697248Z"
    }
   },
   "outputs": [
    {
     "data": {
      "text/html": [
       "<div>\n",
       "<style scoped>\n",
       "    .dataframe tbody tr th:only-of-type {\n",
       "        vertical-align: middle;\n",
       "    }\n",
       "\n",
       "    .dataframe tbody tr th {\n",
       "        vertical-align: top;\n",
       "    }\n",
       "\n",
       "    .dataframe thead th {\n",
       "        text-align: right;\n",
       "    }\n",
       "</style>\n",
       "<table border=\"1\" class=\"dataframe\">\n",
       "  <thead>\n",
       "    <tr style=\"text-align: right;\">\n",
       "      <th></th>\n",
       "      <th>entry_date</th>\n",
       "      <th>entry_price</th>\n",
       "      <th>exit_date</th>\n",
       "      <th>exit_price</th>\n",
       "      <th>pl_points</th>\n",
       "      <th>pl_cash</th>\n",
       "      <th>qty</th>\n",
       "      <th>cumul_total</th>\n",
       "      <th>symbol</th>\n",
       "    </tr>\n",
       "  </thead>\n",
       "  <tbody>\n",
       "    <tr>\n",
       "      <th>23</th>\n",
       "      <td>2012-01-10</td>\n",
       "      <td>109.42</td>\n",
       "      <td>2013-05-14</td>\n",
       "      <td>143.75</td>\n",
       "      <td>34.33</td>\n",
       "      <td>205.98</td>\n",
       "      <td>6</td>\n",
       "      <td>13130.00</td>\n",
       "      <td>SPY</td>\n",
       "    </tr>\n",
       "    <tr>\n",
       "      <th>24</th>\n",
       "      <td>2012-01-10</td>\n",
       "      <td>109.42</td>\n",
       "      <td>2014-02-24</td>\n",
       "      <td>163.39</td>\n",
       "      <td>53.97</td>\n",
       "      <td>323.84</td>\n",
       "      <td>6</td>\n",
       "      <td>13453.85</td>\n",
       "      <td>SPY</td>\n",
       "    </tr>\n",
       "    <tr>\n",
       "      <th>25</th>\n",
       "      <td>2012-01-10</td>\n",
       "      <td>109.42</td>\n",
       "      <td>2014-12-26</td>\n",
       "      <td>187.78</td>\n",
       "      <td>78.36</td>\n",
       "      <td>391.82</td>\n",
       "      <td>5</td>\n",
       "      <td>13845.67</td>\n",
       "      <td>SPY</td>\n",
       "    </tr>\n",
       "    <tr>\n",
       "      <th>26</th>\n",
       "      <td>2012-01-10</td>\n",
       "      <td>109.42</td>\n",
       "      <td>2015-08-21</td>\n",
       "      <td>179.89</td>\n",
       "      <td>70.47</td>\n",
       "      <td>5637.78</td>\n",
       "      <td>80</td>\n",
       "      <td>19483.45</td>\n",
       "      <td>SPY</td>\n",
       "    </tr>\n",
       "    <tr>\n",
       "      <th>27</th>\n",
       "      <td>2016-04-01</td>\n",
       "      <td>191.24</td>\n",
       "      <td>2017-02-09</td>\n",
       "      <td>216.59</td>\n",
       "      <td>25.35</td>\n",
       "      <td>126.73</td>\n",
       "      <td>5</td>\n",
       "      <td>19610.18</td>\n",
       "      <td>SPY</td>\n",
       "    </tr>\n",
       "    <tr>\n",
       "      <th>28</th>\n",
       "      <td>2016-04-01</td>\n",
       "      <td>191.24</td>\n",
       "      <td>2017-11-28</td>\n",
       "      <td>250.42</td>\n",
       "      <td>59.17</td>\n",
       "      <td>295.87</td>\n",
       "      <td>5</td>\n",
       "      <td>19906.05</td>\n",
       "      <td>SPY</td>\n",
       "    </tr>\n",
       "    <tr>\n",
       "      <th>29</th>\n",
       "      <td>2016-04-01</td>\n",
       "      <td>191.24</td>\n",
       "      <td>2018-10-29</td>\n",
       "      <td>255.95</td>\n",
       "      <td>64.71</td>\n",
       "      <td>4335.34</td>\n",
       "      <td>67</td>\n",
       "      <td>24241.38</td>\n",
       "      <td>SPY</td>\n",
       "    </tr>\n",
       "    <tr>\n",
       "      <th>30</th>\n",
       "      <td>2019-03-18</td>\n",
       "      <td>276.68</td>\n",
       "      <td>2019-12-26</td>\n",
       "      <td>321.05</td>\n",
       "      <td>44.38</td>\n",
       "      <td>177.50</td>\n",
       "      <td>4</td>\n",
       "      <td>24418.89</td>\n",
       "      <td>SPY</td>\n",
       "    </tr>\n",
       "    <tr>\n",
       "      <th>31</th>\n",
       "      <td>2019-03-18</td>\n",
       "      <td>276.68</td>\n",
       "      <td>2020-03-09</td>\n",
       "      <td>272.63</td>\n",
       "      <td>-4.05</td>\n",
       "      <td>-230.84</td>\n",
       "      <td>57</td>\n",
       "      <td>24188.05</td>\n",
       "      <td>SPY</td>\n",
       "    </tr>\n",
       "    <tr>\n",
       "      <th>32</th>\n",
       "      <td>2020-06-03</td>\n",
       "      <td>312.18</td>\n",
       "      <td>2020-06-08</td>\n",
       "      <td>323.20</td>\n",
       "      <td>11.02</td>\n",
       "      <td>595.08</td>\n",
       "      <td>54</td>\n",
       "      <td>24783.13</td>\n",
       "      <td>SPY</td>\n",
       "    </tr>\n",
       "  </tbody>\n",
       "</table>\n",
       "</div>"
      ],
      "text/plain": [
       "   entry_date  entry_price  exit_date  exit_price  pl_points  pl_cash  qty  \\\n",
       "23 2012-01-10       109.42 2013-05-14      143.75      34.33   205.98    6   \n",
       "24 2012-01-10       109.42 2014-02-24      163.39      53.97   323.84    6   \n",
       "25 2012-01-10       109.42 2014-12-26      187.78      78.36   391.82    5   \n",
       "26 2012-01-10       109.42 2015-08-21      179.89      70.47  5637.78   80   \n",
       "27 2016-04-01       191.24 2017-02-09      216.59      25.35   126.73    5   \n",
       "28 2016-04-01       191.24 2017-11-28      250.42      59.17   295.87    5   \n",
       "29 2016-04-01       191.24 2018-10-29      255.95      64.71  4335.34   67   \n",
       "30 2019-03-18       276.68 2019-12-26      321.05      44.38   177.50    4   \n",
       "31 2019-03-18       276.68 2020-03-09      272.63      -4.05  -230.84   57   \n",
       "32 2020-06-03       312.18 2020-06-08      323.20      11.02   595.08   54   \n",
       "\n",
       "    cumul_total symbol  \n",
       "23     13130.00    SPY  \n",
       "24     13453.85    SPY  \n",
       "25     13845.67    SPY  \n",
       "26     19483.45    SPY  \n",
       "27     19610.18    SPY  \n",
       "28     19906.05    SPY  \n",
       "29     24241.38    SPY  \n",
       "30     24418.89    SPY  \n",
       "31     24188.05    SPY  \n",
       "32     24783.13    SPY  "
      ]
     },
     "execution_count": 10,
     "metadata": {},
     "output_type": "execute_result"
    }
   ],
   "source": [
    "tlog.tail(10)"
   ]
  },
  {
   "cell_type": "code",
   "execution_count": 11,
   "metadata": {
    "ExecuteTime": {
     "end_time": "2020-02-17T03:15:04.771082Z",
     "start_time": "2020-02-17T03:15:04.742132Z"
    }
   },
   "outputs": [
    {
     "data": {
      "text/html": [
       "<div>\n",
       "<style scoped>\n",
       "    .dataframe tbody tr th:only-of-type {\n",
       "        vertical-align: middle;\n",
       "    }\n",
       "\n",
       "    .dataframe tbody tr th {\n",
       "        vertical-align: top;\n",
       "    }\n",
       "\n",
       "    .dataframe thead th {\n",
       "        text-align: right;\n",
       "    }\n",
       "</style>\n",
       "<table border=\"1\" class=\"dataframe\">\n",
       "  <thead>\n",
       "    <tr style=\"text-align: right;\">\n",
       "      <th></th>\n",
       "      <th>high</th>\n",
       "      <th>low</th>\n",
       "      <th>close</th>\n",
       "      <th>shares</th>\n",
       "      <th>cash</th>\n",
       "      <th>state</th>\n",
       "    </tr>\n",
       "    <tr>\n",
       "      <th>date</th>\n",
       "      <th></th>\n",
       "      <th></th>\n",
       "      <th></th>\n",
       "      <th></th>\n",
       "      <th></th>\n",
       "      <th></th>\n",
       "    </tr>\n",
       "  </thead>\n",
       "  <tbody>\n",
       "    <tr>\n",
       "      <th>2020-06-02</th>\n",
       "      <td>34188.05</td>\n",
       "      <td>34188.05</td>\n",
       "      <td>34188.05</td>\n",
       "      <td>0</td>\n",
       "      <td>34188.05</td>\n",
       "      <td>-</td>\n",
       "    </tr>\n",
       "    <tr>\n",
       "      <th>2020-06-03</th>\n",
       "      <td>34244.21</td>\n",
       "      <td>34067.09</td>\n",
       "      <td>34188.05</td>\n",
       "      <td>54</td>\n",
       "      <td>17330.33</td>\n",
       "      <td>O</td>\n",
       "    </tr>\n",
       "    <tr>\n",
       "      <th>2020-06-04</th>\n",
       "      <td>34232.33</td>\n",
       "      <td>34020.65</td>\n",
       "      <td>34143.77</td>\n",
       "      <td>54</td>\n",
       "      <td>17330.33</td>\n",
       "      <td>-</td>\n",
       "    </tr>\n",
       "    <tr>\n",
       "      <th>2020-06-05</th>\n",
       "      <td>34678.91</td>\n",
       "      <td>34456.97</td>\n",
       "      <td>34574.69</td>\n",
       "      <td>54</td>\n",
       "      <td>17330.33</td>\n",
       "      <td>-</td>\n",
       "    </tr>\n",
       "    <tr>\n",
       "      <th>2020-06-08</th>\n",
       "      <td>34783.13</td>\n",
       "      <td>34783.13</td>\n",
       "      <td>34783.13</td>\n",
       "      <td>0</td>\n",
       "      <td>34783.13</td>\n",
       "      <td>X</td>\n",
       "    </tr>\n",
       "  </tbody>\n",
       "</table>\n",
       "</div>"
      ],
      "text/plain": [
       "               high      low    close  shares     cash state\n",
       "date                                                        \n",
       "2020-06-02 34188.05 34188.05 34188.05       0 34188.05     -\n",
       "2020-06-03 34244.21 34067.09 34188.05      54 17330.33     O\n",
       "2020-06-04 34232.33 34020.65 34143.77      54 17330.33     -\n",
       "2020-06-05 34678.91 34456.97 34574.69      54 17330.33     -\n",
       "2020-06-08 34783.13 34783.13 34783.13       0 34783.13     X"
      ]
     },
     "execution_count": 11,
     "metadata": {},
     "output_type": "execute_result"
    }
   ],
   "source": [
    "dbal.tail()"
   ]
  },
  {
   "cell_type": "markdown",
   "metadata": {},
   "source": [
    "Generate strategy stats - display all available stats"
   ]
  },
  {
   "cell_type": "code",
   "execution_count": 12,
   "metadata": {
    "ExecuteTime": {
     "end_time": "2020-02-17T03:15:04.829122Z",
     "start_time": "2020-02-17T03:15:04.786873Z"
    }
   },
   "outputs": [
    {
     "name": "stdout",
     "output_type": "stream",
     "text": [
      "start                                                   1993-11-11\n",
      "end                                                     2020-06-08\n",
      "beginning_balance                                            10000\n",
      "ending_balance                                            34783.13\n",
      "total_net_profit                                          24783.13\n",
      "gross_profit                                              25219.17\n",
      "gross_loss                                                 -436.04\n",
      "profit_factor                                                57.84\n",
      "return_on_initial_capital                                   247.83\n",
      "annual_return_rate                                            4.80\n",
      "trading_period                           26 years 6 months 28 days\n",
      "pct_time_in_market                                           75.10\n",
      "total_num_trades                                                33\n",
      "trades_per_year                                               1.24\n",
      "num_winning_trades                                              31\n",
      "num_losing_trades                                                2\n",
      "num_even_trades                                                  0\n",
      "pct_profitable_trades                                        93.94\n",
      "avg_profit_per_trade                                        751.00\n",
      "avg_profit_per_winning_trade                                813.52\n",
      "avg_loss_per_losing_trade                                  -218.02\n",
      "ratio_avg_profit_win_loss                                     3.73\n",
      "largest_profit_winning_trade                               5637.78\n",
      "largest_loss_losing_trade                                  -230.84\n",
      "num_winning_points                                          883.01\n",
      "num_losing_points                                            -5.22\n",
      "total_net_points                                            877.80\n",
      "avg_points                                                   26.60\n",
      "largest_points_winning_trade                                 78.36\n",
      "largest_points_losing_trade                                  -4.05\n",
      "avg_pct_gain_per_trade                                       39.32\n",
      "largest_pct_winning_trade                                   148.28\n",
      "largest_pct_losing_trade                                     -4.13\n",
      "max_consecutive_winning_trades                                  30\n",
      "max_consecutive_losing_trades                                    1\n",
      "avg_bars_winning_trades                                     445.23\n",
      "avg_bars_losing_trades                                      173.00\n",
      "max_closed_out_drawdown                                     -10.19\n",
      "max_closed_out_drawdown_start_date                      1998-07-17\n",
      "max_closed_out_drawdown_end_date                        1998-11-03\n",
      "max_closed_out_drawdown_recovery_date                   1999-04-12\n",
      "drawdown_recovery                                            -0.30\n",
      "drawdown_annualized_return                                   -2.12\n",
      "max_intra_day_drawdown                                      -10.80\n",
      "avg_yearly_closed_out_drawdown                               -4.18\n",
      "max_yearly_closed_out_drawdown                              -10.19\n",
      "avg_monthly_closed_out_drawdown                              -1.23\n",
      "max_monthly_closed_out_drawdown                              -9.61\n",
      "avg_weekly_closed_out_drawdown                               -0.49\n",
      "max_weekly_closed_out_drawdown                               -6.14\n",
      "avg_yearly_closed_out_runup                                   8.82\n",
      "max_yearly_closed_out_runup                                  25.48\n",
      "avg_monthly_closed_out_runup                                  1.55\n",
      "max_monthly_closed_out_runup                                  7.58\n",
      "avg_weekly_closed_out_runup                                   0.58\n",
      "max_weekly_closed_out_runup                                   4.70\n",
      "pct_profitable_years                                         74.91\n",
      "best_year                                                    24.51\n",
      "worst_year                                                   -5.20\n",
      "avg_year                                                      5.27\n",
      "annual_std                                                    5.59\n",
      "pct_profitable_months                                        52.28\n",
      "best_month                                                    7.58\n",
      "worst_month                                                  -9.61\n",
      "avg_month                                                     0.38\n",
      "monthly_std                                                   1.59\n",
      "pct_profitable_weeks                                         45.39\n",
      "best_week                                                     4.70\n",
      "worst_week                                                   -6.14\n",
      "avg_week                                                      0.10\n",
      "weekly_std                                                    0.84\n",
      "sharpe_ratio                                                  0.79\n",
      "sortino_ratio                                                 0.87\n",
      "dtype: object\n"
     ]
    }
   ],
   "source": [
    "pf.print_full(stats)"
   ]
  },
  {
   "cell_type": "markdown",
   "metadata": {},
   "source": [
    "Run Benchmark"
   ]
  },
  {
   "cell_type": "code",
   "execution_count": 13,
   "metadata": {
    "ExecuteTime": {
     "end_time": "2020-02-17T03:15:04.990269Z",
     "start_time": "2020-02-17T03:15:04.835240Z"
    }
   },
   "outputs": [
    {
     "name": "stdout",
     "output_type": "stream",
     "text": [
      "1993-11-11 00:00:00 BUY  215 SPY @ 46.38\n",
      "2020-06-08 00:00:00 SELL 215 SPY @ 323.20\n"
     ]
    }
   ],
   "source": [
    "benchmark = pf.Benchmark(symbol, capital, s._start, s._end)\n",
    "benchmark.run()"
   ]
  },
  {
   "cell_type": "markdown",
   "metadata": {},
   "source": [
    "Retrieve benchmark logs"
   ]
  },
  {
   "cell_type": "code",
   "execution_count": 14,
   "metadata": {
    "ExecuteTime": {
     "end_time": "2020-02-17T03:15:05.440284Z",
     "start_time": "2020-02-17T03:15:04.999217Z"
    }
   },
   "outputs": [],
   "source": [
    "benchmark.tlog, benchmark.dbal = benchmark.get_logs()"
   ]
  },
  {
   "cell_type": "markdown",
   "metadata": {},
   "source": [
    "Generate benchmark stats"
   ]
  },
  {
   "cell_type": "code",
   "execution_count": 15,
   "metadata": {
    "ExecuteTime": {
     "end_time": "2020-02-17T03:15:05.725638Z",
     "start_time": "2020-02-17T03:15:05.450579Z"
    },
    "scrolled": false
   },
   "outputs": [
    {
     "name": "stdout",
     "output_type": "stream",
     "text": [
      "start                                                   1993-11-11\n",
      "end                                                     2020-06-08\n",
      "beginning_balance                                            10000\n",
      "ending_balance                                            69517.38\n",
      "total_net_profit                                          59517.38\n",
      "gross_profit                                              59517.38\n",
      "gross_loss                                                    0.00\n",
      "profit_factor                                                 1000\n",
      "return_on_initial_capital                                   595.17\n",
      "annual_return_rate                                            7.57\n",
      "trading_period                           26 years 6 months 28 days\n",
      "pct_time_in_market                                          100.00\n",
      "total_num_trades                                                 1\n",
      "trades_per_year                                               0.04\n",
      "num_winning_trades                                               1\n",
      "num_losing_trades                                                0\n",
      "num_even_trades                                                  0\n",
      "pct_profitable_trades                                       100.00\n",
      "avg_profit_per_trade                                      59517.38\n",
      "avg_profit_per_winning_trade                              59517.38\n",
      "avg_loss_per_losing_trade                                        0\n",
      "ratio_avg_profit_win_loss                                     1000\n",
      "largest_profit_winning_trade                              59517.38\n",
      "largest_loss_losing_trade                                        0\n",
      "num_winning_points                                          276.83\n",
      "num_losing_points                                                0\n",
      "total_net_points                                            276.83\n",
      "avg_points                                                  276.83\n",
      "largest_points_winning_trade                                276.83\n",
      "largest_points_losing_trade                                      0\n",
      "avg_pct_gain_per_trade                                      596.93\n",
      "largest_pct_winning_trade                                   596.93\n",
      "largest_pct_losing_trade                                         0\n",
      "max_consecutive_winning_trades                                   1\n",
      "max_consecutive_losing_trades                                    0\n",
      "avg_bars_winning_trades                                    6690.00\n",
      "avg_bars_losing_trades                                           0\n",
      "max_closed_out_drawdown                                     -56.42\n",
      "max_closed_out_drawdown_start_date                      2007-10-09\n",
      "max_closed_out_drawdown_end_date                        2009-03-09\n",
      "max_closed_out_drawdown_recovery_date                   2013-03-14\n",
      "drawdown_recovery                                            -1.42\n",
      "drawdown_annualized_return                                   -7.45\n",
      "max_intra_day_drawdown                                      -57.35\n",
      "avg_yearly_closed_out_drawdown                              -14.14\n",
      "max_yearly_closed_out_drawdown                              -52.34\n",
      "avg_monthly_closed_out_drawdown                              -4.05\n",
      "max_monthly_closed_out_drawdown                             -31.38\n",
      "avg_weekly_closed_out_drawdown                               -1.65\n",
      "max_weekly_closed_out_drawdown                              -19.77\n",
      "avg_yearly_closed_out_runup                                  23.68\n",
      "max_yearly_closed_out_runup                                  68.79\n",
      "avg_monthly_closed_out_runup                                  4.77\n",
      "max_monthly_closed_out_runup                                 28.55\n",
      "avg_weekly_closed_out_runup                                   1.85\n",
      "max_weekly_closed_out_runup                                  19.37\n",
      "pct_profitable_years                                         77.90\n",
      "best_year                                                    67.92\n",
      "worst_year                                                  -48.54\n",
      "avg_year                                                      8.99\n",
      "annual_std                                                   16.61\n",
      "pct_profitable_months                                        63.13\n",
      "best_month                                                   23.06\n",
      "worst_month                                                 -31.38\n",
      "avg_month                                                     0.67\n",
      "monthly_std                                                   4.54\n",
      "pct_profitable_weeks                                         57.43\n",
      "best_week                                                    19.37\n",
      "worst_week                                                  -19.77\n",
      "avg_week                                                      0.17\n",
      "weekly_std                                                    2.43\n",
      "sharpe_ratio                                                  0.48\n",
      "sortino_ratio                                                 0.61\n",
      "dtype: object\n"
     ]
    }
   ],
   "source": [
    "benchmark.stats = benchmark.get_stats()\n",
    "pf.print_full(benchmark.stats)"
   ]
  },
  {
   "cell_type": "markdown",
   "metadata": {},
   "source": [
    "Plot Equity Curves: Strategy vs Benchmark"
   ]
  },
  {
   "cell_type": "code",
   "execution_count": 16,
   "metadata": {
    "ExecuteTime": {
     "end_time": "2020-02-17T03:15:06.060402Z",
     "start_time": "2020-02-17T03:15:05.735142Z"
    }
   },
   "outputs": [
    {
     "data": {
      "image/png": "[encoded data removed]",
      "text/plain": [
       "<Figure size 720x504 with 1 Axes>"
      ]
     },
     "metadata": {
      "needs_background": "light"
     },
     "output_type": "display_data"
    }
   ],
   "source": [
    "pf.plot_equity_curve(dbal, benchmark=benchmark.dbal)"
   ]
  },
  {
   "cell_type": "markdown",
   "metadata": {},
   "source": [
    "Plot Trades"
   ]
  },
  {
   "cell_type": "code",
   "execution_count": 17,
   "metadata": {
    "ExecuteTime": {
     "end_time": "2020-02-17T03:15:06.372872Z",
     "start_time": "2020-02-17T03:15:06.065643Z"
    },
    "scrolled": false
   },
   "outputs": [
    {
     "data": {
      "image/png": "[encoded data removed]",
      "text/plain": [
       "<Figure size 720x504 with 1 Axes>"
      ]
     },
     "metadata": {
      "needs_background": "light"
     },
     "output_type": "display_data"
    }
   ],
   "source": [
    "pf.plot_trades(dbal, benchmark=benchmark.dbal)"
   ]
  },
  {
   "cell_type": "markdown",
   "metadata": {},
   "source": [
    "Bar Graph: Strategy vs Benchmark"
   ]
  },
  {
   "cell_type": "code",
   "execution_count": 18,
   "metadata": {
    "ExecuteTime": {
     "end_time": "2020-02-17T03:15:06.833919Z",
     "start_time": "2020-02-17T03:15:06.380990Z"
    },
    "scrolled": false
   },
   "outputs": [
    {
     "data": {
      "text/html": [
       "<div>\n",
       "<style scoped>\n",
       "    .dataframe tbody tr th:only-of-type {\n",
       "        vertical-align: middle;\n",
       "    }\n",
       "\n",
       "    .dataframe tbody tr th {\n",
       "        vertical-align: top;\n",
       "    }\n",
       "\n",
       "    .dataframe thead th {\n",
       "        text-align: right;\n",
       "    }\n",
       "</style>\n",
       "<table border=\"1\" class=\"dataframe\">\n",
       "  <thead>\n",
       "    <tr style=\"text-align: right;\">\n",
       "      <th></th>\n",
       "      <th>strategy</th>\n",
       "      <th>benchmark</th>\n",
       "    </tr>\n",
       "  </thead>\n",
       "  <tbody>\n",
       "    <tr>\n",
       "      <th>annual_return_rate</th>\n",
       "      <td>4.80</td>\n",
       "      <td>7.57</td>\n",
       "    </tr>\n",
       "    <tr>\n",
       "      <th>max_closed_out_drawdown</th>\n",
       "      <td>-10.19</td>\n",
       "      <td>-56.42</td>\n",
       "    </tr>\n",
       "    <tr>\n",
       "      <th>drawdown_annualized_return</th>\n",
       "      <td>-2.12</td>\n",
       "      <td>-7.45</td>\n",
       "    </tr>\n",
       "    <tr>\n",
       "      <th>drawdown_recovery</th>\n",
       "      <td>-0.30</td>\n",
       "      <td>-1.42</td>\n",
       "    </tr>\n",
       "    <tr>\n",
       "      <th>best_month</th>\n",
       "      <td>7.58</td>\n",
       "      <td>23.06</td>\n",
       "    </tr>\n",
       "    <tr>\n",
       "      <th>worst_month</th>\n",
       "      <td>-9.61</td>\n",
       "      <td>-31.38</td>\n",
       "    </tr>\n",
       "    <tr>\n",
       "      <th>sharpe_ratio</th>\n",
       "      <td>0.79</td>\n",
       "      <td>0.48</td>\n",
       "    </tr>\n",
       "    <tr>\n",
       "      <th>sortino_ratio</th>\n",
       "      <td>0.87</td>\n",
       "      <td>0.61</td>\n",
       "    </tr>\n",
       "    <tr>\n",
       "      <th>monthly_std</th>\n",
       "      <td>1.59</td>\n",
       "      <td>4.54</td>\n",
       "    </tr>\n",
       "  </tbody>\n",
       "</table>\n",
       "</div>"
      ],
      "text/plain": [
       "                            strategy  benchmark\n",
       "annual_return_rate              4.80       7.57\n",
       "max_closed_out_drawdown       -10.19     -56.42\n",
       "drawdown_annualized_return     -2.12      -7.45\n",
       "drawdown_recovery              -0.30      -1.42\n",
       "best_month                      7.58      23.06\n",
       "worst_month                    -9.61     -31.38\n",
       "sharpe_ratio                    0.79       0.48\n",
       "sortino_ratio                   0.87       0.61\n",
       "monthly_std                     1.59       4.54"
      ]
     },
     "execution_count": 18,
     "metadata": {},
     "output_type": "execute_result"
    },
    {
     "data": {
      "image/png": "[encoded data removed]",
      "text/plain": [
       "<Figure size 720x504 with 1 Axes>"
      ]
     },
     "metadata": {
      "needs_background": "light"
     },
     "output_type": "display_data"
    }
   ],
   "source": [
    "metrics = ('annual_return_rate',\n",
    "           'max_closed_out_drawdown',\n",
    "           'drawdown_annualized_return',\n",
    "           'drawdown_recovery',\n",
    "           'best_month',\n",
    "           'worst_month',\n",
    "           'sharpe_ratio',\n",
    "           'sortino_ratio',\n",
    "           'monthly_std')\n",
    "df = pf.plot_bar_graph(stats, benchmark.stats, *metrics)\n",
    "df"
   ]
  }
 ],
 "metadata": {
  "kernelspec": {
   "display_name": "Python 3",
   "language": "python",
   "name": "python3"
  },
  "language_info": {
   "codemirror_mode": {
    "name": "ipython",
    "version": 3
   },
   "file_extension": ".py",
   "mimetype": "text/x-python",
   "name": "python",
   "nbconvert_exporter": "python",
   "pygments_lexer": "ipython3",
   "version": "3.8.2"
  },
  "latex_envs": {
   "LaTeX_envs_menu_present": true,
   "autoclose": false,
   "autocomplete": true,
   "bibliofile": "biblio.bib",
   "cite_by": "apalike",
   "current_citInitial": 1,
   "eqLabelWithNumbers": true,
   "eqNumInitial": 1,
   "hotkeys": {
    "equation": "Ctrl-E",
    "itemize": "Ctrl-I"
   },
   "labels_anchors": false,
   "latex_user_defs": false,
   "report_style_numbering": false,
   "user_envs_cfg": false
  }
 },
 "nbformat": 4,
 "nbformat_minor": 1
}
