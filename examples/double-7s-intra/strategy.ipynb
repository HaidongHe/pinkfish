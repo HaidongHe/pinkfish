{
 "cells": [
  {
   "cell_type": "markdown",
   "metadata": {},
   "source": [
    "# Double 7's Intra (Short Term Trading Strategies that Work)\n",
    "\n",
    "    1. The SPY is above its 200-day moving average\n",
    "    2. The SPY makes an intraday 7-day low, buy.\n",
    "    3. If the SPY makes an intraday 7-day high, sell your long position."
   ]
  },
  {
   "cell_type": "code",
   "execution_count": 1,
   "metadata": {
    "ExecuteTime": {
     "end_time": "2020-02-16T23:52:21.479202Z",
     "start_time": "2020-02-16T23:52:20.767563Z"
    }
   },
   "outputs": [],
   "source": [
    "# other imports\n",
    "import pandas as pd\n",
    "import matplotlib.pyplot as plt\n",
    "import datetime\n",
    "from talib.abstract import *\n",
    "\n",
    "# project imports\n",
    "import pinkfish as pf\n",
    "import strategy\n",
    "\n",
    "# format price data\n",
    "pd.options.display.float_format = '{:0.2f}'.format\n",
    "\n",
    "%matplotlib inline"
   ]
  },
  {
   "cell_type": "code",
   "execution_count": 2,
   "metadata": {
    "ExecuteTime": {
     "end_time": "2020-02-16T23:52:21.494839Z",
     "start_time": "2020-02-16T23:52:21.488791Z"
    }
   },
   "outputs": [],
   "source": [
    "# set size of inline plots\n",
    "'''note: rcParams can't be in same cell as import matplotlib\n",
    "   or %matplotlib inline\n",
    "   \n",
    "   %matplotlib notebook: will lead to interactive plots embedded within\n",
    "   the notebook, you can zoom and resize the figure\n",
    "   \n",
    "   %matplotlib inline: only draw static images in the notebook\n",
    "'''\n",
    "plt.rcParams[\"figure.figsize\"] = (10, 7)"
   ]
  },
  {
   "cell_type": "markdown",
   "metadata": {},
   "source": [
    "Some global data"
   ]
  },
  {
   "cell_type": "code",
   "execution_count": 3,
   "metadata": {
    "ExecuteTime": {
     "end_time": "2020-02-16T23:52:21.509103Z",
     "start_time": "2020-02-16T23:52:21.501572Z"
    }
   },
   "outputs": [],
   "source": [
    "symbol = '^GSPC'\n",
    "#symbol = 'SPY'\n",
    "#symbol = 'DIA'\n",
    "#symbol = 'QQQ'\n",
    "#symbol = 'IWM'\n",
    "#symbol = 'TLT'\n",
    "#symbol = 'GLD'\n",
    "#symbol = 'AAPL'\n",
    "#symbol = 'BBRY'\n",
    "#symbol = 'GDX'\n",
    "capital = 10000\n",
    "start = datetime.datetime(2010, 1, 1)\n",
    "end = datetime.datetime.now()\n",
    "use_adj = False"
   ]
  },
  {
   "cell_type": "markdown",
   "metadata": {},
   "source": [
    "Define high low trade periods"
   ]
  },
  {
   "cell_type": "code",
   "execution_count": 4,
   "metadata": {
    "ExecuteTime": {
     "end_time": "2020-02-16T23:52:21.520231Z",
     "start_time": "2020-02-16T23:52:21.514883Z"
    }
   },
   "outputs": [],
   "source": [
    "period = 7"
   ]
  },
  {
   "cell_type": "markdown",
   "metadata": {},
   "source": [
    "Run Strategy"
   ]
  },
  {
   "cell_type": "code",
   "execution_count": 5,
   "metadata": {
    "ExecuteTime": {
     "end_time": "2020-02-16T23:52:21.919175Z",
     "start_time": "2020-02-16T23:52:21.528628Z"
    },
    "scrolled": true
   },
   "outputs": [],
   "source": [
    "s = strategy.Strategy(symbol, capital, start, end, use_adj, period)\n",
    "s.run()"
   ]
  },
  {
   "cell_type": "markdown",
   "metadata": {},
   "source": [
    "Retrieve log DataFrames"
   ]
  },
  {
   "cell_type": "code",
   "execution_count": 6,
   "metadata": {
    "ExecuteTime": {
     "end_time": "2020-02-16T23:52:22.319518Z",
     "start_time": "2020-02-16T23:52:21.926712Z"
    }
   },
   "outputs": [],
   "source": [
    "tlog, dbal = s.get_logs()\n",
    "stats = s.get_stats()"
   ]
  },
  {
   "cell_type": "code",
   "execution_count": 7,
   "metadata": {
    "ExecuteTime": {
     "end_time": "2020-02-16T23:52:22.364396Z",
     "start_time": "2020-02-16T23:52:22.328566Z"
    }
   },
   "outputs": [
    {
     "data": {
      "text/html": [
       "<div>\n",
       "<style scoped>\n",
       "    .dataframe tbody tr th:only-of-type {\n",
       "        vertical-align: middle;\n",
       "    }\n",
       "\n",
       "    .dataframe tbody tr th {\n",
       "        vertical-align: top;\n",
       "    }\n",
       "\n",
       "    .dataframe thead th {\n",
       "        text-align: right;\n",
       "    }\n",
       "</style>\n",
       "<table border=\"1\" class=\"dataframe\">\n",
       "  <thead>\n",
       "    <tr style=\"text-align: right;\">\n",
       "      <th></th>\n",
       "      <th>entry_date</th>\n",
       "      <th>entry_price</th>\n",
       "      <th>exit_date</th>\n",
       "      <th>exit_price</th>\n",
       "      <th>pl_points</th>\n",
       "      <th>pl_cash</th>\n",
       "      <th>qty</th>\n",
       "      <th>cumul_total</th>\n",
       "      <th>symbol</th>\n",
       "    </tr>\n",
       "  </thead>\n",
       "  <tbody>\n",
       "    <tr>\n",
       "      <th>143</th>\n",
       "      <td>2019-06-27</td>\n",
       "      <td>2919.66</td>\n",
       "      <td>2019-07-01</td>\n",
       "      <td>2971.41</td>\n",
       "      <td>51.75</td>\n",
       "      <td>207.00</td>\n",
       "      <td>4</td>\n",
       "      <td>3951.59</td>\n",
       "      <td></td>\n",
       "    </tr>\n",
       "    <tr>\n",
       "      <th>144</th>\n",
       "      <td>2019-07-18</td>\n",
       "      <td>2978.87</td>\n",
       "      <td>2019-07-24</td>\n",
       "      <td>3017.80</td>\n",
       "      <td>38.93</td>\n",
       "      <td>155.72</td>\n",
       "      <td>4</td>\n",
       "      <td>4107.31</td>\n",
       "      <td></td>\n",
       "    </tr>\n",
       "    <tr>\n",
       "      <th>145</th>\n",
       "      <td>2019-07-31</td>\n",
       "      <td>2990.71</td>\n",
       "      <td>2019-08-30</td>\n",
       "      <td>2939.08</td>\n",
       "      <td>-51.63</td>\n",
       "      <td>-206.52</td>\n",
       "      <td>4</td>\n",
       "      <td>3900.79</td>\n",
       "      <td></td>\n",
       "    </tr>\n",
       "    <tr>\n",
       "      <th>146</th>\n",
       "      <td>2019-09-18</td>\n",
       "      <td>2979.39</td>\n",
       "      <td>2019-09-19</td>\n",
       "      <td>3020.74</td>\n",
       "      <td>41.35</td>\n",
       "      <td>165.40</td>\n",
       "      <td>4</td>\n",
       "      <td>4066.19</td>\n",
       "      <td></td>\n",
       "    </tr>\n",
       "    <tr>\n",
       "      <th>147</th>\n",
       "      <td>2019-09-20</td>\n",
       "      <td>3000.93</td>\n",
       "      <td>2019-10-11</td>\n",
       "      <td>2963.07</td>\n",
       "      <td>-37.86</td>\n",
       "      <td>-151.44</td>\n",
       "      <td>4</td>\n",
       "      <td>3914.75</td>\n",
       "      <td></td>\n",
       "    </tr>\n",
       "    <tr>\n",
       "      <th>148</th>\n",
       "      <td>2019-11-21</td>\n",
       "      <td>3098.06</td>\n",
       "      <td>2019-11-25</td>\n",
       "      <td>3127.64</td>\n",
       "      <td>29.58</td>\n",
       "      <td>118.32</td>\n",
       "      <td>4</td>\n",
       "      <td>4033.07</td>\n",
       "      <td></td>\n",
       "    </tr>\n",
       "    <tr>\n",
       "      <th>149</th>\n",
       "      <td>2019-12-03</td>\n",
       "      <td>3087.41</td>\n",
       "      <td>2019-12-12</td>\n",
       "      <td>3150.60</td>\n",
       "      <td>63.19</td>\n",
       "      <td>252.76</td>\n",
       "      <td>4</td>\n",
       "      <td>4285.83</td>\n",
       "      <td></td>\n",
       "    </tr>\n",
       "    <tr>\n",
       "      <th>150</th>\n",
       "      <td>2020-01-03</td>\n",
       "      <td>3226.36</td>\n",
       "      <td>2020-01-08</td>\n",
       "      <td>3258.14</td>\n",
       "      <td>31.78</td>\n",
       "      <td>127.12</td>\n",
       "      <td>4</td>\n",
       "      <td>4412.95</td>\n",
       "      <td></td>\n",
       "    </tr>\n",
       "    <tr>\n",
       "      <th>151</th>\n",
       "      <td>2020-01-24</td>\n",
       "      <td>3294.25</td>\n",
       "      <td>2020-02-05</td>\n",
       "      <td>3324.91</td>\n",
       "      <td>30.66</td>\n",
       "      <td>122.64</td>\n",
       "      <td>4</td>\n",
       "      <td>4535.59</td>\n",
       "      <td></td>\n",
       "    </tr>\n",
       "    <tr>\n",
       "      <th>152</th>\n",
       "      <td>2020-02-20</td>\n",
       "      <td>3352.26</td>\n",
       "      <td>2020-03-25</td>\n",
       "      <td>2562.98</td>\n",
       "      <td>-789.28</td>\n",
       "      <td>-3157.12</td>\n",
       "      <td>4</td>\n",
       "      <td>1378.47</td>\n",
       "      <td></td>\n",
       "    </tr>\n",
       "  </tbody>\n",
       "</table>\n",
       "</div>"
      ],
      "text/plain": [
       "    entry_date  entry_price  exit_date  exit_price  pl_points  pl_cash  qty  \\\n",
       "143 2019-06-27      2919.66 2019-07-01     2971.41      51.75   207.00    4   \n",
       "144 2019-07-18      2978.87 2019-07-24     3017.80      38.93   155.72    4   \n",
       "145 2019-07-31      2990.71 2019-08-30     2939.08     -51.63  -206.52    4   \n",
       "146 2019-09-18      2979.39 2019-09-19     3020.74      41.35   165.40    4   \n",
       "147 2019-09-20      3000.93 2019-10-11     2963.07     -37.86  -151.44    4   \n",
       "148 2019-11-21      3098.06 2019-11-25     3127.64      29.58   118.32    4   \n",
       "149 2019-12-03      3087.41 2019-12-12     3150.60      63.19   252.76    4   \n",
       "150 2020-01-03      3226.36 2020-01-08     3258.14      31.78   127.12    4   \n",
       "151 2020-01-24      3294.25 2020-02-05     3324.91      30.66   122.64    4   \n",
       "152 2020-02-20      3352.26 2020-03-25     2562.98    -789.28 -3157.12    4   \n",
       "\n",
       "     cumul_total symbol  \n",
       "143      3951.59         \n",
       "144      4107.31         \n",
       "145      3900.79         \n",
       "146      4066.19         \n",
       "147      3914.75         \n",
       "148      4033.07         \n",
       "149      4285.83         \n",
       "150      4412.95         \n",
       "151      4535.59         \n",
       "152      1378.47         "
      ]
     },
     "execution_count": 7,
     "metadata": {},
     "output_type": "execute_result"
    }
   ],
   "source": [
    "tlog.tail(10)"
   ]
  },
  {
   "cell_type": "code",
   "execution_count": 8,
   "metadata": {
    "ExecuteTime": {
     "end_time": "2020-02-16T23:52:22.402247Z",
     "start_time": "2020-02-16T23:52:22.371571Z"
    },
    "scrolled": true
   },
   "outputs": [
    {
     "data": {
      "text/html": [
       "<div>\n",
       "<style scoped>\n",
       "    .dataframe tbody tr th:only-of-type {\n",
       "        vertical-align: middle;\n",
       "    }\n",
       "\n",
       "    .dataframe tbody tr th {\n",
       "        vertical-align: top;\n",
       "    }\n",
       "\n",
       "    .dataframe thead th {\n",
       "        text-align: right;\n",
       "    }\n",
       "</style>\n",
       "<table border=\"1\" class=\"dataframe\">\n",
       "  <thead>\n",
       "    <tr style=\"text-align: right;\">\n",
       "      <th></th>\n",
       "      <th>high</th>\n",
       "      <th>low</th>\n",
       "      <th>close</th>\n",
       "      <th>shares</th>\n",
       "      <th>cash</th>\n",
       "      <th>state</th>\n",
       "    </tr>\n",
       "    <tr>\n",
       "      <th>date</th>\n",
       "      <th></th>\n",
       "      <th></th>\n",
       "      <th></th>\n",
       "      <th></th>\n",
       "      <th></th>\n",
       "      <th></th>\n",
       "    </tr>\n",
       "  </thead>\n",
       "  <tbody>\n",
       "    <tr>\n",
       "      <th>2010-01-04</th>\n",
       "      <td>10138.48</td>\n",
       "      <td>10000.00</td>\n",
       "      <td>10131.44</td>\n",
       "      <td>8</td>\n",
       "      <td>1067.52</td>\n",
       "      <td>O</td>\n",
       "    </tr>\n",
       "    <tr>\n",
       "      <th>2010-01-05</th>\n",
       "      <td>10138.48</td>\n",
       "      <td>10138.48</td>\n",
       "      <td>10138.48</td>\n",
       "      <td>0</td>\n",
       "      <td>10138.48</td>\n",
       "      <td>X</td>\n",
       "    </tr>\n",
       "    <tr>\n",
       "      <th>2010-01-06</th>\n",
       "      <td>10138.48</td>\n",
       "      <td>10138.48</td>\n",
       "      <td>10138.48</td>\n",
       "      <td>0</td>\n",
       "      <td>10138.48</td>\n",
       "      <td>-</td>\n",
       "    </tr>\n",
       "    <tr>\n",
       "      <th>2010-01-07</th>\n",
       "      <td>10138.48</td>\n",
       "      <td>10138.48</td>\n",
       "      <td>10138.48</td>\n",
       "      <td>0</td>\n",
       "      <td>10138.48</td>\n",
       "      <td>-</td>\n",
       "    </tr>\n",
       "    <tr>\n",
       "      <th>2010-01-08</th>\n",
       "      <td>10138.48</td>\n",
       "      <td>10138.48</td>\n",
       "      <td>10138.48</td>\n",
       "      <td>0</td>\n",
       "      <td>10138.48</td>\n",
       "      <td>-</td>\n",
       "    </tr>\n",
       "  </tbody>\n",
       "</table>\n",
       "</div>"
      ],
      "text/plain": [
       "               high      low    close  shares     cash state\n",
       "date                                                        \n",
       "2010-01-04 10138.48 10000.00 10131.44       8  1067.52     O\n",
       "2010-01-05 10138.48 10138.48 10138.48       0 10138.48     X\n",
       "2010-01-06 10138.48 10138.48 10138.48       0 10138.48     -\n",
       "2010-01-07 10138.48 10138.48 10138.48       0 10138.48     -\n",
       "2010-01-08 10138.48 10138.48 10138.48       0 10138.48     -"
      ]
     },
     "execution_count": 8,
     "metadata": {},
     "output_type": "execute_result"
    }
   ],
   "source": [
    "dbal.head()"
   ]
  },
  {
   "cell_type": "markdown",
   "metadata": {},
   "source": [
    "Generate strategy stats - display all available stats"
   ]
  },
  {
   "cell_type": "code",
   "execution_count": 9,
   "metadata": {
    "ExecuteTime": {
     "end_time": "2020-02-16T23:52:22.449428Z",
     "start_time": "2020-02-16T23:52:22.406856Z"
    }
   },
   "outputs": [
    {
     "name": "stdout",
     "output_type": "stream",
     "text": [
      "start                                                  2010-01-04\n",
      "end                                                    2020-06-08\n",
      "beginning_balance                                           10000\n",
      "ending_balance                                           11378.47\n",
      "total_net_profit                                          1378.47\n",
      "gross_profit                                             12686.18\n",
      "gross_loss                                              -11307.71\n",
      "profit_factor                                                1.12\n",
      "return_on_initial_capital                                   13.78\n",
      "annual_return_rate                                           1.25\n",
      "trading_period                           10 years 5 months 4 days\n",
      "pct_time_in_market                                          46.25\n",
      "total_num_trades                                              153\n",
      "trades_per_year                                             14.67\n",
      "num_winning_trades                                            117\n",
      "num_losing_trades                                              36\n",
      "num_even_trades                                                 0\n",
      "pct_profitable_trades                                       76.47\n",
      "avg_profit_per_trade                                         9.01\n",
      "avg_profit_per_winning_trade                               108.43\n",
      "avg_loss_per_losing_trade                                 -314.10\n",
      "ratio_avg_profit_win_loss                                    0.35\n",
      "largest_profit_winning_trade                               273.70\n",
      "largest_loss_losing_trade                                -3157.12\n",
      "num_winning_points                                        2255.87\n",
      "num_losing_points                                        -2234.77\n",
      "total_net_points                                            21.10\n",
      "avg_points                                                   0.14\n",
      "largest_points_winning_trade                                63.19\n",
      "largest_points_losing_trade                               -789.28\n",
      "avg_pct_gain_per_trade                                       0.12\n",
      "largest_pct_winning_trade                                    2.92\n",
      "largest_pct_losing_trade                                   -23.54\n",
      "max_consecutive_winning_trades                                 16\n",
      "max_consecutive_losing_trades                                   4\n",
      "avg_bars_winning_trades                                      6.20\n",
      "avg_bars_losing_trades                                      17.83\n",
      "max_closed_out_drawdown                                    -31.08\n",
      "max_closed_out_drawdown_start_date                     2020-02-20\n",
      "max_closed_out_drawdown_end_date                       2020-03-23\n",
      "max_closed_out_drawdown_recovery_date           Not Recovered Yet\n",
      "drawdown_recovery                                           -0.09\n",
      "drawdown_annualized_return                                 -24.94\n",
      "max_intra_day_drawdown                                     -32.62\n",
      "avg_yearly_closed_out_drawdown                              -8.30\n",
      "max_yearly_closed_out_drawdown                             -31.08\n",
      "avg_monthly_closed_out_drawdown                             -2.17\n",
      "max_monthly_closed_out_drawdown                            -28.54\n",
      "avg_weekly_closed_out_drawdown                              -0.75\n",
      "max_weekly_closed_out_drawdown                             -16.44\n",
      "avg_yearly_closed_out_runup                                 10.72\n",
      "max_yearly_closed_out_runup                                 21.99\n",
      "avg_monthly_closed_out_runup                                 2.20\n",
      "max_monthly_closed_out_runup                                12.92\n",
      "avg_weekly_closed_out_runup                                  0.80\n",
      "max_weekly_closed_out_runup                                 12.92\n",
      "pct_profitable_years                                        69.24\n",
      "best_year                                                   21.25\n",
      "worst_year                                                 -27.16\n",
      "avg_year                                                     3.48\n",
      "annual_std                                                   6.73\n",
      "pct_profitable_months                                       60.15\n",
      "best_month                                                  12.92\n",
      "worst_month                                                -28.54\n",
      "avg_month                                                    0.14\n",
      "monthly_std                                                  2.82\n",
      "pct_profitable_weeks                                        43.70\n",
      "best_week                                                   12.92\n",
      "worst_week                                                 -16.44\n",
      "avg_week                                                     0.03\n",
      "weekly_std                                                   1.52\n",
      "sharpe_ratio                                                 0.15\n",
      "sortino_ratio                                                0.12\n",
      "dtype: object\n"
     ]
    }
   ],
   "source": [
    "pf.print_full(stats)"
   ]
  },
  {
   "cell_type": "markdown",
   "metadata": {},
   "source": [
    "Run Benchmark, Retrieve benchmark logs, and Generate benchmark stats"
   ]
  },
  {
   "cell_type": "code",
   "execution_count": 10,
   "metadata": {
    "ExecuteTime": {
     "end_time": "2020-02-16T23:52:22.932780Z",
     "start_time": "2020-02-16T23:52:22.455685Z"
    }
   },
   "outputs": [
    {
     "name": "stdout",
     "output_type": "stream",
     "text": [
      "2010-01-04 00:00:00 BUY  8 ^GSPC @ 1132.99\n",
      "2020-06-08 00:00:00 SELL 8 ^GSPC @ 3232.39\n"
     ]
    }
   ],
   "source": [
    "benchmark = pf.Benchmark(symbol, capital, s._start, s._end, use_adj=s._use_adj)\n",
    "benchmark.run()\n",
    "benchmark.tlog, benchmark.dbal = benchmark.get_logs()\n",
    "benchmark.stats = benchmark.get_stats()"
   ]
  },
  {
   "cell_type": "markdown",
   "metadata": {},
   "source": [
    "Plot Equity Curves: Strategy vs Benchmark"
   ]
  },
  {
   "cell_type": "code",
   "execution_count": 11,
   "metadata": {
    "ExecuteTime": {
     "end_time": "2020-02-16T23:52:23.247394Z",
     "start_time": "2020-02-16T23:52:22.943361Z"
    },
    "scrolled": true
   },
   "outputs": [
    {
     "data": {
      "image/png": "[encoded data removed]",
      "text/plain": [
       "<Figure size 720x504 with 1 Axes>"
      ]
     },
     "metadata": {
      "needs_background": "light"
     },
     "output_type": "display_data"
    }
   ],
   "source": [
    "pf.plot_equity_curve(dbal, benchmark=benchmark.dbal)"
   ]
  },
  {
   "cell_type": "markdown",
   "metadata": {},
   "source": [
    "Plot Trades"
   ]
  },
  {
   "cell_type": "code",
   "execution_count": 12,
   "metadata": {
    "ExecuteTime": {
     "end_time": "2020-02-16T23:52:23.547393Z",
     "start_time": "2020-02-16T23:52:23.253720Z"
    }
   },
   "outputs": [
    {
     "data": {
      "image/png": "[encoded data removed]",
      "text/plain": [
       "<Figure size 720x504 with 1 Axes>"
      ]
     },
     "metadata": {
      "needs_background": "light"
     },
     "output_type": "display_data"
    }
   ],
   "source": [
    "pf.plot_trades(dbal, benchmark=benchmark.dbal)"
   ]
  },
  {
   "cell_type": "markdown",
   "metadata": {},
   "source": [
    "Bar Graph: Strategy vs Benchmark"
   ]
  },
  {
   "cell_type": "code",
   "execution_count": 13,
   "metadata": {
    "ExecuteTime": {
     "end_time": "2020-02-16T23:52:23.977463Z",
     "start_time": "2020-02-16T23:52:23.555450Z"
    }
   },
   "outputs": [
    {
     "data": {
      "text/html": [
       "<div>\n",
       "<style scoped>\n",
       "    .dataframe tbody tr th:only-of-type {\n",
       "        vertical-align: middle;\n",
       "    }\n",
       "\n",
       "    .dataframe tbody tr th {\n",
       "        vertical-align: top;\n",
       "    }\n",
       "\n",
       "    .dataframe thead th {\n",
       "        text-align: right;\n",
       "    }\n",
       "</style>\n",
       "<table border=\"1\" class=\"dataframe\">\n",
       "  <thead>\n",
       "    <tr style=\"text-align: right;\">\n",
       "      <th></th>\n",
       "      <th>strategy</th>\n",
       "      <th>benchmark</th>\n",
       "    </tr>\n",
       "  </thead>\n",
       "  <tbody>\n",
       "    <tr>\n",
       "      <th>annual_return_rate</th>\n",
       "      <td>1.25</td>\n",
       "      <td>9.91</td>\n",
       "    </tr>\n",
       "    <tr>\n",
       "      <th>max_closed_out_drawdown</th>\n",
       "      <td>-31.08</td>\n",
       "      <td>-32.79</td>\n",
       "    </tr>\n",
       "    <tr>\n",
       "      <th>drawdown_annualized_return</th>\n",
       "      <td>-24.94</td>\n",
       "      <td>-3.31</td>\n",
       "    </tr>\n",
       "    <tr>\n",
       "      <th>drawdown_recovery</th>\n",
       "      <td>-0.09</td>\n",
       "      <td>-0.09</td>\n",
       "    </tr>\n",
       "    <tr>\n",
       "      <th>best_month</th>\n",
       "      <td>12.92</td>\n",
       "      <td>21.40</td>\n",
       "    </tr>\n",
       "    <tr>\n",
       "      <th>worst_month</th>\n",
       "      <td>-28.54</td>\n",
       "      <td>-29.90</td>\n",
       "    </tr>\n",
       "    <tr>\n",
       "      <th>sharpe_ratio</th>\n",
       "      <td>0.15</td>\n",
       "      <td>0.66</td>\n",
       "    </tr>\n",
       "    <tr>\n",
       "      <th>sortino_ratio</th>\n",
       "      <td>0.12</td>\n",
       "      <td>0.78</td>\n",
       "    </tr>\n",
       "    <tr>\n",
       "      <th>monthly_std</th>\n",
       "      <td>2.82</td>\n",
       "      <td>3.97</td>\n",
       "    </tr>\n",
       "  </tbody>\n",
       "</table>\n",
       "</div>"
      ],
      "text/plain": [
       "                            strategy  benchmark\n",
       "annual_return_rate              1.25       9.91\n",
       "max_closed_out_drawdown       -31.08     -32.79\n",
       "drawdown_annualized_return    -24.94      -3.31\n",
       "drawdown_recovery              -0.09      -0.09\n",
       "best_month                     12.92      21.40\n",
       "worst_month                   -28.54     -29.90\n",
       "sharpe_ratio                    0.15       0.66\n",
       "sortino_ratio                   0.12       0.78\n",
       "monthly_std                     2.82       3.97"
      ]
     },
     "execution_count": 13,
     "metadata": {},
     "output_type": "execute_result"
    },
    {
     "data": {
      "image/png": "[encoded data removed]",
      "text/plain": [
       "<Figure size 720x504 with 1 Axes>"
      ]
     },
     "metadata": {
      "needs_background": "light"
     },
     "output_type": "display_data"
    }
   ],
   "source": [
    "metrics = ('annual_return_rate',\n",
    "           'max_closed_out_drawdown',\n",
    "           'drawdown_annualized_return',\n",
    "           'drawdown_recovery',\n",
    "           'best_month',\n",
    "           'worst_month',\n",
    "           'sharpe_ratio',\n",
    "           'sortino_ratio',\n",
    "           'monthly_std')\n",
    "\n",
    "df = pf.plot_bar_graph(stats, benchmark.stats, *metrics)\n",
    "df"
   ]
  }
 ],
 "metadata": {
  "kernelspec": {
   "display_name": "Python 3",
   "language": "python",
   "name": "python3"
  },
  "language_info": {
   "codemirror_mode": {
    "name": "ipython",
    "version": 3
   },
   "file_extension": ".py",
   "mimetype": "text/x-python",
   "name": "python",
   "nbconvert_exporter": "python",
   "pygments_lexer": "ipython3",
   "version": "3.8.2"
  },
  "latex_envs": {
   "LaTeX_envs_menu_present": true,
   "autoclose": false,
   "autocomplete": true,
   "bibliofile": "biblio.bib",
   "cite_by": "apalike",
   "current_citInitial": 1,
   "eqLabelWithNumbers": true,
   "eqNumInitial": 1,
   "hotkeys": {
    "equation": "Ctrl-E",
    "itemize": "Ctrl-I"
   },
   "labels_anchors": false,
   "latex_user_defs": false,
   "report_style_numbering": false,
   "user_envs_cfg": false
  }
 },
 "nbformat": 4,
 "nbformat_minor": 1
}
