{
 "cells": [
  {
   "cell_type": "markdown",
   "metadata": {},
   "source": [
    "# Double 7's Intra (Short Term Trading Strategies that Work)\n",
    "\n",
    "    1. The SPY is above its 200-day moving average\n",
    "    2. The SPY makes an intraday 7-day low, buy.\n",
    "    3. If the SPY makes an intraday 7-day high, sell your long position."
   ]
  },
  {
   "cell_type": "code",
   "execution_count": 1,
   "metadata": {
    "ExecuteTime": {
     "end_time": "2020-02-16T23:52:21.479202Z",
     "start_time": "2020-02-16T23:52:20.767563Z"
    }
   },
   "outputs": [],
   "source": [
    "import pandas as pd\n",
    "import matplotlib.pyplot as plt\n",
    "import datetime\n",
    "from talib.abstract import *\n",
    "\n",
    "import pinkfish as pf\n",
    "import strategy\n",
    "\n",
    "# format price data\n",
    "pd.options.display.float_format = '{:0.2f}'.format\n",
    "\n",
    "%matplotlib inline"
   ]
  },
  {
   "cell_type": "code",
   "execution_count": 2,
   "metadata": {
    "ExecuteTime": {
     "end_time": "2020-02-16T23:52:21.494839Z",
     "start_time": "2020-02-16T23:52:21.488791Z"
    }
   },
   "outputs": [],
   "source": [
    "# set size of inline plots\n",
    "'''note: rcParams can't be in same cell as import matplotlib\n",
    "   or %matplotlib inline\n",
    "   \n",
    "   %matplotlib notebook: will lead to interactive plots embedded within\n",
    "   the notebook, you can zoom and resize the figure\n",
    "   \n",
    "   %matplotlib inline: only draw static images in the notebook\n",
    "'''\n",
    "plt.rcParams[\"figure.figsize\"] = (10, 7)"
   ]
  },
  {
   "cell_type": "markdown",
   "metadata": {},
   "source": [
    "Some global data"
   ]
  },
  {
   "cell_type": "code",
   "execution_count": 3,
   "metadata": {
    "ExecuteTime": {
     "end_time": "2020-02-16T23:52:21.509103Z",
     "start_time": "2020-02-16T23:52:21.501572Z"
    }
   },
   "outputs": [],
   "source": [
    "#symbol = '^GSPC'\n",
    "symbol = 'SPY'\n",
    "#symbol = 'DIA'\n",
    "#symbol = 'QQQ'\n",
    "#symbol = 'IWM'\n",
    "#symbol = 'TLT'\n",
    "#symbol = 'GLD'\n",
    "#symbol = 'AAPL'\n",
    "#symbol = 'BBRY'\n",
    "#symbol = 'GDX'\n",
    "capital = 10000\n",
    "start = datetime.datetime(1900, 1, 1)\n",
    "end = datetime.datetime.now()\n",
    "use_adj = False"
   ]
  },
  {
   "cell_type": "markdown",
   "metadata": {},
   "source": [
    "Define high low trade periods"
   ]
  },
  {
   "cell_type": "code",
   "execution_count": 4,
   "metadata": {
    "ExecuteTime": {
     "end_time": "2020-02-16T23:52:21.520231Z",
     "start_time": "2020-02-16T23:52:21.514883Z"
    }
   },
   "outputs": [],
   "source": [
    "period = 7"
   ]
  },
  {
   "cell_type": "markdown",
   "metadata": {},
   "source": [
    "Run Strategy"
   ]
  },
  {
   "cell_type": "code",
   "execution_count": 5,
   "metadata": {
    "ExecuteTime": {
     "end_time": "2020-02-16T23:52:21.919175Z",
     "start_time": "2020-02-16T23:52:21.528628Z"
    },
    "scrolled": true
   },
   "outputs": [],
   "source": [
    "s = strategy.Strategy(symbol, capital, start, end, use_adj, period)\n",
    "s.run()"
   ]
  },
  {
   "cell_type": "markdown",
   "metadata": {},
   "source": [
    "Retrieve log DataFrames"
   ]
  },
  {
   "cell_type": "code",
   "execution_count": 6,
   "metadata": {
    "ExecuteTime": {
     "end_time": "2020-02-16T23:52:22.319518Z",
     "start_time": "2020-02-16T23:52:21.926712Z"
    }
   },
   "outputs": [],
   "source": [
    "tlog, dbal = s.get_logs()\n",
    "stats = s.get_stats()"
   ]
  },
  {
   "cell_type": "code",
   "execution_count": 7,
   "metadata": {
    "ExecuteTime": {
     "end_time": "2020-02-16T23:52:22.364396Z",
     "start_time": "2020-02-16T23:52:22.328566Z"
    }
   },
   "outputs": [
    {
     "data": {
      "text/html": [
       "<div>\n",
       "<style scoped>\n",
       "    .dataframe tbody tr th:only-of-type {\n",
       "        vertical-align: middle;\n",
       "    }\n",
       "\n",
       "    .dataframe tbody tr th {\n",
       "        vertical-align: top;\n",
       "    }\n",
       "\n",
       "    .dataframe thead th {\n",
       "        text-align: right;\n",
       "    }\n",
       "</style>\n",
       "<table border=\"1\" class=\"dataframe\">\n",
       "  <thead>\n",
       "    <tr style=\"text-align: right;\">\n",
       "      <th></th>\n",
       "      <th>entry_date</th>\n",
       "      <th>entry_price</th>\n",
       "      <th>exit_date</th>\n",
       "      <th>exit_price</th>\n",
       "      <th>pl_points</th>\n",
       "      <th>pl_cash</th>\n",
       "      <th>qty</th>\n",
       "      <th>cumul_total</th>\n",
       "      <th>direction</th>\n",
       "      <th>symbol</th>\n",
       "    </tr>\n",
       "  </thead>\n",
       "  <tbody>\n",
       "    <tr>\n",
       "      <th>375</th>\n",
       "      <td>2019-07-31</td>\n",
       "      <td>298.50</td>\n",
       "      <td>2019-08-13</td>\n",
       "      <td>294.12</td>\n",
       "      <td>-4.38</td>\n",
       "      <td>-1178.22</td>\n",
       "      <td>269</td>\n",
       "      <td>69183.42</td>\n",
       "      <td>LONG</td>\n",
       "      <td>SPY</td>\n",
       "    </tr>\n",
       "    <tr>\n",
       "      <th>376</th>\n",
       "      <td>2019-08-14</td>\n",
       "      <td>288.04</td>\n",
       "      <td>2019-08-30</td>\n",
       "      <td>294.22</td>\n",
       "      <td>6.18</td>\n",
       "      <td>1693.32</td>\n",
       "      <td>274</td>\n",
       "      <td>70876.74</td>\n",
       "      <td>LONG</td>\n",
       "      <td>SPY</td>\n",
       "    </tr>\n",
       "    <tr>\n",
       "      <th>377</th>\n",
       "      <td>2019-09-20</td>\n",
       "      <td>300.34</td>\n",
       "      <td>2019-10-11</td>\n",
       "      <td>296.27</td>\n",
       "      <td>-4.07</td>\n",
       "      <td>-1094.83</td>\n",
       "      <td>269</td>\n",
       "      <td>69781.91</td>\n",
       "      <td>LONG</td>\n",
       "      <td>SPY</td>\n",
       "    </tr>\n",
       "    <tr>\n",
       "      <th>378</th>\n",
       "      <td>2019-11-21</td>\n",
       "      <td>309.54</td>\n",
       "      <td>2019-11-25</td>\n",
       "      <td>312.69</td>\n",
       "      <td>3.15</td>\n",
       "      <td>809.55</td>\n",
       "      <td>257</td>\n",
       "      <td>70591.45</td>\n",
       "      <td>LONG</td>\n",
       "      <td>SPY</td>\n",
       "    </tr>\n",
       "    <tr>\n",
       "      <th>379</th>\n",
       "      <td>2019-12-03</td>\n",
       "      <td>308.65</td>\n",
       "      <td>2019-12-12</td>\n",
       "      <td>315.31</td>\n",
       "      <td>6.66</td>\n",
       "      <td>1738.26</td>\n",
       "      <td>261</td>\n",
       "      <td>72329.72</td>\n",
       "      <td>LONG</td>\n",
       "      <td>SPY</td>\n",
       "    </tr>\n",
       "    <tr>\n",
       "      <th>380</th>\n",
       "      <td>2019-12-31</td>\n",
       "      <td>320.53</td>\n",
       "      <td>2020-01-02</td>\n",
       "      <td>323.80</td>\n",
       "      <td>3.27</td>\n",
       "      <td>837.12</td>\n",
       "      <td>256</td>\n",
       "      <td>73166.83</td>\n",
       "      <td>LONG</td>\n",
       "      <td>SPY</td>\n",
       "    </tr>\n",
       "    <tr>\n",
       "      <th>381</th>\n",
       "      <td>2020-01-03</td>\n",
       "      <td>321.16</td>\n",
       "      <td>2020-01-08</td>\n",
       "      <td>324.89</td>\n",
       "      <td>3.73</td>\n",
       "      <td>962.34</td>\n",
       "      <td>258</td>\n",
       "      <td>74129.18</td>\n",
       "      <td>LONG</td>\n",
       "      <td>SPY</td>\n",
       "    </tr>\n",
       "    <tr>\n",
       "      <th>382</th>\n",
       "      <td>2020-01-24</td>\n",
       "      <td>328.62</td>\n",
       "      <td>2020-02-05</td>\n",
       "      <td>332.27</td>\n",
       "      <td>3.65</td>\n",
       "      <td>934.40</td>\n",
       "      <td>256</td>\n",
       "      <td>75063.57</td>\n",
       "      <td>LONG</td>\n",
       "      <td>SPY</td>\n",
       "    </tr>\n",
       "    <tr>\n",
       "      <th>383</th>\n",
       "      <td>2020-02-20</td>\n",
       "      <td>334.75</td>\n",
       "      <td>2020-03-26</td>\n",
       "      <td>256.35</td>\n",
       "      <td>-78.40</td>\n",
       "      <td>-19913.60</td>\n",
       "      <td>254</td>\n",
       "      <td>55149.98</td>\n",
       "      <td>LONG</td>\n",
       "      <td>SPY</td>\n",
       "    </tr>\n",
       "    <tr>\n",
       "      <th>384</th>\n",
       "      <td>2020-06-11</td>\n",
       "      <td>308.13</td>\n",
       "      <td>2020-07-02</td>\n",
       "      <td>314.50</td>\n",
       "      <td>6.37</td>\n",
       "      <td>1344.07</td>\n",
       "      <td>211</td>\n",
       "      <td>56494.04</td>\n",
       "      <td>LONG</td>\n",
       "      <td>SPY</td>\n",
       "    </tr>\n",
       "  </tbody>\n",
       "</table>\n",
       "</div>"
      ],
      "text/plain": [
       "    entry_date  entry_price  exit_date  exit_price  pl_points   pl_cash  qty  \\\n",
       "375 2019-07-31       298.50 2019-08-13      294.12      -4.38  -1178.22  269   \n",
       "376 2019-08-14       288.04 2019-08-30      294.22       6.18   1693.32  274   \n",
       "377 2019-09-20       300.34 2019-10-11      296.27      -4.07  -1094.83  269   \n",
       "378 2019-11-21       309.54 2019-11-25      312.69       3.15    809.55  257   \n",
       "379 2019-12-03       308.65 2019-12-12      315.31       6.66   1738.26  261   \n",
       "380 2019-12-31       320.53 2020-01-02      323.80       3.27    837.12  256   \n",
       "381 2020-01-03       321.16 2020-01-08      324.89       3.73    962.34  258   \n",
       "382 2020-01-24       328.62 2020-02-05      332.27       3.65    934.40  256   \n",
       "383 2020-02-20       334.75 2020-03-26      256.35     -78.40 -19913.60  254   \n",
       "384 2020-06-11       308.13 2020-07-02      314.50       6.37   1344.07  211   \n",
       "\n",
       "     cumul_total direction symbol  \n",
       "375     69183.42      LONG    SPY  \n",
       "376     70876.74      LONG    SPY  \n",
       "377     69781.91      LONG    SPY  \n",
       "378     70591.45      LONG    SPY  \n",
       "379     72329.72      LONG    SPY  \n",
       "380     73166.83      LONG    SPY  \n",
       "381     74129.18      LONG    SPY  \n",
       "382     75063.57      LONG    SPY  \n",
       "383     55149.98      LONG    SPY  \n",
       "384     56494.04      LONG    SPY  "
      ]
     },
     "execution_count": 7,
     "metadata": {},
     "output_type": "execute_result"
    }
   ],
   "source": [
    "tlog.tail(10)"
   ]
  },
  {
   "cell_type": "code",
   "execution_count": 8,
   "metadata": {
    "ExecuteTime": {
     "end_time": "2020-02-16T23:52:22.402247Z",
     "start_time": "2020-02-16T23:52:22.371571Z"
    },
    "scrolled": true
   },
   "outputs": [
    {
     "data": {
      "text/html": [
       "<div>\n",
       "<style scoped>\n",
       "    .dataframe tbody tr th:only-of-type {\n",
       "        vertical-align: middle;\n",
       "    }\n",
       "\n",
       "    .dataframe tbody tr th {\n",
       "        vertical-align: top;\n",
       "    }\n",
       "\n",
       "    .dataframe thead th {\n",
       "        text-align: right;\n",
       "    }\n",
       "</style>\n",
       "<table border=\"1\" class=\"dataframe\">\n",
       "  <thead>\n",
       "    <tr style=\"text-align: right;\">\n",
       "      <th></th>\n",
       "      <th>high</th>\n",
       "      <th>low</th>\n",
       "      <th>close</th>\n",
       "      <th>shares</th>\n",
       "      <th>cash</th>\n",
       "      <th>leverage</th>\n",
       "      <th>state</th>\n",
       "    </tr>\n",
       "    <tr>\n",
       "      <th>date</th>\n",
       "      <th></th>\n",
       "      <th></th>\n",
       "      <th></th>\n",
       "      <th></th>\n",
       "      <th></th>\n",
       "      <th></th>\n",
       "      <th></th>\n",
       "    </tr>\n",
       "  </thead>\n",
       "  <tbody>\n",
       "    <tr>\n",
       "      <th>1993-11-11</th>\n",
       "      <td>10026.88</td>\n",
       "      <td>9966.41</td>\n",
       "      <td>9973.12</td>\n",
       "      <td>215</td>\n",
       "      <td>2.50</td>\n",
       "      <td>1.00</td>\n",
       "      <td>O</td>\n",
       "    </tr>\n",
       "    <tr>\n",
       "      <th>1993-11-12</th>\n",
       "      <td>10053.75</td>\n",
       "      <td>9986.56</td>\n",
       "      <td>10020.16</td>\n",
       "      <td>215</td>\n",
       "      <td>2.50</td>\n",
       "      <td>1.00</td>\n",
       "      <td>-</td>\n",
       "    </tr>\n",
       "    <tr>\n",
       "      <th>1993-11-15</th>\n",
       "      <td>10040.31</td>\n",
       "      <td>9986.56</td>\n",
       "      <td>10013.44</td>\n",
       "      <td>215</td>\n",
       "      <td>2.50</td>\n",
       "      <td>1.00</td>\n",
       "      <td>-</td>\n",
       "    </tr>\n",
       "    <tr>\n",
       "      <th>1993-11-16</th>\n",
       "      <td>10053.75</td>\n",
       "      <td>10053.75</td>\n",
       "      <td>10053.75</td>\n",
       "      <td>0</td>\n",
       "      <td>10053.75</td>\n",
       "      <td>0.00</td>\n",
       "      <td>X</td>\n",
       "    </tr>\n",
       "    <tr>\n",
       "      <th>1993-11-17</th>\n",
       "      <td>10053.75</td>\n",
       "      <td>10053.75</td>\n",
       "      <td>10053.75</td>\n",
       "      <td>0</td>\n",
       "      <td>10053.75</td>\n",
       "      <td>0.00</td>\n",
       "      <td>-</td>\n",
       "    </tr>\n",
       "  </tbody>\n",
       "</table>\n",
       "</div>"
      ],
      "text/plain": [
       "               high      low    close  shares     cash  leverage state\n",
       "date                                                                  \n",
       "1993-11-11 10026.88  9966.41  9973.12     215     2.50      1.00     O\n",
       "1993-11-12 10053.75  9986.56 10020.16     215     2.50      1.00     -\n",
       "1993-11-15 10040.31  9986.56 10013.44     215     2.50      1.00     -\n",
       "1993-11-16 10053.75 10053.75 10053.75       0 10053.75      0.00     X\n",
       "1993-11-17 10053.75 10053.75 10053.75       0 10053.75      0.00     -"
      ]
     },
     "execution_count": 8,
     "metadata": {},
     "output_type": "execute_result"
    }
   ],
   "source": [
    "dbal.head()"
   ]
  },
  {
   "cell_type": "markdown",
   "metadata": {},
   "source": [
    "Generate strategy stats - display all available stats"
   ]
  },
  {
   "cell_type": "code",
   "execution_count": 9,
   "metadata": {
    "ExecuteTime": {
     "end_time": "2020-02-16T23:52:22.449428Z",
     "start_time": "2020-02-16T23:52:22.406856Z"
    }
   },
   "outputs": [
    {
     "name": "stdout",
     "output_type": "stream",
     "text": [
      "start                                                  1993-11-11\n",
      "end                                                    2020-07-14\n",
      "beginning_balance                                           10000\n",
      "ending_balance                                           66494.04\n",
      "total_net_profit                                         56494.04\n",
      "gross_profit                                            149394.92\n",
      "gross_loss                                              -92900.88\n",
      "profit_factor                                                1.61\n",
      "return_on_initial_capital                                  564.94\n",
      "annual_return_rate                                           7.36\n",
      "trading_period                           26 years 8 months 3 days\n",
      "pct_time_in_market                                          42.80\n",
      "margin                                                          1\n",
      "avg_leverage                                                 1.00\n",
      "max_leverage                                                 1.00\n",
      "min_leverage                                                 0.99\n",
      "total_num_trades                                              385\n",
      "trades_per_year                                             14.43\n",
      "num_winning_trades                                            302\n",
      "num_losing_trades                                              83\n",
      "num_even_trades                                                 0\n",
      "pct_profitable_trades                                       78.44\n",
      "avg_profit_per_trade                                       146.74\n",
      "avg_profit_per_winning_trade                               494.69\n",
      "avg_loss_per_losing_trade                                -1119.29\n",
      "ratio_avg_profit_win_loss                                    0.44\n",
      "largest_profit_winning_trade                              2263.80\n",
      "largest_loss_losing_trade                               -19913.60\n",
      "num_winning_points                                         526.27\n",
      "num_losing_points                                         -324.65\n",
      "total_net_points                                           201.62\n",
      "avg_points                                                   0.52\n",
      "largest_points_winning_trade                                 6.86\n",
      "largest_points_losing_trade                                -78.40\n",
      "avg_pct_gain_per_trade                                       0.52\n",
      "largest_pct_winning_trade                                    3.89\n",
      "largest_pct_losing_trade                                   -23.42\n",
      "max_consecutive_winning_trades                                 16\n",
      "max_consecutive_losing_trades                                   5\n",
      "avg_bars_winning_trades                                      6.26\n",
      "avg_bars_losing_trades                                      16.49\n",
      "max_closed_out_drawdown                                    -33.82\n",
      "max_closed_out_drawdown_start_date                     2020-02-20\n",
      "max_closed_out_drawdown_end_date                       2020-03-23\n",
      "max_closed_out_drawdown_recovery_date           Not Recovered Yet\n",
      "drawdown_recovery                                           -0.09\n",
      "drawdown_annualized_return                                  -4.59\n",
      "max_intra_day_drawdown                                     -35.53\n",
      "avg_yearly_closed_out_drawdown                              -7.84\n",
      "max_yearly_closed_out_drawdown                             -33.82\n",
      "avg_monthly_closed_out_drawdown                             -2.10\n",
      "max_monthly_closed_out_drawdown                            -31.38\n",
      "avg_weekly_closed_out_drawdown                              -0.73\n",
      "max_weekly_closed_out_drawdown                             -17.96\n",
      "avg_yearly_closed_out_runup                                 14.79\n",
      "max_yearly_closed_out_runup                                 41.71\n",
      "avg_monthly_closed_out_runup                                 2.54\n",
      "max_monthly_closed_out_runup                                14.97\n",
      "avg_weekly_closed_out_runup                                  0.90\n",
      "max_weekly_closed_out_runup                                 14.97\n",
      "pct_profitable_years                                        78.69\n",
      "best_year                                                   37.09\n",
      "worst_year                                                 -27.61\n",
      "avg_year                                                     8.56\n",
      "annual_std                                                   9.46\n",
      "pct_profitable_months                                       57.09\n",
      "best_month                                                  14.97\n",
      "worst_month                                                -31.38\n",
      "avg_month                                                    0.60\n",
      "monthly_std                                                  2.72\n",
      "pct_profitable_weeks                                        41.13\n",
      "best_week                                                   14.97\n",
      "worst_week                                                 -17.96\n",
      "avg_week                                                     0.15\n",
      "weekly_std                                                   1.52\n",
      "sharpe_ratio                                                 0.64\n",
      "sortino_ratio                                                0.54\n",
      "dtype: object\n"
     ]
    }
   ],
   "source": [
    "pf.print_full(stats)"
   ]
  },
  {
   "cell_type": "markdown",
   "metadata": {},
   "source": [
    "Run Benchmark, Retrieve benchmark logs, and Generate benchmark stats"
   ]
  },
  {
   "cell_type": "code",
   "execution_count": 10,
   "metadata": {
    "ExecuteTime": {
     "end_time": "2020-02-16T23:52:22.932780Z",
     "start_time": "2020-02-16T23:52:22.455685Z"
    }
   },
   "outputs": [
    {
     "name": "stdout",
     "output_type": "stream",
     "text": [
      "1993-11-11 00:00:00 BUY  215 SPY @ 46.38\n",
      "2020-07-14 00:00:00 SELL 215 SPY @ 316.03\n"
     ]
    }
   ],
   "source": [
    "benchmark = pf.Benchmark(symbol, capital, s._start, s._end, use_adj=s._use_adj)\n",
    "benchmark.run()\n",
    "benchmark.tlog, benchmark.dbal = benchmark.get_logs()\n",
    "benchmark.stats = benchmark.get_stats()"
   ]
  },
  {
   "cell_type": "markdown",
   "metadata": {},
   "source": [
    "Plot Equity Curves: Strategy vs Benchmark"
   ]
  },
  {
   "cell_type": "code",
   "execution_count": 11,
   "metadata": {
    "ExecuteTime": {
     "end_time": "2020-02-16T23:52:23.247394Z",
     "start_time": "2020-02-16T23:52:22.943361Z"
    },
    "scrolled": false
   },
   "outputs": [
    {
     "data": {
      "image/png": "[encoded data removed]",
      "text/plain": [
       "<Figure size 720x504 with 1 Axes>"
      ]
     },
     "metadata": {
      "needs_background": "light"
     },
     "output_type": "display_data"
    }
   ],
   "source": [
    "pf.plot_equity_curve(dbal, benchmark=benchmark.dbal)"
   ]
  },
  {
   "cell_type": "markdown",
   "metadata": {},
   "source": [
    "Plot Trades"
   ]
  },
  {
   "cell_type": "code",
   "execution_count": 12,
   "metadata": {
    "ExecuteTime": {
     "end_time": "2020-02-16T23:52:23.547393Z",
     "start_time": "2020-02-16T23:52:23.253720Z"
    }
   },
   "outputs": [
    {
     "data": {
      "image/png": "[encoded data removed]",
      "text/plain": [
       "<Figure size 720x504 with 1 Axes>"
      ]
     },
     "metadata": {
      "needs_background": "light"
     },
     "output_type": "display_data"
    }
   ],
   "source": [
    "pf.plot_trades(dbal, benchmark=benchmark.dbal)"
   ]
  },
  {
   "cell_type": "markdown",
   "metadata": {},
   "source": [
    "Bar Graph: Strategy vs Benchmark"
   ]
  },
  {
   "cell_type": "code",
   "execution_count": 13,
   "metadata": {
    "ExecuteTime": {
     "end_time": "2020-02-16T23:52:23.977463Z",
     "start_time": "2020-02-16T23:52:23.555450Z"
    }
   },
   "outputs": [
    {
     "data": {
      "text/html": [
       "<div>\n",
       "<style scoped>\n",
       "    .dataframe tbody tr th:only-of-type {\n",
       "        vertical-align: middle;\n",
       "    }\n",
       "\n",
       "    .dataframe tbody tr th {\n",
       "        vertical-align: top;\n",
       "    }\n",
       "\n",
       "    .dataframe thead th {\n",
       "        text-align: right;\n",
       "    }\n",
       "</style>\n",
       "<table border=\"1\" class=\"dataframe\">\n",
       "  <thead>\n",
       "    <tr style=\"text-align: right;\">\n",
       "      <th></th>\n",
       "      <th>strategy</th>\n",
       "      <th>benchmark</th>\n",
       "    </tr>\n",
       "  </thead>\n",
       "  <tbody>\n",
       "    <tr>\n",
       "      <th>annual_return_rate</th>\n",
       "      <td>7.36</td>\n",
       "      <td>7.45</td>\n",
       "    </tr>\n",
       "    <tr>\n",
       "      <th>max_closed_out_drawdown</th>\n",
       "      <td>-33.82</td>\n",
       "      <td>-56.42</td>\n",
       "    </tr>\n",
       "    <tr>\n",
       "      <th>drawdown_annualized_return</th>\n",
       "      <td>-4.59</td>\n",
       "      <td>-7.57</td>\n",
       "    </tr>\n",
       "    <tr>\n",
       "      <th>drawdown_recovery</th>\n",
       "      <td>-0.09</td>\n",
       "      <td>-1.42</td>\n",
       "    </tr>\n",
       "    <tr>\n",
       "      <th>best_month</th>\n",
       "      <td>14.97</td>\n",
       "      <td>23.06</td>\n",
       "    </tr>\n",
       "    <tr>\n",
       "      <th>worst_month</th>\n",
       "      <td>-31.38</td>\n",
       "      <td>-31.38</td>\n",
       "    </tr>\n",
       "    <tr>\n",
       "      <th>sharpe_ratio</th>\n",
       "      <td>0.64</td>\n",
       "      <td>0.47</td>\n",
       "    </tr>\n",
       "    <tr>\n",
       "      <th>sortino_ratio</th>\n",
       "      <td>0.54</td>\n",
       "      <td>0.60</td>\n",
       "    </tr>\n",
       "    <tr>\n",
       "      <th>monthly_std</th>\n",
       "      <td>2.72</td>\n",
       "      <td>4.54</td>\n",
       "    </tr>\n",
       "  </tbody>\n",
       "</table>\n",
       "</div>"
      ],
      "text/plain": [
       "                            strategy  benchmark\n",
       "annual_return_rate              7.36       7.45\n",
       "max_closed_out_drawdown       -33.82     -56.42\n",
       "drawdown_annualized_return     -4.59      -7.57\n",
       "drawdown_recovery              -0.09      -1.42\n",
       "best_month                     14.97      23.06\n",
       "worst_month                   -31.38     -31.38\n",
       "sharpe_ratio                    0.64       0.47\n",
       "sortino_ratio                   0.54       0.60\n",
       "monthly_std                     2.72       4.54"
      ]
     },
     "execution_count": 13,
     "metadata": {},
     "output_type": "execute_result"
    },
    {
     "data": {
      "image/png": "[encoded data removed]",
      "text/plain": [
       "<Figure size 720x504 with 1 Axes>"
      ]
     },
     "metadata": {
      "needs_background": "light"
     },
     "output_type": "display_data"
    }
   ],
   "source": [
    "metrics = ('annual_return_rate',\n",
    "           'max_closed_out_drawdown',\n",
    "           'drawdown_annualized_return',\n",
    "           'drawdown_recovery',\n",
    "           'best_month',\n",
    "           'worst_month',\n",
    "           'sharpe_ratio',\n",
    "           'sortino_ratio',\n",
    "           'monthly_std')\n",
    "\n",
    "df = pf.plot_bar_graph(stats, benchmark.stats, metrics)\n",
    "df"
   ]
  },
  {
   "cell_type": "code",
   "execution_count": null,
   "metadata": {},
   "outputs": [],
   "source": []
  }
 ],
 "metadata": {
  "kernelspec": {
   "display_name": "Python 3",
   "language": "python",
   "name": "python3"
  },
  "language_info": {
   "codemirror_mode": {
    "name": "ipython",
    "version": 3
   },
   "file_extension": ".py",
   "mimetype": "text/x-python",
   "name": "python",
   "nbconvert_exporter": "python",
   "pygments_lexer": "ipython3",
   "version": "3.8.2"
  },
  "latex_envs": {
   "LaTeX_envs_menu_present": true,
   "autoclose": false,
   "autocomplete": true,
   "bibliofile": "biblio.bib",
   "cite_by": "apalike",
   "current_citInitial": 1,
   "eqLabelWithNumbers": true,
   "eqNumInitial": 1,
   "hotkeys": {
    "equation": "Ctrl-E",
    "itemize": "Ctrl-I"
   },
   "labels_anchors": false,
   "latex_user_defs": false,
   "report_style_numbering": false,
   "user_envs_cfg": false
  }
 },
 "nbformat": 4,
 "nbformat_minor": 1
}
