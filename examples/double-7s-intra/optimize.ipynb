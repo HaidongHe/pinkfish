{
 "cells": [
  {
   "cell_type": "markdown",
   "metadata": {},
   "source": [
    "# Double 7's Intra (Short Term Trading Strategies that Work)\n",
    "\n",
    "    1. The SPY is above its 200-day moving average\n",
    "    2. The SPY makes an intraday X-day low, buy.\n",
    "    3. If the SPY makes an intraday X-day high, sell your long position.\n",
    "    \n",
    "    (optimize the number of days)"
   ]
  },
  {
   "cell_type": "code",
   "execution_count": 1,
   "metadata": {
    "ExecuteTime": {
     "end_time": "2020-02-16T23:52:39.133788Z",
     "start_time": "2020-02-16T23:52:38.450202Z"
    }
   },
   "outputs": [],
   "source": [
    "# use future imports for python 3.x forward compatibility\n",
    "from __future__ import print_function\n",
    "from __future__ import unicode_literals\n",
    "from __future__ import division\n",
    "from __future__ import absolute_import\n",
    "\n",
    "# other imports\n",
    "import pandas as pd\n",
    "import matplotlib.pyplot as plt\n",
    "import datetime\n",
    "from talib.abstract import *\n",
    "\n",
    "# project imports\n",
    "import pinkfish as pf\n",
    "import strategy\n",
    "\n",
    "# format price data\n",
    "pd.options.display.float_format = '{:0.2f}'.format\n",
    "\n",
    "%matplotlib inline"
   ]
  },
  {
   "cell_type": "code",
   "execution_count": 2,
   "metadata": {
    "ExecuteTime": {
     "end_time": "2020-02-16T23:52:39.150042Z",
     "start_time": "2020-02-16T23:52:39.143381Z"
    }
   },
   "outputs": [],
   "source": [
    "# set size of inline plots\n",
    "'''note: rcParams can't be in same cell as import matplotlib\n",
    "   or %matplotlib inline\n",
    "   \n",
    "   %matplotlib notebook: will lead to interactive plots embedded within\n",
    "   the notebook, you can zoom and resize the figure\n",
    "   \n",
    "   %matplotlib inline: only draw static images in the notebook\n",
    "'''\n",
    "plt.rcParams[\"figure.figsize\"] = (10, 7)"
   ]
  },
  {
   "cell_type": "markdown",
   "metadata": {},
   "source": [
    "Some global data"
   ]
  },
  {
   "cell_type": "code",
   "execution_count": 3,
   "metadata": {
    "ExecuteTime": {
     "end_time": "2020-02-16T23:52:39.163735Z",
     "start_time": "2020-02-16T23:52:39.155947Z"
    }
   },
   "outputs": [],
   "source": [
    "#symbol = '^GSPC'\n",
    "symbol = 'SPY'\n",
    "#symbol = 'DIA'\n",
    "#symbol = 'QQQ'\n",
    "#symbol = 'IWM'\n",
    "#symbol = 'TLT'\n",
    "#symbol = 'GLD'\n",
    "#symbol = 'AAPL'\n",
    "#symbol = 'BBRY'\n",
    "#symbol = 'GDX'\n",
    "capital = 10000\n",
    "start = datetime.datetime(1900, 1, 1)\n",
    "end = datetime.datetime.now()\n",
    "use_adj = False"
   ]
  },
  {
   "cell_type": "markdown",
   "metadata": {},
   "source": [
    "Define high low trade periods"
   ]
  },
  {
   "cell_type": "code",
   "execution_count": 4,
   "metadata": {
    "ExecuteTime": {
     "end_time": "2020-02-16T23:52:39.173763Z",
     "start_time": "2020-02-16T23:52:39.168574Z"
    }
   },
   "outputs": [],
   "source": [
    "periods = range(3, 16)\n",
    "periods = [str(period) for period in periods]"
   ]
  },
  {
   "cell_type": "markdown",
   "metadata": {},
   "source": [
    "Run Strategy"
   ]
  },
  {
   "cell_type": "code",
   "execution_count": 5,
   "metadata": {
    "ExecuteTime": {
     "end_time": "2020-02-16T23:52:56.217400Z",
     "start_time": "2020-02-16T23:52:39.177807Z"
    },
    "scrolled": true
   },
   "outputs": [
    {
     "name": "stdout",
     "output_type": "stream",
     "text": [
      "3 4 5 6 7 8 9 10 11 12 13 14 15 "
     ]
    }
   ],
   "source": [
    "strategies = pd.Series()\n",
    "for period in periods:\n",
    "    print(\"{0}\".format(period), end=\" \")\n",
    "    strategies[period] = strategy.Strategy(symbol, capital, start, end, use_adj, int(period))\n",
    "    strategies[period].run()\n",
    "    strategies[period].tlog, strategies[period].dbal = strategies[period].get_logs()\n",
    "    strategies[period].stats = strategies[period].get_stats()"
   ]
  },
  {
   "cell_type": "markdown",
   "metadata": {},
   "source": [
    "Summarize results"
   ]
  },
  {
   "cell_type": "code",
   "execution_count": 6,
   "metadata": {
    "ExecuteTime": {
     "end_time": "2020-02-16T23:52:56.281702Z",
     "start_time": "2020-02-16T23:52:56.227712Z"
    },
    "scrolled": false
   },
   "outputs": [
    {
     "data": {
      "text/html": [
       "<div>\n",
       "<style scoped>\n",
       "    .dataframe tbody tr th:only-of-type {\n",
       "        vertical-align: middle;\n",
       "    }\n",
       "\n",
       "    .dataframe tbody tr th {\n",
       "        vertical-align: top;\n",
       "    }\n",
       "\n",
       "    .dataframe thead th {\n",
       "        text-align: right;\n",
       "    }\n",
       "</style>\n",
       "<table border=\"1\" class=\"dataframe\">\n",
       "  <thead>\n",
       "    <tr style=\"text-align: right;\">\n",
       "      <th></th>\n",
       "      <th>3</th>\n",
       "      <th>4</th>\n",
       "      <th>5</th>\n",
       "      <th>6</th>\n",
       "      <th>7</th>\n",
       "      <th>8</th>\n",
       "      <th>9</th>\n",
       "      <th>10</th>\n",
       "      <th>11</th>\n",
       "      <th>12</th>\n",
       "      <th>13</th>\n",
       "      <th>14</th>\n",
       "      <th>15</th>\n",
       "    </tr>\n",
       "  </thead>\n",
       "  <tbody>\n",
       "    <tr>\n",
       "      <th>annual_return_rate</th>\n",
       "      <td>6.19</td>\n",
       "      <td>5.88</td>\n",
       "      <td>8.11</td>\n",
       "      <td>7.56</td>\n",
       "      <td>8.49</td>\n",
       "      <td>8.07</td>\n",
       "      <td>7.19</td>\n",
       "      <td>7.14</td>\n",
       "      <td>7.12</td>\n",
       "      <td>6.89</td>\n",
       "      <td>6.93</td>\n",
       "      <td>6.47</td>\n",
       "      <td>6.46</td>\n",
       "    </tr>\n",
       "    <tr>\n",
       "      <th>max_closed_out_drawdown</th>\n",
       "      <td>-24.07</td>\n",
       "      <td>-21.62</td>\n",
       "      <td>-17.77</td>\n",
       "      <td>-19.49</td>\n",
       "      <td>-16.00</td>\n",
       "      <td>-15.66</td>\n",
       "      <td>-18.60</td>\n",
       "      <td>-17.81</td>\n",
       "      <td>-19.17</td>\n",
       "      <td>-17.33</td>\n",
       "      <td>-17.08</td>\n",
       "      <td>-18.34</td>\n",
       "      <td>-17.88</td>\n",
       "    </tr>\n",
       "    <tr>\n",
       "      <th>drawdown_annualized_return</th>\n",
       "      <td>-3.89</td>\n",
       "      <td>-3.68</td>\n",
       "      <td>-2.19</td>\n",
       "      <td>-2.58</td>\n",
       "      <td>-1.88</td>\n",
       "      <td>-1.94</td>\n",
       "      <td>-2.59</td>\n",
       "      <td>-2.50</td>\n",
       "      <td>-2.69</td>\n",
       "      <td>-2.52</td>\n",
       "      <td>-2.46</td>\n",
       "      <td>-2.83</td>\n",
       "      <td>-2.77</td>\n",
       "    </tr>\n",
       "    <tr>\n",
       "      <th>drawdown_recovery</th>\n",
       "      <td>-0.91</td>\n",
       "      <td>-0.97</td>\n",
       "      <td>-0.80</td>\n",
       "      <td>-1.28</td>\n",
       "      <td>-0.65</td>\n",
       "      <td>-0.43</td>\n",
       "      <td>-0.25</td>\n",
       "      <td>-0.25</td>\n",
       "      <td>-1.55</td>\n",
       "      <td>-0.24</td>\n",
       "      <td>-1.62</td>\n",
       "      <td>-1.62</td>\n",
       "      <td>-1.62</td>\n",
       "    </tr>\n",
       "    <tr>\n",
       "      <th>best_month</th>\n",
       "      <td>11.45</td>\n",
       "      <td>10.41</td>\n",
       "      <td>10.53</td>\n",
       "      <td>11.15</td>\n",
       "      <td>12.16</td>\n",
       "      <td>12.26</td>\n",
       "      <td>13.39</td>\n",
       "      <td>13.71</td>\n",
       "      <td>14.12</td>\n",
       "      <td>14.31</td>\n",
       "      <td>14.35</td>\n",
       "      <td>10.64</td>\n",
       "      <td>10.71</td>\n",
       "    </tr>\n",
       "    <tr>\n",
       "      <th>worst_month</th>\n",
       "      <td>-15.50</td>\n",
       "      <td>-14.97</td>\n",
       "      <td>-14.39</td>\n",
       "      <td>-14.39</td>\n",
       "      <td>-13.43</td>\n",
       "      <td>-14.18</td>\n",
       "      <td>-16.30</td>\n",
       "      <td>-16.29</td>\n",
       "      <td>-16.26</td>\n",
       "      <td>-16.28</td>\n",
       "      <td>-16.25</td>\n",
       "      <td>-14.45</td>\n",
       "      <td>-14.47</td>\n",
       "    </tr>\n",
       "    <tr>\n",
       "      <th>sharpe_ratio</th>\n",
       "      <td>0.59</td>\n",
       "      <td>0.57</td>\n",
       "      <td>0.76</td>\n",
       "      <td>0.71</td>\n",
       "      <td>0.79</td>\n",
       "      <td>0.75</td>\n",
       "      <td>0.67</td>\n",
       "      <td>0.67</td>\n",
       "      <td>0.67</td>\n",
       "      <td>0.64</td>\n",
       "      <td>0.66</td>\n",
       "      <td>0.63</td>\n",
       "      <td>0.63</td>\n",
       "    </tr>\n",
       "    <tr>\n",
       "      <th>sortino_ratio</th>\n",
       "      <td>0.55</td>\n",
       "      <td>0.53</td>\n",
       "      <td>0.70</td>\n",
       "      <td>0.65</td>\n",
       "      <td>0.70</td>\n",
       "      <td>0.66</td>\n",
       "      <td>0.60</td>\n",
       "      <td>0.59</td>\n",
       "      <td>0.59</td>\n",
       "      <td>0.56</td>\n",
       "      <td>0.56</td>\n",
       "      <td>0.52</td>\n",
       "      <td>0.51</td>\n",
       "    </tr>\n",
       "    <tr>\n",
       "      <th>monthly_std</th>\n",
       "      <td>2.62</td>\n",
       "      <td>2.48</td>\n",
       "      <td>2.45</td>\n",
       "      <td>2.41</td>\n",
       "      <td>2.40</td>\n",
       "      <td>2.40</td>\n",
       "      <td>2.49</td>\n",
       "      <td>2.53</td>\n",
       "      <td>2.54</td>\n",
       "      <td>2.55</td>\n",
       "      <td>2.49</td>\n",
       "      <td>2.41</td>\n",
       "      <td>2.43</td>\n",
       "    </tr>\n",
       "    <tr>\n",
       "      <th>pct_time_in_market</th>\n",
       "      <td>47.75</td>\n",
       "      <td>46.01</td>\n",
       "      <td>44.65</td>\n",
       "      <td>43.60</td>\n",
       "      <td>42.86</td>\n",
       "      <td>42.35</td>\n",
       "      <td>41.89</td>\n",
       "      <td>41.50</td>\n",
       "      <td>41.00</td>\n",
       "      <td>40.41</td>\n",
       "      <td>38.66</td>\n",
       "      <td>37.52</td>\n",
       "      <td>36.45</td>\n",
       "    </tr>\n",
       "    <tr>\n",
       "      <th>total_num_trades</th>\n",
       "      <td>849.00</td>\n",
       "      <td>644.00</td>\n",
       "      <td>548.00</td>\n",
       "      <td>444.00</td>\n",
       "      <td>383.00</td>\n",
       "      <td>323.00</td>\n",
       "      <td>277.00</td>\n",
       "      <td>249.00</td>\n",
       "      <td>226.00</td>\n",
       "      <td>208.00</td>\n",
       "      <td>187.00</td>\n",
       "      <td>170.00</td>\n",
       "      <td>158.00</td>\n",
       "    </tr>\n",
       "    <tr>\n",
       "      <th>pct_profitable_trades</th>\n",
       "      <td>73.73</td>\n",
       "      <td>74.84</td>\n",
       "      <td>77.74</td>\n",
       "      <td>76.80</td>\n",
       "      <td>78.59</td>\n",
       "      <td>78.95</td>\n",
       "      <td>79.42</td>\n",
       "      <td>77.91</td>\n",
       "      <td>76.55</td>\n",
       "      <td>75.96</td>\n",
       "      <td>77.01</td>\n",
       "      <td>75.29</td>\n",
       "      <td>75.32</td>\n",
       "    </tr>\n",
       "    <tr>\n",
       "      <th>avg_points</th>\n",
       "      <td>0.23</td>\n",
       "      <td>0.30</td>\n",
       "      <td>0.50</td>\n",
       "      <td>0.55</td>\n",
       "      <td>0.71</td>\n",
       "      <td>0.80</td>\n",
       "      <td>0.86</td>\n",
       "      <td>0.96</td>\n",
       "      <td>1.05</td>\n",
       "      <td>1.12</td>\n",
       "      <td>1.28</td>\n",
       "      <td>1.34</td>\n",
       "      <td>1.44</td>\n",
       "    </tr>\n",
       "  </tbody>\n",
       "</table>\n",
       "</div>"
      ],
      "text/plain": [
       "                                3      4      5      6      7      8      9  \\\n",
       "annual_return_rate           6.19   5.88   8.11   7.56   8.49   8.07   7.19   \n",
       "max_closed_out_drawdown    -24.07 -21.62 -17.77 -19.49 -16.00 -15.66 -18.60   \n",
       "drawdown_annualized_return  -3.89  -3.68  -2.19  -2.58  -1.88  -1.94  -2.59   \n",
       "drawdown_recovery           -0.91  -0.97  -0.80  -1.28  -0.65  -0.43  -0.25   \n",
       "best_month                  11.45  10.41  10.53  11.15  12.16  12.26  13.39   \n",
       "worst_month                -15.50 -14.97 -14.39 -14.39 -13.43 -14.18 -16.30   \n",
       "sharpe_ratio                 0.59   0.57   0.76   0.71   0.79   0.75   0.67   \n",
       "sortino_ratio                0.55   0.53   0.70   0.65   0.70   0.66   0.60   \n",
       "monthly_std                  2.62   2.48   2.45   2.41   2.40   2.40   2.49   \n",
       "pct_time_in_market          47.75  46.01  44.65  43.60  42.86  42.35  41.89   \n",
       "total_num_trades           849.00 644.00 548.00 444.00 383.00 323.00 277.00   \n",
       "pct_profitable_trades       73.73  74.84  77.74  76.80  78.59  78.95  79.42   \n",
       "avg_points                   0.23   0.30   0.50   0.55   0.71   0.80   0.86   \n",
       "\n",
       "                               10     11     12     13     14     15  \n",
       "annual_return_rate           7.14   7.12   6.89   6.93   6.47   6.46  \n",
       "max_closed_out_drawdown    -17.81 -19.17 -17.33 -17.08 -18.34 -17.88  \n",
       "drawdown_annualized_return  -2.50  -2.69  -2.52  -2.46  -2.83  -2.77  \n",
       "drawdown_recovery           -0.25  -1.55  -0.24  -1.62  -1.62  -1.62  \n",
       "best_month                  13.71  14.12  14.31  14.35  10.64  10.71  \n",
       "worst_month                -16.29 -16.26 -16.28 -16.25 -14.45 -14.47  \n",
       "sharpe_ratio                 0.67   0.67   0.64   0.66   0.63   0.63  \n",
       "sortino_ratio                0.59   0.59   0.56   0.56   0.52   0.51  \n",
       "monthly_std                  2.53   2.54   2.55   2.49   2.41   2.43  \n",
       "pct_time_in_market          41.50  41.00  40.41  38.66  37.52  36.45  \n",
       "total_num_trades           249.00 226.00 208.00 187.00 170.00 158.00  \n",
       "pct_profitable_trades       77.91  76.55  75.96  77.01  75.29  75.32  \n",
       "avg_points                   0.96   1.05   1.12   1.28   1.34   1.44  "
      ]
     },
     "execution_count": 6,
     "metadata": {},
     "output_type": "execute_result"
    }
   ],
   "source": [
    "metrics = ('annual_return_rate',\n",
    "           'max_closed_out_drawdown',\n",
    "           'drawdown_annualized_return',\n",
    "           'drawdown_recovery',\n",
    "           'best_month',\n",
    "           'worst_month',\n",
    "           'sharpe_ratio',\n",
    "           'sortino_ratio',\n",
    "           'monthly_std',\n",
    "           'pct_time_in_market',\n",
    "           'total_num_trades',\n",
    "           'pct_profitable_trades',\n",
    "           'avg_points')\n",
    "\n",
    "df = strategy.summary(strategies, *metrics)\n",
    "df"
   ]
  },
  {
   "cell_type": "markdown",
   "metadata": {},
   "source": [
    "Bar graphs"
   ]
  },
  {
   "cell_type": "code",
   "execution_count": 7,
   "metadata": {
    "ExecuteTime": {
     "end_time": "2020-02-16T23:52:57.106398Z",
     "start_time": "2020-02-16T23:52:56.292252Z"
    }
   },
   "outputs": [
    {
     "data": {
      "image/png": "[encoded data removed]",
      "text/plain": [
       "<Figure size 720x504 with 1 Axes>"
      ]
     },
     "metadata": {
      "needs_background": "light"
     },
     "output_type": "display_data"
    },
    {
     "data": {
      "image/png": "[encoded data removed]",
      "text/plain": [
       "<Figure size 720x504 with 1 Axes>"
      ]
     },
     "metadata": {
      "needs_background": "light"
     },
     "output_type": "display_data"
    },
    {
     "data": {
      "image/png": "[encoded data removed]",
      "text/plain": [
       "<Figure size 720x504 with 1 Axes>"
      ]
     },
     "metadata": {
      "needs_background": "light"
     },
     "output_type": "display_data"
    }
   ],
   "source": [
    "strategy.plot_bar_graph(df, 'annual_return_rate')\n",
    "strategy.plot_bar_graph(df, 'sharpe_ratio')\n",
    "strategy.plot_bar_graph(df, 'max_closed_out_drawdown')"
   ]
  },
  {
   "cell_type": "markdown",
   "metadata": {},
   "source": [
    "Run Benchmark"
   ]
  },
  {
   "cell_type": "code",
   "execution_count": 8,
   "metadata": {
    "ExecuteTime": {
     "end_time": "2020-02-16T23:52:57.754601Z",
     "start_time": "2020-02-16T23:52:57.111779Z"
    }
   },
   "outputs": [
    {
     "name": "stdout",
     "output_type": "stream",
     "text": [
      "1993-11-11 00:00:00 BUY  215 SPY @ 46.38\n",
      "2020-02-14 00:00:00 SELL 215 SPY @ 337.60\n"
     ]
    }
   ],
   "source": [
    "s = strategies[periods[0]]\n",
    "benchmark = pf.Benchmark(symbol, capital, s._start, s._end, s._use_adj)\n",
    "benchmark.run()\n",
    "benchmark.tlog, benchmark.dbal = benchmark.get_logs()\n",
    "benchmark.stats = benchmark.get_stats()"
   ]
  },
  {
   "cell_type": "markdown",
   "metadata": {},
   "source": [
    "Equity curve"
   ]
  },
  {
   "cell_type": "code",
   "execution_count": 9,
   "metadata": {
    "ExecuteTime": {
     "end_time": "2020-02-16T23:52:58.035696Z",
     "start_time": "2020-02-16T23:52:57.766951Z"
    }
   },
   "outputs": [
    {
     "data": {
      "image/png": "[encoded data removed]",
      "text/plain": [
       "<Figure size 720x504 with 1 Axes>"
      ]
     },
     "metadata": {
      "needs_background": "light"
     },
     "output_type": "display_data"
    }
   ],
   "source": [
    "pf.plot_equity_curve(strategies['7'].dbal, benchmark=benchmark.dbal)"
   ]
  }
 ],
 "metadata": {
  "kernelspec": {
   "display_name": "Python 2",
   "language": "python",
   "name": "python2"
  },
  "language_info": {
   "codemirror_mode": {
    "name": "ipython",
    "version": 2
   },
   "file_extension": ".py",
   "mimetype": "text/x-python",
   "name": "python",
   "nbconvert_exporter": "python",
   "pygments_lexer": "ipython2",
   "version": "2.7.15+"
  },
  "latex_envs": {
   "LaTeX_envs_menu_present": true,
   "autoclose": false,
   "autocomplete": true,
   "bibliofile": "biblio.bib",
   "cite_by": "apalike",
   "current_citInitial": 1,
   "eqLabelWithNumbers": true,
   "eqNumInitial": 1,
   "hotkeys": {
    "equation": "Ctrl-E",
    "itemize": "Ctrl-I"
   },
   "labels_anchors": false,
   "latex_user_defs": false,
   "report_style_numbering": false,
   "user_envs_cfg": false
  }
 },
 "nbformat": 4,
 "nbformat_minor": 1
}
