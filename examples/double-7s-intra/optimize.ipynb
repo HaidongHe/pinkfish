{
 "cells": [
  {
   "cell_type": "markdown",
   "metadata": {},
   "source": [
    "# Double 7's Intra (Short Term Trading Strategies that Work)\n",
    "\n",
    "    1. The SPY is above its 200-day moving average\n",
    "    2. The SPY makes an intraday X-day low, buy.\n",
    "    3. If the SPY makes an intraday X-day high, sell your long position.\n",
    "    \n",
    "    (optimize the number of days)"
   ]
  },
  {
   "cell_type": "code",
   "execution_count": 1,
   "metadata": {
    "ExecuteTime": {
     "end_time": "2020-02-16T23:52:39.133788Z",
     "start_time": "2020-02-16T23:52:38.450202Z"
    }
   },
   "outputs": [],
   "source": [
    "import pandas as pd\n",
    "import matplotlib.pyplot as plt\n",
    "import datetime\n",
    "from talib.abstract import *\n",
    "\n",
    "import pinkfish as pf\n",
    "import strategy\n",
    "\n",
    "# format price data\n",
    "pd.options.display.float_format = '{:0.2f}'.format\n",
    "\n",
    "%matplotlib inline"
   ]
  },
  {
   "cell_type": "code",
   "execution_count": 2,
   "metadata": {
    "ExecuteTime": {
     "end_time": "2020-02-16T23:52:39.150042Z",
     "start_time": "2020-02-16T23:52:39.143381Z"
    }
   },
   "outputs": [],
   "source": [
    "# set size of inline plots\n",
    "'''note: rcParams can't be in same cell as import matplotlib\n",
    "   or %matplotlib inline\n",
    "   \n",
    "   %matplotlib notebook: will lead to interactive plots embedded within\n",
    "   the notebook, you can zoom and resize the figure\n",
    "   \n",
    "   %matplotlib inline: only draw static images in the notebook\n",
    "'''\n",
    "plt.rcParams[\"figure.figsize\"] = (10, 7)"
   ]
  },
  {
   "cell_type": "markdown",
   "metadata": {},
   "source": [
    "Some global data"
   ]
  },
  {
   "cell_type": "code",
   "execution_count": 3,
   "metadata": {
    "ExecuteTime": {
     "end_time": "2020-02-16T23:52:39.163735Z",
     "start_time": "2020-02-16T23:52:39.155947Z"
    }
   },
   "outputs": [],
   "source": [
    "#symbol = '^GSPC'\n",
    "symbol = 'SPY'\n",
    "#symbol = 'DIA'\n",
    "#symbol = 'QQQ'\n",
    "#symbol = 'IWM'\n",
    "#symbol = 'TLT'\n",
    "#symbol = 'GLD'\n",
    "#symbol = 'AAPL'\n",
    "#symbol = 'BBRY'\n",
    "#symbol = 'GDX'\n",
    "capital = 10000\n",
    "start = datetime.datetime(1900, 1, 1)\n",
    "end = datetime.datetime.now()\n",
    "use_adj = False"
   ]
  },
  {
   "cell_type": "markdown",
   "metadata": {},
   "source": [
    "Define high low trade periods"
   ]
  },
  {
   "cell_type": "code",
   "execution_count": 4,
   "metadata": {
    "ExecuteTime": {
     "end_time": "2020-02-16T23:52:39.173763Z",
     "start_time": "2020-02-16T23:52:39.168574Z"
    }
   },
   "outputs": [],
   "source": [
    "periods = range(3, 16)\n",
    "periods = [str(period) for period in periods]"
   ]
  },
  {
   "cell_type": "markdown",
   "metadata": {},
   "source": [
    "Run Strategy"
   ]
  },
  {
   "cell_type": "code",
   "execution_count": 5,
   "metadata": {
    "ExecuteTime": {
     "end_time": "2020-02-16T23:52:56.217400Z",
     "start_time": "2020-02-16T23:52:39.177807Z"
    },
    "scrolled": true
   },
   "outputs": [
    {
     "name": "stdout",
     "output_type": "stream",
     "text": [
      "3 4 5 6 7 8 9 10 11 12 13 14 15 "
     ]
    }
   ],
   "source": [
    "strategies = pd.Series(dtype=object)\n",
    "for period in periods:\n",
    "    print(\"{0}\".format(period), end=\" \")\n",
    "    strategies[period] = strategy.Strategy(symbol, capital, start, end, use_adj, int(period))\n",
    "    strategies[period].run()\n",
    "    strategies[period].tlog, strategies[period].dbal = strategies[period].get_logs()\n",
    "    strategies[period].stats = strategies[period].get_stats()"
   ]
  },
  {
   "cell_type": "markdown",
   "metadata": {},
   "source": [
    "Summarize results"
   ]
  },
  {
   "cell_type": "code",
   "execution_count": 6,
   "metadata": {
    "ExecuteTime": {
     "end_time": "2020-02-16T23:52:56.281702Z",
     "start_time": "2020-02-16T23:52:56.227712Z"
    },
    "scrolled": false
   },
   "outputs": [
    {
     "data": {
      "text/html": [
       "<div>\n",
       "<style scoped>\n",
       "    .dataframe tbody tr th:only-of-type {\n",
       "        vertical-align: middle;\n",
       "    }\n",
       "\n",
       "    .dataframe tbody tr th {\n",
       "        vertical-align: top;\n",
       "    }\n",
       "\n",
       "    .dataframe thead th {\n",
       "        text-align: right;\n",
       "    }\n",
       "</style>\n",
       "<table border=\"1\" class=\"dataframe\">\n",
       "  <thead>\n",
       "    <tr style=\"text-align: right;\">\n",
       "      <th></th>\n",
       "      <th>3</th>\n",
       "      <th>4</th>\n",
       "      <th>5</th>\n",
       "      <th>6</th>\n",
       "      <th>7</th>\n",
       "      <th>8</th>\n",
       "      <th>9</th>\n",
       "      <th>10</th>\n",
       "      <th>11</th>\n",
       "      <th>12</th>\n",
       "      <th>13</th>\n",
       "      <th>14</th>\n",
       "      <th>15</th>\n",
       "    </tr>\n",
       "  </thead>\n",
       "  <tbody>\n",
       "    <tr>\n",
       "      <th>annual_return_rate</th>\n",
       "      <td>4.90</td>\n",
       "      <td>4.58</td>\n",
       "      <td>6.75</td>\n",
       "      <td>6.35</td>\n",
       "      <td>7.33</td>\n",
       "      <td>6.96</td>\n",
       "      <td>6.20</td>\n",
       "      <td>6.15</td>\n",
       "      <td>6.17</td>\n",
       "      <td>6.09</td>\n",
       "      <td>6.19</td>\n",
       "      <td>5.74</td>\n",
       "      <td>5.55</td>\n",
       "    </tr>\n",
       "    <tr>\n",
       "      <th>max_closed_out_drawdown</th>\n",
       "      <td>-33.84</td>\n",
       "      <td>-32.39</td>\n",
       "      <td>-32.73</td>\n",
       "      <td>-32.60</td>\n",
       "      <td>-32.16</td>\n",
       "      <td>-32.09</td>\n",
       "      <td>-32.14</td>\n",
       "      <td>-31.59</td>\n",
       "      <td>-31.45</td>\n",
       "      <td>-30.99</td>\n",
       "      <td>-30.98</td>\n",
       "      <td>-31.03</td>\n",
       "      <td>-31.14</td>\n",
       "    </tr>\n",
       "    <tr>\n",
       "      <th>drawdown_annualized_return</th>\n",
       "      <td>-6.91</td>\n",
       "      <td>-7.08</td>\n",
       "      <td>-4.85</td>\n",
       "      <td>-5.13</td>\n",
       "      <td>-4.39</td>\n",
       "      <td>-4.61</td>\n",
       "      <td>-5.18</td>\n",
       "      <td>-5.13</td>\n",
       "      <td>-5.10</td>\n",
       "      <td>-5.09</td>\n",
       "      <td>-5.01</td>\n",
       "      <td>-5.41</td>\n",
       "      <td>-5.61</td>\n",
       "    </tr>\n",
       "    <tr>\n",
       "      <th>drawdown_recovery</th>\n",
       "      <td>-2.14</td>\n",
       "      <td>-0.16</td>\n",
       "      <td>-0.16</td>\n",
       "      <td>-0.16</td>\n",
       "      <td>-0.09</td>\n",
       "      <td>-0.09</td>\n",
       "      <td>-0.09</td>\n",
       "      <td>-0.08</td>\n",
       "      <td>-0.08</td>\n",
       "      <td>-0.08</td>\n",
       "      <td>-0.08</td>\n",
       "      <td>-0.08</td>\n",
       "      <td>-0.08</td>\n",
       "    </tr>\n",
       "    <tr>\n",
       "      <th>best_month</th>\n",
       "      <td>11.87</td>\n",
       "      <td>11.06</td>\n",
       "      <td>10.43</td>\n",
       "      <td>11.51</td>\n",
       "      <td>11.60</td>\n",
       "      <td>11.81</td>\n",
       "      <td>14.40</td>\n",
       "      <td>14.41</td>\n",
       "      <td>14.32</td>\n",
       "      <td>14.54</td>\n",
       "      <td>14.54</td>\n",
       "      <td>14.57</td>\n",
       "      <td>14.65</td>\n",
       "    </tr>\n",
       "    <tr>\n",
       "      <th>worst_month</th>\n",
       "      <td>-29.51</td>\n",
       "      <td>-31.08</td>\n",
       "      <td>-31.10</td>\n",
       "      <td>-31.09</td>\n",
       "      <td>-31.13</td>\n",
       "      <td>-31.06</td>\n",
       "      <td>-31.11</td>\n",
       "      <td>-31.13</td>\n",
       "      <td>-30.99</td>\n",
       "      <td>-30.99</td>\n",
       "      <td>-30.98</td>\n",
       "      <td>-31.03</td>\n",
       "      <td>-31.14</td>\n",
       "    </tr>\n",
       "    <tr>\n",
       "      <th>sharpe_ratio</th>\n",
       "      <td>0.56</td>\n",
       "      <td>0.53</td>\n",
       "      <td>0.75</td>\n",
       "      <td>0.70</td>\n",
       "      <td>0.79</td>\n",
       "      <td>0.75</td>\n",
       "      <td>0.68</td>\n",
       "      <td>0.68</td>\n",
       "      <td>0.68</td>\n",
       "      <td>0.66</td>\n",
       "      <td>0.68</td>\n",
       "      <td>0.65</td>\n",
       "      <td>0.63</td>\n",
       "    </tr>\n",
       "    <tr>\n",
       "      <th>sortino_ratio</th>\n",
       "      <td>0.51</td>\n",
       "      <td>0.48</td>\n",
       "      <td>0.68</td>\n",
       "      <td>0.63</td>\n",
       "      <td>0.71</td>\n",
       "      <td>0.67</td>\n",
       "      <td>0.61</td>\n",
       "      <td>0.60</td>\n",
       "      <td>0.61</td>\n",
       "      <td>0.59</td>\n",
       "      <td>0.59</td>\n",
       "      <td>0.55</td>\n",
       "      <td>0.53</td>\n",
       "    </tr>\n",
       "    <tr>\n",
       "      <th>monthly_std</th>\n",
       "      <td>2.80</td>\n",
       "      <td>2.68</td>\n",
       "      <td>2.64</td>\n",
       "      <td>2.56</td>\n",
       "      <td>2.54</td>\n",
       "      <td>2.51</td>\n",
       "      <td>2.57</td>\n",
       "      <td>2.59</td>\n",
       "      <td>2.58</td>\n",
       "      <td>2.56</td>\n",
       "      <td>2.50</td>\n",
       "      <td>2.42</td>\n",
       "      <td>2.44</td>\n",
       "    </tr>\n",
       "    <tr>\n",
       "      <th>pct_time_in_market</th>\n",
       "      <td>47.60</td>\n",
       "      <td>45.90</td>\n",
       "      <td>44.54</td>\n",
       "      <td>43.51</td>\n",
       "      <td>42.79</td>\n",
       "      <td>42.28</td>\n",
       "      <td>41.88</td>\n",
       "      <td>41.48</td>\n",
       "      <td>40.99</td>\n",
       "      <td>40.45</td>\n",
       "      <td>38.69</td>\n",
       "      <td>37.57</td>\n",
       "      <td>36.42</td>\n",
       "    </tr>\n",
       "    <tr>\n",
       "      <th>total_num_trades</th>\n",
       "      <td>855.00</td>\n",
       "      <td>647.00</td>\n",
       "      <td>550.00</td>\n",
       "      <td>446.00</td>\n",
       "      <td>385.00</td>\n",
       "      <td>325.00</td>\n",
       "      <td>279.00</td>\n",
       "      <td>251.00</td>\n",
       "      <td>228.00</td>\n",
       "      <td>210.00</td>\n",
       "      <td>189.00</td>\n",
       "      <td>172.00</td>\n",
       "      <td>159.00</td>\n",
       "    </tr>\n",
       "    <tr>\n",
       "      <th>pct_profitable_trades</th>\n",
       "      <td>73.45</td>\n",
       "      <td>74.65</td>\n",
       "      <td>77.45</td>\n",
       "      <td>76.46</td>\n",
       "      <td>78.44</td>\n",
       "      <td>78.77</td>\n",
       "      <td>79.21</td>\n",
       "      <td>77.69</td>\n",
       "      <td>76.32</td>\n",
       "      <td>75.71</td>\n",
       "      <td>76.72</td>\n",
       "      <td>75.00</td>\n",
       "      <td>74.84</td>\n",
       "    </tr>\n",
       "    <tr>\n",
       "      <th>avg_points</th>\n",
       "      <td>0.13</td>\n",
       "      <td>0.16</td>\n",
       "      <td>0.34</td>\n",
       "      <td>0.37</td>\n",
       "      <td>0.51</td>\n",
       "      <td>0.58</td>\n",
       "      <td>0.62</td>\n",
       "      <td>0.69</td>\n",
       "      <td>0.77</td>\n",
       "      <td>0.87</td>\n",
       "      <td>1.02</td>\n",
       "      <td>1.05</td>\n",
       "      <td>1.06</td>\n",
       "    </tr>\n",
       "  </tbody>\n",
       "</table>\n",
       "</div>"
      ],
      "text/plain": [
       "                                3      4      5      6      7      8      9  \\\n",
       "annual_return_rate           4.90   4.58   6.75   6.35   7.33   6.96   6.20   \n",
       "max_closed_out_drawdown    -33.84 -32.39 -32.73 -32.60 -32.16 -32.09 -32.14   \n",
       "drawdown_annualized_return  -6.91  -7.08  -4.85  -5.13  -4.39  -4.61  -5.18   \n",
       "drawdown_recovery           -2.14  -0.16  -0.16  -0.16  -0.09  -0.09  -0.09   \n",
       "best_month                  11.87  11.06  10.43  11.51  11.60  11.81  14.40   \n",
       "worst_month                -29.51 -31.08 -31.10 -31.09 -31.13 -31.06 -31.11   \n",
       "sharpe_ratio                 0.56   0.53   0.75   0.70   0.79   0.75   0.68   \n",
       "sortino_ratio                0.51   0.48   0.68   0.63   0.71   0.67   0.61   \n",
       "monthly_std                  2.80   2.68   2.64   2.56   2.54   2.51   2.57   \n",
       "pct_time_in_market          47.60  45.90  44.54  43.51  42.79  42.28  41.88   \n",
       "total_num_trades           855.00 647.00 550.00 446.00 385.00 325.00 279.00   \n",
       "pct_profitable_trades       73.45  74.65  77.45  76.46  78.44  78.77  79.21   \n",
       "avg_points                   0.13   0.16   0.34   0.37   0.51   0.58   0.62   \n",
       "\n",
       "                               10     11     12     13     14     15  \n",
       "annual_return_rate           6.15   6.17   6.09   6.19   5.74   5.55  \n",
       "max_closed_out_drawdown    -31.59 -31.45 -30.99 -30.98 -31.03 -31.14  \n",
       "drawdown_annualized_return  -5.13  -5.10  -5.09  -5.01  -5.41  -5.61  \n",
       "drawdown_recovery           -0.08  -0.08  -0.08  -0.08  -0.08  -0.08  \n",
       "best_month                  14.41  14.32  14.54  14.54  14.57  14.65  \n",
       "worst_month                -31.13 -30.99 -30.99 -30.98 -31.03 -31.14  \n",
       "sharpe_ratio                 0.68   0.68   0.66   0.68   0.65   0.63  \n",
       "sortino_ratio                0.60   0.61   0.59   0.59   0.55   0.53  \n",
       "monthly_std                  2.59   2.58   2.56   2.50   2.42   2.44  \n",
       "pct_time_in_market          41.48  40.99  40.45  38.69  37.57  36.42  \n",
       "total_num_trades           251.00 228.00 210.00 189.00 172.00 159.00  \n",
       "pct_profitable_trades       77.69  76.32  75.71  76.72  75.00  74.84  \n",
       "avg_points                   0.69   0.77   0.87   1.02   1.05   1.06  "
      ]
     },
     "execution_count": 6,
     "metadata": {},
     "output_type": "execute_result"
    }
   ],
   "source": [
    "metrics = ('annual_return_rate',\n",
    "           'max_closed_out_drawdown',\n",
    "           'drawdown_annualized_return',\n",
    "           'drawdown_recovery',\n",
    "           'best_month',\n",
    "           'worst_month',\n",
    "           'sharpe_ratio',\n",
    "           'sortino_ratio',\n",
    "           'monthly_std',\n",
    "           'pct_time_in_market',\n",
    "           'total_num_trades',\n",
    "           'pct_profitable_trades',\n",
    "           'avg_points')\n",
    "\n",
    "df = strategy.summary(strategies, metrics)\n",
    "df"
   ]
  },
  {
   "cell_type": "markdown",
   "metadata": {},
   "source": [
    "Bar graphs"
   ]
  },
  {
   "cell_type": "code",
   "execution_count": 7,
   "metadata": {
    "ExecuteTime": {
     "end_time": "2020-02-16T23:52:57.106398Z",
     "start_time": "2020-02-16T23:52:56.292252Z"
    }
   },
   "outputs": [
    {
     "data": {
      "image/png": "[encoded data removed]",
      "text/plain": [
       "<Figure size 720x504 with 1 Axes>"
      ]
     },
     "metadata": {
      "needs_background": "light"
     },
     "output_type": "display_data"
    },
    {
     "data": {
      "image/png": "[encoded data removed]",
      "text/plain": [
       "<Figure size 720x504 with 1 Axes>"
      ]
     },
     "metadata": {
      "needs_background": "light"
     },
     "output_type": "display_data"
    },
    {
     "data": {
      "image/png": "[encoded data removed]",
      "text/plain": [
       "<Figure size 720x504 with 1 Axes>"
      ]
     },
     "metadata": {
      "needs_background": "light"
     },
     "output_type": "display_data"
    }
   ],
   "source": [
    "strategy.plot_bar_graph(df, 'annual_return_rate')\n",
    "strategy.plot_bar_graph(df, 'sharpe_ratio')\n",
    "strategy.plot_bar_graph(df, 'max_closed_out_drawdown')"
   ]
  },
  {
   "cell_type": "markdown",
   "metadata": {},
   "source": [
    "Run Benchmark"
   ]
  },
  {
   "cell_type": "code",
   "execution_count": 8,
   "metadata": {
    "ExecuteTime": {
     "end_time": "2020-02-16T23:52:57.754601Z",
     "start_time": "2020-02-16T23:52:57.111779Z"
    }
   },
   "outputs": [
    {
     "name": "stdout",
     "output_type": "stream",
     "text": [
      "1993-11-11 00:00:00 BUY  215 SPY @ 46.38\n",
      "2020-06-22 00:00:00 SELL 215 SPY @ 310.62\n"
     ]
    }
   ],
   "source": [
    "s = strategies[periods[0]]\n",
    "benchmark = pf.Benchmark(symbol, capital, s._start, s._end, s._use_adj)\n",
    "benchmark.run()\n",
    "benchmark.tlog, benchmark.dbal = benchmark.get_logs()\n",
    "benchmark.stats = benchmark.get_stats()"
   ]
  },
  {
   "cell_type": "markdown",
   "metadata": {},
   "source": [
    "Equity curve"
   ]
  },
  {
   "cell_type": "code",
   "execution_count": 9,
   "metadata": {
    "ExecuteTime": {
     "end_time": "2020-02-16T23:52:58.035696Z",
     "start_time": "2020-02-16T23:52:57.766951Z"
    }
   },
   "outputs": [
    {
     "data": {
      "image/png": "[encoded data removed]",
      "text/plain": [
       "<Figure size 720x504 with 1 Axes>"
      ]
     },
     "metadata": {
      "needs_background": "light"
     },
     "output_type": "display_data"
    }
   ],
   "source": [
    "pf.plot_equity_curve(strategies['7'].dbal, benchmark=benchmark.dbal)"
   ]
  }
 ],
 "metadata": {
  "kernelspec": {
   "display_name": "Python 3",
   "language": "python",
   "name": "python3"
  },
  "language_info": {
   "codemirror_mode": {
    "name": "ipython",
    "version": 3
   },
   "file_extension": ".py",
   "mimetype": "text/x-python",
   "name": "python",
   "nbconvert_exporter": "python",
   "pygments_lexer": "ipython3",
   "version": "3.8.2"
  },
  "latex_envs": {
   "LaTeX_envs_menu_present": true,
   "autoclose": false,
   "autocomplete": true,
   "bibliofile": "biblio.bib",
   "cite_by": "apalike",
   "current_citInitial": 1,
   "eqLabelWithNumbers": true,
   "eqNumInitial": 1,
   "hotkeys": {
    "equation": "Ctrl-E",
    "itemize": "Ctrl-I"
   },
   "labels_anchors": false,
   "latex_user_defs": false,
   "report_style_numbering": false,
   "user_envs_cfg": false
  }
 },
 "nbformat": 4,
 "nbformat_minor": 1
}
