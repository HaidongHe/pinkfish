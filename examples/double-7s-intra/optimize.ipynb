{
 "cells": [
  {
   "cell_type": "markdown",
   "metadata": {},
   "source": [
    "# Double 7's Intra (Short Term Trading Strategies that Work)\n",
    "\n",
    "    1. The SPY is above its 200-day moving average\n",
    "    2. The SPY makes an intraday X-day low, buy.\n",
    "    3. If the SPY makes an intraday X-day high, sell your long position.\n",
    "    \n",
    "    (optimize the number of days)"
   ]
  },
  {
   "cell_type": "code",
   "execution_count": 1,
   "metadata": {
    "ExecuteTime": {
     "end_time": "2020-02-16T23:52:39.133788Z",
     "start_time": "2020-02-16T23:52:38.450202Z"
    }
   },
   "outputs": [],
   "source": [
    "import pandas as pd\n",
    "import matplotlib.pyplot as plt\n",
    "import datetime\n",
    "from talib.abstract import *\n",
    "\n",
    "import pinkfish as pf\n",
    "import strategy\n",
    "\n",
    "# format price data\n",
    "pd.options.display.float_format = '{:0.2f}'.format\n",
    "\n",
    "%matplotlib inline"
   ]
  },
  {
   "cell_type": "code",
   "execution_count": 2,
   "metadata": {
    "ExecuteTime": {
     "end_time": "2020-02-16T23:52:39.150042Z",
     "start_time": "2020-02-16T23:52:39.143381Z"
    }
   },
   "outputs": [],
   "source": [
    "# set size of inline plots\n",
    "'''note: rcParams can't be in same cell as import matplotlib\n",
    "   or %matplotlib inline\n",
    "   \n",
    "   %matplotlib notebook: will lead to interactive plots embedded within\n",
    "   the notebook, you can zoom and resize the figure\n",
    "   \n",
    "   %matplotlib inline: only draw static images in the notebook\n",
    "'''\n",
    "plt.rcParams[\"figure.figsize\"] = (10, 7)"
   ]
  },
  {
   "cell_type": "markdown",
   "metadata": {},
   "source": [
    "Some global data"
   ]
  },
  {
   "cell_type": "code",
   "execution_count": 3,
   "metadata": {
    "ExecuteTime": {
     "end_time": "2020-02-16T23:52:39.163735Z",
     "start_time": "2020-02-16T23:52:39.155947Z"
    }
   },
   "outputs": [],
   "source": [
    "#symbol = '^GSPC'\n",
    "symbol = 'SPY'\n",
    "#symbol = 'DIA'\n",
    "#symbol = 'QQQ'\n",
    "#symbol = 'IWM'\n",
    "#symbol = 'TLT'\n",
    "#symbol = 'GLD'\n",
    "#symbol = 'AAPL'\n",
    "#symbol = 'BBRY'\n",
    "#symbol = 'GDX'\n",
    "capital = 10000\n",
    "start = datetime.datetime(1900, 1, 1)\n",
    "end = datetime.datetime.now()\n",
    "use_adj = False"
   ]
  },
  {
   "cell_type": "markdown",
   "metadata": {},
   "source": [
    "Define high low trade periods"
   ]
  },
  {
   "cell_type": "code",
   "execution_count": 4,
   "metadata": {
    "ExecuteTime": {
     "end_time": "2020-02-16T23:52:39.173763Z",
     "start_time": "2020-02-16T23:52:39.168574Z"
    }
   },
   "outputs": [],
   "source": [
    "periods = range(3, 16)\n",
    "periods = [str(period) for period in periods]"
   ]
  },
  {
   "cell_type": "markdown",
   "metadata": {},
   "source": [
    "Run Strategy"
   ]
  },
  {
   "cell_type": "code",
   "execution_count": 5,
   "metadata": {
    "ExecuteTime": {
     "end_time": "2020-02-16T23:52:56.217400Z",
     "start_time": "2020-02-16T23:52:39.177807Z"
    },
    "scrolled": true
   },
   "outputs": [
    {
     "name": "stdout",
     "output_type": "stream",
     "text": [
      "3 4 5 6 7 8 9 10 11 12 13 14 15 "
     ]
    }
   ],
   "source": [
    "strategies = pd.Series(dtype=object)\n",
    "for period in periods:\n",
    "    print(\"{0}\".format(period), end=\" \")\n",
    "    strategies[period] = strategy.Strategy(symbol, capital, start, end, use_adj, int(period))\n",
    "    strategies[period].run()\n",
    "    strategies[period].tlog, strategies[period].dbal = strategies[period].get_logs()\n",
    "    strategies[period].stats = strategies[period].get_stats()"
   ]
  },
  {
   "cell_type": "markdown",
   "metadata": {},
   "source": [
    "Summarize results"
   ]
  },
  {
   "cell_type": "code",
   "execution_count": 6,
   "metadata": {
    "ExecuteTime": {
     "end_time": "2020-02-16T23:52:56.281702Z",
     "start_time": "2020-02-16T23:52:56.227712Z"
    },
    "scrolled": false
   },
   "outputs": [
    {
     "data": {
      "text/html": [
       "<div>\n",
       "<style scoped>\n",
       "    .dataframe tbody tr th:only-of-type {\n",
       "        vertical-align: middle;\n",
       "    }\n",
       "\n",
       "    .dataframe tbody tr th {\n",
       "        vertical-align: top;\n",
       "    }\n",
       "\n",
       "    .dataframe thead th {\n",
       "        text-align: right;\n",
       "    }\n",
       "</style>\n",
       "<table border=\"1\" class=\"dataframe\">\n",
       "  <thead>\n",
       "    <tr style=\"text-align: right;\">\n",
       "      <th></th>\n",
       "      <th>3</th>\n",
       "      <th>4</th>\n",
       "      <th>5</th>\n",
       "      <th>6</th>\n",
       "      <th>7</th>\n",
       "      <th>8</th>\n",
       "      <th>9</th>\n",
       "      <th>10</th>\n",
       "      <th>11</th>\n",
       "      <th>12</th>\n",
       "      <th>13</th>\n",
       "      <th>14</th>\n",
       "      <th>15</th>\n",
       "    </tr>\n",
       "  </thead>\n",
       "  <tbody>\n",
       "    <tr>\n",
       "      <th>annual_return_rate</th>\n",
       "      <td>4.94</td>\n",
       "      <td>4.64</td>\n",
       "      <td>6.80</td>\n",
       "      <td>6.38</td>\n",
       "      <td>7.36</td>\n",
       "      <td>6.99</td>\n",
       "      <td>6.24</td>\n",
       "      <td>6.19</td>\n",
       "      <td>6.21</td>\n",
       "      <td>6.14</td>\n",
       "      <td>6.24</td>\n",
       "      <td>5.79</td>\n",
       "      <td>5.63</td>\n",
       "    </tr>\n",
       "    <tr>\n",
       "      <th>max_closed_out_drawdown</th>\n",
       "      <td>-35.28</td>\n",
       "      <td>-34.21</td>\n",
       "      <td>-34.38</td>\n",
       "      <td>-33.87</td>\n",
       "      <td>-33.82</td>\n",
       "      <td>-33.74</td>\n",
       "      <td>-33.80</td>\n",
       "      <td>-33.23</td>\n",
       "      <td>-32.99</td>\n",
       "      <td>-30.84</td>\n",
       "      <td>-30.84</td>\n",
       "      <td>-30.89</td>\n",
       "      <td>-31.00</td>\n",
       "    </tr>\n",
       "    <tr>\n",
       "      <th>drawdown_annualized_return</th>\n",
       "      <td>-7.14</td>\n",
       "      <td>-7.38</td>\n",
       "      <td>-5.06</td>\n",
       "      <td>-5.31</td>\n",
       "      <td>-4.59</td>\n",
       "      <td>-4.83</td>\n",
       "      <td>-5.42</td>\n",
       "      <td>-5.37</td>\n",
       "      <td>-5.31</td>\n",
       "      <td>-5.02</td>\n",
       "      <td>-4.94</td>\n",
       "      <td>-5.34</td>\n",
       "      <td>-5.50</td>\n",
       "    </tr>\n",
       "    <tr>\n",
       "      <th>drawdown_recovery</th>\n",
       "      <td>-2.15</td>\n",
       "      <td>-0.16</td>\n",
       "      <td>-0.21</td>\n",
       "      <td>-0.21</td>\n",
       "      <td>-0.09</td>\n",
       "      <td>-0.09</td>\n",
       "      <td>-0.09</td>\n",
       "      <td>-0.13</td>\n",
       "      <td>-0.08</td>\n",
       "      <td>-0.13</td>\n",
       "      <td>-0.13</td>\n",
       "      <td>-0.13</td>\n",
       "      <td>-0.13</td>\n",
       "    </tr>\n",
       "    <tr>\n",
       "      <th>best_month</th>\n",
       "      <td>11.45</td>\n",
       "      <td>10.93</td>\n",
       "      <td>11.38</td>\n",
       "      <td>14.86</td>\n",
       "      <td>14.97</td>\n",
       "      <td>15.17</td>\n",
       "      <td>17.85</td>\n",
       "      <td>17.86</td>\n",
       "      <td>17.75</td>\n",
       "      <td>17.98</td>\n",
       "      <td>17.97</td>\n",
       "      <td>18.01</td>\n",
       "      <td>18.11</td>\n",
       "    </tr>\n",
       "    <tr>\n",
       "      <th>worst_month</th>\n",
       "      <td>-29.76</td>\n",
       "      <td>-31.33</td>\n",
       "      <td>-31.35</td>\n",
       "      <td>-31.34</td>\n",
       "      <td>-31.38</td>\n",
       "      <td>-31.31</td>\n",
       "      <td>-31.36</td>\n",
       "      <td>-31.38</td>\n",
       "      <td>-31.24</td>\n",
       "      <td>-30.69</td>\n",
       "      <td>-30.69</td>\n",
       "      <td>-30.73</td>\n",
       "      <td>-30.85</td>\n",
       "    </tr>\n",
       "    <tr>\n",
       "      <th>sharpe_ratio</th>\n",
       "      <td>0.46</td>\n",
       "      <td>0.44</td>\n",
       "      <td>0.60</td>\n",
       "      <td>0.57</td>\n",
       "      <td>0.64</td>\n",
       "      <td>0.61</td>\n",
       "      <td>0.55</td>\n",
       "      <td>0.55</td>\n",
       "      <td>0.55</td>\n",
       "      <td>0.54</td>\n",
       "      <td>0.55</td>\n",
       "      <td>0.52</td>\n",
       "      <td>0.51</td>\n",
       "    </tr>\n",
       "    <tr>\n",
       "      <th>sortino_ratio</th>\n",
       "      <td>0.40</td>\n",
       "      <td>0.38</td>\n",
       "      <td>0.52</td>\n",
       "      <td>0.48</td>\n",
       "      <td>0.54</td>\n",
       "      <td>0.51</td>\n",
       "      <td>0.46</td>\n",
       "      <td>0.45</td>\n",
       "      <td>0.45</td>\n",
       "      <td>0.45</td>\n",
       "      <td>0.45</td>\n",
       "      <td>0.41</td>\n",
       "      <td>0.40</td>\n",
       "    </tr>\n",
       "    <tr>\n",
       "      <th>monthly_std</th>\n",
       "      <td>2.90</td>\n",
       "      <td>2.80</td>\n",
       "      <td>2.79</td>\n",
       "      <td>2.73</td>\n",
       "      <td>2.72</td>\n",
       "      <td>2.71</td>\n",
       "      <td>2.79</td>\n",
       "      <td>2.83</td>\n",
       "      <td>2.83</td>\n",
       "      <td>2.82</td>\n",
       "      <td>2.77</td>\n",
       "      <td>2.70</td>\n",
       "      <td>2.71</td>\n",
       "    </tr>\n",
       "    <tr>\n",
       "      <th>pct_time_in_market</th>\n",
       "      <td>47.61</td>\n",
       "      <td>45.91</td>\n",
       "      <td>44.57</td>\n",
       "      <td>43.54</td>\n",
       "      <td>42.80</td>\n",
       "      <td>42.29</td>\n",
       "      <td>41.89</td>\n",
       "      <td>41.49</td>\n",
       "      <td>41.00</td>\n",
       "      <td>40.46</td>\n",
       "      <td>38.70</td>\n",
       "      <td>37.59</td>\n",
       "      <td>36.43</td>\n",
       "    </tr>\n",
       "    <tr>\n",
       "      <th>total_num_trades</th>\n",
       "      <td>858.00</td>\n",
       "      <td>650.00</td>\n",
       "      <td>552.00</td>\n",
       "      <td>447.00</td>\n",
       "      <td>385.00</td>\n",
       "      <td>325.00</td>\n",
       "      <td>279.00</td>\n",
       "      <td>251.00</td>\n",
       "      <td>228.00</td>\n",
       "      <td>210.00</td>\n",
       "      <td>189.00</td>\n",
       "      <td>172.00</td>\n",
       "      <td>160.00</td>\n",
       "    </tr>\n",
       "    <tr>\n",
       "      <th>pct_profitable_trades</th>\n",
       "      <td>73.43</td>\n",
       "      <td>74.77</td>\n",
       "      <td>77.36</td>\n",
       "      <td>76.73</td>\n",
       "      <td>78.44</td>\n",
       "      <td>78.77</td>\n",
       "      <td>79.21</td>\n",
       "      <td>77.69</td>\n",
       "      <td>76.32</td>\n",
       "      <td>75.71</td>\n",
       "      <td>76.72</td>\n",
       "      <td>75.00</td>\n",
       "      <td>75.00</td>\n",
       "    </tr>\n",
       "    <tr>\n",
       "      <th>avg_points</th>\n",
       "      <td>0.13</td>\n",
       "      <td>0.17</td>\n",
       "      <td>0.34</td>\n",
       "      <td>0.38</td>\n",
       "      <td>0.52</td>\n",
       "      <td>0.59</td>\n",
       "      <td>0.64</td>\n",
       "      <td>0.70</td>\n",
       "      <td>0.78</td>\n",
       "      <td>0.89</td>\n",
       "      <td>1.04</td>\n",
       "      <td>1.08</td>\n",
       "      <td>1.10</td>\n",
       "    </tr>\n",
       "  </tbody>\n",
       "</table>\n",
       "</div>"
      ],
      "text/plain": [
       "                                3      4      5      6      7      8      9  \\\n",
       "annual_return_rate           4.94   4.64   6.80   6.38   7.36   6.99   6.24   \n",
       "max_closed_out_drawdown    -35.28 -34.21 -34.38 -33.87 -33.82 -33.74 -33.80   \n",
       "drawdown_annualized_return  -7.14  -7.38  -5.06  -5.31  -4.59  -4.83  -5.42   \n",
       "drawdown_recovery           -2.15  -0.16  -0.21  -0.21  -0.09  -0.09  -0.09   \n",
       "best_month                  11.45  10.93  11.38  14.86  14.97  15.17  17.85   \n",
       "worst_month                -29.76 -31.33 -31.35 -31.34 -31.38 -31.31 -31.36   \n",
       "sharpe_ratio                 0.46   0.44   0.60   0.57   0.64   0.61   0.55   \n",
       "sortino_ratio                0.40   0.38   0.52   0.48   0.54   0.51   0.46   \n",
       "monthly_std                  2.90   2.80   2.79   2.73   2.72   2.71   2.79   \n",
       "pct_time_in_market          47.61  45.91  44.57  43.54  42.80  42.29  41.89   \n",
       "total_num_trades           858.00 650.00 552.00 447.00 385.00 325.00 279.00   \n",
       "pct_profitable_trades       73.43  74.77  77.36  76.73  78.44  78.77  79.21   \n",
       "avg_points                   0.13   0.17   0.34   0.38   0.52   0.59   0.64   \n",
       "\n",
       "                               10     11     12     13     14     15  \n",
       "annual_return_rate           6.19   6.21   6.14   6.24   5.79   5.63  \n",
       "max_closed_out_drawdown    -33.23 -32.99 -30.84 -30.84 -30.89 -31.00  \n",
       "drawdown_annualized_return  -5.37  -5.31  -5.02  -4.94  -5.34  -5.50  \n",
       "drawdown_recovery           -0.13  -0.08  -0.13  -0.13  -0.13  -0.13  \n",
       "best_month                  17.86  17.75  17.98  17.97  18.01  18.11  \n",
       "worst_month                -31.38 -31.24 -30.69 -30.69 -30.73 -30.85  \n",
       "sharpe_ratio                 0.55   0.55   0.54   0.55   0.52   0.51  \n",
       "sortino_ratio                0.45   0.45   0.45   0.45   0.41   0.40  \n",
       "monthly_std                  2.83   2.83   2.82   2.77   2.70   2.71  \n",
       "pct_time_in_market          41.49  41.00  40.46  38.70  37.59  36.43  \n",
       "total_num_trades           251.00 228.00 210.00 189.00 172.00 160.00  \n",
       "pct_profitable_trades       77.69  76.32  75.71  76.72  75.00  75.00  \n",
       "avg_points                   0.70   0.78   0.89   1.04   1.08   1.10  "
      ]
     },
     "execution_count": 6,
     "metadata": {},
     "output_type": "execute_result"
    }
   ],
   "source": [
    "metrics = ('annual_return_rate',\n",
    "           'max_closed_out_drawdown',\n",
    "           'drawdown_annualized_return',\n",
    "           'drawdown_recovery',\n",
    "           'best_month',\n",
    "           'worst_month',\n",
    "           'sharpe_ratio',\n",
    "           'sortino_ratio',\n",
    "           'monthly_std',\n",
    "           'pct_time_in_market',\n",
    "           'total_num_trades',\n",
    "           'pct_profitable_trades',\n",
    "           'avg_points')\n",
    "\n",
    "df = strategy.summary(strategies, metrics)\n",
    "df"
   ]
  },
  {
   "cell_type": "markdown",
   "metadata": {},
   "source": [
    "Bar graphs"
   ]
  },
  {
   "cell_type": "code",
   "execution_count": 7,
   "metadata": {
    "ExecuteTime": {
     "end_time": "2020-02-16T23:52:57.106398Z",
     "start_time": "2020-02-16T23:52:56.292252Z"
    }
   },
   "outputs": [
    {
     "data": {
      "image/png": "[encoded data removed]",
      "text/plain": [
       "<Figure size 720x504 with 1 Axes>"
      ]
     },
     "metadata": {
      "needs_background": "light"
     },
     "output_type": "display_data"
    },
    {
     "data": {
      "image/png": "[encoded data removed]",
      "text/plain": [
       "<Figure size 720x504 with 1 Axes>"
      ]
     },
     "metadata": {
      "needs_background": "light"
     },
     "output_type": "display_data"
    },
    {
     "data": {
      "image/png": "[encoded data removed]",
      "text/plain": [
       "<Figure size 720x504 with 1 Axes>"
      ]
     },
     "metadata": {
      "needs_background": "light"
     },
     "output_type": "display_data"
    }
   ],
   "source": [
    "strategy.plot_bar_graph(df, 'annual_return_rate')\n",
    "strategy.plot_bar_graph(df, 'sharpe_ratio')\n",
    "strategy.plot_bar_graph(df, 'max_closed_out_drawdown')"
   ]
  },
  {
   "cell_type": "markdown",
   "metadata": {},
   "source": [
    "Run Benchmark"
   ]
  },
  {
   "cell_type": "code",
   "execution_count": 8,
   "metadata": {
    "ExecuteTime": {
     "end_time": "2020-02-16T23:52:57.754601Z",
     "start_time": "2020-02-16T23:52:57.111779Z"
    }
   },
   "outputs": [
    {
     "name": "stdout",
     "output_type": "stream",
     "text": [
      "1993-11-11 00:00:00 BUY  215 SPY @ 46.38\n",
      "2020-07-14 00:00:00 SELL 215 SPY @ 316.03\n"
     ]
    }
   ],
   "source": [
    "s = strategies[periods[0]]\n",
    "benchmark = pf.Benchmark(symbol, capital, s._start, s._end, s._use_adj)\n",
    "benchmark.run()\n",
    "benchmark.tlog, benchmark.dbal = benchmark.get_logs()\n",
    "benchmark.stats = benchmark.get_stats()"
   ]
  },
  {
   "cell_type": "markdown",
   "metadata": {},
   "source": [
    "Equity curve"
   ]
  },
  {
   "cell_type": "code",
   "execution_count": 9,
   "metadata": {
    "ExecuteTime": {
     "end_time": "2020-02-16T23:52:58.035696Z",
     "start_time": "2020-02-16T23:52:57.766951Z"
    }
   },
   "outputs": [
    {
     "data": {
      "image/png": "[encoded data removed]",
      "text/plain": [
       "<Figure size 720x504 with 1 Axes>"
      ]
     },
     "metadata": {
      "needs_background": "light"
     },
     "output_type": "display_data"
    }
   ],
   "source": [
    "pf.plot_equity_curve(strategies['7'].dbal, benchmark=benchmark.dbal)"
   ]
  }
 ],
 "metadata": {
  "kernelspec": {
   "display_name": "Python 3",
   "language": "python",
   "name": "python3"
  },
  "language_info": {
   "codemirror_mode": {
    "name": "ipython",
    "version": 3
   },
   "file_extension": ".py",
   "mimetype": "text/x-python",
   "name": "python",
   "nbconvert_exporter": "python",
   "pygments_lexer": "ipython3",
   "version": "3.8.2"
  },
  "latex_envs": {
   "LaTeX_envs_menu_present": true,
   "autoclose": false,
   "autocomplete": true,
   "bibliofile": "biblio.bib",
   "cite_by": "apalike",
   "current_citInitial": 1,
   "eqLabelWithNumbers": true,
   "eqNumInitial": 1,
   "hotkeys": {
    "equation": "Ctrl-E",
    "itemize": "Ctrl-I"
   },
   "labels_anchors": false,
   "latex_user_defs": false,
   "report_style_numbering": false,
   "user_envs_cfg": false
  }
 },
 "nbformat": 4,
 "nbformat_minor": 1
}
