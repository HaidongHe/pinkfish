{
 "cells": [
  {
   "cell_type": "markdown",
   "metadata": {},
   "source": [
    "# Double 7's Intra (Short Term Trading Strategies that Work)\n",
    "\n",
    "    1. The SPY is above its 200-day moving average\n",
    "    2. The SPY makes an intraday X-day low, buy.\n",
    "    3. If the SPY makes an intraday X-day high, sell your long position.\n",
    "    \n",
    "    (optimize the number of days)"
   ]
  },
  {
   "cell_type": "code",
   "execution_count": 1,
   "metadata": {
    "ExecuteTime": {
     "end_time": "2020-02-16T23:52:39.133788Z",
     "start_time": "2020-02-16T23:52:38.450202Z"
    }
   },
   "outputs": [],
   "source": [
    "# use future imports for python 3.x forward compatibility\n",
    "from __future__ import print_function\n",
    "from __future__ import unicode_literals\n",
    "from __future__ import division\n",
    "from __future__ import absolute_import\n",
    "\n",
    "# other imports\n",
    "import pandas as pd\n",
    "import matplotlib.pyplot as plt\n",
    "import datetime\n",
    "from talib.abstract import *\n",
    "\n",
    "# project imports\n",
    "import pinkfish as pf\n",
    "import strategy\n",
    "\n",
    "# format price data\n",
    "pd.options.display.float_format = '{:0.2f}'.format\n",
    "\n",
    "%matplotlib inline"
   ]
  },
  {
   "cell_type": "code",
   "execution_count": 2,
   "metadata": {
    "ExecuteTime": {
     "end_time": "2020-02-16T23:52:39.150042Z",
     "start_time": "2020-02-16T23:52:39.143381Z"
    }
   },
   "outputs": [],
   "source": [
    "# set size of inline plots\n",
    "'''note: rcParams can't be in same cell as import matplotlib\n",
    "   or %matplotlib inline\n",
    "   \n",
    "   %matplotlib notebook: will lead to interactive plots embedded within\n",
    "   the notebook, you can zoom and resize the figure\n",
    "   \n",
    "   %matplotlib inline: only draw static images in the notebook\n",
    "'''\n",
    "plt.rcParams[\"figure.figsize\"] = (10, 7)"
   ]
  },
  {
   "cell_type": "markdown",
   "metadata": {},
   "source": [
    "Some global data"
   ]
  },
  {
   "cell_type": "code",
   "execution_count": 3,
   "metadata": {
    "ExecuteTime": {
     "end_time": "2020-02-16T23:52:39.163735Z",
     "start_time": "2020-02-16T23:52:39.155947Z"
    }
   },
   "outputs": [],
   "source": [
    "#symbol = '^GSPC'\n",
    "symbol = 'SPY'\n",
    "#symbol = 'DIA'\n",
    "#symbol = 'QQQ'\n",
    "#symbol = 'IWM'\n",
    "#symbol = 'TLT'\n",
    "#symbol = 'GLD'\n",
    "#symbol = 'AAPL'\n",
    "#symbol = 'BBRY'\n",
    "#symbol = 'GDX'\n",
    "capital = 10000\n",
    "start = datetime.datetime(1900, 1, 1)\n",
    "end = datetime.datetime.now()\n",
    "use_adj = False"
   ]
  },
  {
   "cell_type": "markdown",
   "metadata": {},
   "source": [
    "Define high low trade periods"
   ]
  },
  {
   "cell_type": "code",
   "execution_count": 4,
   "metadata": {
    "ExecuteTime": {
     "end_time": "2020-02-16T23:52:39.173763Z",
     "start_time": "2020-02-16T23:52:39.168574Z"
    }
   },
   "outputs": [],
   "source": [
    "periods = range(3, 16)\n",
    "periods = [str(period) for period in periods]"
   ]
  },
  {
   "cell_type": "markdown",
   "metadata": {},
   "source": [
    "Run Strategy"
   ]
  },
  {
   "cell_type": "code",
   "execution_count": 5,
   "metadata": {
    "ExecuteTime": {
     "end_time": "2020-02-16T23:52:56.217400Z",
     "start_time": "2020-02-16T23:52:39.177807Z"
    },
    "scrolled": true
   },
   "outputs": [
    {
     "name": "stdout",
     "output_type": "stream",
     "text": [
      "3 4 5 6 7 8 9 10 11 12 13 14 15 "
     ]
    }
   ],
   "source": [
    "strategies = pd.Series(dtype=object)\n",
    "for period in periods:\n",
    "    print(\"{0}\".format(period), end=\" \")\n",
    "    strategies[period] = strategy.Strategy(symbol, capital, start, end, use_adj, int(period))\n",
    "    strategies[period].run()\n",
    "    strategies[period].tlog, strategies[period].dbal = strategies[period].get_logs()\n",
    "    strategies[period].stats = strategies[period].get_stats()"
   ]
  },
  {
   "cell_type": "markdown",
   "metadata": {},
   "source": [
    "Summarize results"
   ]
  },
  {
   "cell_type": "code",
   "execution_count": 6,
   "metadata": {
    "ExecuteTime": {
     "end_time": "2020-02-16T23:52:56.281702Z",
     "start_time": "2020-02-16T23:52:56.227712Z"
    },
    "scrolled": false
   },
   "outputs": [
    {
     "data": {
      "text/html": [
       "<div>\n",
       "<style scoped>\n",
       "    .dataframe tbody tr th:only-of-type {\n",
       "        vertical-align: middle;\n",
       "    }\n",
       "\n",
       "    .dataframe tbody tr th {\n",
       "        vertical-align: top;\n",
       "    }\n",
       "\n",
       "    .dataframe thead th {\n",
       "        text-align: right;\n",
       "    }\n",
       "</style>\n",
       "<table border=\"1\" class=\"dataframe\">\n",
       "  <thead>\n",
       "    <tr style=\"text-align: right;\">\n",
       "      <th></th>\n",
       "      <th>3</th>\n",
       "      <th>4</th>\n",
       "      <th>5</th>\n",
       "      <th>6</th>\n",
       "      <th>7</th>\n",
       "      <th>8</th>\n",
       "      <th>9</th>\n",
       "      <th>10</th>\n",
       "      <th>11</th>\n",
       "      <th>12</th>\n",
       "      <th>13</th>\n",
       "      <th>14</th>\n",
       "      <th>15</th>\n",
       "    </tr>\n",
       "  </thead>\n",
       "  <tbody>\n",
       "    <tr>\n",
       "      <th>annual_return_rate</th>\n",
       "      <td>4.96</td>\n",
       "      <td>4.61</td>\n",
       "      <td>6.80</td>\n",
       "      <td>6.39</td>\n",
       "      <td>7.33</td>\n",
       "      <td>6.92</td>\n",
       "      <td>6.14</td>\n",
       "      <td>6.15</td>\n",
       "      <td>6.16</td>\n",
       "      <td>6.06</td>\n",
       "      <td>6.09</td>\n",
       "      <td>5.64</td>\n",
       "      <td>5.63</td>\n",
       "    </tr>\n",
       "    <tr>\n",
       "      <th>max_closed_out_drawdown</th>\n",
       "      <td>-35.27</td>\n",
       "      <td>-34.07</td>\n",
       "      <td>-34.29</td>\n",
       "      <td>-33.83</td>\n",
       "      <td>-33.71</td>\n",
       "      <td>-33.77</td>\n",
       "      <td>-33.66</td>\n",
       "      <td>-33.20</td>\n",
       "      <td>-33.02</td>\n",
       "      <td>-30.88</td>\n",
       "      <td>-30.94</td>\n",
       "      <td>-30.97</td>\n",
       "      <td>-30.91</td>\n",
       "    </tr>\n",
       "    <tr>\n",
       "      <th>drawdown_annualized_return</th>\n",
       "      <td>-7.11</td>\n",
       "      <td>-7.39</td>\n",
       "      <td>-5.04</td>\n",
       "      <td>-5.30</td>\n",
       "      <td>-4.60</td>\n",
       "      <td>-4.88</td>\n",
       "      <td>-5.48</td>\n",
       "      <td>-5.40</td>\n",
       "      <td>-5.36</td>\n",
       "      <td>-5.10</td>\n",
       "      <td>-5.08</td>\n",
       "      <td>-5.49</td>\n",
       "      <td>-5.49</td>\n",
       "    </tr>\n",
       "    <tr>\n",
       "      <th>drawdown_recovery</th>\n",
       "      <td>-2.15</td>\n",
       "      <td>-0.16</td>\n",
       "      <td>-0.21</td>\n",
       "      <td>-0.21</td>\n",
       "      <td>-0.09</td>\n",
       "      <td>-0.09</td>\n",
       "      <td>-0.09</td>\n",
       "      <td>-0.13</td>\n",
       "      <td>-0.08</td>\n",
       "      <td>-0.13</td>\n",
       "      <td>-0.13</td>\n",
       "      <td>-0.13</td>\n",
       "      <td>-0.13</td>\n",
       "    </tr>\n",
       "    <tr>\n",
       "      <th>best_month</th>\n",
       "      <td>11.44</td>\n",
       "      <td>10.86</td>\n",
       "      <td>11.33</td>\n",
       "      <td>14.84</td>\n",
       "      <td>14.90</td>\n",
       "      <td>15.19</td>\n",
       "      <td>17.74</td>\n",
       "      <td>17.83</td>\n",
       "      <td>17.78</td>\n",
       "      <td>18.01</td>\n",
       "      <td>18.05</td>\n",
       "      <td>18.08</td>\n",
       "      <td>18.03</td>\n",
       "    </tr>\n",
       "    <tr>\n",
       "      <th>worst_month</th>\n",
       "      <td>-29.78</td>\n",
       "      <td>-31.20</td>\n",
       "      <td>-31.26</td>\n",
       "      <td>-31.30</td>\n",
       "      <td>-31.28</td>\n",
       "      <td>-31.34</td>\n",
       "      <td>-31.23</td>\n",
       "      <td>-31.34</td>\n",
       "      <td>-31.28</td>\n",
       "      <td>-30.73</td>\n",
       "      <td>-30.78</td>\n",
       "      <td>-30.82</td>\n",
       "      <td>-30.76</td>\n",
       "    </tr>\n",
       "    <tr>\n",
       "      <th>sharpe_ratio</th>\n",
       "      <td>0.46</td>\n",
       "      <td>0.43</td>\n",
       "      <td>0.60</td>\n",
       "      <td>0.57</td>\n",
       "      <td>0.64</td>\n",
       "      <td>0.61</td>\n",
       "      <td>0.54</td>\n",
       "      <td>0.54</td>\n",
       "      <td>0.54</td>\n",
       "      <td>0.53</td>\n",
       "      <td>0.54</td>\n",
       "      <td>0.51</td>\n",
       "      <td>0.51</td>\n",
       "    </tr>\n",
       "    <tr>\n",
       "      <th>sortino_ratio</th>\n",
       "      <td>0.41</td>\n",
       "      <td>0.38</td>\n",
       "      <td>0.52</td>\n",
       "      <td>0.49</td>\n",
       "      <td>0.54</td>\n",
       "      <td>0.50</td>\n",
       "      <td>0.45</td>\n",
       "      <td>0.45</td>\n",
       "      <td>0.45</td>\n",
       "      <td>0.44</td>\n",
       "      <td>0.43</td>\n",
       "      <td>0.40</td>\n",
       "      <td>0.40</td>\n",
       "    </tr>\n",
       "    <tr>\n",
       "      <th>monthly_std</th>\n",
       "      <td>2.91</td>\n",
       "      <td>2.81</td>\n",
       "      <td>2.79</td>\n",
       "      <td>2.74</td>\n",
       "      <td>2.72</td>\n",
       "      <td>2.72</td>\n",
       "      <td>2.80</td>\n",
       "      <td>2.84</td>\n",
       "      <td>2.84</td>\n",
       "      <td>2.83</td>\n",
       "      <td>2.77</td>\n",
       "      <td>2.70</td>\n",
       "      <td>2.71</td>\n",
       "    </tr>\n",
       "    <tr>\n",
       "      <th>pct_time_in_market</th>\n",
       "      <td>47.77</td>\n",
       "      <td>46.04</td>\n",
       "      <td>44.68</td>\n",
       "      <td>43.64</td>\n",
       "      <td>42.89</td>\n",
       "      <td>42.38</td>\n",
       "      <td>41.96</td>\n",
       "      <td>41.51</td>\n",
       "      <td>41.01</td>\n",
       "      <td>40.47</td>\n",
       "      <td>38.73</td>\n",
       "      <td>37.60</td>\n",
       "      <td>36.54</td>\n",
       "    </tr>\n",
       "    <tr>\n",
       "      <th>total_num_trades</th>\n",
       "      <td>851.00</td>\n",
       "      <td>645.00</td>\n",
       "      <td>548.00</td>\n",
       "      <td>444.00</td>\n",
       "      <td>383.00</td>\n",
       "      <td>323.00</td>\n",
       "      <td>277.00</td>\n",
       "      <td>250.00</td>\n",
       "      <td>227.00</td>\n",
       "      <td>209.00</td>\n",
       "      <td>188.00</td>\n",
       "      <td>171.00</td>\n",
       "      <td>159.00</td>\n",
       "    </tr>\n",
       "    <tr>\n",
       "      <th>pct_profitable_trades</th>\n",
       "      <td>73.56</td>\n",
       "      <td>74.73</td>\n",
       "      <td>77.55</td>\n",
       "      <td>76.58</td>\n",
       "      <td>78.33</td>\n",
       "      <td>78.64</td>\n",
       "      <td>79.06</td>\n",
       "      <td>77.60</td>\n",
       "      <td>76.21</td>\n",
       "      <td>75.60</td>\n",
       "      <td>76.60</td>\n",
       "      <td>74.85</td>\n",
       "      <td>74.84</td>\n",
       "    </tr>\n",
       "    <tr>\n",
       "      <th>avg_points</th>\n",
       "      <td>0.13</td>\n",
       "      <td>0.16</td>\n",
       "      <td>0.34</td>\n",
       "      <td>0.37</td>\n",
       "      <td>0.51</td>\n",
       "      <td>0.57</td>\n",
       "      <td>0.61</td>\n",
       "      <td>0.67</td>\n",
       "      <td>0.74</td>\n",
       "      <td>0.83</td>\n",
       "      <td>0.96</td>\n",
       "      <td>0.99</td>\n",
       "      <td>1.06</td>\n",
       "    </tr>\n",
       "  </tbody>\n",
       "</table>\n",
       "</div>"
      ],
      "text/plain": [
       "                                3      4      5      6      7      8      9  \\\n",
       "annual_return_rate           4.96   4.61   6.80   6.39   7.33   6.92   6.14   \n",
       "max_closed_out_drawdown    -35.27 -34.07 -34.29 -33.83 -33.71 -33.77 -33.66   \n",
       "drawdown_annualized_return  -7.11  -7.39  -5.04  -5.30  -4.60  -4.88  -5.48   \n",
       "drawdown_recovery           -2.15  -0.16  -0.21  -0.21  -0.09  -0.09  -0.09   \n",
       "best_month                  11.44  10.86  11.33  14.84  14.90  15.19  17.74   \n",
       "worst_month                -29.78 -31.20 -31.26 -31.30 -31.28 -31.34 -31.23   \n",
       "sharpe_ratio                 0.46   0.43   0.60   0.57   0.64   0.61   0.54   \n",
       "sortino_ratio                0.41   0.38   0.52   0.49   0.54   0.50   0.45   \n",
       "monthly_std                  2.91   2.81   2.79   2.74   2.72   2.72   2.80   \n",
       "pct_time_in_market          47.77  46.04  44.68  43.64  42.89  42.38  41.96   \n",
       "total_num_trades           851.00 645.00 548.00 444.00 383.00 323.00 277.00   \n",
       "pct_profitable_trades       73.56  74.73  77.55  76.58  78.33  78.64  79.06   \n",
       "avg_points                   0.13   0.16   0.34   0.37   0.51   0.57   0.61   \n",
       "\n",
       "                               10     11     12     13     14     15  \n",
       "annual_return_rate           6.15   6.16   6.06   6.09   5.64   5.63  \n",
       "max_closed_out_drawdown    -33.20 -33.02 -30.88 -30.94 -30.97 -30.91  \n",
       "drawdown_annualized_return  -5.40  -5.36  -5.10  -5.08  -5.49  -5.49  \n",
       "drawdown_recovery           -0.13  -0.08  -0.13  -0.13  -0.13  -0.13  \n",
       "best_month                  17.83  17.78  18.01  18.05  18.08  18.03  \n",
       "worst_month                -31.34 -31.28 -30.73 -30.78 -30.82 -30.76  \n",
       "sharpe_ratio                 0.54   0.54   0.53   0.54   0.51   0.51  \n",
       "sortino_ratio                0.45   0.45   0.44   0.43   0.40   0.40  \n",
       "monthly_std                  2.84   2.84   2.83   2.77   2.70   2.71  \n",
       "pct_time_in_market          41.51  41.01  40.47  38.73  37.60  36.54  \n",
       "total_num_trades           250.00 227.00 209.00 188.00 171.00 159.00  \n",
       "pct_profitable_trades       77.60  76.21  75.60  76.60  74.85  74.84  \n",
       "avg_points                   0.67   0.74   0.83   0.96   0.99   1.06  "
      ]
     },
     "execution_count": 6,
     "metadata": {},
     "output_type": "execute_result"
    }
   ],
   "source": [
    "metrics = ('annual_return_rate',\n",
    "           'max_closed_out_drawdown',\n",
    "           'drawdown_annualized_return',\n",
    "           'drawdown_recovery',\n",
    "           'best_month',\n",
    "           'worst_month',\n",
    "           'sharpe_ratio',\n",
    "           'sortino_ratio',\n",
    "           'monthly_std',\n",
    "           'pct_time_in_market',\n",
    "           'total_num_trades',\n",
    "           'pct_profitable_trades',\n",
    "           'avg_points')\n",
    "\n",
    "df = strategy.summary(strategies, *metrics)\n",
    "df"
   ]
  },
  {
   "cell_type": "markdown",
   "metadata": {},
   "source": [
    "Bar graphs"
   ]
  },
  {
   "cell_type": "code",
   "execution_count": 7,
   "metadata": {
    "ExecuteTime": {
     "end_time": "2020-02-16T23:52:57.106398Z",
     "start_time": "2020-02-16T23:52:56.292252Z"
    }
   },
   "outputs": [
    {
     "data": {
      "image/png": "[encoded data removed]",
      "text/plain": [
       "<Figure size 720x504 with 1 Axes>"
      ]
     },
     "metadata": {
      "needs_background": "light"
     },
     "output_type": "display_data"
    },
    {
     "data": {
      "image/png": "[encoded data removed]",
      "text/plain": [
       "<Figure size 720x504 with 1 Axes>"
      ]
     },
     "metadata": {
      "needs_background": "light"
     },
     "output_type": "display_data"
    },
    {
     "data": {
      "image/png": "[encoded data removed]",
      "text/plain": [
       "<Figure size 720x504 with 1 Axes>"
      ]
     },
     "metadata": {
      "needs_background": "light"
     },
     "output_type": "display_data"
    }
   ],
   "source": [
    "strategy.plot_bar_graph(df, 'annual_return_rate')\n",
    "strategy.plot_bar_graph(df, 'sharpe_ratio')\n",
    "strategy.plot_bar_graph(df, 'max_closed_out_drawdown')"
   ]
  },
  {
   "cell_type": "markdown",
   "metadata": {},
   "source": [
    "Run Benchmark"
   ]
  },
  {
   "cell_type": "code",
   "execution_count": 8,
   "metadata": {
    "ExecuteTime": {
     "end_time": "2020-02-16T23:52:57.754601Z",
     "start_time": "2020-02-16T23:52:57.111779Z"
    }
   },
   "outputs": [
    {
     "name": "stdout",
     "output_type": "stream",
     "text": [
      "1993-11-11 00:00:00 BUY  215 SPY @ 46.38\n",
      "2020-04-23 00:00:00 SELL 215 SPY @ 279.08\n"
     ]
    }
   ],
   "source": [
    "s = strategies[periods[0]]\n",
    "benchmark = pf.Benchmark(symbol, capital, s._start, s._end, s._use_adj)\n",
    "benchmark.run()\n",
    "benchmark.tlog, benchmark.dbal = benchmark.get_logs()\n",
    "benchmark.stats = benchmark.get_stats()"
   ]
  },
  {
   "cell_type": "markdown",
   "metadata": {},
   "source": [
    "Equity curve"
   ]
  },
  {
   "cell_type": "code",
   "execution_count": 9,
   "metadata": {
    "ExecuteTime": {
     "end_time": "2020-02-16T23:52:58.035696Z",
     "start_time": "2020-02-16T23:52:57.766951Z"
    }
   },
   "outputs": [
    {
     "data": {
      "image/png": "[encoded data removed]",
      "text/plain": [
       "<Figure size 720x504 with 1 Axes>"
      ]
     },
     "metadata": {
      "needs_background": "light"
     },
     "output_type": "display_data"
    }
   ],
   "source": [
    "pf.plot_equity_curve(strategies['7'].dbal, benchmark=benchmark.dbal)"
   ]
  }
 ],
 "metadata": {
  "kernelspec": {
   "display_name": "Python 3",
   "language": "python",
   "name": "python3"
  },
  "language_info": {
   "codemirror_mode": {
    "name": "ipython",
    "version": 3
   },
   "file_extension": ".py",
   "mimetype": "text/x-python",
   "name": "python",
   "nbconvert_exporter": "python",
   "pygments_lexer": "ipython3",
   "version": "3.8.2"
  },
  "latex_envs": {
   "LaTeX_envs_menu_present": true,
   "autoclose": false,
   "autocomplete": true,
   "bibliofile": "biblio.bib",
   "cite_by": "apalike",
   "current_citInitial": 1,
   "eqLabelWithNumbers": true,
   "eqNumInitial": 1,
   "hotkeys": {
    "equation": "Ctrl-E",
    "itemize": "Ctrl-I"
   },
   "labels_anchors": false,
   "latex_user_defs": false,
   "report_style_numbering": false,
   "user_envs_cfg": false
  }
 },
 "nbformat": 4,
 "nbformat_minor": 1
}
