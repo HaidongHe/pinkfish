{
 "cells": [
  {
   "cell_type": "markdown",
   "metadata": {},
   "source": [
    "# SMA Percent Band\n",
    "\n",
    "    1. The SPY closes above its upper band, buy\n",
    "    2. If the SPY closes below its lower band, sell your long position.\n",
    "    \n",
    "    (optimize period)"
   ]
  },
  {
   "cell_type": "code",
   "execution_count": 1,
   "metadata": {
    "ExecuteTime": {
     "end_time": "2020-02-17T03:48:57.172933Z",
     "start_time": "2020-02-17T03:48:56.413862Z"
    }
   },
   "outputs": [],
   "source": [
    "import pandas as pd\n",
    "import matplotlib.pyplot as plt\n",
    "import datetime\n",
    "from talib.abstract import *\n",
    "\n",
    "import pinkfish as pf\n",
    "import strategy\n",
    "\n",
    "# format price data\n",
    "pd.options.display.float_format = '{:0.2f}'.format\n",
    "\n",
    "%matplotlib inline"
   ]
  },
  {
   "cell_type": "code",
   "execution_count": 2,
   "metadata": {
    "ExecuteTime": {
     "end_time": "2020-02-17T03:48:57.190111Z",
     "start_time": "2020-02-17T03:48:57.183653Z"
    }
   },
   "outputs": [],
   "source": [
    "# set size of inline plots\n",
    "'''note: rcParams can't be in same cell as import matplotlib\n",
    "   or %matplotlib inline\n",
    "   \n",
    "   %matplotlib notebook: will lead to interactive plots embedded within\n",
    "   the notebook, you can zoom and resize the figure\n",
    "   \n",
    "   %matplotlib inline: only draw static images in the notebook\n",
    "'''\n",
    "plt.rcParams[\"figure.figsize\"] = (10, 7)"
   ]
  },
  {
   "cell_type": "markdown",
   "metadata": {},
   "source": [
    "Some global data"
   ]
  },
  {
   "cell_type": "code",
   "execution_count": 3,
   "metadata": {
    "ExecuteTime": {
     "end_time": "2020-02-17T03:48:57.204555Z",
     "start_time": "2020-02-17T03:48:57.194401Z"
    }
   },
   "outputs": [],
   "source": [
    "symbol = '^GSPC'\n",
    "symbol = 'SPY'\n",
    "#symbol = 'DIA'\n",
    "#symbol = 'QQQ'\n",
    "#symbol = 'IWM'\n",
    "#symbol = 'TLT'\n",
    "#symbol = 'GLD'\n",
    "#symbol = 'AAPL'\n",
    "#symbol = 'BBRY'\n",
    "#symbol = 'GDX'\n",
    "capital = 10000\n",
    "#start = datetime.datetime(1900, 1, 1)\n",
    "start = datetime.datetime.strptime(pf.SP500_BEGIN, '%Y-%m-%d')\n",
    "end = datetime.datetime.now()"
   ]
  },
  {
   "cell_type": "markdown",
   "metadata": {},
   "source": [
    "Define the periods"
   ]
  },
  {
   "cell_type": "code",
   "execution_count": 4,
   "metadata": {
    "ExecuteTime": {
     "end_time": "2020-02-17T03:48:57.219282Z",
     "start_time": "2020-02-17T03:48:57.209459Z"
    }
   },
   "outputs": [],
   "source": [
    "periods = range(50, 525, 25)\n",
    "periods = [str(period) for period in periods]"
   ]
  },
  {
   "cell_type": "markdown",
   "metadata": {},
   "source": [
    "Run Strategy"
   ]
  },
  {
   "cell_type": "code",
   "execution_count": 5,
   "metadata": {
    "ExecuteTime": {
     "end_time": "2020-02-17T03:49:12.813759Z",
     "start_time": "2020-02-17T03:48:57.225846Z"
    }
   },
   "outputs": [
    {
     "name": "stdout",
     "output_type": "stream",
     "text": [
      "50 75 100 125 150 175 200 225 250 275 300 325 350 375 400 425 450 475 500 "
     ]
    }
   ],
   "source": [
    "strategies = pd.Series(dtype=object)\n",
    "for period in periods:\n",
    "    print(\"{0}\".format(period), end=\" \")\n",
    "    strategies[period] = strategy.Strategy(symbol, capital, start, end, sma_period=int(period))\n",
    "    strategies[period].run()\n",
    "    _, strategies[period].tlog, strategies[period].dbal = strategies[period].get_logs()\n",
    "    strategies[period].stats = strategies[period].get_stats()"
   ]
  },
  {
   "cell_type": "markdown",
   "metadata": {},
   "source": [
    "Summarize results"
   ]
  },
  {
   "cell_type": "code",
   "execution_count": 6,
   "metadata": {
    "ExecuteTime": {
     "end_time": "2020-02-17T03:49:12.881701Z",
     "start_time": "2020-02-17T03:49:12.827144Z"
    },
    "scrolled": false
   },
   "outputs": [
    {
     "data": {
      "text/html": [
       "<div>\n",
       "<style scoped>\n",
       "    .dataframe tbody tr th:only-of-type {\n",
       "        vertical-align: middle;\n",
       "    }\n",
       "\n",
       "    .dataframe tbody tr th {\n",
       "        vertical-align: top;\n",
       "    }\n",
       "\n",
       "    .dataframe thead th {\n",
       "        text-align: right;\n",
       "    }\n",
       "</style>\n",
       "<table border=\"1\" class=\"dataframe\">\n",
       "  <thead>\n",
       "    <tr style=\"text-align: right;\">\n",
       "      <th></th>\n",
       "      <th>50</th>\n",
       "      <th>75</th>\n",
       "      <th>100</th>\n",
       "      <th>125</th>\n",
       "      <th>150</th>\n",
       "      <th>175</th>\n",
       "      <th>200</th>\n",
       "      <th>225</th>\n",
       "      <th>250</th>\n",
       "      <th>275</th>\n",
       "      <th>300</th>\n",
       "      <th>325</th>\n",
       "      <th>350</th>\n",
       "      <th>375</th>\n",
       "      <th>400</th>\n",
       "      <th>425</th>\n",
       "      <th>450</th>\n",
       "      <th>475</th>\n",
       "      <th>500</th>\n",
       "    </tr>\n",
       "  </thead>\n",
       "  <tbody>\n",
       "    <tr>\n",
       "      <th>start</th>\n",
       "      <td>1993-11-11</td>\n",
       "      <td>1993-11-11</td>\n",
       "      <td>1993-11-11</td>\n",
       "      <td>1993-11-11</td>\n",
       "      <td>1993-11-11</td>\n",
       "      <td>1993-11-11</td>\n",
       "      <td>1993-11-11</td>\n",
       "      <td>1993-12-17</td>\n",
       "      <td>1994-01-24</td>\n",
       "      <td>1994-03-01</td>\n",
       "      <td>1994-04-06</td>\n",
       "      <td>1994-05-12</td>\n",
       "      <td>1994-06-17</td>\n",
       "      <td>1994-07-25</td>\n",
       "      <td>1994-08-29</td>\n",
       "      <td>1994-10-04</td>\n",
       "      <td>1994-11-08</td>\n",
       "      <td>1994-12-14</td>\n",
       "      <td>1995-01-20</td>\n",
       "    </tr>\n",
       "    <tr>\n",
       "      <th>ending_balance</th>\n",
       "      <td>47345.23</td>\n",
       "      <td>51833.33</td>\n",
       "      <td>37827.00</td>\n",
       "      <td>34802.25</td>\n",
       "      <td>35455.20</td>\n",
       "      <td>34365.13</td>\n",
       "      <td>39272.44</td>\n",
       "      <td>44031.39</td>\n",
       "      <td>44439.11</td>\n",
       "      <td>44385.79</td>\n",
       "      <td>51067.93</td>\n",
       "      <td>60003.63</td>\n",
       "      <td>60700.20</td>\n",
       "      <td>78340.09</td>\n",
       "      <td>79459.06</td>\n",
       "      <td>77470.68</td>\n",
       "      <td>70390.82</td>\n",
       "      <td>68855.82</td>\n",
       "      <td>63766.57</td>\n",
       "    </tr>\n",
       "    <tr>\n",
       "      <th>annual_return_rate</th>\n",
       "      <td>6.00</td>\n",
       "      <td>6.36</td>\n",
       "      <td>5.11</td>\n",
       "      <td>4.79</td>\n",
       "      <td>4.86</td>\n",
       "      <td>4.74</td>\n",
       "      <td>5.26</td>\n",
       "      <td>5.74</td>\n",
       "      <td>5.80</td>\n",
       "      <td>5.81</td>\n",
       "      <td>6.40</td>\n",
       "      <td>7.09</td>\n",
       "      <td>7.16</td>\n",
       "      <td>8.25</td>\n",
       "      <td>8.34</td>\n",
       "      <td>8.27</td>\n",
       "      <td>7.89</td>\n",
       "      <td>7.83</td>\n",
       "      <td>7.54</td>\n",
       "    </tr>\n",
       "    <tr>\n",
       "      <th>max_closed_out_drawdown</th>\n",
       "      <td>-40.56</td>\n",
       "      <td>-37.21</td>\n",
       "      <td>-46.22</td>\n",
       "      <td>-43.22</td>\n",
       "      <td>-39.79</td>\n",
       "      <td>-35.73</td>\n",
       "      <td>-28.66</td>\n",
       "      <td>-23.96</td>\n",
       "      <td>-23.13</td>\n",
       "      <td>-25.89</td>\n",
       "      <td>-25.44</td>\n",
       "      <td>-23.21</td>\n",
       "      <td>-27.34</td>\n",
       "      <td>-25.88</td>\n",
       "      <td>-24.14</td>\n",
       "      <td>-26.99</td>\n",
       "      <td>-31.20</td>\n",
       "      <td>-29.41</td>\n",
       "      <td>-29.72</td>\n",
       "    </tr>\n",
       "    <tr>\n",
       "      <th>drawdown_annualized_return</th>\n",
       "      <td>-6.76</td>\n",
       "      <td>-5.85</td>\n",
       "      <td>-9.04</td>\n",
       "      <td>-9.03</td>\n",
       "      <td>-8.19</td>\n",
       "      <td>-7.54</td>\n",
       "      <td>-5.45</td>\n",
       "      <td>-4.18</td>\n",
       "      <td>-3.99</td>\n",
       "      <td>-4.45</td>\n",
       "      <td>-3.97</td>\n",
       "      <td>-3.28</td>\n",
       "      <td>-3.82</td>\n",
       "      <td>-3.14</td>\n",
       "      <td>-2.89</td>\n",
       "      <td>-3.26</td>\n",
       "      <td>-3.95</td>\n",
       "      <td>-3.75</td>\n",
       "      <td>-3.94</td>\n",
       "    </tr>\n",
       "    <tr>\n",
       "      <th>drawdown_recovery</th>\n",
       "      <td>-3.71</td>\n",
       "      <td>-3.73</td>\n",
       "      <td>-3.75</td>\n",
       "      <td>-3.75</td>\n",
       "      <td>-3.75</td>\n",
       "      <td>-3.75</td>\n",
       "      <td>-3.75</td>\n",
       "      <td>-3.75</td>\n",
       "      <td>-3.06</td>\n",
       "      <td>-0.21</td>\n",
       "      <td>-0.67</td>\n",
       "      <td>-0.21</td>\n",
       "      <td>-0.22</td>\n",
       "      <td>-0.24</td>\n",
       "      <td>-0.25</td>\n",
       "      <td>-0.63</td>\n",
       "      <td>-0.64</td>\n",
       "      <td>-0.64</td>\n",
       "      <td>-0.64</td>\n",
       "    </tr>\n",
       "    <tr>\n",
       "      <th>best_month</th>\n",
       "      <td>12.92</td>\n",
       "      <td>12.95</td>\n",
       "      <td>15.05</td>\n",
       "      <td>14.98</td>\n",
       "      <td>15.04</td>\n",
       "      <td>15.03</td>\n",
       "      <td>12.95</td>\n",
       "      <td>12.94</td>\n",
       "      <td>12.95</td>\n",
       "      <td>12.96</td>\n",
       "      <td>12.96</td>\n",
       "      <td>15.15</td>\n",
       "      <td>15.13</td>\n",
       "      <td>15.15</td>\n",
       "      <td>15.80</td>\n",
       "      <td>15.75</td>\n",
       "      <td>17.77</td>\n",
       "      <td>17.78</td>\n",
       "      <td>17.76</td>\n",
       "    </tr>\n",
       "    <tr>\n",
       "      <th>worst_month</th>\n",
       "      <td>-17.37</td>\n",
       "      <td>-17.39</td>\n",
       "      <td>-17.40</td>\n",
       "      <td>-17.36</td>\n",
       "      <td>-17.39</td>\n",
       "      <td>-17.38</td>\n",
       "      <td>-17.37</td>\n",
       "      <td>-17.36</td>\n",
       "      <td>-18.75</td>\n",
       "      <td>-17.22</td>\n",
       "      <td>-18.91</td>\n",
       "      <td>-18.89</td>\n",
       "      <td>-18.92</td>\n",
       "      <td>-18.94</td>\n",
       "      <td>-18.94</td>\n",
       "      <td>-18.90</td>\n",
       "      <td>-20.79</td>\n",
       "      <td>-20.79</td>\n",
       "      <td>-22.86</td>\n",
       "    </tr>\n",
       "    <tr>\n",
       "      <th>sharpe_ratio</th>\n",
       "      <td>0.51</td>\n",
       "      <td>0.55</td>\n",
       "      <td>0.46</td>\n",
       "      <td>0.44</td>\n",
       "      <td>0.45</td>\n",
       "      <td>0.45</td>\n",
       "      <td>0.49</td>\n",
       "      <td>0.53</td>\n",
       "      <td>0.52</td>\n",
       "      <td>0.51</td>\n",
       "      <td>0.55</td>\n",
       "      <td>0.59</td>\n",
       "      <td>0.59</td>\n",
       "      <td>0.66</td>\n",
       "      <td>0.66</td>\n",
       "      <td>0.65</td>\n",
       "      <td>0.62</td>\n",
       "      <td>0.62</td>\n",
       "      <td>0.59</td>\n",
       "    </tr>\n",
       "    <tr>\n",
       "      <th>sortino_ratio</th>\n",
       "      <td>0.60</td>\n",
       "      <td>0.64</td>\n",
       "      <td>0.53</td>\n",
       "      <td>0.50</td>\n",
       "      <td>0.51</td>\n",
       "      <td>0.49</td>\n",
       "      <td>0.54</td>\n",
       "      <td>0.58</td>\n",
       "      <td>0.58</td>\n",
       "      <td>0.58</td>\n",
       "      <td>0.62</td>\n",
       "      <td>0.67</td>\n",
       "      <td>0.68</td>\n",
       "      <td>0.77</td>\n",
       "      <td>0.77</td>\n",
       "      <td>0.76</td>\n",
       "      <td>0.72</td>\n",
       "      <td>0.71</td>\n",
       "      <td>0.69</td>\n",
       "    </tr>\n",
       "    <tr>\n",
       "      <th>monthly_std</th>\n",
       "      <td>3.35</td>\n",
       "      <td>3.21</td>\n",
       "      <td>3.21</td>\n",
       "      <td>3.24</td>\n",
       "      <td>3.21</td>\n",
       "      <td>3.16</td>\n",
       "      <td>3.10</td>\n",
       "      <td>3.19</td>\n",
       "      <td>3.23</td>\n",
       "      <td>3.28</td>\n",
       "      <td>3.33</td>\n",
       "      <td>3.31</td>\n",
       "      <td>3.35</td>\n",
       "      <td>3.32</td>\n",
       "      <td>3.32</td>\n",
       "      <td>3.37</td>\n",
       "      <td>3.49</td>\n",
       "      <td>3.55</td>\n",
       "      <td>3.62</td>\n",
       "    </tr>\n",
       "    <tr>\n",
       "      <th>pct_time_in_market</th>\n",
       "      <td>80.97</td>\n",
       "      <td>79.58</td>\n",
       "      <td>77.97</td>\n",
       "      <td>76.66</td>\n",
       "      <td>75.26</td>\n",
       "      <td>74.30</td>\n",
       "      <td>73.54</td>\n",
       "      <td>74.57</td>\n",
       "      <td>75.98</td>\n",
       "      <td>76.94</td>\n",
       "      <td>78.20</td>\n",
       "      <td>79.32</td>\n",
       "      <td>80.15</td>\n",
       "      <td>80.89</td>\n",
       "      <td>81.35</td>\n",
       "      <td>81.69</td>\n",
       "      <td>82.12</td>\n",
       "      <td>82.61</td>\n",
       "      <td>82.96</td>\n",
       "    </tr>\n",
       "    <tr>\n",
       "      <th>total_num_trades</th>\n",
       "      <td>114</td>\n",
       "      <td>106</td>\n",
       "      <td>111</td>\n",
       "      <td>112</td>\n",
       "      <td>104</td>\n",
       "      <td>103</td>\n",
       "      <td>96</td>\n",
       "      <td>91</td>\n",
       "      <td>88</td>\n",
       "      <td>85</td>\n",
       "      <td>72</td>\n",
       "      <td>61</td>\n",
       "      <td>56</td>\n",
       "      <td>46</td>\n",
       "      <td>43</td>\n",
       "      <td>39</td>\n",
       "      <td>38</td>\n",
       "      <td>41</td>\n",
       "      <td>40</td>\n",
       "    </tr>\n",
       "    <tr>\n",
       "      <th>trades_per_year</th>\n",
       "      <td>4.27</td>\n",
       "      <td>3.97</td>\n",
       "      <td>4.16</td>\n",
       "      <td>4.20</td>\n",
       "      <td>3.90</td>\n",
       "      <td>3.86</td>\n",
       "      <td>3.60</td>\n",
       "      <td>3.42</td>\n",
       "      <td>3.32</td>\n",
       "      <td>3.22</td>\n",
       "      <td>2.74</td>\n",
       "      <td>2.33</td>\n",
       "      <td>2.15</td>\n",
       "      <td>1.77</td>\n",
       "      <td>1.66</td>\n",
       "      <td>1.51</td>\n",
       "      <td>1.48</td>\n",
       "      <td>1.60</td>\n",
       "      <td>1.57</td>\n",
       "    </tr>\n",
       "    <tr>\n",
       "      <th>pct_profitable_trades</th>\n",
       "      <td>26.32</td>\n",
       "      <td>25.47</td>\n",
       "      <td>20.72</td>\n",
       "      <td>22.32</td>\n",
       "      <td>21.15</td>\n",
       "      <td>22.33</td>\n",
       "      <td>23.96</td>\n",
       "      <td>23.08</td>\n",
       "      <td>25.00</td>\n",
       "      <td>22.35</td>\n",
       "      <td>25.00</td>\n",
       "      <td>22.95</td>\n",
       "      <td>25.00</td>\n",
       "      <td>28.26</td>\n",
       "      <td>23.26</td>\n",
       "      <td>20.51</td>\n",
       "      <td>21.05</td>\n",
       "      <td>19.51</td>\n",
       "      <td>25.00</td>\n",
       "    </tr>\n",
       "    <tr>\n",
       "      <th>avg_points</th>\n",
       "      <td>1.72</td>\n",
       "      <td>1.84</td>\n",
       "      <td>1.39</td>\n",
       "      <td>1.26</td>\n",
       "      <td>1.33</td>\n",
       "      <td>1.32</td>\n",
       "      <td>1.56</td>\n",
       "      <td>1.89</td>\n",
       "      <td>2.10</td>\n",
       "      <td>2.27</td>\n",
       "      <td>2.72</td>\n",
       "      <td>3.57</td>\n",
       "      <td>3.86</td>\n",
       "      <td>5.32</td>\n",
       "      <td>5.94</td>\n",
       "      <td>6.30</td>\n",
       "      <td>6.22</td>\n",
       "      <td>5.62</td>\n",
       "      <td>5.35</td>\n",
       "    </tr>\n",
       "  </tbody>\n",
       "</table>\n",
       "</div>"
      ],
      "text/plain": [
       "                                    50          75         100         125  \\\n",
       "start                       1993-11-11  1993-11-11  1993-11-11  1993-11-11   \n",
       "ending_balance                47345.23    51833.33    37827.00    34802.25   \n",
       "annual_return_rate                6.00        6.36        5.11        4.79   \n",
       "max_closed_out_drawdown         -40.56      -37.21      -46.22      -43.22   \n",
       "drawdown_annualized_return       -6.76       -5.85       -9.04       -9.03   \n",
       "drawdown_recovery                -3.71       -3.73       -3.75       -3.75   \n",
       "best_month                       12.92       12.95       15.05       14.98   \n",
       "worst_month                     -17.37      -17.39      -17.40      -17.36   \n",
       "sharpe_ratio                      0.51        0.55        0.46        0.44   \n",
       "sortino_ratio                     0.60        0.64        0.53        0.50   \n",
       "monthly_std                       3.35        3.21        3.21        3.24   \n",
       "pct_time_in_market               80.97       79.58       77.97       76.66   \n",
       "total_num_trades                   114         106         111         112   \n",
       "trades_per_year                   4.27        3.97        4.16        4.20   \n",
       "pct_profitable_trades            26.32       25.47       20.72       22.32   \n",
       "avg_points                        1.72        1.84        1.39        1.26   \n",
       "\n",
       "                                   150         175         200         225  \\\n",
       "start                       1993-11-11  1993-11-11  1993-11-11  1993-12-17   \n",
       "ending_balance                35455.20    34365.13    39272.44    44031.39   \n",
       "annual_return_rate                4.86        4.74        5.26        5.74   \n",
       "max_closed_out_drawdown         -39.79      -35.73      -28.66      -23.96   \n",
       "drawdown_annualized_return       -8.19       -7.54       -5.45       -4.18   \n",
       "drawdown_recovery                -3.75       -3.75       -3.75       -3.75   \n",
       "best_month                       15.04       15.03       12.95       12.94   \n",
       "worst_month                     -17.39      -17.38      -17.37      -17.36   \n",
       "sharpe_ratio                      0.45        0.45        0.49        0.53   \n",
       "sortino_ratio                     0.51        0.49        0.54        0.58   \n",
       "monthly_std                       3.21        3.16        3.10        3.19   \n",
       "pct_time_in_market               75.26       74.30       73.54       74.57   \n",
       "total_num_trades                   104         103          96          91   \n",
       "trades_per_year                   3.90        3.86        3.60        3.42   \n",
       "pct_profitable_trades            21.15       22.33       23.96       23.08   \n",
       "avg_points                        1.33        1.32        1.56        1.89   \n",
       "\n",
       "                                   250         275         300         325  \\\n",
       "start                       1994-01-24  1994-03-01  1994-04-06  1994-05-12   \n",
       "ending_balance                44439.11    44385.79    51067.93    60003.63   \n",
       "annual_return_rate                5.80        5.81        6.40        7.09   \n",
       "max_closed_out_drawdown         -23.13      -25.89      -25.44      -23.21   \n",
       "drawdown_annualized_return       -3.99       -4.45       -3.97       -3.28   \n",
       "drawdown_recovery                -3.06       -0.21       -0.67       -0.21   \n",
       "best_month                       12.95       12.96       12.96       15.15   \n",
       "worst_month                     -18.75      -17.22      -18.91      -18.89   \n",
       "sharpe_ratio                      0.52        0.51        0.55        0.59   \n",
       "sortino_ratio                     0.58        0.58        0.62        0.67   \n",
       "monthly_std                       3.23        3.28        3.33        3.31   \n",
       "pct_time_in_market               75.98       76.94       78.20       79.32   \n",
       "total_num_trades                    88          85          72          61   \n",
       "trades_per_year                   3.32        3.22        2.74        2.33   \n",
       "pct_profitable_trades            25.00       22.35       25.00       22.95   \n",
       "avg_points                        2.10        2.27        2.72        3.57   \n",
       "\n",
       "                                   350         375         400         425  \\\n",
       "start                       1994-06-17  1994-07-25  1994-08-29  1994-10-04   \n",
       "ending_balance                60700.20    78340.09    79459.06    77470.68   \n",
       "annual_return_rate                7.16        8.25        8.34        8.27   \n",
       "max_closed_out_drawdown         -27.34      -25.88      -24.14      -26.99   \n",
       "drawdown_annualized_return       -3.82       -3.14       -2.89       -3.26   \n",
       "drawdown_recovery                -0.22       -0.24       -0.25       -0.63   \n",
       "best_month                       15.13       15.15       15.80       15.75   \n",
       "worst_month                     -18.92      -18.94      -18.94      -18.90   \n",
       "sharpe_ratio                      0.59        0.66        0.66        0.65   \n",
       "sortino_ratio                     0.68        0.77        0.77        0.76   \n",
       "monthly_std                       3.35        3.32        3.32        3.37   \n",
       "pct_time_in_market               80.15       80.89       81.35       81.69   \n",
       "total_num_trades                    56          46          43          39   \n",
       "trades_per_year                   2.15        1.77        1.66        1.51   \n",
       "pct_profitable_trades            25.00       28.26       23.26       20.51   \n",
       "avg_points                        3.86        5.32        5.94        6.30   \n",
       "\n",
       "                                   450         475         500  \n",
       "start                       1994-11-08  1994-12-14  1995-01-20  \n",
       "ending_balance                70390.82    68855.82    63766.57  \n",
       "annual_return_rate                7.89        7.83        7.54  \n",
       "max_closed_out_drawdown         -31.20      -29.41      -29.72  \n",
       "drawdown_annualized_return       -3.95       -3.75       -3.94  \n",
       "drawdown_recovery                -0.64       -0.64       -0.64  \n",
       "best_month                       17.77       17.78       17.76  \n",
       "worst_month                     -20.79      -20.79      -22.86  \n",
       "sharpe_ratio                      0.62        0.62        0.59  \n",
       "sortino_ratio                     0.72        0.71        0.69  \n",
       "monthly_std                       3.49        3.55        3.62  \n",
       "pct_time_in_market               82.12       82.61       82.96  \n",
       "total_num_trades                    38          41          40  \n",
       "trades_per_year                   1.48        1.60        1.57  \n",
       "pct_profitable_trades            21.05       19.51       25.00  \n",
       "avg_points                        6.22        5.62        5.35  "
      ]
     },
     "execution_count": 6,
     "metadata": {},
     "output_type": "execute_result"
    }
   ],
   "source": [
    "metrics = ('start',\n",
    "           'ending_balance',\n",
    "           'annual_return_rate',\n",
    "           'max_closed_out_drawdown',\n",
    "           'drawdown_annualized_return',\n",
    "           'drawdown_recovery',\n",
    "           'best_month',\n",
    "           'worst_month',\n",
    "           'sharpe_ratio',\n",
    "           'sortino_ratio',\n",
    "           'monthly_std',\n",
    "           'pct_time_in_market',\n",
    "           'total_num_trades',\n",
    "           'trades_per_year',\n",
    "           'pct_profitable_trades',\n",
    "           'avg_points')\n",
    "\n",
    "df = strategy.summary(strategies, metrics)\n",
    "df"
   ]
  },
  {
   "cell_type": "markdown",
   "metadata": {},
   "source": [
    "Bar graphs"
   ]
  },
  {
   "cell_type": "code",
   "execution_count": 7,
   "metadata": {
    "ExecuteTime": {
     "end_time": "2020-02-17T03:49:13.850931Z",
     "start_time": "2020-02-17T03:49:12.891469Z"
    }
   },
   "outputs": [
    {
     "data": {
      "image/png": "[encoded data removed]",
      "text/plain": [
       "<Figure size 720x504 with 1 Axes>"
      ]
     },
     "metadata": {
      "needs_background": "light"
     },
     "output_type": "display_data"
    },
    {
     "data": {
      "image/png": "[encoded data removed]",
      "text/plain": [
       "<Figure size 720x504 with 1 Axes>"
      ]
     },
     "metadata": {
      "needs_background": "light"
     },
     "output_type": "display_data"
    },
    {
     "data": {
      "image/png": "[encoded data removed]",
      "text/plain": [
       "<Figure size 720x504 with 1 Axes>"
      ]
     },
     "metadata": {
      "needs_background": "light"
     },
     "output_type": "display_data"
    },
    {
     "data": {
      "image/png": "[encoded data removed]",
      "text/plain": [
       "<Figure size 720x504 with 1 Axes>"
      ]
     },
     "metadata": {
      "needs_background": "light"
     },
     "output_type": "display_data"
    }
   ],
   "source": [
    "strategy.plot_bar_graph(df, 'annual_return_rate')\n",
    "strategy.plot_bar_graph(df, 'ending_balance')\n",
    "strategy.plot_bar_graph(df, 'sharpe_ratio')\n",
    "strategy.plot_bar_graph(df, 'max_closed_out_drawdown')"
   ]
  },
  {
   "cell_type": "markdown",
   "metadata": {},
   "source": [
    "Run Benchmark"
   ]
  },
  {
   "cell_type": "code",
   "execution_count": 8,
   "metadata": {
    "ExecuteTime": {
     "end_time": "2020-02-17T03:49:14.539082Z",
     "start_time": "2020-02-17T03:49:13.862012Z"
    }
   },
   "outputs": [
    {
     "name": "stdout",
     "output_type": "stream",
     "text": [
      "1993-11-11 00:00:00 BUY  215 SPY @ 46.38\n",
      "2020-07-14 00:00:00 SELL 215 SPY @ 316.03\n"
     ]
    }
   ],
   "source": [
    "s = strategies[periods[0]]\n",
    "benchmark = pf.Benchmark(symbol, capital, s._start, s._end)\n",
    "benchmark.run()\n",
    "benchmark.tlog, benchmark.dbal = benchmark.get_logs()\n",
    "benchmark.stats = benchmark.get_stats()"
   ]
  },
  {
   "cell_type": "markdown",
   "metadata": {},
   "source": [
    "Equity curve"
   ]
  },
  {
   "cell_type": "code",
   "execution_count": 9,
   "metadata": {
    "ExecuteTime": {
     "end_time": "2020-02-17T03:49:14.814529Z",
     "start_time": "2020-02-17T03:49:14.552368Z"
    }
   },
   "outputs": [
    {
     "data": {
      "image/png": "[encoded data removed]",
      "text/plain": [
       "<Figure size 720x504 with 1 Axes>"
      ]
     },
     "metadata": {
      "needs_background": "light"
     },
     "output_type": "display_data"
    }
   ],
   "source": [
    "pf.plot_equity_curve(strategies['200'].dbal, benchmark=benchmark.dbal)"
   ]
  },
  {
   "cell_type": "code",
   "execution_count": null,
   "metadata": {},
   "outputs": [],
   "source": []
  }
 ],
 "metadata": {
  "kernelspec": {
   "display_name": "Python 3",
   "language": "python",
   "name": "python3"
  },
  "language_info": {
   "codemirror_mode": {
    "name": "ipython",
    "version": 3
   },
   "file_extension": ".py",
   "mimetype": "text/x-python",
   "name": "python",
   "nbconvert_exporter": "python",
   "pygments_lexer": "ipython3",
   "version": "3.8.2"
  },
  "latex_envs": {
   "LaTeX_envs_menu_present": true,
   "autoclose": false,
   "autocomplete": true,
   "bibliofile": "biblio.bib",
   "cite_by": "apalike",
   "current_citInitial": 1,
   "eqLabelWithNumbers": true,
   "eqNumInitial": 1,
   "hotkeys": {
    "equation": "Ctrl-E",
    "itemize": "Ctrl-I"
   },
   "labels_anchors": false,
   "latex_user_defs": false,
   "report_style_numbering": false,
   "user_envs_cfg": false
  }
 },
 "nbformat": 4,
 "nbformat_minor": 2
}
