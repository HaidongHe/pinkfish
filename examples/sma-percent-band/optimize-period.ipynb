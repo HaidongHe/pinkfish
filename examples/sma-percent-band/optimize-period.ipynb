{
 "cells": [
  {
   "cell_type": "markdown",
   "metadata": {},
   "source": [
    "# SMA Percent Band\n",
    "\n",
    "    1. The SPY closes above its upper band, buy\n",
    "    2. If the SPY closes below its lower band, sell your long position.\n",
    "    \n",
    "    (optimize period)"
   ]
  },
  {
   "cell_type": "code",
   "execution_count": 1,
   "metadata": {
    "ExecuteTime": {
     "end_time": "2020-02-17T03:48:57.172933Z",
     "start_time": "2020-02-17T03:48:56.413862Z"
    }
   },
   "outputs": [],
   "source": [
    "import pandas as pd\n",
    "import matplotlib.pyplot as plt\n",
    "import datetime\n",
    "from talib.abstract import *\n",
    "\n",
    "import pinkfish as pf\n",
    "import strategy\n",
    "\n",
    "# format price data\n",
    "pd.options.display.float_format = '{:0.2f}'.format\n",
    "\n",
    "%matplotlib inline"
   ]
  },
  {
   "cell_type": "code",
   "execution_count": 2,
   "metadata": {
    "ExecuteTime": {
     "end_time": "2020-02-17T03:48:57.190111Z",
     "start_time": "2020-02-17T03:48:57.183653Z"
    }
   },
   "outputs": [],
   "source": [
    "# set size of inline plots\n",
    "'''note: rcParams can't be in same cell as import matplotlib\n",
    "   or %matplotlib inline\n",
    "   \n",
    "   %matplotlib notebook: will lead to interactive plots embedded within\n",
    "   the notebook, you can zoom and resize the figure\n",
    "   \n",
    "   %matplotlib inline: only draw static images in the notebook\n",
    "'''\n",
    "plt.rcParams[\"figure.figsize\"] = (10, 7)"
   ]
  },
  {
   "cell_type": "markdown",
   "metadata": {},
   "source": [
    "Some global data"
   ]
  },
  {
   "cell_type": "code",
   "execution_count": 3,
   "metadata": {
    "ExecuteTime": {
     "end_time": "2020-02-17T03:48:57.204555Z",
     "start_time": "2020-02-17T03:48:57.194401Z"
    }
   },
   "outputs": [],
   "source": [
    "#symbol = '^GSPC'\n",
    "symbol = 'SPY'\n",
    "#symbol = 'DIA'\n",
    "#symbol = 'QQQ'\n",
    "#symbol = 'IWM'\n",
    "#symbol = 'TLT'\n",
    "#symbol = 'GLD'\n",
    "#symbol = 'AAPL'\n",
    "#symbol = 'BBRY'\n",
    "#symbol = 'GDX'\n",
    "capital = 10000\n",
    "#start = datetime.datetime(1900, 1, 1)\n",
    "start = datetime.datetime.strptime(pf.SP500_BEGIN, '%Y-%m-%d')\n",
    "end = datetime.datetime.now()"
   ]
  },
  {
   "cell_type": "markdown",
   "metadata": {},
   "source": [
    "Define the periods"
   ]
  },
  {
   "cell_type": "code",
   "execution_count": 4,
   "metadata": {
    "ExecuteTime": {
     "end_time": "2020-02-17T03:48:57.219282Z",
     "start_time": "2020-02-17T03:48:57.209459Z"
    }
   },
   "outputs": [],
   "source": [
    "periods = range(50, 525, 25)\n",
    "periods = [str(period) for period in periods]"
   ]
  },
  {
   "cell_type": "markdown",
   "metadata": {},
   "source": [
    "Run Strategy"
   ]
  },
  {
   "cell_type": "code",
   "execution_count": 5,
   "metadata": {
    "ExecuteTime": {
     "end_time": "2020-02-17T03:49:12.813759Z",
     "start_time": "2020-02-17T03:48:57.225846Z"
    }
   },
   "outputs": [
    {
     "name": "stdout",
     "output_type": "stream",
     "text": [
      "50 75 100 125 150 175 200 225 250 275 300 325 350 375 400 425 450 475 500 "
     ]
    }
   ],
   "source": [
    "strategies = pd.Series(dtype=object)\n",
    "for period in periods:\n",
    "    print(\"{0}\".format(period), end=\" \")\n",
    "    strategies[period] = strategy.Strategy(symbol, capital, start, end, sma_period=int(period))\n",
    "    strategies[period].run()\n",
    "    _, strategies[period].tlog, strategies[period].dbal = strategies[period].get_logs()\n",
    "    strategies[period].stats = strategies[period].get_stats()"
   ]
  },
  {
   "cell_type": "markdown",
   "metadata": {},
   "source": [
    "Summarize results"
   ]
  },
  {
   "cell_type": "code",
   "execution_count": 6,
   "metadata": {
    "ExecuteTime": {
     "end_time": "2020-02-17T03:49:12.881701Z",
     "start_time": "2020-02-17T03:49:12.827144Z"
    },
    "scrolled": false
   },
   "outputs": [
    {
     "data": {
      "text/html": [
       "<div>\n",
       "<style scoped>\n",
       "    .dataframe tbody tr th:only-of-type {\n",
       "        vertical-align: middle;\n",
       "    }\n",
       "\n",
       "    .dataframe tbody tr th {\n",
       "        vertical-align: top;\n",
       "    }\n",
       "\n",
       "    .dataframe thead th {\n",
       "        text-align: right;\n",
       "    }\n",
       "</style>\n",
       "<table border=\"1\" class=\"dataframe\">\n",
       "  <thead>\n",
       "    <tr style=\"text-align: right;\">\n",
       "      <th></th>\n",
       "      <th>50</th>\n",
       "      <th>75</th>\n",
       "      <th>100</th>\n",
       "      <th>125</th>\n",
       "      <th>150</th>\n",
       "      <th>175</th>\n",
       "      <th>200</th>\n",
       "      <th>225</th>\n",
       "      <th>250</th>\n",
       "      <th>275</th>\n",
       "      <th>300</th>\n",
       "      <th>325</th>\n",
       "      <th>350</th>\n",
       "      <th>375</th>\n",
       "      <th>400</th>\n",
       "      <th>425</th>\n",
       "      <th>450</th>\n",
       "      <th>475</th>\n",
       "      <th>500</th>\n",
       "    </tr>\n",
       "  </thead>\n",
       "  <tbody>\n",
       "    <tr>\n",
       "      <th>start</th>\n",
       "      <td>1993-04-12</td>\n",
       "      <td>1993-05-17</td>\n",
       "      <td>1993-06-22</td>\n",
       "      <td>1993-07-28</td>\n",
       "      <td>1993-09-01</td>\n",
       "      <td>1993-10-07</td>\n",
       "      <td>1993-11-11</td>\n",
       "      <td>1993-12-17</td>\n",
       "      <td>1994-01-24</td>\n",
       "      <td>1994-03-01</td>\n",
       "      <td>1994-04-06</td>\n",
       "      <td>1994-05-12</td>\n",
       "      <td>1994-06-17</td>\n",
       "      <td>1994-07-25</td>\n",
       "      <td>1994-08-29</td>\n",
       "      <td>1994-10-04</td>\n",
       "      <td>1994-11-08</td>\n",
       "      <td>1994-12-14</td>\n",
       "      <td>1995-01-20</td>\n",
       "    </tr>\n",
       "    <tr>\n",
       "      <th>ending_balance</th>\n",
       "      <td>22194.94</td>\n",
       "      <td>29151.50</td>\n",
       "      <td>22586.30</td>\n",
       "      <td>24251.91</td>\n",
       "      <td>25537.69</td>\n",
       "      <td>30004.09</td>\n",
       "      <td>40047.44</td>\n",
       "      <td>49902.22</td>\n",
       "      <td>47989.70</td>\n",
       "      <td>44748.52</td>\n",
       "      <td>46635.95</td>\n",
       "      <td>53888.53</td>\n",
       "      <td>53334.71</td>\n",
       "      <td>67952.67</td>\n",
       "      <td>65927.71</td>\n",
       "      <td>62117.08</td>\n",
       "      <td>54401.72</td>\n",
       "      <td>54482.49</td>\n",
       "      <td>51719.28</td>\n",
       "    </tr>\n",
       "    <tr>\n",
       "      <th>annual_return_rate</th>\n",
       "      <td>2.97</td>\n",
       "      <td>4.01</td>\n",
       "      <td>3.05</td>\n",
       "      <td>3.34</td>\n",
       "      <td>3.55</td>\n",
       "      <td>4.19</td>\n",
       "      <td>5.33</td>\n",
       "      <td>6.23</td>\n",
       "      <td>6.10</td>\n",
       "      <td>5.84</td>\n",
       "      <td>6.03</td>\n",
       "      <td>6.64</td>\n",
       "      <td>6.62</td>\n",
       "      <td>7.65</td>\n",
       "      <td>7.55</td>\n",
       "      <td>7.34</td>\n",
       "      <td>6.81</td>\n",
       "      <td>6.84</td>\n",
       "      <td>6.65</td>\n",
       "    </tr>\n",
       "    <tr>\n",
       "      <th>max_closed_out_drawdown</th>\n",
       "      <td>-42.82</td>\n",
       "      <td>-42.65</td>\n",
       "      <td>-49.83</td>\n",
       "      <td>-44.21</td>\n",
       "      <td>-38.23</td>\n",
       "      <td>-32.77</td>\n",
       "      <td>-28.66</td>\n",
       "      <td>-22.78</td>\n",
       "      <td>-21.29</td>\n",
       "      <td>-25.87</td>\n",
       "      <td>-25.44</td>\n",
       "      <td>-23.19</td>\n",
       "      <td>-27.33</td>\n",
       "      <td>-25.88</td>\n",
       "      <td>-24.09</td>\n",
       "      <td>-26.99</td>\n",
       "      <td>-31.20</td>\n",
       "      <td>-29.38</td>\n",
       "      <td>-29.71</td>\n",
       "    </tr>\n",
       "    <tr>\n",
       "      <th>drawdown_annualized_return</th>\n",
       "      <td>-14.44</td>\n",
       "      <td>-10.63</td>\n",
       "      <td>-16.32</td>\n",
       "      <td>-13.25</td>\n",
       "      <td>-10.77</td>\n",
       "      <td>-7.83</td>\n",
       "      <td>-5.37</td>\n",
       "      <td>-3.66</td>\n",
       "      <td>-3.49</td>\n",
       "      <td>-4.43</td>\n",
       "      <td>-4.22</td>\n",
       "      <td>-3.49</td>\n",
       "      <td>-4.13</td>\n",
       "      <td>-3.38</td>\n",
       "      <td>-3.19</td>\n",
       "      <td>-3.68</td>\n",
       "      <td>-4.58</td>\n",
       "      <td>-4.29</td>\n",
       "      <td>-4.46</td>\n",
       "    </tr>\n",
       "    <tr>\n",
       "      <th>drawdown_recovery</th>\n",
       "      <td>-9.71</td>\n",
       "      <td>-3.91</td>\n",
       "      <td>-3.75</td>\n",
       "      <td>-3.75</td>\n",
       "      <td>-3.75</td>\n",
       "      <td>-3.75</td>\n",
       "      <td>-3.75</td>\n",
       "      <td>-0.30</td>\n",
       "      <td>-3.08</td>\n",
       "      <td>-0.21</td>\n",
       "      <td>-0.67</td>\n",
       "      <td>-0.21</td>\n",
       "      <td>-0.22</td>\n",
       "      <td>-0.24</td>\n",
       "      <td>-0.25</td>\n",
       "      <td>-0.63</td>\n",
       "      <td>-0.64</td>\n",
       "      <td>-0.64</td>\n",
       "      <td>-0.64</td>\n",
       "    </tr>\n",
       "    <tr>\n",
       "      <th>best_month</th>\n",
       "      <td>12.78</td>\n",
       "      <td>12.32</td>\n",
       "      <td>15.04</td>\n",
       "      <td>15.04</td>\n",
       "      <td>14.99</td>\n",
       "      <td>15.03</td>\n",
       "      <td>12.95</td>\n",
       "      <td>12.93</td>\n",
       "      <td>12.95</td>\n",
       "      <td>12.95</td>\n",
       "      <td>12.95</td>\n",
       "      <td>15.12</td>\n",
       "      <td>15.17</td>\n",
       "      <td>15.14</td>\n",
       "      <td>15.78</td>\n",
       "      <td>15.75</td>\n",
       "      <td>17.77</td>\n",
       "      <td>17.78</td>\n",
       "      <td>17.76</td>\n",
       "    </tr>\n",
       "    <tr>\n",
       "      <th>worst_month</th>\n",
       "      <td>-14.35</td>\n",
       "      <td>-16.55</td>\n",
       "      <td>-16.57</td>\n",
       "      <td>-13.58</td>\n",
       "      <td>-17.36</td>\n",
       "      <td>-17.30</td>\n",
       "      <td>-17.37</td>\n",
       "      <td>-17.37</td>\n",
       "      <td>-18.73</td>\n",
       "      <td>-17.21</td>\n",
       "      <td>-18.85</td>\n",
       "      <td>-18.87</td>\n",
       "      <td>-18.91</td>\n",
       "      <td>-18.89</td>\n",
       "      <td>-18.90</td>\n",
       "      <td>-18.92</td>\n",
       "      <td>-20.78</td>\n",
       "      <td>-20.76</td>\n",
       "      <td>-22.82</td>\n",
       "    </tr>\n",
       "    <tr>\n",
       "      <th>sharpe_ratio</th>\n",
       "      <td>0.33</td>\n",
       "      <td>0.41</td>\n",
       "      <td>0.33</td>\n",
       "      <td>0.35</td>\n",
       "      <td>0.36</td>\n",
       "      <td>0.41</td>\n",
       "      <td>0.50</td>\n",
       "      <td>0.57</td>\n",
       "      <td>0.55</td>\n",
       "      <td>0.52</td>\n",
       "      <td>0.53</td>\n",
       "      <td>0.57</td>\n",
       "      <td>0.56</td>\n",
       "      <td>0.63</td>\n",
       "      <td>0.62</td>\n",
       "      <td>0.60</td>\n",
       "      <td>0.56</td>\n",
       "      <td>0.56</td>\n",
       "      <td>0.54</td>\n",
       "    </tr>\n",
       "    <tr>\n",
       "      <th>sortino_ratio</th>\n",
       "      <td>0.34</td>\n",
       "      <td>0.45</td>\n",
       "      <td>0.35</td>\n",
       "      <td>0.37</td>\n",
       "      <td>0.39</td>\n",
       "      <td>0.44</td>\n",
       "      <td>0.55</td>\n",
       "      <td>0.63</td>\n",
       "      <td>0.61</td>\n",
       "      <td>0.58</td>\n",
       "      <td>0.58</td>\n",
       "      <td>0.63</td>\n",
       "      <td>0.63</td>\n",
       "      <td>0.72</td>\n",
       "      <td>0.71</td>\n",
       "      <td>0.68</td>\n",
       "      <td>0.63</td>\n",
       "      <td>0.63</td>\n",
       "      <td>0.61</td>\n",
       "    </tr>\n",
       "    <tr>\n",
       "      <th>monthly_std</th>\n",
       "      <td>2.87</td>\n",
       "      <td>2.90</td>\n",
       "      <td>2.98</td>\n",
       "      <td>3.10</td>\n",
       "      <td>3.20</td>\n",
       "      <td>3.16</td>\n",
       "      <td>3.10</td>\n",
       "      <td>3.15</td>\n",
       "      <td>3.18</td>\n",
       "      <td>3.22</td>\n",
       "      <td>3.27</td>\n",
       "      <td>3.23</td>\n",
       "      <td>3.27</td>\n",
       "      <td>3.25</td>\n",
       "      <td>3.24</td>\n",
       "      <td>3.31</td>\n",
       "      <td>3.43</td>\n",
       "      <td>3.48</td>\n",
       "      <td>3.54</td>\n",
       "    </tr>\n",
       "    <tr>\n",
       "      <th>pct_time_in_market</th>\n",
       "      <td>66.05</td>\n",
       "      <td>68.79</td>\n",
       "      <td>70.08</td>\n",
       "      <td>71.30</td>\n",
       "      <td>72.14</td>\n",
       "      <td>72.94</td>\n",
       "      <td>73.56</td>\n",
       "      <td>73.88</td>\n",
       "      <td>75.00</td>\n",
       "      <td>75.69</td>\n",
       "      <td>76.65</td>\n",
       "      <td>77.46</td>\n",
       "      <td>78.09</td>\n",
       "      <td>78.83</td>\n",
       "      <td>79.18</td>\n",
       "      <td>79.33</td>\n",
       "      <td>79.47</td>\n",
       "      <td>79.68</td>\n",
       "      <td>79.63</td>\n",
       "    </tr>\n",
       "    <tr>\n",
       "      <th>total_num_trades</th>\n",
       "      <td>257</td>\n",
       "      <td>197</td>\n",
       "      <td>170</td>\n",
       "      <td>160</td>\n",
       "      <td>144</td>\n",
       "      <td>118</td>\n",
       "      <td>96</td>\n",
       "      <td>84</td>\n",
       "      <td>83</td>\n",
       "      <td>79</td>\n",
       "      <td>70</td>\n",
       "      <td>58</td>\n",
       "      <td>53</td>\n",
       "      <td>43</td>\n",
       "      <td>44</td>\n",
       "      <td>38</td>\n",
       "      <td>40</td>\n",
       "      <td>40</td>\n",
       "      <td>40</td>\n",
       "    </tr>\n",
       "    <tr>\n",
       "      <th>trades_per_year</th>\n",
       "      <td>9.42</td>\n",
       "      <td>7.25</td>\n",
       "      <td>6.28</td>\n",
       "      <td>5.93</td>\n",
       "      <td>5.35</td>\n",
       "      <td>4.40</td>\n",
       "      <td>3.60</td>\n",
       "      <td>3.16</td>\n",
       "      <td>3.13</td>\n",
       "      <td>2.99</td>\n",
       "      <td>2.66</td>\n",
       "      <td>2.21</td>\n",
       "      <td>2.03</td>\n",
       "      <td>1.65</td>\n",
       "      <td>1.70</td>\n",
       "      <td>1.47</td>\n",
       "      <td>1.56</td>\n",
       "      <td>1.56</td>\n",
       "      <td>1.57</td>\n",
       "    </tr>\n",
       "    <tr>\n",
       "      <th>pct_profitable_trades</th>\n",
       "      <td>26.85</td>\n",
       "      <td>26.90</td>\n",
       "      <td>24.71</td>\n",
       "      <td>22.50</td>\n",
       "      <td>22.22</td>\n",
       "      <td>22.88</td>\n",
       "      <td>23.96</td>\n",
       "      <td>25.00</td>\n",
       "      <td>26.51</td>\n",
       "      <td>24.05</td>\n",
       "      <td>25.71</td>\n",
       "      <td>24.14</td>\n",
       "      <td>26.42</td>\n",
       "      <td>30.23</td>\n",
       "      <td>22.73</td>\n",
       "      <td>21.05</td>\n",
       "      <td>20.00</td>\n",
       "      <td>22.50</td>\n",
       "      <td>25.00</td>\n",
       "    </tr>\n",
       "    <tr>\n",
       "      <th>avg_points</th>\n",
       "      <td>0.44</td>\n",
       "      <td>0.60</td>\n",
       "      <td>0.48</td>\n",
       "      <td>0.63</td>\n",
       "      <td>0.56</td>\n",
       "      <td>0.93</td>\n",
       "      <td>1.62</td>\n",
       "      <td>2.26</td>\n",
       "      <td>2.37</td>\n",
       "      <td>2.50</td>\n",
       "      <td>2.71</td>\n",
       "      <td>3.60</td>\n",
       "      <td>3.84</td>\n",
       "      <td>5.42</td>\n",
       "      <td>5.48</td>\n",
       "      <td>6.01</td>\n",
       "      <td>5.37</td>\n",
       "      <td>5.30</td>\n",
       "      <td>4.94</td>\n",
       "    </tr>\n",
       "  </tbody>\n",
       "</table>\n",
       "</div>"
      ],
      "text/plain": [
       "                                    50          75         100         125  \\\n",
       "start                       1993-04-12  1993-05-17  1993-06-22  1993-07-28   \n",
       "ending_balance                22194.94    29151.50    22586.30    24251.91   \n",
       "annual_return_rate                2.97        4.01        3.05        3.34   \n",
       "max_closed_out_drawdown         -42.82      -42.65      -49.83      -44.21   \n",
       "drawdown_annualized_return      -14.44      -10.63      -16.32      -13.25   \n",
       "drawdown_recovery                -9.71       -3.91       -3.75       -3.75   \n",
       "best_month                       12.78       12.32       15.04       15.04   \n",
       "worst_month                     -14.35      -16.55      -16.57      -13.58   \n",
       "sharpe_ratio                      0.33        0.41        0.33        0.35   \n",
       "sortino_ratio                     0.34        0.45        0.35        0.37   \n",
       "monthly_std                       2.87        2.90        2.98        3.10   \n",
       "pct_time_in_market               66.05       68.79       70.08       71.30   \n",
       "total_num_trades                   257         197         170         160   \n",
       "trades_per_year                   9.42        7.25        6.28        5.93   \n",
       "pct_profitable_trades            26.85       26.90       24.71       22.50   \n",
       "avg_points                        0.44        0.60        0.48        0.63   \n",
       "\n",
       "                                   150         175         200         225  \\\n",
       "start                       1993-09-01  1993-10-07  1993-11-11  1993-12-17   \n",
       "ending_balance                25537.69    30004.09    40047.44    49902.22   \n",
       "annual_return_rate                3.55        4.19        5.33        6.23   \n",
       "max_closed_out_drawdown         -38.23      -32.77      -28.66      -22.78   \n",
       "drawdown_annualized_return      -10.77       -7.83       -5.37       -3.66   \n",
       "drawdown_recovery                -3.75       -3.75       -3.75       -0.30   \n",
       "best_month                       14.99       15.03       12.95       12.93   \n",
       "worst_month                     -17.36      -17.30      -17.37      -17.37   \n",
       "sharpe_ratio                      0.36        0.41        0.50        0.57   \n",
       "sortino_ratio                     0.39        0.44        0.55        0.63   \n",
       "monthly_std                       3.20        3.16        3.10        3.15   \n",
       "pct_time_in_market               72.14       72.94       73.56       73.88   \n",
       "total_num_trades                   144         118          96          84   \n",
       "trades_per_year                   5.35        4.40        3.60        3.16   \n",
       "pct_profitable_trades            22.22       22.88       23.96       25.00   \n",
       "avg_points                        0.56        0.93        1.62        2.26   \n",
       "\n",
       "                                   250         275         300         325  \\\n",
       "start                       1994-01-24  1994-03-01  1994-04-06  1994-05-12   \n",
       "ending_balance                47989.70    44748.52    46635.95    53888.53   \n",
       "annual_return_rate                6.10        5.84        6.03        6.64   \n",
       "max_closed_out_drawdown         -21.29      -25.87      -25.44      -23.19   \n",
       "drawdown_annualized_return       -3.49       -4.43       -4.22       -3.49   \n",
       "drawdown_recovery                -3.08       -0.21       -0.67       -0.21   \n",
       "best_month                       12.95       12.95       12.95       15.12   \n",
       "worst_month                     -18.73      -17.21      -18.85      -18.87   \n",
       "sharpe_ratio                      0.55        0.52        0.53        0.57   \n",
       "sortino_ratio                     0.61        0.58        0.58        0.63   \n",
       "monthly_std                       3.18        3.22        3.27        3.23   \n",
       "pct_time_in_market               75.00       75.69       76.65       77.46   \n",
       "total_num_trades                    83          79          70          58   \n",
       "trades_per_year                   3.13        2.99        2.66        2.21   \n",
       "pct_profitable_trades            26.51       24.05       25.71       24.14   \n",
       "avg_points                        2.37        2.50        2.71        3.60   \n",
       "\n",
       "                                   350         375         400         425  \\\n",
       "start                       1994-06-17  1994-07-25  1994-08-29  1994-10-04   \n",
       "ending_balance                53334.71    67952.67    65927.71    62117.08   \n",
       "annual_return_rate                6.62        7.65        7.55        7.34   \n",
       "max_closed_out_drawdown         -27.33      -25.88      -24.09      -26.99   \n",
       "drawdown_annualized_return       -4.13       -3.38       -3.19       -3.68   \n",
       "drawdown_recovery                -0.22       -0.24       -0.25       -0.63   \n",
       "best_month                       15.17       15.14       15.78       15.75   \n",
       "worst_month                     -18.91      -18.89      -18.90      -18.92   \n",
       "sharpe_ratio                      0.56        0.63        0.62        0.60   \n",
       "sortino_ratio                     0.63        0.72        0.71        0.68   \n",
       "monthly_std                       3.27        3.25        3.24        3.31   \n",
       "pct_time_in_market               78.09       78.83       79.18       79.33   \n",
       "total_num_trades                    53          43          44          38   \n",
       "trades_per_year                   2.03        1.65        1.70        1.47   \n",
       "pct_profitable_trades            26.42       30.23       22.73       21.05   \n",
       "avg_points                        3.84        5.42        5.48        6.01   \n",
       "\n",
       "                                   450         475         500  \n",
       "start                       1994-11-08  1994-12-14  1995-01-20  \n",
       "ending_balance                54401.72    54482.49    51719.28  \n",
       "annual_return_rate                6.81        6.84        6.65  \n",
       "max_closed_out_drawdown         -31.20      -29.38      -29.71  \n",
       "drawdown_annualized_return       -4.58       -4.29       -4.46  \n",
       "drawdown_recovery                -0.64       -0.64       -0.64  \n",
       "best_month                       17.77       17.78       17.76  \n",
       "worst_month                     -20.78      -20.76      -22.82  \n",
       "sharpe_ratio                      0.56        0.56        0.54  \n",
       "sortino_ratio                     0.63        0.63        0.61  \n",
       "monthly_std                       3.43        3.48        3.54  \n",
       "pct_time_in_market               79.47       79.68       79.63  \n",
       "total_num_trades                    40          40          40  \n",
       "trades_per_year                   1.56        1.56        1.57  \n",
       "pct_profitable_trades            20.00       22.50       25.00  \n",
       "avg_points                        5.37        5.30        4.94  "
      ]
     },
     "execution_count": 6,
     "metadata": {},
     "output_type": "execute_result"
    }
   ],
   "source": [
    "metrics = ('start',\n",
    "           'ending_balance',\n",
    "           'annual_return_rate',\n",
    "           'max_closed_out_drawdown',\n",
    "           'drawdown_annualized_return',\n",
    "           'drawdown_recovery',\n",
    "           'best_month',\n",
    "           'worst_month',\n",
    "           'sharpe_ratio',\n",
    "           'sortino_ratio',\n",
    "           'monthly_std',\n",
    "           'pct_time_in_market',\n",
    "           'total_num_trades',\n",
    "           'trades_per_year',\n",
    "           'pct_profitable_trades',\n",
    "           'avg_points')\n",
    "\n",
    "df = strategy.summary(strategies, metrics)\n",
    "df"
   ]
  },
  {
   "cell_type": "markdown",
   "metadata": {},
   "source": [
    "Bar graphs"
   ]
  },
  {
   "cell_type": "code",
   "execution_count": 7,
   "metadata": {
    "ExecuteTime": {
     "end_time": "2020-02-17T03:49:13.850931Z",
     "start_time": "2020-02-17T03:49:12.891469Z"
    }
   },
   "outputs": [
    {
     "data": {
      "image/png": "[encoded data removed]",
      "text/plain": [
       "<Figure size 720x504 with 1 Axes>"
      ]
     },
     "metadata": {
      "needs_background": "light"
     },
     "output_type": "display_data"
    },
    {
     "data": {
      "image/png": "[encoded data removed]",
      "text/plain": [
       "<Figure size 720x504 with 1 Axes>"
      ]
     },
     "metadata": {
      "needs_background": "light"
     },
     "output_type": "display_data"
    },
    {
     "data": {
      "image/png": "[encoded data removed]",
      "text/plain": [
       "<Figure size 720x504 with 1 Axes>"
      ]
     },
     "metadata": {
      "needs_background": "light"
     },
     "output_type": "display_data"
    },
    {
     "data": {
      "image/png": "[encoded data removed]",
      "text/plain": [
       "<Figure size 720x504 with 1 Axes>"
      ]
     },
     "metadata": {
      "needs_background": "light"
     },
     "output_type": "display_data"
    }
   ],
   "source": [
    "strategy.plot_bar_graph(df, 'annual_return_rate')\n",
    "strategy.plot_bar_graph(df, 'ending_balance')\n",
    "strategy.plot_bar_graph(df, 'sharpe_ratio')\n",
    "strategy.plot_bar_graph(df, 'max_closed_out_drawdown')"
   ]
  },
  {
   "cell_type": "markdown",
   "metadata": {},
   "source": [
    "Run Benchmark"
   ]
  },
  {
   "cell_type": "code",
   "execution_count": 8,
   "metadata": {
    "ExecuteTime": {
     "end_time": "2020-02-17T03:49:14.539082Z",
     "start_time": "2020-02-17T03:49:13.862012Z"
    }
   },
   "outputs": [
    {
     "name": "stdout",
     "output_type": "stream",
     "text": [
      "1993-04-12 00:00:00 BUY  222 SPY @ 44.91\n",
      "2020-07-23 00:00:00 SELL 222 SPY @ 322.28\n"
     ]
    }
   ],
   "source": [
    "s = strategies[periods[0]]\n",
    "benchmark = pf.Benchmark(symbol, capital, s.start, s.end)\n",
    "benchmark.run()\n",
    "benchmark.tlog, benchmark.dbal = benchmark.get_logs()\n",
    "benchmark.stats = benchmark.get_stats()"
   ]
  },
  {
   "cell_type": "markdown",
   "metadata": {},
   "source": [
    "Equity curve"
   ]
  },
  {
   "cell_type": "code",
   "execution_count": 9,
   "metadata": {
    "ExecuteTime": {
     "end_time": "2020-02-17T03:49:14.814529Z",
     "start_time": "2020-02-17T03:49:14.552368Z"
    }
   },
   "outputs": [
    {
     "data": {
      "image/png": "[encoded data removed]",
      "text/plain": [
       "<Figure size 720x504 with 1 Axes>"
      ]
     },
     "metadata": {
      "needs_background": "light"
     },
     "output_type": "display_data"
    }
   ],
   "source": [
    "pf.plot_equity_curve(strategies['200'].dbal, benchmark=benchmark.dbal)"
   ]
  },
  {
   "cell_type": "code",
   "execution_count": null,
   "metadata": {},
   "outputs": [],
   "source": []
  }
 ],
 "metadata": {
  "kernelspec": {
   "display_name": "Python 3",
   "language": "python",
   "name": "python3"
  },
  "language_info": {
   "codemirror_mode": {
    "name": "ipython",
    "version": 3
   },
   "file_extension": ".py",
   "mimetype": "text/x-python",
   "name": "python",
   "nbconvert_exporter": "python",
   "pygments_lexer": "ipython3",
   "version": "3.8.2"
  },
  "latex_envs": {
   "LaTeX_envs_menu_present": true,
   "autoclose": false,
   "autocomplete": true,
   "bibliofile": "biblio.bib",
   "cite_by": "apalike",
   "current_citInitial": 1,
   "eqLabelWithNumbers": true,
   "eqNumInitial": 1,
   "hotkeys": {
    "equation": "Ctrl-E",
    "itemize": "Ctrl-I"
   },
   "labels_anchors": false,
   "latex_user_defs": false,
   "report_style_numbering": false,
   "user_envs_cfg": false
  }
 },
 "nbformat": 4,
 "nbformat_minor": 2
}
