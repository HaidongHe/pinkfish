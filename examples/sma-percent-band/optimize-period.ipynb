{
 "cells": [
  {
   "cell_type": "markdown",
   "metadata": {},
   "source": [
    "# SMA Percent Band\n",
    "\n",
    "    1. The SPY closes above its upper band, buy\n",
    "    2. If the SPY closes below its lower band, sell your long position.\n",
    "    \n",
    "    (optimize period)"
   ]
  },
  {
   "cell_type": "code",
   "execution_count": 1,
   "metadata": {
    "ExecuteTime": {
     "end_time": "2020-02-17T03:48:57.172933Z",
     "start_time": "2020-02-17T03:48:56.413862Z"
    }
   },
   "outputs": [],
   "source": [
    "import pandas as pd\n",
    "import matplotlib.pyplot as plt\n",
    "import datetime\n",
    "from talib.abstract import *\n",
    "\n",
    "import pinkfish as pf\n",
    "import strategy\n",
    "\n",
    "# format price data\n",
    "pd.options.display.float_format = '{:0.2f}'.format\n",
    "\n",
    "%matplotlib inline"
   ]
  },
  {
   "cell_type": "code",
   "execution_count": 2,
   "metadata": {
    "ExecuteTime": {
     "end_time": "2020-02-17T03:48:57.190111Z",
     "start_time": "2020-02-17T03:48:57.183653Z"
    }
   },
   "outputs": [],
   "source": [
    "# set size of inline plots\n",
    "'''note: rcParams can't be in same cell as import matplotlib\n",
    "   or %matplotlib inline\n",
    "   \n",
    "   %matplotlib notebook: will lead to interactive plots embedded within\n",
    "   the notebook, you can zoom and resize the figure\n",
    "   \n",
    "   %matplotlib inline: only draw static images in the notebook\n",
    "'''\n",
    "plt.rcParams[\"figure.figsize\"] = (10, 7)"
   ]
  },
  {
   "cell_type": "markdown",
   "metadata": {},
   "source": [
    "Some global data"
   ]
  },
  {
   "cell_type": "code",
   "execution_count": 3,
   "metadata": {
    "ExecuteTime": {
     "end_time": "2020-02-17T03:48:57.204555Z",
     "start_time": "2020-02-17T03:48:57.194401Z"
    }
   },
   "outputs": [],
   "source": [
    "symbol = '^GSPC'\n",
    "symbol = 'SPY'\n",
    "#symbol = 'DIA'\n",
    "#symbol = 'QQQ'\n",
    "#symbol = 'IWM'\n",
    "#symbol = 'TLT'\n",
    "#symbol = 'GLD'\n",
    "#symbol = 'AAPL'\n",
    "#symbol = 'BBRY'\n",
    "#symbol = 'GDX'\n",
    "capital = 10000\n",
    "#start = datetime.datetime(1900, 1, 1)\n",
    "start = datetime.datetime.strptime(pf.SP500_BEGIN, '%Y-%m-%d')\n",
    "end = datetime.datetime.now()"
   ]
  },
  {
   "cell_type": "markdown",
   "metadata": {},
   "source": [
    "Define the periods"
   ]
  },
  {
   "cell_type": "code",
   "execution_count": 4,
   "metadata": {
    "ExecuteTime": {
     "end_time": "2020-02-17T03:48:57.219282Z",
     "start_time": "2020-02-17T03:48:57.209459Z"
    }
   },
   "outputs": [],
   "source": [
    "periods = range(50, 525, 25)\n",
    "periods = [str(period) for period in periods]"
   ]
  },
  {
   "cell_type": "markdown",
   "metadata": {},
   "source": [
    "Run Strategy"
   ]
  },
  {
   "cell_type": "code",
   "execution_count": 5,
   "metadata": {
    "ExecuteTime": {
     "end_time": "2020-02-17T03:49:12.813759Z",
     "start_time": "2020-02-17T03:48:57.225846Z"
    }
   },
   "outputs": [
    {
     "name": "stdout",
     "output_type": "stream",
     "text": [
      "50 75 100 125 150 175 200 225 250 275 300 325 350 375 400 425 450 475 500 "
     ]
    }
   ],
   "source": [
    "strategies = pd.Series(dtype=object)\n",
    "for period in periods:\n",
    "    print(\"{0}\".format(period), end=\" \")\n",
    "    strategies[period] = strategy.Strategy(symbol, capital, start, end, sma_period=int(period))\n",
    "    strategies[period].run()\n",
    "    _, strategies[period].tlog, strategies[period].dbal = strategies[period].get_logs()\n",
    "    strategies[period].stats = strategies[period].get_stats()"
   ]
  },
  {
   "cell_type": "markdown",
   "metadata": {},
   "source": [
    "Summarize results"
   ]
  },
  {
   "cell_type": "code",
   "execution_count": 6,
   "metadata": {
    "ExecuteTime": {
     "end_time": "2020-02-17T03:49:12.881701Z",
     "start_time": "2020-02-17T03:49:12.827144Z"
    },
    "scrolled": true
   },
   "outputs": [
    {
     "data": {
      "text/html": [
       "<div>\n",
       "<style scoped>\n",
       "    .dataframe tbody tr th:only-of-type {\n",
       "        vertical-align: middle;\n",
       "    }\n",
       "\n",
       "    .dataframe tbody tr th {\n",
       "        vertical-align: top;\n",
       "    }\n",
       "\n",
       "    .dataframe thead th {\n",
       "        text-align: right;\n",
       "    }\n",
       "</style>\n",
       "<table border=\"1\" class=\"dataframe\">\n",
       "  <thead>\n",
       "    <tr style=\"text-align: right;\">\n",
       "      <th></th>\n",
       "      <th>50</th>\n",
       "      <th>75</th>\n",
       "      <th>100</th>\n",
       "      <th>125</th>\n",
       "      <th>150</th>\n",
       "      <th>175</th>\n",
       "      <th>200</th>\n",
       "      <th>225</th>\n",
       "      <th>250</th>\n",
       "      <th>275</th>\n",
       "      <th>300</th>\n",
       "      <th>325</th>\n",
       "      <th>350</th>\n",
       "      <th>375</th>\n",
       "      <th>400</th>\n",
       "      <th>425</th>\n",
       "      <th>450</th>\n",
       "      <th>475</th>\n",
       "      <th>500</th>\n",
       "    </tr>\n",
       "  </thead>\n",
       "  <tbody>\n",
       "    <tr>\n",
       "      <th>start</th>\n",
       "      <td>1993-11-11</td>\n",
       "      <td>1993-11-11</td>\n",
       "      <td>1993-11-11</td>\n",
       "      <td>1993-11-11</td>\n",
       "      <td>1993-11-11</td>\n",
       "      <td>1993-11-11</td>\n",
       "      <td>1993-11-11</td>\n",
       "      <td>1993-12-17</td>\n",
       "      <td>1994-01-24</td>\n",
       "      <td>1994-03-01</td>\n",
       "      <td>1994-04-06</td>\n",
       "      <td>1994-05-12</td>\n",
       "      <td>1994-06-17</td>\n",
       "      <td>1994-07-25</td>\n",
       "      <td>1994-08-29</td>\n",
       "      <td>1994-10-04</td>\n",
       "      <td>1994-11-08</td>\n",
       "      <td>1994-12-14</td>\n",
       "      <td>1995-01-20</td>\n",
       "    </tr>\n",
       "    <tr>\n",
       "      <th>ending_balance</th>\n",
       "      <td>46546.59</td>\n",
       "      <td>50954.29</td>\n",
       "      <td>37189.16</td>\n",
       "      <td>34212.65</td>\n",
       "      <td>35359.42</td>\n",
       "      <td>34283.77</td>\n",
       "      <td>39175.88</td>\n",
       "      <td>43920.58</td>\n",
       "      <td>44327.35</td>\n",
       "      <td>43635.39</td>\n",
       "      <td>50204.97</td>\n",
       "      <td>58990.60</td>\n",
       "      <td>59671.09</td>\n",
       "      <td>77016.18</td>\n",
       "      <td>78113.71</td>\n",
       "      <td>76157.49</td>\n",
       "      <td>69200.91</td>\n",
       "      <td>67692.70</td>\n",
       "      <td>62689.22</td>\n",
       "    </tr>\n",
       "    <tr>\n",
       "      <th>annual_return_rate</th>\n",
       "      <td>5.95</td>\n",
       "      <td>6.31</td>\n",
       "      <td>5.06</td>\n",
       "      <td>4.73</td>\n",
       "      <td>4.86</td>\n",
       "      <td>4.74</td>\n",
       "      <td>5.26</td>\n",
       "      <td>5.74</td>\n",
       "      <td>5.80</td>\n",
       "      <td>5.76</td>\n",
       "      <td>6.35</td>\n",
       "      <td>7.03</td>\n",
       "      <td>7.11</td>\n",
       "      <td>8.20</td>\n",
       "      <td>8.29</td>\n",
       "      <td>8.21</td>\n",
       "      <td>7.84</td>\n",
       "      <td>7.78</td>\n",
       "      <td>7.49</td>\n",
       "    </tr>\n",
       "    <tr>\n",
       "      <th>max_closed_out_drawdown</th>\n",
       "      <td>-40.75</td>\n",
       "      <td>-36.98</td>\n",
       "      <td>-45.96</td>\n",
       "      <td>-43.39</td>\n",
       "      <td>-39.50</td>\n",
       "      <td>-35.93</td>\n",
       "      <td>-28.88</td>\n",
       "      <td>-24.19</td>\n",
       "      <td>-24.21</td>\n",
       "      <td>-26.31</td>\n",
       "      <td>-25.85</td>\n",
       "      <td>-23.64</td>\n",
       "      <td>-27.75</td>\n",
       "      <td>-26.29</td>\n",
       "      <td>-23.52</td>\n",
       "      <td>-27.39</td>\n",
       "      <td>-31.58</td>\n",
       "      <td>-29.79</td>\n",
       "      <td>-30.11</td>\n",
       "    </tr>\n",
       "    <tr>\n",
       "      <th>drawdown_annualized_return</th>\n",
       "      <td>-6.85</td>\n",
       "      <td>-5.86</td>\n",
       "      <td>-9.09</td>\n",
       "      <td>-9.17</td>\n",
       "      <td>-8.13</td>\n",
       "      <td>-7.58</td>\n",
       "      <td>-5.48</td>\n",
       "      <td>-4.21</td>\n",
       "      <td>-4.17</td>\n",
       "      <td>-4.57</td>\n",
       "      <td>-4.07</td>\n",
       "      <td>-3.36</td>\n",
       "      <td>-3.90</td>\n",
       "      <td>-3.21</td>\n",
       "      <td>-2.84</td>\n",
       "      <td>-3.33</td>\n",
       "      <td>-4.03</td>\n",
       "      <td>-3.83</td>\n",
       "      <td>-4.02</td>\n",
       "    </tr>\n",
       "    <tr>\n",
       "      <th>drawdown_recovery</th>\n",
       "      <td>-3.70</td>\n",
       "      <td>-3.73</td>\n",
       "      <td>-3.72</td>\n",
       "      <td>-3.74</td>\n",
       "      <td>-3.72</td>\n",
       "      <td>-3.74</td>\n",
       "      <td>-3.74</td>\n",
       "      <td>-3.74</td>\n",
       "      <td>-3.06</td>\n",
       "      <td>-0.20</td>\n",
       "      <td>-0.66</td>\n",
       "      <td>-0.20</td>\n",
       "      <td>-0.21</td>\n",
       "      <td>-0.23</td>\n",
       "      <td>-0.23</td>\n",
       "      <td>-0.62</td>\n",
       "      <td>-0.63</td>\n",
       "      <td>-0.63</td>\n",
       "      <td>-0.63</td>\n",
       "    </tr>\n",
       "    <tr>\n",
       "      <th>best_month</th>\n",
       "      <td>13.19</td>\n",
       "      <td>13.21</td>\n",
       "      <td>15.29</td>\n",
       "      <td>15.23</td>\n",
       "      <td>15.28</td>\n",
       "      <td>15.27</td>\n",
       "      <td>13.23</td>\n",
       "      <td>13.29</td>\n",
       "      <td>14.35</td>\n",
       "      <td>14.37</td>\n",
       "      <td>14.36</td>\n",
       "      <td>13.90</td>\n",
       "      <td>13.88</td>\n",
       "      <td>13.90</td>\n",
       "      <td>15.95</td>\n",
       "      <td>15.90</td>\n",
       "      <td>17.74</td>\n",
       "      <td>17.75</td>\n",
       "      <td>17.73</td>\n",
       "    </tr>\n",
       "    <tr>\n",
       "      <th>worst_month</th>\n",
       "      <td>-17.55</td>\n",
       "      <td>-17.56</td>\n",
       "      <td>-17.58</td>\n",
       "      <td>-17.54</td>\n",
       "      <td>-17.57</td>\n",
       "      <td>-17.56</td>\n",
       "      <td>-17.55</td>\n",
       "      <td>-17.54</td>\n",
       "      <td>-18.93</td>\n",
       "      <td>-16.96</td>\n",
       "      <td>-19.08</td>\n",
       "      <td>-19.07</td>\n",
       "      <td>-19.10</td>\n",
       "      <td>-19.12</td>\n",
       "      <td>-19.12</td>\n",
       "      <td>-19.08</td>\n",
       "      <td>-20.93</td>\n",
       "      <td>-20.93</td>\n",
       "      <td>-23.03</td>\n",
       "    </tr>\n",
       "    <tr>\n",
       "      <th>sharpe_ratio</th>\n",
       "      <td>0.55</td>\n",
       "      <td>0.60</td>\n",
       "      <td>0.50</td>\n",
       "      <td>0.47</td>\n",
       "      <td>0.49</td>\n",
       "      <td>0.48</td>\n",
       "      <td>0.54</td>\n",
       "      <td>0.58</td>\n",
       "      <td>0.58</td>\n",
       "      <td>0.57</td>\n",
       "      <td>0.61</td>\n",
       "      <td>0.67</td>\n",
       "      <td>0.67</td>\n",
       "      <td>0.76</td>\n",
       "      <td>0.76</td>\n",
       "      <td>0.75</td>\n",
       "      <td>0.71</td>\n",
       "      <td>0.70</td>\n",
       "      <td>0.67</td>\n",
       "    </tr>\n",
       "    <tr>\n",
       "      <th>sortino_ratio</th>\n",
       "      <td>0.58</td>\n",
       "      <td>0.63</td>\n",
       "      <td>0.51</td>\n",
       "      <td>0.48</td>\n",
       "      <td>0.49</td>\n",
       "      <td>0.48</td>\n",
       "      <td>0.53</td>\n",
       "      <td>0.59</td>\n",
       "      <td>0.61</td>\n",
       "      <td>0.59</td>\n",
       "      <td>0.65</td>\n",
       "      <td>0.71</td>\n",
       "      <td>0.72</td>\n",
       "      <td>0.83</td>\n",
       "      <td>0.84</td>\n",
       "      <td>0.84</td>\n",
       "      <td>0.78</td>\n",
       "      <td>0.78</td>\n",
       "      <td>0.74</td>\n",
       "    </tr>\n",
       "    <tr>\n",
       "      <th>monthly_std</th>\n",
       "      <td>3.37</td>\n",
       "      <td>3.24</td>\n",
       "      <td>3.22</td>\n",
       "      <td>3.25</td>\n",
       "      <td>3.22</td>\n",
       "      <td>3.16</td>\n",
       "      <td>3.10</td>\n",
       "      <td>3.18</td>\n",
       "      <td>3.22</td>\n",
       "      <td>3.26</td>\n",
       "      <td>3.30</td>\n",
       "      <td>3.26</td>\n",
       "      <td>3.29</td>\n",
       "      <td>3.26</td>\n",
       "      <td>3.25</td>\n",
       "      <td>3.29</td>\n",
       "      <td>3.41</td>\n",
       "      <td>3.47</td>\n",
       "      <td>3.55</td>\n",
       "    </tr>\n",
       "    <tr>\n",
       "      <th>pct_time_in_market</th>\n",
       "      <td>80.93</td>\n",
       "      <td>79.54</td>\n",
       "      <td>77.93</td>\n",
       "      <td>76.61</td>\n",
       "      <td>75.22</td>\n",
       "      <td>74.25</td>\n",
       "      <td>73.49</td>\n",
       "      <td>74.53</td>\n",
       "      <td>75.94</td>\n",
       "      <td>76.89</td>\n",
       "      <td>78.15</td>\n",
       "      <td>79.27</td>\n",
       "      <td>80.11</td>\n",
       "      <td>80.84</td>\n",
       "      <td>81.31</td>\n",
       "      <td>81.65</td>\n",
       "      <td>82.08</td>\n",
       "      <td>82.57</td>\n",
       "      <td>82.92</td>\n",
       "    </tr>\n",
       "    <tr>\n",
       "      <th>total_num_trades</th>\n",
       "      <td>114</td>\n",
       "      <td>106</td>\n",
       "      <td>111</td>\n",
       "      <td>112</td>\n",
       "      <td>103</td>\n",
       "      <td>102</td>\n",
       "      <td>95</td>\n",
       "      <td>90</td>\n",
       "      <td>87</td>\n",
       "      <td>85</td>\n",
       "      <td>72</td>\n",
       "      <td>61</td>\n",
       "      <td>56</td>\n",
       "      <td>46</td>\n",
       "      <td>43</td>\n",
       "      <td>39</td>\n",
       "      <td>38</td>\n",
       "      <td>41</td>\n",
       "      <td>40</td>\n",
       "    </tr>\n",
       "    <tr>\n",
       "      <th>trades_per_year</th>\n",
       "      <td>4.28</td>\n",
       "      <td>3.98</td>\n",
       "      <td>4.17</td>\n",
       "      <td>4.21</td>\n",
       "      <td>3.87</td>\n",
       "      <td>3.83</td>\n",
       "      <td>3.57</td>\n",
       "      <td>3.39</td>\n",
       "      <td>3.29</td>\n",
       "      <td>3.23</td>\n",
       "      <td>2.75</td>\n",
       "      <td>2.34</td>\n",
       "      <td>2.15</td>\n",
       "      <td>1.78</td>\n",
       "      <td>1.67</td>\n",
       "      <td>1.52</td>\n",
       "      <td>1.48</td>\n",
       "      <td>1.61</td>\n",
       "      <td>1.57</td>\n",
       "    </tr>\n",
       "    <tr>\n",
       "      <th>pct_profitable_trades</th>\n",
       "      <td>26.32</td>\n",
       "      <td>25.47</td>\n",
       "      <td>20.72</td>\n",
       "      <td>22.32</td>\n",
       "      <td>21.36</td>\n",
       "      <td>22.55</td>\n",
       "      <td>24.21</td>\n",
       "      <td>23.33</td>\n",
       "      <td>24.14</td>\n",
       "      <td>22.35</td>\n",
       "      <td>25.00</td>\n",
       "      <td>22.95</td>\n",
       "      <td>25.00</td>\n",
       "      <td>28.26</td>\n",
       "      <td>23.26</td>\n",
       "      <td>20.51</td>\n",
       "      <td>21.05</td>\n",
       "      <td>19.51</td>\n",
       "      <td>25.00</td>\n",
       "    </tr>\n",
       "    <tr>\n",
       "      <th>avg_points</th>\n",
       "      <td>1.67</td>\n",
       "      <td>1.79</td>\n",
       "      <td>1.34</td>\n",
       "      <td>1.22</td>\n",
       "      <td>1.33</td>\n",
       "      <td>1.33</td>\n",
       "      <td>1.56</td>\n",
       "      <td>1.90</td>\n",
       "      <td>2.12</td>\n",
       "      <td>2.20</td>\n",
       "      <td>2.65</td>\n",
       "      <td>3.48</td>\n",
       "      <td>3.76</td>\n",
       "      <td>5.20</td>\n",
       "      <td>5.81</td>\n",
       "      <td>6.16</td>\n",
       "      <td>6.08</td>\n",
       "      <td>5.49</td>\n",
       "      <td>5.21</td>\n",
       "    </tr>\n",
       "  </tbody>\n",
       "</table>\n",
       "</div>"
      ],
      "text/plain": [
       "                                    50          75         100         125  \\\n",
       "start                       1993-11-11  1993-11-11  1993-11-11  1993-11-11   \n",
       "ending_balance                46546.59    50954.29    37189.16    34212.65   \n",
       "annual_return_rate                5.95        6.31        5.06        4.73   \n",
       "max_closed_out_drawdown         -40.75      -36.98      -45.96      -43.39   \n",
       "drawdown_annualized_return       -6.85       -5.86       -9.09       -9.17   \n",
       "drawdown_recovery                -3.70       -3.73       -3.72       -3.74   \n",
       "best_month                       13.19       13.21       15.29       15.23   \n",
       "worst_month                     -17.55      -17.56      -17.58      -17.54   \n",
       "sharpe_ratio                      0.55        0.60        0.50        0.47   \n",
       "sortino_ratio                     0.58        0.63        0.51        0.48   \n",
       "monthly_std                       3.37        3.24        3.22        3.25   \n",
       "pct_time_in_market               80.93       79.54       77.93       76.61   \n",
       "total_num_trades                   114         106         111         112   \n",
       "trades_per_year                   4.28        3.98        4.17        4.21   \n",
       "pct_profitable_trades            26.32       25.47       20.72       22.32   \n",
       "avg_points                        1.67        1.79        1.34        1.22   \n",
       "\n",
       "                                   150         175         200         225  \\\n",
       "start                       1993-11-11  1993-11-11  1993-11-11  1993-12-17   \n",
       "ending_balance                35359.42    34283.77    39175.88    43920.58   \n",
       "annual_return_rate                4.86        4.74        5.26        5.74   \n",
       "max_closed_out_drawdown         -39.50      -35.93      -28.88      -24.19   \n",
       "drawdown_annualized_return       -8.13       -7.58       -5.48       -4.21   \n",
       "drawdown_recovery                -3.72       -3.74       -3.74       -3.74   \n",
       "best_month                       15.28       15.27       13.23       13.29   \n",
       "worst_month                     -17.57      -17.56      -17.55      -17.54   \n",
       "sharpe_ratio                      0.49        0.48        0.54        0.58   \n",
       "sortino_ratio                     0.49        0.48        0.53        0.59   \n",
       "monthly_std                       3.22        3.16        3.10        3.18   \n",
       "pct_time_in_market               75.22       74.25       73.49       74.53   \n",
       "total_num_trades                   103         102          95          90   \n",
       "trades_per_year                   3.87        3.83        3.57        3.39   \n",
       "pct_profitable_trades            21.36       22.55       24.21       23.33   \n",
       "avg_points                        1.33        1.33        1.56        1.90   \n",
       "\n",
       "                                   250         275         300         325  \\\n",
       "start                       1994-01-24  1994-03-01  1994-04-06  1994-05-12   \n",
       "ending_balance                44327.35    43635.39    50204.97    58990.60   \n",
       "annual_return_rate                5.80        5.76        6.35        7.03   \n",
       "max_closed_out_drawdown         -24.21      -26.31      -25.85      -23.64   \n",
       "drawdown_annualized_return       -4.17       -4.57       -4.07       -3.36   \n",
       "drawdown_recovery                -3.06       -0.20       -0.66       -0.20   \n",
       "best_month                       14.35       14.37       14.36       13.90   \n",
       "worst_month                     -18.93      -16.96      -19.08      -19.07   \n",
       "sharpe_ratio                      0.58        0.57        0.61        0.67   \n",
       "sortino_ratio                     0.61        0.59        0.65        0.71   \n",
       "monthly_std                       3.22        3.26        3.30        3.26   \n",
       "pct_time_in_market               75.94       76.89       78.15       79.27   \n",
       "total_num_trades                    87          85          72          61   \n",
       "trades_per_year                   3.29        3.23        2.75        2.34   \n",
       "pct_profitable_trades            24.14       22.35       25.00       22.95   \n",
       "avg_points                        2.12        2.20        2.65        3.48   \n",
       "\n",
       "                                   350         375         400         425  \\\n",
       "start                       1994-06-17  1994-07-25  1994-08-29  1994-10-04   \n",
       "ending_balance                59671.09    77016.18    78113.71    76157.49   \n",
       "annual_return_rate                7.11        8.20        8.29        8.21   \n",
       "max_closed_out_drawdown         -27.75      -26.29      -23.52      -27.39   \n",
       "drawdown_annualized_return       -3.90       -3.21       -2.84       -3.33   \n",
       "drawdown_recovery                -0.21       -0.23       -0.23       -0.62   \n",
       "best_month                       13.88       13.90       15.95       15.90   \n",
       "worst_month                     -19.10      -19.12      -19.12      -19.08   \n",
       "sharpe_ratio                      0.67        0.76        0.76        0.75   \n",
       "sortino_ratio                     0.72        0.83        0.84        0.84   \n",
       "monthly_std                       3.29        3.26        3.25        3.29   \n",
       "pct_time_in_market               80.11       80.84       81.31       81.65   \n",
       "total_num_trades                    56          46          43          39   \n",
       "trades_per_year                   2.15        1.78        1.67        1.52   \n",
       "pct_profitable_trades            25.00       28.26       23.26       20.51   \n",
       "avg_points                        3.76        5.20        5.81        6.16   \n",
       "\n",
       "                                   450         475         500  \n",
       "start                       1994-11-08  1994-12-14  1995-01-20  \n",
       "ending_balance                69200.91    67692.70    62689.22  \n",
       "annual_return_rate                7.84        7.78        7.49  \n",
       "max_closed_out_drawdown         -31.58      -29.79      -30.11  \n",
       "drawdown_annualized_return       -4.03       -3.83       -4.02  \n",
       "drawdown_recovery                -0.63       -0.63       -0.63  \n",
       "best_month                       17.74       17.75       17.73  \n",
       "worst_month                     -20.93      -20.93      -23.03  \n",
       "sharpe_ratio                      0.71        0.70        0.67  \n",
       "sortino_ratio                     0.78        0.78        0.74  \n",
       "monthly_std                       3.41        3.47        3.55  \n",
       "pct_time_in_market               82.08       82.57       82.92  \n",
       "total_num_trades                    38          41          40  \n",
       "trades_per_year                   1.48        1.61        1.57  \n",
       "pct_profitable_trades            21.05       19.51       25.00  \n",
       "avg_points                        6.08        5.49        5.21  "
      ]
     },
     "execution_count": 6,
     "metadata": {},
     "output_type": "execute_result"
    }
   ],
   "source": [
    "metrics = ('start',\n",
    "           'ending_balance',\n",
    "           'annual_return_rate',\n",
    "           'max_closed_out_drawdown',\n",
    "           'drawdown_annualized_return',\n",
    "           'drawdown_recovery',\n",
    "           'best_month',\n",
    "           'worst_month',\n",
    "           'sharpe_ratio',\n",
    "           'sortino_ratio',\n",
    "           'monthly_std',\n",
    "           'pct_time_in_market',\n",
    "           'total_num_trades',\n",
    "           'trades_per_year',\n",
    "           'pct_profitable_trades',\n",
    "           'avg_points')\n",
    "\n",
    "df = strategy.summary(strategies, metrics)\n",
    "df"
   ]
  },
  {
   "cell_type": "markdown",
   "metadata": {},
   "source": [
    "Bar graphs"
   ]
  },
  {
   "cell_type": "code",
   "execution_count": 7,
   "metadata": {
    "ExecuteTime": {
     "end_time": "2020-02-17T03:49:13.850931Z",
     "start_time": "2020-02-17T03:49:12.891469Z"
    }
   },
   "outputs": [
    {
     "data": {
      "image/png": "[encoded data removed]",
      "text/plain": [
       "<Figure size 720x504 with 1 Axes>"
      ]
     },
     "metadata": {
      "needs_background": "light"
     },
     "output_type": "display_data"
    },
    {
     "data": {
      "image/png": "[encoded data removed]",
      "text/plain": [
       "<Figure size 720x504 with 1 Axes>"
      ]
     },
     "metadata": {
      "needs_background": "light"
     },
     "output_type": "display_data"
    },
    {
     "data": {
      "image/png": "[encoded data removed]",
      "text/plain": [
       "<Figure size 720x504 with 1 Axes>"
      ]
     },
     "metadata": {
      "needs_background": "light"
     },
     "output_type": "display_data"
    },
    {
     "data": {
      "image/png": "[encoded data removed]",
      "text/plain": [
       "<Figure size 720x504 with 1 Axes>"
      ]
     },
     "metadata": {
      "needs_background": "light"
     },
     "output_type": "display_data"
    }
   ],
   "source": [
    "strategy.plot_bar_graph(df, 'annual_return_rate')\n",
    "strategy.plot_bar_graph(df, 'ending_balance')\n",
    "strategy.plot_bar_graph(df, 'sharpe_ratio')\n",
    "strategy.plot_bar_graph(df, 'max_closed_out_drawdown')"
   ]
  },
  {
   "cell_type": "markdown",
   "metadata": {},
   "source": [
    "Run Benchmark"
   ]
  },
  {
   "cell_type": "code",
   "execution_count": 8,
   "metadata": {
    "ExecuteTime": {
     "end_time": "2020-02-17T03:49:14.539082Z",
     "start_time": "2020-02-17T03:49:13.862012Z"
    }
   },
   "outputs": [
    {
     "name": "stdout",
     "output_type": "stream",
     "text": [
      "1993-11-11 00:00:00 BUY  215 SPY @ 46.38\n",
      "2020-06-22 00:00:00 SELL 215 SPY @ 310.67\n"
     ]
    }
   ],
   "source": [
    "s = strategies[periods[0]]\n",
    "benchmark = pf.Benchmark(symbol, capital, s._start, s._end)\n",
    "benchmark.run()\n",
    "benchmark.tlog, benchmark.dbal = benchmark.get_logs()\n",
    "benchmark.stats = benchmark.get_stats()"
   ]
  },
  {
   "cell_type": "markdown",
   "metadata": {},
   "source": [
    "Equity curve"
   ]
  },
  {
   "cell_type": "code",
   "execution_count": 9,
   "metadata": {
    "ExecuteTime": {
     "end_time": "2020-02-17T03:49:14.814529Z",
     "start_time": "2020-02-17T03:49:14.552368Z"
    }
   },
   "outputs": [
    {
     "data": {
      "image/png": "[encoded data removed]",
      "text/plain": [
       "<Figure size 720x504 with 1 Axes>"
      ]
     },
     "metadata": {
      "needs_background": "light"
     },
     "output_type": "display_data"
    }
   ],
   "source": [
    "pf.plot_equity_curve(strategies['200'].dbal, benchmark=benchmark.dbal)"
   ]
  },
  {
   "cell_type": "code",
   "execution_count": null,
   "metadata": {},
   "outputs": [],
   "source": []
  }
 ],
 "metadata": {
  "kernelspec": {
   "display_name": "Python 3",
   "language": "python",
   "name": "python3"
  },
  "language_info": {
   "codemirror_mode": {
    "name": "ipython",
    "version": 3
   },
   "file_extension": ".py",
   "mimetype": "text/x-python",
   "name": "python",
   "nbconvert_exporter": "python",
   "pygments_lexer": "ipython3",
   "version": "3.8.2"
  },
  "latex_envs": {
   "LaTeX_envs_menu_present": true,
   "autoclose": false,
   "autocomplete": true,
   "bibliofile": "biblio.bib",
   "cite_by": "apalike",
   "current_citInitial": 1,
   "eqLabelWithNumbers": true,
   "eqNumInitial": 1,
   "hotkeys": {
    "equation": "Ctrl-E",
    "itemize": "Ctrl-I"
   },
   "labels_anchors": false,
   "latex_user_defs": false,
   "report_style_numbering": false,
   "user_envs_cfg": false
  }
 },
 "nbformat": 4,
 "nbformat_minor": 2
}
