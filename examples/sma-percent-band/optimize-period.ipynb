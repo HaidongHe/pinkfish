{
 "cells": [
  {
   "cell_type": "markdown",
   "metadata": {},
   "source": [
    "# SMA Percent Band\n",
    "\n",
    "    1. The SPY closes above its upper band, buy\n",
    "    2. If the SPY closes below its lower band, sell your long position.\n",
    "    \n",
    "    (optimize period)"
   ]
  },
  {
   "cell_type": "code",
   "execution_count": 1,
   "metadata": {
    "ExecuteTime": {
     "end_time": "2020-02-17T03:48:57.172933Z",
     "start_time": "2020-02-17T03:48:56.413862Z"
    }
   },
   "outputs": [],
   "source": [
    "# use future imports for python 3.x forward compatibility\n",
    "from __future__ import print_function\n",
    "from __future__ import unicode_literals\n",
    "from __future__ import division\n",
    "from __future__ import absolute_import\n",
    "\n",
    "# other imports\n",
    "import pandas as pd\n",
    "import matplotlib.pyplot as plt\n",
    "import datetime\n",
    "from talib.abstract import *\n",
    "\n",
    "# project imports\n",
    "import pinkfish as pf\n",
    "import strategy\n",
    "\n",
    "# format price data\n",
    "pd.options.display.float_format = '{:0.2f}'.format\n",
    "\n",
    "%matplotlib inline"
   ]
  },
  {
   "cell_type": "code",
   "execution_count": 2,
   "metadata": {
    "ExecuteTime": {
     "end_time": "2020-02-17T03:48:57.190111Z",
     "start_time": "2020-02-17T03:48:57.183653Z"
    }
   },
   "outputs": [],
   "source": [
    "# set size of inline plots\n",
    "'''note: rcParams can't be in same cell as import matplotlib\n",
    "   or %matplotlib inline\n",
    "   \n",
    "   %matplotlib notebook: will lead to interactive plots embedded within\n",
    "   the notebook, you can zoom and resize the figure\n",
    "   \n",
    "   %matplotlib inline: only draw static images in the notebook\n",
    "'''\n",
    "plt.rcParams[\"figure.figsize\"] = (10, 7)"
   ]
  },
  {
   "cell_type": "markdown",
   "metadata": {},
   "source": [
    "Some global data"
   ]
  },
  {
   "cell_type": "code",
   "execution_count": 3,
   "metadata": {
    "ExecuteTime": {
     "end_time": "2020-02-17T03:48:57.204555Z",
     "start_time": "2020-02-17T03:48:57.194401Z"
    }
   },
   "outputs": [],
   "source": [
    "symbol = '^GSPC'\n",
    "symbol = 'SPY'\n",
    "#symbol = 'DIA'\n",
    "#symbol = 'QQQ'\n",
    "#symbol = 'IWM'\n",
    "#symbol = 'TLT'\n",
    "#symbol = 'GLD'\n",
    "#symbol = 'AAPL'\n",
    "#symbol = 'BBRY'\n",
    "#symbol = 'GDX'\n",
    "capital = 10000\n",
    "#start = datetime.datetime(1900, 1, 1)\n",
    "start = datetime.datetime.strptime(pf.SP500_BEGIN, '%Y-%m-%d')\n",
    "end = datetime.datetime.now()"
   ]
  },
  {
   "cell_type": "markdown",
   "metadata": {},
   "source": [
    "Define the periods"
   ]
  },
  {
   "cell_type": "code",
   "execution_count": 4,
   "metadata": {
    "ExecuteTime": {
     "end_time": "2020-02-17T03:48:57.219282Z",
     "start_time": "2020-02-17T03:48:57.209459Z"
    }
   },
   "outputs": [],
   "source": [
    "periods = range(50, 525, 25)\n",
    "periods = [str(period) for period in periods]"
   ]
  },
  {
   "cell_type": "markdown",
   "metadata": {},
   "source": [
    "Run Strategy"
   ]
  },
  {
   "cell_type": "code",
   "execution_count": 5,
   "metadata": {
    "ExecuteTime": {
     "end_time": "2020-02-17T03:49:12.813759Z",
     "start_time": "2020-02-17T03:48:57.225846Z"
    }
   },
   "outputs": [
    {
     "name": "stdout",
     "output_type": "stream",
     "text": [
      "50 75 100 125 150 175 200 225 250 275 300 325 350 375 400 425 450 475 500 "
     ]
    }
   ],
   "source": [
    "strategies = pd.Series()\n",
    "for period in periods:\n",
    "    print(\"{0}\".format(period), end=\" \")\n",
    "    strategies[period] = strategy.Strategy(symbol, capital, start, end, sma_period=int(period))\n",
    "    strategies[period].run()\n",
    "    _, strategies[period].tlog, strategies[period].dbal = strategies[period].get_logs()\n",
    "    strategies[period].stats = strategies[period].get_stats()"
   ]
  },
  {
   "cell_type": "markdown",
   "metadata": {},
   "source": [
    "Summarize results"
   ]
  },
  {
   "cell_type": "code",
   "execution_count": 6,
   "metadata": {
    "ExecuteTime": {
     "end_time": "2020-02-17T03:49:12.881701Z",
     "start_time": "2020-02-17T03:49:12.827144Z"
    },
    "scrolled": true
   },
   "outputs": [
    {
     "data": {
      "text/html": [
       "<div>\n",
       "<style scoped>\n",
       "    .dataframe tbody tr th:only-of-type {\n",
       "        vertical-align: middle;\n",
       "    }\n",
       "\n",
       "    .dataframe tbody tr th {\n",
       "        vertical-align: top;\n",
       "    }\n",
       "\n",
       "    .dataframe thead th {\n",
       "        text-align: right;\n",
       "    }\n",
       "</style>\n",
       "<table border=\"1\" class=\"dataframe\">\n",
       "  <thead>\n",
       "    <tr style=\"text-align: right;\">\n",
       "      <th></th>\n",
       "      <th>50</th>\n",
       "      <th>75</th>\n",
       "      <th>100</th>\n",
       "      <th>125</th>\n",
       "      <th>150</th>\n",
       "      <th>175</th>\n",
       "      <th>200</th>\n",
       "      <th>225</th>\n",
       "      <th>250</th>\n",
       "      <th>275</th>\n",
       "      <th>300</th>\n",
       "      <th>325</th>\n",
       "      <th>350</th>\n",
       "      <th>375</th>\n",
       "      <th>400</th>\n",
       "      <th>425</th>\n",
       "      <th>450</th>\n",
       "      <th>475</th>\n",
       "      <th>500</th>\n",
       "    </tr>\n",
       "  </thead>\n",
       "  <tbody>\n",
       "    <tr>\n",
       "      <th>start</th>\n",
       "      <td>1993-11-11</td>\n",
       "      <td>1993-11-11</td>\n",
       "      <td>1993-11-11</td>\n",
       "      <td>1993-11-11</td>\n",
       "      <td>1993-11-11</td>\n",
       "      <td>1993-11-11</td>\n",
       "      <td>1993-11-11</td>\n",
       "      <td>1993-12-17</td>\n",
       "      <td>1994-01-24</td>\n",
       "      <td>1994-03-01</td>\n",
       "      <td>1994-04-06</td>\n",
       "      <td>1994-05-12</td>\n",
       "      <td>1994-06-17</td>\n",
       "      <td>1994-07-25</td>\n",
       "      <td>1994-08-29</td>\n",
       "      <td>1994-10-04</td>\n",
       "      <td>1994-11-08</td>\n",
       "      <td>1994-12-14</td>\n",
       "      <td>1995-01-20</td>\n",
       "    </tr>\n",
       "    <tr>\n",
       "      <th>ending_balance</th>\n",
       "      <td>52137.25</td>\n",
       "      <td>59609.31</td>\n",
       "      <td>43257.21</td>\n",
       "      <td>40359.71</td>\n",
       "      <td>42234.49</td>\n",
       "      <td>40939.58</td>\n",
       "      <td>46773.43</td>\n",
       "      <td>51814.96</td>\n",
       "      <td>52416.37</td>\n",
       "      <td>49505.76</td>\n",
       "      <td>59889.61</td>\n",
       "      <td>70096.11</td>\n",
       "      <td>73022.99</td>\n",
       "      <td>95227.82</td>\n",
       "      <td>96575.15</td>\n",
       "      <td>94098.42</td>\n",
       "      <td>85545.63</td>\n",
       "      <td>83644.19</td>\n",
       "      <td>80129.42</td>\n",
       "    </tr>\n",
       "    <tr>\n",
       "      <th>annual_return_rate</th>\n",
       "      <td>6.49</td>\n",
       "      <td>7.03</td>\n",
       "      <td>5.74</td>\n",
       "      <td>5.46</td>\n",
       "      <td>5.64</td>\n",
       "      <td>5.51</td>\n",
       "      <td>6.05</td>\n",
       "      <td>6.49</td>\n",
       "      <td>6.56</td>\n",
       "      <td>6.36</td>\n",
       "      <td>7.17</td>\n",
       "      <td>7.85</td>\n",
       "      <td>8.06</td>\n",
       "      <td>9.22</td>\n",
       "      <td>9.31</td>\n",
       "      <td>9.24</td>\n",
       "      <td>8.87</td>\n",
       "      <td>8.80</td>\n",
       "      <td>8.66</td>\n",
       "    </tr>\n",
       "    <tr>\n",
       "      <th>max_closed_out_drawdown</th>\n",
       "      <td>-40.56</td>\n",
       "      <td>-37.21</td>\n",
       "      <td>-46.22</td>\n",
       "      <td>-43.22</td>\n",
       "      <td>-39.79</td>\n",
       "      <td>-35.73</td>\n",
       "      <td>-28.66</td>\n",
       "      <td>-23.96</td>\n",
       "      <td>-23.13</td>\n",
       "      <td>-25.89</td>\n",
       "      <td>-25.44</td>\n",
       "      <td>-23.21</td>\n",
       "      <td>-27.34</td>\n",
       "      <td>-25.88</td>\n",
       "      <td>-22.27</td>\n",
       "      <td>-26.99</td>\n",
       "      <td>-31.20</td>\n",
       "      <td>-29.41</td>\n",
       "      <td>-29.72</td>\n",
       "    </tr>\n",
       "    <tr>\n",
       "      <th>drawdown_annualized_return</th>\n",
       "      <td>-6.25</td>\n",
       "      <td>-5.29</td>\n",
       "      <td>-8.06</td>\n",
       "      <td>-7.92</td>\n",
       "      <td>-7.06</td>\n",
       "      <td>-6.48</td>\n",
       "      <td>-4.74</td>\n",
       "      <td>-3.69</td>\n",
       "      <td>-3.52</td>\n",
       "      <td>-4.07</td>\n",
       "      <td>-3.55</td>\n",
       "      <td>-2.96</td>\n",
       "      <td>-3.39</td>\n",
       "      <td>-2.81</td>\n",
       "      <td>-2.39</td>\n",
       "      <td>-2.92</td>\n",
       "      <td>-3.52</td>\n",
       "      <td>-3.34</td>\n",
       "      <td>-3.43</td>\n",
       "    </tr>\n",
       "    <tr>\n",
       "      <th>drawdown_recovery</th>\n",
       "      <td>-3.71</td>\n",
       "      <td>-3.73</td>\n",
       "      <td>-3.75</td>\n",
       "      <td>-3.75</td>\n",
       "      <td>-3.75</td>\n",
       "      <td>-3.75</td>\n",
       "      <td>-3.75</td>\n",
       "      <td>-3.75</td>\n",
       "      <td>-3.06</td>\n",
       "      <td>-0.21</td>\n",
       "      <td>-0.67</td>\n",
       "      <td>-0.21</td>\n",
       "      <td>-0.22</td>\n",
       "      <td>-0.24</td>\n",
       "      <td>-0.63</td>\n",
       "      <td>-0.63</td>\n",
       "      <td>-0.64</td>\n",
       "      <td>-0.64</td>\n",
       "      <td>-0.64</td>\n",
       "    </tr>\n",
       "    <tr>\n",
       "      <th>best_month</th>\n",
       "      <td>12.92</td>\n",
       "      <td>12.95</td>\n",
       "      <td>15.05</td>\n",
       "      <td>14.98</td>\n",
       "      <td>15.04</td>\n",
       "      <td>15.03</td>\n",
       "      <td>12.95</td>\n",
       "      <td>12.94</td>\n",
       "      <td>12.95</td>\n",
       "      <td>12.96</td>\n",
       "      <td>12.96</td>\n",
       "      <td>15.15</td>\n",
       "      <td>15.13</td>\n",
       "      <td>15.15</td>\n",
       "      <td>15.80</td>\n",
       "      <td>15.75</td>\n",
       "      <td>17.77</td>\n",
       "      <td>17.78</td>\n",
       "      <td>17.76</td>\n",
       "    </tr>\n",
       "    <tr>\n",
       "      <th>worst_month</th>\n",
       "      <td>-11.73</td>\n",
       "      <td>-11.75</td>\n",
       "      <td>-11.76</td>\n",
       "      <td>-11.73</td>\n",
       "      <td>-11.76</td>\n",
       "      <td>-11.75</td>\n",
       "      <td>-11.76</td>\n",
       "      <td>-15.02</td>\n",
       "      <td>-13.51</td>\n",
       "      <td>-17.22</td>\n",
       "      <td>-16.09</td>\n",
       "      <td>-14.64</td>\n",
       "      <td>-17.59</td>\n",
       "      <td>-17.47</td>\n",
       "      <td>-14.05</td>\n",
       "      <td>-17.27</td>\n",
       "      <td>-20.79</td>\n",
       "      <td>-20.79</td>\n",
       "      <td>-19.11</td>\n",
       "    </tr>\n",
       "    <tr>\n",
       "      <th>sharpe_ratio</th>\n",
       "      <td>0.56</td>\n",
       "      <td>0.60</td>\n",
       "      <td>0.51</td>\n",
       "      <td>0.50</td>\n",
       "      <td>0.52</td>\n",
       "      <td>0.51</td>\n",
       "      <td>0.56</td>\n",
       "      <td>0.59</td>\n",
       "      <td>0.58</td>\n",
       "      <td>0.56</td>\n",
       "      <td>0.61</td>\n",
       "      <td>0.66</td>\n",
       "      <td>0.67</td>\n",
       "      <td>0.74</td>\n",
       "      <td>0.74</td>\n",
       "      <td>0.73</td>\n",
       "      <td>0.70</td>\n",
       "      <td>0.69</td>\n",
       "      <td>0.68</td>\n",
       "    </tr>\n",
       "    <tr>\n",
       "      <th>sortino_ratio</th>\n",
       "      <td>0.66</td>\n",
       "      <td>0.72</td>\n",
       "      <td>0.60</td>\n",
       "      <td>0.57</td>\n",
       "      <td>0.59</td>\n",
       "      <td>0.58</td>\n",
       "      <td>0.63</td>\n",
       "      <td>0.67</td>\n",
       "      <td>0.67</td>\n",
       "      <td>0.64</td>\n",
       "      <td>0.71</td>\n",
       "      <td>0.76</td>\n",
       "      <td>0.78</td>\n",
       "      <td>0.88</td>\n",
       "      <td>0.89</td>\n",
       "      <td>0.87</td>\n",
       "      <td>0.83</td>\n",
       "      <td>0.82</td>\n",
       "      <td>0.81</td>\n",
       "    </tr>\n",
       "    <tr>\n",
       "      <th>monthly_std</th>\n",
       "      <td>3.24</td>\n",
       "      <td>3.11</td>\n",
       "      <td>3.11</td>\n",
       "      <td>3.14</td>\n",
       "      <td>3.11</td>\n",
       "      <td>3.06</td>\n",
       "      <td>3.00</td>\n",
       "      <td>3.09</td>\n",
       "      <td>3.12</td>\n",
       "      <td>3.21</td>\n",
       "      <td>3.22</td>\n",
       "      <td>3.19</td>\n",
       "      <td>3.24</td>\n",
       "      <td>3.20</td>\n",
       "      <td>3.19</td>\n",
       "      <td>3.25</td>\n",
       "      <td>3.37</td>\n",
       "      <td>3.43</td>\n",
       "      <td>3.45</td>\n",
       "    </tr>\n",
       "    <tr>\n",
       "      <th>pct_time_in_market</th>\n",
       "      <td>81.23</td>\n",
       "      <td>80.05</td>\n",
       "      <td>78.52</td>\n",
       "      <td>77.21</td>\n",
       "      <td>75.82</td>\n",
       "      <td>74.83</td>\n",
       "      <td>74.06</td>\n",
       "      <td>75.10</td>\n",
       "      <td>76.50</td>\n",
       "      <td>77.45</td>\n",
       "      <td>78.67</td>\n",
       "      <td>79.76</td>\n",
       "      <td>80.56</td>\n",
       "      <td>81.28</td>\n",
       "      <td>81.75</td>\n",
       "      <td>82.10</td>\n",
       "      <td>82.54</td>\n",
       "      <td>83.04</td>\n",
       "      <td>83.37</td>\n",
       "    </tr>\n",
       "    <tr>\n",
       "      <th>total_num_trades</th>\n",
       "      <td>110</td>\n",
       "      <td>102</td>\n",
       "      <td>108</td>\n",
       "      <td>109</td>\n",
       "      <td>99</td>\n",
       "      <td>98</td>\n",
       "      <td>91</td>\n",
       "      <td>87</td>\n",
       "      <td>84</td>\n",
       "      <td>83</td>\n",
       "      <td>70</td>\n",
       "      <td>59</td>\n",
       "      <td>52</td>\n",
       "      <td>43</td>\n",
       "      <td>40</td>\n",
       "      <td>36</td>\n",
       "      <td>35</td>\n",
       "      <td>38</td>\n",
       "      <td>36</td>\n",
       "    </tr>\n",
       "    <tr>\n",
       "      <th>trades_per_year</th>\n",
       "      <td>4.19</td>\n",
       "      <td>3.88</td>\n",
       "      <td>4.11</td>\n",
       "      <td>4.15</td>\n",
       "      <td>3.77</td>\n",
       "      <td>3.73</td>\n",
       "      <td>3.47</td>\n",
       "      <td>3.33</td>\n",
       "      <td>3.22</td>\n",
       "      <td>3.20</td>\n",
       "      <td>2.71</td>\n",
       "      <td>2.29</td>\n",
       "      <td>2.03</td>\n",
       "      <td>1.68</td>\n",
       "      <td>1.57</td>\n",
       "      <td>1.42</td>\n",
       "      <td>1.39</td>\n",
       "      <td>1.51</td>\n",
       "      <td>1.44</td>\n",
       "    </tr>\n",
       "    <tr>\n",
       "      <th>pct_profitable_trades</th>\n",
       "      <td>26.36</td>\n",
       "      <td>25.49</td>\n",
       "      <td>20.37</td>\n",
       "      <td>22.02</td>\n",
       "      <td>21.21</td>\n",
       "      <td>22.45</td>\n",
       "      <td>24.18</td>\n",
       "      <td>22.99</td>\n",
       "      <td>23.81</td>\n",
       "      <td>21.69</td>\n",
       "      <td>25.71</td>\n",
       "      <td>23.73</td>\n",
       "      <td>26.92</td>\n",
       "      <td>30.23</td>\n",
       "      <td>22.50</td>\n",
       "      <td>19.44</td>\n",
       "      <td>20.00</td>\n",
       "      <td>18.42</td>\n",
       "      <td>25.00</td>\n",
       "    </tr>\n",
       "    <tr>\n",
       "      <th>avg_points</th>\n",
       "      <td>2.07</td>\n",
       "      <td>2.34</td>\n",
       "      <td>1.82</td>\n",
       "      <td>1.73</td>\n",
       "      <td>1.95</td>\n",
       "      <td>1.95</td>\n",
       "      <td>2.24</td>\n",
       "      <td>2.56</td>\n",
       "      <td>2.82</td>\n",
       "      <td>2.74</td>\n",
       "      <td>3.49</td>\n",
       "      <td>4.49</td>\n",
       "      <td>5.23</td>\n",
       "      <td>7.05</td>\n",
       "      <td>7.85</td>\n",
       "      <td>8.45</td>\n",
       "      <td>8.43</td>\n",
       "      <td>7.61</td>\n",
       "      <td>7.83</td>\n",
       "    </tr>\n",
       "  </tbody>\n",
       "</table>\n",
       "</div>"
      ],
      "text/plain": [
       "                                    50          75         100         125  \\\n",
       "start                       1993-11-11  1993-11-11  1993-11-11  1993-11-11   \n",
       "ending_balance                52137.25    59609.31    43257.21    40359.71   \n",
       "annual_return_rate                6.49        7.03        5.74        5.46   \n",
       "max_closed_out_drawdown         -40.56      -37.21      -46.22      -43.22   \n",
       "drawdown_annualized_return       -6.25       -5.29       -8.06       -7.92   \n",
       "drawdown_recovery                -3.71       -3.73       -3.75       -3.75   \n",
       "best_month                       12.92       12.95       15.05       14.98   \n",
       "worst_month                     -11.73      -11.75      -11.76      -11.73   \n",
       "sharpe_ratio                      0.56        0.60        0.51        0.50   \n",
       "sortino_ratio                     0.66        0.72        0.60        0.57   \n",
       "monthly_std                       3.24        3.11        3.11        3.14   \n",
       "pct_time_in_market               81.23       80.05       78.52       77.21   \n",
       "total_num_trades                   110         102         108         109   \n",
       "trades_per_year                   4.19        3.88        4.11        4.15   \n",
       "pct_profitable_trades            26.36       25.49       20.37       22.02   \n",
       "avg_points                        2.07        2.34        1.82        1.73   \n",
       "\n",
       "                                   150         175         200         225  \\\n",
       "start                       1993-11-11  1993-11-11  1993-11-11  1993-12-17   \n",
       "ending_balance                42234.49    40939.58    46773.43    51814.96   \n",
       "annual_return_rate                5.64        5.51        6.05        6.49   \n",
       "max_closed_out_drawdown         -39.79      -35.73      -28.66      -23.96   \n",
       "drawdown_annualized_return       -7.06       -6.48       -4.74       -3.69   \n",
       "drawdown_recovery                -3.75       -3.75       -3.75       -3.75   \n",
       "best_month                       15.04       15.03       12.95       12.94   \n",
       "worst_month                     -11.76      -11.75      -11.76      -15.02   \n",
       "sharpe_ratio                      0.52        0.51        0.56        0.59   \n",
       "sortino_ratio                     0.59        0.58        0.63        0.67   \n",
       "monthly_std                       3.11        3.06        3.00        3.09   \n",
       "pct_time_in_market               75.82       74.83       74.06       75.10   \n",
       "total_num_trades                    99          98          91          87   \n",
       "trades_per_year                   3.77        3.73        3.47        3.33   \n",
       "pct_profitable_trades            21.21       22.45       24.18       22.99   \n",
       "avg_points                        1.95        1.95        2.24        2.56   \n",
       "\n",
       "                                   250         275         300         325  \\\n",
       "start                       1994-01-24  1994-03-01  1994-04-06  1994-05-12   \n",
       "ending_balance                52416.37    49505.76    59889.61    70096.11   \n",
       "annual_return_rate                6.56        6.36        7.17        7.85   \n",
       "max_closed_out_drawdown         -23.13      -25.89      -25.44      -23.21   \n",
       "drawdown_annualized_return       -3.52       -4.07       -3.55       -2.96   \n",
       "drawdown_recovery                -3.06       -0.21       -0.67       -0.21   \n",
       "best_month                       12.95       12.96       12.96       15.15   \n",
       "worst_month                     -13.51      -17.22      -16.09      -14.64   \n",
       "sharpe_ratio                      0.58        0.56        0.61        0.66   \n",
       "sortino_ratio                     0.67        0.64        0.71        0.76   \n",
       "monthly_std                       3.12        3.21        3.22        3.19   \n",
       "pct_time_in_market               76.50       77.45       78.67       79.76   \n",
       "total_num_trades                    84          83          70          59   \n",
       "trades_per_year                   3.22        3.20        2.71        2.29   \n",
       "pct_profitable_trades            23.81       21.69       25.71       23.73   \n",
       "avg_points                        2.82        2.74        3.49        4.49   \n",
       "\n",
       "                                   350         375         400         425  \\\n",
       "start                       1994-06-17  1994-07-25  1994-08-29  1994-10-04   \n",
       "ending_balance                73022.99    95227.82    96575.15    94098.42   \n",
       "annual_return_rate                8.06        9.22        9.31        9.24   \n",
       "max_closed_out_drawdown         -27.34      -25.88      -22.27      -26.99   \n",
       "drawdown_annualized_return       -3.39       -2.81       -2.39       -2.92   \n",
       "drawdown_recovery                -0.22       -0.24       -0.63       -0.63   \n",
       "best_month                       15.13       15.15       15.80       15.75   \n",
       "worst_month                     -17.59      -17.47      -14.05      -17.27   \n",
       "sharpe_ratio                      0.67        0.74        0.74        0.73   \n",
       "sortino_ratio                     0.78        0.88        0.89        0.87   \n",
       "monthly_std                       3.24        3.20        3.19        3.25   \n",
       "pct_time_in_market               80.56       81.28       81.75       82.10   \n",
       "total_num_trades                    52          43          40          36   \n",
       "trades_per_year                   2.03        1.68        1.57        1.42   \n",
       "pct_profitable_trades            26.92       30.23       22.50       19.44   \n",
       "avg_points                        5.23        7.05        7.85        8.45   \n",
       "\n",
       "                                   450         475         500  \n",
       "start                       1994-11-08  1994-12-14  1995-01-20  \n",
       "ending_balance                85545.63    83644.19    80129.42  \n",
       "annual_return_rate                8.87        8.80        8.66  \n",
       "max_closed_out_drawdown         -31.20      -29.41      -29.72  \n",
       "drawdown_annualized_return       -3.52       -3.34       -3.43  \n",
       "drawdown_recovery                -0.64       -0.64       -0.64  \n",
       "best_month                       17.77       17.78       17.76  \n",
       "worst_month                     -20.79      -20.79      -19.11  \n",
       "sharpe_ratio                      0.70        0.69        0.68  \n",
       "sortino_ratio                     0.83        0.82        0.81  \n",
       "monthly_std                       3.37        3.43        3.45  \n",
       "pct_time_in_market               82.54       83.04       83.37  \n",
       "total_num_trades                    35          38          36  \n",
       "trades_per_year                   1.39        1.51        1.44  \n",
       "pct_profitable_trades            20.00       18.42       25.00  \n",
       "avg_points                        8.43        7.61        7.83  "
      ]
     },
     "execution_count": 6,
     "metadata": {},
     "output_type": "execute_result"
    }
   ],
   "source": [
    "metrics = ('start',\n",
    "           'ending_balance',\n",
    "           'annual_return_rate',\n",
    "           'max_closed_out_drawdown',\n",
    "           'drawdown_annualized_return',\n",
    "           'drawdown_recovery',\n",
    "           'best_month',\n",
    "           'worst_month',\n",
    "           'sharpe_ratio',\n",
    "           'sortino_ratio',\n",
    "           'monthly_std',\n",
    "           'pct_time_in_market',\n",
    "           'total_num_trades',\n",
    "           'trades_per_year',\n",
    "           'pct_profitable_trades',\n",
    "           'avg_points')\n",
    "\n",
    "df = strategy.summary(strategies, *metrics)\n",
    "df"
   ]
  },
  {
   "cell_type": "markdown",
   "metadata": {},
   "source": [
    "Bar graphs"
   ]
  },
  {
   "cell_type": "code",
   "execution_count": 7,
   "metadata": {
    "ExecuteTime": {
     "end_time": "2020-02-17T03:49:13.850931Z",
     "start_time": "2020-02-17T03:49:12.891469Z"
    }
   },
   "outputs": [
    {
     "data": {
      "image/png": "[encoded data removed]",
      "text/plain": [
       "<Figure size 720x504 with 1 Axes>"
      ]
     },
     "metadata": {
      "needs_background": "light"
     },
     "output_type": "display_data"
    },
    {
     "data": {
      "image/png": "[encoded data removed]",
      "text/plain": [
       "<Figure size 720x504 with 1 Axes>"
      ]
     },
     "metadata": {
      "needs_background": "light"
     },
     "output_type": "display_data"
    },
    {
     "data": {
      "image/png": "[encoded data removed]",
      "text/plain": [
       "<Figure size 720x504 with 1 Axes>"
      ]
     },
     "metadata": {
      "needs_background": "light"
     },
     "output_type": "display_data"
    },
    {
     "data": {
      "image/png": "[encoded data removed]",
      "text/plain": [
       "<Figure size 720x504 with 1 Axes>"
      ]
     },
     "metadata": {
      "needs_background": "light"
     },
     "output_type": "display_data"
    }
   ],
   "source": [
    "strategy.plot_bar_graph(df, 'annual_return_rate')\n",
    "strategy.plot_bar_graph(df, 'ending_balance')\n",
    "strategy.plot_bar_graph(df, 'sharpe_ratio')\n",
    "strategy.plot_bar_graph(df, 'max_closed_out_drawdown')"
   ]
  },
  {
   "cell_type": "markdown",
   "metadata": {},
   "source": [
    "Run Benchmark"
   ]
  },
  {
   "cell_type": "code",
   "execution_count": 8,
   "metadata": {
    "ExecuteTime": {
     "end_time": "2020-02-17T03:49:14.539082Z",
     "start_time": "2020-02-17T03:49:13.862012Z"
    }
   },
   "outputs": [
    {
     "name": "stdout",
     "output_type": "stream",
     "text": [
      "1993-11-11 00:00:00 BUY  215 SPY @ 46.38\n",
      "2020-02-14 00:00:00 SELL 215 SPY @ 337.60\n"
     ]
    }
   ],
   "source": [
    "s = strategies[periods[0]]\n",
    "benchmark = pf.Benchmark(symbol, capital, s._start, s._end)\n",
    "benchmark.run()\n",
    "benchmark.tlog, benchmark.dbal = benchmark.get_logs()\n",
    "benchmark.stats = benchmark.get_stats()"
   ]
  },
  {
   "cell_type": "markdown",
   "metadata": {},
   "source": [
    "Equity curve"
   ]
  },
  {
   "cell_type": "code",
   "execution_count": 9,
   "metadata": {
    "ExecuteTime": {
     "end_time": "2020-02-17T03:49:14.814529Z",
     "start_time": "2020-02-17T03:49:14.552368Z"
    }
   },
   "outputs": [
    {
     "data": {
      "image/png": "[encoded data removed]",
      "text/plain": [
       "<Figure size 720x504 with 1 Axes>"
      ]
     },
     "metadata": {
      "needs_background": "light"
     },
     "output_type": "display_data"
    }
   ],
   "source": [
    "pf.plot_equity_curve(strategies['200'].dbal, benchmark=benchmark.dbal)"
   ]
  },
  {
   "cell_type": "code",
   "execution_count": null,
   "metadata": {},
   "outputs": [],
   "source": []
  }
 ],
 "metadata": {
  "kernelspec": {
   "display_name": "Python 2",
   "language": "python",
   "name": "python2"
  },
  "language_info": {
   "codemirror_mode": {
    "name": "ipython",
    "version": 2
   },
   "file_extension": ".py",
   "mimetype": "text/x-python",
   "name": "python",
   "nbconvert_exporter": "python",
   "pygments_lexer": "ipython2",
   "version": "2.7.15+"
  },
  "latex_envs": {
   "LaTeX_envs_menu_present": true,
   "autoclose": false,
   "autocomplete": true,
   "bibliofile": "biblio.bib",
   "cite_by": "apalike",
   "current_citInitial": 1,
   "eqLabelWithNumbers": true,
   "eqNumInitial": 1,
   "hotkeys": {
    "equation": "Ctrl-E",
    "itemize": "Ctrl-I"
   },
   "labels_anchors": false,
   "latex_user_defs": false,
   "report_style_numbering": false,
   "user_envs_cfg": false
  }
 },
 "nbformat": 4,
 "nbformat_minor": 2
}
