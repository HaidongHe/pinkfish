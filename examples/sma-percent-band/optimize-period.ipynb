{
 "cells": [
  {
   "cell_type": "markdown",
   "metadata": {},
   "source": [
    "# SMA Percent Band\n",
    "\n",
    "    1. The SPY closes above its upper band, buy\n",
    "    2. If the SPY closes below its lower band, sell your long position.\n",
    "    \n",
    "    (optimize period)"
   ]
  },
  {
   "cell_type": "code",
   "execution_count": 1,
   "metadata": {
    "ExecuteTime": {
     "end_time": "2020-02-17T03:48:57.172933Z",
     "start_time": "2020-02-17T03:48:56.413862Z"
    }
   },
   "outputs": [],
   "source": [
    "# other imports\n",
    "import pandas as pd\n",
    "import matplotlib.pyplot as plt\n",
    "import datetime\n",
    "from talib.abstract import *\n",
    "\n",
    "# project imports\n",
    "import pinkfish as pf\n",
    "import strategy\n",
    "\n",
    "# format price data\n",
    "pd.options.display.float_format = '{:0.2f}'.format\n",
    "\n",
    "%matplotlib inline"
   ]
  },
  {
   "cell_type": "code",
   "execution_count": 2,
   "metadata": {
    "ExecuteTime": {
     "end_time": "2020-02-17T03:48:57.190111Z",
     "start_time": "2020-02-17T03:48:57.183653Z"
    }
   },
   "outputs": [],
   "source": [
    "# set size of inline plots\n",
    "'''note: rcParams can't be in same cell as import matplotlib\n",
    "   or %matplotlib inline\n",
    "   \n",
    "   %matplotlib notebook: will lead to interactive plots embedded within\n",
    "   the notebook, you can zoom and resize the figure\n",
    "   \n",
    "   %matplotlib inline: only draw static images in the notebook\n",
    "'''\n",
    "plt.rcParams[\"figure.figsize\"] = (10, 7)"
   ]
  },
  {
   "cell_type": "markdown",
   "metadata": {},
   "source": [
    "Some global data"
   ]
  },
  {
   "cell_type": "code",
   "execution_count": 3,
   "metadata": {
    "ExecuteTime": {
     "end_time": "2020-02-17T03:48:57.204555Z",
     "start_time": "2020-02-17T03:48:57.194401Z"
    }
   },
   "outputs": [],
   "source": [
    "symbol = '^GSPC'\n",
    "symbol = 'SPY'\n",
    "#symbol = 'DIA'\n",
    "#symbol = 'QQQ'\n",
    "#symbol = 'IWM'\n",
    "#symbol = 'TLT'\n",
    "#symbol = 'GLD'\n",
    "#symbol = 'AAPL'\n",
    "#symbol = 'BBRY'\n",
    "#symbol = 'GDX'\n",
    "capital = 10000\n",
    "#start = datetime.datetime(1900, 1, 1)\n",
    "start = datetime.datetime.strptime(pf.SP500_BEGIN, '%Y-%m-%d')\n",
    "end = datetime.datetime.now()"
   ]
  },
  {
   "cell_type": "markdown",
   "metadata": {},
   "source": [
    "Define the periods"
   ]
  },
  {
   "cell_type": "code",
   "execution_count": 4,
   "metadata": {
    "ExecuteTime": {
     "end_time": "2020-02-17T03:48:57.219282Z",
     "start_time": "2020-02-17T03:48:57.209459Z"
    }
   },
   "outputs": [],
   "source": [
    "periods = range(50, 525, 25)\n",
    "periods = [str(period) for period in periods]"
   ]
  },
  {
   "cell_type": "markdown",
   "metadata": {},
   "source": [
    "Run Strategy"
   ]
  },
  {
   "cell_type": "code",
   "execution_count": 5,
   "metadata": {
    "ExecuteTime": {
     "end_time": "2020-02-17T03:49:12.813759Z",
     "start_time": "2020-02-17T03:48:57.225846Z"
    }
   },
   "outputs": [
    {
     "name": "stdout",
     "output_type": "stream",
     "text": [
      "50 75 100 125 150 175 200 225 250 275 300 325 350 375 400 425 450 475 500 "
     ]
    }
   ],
   "source": [
    "strategies = pd.Series(dtype=object)\n",
    "for period in periods:\n",
    "    print(\"{0}\".format(period), end=\" \")\n",
    "    strategies[period] = strategy.Strategy(symbol, capital, start, end, sma_period=int(period))\n",
    "    strategies[period].run()\n",
    "    _, strategies[period].tlog, strategies[period].dbal = strategies[period].get_logs()\n",
    "    strategies[period].stats = strategies[period].get_stats()"
   ]
  },
  {
   "cell_type": "markdown",
   "metadata": {},
   "source": [
    "Summarize results"
   ]
  },
  {
   "cell_type": "code",
   "execution_count": 6,
   "metadata": {
    "ExecuteTime": {
     "end_time": "2020-02-17T03:49:12.881701Z",
     "start_time": "2020-02-17T03:49:12.827144Z"
    },
    "scrolled": true
   },
   "outputs": [
    {
     "data": {
      "text/html": [
       "<div>\n",
       "<style scoped>\n",
       "    .dataframe tbody tr th:only-of-type {\n",
       "        vertical-align: middle;\n",
       "    }\n",
       "\n",
       "    .dataframe tbody tr th {\n",
       "        vertical-align: top;\n",
       "    }\n",
       "\n",
       "    .dataframe thead th {\n",
       "        text-align: right;\n",
       "    }\n",
       "</style>\n",
       "<table border=\"1\" class=\"dataframe\">\n",
       "  <thead>\n",
       "    <tr style=\"text-align: right;\">\n",
       "      <th></th>\n",
       "      <th>50</th>\n",
       "      <th>75</th>\n",
       "      <th>100</th>\n",
       "      <th>125</th>\n",
       "      <th>150</th>\n",
       "      <th>175</th>\n",
       "      <th>200</th>\n",
       "      <th>225</th>\n",
       "      <th>250</th>\n",
       "      <th>275</th>\n",
       "      <th>300</th>\n",
       "      <th>325</th>\n",
       "      <th>350</th>\n",
       "      <th>375</th>\n",
       "      <th>400</th>\n",
       "      <th>425</th>\n",
       "      <th>450</th>\n",
       "      <th>475</th>\n",
       "      <th>500</th>\n",
       "    </tr>\n",
       "  </thead>\n",
       "  <tbody>\n",
       "    <tr>\n",
       "      <th>start</th>\n",
       "      <td>1993-11-11</td>\n",
       "      <td>1993-11-11</td>\n",
       "      <td>1993-11-11</td>\n",
       "      <td>1993-11-11</td>\n",
       "      <td>1993-11-11</td>\n",
       "      <td>1993-11-11</td>\n",
       "      <td>1993-11-11</td>\n",
       "      <td>1993-12-17</td>\n",
       "      <td>1994-01-24</td>\n",
       "      <td>1994-03-01</td>\n",
       "      <td>1994-04-06</td>\n",
       "      <td>1994-05-12</td>\n",
       "      <td>1994-06-17</td>\n",
       "      <td>1994-07-25</td>\n",
       "      <td>1994-08-29</td>\n",
       "      <td>1994-10-04</td>\n",
       "      <td>1994-11-08</td>\n",
       "      <td>1994-12-14</td>\n",
       "      <td>1995-01-20</td>\n",
       "    </tr>\n",
       "    <tr>\n",
       "      <th>ending_balance</th>\n",
       "      <td>48413.56</td>\n",
       "      <td>53009.21</td>\n",
       "      <td>38680.23</td>\n",
       "      <td>35590.95</td>\n",
       "      <td>37227.29</td>\n",
       "      <td>36080.66</td>\n",
       "      <td>41230.85</td>\n",
       "      <td>45687.31</td>\n",
       "      <td>46106.61</td>\n",
       "      <td>45389.59</td>\n",
       "      <td>52222.30</td>\n",
       "      <td>61358.77</td>\n",
       "      <td>62076.85</td>\n",
       "      <td>80111.09</td>\n",
       "      <td>81258.74</td>\n",
       "      <td>79227.34</td>\n",
       "      <td>71982.56</td>\n",
       "      <td>70411.71</td>\n",
       "      <td>65207.74</td>\n",
       "    </tr>\n",
       "    <tr>\n",
       "      <th>annual_return_rate</th>\n",
       "      <td>6.11</td>\n",
       "      <td>6.48</td>\n",
       "      <td>5.22</td>\n",
       "      <td>4.89</td>\n",
       "      <td>5.07</td>\n",
       "      <td>4.95</td>\n",
       "      <td>5.48</td>\n",
       "      <td>5.91</td>\n",
       "      <td>5.97</td>\n",
       "      <td>5.93</td>\n",
       "      <td>6.52</td>\n",
       "      <td>7.20</td>\n",
       "      <td>7.28</td>\n",
       "      <td>8.37</td>\n",
       "      <td>8.47</td>\n",
       "      <td>8.39</td>\n",
       "      <td>8.02</td>\n",
       "      <td>7.96</td>\n",
       "      <td>7.67</td>\n",
       "    </tr>\n",
       "    <tr>\n",
       "      <th>max_closed_out_drawdown</th>\n",
       "      <td>-40.56</td>\n",
       "      <td>-37.21</td>\n",
       "      <td>-46.22</td>\n",
       "      <td>-43.22</td>\n",
       "      <td>-39.79</td>\n",
       "      <td>-35.73</td>\n",
       "      <td>-28.66</td>\n",
       "      <td>-23.96</td>\n",
       "      <td>-23.13</td>\n",
       "      <td>-25.89</td>\n",
       "      <td>-25.44</td>\n",
       "      <td>-23.21</td>\n",
       "      <td>-27.34</td>\n",
       "      <td>-25.88</td>\n",
       "      <td>-24.14</td>\n",
       "      <td>-26.99</td>\n",
       "      <td>-31.20</td>\n",
       "      <td>-29.41</td>\n",
       "      <td>-29.72</td>\n",
       "    </tr>\n",
       "    <tr>\n",
       "      <th>drawdown_annualized_return</th>\n",
       "      <td>-6.63</td>\n",
       "      <td>-5.74</td>\n",
       "      <td>-8.85</td>\n",
       "      <td>-8.83</td>\n",
       "      <td>-7.85</td>\n",
       "      <td>-7.22</td>\n",
       "      <td>-5.23</td>\n",
       "      <td>-4.06</td>\n",
       "      <td>-3.88</td>\n",
       "      <td>-4.37</td>\n",
       "      <td>-3.90</td>\n",
       "      <td>-3.22</td>\n",
       "      <td>-3.75</td>\n",
       "      <td>-3.09</td>\n",
       "      <td>-2.85</td>\n",
       "      <td>-3.22</td>\n",
       "      <td>-3.89</td>\n",
       "      <td>-3.69</td>\n",
       "      <td>-3.88</td>\n",
       "    </tr>\n",
       "    <tr>\n",
       "      <th>drawdown_recovery</th>\n",
       "      <td>-3.71</td>\n",
       "      <td>-3.73</td>\n",
       "      <td>-3.75</td>\n",
       "      <td>-3.75</td>\n",
       "      <td>-3.75</td>\n",
       "      <td>-3.75</td>\n",
       "      <td>-3.75</td>\n",
       "      <td>-3.75</td>\n",
       "      <td>-3.06</td>\n",
       "      <td>-0.21</td>\n",
       "      <td>-0.67</td>\n",
       "      <td>-0.21</td>\n",
       "      <td>-0.22</td>\n",
       "      <td>-0.24</td>\n",
       "      <td>-0.25</td>\n",
       "      <td>-0.63</td>\n",
       "      <td>-0.64</td>\n",
       "      <td>-0.64</td>\n",
       "      <td>-0.64</td>\n",
       "    </tr>\n",
       "    <tr>\n",
       "      <th>best_month</th>\n",
       "      <td>12.92</td>\n",
       "      <td>12.95</td>\n",
       "      <td>15.05</td>\n",
       "      <td>14.98</td>\n",
       "      <td>15.04</td>\n",
       "      <td>15.03</td>\n",
       "      <td>12.95</td>\n",
       "      <td>12.94</td>\n",
       "      <td>12.95</td>\n",
       "      <td>12.96</td>\n",
       "      <td>12.96</td>\n",
       "      <td>15.15</td>\n",
       "      <td>15.13</td>\n",
       "      <td>15.15</td>\n",
       "      <td>15.80</td>\n",
       "      <td>15.75</td>\n",
       "      <td>17.77</td>\n",
       "      <td>17.78</td>\n",
       "      <td>17.76</td>\n",
       "    </tr>\n",
       "    <tr>\n",
       "      <th>worst_month</th>\n",
       "      <td>-17.37</td>\n",
       "      <td>-17.39</td>\n",
       "      <td>-17.40</td>\n",
       "      <td>-17.36</td>\n",
       "      <td>-17.39</td>\n",
       "      <td>-17.38</td>\n",
       "      <td>-17.37</td>\n",
       "      <td>-17.36</td>\n",
       "      <td>-18.75</td>\n",
       "      <td>-17.22</td>\n",
       "      <td>-18.91</td>\n",
       "      <td>-18.89</td>\n",
       "      <td>-18.92</td>\n",
       "      <td>-18.94</td>\n",
       "      <td>-18.94</td>\n",
       "      <td>-18.90</td>\n",
       "      <td>-20.79</td>\n",
       "      <td>-20.79</td>\n",
       "      <td>-22.86</td>\n",
       "    </tr>\n",
       "    <tr>\n",
       "      <th>sharpe_ratio</th>\n",
       "      <td>0.52</td>\n",
       "      <td>0.56</td>\n",
       "      <td>0.47</td>\n",
       "      <td>0.45</td>\n",
       "      <td>0.47</td>\n",
       "      <td>0.47</td>\n",
       "      <td>0.51</td>\n",
       "      <td>0.54</td>\n",
       "      <td>0.54</td>\n",
       "      <td>0.52</td>\n",
       "      <td>0.56</td>\n",
       "      <td>0.60</td>\n",
       "      <td>0.60</td>\n",
       "      <td>0.67</td>\n",
       "      <td>0.67</td>\n",
       "      <td>0.66</td>\n",
       "      <td>0.63</td>\n",
       "      <td>0.63</td>\n",
       "      <td>0.60</td>\n",
       "    </tr>\n",
       "    <tr>\n",
       "      <th>sortino_ratio</th>\n",
       "      <td>0.62</td>\n",
       "      <td>0.66</td>\n",
       "      <td>0.54</td>\n",
       "      <td>0.51</td>\n",
       "      <td>0.53</td>\n",
       "      <td>0.52</td>\n",
       "      <td>0.57</td>\n",
       "      <td>0.61</td>\n",
       "      <td>0.61</td>\n",
       "      <td>0.59</td>\n",
       "      <td>0.63</td>\n",
       "      <td>0.69</td>\n",
       "      <td>0.69</td>\n",
       "      <td>0.78</td>\n",
       "      <td>0.79</td>\n",
       "      <td>0.77</td>\n",
       "      <td>0.74</td>\n",
       "      <td>0.73</td>\n",
       "      <td>0.70</td>\n",
       "    </tr>\n",
       "    <tr>\n",
       "      <th>monthly_std</th>\n",
       "      <td>3.34</td>\n",
       "      <td>3.21</td>\n",
       "      <td>3.21</td>\n",
       "      <td>3.24</td>\n",
       "      <td>3.21</td>\n",
       "      <td>3.16</td>\n",
       "      <td>3.10</td>\n",
       "      <td>3.19</td>\n",
       "      <td>3.23</td>\n",
       "      <td>3.28</td>\n",
       "      <td>3.33</td>\n",
       "      <td>3.31</td>\n",
       "      <td>3.35</td>\n",
       "      <td>3.32</td>\n",
       "      <td>3.32</td>\n",
       "      <td>3.37</td>\n",
       "      <td>3.49</td>\n",
       "      <td>3.55</td>\n",
       "      <td>3.62</td>\n",
       "    </tr>\n",
       "    <tr>\n",
       "      <th>pct_time_in_market</th>\n",
       "      <td>80.90</td>\n",
       "      <td>79.51</td>\n",
       "      <td>77.89</td>\n",
       "      <td>76.58</td>\n",
       "      <td>75.20</td>\n",
       "      <td>74.23</td>\n",
       "      <td>73.47</td>\n",
       "      <td>74.49</td>\n",
       "      <td>75.90</td>\n",
       "      <td>76.86</td>\n",
       "      <td>78.12</td>\n",
       "      <td>79.24</td>\n",
       "      <td>80.08</td>\n",
       "      <td>80.81</td>\n",
       "      <td>81.28</td>\n",
       "      <td>81.62</td>\n",
       "      <td>82.05</td>\n",
       "      <td>82.54</td>\n",
       "      <td>82.90</td>\n",
       "    </tr>\n",
       "    <tr>\n",
       "      <th>total_num_trades</th>\n",
       "      <td>114</td>\n",
       "      <td>106</td>\n",
       "      <td>111</td>\n",
       "      <td>112</td>\n",
       "      <td>102</td>\n",
       "      <td>101</td>\n",
       "      <td>94</td>\n",
       "      <td>90</td>\n",
       "      <td>87</td>\n",
       "      <td>85</td>\n",
       "      <td>72</td>\n",
       "      <td>61</td>\n",
       "      <td>56</td>\n",
       "      <td>46</td>\n",
       "      <td>43</td>\n",
       "      <td>39</td>\n",
       "      <td>38</td>\n",
       "      <td>41</td>\n",
       "      <td>40</td>\n",
       "    </tr>\n",
       "    <tr>\n",
       "      <th>trades_per_year</th>\n",
       "      <td>4.29</td>\n",
       "      <td>3.99</td>\n",
       "      <td>4.18</td>\n",
       "      <td>4.21</td>\n",
       "      <td>3.84</td>\n",
       "      <td>3.80</td>\n",
       "      <td>3.54</td>\n",
       "      <td>3.40</td>\n",
       "      <td>3.30</td>\n",
       "      <td>3.24</td>\n",
       "      <td>2.75</td>\n",
       "      <td>2.34</td>\n",
       "      <td>2.16</td>\n",
       "      <td>1.78</td>\n",
       "      <td>1.67</td>\n",
       "      <td>1.52</td>\n",
       "      <td>1.49</td>\n",
       "      <td>1.61</td>\n",
       "      <td>1.58</td>\n",
       "    </tr>\n",
       "    <tr>\n",
       "      <th>pct_profitable_trades</th>\n",
       "      <td>26.32</td>\n",
       "      <td>25.47</td>\n",
       "      <td>20.72</td>\n",
       "      <td>22.32</td>\n",
       "      <td>21.57</td>\n",
       "      <td>22.77</td>\n",
       "      <td>24.47</td>\n",
       "      <td>23.33</td>\n",
       "      <td>24.14</td>\n",
       "      <td>22.35</td>\n",
       "      <td>25.00</td>\n",
       "      <td>22.95</td>\n",
       "      <td>25.00</td>\n",
       "      <td>28.26</td>\n",
       "      <td>23.26</td>\n",
       "      <td>20.51</td>\n",
       "      <td>21.05</td>\n",
       "      <td>19.51</td>\n",
       "      <td>25.00</td>\n",
       "    </tr>\n",
       "    <tr>\n",
       "      <th>avg_points</th>\n",
       "      <td>1.78</td>\n",
       "      <td>1.91</td>\n",
       "      <td>1.45</td>\n",
       "      <td>1.33</td>\n",
       "      <td>1.50</td>\n",
       "      <td>1.50</td>\n",
       "      <td>1.75</td>\n",
       "      <td>2.04</td>\n",
       "      <td>2.26</td>\n",
       "      <td>2.35</td>\n",
       "      <td>2.82</td>\n",
       "      <td>3.69</td>\n",
       "      <td>3.99</td>\n",
       "      <td>5.47</td>\n",
       "      <td>6.10</td>\n",
       "      <td>6.48</td>\n",
       "      <td>6.41</td>\n",
       "      <td>5.80</td>\n",
       "      <td>5.53</td>\n",
       "    </tr>\n",
       "  </tbody>\n",
       "</table>\n",
       "</div>"
      ],
      "text/plain": [
       "                                    50          75         100         125  \\\n",
       "start                       1993-11-11  1993-11-11  1993-11-11  1993-11-11   \n",
       "ending_balance                48413.56    53009.21    38680.23    35590.95   \n",
       "annual_return_rate                6.11        6.48        5.22        4.89   \n",
       "max_closed_out_drawdown         -40.56      -37.21      -46.22      -43.22   \n",
       "drawdown_annualized_return       -6.63       -5.74       -8.85       -8.83   \n",
       "drawdown_recovery                -3.71       -3.73       -3.75       -3.75   \n",
       "best_month                       12.92       12.95       15.05       14.98   \n",
       "worst_month                     -17.37      -17.39      -17.40      -17.36   \n",
       "sharpe_ratio                      0.52        0.56        0.47        0.45   \n",
       "sortino_ratio                     0.62        0.66        0.54        0.51   \n",
       "monthly_std                       3.34        3.21        3.21        3.24   \n",
       "pct_time_in_market               80.90       79.51       77.89       76.58   \n",
       "total_num_trades                   114         106         111         112   \n",
       "trades_per_year                   4.29        3.99        4.18        4.21   \n",
       "pct_profitable_trades            26.32       25.47       20.72       22.32   \n",
       "avg_points                        1.78        1.91        1.45        1.33   \n",
       "\n",
       "                                   150         175         200         225  \\\n",
       "start                       1993-11-11  1993-11-11  1993-11-11  1993-12-17   \n",
       "ending_balance                37227.29    36080.66    41230.85    45687.31   \n",
       "annual_return_rate                5.07        4.95        5.48        5.91   \n",
       "max_closed_out_drawdown         -39.79      -35.73      -28.66      -23.96   \n",
       "drawdown_annualized_return       -7.85       -7.22       -5.23       -4.06   \n",
       "drawdown_recovery                -3.75       -3.75       -3.75       -3.75   \n",
       "best_month                       15.04       15.03       12.95       12.94   \n",
       "worst_month                     -17.39      -17.38      -17.37      -17.36   \n",
       "sharpe_ratio                      0.47        0.47        0.51        0.54   \n",
       "sortino_ratio                     0.53        0.52        0.57        0.61   \n",
       "monthly_std                       3.21        3.16        3.10        3.19   \n",
       "pct_time_in_market               75.20       74.23       73.47       74.49   \n",
       "total_num_trades                   102         101          94          90   \n",
       "trades_per_year                   3.84        3.80        3.54        3.40   \n",
       "pct_profitable_trades            21.57       22.77       24.47       23.33   \n",
       "avg_points                        1.50        1.50        1.75        2.04   \n",
       "\n",
       "                                   250         275         300         325  \\\n",
       "start                       1994-01-24  1994-03-01  1994-04-06  1994-05-12   \n",
       "ending_balance                46106.61    45389.59    52222.30    61358.77   \n",
       "annual_return_rate                5.97        5.93        6.52        7.20   \n",
       "max_closed_out_drawdown         -23.13      -25.89      -25.44      -23.21   \n",
       "drawdown_annualized_return       -3.88       -4.37       -3.90       -3.22   \n",
       "drawdown_recovery                -3.06       -0.21       -0.67       -0.21   \n",
       "best_month                       12.95       12.96       12.96       15.15   \n",
       "worst_month                     -18.75      -17.22      -18.91      -18.89   \n",
       "sharpe_ratio                      0.54        0.52        0.56        0.60   \n",
       "sortino_ratio                     0.61        0.59        0.63        0.69   \n",
       "monthly_std                       3.23        3.28        3.33        3.31   \n",
       "pct_time_in_market               75.90       76.86       78.12       79.24   \n",
       "total_num_trades                    87          85          72          61   \n",
       "trades_per_year                   3.30        3.24        2.75        2.34   \n",
       "pct_profitable_trades            24.14       22.35       25.00       22.95   \n",
       "avg_points                        2.26        2.35        2.82        3.69   \n",
       "\n",
       "                                   350         375         400         425  \\\n",
       "start                       1994-06-17  1994-07-25  1994-08-29  1994-10-04   \n",
       "ending_balance                62076.85    80111.09    81258.74    79227.34   \n",
       "annual_return_rate                7.28        8.37        8.47        8.39   \n",
       "max_closed_out_drawdown         -27.34      -25.88      -24.14      -26.99   \n",
       "drawdown_annualized_return       -3.75       -3.09       -2.85       -3.22   \n",
       "drawdown_recovery                -0.22       -0.24       -0.25       -0.63   \n",
       "best_month                       15.13       15.15       15.80       15.75   \n",
       "worst_month                     -18.92      -18.94      -18.94      -18.90   \n",
       "sharpe_ratio                      0.60        0.67        0.67        0.66   \n",
       "sortino_ratio                     0.69        0.78        0.79        0.77   \n",
       "monthly_std                       3.35        3.32        3.32        3.37   \n",
       "pct_time_in_market               80.08       80.81       81.28       81.62   \n",
       "total_num_trades                    56          46          43          39   \n",
       "trades_per_year                   2.16        1.78        1.67        1.52   \n",
       "pct_profitable_trades            25.00       28.26       23.26       20.51   \n",
       "avg_points                        3.99        5.47        6.10        6.48   \n",
       "\n",
       "                                   450         475         500  \n",
       "start                       1994-11-08  1994-12-14  1995-01-20  \n",
       "ending_balance                71982.56    70411.71    65207.74  \n",
       "annual_return_rate                8.02        7.96        7.67  \n",
       "max_closed_out_drawdown         -31.20      -29.41      -29.72  \n",
       "drawdown_annualized_return       -3.89       -3.69       -3.88  \n",
       "drawdown_recovery                -0.64       -0.64       -0.64  \n",
       "best_month                       17.77       17.78       17.76  \n",
       "worst_month                     -20.79      -20.79      -22.86  \n",
       "sharpe_ratio                      0.63        0.63        0.60  \n",
       "sortino_ratio                     0.74        0.73        0.70  \n",
       "monthly_std                       3.49        3.55        3.62  \n",
       "pct_time_in_market               82.05       82.54       82.90  \n",
       "total_num_trades                    38          41          40  \n",
       "trades_per_year                   1.49        1.61        1.58  \n",
       "pct_profitable_trades            21.05       19.51       25.00  \n",
       "avg_points                        6.41        5.80        5.53  "
      ]
     },
     "execution_count": 6,
     "metadata": {},
     "output_type": "execute_result"
    }
   ],
   "source": [
    "metrics = ('start',\n",
    "           'ending_balance',\n",
    "           'annual_return_rate',\n",
    "           'max_closed_out_drawdown',\n",
    "           'drawdown_annualized_return',\n",
    "           'drawdown_recovery',\n",
    "           'best_month',\n",
    "           'worst_month',\n",
    "           'sharpe_ratio',\n",
    "           'sortino_ratio',\n",
    "           'monthly_std',\n",
    "           'pct_time_in_market',\n",
    "           'total_num_trades',\n",
    "           'trades_per_year',\n",
    "           'pct_profitable_trades',\n",
    "           'avg_points')\n",
    "\n",
    "df = strategy.summary(strategies, *metrics)\n",
    "df"
   ]
  },
  {
   "cell_type": "markdown",
   "metadata": {},
   "source": [
    "Bar graphs"
   ]
  },
  {
   "cell_type": "code",
   "execution_count": 7,
   "metadata": {
    "ExecuteTime": {
     "end_time": "2020-02-17T03:49:13.850931Z",
     "start_time": "2020-02-17T03:49:12.891469Z"
    }
   },
   "outputs": [
    {
     "data": {
      "image/png": "[encoded data removed]",
      "text/plain": [
       "<Figure size 720x504 with 1 Axes>"
      ]
     },
     "metadata": {
      "needs_background": "light"
     },
     "output_type": "display_data"
    },
    {
     "data": {
      "image/png": "[encoded data removed]",
      "text/plain": [
       "<Figure size 720x504 with 1 Axes>"
      ]
     },
     "metadata": {
      "needs_background": "light"
     },
     "output_type": "display_data"
    },
    {
     "data": {
      "image/png": "[encoded data removed]",
      "text/plain": [
       "<Figure size 720x504 with 1 Axes>"
      ]
     },
     "metadata": {
      "needs_background": "light"
     },
     "output_type": "display_data"
    },
    {
     "data": {
      "image/png": "[encoded data removed]",
      "text/plain": [
       "<Figure size 720x504 with 1 Axes>"
      ]
     },
     "metadata": {
      "needs_background": "light"
     },
     "output_type": "display_data"
    }
   ],
   "source": [
    "strategy.plot_bar_graph(df, 'annual_return_rate')\n",
    "strategy.plot_bar_graph(df, 'ending_balance')\n",
    "strategy.plot_bar_graph(df, 'sharpe_ratio')\n",
    "strategy.plot_bar_graph(df, 'max_closed_out_drawdown')"
   ]
  },
  {
   "cell_type": "markdown",
   "metadata": {},
   "source": [
    "Run Benchmark"
   ]
  },
  {
   "cell_type": "code",
   "execution_count": 8,
   "metadata": {
    "ExecuteTime": {
     "end_time": "2020-02-17T03:49:14.539082Z",
     "start_time": "2020-02-17T03:49:13.862012Z"
    }
   },
   "outputs": [
    {
     "name": "stdout",
     "output_type": "stream",
     "text": [
      "1993-11-11 00:00:00 BUY  215 SPY @ 46.38\n",
      "2020-06-08 00:00:00 SELL 215 SPY @ 323.20\n"
     ]
    }
   ],
   "source": [
    "s = strategies[periods[0]]\n",
    "benchmark = pf.Benchmark(symbol, capital, s._start, s._end)\n",
    "benchmark.run()\n",
    "benchmark.tlog, benchmark.dbal = benchmark.get_logs()\n",
    "benchmark.stats = benchmark.get_stats()"
   ]
  },
  {
   "cell_type": "markdown",
   "metadata": {},
   "source": [
    "Equity curve"
   ]
  },
  {
   "cell_type": "code",
   "execution_count": 9,
   "metadata": {
    "ExecuteTime": {
     "end_time": "2020-02-17T03:49:14.814529Z",
     "start_time": "2020-02-17T03:49:14.552368Z"
    }
   },
   "outputs": [
    {
     "data": {
      "image/png": "[encoded data removed]",
      "text/plain": [
       "<Figure size 720x504 with 1 Axes>"
      ]
     },
     "metadata": {
      "needs_background": "light"
     },
     "output_type": "display_data"
    }
   ],
   "source": [
    "pf.plot_equity_curve(strategies['200'].dbal, benchmark=benchmark.dbal)"
   ]
  },
  {
   "cell_type": "code",
   "execution_count": null,
   "metadata": {},
   "outputs": [],
   "source": []
  }
 ],
 "metadata": {
  "kernelspec": {
   "display_name": "Python 3",
   "language": "python",
   "name": "python3"
  },
  "language_info": {
   "codemirror_mode": {
    "name": "ipython",
    "version": 3
   },
   "file_extension": ".py",
   "mimetype": "text/x-python",
   "name": "python",
   "nbconvert_exporter": "python",
   "pygments_lexer": "ipython3",
   "version": "3.8.2"
  },
  "latex_envs": {
   "LaTeX_envs_menu_present": true,
   "autoclose": false,
   "autocomplete": true,
   "bibliofile": "biblio.bib",
   "cite_by": "apalike",
   "current_citInitial": 1,
   "eqLabelWithNumbers": true,
   "eqNumInitial": 1,
   "hotkeys": {
    "equation": "Ctrl-E",
    "itemize": "Ctrl-I"
   },
   "labels_anchors": false,
   "latex_user_defs": false,
   "report_style_numbering": false,
   "user_envs_cfg": false
  }
 },
 "nbformat": 4,
 "nbformat_minor": 2
}
