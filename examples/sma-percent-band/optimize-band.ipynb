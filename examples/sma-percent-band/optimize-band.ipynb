{
 "cells": [
  {
   "cell_type": "markdown",
   "metadata": {},
   "source": [
    "# SMA Percent Band\n",
    "\n",
    "    1. The SPY closes above its upper band, buy\n",
    "    2. If the SPY closes below its lower band, sell your long position.\n",
    "    \n",
    "    (optimize band)"
   ]
  },
  {
   "cell_type": "code",
   "execution_count": 1,
   "metadata": {
    "ExecuteTime": {
     "end_time": "2020-02-17T03:46:05.530713Z",
     "start_time": "2020-02-17T03:46:04.835537Z"
    }
   },
   "outputs": [],
   "source": [
    "# use future imports for python 3.x forward compatibility\n",
    "from __future__ import print_function\n",
    "from __future__ import unicode_literals\n",
    "from __future__ import division\n",
    "from __future__ import absolute_import\n",
    "\n",
    "# other imports\n",
    "import pandas as pd\n",
    "import matplotlib.pyplot as plt\n",
    "import datetime\n",
    "from talib.abstract import *\n",
    "\n",
    "# project imports\n",
    "import pinkfish as pf\n",
    "import strategy\n",
    "\n",
    "# format price data\n",
    "pd.options.display.float_format = '{:0.2f}'.format\n",
    "\n",
    "%matplotlib inline"
   ]
  },
  {
   "cell_type": "code",
   "execution_count": 2,
   "metadata": {
    "ExecuteTime": {
     "end_time": "2020-02-17T03:46:05.546843Z",
     "start_time": "2020-02-17T03:46:05.540485Z"
    }
   },
   "outputs": [],
   "source": [
    "# set size of inline plots\n",
    "'''note: rcParams can't be in same cell as import matplotlib\n",
    "   or %matplotlib inline\n",
    "   \n",
    "   %matplotlib notebook: will lead to interactive plots embedded within\n",
    "   the notebook, you can zoom and resize the figure\n",
    "   \n",
    "   %matplotlib inline: only draw static images in the notebook\n",
    "'''\n",
    "plt.rcParams[\"figure.figsize\"] = (10, 7)"
   ]
  },
  {
   "cell_type": "markdown",
   "metadata": {},
   "source": [
    "Some global data"
   ]
  },
  {
   "cell_type": "code",
   "execution_count": 3,
   "metadata": {
    "ExecuteTime": {
     "end_time": "2020-02-17T03:46:05.561013Z",
     "start_time": "2020-02-17T03:46:05.550885Z"
    }
   },
   "outputs": [],
   "source": [
    "symbol = '^GSPC'\n",
    "#symbol = 'SPY'\n",
    "#symbol = 'DIA'\n",
    "#symbol = 'QQQ'\n",
    "#symbol = 'IWM'\n",
    "#symbol = 'TLT'\n",
    "#symbol = 'GLD'\n",
    "#symbol = 'AAPL'\n",
    "#symbol = 'BBRY'\n",
    "#symbol = 'GDX'\n",
    "capital = 10000\n",
    "start = datetime.datetime(1900, 1, 1)\n",
    "#start = datetime.datetime.strptime(pf.SP500_BEGIN, '%Y-%m-%d')\n",
    "end = datetime.datetime.now()"
   ]
  },
  {
   "cell_type": "markdown",
   "metadata": {},
   "source": [
    "Define percent bands"
   ]
  },
  {
   "cell_type": "code",
   "execution_count": 4,
   "metadata": {
    "ExecuteTime": {
     "end_time": "2020-02-17T03:46:05.571412Z",
     "start_time": "2020-02-17T03:46:05.565880Z"
    }
   },
   "outputs": [],
   "source": [
    "bands = range(0, 100, 5)\n",
    "bands = [str(band) for band in bands]"
   ]
  },
  {
   "cell_type": "markdown",
   "metadata": {},
   "source": [
    "Run Strategy"
   ]
  },
  {
   "cell_type": "code",
   "execution_count": 5,
   "metadata": {
    "ExecuteTime": {
     "end_time": "2020-02-17T03:46:49.126593Z",
     "start_time": "2020-02-17T03:46:05.580007Z"
    },
    "scrolled": true
   },
   "outputs": [
    {
     "name": "stdout",
     "output_type": "stream",
     "text": [
      "0 5 10 15 20 25 30 35 40 45 50 55 60 65 70 75 80 85 90 95 "
     ]
    }
   ],
   "source": [
    "strategies = pd.Series()\n",
    "for band in bands:\n",
    "    print(\"{0}\".format(band), end=\" \")\n",
    "    strategies[band] = strategy.Strategy(symbol, capital, start, end, sma_period=200, percent_band=int(band)/10)\n",
    "    strategies[band].run()\n",
    "    _, strategies[band].tlog, strategies[band].dbal = strategies[band].get_logs()\n",
    "    strategies[band].stats = strategies[band].get_stats()"
   ]
  },
  {
   "cell_type": "markdown",
   "metadata": {},
   "source": [
    "Summarize results"
   ]
  },
  {
   "cell_type": "code",
   "execution_count": 6,
   "metadata": {
    "ExecuteTime": {
     "end_time": "2020-02-17T03:46:49.201464Z",
     "start_time": "2020-02-17T03:46:49.136917Z"
    },
    "scrolled": false
   },
   "outputs": [
    {
     "data": {
      "text/html": [
       "<div>\n",
       "<style scoped>\n",
       "    .dataframe tbody tr th:only-of-type {\n",
       "        vertical-align: middle;\n",
       "    }\n",
       "\n",
       "    .dataframe tbody tr th {\n",
       "        vertical-align: top;\n",
       "    }\n",
       "\n",
       "    .dataframe thead th {\n",
       "        text-align: right;\n",
       "    }\n",
       "</style>\n",
       "<table border=\"1\" class=\"dataframe\">\n",
       "  <thead>\n",
       "    <tr style=\"text-align: right;\">\n",
       "      <th></th>\n",
       "      <th>0</th>\n",
       "      <th>5</th>\n",
       "      <th>10</th>\n",
       "      <th>15</th>\n",
       "      <th>20</th>\n",
       "      <th>25</th>\n",
       "      <th>30</th>\n",
       "      <th>35</th>\n",
       "      <th>40</th>\n",
       "      <th>45</th>\n",
       "      <th>50</th>\n",
       "      <th>55</th>\n",
       "      <th>60</th>\n",
       "      <th>65</th>\n",
       "      <th>70</th>\n",
       "      <th>75</th>\n",
       "      <th>80</th>\n",
       "      <th>85</th>\n",
       "      <th>90</th>\n",
       "      <th>95</th>\n",
       "    </tr>\n",
       "  </thead>\n",
       "  <tbody>\n",
       "    <tr>\n",
       "      <th>annual_return_rate</th>\n",
       "      <td>6.65</td>\n",
       "      <td>6.55</td>\n",
       "      <td>6.64</td>\n",
       "      <td>6.33</td>\n",
       "      <td>6.35</td>\n",
       "      <td>6.68</td>\n",
       "      <td>6.65</td>\n",
       "      <td>6.69</td>\n",
       "      <td>6.64</td>\n",
       "      <td>6.72</td>\n",
       "      <td>6.64</td>\n",
       "      <td>6.19</td>\n",
       "      <td>5.82</td>\n",
       "      <td>5.69</td>\n",
       "      <td>5.19</td>\n",
       "      <td>5.44</td>\n",
       "      <td>5.20</td>\n",
       "      <td>5.34</td>\n",
       "      <td>5.35</td>\n",
       "      <td>5.11</td>\n",
       "    </tr>\n",
       "    <tr>\n",
       "      <th>ending_balance</th>\n",
       "      <td>3580849.37</td>\n",
       "      <td>3273691.64</td>\n",
       "      <td>3546742.29</td>\n",
       "      <td>2722338.33</td>\n",
       "      <td>2777038.48</td>\n",
       "      <td>3686763.73</td>\n",
       "      <td>3580191.74</td>\n",
       "      <td>3701958.30</td>\n",
       "      <td>3551216.14</td>\n",
       "      <td>3808912.82</td>\n",
       "      <td>3556439.96</td>\n",
       "      <td>2417819.11</td>\n",
       "      <td>1753823.61</td>\n",
       "      <td>1567430.46</td>\n",
       "      <td>1014085.64</td>\n",
       "      <td>1266764.26</td>\n",
       "      <td>1028569.78</td>\n",
       "      <td>1161090.66</td>\n",
       "      <td>1171332.08</td>\n",
       "      <td>950491.91</td>\n",
       "    </tr>\n",
       "    <tr>\n",
       "      <th>max_closed_out_drawdown</th>\n",
       "      <td>-51.57</td>\n",
       "      <td>-49.47</td>\n",
       "      <td>-49.46</td>\n",
       "      <td>-55.14</td>\n",
       "      <td>-54.31</td>\n",
       "      <td>-55.76</td>\n",
       "      <td>-57.79</td>\n",
       "      <td>-56.58</td>\n",
       "      <td>-53.61</td>\n",
       "      <td>-54.99</td>\n",
       "      <td>-49.72</td>\n",
       "      <td>-50.56</td>\n",
       "      <td>-50.56</td>\n",
       "      <td>-53.51</td>\n",
       "      <td>-54.49</td>\n",
       "      <td>-47.54</td>\n",
       "      <td>-47.54</td>\n",
       "      <td>-47.54</td>\n",
       "      <td>-50.32</td>\n",
       "      <td>-52.65</td>\n",
       "    </tr>\n",
       "    <tr>\n",
       "      <th>drawdown_annualized_return</th>\n",
       "      <td>-7.75</td>\n",
       "      <td>-7.56</td>\n",
       "      <td>-7.45</td>\n",
       "      <td>-8.71</td>\n",
       "      <td>-8.55</td>\n",
       "      <td>-8.34</td>\n",
       "      <td>-8.69</td>\n",
       "      <td>-8.46</td>\n",
       "      <td>-8.07</td>\n",
       "      <td>-8.18</td>\n",
       "      <td>-7.48</td>\n",
       "      <td>-8.16</td>\n",
       "      <td>-8.69</td>\n",
       "      <td>-9.40</td>\n",
       "      <td>-10.50</td>\n",
       "      <td>-8.73</td>\n",
       "      <td>-9.14</td>\n",
       "      <td>-8.90</td>\n",
       "      <td>-9.40</td>\n",
       "      <td>-10.30</td>\n",
       "    </tr>\n",
       "    <tr>\n",
       "      <th>drawdown_recovery</th>\n",
       "      <td>-3.51</td>\n",
       "      <td>-3.51</td>\n",
       "      <td>-3.51</td>\n",
       "      <td>-3.51</td>\n",
       "      <td>-3.51</td>\n",
       "      <td>-3.51</td>\n",
       "      <td>-3.51</td>\n",
       "      <td>-3.51</td>\n",
       "      <td>-3.51</td>\n",
       "      <td>-3.51</td>\n",
       "      <td>-3.51</td>\n",
       "      <td>-3.42</td>\n",
       "      <td>-3.42</td>\n",
       "      <td>-3.59</td>\n",
       "      <td>-3.59</td>\n",
       "      <td>-3.59</td>\n",
       "      <td>-3.59</td>\n",
       "      <td>-3.59</td>\n",
       "      <td>-3.59</td>\n",
       "      <td>-3.59</td>\n",
       "    </tr>\n",
       "    <tr>\n",
       "      <th>best_month</th>\n",
       "      <td>27.01</td>\n",
       "      <td>27.01</td>\n",
       "      <td>27.01</td>\n",
       "      <td>27.02</td>\n",
       "      <td>27.02</td>\n",
       "      <td>27.01</td>\n",
       "      <td>27.00</td>\n",
       "      <td>27.01</td>\n",
       "      <td>27.01</td>\n",
       "      <td>27.02</td>\n",
       "      <td>27.01</td>\n",
       "      <td>27.02</td>\n",
       "      <td>27.02</td>\n",
       "      <td>22.42</td>\n",
       "      <td>22.41</td>\n",
       "      <td>22.41</td>\n",
       "      <td>22.41</td>\n",
       "      <td>22.41</td>\n",
       "      <td>22.42</td>\n",
       "      <td>22.42</td>\n",
       "    </tr>\n",
       "    <tr>\n",
       "      <th>worst_month</th>\n",
       "      <td>-26.88</td>\n",
       "      <td>-26.88</td>\n",
       "      <td>-26.89</td>\n",
       "      <td>-30.46</td>\n",
       "      <td>-27.07</td>\n",
       "      <td>-27.06</td>\n",
       "      <td>-27.06</td>\n",
       "      <td>-29.72</td>\n",
       "      <td>-29.72</td>\n",
       "      <td>-29.72</td>\n",
       "      <td>-29.72</td>\n",
       "      <td>-31.45</td>\n",
       "      <td>-31.46</td>\n",
       "      <td>-31.45</td>\n",
       "      <td>-31.47</td>\n",
       "      <td>-31.46</td>\n",
       "      <td>-31.47</td>\n",
       "      <td>-31.45</td>\n",
       "      <td>-31.46</td>\n",
       "      <td>-31.45</td>\n",
       "    </tr>\n",
       "    <tr>\n",
       "      <th>sharpe_ratio</th>\n",
       "      <td>0.59</td>\n",
       "      <td>0.58</td>\n",
       "      <td>0.59</td>\n",
       "      <td>0.57</td>\n",
       "      <td>0.57</td>\n",
       "      <td>0.59</td>\n",
       "      <td>0.59</td>\n",
       "      <td>0.59</td>\n",
       "      <td>0.59</td>\n",
       "      <td>0.59</td>\n",
       "      <td>0.58</td>\n",
       "      <td>0.54</td>\n",
       "      <td>0.51</td>\n",
       "      <td>0.50</td>\n",
       "      <td>0.46</td>\n",
       "      <td>0.48</td>\n",
       "      <td>0.46</td>\n",
       "      <td>0.47</td>\n",
       "      <td>0.47</td>\n",
       "      <td>0.45</td>\n",
       "    </tr>\n",
       "    <tr>\n",
       "      <th>sortino_ratio</th>\n",
       "      <td>0.61</td>\n",
       "      <td>0.60</td>\n",
       "      <td>0.61</td>\n",
       "      <td>0.58</td>\n",
       "      <td>0.58</td>\n",
       "      <td>0.61</td>\n",
       "      <td>0.60</td>\n",
       "      <td>0.60</td>\n",
       "      <td>0.60</td>\n",
       "      <td>0.61</td>\n",
       "      <td>0.60</td>\n",
       "      <td>0.54</td>\n",
       "      <td>0.51</td>\n",
       "      <td>0.50</td>\n",
       "      <td>0.46</td>\n",
       "      <td>0.48</td>\n",
       "      <td>0.46</td>\n",
       "      <td>0.47</td>\n",
       "      <td>0.48</td>\n",
       "      <td>0.46</td>\n",
       "    </tr>\n",
       "    <tr>\n",
       "      <th>monthly_std</th>\n",
       "      <td>3.31</td>\n",
       "      <td>3.34</td>\n",
       "      <td>3.34</td>\n",
       "      <td>3.37</td>\n",
       "      <td>3.36</td>\n",
       "      <td>3.35</td>\n",
       "      <td>3.35</td>\n",
       "      <td>3.40</td>\n",
       "      <td>3.38</td>\n",
       "      <td>3.40</td>\n",
       "      <td>3.41</td>\n",
       "      <td>3.52</td>\n",
       "      <td>3.54</td>\n",
       "      <td>3.52</td>\n",
       "      <td>3.56</td>\n",
       "      <td>3.50</td>\n",
       "      <td>3.54</td>\n",
       "      <td>3.57</td>\n",
       "      <td>3.58</td>\n",
       "      <td>3.64</td>\n",
       "    </tr>\n",
       "    <tr>\n",
       "      <th>pct_time_in_market</th>\n",
       "      <td>67.23</td>\n",
       "      <td>67.09</td>\n",
       "      <td>66.75</td>\n",
       "      <td>66.75</td>\n",
       "      <td>66.92</td>\n",
       "      <td>66.52</td>\n",
       "      <td>66.88</td>\n",
       "      <td>67.20</td>\n",
       "      <td>66.46</td>\n",
       "      <td>67.47</td>\n",
       "      <td>68.55</td>\n",
       "      <td>68.73</td>\n",
       "      <td>69.10</td>\n",
       "      <td>69.84</td>\n",
       "      <td>69.43</td>\n",
       "      <td>68.89</td>\n",
       "      <td>69.35</td>\n",
       "      <td>70.55</td>\n",
       "      <td>70.77</td>\n",
       "      <td>72.68</td>\n",
       "    </tr>\n",
       "    <tr>\n",
       "      <th>total_num_trades</th>\n",
       "      <td>275.00</td>\n",
       "      <td>158.00</td>\n",
       "      <td>117.00</td>\n",
       "      <td>91.00</td>\n",
       "      <td>76.00</td>\n",
       "      <td>58.00</td>\n",
       "      <td>53.00</td>\n",
       "      <td>46.00</td>\n",
       "      <td>44.00</td>\n",
       "      <td>40.00</td>\n",
       "      <td>37.00</td>\n",
       "      <td>35.00</td>\n",
       "      <td>35.00</td>\n",
       "      <td>33.00</td>\n",
       "      <td>33.00</td>\n",
       "      <td>29.00</td>\n",
       "      <td>28.00</td>\n",
       "      <td>26.00</td>\n",
       "      <td>24.00</td>\n",
       "      <td>23.00</td>\n",
       "    </tr>\n",
       "    <tr>\n",
       "      <th>pct_profitable_trades</th>\n",
       "      <td>25.82</td>\n",
       "      <td>38.61</td>\n",
       "      <td>43.59</td>\n",
       "      <td>43.96</td>\n",
       "      <td>47.37</td>\n",
       "      <td>56.90</td>\n",
       "      <td>60.38</td>\n",
       "      <td>67.39</td>\n",
       "      <td>68.18</td>\n",
       "      <td>70.00</td>\n",
       "      <td>72.97</td>\n",
       "      <td>77.14</td>\n",
       "      <td>74.29</td>\n",
       "      <td>72.73</td>\n",
       "      <td>69.70</td>\n",
       "      <td>75.86</td>\n",
       "      <td>75.00</td>\n",
       "      <td>80.77</td>\n",
       "      <td>83.33</td>\n",
       "      <td>82.61</td>\n",
       "    </tr>\n",
       "    <tr>\n",
       "      <th>trades_per_year</th>\n",
       "      <td>3.01</td>\n",
       "      <td>1.73</td>\n",
       "      <td>1.28</td>\n",
       "      <td>1.00</td>\n",
       "      <td>0.83</td>\n",
       "      <td>0.64</td>\n",
       "      <td>0.58</td>\n",
       "      <td>0.50</td>\n",
       "      <td>0.48</td>\n",
       "      <td>0.44</td>\n",
       "      <td>0.41</td>\n",
       "      <td>0.38</td>\n",
       "      <td>0.38</td>\n",
       "      <td>0.36</td>\n",
       "      <td>0.36</td>\n",
       "      <td>0.32</td>\n",
       "      <td>0.31</td>\n",
       "      <td>0.28</td>\n",
       "      <td>0.26</td>\n",
       "      <td>0.25</td>\n",
       "    </tr>\n",
       "    <tr>\n",
       "      <th>avg_points</th>\n",
       "      <td>9.30</td>\n",
       "      <td>17.20</td>\n",
       "      <td>23.12</td>\n",
       "      <td>31.86</td>\n",
       "      <td>40.39</td>\n",
       "      <td>58.04</td>\n",
       "      <td>63.42</td>\n",
       "      <td>72.66</td>\n",
       "      <td>74.20</td>\n",
       "      <td>82.52</td>\n",
       "      <td>90.52</td>\n",
       "      <td>88.44</td>\n",
       "      <td>84.37</td>\n",
       "      <td>86.97</td>\n",
       "      <td>79.18</td>\n",
       "      <td>84.88</td>\n",
       "      <td>83.17</td>\n",
       "      <td>95.16</td>\n",
       "      <td>92.64</td>\n",
       "      <td>88.18</td>\n",
       "    </tr>\n",
       "  </tbody>\n",
       "</table>\n",
       "</div>"
      ],
      "text/plain": [
       "                                    0          5         10         15  \\\n",
       "annual_return_rate               6.65       6.55       6.64       6.33   \n",
       "ending_balance             3580849.37 3273691.64 3546742.29 2722338.33   \n",
       "max_closed_out_drawdown        -51.57     -49.47     -49.46     -55.14   \n",
       "drawdown_annualized_return      -7.75      -7.56      -7.45      -8.71   \n",
       "drawdown_recovery               -3.51      -3.51      -3.51      -3.51   \n",
       "best_month                      27.01      27.01      27.01      27.02   \n",
       "worst_month                    -26.88     -26.88     -26.89     -30.46   \n",
       "sharpe_ratio                     0.59       0.58       0.59       0.57   \n",
       "sortino_ratio                    0.61       0.60       0.61       0.58   \n",
       "monthly_std                      3.31       3.34       3.34       3.37   \n",
       "pct_time_in_market              67.23      67.09      66.75      66.75   \n",
       "total_num_trades               275.00     158.00     117.00      91.00   \n",
       "pct_profitable_trades           25.82      38.61      43.59      43.96   \n",
       "trades_per_year                  3.01       1.73       1.28       1.00   \n",
       "avg_points                       9.30      17.20      23.12      31.86   \n",
       "\n",
       "                                   20         25         30         35  \\\n",
       "annual_return_rate               6.35       6.68       6.65       6.69   \n",
       "ending_balance             2777038.48 3686763.73 3580191.74 3701958.30   \n",
       "max_closed_out_drawdown        -54.31     -55.76     -57.79     -56.58   \n",
       "drawdown_annualized_return      -8.55      -8.34      -8.69      -8.46   \n",
       "drawdown_recovery               -3.51      -3.51      -3.51      -3.51   \n",
       "best_month                      27.02      27.01      27.00      27.01   \n",
       "worst_month                    -27.07     -27.06     -27.06     -29.72   \n",
       "sharpe_ratio                     0.57       0.59       0.59       0.59   \n",
       "sortino_ratio                    0.58       0.61       0.60       0.60   \n",
       "monthly_std                      3.36       3.35       3.35       3.40   \n",
       "pct_time_in_market              66.92      66.52      66.88      67.20   \n",
       "total_num_trades                76.00      58.00      53.00      46.00   \n",
       "pct_profitable_trades           47.37      56.90      60.38      67.39   \n",
       "trades_per_year                  0.83       0.64       0.58       0.50   \n",
       "avg_points                      40.39      58.04      63.42      72.66   \n",
       "\n",
       "                                   40         45         50         55  \\\n",
       "annual_return_rate               6.64       6.72       6.64       6.19   \n",
       "ending_balance             3551216.14 3808912.82 3556439.96 2417819.11   \n",
       "max_closed_out_drawdown        -53.61     -54.99     -49.72     -50.56   \n",
       "drawdown_annualized_return      -8.07      -8.18      -7.48      -8.16   \n",
       "drawdown_recovery               -3.51      -3.51      -3.51      -3.42   \n",
       "best_month                      27.01      27.02      27.01      27.02   \n",
       "worst_month                    -29.72     -29.72     -29.72     -31.45   \n",
       "sharpe_ratio                     0.59       0.59       0.58       0.54   \n",
       "sortino_ratio                    0.60       0.61       0.60       0.54   \n",
       "monthly_std                      3.38       3.40       3.41       3.52   \n",
       "pct_time_in_market              66.46      67.47      68.55      68.73   \n",
       "total_num_trades                44.00      40.00      37.00      35.00   \n",
       "pct_profitable_trades           68.18      70.00      72.97      77.14   \n",
       "trades_per_year                  0.48       0.44       0.41       0.38   \n",
       "avg_points                      74.20      82.52      90.52      88.44   \n",
       "\n",
       "                                   60         65         70         75  \\\n",
       "annual_return_rate               5.82       5.69       5.19       5.44   \n",
       "ending_balance             1753823.61 1567430.46 1014085.64 1266764.26   \n",
       "max_closed_out_drawdown        -50.56     -53.51     -54.49     -47.54   \n",
       "drawdown_annualized_return      -8.69      -9.40     -10.50      -8.73   \n",
       "drawdown_recovery               -3.42      -3.59      -3.59      -3.59   \n",
       "best_month                      27.02      22.42      22.41      22.41   \n",
       "worst_month                    -31.46     -31.45     -31.47     -31.46   \n",
       "sharpe_ratio                     0.51       0.50       0.46       0.48   \n",
       "sortino_ratio                    0.51       0.50       0.46       0.48   \n",
       "monthly_std                      3.54       3.52       3.56       3.50   \n",
       "pct_time_in_market              69.10      69.84      69.43      68.89   \n",
       "total_num_trades                35.00      33.00      33.00      29.00   \n",
       "pct_profitable_trades           74.29      72.73      69.70      75.86   \n",
       "trades_per_year                  0.38       0.36       0.36       0.32   \n",
       "avg_points                      84.37      86.97      79.18      84.88   \n",
       "\n",
       "                                   80         85         90        95  \n",
       "annual_return_rate               5.20       5.34       5.35      5.11  \n",
       "ending_balance             1028569.78 1161090.66 1171332.08 950491.91  \n",
       "max_closed_out_drawdown        -47.54     -47.54     -50.32    -52.65  \n",
       "drawdown_annualized_return      -9.14      -8.90      -9.40    -10.30  \n",
       "drawdown_recovery               -3.59      -3.59      -3.59     -3.59  \n",
       "best_month                      22.41      22.41      22.42     22.42  \n",
       "worst_month                    -31.47     -31.45     -31.46    -31.45  \n",
       "sharpe_ratio                     0.46       0.47       0.47      0.45  \n",
       "sortino_ratio                    0.46       0.47       0.48      0.46  \n",
       "monthly_std                      3.54       3.57       3.58      3.64  \n",
       "pct_time_in_market              69.35      70.55      70.77     72.68  \n",
       "total_num_trades                28.00      26.00      24.00     23.00  \n",
       "pct_profitable_trades           75.00      80.77      83.33     82.61  \n",
       "trades_per_year                  0.31       0.28       0.26      0.25  \n",
       "avg_points                      83.17      95.16      92.64     88.18  "
      ]
     },
     "execution_count": 6,
     "metadata": {},
     "output_type": "execute_result"
    }
   ],
   "source": [
    "metrics = ('annual_return_rate',\n",
    "           'ending_balance',\n",
    "           'max_closed_out_drawdown',\n",
    "           'drawdown_annualized_return',\n",
    "           'drawdown_recovery',\n",
    "           'best_month',\n",
    "           'worst_month',\n",
    "           'sharpe_ratio',\n",
    "           'sortino_ratio',\n",
    "           'monthly_std',\n",
    "           'pct_time_in_market',\n",
    "           'total_num_trades',\n",
    "           'pct_profitable_trades',\n",
    "           'trades_per_year',\n",
    "           'avg_points')\n",
    "\n",
    "df = strategy.summary(strategies, *metrics)\n",
    "df"
   ]
  },
  {
   "cell_type": "markdown",
   "metadata": {},
   "source": [
    "Bar graphs"
   ]
  },
  {
   "cell_type": "code",
   "execution_count": 7,
   "metadata": {
    "ExecuteTime": {
     "end_time": "2020-02-17T03:46:50.364654Z",
     "start_time": "2020-02-17T03:46:49.205654Z"
    }
   },
   "outputs": [
    {
     "data": {
      "image/png": "[encoded data removed]",
      "text/plain": [
       "<Figure size 720x504 with 1 Axes>"
      ]
     },
     "metadata": {
      "needs_background": "light"
     },
     "output_type": "display_data"
    },
    {
     "data": {
      "image/png": "[encoded data removed]",
      "text/plain": [
       "<Figure size 720x504 with 1 Axes>"
      ]
     },
     "metadata": {
      "needs_background": "light"
     },
     "output_type": "display_data"
    },
    {
     "data": {
      "image/png": "[encoded data removed]",
      "text/plain": [
       "<Figure size 720x504 with 1 Axes>"
      ]
     },
     "metadata": {
      "needs_background": "light"
     },
     "output_type": "display_data"
    },
    {
     "data": {
      "image/png": "[encoded data removed]",
      "text/plain": [
       "<Figure size 720x504 with 1 Axes>"
      ]
     },
     "metadata": {
      "needs_background": "light"
     },
     "output_type": "display_data"
    }
   ],
   "source": [
    "strategy.plot_bar_graph(df, 'annual_return_rate')\n",
    "strategy.plot_bar_graph(df, 'ending_balance')\n",
    "strategy.plot_bar_graph(df, 'sharpe_ratio')\n",
    "strategy.plot_bar_graph(df, 'max_closed_out_drawdown')"
   ]
  },
  {
   "cell_type": "markdown",
   "metadata": {},
   "source": [
    "Run Benchmark"
   ]
  },
  {
   "cell_type": "code",
   "execution_count": 8,
   "metadata": {
    "ExecuteTime": {
     "end_time": "2020-02-17T03:46:52.670245Z",
     "start_time": "2020-02-17T03:46:50.374629Z"
    }
   },
   "outputs": [
    {
     "name": "stdout",
     "output_type": "stream",
     "text": [
      "1928-10-16 00:00:00 BUY  460 ^GSPC @ 21.72\n",
      "2020-02-14 00:00:00 SELL 460 ^GSPC @ 3380.16\n"
     ]
    }
   ],
   "source": [
    "s = strategies[bands[0]]\n",
    "benchmark = pf.Benchmark(symbol, capital, s._start, s._end)\n",
    "benchmark.run()\n",
    "benchmark.tlog, benchmark.dbal = benchmark.get_logs()\n",
    "benchmark.stats = benchmark.get_stats()"
   ]
  },
  {
   "cell_type": "markdown",
   "metadata": {},
   "source": [
    "Equity curve"
   ]
  },
  {
   "cell_type": "code",
   "execution_count": 9,
   "metadata": {
    "ExecuteTime": {
     "end_time": "2020-02-17T03:46:52.990701Z",
     "start_time": "2020-02-17T03:46:52.685633Z"
    }
   },
   "outputs": [
    {
     "data": {
      "image/png": "[encoded data removed]",
      "text/plain": [
       "<Figure size 720x504 with 1 Axes>"
      ]
     },
     "metadata": {
      "needs_background": "light"
     },
     "output_type": "display_data"
    }
   ],
   "source": [
    "pf.plot_equity_curve(strategies['35'].dbal, benchmark=benchmark.dbal)"
   ]
  }
 ],
 "metadata": {
  "kernelspec": {
   "display_name": "Python 2",
   "language": "python",
   "name": "python2"
  },
  "language_info": {
   "codemirror_mode": {
    "name": "ipython",
    "version": 2
   },
   "file_extension": ".py",
   "mimetype": "text/x-python",
   "name": "python",
   "nbconvert_exporter": "python",
   "pygments_lexer": "ipython2",
   "version": "2.7.15+"
  },
  "latex_envs": {
   "LaTeX_envs_menu_present": true,
   "autoclose": false,
   "autocomplete": true,
   "bibliofile": "biblio.bib",
   "cite_by": "apalike",
   "current_citInitial": 1,
   "eqLabelWithNumbers": true,
   "eqNumInitial": 1,
   "hotkeys": {
    "equation": "Ctrl-E",
    "itemize": "Ctrl-I"
   },
   "labels_anchors": false,
   "latex_user_defs": false,
   "report_style_numbering": false,
   "user_envs_cfg": false
  }
 },
 "nbformat": 4,
 "nbformat_minor": 1
}
