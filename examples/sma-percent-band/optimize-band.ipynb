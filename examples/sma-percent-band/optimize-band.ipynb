{
 "cells": [
  {
   "cell_type": "markdown",
   "metadata": {},
   "source": [
    "# SMA Percent Band\n",
    "\n",
    "    1. The SPY closes above its upper band, buy\n",
    "    2. If the SPY closes below its lower band, sell your long position.\n",
    "    \n",
    "    (optimize band)"
   ]
  },
  {
   "cell_type": "code",
   "execution_count": 1,
   "metadata": {
    "ExecuteTime": {
     "end_time": "2020-02-17T03:46:05.530713Z",
     "start_time": "2020-02-17T03:46:04.835537Z"
    }
   },
   "outputs": [],
   "source": [
    "# other imports\n",
    "import pandas as pd\n",
    "import matplotlib.pyplot as plt\n",
    "import datetime\n",
    "from talib.abstract import *\n",
    "\n",
    "# project imports\n",
    "import pinkfish as pf\n",
    "import strategy\n",
    "\n",
    "# format price data\n",
    "pd.options.display.float_format = '{:0.2f}'.format\n",
    "\n",
    "%matplotlib inline"
   ]
  },
  {
   "cell_type": "code",
   "execution_count": 2,
   "metadata": {
    "ExecuteTime": {
     "end_time": "2020-02-17T03:46:05.546843Z",
     "start_time": "2020-02-17T03:46:05.540485Z"
    }
   },
   "outputs": [],
   "source": [
    "# set size of inline plots\n",
    "'''note: rcParams can't be in same cell as import matplotlib\n",
    "   or %matplotlib inline\n",
    "   \n",
    "   %matplotlib notebook: will lead to interactive plots embedded within\n",
    "   the notebook, you can zoom and resize the figure\n",
    "   \n",
    "   %matplotlib inline: only draw static images in the notebook\n",
    "'''\n",
    "plt.rcParams[\"figure.figsize\"] = (10, 7)"
   ]
  },
  {
   "cell_type": "markdown",
   "metadata": {},
   "source": [
    "Some global data"
   ]
  },
  {
   "cell_type": "code",
   "execution_count": 3,
   "metadata": {
    "ExecuteTime": {
     "end_time": "2020-02-17T03:46:05.561013Z",
     "start_time": "2020-02-17T03:46:05.550885Z"
    }
   },
   "outputs": [],
   "source": [
    "symbol = '^GSPC'\n",
    "#symbol = 'SPY'\n",
    "#symbol = 'DIA'\n",
    "#symbol = 'QQQ'\n",
    "#symbol = 'IWM'\n",
    "#symbol = 'TLT'\n",
    "#symbol = 'GLD'\n",
    "#symbol = 'AAPL'\n",
    "#symbol = 'BBRY'\n",
    "#symbol = 'GDX'\n",
    "capital = 10000\n",
    "start = datetime.datetime(1900, 1, 1)\n",
    "#start = datetime.datetime.strptime(pf.SP500_BEGIN, '%Y-%m-%d')\n",
    "end = datetime.datetime.now()"
   ]
  },
  {
   "cell_type": "markdown",
   "metadata": {},
   "source": [
    "Define percent bands"
   ]
  },
  {
   "cell_type": "code",
   "execution_count": 4,
   "metadata": {
    "ExecuteTime": {
     "end_time": "2020-02-17T03:46:05.571412Z",
     "start_time": "2020-02-17T03:46:05.565880Z"
    }
   },
   "outputs": [],
   "source": [
    "bands = range(0, 100, 5)\n",
    "bands = [str(band) for band in bands]"
   ]
  },
  {
   "cell_type": "markdown",
   "metadata": {},
   "source": [
    "Run Strategy"
   ]
  },
  {
   "cell_type": "code",
   "execution_count": 5,
   "metadata": {
    "ExecuteTime": {
     "end_time": "2020-02-17T03:46:49.126593Z",
     "start_time": "2020-02-17T03:46:05.580007Z"
    },
    "scrolled": true
   },
   "outputs": [
    {
     "name": "stdout",
     "output_type": "stream",
     "text": [
      "0 5 10 15 20 25 30 35 40 45 50 55 60 65 70 75 80 85 90 95 "
     ]
    }
   ],
   "source": [
    "strategies = pd.Series(dtype=object)\n",
    "for band in bands:\n",
    "    print(\"{0}\".format(band), end=\" \")\n",
    "    strategies[band] = strategy.Strategy(symbol, capital, start, end, sma_period=200, percent_band=int(band)/10)\n",
    "    strategies[band].run()\n",
    "    _, strategies[band].tlog, strategies[band].dbal = strategies[band].get_logs()\n",
    "    strategies[band].stats = strategies[band].get_stats()"
   ]
  },
  {
   "cell_type": "markdown",
   "metadata": {},
   "source": [
    "Summarize results"
   ]
  },
  {
   "cell_type": "code",
   "execution_count": 6,
   "metadata": {
    "ExecuteTime": {
     "end_time": "2020-02-17T03:46:49.201464Z",
     "start_time": "2020-02-17T03:46:49.136917Z"
    },
    "scrolled": false
   },
   "outputs": [
    {
     "data": {
      "text/html": [
       "<div>\n",
       "<style scoped>\n",
       "    .dataframe tbody tr th:only-of-type {\n",
       "        vertical-align: middle;\n",
       "    }\n",
       "\n",
       "    .dataframe tbody tr th {\n",
       "        vertical-align: top;\n",
       "    }\n",
       "\n",
       "    .dataframe thead th {\n",
       "        text-align: right;\n",
       "    }\n",
       "</style>\n",
       "<table border=\"1\" class=\"dataframe\">\n",
       "  <thead>\n",
       "    <tr style=\"text-align: right;\">\n",
       "      <th></th>\n",
       "      <th>0</th>\n",
       "      <th>5</th>\n",
       "      <th>10</th>\n",
       "      <th>15</th>\n",
       "      <th>20</th>\n",
       "      <th>25</th>\n",
       "      <th>30</th>\n",
       "      <th>35</th>\n",
       "      <th>40</th>\n",
       "      <th>45</th>\n",
       "      <th>50</th>\n",
       "      <th>55</th>\n",
       "      <th>60</th>\n",
       "      <th>65</th>\n",
       "      <th>70</th>\n",
       "      <th>75</th>\n",
       "      <th>80</th>\n",
       "      <th>85</th>\n",
       "      <th>90</th>\n",
       "      <th>95</th>\n",
       "    </tr>\n",
       "  </thead>\n",
       "  <tbody>\n",
       "    <tr>\n",
       "      <th>annual_return_rate</th>\n",
       "      <td>6.48</td>\n",
       "      <td>6.38</td>\n",
       "      <td>6.45</td>\n",
       "      <td>6.17</td>\n",
       "      <td>6.18</td>\n",
       "      <td>6.50</td>\n",
       "      <td>6.51</td>\n",
       "      <td>6.46</td>\n",
       "      <td>6.39</td>\n",
       "      <td>6.47</td>\n",
       "      <td>6.39</td>\n",
       "      <td>5.94</td>\n",
       "      <td>5.57</td>\n",
       "      <td>5.43</td>\n",
       "      <td>4.93</td>\n",
       "      <td>5.19</td>\n",
       "      <td>4.95</td>\n",
       "      <td>5.09</td>\n",
       "      <td>5.10</td>\n",
       "      <td>4.86</td>\n",
       "    </tr>\n",
       "    <tr>\n",
       "      <th>ending_balance</th>\n",
       "      <td>3154486.07</td>\n",
       "      <td>2884128.95</td>\n",
       "      <td>3071287.98</td>\n",
       "      <td>2409986.55</td>\n",
       "      <td>2438570.06</td>\n",
       "      <td>3210673.28</td>\n",
       "      <td>3238860.16</td>\n",
       "      <td>3113634.01</td>\n",
       "      <td>2920665.64</td>\n",
       "      <td>3132747.09</td>\n",
       "      <td>2924660.71</td>\n",
       "      <td>1988448.09</td>\n",
       "      <td>1442772.03</td>\n",
       "      <td>1274073.73</td>\n",
       "      <td>824005.68</td>\n",
       "      <td>1029797.91</td>\n",
       "      <td>835955.42</td>\n",
       "      <td>943765.91</td>\n",
       "      <td>952106.53</td>\n",
       "      <td>772450.35</td>\n",
       "    </tr>\n",
       "    <tr>\n",
       "      <th>max_closed_out_drawdown</th>\n",
       "      <td>-51.57</td>\n",
       "      <td>-49.47</td>\n",
       "      <td>-49.46</td>\n",
       "      <td>-55.14</td>\n",
       "      <td>-54.31</td>\n",
       "      <td>-55.76</td>\n",
       "      <td>-57.79</td>\n",
       "      <td>-56.58</td>\n",
       "      <td>-53.61</td>\n",
       "      <td>-54.99</td>\n",
       "      <td>-49.72</td>\n",
       "      <td>-50.56</td>\n",
       "      <td>-50.56</td>\n",
       "      <td>-53.51</td>\n",
       "      <td>-54.49</td>\n",
       "      <td>-47.54</td>\n",
       "      <td>-47.54</td>\n",
       "      <td>-47.54</td>\n",
       "      <td>-50.32</td>\n",
       "      <td>-52.65</td>\n",
       "    </tr>\n",
       "    <tr>\n",
       "      <th>drawdown_annualized_return</th>\n",
       "      <td>-7.96</td>\n",
       "      <td>-7.76</td>\n",
       "      <td>-7.67</td>\n",
       "      <td>-8.94</td>\n",
       "      <td>-8.79</td>\n",
       "      <td>-8.58</td>\n",
       "      <td>-8.88</td>\n",
       "      <td>-8.75</td>\n",
       "      <td>-8.39</td>\n",
       "      <td>-8.50</td>\n",
       "      <td>-7.78</td>\n",
       "      <td>-8.50</td>\n",
       "      <td>-9.07</td>\n",
       "      <td>-9.85</td>\n",
       "      <td>-11.05</td>\n",
       "      <td>-9.17</td>\n",
       "      <td>-9.61</td>\n",
       "      <td>-9.35</td>\n",
       "      <td>-9.87</td>\n",
       "      <td>-10.84</td>\n",
       "    </tr>\n",
       "    <tr>\n",
       "      <th>drawdown_recovery</th>\n",
       "      <td>-3.51</td>\n",
       "      <td>-3.51</td>\n",
       "      <td>-3.51</td>\n",
       "      <td>-3.51</td>\n",
       "      <td>-3.51</td>\n",
       "      <td>-3.51</td>\n",
       "      <td>-3.51</td>\n",
       "      <td>-3.51</td>\n",
       "      <td>-3.51</td>\n",
       "      <td>-3.51</td>\n",
       "      <td>-3.51</td>\n",
       "      <td>-3.42</td>\n",
       "      <td>-3.42</td>\n",
       "      <td>-3.59</td>\n",
       "      <td>-3.59</td>\n",
       "      <td>-3.59</td>\n",
       "      <td>-3.59</td>\n",
       "      <td>-3.59</td>\n",
       "      <td>-3.59</td>\n",
       "      <td>-3.59</td>\n",
       "    </tr>\n",
       "    <tr>\n",
       "      <th>best_month</th>\n",
       "      <td>27.01</td>\n",
       "      <td>27.01</td>\n",
       "      <td>27.01</td>\n",
       "      <td>27.02</td>\n",
       "      <td>27.02</td>\n",
       "      <td>27.01</td>\n",
       "      <td>27.00</td>\n",
       "      <td>27.01</td>\n",
       "      <td>27.01</td>\n",
       "      <td>27.02</td>\n",
       "      <td>27.01</td>\n",
       "      <td>27.02</td>\n",
       "      <td>27.02</td>\n",
       "      <td>22.42</td>\n",
       "      <td>22.41</td>\n",
       "      <td>22.41</td>\n",
       "      <td>22.41</td>\n",
       "      <td>22.41</td>\n",
       "      <td>22.42</td>\n",
       "      <td>22.42</td>\n",
       "    </tr>\n",
       "    <tr>\n",
       "      <th>worst_month</th>\n",
       "      <td>-26.88</td>\n",
       "      <td>-26.88</td>\n",
       "      <td>-26.89</td>\n",
       "      <td>-30.46</td>\n",
       "      <td>-27.07</td>\n",
       "      <td>-27.06</td>\n",
       "      <td>-27.06</td>\n",
       "      <td>-29.72</td>\n",
       "      <td>-29.72</td>\n",
       "      <td>-29.72</td>\n",
       "      <td>-29.72</td>\n",
       "      <td>-31.45</td>\n",
       "      <td>-31.46</td>\n",
       "      <td>-31.45</td>\n",
       "      <td>-31.47</td>\n",
       "      <td>-31.46</td>\n",
       "      <td>-31.47</td>\n",
       "      <td>-31.45</td>\n",
       "      <td>-31.46</td>\n",
       "      <td>-31.45</td>\n",
       "    </tr>\n",
       "    <tr>\n",
       "      <th>sharpe_ratio</th>\n",
       "      <td>0.58</td>\n",
       "      <td>0.57</td>\n",
       "      <td>0.58</td>\n",
       "      <td>0.55</td>\n",
       "      <td>0.56</td>\n",
       "      <td>0.58</td>\n",
       "      <td>0.58</td>\n",
       "      <td>0.57</td>\n",
       "      <td>0.56</td>\n",
       "      <td>0.57</td>\n",
       "      <td>0.56</td>\n",
       "      <td>0.52</td>\n",
       "      <td>0.49</td>\n",
       "      <td>0.48</td>\n",
       "      <td>0.44</td>\n",
       "      <td>0.46</td>\n",
       "      <td>0.44</td>\n",
       "      <td>0.45</td>\n",
       "      <td>0.45</td>\n",
       "      <td>0.43</td>\n",
       "    </tr>\n",
       "    <tr>\n",
       "      <th>sortino_ratio</th>\n",
       "      <td>0.59</td>\n",
       "      <td>0.58</td>\n",
       "      <td>0.59</td>\n",
       "      <td>0.57</td>\n",
       "      <td>0.57</td>\n",
       "      <td>0.59</td>\n",
       "      <td>0.59</td>\n",
       "      <td>0.58</td>\n",
       "      <td>0.57</td>\n",
       "      <td>0.58</td>\n",
       "      <td>0.58</td>\n",
       "      <td>0.52</td>\n",
       "      <td>0.49</td>\n",
       "      <td>0.48</td>\n",
       "      <td>0.44</td>\n",
       "      <td>0.46</td>\n",
       "      <td>0.44</td>\n",
       "      <td>0.45</td>\n",
       "      <td>0.46</td>\n",
       "      <td>0.44</td>\n",
       "    </tr>\n",
       "    <tr>\n",
       "      <th>monthly_std</th>\n",
       "      <td>3.33</td>\n",
       "      <td>3.37</td>\n",
       "      <td>3.37</td>\n",
       "      <td>3.40</td>\n",
       "      <td>3.38</td>\n",
       "      <td>3.37</td>\n",
       "      <td>3.36</td>\n",
       "      <td>3.43</td>\n",
       "      <td>3.40</td>\n",
       "      <td>3.43</td>\n",
       "      <td>3.44</td>\n",
       "      <td>3.55</td>\n",
       "      <td>3.56</td>\n",
       "      <td>3.55</td>\n",
       "      <td>3.58</td>\n",
       "      <td>3.53</td>\n",
       "      <td>3.57</td>\n",
       "      <td>3.60</td>\n",
       "      <td>3.61</td>\n",
       "      <td>3.66</td>\n",
       "    </tr>\n",
       "    <tr>\n",
       "      <th>pct_time_in_market</th>\n",
       "      <td>67.08</td>\n",
       "      <td>66.94</td>\n",
       "      <td>66.60</td>\n",
       "      <td>66.58</td>\n",
       "      <td>66.75</td>\n",
       "      <td>66.36</td>\n",
       "      <td>66.71</td>\n",
       "      <td>67.05</td>\n",
       "      <td>66.31</td>\n",
       "      <td>67.31</td>\n",
       "      <td>68.39</td>\n",
       "      <td>68.57</td>\n",
       "      <td>68.93</td>\n",
       "      <td>69.67</td>\n",
       "      <td>69.25</td>\n",
       "      <td>68.71</td>\n",
       "      <td>69.17</td>\n",
       "      <td>70.37</td>\n",
       "      <td>70.59</td>\n",
       "      <td>72.49</td>\n",
       "    </tr>\n",
       "    <tr>\n",
       "      <th>total_num_trades</th>\n",
       "      <td>278.00</td>\n",
       "      <td>161.00</td>\n",
       "      <td>120.00</td>\n",
       "      <td>93.00</td>\n",
       "      <td>78.00</td>\n",
       "      <td>60.00</td>\n",
       "      <td>54.00</td>\n",
       "      <td>47.00</td>\n",
       "      <td>45.00</td>\n",
       "      <td>41.00</td>\n",
       "      <td>38.00</td>\n",
       "      <td>36.00</td>\n",
       "      <td>36.00</td>\n",
       "      <td>33.00</td>\n",
       "      <td>33.00</td>\n",
       "      <td>29.00</td>\n",
       "      <td>28.00</td>\n",
       "      <td>26.00</td>\n",
       "      <td>24.00</td>\n",
       "      <td>23.00</td>\n",
       "    </tr>\n",
       "    <tr>\n",
       "      <th>pct_profitable_trades</th>\n",
       "      <td>25.90</td>\n",
       "      <td>38.51</td>\n",
       "      <td>43.33</td>\n",
       "      <td>44.09</td>\n",
       "      <td>47.44</td>\n",
       "      <td>56.67</td>\n",
       "      <td>61.11</td>\n",
       "      <td>65.96</td>\n",
       "      <td>66.67</td>\n",
       "      <td>68.29</td>\n",
       "      <td>71.05</td>\n",
       "      <td>75.00</td>\n",
       "      <td>72.22</td>\n",
       "      <td>69.70</td>\n",
       "      <td>66.67</td>\n",
       "      <td>72.41</td>\n",
       "      <td>71.43</td>\n",
       "      <td>76.92</td>\n",
       "      <td>79.17</td>\n",
       "      <td>78.26</td>\n",
       "    </tr>\n",
       "    <tr>\n",
       "      <th>trades_per_year</th>\n",
       "      <td>3.03</td>\n",
       "      <td>1.76</td>\n",
       "      <td>1.31</td>\n",
       "      <td>1.01</td>\n",
       "      <td>0.85</td>\n",
       "      <td>0.65</td>\n",
       "      <td>0.59</td>\n",
       "      <td>0.51</td>\n",
       "      <td>0.49</td>\n",
       "      <td>0.45</td>\n",
       "      <td>0.41</td>\n",
       "      <td>0.39</td>\n",
       "      <td>0.39</td>\n",
       "      <td>0.36</td>\n",
       "      <td>0.36</td>\n",
       "      <td>0.32</td>\n",
       "      <td>0.31</td>\n",
       "      <td>0.28</td>\n",
       "      <td>0.26</td>\n",
       "      <td>0.25</td>\n",
       "    </tr>\n",
       "    <tr>\n",
       "      <th>avg_points</th>\n",
       "      <td>7.76</td>\n",
       "      <td>14.40</td>\n",
       "      <td>18.79</td>\n",
       "      <td>27.06</td>\n",
       "      <td>34.13</td>\n",
       "      <td>48.91</td>\n",
       "      <td>56.39</td>\n",
       "      <td>59.97</td>\n",
       "      <td>59.32</td>\n",
       "      <td>65.99</td>\n",
       "      <td>72.47</td>\n",
       "      <td>69.45</td>\n",
       "      <td>65.50</td>\n",
       "      <td>67.77</td>\n",
       "      <td>59.98</td>\n",
       "      <td>63.03</td>\n",
       "      <td>60.54</td>\n",
       "      <td>70.79</td>\n",
       "      <td>66.24</td>\n",
       "      <td>60.63</td>\n",
       "    </tr>\n",
       "  </tbody>\n",
       "</table>\n",
       "</div>"
      ],
      "text/plain": [
       "                                    0          5         10         15  \\\n",
       "annual_return_rate               6.48       6.38       6.45       6.17   \n",
       "ending_balance             3154486.07 2884128.95 3071287.98 2409986.55   \n",
       "max_closed_out_drawdown        -51.57     -49.47     -49.46     -55.14   \n",
       "drawdown_annualized_return      -7.96      -7.76      -7.67      -8.94   \n",
       "drawdown_recovery               -3.51      -3.51      -3.51      -3.51   \n",
       "best_month                      27.01      27.01      27.01      27.02   \n",
       "worst_month                    -26.88     -26.88     -26.89     -30.46   \n",
       "sharpe_ratio                     0.58       0.57       0.58       0.55   \n",
       "sortino_ratio                    0.59       0.58       0.59       0.57   \n",
       "monthly_std                      3.33       3.37       3.37       3.40   \n",
       "pct_time_in_market              67.08      66.94      66.60      66.58   \n",
       "total_num_trades               278.00     161.00     120.00      93.00   \n",
       "pct_profitable_trades           25.90      38.51      43.33      44.09   \n",
       "trades_per_year                  3.03       1.76       1.31       1.01   \n",
       "avg_points                       7.76      14.40      18.79      27.06   \n",
       "\n",
       "                                   20         25         30         35  \\\n",
       "annual_return_rate               6.18       6.50       6.51       6.46   \n",
       "ending_balance             2438570.06 3210673.28 3238860.16 3113634.01   \n",
       "max_closed_out_drawdown        -54.31     -55.76     -57.79     -56.58   \n",
       "drawdown_annualized_return      -8.79      -8.58      -8.88      -8.75   \n",
       "drawdown_recovery               -3.51      -3.51      -3.51      -3.51   \n",
       "best_month                      27.02      27.01      27.00      27.01   \n",
       "worst_month                    -27.07     -27.06     -27.06     -29.72   \n",
       "sharpe_ratio                     0.56       0.58       0.58       0.57   \n",
       "sortino_ratio                    0.57       0.59       0.59       0.58   \n",
       "monthly_std                      3.38       3.37       3.36       3.43   \n",
       "pct_time_in_market              66.75      66.36      66.71      67.05   \n",
       "total_num_trades                78.00      60.00      54.00      47.00   \n",
       "pct_profitable_trades           47.44      56.67      61.11      65.96   \n",
       "trades_per_year                  0.85       0.65       0.59       0.51   \n",
       "avg_points                      34.13      48.91      56.39      59.97   \n",
       "\n",
       "                                   40         45         50         55  \\\n",
       "annual_return_rate               6.39       6.47       6.39       5.94   \n",
       "ending_balance             2920665.64 3132747.09 2924660.71 1988448.09   \n",
       "max_closed_out_drawdown        -53.61     -54.99     -49.72     -50.56   \n",
       "drawdown_annualized_return      -8.39      -8.50      -7.78      -8.50   \n",
       "drawdown_recovery               -3.51      -3.51      -3.51      -3.42   \n",
       "best_month                      27.01      27.02      27.01      27.02   \n",
       "worst_month                    -29.72     -29.72     -29.72     -31.45   \n",
       "sharpe_ratio                     0.56       0.57       0.56       0.52   \n",
       "sortino_ratio                    0.57       0.58       0.58       0.52   \n",
       "monthly_std                      3.40       3.43       3.44       3.55   \n",
       "pct_time_in_market              66.31      67.31      68.39      68.57   \n",
       "total_num_trades                45.00      41.00      38.00      36.00   \n",
       "pct_profitable_trades           66.67      68.29      71.05      75.00   \n",
       "trades_per_year                  0.49       0.45       0.41       0.39   \n",
       "avg_points                      59.32      65.99      72.47      69.45   \n",
       "\n",
       "                                   60         65        70         75  \\\n",
       "annual_return_rate               5.57       5.43      4.93       5.19   \n",
       "ending_balance             1442772.03 1274073.73 824005.68 1029797.91   \n",
       "max_closed_out_drawdown        -50.56     -53.51    -54.49     -47.54   \n",
       "drawdown_annualized_return      -9.07      -9.85    -11.05      -9.17   \n",
       "drawdown_recovery               -3.42      -3.59     -3.59      -3.59   \n",
       "best_month                      27.02      22.42     22.41      22.41   \n",
       "worst_month                    -31.46     -31.45    -31.47     -31.46   \n",
       "sharpe_ratio                     0.49       0.48      0.44       0.46   \n",
       "sortino_ratio                    0.49       0.48      0.44       0.46   \n",
       "monthly_std                      3.56       3.55      3.58       3.53   \n",
       "pct_time_in_market              68.93      69.67     69.25      68.71   \n",
       "total_num_trades                36.00      33.00     33.00      29.00   \n",
       "pct_profitable_trades           72.22      69.70     66.67      72.41   \n",
       "trades_per_year                  0.39       0.36      0.36       0.32   \n",
       "avg_points                      65.50      67.77     59.98      63.03   \n",
       "\n",
       "                                  80        85        90        95  \n",
       "annual_return_rate              4.95      5.09      5.10      4.86  \n",
       "ending_balance             835955.42 943765.91 952106.53 772450.35  \n",
       "max_closed_out_drawdown       -47.54    -47.54    -50.32    -52.65  \n",
       "drawdown_annualized_return     -9.61     -9.35     -9.87    -10.84  \n",
       "drawdown_recovery              -3.59     -3.59     -3.59     -3.59  \n",
       "best_month                     22.41     22.41     22.42     22.42  \n",
       "worst_month                   -31.47    -31.45    -31.46    -31.45  \n",
       "sharpe_ratio                    0.44      0.45      0.45      0.43  \n",
       "sortino_ratio                   0.44      0.45      0.46      0.44  \n",
       "monthly_std                     3.57      3.60      3.61      3.66  \n",
       "pct_time_in_market             69.17     70.37     70.59     72.49  \n",
       "total_num_trades               28.00     26.00     24.00     23.00  \n",
       "pct_profitable_trades          71.43     76.92     79.17     78.26  \n",
       "trades_per_year                 0.31      0.28      0.26      0.25  \n",
       "avg_points                     60.54     70.79     66.24     60.63  "
      ]
     },
     "execution_count": 6,
     "metadata": {},
     "output_type": "execute_result"
    }
   ],
   "source": [
    "metrics = ('annual_return_rate',\n",
    "           'ending_balance',\n",
    "           'max_closed_out_drawdown',\n",
    "           'drawdown_annualized_return',\n",
    "           'drawdown_recovery',\n",
    "           'best_month',\n",
    "           'worst_month',\n",
    "           'sharpe_ratio',\n",
    "           'sortino_ratio',\n",
    "           'monthly_std',\n",
    "           'pct_time_in_market',\n",
    "           'total_num_trades',\n",
    "           'pct_profitable_trades',\n",
    "           'trades_per_year',\n",
    "           'avg_points')\n",
    "\n",
    "df = strategy.summary(strategies, *metrics)\n",
    "df"
   ]
  },
  {
   "cell_type": "markdown",
   "metadata": {},
   "source": [
    "Bar graphs"
   ]
  },
  {
   "cell_type": "code",
   "execution_count": 7,
   "metadata": {
    "ExecuteTime": {
     "end_time": "2020-02-17T03:46:50.364654Z",
     "start_time": "2020-02-17T03:46:49.205654Z"
    }
   },
   "outputs": [
    {
     "data": {
      "image/png": "[encoded data removed]",
      "text/plain": [
       "<Figure size 720x504 with 1 Axes>"
      ]
     },
     "metadata": {
      "needs_background": "light"
     },
     "output_type": "display_data"
    },
    {
     "data": {
      "image/png": "[encoded data removed]",
      "text/plain": [
       "<Figure size 720x504 with 1 Axes>"
      ]
     },
     "metadata": {
      "needs_background": "light"
     },
     "output_type": "display_data"
    },
    {
     "data": {
      "image/png": "[encoded data removed]",
      "text/plain": [
       "<Figure size 720x504 with 1 Axes>"
      ]
     },
     "metadata": {
      "needs_background": "light"
     },
     "output_type": "display_data"
    },
    {
     "data": {
      "image/png": "[encoded data removed]",
      "text/plain": [
       "<Figure size 720x504 with 1 Axes>"
      ]
     },
     "metadata": {
      "needs_background": "light"
     },
     "output_type": "display_data"
    }
   ],
   "source": [
    "strategy.plot_bar_graph(df, 'annual_return_rate')\n",
    "strategy.plot_bar_graph(df, 'ending_balance')\n",
    "strategy.plot_bar_graph(df, 'sharpe_ratio')\n",
    "strategy.plot_bar_graph(df, 'max_closed_out_drawdown')"
   ]
  },
  {
   "cell_type": "markdown",
   "metadata": {},
   "source": [
    "Run Benchmark"
   ]
  },
  {
   "cell_type": "code",
   "execution_count": 8,
   "metadata": {
    "ExecuteTime": {
     "end_time": "2020-02-17T03:46:52.670245Z",
     "start_time": "2020-02-17T03:46:50.374629Z"
    }
   },
   "outputs": [
    {
     "name": "stdout",
     "output_type": "stream",
     "text": [
      "1928-10-16 00:00:00 BUY  460 ^GSPC @ 21.72\n",
      "2020-06-08 00:00:00 SELL 460 ^GSPC @ 3232.39\n"
     ]
    }
   ],
   "source": [
    "s = strategies[bands[0]]\n",
    "benchmark = pf.Benchmark(symbol, capital, s._start, s._end)\n",
    "benchmark.run()\n",
    "benchmark.tlog, benchmark.dbal = benchmark.get_logs()\n",
    "benchmark.stats = benchmark.get_stats()"
   ]
  },
  {
   "cell_type": "markdown",
   "metadata": {},
   "source": [
    "Equity curve"
   ]
  },
  {
   "cell_type": "code",
   "execution_count": 9,
   "metadata": {
    "ExecuteTime": {
     "end_time": "2020-02-17T03:46:52.990701Z",
     "start_time": "2020-02-17T03:46:52.685633Z"
    }
   },
   "outputs": [
    {
     "data": {
      "image/png": "[encoded data removed]",
      "text/plain": [
       "<Figure size 720x504 with 1 Axes>"
      ]
     },
     "metadata": {
      "needs_background": "light"
     },
     "output_type": "display_data"
    }
   ],
   "source": [
    "pf.plot_equity_curve(strategies['35'].dbal, benchmark=benchmark.dbal)"
   ]
  }
 ],
 "metadata": {
  "kernelspec": {
   "display_name": "Python 3",
   "language": "python",
   "name": "python3"
  },
  "language_info": {
   "codemirror_mode": {
    "name": "ipython",
    "version": 3
   },
   "file_extension": ".py",
   "mimetype": "text/x-python",
   "name": "python",
   "nbconvert_exporter": "python",
   "pygments_lexer": "ipython3",
   "version": "3.8.2"
  },
  "latex_envs": {
   "LaTeX_envs_menu_present": true,
   "autoclose": false,
   "autocomplete": true,
   "bibliofile": "biblio.bib",
   "cite_by": "apalike",
   "current_citInitial": 1,
   "eqLabelWithNumbers": true,
   "eqNumInitial": 1,
   "hotkeys": {
    "equation": "Ctrl-E",
    "itemize": "Ctrl-I"
   },
   "labels_anchors": false,
   "latex_user_defs": false,
   "report_style_numbering": false,
   "user_envs_cfg": false
  }
 },
 "nbformat": 4,
 "nbformat_minor": 1
}
