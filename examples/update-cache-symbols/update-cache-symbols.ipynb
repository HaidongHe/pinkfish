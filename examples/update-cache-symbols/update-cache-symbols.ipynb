{
 "cells": [
  {
   "cell_type": "markdown",
   "metadata": {},
   "source": [
    "# Update Cache Symbols\n",
    "\n",
    "A useful utility for demonstating the use of the update/remove cache symbols functions.\n",
    "    "
   ]
  },
  {
   "cell_type": "code",
   "execution_count": 1,
   "metadata": {
    "ExecuteTime": {
     "end_time": "2020-02-15T23:14:35.785032Z",
     "start_time": "2020-02-15T23:14:34.966914Z"
    }
   },
   "outputs": [],
   "source": [
    "# use future imports for python 3.x forward compatibility\n",
    "from __future__ import print_function\n",
    "from __future__ import unicode_literals\n",
    "from __future__ import division\n",
    "from __future__ import absolute_import\n",
    "\n",
    "# other imports\n",
    "import pandas as pd\n",
    "\n",
    "# project imports\n",
    "import pinkfish as pf"
   ]
  },
  {
   "cell_type": "markdown",
   "metadata": {},
   "source": [
    "Update time series for the symbols below.  \n",
    "Time series will be fetched for any symbols not already cached."
   ]
  },
  {
   "cell_type": "code",
   "execution_count": 2,
   "metadata": {
    "ExecuteTime": {
     "end_time": "2020-02-15T23:14:39.514651Z",
     "start_time": "2020-02-15T23:14:35.794760Z"
    }
   },
   "outputs": [
    {
     "name": "stdout",
     "output_type": "stream",
     "text": [
      "updating symbols:\n",
      "MSFT ORCL TSLA \n"
     ]
    }
   ],
   "source": [
    "pf.update_cache_symbols(symbols=['msft', 'orcl', 'tsla'])"
   ]
  },
  {
   "cell_type": "markdown",
   "metadata": {},
   "source": [
    "Remove the time series for TSLA"
   ]
  },
  {
   "cell_type": "code",
   "execution_count": 3,
   "metadata": {
    "ExecuteTime": {
     "end_time": "2020-02-15T23:14:39.535037Z",
     "start_time": "2020-02-15T23:14:39.521363Z"
    }
   },
   "outputs": [
    {
     "name": "stdout",
     "output_type": "stream",
     "text": [
      "removing symbols:\n",
      "TSLA \n"
     ]
    }
   ],
   "source": [
    "pf.remove_cache_symbols(symbols=['tsla'])"
   ]
  },
  {
   "cell_type": "markdown",
   "metadata": {},
   "source": [
    "Update time series for all symbols in the cache directory"
   ]
  },
  {
   "cell_type": "code",
   "execution_count": 4,
   "metadata": {
    "ExecuteTime": {
     "end_time": "2020-02-15T23:16:05.937873Z",
     "start_time": "2020-02-15T23:14:39.540755Z"
    }
   },
   "outputs": [
    {
     "name": "stdout",
     "output_type": "stream",
     "text": [
      "updating symbols:\n",
      "MSFT OIL DIS NUE XHB RDS-B MCD PM BUD BMY DOV \n",
      "XLB CLX CL ADP PG ROKU KMI EEM BRK-B DAX \n",
      "XLV MRK VZ XLP IWM UL V XLU GIS GLD \n",
      "KO BTI SO ^GSPC SHY LMT ^DJI JNJ OIH SPY \n",
      "T XLY QQQ HSY GDX INTC KMB XLE XLI MO \n",
      "HD SH XOM XLK TLT SDS HRL XLF AAPL RSP \n",
      "ORCL LLY CMCSA K \n"
     ]
    }
   ],
   "source": [
    "pf.update_cache_symbols()"
   ]
  },
  {
   "cell_type": "markdown",
   "metadata": {},
   "source": [
    "Remove time series for all symbols in the cache directory"
   ]
  },
  {
   "cell_type": "code",
   "execution_count": 5,
   "metadata": {
    "ExecuteTime": {
     "end_time": "2020-02-15T23:16:05.951276Z",
     "start_time": "2020-02-15T23:16:05.941884Z"
    }
   },
   "outputs": [],
   "source": [
    "# WARNING!!! - if you uncomment the line below, you'll wipe out\n",
    "# all the symbols in your cache directory\n",
    "#pf.remove_cache_symbols()"
   ]
  }
 ],
 "metadata": {
  "kernelspec": {
   "display_name": "Python 2",
   "language": "python",
   "name": "python2"
  },
  "language_info": {
   "codemirror_mode": {
    "name": "ipython",
    "version": 2
   },
   "file_extension": ".py",
   "mimetype": "text/x-python",
   "name": "python",
   "nbconvert_exporter": "python",
   "pygments_lexer": "ipython2",
   "version": "2.7.15+"
  },
  "latex_envs": {
   "LaTeX_envs_menu_present": true,
   "autoclose": false,
   "autocomplete": true,
   "bibliofile": "biblio.bib",
   "cite_by": "apalike",
   "current_citInitial": 1,
   "eqLabelWithNumbers": true,
   "eqNumInitial": 1,
   "hotkeys": {
    "equation": "Ctrl-E",
    "itemize": "Ctrl-I"
   },
   "labels_anchors": false,
   "latex_user_defs": false,
   "report_style_numbering": false,
   "user_envs_cfg": false
  }
 },
 "nbformat": 4,
 "nbformat_minor": 1
}
