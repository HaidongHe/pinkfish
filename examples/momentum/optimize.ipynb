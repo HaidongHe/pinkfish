{
 "cells": [
  {
   "cell_type": "markdown",
   "metadata": {},
   "source": [
    "# Momentum\n",
    "\n",
    "    1. The SPY is higher than X days ago, buy\n",
    "    2. If the SPY is lower than X days ago, sell your long position.\n",
    "    \n",
    "    (optimize for number of days)"
   ]
  },
  {
   "cell_type": "code",
   "execution_count": 1,
   "metadata": {
    "ExecuteTime": {
     "end_time": "2020-02-17T00:14:54.849277Z",
     "start_time": "2020-02-17T00:14:53.518623Z"
    }
   },
   "outputs": [],
   "source": [
    "# use future imports for python 3.x forward compatibility\n",
    "from __future__ import print_function\n",
    "from __future__ import unicode_literals\n",
    "from __future__ import division\n",
    "from __future__ import absolute_import\n",
    "\n",
    "# other imports\n",
    "import pandas as pd\n",
    "import matplotlib.pyplot as plt\n",
    "import datetime\n",
    "from talib.abstract import *\n",
    "\n",
    "# project imports\n",
    "import pinkfish as pf\n",
    "import strategy\n",
    "\n",
    "# format price data\n",
    "pd.options.display.float_format = '{:0.2f}'.format\n",
    "\n",
    "%matplotlib inline"
   ]
  },
  {
   "cell_type": "code",
   "execution_count": 2,
   "metadata": {
    "ExecuteTime": {
     "end_time": "2020-02-17T00:14:54.865248Z",
     "start_time": "2020-02-17T00:14:54.854421Z"
    }
   },
   "outputs": [],
   "source": [
    "# set size of inline plots\n",
    "'''note: rcParams can't be in same cell as import matplotlib\n",
    "   or %matplotlib inline\n",
    "   \n",
    "   %matplotlib notebook: will lead to interactive plots embedded within\n",
    "   the notebook, you can zoom and resize the figure\n",
    "   \n",
    "   %matplotlib inline: only draw static images in the notebook\n",
    "'''\n",
    "plt.rcParams[\"figure.figsize\"] = (10, 7)"
   ]
  },
  {
   "cell_type": "markdown",
   "metadata": {},
   "source": [
    "Some global data"
   ]
  },
  {
   "cell_type": "code",
   "execution_count": 3,
   "metadata": {
    "ExecuteTime": {
     "end_time": "2020-02-17T00:14:54.890905Z",
     "start_time": "2020-02-17T00:14:54.873854Z"
    }
   },
   "outputs": [],
   "source": [
    "#symbol = '^GSPC'\n",
    "symbol = 'SPY'\n",
    "#symbol = 'DIA'\n",
    "#symbol = 'QQQ'\n",
    "#symbol = 'IWM'\n",
    "#symbol = 'TLT'\n",
    "#symbol = 'GLD'\n",
    "#symbol = 'AAPL'\n",
    "#symbol = 'BBRY'\n",
    "#symbol = 'GDX'\n",
    "capital = 10000\n",
    "start = datetime.datetime(1900, 1, 1)\n",
    "start = datetime.datetime.strptime(pf.SP500_BEGIN, '%Y-%m-%d')\n",
    "#end = datetime.datetime(2010, 12, 1)\n",
    "end = datetime.datetime.now()"
   ]
  },
  {
   "cell_type": "markdown",
   "metadata": {},
   "source": [
    "Define lookback period"
   ]
  },
  {
   "cell_type": "code",
   "execution_count": 4,
   "metadata": {
    "ExecuteTime": {
     "end_time": "2020-02-17T00:14:54.904691Z",
     "start_time": "2020-02-17T00:14:54.895141Z"
    }
   },
   "outputs": [],
   "source": [
    "TRADING_DAYS_PER_MONTH = 21\n",
    "TRADING_DAYS_PER_YEAR = 252\n",
    "periods = range(TRADING_DAYS_PER_MONTH*3, TRADING_DAYS_PER_MONTH*19, TRADING_DAYS_PER_MONTH)\n",
    "periods = [str(period) for period in periods]"
   ]
  },
  {
   "cell_type": "markdown",
   "metadata": {},
   "source": [
    "Run Strategy"
   ]
  },
  {
   "cell_type": "code",
   "execution_count": 5,
   "metadata": {
    "ExecuteTime": {
     "end_time": "2020-02-17T00:15:13.211703Z",
     "start_time": "2020-02-17T00:14:54.911026Z"
    }
   },
   "outputs": [
    {
     "name": "stdout",
     "output_type": "stream",
     "text": [
      "63 84 105 126 147 168 189 210 231 252 273 294 315 336 357 378 "
     ]
    }
   ],
   "source": [
    "strategies = pd.Series(dtype=object)\n",
    "for period in periods:\n",
    "    print(\"{0}\".format(period), end=\" \")\n",
    "    strategies[period] = strategy.Strategy(symbol, capital, start, end, period=int(period))\n",
    "    strategies[period].run()\n",
    "    strategies[period].tlog, strategies[period].dbal = strategies[period].get_logs()\n",
    "    strategies[period].stats = strategies[period].get_stats()"
   ]
  },
  {
   "cell_type": "markdown",
   "metadata": {},
   "source": [
    "Summarize results"
   ]
  },
  {
   "cell_type": "code",
   "execution_count": 6,
   "metadata": {
    "ExecuteTime": {
     "end_time": "2020-02-17T00:15:13.286091Z",
     "start_time": "2020-02-17T00:15:13.222890Z"
    },
    "scrolled": false
   },
   "outputs": [
    {
     "data": {
      "text/html": [
       "<div>\n",
       "<style scoped>\n",
       "    .dataframe tbody tr th:only-of-type {\n",
       "        vertical-align: middle;\n",
       "    }\n",
       "\n",
       "    .dataframe tbody tr th {\n",
       "        vertical-align: top;\n",
       "    }\n",
       "\n",
       "    .dataframe thead th {\n",
       "        text-align: right;\n",
       "    }\n",
       "</style>\n",
       "<table border=\"1\" class=\"dataframe\">\n",
       "  <thead>\n",
       "    <tr style=\"text-align: right;\">\n",
       "      <th></th>\n",
       "      <th>63</th>\n",
       "      <th>84</th>\n",
       "      <th>105</th>\n",
       "      <th>126</th>\n",
       "      <th>147</th>\n",
       "      <th>168</th>\n",
       "      <th>189</th>\n",
       "      <th>210</th>\n",
       "      <th>231</th>\n",
       "      <th>252</th>\n",
       "      <th>273</th>\n",
       "      <th>294</th>\n",
       "      <th>315</th>\n",
       "      <th>336</th>\n",
       "      <th>357</th>\n",
       "      <th>378</th>\n",
       "    </tr>\n",
       "  </thead>\n",
       "  <tbody>\n",
       "    <tr>\n",
       "      <th>annual_return_rate</th>\n",
       "      <td>7.91</td>\n",
       "      <td>7.11</td>\n",
       "      <td>7.89</td>\n",
       "      <td>7.97</td>\n",
       "      <td>8.45</td>\n",
       "      <td>7.67</td>\n",
       "      <td>7.81</td>\n",
       "      <td>8.39</td>\n",
       "      <td>8.13</td>\n",
       "      <td>8.59</td>\n",
       "      <td>8.71</td>\n",
       "      <td>7.93</td>\n",
       "      <td>8.30</td>\n",
       "      <td>8.71</td>\n",
       "      <td>8.62</td>\n",
       "      <td>8.06</td>\n",
       "    </tr>\n",
       "    <tr>\n",
       "      <th>max_closed_out_drawdown</th>\n",
       "      <td>-18.17</td>\n",
       "      <td>-33.71</td>\n",
       "      <td>-33.64</td>\n",
       "      <td>-33.68</td>\n",
       "      <td>-33.70</td>\n",
       "      <td>-33.72</td>\n",
       "      <td>-33.66</td>\n",
       "      <td>-33.66</td>\n",
       "      <td>-33.70</td>\n",
       "      <td>-33.65</td>\n",
       "      <td>-33.66</td>\n",
       "      <td>-33.66</td>\n",
       "      <td>-33.70</td>\n",
       "      <td>-33.66</td>\n",
       "      <td>-33.71</td>\n",
       "      <td>-33.71</td>\n",
       "    </tr>\n",
       "    <tr>\n",
       "      <th>drawdown_annualized_return</th>\n",
       "      <td>-2.30</td>\n",
       "      <td>-4.74</td>\n",
       "      <td>-4.27</td>\n",
       "      <td>-4.23</td>\n",
       "      <td>-3.99</td>\n",
       "      <td>-4.40</td>\n",
       "      <td>-4.31</td>\n",
       "      <td>-4.01</td>\n",
       "      <td>-4.15</td>\n",
       "      <td>-3.92</td>\n",
       "      <td>-3.86</td>\n",
       "      <td>-4.24</td>\n",
       "      <td>-4.06</td>\n",
       "      <td>-3.86</td>\n",
       "      <td>-3.91</td>\n",
       "      <td>-4.18</td>\n",
       "    </tr>\n",
       "    <tr>\n",
       "      <th>drawdown_recovery</th>\n",
       "      <td>-3.54</td>\n",
       "      <td>-0.09</td>\n",
       "      <td>-0.09</td>\n",
       "      <td>-0.09</td>\n",
       "      <td>-0.09</td>\n",
       "      <td>-0.09</td>\n",
       "      <td>-0.09</td>\n",
       "      <td>-0.09</td>\n",
       "      <td>-0.09</td>\n",
       "      <td>-0.09</td>\n",
       "      <td>-0.09</td>\n",
       "      <td>-0.09</td>\n",
       "      <td>-0.09</td>\n",
       "      <td>-0.09</td>\n",
       "      <td>-0.09</td>\n",
       "      <td>-0.09</td>\n",
       "    </tr>\n",
       "    <tr>\n",
       "      <th>best_month</th>\n",
       "      <td>15.03</td>\n",
       "      <td>15.46</td>\n",
       "      <td>15.43</td>\n",
       "      <td>15.43</td>\n",
       "      <td>15.44</td>\n",
       "      <td>15.44</td>\n",
       "      <td>17.79</td>\n",
       "      <td>17.79</td>\n",
       "      <td>17.79</td>\n",
       "      <td>17.79</td>\n",
       "      <td>17.79</td>\n",
       "      <td>17.79</td>\n",
       "      <td>23.06</td>\n",
       "      <td>17.79</td>\n",
       "      <td>17.79</td>\n",
       "      <td>17.79</td>\n",
       "    </tr>\n",
       "    <tr>\n",
       "      <th>worst_month</th>\n",
       "      <td>-11.23</td>\n",
       "      <td>-30.98</td>\n",
       "      <td>-30.92</td>\n",
       "      <td>-30.95</td>\n",
       "      <td>-30.97</td>\n",
       "      <td>-30.99</td>\n",
       "      <td>-30.93</td>\n",
       "      <td>-30.93</td>\n",
       "      <td>-30.97</td>\n",
       "      <td>-30.92</td>\n",
       "      <td>-30.93</td>\n",
       "      <td>-30.94</td>\n",
       "      <td>-30.97</td>\n",
       "      <td>-30.93</td>\n",
       "      <td>-30.98</td>\n",
       "      <td>-30.98</td>\n",
       "    </tr>\n",
       "    <tr>\n",
       "      <th>sharpe_ratio</th>\n",
       "      <td>0.74</td>\n",
       "      <td>0.62</td>\n",
       "      <td>0.66</td>\n",
       "      <td>0.66</td>\n",
       "      <td>0.68</td>\n",
       "      <td>0.63</td>\n",
       "      <td>0.63</td>\n",
       "      <td>0.67</td>\n",
       "      <td>0.65</td>\n",
       "      <td>0.68</td>\n",
       "      <td>0.69</td>\n",
       "      <td>0.63</td>\n",
       "      <td>0.65</td>\n",
       "      <td>0.68</td>\n",
       "      <td>0.68</td>\n",
       "      <td>0.63</td>\n",
       "    </tr>\n",
       "    <tr>\n",
       "      <th>sortino_ratio</th>\n",
       "      <td>0.83</td>\n",
       "      <td>0.67</td>\n",
       "      <td>0.71</td>\n",
       "      <td>0.72</td>\n",
       "      <td>0.75</td>\n",
       "      <td>0.69</td>\n",
       "      <td>0.70</td>\n",
       "      <td>0.74</td>\n",
       "      <td>0.72</td>\n",
       "      <td>0.76</td>\n",
       "      <td>0.77</td>\n",
       "      <td>0.71</td>\n",
       "      <td>0.74</td>\n",
       "      <td>0.77</td>\n",
       "      <td>0.76</td>\n",
       "      <td>0.72</td>\n",
       "    </tr>\n",
       "    <tr>\n",
       "      <th>monthly_std</th>\n",
       "      <td>2.89</td>\n",
       "      <td>3.30</td>\n",
       "      <td>3.35</td>\n",
       "      <td>3.41</td>\n",
       "      <td>3.42</td>\n",
       "      <td>3.42</td>\n",
       "      <td>3.47</td>\n",
       "      <td>3.47</td>\n",
       "      <td>3.50</td>\n",
       "      <td>3.51</td>\n",
       "      <td>3.49</td>\n",
       "      <td>3.52</td>\n",
       "      <td>3.63</td>\n",
       "      <td>3.56</td>\n",
       "      <td>3.54</td>\n",
       "      <td>3.58</td>\n",
       "    </tr>\n",
       "    <tr>\n",
       "      <th>pct_time_in_market</th>\n",
       "      <td>70.85</td>\n",
       "      <td>73.89</td>\n",
       "      <td>76.22</td>\n",
       "      <td>77.75</td>\n",
       "      <td>78.71</td>\n",
       "      <td>78.69</td>\n",
       "      <td>79.70</td>\n",
       "      <td>79.70</td>\n",
       "      <td>80.96</td>\n",
       "      <td>80.37</td>\n",
       "      <td>80.97</td>\n",
       "      <td>80.25</td>\n",
       "      <td>81.79</td>\n",
       "      <td>81.63</td>\n",
       "      <td>80.91</td>\n",
       "      <td>81.54</td>\n",
       "    </tr>\n",
       "    <tr>\n",
       "      <th>total_num_trades</th>\n",
       "      <td>33.00</td>\n",
       "      <td>27.00</td>\n",
       "      <td>20.00</td>\n",
       "      <td>16.00</td>\n",
       "      <td>13.00</td>\n",
       "      <td>14.00</td>\n",
       "      <td>12.00</td>\n",
       "      <td>8.00</td>\n",
       "      <td>9.00</td>\n",
       "      <td>9.00</td>\n",
       "      <td>8.00</td>\n",
       "      <td>9.00</td>\n",
       "      <td>7.00</td>\n",
       "      <td>6.00</td>\n",
       "      <td>6.00</td>\n",
       "      <td>5.00</td>\n",
       "    </tr>\n",
       "    <tr>\n",
       "      <th>pct_profitable_trades</th>\n",
       "      <td>69.70</td>\n",
       "      <td>62.96</td>\n",
       "      <td>60.00</td>\n",
       "      <td>62.50</td>\n",
       "      <td>61.54</td>\n",
       "      <td>71.43</td>\n",
       "      <td>50.00</td>\n",
       "      <td>75.00</td>\n",
       "      <td>66.67</td>\n",
       "      <td>77.78</td>\n",
       "      <td>62.50</td>\n",
       "      <td>77.78</td>\n",
       "      <td>57.14</td>\n",
       "      <td>66.67</td>\n",
       "      <td>66.67</td>\n",
       "      <td>60.00</td>\n",
       "    </tr>\n",
       "    <tr>\n",
       "      <th>avg_points</th>\n",
       "      <td>5.93</td>\n",
       "      <td>6.04</td>\n",
       "      <td>8.94</td>\n",
       "      <td>11.05</td>\n",
       "      <td>15.29</td>\n",
       "      <td>11.85</td>\n",
       "      <td>13.72</td>\n",
       "      <td>22.41</td>\n",
       "      <td>20.47</td>\n",
       "      <td>22.46</td>\n",
       "      <td>25.97</td>\n",
       "      <td>21.10</td>\n",
       "      <td>19.76</td>\n",
       "      <td>35.87</td>\n",
       "      <td>37.72</td>\n",
       "      <td>42.87</td>\n",
       "    </tr>\n",
       "  </tbody>\n",
       "</table>\n",
       "</div>"
      ],
      "text/plain": [
       "                               63     84    105    126    147    168    189  \\\n",
       "annual_return_rate           7.91   7.11   7.89   7.97   8.45   7.67   7.81   \n",
       "max_closed_out_drawdown    -18.17 -33.71 -33.64 -33.68 -33.70 -33.72 -33.66   \n",
       "drawdown_annualized_return  -2.30  -4.74  -4.27  -4.23  -3.99  -4.40  -4.31   \n",
       "drawdown_recovery           -3.54  -0.09  -0.09  -0.09  -0.09  -0.09  -0.09   \n",
       "best_month                  15.03  15.46  15.43  15.43  15.44  15.44  17.79   \n",
       "worst_month                -11.23 -30.98 -30.92 -30.95 -30.97 -30.99 -30.93   \n",
       "sharpe_ratio                 0.74   0.62   0.66   0.66   0.68   0.63   0.63   \n",
       "sortino_ratio                0.83   0.67   0.71   0.72   0.75   0.69   0.70   \n",
       "monthly_std                  2.89   3.30   3.35   3.41   3.42   3.42   3.47   \n",
       "pct_time_in_market          70.85  73.89  76.22  77.75  78.71  78.69  79.70   \n",
       "total_num_trades            33.00  27.00  20.00  16.00  13.00  14.00  12.00   \n",
       "pct_profitable_trades       69.70  62.96  60.00  62.50  61.54  71.43  50.00   \n",
       "avg_points                   5.93   6.04   8.94  11.05  15.29  11.85  13.72   \n",
       "\n",
       "                              210    231    252    273    294    315    336  \\\n",
       "annual_return_rate           8.39   8.13   8.59   8.71   7.93   8.30   8.71   \n",
       "max_closed_out_drawdown    -33.66 -33.70 -33.65 -33.66 -33.66 -33.70 -33.66   \n",
       "drawdown_annualized_return  -4.01  -4.15  -3.92  -3.86  -4.24  -4.06  -3.86   \n",
       "drawdown_recovery           -0.09  -0.09  -0.09  -0.09  -0.09  -0.09  -0.09   \n",
       "best_month                  17.79  17.79  17.79  17.79  17.79  23.06  17.79   \n",
       "worst_month                -30.93 -30.97 -30.92 -30.93 -30.94 -30.97 -30.93   \n",
       "sharpe_ratio                 0.67   0.65   0.68   0.69   0.63   0.65   0.68   \n",
       "sortino_ratio                0.74   0.72   0.76   0.77   0.71   0.74   0.77   \n",
       "monthly_std                  3.47   3.50   3.51   3.49   3.52   3.63   3.56   \n",
       "pct_time_in_market          79.70  80.96  80.37  80.97  80.25  81.79  81.63   \n",
       "total_num_trades             8.00   9.00   9.00   8.00   9.00   7.00   6.00   \n",
       "pct_profitable_trades       75.00  66.67  77.78  62.50  77.78  57.14  66.67   \n",
       "avg_points                  22.41  20.47  22.46  25.97  21.10  19.76  35.87   \n",
       "\n",
       "                              357    378  \n",
       "annual_return_rate           8.62   8.06  \n",
       "max_closed_out_drawdown    -33.71 -33.71  \n",
       "drawdown_annualized_return  -3.91  -4.18  \n",
       "drawdown_recovery           -0.09  -0.09  \n",
       "best_month                  17.79  17.79  \n",
       "worst_month                -30.98 -30.98  \n",
       "sharpe_ratio                 0.68   0.63  \n",
       "sortino_ratio                0.76   0.72  \n",
       "monthly_std                  3.54   3.58  \n",
       "pct_time_in_market          80.91  81.54  \n",
       "total_num_trades             6.00   5.00  \n",
       "pct_profitable_trades       66.67  60.00  \n",
       "avg_points                  37.72  42.87  "
      ]
     },
     "execution_count": 6,
     "metadata": {},
     "output_type": "execute_result"
    }
   ],
   "source": [
    "metrics = ('annual_return_rate',\n",
    "           'max_closed_out_drawdown',\n",
    "           'drawdown_annualized_return',\n",
    "           'drawdown_recovery',\n",
    "           'best_month',\n",
    "           'worst_month',\n",
    "           'sharpe_ratio',\n",
    "           'sortino_ratio',\n",
    "           'monthly_std',\n",
    "           'pct_time_in_market',\n",
    "           'total_num_trades',\n",
    "           'pct_profitable_trades',\n",
    "           'avg_points')\n",
    "\n",
    "df = strategy.summary(strategies, *metrics)\n",
    "df"
   ]
  },
  {
   "cell_type": "markdown",
   "metadata": {},
   "source": [
    "Bar graphs"
   ]
  },
  {
   "cell_type": "code",
   "execution_count": 7,
   "metadata": {
    "ExecuteTime": {
     "end_time": "2020-02-17T00:15:14.155474Z",
     "start_time": "2020-02-17T00:15:13.291988Z"
    }
   },
   "outputs": [
    {
     "data": {
      "image/png": "[encoded data removed]",
      "text/plain": [
       "<Figure size 720x504 with 1 Axes>"
      ]
     },
     "metadata": {
      "needs_background": "light"
     },
     "output_type": "display_data"
    },
    {
     "data": {
      "image/png": "[encoded data removed]",
      "text/plain": [
       "<Figure size 720x504 with 1 Axes>"
      ]
     },
     "metadata": {
      "needs_background": "light"
     },
     "output_type": "display_data"
    },
    {
     "data": {
      "image/png": "[encoded data removed]",
      "text/plain": [
       "<Figure size 720x504 with 1 Axes>"
      ]
     },
     "metadata": {
      "needs_background": "light"
     },
     "output_type": "display_data"
    }
   ],
   "source": [
    "strategy.plot_bar_graph(df, 'annual_return_rate')\n",
    "strategy.plot_bar_graph(df, 'sharpe_ratio')\n",
    "strategy.plot_bar_graph(df, 'max_closed_out_drawdown')"
   ]
  },
  {
   "cell_type": "markdown",
   "metadata": {},
   "source": [
    "Run Benchmark"
   ]
  },
  {
   "cell_type": "code",
   "execution_count": 8,
   "metadata": {
    "ExecuteTime": {
     "end_time": "2020-02-17T00:15:14.992411Z",
     "start_time": "2020-02-17T00:15:14.162453Z"
    }
   },
   "outputs": [
    {
     "name": "stdout",
     "output_type": "stream",
     "text": [
      "1995-01-27 00:00:00 BUY  212 SPY @ 47.11\n",
      "2020-04-23 00:00:00 SELL 212 SPY @ 279.08\n"
     ]
    }
   ],
   "source": [
    "s = strategies[periods[0]]\n",
    "benchmark = pf.Benchmark(symbol, capital, s._start, s._end)\n",
    "benchmark.run()\n",
    "benchmark.tlog, benchmark.dbal = benchmark.get_logs()\n",
    "benchmark.stats = benchmark.get_stats()"
   ]
  },
  {
   "cell_type": "markdown",
   "metadata": {},
   "source": [
    "Equity curve"
   ]
  },
  {
   "cell_type": "code",
   "execution_count": 9,
   "metadata": {
    "ExecuteTime": {
     "end_time": "2020-02-17T00:15:15.273801Z",
     "start_time": "2020-02-17T00:15:15.002556Z"
    }
   },
   "outputs": [
    {
     "data": {
      "image/png": "[encoded data removed]",
      "text/plain": [
       "<Figure size 720x504 with 1 Axes>"
      ]
     },
     "metadata": {
      "needs_background": "light"
     },
     "output_type": "display_data"
    }
   ],
   "source": [
    "pf.plot_equity_curve(strategies['252'].dbal, benchmark=benchmark.dbal)"
   ]
  },
  {
   "cell_type": "code",
   "execution_count": null,
   "metadata": {},
   "outputs": [],
   "source": []
  }
 ],
 "metadata": {
  "kernelspec": {
   "display_name": "Python 3",
   "language": "python",
   "name": "python3"
  },
  "language_info": {
   "codemirror_mode": {
    "name": "ipython",
    "version": 3
   },
   "file_extension": ".py",
   "mimetype": "text/x-python",
   "name": "python",
   "nbconvert_exporter": "python",
   "pygments_lexer": "ipython3",
   "version": "3.8.2"
  },
  "latex_envs": {
   "LaTeX_envs_menu_present": true,
   "autoclose": false,
   "autocomplete": true,
   "bibliofile": "biblio.bib",
   "cite_by": "apalike",
   "current_citInitial": 1,
   "eqLabelWithNumbers": true,
   "eqNumInitial": 1,
   "hotkeys": {
    "equation": "Ctrl-E",
    "itemize": "Ctrl-I"
   },
   "labels_anchors": false,
   "latex_user_defs": false,
   "report_style_numbering": false,
   "user_envs_cfg": false
  }
 },
 "nbformat": 4,
 "nbformat_minor": 1
}
