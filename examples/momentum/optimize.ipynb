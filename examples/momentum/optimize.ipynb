{
 "cells": [
  {
   "cell_type": "markdown",
   "metadata": {},
   "source": [
    "# Momentum\n",
    "\n",
    "    1. The SPY is higher than X days ago, buy\n",
    "    2. If the SPY is lower than X days ago, sell your long position.\n",
    "    \n",
    "    (optimize for number of days)"
   ]
  },
  {
   "cell_type": "code",
   "execution_count": 1,
   "metadata": {
    "ExecuteTime": {
     "end_time": "2020-02-17T00:14:54.849277Z",
     "start_time": "2020-02-17T00:14:53.518623Z"
    }
   },
   "outputs": [],
   "source": [
    "import pandas as pd\n",
    "import matplotlib.pyplot as plt\n",
    "import datetime\n",
    "from talib.abstract import *\n",
    "\n",
    "import pinkfish as pf\n",
    "import strategy\n",
    "\n",
    "# format price data\n",
    "pd.options.display.float_format = '{:0.2f}'.format\n",
    "\n",
    "%matplotlib inline"
   ]
  },
  {
   "cell_type": "code",
   "execution_count": 2,
   "metadata": {
    "ExecuteTime": {
     "end_time": "2020-02-17T00:14:54.865248Z",
     "start_time": "2020-02-17T00:14:54.854421Z"
    }
   },
   "outputs": [],
   "source": [
    "# set size of inline plots\n",
    "'''note: rcParams can't be in same cell as import matplotlib\n",
    "   or %matplotlib inline\n",
    "   \n",
    "   %matplotlib notebook: will lead to interactive plots embedded within\n",
    "   the notebook, you can zoom and resize the figure\n",
    "   \n",
    "   %matplotlib inline: only draw static images in the notebook\n",
    "'''\n",
    "plt.rcParams[\"figure.figsize\"] = (10, 7)"
   ]
  },
  {
   "cell_type": "markdown",
   "metadata": {},
   "source": [
    "Some global data"
   ]
  },
  {
   "cell_type": "code",
   "execution_count": 3,
   "metadata": {
    "ExecuteTime": {
     "end_time": "2020-02-17T00:14:54.890905Z",
     "start_time": "2020-02-17T00:14:54.873854Z"
    }
   },
   "outputs": [],
   "source": [
    "#symbol = '^GSPC'\n",
    "symbol = 'SPY'\n",
    "#symbol = 'DIA'\n",
    "#symbol = 'QQQ'\n",
    "#symbol = 'IWM'\n",
    "#symbol = 'TLT'\n",
    "#symbol = 'GLD'\n",
    "#symbol = 'AAPL'\n",
    "#symbol = 'BBRY'\n",
    "#symbol = 'GDX'\n",
    "capital = 10000\n",
    "start = datetime.datetime(1900, 1, 1)\n",
    "start = datetime.datetime.strptime(pf.SP500_BEGIN, '%Y-%m-%d')\n",
    "#end = datetime.datetime(2010, 12, 1)\n",
    "end = datetime.datetime.now()"
   ]
  },
  {
   "cell_type": "markdown",
   "metadata": {},
   "source": [
    "Define lookback period"
   ]
  },
  {
   "cell_type": "code",
   "execution_count": 4,
   "metadata": {
    "ExecuteTime": {
     "end_time": "2020-02-17T00:14:54.904691Z",
     "start_time": "2020-02-17T00:14:54.895141Z"
    }
   },
   "outputs": [],
   "source": [
    "TRADING_DAYS_PER_MONTH = 21\n",
    "TRADING_DAYS_PER_YEAR = 252\n",
    "periods = range(TRADING_DAYS_PER_MONTH*3, TRADING_DAYS_PER_MONTH*19, TRADING_DAYS_PER_MONTH)\n",
    "periods = [str(period) for period in periods]"
   ]
  },
  {
   "cell_type": "markdown",
   "metadata": {},
   "source": [
    "Run Strategy"
   ]
  },
  {
   "cell_type": "code",
   "execution_count": 5,
   "metadata": {
    "ExecuteTime": {
     "end_time": "2020-02-17T00:15:13.211703Z",
     "start_time": "2020-02-17T00:14:54.911026Z"
    }
   },
   "outputs": [
    {
     "name": "stdout",
     "output_type": "stream",
     "text": [
      "63 84 105 126 147 168 189 210 231 252 273 294 315 336 357 378 "
     ]
    }
   ],
   "source": [
    "strategies = pd.Series(dtype=object)\n",
    "for period in periods:\n",
    "    print(\"{0}\".format(period), end=\" \")\n",
    "    strategies[period] = strategy.Strategy(symbol, capital, start, end, period=int(period))\n",
    "    strategies[period].run()\n",
    "    strategies[period].tlog, strategies[period].dbal = strategies[period].get_logs()\n",
    "    strategies[period].stats = strategies[period].get_stats()"
   ]
  },
  {
   "cell_type": "markdown",
   "metadata": {},
   "source": [
    "Summarize results"
   ]
  },
  {
   "cell_type": "code",
   "execution_count": 6,
   "metadata": {
    "ExecuteTime": {
     "end_time": "2020-02-17T00:15:13.286091Z",
     "start_time": "2020-02-17T00:15:13.222890Z"
    },
    "scrolled": false
   },
   "outputs": [
    {
     "data": {
      "text/html": [
       "<div>\n",
       "<style scoped>\n",
       "    .dataframe tbody tr th:only-of-type {\n",
       "        vertical-align: middle;\n",
       "    }\n",
       "\n",
       "    .dataframe tbody tr th {\n",
       "        vertical-align: top;\n",
       "    }\n",
       "\n",
       "    .dataframe thead th {\n",
       "        text-align: right;\n",
       "    }\n",
       "</style>\n",
       "<table border=\"1\" class=\"dataframe\">\n",
       "  <thead>\n",
       "    <tr style=\"text-align: right;\">\n",
       "      <th></th>\n",
       "      <th>63</th>\n",
       "      <th>84</th>\n",
       "      <th>105</th>\n",
       "      <th>126</th>\n",
       "      <th>147</th>\n",
       "      <th>168</th>\n",
       "      <th>189</th>\n",
       "      <th>210</th>\n",
       "      <th>231</th>\n",
       "      <th>252</th>\n",
       "      <th>273</th>\n",
       "      <th>294</th>\n",
       "      <th>315</th>\n",
       "      <th>336</th>\n",
       "      <th>357</th>\n",
       "      <th>378</th>\n",
       "    </tr>\n",
       "  </thead>\n",
       "  <tbody>\n",
       "    <tr>\n",
       "      <th>annual_return_rate</th>\n",
       "      <td>7.86</td>\n",
       "      <td>7.07</td>\n",
       "      <td>7.84</td>\n",
       "      <td>7.91</td>\n",
       "      <td>8.48</td>\n",
       "      <td>7.71</td>\n",
       "      <td>7.85</td>\n",
       "      <td>8.43</td>\n",
       "      <td>8.47</td>\n",
       "      <td>8.62</td>\n",
       "      <td>9.04</td>\n",
       "      <td>8.27</td>\n",
       "      <td>8.69</td>\n",
       "      <td>9.04</td>\n",
       "      <td>8.96</td>\n",
       "      <td>8.39</td>\n",
       "    </tr>\n",
       "    <tr>\n",
       "      <th>max_closed_out_drawdown</th>\n",
       "      <td>-17.59</td>\n",
       "      <td>-31.85</td>\n",
       "      <td>-31.84</td>\n",
       "      <td>-31.81</td>\n",
       "      <td>-31.85</td>\n",
       "      <td>-31.86</td>\n",
       "      <td>-31.86</td>\n",
       "      <td>-31.86</td>\n",
       "      <td>-31.84</td>\n",
       "      <td>-31.86</td>\n",
       "      <td>-31.80</td>\n",
       "      <td>-31.82</td>\n",
       "      <td>-31.85</td>\n",
       "      <td>-31.81</td>\n",
       "      <td>-31.85</td>\n",
       "      <td>-31.86</td>\n",
       "    </tr>\n",
       "    <tr>\n",
       "      <th>drawdown_annualized_return</th>\n",
       "      <td>-2.24</td>\n",
       "      <td>-4.51</td>\n",
       "      <td>-4.06</td>\n",
       "      <td>-4.02</td>\n",
       "      <td>-3.75</td>\n",
       "      <td>-4.13</td>\n",
       "      <td>-4.06</td>\n",
       "      <td>-3.78</td>\n",
       "      <td>-3.76</td>\n",
       "      <td>-3.70</td>\n",
       "      <td>-3.52</td>\n",
       "      <td>-3.85</td>\n",
       "      <td>-3.67</td>\n",
       "      <td>-3.52</td>\n",
       "      <td>-3.56</td>\n",
       "      <td>-3.80</td>\n",
       "    </tr>\n",
       "    <tr>\n",
       "      <th>drawdown_recovery</th>\n",
       "      <td>-0.96</td>\n",
       "      <td>-0.09</td>\n",
       "      <td>-0.09</td>\n",
       "      <td>-0.09</td>\n",
       "      <td>-0.09</td>\n",
       "      <td>-0.09</td>\n",
       "      <td>-0.09</td>\n",
       "      <td>-0.09</td>\n",
       "      <td>-0.09</td>\n",
       "      <td>-0.09</td>\n",
       "      <td>-0.09</td>\n",
       "      <td>-0.09</td>\n",
       "      <td>-0.09</td>\n",
       "      <td>-0.09</td>\n",
       "      <td>-0.09</td>\n",
       "      <td>-0.09</td>\n",
       "    </tr>\n",
       "    <tr>\n",
       "      <th>best_month</th>\n",
       "      <td>15.29</td>\n",
       "      <td>15.28</td>\n",
       "      <td>15.28</td>\n",
       "      <td>15.30</td>\n",
       "      <td>15.29</td>\n",
       "      <td>15.29</td>\n",
       "      <td>17.75</td>\n",
       "      <td>17.75</td>\n",
       "      <td>17.75</td>\n",
       "      <td>17.75</td>\n",
       "      <td>17.75</td>\n",
       "      <td>17.75</td>\n",
       "      <td>21.04</td>\n",
       "      <td>17.75</td>\n",
       "      <td>17.75</td>\n",
       "      <td>17.75</td>\n",
       "    </tr>\n",
       "    <tr>\n",
       "      <th>worst_month</th>\n",
       "      <td>-11.09</td>\n",
       "      <td>-30.73</td>\n",
       "      <td>-30.71</td>\n",
       "      <td>-30.68</td>\n",
       "      <td>-30.72</td>\n",
       "      <td>-30.74</td>\n",
       "      <td>-30.73</td>\n",
       "      <td>-30.73</td>\n",
       "      <td>-30.72</td>\n",
       "      <td>-30.74</td>\n",
       "      <td>-30.68</td>\n",
       "      <td>-30.69</td>\n",
       "      <td>-30.72</td>\n",
       "      <td>-30.68</td>\n",
       "      <td>-30.72</td>\n",
       "      <td>-30.73</td>\n",
       "    </tr>\n",
       "    <tr>\n",
       "      <th>sharpe_ratio</th>\n",
       "      <td>0.89</td>\n",
       "      <td>0.75</td>\n",
       "      <td>0.80</td>\n",
       "      <td>0.81</td>\n",
       "      <td>0.84</td>\n",
       "      <td>0.77</td>\n",
       "      <td>0.77</td>\n",
       "      <td>0.82</td>\n",
       "      <td>0.81</td>\n",
       "      <td>0.84</td>\n",
       "      <td>0.87</td>\n",
       "      <td>0.80</td>\n",
       "      <td>0.82</td>\n",
       "      <td>0.85</td>\n",
       "      <td>0.85</td>\n",
       "      <td>0.79</td>\n",
       "    </tr>\n",
       "    <tr>\n",
       "      <th>sortino_ratio</th>\n",
       "      <td>1.00</td>\n",
       "      <td>0.82</td>\n",
       "      <td>0.88</td>\n",
       "      <td>0.90</td>\n",
       "      <td>0.94</td>\n",
       "      <td>0.86</td>\n",
       "      <td>0.87</td>\n",
       "      <td>0.93</td>\n",
       "      <td>0.93</td>\n",
       "      <td>0.95</td>\n",
       "      <td>1.00</td>\n",
       "      <td>0.90</td>\n",
       "      <td>0.97</td>\n",
       "      <td>0.98</td>\n",
       "      <td>0.98</td>\n",
       "      <td>0.91</td>\n",
       "    </tr>\n",
       "    <tr>\n",
       "      <th>monthly_std</th>\n",
       "      <td>2.83</td>\n",
       "      <td>3.19</td>\n",
       "      <td>3.22</td>\n",
       "      <td>3.26</td>\n",
       "      <td>3.26</td>\n",
       "      <td>3.27</td>\n",
       "      <td>3.32</td>\n",
       "      <td>3.31</td>\n",
       "      <td>3.36</td>\n",
       "      <td>3.35</td>\n",
       "      <td>3.33</td>\n",
       "      <td>3.38</td>\n",
       "      <td>3.45</td>\n",
       "      <td>3.40</td>\n",
       "      <td>3.39</td>\n",
       "      <td>3.43</td>\n",
       "    </tr>\n",
       "    <tr>\n",
       "      <th>pct_time_in_market</th>\n",
       "      <td>70.40</td>\n",
       "      <td>73.42</td>\n",
       "      <td>75.73</td>\n",
       "      <td>77.25</td>\n",
       "      <td>78.47</td>\n",
       "      <td>78.45</td>\n",
       "      <td>79.45</td>\n",
       "      <td>79.45</td>\n",
       "      <td>81.02</td>\n",
       "      <td>80.13</td>\n",
       "      <td>81.03</td>\n",
       "      <td>80.31</td>\n",
       "      <td>81.91</td>\n",
       "      <td>81.69</td>\n",
       "      <td>80.97</td>\n",
       "      <td>81.59</td>\n",
       "    </tr>\n",
       "    <tr>\n",
       "      <th>total_num_trades</th>\n",
       "      <td>33.00</td>\n",
       "      <td>27.00</td>\n",
       "      <td>20.00</td>\n",
       "      <td>16.00</td>\n",
       "      <td>13.00</td>\n",
       "      <td>14.00</td>\n",
       "      <td>12.00</td>\n",
       "      <td>8.00</td>\n",
       "      <td>9.00</td>\n",
       "      <td>9.00</td>\n",
       "      <td>8.00</td>\n",
       "      <td>9.00</td>\n",
       "      <td>7.00</td>\n",
       "      <td>6.00</td>\n",
       "      <td>6.00</td>\n",
       "      <td>5.00</td>\n",
       "    </tr>\n",
       "    <tr>\n",
       "      <th>pct_profitable_trades</th>\n",
       "      <td>69.70</td>\n",
       "      <td>62.96</td>\n",
       "      <td>60.00</td>\n",
       "      <td>62.50</td>\n",
       "      <td>61.54</td>\n",
       "      <td>71.43</td>\n",
       "      <td>50.00</td>\n",
       "      <td>75.00</td>\n",
       "      <td>66.67</td>\n",
       "      <td>77.78</td>\n",
       "      <td>62.50</td>\n",
       "      <td>77.78</td>\n",
       "      <td>57.14</td>\n",
       "      <td>66.67</td>\n",
       "      <td>66.67</td>\n",
       "      <td>60.00</td>\n",
       "    </tr>\n",
       "    <tr>\n",
       "      <th>avg_points</th>\n",
       "      <td>5.90</td>\n",
       "      <td>6.01</td>\n",
       "      <td>8.90</td>\n",
       "      <td>11.00</td>\n",
       "      <td>15.22</td>\n",
       "      <td>11.80</td>\n",
       "      <td>13.66</td>\n",
       "      <td>22.32</td>\n",
       "      <td>20.38</td>\n",
       "      <td>22.36</td>\n",
       "      <td>25.85</td>\n",
       "      <td>21.01</td>\n",
       "      <td>19.68</td>\n",
       "      <td>35.71</td>\n",
       "      <td>37.56</td>\n",
       "      <td>42.68</td>\n",
       "    </tr>\n",
       "  </tbody>\n",
       "</table>\n",
       "</div>"
      ],
      "text/plain": [
       "                               63     84    105    126    147    168    189  \\\n",
       "annual_return_rate           7.86   7.07   7.84   7.91   8.48   7.71   7.85   \n",
       "max_closed_out_drawdown    -17.59 -31.85 -31.84 -31.81 -31.85 -31.86 -31.86   \n",
       "drawdown_annualized_return  -2.24  -4.51  -4.06  -4.02  -3.75  -4.13  -4.06   \n",
       "drawdown_recovery           -0.96  -0.09  -0.09  -0.09  -0.09  -0.09  -0.09   \n",
       "best_month                  15.29  15.28  15.28  15.30  15.29  15.29  17.75   \n",
       "worst_month                -11.09 -30.73 -30.71 -30.68 -30.72 -30.74 -30.73   \n",
       "sharpe_ratio                 0.89   0.75   0.80   0.81   0.84   0.77   0.77   \n",
       "sortino_ratio                1.00   0.82   0.88   0.90   0.94   0.86   0.87   \n",
       "monthly_std                  2.83   3.19   3.22   3.26   3.26   3.27   3.32   \n",
       "pct_time_in_market          70.40  73.42  75.73  77.25  78.47  78.45  79.45   \n",
       "total_num_trades            33.00  27.00  20.00  16.00  13.00  14.00  12.00   \n",
       "pct_profitable_trades       69.70  62.96  60.00  62.50  61.54  71.43  50.00   \n",
       "avg_points                   5.90   6.01   8.90  11.00  15.22  11.80  13.66   \n",
       "\n",
       "                              210    231    252    273    294    315    336  \\\n",
       "annual_return_rate           8.43   8.47   8.62   9.04   8.27   8.69   9.04   \n",
       "max_closed_out_drawdown    -31.86 -31.84 -31.86 -31.80 -31.82 -31.85 -31.81   \n",
       "drawdown_annualized_return  -3.78  -3.76  -3.70  -3.52  -3.85  -3.67  -3.52   \n",
       "drawdown_recovery           -0.09  -0.09  -0.09  -0.09  -0.09  -0.09  -0.09   \n",
       "best_month                  17.75  17.75  17.75  17.75  17.75  21.04  17.75   \n",
       "worst_month                -30.73 -30.72 -30.74 -30.68 -30.69 -30.72 -30.68   \n",
       "sharpe_ratio                 0.82   0.81   0.84   0.87   0.80   0.82   0.85   \n",
       "sortino_ratio                0.93   0.93   0.95   1.00   0.90   0.97   0.98   \n",
       "monthly_std                  3.31   3.36   3.35   3.33   3.38   3.45   3.40   \n",
       "pct_time_in_market          79.45  81.02  80.13  81.03  80.31  81.91  81.69   \n",
       "total_num_trades             8.00   9.00   9.00   8.00   9.00   7.00   6.00   \n",
       "pct_profitable_trades       75.00  66.67  77.78  62.50  77.78  57.14  66.67   \n",
       "avg_points                  22.32  20.38  22.36  25.85  21.01  19.68  35.71   \n",
       "\n",
       "                              357    378  \n",
       "annual_return_rate           8.96   8.39  \n",
       "max_closed_out_drawdown    -31.85 -31.86  \n",
       "drawdown_annualized_return  -3.56  -3.80  \n",
       "drawdown_recovery           -0.09  -0.09  \n",
       "best_month                  17.75  17.75  \n",
       "worst_month                -30.72 -30.73  \n",
       "sharpe_ratio                 0.85   0.79  \n",
       "sortino_ratio                0.98   0.91  \n",
       "monthly_std                  3.39   3.43  \n",
       "pct_time_in_market          80.97  81.59  \n",
       "total_num_trades             6.00   5.00  \n",
       "pct_profitable_trades       66.67  60.00  \n",
       "avg_points                  37.56  42.68  "
      ]
     },
     "execution_count": 6,
     "metadata": {},
     "output_type": "execute_result"
    }
   ],
   "source": [
    "metrics = ('annual_return_rate',\n",
    "           'max_closed_out_drawdown',\n",
    "           'drawdown_annualized_return',\n",
    "           'drawdown_recovery',\n",
    "           'best_month',\n",
    "           'worst_month',\n",
    "           'sharpe_ratio',\n",
    "           'sortino_ratio',\n",
    "           'monthly_std',\n",
    "           'pct_time_in_market',\n",
    "           'total_num_trades',\n",
    "           'pct_profitable_trades',\n",
    "           'avg_points')\n",
    "\n",
    "df = strategy.summary(strategies, metrics)\n",
    "df"
   ]
  },
  {
   "cell_type": "markdown",
   "metadata": {},
   "source": [
    "Bar graphs"
   ]
  },
  {
   "cell_type": "code",
   "execution_count": 7,
   "metadata": {
    "ExecuteTime": {
     "end_time": "2020-02-17T00:15:14.155474Z",
     "start_time": "2020-02-17T00:15:13.291988Z"
    }
   },
   "outputs": [
    {
     "data": {
      "image/png": "[encoded data removed]",
      "text/plain": [
       "<Figure size 720x504 with 1 Axes>"
      ]
     },
     "metadata": {
      "needs_background": "light"
     },
     "output_type": "display_data"
    },
    {
     "data": {
      "image/png": "[encoded data removed]",
      "text/plain": [
       "<Figure size 720x504 with 1 Axes>"
      ]
     },
     "metadata": {
      "needs_background": "light"
     },
     "output_type": "display_data"
    },
    {
     "data": {
      "image/png": "[encoded data removed]",
      "text/plain": [
       "<Figure size 720x504 with 1 Axes>"
      ]
     },
     "metadata": {
      "needs_background": "light"
     },
     "output_type": "display_data"
    }
   ],
   "source": [
    "strategy.plot_bar_graph(df, 'annual_return_rate')\n",
    "strategy.plot_bar_graph(df, 'sharpe_ratio')\n",
    "strategy.plot_bar_graph(df, 'max_closed_out_drawdown')"
   ]
  },
  {
   "cell_type": "markdown",
   "metadata": {},
   "source": [
    "Run Benchmark"
   ]
  },
  {
   "cell_type": "code",
   "execution_count": 8,
   "metadata": {
    "ExecuteTime": {
     "end_time": "2020-02-17T00:15:14.992411Z",
     "start_time": "2020-02-17T00:15:14.162453Z"
    }
   },
   "outputs": [
    {
     "name": "stdout",
     "output_type": "stream",
     "text": [
      "1995-01-27 00:00:00 BUY  212 SPY @ 47.11\n",
      "2020-06-22 00:00:00 SELL 212 SPY @ 310.62\n"
     ]
    }
   ],
   "source": [
    "s = strategies[periods[0]]\n",
    "benchmark = pf.Benchmark(symbol, capital, s._start, s._end)\n",
    "benchmark.run()\n",
    "benchmark.tlog, benchmark.dbal = benchmark.get_logs()\n",
    "benchmark.stats = benchmark.get_stats()"
   ]
  },
  {
   "cell_type": "markdown",
   "metadata": {},
   "source": [
    "Equity curve"
   ]
  },
  {
   "cell_type": "code",
   "execution_count": 9,
   "metadata": {
    "ExecuteTime": {
     "end_time": "2020-02-17T00:15:15.273801Z",
     "start_time": "2020-02-17T00:15:15.002556Z"
    }
   },
   "outputs": [
    {
     "data": {
      "image/png": "[encoded data removed]",
      "text/plain": [
       "<Figure size 720x504 with 1 Axes>"
      ]
     },
     "metadata": {
      "needs_background": "light"
     },
     "output_type": "display_data"
    }
   ],
   "source": [
    "pf.plot_equity_curve(strategies['252'].dbal, benchmark=benchmark.dbal)"
   ]
  },
  {
   "cell_type": "code",
   "execution_count": null,
   "metadata": {},
   "outputs": [],
   "source": []
  }
 ],
 "metadata": {
  "kernelspec": {
   "display_name": "Python 3",
   "language": "python",
   "name": "python3"
  },
  "language_info": {
   "codemirror_mode": {
    "name": "ipython",
    "version": 3
   },
   "file_extension": ".py",
   "mimetype": "text/x-python",
   "name": "python",
   "nbconvert_exporter": "python",
   "pygments_lexer": "ipython3",
   "version": "3.8.2"
  },
  "latex_envs": {
   "LaTeX_envs_menu_present": true,
   "autoclose": false,
   "autocomplete": true,
   "bibliofile": "biblio.bib",
   "cite_by": "apalike",
   "current_citInitial": 1,
   "eqLabelWithNumbers": true,
   "eqNumInitial": 1,
   "hotkeys": {
    "equation": "Ctrl-E",
    "itemize": "Ctrl-I"
   },
   "labels_anchors": false,
   "latex_user_defs": false,
   "report_style_numbering": false,
   "user_envs_cfg": false
  }
 },
 "nbformat": 4,
 "nbformat_minor": 1
}
