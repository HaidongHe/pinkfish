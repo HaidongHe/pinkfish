{
 "cells": [
  {
   "cell_type": "markdown",
   "metadata": {},
   "source": [
    "# Momentum\n",
    "\n",
    "    1. The SPY is higher than X days ago, buy\n",
    "    2. If the SPY is lower than X days ago, sell your long position.\n",
    "    \n",
    "    (optimize for number of days)"
   ]
  },
  {
   "cell_type": "code",
   "execution_count": 1,
   "metadata": {
    "ExecuteTime": {
     "end_time": "2020-02-01T02:30:56.142954Z",
     "start_time": "2020-02-01T02:30:55.276185Z"
    }
   },
   "outputs": [],
   "source": [
    "# use future imports for python 3.x forward compatibility\n",
    "from __future__ import print_function\n",
    "from __future__ import unicode_literals\n",
    "from __future__ import division\n",
    "from __future__ import absolute_import\n",
    "\n",
    "# other imports\n",
    "import pandas as pd\n",
    "import matplotlib.pyplot as plt\n",
    "import datetime\n",
    "from talib.abstract import *\n",
    "\n",
    "# project imports\n",
    "import pinkfish as pf\n",
    "import strategy\n",
    "\n",
    "# format price data\n",
    "pd.options.display.float_format = '{:0.2f}'.format\n",
    "\n",
    "%matplotlib inline"
   ]
  },
  {
   "cell_type": "code",
   "execution_count": 2,
   "metadata": {
    "ExecuteTime": {
     "end_time": "2020-02-01T02:30:56.161317Z",
     "start_time": "2020-02-01T02:30:56.154731Z"
    }
   },
   "outputs": [],
   "source": [
    "# set size of inline plots\n",
    "'''note: rcParams can't be in same cell as import matplotlib\n",
    "   or %matplotlib inline\n",
    "   \n",
    "   %matplotlib notebook: will lead to interactive plots embedded within\n",
    "   the notebook, you can zoom and resize the figure\n",
    "   \n",
    "   %matplotlib inline: only draw static images in the notebook\n",
    "'''\n",
    "plt.rcParams[\"figure.figsize\"] = (10, 7)"
   ]
  },
  {
   "cell_type": "markdown",
   "metadata": {},
   "source": [
    "Some global data"
   ]
  },
  {
   "cell_type": "code",
   "execution_count": 3,
   "metadata": {
    "ExecuteTime": {
     "end_time": "2020-02-01T02:30:56.178880Z",
     "start_time": "2020-02-01T02:30:56.167951Z"
    }
   },
   "outputs": [],
   "source": [
    "#symbol = '^GSPC'\n",
    "symbol = 'SPY'\n",
    "#symbol = 'DIA'\n",
    "#symbol = 'QQQ'\n",
    "#symbol = 'IWM'\n",
    "#symbol = 'TLT'\n",
    "#symbol = 'GLD'\n",
    "#symbol = 'AAPL'\n",
    "#symbol = 'BBRY'\n",
    "#symbol = 'GDX'\n",
    "capital = 10000\n",
    "start = datetime.datetime(1900, 1, 1)\n",
    "start = datetime.datetime.strptime(pf.SP500_BEGIN, '%Y-%m-%d')\n",
    "#end = datetime.datetime(2010, 12, 1)\n",
    "end = datetime.datetime.now()"
   ]
  },
  {
   "cell_type": "markdown",
   "metadata": {},
   "source": [
    "Define lookback period"
   ]
  },
  {
   "cell_type": "code",
   "execution_count": 4,
   "metadata": {
    "ExecuteTime": {
     "end_time": "2020-02-01T02:30:56.202636Z",
     "start_time": "2020-02-01T02:30:56.187689Z"
    }
   },
   "outputs": [],
   "source": [
    "TRADING_DAYS_PER_MONTH = 21\n",
    "TRADING_DAYS_PER_YEAR = 252\n",
    "periods = range(TRADING_DAYS_PER_MONTH*3, TRADING_DAYS_PER_MONTH*19, TRADING_DAYS_PER_MONTH)\n",
    "periods = [str(period) for period in periods]"
   ]
  },
  {
   "cell_type": "markdown",
   "metadata": {},
   "source": [
    "Run Strategy"
   ]
  },
  {
   "cell_type": "code",
   "execution_count": 5,
   "metadata": {
    "ExecuteTime": {
     "end_time": "2020-02-01T02:31:17.683079Z",
     "start_time": "2020-02-01T02:30:56.210756Z"
    }
   },
   "outputs": [
    {
     "name": "stdout",
     "output_type": "stream",
     "text": [
      "63 84 105 126 147 168 189 210 231 252 273 294 315 336 357 378 "
     ]
    }
   ],
   "source": [
    "strategies = pd.Series()\n",
    "for period in periods:\n",
    "    print(\"{0}\".format(period), end=\" \")\n",
    "    strategies[period] = strategy.Strategy(symbol, capital, start, end, period=int(period))\n",
    "    strategies[period].run()\n",
    "    strategies[period].tlog, strategies[period].dbal = strategies[period].get_logs()\n",
    "    strategies[period].stats = strategies[period].get_stats()"
   ]
  },
  {
   "cell_type": "markdown",
   "metadata": {},
   "source": [
    "Summarize results"
   ]
  },
  {
   "cell_type": "code",
   "execution_count": 6,
   "metadata": {
    "ExecuteTime": {
     "end_time": "2020-02-01T02:31:17.767711Z",
     "start_time": "2020-02-01T02:31:17.694291Z"
    },
    "scrolled": false
   },
   "outputs": [
    {
     "data": {
      "text/html": [
       "<div>\n",
       "<style scoped>\n",
       "    .dataframe tbody tr th:only-of-type {\n",
       "        vertical-align: middle;\n",
       "    }\n",
       "\n",
       "    .dataframe tbody tr th {\n",
       "        vertical-align: top;\n",
       "    }\n",
       "\n",
       "    .dataframe thead th {\n",
       "        text-align: right;\n",
       "    }\n",
       "</style>\n",
       "<table border=\"1\" class=\"dataframe\">\n",
       "  <thead>\n",
       "    <tr style=\"text-align: right;\">\n",
       "      <th></th>\n",
       "      <th>63</th>\n",
       "      <th>84</th>\n",
       "      <th>105</th>\n",
       "      <th>126</th>\n",
       "      <th>147</th>\n",
       "      <th>168</th>\n",
       "      <th>189</th>\n",
       "      <th>210</th>\n",
       "      <th>231</th>\n",
       "      <th>252</th>\n",
       "      <th>273</th>\n",
       "      <th>294</th>\n",
       "      <th>315</th>\n",
       "      <th>336</th>\n",
       "      <th>357</th>\n",
       "      <th>378</th>\n",
       "    </tr>\n",
       "  </thead>\n",
       "  <tbody>\n",
       "    <tr>\n",
       "      <th>annual_return_rate</th>\n",
       "      <td>8.82</td>\n",
       "      <td>8.90</td>\n",
       "      <td>9.76</td>\n",
       "      <td>9.85</td>\n",
       "      <td>10.38</td>\n",
       "      <td>9.52</td>\n",
       "      <td>9.67</td>\n",
       "      <td>10.32</td>\n",
       "      <td>10.03</td>\n",
       "      <td>10.54</td>\n",
       "      <td>10.67</td>\n",
       "      <td>9.80</td>\n",
       "      <td>9.66</td>\n",
       "      <td>10.67</td>\n",
       "      <td>10.58</td>\n",
       "      <td>9.95</td>\n",
       "    </tr>\n",
       "    <tr>\n",
       "      <th>max_closed_out_drawdown</th>\n",
       "      <td>-18.18</td>\n",
       "      <td>-27.53</td>\n",
       "      <td>-26.05</td>\n",
       "      <td>-24.19</td>\n",
       "      <td>-20.89</td>\n",
       "      <td>-20.88</td>\n",
       "      <td>-25.47</td>\n",
       "      <td>-20.93</td>\n",
       "      <td>-22.37</td>\n",
       "      <td>-22.38</td>\n",
       "      <td>-21.35</td>\n",
       "      <td>-23.16</td>\n",
       "      <td>-28.63</td>\n",
       "      <td>-23.99</td>\n",
       "      <td>-22.38</td>\n",
       "      <td>-27.35</td>\n",
       "    </tr>\n",
       "    <tr>\n",
       "      <th>drawdown_annualized_return</th>\n",
       "      <td>-2.06</td>\n",
       "      <td>-3.09</td>\n",
       "      <td>-2.67</td>\n",
       "      <td>-2.46</td>\n",
       "      <td>-2.01</td>\n",
       "      <td>-2.19</td>\n",
       "      <td>-2.63</td>\n",
       "      <td>-2.03</td>\n",
       "      <td>-2.23</td>\n",
       "      <td>-2.12</td>\n",
       "      <td>-2.00</td>\n",
       "      <td>-2.36</td>\n",
       "      <td>-2.96</td>\n",
       "      <td>-2.25</td>\n",
       "      <td>-2.12</td>\n",
       "      <td>-2.75</td>\n",
       "    </tr>\n",
       "    <tr>\n",
       "      <th>drawdown_recovery</th>\n",
       "      <td>-3.54</td>\n",
       "      <td>-3.58</td>\n",
       "      <td>-2.96</td>\n",
       "      <td>-2.89</td>\n",
       "      <td>-0.34</td>\n",
       "      <td>-0.34</td>\n",
       "      <td>-2.12</td>\n",
       "      <td>-1.10</td>\n",
       "      <td>-0.57</td>\n",
       "      <td>-0.57</td>\n",
       "      <td>-2.73</td>\n",
       "      <td>-2.73</td>\n",
       "      <td>-2.73</td>\n",
       "      <td>-0.93</td>\n",
       "      <td>-0.57</td>\n",
       "      <td>-2.73</td>\n",
       "    </tr>\n",
       "    <tr>\n",
       "      <th>best_month</th>\n",
       "      <td>15.02</td>\n",
       "      <td>15.44</td>\n",
       "      <td>15.42</td>\n",
       "      <td>15.42</td>\n",
       "      <td>15.43</td>\n",
       "      <td>15.43</td>\n",
       "      <td>17.79</td>\n",
       "      <td>17.79</td>\n",
       "      <td>17.79</td>\n",
       "      <td>17.79</td>\n",
       "      <td>17.79</td>\n",
       "      <td>17.79</td>\n",
       "      <td>17.79</td>\n",
       "      <td>17.79</td>\n",
       "      <td>17.79</td>\n",
       "      <td>17.79</td>\n",
       "    </tr>\n",
       "    <tr>\n",
       "      <th>worst_month</th>\n",
       "      <td>-11.22</td>\n",
       "      <td>-12.00</td>\n",
       "      <td>-13.88</td>\n",
       "      <td>-16.28</td>\n",
       "      <td>-16.30</td>\n",
       "      <td>-16.28</td>\n",
       "      <td>-16.29</td>\n",
       "      <td>-16.29</td>\n",
       "      <td>-16.30</td>\n",
       "      <td>-16.30</td>\n",
       "      <td>-16.28</td>\n",
       "      <td>-16.28</td>\n",
       "      <td>-16.28</td>\n",
       "      <td>-16.30</td>\n",
       "      <td>-16.30</td>\n",
       "      <td>-16.27</td>\n",
       "    </tr>\n",
       "    <tr>\n",
       "      <th>sharpe_ratio</th>\n",
       "      <td>0.77</td>\n",
       "      <td>0.75</td>\n",
       "      <td>0.79</td>\n",
       "      <td>0.79</td>\n",
       "      <td>0.81</td>\n",
       "      <td>0.75</td>\n",
       "      <td>0.75</td>\n",
       "      <td>0.79</td>\n",
       "      <td>0.76</td>\n",
       "      <td>0.80</td>\n",
       "      <td>0.81</td>\n",
       "      <td>0.75</td>\n",
       "      <td>0.73</td>\n",
       "      <td>0.80</td>\n",
       "      <td>0.79</td>\n",
       "      <td>0.75</td>\n",
       "    </tr>\n",
       "    <tr>\n",
       "      <th>sortino_ratio</th>\n",
       "      <td>0.86</td>\n",
       "      <td>0.86</td>\n",
       "      <td>0.90</td>\n",
       "      <td>0.90</td>\n",
       "      <td>0.93</td>\n",
       "      <td>0.87</td>\n",
       "      <td>0.87</td>\n",
       "      <td>0.93</td>\n",
       "      <td>0.90</td>\n",
       "      <td>0.94</td>\n",
       "      <td>0.95</td>\n",
       "      <td>0.88</td>\n",
       "      <td>0.87</td>\n",
       "      <td>0.95</td>\n",
       "      <td>0.94</td>\n",
       "      <td>0.89</td>\n",
       "    </tr>\n",
       "    <tr>\n",
       "      <th>monthly_std</th>\n",
       "      <td>2.87</td>\n",
       "      <td>3.03</td>\n",
       "      <td>3.08</td>\n",
       "      <td>3.14</td>\n",
       "      <td>3.15</td>\n",
       "      <td>3.15</td>\n",
       "      <td>3.21</td>\n",
       "      <td>3.21</td>\n",
       "      <td>3.24</td>\n",
       "      <td>3.26</td>\n",
       "      <td>3.23</td>\n",
       "      <td>3.26</td>\n",
       "      <td>3.34</td>\n",
       "      <td>3.31</td>\n",
       "      <td>3.28</td>\n",
       "      <td>3.33</td>\n",
       "    </tr>\n",
       "    <tr>\n",
       "      <th>pct_time_in_market</th>\n",
       "      <td>71.21</td>\n",
       "      <td>73.92</td>\n",
       "      <td>76.27</td>\n",
       "      <td>77.81</td>\n",
       "      <td>78.78</td>\n",
       "      <td>78.77</td>\n",
       "      <td>79.78</td>\n",
       "      <td>79.78</td>\n",
       "      <td>81.05</td>\n",
       "      <td>80.47</td>\n",
       "      <td>81.07</td>\n",
       "      <td>80.34</td>\n",
       "      <td>81.63</td>\n",
       "      <td>81.74</td>\n",
       "      <td>81.01</td>\n",
       "      <td>81.64</td>\n",
       "    </tr>\n",
       "    <tr>\n",
       "      <th>total_num_trades</th>\n",
       "      <td>32.00</td>\n",
       "      <td>26.00</td>\n",
       "      <td>19.00</td>\n",
       "      <td>15.00</td>\n",
       "      <td>12.00</td>\n",
       "      <td>13.00</td>\n",
       "      <td>11.00</td>\n",
       "      <td>7.00</td>\n",
       "      <td>8.00</td>\n",
       "      <td>8.00</td>\n",
       "      <td>7.00</td>\n",
       "      <td>8.00</td>\n",
       "      <td>7.00</td>\n",
       "      <td>5.00</td>\n",
       "      <td>5.00</td>\n",
       "      <td>4.00</td>\n",
       "    </tr>\n",
       "    <tr>\n",
       "      <th>pct_profitable_trades</th>\n",
       "      <td>68.75</td>\n",
       "      <td>65.38</td>\n",
       "      <td>63.16</td>\n",
       "      <td>66.67</td>\n",
       "      <td>66.67</td>\n",
       "      <td>76.92</td>\n",
       "      <td>54.55</td>\n",
       "      <td>85.71</td>\n",
       "      <td>75.00</td>\n",
       "      <td>87.50</td>\n",
       "      <td>71.43</td>\n",
       "      <td>87.50</td>\n",
       "      <td>57.14</td>\n",
       "      <td>80.00</td>\n",
       "      <td>60.00</td>\n",
       "      <td>50.00</td>\n",
       "    </tr>\n",
       "    <tr>\n",
       "      <th>avg_points</th>\n",
       "      <td>6.01</td>\n",
       "      <td>8.01</td>\n",
       "      <td>11.26</td>\n",
       "      <td>14.52</td>\n",
       "      <td>18.11</td>\n",
       "      <td>16.32</td>\n",
       "      <td>19.17</td>\n",
       "      <td>32.23</td>\n",
       "      <td>25.35</td>\n",
       "      <td>28.87</td>\n",
       "      <td>32.34</td>\n",
       "      <td>26.06</td>\n",
       "      <td>19.88</td>\n",
       "      <td>52.35</td>\n",
       "      <td>32.66</td>\n",
       "      <td>17.84</td>\n",
       "    </tr>\n",
       "  </tbody>\n",
       "</table>\n",
       "</div>"
      ],
      "text/plain": [
       "                               63     84    105    126    147    168    189  \\\n",
       "annual_return_rate           8.82   8.90   9.76   9.85  10.38   9.52   9.67   \n",
       "max_closed_out_drawdown    -18.18 -27.53 -26.05 -24.19 -20.89 -20.88 -25.47   \n",
       "drawdown_annualized_return  -2.06  -3.09  -2.67  -2.46  -2.01  -2.19  -2.63   \n",
       "drawdown_recovery           -3.54  -3.58  -2.96  -2.89  -0.34  -0.34  -2.12   \n",
       "best_month                  15.02  15.44  15.42  15.42  15.43  15.43  17.79   \n",
       "worst_month                -11.22 -12.00 -13.88 -16.28 -16.30 -16.28 -16.29   \n",
       "sharpe_ratio                 0.77   0.75   0.79   0.79   0.81   0.75   0.75   \n",
       "sortino_ratio                0.86   0.86   0.90   0.90   0.93   0.87   0.87   \n",
       "monthly_std                  2.87   3.03   3.08   3.14   3.15   3.15   3.21   \n",
       "pct_time_in_market          71.21  73.92  76.27  77.81  78.78  78.77  79.78   \n",
       "total_num_trades            32.00  26.00  19.00  15.00  12.00  13.00  11.00   \n",
       "pct_profitable_trades       68.75  65.38  63.16  66.67  66.67  76.92  54.55   \n",
       "avg_points                   6.01   8.01  11.26  14.52  18.11  16.32  19.17   \n",
       "\n",
       "                              210    231    252    273    294    315    336  \\\n",
       "annual_return_rate          10.32  10.03  10.54  10.67   9.80   9.66  10.67   \n",
       "max_closed_out_drawdown    -20.93 -22.37 -22.38 -21.35 -23.16 -28.63 -23.99   \n",
       "drawdown_annualized_return  -2.03  -2.23  -2.12  -2.00  -2.36  -2.96  -2.25   \n",
       "drawdown_recovery           -1.10  -0.57  -0.57  -2.73  -2.73  -2.73  -0.93   \n",
       "best_month                  17.79  17.79  17.79  17.79  17.79  17.79  17.79   \n",
       "worst_month                -16.29 -16.30 -16.30 -16.28 -16.28 -16.28 -16.30   \n",
       "sharpe_ratio                 0.79   0.76   0.80   0.81   0.75   0.73   0.80   \n",
       "sortino_ratio                0.93   0.90   0.94   0.95   0.88   0.87   0.95   \n",
       "monthly_std                  3.21   3.24   3.26   3.23   3.26   3.34   3.31   \n",
       "pct_time_in_market          79.78  81.05  80.47  81.07  80.34  81.63  81.74   \n",
       "total_num_trades             7.00   8.00   8.00   7.00   8.00   7.00   5.00   \n",
       "pct_profitable_trades       85.71  75.00  87.50  71.43  87.50  57.14  80.00   \n",
       "avg_points                  32.23  25.35  28.87  32.34  26.06  19.88  52.35   \n",
       "\n",
       "                              357    378  \n",
       "annual_return_rate          10.58   9.95  \n",
       "max_closed_out_drawdown    -22.38 -27.35  \n",
       "drawdown_annualized_return  -2.12  -2.75  \n",
       "drawdown_recovery           -0.57  -2.73  \n",
       "best_month                  17.79  17.79  \n",
       "worst_month                -16.30 -16.27  \n",
       "sharpe_ratio                 0.79   0.75  \n",
       "sortino_ratio                0.94   0.89  \n",
       "monthly_std                  3.28   3.33  \n",
       "pct_time_in_market          81.01  81.64  \n",
       "total_num_trades             5.00   4.00  \n",
       "pct_profitable_trades       60.00  50.00  \n",
       "avg_points                  32.66  17.84  "
      ]
     },
     "execution_count": 6,
     "metadata": {},
     "output_type": "execute_result"
    }
   ],
   "source": [
    "metrics = ('annual_return_rate',\n",
    "           'max_closed_out_drawdown',\n",
    "           'drawdown_annualized_return',\n",
    "           'drawdown_recovery',\n",
    "           'best_month',\n",
    "           'worst_month',\n",
    "           'sharpe_ratio',\n",
    "           'sortino_ratio',\n",
    "           'monthly_std',\n",
    "           'pct_time_in_market',\n",
    "           'total_num_trades',\n",
    "           'pct_profitable_trades',\n",
    "           'avg_points')\n",
    "\n",
    "df = strategy.summary(strategies, *metrics)\n",
    "df"
   ]
  },
  {
   "cell_type": "markdown",
   "metadata": {},
   "source": [
    "Bar graphs"
   ]
  },
  {
   "cell_type": "code",
   "execution_count": 7,
   "metadata": {
    "ExecuteTime": {
     "end_time": "2020-02-01T02:31:18.742732Z",
     "start_time": "2020-02-01T02:31:17.772461Z"
    }
   },
   "outputs": [
    {
     "data": {
      "image/png": "[encoded data removed]",
      "text/plain": [
       "<Figure size 720x504 with 1 Axes>"
      ]
     },
     "metadata": {
      "needs_background": "light"
     },
     "output_type": "display_data"
    },
    {
     "data": {
      "image/png": "[encoded data removed]",
      "text/plain": [
       "<Figure size 720x504 with 1 Axes>"
      ]
     },
     "metadata": {
      "needs_background": "light"
     },
     "output_type": "display_data"
    },
    {
     "data": {
      "image/png": "[encoded data removed]",
      "text/plain": [
       "<Figure size 720x504 with 1 Axes>"
      ]
     },
     "metadata": {
      "needs_background": "light"
     },
     "output_type": "display_data"
    }
   ],
   "source": [
    "strategy.plot_bar_graph(df, 'annual_return_rate')\n",
    "strategy.plot_bar_graph(df, 'sharpe_ratio')\n",
    "strategy.plot_bar_graph(df, 'max_closed_out_drawdown')"
   ]
  },
  {
   "cell_type": "markdown",
   "metadata": {},
   "source": [
    "Run Benchmark"
   ]
  },
  {
   "cell_type": "code",
   "execution_count": 8,
   "metadata": {
    "ExecuteTime": {
     "end_time": "2020-02-01T02:31:20.222049Z",
     "start_time": "2020-02-01T02:31:18.748667Z"
    }
   },
   "outputs": [
    {
     "name": "stdout",
     "output_type": "stream",
     "text": [
      "1995-01-27 00:00:00 BUY  212 SPY @ 47.11\n",
      "2020-01-31 00:00:00 SELL 212 SPY @ 321.73\n"
     ]
    }
   ],
   "source": [
    "s = strategies[periods[0]]\n",
    "benchmark = pf.Benchmark(symbol, capital, s._start, s._end)\n",
    "benchmark.run()\n",
    "benchmark.tlog, benchmark.dbal = benchmark.get_logs()\n",
    "benchmark.stats = benchmark.get_stats()"
   ]
  },
  {
   "cell_type": "markdown",
   "metadata": {},
   "source": [
    "Equity curve"
   ]
  },
  {
   "cell_type": "code",
   "execution_count": 9,
   "metadata": {
    "ExecuteTime": {
     "end_time": "2020-02-01T02:31:20.599585Z",
     "start_time": "2020-02-01T02:31:20.236404Z"
    }
   },
   "outputs": [
    {
     "data": {
      "image/png": "[encoded data removed]",
      "text/plain": [
       "<Figure size 720x504 with 1 Axes>"
      ]
     },
     "metadata": {
      "needs_background": "light"
     },
     "output_type": "display_data"
    }
   ],
   "source": [
    "pf.plot_equity_curve(strategies['252'].dbal, benchmark=benchmark.dbal)"
   ]
  },
  {
   "cell_type": "code",
   "execution_count": null,
   "metadata": {},
   "outputs": [],
   "source": []
  }
 ],
 "metadata": {
  "kernelspec": {
   "display_name": "Python 2",
   "language": "python",
   "name": "python2"
  },
  "language_info": {
   "codemirror_mode": {
    "name": "ipython",
    "version": 2
   },
   "file_extension": ".py",
   "mimetype": "text/x-python",
   "name": "python",
   "nbconvert_exporter": "python",
   "pygments_lexer": "ipython2",
   "version": "2.7.15+"
  },
  "latex_envs": {
   "LaTeX_envs_menu_present": true,
   "autoclose": false,
   "autocomplete": true,
   "bibliofile": "biblio.bib",
   "cite_by": "apalike",
   "current_citInitial": 1,
   "eqLabelWithNumbers": true,
   "eqNumInitial": 1,
   "hotkeys": {
    "equation": "Ctrl-E",
    "itemize": "Ctrl-I"
   },
   "labels_anchors": false,
   "latex_user_defs": false,
   "report_style_numbering": false,
   "user_envs_cfg": false
  }
 },
 "nbformat": 4,
 "nbformat_minor": 1
}
