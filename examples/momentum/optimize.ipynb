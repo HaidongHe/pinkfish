{
 "cells": [
  {
   "cell_type": "markdown",
   "metadata": {},
   "source": [
    "# Momentum\n",
    "\n",
    "    1. The SPY is higher than X days ago, buy\n",
    "    2. If the SPY is lower than X days ago, sell your long position.\n",
    "    \n",
    "    (optimize for number of days)"
   ]
  },
  {
   "cell_type": "code",
   "execution_count": 1,
   "metadata": {
    "ExecuteTime": {
     "end_time": "2020-02-17T00:14:54.849277Z",
     "start_time": "2020-02-17T00:14:53.518623Z"
    }
   },
   "outputs": [],
   "source": [
    "import pandas as pd\n",
    "import matplotlib.pyplot as plt\n",
    "import datetime\n",
    "from talib.abstract import *\n",
    "\n",
    "import pinkfish as pf\n",
    "import strategy\n",
    "\n",
    "# format price data\n",
    "pd.options.display.float_format = '{:0.2f}'.format\n",
    "\n",
    "%matplotlib inline"
   ]
  },
  {
   "cell_type": "code",
   "execution_count": 2,
   "metadata": {
    "ExecuteTime": {
     "end_time": "2020-02-17T00:14:54.865248Z",
     "start_time": "2020-02-17T00:14:54.854421Z"
    }
   },
   "outputs": [],
   "source": [
    "# set size of inline plots\n",
    "'''note: rcParams can't be in same cell as import matplotlib\n",
    "   or %matplotlib inline\n",
    "   \n",
    "   %matplotlib notebook: will lead to interactive plots embedded within\n",
    "   the notebook, you can zoom and resize the figure\n",
    "   \n",
    "   %matplotlib inline: only draw static images in the notebook\n",
    "'''\n",
    "plt.rcParams[\"figure.figsize\"] = (10, 7)"
   ]
  },
  {
   "cell_type": "markdown",
   "metadata": {},
   "source": [
    "Some global data"
   ]
  },
  {
   "cell_type": "code",
   "execution_count": 3,
   "metadata": {
    "ExecuteTime": {
     "end_time": "2020-02-17T00:14:54.890905Z",
     "start_time": "2020-02-17T00:14:54.873854Z"
    }
   },
   "outputs": [],
   "source": [
    "#symbol = '^GSPC'\n",
    "symbol = 'SPY'\n",
    "#symbol = 'DIA'\n",
    "#symbol = 'QQQ'\n",
    "#symbol = 'IWM'\n",
    "#symbol = 'TLT'\n",
    "#symbol = 'GLD'\n",
    "#symbol = 'AAPL'\n",
    "#symbol = 'BBRY'\n",
    "#symbol = 'GDX'\n",
    "capital = 10000\n",
    "start = datetime.datetime(1900, 1, 1)\n",
    "start = datetime.datetime.strptime(pf.SP500_BEGIN, '%Y-%m-%d')\n",
    "#end = datetime.datetime(2010, 12, 1)\n",
    "end = datetime.datetime.now()"
   ]
  },
  {
   "cell_type": "markdown",
   "metadata": {},
   "source": [
    "Define lookback period"
   ]
  },
  {
   "cell_type": "code",
   "execution_count": 4,
   "metadata": {
    "ExecuteTime": {
     "end_time": "2020-02-17T00:14:54.904691Z",
     "start_time": "2020-02-17T00:14:54.895141Z"
    }
   },
   "outputs": [],
   "source": [
    "periods = range(3, 18+1)\n",
    "periods = [str(period) for period in periods]"
   ]
  },
  {
   "cell_type": "markdown",
   "metadata": {},
   "source": [
    "Run Strategy"
   ]
  },
  {
   "cell_type": "code",
   "execution_count": 5,
   "metadata": {
    "ExecuteTime": {
     "end_time": "2020-02-17T00:15:13.211703Z",
     "start_time": "2020-02-17T00:14:54.911026Z"
    }
   },
   "outputs": [
    {
     "name": "stdout",
     "output_type": "stream",
     "text": [
      "3 4 5 6 7 8 9 10 11 12 13 14 15 16 17 18 "
     ]
    }
   ],
   "source": [
    "strategies = pd.Series(dtype=object)\n",
    "for period in periods:\n",
    "    print(\"{0}\".format(period), end=\" \")\n",
    "    strategies[period] = strategy.Strategy(symbol, capital, start, end, period=int(period))\n",
    "    strategies[period].run()\n",
    "    strategies[period].tlog, strategies[period].dbal = strategies[period].get_logs()\n",
    "    strategies[period].stats = strategies[period].get_stats()"
   ]
  },
  {
   "cell_type": "markdown",
   "metadata": {},
   "source": [
    "Summarize results"
   ]
  },
  {
   "cell_type": "code",
   "execution_count": 6,
   "metadata": {
    "ExecuteTime": {
     "end_time": "2020-02-17T00:15:13.286091Z",
     "start_time": "2020-02-17T00:15:13.222890Z"
    },
    "scrolled": false
   },
   "outputs": [
    {
     "data": {
      "text/html": [
       "<div>\n",
       "<style scoped>\n",
       "    .dataframe tbody tr th:only-of-type {\n",
       "        vertical-align: middle;\n",
       "    }\n",
       "\n",
       "    .dataframe tbody tr th {\n",
       "        vertical-align: top;\n",
       "    }\n",
       "\n",
       "    .dataframe thead th {\n",
       "        text-align: right;\n",
       "    }\n",
       "</style>\n",
       "<table border=\"1\" class=\"dataframe\">\n",
       "  <thead>\n",
       "    <tr style=\"text-align: right;\">\n",
       "      <th></th>\n",
       "      <th>3</th>\n",
       "      <th>4</th>\n",
       "      <th>5</th>\n",
       "      <th>6</th>\n",
       "      <th>7</th>\n",
       "      <th>8</th>\n",
       "      <th>9</th>\n",
       "      <th>10</th>\n",
       "      <th>11</th>\n",
       "      <th>12</th>\n",
       "      <th>13</th>\n",
       "      <th>14</th>\n",
       "      <th>15</th>\n",
       "      <th>16</th>\n",
       "      <th>17</th>\n",
       "      <th>18</th>\n",
       "    </tr>\n",
       "  </thead>\n",
       "  <tbody>\n",
       "    <tr>\n",
       "      <th>annual_return_rate</th>\n",
       "      <td>5.60</td>\n",
       "      <td>6.14</td>\n",
       "      <td>7.83</td>\n",
       "      <td>8.44</td>\n",
       "      <td>7.10</td>\n",
       "      <td>8.49</td>\n",
       "      <td>9.61</td>\n",
       "      <td>8.54</td>\n",
       "      <td>9.05</td>\n",
       "      <td>9.31</td>\n",
       "      <td>8.43</td>\n",
       "      <td>9.03</td>\n",
       "      <td>9.46</td>\n",
       "      <td>9.04</td>\n",
       "      <td>9.12</td>\n",
       "      <td>9.69</td>\n",
       "    </tr>\n",
       "    <tr>\n",
       "      <th>max_closed_out_drawdown</th>\n",
       "      <td>-26.94</td>\n",
       "      <td>-26.66</td>\n",
       "      <td>-24.34</td>\n",
       "      <td>-24.57</td>\n",
       "      <td>-29.65</td>\n",
       "      <td>-22.05</td>\n",
       "      <td>-26.17</td>\n",
       "      <td>-30.08</td>\n",
       "      <td>-25.51</td>\n",
       "      <td>-22.90</td>\n",
       "      <td>-32.57</td>\n",
       "      <td>-29.75</td>\n",
       "      <td>-33.27</td>\n",
       "      <td>-33.25</td>\n",
       "      <td>-33.25</td>\n",
       "      <td>-27.59</td>\n",
       "    </tr>\n",
       "    <tr>\n",
       "      <th>drawdown_annualized_return</th>\n",
       "      <td>-4.81</td>\n",
       "      <td>-4.34</td>\n",
       "      <td>-3.11</td>\n",
       "      <td>-2.91</td>\n",
       "      <td>-4.17</td>\n",
       "      <td>-2.60</td>\n",
       "      <td>-2.72</td>\n",
       "      <td>-3.52</td>\n",
       "      <td>-2.82</td>\n",
       "      <td>-2.46</td>\n",
       "      <td>-3.86</td>\n",
       "      <td>-3.30</td>\n",
       "      <td>-3.52</td>\n",
       "      <td>-3.68</td>\n",
       "      <td>-3.65</td>\n",
       "      <td>-2.85</td>\n",
       "    </tr>\n",
       "    <tr>\n",
       "      <th>drawdown_recovery</th>\n",
       "      <td>-4.45</td>\n",
       "      <td>-3.56</td>\n",
       "      <td>-3.04</td>\n",
       "      <td>-0.31</td>\n",
       "      <td>-2.89</td>\n",
       "      <td>-1.75</td>\n",
       "      <td>-1.10</td>\n",
       "      <td>-0.40</td>\n",
       "      <td>-1.10</td>\n",
       "      <td>-0.67</td>\n",
       "      <td>-0.23</td>\n",
       "      <td>-0.17</td>\n",
       "      <td>-0.11</td>\n",
       "      <td>-0.11</td>\n",
       "      <td>-0.11</td>\n",
       "      <td>-2.73</td>\n",
       "    </tr>\n",
       "    <tr>\n",
       "      <th>best_month</th>\n",
       "      <td>15.03</td>\n",
       "      <td>15.02</td>\n",
       "      <td>15.44</td>\n",
       "      <td>15.43</td>\n",
       "      <td>15.45</td>\n",
       "      <td>15.03</td>\n",
       "      <td>17.78</td>\n",
       "      <td>17.78</td>\n",
       "      <td>17.78</td>\n",
       "      <td>17.79</td>\n",
       "      <td>17.77</td>\n",
       "      <td>17.78</td>\n",
       "      <td>17.96</td>\n",
       "      <td>17.95</td>\n",
       "      <td>17.98</td>\n",
       "      <td>17.77</td>\n",
       "    </tr>\n",
       "    <tr>\n",
       "      <th>worst_month</th>\n",
       "      <td>-18.86</td>\n",
       "      <td>-18.88</td>\n",
       "      <td>-18.94</td>\n",
       "      <td>-18.91</td>\n",
       "      <td>-18.93</td>\n",
       "      <td>-18.91</td>\n",
       "      <td>-22.09</td>\n",
       "      <td>-22.07</td>\n",
       "      <td>-18.94</td>\n",
       "      <td>-18.94</td>\n",
       "      <td>-29.10</td>\n",
       "      <td>-29.07</td>\n",
       "      <td>-29.08</td>\n",
       "      <td>-29.06</td>\n",
       "      <td>-29.06</td>\n",
       "      <td>-18.93</td>\n",
       "    </tr>\n",
       "    <tr>\n",
       "      <th>sharpe_ratio</th>\n",
       "      <td>0.51</td>\n",
       "      <td>0.56</td>\n",
       "      <td>0.68</td>\n",
       "      <td>0.71</td>\n",
       "      <td>0.60</td>\n",
       "      <td>0.69</td>\n",
       "      <td>0.76</td>\n",
       "      <td>0.69</td>\n",
       "      <td>0.71</td>\n",
       "      <td>0.71</td>\n",
       "      <td>0.64</td>\n",
       "      <td>0.67</td>\n",
       "      <td>0.69</td>\n",
       "      <td>0.66</td>\n",
       "      <td>0.67</td>\n",
       "      <td>0.73</td>\n",
       "    </tr>\n",
       "    <tr>\n",
       "      <th>sortino_ratio</th>\n",
       "      <td>0.53</td>\n",
       "      <td>0.60</td>\n",
       "      <td>0.74</td>\n",
       "      <td>0.78</td>\n",
       "      <td>0.66</td>\n",
       "      <td>0.76</td>\n",
       "      <td>0.85</td>\n",
       "      <td>0.77</td>\n",
       "      <td>0.80</td>\n",
       "      <td>0.82</td>\n",
       "      <td>0.70</td>\n",
       "      <td>0.75</td>\n",
       "      <td>0.77</td>\n",
       "      <td>0.75</td>\n",
       "      <td>0.76</td>\n",
       "      <td>0.84</td>\n",
       "    </tr>\n",
       "    <tr>\n",
       "      <th>monthly_std</th>\n",
       "      <td>3.13</td>\n",
       "      <td>3.16</td>\n",
       "      <td>3.10</td>\n",
       "      <td>3.20</td>\n",
       "      <td>3.34</td>\n",
       "      <td>3.34</td>\n",
       "      <td>3.50</td>\n",
       "      <td>3.45</td>\n",
       "      <td>3.39</td>\n",
       "      <td>3.41</td>\n",
       "      <td>3.55</td>\n",
       "      <td>3.61</td>\n",
       "      <td>3.65</td>\n",
       "      <td>3.69</td>\n",
       "      <td>3.72</td>\n",
       "      <td>3.47</td>\n",
       "    </tr>\n",
       "    <tr>\n",
       "      <th>pct_time_in_market</th>\n",
       "      <td>70.79</td>\n",
       "      <td>71.69</td>\n",
       "      <td>73.12</td>\n",
       "      <td>74.71</td>\n",
       "      <td>76.52</td>\n",
       "      <td>77.47</td>\n",
       "      <td>78.52</td>\n",
       "      <td>78.73</td>\n",
       "      <td>79.57</td>\n",
       "      <td>81.28</td>\n",
       "      <td>80.52</td>\n",
       "      <td>81.62</td>\n",
       "      <td>81.71</td>\n",
       "      <td>82.18</td>\n",
       "      <td>81.72</td>\n",
       "      <td>81.40</td>\n",
       "    </tr>\n",
       "    <tr>\n",
       "      <th>total_num_trades</th>\n",
       "      <td>76.00</td>\n",
       "      <td>61.00</td>\n",
       "      <td>55.00</td>\n",
       "      <td>37.00</td>\n",
       "      <td>40.00</td>\n",
       "      <td>29.00</td>\n",
       "      <td>30.00</td>\n",
       "      <td>30.00</td>\n",
       "      <td>29.00</td>\n",
       "      <td>20.00</td>\n",
       "      <td>20.00</td>\n",
       "      <td>16.00</td>\n",
       "      <td>12.00</td>\n",
       "      <td>14.00</td>\n",
       "      <td>16.00</td>\n",
       "      <td>13.00</td>\n",
       "    </tr>\n",
       "    <tr>\n",
       "      <th>pct_profitable_trades</th>\n",
       "      <td>51.32</td>\n",
       "      <td>40.98</td>\n",
       "      <td>50.91</td>\n",
       "      <td>51.35</td>\n",
       "      <td>47.50</td>\n",
       "      <td>48.28</td>\n",
       "      <td>50.00</td>\n",
       "      <td>46.67</td>\n",
       "      <td>41.38</td>\n",
       "      <td>45.00</td>\n",
       "      <td>40.00</td>\n",
       "      <td>62.50</td>\n",
       "      <td>50.00</td>\n",
       "      <td>50.00</td>\n",
       "      <td>56.25</td>\n",
       "      <td>61.54</td>\n",
       "    </tr>\n",
       "    <tr>\n",
       "      <th>avg_points</th>\n",
       "      <td>1.79</td>\n",
       "      <td>2.10</td>\n",
       "      <td>3.23</td>\n",
       "      <td>4.91</td>\n",
       "      <td>3.93</td>\n",
       "      <td>6.41</td>\n",
       "      <td>6.35</td>\n",
       "      <td>6.67</td>\n",
       "      <td>6.57</td>\n",
       "      <td>10.32</td>\n",
       "      <td>7.88</td>\n",
       "      <td>10.18</td>\n",
       "      <td>15.00</td>\n",
       "      <td>12.13</td>\n",
       "      <td>10.98</td>\n",
       "      <td>16.82</td>\n",
       "    </tr>\n",
       "  </tbody>\n",
       "</table>\n",
       "</div>"
      ],
      "text/plain": [
       "                                3      4      5      6      7      8      9  \\\n",
       "annual_return_rate           5.60   6.14   7.83   8.44   7.10   8.49   9.61   \n",
       "max_closed_out_drawdown    -26.94 -26.66 -24.34 -24.57 -29.65 -22.05 -26.17   \n",
       "drawdown_annualized_return  -4.81  -4.34  -3.11  -2.91  -4.17  -2.60  -2.72   \n",
       "drawdown_recovery           -4.45  -3.56  -3.04  -0.31  -2.89  -1.75  -1.10   \n",
       "best_month                  15.03  15.02  15.44  15.43  15.45  15.03  17.78   \n",
       "worst_month                -18.86 -18.88 -18.94 -18.91 -18.93 -18.91 -22.09   \n",
       "sharpe_ratio                 0.51   0.56   0.68   0.71   0.60   0.69   0.76   \n",
       "sortino_ratio                0.53   0.60   0.74   0.78   0.66   0.76   0.85   \n",
       "monthly_std                  3.13   3.16   3.10   3.20   3.34   3.34   3.50   \n",
       "pct_time_in_market          70.79  71.69  73.12  74.71  76.52  77.47  78.52   \n",
       "total_num_trades            76.00  61.00  55.00  37.00  40.00  29.00  30.00   \n",
       "pct_profitable_trades       51.32  40.98  50.91  51.35  47.50  48.28  50.00   \n",
       "avg_points                   1.79   2.10   3.23   4.91   3.93   6.41   6.35   \n",
       "\n",
       "                               10     11     12     13     14     15     16  \\\n",
       "annual_return_rate           8.54   9.05   9.31   8.43   9.03   9.46   9.04   \n",
       "max_closed_out_drawdown    -30.08 -25.51 -22.90 -32.57 -29.75 -33.27 -33.25   \n",
       "drawdown_annualized_return  -3.52  -2.82  -2.46  -3.86  -3.30  -3.52  -3.68   \n",
       "drawdown_recovery           -0.40  -1.10  -0.67  -0.23  -0.17  -0.11  -0.11   \n",
       "best_month                  17.78  17.78  17.79  17.77  17.78  17.96  17.95   \n",
       "worst_month                -22.07 -18.94 -18.94 -29.10 -29.07 -29.08 -29.06   \n",
       "sharpe_ratio                 0.69   0.71   0.71   0.64   0.67   0.69   0.66   \n",
       "sortino_ratio                0.77   0.80   0.82   0.70   0.75   0.77   0.75   \n",
       "monthly_std                  3.45   3.39   3.41   3.55   3.61   3.65   3.69   \n",
       "pct_time_in_market          78.73  79.57  81.28  80.52  81.62  81.71  82.18   \n",
       "total_num_trades            30.00  29.00  20.00  20.00  16.00  12.00  14.00   \n",
       "pct_profitable_trades       46.67  41.38  45.00  40.00  62.50  50.00  50.00   \n",
       "avg_points                   6.67   6.57  10.32   7.88  10.18  15.00  12.13   \n",
       "\n",
       "                               17     18  \n",
       "annual_return_rate           9.12   9.69  \n",
       "max_closed_out_drawdown    -33.25 -27.59  \n",
       "drawdown_annualized_return  -3.65  -2.85  \n",
       "drawdown_recovery           -0.11  -2.73  \n",
       "best_month                  17.98  17.77  \n",
       "worst_month                -29.06 -18.93  \n",
       "sharpe_ratio                 0.67   0.73  \n",
       "sortino_ratio                0.76   0.84  \n",
       "monthly_std                  3.72   3.47  \n",
       "pct_time_in_market          81.72  81.40  \n",
       "total_num_trades            16.00  13.00  \n",
       "pct_profitable_trades       56.25  61.54  \n",
       "avg_points                  10.98  16.82  "
      ]
     },
     "execution_count": 6,
     "metadata": {},
     "output_type": "execute_result"
    }
   ],
   "source": [
    "metrics = ('annual_return_rate',\n",
    "           'max_closed_out_drawdown',\n",
    "           'drawdown_annualized_return',\n",
    "           'drawdown_recovery',\n",
    "           'best_month',\n",
    "           'worst_month',\n",
    "           'sharpe_ratio',\n",
    "           'sortino_ratio',\n",
    "           'monthly_std',\n",
    "           'pct_time_in_market',\n",
    "           'total_num_trades',\n",
    "           'pct_profitable_trades',\n",
    "           'avg_points')\n",
    "\n",
    "df = strategy.summary(strategies, metrics)\n",
    "df"
   ]
  },
  {
   "cell_type": "markdown",
   "metadata": {},
   "source": [
    "Bar graphs"
   ]
  },
  {
   "cell_type": "code",
   "execution_count": 7,
   "metadata": {
    "ExecuteTime": {
     "end_time": "2020-02-17T00:15:14.155474Z",
     "start_time": "2020-02-17T00:15:13.291988Z"
    }
   },
   "outputs": [
    {
     "data": {
      "image/png": "[encoded data removed]",
      "text/plain": [
       "<Figure size 720x504 with 1 Axes>"
      ]
     },
     "metadata": {
      "needs_background": "light"
     },
     "output_type": "display_data"
    },
    {
     "data": {
      "image/png": "[encoded data removed]",
      "text/plain": [
       "<Figure size 720x504 with 1 Axes>"
      ]
     },
     "metadata": {
      "needs_background": "light"
     },
     "output_type": "display_data"
    },
    {
     "data": {
      "image/png": "[encoded data removed]",
      "text/plain": [
       "<Figure size 720x504 with 1 Axes>"
      ]
     },
     "metadata": {
      "needs_background": "light"
     },
     "output_type": "display_data"
    }
   ],
   "source": [
    "strategy.plot_bar_graph(df, 'annual_return_rate')\n",
    "strategy.plot_bar_graph(df, 'sharpe_ratio')\n",
    "strategy.plot_bar_graph(df, 'max_closed_out_drawdown')"
   ]
  },
  {
   "cell_type": "markdown",
   "metadata": {},
   "source": [
    "Run Benchmark"
   ]
  },
  {
   "cell_type": "code",
   "execution_count": 8,
   "metadata": {
    "ExecuteTime": {
     "end_time": "2020-02-17T00:15:14.992411Z",
     "start_time": "2020-02-17T00:15:14.162453Z"
    }
   },
   "outputs": [
    {
     "name": "stdout",
     "output_type": "stream",
     "text": [
      "1994-07-05 00:00:00 BUY  223 SPY @ 44.80\n",
      "2020-07-15 00:00:00 SELL 223 SPY @ 321.85\n"
     ]
    }
   ],
   "source": [
    "s = strategies[periods[0]]\n",
    "benchmark = pf.Benchmark(symbol, capital, s._start, s._end)\n",
    "benchmark.run()\n",
    "benchmark.tlog, benchmark.dbal = benchmark.get_logs()\n",
    "benchmark.stats = benchmark.get_stats()"
   ]
  },
  {
   "cell_type": "markdown",
   "metadata": {},
   "source": [
    "Equity curve"
   ]
  },
  {
   "cell_type": "code",
   "execution_count": 9,
   "metadata": {
    "ExecuteTime": {
     "end_time": "2020-02-17T00:15:15.273801Z",
     "start_time": "2020-02-17T00:15:15.002556Z"
    }
   },
   "outputs": [
    {
     "data": {
      "image/png": "[encoded data removed]",
      "text/plain": [
       "<Figure size 720x504 with 1 Axes>"
      ]
     },
     "metadata": {
      "needs_background": "light"
     },
     "output_type": "display_data"
    }
   ],
   "source": [
    "pf.plot_equity_curve(strategies['9'].dbal, benchmark=benchmark.dbal)"
   ]
  },
  {
   "cell_type": "code",
   "execution_count": null,
   "metadata": {},
   "outputs": [],
   "source": []
  }
 ],
 "metadata": {
  "kernelspec": {
   "display_name": "Python 3",
   "language": "python",
   "name": "python3"
  },
  "language_info": {
   "codemirror_mode": {
    "name": "ipython",
    "version": 3
   },
   "file_extension": ".py",
   "mimetype": "text/x-python",
   "name": "python",
   "nbconvert_exporter": "python",
   "pygments_lexer": "ipython3",
   "version": "3.8.2"
  },
  "latex_envs": {
   "LaTeX_envs_menu_present": true,
   "autoclose": false,
   "autocomplete": true,
   "bibliofile": "biblio.bib",
   "cite_by": "apalike",
   "current_citInitial": 1,
   "eqLabelWithNumbers": true,
   "eqNumInitial": 1,
   "hotkeys": {
    "equation": "Ctrl-E",
    "itemize": "Ctrl-I"
   },
   "labels_anchors": false,
   "latex_user_defs": false,
   "report_style_numbering": false,
   "user_envs_cfg": false
  }
 },
 "nbformat": 4,
 "nbformat_minor": 1
}
