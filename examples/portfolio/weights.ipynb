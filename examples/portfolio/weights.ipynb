{
 "cells": [
  {
   "cell_type": "markdown",
   "metadata": {},
   "source": [
    "# Weighted Portfolio\n",
    "\n",
    "On the first trading day of every month, rebalance portfolio to given percentages"
   ]
  },
  {
   "cell_type": "code",
   "execution_count": 1,
   "metadata": {
    "ExecuteTime": {
     "end_time": "2020-02-17T05:42:08.798393Z",
     "start_time": "2020-02-17T05:42:07.455687Z"
    }
   },
   "outputs": [],
   "source": [
    "import pandas as pd\n",
    "import matplotlib.pyplot as plt\n",
    "import datetime\n",
    "from talib.abstract import *\n",
    "\n",
    "import pinkfish as pf\n",
    "\n",
    "# format price data\n",
    "pd.options.display.float_format = '{:0.2f}'.format\n",
    "\n",
    "%matplotlib inline"
   ]
  },
  {
   "cell_type": "code",
   "execution_count": 2,
   "metadata": {
    "ExecuteTime": {
     "end_time": "2020-02-17T05:42:08.816893Z",
     "start_time": "2020-02-17T05:42:08.808607Z"
    }
   },
   "outputs": [],
   "source": [
    "# set size of inline plots\n",
    "'''note: rcParams can't be in same cell as import matplotlib\n",
    "   or %matplotlib inline\n",
    "   \n",
    "   %matplotlib notebook: will lead to interactive plots embedded within\n",
    "   the notebook, you can zoom and resize the figure\n",
    "   \n",
    "   %matplotlib inline: only draw static images in the notebook\n",
    "'''\n",
    "plt.rcParams[\"figure.figsize\"] = (10, 7)"
   ]
  },
  {
   "cell_type": "markdown",
   "metadata": {},
   "source": [
    "Some global data"
   ]
  },
  {
   "cell_type": "code",
   "execution_count": 3,
   "metadata": {
    "ExecuteTime": {
     "end_time": "2020-02-17T05:42:08.835362Z",
     "start_time": "2020-02-17T05:42:08.821138Z"
    }
   },
   "outputs": [],
   "source": [
    "symbols = ['SPY', 'TLT', 'GLD']\n",
    "weights = {'SPY': 0.50, 'TLT': 0.40, 'GLD': 0.10}\n",
    "directions = {'SPY': pf.Direction.LONG, 'TLT': pf.Direction.LONG, 'GLD': pf.Direction.LONG}\n",
    "capital = 10000\n",
    "start = datetime.datetime(1900, 1, 1)\n",
    "#start = datetime.datetime.strptime(pf.SP500_BEGIN, '%Y-%m-%d')\n",
    "end = datetime.datetime.now()\n",
    "\n",
    "use_cache = False"
   ]
  },
  {
   "cell_type": "code",
   "execution_count": 4,
   "metadata": {},
   "outputs": [],
   "source": [
    "portfolio = pf.Portfolio()\n",
    "ts = portfolio.fetch_timeseries(symbols, start, end, use_cache=use_cache)"
   ]
  },
  {
   "cell_type": "code",
   "execution_count": 5,
   "metadata": {},
   "outputs": [],
   "source": [
    "# add calendar columns\n",
    "ts = portfolio.calendar(ts)"
   ]
  },
  {
   "cell_type": "code",
   "execution_count": 6,
   "metadata": {},
   "outputs": [],
   "source": [
    "ts, start = portfolio.finalize_timeseries(ts, start)"
   ]
  },
  {
   "cell_type": "code",
   "execution_count": 7,
   "metadata": {},
   "outputs": [],
   "source": [
    "portfolio.init_trade_logs(ts, capital)"
   ]
  },
  {
   "cell_type": "code",
   "execution_count": 8,
   "metadata": {
    "scrolled": false
   },
   "outputs": [],
   "source": [
    "for i, row in enumerate(ts.itertuples()):\n",
    "\n",
    "    date = row.Index.to_pydatetime()\n",
    "    end_flag = pf.is_last_row(ts, i)\n",
    "\n",
    "    # rebalance on the first trading day of each month\n",
    "    if row.first_dotm or end_flag:\n",
    "        #portfolio.print_holdings(date, row)\n",
    "        for symbol in portfolio.symbols:\n",
    "            price = getattr(row, symbol + '_close')\n",
    "            weight = 0 if end_flag else weights[symbol]\n",
    "            direction = directions[symbol]\n",
    "            portfolio.adjust_percent(date, price, weight, symbol, row, direction)\n",
    "    # record daily balance\n",
    "    portfolio.record_daily_balance(date, row)"
   ]
  },
  {
   "cell_type": "code",
   "execution_count": 9,
   "metadata": {},
   "outputs": [],
   "source": [
    "rlog, tlog, dbal = portfolio.get_logs()"
   ]
  },
  {
   "cell_type": "code",
   "execution_count": 10,
   "metadata": {
    "scrolled": false
   },
   "outputs": [
    {
     "data": {
      "text/html": [
       "<div>\n",
       "<style scoped>\n",
       "    .dataframe tbody tr th:only-of-type {\n",
       "        vertical-align: middle;\n",
       "    }\n",
       "\n",
       "    .dataframe tbody tr th {\n",
       "        vertical-align: top;\n",
       "    }\n",
       "\n",
       "    .dataframe thead th {\n",
       "        text-align: right;\n",
       "    }\n",
       "</style>\n",
       "<table border=\"1\" class=\"dataframe\">\n",
       "  <thead>\n",
       "    <tr style=\"text-align: right;\">\n",
       "      <th></th>\n",
       "      <th>date</th>\n",
       "      <th>price</th>\n",
       "      <th>shares</th>\n",
       "      <th>entry_exit</th>\n",
       "      <th>direction</th>\n",
       "      <th>symbol</th>\n",
       "    </tr>\n",
       "  </thead>\n",
       "  <tbody>\n",
       "    <tr>\n",
       "      <th>0</th>\n",
       "      <td>2004-12-01</td>\n",
       "      <td>86.95</td>\n",
       "      <td>57</td>\n",
       "      <td>entry</td>\n",
       "      <td>LONG</td>\n",
       "      <td>SPY</td>\n",
       "    </tr>\n",
       "    <tr>\n",
       "      <th>1</th>\n",
       "      <td>2004-12-01</td>\n",
       "      <td>51.53</td>\n",
       "      <td>77</td>\n",
       "      <td>entry</td>\n",
       "      <td>LONG</td>\n",
       "      <td>TLT</td>\n",
       "    </tr>\n",
       "    <tr>\n",
       "      <th>2</th>\n",
       "      <td>2004-12-01</td>\n",
       "      <td>45.38</td>\n",
       "      <td>22</td>\n",
       "      <td>entry</td>\n",
       "      <td>LONG</td>\n",
       "      <td>GLD</td>\n",
       "    </tr>\n",
       "    <tr>\n",
       "      <th>3</th>\n",
       "      <td>2005-01-03</td>\n",
       "      <td>43.02</td>\n",
       "      <td>1</td>\n",
       "      <td>entry</td>\n",
       "      <td>LONG</td>\n",
       "      <td>GLD</td>\n",
       "    </tr>\n",
       "    <tr>\n",
       "      <th>4</th>\n",
       "      <td>2005-01-03</td>\n",
       "      <td>53.09</td>\n",
       "      <td>1</td>\n",
       "      <td>exit</td>\n",
       "      <td>LONG</td>\n",
       "      <td>None</td>\n",
       "    </tr>\n",
       "  </tbody>\n",
       "</table>\n",
       "</div>"
      ],
      "text/plain": [
       "        date  price  shares entry_exit direction symbol\n",
       "0 2004-12-01  86.95      57      entry      LONG    SPY\n",
       "1 2004-12-01  51.53      77      entry      LONG    TLT\n",
       "2 2004-12-01  45.38      22      entry      LONG    GLD\n",
       "3 2005-01-03  43.02       1      entry      LONG    GLD\n",
       "4 2005-01-03  53.09       1       exit      LONG   None"
      ]
     },
     "execution_count": 10,
     "metadata": {},
     "output_type": "execute_result"
    }
   ],
   "source": [
    "rlog.head()"
   ]
  },
  {
   "cell_type": "code",
   "execution_count": 11,
   "metadata": {},
   "outputs": [
    {
     "data": {
      "text/html": [
       "<div>\n",
       "<style scoped>\n",
       "    .dataframe tbody tr th:only-of-type {\n",
       "        vertical-align: middle;\n",
       "    }\n",
       "\n",
       "    .dataframe tbody tr th {\n",
       "        vertical-align: top;\n",
       "    }\n",
       "\n",
       "    .dataframe thead th {\n",
       "        text-align: right;\n",
       "    }\n",
       "</style>\n",
       "<table border=\"1\" class=\"dataframe\">\n",
       "  <thead>\n",
       "    <tr style=\"text-align: right;\">\n",
       "      <th></th>\n",
       "      <th>entry_date</th>\n",
       "      <th>entry_price</th>\n",
       "      <th>exit_date</th>\n",
       "      <th>exit_price</th>\n",
       "      <th>pl_points</th>\n",
       "      <th>pl_cash</th>\n",
       "      <th>qty</th>\n",
       "      <th>cumul_total</th>\n",
       "      <th>direction</th>\n",
       "      <th>symbol</th>\n",
       "    </tr>\n",
       "  </thead>\n",
       "  <tbody>\n",
       "    <tr>\n",
       "      <th>233</th>\n",
       "      <td>2013-05-01</td>\n",
       "      <td>141.11</td>\n",
       "      <td>2017-02-01</td>\n",
       "      <td>115.20</td>\n",
       "      <td>-25.91</td>\n",
       "      <td>-25.91</td>\n",
       "      <td>1</td>\n",
       "      <td>18244.18</td>\n",
       "      <td>LONG</td>\n",
       "      <td>GLD</td>\n",
       "    </tr>\n",
       "    <tr>\n",
       "      <th>234</th>\n",
       "      <td>2013-05-01</td>\n",
       "      <td>141.11</td>\n",
       "      <td>2017-08-01</td>\n",
       "      <td>120.65</td>\n",
       "      <td>-20.46</td>\n",
       "      <td>-20.46</td>\n",
       "      <td>1</td>\n",
       "      <td>18223.72</td>\n",
       "      <td>LONG</td>\n",
       "      <td>GLD</td>\n",
       "    </tr>\n",
       "    <tr>\n",
       "      <th>235</th>\n",
       "      <td>2013-05-01</td>\n",
       "      <td>137.10</td>\n",
       "      <td>2020-06-22</td>\n",
       "      <td>310.67</td>\n",
       "      <td>173.57</td>\n",
       "      <td>173.57</td>\n",
       "      <td>1</td>\n",
       "      <td>18397.29</td>\n",
       "      <td>LONG</td>\n",
       "      <td>SPY</td>\n",
       "    </tr>\n",
       "    <tr>\n",
       "      <th>236</th>\n",
       "      <td>2013-06-03</td>\n",
       "      <td>95.92</td>\n",
       "      <td>2020-03-02</td>\n",
       "      <td>153.32</td>\n",
       "      <td>57.41</td>\n",
       "      <td>287.03</td>\n",
       "      <td>5</td>\n",
       "      <td>18684.32</td>\n",
       "      <td>LONG</td>\n",
       "      <td>TLT</td>\n",
       "    </tr>\n",
       "    <tr>\n",
       "      <th>237</th>\n",
       "      <td>2013-07-01</td>\n",
       "      <td>121.13</td>\n",
       "      <td>2017-09-01</td>\n",
       "      <td>126.06</td>\n",
       "      <td>4.93</td>\n",
       "      <td>4.93</td>\n",
       "      <td>1</td>\n",
       "      <td>18689.25</td>\n",
       "      <td>LONG</td>\n",
       "      <td>GLD</td>\n",
       "    </tr>\n",
       "    <tr>\n",
       "      <th>...</th>\n",
       "      <td>...</td>\n",
       "      <td>...</td>\n",
       "      <td>...</td>\n",
       "      <td>...</td>\n",
       "      <td>...</td>\n",
       "      <td>...</td>\n",
       "      <td>...</td>\n",
       "      <td>...</td>\n",
       "      <td>...</td>\n",
       "      <td>...</td>\n",
       "    </tr>\n",
       "    <tr>\n",
       "      <th>328</th>\n",
       "      <td>2020-03-02</td>\n",
       "      <td>305.94</td>\n",
       "      <td>2020-06-22</td>\n",
       "      <td>310.67</td>\n",
       "      <td>4.73</td>\n",
       "      <td>9.47</td>\n",
       "      <td>2</td>\n",
       "      <td>27312.65</td>\n",
       "      <td>LONG</td>\n",
       "      <td>SPY</td>\n",
       "    </tr>\n",
       "    <tr>\n",
       "      <th>329</th>\n",
       "      <td>2020-04-01</td>\n",
       "      <td>245.07</td>\n",
       "      <td>2020-06-22</td>\n",
       "      <td>310.67</td>\n",
       "      <td>65.60</td>\n",
       "      <td>196.80</td>\n",
       "      <td>3</td>\n",
       "      <td>27509.45</td>\n",
       "      <td>LONG</td>\n",
       "      <td>SPY</td>\n",
       "    </tr>\n",
       "    <tr>\n",
       "      <th>330</th>\n",
       "      <td>2020-05-01</td>\n",
       "      <td>281.55</td>\n",
       "      <td>2020-06-22</td>\n",
       "      <td>310.67</td>\n",
       "      <td>29.12</td>\n",
       "      <td>145.59</td>\n",
       "      <td>5</td>\n",
       "      <td>27655.04</td>\n",
       "      <td>LONG</td>\n",
       "      <td>SPY</td>\n",
       "    </tr>\n",
       "    <tr>\n",
       "      <th>331</th>\n",
       "      <td>2020-05-01</td>\n",
       "      <td>167.73</td>\n",
       "      <td>2020-06-22</td>\n",
       "      <td>162.41</td>\n",
       "      <td>-5.32</td>\n",
       "      <td>-31.95</td>\n",
       "      <td>6</td>\n",
       "      <td>27623.10</td>\n",
       "      <td>LONG</td>\n",
       "      <td>TLT</td>\n",
       "    </tr>\n",
       "    <tr>\n",
       "      <th>332</th>\n",
       "      <td>2020-06-01</td>\n",
       "      <td>162.28</td>\n",
       "      <td>2020-06-22</td>\n",
       "      <td>162.41</td>\n",
       "      <td>0.13</td>\n",
       "      <td>0.65</td>\n",
       "      <td>5</td>\n",
       "      <td>27623.75</td>\n",
       "      <td>LONG</td>\n",
       "      <td>TLT</td>\n",
       "    </tr>\n",
       "  </tbody>\n",
       "</table>\n",
       "<p>100 rows × 10 columns</p>\n",
       "</div>"
      ],
      "text/plain": [
       "    entry_date  entry_price  exit_date  exit_price  pl_points  pl_cash  qty  \\\n",
       "233 2013-05-01       141.11 2017-02-01      115.20     -25.91   -25.91    1   \n",
       "234 2013-05-01       141.11 2017-08-01      120.65     -20.46   -20.46    1   \n",
       "235 2013-05-01       137.10 2020-06-22      310.67     173.57   173.57    1   \n",
       "236 2013-06-03        95.92 2020-03-02      153.32      57.41   287.03    5   \n",
       "237 2013-07-01       121.13 2017-09-01      126.06       4.93     4.93    1   \n",
       "..         ...          ...        ...         ...        ...      ...  ...   \n",
       "328 2020-03-02       305.94 2020-06-22      310.67       4.73     9.47    2   \n",
       "329 2020-04-01       245.07 2020-06-22      310.67      65.60   196.80    3   \n",
       "330 2020-05-01       281.55 2020-06-22      310.67      29.12   145.59    5   \n",
       "331 2020-05-01       167.73 2020-06-22      162.41      -5.32   -31.95    6   \n",
       "332 2020-06-01       162.28 2020-06-22      162.41       0.13     0.65    5   \n",
       "\n",
       "     cumul_total direction symbol  \n",
       "233     18244.18      LONG    GLD  \n",
       "234     18223.72      LONG    GLD  \n",
       "235     18397.29      LONG    SPY  \n",
       "236     18684.32      LONG    TLT  \n",
       "237     18689.25      LONG    GLD  \n",
       "..           ...       ...    ...  \n",
       "328     27312.65      LONG    SPY  \n",
       "329     27509.45      LONG    SPY  \n",
       "330     27655.04      LONG    SPY  \n",
       "331     27623.10      LONG    TLT  \n",
       "332     27623.75      LONG    TLT  \n",
       "\n",
       "[100 rows x 10 columns]"
      ]
     },
     "execution_count": 11,
     "metadata": {},
     "output_type": "execute_result"
    }
   ],
   "source": [
    "tlog.tail(100)"
   ]
  },
  {
   "cell_type": "code",
   "execution_count": 12,
   "metadata": {
    "scrolled": false
   },
   "outputs": [
    {
     "data": {
      "text/html": [
       "<div>\n",
       "<style scoped>\n",
       "    .dataframe tbody tr th:only-of-type {\n",
       "        vertical-align: middle;\n",
       "    }\n",
       "\n",
       "    .dataframe tbody tr th {\n",
       "        vertical-align: top;\n",
       "    }\n",
       "\n",
       "    .dataframe thead th {\n",
       "        text-align: right;\n",
       "    }\n",
       "</style>\n",
       "<table border=\"1\" class=\"dataframe\">\n",
       "  <thead>\n",
       "    <tr style=\"text-align: right;\">\n",
       "      <th></th>\n",
       "      <th>high</th>\n",
       "      <th>low</th>\n",
       "      <th>close</th>\n",
       "      <th>shares</th>\n",
       "      <th>cash</th>\n",
       "      <th>state</th>\n",
       "    </tr>\n",
       "    <tr>\n",
       "      <th>date</th>\n",
       "      <th></th>\n",
       "      <th></th>\n",
       "      <th></th>\n",
       "      <th></th>\n",
       "      <th></th>\n",
       "      <th></th>\n",
       "    </tr>\n",
       "  </thead>\n",
       "  <tbody>\n",
       "    <tr>\n",
       "      <th>2020-06-16</th>\n",
       "      <td>37388.90</td>\n",
       "      <td>37388.90</td>\n",
       "      <td>37388.90</td>\n",
       "      <td>174</td>\n",
       "      <td>261.59</td>\n",
       "      <td>-</td>\n",
       "    </tr>\n",
       "    <tr>\n",
       "      <th>2020-06-17</th>\n",
       "      <td>37376.83</td>\n",
       "      <td>37376.83</td>\n",
       "      <td>37376.83</td>\n",
       "      <td>174</td>\n",
       "      <td>261.59</td>\n",
       "      <td>-</td>\n",
       "    </tr>\n",
       "    <tr>\n",
       "      <th>2020-06-18</th>\n",
       "      <td>37531.78</td>\n",
       "      <td>37531.78</td>\n",
       "      <td>37531.78</td>\n",
       "      <td>174</td>\n",
       "      <td>261.59</td>\n",
       "      <td>-</td>\n",
       "    </tr>\n",
       "    <tr>\n",
       "      <th>2020-06-19</th>\n",
       "      <td>37474.78</td>\n",
       "      <td>37474.78</td>\n",
       "      <td>37474.78</td>\n",
       "      <td>174</td>\n",
       "      <td>261.59</td>\n",
       "      <td>-</td>\n",
       "    </tr>\n",
       "    <tr>\n",
       "      <th>2020-06-22</th>\n",
       "      <td>37623.75</td>\n",
       "      <td>37623.75</td>\n",
       "      <td>37623.75</td>\n",
       "      <td>0</td>\n",
       "      <td>37623.75</td>\n",
       "      <td>X</td>\n",
       "    </tr>\n",
       "  </tbody>\n",
       "</table>\n",
       "</div>"
      ],
      "text/plain": [
       "               high      low    close  shares     cash state\n",
       "date                                                        \n",
       "2020-06-16 37388.90 37388.90 37388.90     174   261.59     -\n",
       "2020-06-17 37376.83 37376.83 37376.83     174   261.59     -\n",
       "2020-06-18 37531.78 37531.78 37531.78     174   261.59     -\n",
       "2020-06-19 37474.78 37474.78 37474.78     174   261.59     -\n",
       "2020-06-22 37623.75 37623.75 37623.75       0 37623.75     X"
      ]
     },
     "execution_count": 12,
     "metadata": {},
     "output_type": "execute_result"
    }
   ],
   "source": [
    "dbal.tail()"
   ]
  },
  {
   "cell_type": "code",
   "execution_count": 13,
   "metadata": {},
   "outputs": [
    {
     "name": "stdout",
     "output_type": "stream",
     "text": [
      "start                                                  2004-11-18\n",
      "end                                                    2020-06-22\n",
      "beginning_balance                                           10000\n",
      "ending_balance                                           37623.75\n",
      "total_net_profit                                         27623.75\n",
      "gross_profit                                             28070.31\n",
      "gross_loss                                                -446.56\n",
      "profit_factor                                               62.86\n",
      "return_on_initial_capital                                  276.24\n",
      "annual_return_rate                                           8.87\n",
      "trading_period                           15 years 7 months 4 days\n",
      "pct_time_in_market                                          99.80\n",
      "total_num_trades                                              333\n",
      "trades_per_year                                             21.35\n",
      "num_winning_trades                                            314\n",
      "num_losing_trades                                              19\n",
      "num_even_trades                                                 0\n",
      "pct_profitable_trades                                       94.29\n",
      "avg_profit_per_trade                                        82.95\n",
      "avg_profit_per_winning_trade                                89.40\n",
      "avg_loss_per_losing_trade                                  -23.50\n",
      "ratio_avg_profit_win_loss                                    3.80\n",
      "largest_profit_winning_trade                              1311.08\n",
      "largest_loss_losing_trade                                 -101.03\n",
      "num_winning_points                                       18457.13\n",
      "num_losing_points                                         -295.32\n",
      "total_net_points                                         18161.81\n",
      "avg_points                                                  54.54\n",
      "largest_points_winning_trade                               237.54\n",
      "largest_points_losing_trade                                -43.19\n",
      "avg_pct_gain_per_trade                                      62.89\n",
      "largest_pct_winning_trade                                  403.84\n",
      "largest_pct_losing_trade                                   -26.83\n",
      "max_consecutive_winning_trades                                115\n",
      "max_consecutive_losing_trades                                   3\n",
      "avg_bars_winning_trades                                   1217.84\n",
      "avg_bars_losing_trades                                     973.26\n",
      "max_closed_out_drawdown                                    -24.08\n",
      "max_closed_out_drawdown_start_date                     2007-12-06\n",
      "max_closed_out_drawdown_end_date                       2009-03-09\n",
      "max_closed_out_drawdown_recovery_date                  2010-04-09\n",
      "drawdown_recovery                                           -1.26\n",
      "drawdown_annualized_return                                  -2.71\n",
      "max_intra_day_drawdown                                     -24.08\n",
      "avg_yearly_closed_out_drawdown                              -6.33\n",
      "max_yearly_closed_out_drawdown                             -23.81\n",
      "avg_monthly_closed_out_drawdown                             -1.88\n",
      "max_monthly_closed_out_drawdown                            -15.71\n",
      "avg_weekly_closed_out_drawdown                              -0.77\n",
      "max_weekly_closed_out_drawdown                             -10.47\n",
      "avg_yearly_closed_out_runup                                 13.98\n",
      "max_yearly_closed_out_runup                                 29.89\n",
      "avg_monthly_closed_out_runup                                 2.49\n",
      "max_monthly_closed_out_runup                                16.84\n",
      "avg_weekly_closed_out_runup                                  0.93\n",
      "max_weekly_closed_out_runup                                  9.58\n",
      "pct_profitable_years                                        90.20\n",
      "best_year                                                   28.68\n",
      "worst_year                                                 -21.17\n",
      "avg_year                                                     8.90\n",
      "annual_std                                                   7.96\n",
      "pct_profitable_months                                       67.78\n",
      "best_month                                                  16.84\n",
      "worst_month                                                -15.59\n",
      "avg_month                                                    0.70\n",
      "monthly_std                                                  2.36\n",
      "pct_profitable_weeks                                        60.45\n",
      "best_week                                                    9.58\n",
      "worst_week                                                  -9.78\n",
      "avg_week                                                     0.18\n",
      "weekly_std                                                   1.20\n",
      "sharpe_ratio                                                 1.01\n",
      "sortino_ratio                                                1.31\n",
      "dtype: object\n"
     ]
    }
   ],
   "source": [
    "stats = pf.stats(ts, tlog, dbal, capital)\n",
    "pf.print_full(stats)"
   ]
  },
  {
   "cell_type": "code",
   "execution_count": 14,
   "metadata": {},
   "outputs": [
    {
     "name": "stdout",
     "output_type": "stream",
     "text": [
      "2004-11-18 00:00:00 BUY  115 SPY @ 86.59\n",
      "2020-06-22 00:00:00 SELL 115 SPY @ 310.67\n"
     ]
    }
   ],
   "source": [
    "benchmark = pf.Benchmark('SPY', capital, start, end, use_adj=True)\n",
    "benchmark.run()"
   ]
  },
  {
   "cell_type": "code",
   "execution_count": 15,
   "metadata": {},
   "outputs": [],
   "source": [
    "benchmark.tlog, benchmark.dbal = benchmark.get_logs()"
   ]
  },
  {
   "cell_type": "code",
   "execution_count": 16,
   "metadata": {},
   "outputs": [],
   "source": [
    "benchmark.stats = benchmark.get_stats()"
   ]
  },
  {
   "cell_type": "code",
   "execution_count": 17,
   "metadata": {},
   "outputs": [
    {
     "data": {
      "image/png": "[encoded data removed]",
      "text/plain": [
       "<Figure size 720x504 with 1 Axes>"
      ]
     },
     "metadata": {
      "needs_background": "light"
     },
     "output_type": "display_data"
    }
   ],
   "source": [
    "pf.plot_equity_curve(dbal, benchmark=benchmark.dbal)"
   ]
  },
  {
   "cell_type": "code",
   "execution_count": 18,
   "metadata": {},
   "outputs": [
    {
     "data": {
      "image/png": "[encoded data removed]",
      "text/plain": [
       "<Figure size 720x504 with 1 Axes>"
      ]
     },
     "metadata": {
      "needs_background": "light"
     },
     "output_type": "display_data"
    }
   ],
   "source": [
    "pf.plot_trades(dbal, benchmark=benchmark.dbal)"
   ]
  },
  {
   "cell_type": "code",
   "execution_count": 19,
   "metadata": {},
   "outputs": [
    {
     "data": {
      "text/html": [
       "<div>\n",
       "<style scoped>\n",
       "    .dataframe tbody tr th:only-of-type {\n",
       "        vertical-align: middle;\n",
       "    }\n",
       "\n",
       "    .dataframe tbody tr th {\n",
       "        vertical-align: top;\n",
       "    }\n",
       "\n",
       "    .dataframe thead th {\n",
       "        text-align: right;\n",
       "    }\n",
       "</style>\n",
       "<table border=\"1\" class=\"dataframe\">\n",
       "  <thead>\n",
       "    <tr style=\"text-align: right;\">\n",
       "      <th></th>\n",
       "      <th>strategy</th>\n",
       "      <th>benchmark</th>\n",
       "    </tr>\n",
       "  </thead>\n",
       "  <tbody>\n",
       "    <tr>\n",
       "      <th>beginning_balance</th>\n",
       "      <td>$10,000.00</td>\n",
       "      <td>$10,000.00</td>\n",
       "    </tr>\n",
       "    <tr>\n",
       "      <th>ending_balance</th>\n",
       "      <td>$37,623.75</td>\n",
       "      <td>$35,768.79</td>\n",
       "    </tr>\n",
       "    <tr>\n",
       "      <th>total_net_profit</th>\n",
       "      <td>$27,623.75</td>\n",
       "      <td>$25,768.79</td>\n",
       "    </tr>\n",
       "    <tr>\n",
       "      <th>gross_profit</th>\n",
       "      <td>$28,070.31</td>\n",
       "      <td>$25,768.79</td>\n",
       "    </tr>\n",
       "    <tr>\n",
       "      <th>gross_loss</th>\n",
       "      <td>-$446.56</td>\n",
       "      <td>$0.00</td>\n",
       "    </tr>\n",
       "  </tbody>\n",
       "</table>\n",
       "</div>"
      ],
      "text/plain": [
       "                     strategy   benchmark\n",
       "beginning_balance  $10,000.00  $10,000.00\n",
       "ending_balance     $37,623.75  $35,768.79\n",
       "total_net_profit   $27,623.75  $25,768.79\n",
       "gross_profit       $28,070.31  $25,768.79\n",
       "gross_loss           -$446.56       $0.00"
      ]
     },
     "execution_count": 19,
     "metadata": {},
     "output_type": "execute_result"
    }
   ],
   "source": [
    "df = pf.summary(stats, benchmark.stats, metrics=pf.currency_metrics)\n",
    "df"
   ]
  },
  {
   "cell_type": "code",
   "execution_count": 20,
   "metadata": {},
   "outputs": [
    {
     "data": {
      "text/html": [
       "<div>\n",
       "<style scoped>\n",
       "    .dataframe tbody tr th:only-of-type {\n",
       "        vertical-align: middle;\n",
       "    }\n",
       "\n",
       "    .dataframe tbody tr th {\n",
       "        vertical-align: top;\n",
       "    }\n",
       "\n",
       "    .dataframe thead th {\n",
       "        text-align: right;\n",
       "    }\n",
       "</style>\n",
       "<table border=\"1\" class=\"dataframe\">\n",
       "  <thead>\n",
       "    <tr style=\"text-align: right;\">\n",
       "      <th></th>\n",
       "      <th>strategy</th>\n",
       "      <th>benchmark</th>\n",
       "    </tr>\n",
       "  </thead>\n",
       "  <tbody>\n",
       "    <tr>\n",
       "      <th>annual_return_rate</th>\n",
       "      <td>8.87</td>\n",
       "      <td>8.52</td>\n",
       "    </tr>\n",
       "    <tr>\n",
       "      <th>max_closed_out_drawdown</th>\n",
       "      <td>-24.08</td>\n",
       "      <td>-54.09</td>\n",
       "    </tr>\n",
       "    <tr>\n",
       "      <th>drawdown_annualized_return</th>\n",
       "      <td>-2.71</td>\n",
       "      <td>-6.35</td>\n",
       "    </tr>\n",
       "    <tr>\n",
       "      <th>drawdown_recovery</th>\n",
       "      <td>-1.26</td>\n",
       "      <td>-1.41</td>\n",
       "    </tr>\n",
       "    <tr>\n",
       "      <th>best_month</th>\n",
       "      <td>16.84</td>\n",
       "      <td>21.12</td>\n",
       "    </tr>\n",
       "    <tr>\n",
       "      <th>worst_month</th>\n",
       "      <td>-15.59</td>\n",
       "      <td>-30.70</td>\n",
       "    </tr>\n",
       "    <tr>\n",
       "      <th>sharpe_ratio</th>\n",
       "      <td>1.01</td>\n",
       "      <td>0.63</td>\n",
       "    </tr>\n",
       "    <tr>\n",
       "      <th>sortino_ratio</th>\n",
       "      <td>1.31</td>\n",
       "      <td>0.76</td>\n",
       "    </tr>\n",
       "    <tr>\n",
       "      <th>monthly_std</th>\n",
       "      <td>2.36</td>\n",
       "      <td>4.26</td>\n",
       "    </tr>\n",
       "  </tbody>\n",
       "</table>\n",
       "</div>"
      ],
      "text/plain": [
       "                            strategy  benchmark\n",
       "annual_return_rate              8.87       8.52\n",
       "max_closed_out_drawdown       -24.08     -54.09\n",
       "drawdown_annualized_return     -2.71      -6.35\n",
       "drawdown_recovery              -1.26      -1.41\n",
       "best_month                     16.84      21.12\n",
       "worst_month                   -15.59     -30.70\n",
       "sharpe_ratio                    1.01       0.63\n",
       "sortino_ratio                   1.31       0.76\n",
       "monthly_std                     2.36       4.26"
      ]
     },
     "execution_count": 20,
     "metadata": {},
     "output_type": "execute_result"
    },
    {
     "data": {
      "image/png": "[encoded data removed]",
      "text/plain": [
       "<Figure size 720x504 with 1 Axes>"
      ]
     },
     "metadata": {
      "needs_background": "light"
     },
     "output_type": "display_data"
    }
   ],
   "source": [
    "df = pf.plot_bar_graph(stats, benchmark.stats)\n",
    "df"
   ]
  },
  {
   "cell_type": "code",
   "execution_count": null,
   "metadata": {},
   "outputs": [],
   "source": []
  }
 ],
 "metadata": {
  "kernelspec": {
   "display_name": "Python 3",
   "language": "python",
   "name": "python3"
  },
  "language_info": {
   "codemirror_mode": {
    "name": "ipython",
    "version": 3
   },
   "file_extension": ".py",
   "mimetype": "text/x-python",
   "name": "python",
   "nbconvert_exporter": "python",
   "pygments_lexer": "ipython3",
   "version": "3.8.2"
  },
  "latex_envs": {
   "LaTeX_envs_menu_present": true,
   "autoclose": false,
   "autocomplete": true,
   "bibliofile": "biblio.bib",
   "cite_by": "apalike",
   "current_citInitial": 1,
   "eqLabelWithNumbers": true,
   "eqNumInitial": 1,
   "hotkeys": {
    "equation": "Ctrl-E",
    "itemize": "Ctrl-I"
   },
   "labels_anchors": false,
   "latex_user_defs": false,
   "report_style_numbering": false,
   "user_envs_cfg": false
  }
 },
 "nbformat": 4,
 "nbformat_minor": 1
}
