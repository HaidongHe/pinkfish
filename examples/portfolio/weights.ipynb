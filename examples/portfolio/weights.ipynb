{
 "cells": [
  {
   "cell_type": "markdown",
   "metadata": {},
   "source": [
    "# Weighted Portfolio\n",
    "\n",
    "On the first trading day of every month, rebalance portfolio to given percentages"
   ]
  },
  {
   "cell_type": "code",
   "execution_count": 1,
   "metadata": {
    "ExecuteTime": {
     "end_time": "2020-02-17T05:42:08.798393Z",
     "start_time": "2020-02-17T05:42:07.455687Z"
    }
   },
   "outputs": [],
   "source": [
    "# other imports\n",
    "import pandas as pd\n",
    "import matplotlib.pyplot as plt\n",
    "import datetime\n",
    "from talib.abstract import *\n",
    "\n",
    "# project imports\n",
    "import pinkfish as pf\n",
    "\n",
    "# format price data\n",
    "pd.options.display.float_format = '{:0.2f}'.format\n",
    "\n",
    "%matplotlib inline"
   ]
  },
  {
   "cell_type": "code",
   "execution_count": 2,
   "metadata": {
    "ExecuteTime": {
     "end_time": "2020-02-17T05:42:08.816893Z",
     "start_time": "2020-02-17T05:42:08.808607Z"
    }
   },
   "outputs": [],
   "source": [
    "# set size of inline plots\n",
    "'''note: rcParams can't be in same cell as import matplotlib\n",
    "   or %matplotlib inline\n",
    "   \n",
    "   %matplotlib notebook: will lead to interactive plots embedded within\n",
    "   the notebook, you can zoom and resize the figure\n",
    "   \n",
    "   %matplotlib inline: only draw static images in the notebook\n",
    "'''\n",
    "plt.rcParams[\"figure.figsize\"] = (10, 7)"
   ]
  },
  {
   "cell_type": "markdown",
   "metadata": {},
   "source": [
    "Some global data"
   ]
  },
  {
   "cell_type": "code",
   "execution_count": 3,
   "metadata": {
    "ExecuteTime": {
     "end_time": "2020-02-17T05:42:08.835362Z",
     "start_time": "2020-02-17T05:42:08.821138Z"
    }
   },
   "outputs": [],
   "source": [
    "symbols = ['SPY', 'TLT', 'GLD']\n",
    "weights = {'SPY': 0.50, 'TLT': 0.40, 'GLD': 0.10}\n",
    "capital = 10000\n",
    "start = datetime.datetime(1900, 1, 1)\n",
    "#start = datetime.datetime.strptime(pf.SP500_BEGIN, '%Y-%m-%d')\n",
    "end = datetime.datetime.now()\n",
    "\n",
    "use_cache = False"
   ]
  },
  {
   "cell_type": "code",
   "execution_count": 4,
   "metadata": {},
   "outputs": [],
   "source": [
    "portfolio = pf.Portfolio()\n",
    "ts = portfolio.fetch_timeseries(symbols, start, end, use_cache=use_cache)"
   ]
  },
  {
   "cell_type": "code",
   "execution_count": 5,
   "metadata": {},
   "outputs": [],
   "source": [
    "# add calendar columns\n",
    "ts = pf.calendar(ts)"
   ]
  },
  {
   "cell_type": "code",
   "execution_count": 6,
   "metadata": {},
   "outputs": [],
   "source": [
    "ts, start = pf.finalize_timeseries(ts, start)"
   ]
  },
  {
   "cell_type": "code",
   "execution_count": 7,
   "metadata": {},
   "outputs": [
    {
     "data": {
      "text/plain": [
       "SPY    <pinkfish.trade.TradeLog object at 0x7fa46b622...\n",
       "TLT    <pinkfish.trade.TradeLog object at 0x7fa46be43...\n",
       "GLD    <pinkfish.trade.TradeLog object at 0x7fa46be43...\n",
       "dtype: object"
      ]
     },
     "execution_count": 7,
     "metadata": {},
     "output_type": "execute_result"
    }
   ],
   "source": [
    "tlogs = portfolio.init_trade_logs(ts, capital)\n",
    "tlogs"
   ]
  },
  {
   "cell_type": "code",
   "execution_count": 8,
   "metadata": {
    "scrolled": false
   },
   "outputs": [],
   "source": [
    "for i, row in enumerate(ts.itertuples()):\n",
    "\n",
    "    date = row.Index.to_pydatetime()\n",
    "    end_flag = True if (i == len(ts) - 1) else False\n",
    "\n",
    "    # rebalance on the first trading day of each month\n",
    "    if row.first_dotm or end_flag:\n",
    "        #portfolio.print_holdings(date, row)\n",
    "        for symbol in portfolio._symbols:\n",
    "            price = getattr(row, symbol + '_close')\n",
    "            weight = 0 if end_flag else weights[symbol]\n",
    "            tlog = tlogs[symbol]\n",
    "            portfolio.adjust_percent(date, price, weight, symbol, tlog, row)\n",
    "    # record daily balance\n",
    "    portfolio.record_daily_balance(date, row)"
   ]
  },
  {
   "cell_type": "code",
   "execution_count": 9,
   "metadata": {},
   "outputs": [],
   "source": [
    "rlog, tlog, dbal = portfolio.get_logs(tlogs)"
   ]
  },
  {
   "cell_type": "code",
   "execution_count": 10,
   "metadata": {
    "scrolled": false
   },
   "outputs": [
    {
     "data": {
      "text/html": [
       "<div>\n",
       "<style scoped>\n",
       "    .dataframe tbody tr th:only-of-type {\n",
       "        vertical-align: middle;\n",
       "    }\n",
       "\n",
       "    .dataframe tbody tr th {\n",
       "        vertical-align: top;\n",
       "    }\n",
       "\n",
       "    .dataframe thead th {\n",
       "        text-align: right;\n",
       "    }\n",
       "</style>\n",
       "<table border=\"1\" class=\"dataframe\">\n",
       "  <thead>\n",
       "    <tr style=\"text-align: right;\">\n",
       "      <th></th>\n",
       "      <th>date</th>\n",
       "      <th>price</th>\n",
       "      <th>shares</th>\n",
       "      <th>entry_exit</th>\n",
       "      <th>symbol</th>\n",
       "    </tr>\n",
       "  </thead>\n",
       "  <tbody>\n",
       "    <tr>\n",
       "      <th>0</th>\n",
       "      <td>2004-12-01</td>\n",
       "      <td>87.33</td>\n",
       "      <td>57</td>\n",
       "      <td>entry</td>\n",
       "      <td>SPY</td>\n",
       "    </tr>\n",
       "    <tr>\n",
       "      <th>1</th>\n",
       "      <td>2004-12-01</td>\n",
       "      <td>51.53</td>\n",
       "      <td>77</td>\n",
       "      <td>entry</td>\n",
       "      <td>TLT</td>\n",
       "    </tr>\n",
       "    <tr>\n",
       "      <th>2</th>\n",
       "      <td>2004-12-01</td>\n",
       "      <td>45.38</td>\n",
       "      <td>22</td>\n",
       "      <td>entry</td>\n",
       "      <td>GLD</td>\n",
       "    </tr>\n",
       "    <tr>\n",
       "      <th>3</th>\n",
       "      <td>2005-01-03</td>\n",
       "      <td>43.02</td>\n",
       "      <td>1</td>\n",
       "      <td>entry</td>\n",
       "      <td>GLD</td>\n",
       "    </tr>\n",
       "    <tr>\n",
       "      <th>4</th>\n",
       "      <td>2005-01-03</td>\n",
       "      <td>53.09</td>\n",
       "      <td>1</td>\n",
       "      <td>exit</td>\n",
       "      <td>TLT</td>\n",
       "    </tr>\n",
       "  </tbody>\n",
       "</table>\n",
       "</div>"
      ],
      "text/plain": [
       "        date  price  shares entry_exit symbol\n",
       "0 2004-12-01  87.33      57      entry    SPY\n",
       "1 2004-12-01  51.53      77      entry    TLT\n",
       "2 2004-12-01  45.38      22      entry    GLD\n",
       "3 2005-01-03  43.02       1      entry    GLD\n",
       "4 2005-01-03  53.09       1       exit    TLT"
      ]
     },
     "execution_count": 10,
     "metadata": {},
     "output_type": "execute_result"
    }
   ],
   "source": [
    "rlog.head()"
   ]
  },
  {
   "cell_type": "code",
   "execution_count": 11,
   "metadata": {
    "scrolled": false
   },
   "outputs": [
    {
     "data": {
      "text/html": [
       "<div>\n",
       "<style scoped>\n",
       "    .dataframe tbody tr th:only-of-type {\n",
       "        vertical-align: middle;\n",
       "    }\n",
       "\n",
       "    .dataframe tbody tr th {\n",
       "        vertical-align: top;\n",
       "    }\n",
       "\n",
       "    .dataframe thead th {\n",
       "        text-align: right;\n",
       "    }\n",
       "</style>\n",
       "<table border=\"1\" class=\"dataframe\">\n",
       "  <thead>\n",
       "    <tr style=\"text-align: right;\">\n",
       "      <th></th>\n",
       "      <th>entry_date</th>\n",
       "      <th>entry_price</th>\n",
       "      <th>exit_date</th>\n",
       "      <th>exit_price</th>\n",
       "      <th>pl_points</th>\n",
       "      <th>pl_cash</th>\n",
       "      <th>qty</th>\n",
       "      <th>cumul_total</th>\n",
       "      <th>symbol</th>\n",
       "    </tr>\n",
       "  </thead>\n",
       "  <tbody>\n",
       "    <tr>\n",
       "      <th>0</th>\n",
       "      <td>2004-12-01</td>\n",
       "      <td>51.53</td>\n",
       "      <td>2005-01-03</td>\n",
       "      <td>53.09</td>\n",
       "      <td>1.57</td>\n",
       "      <td>1.57</td>\n",
       "      <td>1</td>\n",
       "      <td>1.57</td>\n",
       "      <td>TLT</td>\n",
       "    </tr>\n",
       "    <tr>\n",
       "      <th>1</th>\n",
       "      <td>2004-12-01</td>\n",
       "      <td>51.53</td>\n",
       "      <td>2005-02-01</td>\n",
       "      <td>54.78</td>\n",
       "      <td>3.26</td>\n",
       "      <td>6.51</td>\n",
       "      <td>2</td>\n",
       "      <td>8.08</td>\n",
       "      <td>TLT</td>\n",
       "    </tr>\n",
       "    <tr>\n",
       "      <th>2</th>\n",
       "      <td>2004-12-01</td>\n",
       "      <td>45.38</td>\n",
       "      <td>2005-03-01</td>\n",
       "      <td>43.22</td>\n",
       "      <td>-2.16</td>\n",
       "      <td>-2.16</td>\n",
       "      <td>1</td>\n",
       "      <td>5.92</td>\n",
       "      <td>GLD</td>\n",
       "    </tr>\n",
       "    <tr>\n",
       "      <th>3</th>\n",
       "      <td>2004-12-01</td>\n",
       "      <td>51.53</td>\n",
       "      <td>2005-04-01</td>\n",
       "      <td>54.00</td>\n",
       "      <td>2.47</td>\n",
       "      <td>2.47</td>\n",
       "      <td>1</td>\n",
       "      <td>8.39</td>\n",
       "      <td>TLT</td>\n",
       "    </tr>\n",
       "    <tr>\n",
       "      <th>4</th>\n",
       "      <td>2004-12-01</td>\n",
       "      <td>51.53</td>\n",
       "      <td>2005-05-02</td>\n",
       "      <td>55.89</td>\n",
       "      <td>4.36</td>\n",
       "      <td>4.36</td>\n",
       "      <td>1</td>\n",
       "      <td>12.75</td>\n",
       "      <td>TLT</td>\n",
       "    </tr>\n",
       "  </tbody>\n",
       "</table>\n",
       "</div>"
      ],
      "text/plain": [
       "  entry_date  entry_price  exit_date  exit_price  pl_points  pl_cash  qty  \\\n",
       "0 2004-12-01        51.53 2005-01-03       53.09       1.57     1.57    1   \n",
       "1 2004-12-01        51.53 2005-02-01       54.78       3.26     6.51    2   \n",
       "2 2004-12-01        45.38 2005-03-01       43.22      -2.16    -2.16    1   \n",
       "3 2004-12-01        51.53 2005-04-01       54.00       2.47     2.47    1   \n",
       "4 2004-12-01        51.53 2005-05-02       55.89       4.36     4.36    1   \n",
       "\n",
       "   cumul_total symbol  \n",
       "0         1.57    TLT  \n",
       "1         8.08    TLT  \n",
       "2         5.92    GLD  \n",
       "3         8.39    TLT  \n",
       "4        12.75    TLT  "
      ]
     },
     "execution_count": 11,
     "metadata": {},
     "output_type": "execute_result"
    }
   ],
   "source": [
    "tlog.head()"
   ]
  },
  {
   "cell_type": "code",
   "execution_count": 12,
   "metadata": {
    "scrolled": false
   },
   "outputs": [
    {
     "data": {
      "text/html": [
       "<div>\n",
       "<style scoped>\n",
       "    .dataframe tbody tr th:only-of-type {\n",
       "        vertical-align: middle;\n",
       "    }\n",
       "\n",
       "    .dataframe tbody tr th {\n",
       "        vertical-align: top;\n",
       "    }\n",
       "\n",
       "    .dataframe thead th {\n",
       "        text-align: right;\n",
       "    }\n",
       "</style>\n",
       "<table border=\"1\" class=\"dataframe\">\n",
       "  <thead>\n",
       "    <tr style=\"text-align: right;\">\n",
       "      <th></th>\n",
       "      <th>high</th>\n",
       "      <th>low</th>\n",
       "      <th>close</th>\n",
       "      <th>shares</th>\n",
       "      <th>cash</th>\n",
       "      <th>state</th>\n",
       "    </tr>\n",
       "    <tr>\n",
       "      <th>date</th>\n",
       "      <th></th>\n",
       "      <th></th>\n",
       "      <th></th>\n",
       "      <th></th>\n",
       "      <th></th>\n",
       "      <th></th>\n",
       "    </tr>\n",
       "  </thead>\n",
       "  <tbody>\n",
       "    <tr>\n",
       "      <th>2004-11-18</th>\n",
       "      <td>10000.00</td>\n",
       "      <td>10000.00</td>\n",
       "      <td>10000.00</td>\n",
       "      <td>0</td>\n",
       "      <td>10000.00</td>\n",
       "      <td>-</td>\n",
       "    </tr>\n",
       "    <tr>\n",
       "      <th>2004-11-19</th>\n",
       "      <td>10000.00</td>\n",
       "      <td>10000.00</td>\n",
       "      <td>10000.00</td>\n",
       "      <td>0</td>\n",
       "      <td>10000.00</td>\n",
       "      <td>-</td>\n",
       "    </tr>\n",
       "    <tr>\n",
       "      <th>2004-11-22</th>\n",
       "      <td>10000.00</td>\n",
       "      <td>10000.00</td>\n",
       "      <td>10000.00</td>\n",
       "      <td>0</td>\n",
       "      <td>10000.00</td>\n",
       "      <td>-</td>\n",
       "    </tr>\n",
       "    <tr>\n",
       "      <th>2004-11-23</th>\n",
       "      <td>10000.00</td>\n",
       "      <td>10000.00</td>\n",
       "      <td>10000.00</td>\n",
       "      <td>0</td>\n",
       "      <td>10000.00</td>\n",
       "      <td>-</td>\n",
       "    </tr>\n",
       "    <tr>\n",
       "      <th>2004-11-24</th>\n",
       "      <td>10000.00</td>\n",
       "      <td>10000.00</td>\n",
       "      <td>10000.00</td>\n",
       "      <td>0</td>\n",
       "      <td>10000.00</td>\n",
       "      <td>-</td>\n",
       "    </tr>\n",
       "  </tbody>\n",
       "</table>\n",
       "</div>"
      ],
      "text/plain": [
       "               high      low    close  shares     cash state\n",
       "date                                                        \n",
       "2004-11-18 10000.00 10000.00 10000.00       0 10000.00     -\n",
       "2004-11-19 10000.00 10000.00 10000.00       0 10000.00     -\n",
       "2004-11-22 10000.00 10000.00 10000.00       0 10000.00     -\n",
       "2004-11-23 10000.00 10000.00 10000.00       0 10000.00     -\n",
       "2004-11-24 10000.00 10000.00 10000.00       0 10000.00     -"
      ]
     },
     "execution_count": 12,
     "metadata": {},
     "output_type": "execute_result"
    }
   ],
   "source": [
    "dbal.head()"
   ]
  },
  {
   "cell_type": "code",
   "execution_count": 13,
   "metadata": {},
   "outputs": [
    {
     "name": "stdout",
     "output_type": "stream",
     "text": [
      "start                                                   2004-11-18\n",
      "end                                                     2020-06-12\n",
      "beginning_balance                                            10000\n",
      "ending_balance                                            37248.35\n",
      "total_net_profit                                          26204.63\n",
      "gross_profit                                              27809.82\n",
      "gross_loss                                                 -561.46\n",
      "profit_factor                                                49.53\n",
      "return_on_initial_capital                                   262.05\n",
      "annual_return_rate                                            8.82\n",
      "trading_period                           15 years 6 months 25 days\n",
      "pct_time_in_market                                           99.80\n",
      "total_num_trades                                               345\n",
      "trades_per_year                                              22.16\n",
      "num_winning_trades                                             311\n",
      "num_losing_trades                                               22\n",
      "num_even_trades                                                 12\n",
      "pct_profitable_trades                                        90.14\n",
      "avg_profit_per_trade                                         75.96\n",
      "avg_profit_per_winning_trade                                 89.42\n",
      "avg_loss_per_losing_trade                                   -25.52\n",
      "ratio_avg_profit_win_loss                                     3.50\n",
      "largest_profit_winning_trade                               1269.89\n",
      "largest_loss_losing_trade                                  -118.39\n",
      "num_winning_points                                        18646.73\n",
      "num_losing_points                                          -415.66\n",
      "total_net_points                                          18231.07\n",
      "avg_points                                                   52.84\n",
      "largest_points_winning_trade                                238.58\n",
      "largest_points_losing_trade                                 -53.03\n",
      "avg_pct_gain_per_trade                                       60.13\n",
      "largest_pct_winning_trade                                   380.03\n",
      "largest_pct_losing_trade                                    -34.01\n",
      "max_consecutive_winning_trades                                  49\n",
      "max_consecutive_losing_trades                                    3\n",
      "avg_bars_winning_trades                                    1206.94\n",
      "avg_bars_losing_trades                                      877.86\n",
      "max_closed_out_drawdown                                     -24.04\n",
      "max_closed_out_drawdown_start_date                      2007-12-06\n",
      "max_closed_out_drawdown_end_date                        2009-03-09\n",
      "max_closed_out_drawdown_recovery_date                   2010-04-09\n",
      "drawdown_recovery                                            -1.26\n",
      "drawdown_annualized_return                                   -2.73\n",
      "max_intra_day_drawdown                                      -24.04\n",
      "avg_yearly_closed_out_drawdown                               -6.31\n",
      "max_yearly_closed_out_drawdown                              -23.77\n",
      "avg_monthly_closed_out_drawdown                              -1.88\n",
      "max_monthly_closed_out_drawdown                             -15.53\n",
      "avg_weekly_closed_out_drawdown                               -0.76\n",
      "max_weekly_closed_out_drawdown                              -10.34\n",
      "avg_yearly_closed_out_runup                                  13.98\n",
      "max_yearly_closed_out_runup                                  29.96\n",
      "avg_monthly_closed_out_runup                                  2.49\n",
      "max_monthly_closed_out_runup                                 16.78\n",
      "avg_weekly_closed_out_runup                                   0.93\n",
      "max_weekly_closed_out_runup                                   9.48\n",
      "pct_profitable_years                                         90.18\n",
      "best_year                                                    28.76\n",
      "worst_year                                                  -21.14\n",
      "avg_year                                                      8.91\n",
      "annual_std                                                    7.97\n",
      "pct_profitable_months                                        67.80\n",
      "best_month                                                   16.78\n",
      "worst_month                                                 -15.40\n",
      "avg_month                                                     0.70\n",
      "monthly_std                                                   2.36\n",
      "pct_profitable_weeks                                         60.49\n",
      "best_week                                                     9.48\n",
      "worst_week                                                   -9.67\n",
      "avg_week                                                      0.18\n",
      "weekly_std                                                    1.20\n",
      "sharpe_ratio                                                  1.00\n",
      "sortino_ratio                                                 1.31\n",
      "dtype: object\n"
     ]
    }
   ],
   "source": [
    "stats = pf.stats(ts, tlog, dbal, capital)\n",
    "pf.print_full(stats)"
   ]
  },
  {
   "cell_type": "code",
   "execution_count": 14,
   "metadata": {},
   "outputs": [
    {
     "name": "stdout",
     "output_type": "stream",
     "text": [
      "2004-11-18 00:00:00 BUY  114 SPY @ 86.97\n",
      "2020-06-12 00:00:00 SELL 114 SPY @ 304.21\n"
     ]
    }
   ],
   "source": [
    "benchmark = pf.Benchmark(symbol='SPY', capital=capital, start=start, end=end, use_adj=True)\n",
    "benchmark.run()"
   ]
  },
  {
   "cell_type": "code",
   "execution_count": 15,
   "metadata": {},
   "outputs": [],
   "source": [
    "benchmark.tlog, benchmark.dbal = benchmark.get_logs()"
   ]
  },
  {
   "cell_type": "code",
   "execution_count": 16,
   "metadata": {},
   "outputs": [],
   "source": [
    "benchmark.stats = benchmark.get_stats()"
   ]
  },
  {
   "cell_type": "code",
   "execution_count": 17,
   "metadata": {},
   "outputs": [
    {
     "data": {
      "image/png": "[encoded data removed]",
      "text/plain": [
       "<Figure size 720x504 with 1 Axes>"
      ]
     },
     "metadata": {
      "needs_background": "light"
     },
     "output_type": "display_data"
    }
   ],
   "source": [
    "pf.plot_equity_curve(dbal, benchmark=benchmark.dbal)"
   ]
  },
  {
   "cell_type": "code",
   "execution_count": 18,
   "metadata": {},
   "outputs": [
    {
     "data": {
      "image/png": "[encoded data removed]",
      "text/plain": [
       "<Figure size 720x504 with 1 Axes>"
      ]
     },
     "metadata": {
      "needs_background": "light"
     },
     "output_type": "display_data"
    }
   ],
   "source": [
    "pf.plot_trades(dbal, benchmark=benchmark.dbal)"
   ]
  },
  {
   "cell_type": "code",
   "execution_count": 19,
   "metadata": {},
   "outputs": [
    {
     "data": {
      "text/html": [
       "<div>\n",
       "<style scoped>\n",
       "    .dataframe tbody tr th:only-of-type {\n",
       "        vertical-align: middle;\n",
       "    }\n",
       "\n",
       "    .dataframe tbody tr th {\n",
       "        vertical-align: top;\n",
       "    }\n",
       "\n",
       "    .dataframe thead th {\n",
       "        text-align: right;\n",
       "    }\n",
       "</style>\n",
       "<table border=\"1\" class=\"dataframe\">\n",
       "  <thead>\n",
       "    <tr style=\"text-align: right;\">\n",
       "      <th></th>\n",
       "      <th>strategy</th>\n",
       "      <th>benchmark</th>\n",
       "    </tr>\n",
       "  </thead>\n",
       "  <tbody>\n",
       "    <tr>\n",
       "      <th>beginning_balance</th>\n",
       "      <td>$10,000.00</td>\n",
       "      <td>$10,000.00</td>\n",
       "    </tr>\n",
       "    <tr>\n",
       "      <th>ending_balance</th>\n",
       "      <td>$37,248.35</td>\n",
       "      <td>$34,764.83</td>\n",
       "    </tr>\n",
       "    <tr>\n",
       "      <th>total_net_profit</th>\n",
       "      <td>$26,204.63</td>\n",
       "      <td>$24,764.83</td>\n",
       "    </tr>\n",
       "    <tr>\n",
       "      <th>gross_profit</th>\n",
       "      <td>$27,809.82</td>\n",
       "      <td>$24,764.83</td>\n",
       "    </tr>\n",
       "    <tr>\n",
       "      <th>gross_loss</th>\n",
       "      <td>-$561.46</td>\n",
       "      <td>$0.00</td>\n",
       "    </tr>\n",
       "  </tbody>\n",
       "</table>\n",
       "</div>"
      ],
      "text/plain": [
       "                     strategy   benchmark\n",
       "beginning_balance  $10,000.00  $10,000.00\n",
       "ending_balance     $37,248.35  $34,764.83\n",
       "total_net_profit   $26,204.63  $24,764.83\n",
       "gross_profit       $27,809.82  $24,764.83\n",
       "gross_loss           -$561.46       $0.00"
      ]
     },
     "execution_count": 19,
     "metadata": {},
     "output_type": "execute_result"
    }
   ],
   "source": [
    "df = pf.summary5(stats, benchmark.stats)\n",
    "df"
   ]
  },
  {
   "cell_type": "code",
   "execution_count": 20,
   "metadata": {},
   "outputs": [
    {
     "data": {
      "text/html": [
       "<div>\n",
       "<style scoped>\n",
       "    .dataframe tbody tr th:only-of-type {\n",
       "        vertical-align: middle;\n",
       "    }\n",
       "\n",
       "    .dataframe tbody tr th {\n",
       "        vertical-align: top;\n",
       "    }\n",
       "\n",
       "    .dataframe thead th {\n",
       "        text-align: right;\n",
       "    }\n",
       "</style>\n",
       "<table border=\"1\" class=\"dataframe\">\n",
       "  <thead>\n",
       "    <tr style=\"text-align: right;\">\n",
       "      <th></th>\n",
       "      <th>strategy</th>\n",
       "      <th>benchmark</th>\n",
       "    </tr>\n",
       "  </thead>\n",
       "  <tbody>\n",
       "    <tr>\n",
       "      <th>annual_return_rate</th>\n",
       "      <td>8.82</td>\n",
       "      <td>8.33</td>\n",
       "    </tr>\n",
       "    <tr>\n",
       "      <th>max_closed_out_drawdown</th>\n",
       "      <td>-24.04</td>\n",
       "      <td>-54.85</td>\n",
       "    </tr>\n",
       "    <tr>\n",
       "      <th>drawdown_annualized_return</th>\n",
       "      <td>-2.73</td>\n",
       "      <td>-6.58</td>\n",
       "    </tr>\n",
       "    <tr>\n",
       "      <th>drawdown_recovery</th>\n",
       "      <td>-1.26</td>\n",
       "      <td>-1.42</td>\n",
       "    </tr>\n",
       "    <tr>\n",
       "      <th>best_month</th>\n",
       "      <td>16.78</td>\n",
       "      <td>23.30</td>\n",
       "    </tr>\n",
       "    <tr>\n",
       "      <th>worst_month</th>\n",
       "      <td>-15.40</td>\n",
       "      <td>-30.92</td>\n",
       "    </tr>\n",
       "    <tr>\n",
       "      <th>sharpe_ratio</th>\n",
       "      <td>1.00</td>\n",
       "      <td>0.51</td>\n",
       "    </tr>\n",
       "    <tr>\n",
       "      <th>sortino_ratio</th>\n",
       "      <td>1.31</td>\n",
       "      <td>0.60</td>\n",
       "    </tr>\n",
       "    <tr>\n",
       "      <th>monthly_std</th>\n",
       "      <td>2.36</td>\n",
       "      <td>4.56</td>\n",
       "    </tr>\n",
       "    <tr>\n",
       "      <th>trades_per_year</th>\n",
       "      <td>22.16</td>\n",
       "      <td>0.06</td>\n",
       "    </tr>\n",
       "  </tbody>\n",
       "</table>\n",
       "</div>"
      ],
      "text/plain": [
       "                            strategy  benchmark\n",
       "annual_return_rate              8.82       8.33\n",
       "max_closed_out_drawdown       -24.04     -54.85\n",
       "drawdown_annualized_return     -2.73      -6.58\n",
       "drawdown_recovery              -1.26      -1.42\n",
       "best_month                     16.78      23.30\n",
       "worst_month                   -15.40     -30.92\n",
       "sharpe_ratio                    1.00       0.51\n",
       "sortino_ratio                   1.31       0.60\n",
       "monthly_std                     2.36       4.56\n",
       "trades_per_year                22.16       0.06"
      ]
     },
     "execution_count": 20,
     "metadata": {},
     "output_type": "execute_result"
    },
    {
     "data": {
      "image/png": "[encoded data removed]",
      "text/plain": [
       "<Figure size 720x504 with 1 Axes>"
      ]
     },
     "metadata": {
      "needs_background": "light"
     },
     "output_type": "display_data"
    }
   ],
   "source": [
    "metrics = ('annual_return_rate',\n",
    "           'max_closed_out_drawdown',\n",
    "           'drawdown_annualized_return',\n",
    "           'drawdown_recovery',\n",
    "           'best_month',\n",
    "           'worst_month',\n",
    "           'sharpe_ratio',\n",
    "           'sortino_ratio',\n",
    "           'monthly_std',\n",
    "           'trades_per_year')\n",
    "\n",
    "df = pf.plot_bar_graph(stats, benchmark.stats, *metrics)\n",
    "df"
   ]
  },
  {
   "cell_type": "code",
   "execution_count": null,
   "metadata": {},
   "outputs": [],
   "source": []
  }
 ],
 "metadata": {
  "kernelspec": {
   "display_name": "Python 3",
   "language": "python",
   "name": "python3"
  },
  "language_info": {
   "codemirror_mode": {
    "name": "ipython",
    "version": 3
   },
   "file_extension": ".py",
   "mimetype": "text/x-python",
   "name": "python",
   "nbconvert_exporter": "python",
   "pygments_lexer": "ipython3",
   "version": "3.8.2"
  },
  "latex_envs": {
   "LaTeX_envs_menu_present": true,
   "autoclose": false,
   "autocomplete": true,
   "bibliofile": "biblio.bib",
   "cite_by": "apalike",
   "current_citInitial": 1,
   "eqLabelWithNumbers": true,
   "eqNumInitial": 1,
   "hotkeys": {
    "equation": "Ctrl-E",
    "itemize": "Ctrl-I"
   },
   "labels_anchors": false,
   "latex_user_defs": false,
   "report_style_numbering": false,
   "user_envs_cfg": false
  }
 },
 "nbformat": 4,
 "nbformat_minor": 1
}
