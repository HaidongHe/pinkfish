{
 "cells": [
  {
   "cell_type": "markdown",
   "metadata": {},
   "source": [
    "# Global Equities Momentum (GEM)\n",
    "\n",
    "Gary Antonacci’s Dual Momentum approach is simple: by combining both relative momentum and absolute momentum (i.e. trend following), Dual Momentum seeks to rotate into areas of relative strength while preserving the flexibility to shift entirely to safety assets (e.g. short-term U.S. Treasury bills) during periods of pervasive, negative trends.\n",
    "\n",
    "https://blog.thinknewfound.com/2019/01/fragility-case-study-dual-momentum-gem/  \n",
    "https://seekingalpha.com/article/4010394-prospecting-dual-momentum-gem\n",
    "\n",
    "\n",
    "![](GEM-rules2.png)"
   ]
  },
  {
   "cell_type": "code",
   "execution_count": 1,
   "metadata": {
    "ExecuteTime": {
     "end_time": "2020-02-17T05:42:08.798393Z",
     "start_time": "2020-02-17T05:42:07.455687Z"
    }
   },
   "outputs": [],
   "source": [
    "import pandas as pd\n",
    "import matplotlib.pyplot as plt\n",
    "import datetime\n",
    "from talib.abstract import *\n",
    "\n",
    "import pinkfish as pf\n",
    "import strategy\n",
    "\n",
    "# format price data\n",
    "pd.options.display.float_format = '{:0.2f}'.format\n",
    "\n",
    "%matplotlib inline"
   ]
  },
  {
   "cell_type": "code",
   "execution_count": 2,
   "metadata": {
    "ExecuteTime": {
     "end_time": "2020-02-17T05:42:08.816893Z",
     "start_time": "2020-02-17T05:42:08.808607Z"
    }
   },
   "outputs": [],
   "source": [
    "# set size of inline plots\n",
    "'''note: rcParams can't be in same cell as import matplotlib\n",
    "   or %matplotlib inline\n",
    "   \n",
    "   %matplotlib notebook: will lead to interactive plots embedded within\n",
    "   the notebook, you can zoom and resize the figure\n",
    "   \n",
    "   %matplotlib inline: only draw static images in the notebook\n",
    "'''\n",
    "plt.rcParams[\"figure.figsize\"] = (10, 7)"
   ]
  },
  {
   "cell_type": "markdown",
   "metadata": {},
   "source": [
    "Some global data"
   ]
  },
  {
   "cell_type": "code",
   "execution_count": 3,
   "metadata": {
    "ExecuteTime": {
     "end_time": "2020-02-17T05:42:08.835362Z",
     "start_time": "2020-02-17T05:42:08.821138Z"
    }
   },
   "outputs": [],
   "source": [
    "#symbols = {'SP500' : 'IVV',  'BONDS' : 'BND', 'EXUS' : 'VEU'}\n",
    "symbols = {'SP500' : 'SPY',  'BONDS' : 'AGG', 'EXUS' : 'EFA'}\n",
    "\n",
    "capital = 10000\n",
    "start = datetime.datetime(1900, 1, 1)\n",
    "#start = datetime.datetime.strptime(pf.SP500_BEGIN, '%Y-%m-%d')\n",
    "end = datetime.datetime.now()\n",
    "#end = datetime.datetime(2020, 1, 1)\n",
    "# num months lookback\n",
    "lookback = 12\n",
    "\n",
    "use_cache = False"
   ]
  },
  {
   "cell_type": "markdown",
   "metadata": {},
   "source": [
    "Run Strategy"
   ]
  },
  {
   "cell_type": "code",
   "execution_count": 4,
   "metadata": {
    "scrolled": false
   },
   "outputs": [],
   "source": [
    "s = strategy.Strategy(symbols, capital, start, end, lookback=lookback, margin=1,\n",
    "                      use_cache=use_cache, use_absolute_mom=True)\n",
    "s.run()"
   ]
  },
  {
   "cell_type": "markdown",
   "metadata": {},
   "source": [
    "Retrieve log DataFrames"
   ]
  },
  {
   "cell_type": "code",
   "execution_count": 5,
   "metadata": {},
   "outputs": [],
   "source": [
    "rlog, tlog, dbal = s.get_logs()\n",
    "stats = s.get_stats()"
   ]
  },
  {
   "cell_type": "code",
   "execution_count": 6,
   "metadata": {},
   "outputs": [
    {
     "data": {
      "text/html": [
       "<div>\n",
       "<style scoped>\n",
       "    .dataframe tbody tr th:only-of-type {\n",
       "        vertical-align: middle;\n",
       "    }\n",
       "\n",
       "    .dataframe tbody tr th {\n",
       "        vertical-align: top;\n",
       "    }\n",
       "\n",
       "    .dataframe thead th {\n",
       "        text-align: right;\n",
       "    }\n",
       "</style>\n",
       "<table border=\"1\" class=\"dataframe\">\n",
       "  <thead>\n",
       "    <tr style=\"text-align: right;\">\n",
       "      <th></th>\n",
       "      <th>date</th>\n",
       "      <th>seq_num</th>\n",
       "      <th>price</th>\n",
       "      <th>shares</th>\n",
       "      <th>entry_exit</th>\n",
       "      <th>direction</th>\n",
       "      <th>symbol</th>\n",
       "    </tr>\n",
       "  </thead>\n",
       "  <tbody>\n",
       "    <tr>\n",
       "      <th>0</th>\n",
       "      <td>2005-04-01</td>\n",
       "      <td>0</td>\n",
       "      <td>34.02</td>\n",
       "      <td>293</td>\n",
       "      <td>entry</td>\n",
       "      <td>LONG</td>\n",
       "      <td>EFA</td>\n",
       "    </tr>\n",
       "    <tr>\n",
       "      <th>1</th>\n",
       "      <td>2007-12-03</td>\n",
       "      <td>1</td>\n",
       "      <td>55.36</td>\n",
       "      <td>293</td>\n",
       "      <td>exit</td>\n",
       "      <td>LONG</td>\n",
       "      <td>EFA</td>\n",
       "    </tr>\n",
       "    <tr>\n",
       "      <th>2</th>\n",
       "      <td>2007-12-03</td>\n",
       "      <td>2</td>\n",
       "      <td>70.15</td>\n",
       "      <td>231</td>\n",
       "      <td>entry</td>\n",
       "      <td>LONG</td>\n",
       "      <td>AGG</td>\n",
       "    </tr>\n",
       "    <tr>\n",
       "      <th>3</th>\n",
       "      <td>2008-11-03</td>\n",
       "      <td>3</td>\n",
       "      <td>67.43</td>\n",
       "      <td>231</td>\n",
       "      <td>exit</td>\n",
       "      <td>LONG</td>\n",
       "      <td>AGG</td>\n",
       "    </tr>\n",
       "    <tr>\n",
       "      <th>4</th>\n",
       "      <td>2008-12-01</td>\n",
       "      <td>4</td>\n",
       "      <td>71.58</td>\n",
       "      <td>218</td>\n",
       "      <td>entry</td>\n",
       "      <td>LONG</td>\n",
       "      <td>AGG</td>\n",
       "    </tr>\n",
       "  </tbody>\n",
       "</table>\n",
       "</div>"
      ],
      "text/plain": [
       "        date  seq_num  price  shares entry_exit direction symbol\n",
       "0 2005-04-01        0  34.02     293      entry      LONG    EFA\n",
       "1 2007-12-03        1  55.36     293       exit      LONG    EFA\n",
       "2 2007-12-03        2  70.15     231      entry      LONG    AGG\n",
       "3 2008-11-03        3  67.43     231       exit      LONG    AGG\n",
       "4 2008-12-01        4  71.58     218      entry      LONG    AGG"
      ]
     },
     "execution_count": 6,
     "metadata": {},
     "output_type": "execute_result"
    }
   ],
   "source": [
    "rlog.head()"
   ]
  },
  {
   "cell_type": "code",
   "execution_count": 7,
   "metadata": {},
   "outputs": [
    {
     "data": {
      "text/html": [
       "<div>\n",
       "<style scoped>\n",
       "    .dataframe tbody tr th:only-of-type {\n",
       "        vertical-align: middle;\n",
       "    }\n",
       "\n",
       "    .dataframe tbody tr th {\n",
       "        vertical-align: top;\n",
       "    }\n",
       "\n",
       "    .dataframe thead th {\n",
       "        text-align: right;\n",
       "    }\n",
       "</style>\n",
       "<table border=\"1\" class=\"dataframe\">\n",
       "  <thead>\n",
       "    <tr style=\"text-align: right;\">\n",
       "      <th></th>\n",
       "      <th>entry_date</th>\n",
       "      <th>entry_price</th>\n",
       "      <th>exit_date</th>\n",
       "      <th>exit_price</th>\n",
       "      <th>pl_points</th>\n",
       "      <th>pl_cash</th>\n",
       "      <th>qty</th>\n",
       "      <th>cumul_total</th>\n",
       "      <th>direction</th>\n",
       "      <th>symbol</th>\n",
       "    </tr>\n",
       "  </thead>\n",
       "  <tbody>\n",
       "    <tr>\n",
       "      <th>29</th>\n",
       "      <td>2019-01-02</td>\n",
       "      <td>102.44</td>\n",
       "      <td>2019-03-01</td>\n",
       "      <td>103.01</td>\n",
       "      <td>0.57</td>\n",
       "      <td>123.87</td>\n",
       "      <td>217</td>\n",
       "      <td>12365.58</td>\n",
       "      <td>LONG</td>\n",
       "      <td>AGG</td>\n",
       "    </tr>\n",
       "    <tr>\n",
       "      <th>30</th>\n",
       "      <td>2019-03-01</td>\n",
       "      <td>272.40</td>\n",
       "      <td>2019-06-03</td>\n",
       "      <td>267.89</td>\n",
       "      <td>-4.51</td>\n",
       "      <td>-369.65</td>\n",
       "      <td>82</td>\n",
       "      <td>11995.94</td>\n",
       "      <td>LONG</td>\n",
       "      <td>SPY</td>\n",
       "    </tr>\n",
       "    <tr>\n",
       "      <th>31</th>\n",
       "      <td>2019-06-03</td>\n",
       "      <td>107.42</td>\n",
       "      <td>2019-11-01</td>\n",
       "      <td>111.14</td>\n",
       "      <td>3.72</td>\n",
       "      <td>758.94</td>\n",
       "      <td>204</td>\n",
       "      <td>12754.87</td>\n",
       "      <td>LONG</td>\n",
       "      <td>AGG</td>\n",
       "    </tr>\n",
       "    <tr>\n",
       "      <th>32</th>\n",
       "      <td>2019-11-01</td>\n",
       "      <td>301.53</td>\n",
       "      <td>2020-04-01</td>\n",
       "      <td>245.07</td>\n",
       "      <td>-56.46</td>\n",
       "      <td>-4234.71</td>\n",
       "      <td>75</td>\n",
       "      <td>8520.16</td>\n",
       "      <td>LONG</td>\n",
       "      <td>SPY</td>\n",
       "    </tr>\n",
       "    <tr>\n",
       "      <th>33</th>\n",
       "      <td>2020-04-01</td>\n",
       "      <td>114.07</td>\n",
       "      <td>2020-07-27</td>\n",
       "      <td>119.20</td>\n",
       "      <td>5.13</td>\n",
       "      <td>830.26</td>\n",
       "      <td>162</td>\n",
       "      <td>9350.42</td>\n",
       "      <td>LONG</td>\n",
       "      <td>AGG</td>\n",
       "    </tr>\n",
       "  </tbody>\n",
       "</table>\n",
       "</div>"
      ],
      "text/plain": [
       "   entry_date  entry_price  exit_date  exit_price  pl_points  pl_cash  qty  \\\n",
       "29 2019-01-02       102.44 2019-03-01      103.01       0.57   123.87  217   \n",
       "30 2019-03-01       272.40 2019-06-03      267.89      -4.51  -369.65   82   \n",
       "31 2019-06-03       107.42 2019-11-01      111.14       3.72   758.94  204   \n",
       "32 2019-11-01       301.53 2020-04-01      245.07     -56.46 -4234.71   75   \n",
       "33 2020-04-01       114.07 2020-07-27      119.20       5.13   830.26  162   \n",
       "\n",
       "    cumul_total direction symbol  \n",
       "29     12365.58      LONG    AGG  \n",
       "30     11995.94      LONG    SPY  \n",
       "31     12754.87      LONG    AGG  \n",
       "32      8520.16      LONG    SPY  \n",
       "33      9350.42      LONG    AGG  "
      ]
     },
     "execution_count": 7,
     "metadata": {},
     "output_type": "execute_result"
    }
   ],
   "source": [
    "tlog.tail()"
   ]
  },
  {
   "cell_type": "code",
   "execution_count": 8,
   "metadata": {
    "scrolled": true
   },
   "outputs": [
    {
     "data": {
      "text/html": [
       "<div>\n",
       "<style scoped>\n",
       "    .dataframe tbody tr th:only-of-type {\n",
       "        vertical-align: middle;\n",
       "    }\n",
       "\n",
       "    .dataframe tbody tr th {\n",
       "        vertical-align: top;\n",
       "    }\n",
       "\n",
       "    .dataframe thead th {\n",
       "        text-align: right;\n",
       "    }\n",
       "</style>\n",
       "<table border=\"1\" class=\"dataframe\">\n",
       "  <thead>\n",
       "    <tr style=\"text-align: right;\">\n",
       "      <th></th>\n",
       "      <th>high</th>\n",
       "      <th>low</th>\n",
       "      <th>close</th>\n",
       "      <th>shares</th>\n",
       "      <th>cash</th>\n",
       "      <th>leverage</th>\n",
       "      <th>state</th>\n",
       "    </tr>\n",
       "    <tr>\n",
       "      <th>date</th>\n",
       "      <th></th>\n",
       "      <th></th>\n",
       "      <th></th>\n",
       "      <th></th>\n",
       "      <th></th>\n",
       "      <th></th>\n",
       "      <th></th>\n",
       "    </tr>\n",
       "  </thead>\n",
       "  <tbody>\n",
       "    <tr>\n",
       "      <th>2020-07-21</th>\n",
       "      <td>19330.99</td>\n",
       "      <td>19330.99</td>\n",
       "      <td>19330.99</td>\n",
       "      <td>162</td>\n",
       "      <td>40.02</td>\n",
       "      <td>1.00</td>\n",
       "      <td>-</td>\n",
       "    </tr>\n",
       "    <tr>\n",
       "      <th>2020-07-22</th>\n",
       "      <td>19347.18</td>\n",
       "      <td>19347.18</td>\n",
       "      <td>19347.18</td>\n",
       "      <td>162</td>\n",
       "      <td>40.02</td>\n",
       "      <td>1.00</td>\n",
       "      <td>-</td>\n",
       "    </tr>\n",
       "    <tr>\n",
       "      <th>2020-07-23</th>\n",
       "      <td>19369.86</td>\n",
       "      <td>19369.86</td>\n",
       "      <td>19369.86</td>\n",
       "      <td>162</td>\n",
       "      <td>40.02</td>\n",
       "      <td>1.00</td>\n",
       "      <td>-</td>\n",
       "    </tr>\n",
       "    <tr>\n",
       "      <th>2020-07-24</th>\n",
       "      <td>19363.38</td>\n",
       "      <td>19363.38</td>\n",
       "      <td>19363.38</td>\n",
       "      <td>162</td>\n",
       "      <td>40.02</td>\n",
       "      <td>1.00</td>\n",
       "      <td>-</td>\n",
       "    </tr>\n",
       "    <tr>\n",
       "      <th>2020-07-27</th>\n",
       "      <td>19350.42</td>\n",
       "      <td>19350.42</td>\n",
       "      <td>19350.42</td>\n",
       "      <td>0</td>\n",
       "      <td>19350.42</td>\n",
       "      <td>1.00</td>\n",
       "      <td>X</td>\n",
       "    </tr>\n",
       "  </tbody>\n",
       "</table>\n",
       "</div>"
      ],
      "text/plain": [
       "               high      low    close  shares     cash  leverage state\n",
       "date                                                                  \n",
       "2020-07-21 19330.99 19330.99 19330.99     162    40.02      1.00     -\n",
       "2020-07-22 19347.18 19347.18 19347.18     162    40.02      1.00     -\n",
       "2020-07-23 19369.86 19369.86 19369.86     162    40.02      1.00     -\n",
       "2020-07-24 19363.38 19363.38 19363.38     162    40.02      1.00     -\n",
       "2020-07-27 19350.42 19350.42 19350.42       0 19350.42      1.00     X"
      ]
     },
     "execution_count": 8,
     "metadata": {},
     "output_type": "execute_result"
    }
   ],
   "source": [
    "dbal.tail()"
   ]
  },
  {
   "cell_type": "markdown",
   "metadata": {},
   "source": [
    "Generate strategy stats - display all available stats"
   ]
  },
  {
   "cell_type": "code",
   "execution_count": 9,
   "metadata": {},
   "outputs": [
    {
     "name": "stdout",
     "output_type": "stream",
     "text": [
      "start                                                   2005-03-04\n",
      "end                                                     2020-07-27\n",
      "beginning_balance                                            10000\n",
      "ending_balance                                            19350.42\n",
      "total_net_profit                                           9350.42\n",
      "gross_profit                                              24381.43\n",
      "gross_loss                                               -15031.01\n",
      "profit_factor                                                 1.62\n",
      "return_on_initial_capital                                    93.50\n",
      "annual_return_rate                                            4.38\n",
      "trading_period                           15 years 4 months 23 days\n",
      "pct_time_in_market                                           99.02\n",
      "margin                                                           1\n",
      "avg_leverage                                                  1.00\n",
      "max_leverage                                                  1.00\n",
      "min_leverage                                                  1.00\n",
      "total_num_trades                                                34\n",
      "trades_per_year                                               2.21\n",
      "num_winning_trades                                              22\n",
      "num_losing_trades                                               12\n",
      "num_even_trades                                                  0\n",
      "pct_profitable_trades                                        64.71\n",
      "avg_profit_per_trade                                        275.01\n",
      "avg_profit_per_winning_trade                               1108.25\n",
      "avg_loss_per_losing_trade                                 -1252.58\n",
      "ratio_avg_profit_win_loss                                     0.88\n",
      "largest_profit_winning_trade                               6253.65\n",
      "largest_loss_losing_trade                                 -4234.71\n",
      "num_winning_points                                          136.37\n",
      "num_losing_points                                          -130.68\n",
      "total_net_points                                              5.68\n",
      "avg_points                                                    0.17\n",
      "largest_points_winning_trade                                 24.44\n",
      "largest_points_losing_trade                                 -56.46\n",
      "avg_pct_gain_per_trade                                        2.62\n",
      "largest_pct_winning_trade                                    62.74\n",
      "largest_pct_losing_trade                                    -18.73\n",
      "max_consecutive_winning_trades                                   6\n",
      "max_consecutive_losing_trades                                    2\n",
      "avg_bars_winning_trades                                     132.23\n",
      "avg_bars_losing_trades                                       80.17\n",
      "max_closed_out_drawdown                                     -34.96\n",
      "max_closed_out_drawdown_start_date                      2018-09-20\n",
      "max_closed_out_drawdown_end_date                        2020-03-23\n",
      "max_closed_out_drawdown_recovery_date            Not Recovered Yet\n",
      "drawdown_recovery                                            -1.51\n",
      "drawdown_annualized_return                                   -7.98\n",
      "max_intra_day_drawdown                                      -34.96\n",
      "avg_yearly_closed_out_drawdown                              -12.07\n",
      "max_yearly_closed_out_drawdown                              -33.53\n",
      "avg_monthly_closed_out_drawdown                              -3.02\n",
      "max_monthly_closed_out_drawdown                             -30.81\n",
      "avg_weekly_closed_out_drawdown                               -1.19\n",
      "max_weekly_closed_out_drawdown                              -17.86\n",
      "avg_yearly_closed_out_runup                                  17.07\n",
      "max_yearly_closed_out_runup                                  40.33\n",
      "avg_monthly_closed_out_runup                                  3.46\n",
      "max_monthly_closed_out_runup                                 17.21\n",
      "avg_weekly_closed_out_runup                                   1.31\n",
      "max_weekly_closed_out_runup                                  17.21\n",
      "pct_profitable_years                                         65.56\n",
      "best_year                                                    37.71\n",
      "worst_year                                                  -24.96\n",
      "avg_year                                                      5.67\n",
      "annual_std                                                   11.63\n",
      "pct_profitable_months                                        64.99\n",
      "best_month                                                   12.63\n",
      "worst_month                                                 -30.81\n",
      "avg_month                                                     0.41\n",
      "monthly_std                                                   3.62\n",
      "pct_profitable_weeks                                         58.93\n",
      "best_week                                                    17.21\n",
      "worst_week                                                  -17.86\n",
      "avg_week                                                      0.10\n",
      "weekly_std                                                    1.93\n",
      "sharpe_ratio                                                  0.36\n",
      "sortino_ratio                                                 0.41\n",
      "dtype: object\n"
     ]
    }
   ],
   "source": [
    "pf.print_full(stats)"
   ]
  },
  {
   "cell_type": "markdown",
   "metadata": {},
   "source": [
    "Run Benchmark, Retrieve benchmark logs, and Generate benchmark stats"
   ]
  },
  {
   "cell_type": "code",
   "execution_count": 10,
   "metadata": {},
   "outputs": [
    {
     "name": "stdout",
     "output_type": "stream",
     "text": [
      "2005-03-04 00:00:00 BUY  111 SPY @ 89.93\n",
      "2020-07-27 00:00:00 SELL 111 SPY @ 323.22\n"
     ]
    }
   ],
   "source": [
    "benchmark = pf.Benchmark('SPY', capital, s.start, s.end, use_adj=True)\n",
    "benchmark.run()\n",
    "benchmark.tlog, benchmark.dbal = benchmark.get_logs()\n",
    "benchmark.stats = benchmark.get_stats()"
   ]
  },
  {
   "cell_type": "markdown",
   "metadata": {},
   "source": [
    "Plot Equity Curves: Strategy vs Benchmark"
   ]
  },
  {
   "cell_type": "code",
   "execution_count": 11,
   "metadata": {
    "scrolled": false
   },
   "outputs": [
    {
     "data": {
      "image/png": "[encoded data removed]",
      "text/plain": [
       "<Figure size 720x504 with 1 Axes>"
      ]
     },
     "metadata": {
      "needs_background": "light"
     },
     "output_type": "display_data"
    }
   ],
   "source": [
    "pf.plot_equity_curve(dbal, benchmark=benchmark.dbal)"
   ]
  },
  {
   "cell_type": "markdown",
   "metadata": {},
   "source": [
    "Plot Trades"
   ]
  },
  {
   "cell_type": "code",
   "execution_count": 12,
   "metadata": {},
   "outputs": [
    {
     "data": {
      "image/png": "[encoded data removed]",
      "text/plain": [
       "<Figure size 720x504 with 1 Axes>"
      ]
     },
     "metadata": {
      "needs_background": "light"
     },
     "output_type": "display_data"
    }
   ],
   "source": [
    "pf.plot_trades(dbal, benchmark=benchmark.dbal)"
   ]
  },
  {
   "cell_type": "markdown",
   "metadata": {},
   "source": [
    "Bar Graph: Strategy vs Benchmark"
   ]
  },
  {
   "cell_type": "code",
   "execution_count": 13,
   "metadata": {},
   "outputs": [
    {
     "data": {
      "text/html": [
       "<div>\n",
       "<style scoped>\n",
       "    .dataframe tbody tr th:only-of-type {\n",
       "        vertical-align: middle;\n",
       "    }\n",
       "\n",
       "    .dataframe tbody tr th {\n",
       "        vertical-align: top;\n",
       "    }\n",
       "\n",
       "    .dataframe thead th {\n",
       "        text-align: right;\n",
       "    }\n",
       "</style>\n",
       "<table border=\"1\" class=\"dataframe\">\n",
       "  <thead>\n",
       "    <tr style=\"text-align: right;\">\n",
       "      <th></th>\n",
       "      <th>strategy</th>\n",
       "      <th>benchmark</th>\n",
       "    </tr>\n",
       "  </thead>\n",
       "  <tbody>\n",
       "    <tr>\n",
       "      <th>annual_return_rate</th>\n",
       "      <td>4.38</td>\n",
       "      <td>8.65</td>\n",
       "    </tr>\n",
       "    <tr>\n",
       "      <th>max_closed_out_drawdown</th>\n",
       "      <td>-34.96</td>\n",
       "      <td>-55.11</td>\n",
       "    </tr>\n",
       "    <tr>\n",
       "      <th>drawdown_annualized_return</th>\n",
       "      <td>-7.98</td>\n",
       "      <td>-6.37</td>\n",
       "    </tr>\n",
       "    <tr>\n",
       "      <th>drawdown_recovery</th>\n",
       "      <td>-1.51</td>\n",
       "      <td>-1.42</td>\n",
       "    </tr>\n",
       "    <tr>\n",
       "      <th>best_month</th>\n",
       "      <td>12.63</td>\n",
       "      <td>23.55</td>\n",
       "    </tr>\n",
       "    <tr>\n",
       "      <th>worst_month</th>\n",
       "      <td>-30.81</td>\n",
       "      <td>-30.97</td>\n",
       "    </tr>\n",
       "    <tr>\n",
       "      <th>sharpe_ratio</th>\n",
       "      <td>0.36</td>\n",
       "      <td>0.52</td>\n",
       "    </tr>\n",
       "    <tr>\n",
       "      <th>sortino_ratio</th>\n",
       "      <td>0.41</td>\n",
       "      <td>0.62</td>\n",
       "    </tr>\n",
       "    <tr>\n",
       "      <th>monthly_std</th>\n",
       "      <td>3.62</td>\n",
       "      <td>4.61</td>\n",
       "    </tr>\n",
       "  </tbody>\n",
       "</table>\n",
       "</div>"
      ],
      "text/plain": [
       "                            strategy  benchmark\n",
       "annual_return_rate              4.38       8.65\n",
       "max_closed_out_drawdown       -34.96     -55.11\n",
       "drawdown_annualized_return     -7.98      -6.37\n",
       "drawdown_recovery              -1.51      -1.42\n",
       "best_month                     12.63      23.55\n",
       "worst_month                   -30.81     -30.97\n",
       "sharpe_ratio                    0.36       0.52\n",
       "sortino_ratio                   0.41       0.62\n",
       "monthly_std                     3.62       4.61"
      ]
     },
     "execution_count": 13,
     "metadata": {},
     "output_type": "execute_result"
    },
    {
     "data": {
      "image/png": "[encoded data removed]",
      "text/plain": [
       "<Figure size 720x504 with 1 Axes>"
      ]
     },
     "metadata": {
      "needs_background": "light"
     },
     "output_type": "display_data"
    }
   ],
   "source": [
    "df = pf.plot_bar_graph(stats, benchmark.stats)\n",
    "df"
   ]
  }
 ],
 "metadata": {
  "kernelspec": {
   "display_name": "Python 3",
   "language": "python",
   "name": "python3"
  },
  "language_info": {
   "codemirror_mode": {
    "name": "ipython",
    "version": 3
   },
   "file_extension": ".py",
   "mimetype": "text/x-python",
   "name": "python",
   "nbconvert_exporter": "python",
   "pygments_lexer": "ipython3",
   "version": "3.8.2"
  },
  "latex_envs": {
   "LaTeX_envs_menu_present": true,
   "autoclose": false,
   "autocomplete": true,
   "bibliofile": "biblio.bib",
   "cite_by": "apalike",
   "current_citInitial": 1,
   "eqLabelWithNumbers": true,
   "eqNumInitial": 1,
   "hotkeys": {
    "equation": "Ctrl-E",
    "itemize": "Ctrl-I"
   },
   "labels_anchors": false,
   "latex_user_defs": false,
   "report_style_numbering": false,
   "user_envs_cfg": false
  }
 },
 "nbformat": 4,
 "nbformat_minor": 1
}
