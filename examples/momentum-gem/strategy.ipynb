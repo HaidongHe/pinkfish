{
 "cells": [
  {
   "cell_type": "markdown",
   "metadata": {},
   "source": [
    "# Dual Momentum GEM\n",
    "\n",
    "Gary Antonacci’s Dual Momentum approach is simple: by combining both relative momentum and absolute momentum (i.e. trend following), Dual Momentum seeks to rotate into areas of relative strength while preserving the flexibility to shift entirely to safety assets (e.g. short-term U.S. Treasury bills) during periods of pervasive, negative trends.\n",
    "\n",
    "https://blog.thinknewfound.com/2019/01/fragility-case-study-dual-momentum-gem/  \n",
    "https://seekingalpha.com/article/4010394-prospecting-dual-momentum-gem\n",
    "\n",
    "\n",
    "![](GEM-rules2.png)"
   ]
  },
  {
   "cell_type": "code",
   "execution_count": 61,
   "metadata": {
    "ExecuteTime": {
     "end_time": "2020-02-17T05:42:08.798393Z",
     "start_time": "2020-02-17T05:42:07.455687Z"
    }
   },
   "outputs": [],
   "source": [
    "import pandas as pd\n",
    "import matplotlib.pyplot as plt\n",
    "import datetime\n",
    "from talib.abstract import *\n",
    "\n",
    "import pinkfish as pf\n",
    "import strategy\n",
    "\n",
    "# format price data\n",
    "pd.options.display.float_format = '{:0.2f}'.format\n",
    "\n",
    "%matplotlib inline"
   ]
  },
  {
   "cell_type": "code",
   "execution_count": 62,
   "metadata": {
    "ExecuteTime": {
     "end_time": "2020-02-17T05:42:08.816893Z",
     "start_time": "2020-02-17T05:42:08.808607Z"
    }
   },
   "outputs": [],
   "source": [
    "# set size of inline plots\n",
    "'''note: rcParams can't be in same cell as import matplotlib\n",
    "   or %matplotlib inline\n",
    "   \n",
    "   %matplotlib notebook: will lead to interactive plots embedded within\n",
    "   the notebook, you can zoom and resize the figure\n",
    "   \n",
    "   %matplotlib inline: only draw static images in the notebook\n",
    "'''\n",
    "plt.rcParams[\"figure.figsize\"] = (10, 7)"
   ]
  },
  {
   "cell_type": "markdown",
   "metadata": {},
   "source": [
    "Some global data"
   ]
  },
  {
   "cell_type": "code",
   "execution_count": 63,
   "metadata": {
    "ExecuteTime": {
     "end_time": "2020-02-17T05:42:08.835362Z",
     "start_time": "2020-02-17T05:42:08.821138Z"
    }
   },
   "outputs": [],
   "source": [
    "#symbols = {'SP500' : 'IVV',  'BONDS' : 'BND', 'EXUS' : 'VEU'}\n",
    "symbols = {'SP500' : 'SPY',  'BONDS' : 'AGG', 'EXUS' : 'EFA'}\n",
    "\n",
    "capital = 10000\n",
    "start = datetime.datetime(1900, 1, 1)\n",
    "#start = datetime.datetime.strptime(pf.SP500_BEGIN, '%Y-%m-%d')\n",
    "end = datetime.datetime.now()\n",
    "#end = datetime.datetime(2019, 1, 1)\n",
    "# num months lookback\n",
    "lookback = None\n",
    "\n",
    "use_cache = True"
   ]
  },
  {
   "cell_type": "markdown",
   "metadata": {},
   "source": [
    "Run Strategy"
   ]
  },
  {
   "cell_type": "code",
   "execution_count": 64,
   "metadata": {
    "scrolled": false
   },
   "outputs": [],
   "source": [
    "s = strategy.Strategy(symbols, capital, start, end, lookback=lookback, margin=1, use_cache=use_cache)\n",
    "s.run()"
   ]
  },
  {
   "cell_type": "markdown",
   "metadata": {},
   "source": [
    "Retrieve log DataFrames"
   ]
  },
  {
   "cell_type": "code",
   "execution_count": 65,
   "metadata": {},
   "outputs": [],
   "source": [
    "rlog, tlog, dbal = s.get_logs()\n",
    "stats = s.get_stats()"
   ]
  },
  {
   "cell_type": "code",
   "execution_count": 66,
   "metadata": {},
   "outputs": [
    {
     "data": {
      "text/html": [
       "<div>\n",
       "<style scoped>\n",
       "    .dataframe tbody tr th:only-of-type {\n",
       "        vertical-align: middle;\n",
       "    }\n",
       "\n",
       "    .dataframe tbody tr th {\n",
       "        vertical-align: top;\n",
       "    }\n",
       "\n",
       "    .dataframe thead th {\n",
       "        text-align: right;\n",
       "    }\n",
       "</style>\n",
       "<table border=\"1\" class=\"dataframe\">\n",
       "  <thead>\n",
       "    <tr style=\"text-align: right;\">\n",
       "      <th></th>\n",
       "      <th>date</th>\n",
       "      <th>seq_num</th>\n",
       "      <th>price</th>\n",
       "      <th>shares</th>\n",
       "      <th>entry_exit</th>\n",
       "      <th>direction</th>\n",
       "      <th>symbol</th>\n",
       "    </tr>\n",
       "  </thead>\n",
       "  <tbody>\n",
       "    <tr>\n",
       "      <th>0</th>\n",
       "      <td>2005-04-01</td>\n",
       "      <td>0</td>\n",
       "      <td>34.02</td>\n",
       "      <td>293</td>\n",
       "      <td>entry</td>\n",
       "      <td>LONG</td>\n",
       "      <td>EFA</td>\n",
       "    </tr>\n",
       "    <tr>\n",
       "      <th>1</th>\n",
       "      <td>2007-03-01</td>\n",
       "      <td>1</td>\n",
       "      <td>49.15</td>\n",
       "      <td>293</td>\n",
       "      <td>exit</td>\n",
       "      <td>LONG</td>\n",
       "      <td>EFA</td>\n",
       "    </tr>\n",
       "    <tr>\n",
       "      <th>2</th>\n",
       "      <td>2007-03-01</td>\n",
       "      <td>2</td>\n",
       "      <td>106.71</td>\n",
       "      <td>135</td>\n",
       "      <td>entry</td>\n",
       "      <td>LONG</td>\n",
       "      <td>SPY</td>\n",
       "    </tr>\n",
       "    <tr>\n",
       "      <th>3</th>\n",
       "      <td>2007-04-02</td>\n",
       "      <td>3</td>\n",
       "      <td>108.39</td>\n",
       "      <td>135</td>\n",
       "      <td>exit</td>\n",
       "      <td>LONG</td>\n",
       "      <td>SPY</td>\n",
       "    </tr>\n",
       "    <tr>\n",
       "      <th>4</th>\n",
       "      <td>2007-04-02</td>\n",
       "      <td>4</td>\n",
       "      <td>51.23</td>\n",
       "      <td>286</td>\n",
       "      <td>entry</td>\n",
       "      <td>LONG</td>\n",
       "      <td>EFA</td>\n",
       "    </tr>\n",
       "  </tbody>\n",
       "</table>\n",
       "</div>"
      ],
      "text/plain": [
       "        date  seq_num  price  shares entry_exit direction symbol\n",
       "0 2005-04-01        0  34.02     293      entry      LONG    EFA\n",
       "1 2007-03-01        1  49.15     293       exit      LONG    EFA\n",
       "2 2007-03-01        2 106.71     135      entry      LONG    SPY\n",
       "3 2007-04-02        3 108.39     135       exit      LONG    SPY\n",
       "4 2007-04-02        4  51.23     286      entry      LONG    EFA"
      ]
     },
     "execution_count": 66,
     "metadata": {},
     "output_type": "execute_result"
    }
   ],
   "source": [
    "rlog.head()"
   ]
  },
  {
   "cell_type": "code",
   "execution_count": 67,
   "metadata": {},
   "outputs": [
    {
     "data": {
      "text/html": [
       "<div>\n",
       "<style scoped>\n",
       "    .dataframe tbody tr th:only-of-type {\n",
       "        vertical-align: middle;\n",
       "    }\n",
       "\n",
       "    .dataframe tbody tr th {\n",
       "        vertical-align: top;\n",
       "    }\n",
       "\n",
       "    .dataframe thead th {\n",
       "        text-align: right;\n",
       "    }\n",
       "</style>\n",
       "<table border=\"1\" class=\"dataframe\">\n",
       "  <thead>\n",
       "    <tr style=\"text-align: right;\">\n",
       "      <th></th>\n",
       "      <th>entry_date</th>\n",
       "      <th>entry_price</th>\n",
       "      <th>exit_date</th>\n",
       "      <th>exit_price</th>\n",
       "      <th>pl_points</th>\n",
       "      <th>pl_cash</th>\n",
       "      <th>qty</th>\n",
       "      <th>cumul_total</th>\n",
       "      <th>direction</th>\n",
       "      <th>symbol</th>\n",
       "    </tr>\n",
       "  </thead>\n",
       "  <tbody>\n",
       "    <tr>\n",
       "      <th>21</th>\n",
       "      <td>2019-05-01</td>\n",
       "      <td>284.71</td>\n",
       "      <td>2019-06-03</td>\n",
       "      <td>267.89</td>\n",
       "      <td>-16.82</td>\n",
       "      <td>-1968.03</td>\n",
       "      <td>117</td>\n",
       "      <td>21592.70</td>\n",
       "      <td>LONG</td>\n",
       "      <td>SPY</td>\n",
       "    </tr>\n",
       "    <tr>\n",
       "      <th>22</th>\n",
       "      <td>2019-06-03</td>\n",
       "      <td>107.42</td>\n",
       "      <td>2019-11-01</td>\n",
       "      <td>111.14</td>\n",
       "      <td>3.72</td>\n",
       "      <td>1093.76</td>\n",
       "      <td>294</td>\n",
       "      <td>22686.46</td>\n",
       "      <td>LONG</td>\n",
       "      <td>AGG</td>\n",
       "    </tr>\n",
       "    <tr>\n",
       "      <th>23</th>\n",
       "      <td>2019-11-01</td>\n",
       "      <td>301.53</td>\n",
       "      <td>2020-04-01</td>\n",
       "      <td>245.07</td>\n",
       "      <td>-56.46</td>\n",
       "      <td>-6097.99</td>\n",
       "      <td>108</td>\n",
       "      <td>16588.48</td>\n",
       "      <td>LONG</td>\n",
       "      <td>SPY</td>\n",
       "    </tr>\n",
       "    <tr>\n",
       "      <th>24</th>\n",
       "      <td>2020-04-01</td>\n",
       "      <td>114.07</td>\n",
       "      <td>2020-07-01</td>\n",
       "      <td>118.05</td>\n",
       "      <td>3.98</td>\n",
       "      <td>926.20</td>\n",
       "      <td>233</td>\n",
       "      <td>17514.67</td>\n",
       "      <td>LONG</td>\n",
       "      <td>AGG</td>\n",
       "    </tr>\n",
       "    <tr>\n",
       "      <th>25</th>\n",
       "      <td>2020-07-01</td>\n",
       "      <td>310.52</td>\n",
       "      <td>2020-07-23</td>\n",
       "      <td>322.96</td>\n",
       "      <td>12.44</td>\n",
       "      <td>1094.72</td>\n",
       "      <td>88</td>\n",
       "      <td>18609.39</td>\n",
       "      <td>LONG</td>\n",
       "      <td>SPY</td>\n",
       "    </tr>\n",
       "  </tbody>\n",
       "</table>\n",
       "</div>"
      ],
      "text/plain": [
       "   entry_date  entry_price  exit_date  exit_price  pl_points  pl_cash  qty  \\\n",
       "21 2019-05-01       284.71 2019-06-03      267.89     -16.82 -1968.03  117   \n",
       "22 2019-06-03       107.42 2019-11-01      111.14       3.72  1093.76  294   \n",
       "23 2019-11-01       301.53 2020-04-01      245.07     -56.46 -6097.99  108   \n",
       "24 2020-04-01       114.07 2020-07-01      118.05       3.98   926.20  233   \n",
       "25 2020-07-01       310.52 2020-07-23      322.96      12.44  1094.72   88   \n",
       "\n",
       "    cumul_total direction symbol  \n",
       "21     21592.70      LONG    SPY  \n",
       "22     22686.46      LONG    AGG  \n",
       "23     16588.48      LONG    SPY  \n",
       "24     17514.67      LONG    AGG  \n",
       "25     18609.39      LONG    SPY  "
      ]
     },
     "execution_count": 67,
     "metadata": {},
     "output_type": "execute_result"
    }
   ],
   "source": [
    "tlog.tail()"
   ]
  },
  {
   "cell_type": "code",
   "execution_count": 68,
   "metadata": {
    "scrolled": false
   },
   "outputs": [
    {
     "data": {
      "text/html": [
       "<div>\n",
       "<style scoped>\n",
       "    .dataframe tbody tr th:only-of-type {\n",
       "        vertical-align: middle;\n",
       "    }\n",
       "\n",
       "    .dataframe tbody tr th {\n",
       "        vertical-align: top;\n",
       "    }\n",
       "\n",
       "    .dataframe thead th {\n",
       "        text-align: right;\n",
       "    }\n",
       "</style>\n",
       "<table border=\"1\" class=\"dataframe\">\n",
       "  <thead>\n",
       "    <tr style=\"text-align: right;\">\n",
       "      <th></th>\n",
       "      <th>high</th>\n",
       "      <th>low</th>\n",
       "      <th>close</th>\n",
       "      <th>shares</th>\n",
       "      <th>cash</th>\n",
       "      <th>leverage</th>\n",
       "      <th>state</th>\n",
       "    </tr>\n",
       "    <tr>\n",
       "      <th>date</th>\n",
       "      <th></th>\n",
       "      <th></th>\n",
       "      <th></th>\n",
       "      <th></th>\n",
       "      <th></th>\n",
       "      <th></th>\n",
       "      <th></th>\n",
       "    </tr>\n",
       "  </thead>\n",
       "  <tbody>\n",
       "    <tr>\n",
       "      <th>2020-07-17</th>\n",
       "      <td>28500.27</td>\n",
       "      <td>28500.27</td>\n",
       "      <td>28500.27</td>\n",
       "      <td>88</td>\n",
       "      <td>188.91</td>\n",
       "      <td>1.00</td>\n",
       "      <td>-</td>\n",
       "    </tr>\n",
       "    <tr>\n",
       "      <th>2020-07-20</th>\n",
       "      <td>28729.08</td>\n",
       "      <td>28729.08</td>\n",
       "      <td>28729.08</td>\n",
       "      <td>88</td>\n",
       "      <td>188.91</td>\n",
       "      <td>1.00</td>\n",
       "      <td>-</td>\n",
       "    </tr>\n",
       "    <tr>\n",
       "      <th>2020-07-21</th>\n",
       "      <td>28789.80</td>\n",
       "      <td>28789.80</td>\n",
       "      <td>28789.80</td>\n",
       "      <td>88</td>\n",
       "      <td>188.91</td>\n",
       "      <td>1.00</td>\n",
       "      <td>-</td>\n",
       "    </tr>\n",
       "    <tr>\n",
       "      <th>2020-07-22</th>\n",
       "      <td>28952.59</td>\n",
       "      <td>28952.59</td>\n",
       "      <td>28952.59</td>\n",
       "      <td>88</td>\n",
       "      <td>188.91</td>\n",
       "      <td>1.00</td>\n",
       "      <td>-</td>\n",
       "    </tr>\n",
       "    <tr>\n",
       "      <th>2020-07-23</th>\n",
       "      <td>28609.39</td>\n",
       "      <td>28609.39</td>\n",
       "      <td>28609.39</td>\n",
       "      <td>0</td>\n",
       "      <td>28609.39</td>\n",
       "      <td>1.00</td>\n",
       "      <td>X</td>\n",
       "    </tr>\n",
       "  </tbody>\n",
       "</table>\n",
       "</div>"
      ],
      "text/plain": [
       "               high      low    close  shares     cash  leverage state\n",
       "date                                                                  \n",
       "2020-07-17 28500.27 28500.27 28500.27      88   188.91      1.00     -\n",
       "2020-07-20 28729.08 28729.08 28729.08      88   188.91      1.00     -\n",
       "2020-07-21 28789.80 28789.80 28789.80      88   188.91      1.00     -\n",
       "2020-07-22 28952.59 28952.59 28952.59      88   188.91      1.00     -\n",
       "2020-07-23 28609.39 28609.39 28609.39       0 28609.39      1.00     X"
      ]
     },
     "execution_count": 68,
     "metadata": {},
     "output_type": "execute_result"
    }
   ],
   "source": [
    "dbal.tail()"
   ]
  },
  {
   "cell_type": "markdown",
   "metadata": {},
   "source": [
    "Generate strategy stats - display all available stats"
   ]
  },
  {
   "cell_type": "code",
   "execution_count": 69,
   "metadata": {},
   "outputs": [
    {
     "name": "stdout",
     "output_type": "stream",
     "text": [
      "start                                                   2005-03-04\n",
      "end                                                     2020-07-23\n",
      "beginning_balance                                            10000\n",
      "ending_balance                                            28609.39\n",
      "total_net_profit                                          18609.39\n",
      "gross_profit                                              30327.80\n",
      "gross_loss                                               -11718.41\n",
      "profit_factor                                                 2.59\n",
      "return_on_initial_capital                                   186.09\n",
      "annual_return_rate                                            7.07\n",
      "trading_period                           15 years 4 months 19 days\n",
      "pct_time_in_market                                           99.51\n",
      "margin                                                           1\n",
      "avg_leverage                                                  1.00\n",
      "max_leverage                                                  1.00\n",
      "min_leverage                                                  1.00\n",
      "total_num_trades                                                26\n",
      "trades_per_year                                               1.69\n",
      "num_winning_trades                                              19\n",
      "num_losing_trades                                                7\n",
      "num_even_trades                                                  0\n",
      "pct_profitable_trades                                        73.08\n",
      "avg_profit_per_trade                                        715.75\n",
      "avg_profit_per_winning_trade                               1596.20\n",
      "avg_loss_per_losing_trade                                 -1674.06\n",
      "ratio_avg_profit_win_loss                                     0.95\n",
      "largest_profit_winning_trade                               5767.30\n",
      "largest_loss_losing_trade                                 -6097.99\n",
      "num_winning_points                                          151.22\n",
      "num_losing_points                                           -98.18\n",
      "total_net_points                                             53.04\n",
      "avg_points                                                    2.04\n",
      "largest_points_winning_trade                                 38.45\n",
      "largest_points_losing_trade                                 -56.46\n",
      "avg_pct_gain_per_trade                                        4.72\n",
      "largest_pct_winning_trade                                    44.47\n",
      "largest_pct_losing_trade                                    -18.73\n",
      "max_consecutive_winning_trades                                   5\n",
      "max_consecutive_losing_trades                                    2\n",
      "avg_bars_winning_trades                                     175.00\n",
      "avg_bars_losing_trades                                       79.29\n",
      "max_closed_out_drawdown                                     -36.48\n",
      "max_closed_out_drawdown_start_date                      2018-09-20\n",
      "max_closed_out_drawdown_end_date                        2020-03-23\n",
      "max_closed_out_drawdown_recovery_date            Not Recovered Yet\n",
      "drawdown_recovery                                            -1.51\n",
      "drawdown_annualized_return                                   -5.16\n",
      "max_intra_day_drawdown                                      -36.48\n",
      "avg_yearly_closed_out_drawdown                              -10.66\n",
      "max_yearly_closed_out_drawdown                              -33.61\n",
      "avg_monthly_closed_out_drawdown                              -2.80\n",
      "max_monthly_closed_out_drawdown                             -30.88\n",
      "avg_weekly_closed_out_drawdown                               -1.12\n",
      "max_weekly_closed_out_drawdown                              -17.90\n",
      "avg_yearly_closed_out_runup                                  17.91\n",
      "max_yearly_closed_out_runup                                  39.91\n",
      "avg_monthly_closed_out_runup                                  3.40\n",
      "max_monthly_closed_out_runup                                 17.27\n",
      "avg_weekly_closed_out_runup                                   1.28\n",
      "max_weekly_closed_out_runup                                  17.27\n",
      "pct_profitable_years                                         78.22\n",
      "best_year                                                    37.56\n",
      "worst_year                                                  -28.01\n",
      "avg_year                                                      8.29\n",
      "annual_std                                                   11.02\n",
      "pct_profitable_months                                        65.57\n",
      "best_month                                                   12.67\n",
      "worst_month                                                 -30.88\n",
      "avg_month                                                     0.60\n",
      "monthly_std                                                   3.39\n",
      "pct_profitable_weeks                                         59.89\n",
      "best_week                                                    17.27\n",
      "worst_week                                                  -17.90\n",
      "avg_week                                                      0.15\n",
      "weekly_std                                                    1.81\n",
      "sharpe_ratio                                                  0.55\n",
      "sortino_ratio                                                 0.64\n",
      "dtype: object\n"
     ]
    }
   ],
   "source": [
    "pf.print_full(stats)"
   ]
  },
  {
   "cell_type": "markdown",
   "metadata": {},
   "source": [
    "Run Benchmark, Retrieve benchmark logs, and Generate benchmark stats"
   ]
  },
  {
   "cell_type": "code",
   "execution_count": 70,
   "metadata": {},
   "outputs": [
    {
     "name": "stdout",
     "output_type": "stream",
     "text": [
      "2005-03-04 00:00:00 BUY  81 SPY @ 122.73\n",
      "2020-07-24 00:00:00 SELL 81 SPY @ 320.88\n"
     ]
    }
   ],
   "source": [
    "benchmark = pf.Benchmark('SPY', capital, s.start, s.end)\n",
    "benchmark.run()\n",
    "benchmark.tlog, benchmark.dbal = benchmark.get_logs()\n",
    "benchmark.stats = benchmark.get_stats()"
   ]
  },
  {
   "cell_type": "markdown",
   "metadata": {},
   "source": [
    "Plot Equity Curves: Strategy vs Benchmark"
   ]
  },
  {
   "cell_type": "code",
   "execution_count": 71,
   "metadata": {
    "scrolled": false
   },
   "outputs": [
    {
     "data": {
      "image/png": "[encoded data removed]",
      "text/plain": [
       "<Figure size 720x504 with 1 Axes>"
      ]
     },
     "metadata": {
      "needs_background": "light"
     },
     "output_type": "display_data"
    }
   ],
   "source": [
    "pf.plot_equity_curve(dbal, benchmark=benchmark.dbal)"
   ]
  },
  {
   "cell_type": "markdown",
   "metadata": {},
   "source": [
    "Plot Trades"
   ]
  },
  {
   "cell_type": "code",
   "execution_count": 72,
   "metadata": {},
   "outputs": [
    {
     "ename": "ValueError",
     "evalue": "Cannot mask with non-boolean array containing NA / NaN values",
     "output_type": "error",
     "traceback": [
      "\u001b[0;31m---------------------------------------------------------------------------\u001b[0m",
      "\u001b[0;31mValueError\u001b[0m                                Traceback (most recent call last)",
      "\u001b[0;32m<ipython-input-72-2c5324dd3e69>\u001b[0m in \u001b[0;36m<module>\u001b[0;34m\u001b[0m\n\u001b[0;32m----> 1\u001b[0;31m \u001b[0mpf\u001b[0m\u001b[0;34m.\u001b[0m\u001b[0mplot_trades\u001b[0m\u001b[0;34m(\u001b[0m\u001b[0mdbal\u001b[0m\u001b[0;34m,\u001b[0m \u001b[0mbenchmark\u001b[0m\u001b[0;34m=\u001b[0m\u001b[0mbenchmark\u001b[0m\u001b[0;34m.\u001b[0m\u001b[0mdbal\u001b[0m\u001b[0;34m)\u001b[0m\u001b[0;34m\u001b[0m\u001b[0;34m\u001b[0m\u001b[0m\n\u001b[0m",
      "\u001b[0;32m~/src/pinkfish/pinkfish/plot.py\u001b[0m in \u001b[0;36mplot_trades\u001b[0;34m(strategy, benchmark)\u001b[0m\n\u001b[1;32m     56\u001b[0m     \u001b[0ms\u001b[0m \u001b[0;34m=\u001b[0m \u001b[0mstrategy\u001b[0m\u001b[0;34m[\u001b[0m\u001b[0;34m'state'\u001b[0m\u001b[0;34m]\u001b[0m \u001b[0;34m==\u001b[0m \u001b[0mpf\u001b[0m\u001b[0;34m.\u001b[0m\u001b[0mTradeState\u001b[0m\u001b[0;34m.\u001b[0m\u001b[0mOPEN\u001b[0m\u001b[0;34m\u001b[0m\u001b[0;34m\u001b[0m\u001b[0m\n\u001b[1;32m     57\u001b[0m     \u001b[0ms\u001b[0m \u001b[0;34m=\u001b[0m \u001b[0ms\u001b[0m\u001b[0;34m.\u001b[0m\u001b[0mreindex_like\u001b[0m\u001b[0;34m(\u001b[0m\u001b[0mbenchmark\u001b[0m\u001b[0;34m)\u001b[0m\u001b[0;34m\u001b[0m\u001b[0;34m\u001b[0m\u001b[0m\n\u001b[0;32m---> 58\u001b[0;31m     \u001b[0mbuy\u001b[0m \u001b[0;34m=\u001b[0m \u001b[0mbenchmark\u001b[0m\u001b[0;34m[\u001b[0m\u001b[0ms\u001b[0m\u001b[0;34m]\u001b[0m\u001b[0;34m\u001b[0m\u001b[0;34m\u001b[0m\u001b[0m\n\u001b[0m\u001b[1;32m     59\u001b[0m     \u001b[0maxes\u001b[0m\u001b[0;34m.\u001b[0m\u001b[0mplot\u001b[0m\u001b[0;34m(\u001b[0m\u001b[0mbuy\u001b[0m\u001b[0;34m.\u001b[0m\u001b[0mindex\u001b[0m\u001b[0;34m,\u001b[0m \u001b[0mbuy\u001b[0m\u001b[0;34m[\u001b[0m\u001b[0;34m'close'\u001b[0m\u001b[0;34m]\u001b[0m\u001b[0;34m,\u001b[0m \u001b[0;34m'^'\u001b[0m\u001b[0;34m,\u001b[0m \u001b[0mmarkersize\u001b[0m\u001b[0;34m=\u001b[0m\u001b[0;36m10\u001b[0m\u001b[0;34m,\u001b[0m \u001b[0mcolor\u001b[0m\u001b[0;34m=\u001b[0m\u001b[0;34m'k'\u001b[0m\u001b[0;34m)\u001b[0m\u001b[0;34m\u001b[0m\u001b[0;34m\u001b[0m\u001b[0m\n\u001b[1;32m     60\u001b[0m \u001b[0;34m\u001b[0m\u001b[0m\n",
      "\u001b[0;32m/usr/local/lib/python3.8/dist-packages/pandas/core/frame.py\u001b[0m in \u001b[0;36m__getitem__\u001b[0;34m(self, key)\u001b[0m\n\u001b[1;32m   2788\u001b[0m \u001b[0;34m\u001b[0m\u001b[0m\n\u001b[1;32m   2789\u001b[0m         \u001b[0;31m# Do we have a (boolean) 1d indexer?\u001b[0m\u001b[0;34m\u001b[0m\u001b[0;34m\u001b[0m\u001b[0;34m\u001b[0m\u001b[0m\n\u001b[0;32m-> 2790\u001b[0;31m         \u001b[0;32mif\u001b[0m \u001b[0mcom\u001b[0m\u001b[0;34m.\u001b[0m\u001b[0mis_bool_indexer\u001b[0m\u001b[0;34m(\u001b[0m\u001b[0mkey\u001b[0m\u001b[0;34m)\u001b[0m\u001b[0;34m:\u001b[0m\u001b[0;34m\u001b[0m\u001b[0;34m\u001b[0m\u001b[0m\n\u001b[0m\u001b[1;32m   2791\u001b[0m             \u001b[0;32mreturn\u001b[0m \u001b[0mself\u001b[0m\u001b[0;34m.\u001b[0m\u001b[0m_getitem_bool_array\u001b[0m\u001b[0;34m(\u001b[0m\u001b[0mkey\u001b[0m\u001b[0;34m)\u001b[0m\u001b[0;34m\u001b[0m\u001b[0;34m\u001b[0m\u001b[0m\n\u001b[1;32m   2792\u001b[0m \u001b[0;34m\u001b[0m\u001b[0m\n",
      "\u001b[0;32m/usr/local/lib/python3.8/dist-packages/pandas/core/common.py\u001b[0m in \u001b[0;36mis_bool_indexer\u001b[0;34m(key)\u001b[0m\n\u001b[1;32m    134\u001b[0m                 \u001b[0mna_msg\u001b[0m \u001b[0;34m=\u001b[0m \u001b[0;34m\"Cannot mask with non-boolean array containing NA / NaN values\"\u001b[0m\u001b[0;34m\u001b[0m\u001b[0;34m\u001b[0m\u001b[0m\n\u001b[1;32m    135\u001b[0m                 \u001b[0;32mif\u001b[0m \u001b[0misna\u001b[0m\u001b[0;34m(\u001b[0m\u001b[0mkey\u001b[0m\u001b[0;34m)\u001b[0m\u001b[0;34m.\u001b[0m\u001b[0many\u001b[0m\u001b[0;34m(\u001b[0m\u001b[0;34m)\u001b[0m\u001b[0;34m:\u001b[0m\u001b[0;34m\u001b[0m\u001b[0;34m\u001b[0m\u001b[0m\n\u001b[0;32m--> 136\u001b[0;31m                     \u001b[0;32mraise\u001b[0m \u001b[0mValueError\u001b[0m\u001b[0;34m(\u001b[0m\u001b[0mna_msg\u001b[0m\u001b[0;34m)\u001b[0m\u001b[0;34m\u001b[0m\u001b[0;34m\u001b[0m\u001b[0m\n\u001b[0m\u001b[1;32m    137\u001b[0m                 \u001b[0;32mreturn\u001b[0m \u001b[0;32mFalse\u001b[0m\u001b[0;34m\u001b[0m\u001b[0;34m\u001b[0m\u001b[0m\n\u001b[1;32m    138\u001b[0m             \u001b[0;32mreturn\u001b[0m \u001b[0;32mTrue\u001b[0m\u001b[0;34m\u001b[0m\u001b[0;34m\u001b[0m\u001b[0m\n",
      "\u001b[0;31mValueError\u001b[0m: Cannot mask with non-boolean array containing NA / NaN values"
     ]
    },
    {
     "data": {
      "image/png": "[encoded data removed]",
      "text/plain": [
       "<Figure size 720x504 with 1 Axes>"
      ]
     },
     "metadata": {
      "needs_background": "light"
     },
     "output_type": "display_data"
    }
   ],
   "source": [
    "pf.plot_trades(dbal, benchmark=benchmark.dbal)"
   ]
  },
  {
   "cell_type": "markdown",
   "metadata": {},
   "source": [
    "Bar Graph: Strategy vs Benchmark"
   ]
  },
  {
   "cell_type": "code",
   "execution_count": null,
   "metadata": {},
   "outputs": [],
   "source": [
    "df = pf.plot_bar_graph(stats, benchmark.stats)\n",
    "df"
   ]
  }
 ],
 "metadata": {
  "kernelspec": {
   "display_name": "Python 3",
   "language": "python",
   "name": "python3"
  },
  "language_info": {
   "codemirror_mode": {
    "name": "ipython",
    "version": 3
   },
   "file_extension": ".py",
   "mimetype": "text/x-python",
   "name": "python",
   "nbconvert_exporter": "python",
   "pygments_lexer": "ipython3",
   "version": "3.8.2"
  },
  "latex_envs": {
   "LaTeX_envs_menu_present": true,
   "autoclose": false,
   "autocomplete": true,
   "bibliofile": "biblio.bib",
   "cite_by": "apalike",
   "current_citInitial": 1,
   "eqLabelWithNumbers": true,
   "eqNumInitial": 1,
   "hotkeys": {
    "equation": "Ctrl-E",
    "itemize": "Ctrl-I"
   },
   "labels_anchors": false,
   "latex_user_defs": false,
   "report_style_numbering": false,
   "user_envs_cfg": false
  }
 },
 "nbformat": 4,
 "nbformat_minor": 1
}
