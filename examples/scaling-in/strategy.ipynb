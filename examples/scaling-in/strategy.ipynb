{
 "cells": [
  {
   "cell_type": "markdown",
   "metadata": {},
   "source": [
    "# Double 7's (Short Term Trading Strategies that Work)\n",
    "\n",
    "    1. The SPY is above its 200-day moving average\n",
    "    2. The SPY closes at a X-day low, buy some shares.\n",
    "       If it falls further, buy some more, etc...\n",
    "    3. If the SPY closes at a X-day high, sell your entire long position.\n",
    "    \n",
    "    (Scaling in)"
   ]
  },
  {
   "cell_type": "code",
   "execution_count": 1,
   "metadata": {
    "ExecuteTime": {
     "end_time": "2020-02-17T03:25:00.514311Z",
     "start_time": "2020-02-17T03:24:58.734096Z"
    }
   },
   "outputs": [],
   "source": [
    "# other imports\n",
    "import pandas as pd\n",
    "import matplotlib.pyplot as plt\n",
    "import datetime\n",
    "from talib.abstract import *\n",
    "\n",
    "# project imports\n",
    "import pinkfish as pf\n",
    "import strategy\n",
    "\n",
    "# format price data\n",
    "pd.options.display.float_format = '{:0.2f}'.format\n",
    "\n",
    "%matplotlib inline"
   ]
  },
  {
   "cell_type": "code",
   "execution_count": 2,
   "metadata": {
    "ExecuteTime": {
     "end_time": "2020-02-17T03:25:00.535246Z",
     "start_time": "2020-02-17T03:25:00.520502Z"
    }
   },
   "outputs": [],
   "source": [
    "# set size of inline plots\n",
    "'''note: rcParams can't be in same cell as import matplotlib\n",
    "   or %matplotlib inline\n",
    "   \n",
    "   %matplotlib notebook: will lead to interactive plots embedded within\n",
    "   the notebook, you can zoom and resize the figure\n",
    "   \n",
    "   %matplotlib inline: only draw static images in the notebook\n",
    "'''\n",
    "plt.rcParams[\"figure.figsize\"] = (10, 7)"
   ]
  },
  {
   "cell_type": "markdown",
   "metadata": {},
   "source": [
    "Some global data"
   ]
  },
  {
   "cell_type": "code",
   "execution_count": 3,
   "metadata": {
    "ExecuteTime": {
     "end_time": "2020-02-17T03:25:00.557475Z",
     "start_time": "2020-02-17T03:25:00.543775Z"
    }
   },
   "outputs": [],
   "source": [
    "#symbol = '^GSPC'\n",
    "symbol = 'SPY'\n",
    "#symbol = 'DIA'\n",
    "#symbol = 'QQQ'\n",
    "#symbol = 'IWM'\n",
    "#symbol = 'TLT'\n",
    "#symbol = 'GLD'\n",
    "#symbol = 'AAPL'\n",
    "#symbol = 'BBRY'\n",
    "#symbol = 'GDX'\n",
    "capital = 10000\n",
    "start = datetime.datetime(2000, 1, 1)\n",
    "end = datetime.datetime.now()"
   ]
  },
  {
   "cell_type": "markdown",
   "metadata": {},
   "source": [
    "Define high low trade periods"
   ]
  },
  {
   "cell_type": "code",
   "execution_count": 4,
   "metadata": {
    "ExecuteTime": {
     "end_time": "2020-02-17T03:25:00.579331Z",
     "start_time": "2020-02-17T03:25:00.567353Z"
    }
   },
   "outputs": [],
   "source": [
    "period = 8"
   ]
  },
  {
   "cell_type": "markdown",
   "metadata": {},
   "source": [
    "Define max number of positions to scale into"
   ]
  },
  {
   "cell_type": "code",
   "execution_count": 5,
   "metadata": {
    "ExecuteTime": {
     "end_time": "2020-02-17T03:25:00.598140Z",
     "start_time": "2020-02-17T03:25:00.581072Z"
    }
   },
   "outputs": [],
   "source": [
    "max_positions = 4"
   ]
  },
  {
   "cell_type": "markdown",
   "metadata": {},
   "source": [
    "Run Strategy"
   ]
  },
  {
   "cell_type": "code",
   "execution_count": 6,
   "metadata": {
    "ExecuteTime": {
     "end_time": "2020-02-17T03:25:00.993017Z",
     "start_time": "2020-02-17T03:25:00.599824Z"
    },
    "scrolled": false
   },
   "outputs": [],
   "source": [
    "s = strategy.Strategy(symbol, capital, start, end, period=period, max_positions=max_positions)\n",
    "s.run()"
   ]
  },
  {
   "cell_type": "markdown",
   "metadata": {},
   "source": [
    "Retrieve log DataFrames"
   ]
  },
  {
   "cell_type": "code",
   "execution_count": 7,
   "metadata": {
    "ExecuteTime": {
     "end_time": "2020-02-17T03:25:02.347179Z",
     "start_time": "2020-02-17T03:25:01.000343Z"
    }
   },
   "outputs": [],
   "source": [
    "rlog, tlog, dbal = s.get_logs()\n",
    "stats = s.get_stats()"
   ]
  },
  {
   "cell_type": "code",
   "execution_count": 8,
   "metadata": {
    "ExecuteTime": {
     "end_time": "2020-02-17T03:25:02.409956Z",
     "start_time": "2020-02-17T03:25:02.358450Z"
    }
   },
   "outputs": [
    {
     "data": {
      "text/html": [
       "<div>\n",
       "<style scoped>\n",
       "    .dataframe tbody tr th:only-of-type {\n",
       "        vertical-align: middle;\n",
       "    }\n",
       "\n",
       "    .dataframe tbody tr th {\n",
       "        vertical-align: top;\n",
       "    }\n",
       "\n",
       "    .dataframe thead th {\n",
       "        text-align: right;\n",
       "    }\n",
       "</style>\n",
       "<table border=\"1\" class=\"dataframe\">\n",
       "  <thead>\n",
       "    <tr style=\"text-align: right;\">\n",
       "      <th></th>\n",
       "      <th>date</th>\n",
       "      <th>price</th>\n",
       "      <th>shares</th>\n",
       "      <th>entry_exit</th>\n",
       "      <th>symbol</th>\n",
       "    </tr>\n",
       "  </thead>\n",
       "  <tbody>\n",
       "    <tr>\n",
       "      <th>570</th>\n",
       "      <td>2019-12-03</td>\n",
       "      <td>309.55</td>\n",
       "      <td>18</td>\n",
       "      <td>entry</td>\n",
       "      <td></td>\n",
       "    </tr>\n",
       "    <tr>\n",
       "      <th>571</th>\n",
       "      <td>2019-12-12</td>\n",
       "      <td>317.13</td>\n",
       "      <td>18</td>\n",
       "      <td>exit</td>\n",
       "      <td></td>\n",
       "    </tr>\n",
       "    <tr>\n",
       "      <th>572</th>\n",
       "      <td>2020-01-27</td>\n",
       "      <td>323.50</td>\n",
       "      <td>18</td>\n",
       "      <td>entry</td>\n",
       "      <td></td>\n",
       "    </tr>\n",
       "    <tr>\n",
       "      <th>573</th>\n",
       "      <td>2020-01-31</td>\n",
       "      <td>321.73</td>\n",
       "      <td>18</td>\n",
       "      <td>entry</td>\n",
       "      <td></td>\n",
       "    </tr>\n",
       "    <tr>\n",
       "      <th>574</th>\n",
       "      <td>2020-02-04</td>\n",
       "      <td>329.06</td>\n",
       "      <td>36</td>\n",
       "      <td>exit</td>\n",
       "      <td></td>\n",
       "    </tr>\n",
       "    <tr>\n",
       "      <th>575</th>\n",
       "      <td>2020-02-21</td>\n",
       "      <td>333.48</td>\n",
       "      <td>17</td>\n",
       "      <td>entry</td>\n",
       "      <td></td>\n",
       "    </tr>\n",
       "    <tr>\n",
       "      <th>576</th>\n",
       "      <td>2020-02-24</td>\n",
       "      <td>322.42</td>\n",
       "      <td>18</td>\n",
       "      <td>entry</td>\n",
       "      <td></td>\n",
       "    </tr>\n",
       "    <tr>\n",
       "      <th>577</th>\n",
       "      <td>2020-02-25</td>\n",
       "      <td>312.65</td>\n",
       "      <td>19</td>\n",
       "      <td>entry</td>\n",
       "      <td></td>\n",
       "    </tr>\n",
       "    <tr>\n",
       "      <th>578</th>\n",
       "      <td>2020-02-26</td>\n",
       "      <td>311.50</td>\n",
       "      <td>20</td>\n",
       "      <td>entry</td>\n",
       "      <td></td>\n",
       "    </tr>\n",
       "    <tr>\n",
       "      <th>579</th>\n",
       "      <td>2020-03-26</td>\n",
       "      <td>261.20</td>\n",
       "      <td>74</td>\n",
       "      <td>exit</td>\n",
       "      <td></td>\n",
       "    </tr>\n",
       "  </tbody>\n",
       "</table>\n",
       "</div>"
      ],
      "text/plain": [
       "          date  price  shares entry_exit symbol\n",
       "570 2019-12-03 309.55      18      entry       \n",
       "571 2019-12-12 317.13      18       exit       \n",
       "572 2020-01-27 323.50      18      entry       \n",
       "573 2020-01-31 321.73      18      entry       \n",
       "574 2020-02-04 329.06      36       exit       \n",
       "575 2020-02-21 333.48      17      entry       \n",
       "576 2020-02-24 322.42      18      entry       \n",
       "577 2020-02-25 312.65      19      entry       \n",
       "578 2020-02-26 311.50      20      entry       \n",
       "579 2020-03-26 261.20      74       exit       "
      ]
     },
     "execution_count": 8,
     "metadata": {},
     "output_type": "execute_result"
    }
   ],
   "source": [
    "s.rlog.tail(10)"
   ]
  },
  {
   "cell_type": "code",
   "execution_count": 9,
   "metadata": {
    "ExecuteTime": {
     "end_time": "2020-02-17T03:25:02.478187Z",
     "start_time": "2020-02-17T03:25:02.419242Z"
    }
   },
   "outputs": [
    {
     "data": {
      "text/html": [
       "<div>\n",
       "<style scoped>\n",
       "    .dataframe tbody tr th:only-of-type {\n",
       "        vertical-align: middle;\n",
       "    }\n",
       "\n",
       "    .dataframe tbody tr th {\n",
       "        vertical-align: top;\n",
       "    }\n",
       "\n",
       "    .dataframe thead th {\n",
       "        text-align: right;\n",
       "    }\n",
       "</style>\n",
       "<table border=\"1\" class=\"dataframe\">\n",
       "  <thead>\n",
       "    <tr style=\"text-align: right;\">\n",
       "      <th></th>\n",
       "      <th>entry_date</th>\n",
       "      <th>entry_price</th>\n",
       "      <th>exit_date</th>\n",
       "      <th>exit_price</th>\n",
       "      <th>pl_points</th>\n",
       "      <th>pl_cash</th>\n",
       "      <th>qty</th>\n",
       "      <th>cumul_total</th>\n",
       "      <th>symbol</th>\n",
       "    </tr>\n",
       "  </thead>\n",
       "  <tbody>\n",
       "    <tr>\n",
       "      <th>400</th>\n",
       "      <td>2019-09-23</td>\n",
       "      <td>298.21</td>\n",
       "      <td>2019-10-11</td>\n",
       "      <td>296.28</td>\n",
       "      <td>-1.93</td>\n",
       "      <td>-38.60</td>\n",
       "      <td>20</td>\n",
       "      <td>13485.30</td>\n",
       "      <td></td>\n",
       "    </tr>\n",
       "    <tr>\n",
       "      <th>401</th>\n",
       "      <td>2019-09-24</td>\n",
       "      <td>295.87</td>\n",
       "      <td>2019-10-11</td>\n",
       "      <td>296.28</td>\n",
       "      <td>0.41</td>\n",
       "      <td>8.20</td>\n",
       "      <td>20</td>\n",
       "      <td>13493.50</td>\n",
       "      <td></td>\n",
       "    </tr>\n",
       "    <tr>\n",
       "      <th>402</th>\n",
       "      <td>2019-09-27</td>\n",
       "      <td>295.40</td>\n",
       "      <td>2019-10-11</td>\n",
       "      <td>296.28</td>\n",
       "      <td>0.88</td>\n",
       "      <td>17.60</td>\n",
       "      <td>20</td>\n",
       "      <td>13511.11</td>\n",
       "      <td></td>\n",
       "    </tr>\n",
       "    <tr>\n",
       "      <th>403</th>\n",
       "      <td>2019-12-03</td>\n",
       "      <td>309.55</td>\n",
       "      <td>2019-12-12</td>\n",
       "      <td>317.13</td>\n",
       "      <td>7.58</td>\n",
       "      <td>136.44</td>\n",
       "      <td>18</td>\n",
       "      <td>13647.55</td>\n",
       "      <td></td>\n",
       "    </tr>\n",
       "    <tr>\n",
       "      <th>404</th>\n",
       "      <td>2020-01-27</td>\n",
       "      <td>323.50</td>\n",
       "      <td>2020-02-04</td>\n",
       "      <td>329.06</td>\n",
       "      <td>5.56</td>\n",
       "      <td>100.08</td>\n",
       "      <td>18</td>\n",
       "      <td>13747.63</td>\n",
       "      <td></td>\n",
       "    </tr>\n",
       "    <tr>\n",
       "      <th>405</th>\n",
       "      <td>2020-01-31</td>\n",
       "      <td>321.73</td>\n",
       "      <td>2020-02-04</td>\n",
       "      <td>329.06</td>\n",
       "      <td>7.33</td>\n",
       "      <td>131.94</td>\n",
       "      <td>18</td>\n",
       "      <td>13879.57</td>\n",
       "      <td></td>\n",
       "    </tr>\n",
       "    <tr>\n",
       "      <th>406</th>\n",
       "      <td>2020-02-21</td>\n",
       "      <td>333.48</td>\n",
       "      <td>2020-03-26</td>\n",
       "      <td>261.20</td>\n",
       "      <td>-72.28</td>\n",
       "      <td>-1228.76</td>\n",
       "      <td>17</td>\n",
       "      <td>12650.81</td>\n",
       "      <td></td>\n",
       "    </tr>\n",
       "    <tr>\n",
       "      <th>407</th>\n",
       "      <td>2020-02-24</td>\n",
       "      <td>322.42</td>\n",
       "      <td>2020-03-26</td>\n",
       "      <td>261.20</td>\n",
       "      <td>-61.22</td>\n",
       "      <td>-1101.96</td>\n",
       "      <td>18</td>\n",
       "      <td>11548.85</td>\n",
       "      <td></td>\n",
       "    </tr>\n",
       "    <tr>\n",
       "      <th>408</th>\n",
       "      <td>2020-02-25</td>\n",
       "      <td>312.65</td>\n",
       "      <td>2020-03-26</td>\n",
       "      <td>261.20</td>\n",
       "      <td>-51.45</td>\n",
       "      <td>-977.55</td>\n",
       "      <td>19</td>\n",
       "      <td>10571.30</td>\n",
       "      <td></td>\n",
       "    </tr>\n",
       "    <tr>\n",
       "      <th>409</th>\n",
       "      <td>2020-02-26</td>\n",
       "      <td>311.50</td>\n",
       "      <td>2020-03-26</td>\n",
       "      <td>261.20</td>\n",
       "      <td>-50.30</td>\n",
       "      <td>-1006.00</td>\n",
       "      <td>20</td>\n",
       "      <td>9565.30</td>\n",
       "      <td></td>\n",
       "    </tr>\n",
       "  </tbody>\n",
       "</table>\n",
       "</div>"
      ],
      "text/plain": [
       "    entry_date  entry_price  exit_date  exit_price  pl_points  pl_cash  qty  \\\n",
       "400 2019-09-23       298.21 2019-10-11      296.28      -1.93   -38.60   20   \n",
       "401 2019-09-24       295.87 2019-10-11      296.28       0.41     8.20   20   \n",
       "402 2019-09-27       295.40 2019-10-11      296.28       0.88    17.60   20   \n",
       "403 2019-12-03       309.55 2019-12-12      317.13       7.58   136.44   18   \n",
       "404 2020-01-27       323.50 2020-02-04      329.06       5.56   100.08   18   \n",
       "405 2020-01-31       321.73 2020-02-04      329.06       7.33   131.94   18   \n",
       "406 2020-02-21       333.48 2020-03-26      261.20     -72.28 -1228.76   17   \n",
       "407 2020-02-24       322.42 2020-03-26      261.20     -61.22 -1101.96   18   \n",
       "408 2020-02-25       312.65 2020-03-26      261.20     -51.45  -977.55   19   \n",
       "409 2020-02-26       311.50 2020-03-26      261.20     -50.30 -1006.00   20   \n",
       "\n",
       "     cumul_total symbol  \n",
       "400     13485.30         \n",
       "401     13493.50         \n",
       "402     13511.11         \n",
       "403     13647.55         \n",
       "404     13747.63         \n",
       "405     13879.57         \n",
       "406     12650.81         \n",
       "407     11548.85         \n",
       "408     10571.30         \n",
       "409      9565.30         "
      ]
     },
     "execution_count": 9,
     "metadata": {},
     "output_type": "execute_result"
    }
   ],
   "source": [
    "tlog.tail(10)"
   ]
  },
  {
   "cell_type": "code",
   "execution_count": 10,
   "metadata": {
    "ExecuteTime": {
     "end_time": "2020-02-17T03:25:02.526223Z",
     "start_time": "2020-02-17T03:25:02.482240Z"
    }
   },
   "outputs": [
    {
     "data": {
      "text/html": [
       "<div>\n",
       "<style scoped>\n",
       "    .dataframe tbody tr th:only-of-type {\n",
       "        vertical-align: middle;\n",
       "    }\n",
       "\n",
       "    .dataframe tbody tr th {\n",
       "        vertical-align: top;\n",
       "    }\n",
       "\n",
       "    .dataframe thead th {\n",
       "        text-align: right;\n",
       "    }\n",
       "</style>\n",
       "<table border=\"1\" class=\"dataframe\">\n",
       "  <thead>\n",
       "    <tr style=\"text-align: right;\">\n",
       "      <th></th>\n",
       "      <th>high</th>\n",
       "      <th>low</th>\n",
       "      <th>close</th>\n",
       "      <th>shares</th>\n",
       "      <th>cash</th>\n",
       "      <th>state</th>\n",
       "    </tr>\n",
       "    <tr>\n",
       "      <th>date</th>\n",
       "      <th></th>\n",
       "      <th></th>\n",
       "      <th></th>\n",
       "      <th></th>\n",
       "      <th></th>\n",
       "      <th></th>\n",
       "    </tr>\n",
       "  </thead>\n",
       "  <tbody>\n",
       "    <tr>\n",
       "      <th>2020-06-02</th>\n",
       "      <td>19565.30</td>\n",
       "      <td>19565.30</td>\n",
       "      <td>19565.30</td>\n",
       "      <td>0</td>\n",
       "      <td>19565.30</td>\n",
       "      <td>-</td>\n",
       "    </tr>\n",
       "    <tr>\n",
       "      <th>2020-06-03</th>\n",
       "      <td>19565.30</td>\n",
       "      <td>19565.30</td>\n",
       "      <td>19565.30</td>\n",
       "      <td>0</td>\n",
       "      <td>19565.30</td>\n",
       "      <td>-</td>\n",
       "    </tr>\n",
       "    <tr>\n",
       "      <th>2020-06-04</th>\n",
       "      <td>19565.30</td>\n",
       "      <td>19565.30</td>\n",
       "      <td>19565.30</td>\n",
       "      <td>0</td>\n",
       "      <td>19565.30</td>\n",
       "      <td>-</td>\n",
       "    </tr>\n",
       "    <tr>\n",
       "      <th>2020-06-05</th>\n",
       "      <td>19565.30</td>\n",
       "      <td>19565.30</td>\n",
       "      <td>19565.30</td>\n",
       "      <td>0</td>\n",
       "      <td>19565.30</td>\n",
       "      <td>-</td>\n",
       "    </tr>\n",
       "    <tr>\n",
       "      <th>2020-06-08</th>\n",
       "      <td>19565.30</td>\n",
       "      <td>19565.30</td>\n",
       "      <td>19565.30</td>\n",
       "      <td>0</td>\n",
       "      <td>19565.30</td>\n",
       "      <td>-</td>\n",
       "    </tr>\n",
       "  </tbody>\n",
       "</table>\n",
       "</div>"
      ],
      "text/plain": [
       "               high      low    close  shares     cash state\n",
       "date                                                        \n",
       "2020-06-02 19565.30 19565.30 19565.30       0 19565.30     -\n",
       "2020-06-03 19565.30 19565.30 19565.30       0 19565.30     -\n",
       "2020-06-04 19565.30 19565.30 19565.30       0 19565.30     -\n",
       "2020-06-05 19565.30 19565.30 19565.30       0 19565.30     -\n",
       "2020-06-08 19565.30 19565.30 19565.30       0 19565.30     -"
      ]
     },
     "execution_count": 10,
     "metadata": {},
     "output_type": "execute_result"
    }
   ],
   "source": [
    "dbal.tail()"
   ]
  },
  {
   "cell_type": "markdown",
   "metadata": {},
   "source": [
    "Generate strategy stats - display all available stats"
   ]
  },
  {
   "cell_type": "code",
   "execution_count": 11,
   "metadata": {
    "ExecuteTime": {
     "end_time": "2020-02-17T03:25:02.585181Z",
     "start_time": "2020-02-17T03:25:02.535391Z"
    }
   },
   "outputs": [
    {
     "name": "stdout",
     "output_type": "stream",
     "text": [
      "start                                                  2000-01-03\n",
      "end                                                    2020-06-08\n",
      "beginning_balance                                           10000\n",
      "ending_balance                                           19565.30\n",
      "total_net_profit                                          9565.30\n",
      "gross_profit                                             20626.01\n",
      "gross_loss                                              -11060.71\n",
      "profit_factor                                                1.86\n",
      "return_on_initial_capital                                   95.65\n",
      "annual_return_rate                                           3.34\n",
      "trading_period                           20 years 5 months 5 days\n",
      "pct_time_in_market                                          27.68\n",
      "total_num_trades                                              410\n",
      "trades_per_year                                             20.07\n",
      "num_winning_trades                                            322\n",
      "num_losing_trades                                              88\n",
      "num_even_trades                                                 0\n",
      "pct_profitable_trades                                       78.54\n",
      "avg_profit_per_trade                                        23.33\n",
      "avg_profit_per_winning_trade                                64.06\n",
      "avg_loss_per_losing_trade                                 -125.69\n",
      "ratio_avg_profit_win_loss                                    0.51\n",
      "largest_profit_winning_trade                               287.04\n",
      "largest_loss_losing_trade                                -1228.76\n",
      "num_winning_points                                         850.98\n",
      "num_losing_points                                         -523.82\n",
      "total_net_points                                           327.17\n",
      "avg_points                                                   0.80\n",
      "largest_points_winning_trade                                11.96\n",
      "largest_points_losing_trade                                -72.28\n",
      "avg_pct_gain_per_trade                                       0.69\n",
      "largest_pct_winning_trade                                    6.69\n",
      "largest_pct_losing_trade                                   -21.67\n",
      "max_consecutive_winning_trades                                 32\n",
      "max_consecutive_losing_trades                                   5\n",
      "avg_bars_winning_trades                                      7.18\n",
      "avg_bars_losing_trades                                      16.81\n",
      "max_closed_out_drawdown                                    -30.83\n",
      "max_closed_out_drawdown_start_date                     2018-09-13\n",
      "max_closed_out_drawdown_end_date                       2020-03-23\n",
      "max_closed_out_drawdown_recovery_date           Not Recovered Yet\n",
      "drawdown_recovery                                           -1.53\n",
      "drawdown_annualized_return                                  -9.23\n",
      "max_intra_day_drawdown                                     -32.45\n",
      "avg_yearly_closed_out_drawdown                              -4.43\n",
      "max_yearly_closed_out_drawdown                             -29.92\n",
      "avg_monthly_closed_out_drawdown                             -0.89\n",
      "max_monthly_closed_out_drawdown                            -29.36\n",
      "avg_weekly_closed_out_drawdown                              -0.30\n",
      "max_weekly_closed_out_drawdown                             -17.78\n",
      "avg_yearly_closed_out_runup                                  7.54\n",
      "max_yearly_closed_out_runup                                 18.48\n",
      "avg_monthly_closed_out_runup                                 1.14\n",
      "max_monthly_closed_out_runup                                16.91\n",
      "avg_weekly_closed_out_runup                                  0.38\n",
      "max_weekly_closed_out_runup                                 16.91\n",
      "pct_profitable_years                                        74.35\n",
      "best_year                                                   17.08\n",
      "worst_year                                                 -28.26\n",
      "avg_year                                                     4.11\n",
      "annual_std                                                   5.40\n",
      "pct_profitable_months                                       50.12\n",
      "best_month                                                  16.91\n",
      "worst_month                                                -29.36\n",
      "avg_month                                                    0.27\n",
      "monthly_std                                                  1.79\n",
      "pct_profitable_weeks                                        27.28\n",
      "best_week                                                   16.91\n",
      "worst_week                                                 -17.78\n",
      "avg_week                                                     0.07\n",
      "weekly_std                                                   1.02\n",
      "sharpe_ratio                                                 0.43\n",
      "sortino_ratio                                                0.24\n",
      "dtype: object\n"
     ]
    }
   ],
   "source": [
    "pf.print_full(stats)"
   ]
  },
  {
   "cell_type": "markdown",
   "metadata": {},
   "source": [
    "Equity curve"
   ]
  },
  {
   "cell_type": "markdown",
   "metadata": {},
   "source": [
    "Run Benchmark, Retrieve benchmark logs, and Generate benchmark stats"
   ]
  },
  {
   "cell_type": "code",
   "execution_count": 12,
   "metadata": {
    "ExecuteTime": {
     "end_time": "2020-02-17T03:25:03.828131Z",
     "start_time": "2020-02-17T03:25:02.599218Z"
    }
   },
   "outputs": [
    {
     "name": "stdout",
     "output_type": "stream",
     "text": [
      "2000-01-03 00:00:00 BUY  68 SPY @ 145.44\n",
      "2020-06-08 00:00:00 SELL 68 SPY @ 323.20\n"
     ]
    }
   ],
   "source": [
    "benchmark = pf.Benchmark(symbol, capital, s._start, s._end)\n",
    "benchmark.run()\n",
    "benchmark.tlog, benchmark.dbal = benchmark.get_logs()\n",
    "benchmark.stats = benchmark.get_stats()"
   ]
  },
  {
   "cell_type": "markdown",
   "metadata": {},
   "source": [
    "Plot Equity Curves: Strategy vs Benchmark"
   ]
  },
  {
   "cell_type": "code",
   "execution_count": 13,
   "metadata": {
    "ExecuteTime": {
     "end_time": "2020-02-17T03:25:04.435435Z",
     "start_time": "2020-02-17T03:25:03.835361Z"
    }
   },
   "outputs": [
    {
     "data": {
      "image/png": "[encoded data removed]",
      "text/plain": [
       "<Figure size 720x504 with 1 Axes>"
      ]
     },
     "metadata": {
      "needs_background": "light"
     },
     "output_type": "display_data"
    }
   ],
   "source": [
    "pf.plot_equity_curve(dbal, benchmark=benchmark.dbal)"
   ]
  },
  {
   "cell_type": "markdown",
   "metadata": {},
   "source": [
    "Plot Trades"
   ]
  },
  {
   "cell_type": "code",
   "execution_count": 14,
   "metadata": {
    "ExecuteTime": {
     "end_time": "2020-02-17T03:25:05.030135Z",
     "start_time": "2020-02-17T03:25:04.448106Z"
    }
   },
   "outputs": [
    {
     "data": {
      "image/png": "[encoded data removed]",
      "text/plain": [
       "<Figure size 720x504 with 1 Axes>"
      ]
     },
     "metadata": {
      "needs_background": "light"
     },
     "output_type": "display_data"
    }
   ],
   "source": [
    "pf.plot_trades(dbal, benchmark=benchmark.dbal)"
   ]
  },
  {
   "cell_type": "markdown",
   "metadata": {},
   "source": [
    "Bar Graph: Strategy vs Benchmark"
   ]
  },
  {
   "cell_type": "code",
   "execution_count": 15,
   "metadata": {
    "ExecuteTime": {
     "end_time": "2020-02-17T03:25:05.776107Z",
     "start_time": "2020-02-17T03:25:05.040452Z"
    }
   },
   "outputs": [
    {
     "data": {
      "text/html": [
       "<div>\n",
       "<style scoped>\n",
       "    .dataframe tbody tr th:only-of-type {\n",
       "        vertical-align: middle;\n",
       "    }\n",
       "\n",
       "    .dataframe tbody tr th {\n",
       "        vertical-align: top;\n",
       "    }\n",
       "\n",
       "    .dataframe thead th {\n",
       "        text-align: right;\n",
       "    }\n",
       "</style>\n",
       "<table border=\"1\" class=\"dataframe\">\n",
       "  <thead>\n",
       "    <tr style=\"text-align: right;\">\n",
       "      <th></th>\n",
       "      <th>strategy</th>\n",
       "      <th>benchmark</th>\n",
       "    </tr>\n",
       "  </thead>\n",
       "  <tbody>\n",
       "    <tr>\n",
       "      <th>annual_return_rate</th>\n",
       "      <td>3.34</td>\n",
       "      <td>3.95</td>\n",
       "    </tr>\n",
       "    <tr>\n",
       "      <th>max_closed_out_drawdown</th>\n",
       "      <td>-30.83</td>\n",
       "      <td>-55.89</td>\n",
       "    </tr>\n",
       "    <tr>\n",
       "      <th>drawdown_annualized_return</th>\n",
       "      <td>-9.23</td>\n",
       "      <td>-14.13</td>\n",
       "    </tr>\n",
       "    <tr>\n",
       "      <th>drawdown_recovery</th>\n",
       "      <td>-1.53</td>\n",
       "      <td>-1.42</td>\n",
       "    </tr>\n",
       "    <tr>\n",
       "      <th>best_month</th>\n",
       "      <td>16.91</td>\n",
       "      <td>22.91</td>\n",
       "    </tr>\n",
       "    <tr>\n",
       "      <th>worst_month</th>\n",
       "      <td>-29.36</td>\n",
       "      <td>-31.24</td>\n",
       "    </tr>\n",
       "    <tr>\n",
       "      <th>sharpe_ratio</th>\n",
       "      <td>0.43</td>\n",
       "      <td>0.30</td>\n",
       "    </tr>\n",
       "    <tr>\n",
       "      <th>sortino_ratio</th>\n",
       "      <td>0.24</td>\n",
       "      <td>0.37</td>\n",
       "    </tr>\n",
       "    <tr>\n",
       "      <th>monthly_std</th>\n",
       "      <td>1.79</td>\n",
       "      <td>4.67</td>\n",
       "    </tr>\n",
       "  </tbody>\n",
       "</table>\n",
       "</div>"
      ],
      "text/plain": [
       "                            strategy  benchmark\n",
       "annual_return_rate              3.34       3.95\n",
       "max_closed_out_drawdown       -30.83     -55.89\n",
       "drawdown_annualized_return     -9.23     -14.13\n",
       "drawdown_recovery              -1.53      -1.42\n",
       "best_month                     16.91      22.91\n",
       "worst_month                   -29.36     -31.24\n",
       "sharpe_ratio                    0.43       0.30\n",
       "sortino_ratio                   0.24       0.37\n",
       "monthly_std                     1.79       4.67"
      ]
     },
     "execution_count": 15,
     "metadata": {},
     "output_type": "execute_result"
    },
    {
     "data": {
      "image/png": "[encoded data removed]",
      "text/plain": [
       "<Figure size 720x504 with 1 Axes>"
      ]
     },
     "metadata": {
      "needs_background": "light"
     },
     "output_type": "display_data"
    }
   ],
   "source": [
    "metrics = ('annual_return_rate',\n",
    "           'max_closed_out_drawdown',\n",
    "           'drawdown_annualized_return',\n",
    "           'drawdown_recovery',\n",
    "           'best_month',\n",
    "           'worst_month',\n",
    "           'sharpe_ratio',\n",
    "           'sortino_ratio',\n",
    "           'monthly_std')\n",
    "\n",
    "df = pf.plot_bar_graph(stats, benchmark.stats, *metrics)\n",
    "df"
   ]
  }
 ],
 "metadata": {
  "kernelspec": {
   "display_name": "Python 3",
   "language": "python",
   "name": "python3"
  },
  "language_info": {
   "codemirror_mode": {
    "name": "ipython",
    "version": 3
   },
   "file_extension": ".py",
   "mimetype": "text/x-python",
   "name": "python",
   "nbconvert_exporter": "python",
   "pygments_lexer": "ipython3",
   "version": "3.8.2"
  },
  "latex_envs": {
   "LaTeX_envs_menu_present": true,
   "autoclose": false,
   "autocomplete": true,
   "bibliofile": "biblio.bib",
   "cite_by": "apalike",
   "current_citInitial": 1,
   "eqLabelWithNumbers": true,
   "eqNumInitial": 1,
   "hotkeys": {
    "equation": "Ctrl-E",
    "itemize": "Ctrl-I"
   },
   "labels_anchors": false,
   "latex_user_defs": false,
   "report_style_numbering": false,
   "user_envs_cfg": false
  }
 },
 "nbformat": 4,
 "nbformat_minor": 1
}
