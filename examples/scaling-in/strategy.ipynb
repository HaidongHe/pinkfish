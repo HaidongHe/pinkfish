{
 "cells": [
  {
   "cell_type": "markdown",
   "metadata": {},
   "source": [
    "# Double 7's (Short Term Trading Strategies that Work)\n",
    "\n",
    "    1. The SPY is above its 200-day moving average\n",
    "    2. The SPY closes at a X-day low, buy some shares.\n",
    "       If it falls further, buy some more, etc...\n",
    "    3. If the SPY closes at a X-day high, sell your entire long position.\n",
    "    \n",
    "    (Scaling in)"
   ]
  },
  {
   "cell_type": "code",
   "execution_count": 17,
   "metadata": {
    "ExecuteTime": {
     "end_time": "2020-02-17T03:25:00.514311Z",
     "start_time": "2020-02-17T03:24:58.734096Z"
    }
   },
   "outputs": [],
   "source": [
    "import pandas as pd\n",
    "import matplotlib.pyplot as plt\n",
    "import datetime\n",
    "from talib.abstract import *\n",
    "\n",
    "import pinkfish as pf\n",
    "import strategy\n",
    "\n",
    "# format price data\n",
    "pd.options.display.float_format = '{:0.2f}'.format\n",
    "\n",
    "%matplotlib inline"
   ]
  },
  {
   "cell_type": "code",
   "execution_count": 18,
   "metadata": {
    "ExecuteTime": {
     "end_time": "2020-02-17T03:25:00.535246Z",
     "start_time": "2020-02-17T03:25:00.520502Z"
    }
   },
   "outputs": [],
   "source": [
    "# set size of inline plots\n",
    "'''note: rcParams can't be in same cell as import matplotlib\n",
    "   or %matplotlib inline\n",
    "   \n",
    "   %matplotlib notebook: will lead to interactive plots embedded within\n",
    "   the notebook, you can zoom and resize the figure\n",
    "   \n",
    "   %matplotlib inline: only draw static images in the notebook\n",
    "'''\n",
    "plt.rcParams[\"figure.figsize\"] = (10, 7)"
   ]
  },
  {
   "cell_type": "markdown",
   "metadata": {},
   "source": [
    "Some global data"
   ]
  },
  {
   "cell_type": "code",
   "execution_count": 19,
   "metadata": {
    "ExecuteTime": {
     "end_time": "2020-02-17T03:25:00.557475Z",
     "start_time": "2020-02-17T03:25:00.543775Z"
    }
   },
   "outputs": [],
   "source": [
    "#symbol = '^GSPC'\n",
    "symbol = 'SPY'\n",
    "#symbol = 'DIA'\n",
    "#symbol = 'QQQ'\n",
    "#symbol = 'IWM'\n",
    "#symbol = 'TLT'\n",
    "#symbol = 'GLD'\n",
    "#symbol = 'AAPL'\n",
    "#symbol = 'BBRY'\n",
    "#symbol = 'GDX'\n",
    "capital = 10000\n",
    "start = datetime.datetime(1900, 1, 1)\n",
    "end = datetime.datetime.now()"
   ]
  },
  {
   "cell_type": "markdown",
   "metadata": {},
   "source": [
    "Define high low trade periods"
   ]
  },
  {
   "cell_type": "code",
   "execution_count": 20,
   "metadata": {
    "ExecuteTime": {
     "end_time": "2020-02-17T03:25:00.579331Z",
     "start_time": "2020-02-17T03:25:00.567353Z"
    }
   },
   "outputs": [],
   "source": [
    "period = 7"
   ]
  },
  {
   "cell_type": "markdown",
   "metadata": {},
   "source": [
    "Define max number of positions to scale into"
   ]
  },
  {
   "cell_type": "code",
   "execution_count": 21,
   "metadata": {
    "ExecuteTime": {
     "end_time": "2020-02-17T03:25:00.598140Z",
     "start_time": "2020-02-17T03:25:00.581072Z"
    }
   },
   "outputs": [],
   "source": [
    "max_positions = 1"
   ]
  },
  {
   "cell_type": "markdown",
   "metadata": {},
   "source": [
    "Define the margin multiple"
   ]
  },
  {
   "cell_type": "code",
   "execution_count": 22,
   "metadata": {},
   "outputs": [],
   "source": [
    "margin = 1"
   ]
  },
  {
   "cell_type": "markdown",
   "metadata": {},
   "source": [
    "Run Strategy"
   ]
  },
  {
   "cell_type": "code",
   "execution_count": 23,
   "metadata": {
    "ExecuteTime": {
     "end_time": "2020-02-17T03:25:00.993017Z",
     "start_time": "2020-02-17T03:25:00.599824Z"
    },
    "scrolled": false
   },
   "outputs": [],
   "source": [
    "s = strategy.Strategy(symbol, capital, start, end, period=period, max_positions=max_positions, stop_loss_pct=85, margin=margin)\n",
    "s.run()"
   ]
  },
  {
   "cell_type": "markdown",
   "metadata": {},
   "source": [
    "Retrieve log DataFrames"
   ]
  },
  {
   "cell_type": "code",
   "execution_count": 24,
   "metadata": {
    "ExecuteTime": {
     "end_time": "2020-02-17T03:25:02.347179Z",
     "start_time": "2020-02-17T03:25:01.000343Z"
    }
   },
   "outputs": [],
   "source": [
    "rlog, tlog, dbal = s.get_logs()\n",
    "stats = s.get_stats()"
   ]
  },
  {
   "cell_type": "code",
   "execution_count": 25,
   "metadata": {
    "ExecuteTime": {
     "end_time": "2020-02-17T03:25:02.409956Z",
     "start_time": "2020-02-17T03:25:02.358450Z"
    }
   },
   "outputs": [
    {
     "data": {
      "text/html": [
       "<div>\n",
       "<style scoped>\n",
       "    .dataframe tbody tr th:only-of-type {\n",
       "        vertical-align: middle;\n",
       "    }\n",
       "\n",
       "    .dataframe tbody tr th {\n",
       "        vertical-align: top;\n",
       "    }\n",
       "\n",
       "    .dataframe thead th {\n",
       "        text-align: right;\n",
       "    }\n",
       "</style>\n",
       "<table border=\"1\" class=\"dataframe\">\n",
       "  <thead>\n",
       "    <tr style=\"text-align: right;\">\n",
       "      <th></th>\n",
       "      <th>date</th>\n",
       "      <th>price</th>\n",
       "      <th>shares</th>\n",
       "      <th>entry_exit</th>\n",
       "      <th>direction</th>\n",
       "      <th>symbol</th>\n",
       "    </tr>\n",
       "  </thead>\n",
       "  <tbody>\n",
       "    <tr>\n",
       "      <th>520</th>\n",
       "      <td>2019-09-20</td>\n",
       "      <td>298.28</td>\n",
       "      <td>209</td>\n",
       "      <td>entry</td>\n",
       "      <td>LONG</td>\n",
       "      <td>SPY</td>\n",
       "    </tr>\n",
       "    <tr>\n",
       "      <th>521</th>\n",
       "      <td>2019-10-11</td>\n",
       "      <td>296.28</td>\n",
       "      <td>209</td>\n",
       "      <td>exit</td>\n",
       "      <td>LONG</td>\n",
       "      <td>SPY</td>\n",
       "    </tr>\n",
       "    <tr>\n",
       "      <th>522</th>\n",
       "      <td>2019-12-03</td>\n",
       "      <td>309.55</td>\n",
       "      <td>200</td>\n",
       "      <td>entry</td>\n",
       "      <td>LONG</td>\n",
       "      <td>SPY</td>\n",
       "    </tr>\n",
       "    <tr>\n",
       "      <th>523</th>\n",
       "      <td>2019-12-12</td>\n",
       "      <td>317.13</td>\n",
       "      <td>200</td>\n",
       "      <td>exit</td>\n",
       "      <td>LONG</td>\n",
       "      <td>SPY</td>\n",
       "    </tr>\n",
       "    <tr>\n",
       "      <th>524</th>\n",
       "      <td>2020-01-27</td>\n",
       "      <td>323.50</td>\n",
       "      <td>196</td>\n",
       "      <td>entry</td>\n",
       "      <td>LONG</td>\n",
       "      <td>SPY</td>\n",
       "    </tr>\n",
       "    <tr>\n",
       "      <th>525</th>\n",
       "      <td>2020-02-04</td>\n",
       "      <td>329.06</td>\n",
       "      <td>196</td>\n",
       "      <td>exit</td>\n",
       "      <td>LONG</td>\n",
       "      <td>SPY</td>\n",
       "    </tr>\n",
       "    <tr>\n",
       "      <th>526</th>\n",
       "      <td>2020-02-21</td>\n",
       "      <td>333.48</td>\n",
       "      <td>194</td>\n",
       "      <td>entry</td>\n",
       "      <td>LONG</td>\n",
       "      <td>SPY</td>\n",
       "    </tr>\n",
       "    <tr>\n",
       "      <th>527</th>\n",
       "      <td>2020-03-04</td>\n",
       "      <td>312.86</td>\n",
       "      <td>194</td>\n",
       "      <td>exit</td>\n",
       "      <td>LONG</td>\n",
       "      <td>SPY</td>\n",
       "    </tr>\n",
       "    <tr>\n",
       "      <th>528</th>\n",
       "      <td>2020-06-24</td>\n",
       "      <td>304.09</td>\n",
       "      <td>199</td>\n",
       "      <td>entry</td>\n",
       "      <td>LONG</td>\n",
       "      <td>SPY</td>\n",
       "    </tr>\n",
       "    <tr>\n",
       "      <th>529</th>\n",
       "      <td>2020-07-02</td>\n",
       "      <td>312.23</td>\n",
       "      <td>199</td>\n",
       "      <td>exit</td>\n",
       "      <td>LONG</td>\n",
       "      <td>SPY</td>\n",
       "    </tr>\n",
       "  </tbody>\n",
       "</table>\n",
       "</div>"
      ],
      "text/plain": [
       "          date  price  shares entry_exit direction symbol\n",
       "520 2019-09-20 298.28     209      entry      LONG    SPY\n",
       "521 2019-10-11 296.28     209       exit      LONG    SPY\n",
       "522 2019-12-03 309.55     200      entry      LONG    SPY\n",
       "523 2019-12-12 317.13     200       exit      LONG    SPY\n",
       "524 2020-01-27 323.50     196      entry      LONG    SPY\n",
       "525 2020-02-04 329.06     196       exit      LONG    SPY\n",
       "526 2020-02-21 333.48     194      entry      LONG    SPY\n",
       "527 2020-03-04 312.86     194       exit      LONG    SPY\n",
       "528 2020-06-24 304.09     199      entry      LONG    SPY\n",
       "529 2020-07-02 312.23     199       exit      LONG    SPY"
      ]
     },
     "execution_count": 25,
     "metadata": {},
     "output_type": "execute_result"
    }
   ],
   "source": [
    "s.rlog.tail(10)"
   ]
  },
  {
   "cell_type": "code",
   "execution_count": 26,
   "metadata": {
    "ExecuteTime": {
     "end_time": "2020-02-17T03:25:02.478187Z",
     "start_time": "2020-02-17T03:25:02.419242Z"
    }
   },
   "outputs": [
    {
     "data": {
      "text/html": [
       "<div>\n",
       "<style scoped>\n",
       "    .dataframe tbody tr th:only-of-type {\n",
       "        vertical-align: middle;\n",
       "    }\n",
       "\n",
       "    .dataframe tbody tr th {\n",
       "        vertical-align: top;\n",
       "    }\n",
       "\n",
       "    .dataframe thead th {\n",
       "        text-align: right;\n",
       "    }\n",
       "</style>\n",
       "<table border=\"1\" class=\"dataframe\">\n",
       "  <thead>\n",
       "    <tr style=\"text-align: right;\">\n",
       "      <th></th>\n",
       "      <th>entry_date</th>\n",
       "      <th>entry_price</th>\n",
       "      <th>exit_date</th>\n",
       "      <th>exit_price</th>\n",
       "      <th>pl_points</th>\n",
       "      <th>pl_cash</th>\n",
       "      <th>qty</th>\n",
       "      <th>cumul_total</th>\n",
       "      <th>direction</th>\n",
       "      <th>symbol</th>\n",
       "    </tr>\n",
       "  </thead>\n",
       "  <tbody>\n",
       "    <tr>\n",
       "      <th>255</th>\n",
       "      <td>2019-05-01</td>\n",
       "      <td>291.81</td>\n",
       "      <td>2019-05-03</td>\n",
       "      <td>294.03</td>\n",
       "      <td>2.22</td>\n",
       "      <td>472.86</td>\n",
       "      <td>213</td>\n",
       "      <td>52646.20</td>\n",
       "      <td>LONG</td>\n",
       "      <td>SPY</td>\n",
       "    </tr>\n",
       "    <tr>\n",
       "      <th>256</th>\n",
       "      <td>2019-05-07</td>\n",
       "      <td>287.93</td>\n",
       "      <td>2019-06-05</td>\n",
       "      <td>282.96</td>\n",
       "      <td>-4.97</td>\n",
       "      <td>-1078.49</td>\n",
       "      <td>217</td>\n",
       "      <td>51567.71</td>\n",
       "      <td>LONG</td>\n",
       "      <td>SPY</td>\n",
       "    </tr>\n",
       "    <tr>\n",
       "      <th>257</th>\n",
       "      <td>2019-06-26</td>\n",
       "      <td>290.47</td>\n",
       "      <td>2019-07-01</td>\n",
       "      <td>295.66</td>\n",
       "      <td>5.19</td>\n",
       "      <td>1095.09</td>\n",
       "      <td>211</td>\n",
       "      <td>52662.80</td>\n",
       "      <td>LONG</td>\n",
       "      <td>SPY</td>\n",
       "    </tr>\n",
       "    <tr>\n",
       "      <th>258</th>\n",
       "      <td>2019-07-19</td>\n",
       "      <td>297.17</td>\n",
       "      <td>2019-07-24</td>\n",
       "      <td>301.44</td>\n",
       "      <td>4.27</td>\n",
       "      <td>896.70</td>\n",
       "      <td>210</td>\n",
       "      <td>53559.49</td>\n",
       "      <td>LONG</td>\n",
       "      <td>SPY</td>\n",
       "    </tr>\n",
       "    <tr>\n",
       "      <th>259</th>\n",
       "      <td>2019-07-31</td>\n",
       "      <td>297.43</td>\n",
       "      <td>2019-08-29</td>\n",
       "      <td>292.58</td>\n",
       "      <td>-4.85</td>\n",
       "      <td>-1033.05</td>\n",
       "      <td>213</td>\n",
       "      <td>52526.44</td>\n",
       "      <td>LONG</td>\n",
       "      <td>SPY</td>\n",
       "    </tr>\n",
       "    <tr>\n",
       "      <th>260</th>\n",
       "      <td>2019-09-20</td>\n",
       "      <td>298.28</td>\n",
       "      <td>2019-10-11</td>\n",
       "      <td>296.28</td>\n",
       "      <td>-2.00</td>\n",
       "      <td>-418.00</td>\n",
       "      <td>209</td>\n",
       "      <td>52108.44</td>\n",
       "      <td>LONG</td>\n",
       "      <td>SPY</td>\n",
       "    </tr>\n",
       "    <tr>\n",
       "      <th>261</th>\n",
       "      <td>2019-12-03</td>\n",
       "      <td>309.55</td>\n",
       "      <td>2019-12-12</td>\n",
       "      <td>317.13</td>\n",
       "      <td>7.58</td>\n",
       "      <td>1516.00</td>\n",
       "      <td>200</td>\n",
       "      <td>53624.45</td>\n",
       "      <td>LONG</td>\n",
       "      <td>SPY</td>\n",
       "    </tr>\n",
       "    <tr>\n",
       "      <th>262</th>\n",
       "      <td>2020-01-27</td>\n",
       "      <td>323.50</td>\n",
       "      <td>2020-02-04</td>\n",
       "      <td>329.06</td>\n",
       "      <td>5.56</td>\n",
       "      <td>1089.76</td>\n",
       "      <td>196</td>\n",
       "      <td>54714.21</td>\n",
       "      <td>LONG</td>\n",
       "      <td>SPY</td>\n",
       "    </tr>\n",
       "    <tr>\n",
       "      <th>263</th>\n",
       "      <td>2020-02-21</td>\n",
       "      <td>333.48</td>\n",
       "      <td>2020-03-04</td>\n",
       "      <td>312.86</td>\n",
       "      <td>-20.62</td>\n",
       "      <td>-4000.28</td>\n",
       "      <td>194</td>\n",
       "      <td>50713.92</td>\n",
       "      <td>LONG</td>\n",
       "      <td>SPY</td>\n",
       "    </tr>\n",
       "    <tr>\n",
       "      <th>264</th>\n",
       "      <td>2020-06-24</td>\n",
       "      <td>304.09</td>\n",
       "      <td>2020-07-02</td>\n",
       "      <td>312.23</td>\n",
       "      <td>8.14</td>\n",
       "      <td>1619.86</td>\n",
       "      <td>199</td>\n",
       "      <td>52333.78</td>\n",
       "      <td>LONG</td>\n",
       "      <td>SPY</td>\n",
       "    </tr>\n",
       "  </tbody>\n",
       "</table>\n",
       "</div>"
      ],
      "text/plain": [
       "    entry_date  entry_price  exit_date  exit_price  pl_points  pl_cash  qty  \\\n",
       "255 2019-05-01       291.81 2019-05-03      294.03       2.22   472.86  213   \n",
       "256 2019-05-07       287.93 2019-06-05      282.96      -4.97 -1078.49  217   \n",
       "257 2019-06-26       290.47 2019-07-01      295.66       5.19  1095.09  211   \n",
       "258 2019-07-19       297.17 2019-07-24      301.44       4.27   896.70  210   \n",
       "259 2019-07-31       297.43 2019-08-29      292.58      -4.85 -1033.05  213   \n",
       "260 2019-09-20       298.28 2019-10-11      296.28      -2.00  -418.00  209   \n",
       "261 2019-12-03       309.55 2019-12-12      317.13       7.58  1516.00  200   \n",
       "262 2020-01-27       323.50 2020-02-04      329.06       5.56  1089.76  196   \n",
       "263 2020-02-21       333.48 2020-03-04      312.86     -20.62 -4000.28  194   \n",
       "264 2020-06-24       304.09 2020-07-02      312.23       8.14  1619.86  199   \n",
       "\n",
       "     cumul_total direction symbol  \n",
       "255     52646.20      LONG    SPY  \n",
       "256     51567.71      LONG    SPY  \n",
       "257     52662.80      LONG    SPY  \n",
       "258     53559.49      LONG    SPY  \n",
       "259     52526.44      LONG    SPY  \n",
       "260     52108.44      LONG    SPY  \n",
       "261     53624.45      LONG    SPY  \n",
       "262     54714.21      LONG    SPY  \n",
       "263     50713.92      LONG    SPY  \n",
       "264     52333.78      LONG    SPY  "
      ]
     },
     "execution_count": 26,
     "metadata": {},
     "output_type": "execute_result"
    }
   ],
   "source": [
    "tlog.tail(10)"
   ]
  },
  {
   "cell_type": "code",
   "execution_count": 27,
   "metadata": {
    "ExecuteTime": {
     "end_time": "2020-02-17T03:25:02.526223Z",
     "start_time": "2020-02-17T03:25:02.482240Z"
    },
    "scrolled": false
   },
   "outputs": [
    {
     "data": {
      "text/html": [
       "<div>\n",
       "<style scoped>\n",
       "    .dataframe tbody tr th:only-of-type {\n",
       "        vertical-align: middle;\n",
       "    }\n",
       "\n",
       "    .dataframe tbody tr th {\n",
       "        vertical-align: top;\n",
       "    }\n",
       "\n",
       "    .dataframe thead th {\n",
       "        text-align: right;\n",
       "    }\n",
       "</style>\n",
       "<table border=\"1\" class=\"dataframe\">\n",
       "  <thead>\n",
       "    <tr style=\"text-align: right;\">\n",
       "      <th></th>\n",
       "      <th>high</th>\n",
       "      <th>low</th>\n",
       "      <th>close</th>\n",
       "      <th>shares</th>\n",
       "      <th>cash</th>\n",
       "      <th>leverage</th>\n",
       "      <th>state</th>\n",
       "    </tr>\n",
       "    <tr>\n",
       "      <th>date</th>\n",
       "      <th></th>\n",
       "      <th></th>\n",
       "      <th></th>\n",
       "      <th></th>\n",
       "      <th></th>\n",
       "      <th></th>\n",
       "      <th></th>\n",
       "    </tr>\n",
       "  </thead>\n",
       "  <tbody>\n",
       "    <tr>\n",
       "      <th>2020-07-09</th>\n",
       "      <td>62333.78</td>\n",
       "      <td>62333.78</td>\n",
       "      <td>62333.78</td>\n",
       "      <td>0</td>\n",
       "      <td>62333.78</td>\n",
       "      <td>1.00</td>\n",
       "      <td>-</td>\n",
       "    </tr>\n",
       "    <tr>\n",
       "      <th>2020-07-10</th>\n",
       "      <td>62333.78</td>\n",
       "      <td>62333.78</td>\n",
       "      <td>62333.78</td>\n",
       "      <td>0</td>\n",
       "      <td>62333.78</td>\n",
       "      <td>1.00</td>\n",
       "      <td>-</td>\n",
       "    </tr>\n",
       "    <tr>\n",
       "      <th>2020-07-13</th>\n",
       "      <td>62333.78</td>\n",
       "      <td>62333.78</td>\n",
       "      <td>62333.78</td>\n",
       "      <td>0</td>\n",
       "      <td>62333.78</td>\n",
       "      <td>1.00</td>\n",
       "      <td>-</td>\n",
       "    </tr>\n",
       "    <tr>\n",
       "      <th>2020-07-14</th>\n",
       "      <td>62333.78</td>\n",
       "      <td>62333.78</td>\n",
       "      <td>62333.78</td>\n",
       "      <td>0</td>\n",
       "      <td>62333.78</td>\n",
       "      <td>1.00</td>\n",
       "      <td>-</td>\n",
       "    </tr>\n",
       "    <tr>\n",
       "      <th>2020-07-15</th>\n",
       "      <td>62333.78</td>\n",
       "      <td>62333.78</td>\n",
       "      <td>62333.78</td>\n",
       "      <td>0</td>\n",
       "      <td>62333.78</td>\n",
       "      <td>1.00</td>\n",
       "      <td>-</td>\n",
       "    </tr>\n",
       "  </tbody>\n",
       "</table>\n",
       "</div>"
      ],
      "text/plain": [
       "               high      low    close  shares     cash  leverage state\n",
       "date                                                                  \n",
       "2020-07-09 62333.78 62333.78 62333.78       0 62333.78      1.00     -\n",
       "2020-07-10 62333.78 62333.78 62333.78       0 62333.78      1.00     -\n",
       "2020-07-13 62333.78 62333.78 62333.78       0 62333.78      1.00     -\n",
       "2020-07-14 62333.78 62333.78 62333.78       0 62333.78      1.00     -\n",
       "2020-07-15 62333.78 62333.78 62333.78       0 62333.78      1.00     -"
      ]
     },
     "execution_count": 27,
     "metadata": {},
     "output_type": "execute_result"
    }
   ],
   "source": [
    "dbal.tail()"
   ]
  },
  {
   "cell_type": "markdown",
   "metadata": {},
   "source": [
    "Generate strategy stats - display all available stats"
   ]
  },
  {
   "cell_type": "code",
   "execution_count": 28,
   "metadata": {
    "ExecuteTime": {
     "end_time": "2020-02-17T03:25:02.585181Z",
     "start_time": "2020-02-17T03:25:02.535391Z"
    }
   },
   "outputs": [
    {
     "name": "stdout",
     "output_type": "stream",
     "text": [
      "start                                                  1993-11-11\n",
      "end                                                    2020-07-15\n",
      "beginning_balance                                           10000\n",
      "ending_balance                                           62333.78\n",
      "total_net_profit                                         52333.78\n",
      "gross_profit                                             97524.86\n",
      "gross_loss                                              -45191.08\n",
      "profit_factor                                                2.16\n",
      "return_on_initial_capital                                  523.34\n",
      "annual_return_rate                                           7.10\n",
      "trading_period                           26 years 8 months 4 days\n",
      "pct_time_in_market                                          29.65\n",
      "margin                                                          1\n",
      "avg_leverage                                                 1.00\n",
      "max_leverage                                                 1.00\n",
      "min_leverage                                                 1.00\n",
      "total_num_trades                                              265\n",
      "trades_per_year                                              9.93\n",
      "num_winning_trades                                            207\n",
      "num_losing_trades                                              57\n",
      "num_even_trades                                                 1\n",
      "pct_profitable_trades                                       78.11\n",
      "avg_profit_per_trade                                       197.49\n",
      "avg_profit_per_winning_trade                               471.13\n",
      "avg_loss_per_losing_trade                                 -792.83\n",
      "ratio_avg_profit_win_loss                                    0.59\n",
      "largest_profit_winning_trade                              2446.60\n",
      "largest_loss_losing_trade                                -4000.28\n",
      "num_winning_points                                         429.95\n",
      "num_losing_points                                         -197.73\n",
      "total_net_points                                           232.21\n",
      "avg_points                                                   0.88\n",
      "largest_points_winning_trade                                 9.47\n",
      "largest_points_losing_trade                                -20.62\n",
      "avg_pct_gain_per_trade                                       0.71\n",
      "largest_pct_winning_trade                                    6.92\n",
      "largest_pct_losing_trade                                   -10.05\n",
      "max_consecutive_winning_trades                                 18\n",
      "max_consecutive_losing_trades                                   4\n",
      "avg_bars_winning_trades                                      6.67\n",
      "avg_bars_losing_trades                                      15.25\n",
      "max_closed_out_drawdown                                    -14.63\n",
      "max_closed_out_drawdown_start_date                     2000-07-03\n",
      "max_closed_out_drawdown_end_date                       2002-05-07\n",
      "max_closed_out_drawdown_recovery_date                  2003-12-11\n",
      "drawdown_recovery                                           -1.84\n",
      "drawdown_annualized_return                                  -2.06\n",
      "max_intra_day_drawdown                                     -15.96\n",
      "avg_yearly_closed_out_drawdown                              -6.50\n",
      "max_yearly_closed_out_drawdown                             -14.03\n",
      "avg_monthly_closed_out_drawdown                             -1.48\n",
      "max_monthly_closed_out_drawdown                            -14.03\n",
      "avg_weekly_closed_out_drawdown                              -0.48\n",
      "max_weekly_closed_out_drawdown                             -12.82\n",
      "avg_yearly_closed_out_runup                                 12.59\n",
      "max_yearly_closed_out_runup                                 41.13\n",
      "avg_monthly_closed_out_runup                                 1.91\n",
      "max_monthly_closed_out_runup                                12.88\n",
      "avg_weekly_closed_out_runup                                  0.63\n",
      "max_weekly_closed_out_runup                                  7.81\n",
      "pct_profitable_years                                        75.88\n",
      "best_year                                                   40.41\n",
      "worst_year                                                  -9.94\n",
      "avg_year                                                     7.69\n",
      "annual_std                                                   9.02\n",
      "pct_profitable_months                                       52.06\n",
      "best_month                                                  12.88\n",
      "worst_month                                                -13.54\n",
      "avg_month                                                    0.57\n",
      "monthly_std                                                  2.11\n",
      "pct_profitable_weeks                                        29.04\n",
      "best_week                                                    7.81\n",
      "worst_week                                                 -12.82\n",
      "avg_week                                                     0.14\n",
      "weekly_std                                                   1.21\n",
      "sharpe_ratio                                                 0.75\n",
      "sortino_ratio                                                0.55\n",
      "dtype: object\n"
     ]
    }
   ],
   "source": [
    "pf.print_full(stats)"
   ]
  },
  {
   "cell_type": "markdown",
   "metadata": {},
   "source": [
    "Equity curve"
   ]
  },
  {
   "cell_type": "markdown",
   "metadata": {},
   "source": [
    "Run Benchmark, Retrieve benchmark logs, and Generate benchmark stats"
   ]
  },
  {
   "cell_type": "code",
   "execution_count": 29,
   "metadata": {
    "ExecuteTime": {
     "end_time": "2020-02-17T03:25:03.828131Z",
     "start_time": "2020-02-17T03:25:02.599218Z"
    }
   },
   "outputs": [
    {
     "name": "stdout",
     "output_type": "stream",
     "text": [
      "1993-11-11 00:00:00 BUY  215 SPY @ 46.38\n",
      "2020-07-15 00:00:00 SELL 215 SPY @ 321.85\n"
     ]
    }
   ],
   "source": [
    "benchmark = pf.Benchmark(symbol, capital, s._start, s._end)\n",
    "benchmark.run()\n",
    "benchmark.tlog, benchmark.dbal = benchmark.get_logs()\n",
    "benchmark.stats = benchmark.get_stats()"
   ]
  },
  {
   "cell_type": "markdown",
   "metadata": {},
   "source": [
    "Plot Equity Curves: Strategy vs Benchmark"
   ]
  },
  {
   "cell_type": "code",
   "execution_count": 30,
   "metadata": {
    "ExecuteTime": {
     "end_time": "2020-02-17T03:25:04.435435Z",
     "start_time": "2020-02-17T03:25:03.835361Z"
    },
    "scrolled": false
   },
   "outputs": [
    {
     "data": {
      "image/png": "[encoded data removed]",
      "text/plain": [
       "<Figure size 720x504 with 1 Axes>"
      ]
     },
     "metadata": {
      "needs_background": "light"
     },
     "output_type": "display_data"
    }
   ],
   "source": [
    "pf.plot_equity_curve(dbal, benchmark=benchmark.dbal)"
   ]
  },
  {
   "cell_type": "markdown",
   "metadata": {},
   "source": [
    "Plot Trades"
   ]
  },
  {
   "cell_type": "code",
   "execution_count": 31,
   "metadata": {
    "ExecuteTime": {
     "end_time": "2020-02-17T03:25:05.030135Z",
     "start_time": "2020-02-17T03:25:04.448106Z"
    }
   },
   "outputs": [
    {
     "data": {
      "image/png": "[encoded data removed]",
      "text/plain": [
       "<Figure size 720x504 with 1 Axes>"
      ]
     },
     "metadata": {
      "needs_background": "light"
     },
     "output_type": "display_data"
    }
   ],
   "source": [
    "pf.plot_trades(dbal, benchmark=benchmark.dbal)"
   ]
  },
  {
   "cell_type": "markdown",
   "metadata": {},
   "source": [
    "Bar Graph: Strategy vs Benchmark"
   ]
  },
  {
   "cell_type": "code",
   "execution_count": 32,
   "metadata": {
    "ExecuteTime": {
     "end_time": "2020-02-17T03:25:05.776107Z",
     "start_time": "2020-02-17T03:25:05.040452Z"
    }
   },
   "outputs": [
    {
     "data": {
      "text/html": [
       "<div>\n",
       "<style scoped>\n",
       "    .dataframe tbody tr th:only-of-type {\n",
       "        vertical-align: middle;\n",
       "    }\n",
       "\n",
       "    .dataframe tbody tr th {\n",
       "        vertical-align: top;\n",
       "    }\n",
       "\n",
       "    .dataframe thead th {\n",
       "        text-align: right;\n",
       "    }\n",
       "</style>\n",
       "<table border=\"1\" class=\"dataframe\">\n",
       "  <thead>\n",
       "    <tr style=\"text-align: right;\">\n",
       "      <th></th>\n",
       "      <th>strategy</th>\n",
       "      <th>benchmark</th>\n",
       "    </tr>\n",
       "  </thead>\n",
       "  <tbody>\n",
       "    <tr>\n",
       "      <th>annual_return_rate</th>\n",
       "      <td>7.10</td>\n",
       "      <td>7.52</td>\n",
       "    </tr>\n",
       "    <tr>\n",
       "      <th>max_closed_out_drawdown</th>\n",
       "      <td>-14.63</td>\n",
       "      <td>-56.42</td>\n",
       "    </tr>\n",
       "    <tr>\n",
       "      <th>drawdown_annualized_return</th>\n",
       "      <td>-2.06</td>\n",
       "      <td>-7.50</td>\n",
       "    </tr>\n",
       "    <tr>\n",
       "      <th>drawdown_recovery</th>\n",
       "      <td>-1.84</td>\n",
       "      <td>-1.42</td>\n",
       "    </tr>\n",
       "    <tr>\n",
       "      <th>best_month</th>\n",
       "      <td>12.88</td>\n",
       "      <td>23.06</td>\n",
       "    </tr>\n",
       "    <tr>\n",
       "      <th>worst_month</th>\n",
       "      <td>-13.54</td>\n",
       "      <td>-31.38</td>\n",
       "    </tr>\n",
       "    <tr>\n",
       "      <th>sharpe_ratio</th>\n",
       "      <td>0.75</td>\n",
       "      <td>0.48</td>\n",
       "    </tr>\n",
       "    <tr>\n",
       "      <th>sortino_ratio</th>\n",
       "      <td>0.55</td>\n",
       "      <td>0.60</td>\n",
       "    </tr>\n",
       "    <tr>\n",
       "      <th>monthly_std</th>\n",
       "      <td>2.11</td>\n",
       "      <td>4.54</td>\n",
       "    </tr>\n",
       "  </tbody>\n",
       "</table>\n",
       "</div>"
      ],
      "text/plain": [
       "                            strategy  benchmark\n",
       "annual_return_rate              7.10       7.52\n",
       "max_closed_out_drawdown       -14.63     -56.42\n",
       "drawdown_annualized_return     -2.06      -7.50\n",
       "drawdown_recovery              -1.84      -1.42\n",
       "best_month                     12.88      23.06\n",
       "worst_month                   -13.54     -31.38\n",
       "sharpe_ratio                    0.75       0.48\n",
       "sortino_ratio                   0.55       0.60\n",
       "monthly_std                     2.11       4.54"
      ]
     },
     "execution_count": 32,
     "metadata": {},
     "output_type": "execute_result"
    },
    {
     "data": {
      "image/png": "[encoded data removed]",
      "text/plain": [
       "<Figure size 720x504 with 1 Axes>"
      ]
     },
     "metadata": {
      "needs_background": "light"
     },
     "output_type": "display_data"
    }
   ],
   "source": [
    "df = pf.plot_bar_graph(stats, benchmark.stats)\n",
    "df"
   ]
  }
 ],
 "metadata": {
  "kernelspec": {
   "display_name": "Python 3",
   "language": "python",
   "name": "python3"
  },
  "language_info": {
   "codemirror_mode": {
    "name": "ipython",
    "version": 3
   },
   "file_extension": ".py",
   "mimetype": "text/x-python",
   "name": "python",
   "nbconvert_exporter": "python",
   "pygments_lexer": "ipython3",
   "version": "3.8.2"
  },
  "latex_envs": {
   "LaTeX_envs_menu_present": true,
   "autoclose": false,
   "autocomplete": true,
   "bibliofile": "biblio.bib",
   "cite_by": "apalike",
   "current_citInitial": 1,
   "eqLabelWithNumbers": true,
   "eqNumInitial": 1,
   "hotkeys": {
    "equation": "Ctrl-E",
    "itemize": "Ctrl-I"
   },
   "labels_anchors": false,
   "latex_user_defs": false,
   "report_style_numbering": false,
   "user_envs_cfg": false
  }
 },
 "nbformat": 4,
 "nbformat_minor": 1
}
