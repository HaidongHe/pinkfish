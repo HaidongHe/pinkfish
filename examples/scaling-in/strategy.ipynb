{
 "cells": [
  {
   "cell_type": "markdown",
   "metadata": {},
   "source": [
    "# Double 7's (Short Term Trading Strategies that Work)\n",
    "\n",
    "    1. The SPY is above its 200-day moving average\n",
    "    2. The SPY closes at a X-day low, buy some shares.\n",
    "       If it falls further, buy some more, etc...\n",
    "    3. If the SPY closes at a X-day high, sell your entire long position.\n",
    "    \n",
    "    (Scaling in)"
   ]
  },
  {
   "cell_type": "code",
   "execution_count": 1,
   "metadata": {
    "ExecuteTime": {
     "end_time": "2020-02-17T03:25:00.514311Z",
     "start_time": "2020-02-17T03:24:58.734096Z"
    }
   },
   "outputs": [],
   "source": [
    "import pandas as pd\n",
    "import matplotlib.pyplot as plt\n",
    "import datetime\n",
    "from talib.abstract import *\n",
    "\n",
    "import pinkfish as pf\n",
    "import strategy\n",
    "\n",
    "# format price data\n",
    "pd.options.display.float_format = '{:0.2f}'.format\n",
    "\n",
    "%matplotlib inline"
   ]
  },
  {
   "cell_type": "code",
   "execution_count": 2,
   "metadata": {
    "ExecuteTime": {
     "end_time": "2020-02-17T03:25:00.535246Z",
     "start_time": "2020-02-17T03:25:00.520502Z"
    }
   },
   "outputs": [],
   "source": [
    "# set size of inline plots\n",
    "'''note: rcParams can't be in same cell as import matplotlib\n",
    "   or %matplotlib inline\n",
    "   \n",
    "   %matplotlib notebook: will lead to interactive plots embedded within\n",
    "   the notebook, you can zoom and resize the figure\n",
    "   \n",
    "   %matplotlib inline: only draw static images in the notebook\n",
    "'''\n",
    "plt.rcParams[\"figure.figsize\"] = (10, 7)"
   ]
  },
  {
   "cell_type": "markdown",
   "metadata": {},
   "source": [
    "Some global data"
   ]
  },
  {
   "cell_type": "code",
   "execution_count": 3,
   "metadata": {
    "ExecuteTime": {
     "end_time": "2020-02-17T03:25:00.557475Z",
     "start_time": "2020-02-17T03:25:00.543775Z"
    }
   },
   "outputs": [],
   "source": [
    "#symbol = '^GSPC'\n",
    "symbol = 'SPY'\n",
    "#symbol = 'DIA'\n",
    "#symbol = 'QQQ'\n",
    "#symbol = 'IWM'\n",
    "#symbol = 'TLT'\n",
    "#symbol = 'GLD'\n",
    "#symbol = 'AAPL'\n",
    "#symbol = 'BBRY'\n",
    "#symbol = 'GDX'\n",
    "capital = 10000\n",
    "start = datetime.datetime(1900, 1, 1)\n",
    "end = datetime.datetime.now()"
   ]
  },
  {
   "cell_type": "markdown",
   "metadata": {},
   "source": [
    "Define high low trade periods"
   ]
  },
  {
   "cell_type": "code",
   "execution_count": 4,
   "metadata": {
    "ExecuteTime": {
     "end_time": "2020-02-17T03:25:00.579331Z",
     "start_time": "2020-02-17T03:25:00.567353Z"
    }
   },
   "outputs": [],
   "source": [
    "period = 7"
   ]
  },
  {
   "cell_type": "markdown",
   "metadata": {},
   "source": [
    "Define max number of positions to scale into"
   ]
  },
  {
   "cell_type": "code",
   "execution_count": 5,
   "metadata": {
    "ExecuteTime": {
     "end_time": "2020-02-17T03:25:00.598140Z",
     "start_time": "2020-02-17T03:25:00.581072Z"
    }
   },
   "outputs": [],
   "source": [
    "max_positions = 1"
   ]
  },
  {
   "cell_type": "markdown",
   "metadata": {},
   "source": [
    "Define the margin multiple"
   ]
  },
  {
   "cell_type": "code",
   "execution_count": 6,
   "metadata": {},
   "outputs": [],
   "source": [
    "margin = 2"
   ]
  },
  {
   "cell_type": "markdown",
   "metadata": {},
   "source": [
    "Run Strategy"
   ]
  },
  {
   "cell_type": "code",
   "execution_count": 7,
   "metadata": {
    "ExecuteTime": {
     "end_time": "2020-02-17T03:25:00.993017Z",
     "start_time": "2020-02-17T03:25:00.599824Z"
    },
    "scrolled": false
   },
   "outputs": [],
   "source": [
    "s = strategy.Strategy(symbol, capital, start, end, period=period, max_positions=max_positions, stop_loss_pct=85, margin=margin)\n",
    "s.run()"
   ]
  },
  {
   "cell_type": "markdown",
   "metadata": {},
   "source": [
    "Retrieve log DataFrames"
   ]
  },
  {
   "cell_type": "code",
   "execution_count": 8,
   "metadata": {
    "ExecuteTime": {
     "end_time": "2020-02-17T03:25:02.347179Z",
     "start_time": "2020-02-17T03:25:01.000343Z"
    }
   },
   "outputs": [],
   "source": [
    "rlog, tlog, dbal = s.get_logs()\n",
    "stats = s.get_stats()"
   ]
  },
  {
   "cell_type": "code",
   "execution_count": 9,
   "metadata": {
    "ExecuteTime": {
     "end_time": "2020-02-17T03:25:02.409956Z",
     "start_time": "2020-02-17T03:25:02.358450Z"
    }
   },
   "outputs": [
    {
     "data": {
      "text/html": [
       "<div>\n",
       "<style scoped>\n",
       "    .dataframe tbody tr th:only-of-type {\n",
       "        vertical-align: middle;\n",
       "    }\n",
       "\n",
       "    .dataframe tbody tr th {\n",
       "        vertical-align: top;\n",
       "    }\n",
       "\n",
       "    .dataframe thead th {\n",
       "        text-align: right;\n",
       "    }\n",
       "</style>\n",
       "<table border=\"1\" class=\"dataframe\">\n",
       "  <thead>\n",
       "    <tr style=\"text-align: right;\">\n",
       "      <th></th>\n",
       "      <th>date</th>\n",
       "      <th>price</th>\n",
       "      <th>shares</th>\n",
       "      <th>entry_exit</th>\n",
       "      <th>direction</th>\n",
       "      <th>symbol</th>\n",
       "    </tr>\n",
       "  </thead>\n",
       "  <tbody>\n",
       "    <tr>\n",
       "      <th>520</th>\n",
       "      <td>2019-09-20</td>\n",
       "      <td>298.28</td>\n",
       "      <td>2359</td>\n",
       "      <td>entry</td>\n",
       "      <td>LONG</td>\n",
       "      <td>SPY</td>\n",
       "    </tr>\n",
       "    <tr>\n",
       "      <th>521</th>\n",
       "      <td>2019-10-11</td>\n",
       "      <td>296.28</td>\n",
       "      <td>2359</td>\n",
       "      <td>exit</td>\n",
       "      <td>LONG</td>\n",
       "      <td>SPY</td>\n",
       "    </tr>\n",
       "    <tr>\n",
       "      <th>522</th>\n",
       "      <td>2019-12-03</td>\n",
       "      <td>309.55</td>\n",
       "      <td>2243</td>\n",
       "      <td>entry</td>\n",
       "      <td>LONG</td>\n",
       "      <td>SPY</td>\n",
       "    </tr>\n",
       "    <tr>\n",
       "      <th>523</th>\n",
       "      <td>2019-12-12</td>\n",
       "      <td>317.13</td>\n",
       "      <td>2243</td>\n",
       "      <td>exit</td>\n",
       "      <td>LONG</td>\n",
       "      <td>SPY</td>\n",
       "    </tr>\n",
       "    <tr>\n",
       "      <th>524</th>\n",
       "      <td>2020-01-27</td>\n",
       "      <td>323.50</td>\n",
       "      <td>2251</td>\n",
       "      <td>entry</td>\n",
       "      <td>LONG</td>\n",
       "      <td>SPY</td>\n",
       "    </tr>\n",
       "    <tr>\n",
       "      <th>525</th>\n",
       "      <td>2020-02-04</td>\n",
       "      <td>329.06</td>\n",
       "      <td>2251</td>\n",
       "      <td>exit</td>\n",
       "      <td>LONG</td>\n",
       "      <td>SPY</td>\n",
       "    </tr>\n",
       "    <tr>\n",
       "      <th>526</th>\n",
       "      <td>2020-02-21</td>\n",
       "      <td>333.48</td>\n",
       "      <td>2259</td>\n",
       "      <td>entry</td>\n",
       "      <td>LONG</td>\n",
       "      <td>SPY</td>\n",
       "    </tr>\n",
       "    <tr>\n",
       "      <th>527</th>\n",
       "      <td>2020-03-04</td>\n",
       "      <td>312.86</td>\n",
       "      <td>2259</td>\n",
       "      <td>exit</td>\n",
       "      <td>LONG</td>\n",
       "      <td>SPY</td>\n",
       "    </tr>\n",
       "    <tr>\n",
       "      <th>528</th>\n",
       "      <td>2020-06-24</td>\n",
       "      <td>304.09</td>\n",
       "      <td>2171</td>\n",
       "      <td>entry</td>\n",
       "      <td>LONG</td>\n",
       "      <td>SPY</td>\n",
       "    </tr>\n",
       "    <tr>\n",
       "      <th>529</th>\n",
       "      <td>2020-07-02</td>\n",
       "      <td>312.23</td>\n",
       "      <td>2171</td>\n",
       "      <td>exit</td>\n",
       "      <td>LONG</td>\n",
       "      <td>SPY</td>\n",
       "    </tr>\n",
       "  </tbody>\n",
       "</table>\n",
       "</div>"
      ],
      "text/plain": [
       "          date  price  shares entry_exit direction symbol\n",
       "520 2019-09-20 298.28    2359      entry      LONG    SPY\n",
       "521 2019-10-11 296.28    2359       exit      LONG    SPY\n",
       "522 2019-12-03 309.55    2243      entry      LONG    SPY\n",
       "523 2019-12-12 317.13    2243       exit      LONG    SPY\n",
       "524 2020-01-27 323.50    2251      entry      LONG    SPY\n",
       "525 2020-02-04 329.06    2251       exit      LONG    SPY\n",
       "526 2020-02-21 333.48    2259      entry      LONG    SPY\n",
       "527 2020-03-04 312.86    2259       exit      LONG    SPY\n",
       "528 2020-06-24 304.09    2171      entry      LONG    SPY\n",
       "529 2020-07-02 312.23    2171       exit      LONG    SPY"
      ]
     },
     "execution_count": 9,
     "metadata": {},
     "output_type": "execute_result"
    }
   ],
   "source": [
    "s.rlog.tail(10)"
   ]
  },
  {
   "cell_type": "code",
   "execution_count": 10,
   "metadata": {
    "ExecuteTime": {
     "end_time": "2020-02-17T03:25:02.478187Z",
     "start_time": "2020-02-17T03:25:02.419242Z"
    }
   },
   "outputs": [
    {
     "data": {
      "text/html": [
       "<div>\n",
       "<style scoped>\n",
       "    .dataframe tbody tr th:only-of-type {\n",
       "        vertical-align: middle;\n",
       "    }\n",
       "\n",
       "    .dataframe tbody tr th {\n",
       "        vertical-align: top;\n",
       "    }\n",
       "\n",
       "    .dataframe thead th {\n",
       "        text-align: right;\n",
       "    }\n",
       "</style>\n",
       "<table border=\"1\" class=\"dataframe\">\n",
       "  <thead>\n",
       "    <tr style=\"text-align: right;\">\n",
       "      <th></th>\n",
       "      <th>entry_date</th>\n",
       "      <th>entry_price</th>\n",
       "      <th>exit_date</th>\n",
       "      <th>exit_price</th>\n",
       "      <th>pl_points</th>\n",
       "      <th>pl_cash</th>\n",
       "      <th>qty</th>\n",
       "      <th>cumul_total</th>\n",
       "      <th>direction</th>\n",
       "      <th>symbol</th>\n",
       "    </tr>\n",
       "  </thead>\n",
       "  <tbody>\n",
       "    <tr>\n",
       "      <th>255</th>\n",
       "      <td>2019-05-01</td>\n",
       "      <td>291.81</td>\n",
       "      <td>2019-05-03</td>\n",
       "      <td>294.03</td>\n",
       "      <td>2.22</td>\n",
       "      <td>5299.14</td>\n",
       "      <td>2387</td>\n",
       "      <td>343648.20</td>\n",
       "      <td>LONG</td>\n",
       "      <td>SPY</td>\n",
       "    </tr>\n",
       "    <tr>\n",
       "      <th>256</th>\n",
       "      <td>2019-05-07</td>\n",
       "      <td>287.93</td>\n",
       "      <td>2019-06-05</td>\n",
       "      <td>282.96</td>\n",
       "      <td>-4.97</td>\n",
       "      <td>-12206.32</td>\n",
       "      <td>2456</td>\n",
       "      <td>331441.88</td>\n",
       "      <td>LONG</td>\n",
       "      <td>SPY</td>\n",
       "    </tr>\n",
       "    <tr>\n",
       "      <th>257</th>\n",
       "      <td>2019-06-26</td>\n",
       "      <td>290.47</td>\n",
       "      <td>2019-07-01</td>\n",
       "      <td>295.66</td>\n",
       "      <td>5.19</td>\n",
       "      <td>12196.51</td>\n",
       "      <td>2350</td>\n",
       "      <td>343638.39</td>\n",
       "      <td>LONG</td>\n",
       "      <td>SPY</td>\n",
       "    </tr>\n",
       "    <tr>\n",
       "      <th>258</th>\n",
       "      <td>2019-07-19</td>\n",
       "      <td>297.17</td>\n",
       "      <td>2019-07-24</td>\n",
       "      <td>301.44</td>\n",
       "      <td>4.27</td>\n",
       "      <td>10162.57</td>\n",
       "      <td>2380</td>\n",
       "      <td>353800.96</td>\n",
       "      <td>LONG</td>\n",
       "      <td>SPY</td>\n",
       "    </tr>\n",
       "    <tr>\n",
       "      <th>259</th>\n",
       "      <td>2019-07-31</td>\n",
       "      <td>297.43</td>\n",
       "      <td>2019-08-29</td>\n",
       "      <td>292.58</td>\n",
       "      <td>-4.85</td>\n",
       "      <td>-11863.11</td>\n",
       "      <td>2446</td>\n",
       "      <td>341937.85</td>\n",
       "      <td>LONG</td>\n",
       "      <td>SPY</td>\n",
       "    </tr>\n",
       "    <tr>\n",
       "      <th>260</th>\n",
       "      <td>2019-09-20</td>\n",
       "      <td>298.28</td>\n",
       "      <td>2019-10-11</td>\n",
       "      <td>296.28</td>\n",
       "      <td>-2.00</td>\n",
       "      <td>-4718.00</td>\n",
       "      <td>2359</td>\n",
       "      <td>337219.85</td>\n",
       "      <td>LONG</td>\n",
       "      <td>SPY</td>\n",
       "    </tr>\n",
       "    <tr>\n",
       "      <th>261</th>\n",
       "      <td>2019-12-03</td>\n",
       "      <td>309.55</td>\n",
       "      <td>2019-12-12</td>\n",
       "      <td>317.13</td>\n",
       "      <td>7.58</td>\n",
       "      <td>17001.98</td>\n",
       "      <td>2243</td>\n",
       "      <td>354221.82</td>\n",
       "      <td>LONG</td>\n",
       "      <td>SPY</td>\n",
       "    </tr>\n",
       "    <tr>\n",
       "      <th>262</th>\n",
       "      <td>2020-01-27</td>\n",
       "      <td>323.50</td>\n",
       "      <td>2020-02-04</td>\n",
       "      <td>329.06</td>\n",
       "      <td>5.56</td>\n",
       "      <td>12515.55</td>\n",
       "      <td>2251</td>\n",
       "      <td>366737.38</td>\n",
       "      <td>LONG</td>\n",
       "      <td>SPY</td>\n",
       "    </tr>\n",
       "    <tr>\n",
       "      <th>263</th>\n",
       "      <td>2020-02-21</td>\n",
       "      <td>333.48</td>\n",
       "      <td>2020-03-04</td>\n",
       "      <td>312.86</td>\n",
       "      <td>-20.62</td>\n",
       "      <td>-46580.64</td>\n",
       "      <td>2259</td>\n",
       "      <td>320156.74</td>\n",
       "      <td>LONG</td>\n",
       "      <td>SPY</td>\n",
       "    </tr>\n",
       "    <tr>\n",
       "      <th>264</th>\n",
       "      <td>2020-06-24</td>\n",
       "      <td>304.09</td>\n",
       "      <td>2020-07-02</td>\n",
       "      <td>312.23</td>\n",
       "      <td>8.14</td>\n",
       "      <td>17671.97</td>\n",
       "      <td>2171</td>\n",
       "      <td>337828.71</td>\n",
       "      <td>LONG</td>\n",
       "      <td>SPY</td>\n",
       "    </tr>\n",
       "  </tbody>\n",
       "</table>\n",
       "</div>"
      ],
      "text/plain": [
       "    entry_date  entry_price  exit_date  exit_price  pl_points   pl_cash   qty  \\\n",
       "255 2019-05-01       291.81 2019-05-03      294.03       2.22   5299.14  2387   \n",
       "256 2019-05-07       287.93 2019-06-05      282.96      -4.97 -12206.32  2456   \n",
       "257 2019-06-26       290.47 2019-07-01      295.66       5.19  12196.51  2350   \n",
       "258 2019-07-19       297.17 2019-07-24      301.44       4.27  10162.57  2380   \n",
       "259 2019-07-31       297.43 2019-08-29      292.58      -4.85 -11863.11  2446   \n",
       "260 2019-09-20       298.28 2019-10-11      296.28      -2.00  -4718.00  2359   \n",
       "261 2019-12-03       309.55 2019-12-12      317.13       7.58  17001.98  2243   \n",
       "262 2020-01-27       323.50 2020-02-04      329.06       5.56  12515.55  2251   \n",
       "263 2020-02-21       333.48 2020-03-04      312.86     -20.62 -46580.64  2259   \n",
       "264 2020-06-24       304.09 2020-07-02      312.23       8.14  17671.97  2171   \n",
       "\n",
       "     cumul_total direction symbol  \n",
       "255    343648.20      LONG    SPY  \n",
       "256    331441.88      LONG    SPY  \n",
       "257    343638.39      LONG    SPY  \n",
       "258    353800.96      LONG    SPY  \n",
       "259    341937.85      LONG    SPY  \n",
       "260    337219.85      LONG    SPY  \n",
       "261    354221.82      LONG    SPY  \n",
       "262    366737.38      LONG    SPY  \n",
       "263    320156.74      LONG    SPY  \n",
       "264    337828.71      LONG    SPY  "
      ]
     },
     "execution_count": 10,
     "metadata": {},
     "output_type": "execute_result"
    }
   ],
   "source": [
    "tlog.tail(10)"
   ]
  },
  {
   "cell_type": "code",
   "execution_count": 11,
   "metadata": {
    "ExecuteTime": {
     "end_time": "2020-02-17T03:25:02.526223Z",
     "start_time": "2020-02-17T03:25:02.482240Z"
    },
    "scrolled": false
   },
   "outputs": [
    {
     "data": {
      "text/html": [
       "<div>\n",
       "<style scoped>\n",
       "    .dataframe tbody tr th:only-of-type {\n",
       "        vertical-align: middle;\n",
       "    }\n",
       "\n",
       "    .dataframe tbody tr th {\n",
       "        vertical-align: top;\n",
       "    }\n",
       "\n",
       "    .dataframe thead th {\n",
       "        text-align: right;\n",
       "    }\n",
       "</style>\n",
       "<table border=\"1\" class=\"dataframe\">\n",
       "  <thead>\n",
       "    <tr style=\"text-align: right;\">\n",
       "      <th></th>\n",
       "      <th>high</th>\n",
       "      <th>low</th>\n",
       "      <th>close</th>\n",
       "      <th>shares</th>\n",
       "      <th>cash</th>\n",
       "      <th>leverage</th>\n",
       "      <th>state</th>\n",
       "    </tr>\n",
       "    <tr>\n",
       "      <th>date</th>\n",
       "      <th></th>\n",
       "      <th></th>\n",
       "      <th></th>\n",
       "      <th></th>\n",
       "      <th></th>\n",
       "      <th></th>\n",
       "      <th></th>\n",
       "    </tr>\n",
       "  </thead>\n",
       "  <tbody>\n",
       "    <tr>\n",
       "      <th>2020-07-08</th>\n",
       "      <td>347828.71</td>\n",
       "      <td>347828.71</td>\n",
       "      <td>347828.71</td>\n",
       "      <td>0</td>\n",
       "      <td>347828.71</td>\n",
       "      <td>0.00</td>\n",
       "      <td>-</td>\n",
       "    </tr>\n",
       "    <tr>\n",
       "      <th>2020-07-09</th>\n",
       "      <td>347828.71</td>\n",
       "      <td>347828.71</td>\n",
       "      <td>347828.71</td>\n",
       "      <td>0</td>\n",
       "      <td>347828.71</td>\n",
       "      <td>0.00</td>\n",
       "      <td>-</td>\n",
       "    </tr>\n",
       "    <tr>\n",
       "      <th>2020-07-10</th>\n",
       "      <td>347828.71</td>\n",
       "      <td>347828.71</td>\n",
       "      <td>347828.71</td>\n",
       "      <td>0</td>\n",
       "      <td>347828.71</td>\n",
       "      <td>0.00</td>\n",
       "      <td>-</td>\n",
       "    </tr>\n",
       "    <tr>\n",
       "      <th>2020-07-13</th>\n",
       "      <td>347828.71</td>\n",
       "      <td>347828.71</td>\n",
       "      <td>347828.71</td>\n",
       "      <td>0</td>\n",
       "      <td>347828.71</td>\n",
       "      <td>0.00</td>\n",
       "      <td>-</td>\n",
       "    </tr>\n",
       "    <tr>\n",
       "      <th>2020-07-14</th>\n",
       "      <td>347828.71</td>\n",
       "      <td>347828.71</td>\n",
       "      <td>347828.71</td>\n",
       "      <td>0</td>\n",
       "      <td>347828.71</td>\n",
       "      <td>0.00</td>\n",
       "      <td>-</td>\n",
       "    </tr>\n",
       "  </tbody>\n",
       "</table>\n",
       "</div>"
      ],
      "text/plain": [
       "                high       low     close  shares      cash  leverage state\n",
       "date                                                                      \n",
       "2020-07-08 347828.71 347828.71 347828.71       0 347828.71      0.00     -\n",
       "2020-07-09 347828.71 347828.71 347828.71       0 347828.71      0.00     -\n",
       "2020-07-10 347828.71 347828.71 347828.71       0 347828.71      0.00     -\n",
       "2020-07-13 347828.71 347828.71 347828.71       0 347828.71      0.00     -\n",
       "2020-07-14 347828.71 347828.71 347828.71       0 347828.71      0.00     -"
      ]
     },
     "execution_count": 11,
     "metadata": {},
     "output_type": "execute_result"
    }
   ],
   "source": [
    "dbal.tail()"
   ]
  },
  {
   "cell_type": "markdown",
   "metadata": {},
   "source": [
    "Generate strategy stats - display all available stats"
   ]
  },
  {
   "cell_type": "code",
   "execution_count": 12,
   "metadata": {
    "ExecuteTime": {
     "end_time": "2020-02-17T03:25:02.585181Z",
     "start_time": "2020-02-17T03:25:02.535391Z"
    }
   },
   "outputs": [
    {
     "name": "stdout",
     "output_type": "stream",
     "text": [
      "start                                                  1993-11-11\n",
      "end                                                    2020-07-14\n",
      "beginning_balance                                           10000\n",
      "ending_balance                                          347828.71\n",
      "total_net_profit                                        337828.71\n",
      "gross_profit                                            710677.35\n",
      "gross_loss                                             -372848.64\n",
      "profit_factor                                                1.91\n",
      "return_on_initial_capital                                 3378.29\n",
      "annual_return_rate                                          14.23\n",
      "trading_period                           26 years 8 months 3 days\n",
      "pct_time_in_market                                          29.65\n",
      "margin                                                          2\n",
      "avg_leverage                                                 2.02\n",
      "max_leverage                                                 2.39\n",
      "min_leverage                                                 1.92\n",
      "total_num_trades                                              265\n",
      "trades_per_year                                              9.93\n",
      "num_winning_trades                                            207\n",
      "num_losing_trades                                              57\n",
      "num_even_trades                                                 1\n",
      "pct_profitable_trades                                       78.11\n",
      "avg_profit_per_trade                                      1274.83\n",
      "avg_profit_per_winning_trade                              3433.22\n",
      "avg_loss_per_losing_trade                                -6541.20\n",
      "ratio_avg_profit_win_loss                                    0.52\n",
      "largest_profit_winning_trade                             23703.76\n",
      "largest_loss_losing_trade                               -46580.64\n",
      "num_winning_points                                         429.95\n",
      "num_losing_points                                         -197.73\n",
      "total_net_points                                           232.21\n",
      "avg_points                                                   0.88\n",
      "largest_points_winning_trade                                 9.47\n",
      "largest_points_losing_trade                                -20.62\n",
      "avg_pct_gain_per_trade                                       0.71\n",
      "largest_pct_winning_trade                                    6.92\n",
      "largest_pct_losing_trade                                   -10.05\n",
      "max_consecutive_winning_trades                                 18\n",
      "max_consecutive_losing_trades                                   4\n",
      "avg_bars_winning_trades                                      6.67\n",
      "avg_bars_losing_trades                                      15.25\n",
      "max_closed_out_drawdown                                    -28.24\n",
      "max_closed_out_drawdown_start_date                     2000-07-03\n",
      "max_closed_out_drawdown_end_date                       2002-05-07\n",
      "max_closed_out_drawdown_recovery_date                  2004-02-02\n",
      "drawdown_recovery                                           -1.84\n",
      "drawdown_annualized_return                                  -1.98\n",
      "max_intra_day_drawdown                                     -30.61\n",
      "avg_yearly_closed_out_drawdown                             -12.94\n",
      "max_yearly_closed_out_drawdown                             -28.08\n",
      "avg_monthly_closed_out_drawdown                             -2.96\n",
      "max_monthly_closed_out_drawdown                            -28.08\n",
      "avg_weekly_closed_out_drawdown                              -0.98\n",
      "max_weekly_closed_out_drawdown                             -26.02\n",
      "avg_yearly_closed_out_runup                                 27.43\n",
      "max_yearly_closed_out_runup                                 97.34\n",
      "avg_monthly_closed_out_runup                                 3.95\n",
      "max_monthly_closed_out_runup                                27.98\n",
      "avg_weekly_closed_out_runup                                  1.30\n",
      "max_weekly_closed_out_runup                                 16.93\n",
      "pct_profitable_years                                        74.89\n",
      "best_year                                                   95.32\n",
      "worst_year                                                 -20.28\n",
      "avg_year                                                    16.30\n",
      "annual_std                                                  19.84\n",
      "pct_profitable_months                                       52.04\n",
      "best_month                                                  27.98\n",
      "worst_month                                                -27.25\n",
      "avg_month                                                    1.15\n",
      "monthly_std                                                  4.28\n",
      "pct_profitable_weeks                                        29.05\n",
      "best_week                                                   16.93\n",
      "worst_week                                                 -26.02\n",
      "avg_week                                                     0.30\n",
      "weekly_std                                                   2.46\n",
      "sharpe_ratio                                                 0.76\n",
      "sortino_ratio                                                0.56\n",
      "dtype: object\n"
     ]
    }
   ],
   "source": [
    "pf.print_full(stats)"
   ]
  },
  {
   "cell_type": "markdown",
   "metadata": {},
   "source": [
    "Equity curve"
   ]
  },
  {
   "cell_type": "markdown",
   "metadata": {},
   "source": [
    "Run Benchmark, Retrieve benchmark logs, and Generate benchmark stats"
   ]
  },
  {
   "cell_type": "code",
   "execution_count": 13,
   "metadata": {
    "ExecuteTime": {
     "end_time": "2020-02-17T03:25:03.828131Z",
     "start_time": "2020-02-17T03:25:02.599218Z"
    }
   },
   "outputs": [
    {
     "name": "stdout",
     "output_type": "stream",
     "text": [
      "1993-11-11 00:00:00 BUY  215 SPY @ 46.38\n",
      "2020-07-14 00:00:00 SELL 215 SPY @ 316.03\n"
     ]
    }
   ],
   "source": [
    "benchmark = pf.Benchmark(symbol, capital, s._start, s._end)\n",
    "benchmark.run()\n",
    "benchmark.tlog, benchmark.dbal = benchmark.get_logs()\n",
    "benchmark.stats = benchmark.get_stats()"
   ]
  },
  {
   "cell_type": "markdown",
   "metadata": {},
   "source": [
    "Plot Equity Curves: Strategy vs Benchmark"
   ]
  },
  {
   "cell_type": "code",
   "execution_count": 14,
   "metadata": {
    "ExecuteTime": {
     "end_time": "2020-02-17T03:25:04.435435Z",
     "start_time": "2020-02-17T03:25:03.835361Z"
    }
   },
   "outputs": [
    {
     "data": {
      "image/png": "[encoded data removed]",
      "text/plain": [
       "<Figure size 720x504 with 1 Axes>"
      ]
     },
     "metadata": {
      "needs_background": "light"
     },
     "output_type": "display_data"
    }
   ],
   "source": [
    "pf.plot_equity_curve(dbal, benchmark=benchmark.dbal)"
   ]
  },
  {
   "cell_type": "markdown",
   "metadata": {},
   "source": [
    "Plot Trades"
   ]
  },
  {
   "cell_type": "code",
   "execution_count": 15,
   "metadata": {
    "ExecuteTime": {
     "end_time": "2020-02-17T03:25:05.030135Z",
     "start_time": "2020-02-17T03:25:04.448106Z"
    }
   },
   "outputs": [
    {
     "data": {
      "image/png": "[encoded data removed]",
      "text/plain": [
       "<Figure size 720x504 with 1 Axes>"
      ]
     },
     "metadata": {
      "needs_background": "light"
     },
     "output_type": "display_data"
    }
   ],
   "source": [
    "pf.plot_trades(dbal, benchmark=benchmark.dbal)"
   ]
  },
  {
   "cell_type": "markdown",
   "metadata": {},
   "source": [
    "Bar Graph: Strategy vs Benchmark"
   ]
  },
  {
   "cell_type": "code",
   "execution_count": 16,
   "metadata": {
    "ExecuteTime": {
     "end_time": "2020-02-17T03:25:05.776107Z",
     "start_time": "2020-02-17T03:25:05.040452Z"
    }
   },
   "outputs": [
    {
     "data": {
      "text/html": [
       "<div>\n",
       "<style scoped>\n",
       "    .dataframe tbody tr th:only-of-type {\n",
       "        vertical-align: middle;\n",
       "    }\n",
       "\n",
       "    .dataframe tbody tr th {\n",
       "        vertical-align: top;\n",
       "    }\n",
       "\n",
       "    .dataframe thead th {\n",
       "        text-align: right;\n",
       "    }\n",
       "</style>\n",
       "<table border=\"1\" class=\"dataframe\">\n",
       "  <thead>\n",
       "    <tr style=\"text-align: right;\">\n",
       "      <th></th>\n",
       "      <th>strategy</th>\n",
       "      <th>benchmark</th>\n",
       "    </tr>\n",
       "  </thead>\n",
       "  <tbody>\n",
       "    <tr>\n",
       "      <th>annual_return_rate</th>\n",
       "      <td>14.23</td>\n",
       "      <td>7.45</td>\n",
       "    </tr>\n",
       "    <tr>\n",
       "      <th>max_closed_out_drawdown</th>\n",
       "      <td>-28.24</td>\n",
       "      <td>-56.42</td>\n",
       "    </tr>\n",
       "    <tr>\n",
       "      <th>drawdown_annualized_return</th>\n",
       "      <td>-1.98</td>\n",
       "      <td>-7.57</td>\n",
       "    </tr>\n",
       "    <tr>\n",
       "      <th>drawdown_recovery</th>\n",
       "      <td>-1.84</td>\n",
       "      <td>-1.42</td>\n",
       "    </tr>\n",
       "    <tr>\n",
       "      <th>best_month</th>\n",
       "      <td>27.98</td>\n",
       "      <td>23.06</td>\n",
       "    </tr>\n",
       "    <tr>\n",
       "      <th>worst_month</th>\n",
       "      <td>-27.25</td>\n",
       "      <td>-31.38</td>\n",
       "    </tr>\n",
       "    <tr>\n",
       "      <th>sharpe_ratio</th>\n",
       "      <td>0.76</td>\n",
       "      <td>0.47</td>\n",
       "    </tr>\n",
       "    <tr>\n",
       "      <th>sortino_ratio</th>\n",
       "      <td>0.56</td>\n",
       "      <td>0.60</td>\n",
       "    </tr>\n",
       "    <tr>\n",
       "      <th>monthly_std</th>\n",
       "      <td>4.28</td>\n",
       "      <td>4.54</td>\n",
       "    </tr>\n",
       "  </tbody>\n",
       "</table>\n",
       "</div>"
      ],
      "text/plain": [
       "                            strategy  benchmark\n",
       "annual_return_rate             14.23       7.45\n",
       "max_closed_out_drawdown       -28.24     -56.42\n",
       "drawdown_annualized_return     -1.98      -7.57\n",
       "drawdown_recovery              -1.84      -1.42\n",
       "best_month                     27.98      23.06\n",
       "worst_month                   -27.25     -31.38\n",
       "sharpe_ratio                    0.76       0.47\n",
       "sortino_ratio                   0.56       0.60\n",
       "monthly_std                     4.28       4.54"
      ]
     },
     "execution_count": 16,
     "metadata": {},
     "output_type": "execute_result"
    },
    {
     "data": {
      "image/png": "[encoded data removed]",
      "text/plain": [
       "<Figure size 720x504 with 1 Axes>"
      ]
     },
     "metadata": {
      "needs_background": "light"
     },
     "output_type": "display_data"
    }
   ],
   "source": [
    "df = pf.plot_bar_graph(stats, benchmark.stats)\n",
    "df"
   ]
  }
 ],
 "metadata": {
  "kernelspec": {
   "display_name": "Python 3",
   "language": "python",
   "name": "python3"
  },
  "language_info": {
   "codemirror_mode": {
    "name": "ipython",
    "version": 3
   },
   "file_extension": ".py",
   "mimetype": "text/x-python",
   "name": "python",
   "nbconvert_exporter": "python",
   "pygments_lexer": "ipython3",
   "version": "3.8.2"
  },
  "latex_envs": {
   "LaTeX_envs_menu_present": true,
   "autoclose": false,
   "autocomplete": true,
   "bibliofile": "biblio.bib",
   "cite_by": "apalike",
   "current_citInitial": 1,
   "eqLabelWithNumbers": true,
   "eqNumInitial": 1,
   "hotkeys": {
    "equation": "Ctrl-E",
    "itemize": "Ctrl-I"
   },
   "labels_anchors": false,
   "latex_user_defs": false,
   "report_style_numbering": false,
   "user_envs_cfg": false
  }
 },
 "nbformat": 4,
 "nbformat_minor": 1
}
