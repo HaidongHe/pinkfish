{
 "cells": [
  {
   "cell_type": "markdown",
   "metadata": {},
   "source": [
    "# Golden Cross / Death Cross SPY (GLD)\n",
    "\n",
    "    1. sma50>sma200, buy SPY\n",
    "    2. sma50<sma200, sell your long SPY position\n",
    "    3. when out of your SPY position, hold GLD"
   ]
  },
  {
   "cell_type": "code",
   "execution_count": 1,
   "metadata": {
    "ExecuteTime": {
     "end_time": "2020-02-01T15:22:30.068556Z",
     "start_time": "2020-02-01T15:22:29.020647Z"
    }
   },
   "outputs": [],
   "source": [
    "# use future imports for python 3.x forward compatibility\n",
    "from __future__ import print_function\n",
    "from __future__ import unicode_literals\n",
    "from __future__ import division\n",
    "from __future__ import absolute_import\n",
    "\n",
    "# other imports\n",
    "import pandas as pd\n",
    "import matplotlib.pyplot as plt\n",
    "import datetime\n",
    "from talib.abstract import *\n",
    "\n",
    "# project imports\n",
    "import pinkfish as pf\n",
    "\n",
    "# format price data\n",
    "pd.options.display.float_format = '{:0.2f}'.format\n",
    "\n",
    "%matplotlib inline"
   ]
  },
  {
   "cell_type": "code",
   "execution_count": 2,
   "metadata": {
    "ExecuteTime": {
     "end_time": "2020-02-01T15:22:30.087395Z",
     "start_time": "2020-02-01T15:22:30.075197Z"
    }
   },
   "outputs": [],
   "source": [
    "# set size of inline plots\n",
    "'''note: rcParams can't be in same cell as import matplotlib\n",
    "   or %matplotlib inline\n",
    "   \n",
    "   %matplotlib notebook: will lead to interactive plots embedded within\n",
    "   the notebook, you can zoom and resize the figure\n",
    "   \n",
    "   %matplotlib inline: only draw static images in the notebook\n",
    "'''\n",
    "plt.rcParams[\"figure.figsize\"] = (10, 7)"
   ]
  },
  {
   "cell_type": "markdown",
   "metadata": {},
   "source": [
    "Some global data"
   ]
  },
  {
   "cell_type": "code",
   "execution_count": 3,
   "metadata": {
    "ExecuteTime": {
     "end_time": "2020-02-01T15:22:30.103006Z",
     "start_time": "2020-02-01T15:22:30.093073Z"
    }
   },
   "outputs": [],
   "source": [
    "#symbol = '^GSPC'\n",
    "symbol = 'SPY'\n",
    "other_symbol = 'GLD'\n",
    "#other_symbol = 'TLT'\n",
    "#other_symbol = 'SHY'\n",
    "#other_symbol = 'SH'\n",
    "\n",
    "capital = 10000\n",
    "start = datetime.datetime(1900, 1, 1)\n",
    "#start = datetime.datetime.strptime(pf.SP500_BEGIN, '%Y-%m-%d')\n",
    "end = datetime.datetime.now()"
   ]
  },
  {
   "cell_type": "markdown",
   "metadata": {},
   "source": [
    "Include dividends? (If yes, set to True)"
   ]
  },
  {
   "cell_type": "code",
   "execution_count": 4,
   "metadata": {
    "ExecuteTime": {
     "end_time": "2020-02-01T15:22:30.121507Z",
     "start_time": "2020-02-01T15:22:30.109169Z"
    }
   },
   "outputs": [],
   "source": [
    "use_adj = True"
   ]
  },
  {
   "cell_type": "markdown",
   "metadata": {},
   "source": [
    "Use cache?"
   ]
  },
  {
   "cell_type": "code",
   "execution_count": 5,
   "metadata": {
    "ExecuteTime": {
     "end_time": "2020-02-01T15:22:30.138892Z",
     "start_time": "2020-02-01T15:22:30.128963Z"
    }
   },
   "outputs": [],
   "source": [
    "use_cache = False"
   ]
  },
  {
   "cell_type": "markdown",
   "metadata": {},
   "source": [
    "Fetch symbol data from internet; use cache if available."
   ]
  },
  {
   "cell_type": "code",
   "execution_count": 6,
   "metadata": {
    "ExecuteTime": {
     "end_time": "2020-02-01T15:22:31.636911Z",
     "start_time": "2020-02-01T15:22:30.144627Z"
    }
   },
   "outputs": [
    {
     "data": {
      "text/html": [
       "<div>\n",
       "<style scoped>\n",
       "    .dataframe tbody tr th:only-of-type {\n",
       "        vertical-align: middle;\n",
       "    }\n",
       "\n",
       "    .dataframe tbody tr th {\n",
       "        vertical-align: top;\n",
       "    }\n",
       "\n",
       "    .dataframe thead th {\n",
       "        text-align: right;\n",
       "    }\n",
       "</style>\n",
       "<table border=\"1\" class=\"dataframe\">\n",
       "  <thead>\n",
       "    <tr style=\"text-align: right;\">\n",
       "      <th></th>\n",
       "      <th>high</th>\n",
       "      <th>low</th>\n",
       "      <th>open</th>\n",
       "      <th>close</th>\n",
       "      <th>volume</th>\n",
       "      <th>adj_close</th>\n",
       "    </tr>\n",
       "    <tr>\n",
       "      <th>date</th>\n",
       "      <th></th>\n",
       "      <th></th>\n",
       "      <th></th>\n",
       "      <th></th>\n",
       "      <th></th>\n",
       "      <th></th>\n",
       "    </tr>\n",
       "  </thead>\n",
       "  <tbody>\n",
       "    <tr>\n",
       "      <th>1993-01-29</th>\n",
       "      <td>43.97</td>\n",
       "      <td>43.75</td>\n",
       "      <td>43.97</td>\n",
       "      <td>43.94</td>\n",
       "      <td>1003200.00</td>\n",
       "      <td>26.45</td>\n",
       "    </tr>\n",
       "    <tr>\n",
       "      <th>1993-02-01</th>\n",
       "      <td>44.25</td>\n",
       "      <td>43.97</td>\n",
       "      <td>43.97</td>\n",
       "      <td>44.25</td>\n",
       "      <td>480500.00</td>\n",
       "      <td>26.64</td>\n",
       "    </tr>\n",
       "    <tr>\n",
       "      <th>1993-02-02</th>\n",
       "      <td>44.38</td>\n",
       "      <td>44.12</td>\n",
       "      <td>44.22</td>\n",
       "      <td>44.34</td>\n",
       "      <td>201300.00</td>\n",
       "      <td>26.70</td>\n",
       "    </tr>\n",
       "    <tr>\n",
       "      <th>1993-02-03</th>\n",
       "      <td>44.84</td>\n",
       "      <td>44.38</td>\n",
       "      <td>44.41</td>\n",
       "      <td>44.81</td>\n",
       "      <td>529400.00</td>\n",
       "      <td>26.98</td>\n",
       "    </tr>\n",
       "    <tr>\n",
       "      <th>1993-02-04</th>\n",
       "      <td>45.09</td>\n",
       "      <td>44.47</td>\n",
       "      <td>44.97</td>\n",
       "      <td>45.00</td>\n",
       "      <td>531500.00</td>\n",
       "      <td>27.09</td>\n",
       "    </tr>\n",
       "  </tbody>\n",
       "</table>\n",
       "</div>"
      ],
      "text/plain": [
       "            high   low  open  close     volume  adj_close\n",
       "date                                                     \n",
       "1993-01-29 43.97 43.75 43.97  43.94 1003200.00      26.45\n",
       "1993-02-01 44.25 43.97 43.97  44.25  480500.00      26.64\n",
       "1993-02-02 44.38 44.12 44.22  44.34  201300.00      26.70\n",
       "1993-02-03 44.84 44.38 44.41  44.81  529400.00      26.98\n",
       "1993-02-04 45.09 44.47 44.97  45.00  531500.00      27.09"
      ]
     },
     "execution_count": 6,
     "metadata": {},
     "output_type": "execute_result"
    }
   ],
   "source": [
    "ts = pf.fetch_timeseries(symbol, use_cache=use_cache)\n",
    "ts.head()"
   ]
  },
  {
   "cell_type": "markdown",
   "metadata": {},
   "source": [
    "Select timeseries between start and end. Back adjust prices relative to adj_close for dividends and splits."
   ]
  },
  {
   "cell_type": "code",
   "execution_count": 7,
   "metadata": {
    "ExecuteTime": {
     "end_time": "2020-02-01T15:22:31.675923Z",
     "start_time": "2020-02-01T15:22:31.642905Z"
    }
   },
   "outputs": [
    {
     "data": {
      "text/html": [
       "<div>\n",
       "<style scoped>\n",
       "    .dataframe tbody tr th:only-of-type {\n",
       "        vertical-align: middle;\n",
       "    }\n",
       "\n",
       "    .dataframe tbody tr th {\n",
       "        vertical-align: top;\n",
       "    }\n",
       "\n",
       "    .dataframe thead th {\n",
       "        text-align: right;\n",
       "    }\n",
       "</style>\n",
       "<table border=\"1\" class=\"dataframe\">\n",
       "  <thead>\n",
       "    <tr style=\"text-align: right;\">\n",
       "      <th></th>\n",
       "      <th>high</th>\n",
       "      <th>low</th>\n",
       "      <th>open</th>\n",
       "      <th>close</th>\n",
       "      <th>volume</th>\n",
       "      <th>adj_close</th>\n",
       "    </tr>\n",
       "    <tr>\n",
       "      <th>date</th>\n",
       "      <th></th>\n",
       "      <th></th>\n",
       "      <th></th>\n",
       "      <th></th>\n",
       "      <th></th>\n",
       "      <th></th>\n",
       "    </tr>\n",
       "  </thead>\n",
       "  <tbody>\n",
       "    <tr>\n",
       "      <th>1993-01-29</th>\n",
       "      <td>26.47</td>\n",
       "      <td>26.34</td>\n",
       "      <td>26.47</td>\n",
       "      <td>26.45</td>\n",
       "      <td>1003200.00</td>\n",
       "      <td>26.45</td>\n",
       "    </tr>\n",
       "    <tr>\n",
       "      <th>1993-02-01</th>\n",
       "      <td>26.64</td>\n",
       "      <td>26.47</td>\n",
       "      <td>26.47</td>\n",
       "      <td>26.64</td>\n",
       "      <td>480500.00</td>\n",
       "      <td>26.64</td>\n",
       "    </tr>\n",
       "    <tr>\n",
       "      <th>1993-02-02</th>\n",
       "      <td>26.72</td>\n",
       "      <td>26.57</td>\n",
       "      <td>26.62</td>\n",
       "      <td>26.70</td>\n",
       "      <td>201300.00</td>\n",
       "      <td>26.70</td>\n",
       "    </tr>\n",
       "    <tr>\n",
       "      <th>1993-02-03</th>\n",
       "      <td>27.00</td>\n",
       "      <td>26.72</td>\n",
       "      <td>26.74</td>\n",
       "      <td>26.98</td>\n",
       "      <td>529400.00</td>\n",
       "      <td>26.98</td>\n",
       "    </tr>\n",
       "    <tr>\n",
       "      <th>1993-02-04</th>\n",
       "      <td>27.15</td>\n",
       "      <td>26.77</td>\n",
       "      <td>27.07</td>\n",
       "      <td>27.09</td>\n",
       "      <td>531500.00</td>\n",
       "      <td>27.09</td>\n",
       "    </tr>\n",
       "  </tbody>\n",
       "</table>\n",
       "</div>"
      ],
      "text/plain": [
       "            high   low  open  close     volume  adj_close\n",
       "date                                                     \n",
       "1993-01-29 26.47 26.34 26.47  26.45 1003200.00      26.45\n",
       "1993-02-01 26.64 26.47 26.47  26.64  480500.00      26.64\n",
       "1993-02-02 26.72 26.57 26.62  26.70  201300.00      26.70\n",
       "1993-02-03 27.00 26.72 26.74  26.98  529400.00      26.98\n",
       "1993-02-04 27.15 26.77 27.07  27.09  531500.00      27.09"
      ]
     },
     "execution_count": 7,
     "metadata": {},
     "output_type": "execute_result"
    }
   ],
   "source": [
    "ts = pf.select_tradeperiod(ts, start, end, use_adj)\n",
    "ts.head()"
   ]
  },
  {
   "cell_type": "markdown",
   "metadata": {},
   "source": [
    "Add technical indicator: 50 day ma and 200 day ma"
   ]
  },
  {
   "cell_type": "code",
   "execution_count": 8,
   "metadata": {
    "ExecuteTime": {
     "end_time": "2020-02-01T15:22:31.817038Z",
     "start_time": "2020-02-01T15:22:31.686022Z"
    }
   },
   "outputs": [
    {
     "data": {
      "text/html": [
       "<div>\n",
       "<style scoped>\n",
       "    .dataframe tbody tr th:only-of-type {\n",
       "        vertical-align: middle;\n",
       "    }\n",
       "\n",
       "    .dataframe tbody tr th {\n",
       "        vertical-align: top;\n",
       "    }\n",
       "\n",
       "    .dataframe thead th {\n",
       "        text-align: right;\n",
       "    }\n",
       "</style>\n",
       "<table border=\"1\" class=\"dataframe\">\n",
       "  <thead>\n",
       "    <tr style=\"text-align: right;\">\n",
       "      <th></th>\n",
       "      <th>high</th>\n",
       "      <th>low</th>\n",
       "      <th>open</th>\n",
       "      <th>close</th>\n",
       "      <th>volume</th>\n",
       "      <th>adj_close</th>\n",
       "      <th>sma50</th>\n",
       "      <th>sma200</th>\n",
       "    </tr>\n",
       "    <tr>\n",
       "      <th>date</th>\n",
       "      <th></th>\n",
       "      <th></th>\n",
       "      <th></th>\n",
       "      <th></th>\n",
       "      <th></th>\n",
       "      <th></th>\n",
       "      <th></th>\n",
       "      <th></th>\n",
       "    </tr>\n",
       "  </thead>\n",
       "  <tbody>\n",
       "    <tr>\n",
       "      <th>2020-01-27</th>\n",
       "      <td>325.12</td>\n",
       "      <td>322.66</td>\n",
       "      <td>323.03</td>\n",
       "      <td>323.50</td>\n",
       "      <td>84062500.00</td>\n",
       "      <td>323.50</td>\n",
       "      <td>318.69</td>\n",
       "      <td>297.76</td>\n",
       "    </tr>\n",
       "    <tr>\n",
       "      <th>2020-01-28</th>\n",
       "      <td>327.85</td>\n",
       "      <td>323.60</td>\n",
       "      <td>325.06</td>\n",
       "      <td>326.89</td>\n",
       "      <td>63834000.00</td>\n",
       "      <td>326.89</td>\n",
       "      <td>319.08</td>\n",
       "      <td>297.97</td>\n",
       "    </tr>\n",
       "    <tr>\n",
       "      <th>2020-01-29</th>\n",
       "      <td>328.63</td>\n",
       "      <td>326.40</td>\n",
       "      <td>328.38</td>\n",
       "      <td>326.62</td>\n",
       "      <td>53888900.00</td>\n",
       "      <td>326.62</td>\n",
       "      <td>319.45</td>\n",
       "      <td>298.17</td>\n",
       "    </tr>\n",
       "    <tr>\n",
       "      <th>2020-01-30</th>\n",
       "      <td>327.91</td>\n",
       "      <td>323.54</td>\n",
       "      <td>324.36</td>\n",
       "      <td>327.68</td>\n",
       "      <td>75491800.00</td>\n",
       "      <td>327.68</td>\n",
       "      <td>319.80</td>\n",
       "      <td>298.38</td>\n",
       "    </tr>\n",
       "    <tr>\n",
       "      <th>2020-01-31</th>\n",
       "      <td>327.17</td>\n",
       "      <td>320.73</td>\n",
       "      <td>327.00</td>\n",
       "      <td>321.73</td>\n",
       "      <td>113688600.00</td>\n",
       "      <td>321.73</td>\n",
       "      <td>320.02</td>\n",
       "      <td>298.56</td>\n",
       "    </tr>\n",
       "  </tbody>\n",
       "</table>\n",
       "</div>"
      ],
      "text/plain": [
       "             high    low   open  close       volume  adj_close  sma50  sma200\n",
       "date                                                                         \n",
       "2020-01-27 325.12 322.66 323.03 323.50  84062500.00     323.50 318.69  297.76\n",
       "2020-01-28 327.85 323.60 325.06 326.89  63834000.00     326.89 319.08  297.97\n",
       "2020-01-29 328.63 326.40 328.38 326.62  53888900.00     326.62 319.45  298.17\n",
       "2020-01-30 327.91 323.54 324.36 327.68  75491800.00     327.68 319.80  298.38\n",
       "2020-01-31 327.17 320.73 327.00 321.73 113688600.00     321.73 320.02  298.56"
      ]
     },
     "execution_count": 8,
     "metadata": {},
     "output_type": "execute_result"
    }
   ],
   "source": [
    "sma50 = SMA(ts, timeperiod=50)\n",
    "ts['sma50'] = sma50\n",
    "\n",
    "sma200 = SMA(ts, timeperiod=200)\n",
    "ts['sma200'] = sma200\n",
    "\n",
    "ts.tail()"
   ]
  },
  {
   "cell_type": "markdown",
   "metadata": {},
   "source": [
    "Add additional symbols and their indicators"
   ]
  },
  {
   "cell_type": "code",
   "execution_count": 9,
   "metadata": {
    "ExecuteTime": {
     "end_time": "2020-02-01T15:22:32.840548Z",
     "start_time": "2020-02-01T15:22:31.826743Z"
    }
   },
   "outputs": [
    {
     "data": {
      "text/html": [
       "<div>\n",
       "<style scoped>\n",
       "    .dataframe tbody tr th:only-of-type {\n",
       "        vertical-align: middle;\n",
       "    }\n",
       "\n",
       "    .dataframe tbody tr th {\n",
       "        vertical-align: top;\n",
       "    }\n",
       "\n",
       "    .dataframe thead th {\n",
       "        text-align: right;\n",
       "    }\n",
       "</style>\n",
       "<table border=\"1\" class=\"dataframe\">\n",
       "  <thead>\n",
       "    <tr style=\"text-align: right;\">\n",
       "      <th></th>\n",
       "      <th>high</th>\n",
       "      <th>low</th>\n",
       "      <th>open</th>\n",
       "      <th>close</th>\n",
       "      <th>volume</th>\n",
       "      <th>adj_close</th>\n",
       "      <th>sma50</th>\n",
       "      <th>sma200</th>\n",
       "      <th>GLD_high</th>\n",
       "      <th>GLD_low</th>\n",
       "      <th>GLD_close</th>\n",
       "      <th>GLD_sma200</th>\n",
       "    </tr>\n",
       "    <tr>\n",
       "      <th>date</th>\n",
       "      <th></th>\n",
       "      <th></th>\n",
       "      <th></th>\n",
       "      <th></th>\n",
       "      <th></th>\n",
       "      <th></th>\n",
       "      <th></th>\n",
       "      <th></th>\n",
       "      <th></th>\n",
       "      <th></th>\n",
       "      <th></th>\n",
       "      <th></th>\n",
       "    </tr>\n",
       "  </thead>\n",
       "  <tbody>\n",
       "    <tr>\n",
       "      <th>1993-01-29</th>\n",
       "      <td>26.47</td>\n",
       "      <td>26.34</td>\n",
       "      <td>26.47</td>\n",
       "      <td>26.45</td>\n",
       "      <td>1003200.00</td>\n",
       "      <td>26.45</td>\n",
       "      <td>nan</td>\n",
       "      <td>nan</td>\n",
       "      <td>nan</td>\n",
       "      <td>nan</td>\n",
       "      <td>nan</td>\n",
       "      <td>nan</td>\n",
       "    </tr>\n",
       "    <tr>\n",
       "      <th>1993-02-01</th>\n",
       "      <td>26.64</td>\n",
       "      <td>26.47</td>\n",
       "      <td>26.47</td>\n",
       "      <td>26.64</td>\n",
       "      <td>480500.00</td>\n",
       "      <td>26.64</td>\n",
       "      <td>nan</td>\n",
       "      <td>nan</td>\n",
       "      <td>nan</td>\n",
       "      <td>nan</td>\n",
       "      <td>nan</td>\n",
       "      <td>nan</td>\n",
       "    </tr>\n",
       "    <tr>\n",
       "      <th>1993-02-02</th>\n",
       "      <td>26.72</td>\n",
       "      <td>26.57</td>\n",
       "      <td>26.62</td>\n",
       "      <td>26.70</td>\n",
       "      <td>201300.00</td>\n",
       "      <td>26.70</td>\n",
       "      <td>nan</td>\n",
       "      <td>nan</td>\n",
       "      <td>nan</td>\n",
       "      <td>nan</td>\n",
       "      <td>nan</td>\n",
       "      <td>nan</td>\n",
       "    </tr>\n",
       "    <tr>\n",
       "      <th>1993-02-03</th>\n",
       "      <td>27.00</td>\n",
       "      <td>26.72</td>\n",
       "      <td>26.74</td>\n",
       "      <td>26.98</td>\n",
       "      <td>529400.00</td>\n",
       "      <td>26.98</td>\n",
       "      <td>nan</td>\n",
       "      <td>nan</td>\n",
       "      <td>nan</td>\n",
       "      <td>nan</td>\n",
       "      <td>nan</td>\n",
       "      <td>nan</td>\n",
       "    </tr>\n",
       "    <tr>\n",
       "      <th>1993-02-04</th>\n",
       "      <td>27.15</td>\n",
       "      <td>26.77</td>\n",
       "      <td>27.07</td>\n",
       "      <td>27.09</td>\n",
       "      <td>531500.00</td>\n",
       "      <td>27.09</td>\n",
       "      <td>nan</td>\n",
       "      <td>nan</td>\n",
       "      <td>nan</td>\n",
       "      <td>nan</td>\n",
       "      <td>nan</td>\n",
       "      <td>nan</td>\n",
       "    </tr>\n",
       "  </tbody>\n",
       "</table>\n",
       "</div>"
      ],
      "text/plain": [
       "            high   low  open  close     volume  adj_close  sma50  sma200  \\\n",
       "date                                                                       \n",
       "1993-01-29 26.47 26.34 26.47  26.45 1003200.00      26.45    nan     nan   \n",
       "1993-02-01 26.64 26.47 26.47  26.64  480500.00      26.64    nan     nan   \n",
       "1993-02-02 26.72 26.57 26.62  26.70  201300.00      26.70    nan     nan   \n",
       "1993-02-03 27.00 26.72 26.74  26.98  529400.00      26.98    nan     nan   \n",
       "1993-02-04 27.15 26.77 27.07  27.09  531500.00      27.09    nan     nan   \n",
       "\n",
       "            GLD_high  GLD_low  GLD_close  GLD_sma200  \n",
       "date                                                  \n",
       "1993-01-29       nan      nan        nan         nan  \n",
       "1993-02-01       nan      nan        nan         nan  \n",
       "1993-02-02       nan      nan        nan         nan  \n",
       "1993-02-03       nan      nan        nan         nan  \n",
       "1993-02-04       nan      nan        nan         nan  "
      ]
     },
     "execution_count": 9,
     "metadata": {},
     "output_type": "execute_result"
    }
   ],
   "source": [
    "def add_symbol_columns(ts, symbol, symbol_ts, fields):\n",
    "    \n",
    "    for field in fields:\n",
    "        column = symbol + '_' + field\n",
    "        ts[column] = symbol_ts[field]\n",
    "    return ts\n",
    "\n",
    "def add_symbols(ts, symbols):\n",
    "    \n",
    "    for symbol in symbols:\n",
    "        \n",
    "        # add another symbol\n",
    "        _ts = pf.fetch_timeseries(symbol, use_cache=use_cache)\n",
    "        _ts = pf.select_tradeperiod(_ts, start, end, use_adj=use_adj)\n",
    "    \n",
    "        # Add technical indicator: 200 day ma\n",
    "        # we are not actually going to use this in the algorithm\n",
    "        # including this for demonstration purposes\n",
    "        sma200 = SMA(_ts, timeperiod=200)\n",
    "        _ts['sma200'] = sma200\n",
    "        \n",
    "        ts = add_symbol_columns(ts, symbol, _ts, fields=['high', 'low', 'close', 'sma200'])\n",
    "    return ts\n",
    "\n",
    "ts = add_symbols(ts, symbols=[other_symbol])\n",
    "ts.head()"
   ]
  },
  {
   "cell_type": "markdown",
   "metadata": {},
   "source": [
    "Drop all rows that have nan column values"
   ]
  },
  {
   "cell_type": "code",
   "execution_count": 10,
   "metadata": {
    "ExecuteTime": {
     "end_time": "2020-02-01T15:22:32.897446Z",
     "start_time": "2020-02-01T15:22:32.847130Z"
    }
   },
   "outputs": [
    {
     "data": {
      "text/html": [
       "<div>\n",
       "<style scoped>\n",
       "    .dataframe tbody tr th:only-of-type {\n",
       "        vertical-align: middle;\n",
       "    }\n",
       "\n",
       "    .dataframe tbody tr th {\n",
       "        vertical-align: top;\n",
       "    }\n",
       "\n",
       "    .dataframe thead th {\n",
       "        text-align: right;\n",
       "    }\n",
       "</style>\n",
       "<table border=\"1\" class=\"dataframe\">\n",
       "  <thead>\n",
       "    <tr style=\"text-align: right;\">\n",
       "      <th></th>\n",
       "      <th>high</th>\n",
       "      <th>low</th>\n",
       "      <th>open</th>\n",
       "      <th>close</th>\n",
       "      <th>volume</th>\n",
       "      <th>adj_close</th>\n",
       "      <th>sma50</th>\n",
       "      <th>sma200</th>\n",
       "      <th>GLD_high</th>\n",
       "      <th>GLD_low</th>\n",
       "      <th>GLD_close</th>\n",
       "      <th>GLD_sma200</th>\n",
       "    </tr>\n",
       "    <tr>\n",
       "      <th>date</th>\n",
       "      <th></th>\n",
       "      <th></th>\n",
       "      <th></th>\n",
       "      <th></th>\n",
       "      <th></th>\n",
       "      <th></th>\n",
       "      <th></th>\n",
       "      <th></th>\n",
       "      <th></th>\n",
       "      <th></th>\n",
       "      <th></th>\n",
       "      <th></th>\n",
       "    </tr>\n",
       "  </thead>\n",
       "  <tbody>\n",
       "    <tr>\n",
       "      <th>2020-01-27</th>\n",
       "      <td>325.12</td>\n",
       "      <td>322.66</td>\n",
       "      <td>323.03</td>\n",
       "      <td>323.50</td>\n",
       "      <td>84062500.00</td>\n",
       "      <td>323.50</td>\n",
       "      <td>318.69</td>\n",
       "      <td>297.76</td>\n",
       "      <td>149.32</td>\n",
       "      <td>148.46</td>\n",
       "      <td>148.99</td>\n",
       "      <td>135.71</td>\n",
       "    </tr>\n",
       "    <tr>\n",
       "      <th>2020-01-28</th>\n",
       "      <td>327.85</td>\n",
       "      <td>323.60</td>\n",
       "      <td>325.06</td>\n",
       "      <td>326.89</td>\n",
       "      <td>63834000.00</td>\n",
       "      <td>326.89</td>\n",
       "      <td>319.08</td>\n",
       "      <td>297.97</td>\n",
       "      <td>148.56</td>\n",
       "      <td>147.53</td>\n",
       "      <td>147.66</td>\n",
       "      <td>135.84</td>\n",
       "    </tr>\n",
       "    <tr>\n",
       "      <th>2020-01-29</th>\n",
       "      <td>328.63</td>\n",
       "      <td>326.40</td>\n",
       "      <td>328.38</td>\n",
       "      <td>326.62</td>\n",
       "      <td>53888900.00</td>\n",
       "      <td>326.62</td>\n",
       "      <td>319.45</td>\n",
       "      <td>298.17</td>\n",
       "      <td>148.56</td>\n",
       "      <td>147.61</td>\n",
       "      <td>148.46</td>\n",
       "      <td>135.97</td>\n",
       "    </tr>\n",
       "    <tr>\n",
       "      <th>2020-01-30</th>\n",
       "      <td>327.91</td>\n",
       "      <td>323.54</td>\n",
       "      <td>324.36</td>\n",
       "      <td>327.68</td>\n",
       "      <td>75491800.00</td>\n",
       "      <td>327.68</td>\n",
       "      <td>319.80</td>\n",
       "      <td>298.38</td>\n",
       "      <td>149.31</td>\n",
       "      <td>148.01</td>\n",
       "      <td>148.47</td>\n",
       "      <td>136.11</td>\n",
       "    </tr>\n",
       "    <tr>\n",
       "      <th>2020-01-31</th>\n",
       "      <td>327.17</td>\n",
       "      <td>320.73</td>\n",
       "      <td>327.00</td>\n",
       "      <td>321.73</td>\n",
       "      <td>113688600.00</td>\n",
       "      <td>321.73</td>\n",
       "      <td>320.02</td>\n",
       "      <td>298.56</td>\n",
       "      <td>149.68</td>\n",
       "      <td>148.81</td>\n",
       "      <td>149.33</td>\n",
       "      <td>136.25</td>\n",
       "    </tr>\n",
       "  </tbody>\n",
       "</table>\n",
       "</div>"
      ],
      "text/plain": [
       "             high    low   open  close       volume  adj_close  sma50  sma200  \\\n",
       "date                                                                            \n",
       "2020-01-27 325.12 322.66 323.03 323.50  84062500.00     323.50 318.69  297.76   \n",
       "2020-01-28 327.85 323.60 325.06 326.89  63834000.00     326.89 319.08  297.97   \n",
       "2020-01-29 328.63 326.40 328.38 326.62  53888900.00     326.62 319.45  298.17   \n",
       "2020-01-30 327.91 323.54 324.36 327.68  75491800.00     327.68 319.80  298.38   \n",
       "2020-01-31 327.17 320.73 327.00 321.73 113688600.00     321.73 320.02  298.56   \n",
       "\n",
       "            GLD_high  GLD_low  GLD_close  GLD_sma200  \n",
       "date                                                  \n",
       "2020-01-27    149.32   148.46     148.99      135.71  \n",
       "2020-01-28    148.56   147.53     147.66      135.84  \n",
       "2020-01-29    148.56   147.61     148.46      135.97  \n",
       "2020-01-30    149.31   148.01     148.47      136.11  \n",
       "2020-01-31    149.68   148.81     149.33      136.25  "
      ]
     },
     "execution_count": 10,
     "metadata": {},
     "output_type": "execute_result"
    }
   ],
   "source": [
    "ts = ts.dropna()\n",
    "ts.tail()"
   ]
  },
  {
   "cell_type": "markdown",
   "metadata": {},
   "source": [
    "Create Trade Log (tlog); Create Daily Balance (dbal)"
   ]
  },
  {
   "cell_type": "code",
   "execution_count": 11,
   "metadata": {
    "ExecuteTime": {
     "end_time": "2020-02-01T15:22:32.915074Z",
     "start_time": "2020-02-01T15:22:32.905780Z"
    }
   },
   "outputs": [],
   "source": [
    "tlog = pf.TradeLog()\n",
    "dbal = pf.DailyBal()"
   ]
  },
  {
   "cell_type": "markdown",
   "metadata": {},
   "source": [
    "Algo: Buy SPY when 50 day ma crosses above 200 day ma.  Sell when 50 day ma crosses below 200 day ma. \n",
    "Hold GLD when not in SPY."
   ]
  },
  {
   "cell_type": "code",
   "execution_count": 12,
   "metadata": {
    "ExecuteTime": {
     "end_time": "2020-02-01T15:22:33.074865Z",
     "start_time": "2020-02-01T15:22:32.921717Z"
    },
    "scrolled": false
   },
   "outputs": [
    {
     "name": "stdout",
     "output_type": "stream",
     "text": [
      "0.058445930481\n"
     ]
    }
   ],
   "source": [
    "tlog.cash = capital\n",
    "tlog.position = None\n",
    "tlog.previous_position = None\n",
    "start_flag = True\n",
    "end_flag = False\n",
    "\n",
    "import time\n",
    "t0 = time.time()\n",
    "\n",
    "for i, row in enumerate(ts.itertuples()):\n",
    "\n",
    "    date = row.Index.to_pydatetime()\n",
    "    high = row.high\n",
    "    low = row.low\n",
    "    close = row.close\n",
    "    sma50 = row.sma50\n",
    "    sma200 = row.sma200\n",
    "    other_high = getattr(row, other_symbol + '_high')\n",
    "    other_low = getattr(row, other_symbol + '_low')\n",
    "    other_close = getattr(row, other_symbol + '_close')\n",
    "    end_flag = True if (i == len(ts) - 1) else False\n",
    "    shares = 0\n",
    "        \n",
    "    if date < start:\n",
    "        continue\n",
    "    elif start_flag:\n",
    "        start_flag = False\n",
    "        # set start and end\n",
    "        start = date\n",
    "        end = ts.index[-1]\n",
    "        \n",
    "    # last row\n",
    "    if end_flag:\n",
    "        if tlog.position == symbol:\n",
    "            tlog.exit_trade(date, close, symbol=symbol)\n",
    "        elif tlog.position == other_symbol:\n",
    "            tlog.exit_trade(date, other_close, symbol=other_symbol)\n",
    "        tlog.position = None\n",
    "    # buy SPY and sell GLD\n",
    "    elif (tlog.position != symbol\n",
    "          and sma50 > sma200 and ts['sma50'][i-1] <= ts['sma200'][i-1]):\n",
    "        if tlog.position == other_symbol:\n",
    "            tlog.exit_trade(date, other_close, symbol=other_symbol)\n",
    "        tlog.enter_trade(date, close, symbol=symbol)\n",
    "        tlog.position = symbol\n",
    "    # sell SPY and buy GLD\n",
    "    elif (tlog.position == symbol\n",
    "          and sma50 < sma200 and ts['sma50'][i-1] >= ts['sma200'][i-1]):\n",
    "        tlog.exit_trade(date, close, symbol=symbol)\n",
    "        tlog.enter_trade(date, other_close, symbol=other_symbol)\n",
    "        tlog.position = other_symbol\n",
    "    # No position yet, so buy GLD\n",
    "    elif tlog.position is None:\n",
    "        tlog.enter_trade(date, other_close, symbol=other_symbol)\n",
    "        tlog.position = other_symbol\n",
    "\n",
    "    # record daily balance\n",
    "    if tlog.position == other_symbol:\n",
    "        dbal.append(date, other_high, other_low, other_close, tlog.shares, tlog.cash)\n",
    "    else:\n",
    "        dbal.append(date, high, low, close, tlog.shares, tlog.cash)\n",
    "\n",
    "t1 = time.time()\n",
    "total = t1-t0\n",
    "print(total)\n",
    "        "
   ]
  },
  {
   "cell_type": "markdown",
   "metadata": {},
   "source": [
    "Retrieve raw log and trade log DataFrames"
   ]
  },
  {
   "cell_type": "code",
   "execution_count": 13,
   "metadata": {
    "ExecuteTime": {
     "end_time": "2020-02-01T15:22:33.097702Z",
     "start_time": "2020-02-01T15:22:33.085918Z"
    }
   },
   "outputs": [],
   "source": [
    "rlog = tlog.get_log_raw()\n",
    "tlog = tlog.get_log()"
   ]
  },
  {
   "cell_type": "code",
   "execution_count": 14,
   "metadata": {
    "ExecuteTime": {
     "end_time": "2020-02-01T15:22:33.145089Z",
     "start_time": "2020-02-01T15:22:33.102629Z"
    }
   },
   "outputs": [
    {
     "data": {
      "text/html": [
       "<div>\n",
       "<style scoped>\n",
       "    .dataframe tbody tr th:only-of-type {\n",
       "        vertical-align: middle;\n",
       "    }\n",
       "\n",
       "    .dataframe tbody tr th {\n",
       "        vertical-align: top;\n",
       "    }\n",
       "\n",
       "    .dataframe thead th {\n",
       "        text-align: right;\n",
       "    }\n",
       "</style>\n",
       "<table border=\"1\" class=\"dataframe\">\n",
       "  <thead>\n",
       "    <tr style=\"text-align: right;\">\n",
       "      <th></th>\n",
       "      <th>date</th>\n",
       "      <th>price</th>\n",
       "      <th>shares</th>\n",
       "      <th>entry_exit</th>\n",
       "      <th>symbol</th>\n",
       "    </tr>\n",
       "  </thead>\n",
       "  <tbody>\n",
       "    <tr>\n",
       "      <th>8</th>\n",
       "      <td>2010-07-07</td>\n",
       "      <td>117.73</td>\n",
       "      <td>176</td>\n",
       "      <td>entry</td>\n",
       "      <td>GLD</td>\n",
       "    </tr>\n",
       "    <tr>\n",
       "      <th>9</th>\n",
       "      <td>2010-10-13</td>\n",
       "      <td>134.07</td>\n",
       "      <td>176</td>\n",
       "      <td>exit</td>\n",
       "      <td>GLD</td>\n",
       "    </tr>\n",
       "    <tr>\n",
       "      <th>10</th>\n",
       "      <td>2010-10-13</td>\n",
       "      <td>97.93</td>\n",
       "      <td>241</td>\n",
       "      <td>entry</td>\n",
       "      <td>SPY</td>\n",
       "    </tr>\n",
       "    <tr>\n",
       "      <th>11</th>\n",
       "      <td>2011-08-17</td>\n",
       "      <td>100.83</td>\n",
       "      <td>241</td>\n",
       "      <td>exit</td>\n",
       "      <td>SPY</td>\n",
       "    </tr>\n",
       "    <tr>\n",
       "      <th>12</th>\n",
       "      <td>2011-08-17</td>\n",
       "      <td>174.42</td>\n",
       "      <td>139</td>\n",
       "      <td>entry</td>\n",
       "      <td>GLD</td>\n",
       "    </tr>\n",
       "    <tr>\n",
       "      <th>13</th>\n",
       "      <td>2012-01-23</td>\n",
       "      <td>163.16</td>\n",
       "      <td>139</td>\n",
       "      <td>exit</td>\n",
       "      <td>GLD</td>\n",
       "    </tr>\n",
       "    <tr>\n",
       "      <th>14</th>\n",
       "      <td>2012-01-23</td>\n",
       "      <td>112.18</td>\n",
       "      <td>202</td>\n",
       "      <td>entry</td>\n",
       "      <td>SPY</td>\n",
       "    </tr>\n",
       "    <tr>\n",
       "      <th>15</th>\n",
       "      <td>2015-09-03</td>\n",
       "      <td>178.86</td>\n",
       "      <td>202</td>\n",
       "      <td>exit</td>\n",
       "      <td>SPY</td>\n",
       "    </tr>\n",
       "    <tr>\n",
       "      <th>16</th>\n",
       "      <td>2015-09-03</td>\n",
       "      <td>107.84</td>\n",
       "      <td>335</td>\n",
       "      <td>entry</td>\n",
       "      <td>GLD</td>\n",
       "    </tr>\n",
       "    <tr>\n",
       "      <th>17</th>\n",
       "      <td>2015-12-09</td>\n",
       "      <td>102.64</td>\n",
       "      <td>335</td>\n",
       "      <td>exit</td>\n",
       "      <td>GLD</td>\n",
       "    </tr>\n",
       "    <tr>\n",
       "      <th>18</th>\n",
       "      <td>2015-12-09</td>\n",
       "      <td>188.79</td>\n",
       "      <td>182</td>\n",
       "      <td>entry</td>\n",
       "      <td>SPY</td>\n",
       "    </tr>\n",
       "    <tr>\n",
       "      <th>19</th>\n",
       "      <td>2016-01-15</td>\n",
       "      <td>173.70</td>\n",
       "      <td>182</td>\n",
       "      <td>exit</td>\n",
       "      <td>SPY</td>\n",
       "    </tr>\n",
       "    <tr>\n",
       "      <th>20</th>\n",
       "      <td>2016-01-15</td>\n",
       "      <td>104.08</td>\n",
       "      <td>304</td>\n",
       "      <td>entry</td>\n",
       "      <td>GLD</td>\n",
       "    </tr>\n",
       "    <tr>\n",
       "      <th>21</th>\n",
       "      <td>2016-04-20</td>\n",
       "      <td>118.97</td>\n",
       "      <td>304</td>\n",
       "      <td>exit</td>\n",
       "      <td>GLD</td>\n",
       "    </tr>\n",
       "    <tr>\n",
       "      <th>22</th>\n",
       "      <td>2016-04-20</td>\n",
       "      <td>195.32</td>\n",
       "      <td>185</td>\n",
       "      <td>entry</td>\n",
       "      <td>SPY</td>\n",
       "    </tr>\n",
       "    <tr>\n",
       "      <th>23</th>\n",
       "      <td>2018-12-12</td>\n",
       "      <td>259.01</td>\n",
       "      <td>185</td>\n",
       "      <td>exit</td>\n",
       "      <td>SPY</td>\n",
       "    </tr>\n",
       "    <tr>\n",
       "      <th>24</th>\n",
       "      <td>2018-12-12</td>\n",
       "      <td>117.79</td>\n",
       "      <td>407</td>\n",
       "      <td>entry</td>\n",
       "      <td>GLD</td>\n",
       "    </tr>\n",
       "    <tr>\n",
       "      <th>25</th>\n",
       "      <td>2019-03-26</td>\n",
       "      <td>124.30</td>\n",
       "      <td>407</td>\n",
       "      <td>exit</td>\n",
       "      <td>GLD</td>\n",
       "    </tr>\n",
       "    <tr>\n",
       "      <th>26</th>\n",
       "      <td>2019-03-26</td>\n",
       "      <td>277.11</td>\n",
       "      <td>182</td>\n",
       "      <td>entry</td>\n",
       "      <td>SPY</td>\n",
       "    </tr>\n",
       "    <tr>\n",
       "      <th>27</th>\n",
       "      <td>2020-01-31</td>\n",
       "      <td>321.73</td>\n",
       "      <td>182</td>\n",
       "      <td>exit</td>\n",
       "      <td>SPY</td>\n",
       "    </tr>\n",
       "  </tbody>\n",
       "</table>\n",
       "</div>"
      ],
      "text/plain": [
       "         date  price  shares entry_exit symbol\n",
       "8  2010-07-07 117.73     176      entry    GLD\n",
       "9  2010-10-13 134.07     176       exit    GLD\n",
       "10 2010-10-13  97.93     241      entry    SPY\n",
       "11 2011-08-17 100.83     241       exit    SPY\n",
       "12 2011-08-17 174.42     139      entry    GLD\n",
       "13 2012-01-23 163.16     139       exit    GLD\n",
       "14 2012-01-23 112.18     202      entry    SPY\n",
       "15 2015-09-03 178.86     202       exit    SPY\n",
       "16 2015-09-03 107.84     335      entry    GLD\n",
       "17 2015-12-09 102.64     335       exit    GLD\n",
       "18 2015-12-09 188.79     182      entry    SPY\n",
       "19 2016-01-15 173.70     182       exit    SPY\n",
       "20 2016-01-15 104.08     304      entry    GLD\n",
       "21 2016-04-20 118.97     304       exit    GLD\n",
       "22 2016-04-20 195.32     185      entry    SPY\n",
       "23 2018-12-12 259.01     185       exit    SPY\n",
       "24 2018-12-12 117.79     407      entry    GLD\n",
       "25 2019-03-26 124.30     407       exit    GLD\n",
       "26 2019-03-26 277.11     182      entry    SPY\n",
       "27 2020-01-31 321.73     182       exit    SPY"
      ]
     },
     "execution_count": 14,
     "metadata": {},
     "output_type": "execute_result"
    }
   ],
   "source": [
    "rlog.tail(20)"
   ]
  },
  {
   "cell_type": "code",
   "execution_count": 15,
   "metadata": {
    "ExecuteTime": {
     "end_time": "2020-02-01T15:22:33.198023Z",
     "start_time": "2020-02-01T15:22:33.152566Z"
    }
   },
   "outputs": [
    {
     "data": {
      "text/html": [
       "<div>\n",
       "<style scoped>\n",
       "    .dataframe tbody tr th:only-of-type {\n",
       "        vertical-align: middle;\n",
       "    }\n",
       "\n",
       "    .dataframe tbody tr th {\n",
       "        vertical-align: top;\n",
       "    }\n",
       "\n",
       "    .dataframe thead th {\n",
       "        text-align: right;\n",
       "    }\n",
       "</style>\n",
       "<table border=\"1\" class=\"dataframe\">\n",
       "  <thead>\n",
       "    <tr style=\"text-align: right;\">\n",
       "      <th></th>\n",
       "      <th>entry_date</th>\n",
       "      <th>entry_price</th>\n",
       "      <th>exit_date</th>\n",
       "      <th>exit_price</th>\n",
       "      <th>pl_points</th>\n",
       "      <th>pl_cash</th>\n",
       "      <th>qty</th>\n",
       "      <th>cumul_total</th>\n",
       "      <th>symbol</th>\n",
       "    </tr>\n",
       "  </thead>\n",
       "  <tbody>\n",
       "    <tr>\n",
       "      <th>4</th>\n",
       "      <td>2010-07-07</td>\n",
       "      <td>117.73</td>\n",
       "      <td>2010-10-13</td>\n",
       "      <td>134.07</td>\n",
       "      <td>16.34</td>\n",
       "      <td>2875.84</td>\n",
       "      <td>176</td>\n",
       "      <td>13623.95</td>\n",
       "      <td>GLD</td>\n",
       "    </tr>\n",
       "    <tr>\n",
       "      <th>5</th>\n",
       "      <td>2010-10-13</td>\n",
       "      <td>97.93</td>\n",
       "      <td>2011-08-17</td>\n",
       "      <td>100.83</td>\n",
       "      <td>2.91</td>\n",
       "      <td>700.68</td>\n",
       "      <td>241</td>\n",
       "      <td>14324.63</td>\n",
       "      <td>SPY</td>\n",
       "    </tr>\n",
       "    <tr>\n",
       "      <th>6</th>\n",
       "      <td>2011-08-17</td>\n",
       "      <td>174.42</td>\n",
       "      <td>2012-01-23</td>\n",
       "      <td>163.16</td>\n",
       "      <td>-11.26</td>\n",
       "      <td>-1565.14</td>\n",
       "      <td>139</td>\n",
       "      <td>12759.49</td>\n",
       "      <td>GLD</td>\n",
       "    </tr>\n",
       "    <tr>\n",
       "      <th>7</th>\n",
       "      <td>2012-01-23</td>\n",
       "      <td>112.18</td>\n",
       "      <td>2015-09-03</td>\n",
       "      <td>178.86</td>\n",
       "      <td>66.69</td>\n",
       "      <td>13470.87</td>\n",
       "      <td>202</td>\n",
       "      <td>26230.36</td>\n",
       "      <td>SPY</td>\n",
       "    </tr>\n",
       "    <tr>\n",
       "      <th>8</th>\n",
       "      <td>2015-09-03</td>\n",
       "      <td>107.84</td>\n",
       "      <td>2015-12-09</td>\n",
       "      <td>102.64</td>\n",
       "      <td>-5.20</td>\n",
       "      <td>-1742.00</td>\n",
       "      <td>335</td>\n",
       "      <td>24488.36</td>\n",
       "      <td>GLD</td>\n",
       "    </tr>\n",
       "    <tr>\n",
       "      <th>9</th>\n",
       "      <td>2015-12-09</td>\n",
       "      <td>188.79</td>\n",
       "      <td>2016-01-15</td>\n",
       "      <td>173.70</td>\n",
       "      <td>-15.09</td>\n",
       "      <td>-2746.33</td>\n",
       "      <td>182</td>\n",
       "      <td>21742.02</td>\n",
       "      <td>SPY</td>\n",
       "    </tr>\n",
       "    <tr>\n",
       "      <th>10</th>\n",
       "      <td>2016-01-15</td>\n",
       "      <td>104.08</td>\n",
       "      <td>2016-04-20</td>\n",
       "      <td>118.97</td>\n",
       "      <td>14.89</td>\n",
       "      <td>4526.56</td>\n",
       "      <td>304</td>\n",
       "      <td>26268.58</td>\n",
       "      <td>GLD</td>\n",
       "    </tr>\n",
       "    <tr>\n",
       "      <th>11</th>\n",
       "      <td>2016-04-20</td>\n",
       "      <td>195.32</td>\n",
       "      <td>2018-12-12</td>\n",
       "      <td>259.01</td>\n",
       "      <td>63.69</td>\n",
       "      <td>11782.99</td>\n",
       "      <td>185</td>\n",
       "      <td>38051.57</td>\n",
       "      <td>SPY</td>\n",
       "    </tr>\n",
       "    <tr>\n",
       "      <th>12</th>\n",
       "      <td>2018-12-12</td>\n",
       "      <td>117.79</td>\n",
       "      <td>2019-03-26</td>\n",
       "      <td>124.30</td>\n",
       "      <td>6.51</td>\n",
       "      <td>2649.57</td>\n",
       "      <td>407</td>\n",
       "      <td>40701.14</td>\n",
       "      <td>GLD</td>\n",
       "    </tr>\n",
       "    <tr>\n",
       "      <th>13</th>\n",
       "      <td>2019-03-26</td>\n",
       "      <td>277.11</td>\n",
       "      <td>2020-01-31</td>\n",
       "      <td>321.73</td>\n",
       "      <td>44.62</td>\n",
       "      <td>8120.67</td>\n",
       "      <td>182</td>\n",
       "      <td>48821.81</td>\n",
       "      <td>SPY</td>\n",
       "    </tr>\n",
       "  </tbody>\n",
       "</table>\n",
       "</div>"
      ],
      "text/plain": [
       "   entry_date  entry_price  exit_date  exit_price  pl_points  pl_cash  qty  \\\n",
       "4  2010-07-07       117.73 2010-10-13      134.07      16.34  2875.84  176   \n",
       "5  2010-10-13        97.93 2011-08-17      100.83       2.91   700.68  241   \n",
       "6  2011-08-17       174.42 2012-01-23      163.16     -11.26 -1565.14  139   \n",
       "7  2012-01-23       112.18 2015-09-03      178.86      66.69 13470.87  202   \n",
       "8  2015-09-03       107.84 2015-12-09      102.64      -5.20 -1742.00  335   \n",
       "9  2015-12-09       188.79 2016-01-15      173.70     -15.09 -2746.33  182   \n",
       "10 2016-01-15       104.08 2016-04-20      118.97      14.89  4526.56  304   \n",
       "11 2016-04-20       195.32 2018-12-12      259.01      63.69 11782.99  185   \n",
       "12 2018-12-12       117.79 2019-03-26      124.30       6.51  2649.57  407   \n",
       "13 2019-03-26       277.11 2020-01-31      321.73      44.62  8120.67  182   \n",
       "\n",
       "    cumul_total symbol  \n",
       "4      13623.95    GLD  \n",
       "5      14324.63    SPY  \n",
       "6      12759.49    GLD  \n",
       "7      26230.36    SPY  \n",
       "8      24488.36    GLD  \n",
       "9      21742.02    SPY  \n",
       "10     26268.58    GLD  \n",
       "11     38051.57    SPY  \n",
       "12     40701.14    GLD  \n",
       "13     48821.81    SPY  "
      ]
     },
     "execution_count": 15,
     "metadata": {},
     "output_type": "execute_result"
    }
   ],
   "source": [
    "tlog.tail(10)"
   ]
  },
  {
   "cell_type": "code",
   "execution_count": 16,
   "metadata": {
    "ExecuteTime": {
     "end_time": "2020-02-01T15:22:33.510065Z",
     "start_time": "2020-02-01T15:22:33.201387Z"
    }
   },
   "outputs": [
    {
     "data": {
      "text/html": [
       "<div>\n",
       "<style scoped>\n",
       "    .dataframe tbody tr th:only-of-type {\n",
       "        vertical-align: middle;\n",
       "    }\n",
       "\n",
       "    .dataframe tbody tr th {\n",
       "        vertical-align: top;\n",
       "    }\n",
       "\n",
       "    .dataframe thead th {\n",
       "        text-align: right;\n",
       "    }\n",
       "</style>\n",
       "<table border=\"1\" class=\"dataframe\">\n",
       "  <thead>\n",
       "    <tr style=\"text-align: right;\">\n",
       "      <th></th>\n",
       "      <th>high</th>\n",
       "      <th>low</th>\n",
       "      <th>close</th>\n",
       "      <th>shares</th>\n",
       "      <th>cash</th>\n",
       "      <th>state</th>\n",
       "    </tr>\n",
       "    <tr>\n",
       "      <th>date</th>\n",
       "      <th></th>\n",
       "      <th></th>\n",
       "      <th></th>\n",
       "      <th></th>\n",
       "      <th></th>\n",
       "      <th></th>\n",
       "    </tr>\n",
       "  </thead>\n",
       "  <tbody>\n",
       "    <tr>\n",
       "      <th>2020-01-27</th>\n",
       "      <td>59438.79</td>\n",
       "      <td>58991.07</td>\n",
       "      <td>59143.95</td>\n",
       "      <td>182</td>\n",
       "      <td>266.95</td>\n",
       "      <td>-</td>\n",
       "    </tr>\n",
       "    <tr>\n",
       "      <th>2020-01-28</th>\n",
       "      <td>59935.65</td>\n",
       "      <td>59162.15</td>\n",
       "      <td>59760.93</td>\n",
       "      <td>182</td>\n",
       "      <td>266.95</td>\n",
       "      <td>-</td>\n",
       "    </tr>\n",
       "    <tr>\n",
       "      <th>2020-01-29</th>\n",
       "      <td>60077.61</td>\n",
       "      <td>59671.75</td>\n",
       "      <td>59711.79</td>\n",
       "      <td>182</td>\n",
       "      <td>266.95</td>\n",
       "      <td>-</td>\n",
       "    </tr>\n",
       "    <tr>\n",
       "      <th>2020-01-30</th>\n",
       "      <td>59946.57</td>\n",
       "      <td>59151.23</td>\n",
       "      <td>59904.71</td>\n",
       "      <td>182</td>\n",
       "      <td>266.95</td>\n",
       "      <td>-</td>\n",
       "    </tr>\n",
       "    <tr>\n",
       "      <th>2020-01-31</th>\n",
       "      <td>58821.81</td>\n",
       "      <td>58821.81</td>\n",
       "      <td>58821.81</td>\n",
       "      <td>0</td>\n",
       "      <td>58821.81</td>\n",
       "      <td>X</td>\n",
       "    </tr>\n",
       "  </tbody>\n",
       "</table>\n",
       "</div>"
      ],
      "text/plain": [
       "               high      low    close  shares     cash state\n",
       "date                                                        \n",
       "2020-01-27 59438.79 58991.07 59143.95     182   266.95     -\n",
       "2020-01-28 59935.65 59162.15 59760.93     182   266.95     -\n",
       "2020-01-29 60077.61 59671.75 59711.79     182   266.95     -\n",
       "2020-01-30 59946.57 59151.23 59904.71     182   266.95     -\n",
       "2020-01-31 58821.81 58821.81 58821.81       0 58821.81     X"
      ]
     },
     "execution_count": 16,
     "metadata": {},
     "output_type": "execute_result"
    }
   ],
   "source": [
    "dbal = dbal.get_log(tlog)\n",
    "dbal.tail()"
   ]
  },
  {
   "cell_type": "markdown",
   "metadata": {},
   "source": [
    "Generate strategy stats - display all available stats"
   ]
  },
  {
   "cell_type": "code",
   "execution_count": 17,
   "metadata": {
    "ExecuteTime": {
     "end_time": "2020-02-01T15:22:33.774044Z",
     "start_time": "2020-02-01T15:22:33.514970Z"
    }
   },
   "outputs": [
    {
     "name": "stdout",
     "output_type": "stream",
     "text": [
      "start                                                   2005-09-02\n",
      "end                                                     2020-01-31\n",
      "beginning_balance                                            10000\n",
      "ending_balance                                            58821.81\n",
      "total_net_profit                                          48821.81\n",
      "gross_profit                                              54875.29\n",
      "gross_loss                                                -6053.47\n",
      "profit_factor                                                 9.07\n",
      "return_on_initial_capital                                   488.22\n",
      "annual_return_rate                                           13.08\n",
      "trading_period                           14 years 4 months 29 days\n",
      "pct_time_in_market                                          100.00\n",
      "total_num_trades                                                14\n",
      "trades_per_year                                               0.97\n",
      "num_winning_trades                                              11\n",
      "num_losing_trades                                                3\n",
      "num_even_trades                                                  0\n",
      "pct_profitable_trades                                        78.57\n",
      "avg_profit_per_trade                                       3487.27\n",
      "avg_profit_per_winning_trade                               4988.66\n",
      "avg_loss_per_losing_trade                                 -2017.82\n",
      "ratio_avg_profit_win_loss                                     2.47\n",
      "largest_profit_winning_trade                              13470.87\n",
      "largest_loss_losing_trade                                 -2746.33\n",
      "num_winning_points                                          270.18\n",
      "num_losing_points                                           -31.55\n",
      "total_net_points                                            238.63\n",
      "avg_points                                                   17.04\n",
      "largest_points_winning_trade                                 66.69\n",
      "largest_points_losing_trade                                 -15.09\n",
      "avg_pct_gain_per_trade                                       14.83\n",
      "largest_pct_winning_trade                                    59.45\n",
      "largest_pct_losing_trade                                     -7.99\n",
      "max_consecutive_winning_trades                                   6\n",
      "max_consecutive_losing_trades                                    2\n",
      "avg_bars_winning_trades                                     312.45\n",
      "avg_bars_losing_trades                                       67.67\n",
      "max_closed_out_drawdown                                     -29.39\n",
      "max_closed_out_drawdown_start_date                      2008-03-17\n",
      "max_closed_out_drawdown_end_date                        2008-11-12\n",
      "max_closed_out_drawdown_recovery_date                   2009-08-03\n",
      "drawdown_recovery                                            -0.66\n",
      "drawdown_annualized_return                                   -2.25\n",
      "max_intra_day_drawdown                                      -34.26\n",
      "avg_yearly_closed_out_drawdown                              -12.77\n",
      "max_yearly_closed_out_drawdown                              -29.39\n",
      "avg_monthly_closed_out_drawdown                              -3.76\n",
      "max_monthly_closed_out_drawdown                             -21.40\n",
      "avg_weekly_closed_out_drawdown                               -1.50\n",
      "max_weekly_closed_out_drawdown                              -13.91\n",
      "avg_yearly_closed_out_runup                                  25.35\n",
      "max_yearly_closed_out_runup                                  60.46\n",
      "avg_monthly_closed_out_runup                                  4.81\n",
      "max_monthly_closed_out_runup                                 22.99\n",
      "avg_weekly_closed_out_runup                                   1.78\n",
      "max_weekly_closed_out_runup                                  16.92\n",
      "pct_profitable_years                                         81.84\n",
      "best_year                                                    56.21\n",
      "worst_year                                                  -17.26\n",
      "avg_year                                                     12.21\n",
      "annual_std                                                   12.61\n",
      "pct_profitable_months                                        66.37\n",
      "best_month                                                   22.99\n",
      "worst_month                                                 -19.65\n",
      "avg_month                                                     1.08\n",
      "monthly_std                                                   4.49\n",
      "pct_profitable_weeks                                         60.30\n",
      "best_week                                                    15.13\n",
      "worst_week                                                  -13.91\n",
      "avg_week                                                      0.27\n",
      "weekly_std                                                    2.38\n",
      "sharpe_ratio                                                  0.80\n",
      "sortino_ratio                                                 1.00\n",
      "dtype: object\n"
     ]
    }
   ],
   "source": [
    "stats = pf.stats(ts, tlog, dbal, start, end, capital)\n",
    "pf.print_full(stats)"
   ]
  },
  {
   "cell_type": "markdown",
   "metadata": {},
   "source": [
    "Run Benchmark"
   ]
  },
  {
   "cell_type": "code",
   "execution_count": 18,
   "metadata": {
    "ExecuteTime": {
     "end_time": "2020-02-01T15:22:33.879109Z",
     "start_time": "2020-02-01T15:22:33.784452Z"
    }
   },
   "outputs": [
    {
     "name": "stdout",
     "output_type": "stream",
     "text": [
      "2005-09-02 00:00:00 BUY  109 SPY @ 91.23\n",
      "2020-01-31 00:00:00 SELL 109 SPY @ 321.73\n"
     ]
    }
   ],
   "source": [
    "benchmark = pf.Benchmark(symbol, capital, start, end, use_adj)\n",
    "benchmark.run()"
   ]
  },
  {
   "cell_type": "markdown",
   "metadata": {},
   "source": [
    "Retrieve benchmark logs"
   ]
  },
  {
   "cell_type": "code",
   "execution_count": 19,
   "metadata": {
    "ExecuteTime": {
     "end_time": "2020-02-01T15:22:34.153185Z",
     "start_time": "2020-02-01T15:22:33.887158Z"
    }
   },
   "outputs": [],
   "source": [
    "benchmark.tlog, benchmark.dbal = benchmark.get_logs()"
   ]
  },
  {
   "cell_type": "markdown",
   "metadata": {},
   "source": [
    "Generate benchmark stats"
   ]
  },
  {
   "cell_type": "code",
   "execution_count": 20,
   "metadata": {
    "ExecuteTime": {
     "end_time": "2020-02-01T15:22:34.331129Z",
     "start_time": "2020-02-01T15:22:34.163726Z"
    },
    "scrolled": false
   },
   "outputs": [],
   "source": [
    "benchmark.stats = benchmark.get_stats()"
   ]
  },
  {
   "cell_type": "markdown",
   "metadata": {},
   "source": [
    "Plot Equity Curves: Strategy vs Benchmark"
   ]
  },
  {
   "cell_type": "code",
   "execution_count": 21,
   "metadata": {
    "ExecuteTime": {
     "end_time": "2020-02-01T15:22:34.641504Z",
     "start_time": "2020-02-01T15:22:34.337982Z"
    }
   },
   "outputs": [
    {
     "data": {
      "image/png": "[encoded data removed]",
      "text/plain": [
       "<Figure size 720x504 with 1 Axes>"
      ]
     },
     "metadata": {
      "needs_background": "light"
     },
     "output_type": "display_data"
    }
   ],
   "source": [
    "pf.plot_equity_curve(dbal, benchmark=benchmark.dbal)"
   ]
  },
  {
   "cell_type": "markdown",
   "metadata": {},
   "source": [
    "Plot Trades - this graph requires some interpretation.  The black up arrows represent a sell/buy pair.  Either SPY/GLD sell/buy or GLD/SPY sell/buy.  These will alternate.  If the market is starting to fall, SPY is traded out for GLD.  If the market is starting to rise, the GLD is traded out for SPY."
   ]
  },
  {
   "cell_type": "code",
   "execution_count": 22,
   "metadata": {
    "ExecuteTime": {
     "end_time": "2020-02-01T15:22:34.952140Z",
     "start_time": "2020-02-01T15:22:34.651163Z"
    }
   },
   "outputs": [
    {
     "data": {
      "image/png": "[encoded data removed]",
      "text/plain": [
       "<Figure size 720x504 with 1 Axes>"
      ]
     },
     "metadata": {
      "needs_background": "light"
     },
     "output_type": "display_data"
    }
   ],
   "source": [
    "\n",
    "pf.plot_trades(dbal, benchmark=benchmark.dbal)"
   ]
  },
  {
   "cell_type": "markdown",
   "metadata": {},
   "source": [
    "Strategy vs Benchmark"
   ]
  },
  {
   "cell_type": "code",
   "execution_count": 23,
   "metadata": {
    "ExecuteTime": {
     "end_time": "2020-02-01T15:22:34.981489Z",
     "start_time": "2020-02-01T15:22:34.956399Z"
    }
   },
   "outputs": [
    {
     "data": {
      "text/html": [
       "<div>\n",
       "<style scoped>\n",
       "    .dataframe tbody tr th:only-of-type {\n",
       "        vertical-align: middle;\n",
       "    }\n",
       "\n",
       "    .dataframe tbody tr th {\n",
       "        vertical-align: top;\n",
       "    }\n",
       "\n",
       "    .dataframe thead th {\n",
       "        text-align: right;\n",
       "    }\n",
       "</style>\n",
       "<table border=\"1\" class=\"dataframe\">\n",
       "  <thead>\n",
       "    <tr style=\"text-align: right;\">\n",
       "      <th></th>\n",
       "      <th>strategy</th>\n",
       "      <th>benchmark</th>\n",
       "    </tr>\n",
       "  </thead>\n",
       "  <tbody>\n",
       "    <tr>\n",
       "      <th>beginning_balance</th>\n",
       "      <td>$10,000.00</td>\n",
       "      <td>$10,000.00</td>\n",
       "    </tr>\n",
       "    <tr>\n",
       "      <th>ending_balance</th>\n",
       "      <td>$58,821.81</td>\n",
       "      <td>$35,123.98</td>\n",
       "    </tr>\n",
       "    <tr>\n",
       "      <th>total_net_profit</th>\n",
       "      <td>$48,821.81</td>\n",
       "      <td>$25,123.98</td>\n",
       "    </tr>\n",
       "    <tr>\n",
       "      <th>gross_profit</th>\n",
       "      <td>$54,875.29</td>\n",
       "      <td>$25,123.98</td>\n",
       "    </tr>\n",
       "    <tr>\n",
       "      <th>gross_loss</th>\n",
       "      <td>-$6,053.47</td>\n",
       "      <td>$0.00</td>\n",
       "    </tr>\n",
       "  </tbody>\n",
       "</table>\n",
       "</div>"
      ],
      "text/plain": [
       "                     strategy   benchmark\n",
       "beginning_balance  $10,000.00  $10,000.00\n",
       "ending_balance     $58,821.81  $35,123.98\n",
       "total_net_profit   $48,821.81  $25,123.98\n",
       "gross_profit       $54,875.29  $25,123.98\n",
       "gross_loss         -$6,053.47       $0.00"
      ]
     },
     "execution_count": 23,
     "metadata": {},
     "output_type": "execute_result"
    }
   ],
   "source": [
    "df = pf.summary5(stats, benchmark.stats)\n",
    "df"
   ]
  },
  {
   "cell_type": "code",
   "execution_count": 24,
   "metadata": {
    "ExecuteTime": {
     "end_time": "2020-02-01T15:22:35.468163Z",
     "start_time": "2020-02-01T15:22:34.991862Z"
    },
    "scrolled": false
   },
   "outputs": [
    {
     "data": {
      "text/html": [
       "<div>\n",
       "<style scoped>\n",
       "    .dataframe tbody tr th:only-of-type {\n",
       "        vertical-align: middle;\n",
       "    }\n",
       "\n",
       "    .dataframe tbody tr th {\n",
       "        vertical-align: top;\n",
       "    }\n",
       "\n",
       "    .dataframe thead th {\n",
       "        text-align: right;\n",
       "    }\n",
       "</style>\n",
       "<table border=\"1\" class=\"dataframe\">\n",
       "  <thead>\n",
       "    <tr style=\"text-align: right;\">\n",
       "      <th></th>\n",
       "      <th>strategy</th>\n",
       "      <th>benchmark</th>\n",
       "    </tr>\n",
       "  </thead>\n",
       "  <tbody>\n",
       "    <tr>\n",
       "      <th>annual_return_rate</th>\n",
       "      <td>13.08</td>\n",
       "      <td>9.11</td>\n",
       "    </tr>\n",
       "    <tr>\n",
       "      <th>max_closed_out_drawdown</th>\n",
       "      <td>-29.39</td>\n",
       "      <td>-54.96</td>\n",
       "    </tr>\n",
       "    <tr>\n",
       "      <th>drawdown_annualized_return</th>\n",
       "      <td>-2.25</td>\n",
       "      <td>-6.03</td>\n",
       "    </tr>\n",
       "    <tr>\n",
       "      <th>drawdown_recovery</th>\n",
       "      <td>-0.66</td>\n",
       "      <td>-1.42</td>\n",
       "    </tr>\n",
       "    <tr>\n",
       "      <th>best_month</th>\n",
       "      <td>22.99</td>\n",
       "      <td>23.40</td>\n",
       "    </tr>\n",
       "    <tr>\n",
       "      <th>worst_month</th>\n",
       "      <td>-19.65</td>\n",
       "      <td>-29.26</td>\n",
       "    </tr>\n",
       "    <tr>\n",
       "      <th>sharpe_ratio</th>\n",
       "      <td>0.80</td>\n",
       "      <td>0.56</td>\n",
       "    </tr>\n",
       "    <tr>\n",
       "      <th>sortino_ratio</th>\n",
       "      <td>1.00</td>\n",
       "      <td>0.69</td>\n",
       "    </tr>\n",
       "    <tr>\n",
       "      <th>monthly_std</th>\n",
       "      <td>4.49</td>\n",
       "      <td>4.25</td>\n",
       "    </tr>\n",
       "    <tr>\n",
       "      <th>trades_per_year</th>\n",
       "      <td>0.97</td>\n",
       "      <td>0.07</td>\n",
       "    </tr>\n",
       "  </tbody>\n",
       "</table>\n",
       "</div>"
      ],
      "text/plain": [
       "                            strategy  benchmark\n",
       "annual_return_rate             13.08       9.11\n",
       "max_closed_out_drawdown       -29.39     -54.96\n",
       "drawdown_annualized_return     -2.25      -6.03\n",
       "drawdown_recovery              -0.66      -1.42\n",
       "best_month                     22.99      23.40\n",
       "worst_month                   -19.65     -29.26\n",
       "sharpe_ratio                    0.80       0.56\n",
       "sortino_ratio                   1.00       0.69\n",
       "monthly_std                     4.49       4.25\n",
       "trades_per_year                 0.97       0.07"
      ]
     },
     "execution_count": 24,
     "metadata": {},
     "output_type": "execute_result"
    },
    {
     "data": {
      "image/png": "[encoded data removed]",
      "text/plain": [
       "<Figure size 720x504 with 1 Axes>"
      ]
     },
     "metadata": {
      "needs_background": "light"
     },
     "output_type": "display_data"
    }
   ],
   "source": [
    "metrics = ('annual_return_rate',\n",
    "           'max_closed_out_drawdown',\n",
    "           'drawdown_annualized_return',\n",
    "           'drawdown_recovery',\n",
    "           'best_month',\n",
    "           'worst_month',\n",
    "           'sharpe_ratio',\n",
    "           'sortino_ratio',\n",
    "           'monthly_std',\n",
    "           'trades_per_year')\n",
    "\n",
    "df = pf.plot_bar_graph(stats, benchmark.stats, *metrics)\n",
    "df"
   ]
  }
 ],
 "metadata": {
  "kernelspec": {
   "display_name": "Python 2",
   "language": "python",
   "name": "python2"
  },
  "language_info": {
   "codemirror_mode": {
    "name": "ipython",
    "version": 2
   },
   "file_extension": ".py",
   "mimetype": "text/x-python",
   "name": "python",
   "nbconvert_exporter": "python",
   "pygments_lexer": "ipython2",
   "version": "2.7.15+"
  },
  "latex_envs": {
   "LaTeX_envs_menu_present": true,
   "autoclose": false,
   "autocomplete": true,
   "bibliofile": "biblio.bib",
   "cite_by": "apalike",
   "current_citInitial": 1,
   "eqLabelWithNumbers": true,
   "eqNumInitial": 1,
   "hotkeys": {
    "equation": "Ctrl-E",
    "itemize": "Ctrl-I"
   },
   "labels_anchors": false,
   "latex_user_defs": false,
   "report_style_numbering": false,
   "user_envs_cfg": false
  }
 },
 "nbformat": 4,
 "nbformat_minor": 1
}
