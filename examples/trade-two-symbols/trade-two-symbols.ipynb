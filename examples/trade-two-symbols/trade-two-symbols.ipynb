{
 "cells": [
  {
   "cell_type": "markdown",
   "metadata": {},
   "source": [
    "# Golden Cross / Death Cross SPY (GLD)\n",
    "\n",
    "    1. sma50>sma200, buy SPY\n",
    "    2. sma50<sma200, sell your long SPY position\n",
    "    3. when out of your SPY position, hold GLD"
   ]
  },
  {
   "cell_type": "code",
   "execution_count": 1,
   "metadata": {
    "ExecuteTime": {
     "end_time": "2020-02-17T05:42:08.798393Z",
     "start_time": "2020-02-17T05:42:07.455687Z"
    }
   },
   "outputs": [],
   "source": [
    "# use future imports for python 3.x forward compatibility\n",
    "from __future__ import print_function\n",
    "from __future__ import unicode_literals\n",
    "from __future__ import division\n",
    "from __future__ import absolute_import\n",
    "\n",
    "# other imports\n",
    "import pandas as pd\n",
    "import matplotlib.pyplot as plt\n",
    "import datetime\n",
    "from talib.abstract import *\n",
    "\n",
    "# project imports\n",
    "import pinkfish as pf\n",
    "\n",
    "# format price data\n",
    "pd.options.display.float_format = '{:0.2f}'.format\n",
    "\n",
    "%matplotlib inline"
   ]
  },
  {
   "cell_type": "code",
   "execution_count": 2,
   "metadata": {
    "ExecuteTime": {
     "end_time": "2020-02-17T05:42:08.816893Z",
     "start_time": "2020-02-17T05:42:08.808607Z"
    }
   },
   "outputs": [],
   "source": [
    "# set size of inline plots\n",
    "'''note: rcParams can't be in same cell as import matplotlib\n",
    "   or %matplotlib inline\n",
    "   \n",
    "   %matplotlib notebook: will lead to interactive plots embedded within\n",
    "   the notebook, you can zoom and resize the figure\n",
    "   \n",
    "   %matplotlib inline: only draw static images in the notebook\n",
    "'''\n",
    "plt.rcParams[\"figure.figsize\"] = (10, 7)"
   ]
  },
  {
   "cell_type": "markdown",
   "metadata": {},
   "source": [
    "Some global data"
   ]
  },
  {
   "cell_type": "code",
   "execution_count": 3,
   "metadata": {
    "ExecuteTime": {
     "end_time": "2020-02-17T05:42:08.835362Z",
     "start_time": "2020-02-17T05:42:08.821138Z"
    }
   },
   "outputs": [],
   "source": [
    "#symbol = '^GSPC'\n",
    "symbol = 'SPY'\n",
    "other_symbol = 'GLD'\n",
    "#other_symbol = 'TLT'\n",
    "#other_symbol = 'SHY'\n",
    "#other_symbol = 'SH'\n",
    "\n",
    "capital = 10000\n",
    "start = datetime.datetime(1900, 1, 1)\n",
    "#start = datetime.datetime.strptime(pf.SP500_BEGIN, '%Y-%m-%d')\n",
    "end = datetime.datetime.now()"
   ]
  },
  {
   "cell_type": "markdown",
   "metadata": {},
   "source": [
    "Include dividends? (If yes, set to True)"
   ]
  },
  {
   "cell_type": "code",
   "execution_count": 4,
   "metadata": {
    "ExecuteTime": {
     "end_time": "2020-02-17T05:42:08.853668Z",
     "start_time": "2020-02-17T05:42:08.840333Z"
    }
   },
   "outputs": [],
   "source": [
    "use_adj = True"
   ]
  },
  {
   "cell_type": "markdown",
   "metadata": {},
   "source": [
    "Use cache?"
   ]
  },
  {
   "cell_type": "code",
   "execution_count": 5,
   "metadata": {
    "ExecuteTime": {
     "end_time": "2020-02-17T05:42:08.865961Z",
     "start_time": "2020-02-17T05:42:08.857247Z"
    }
   },
   "outputs": [],
   "source": [
    "use_cache = False"
   ]
  },
  {
   "cell_type": "markdown",
   "metadata": {},
   "source": [
    "Fetch symbol data from internet; use cache if available."
   ]
  },
  {
   "cell_type": "code",
   "execution_count": 6,
   "metadata": {
    "ExecuteTime": {
     "end_time": "2020-02-17T05:42:10.368599Z",
     "start_time": "2020-02-17T05:42:08.870851Z"
    }
   },
   "outputs": [
    {
     "data": {
      "text/html": [
       "<div>\n",
       "<style scoped>\n",
       "    .dataframe tbody tr th:only-of-type {\n",
       "        vertical-align: middle;\n",
       "    }\n",
       "\n",
       "    .dataframe tbody tr th {\n",
       "        vertical-align: top;\n",
       "    }\n",
       "\n",
       "    .dataframe thead th {\n",
       "        text-align: right;\n",
       "    }\n",
       "</style>\n",
       "<table border=\"1\" class=\"dataframe\">\n",
       "  <thead>\n",
       "    <tr style=\"text-align: right;\">\n",
       "      <th></th>\n",
       "      <th>high</th>\n",
       "      <th>low</th>\n",
       "      <th>open</th>\n",
       "      <th>close</th>\n",
       "      <th>volume</th>\n",
       "      <th>adj_close</th>\n",
       "    </tr>\n",
       "    <tr>\n",
       "      <th>date</th>\n",
       "      <th></th>\n",
       "      <th></th>\n",
       "      <th></th>\n",
       "      <th></th>\n",
       "      <th></th>\n",
       "      <th></th>\n",
       "    </tr>\n",
       "  </thead>\n",
       "  <tbody>\n",
       "    <tr>\n",
       "      <th>1993-01-29</th>\n",
       "      <td>43.97</td>\n",
       "      <td>43.75</td>\n",
       "      <td>43.97</td>\n",
       "      <td>43.94</td>\n",
       "      <td>1003200.00</td>\n",
       "      <td>26.30</td>\n",
       "    </tr>\n",
       "    <tr>\n",
       "      <th>1993-02-01</th>\n",
       "      <td>44.25</td>\n",
       "      <td>43.97</td>\n",
       "      <td>43.97</td>\n",
       "      <td>44.25</td>\n",
       "      <td>480500.00</td>\n",
       "      <td>26.49</td>\n",
       "    </tr>\n",
       "    <tr>\n",
       "      <th>1993-02-02</th>\n",
       "      <td>44.38</td>\n",
       "      <td>44.12</td>\n",
       "      <td>44.22</td>\n",
       "      <td>44.34</td>\n",
       "      <td>201300.00</td>\n",
       "      <td>26.54</td>\n",
       "    </tr>\n",
       "    <tr>\n",
       "      <th>1993-02-03</th>\n",
       "      <td>44.84</td>\n",
       "      <td>44.38</td>\n",
       "      <td>44.41</td>\n",
       "      <td>44.81</td>\n",
       "      <td>529400.00</td>\n",
       "      <td>26.82</td>\n",
       "    </tr>\n",
       "    <tr>\n",
       "      <th>1993-02-04</th>\n",
       "      <td>45.09</td>\n",
       "      <td>44.47</td>\n",
       "      <td>44.97</td>\n",
       "      <td>45.00</td>\n",
       "      <td>531500.00</td>\n",
       "      <td>26.94</td>\n",
       "    </tr>\n",
       "  </tbody>\n",
       "</table>\n",
       "</div>"
      ],
      "text/plain": [
       "            high   low  open  close     volume  adj_close\n",
       "date                                                     \n",
       "1993-01-29 43.97 43.75 43.97  43.94 1003200.00      26.30\n",
       "1993-02-01 44.25 43.97 43.97  44.25  480500.00      26.49\n",
       "1993-02-02 44.38 44.12 44.22  44.34  201300.00      26.54\n",
       "1993-02-03 44.84 44.38 44.41  44.81  529400.00      26.82\n",
       "1993-02-04 45.09 44.47 44.97  45.00  531500.00      26.94"
      ]
     },
     "execution_count": 6,
     "metadata": {},
     "output_type": "execute_result"
    }
   ],
   "source": [
    "ts = pf.fetch_timeseries(symbol, use_cache=use_cache)\n",
    "ts.head()"
   ]
  },
  {
   "cell_type": "markdown",
   "metadata": {},
   "source": [
    "Select timeseries between start and end. Back adjust prices relative to adj_close for dividends and splits."
   ]
  },
  {
   "cell_type": "code",
   "execution_count": 7,
   "metadata": {
    "ExecuteTime": {
     "end_time": "2020-02-17T05:42:10.411604Z",
     "start_time": "2020-02-17T05:42:10.375058Z"
    }
   },
   "outputs": [
    {
     "data": {
      "text/html": [
       "<div>\n",
       "<style scoped>\n",
       "    .dataframe tbody tr th:only-of-type {\n",
       "        vertical-align: middle;\n",
       "    }\n",
       "\n",
       "    .dataframe tbody tr th {\n",
       "        vertical-align: top;\n",
       "    }\n",
       "\n",
       "    .dataframe thead th {\n",
       "        text-align: right;\n",
       "    }\n",
       "</style>\n",
       "<table border=\"1\" class=\"dataframe\">\n",
       "  <thead>\n",
       "    <tr style=\"text-align: right;\">\n",
       "      <th></th>\n",
       "      <th>high</th>\n",
       "      <th>low</th>\n",
       "      <th>open</th>\n",
       "      <th>close</th>\n",
       "      <th>volume</th>\n",
       "      <th>adj_close</th>\n",
       "    </tr>\n",
       "    <tr>\n",
       "      <th>date</th>\n",
       "      <th></th>\n",
       "      <th></th>\n",
       "      <th></th>\n",
       "      <th></th>\n",
       "      <th></th>\n",
       "      <th></th>\n",
       "    </tr>\n",
       "  </thead>\n",
       "  <tbody>\n",
       "    <tr>\n",
       "      <th>1993-01-29</th>\n",
       "      <td>26.32</td>\n",
       "      <td>26.19</td>\n",
       "      <td>26.32</td>\n",
       "      <td>26.30</td>\n",
       "      <td>1003200.00</td>\n",
       "      <td>26.30</td>\n",
       "    </tr>\n",
       "    <tr>\n",
       "      <th>1993-02-01</th>\n",
       "      <td>26.49</td>\n",
       "      <td>26.32</td>\n",
       "      <td>26.32</td>\n",
       "      <td>26.49</td>\n",
       "      <td>480500.00</td>\n",
       "      <td>26.49</td>\n",
       "    </tr>\n",
       "    <tr>\n",
       "      <th>1993-02-02</th>\n",
       "      <td>26.56</td>\n",
       "      <td>26.41</td>\n",
       "      <td>26.47</td>\n",
       "      <td>26.54</td>\n",
       "      <td>201300.00</td>\n",
       "      <td>26.54</td>\n",
       "    </tr>\n",
       "    <tr>\n",
       "      <th>1993-02-03</th>\n",
       "      <td>26.84</td>\n",
       "      <td>26.56</td>\n",
       "      <td>26.58</td>\n",
       "      <td>26.82</td>\n",
       "      <td>529400.00</td>\n",
       "      <td>26.82</td>\n",
       "    </tr>\n",
       "    <tr>\n",
       "      <th>1993-02-04</th>\n",
       "      <td>26.99</td>\n",
       "      <td>26.62</td>\n",
       "      <td>26.92</td>\n",
       "      <td>26.94</td>\n",
       "      <td>531500.00</td>\n",
       "      <td>26.94</td>\n",
       "    </tr>\n",
       "  </tbody>\n",
       "</table>\n",
       "</div>"
      ],
      "text/plain": [
       "            high   low  open  close     volume  adj_close\n",
       "date                                                     \n",
       "1993-01-29 26.32 26.19 26.32  26.30 1003200.00      26.30\n",
       "1993-02-01 26.49 26.32 26.32  26.49  480500.00      26.49\n",
       "1993-02-02 26.56 26.41 26.47  26.54  201300.00      26.54\n",
       "1993-02-03 26.84 26.56 26.58  26.82  529400.00      26.82\n",
       "1993-02-04 26.99 26.62 26.92  26.94  531500.00      26.94"
      ]
     },
     "execution_count": 7,
     "metadata": {},
     "output_type": "execute_result"
    }
   ],
   "source": [
    "ts = pf.select_tradeperiod(ts, start, end, use_adj)\n",
    "ts.head()"
   ]
  },
  {
   "cell_type": "markdown",
   "metadata": {},
   "source": [
    "Add technical indicator: 50 day ma and 200 day ma"
   ]
  },
  {
   "cell_type": "code",
   "execution_count": 8,
   "metadata": {
    "ExecuteTime": {
     "end_time": "2020-02-17T05:42:10.557853Z",
     "start_time": "2020-02-17T05:42:10.417909Z"
    }
   },
   "outputs": [
    {
     "data": {
      "text/html": [
       "<div>\n",
       "<style scoped>\n",
       "    .dataframe tbody tr th:only-of-type {\n",
       "        vertical-align: middle;\n",
       "    }\n",
       "\n",
       "    .dataframe tbody tr th {\n",
       "        vertical-align: top;\n",
       "    }\n",
       "\n",
       "    .dataframe thead th {\n",
       "        text-align: right;\n",
       "    }\n",
       "</style>\n",
       "<table border=\"1\" class=\"dataframe\">\n",
       "  <thead>\n",
       "    <tr style=\"text-align: right;\">\n",
       "      <th></th>\n",
       "      <th>high</th>\n",
       "      <th>low</th>\n",
       "      <th>open</th>\n",
       "      <th>close</th>\n",
       "      <th>volume</th>\n",
       "      <th>adj_close</th>\n",
       "      <th>sma50</th>\n",
       "      <th>sma200</th>\n",
       "    </tr>\n",
       "    <tr>\n",
       "      <th>date</th>\n",
       "      <th></th>\n",
       "      <th></th>\n",
       "      <th></th>\n",
       "      <th></th>\n",
       "      <th></th>\n",
       "      <th></th>\n",
       "      <th></th>\n",
       "      <th></th>\n",
       "    </tr>\n",
       "  </thead>\n",
       "  <tbody>\n",
       "    <tr>\n",
       "      <th>2020-04-20</th>\n",
       "      <td>286.79</td>\n",
       "      <td>281.35</td>\n",
       "      <td>282.61</td>\n",
       "      <td>281.59</td>\n",
       "      <td>100109300.00</td>\n",
       "      <td>281.59</td>\n",
       "      <td>283.75</td>\n",
       "      <td>297.93</td>\n",
       "    </tr>\n",
       "    <tr>\n",
       "      <th>2020-04-21</th>\n",
       "      <td>278.04</td>\n",
       "      <td>272.02</td>\n",
       "      <td>276.73</td>\n",
       "      <td>273.04</td>\n",
       "      <td>126385700.00</td>\n",
       "      <td>273.04</td>\n",
       "      <td>282.60</td>\n",
       "      <td>297.83</td>\n",
       "    </tr>\n",
       "    <tr>\n",
       "      <th>2020-04-22</th>\n",
       "      <td>281.00</td>\n",
       "      <td>276.91</td>\n",
       "      <td>278.35</td>\n",
       "      <td>279.10</td>\n",
       "      <td>93524600.00</td>\n",
       "      <td>279.10</td>\n",
       "      <td>281.53</td>\n",
       "      <td>297.76</td>\n",
       "    </tr>\n",
       "    <tr>\n",
       "      <th>2020-04-23</th>\n",
       "      <td>283.94</td>\n",
       "      <td>278.75</td>\n",
       "      <td>280.49</td>\n",
       "      <td>279.08</td>\n",
       "      <td>104709700.00</td>\n",
       "      <td>279.08</td>\n",
       "      <td>280.44</td>\n",
       "      <td>297.70</td>\n",
       "    </tr>\n",
       "    <tr>\n",
       "      <th>2020-04-24</th>\n",
       "      <td>283.70</td>\n",
       "      <td>278.50</td>\n",
       "      <td>280.73</td>\n",
       "      <td>282.97</td>\n",
       "      <td>85063200.00</td>\n",
       "      <td>282.97</td>\n",
       "      <td>279.39</td>\n",
       "      <td>297.64</td>\n",
       "    </tr>\n",
       "  </tbody>\n",
       "</table>\n",
       "</div>"
      ],
      "text/plain": [
       "             high    low   open  close       volume  adj_close  sma50  sma200\n",
       "date                                                                         \n",
       "2020-04-20 286.79 281.35 282.61 281.59 100109300.00     281.59 283.75  297.93\n",
       "2020-04-21 278.04 272.02 276.73 273.04 126385700.00     273.04 282.60  297.83\n",
       "2020-04-22 281.00 276.91 278.35 279.10  93524600.00     279.10 281.53  297.76\n",
       "2020-04-23 283.94 278.75 280.49 279.08 104709700.00     279.08 280.44  297.70\n",
       "2020-04-24 283.70 278.50 280.73 282.97  85063200.00     282.97 279.39  297.64"
      ]
     },
     "execution_count": 8,
     "metadata": {},
     "output_type": "execute_result"
    }
   ],
   "source": [
    "sma50 = SMA(ts, timeperiod=50)\n",
    "ts['sma50'] = sma50\n",
    "\n",
    "sma200 = SMA(ts, timeperiod=200)\n",
    "ts['sma200'] = sma200\n",
    "\n",
    "ts.tail()"
   ]
  },
  {
   "cell_type": "markdown",
   "metadata": {},
   "source": [
    "Add additional symbols and their indicators"
   ]
  },
  {
   "cell_type": "code",
   "execution_count": 9,
   "metadata": {
    "ExecuteTime": {
     "end_time": "2020-02-17T05:42:11.522593Z",
     "start_time": "2020-02-17T05:42:10.571173Z"
    }
   },
   "outputs": [
    {
     "data": {
      "text/html": [
       "<div>\n",
       "<style scoped>\n",
       "    .dataframe tbody tr th:only-of-type {\n",
       "        vertical-align: middle;\n",
       "    }\n",
       "\n",
       "    .dataframe tbody tr th {\n",
       "        vertical-align: top;\n",
       "    }\n",
       "\n",
       "    .dataframe thead th {\n",
       "        text-align: right;\n",
       "    }\n",
       "</style>\n",
       "<table border=\"1\" class=\"dataframe\">\n",
       "  <thead>\n",
       "    <tr style=\"text-align: right;\">\n",
       "      <th></th>\n",
       "      <th>high</th>\n",
       "      <th>low</th>\n",
       "      <th>open</th>\n",
       "      <th>close</th>\n",
       "      <th>volume</th>\n",
       "      <th>adj_close</th>\n",
       "      <th>sma50</th>\n",
       "      <th>sma200</th>\n",
       "      <th>GLD_high</th>\n",
       "      <th>GLD_low</th>\n",
       "      <th>GLD_close</th>\n",
       "      <th>GLD_sma200</th>\n",
       "    </tr>\n",
       "    <tr>\n",
       "      <th>date</th>\n",
       "      <th></th>\n",
       "      <th></th>\n",
       "      <th></th>\n",
       "      <th></th>\n",
       "      <th></th>\n",
       "      <th></th>\n",
       "      <th></th>\n",
       "      <th></th>\n",
       "      <th></th>\n",
       "      <th></th>\n",
       "      <th></th>\n",
       "      <th></th>\n",
       "    </tr>\n",
       "  </thead>\n",
       "  <tbody>\n",
       "    <tr>\n",
       "      <th>1993-01-29</th>\n",
       "      <td>26.32</td>\n",
       "      <td>26.19</td>\n",
       "      <td>26.32</td>\n",
       "      <td>26.30</td>\n",
       "      <td>1003200.00</td>\n",
       "      <td>26.30</td>\n",
       "      <td>nan</td>\n",
       "      <td>nan</td>\n",
       "      <td>nan</td>\n",
       "      <td>nan</td>\n",
       "      <td>nan</td>\n",
       "      <td>nan</td>\n",
       "    </tr>\n",
       "    <tr>\n",
       "      <th>1993-02-01</th>\n",
       "      <td>26.49</td>\n",
       "      <td>26.32</td>\n",
       "      <td>26.32</td>\n",
       "      <td>26.49</td>\n",
       "      <td>480500.00</td>\n",
       "      <td>26.49</td>\n",
       "      <td>nan</td>\n",
       "      <td>nan</td>\n",
       "      <td>nan</td>\n",
       "      <td>nan</td>\n",
       "      <td>nan</td>\n",
       "      <td>nan</td>\n",
       "    </tr>\n",
       "    <tr>\n",
       "      <th>1993-02-02</th>\n",
       "      <td>26.56</td>\n",
       "      <td>26.41</td>\n",
       "      <td>26.47</td>\n",
       "      <td>26.54</td>\n",
       "      <td>201300.00</td>\n",
       "      <td>26.54</td>\n",
       "      <td>nan</td>\n",
       "      <td>nan</td>\n",
       "      <td>nan</td>\n",
       "      <td>nan</td>\n",
       "      <td>nan</td>\n",
       "      <td>nan</td>\n",
       "    </tr>\n",
       "    <tr>\n",
       "      <th>1993-02-03</th>\n",
       "      <td>26.84</td>\n",
       "      <td>26.56</td>\n",
       "      <td>26.58</td>\n",
       "      <td>26.82</td>\n",
       "      <td>529400.00</td>\n",
       "      <td>26.82</td>\n",
       "      <td>nan</td>\n",
       "      <td>nan</td>\n",
       "      <td>nan</td>\n",
       "      <td>nan</td>\n",
       "      <td>nan</td>\n",
       "      <td>nan</td>\n",
       "    </tr>\n",
       "    <tr>\n",
       "      <th>1993-02-04</th>\n",
       "      <td>26.99</td>\n",
       "      <td>26.62</td>\n",
       "      <td>26.92</td>\n",
       "      <td>26.94</td>\n",
       "      <td>531500.00</td>\n",
       "      <td>26.94</td>\n",
       "      <td>nan</td>\n",
       "      <td>nan</td>\n",
       "      <td>nan</td>\n",
       "      <td>nan</td>\n",
       "      <td>nan</td>\n",
       "      <td>nan</td>\n",
       "    </tr>\n",
       "  </tbody>\n",
       "</table>\n",
       "</div>"
      ],
      "text/plain": [
       "            high   low  open  close     volume  adj_close  sma50  sma200  \\\n",
       "date                                                                       \n",
       "1993-01-29 26.32 26.19 26.32  26.30 1003200.00      26.30    nan     nan   \n",
       "1993-02-01 26.49 26.32 26.32  26.49  480500.00      26.49    nan     nan   \n",
       "1993-02-02 26.56 26.41 26.47  26.54  201300.00      26.54    nan     nan   \n",
       "1993-02-03 26.84 26.56 26.58  26.82  529400.00      26.82    nan     nan   \n",
       "1993-02-04 26.99 26.62 26.92  26.94  531500.00      26.94    nan     nan   \n",
       "\n",
       "            GLD_high  GLD_low  GLD_close  GLD_sma200  \n",
       "date                                                  \n",
       "1993-01-29       nan      nan        nan         nan  \n",
       "1993-02-01       nan      nan        nan         nan  \n",
       "1993-02-02       nan      nan        nan         nan  \n",
       "1993-02-03       nan      nan        nan         nan  \n",
       "1993-02-04       nan      nan        nan         nan  "
      ]
     },
     "execution_count": 9,
     "metadata": {},
     "output_type": "execute_result"
    }
   ],
   "source": [
    "def add_symbol_columns(ts, symbol, symbol_ts, fields):\n",
    "    \n",
    "    for field in fields:\n",
    "        column = symbol + '_' + field\n",
    "        ts[column] = symbol_ts[field]\n",
    "    return ts\n",
    "\n",
    "def add_symbols(ts, symbols):\n",
    "    \n",
    "    for symbol in symbols:\n",
    "        \n",
    "        # add another symbol\n",
    "        _ts = pf.fetch_timeseries(symbol, use_cache=use_cache)\n",
    "        _ts = pf.select_tradeperiod(_ts, start, end, use_adj=use_adj)\n",
    "    \n",
    "        # Add technical indicator: 200 day ma\n",
    "        # we are not actually going to use this in the algorithm\n",
    "        # including this for demonstration purposes\n",
    "        sma200 = SMA(_ts, timeperiod=200)\n",
    "        _ts['sma200'] = sma200\n",
    "        \n",
    "        ts = add_symbol_columns(ts, symbol, _ts, fields=['high', 'low', 'close', 'sma200'])\n",
    "    return ts\n",
    "\n",
    "ts = add_symbols(ts, symbols=[other_symbol])\n",
    "ts.head()"
   ]
  },
  {
   "cell_type": "markdown",
   "metadata": {},
   "source": [
    "Finalize time series"
   ]
  },
  {
   "cell_type": "code",
   "execution_count": 10,
   "metadata": {
    "ExecuteTime": {
     "end_time": "2020-02-17T05:42:11.552826Z",
     "start_time": "2020-02-17T05:42:11.531756Z"
    }
   },
   "outputs": [],
   "source": [
    "ts, start = pf.finalize_timeseries(ts, start)"
   ]
  },
  {
   "cell_type": "markdown",
   "metadata": {},
   "source": [
    "Create Trade Log (tlog); Create Daily Balance (dbal)"
   ]
  },
  {
   "cell_type": "code",
   "execution_count": 11,
   "metadata": {
    "ExecuteTime": {
     "end_time": "2020-02-17T05:42:11.569572Z",
     "start_time": "2020-02-17T05:42:11.559717Z"
    }
   },
   "outputs": [],
   "source": [
    "tlog = pf.TradeLog()\n",
    "dbal = pf.DailyBal()"
   ]
  },
  {
   "cell_type": "markdown",
   "metadata": {},
   "source": [
    "Algo: Buy SPY when 50 day ma crosses above 200 day ma.  Sell when 50 day ma crosses below 200 day ma. \n",
    "Hold GLD when not in SPY."
   ]
  },
  {
   "cell_type": "code",
   "execution_count": 12,
   "metadata": {
    "ExecuteTime": {
     "end_time": "2020-02-17T05:42:11.920977Z",
     "start_time": "2020-02-17T05:42:11.575769Z"
    },
    "scrolled": false
   },
   "outputs": [
    {
     "name": "stdout",
     "output_type": "stream",
     "text": [
      "0.19156956672668457\n"
     ]
    }
   ],
   "source": [
    "tlog.cash = capital\n",
    "tlog.position = None\n",
    "\n",
    "import time\n",
    "t0 = time.time()\n",
    "\n",
    "for i, row in enumerate(ts.itertuples()):\n",
    "\n",
    "    date = row.Index.to_pydatetime()\n",
    "    high = row.high\n",
    "    low = row.low\n",
    "    close = row.close\n",
    "    sma50 = row.sma50\n",
    "    sma200 = row.sma200\n",
    "    other_high = getattr(row, other_symbol + '_high')\n",
    "    other_low = getattr(row, other_symbol + '_low')\n",
    "    other_close = getattr(row, other_symbol + '_close')\n",
    "    end_flag = True if (i == len(ts) - 1) else False\n",
    "        \n",
    "    # last row\n",
    "    if end_flag:\n",
    "        if tlog.position == symbol:\n",
    "            tlog.exit_trade(date, close, symbol=symbol)\n",
    "        elif tlog.position == other_symbol:\n",
    "            tlog.exit_trade(date, other_close, symbol=other_symbol)\n",
    "        tlog.position = None\n",
    "    else:\n",
    "        # buy SPY and sell GLD\n",
    "        if (sma50 > sma200 and ts['sma50'][i-1] <= ts['sma200'][i-1]):\n",
    "            if tlog.position == other_symbol:\n",
    "                tlog.exit_trade(date, other_close, symbol=other_symbol)\n",
    "            tlog.enter_trade(date, close, symbol=symbol)\n",
    "            tlog.position = symbol\n",
    "        # sell SPY and buy GLD\n",
    "        elif (sma50 < sma200 and ts['sma50'][i-1] >= ts['sma200'][i-1]):\n",
    "            if tlog.position == symbol:\n",
    "                tlog.exit_trade(date, close, symbol=symbol)\n",
    "                tlog.position = None\n",
    "        \n",
    "        # No position yet, so buy GLD\n",
    "        if tlog.position is None:\n",
    "            tlog.enter_trade(date, other_close, symbol=other_symbol)\n",
    "            tlog.position = other_symbol\n",
    "\n",
    "    # record daily balance\n",
    "    if tlog.position == other_symbol:\n",
    "        dbal.append(date, other_high, other_low, other_close, tlog.shares, tlog.cash)\n",
    "    else:\n",
    "        dbal.append(date, high, low, close, tlog.shares, tlog.cash)\n",
    "\n",
    "t1 = time.time()\n",
    "total = t1-t0\n",
    "print(total)\n",
    "        "
   ]
  },
  {
   "cell_type": "markdown",
   "metadata": {},
   "source": [
    "Retrieve raw log and trade log DataFrames"
   ]
  },
  {
   "cell_type": "code",
   "execution_count": 13,
   "metadata": {
    "ExecuteTime": {
     "end_time": "2020-02-17T05:42:11.943593Z",
     "start_time": "2020-02-17T05:42:11.930529Z"
    }
   },
   "outputs": [],
   "source": [
    "rlog = tlog.get_log_raw()\n",
    "tlog = tlog.get_log()"
   ]
  },
  {
   "cell_type": "code",
   "execution_count": 14,
   "metadata": {
    "ExecuteTime": {
     "end_time": "2020-02-17T05:42:11.990621Z",
     "start_time": "2020-02-17T05:42:11.947894Z"
    }
   },
   "outputs": [
    {
     "data": {
      "text/html": [
       "<div>\n",
       "<style scoped>\n",
       "    .dataframe tbody tr th:only-of-type {\n",
       "        vertical-align: middle;\n",
       "    }\n",
       "\n",
       "    .dataframe tbody tr th {\n",
       "        vertical-align: top;\n",
       "    }\n",
       "\n",
       "    .dataframe thead th {\n",
       "        text-align: right;\n",
       "    }\n",
       "</style>\n",
       "<table border=\"1\" class=\"dataframe\">\n",
       "  <thead>\n",
       "    <tr style=\"text-align: right;\">\n",
       "      <th></th>\n",
       "      <th>date</th>\n",
       "      <th>price</th>\n",
       "      <th>shares</th>\n",
       "      <th>entry_exit</th>\n",
       "      <th>symbol</th>\n",
       "    </tr>\n",
       "  </thead>\n",
       "  <tbody>\n",
       "    <tr>\n",
       "      <th>12</th>\n",
       "      <td>2010-10-13</td>\n",
       "      <td>97.35</td>\n",
       "      <td>183</td>\n",
       "      <td>entry</td>\n",
       "      <td>SPY</td>\n",
       "    </tr>\n",
       "    <tr>\n",
       "      <th>13</th>\n",
       "      <td>2011-08-17</td>\n",
       "      <td>100.24</td>\n",
       "      <td>183</td>\n",
       "      <td>exit</td>\n",
       "      <td>SPY</td>\n",
       "    </tr>\n",
       "    <tr>\n",
       "      <th>14</th>\n",
       "      <td>2011-08-17</td>\n",
       "      <td>174.42</td>\n",
       "      <td>105</td>\n",
       "      <td>entry</td>\n",
       "      <td>GLD</td>\n",
       "    </tr>\n",
       "    <tr>\n",
       "      <th>15</th>\n",
       "      <td>2012-01-23</td>\n",
       "      <td>163.16</td>\n",
       "      <td>105</td>\n",
       "      <td>exit</td>\n",
       "      <td>GLD</td>\n",
       "    </tr>\n",
       "    <tr>\n",
       "      <th>16</th>\n",
       "      <td>2012-01-23</td>\n",
       "      <td>111.52</td>\n",
       "      <td>154</td>\n",
       "      <td>entry</td>\n",
       "      <td>SPY</td>\n",
       "    </tr>\n",
       "    <tr>\n",
       "      <th>17</th>\n",
       "      <td>2015-09-03</td>\n",
       "      <td>177.82</td>\n",
       "      <td>154</td>\n",
       "      <td>exit</td>\n",
       "      <td>SPY</td>\n",
       "    </tr>\n",
       "    <tr>\n",
       "      <th>18</th>\n",
       "      <td>2015-09-03</td>\n",
       "      <td>107.84</td>\n",
       "      <td>254</td>\n",
       "      <td>entry</td>\n",
       "      <td>GLD</td>\n",
       "    </tr>\n",
       "    <tr>\n",
       "      <th>19</th>\n",
       "      <td>2015-12-09</td>\n",
       "      <td>102.64</td>\n",
       "      <td>254</td>\n",
       "      <td>exit</td>\n",
       "      <td>GLD</td>\n",
       "    </tr>\n",
       "    <tr>\n",
       "      <th>20</th>\n",
       "      <td>2015-12-09</td>\n",
       "      <td>187.69</td>\n",
       "      <td>139</td>\n",
       "      <td>entry</td>\n",
       "      <td>SPY</td>\n",
       "    </tr>\n",
       "    <tr>\n",
       "      <th>21</th>\n",
       "      <td>2016-01-15</td>\n",
       "      <td>172.69</td>\n",
       "      <td>139</td>\n",
       "      <td>exit</td>\n",
       "      <td>SPY</td>\n",
       "    </tr>\n",
       "    <tr>\n",
       "      <th>22</th>\n",
       "      <td>2016-01-15</td>\n",
       "      <td>104.08</td>\n",
       "      <td>231</td>\n",
       "      <td>entry</td>\n",
       "      <td>GLD</td>\n",
       "    </tr>\n",
       "    <tr>\n",
       "      <th>23</th>\n",
       "      <td>2016-04-20</td>\n",
       "      <td>118.97</td>\n",
       "      <td>231</td>\n",
       "      <td>exit</td>\n",
       "      <td>GLD</td>\n",
       "    </tr>\n",
       "    <tr>\n",
       "      <th>24</th>\n",
       "      <td>2016-04-20</td>\n",
       "      <td>194.18</td>\n",
       "      <td>141</td>\n",
       "      <td>entry</td>\n",
       "      <td>SPY</td>\n",
       "    </tr>\n",
       "    <tr>\n",
       "      <th>25</th>\n",
       "      <td>2018-12-12</td>\n",
       "      <td>257.50</td>\n",
       "      <td>141</td>\n",
       "      <td>exit</td>\n",
       "      <td>SPY</td>\n",
       "    </tr>\n",
       "    <tr>\n",
       "      <th>26</th>\n",
       "      <td>2018-12-12</td>\n",
       "      <td>117.79</td>\n",
       "      <td>309</td>\n",
       "      <td>entry</td>\n",
       "      <td>GLD</td>\n",
       "    </tr>\n",
       "    <tr>\n",
       "      <th>27</th>\n",
       "      <td>2019-03-26</td>\n",
       "      <td>124.30</td>\n",
       "      <td>309</td>\n",
       "      <td>exit</td>\n",
       "      <td>GLD</td>\n",
       "    </tr>\n",
       "    <tr>\n",
       "      <th>28</th>\n",
       "      <td>2019-03-26</td>\n",
       "      <td>275.49</td>\n",
       "      <td>139</td>\n",
       "      <td>entry</td>\n",
       "      <td>SPY</td>\n",
       "    </tr>\n",
       "    <tr>\n",
       "      <th>29</th>\n",
       "      <td>2020-03-31</td>\n",
       "      <td>257.75</td>\n",
       "      <td>139</td>\n",
       "      <td>exit</td>\n",
       "      <td>SPY</td>\n",
       "    </tr>\n",
       "    <tr>\n",
       "      <th>30</th>\n",
       "      <td>2020-03-31</td>\n",
       "      <td>148.05</td>\n",
       "      <td>242</td>\n",
       "      <td>entry</td>\n",
       "      <td>GLD</td>\n",
       "    </tr>\n",
       "    <tr>\n",
       "      <th>31</th>\n",
       "      <td>2020-04-24</td>\n",
       "      <td>162.64</td>\n",
       "      <td>242</td>\n",
       "      <td>exit</td>\n",
       "      <td>GLD</td>\n",
       "    </tr>\n",
       "  </tbody>\n",
       "</table>\n",
       "</div>"
      ],
      "text/plain": [
       "         date  price  shares entry_exit symbol\n",
       "12 2010-10-13  97.35     183      entry    SPY\n",
       "13 2011-08-17 100.24     183       exit    SPY\n",
       "14 2011-08-17 174.42     105      entry    GLD\n",
       "15 2012-01-23 163.16     105       exit    GLD\n",
       "16 2012-01-23 111.52     154      entry    SPY\n",
       "17 2015-09-03 177.82     154       exit    SPY\n",
       "18 2015-09-03 107.84     254      entry    GLD\n",
       "19 2015-12-09 102.64     254       exit    GLD\n",
       "20 2015-12-09 187.69     139      entry    SPY\n",
       "21 2016-01-15 172.69     139       exit    SPY\n",
       "22 2016-01-15 104.08     231      entry    GLD\n",
       "23 2016-04-20 118.97     231       exit    GLD\n",
       "24 2016-04-20 194.18     141      entry    SPY\n",
       "25 2018-12-12 257.50     141       exit    SPY\n",
       "26 2018-12-12 117.79     309      entry    GLD\n",
       "27 2019-03-26 124.30     309       exit    GLD\n",
       "28 2019-03-26 275.49     139      entry    SPY\n",
       "29 2020-03-31 257.75     139       exit    SPY\n",
       "30 2020-03-31 148.05     242      entry    GLD\n",
       "31 2020-04-24 162.64     242       exit    GLD"
      ]
     },
     "execution_count": 14,
     "metadata": {},
     "output_type": "execute_result"
    }
   ],
   "source": [
    "rlog.tail(20)"
   ]
  },
  {
   "cell_type": "code",
   "execution_count": 15,
   "metadata": {
    "ExecuteTime": {
     "end_time": "2020-02-17T05:42:12.039561Z",
     "start_time": "2020-02-17T05:42:11.997153Z"
    }
   },
   "outputs": [
    {
     "data": {
      "text/html": [
       "<div>\n",
       "<style scoped>\n",
       "    .dataframe tbody tr th:only-of-type {\n",
       "        vertical-align: middle;\n",
       "    }\n",
       "\n",
       "    .dataframe tbody tr th {\n",
       "        vertical-align: top;\n",
       "    }\n",
       "\n",
       "    .dataframe thead th {\n",
       "        text-align: right;\n",
       "    }\n",
       "</style>\n",
       "<table border=\"1\" class=\"dataframe\">\n",
       "  <thead>\n",
       "    <tr style=\"text-align: right;\">\n",
       "      <th></th>\n",
       "      <th>entry_date</th>\n",
       "      <th>entry_price</th>\n",
       "      <th>exit_date</th>\n",
       "      <th>exit_price</th>\n",
       "      <th>pl_points</th>\n",
       "      <th>pl_cash</th>\n",
       "      <th>qty</th>\n",
       "      <th>cumul_total</th>\n",
       "      <th>symbol</th>\n",
       "    </tr>\n",
       "  </thead>\n",
       "  <tbody>\n",
       "    <tr>\n",
       "      <th>6</th>\n",
       "      <td>2010-10-13</td>\n",
       "      <td>97.35</td>\n",
       "      <td>2011-08-17</td>\n",
       "      <td>100.24</td>\n",
       "      <td>2.89</td>\n",
       "      <td>528.94</td>\n",
       "      <td>183</td>\n",
       "      <td>8436.19</td>\n",
       "      <td>SPY</td>\n",
       "    </tr>\n",
       "    <tr>\n",
       "      <th>7</th>\n",
       "      <td>2011-08-17</td>\n",
       "      <td>174.42</td>\n",
       "      <td>2012-01-23</td>\n",
       "      <td>163.16</td>\n",
       "      <td>-11.26</td>\n",
       "      <td>-1182.30</td>\n",
       "      <td>105</td>\n",
       "      <td>7253.89</td>\n",
       "      <td>GLD</td>\n",
       "    </tr>\n",
       "    <tr>\n",
       "      <th>8</th>\n",
       "      <td>2012-01-23</td>\n",
       "      <td>111.52</td>\n",
       "      <td>2015-09-03</td>\n",
       "      <td>177.82</td>\n",
       "      <td>66.30</td>\n",
       "      <td>10209.84</td>\n",
       "      <td>154</td>\n",
       "      <td>17463.72</td>\n",
       "      <td>SPY</td>\n",
       "    </tr>\n",
       "    <tr>\n",
       "      <th>9</th>\n",
       "      <td>2015-09-03</td>\n",
       "      <td>107.84</td>\n",
       "      <td>2015-12-09</td>\n",
       "      <td>102.64</td>\n",
       "      <td>-5.20</td>\n",
       "      <td>-1320.80</td>\n",
       "      <td>254</td>\n",
       "      <td>16142.92</td>\n",
       "      <td>GLD</td>\n",
       "    </tr>\n",
       "    <tr>\n",
       "      <th>10</th>\n",
       "      <td>2015-12-09</td>\n",
       "      <td>187.69</td>\n",
       "      <td>2016-01-15</td>\n",
       "      <td>172.69</td>\n",
       "      <td>-15.00</td>\n",
       "      <td>-2085.22</td>\n",
       "      <td>139</td>\n",
       "      <td>14057.71</td>\n",
       "      <td>SPY</td>\n",
       "    </tr>\n",
       "    <tr>\n",
       "      <th>11</th>\n",
       "      <td>2016-01-15</td>\n",
       "      <td>104.08</td>\n",
       "      <td>2016-04-20</td>\n",
       "      <td>118.97</td>\n",
       "      <td>14.89</td>\n",
       "      <td>3439.59</td>\n",
       "      <td>231</td>\n",
       "      <td>17497.30</td>\n",
       "      <td>GLD</td>\n",
       "    </tr>\n",
       "    <tr>\n",
       "      <th>12</th>\n",
       "      <td>2016-04-20</td>\n",
       "      <td>194.18</td>\n",
       "      <td>2018-12-12</td>\n",
       "      <td>257.50</td>\n",
       "      <td>63.32</td>\n",
       "      <td>8928.05</td>\n",
       "      <td>141</td>\n",
       "      <td>26425.35</td>\n",
       "      <td>SPY</td>\n",
       "    </tr>\n",
       "    <tr>\n",
       "      <th>13</th>\n",
       "      <td>2018-12-12</td>\n",
       "      <td>117.79</td>\n",
       "      <td>2019-03-26</td>\n",
       "      <td>124.30</td>\n",
       "      <td>6.51</td>\n",
       "      <td>2011.59</td>\n",
       "      <td>309</td>\n",
       "      <td>28436.94</td>\n",
       "      <td>GLD</td>\n",
       "    </tr>\n",
       "    <tr>\n",
       "      <th>14</th>\n",
       "      <td>2019-03-26</td>\n",
       "      <td>275.49</td>\n",
       "      <td>2020-03-31</td>\n",
       "      <td>257.75</td>\n",
       "      <td>-17.74</td>\n",
       "      <td>-2465.99</td>\n",
       "      <td>139</td>\n",
       "      <td>25970.95</td>\n",
       "      <td>SPY</td>\n",
       "    </tr>\n",
       "    <tr>\n",
       "      <th>15</th>\n",
       "      <td>2020-03-31</td>\n",
       "      <td>148.05</td>\n",
       "      <td>2020-04-24</td>\n",
       "      <td>162.64</td>\n",
       "      <td>14.59</td>\n",
       "      <td>3530.78</td>\n",
       "      <td>242</td>\n",
       "      <td>29501.73</td>\n",
       "      <td>GLD</td>\n",
       "    </tr>\n",
       "  </tbody>\n",
       "</table>\n",
       "</div>"
      ],
      "text/plain": [
       "   entry_date  entry_price  exit_date  exit_price  pl_points  pl_cash  qty  \\\n",
       "6  2010-10-13        97.35 2011-08-17      100.24       2.89   528.94  183   \n",
       "7  2011-08-17       174.42 2012-01-23      163.16     -11.26 -1182.30  105   \n",
       "8  2012-01-23       111.52 2015-09-03      177.82      66.30 10209.84  154   \n",
       "9  2015-09-03       107.84 2015-12-09      102.64      -5.20 -1320.80  254   \n",
       "10 2015-12-09       187.69 2016-01-15      172.69     -15.00 -2085.22  139   \n",
       "11 2016-01-15       104.08 2016-04-20      118.97      14.89  3439.59  231   \n",
       "12 2016-04-20       194.18 2018-12-12      257.50      63.32  8928.05  141   \n",
       "13 2018-12-12       117.79 2019-03-26      124.30       6.51  2011.59  309   \n",
       "14 2019-03-26       275.49 2020-03-31      257.75     -17.74 -2465.99  139   \n",
       "15 2020-03-31       148.05 2020-04-24      162.64      14.59  3530.78  242   \n",
       "\n",
       "    cumul_total symbol  \n",
       "6       8436.19    SPY  \n",
       "7       7253.89    GLD  \n",
       "8      17463.72    SPY  \n",
       "9      16142.92    GLD  \n",
       "10     14057.71    SPY  \n",
       "11     17497.30    GLD  \n",
       "12     26425.35    SPY  \n",
       "13     28436.94    GLD  \n",
       "14     25970.95    SPY  \n",
       "15     29501.73    GLD  "
      ]
     },
     "execution_count": 15,
     "metadata": {},
     "output_type": "execute_result"
    }
   ],
   "source": [
    "tlog.tail(10)"
   ]
  },
  {
   "cell_type": "code",
   "execution_count": 16,
   "metadata": {
    "ExecuteTime": {
     "end_time": "2020-02-17T05:42:12.391141Z",
     "start_time": "2020-02-17T05:42:12.047210Z"
    }
   },
   "outputs": [
    {
     "data": {
      "text/html": [
       "<div>\n",
       "<style scoped>\n",
       "    .dataframe tbody tr th:only-of-type {\n",
       "        vertical-align: middle;\n",
       "    }\n",
       "\n",
       "    .dataframe tbody tr th {\n",
       "        vertical-align: top;\n",
       "    }\n",
       "\n",
       "    .dataframe thead th {\n",
       "        text-align: right;\n",
       "    }\n",
       "</style>\n",
       "<table border=\"1\" class=\"dataframe\">\n",
       "  <thead>\n",
       "    <tr style=\"text-align: right;\">\n",
       "      <th></th>\n",
       "      <th>high</th>\n",
       "      <th>low</th>\n",
       "      <th>close</th>\n",
       "      <th>shares</th>\n",
       "      <th>cash</th>\n",
       "      <th>state</th>\n",
       "    </tr>\n",
       "    <tr>\n",
       "      <th>date</th>\n",
       "      <th></th>\n",
       "      <th></th>\n",
       "      <th></th>\n",
       "      <th></th>\n",
       "      <th></th>\n",
       "      <th></th>\n",
       "    </tr>\n",
       "  </thead>\n",
       "  <tbody>\n",
       "    <tr>\n",
       "      <th>2020-04-20</th>\n",
       "      <td>38916.09</td>\n",
       "      <td>38490.17</td>\n",
       "      <td>38790.25</td>\n",
       "      <td>242</td>\n",
       "      <td>142.85</td>\n",
       "      <td>-</td>\n",
       "    </tr>\n",
       "    <tr>\n",
       "      <th>2020-04-21</th>\n",
       "      <td>38671.67</td>\n",
       "      <td>38146.53</td>\n",
       "      <td>38526.47</td>\n",
       "      <td>242</td>\n",
       "      <td>142.85</td>\n",
       "      <td>-</td>\n",
       "    </tr>\n",
       "    <tr>\n",
       "      <th>2020-04-22</th>\n",
       "      <td>39283.93</td>\n",
       "      <td>38964.49</td>\n",
       "      <td>39281.51</td>\n",
       "      <td>242</td>\n",
       "      <td>142.85</td>\n",
       "      <td>-</td>\n",
       "    </tr>\n",
       "    <tr>\n",
       "      <th>2020-04-23</th>\n",
       "      <td>39734.05</td>\n",
       "      <td>39308.13</td>\n",
       "      <td>39671.13</td>\n",
       "      <td>242</td>\n",
       "      <td>142.85</td>\n",
       "      <td>-</td>\n",
       "    </tr>\n",
       "    <tr>\n",
       "      <th>2020-04-24</th>\n",
       "      <td>39501.73</td>\n",
       "      <td>39501.73</td>\n",
       "      <td>39501.73</td>\n",
       "      <td>0</td>\n",
       "      <td>39501.73</td>\n",
       "      <td>X</td>\n",
       "    </tr>\n",
       "  </tbody>\n",
       "</table>\n",
       "</div>"
      ],
      "text/plain": [
       "               high      low    close  shares     cash state\n",
       "date                                                        \n",
       "2020-04-20 38916.09 38490.17 38790.25     242   142.85     -\n",
       "2020-04-21 38671.67 38146.53 38526.47     242   142.85     -\n",
       "2020-04-22 39283.93 38964.49 39281.51     242   142.85     -\n",
       "2020-04-23 39734.05 39308.13 39671.13     242   142.85     -\n",
       "2020-04-24 39501.73 39501.73 39501.73       0 39501.73     X"
      ]
     },
     "execution_count": 16,
     "metadata": {},
     "output_type": "execute_result"
    }
   ],
   "source": [
    "dbal = dbal.get_log(tlog)\n",
    "dbal.tail()"
   ]
  },
  {
   "cell_type": "markdown",
   "metadata": {},
   "source": [
    "Generate strategy stats - display all available stats"
   ]
  },
  {
   "cell_type": "code",
   "execution_count": 17,
   "metadata": {
    "ExecuteTime": {
     "end_time": "2020-02-17T05:42:12.720788Z",
     "start_time": "2020-02-17T05:42:12.398480Z"
    }
   },
   "outputs": [
    {
     "name": "stdout",
     "output_type": "stream",
     "text": [
      "start                                                   2005-09-02\n",
      "end                                                     2020-04-24\n",
      "beginning_balance                                            10000\n",
      "ending_balance                                            39501.73\n",
      "total_net_profit                                          29501.73\n",
      "gross_profit                                              36660.34\n",
      "gross_loss                                                -7158.62\n",
      "profit_factor                                                 5.12\n",
      "return_on_initial_capital                                   295.02\n",
      "annual_return_rate                                            9.84\n",
      "trading_period                           14 years 7 months 22 days\n",
      "pct_time_in_market                                          100.00\n",
      "total_num_trades                                                16\n",
      "trades_per_year                                               1.09\n",
      "num_winning_trades                                              11\n",
      "num_losing_trades                                                5\n",
      "num_even_trades                                                  0\n",
      "pct_profitable_trades                                        68.75\n",
      "avg_profit_per_trade                                       1843.86\n",
      "avg_profit_per_winning_trade                               3332.76\n",
      "avg_loss_per_losing_trade                                 -1431.72\n",
      "ratio_avg_profit_win_loss                                     2.33\n",
      "largest_profit_winning_trade                              10209.84\n",
      "largest_loss_losing_trade                                 -2465.99\n",
      "num_winning_points                                          227.46\n",
      "num_losing_points                                           -49.81\n",
      "total_net_points                                            177.65\n",
      "avg_points                                                   11.10\n",
      "largest_points_winning_trade                                 66.30\n",
      "largest_points_losing_trade                                 -17.74\n",
      "avg_pct_gain_per_trade                                       10.11\n",
      "largest_pct_winning_trade                                    59.45\n",
      "largest_pct_losing_trade                                     -7.99\n",
      "max_consecutive_winning_trades                                   5\n",
      "max_consecutive_losing_trades                                    2\n",
      "avg_bars_winning_trades                                     292.18\n",
      "avg_bars_losing_trades                                       97.20\n",
      "max_closed_out_drawdown                                     -33.61\n",
      "max_closed_out_drawdown_start_date                      2020-02-19\n",
      "max_closed_out_drawdown_end_date                        2020-03-23\n",
      "max_closed_out_drawdown_recovery_date            Not Recovered Yet\n",
      "drawdown_recovery                                            -0.09\n",
      "drawdown_annualized_return                                   -3.42\n",
      "max_intra_day_drawdown                                      -35.15\n",
      "avg_yearly_closed_out_drawdown                              -11.92\n",
      "max_yearly_closed_out_drawdown                              -33.61\n",
      "avg_monthly_closed_out_drawdown                              -3.76\n",
      "max_monthly_closed_out_drawdown                             -30.89\n",
      "avg_weekly_closed_out_drawdown                               -1.50\n",
      "max_weekly_closed_out_drawdown                              -17.91\n",
      "avg_yearly_closed_out_runup                                  22.44\n",
      "max_yearly_closed_out_runup                                  57.61\n",
      "avg_monthly_closed_out_runup                                  4.60\n",
      "max_monthly_closed_out_runup                                 26.91\n",
      "avg_weekly_closed_out_runup                                   1.73\n",
      "max_weekly_closed_out_runup                                  17.28\n",
      "pct_profitable_years                                         81.24\n",
      "best_year                                                    56.01\n",
      "worst_year                                                  -18.78\n",
      "avg_year                                                     11.22\n",
      "annual_std                                                   12.01\n",
      "pct_profitable_months                                        65.95\n",
      "best_month                                                   23.75\n",
      "worst_month                                                 -30.89\n",
      "avg_month                                                     0.83\n",
      "monthly_std                                                   4.50\n",
      "pct_profitable_weeks                                         59.29\n",
      "best_week                                                    17.28\n",
      "worst_week                                                  -17.91\n",
      "avg_week                                                      0.21\n",
      "weekly_std                                                    2.40\n",
      "sharpe_ratio                                                  0.61\n",
      "sortino_ratio                                                 0.75\n",
      "dtype: object\n"
     ]
    }
   ],
   "source": [
    "stats = pf.stats(ts, tlog, dbal, capital)\n",
    "pf.print_full(stats)"
   ]
  },
  {
   "cell_type": "markdown",
   "metadata": {},
   "source": [
    "Run Benchmark"
   ]
  },
  {
   "cell_type": "code",
   "execution_count": 18,
   "metadata": {
    "ExecuteTime": {
     "end_time": "2020-02-17T05:42:12.845575Z",
     "start_time": "2020-02-17T05:42:12.731797Z"
    }
   },
   "outputs": [
    {
     "name": "stdout",
     "output_type": "stream",
     "text": [
      "2005-09-02 00:00:00 BUY  110 SPY @ 90.70\n",
      "2020-04-24 00:00:00 SELL 110 SPY @ 282.97\n"
     ]
    }
   ],
   "source": [
    "benchmark = pf.Benchmark(symbol, capital, start, end, use_adj)\n",
    "benchmark.run()"
   ]
  },
  {
   "cell_type": "markdown",
   "metadata": {},
   "source": [
    "Retrieve benchmark logs"
   ]
  },
  {
   "cell_type": "code",
   "execution_count": 19,
   "metadata": {
    "ExecuteTime": {
     "end_time": "2020-02-17T05:42:13.128511Z",
     "start_time": "2020-02-17T05:42:12.849732Z"
    }
   },
   "outputs": [],
   "source": [
    "benchmark.tlog, benchmark.dbal = benchmark.get_logs()"
   ]
  },
  {
   "cell_type": "markdown",
   "metadata": {},
   "source": [
    "Generate benchmark stats"
   ]
  },
  {
   "cell_type": "code",
   "execution_count": 20,
   "metadata": {
    "ExecuteTime": {
     "end_time": "2020-02-17T05:42:13.335808Z",
     "start_time": "2020-02-17T05:42:13.137325Z"
    },
    "scrolled": false
   },
   "outputs": [],
   "source": [
    "benchmark.stats = benchmark.get_stats()"
   ]
  },
  {
   "cell_type": "markdown",
   "metadata": {},
   "source": [
    "Plot Equity Curves: Strategy vs Benchmark"
   ]
  },
  {
   "cell_type": "code",
   "execution_count": 21,
   "metadata": {
    "ExecuteTime": {
     "end_time": "2020-02-17T05:42:13.662863Z",
     "start_time": "2020-02-17T05:42:13.340868Z"
    }
   },
   "outputs": [
    {
     "data": {
      "image/png": "[encoded data removed]",
      "text/plain": [
       "<Figure size 720x504 with 1 Axes>"
      ]
     },
     "metadata": {
      "needs_background": "light"
     },
     "output_type": "display_data"
    }
   ],
   "source": [
    "pf.plot_equity_curve(dbal, benchmark=benchmark.dbal)"
   ]
  },
  {
   "cell_type": "markdown",
   "metadata": {},
   "source": [
    "Plot Trades - this graph requires some interpretation.  The black up arrows represent a sell/buy pair.  Either SPY/GLD sell/buy or GLD/SPY sell/buy.  These will alternate.  If the market is starting to fall, SPY is traded out for GLD.  If the market is starting to rise, the GLD is traded out for SPY."
   ]
  },
  {
   "cell_type": "code",
   "execution_count": 22,
   "metadata": {
    "ExecuteTime": {
     "end_time": "2020-02-17T05:42:13.995723Z",
     "start_time": "2020-02-17T05:42:13.670168Z"
    }
   },
   "outputs": [
    {
     "data": {
      "image/png": "[encoded data removed]",
      "text/plain": [
       "<Figure size 720x504 with 1 Axes>"
      ]
     },
     "metadata": {
      "needs_background": "light"
     },
     "output_type": "display_data"
    }
   ],
   "source": [
    "\n",
    "pf.plot_trades(dbal, benchmark=benchmark.dbal)"
   ]
  },
  {
   "cell_type": "markdown",
   "metadata": {},
   "source": [
    "Strategy vs Benchmark"
   ]
  },
  {
   "cell_type": "code",
   "execution_count": 23,
   "metadata": {
    "ExecuteTime": {
     "end_time": "2020-02-17T05:42:14.027499Z",
     "start_time": "2020-02-17T05:42:14.003783Z"
    }
   },
   "outputs": [
    {
     "data": {
      "text/html": [
       "<div>\n",
       "<style scoped>\n",
       "    .dataframe tbody tr th:only-of-type {\n",
       "        vertical-align: middle;\n",
       "    }\n",
       "\n",
       "    .dataframe tbody tr th {\n",
       "        vertical-align: top;\n",
       "    }\n",
       "\n",
       "    .dataframe thead th {\n",
       "        text-align: right;\n",
       "    }\n",
       "</style>\n",
       "<table border=\"1\" class=\"dataframe\">\n",
       "  <thead>\n",
       "    <tr style=\"text-align: right;\">\n",
       "      <th></th>\n",
       "      <th>strategy</th>\n",
       "      <th>benchmark</th>\n",
       "    </tr>\n",
       "  </thead>\n",
       "  <tbody>\n",
       "    <tr>\n",
       "      <th>beginning_balance</th>\n",
       "      <td>$10,000.00</td>\n",
       "      <td>$10,000.00</td>\n",
       "    </tr>\n",
       "    <tr>\n",
       "      <th>ending_balance</th>\n",
       "      <td>$39,501.73</td>\n",
       "      <td>$31,149.54</td>\n",
       "    </tr>\n",
       "    <tr>\n",
       "      <th>total_net_profit</th>\n",
       "      <td>$29,501.73</td>\n",
       "      <td>$21,149.54</td>\n",
       "    </tr>\n",
       "    <tr>\n",
       "      <th>gross_profit</th>\n",
       "      <td>$36,660.34</td>\n",
       "      <td>$21,149.54</td>\n",
       "    </tr>\n",
       "    <tr>\n",
       "      <th>gross_loss</th>\n",
       "      <td>-$7,158.62</td>\n",
       "      <td>$0.00</td>\n",
       "    </tr>\n",
       "  </tbody>\n",
       "</table>\n",
       "</div>"
      ],
      "text/plain": [
       "                     strategy   benchmark\n",
       "beginning_balance  $10,000.00  $10,000.00\n",
       "ending_balance     $39,501.73  $31,149.54\n",
       "total_net_profit   $29,501.73  $21,149.54\n",
       "gross_profit       $36,660.34  $21,149.54\n",
       "gross_loss         -$7,158.62       $0.00"
      ]
     },
     "execution_count": 23,
     "metadata": {},
     "output_type": "execute_result"
    }
   ],
   "source": [
    "df = pf.summary5(stats, benchmark.stats)\n",
    "df"
   ]
  },
  {
   "cell_type": "code",
   "execution_count": 24,
   "metadata": {
    "ExecuteTime": {
     "end_time": "2020-02-17T05:42:14.446464Z",
     "start_time": "2020-02-17T05:42:14.037319Z"
    },
    "scrolled": false
   },
   "outputs": [
    {
     "data": {
      "text/html": [
       "<div>\n",
       "<style scoped>\n",
       "    .dataframe tbody tr th:only-of-type {\n",
       "        vertical-align: middle;\n",
       "    }\n",
       "\n",
       "    .dataframe tbody tr th {\n",
       "        vertical-align: top;\n",
       "    }\n",
       "\n",
       "    .dataframe thead th {\n",
       "        text-align: right;\n",
       "    }\n",
       "</style>\n",
       "<table border=\"1\" class=\"dataframe\">\n",
       "  <thead>\n",
       "    <tr style=\"text-align: right;\">\n",
       "      <th></th>\n",
       "      <th>strategy</th>\n",
       "      <th>benchmark</th>\n",
       "    </tr>\n",
       "  </thead>\n",
       "  <tbody>\n",
       "    <tr>\n",
       "      <th>annual_return_rate</th>\n",
       "      <td>9.84</td>\n",
       "      <td>8.07</td>\n",
       "    </tr>\n",
       "    <tr>\n",
       "      <th>max_closed_out_drawdown</th>\n",
       "      <td>-33.61</td>\n",
       "      <td>-55.09</td>\n",
       "    </tr>\n",
       "    <tr>\n",
       "      <th>drawdown_annualized_return</th>\n",
       "      <td>-3.42</td>\n",
       "      <td>-6.83</td>\n",
       "    </tr>\n",
       "    <tr>\n",
       "      <th>drawdown_recovery</th>\n",
       "      <td>-0.09</td>\n",
       "      <td>-1.42</td>\n",
       "    </tr>\n",
       "    <tr>\n",
       "      <th>best_month</th>\n",
       "      <td>23.75</td>\n",
       "      <td>23.53</td>\n",
       "    </tr>\n",
       "    <tr>\n",
       "      <th>worst_month</th>\n",
       "      <td>-30.89</td>\n",
       "      <td>-30.97</td>\n",
       "    </tr>\n",
       "    <tr>\n",
       "      <th>sharpe_ratio</th>\n",
       "      <td>0.61</td>\n",
       "      <td>0.49</td>\n",
       "    </tr>\n",
       "    <tr>\n",
       "      <th>sortino_ratio</th>\n",
       "      <td>0.75</td>\n",
       "      <td>0.58</td>\n",
       "    </tr>\n",
       "    <tr>\n",
       "      <th>monthly_std</th>\n",
       "      <td>4.50</td>\n",
       "      <td>4.64</td>\n",
       "    </tr>\n",
       "    <tr>\n",
       "      <th>trades_per_year</th>\n",
       "      <td>1.09</td>\n",
       "      <td>0.07</td>\n",
       "    </tr>\n",
       "  </tbody>\n",
       "</table>\n",
       "</div>"
      ],
      "text/plain": [
       "                            strategy  benchmark\n",
       "annual_return_rate              9.84       8.07\n",
       "max_closed_out_drawdown       -33.61     -55.09\n",
       "drawdown_annualized_return     -3.42      -6.83\n",
       "drawdown_recovery              -0.09      -1.42\n",
       "best_month                     23.75      23.53\n",
       "worst_month                   -30.89     -30.97\n",
       "sharpe_ratio                    0.61       0.49\n",
       "sortino_ratio                   0.75       0.58\n",
       "monthly_std                     4.50       4.64\n",
       "trades_per_year                 1.09       0.07"
      ]
     },
     "execution_count": 24,
     "metadata": {},
     "output_type": "execute_result"
    },
    {
     "data": {
      "image/png": "[encoded data removed]",
      "text/plain": [
       "<Figure size 720x504 with 1 Axes>"
      ]
     },
     "metadata": {
      "needs_background": "light"
     },
     "output_type": "display_data"
    }
   ],
   "source": [
    "metrics = ('annual_return_rate',\n",
    "           'max_closed_out_drawdown',\n",
    "           'drawdown_annualized_return',\n",
    "           'drawdown_recovery',\n",
    "           'best_month',\n",
    "           'worst_month',\n",
    "           'sharpe_ratio',\n",
    "           'sortino_ratio',\n",
    "           'monthly_std',\n",
    "           'trades_per_year')\n",
    "\n",
    "df = pf.plot_bar_graph(stats, benchmark.stats, *metrics)\n",
    "df"
   ]
  }
 ],
 "metadata": {
  "kernelspec": {
   "display_name": "Python 3",
   "language": "python",
   "name": "python3"
  },
  "language_info": {
   "codemirror_mode": {
    "name": "ipython",
    "version": 3
   },
   "file_extension": ".py",
   "mimetype": "text/x-python",
   "name": "python",
   "nbconvert_exporter": "python",
   "pygments_lexer": "ipython3",
   "version": "3.8.2"
  },
  "latex_envs": {
   "LaTeX_envs_menu_present": true,
   "autoclose": false,
   "autocomplete": true,
   "bibliofile": "biblio.bib",
   "cite_by": "apalike",
   "current_citInitial": 1,
   "eqLabelWithNumbers": true,
   "eqNumInitial": 1,
   "hotkeys": {
    "equation": "Ctrl-E",
    "itemize": "Ctrl-I"
   },
   "labels_anchors": false,
   "latex_user_defs": false,
   "report_style_numbering": false,
   "user_envs_cfg": false
  }
 },
 "nbformat": 4,
 "nbformat_minor": 1
}
