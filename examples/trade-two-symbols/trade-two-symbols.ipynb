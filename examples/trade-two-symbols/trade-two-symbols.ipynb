{
 "cells": [
  {
   "cell_type": "markdown",
   "metadata": {},
   "source": [
    "# Golden Cross / Death Cross SPY (GLD)\n",
    "\n",
    "    1. sma50>sma200, buy SPY\n",
    "    2. sma50<sma200, sell your long SPY position\n",
    "    3. when out of your SPY position, hold GLD"
   ]
  },
  {
   "cell_type": "code",
   "execution_count": 1,
   "metadata": {
    "ExecuteTime": {
     "end_time": "2020-02-17T05:42:08.798393Z",
     "start_time": "2020-02-17T05:42:07.455687Z"
    }
   },
   "outputs": [],
   "source": [
    "# use future imports for python 3.x forward compatibility\n",
    "from __future__ import print_function\n",
    "from __future__ import unicode_literals\n",
    "from __future__ import division\n",
    "from __future__ import absolute_import\n",
    "\n",
    "# other imports\n",
    "import pandas as pd\n",
    "import matplotlib.pyplot as plt\n",
    "import datetime\n",
    "from talib.abstract import *\n",
    "\n",
    "# project imports\n",
    "import pinkfish as pf\n",
    "\n",
    "# format price data\n",
    "pd.options.display.float_format = '{:0.2f}'.format\n",
    "\n",
    "%matplotlib inline"
   ]
  },
  {
   "cell_type": "code",
   "execution_count": 2,
   "metadata": {
    "ExecuteTime": {
     "end_time": "2020-02-17T05:42:08.816893Z",
     "start_time": "2020-02-17T05:42:08.808607Z"
    }
   },
   "outputs": [],
   "source": [
    "# set size of inline plots\n",
    "'''note: rcParams can't be in same cell as import matplotlib\n",
    "   or %matplotlib inline\n",
    "   \n",
    "   %matplotlib notebook: will lead to interactive plots embedded within\n",
    "   the notebook, you can zoom and resize the figure\n",
    "   \n",
    "   %matplotlib inline: only draw static images in the notebook\n",
    "'''\n",
    "plt.rcParams[\"figure.figsize\"] = (10, 7)"
   ]
  },
  {
   "cell_type": "markdown",
   "metadata": {},
   "source": [
    "Some global data"
   ]
  },
  {
   "cell_type": "code",
   "execution_count": 3,
   "metadata": {
    "ExecuteTime": {
     "end_time": "2020-02-17T05:42:08.835362Z",
     "start_time": "2020-02-17T05:42:08.821138Z"
    }
   },
   "outputs": [],
   "source": [
    "#symbol = '^GSPC'\n",
    "symbol = 'SPY'\n",
    "other_symbol = 'GLD'\n",
    "#other_symbol = 'TLT'\n",
    "#other_symbol = 'SHY'\n",
    "#other_symbol = 'SH'\n",
    "\n",
    "capital = 10000\n",
    "start = datetime.datetime(1900, 1, 1)\n",
    "#start = datetime.datetime.strptime(pf.SP500_BEGIN, '%Y-%m-%d')\n",
    "end = datetime.datetime.now()"
   ]
  },
  {
   "cell_type": "markdown",
   "metadata": {},
   "source": [
    "Include dividends? (If yes, set to True)"
   ]
  },
  {
   "cell_type": "code",
   "execution_count": 4,
   "metadata": {
    "ExecuteTime": {
     "end_time": "2020-02-17T05:42:08.853668Z",
     "start_time": "2020-02-17T05:42:08.840333Z"
    }
   },
   "outputs": [],
   "source": [
    "use_adj = True"
   ]
  },
  {
   "cell_type": "markdown",
   "metadata": {},
   "source": [
    "Use cache?"
   ]
  },
  {
   "cell_type": "code",
   "execution_count": 5,
   "metadata": {
    "ExecuteTime": {
     "end_time": "2020-02-17T05:42:08.865961Z",
     "start_time": "2020-02-17T05:42:08.857247Z"
    }
   },
   "outputs": [],
   "source": [
    "use_cache = False"
   ]
  },
  {
   "cell_type": "markdown",
   "metadata": {},
   "source": [
    "Fetch symbol data from internet; use cache if available."
   ]
  },
  {
   "cell_type": "code",
   "execution_count": 6,
   "metadata": {
    "ExecuteTime": {
     "end_time": "2020-02-17T05:42:10.368599Z",
     "start_time": "2020-02-17T05:42:08.870851Z"
    }
   },
   "outputs": [
    {
     "data": {
      "text/html": [
       "<div>\n",
       "<style scoped>\n",
       "    .dataframe tbody tr th:only-of-type {\n",
       "        vertical-align: middle;\n",
       "    }\n",
       "\n",
       "    .dataframe tbody tr th {\n",
       "        vertical-align: top;\n",
       "    }\n",
       "\n",
       "    .dataframe thead th {\n",
       "        text-align: right;\n",
       "    }\n",
       "</style>\n",
       "<table border=\"1\" class=\"dataframe\">\n",
       "  <thead>\n",
       "    <tr style=\"text-align: right;\">\n",
       "      <th></th>\n",
       "      <th>high</th>\n",
       "      <th>low</th>\n",
       "      <th>open</th>\n",
       "      <th>close</th>\n",
       "      <th>volume</th>\n",
       "      <th>adj_close</th>\n",
       "    </tr>\n",
       "    <tr>\n",
       "      <th>date</th>\n",
       "      <th></th>\n",
       "      <th></th>\n",
       "      <th></th>\n",
       "      <th></th>\n",
       "      <th></th>\n",
       "      <th></th>\n",
       "    </tr>\n",
       "  </thead>\n",
       "  <tbody>\n",
       "    <tr>\n",
       "      <th>1993-01-29</th>\n",
       "      <td>43.97</td>\n",
       "      <td>43.75</td>\n",
       "      <td>43.97</td>\n",
       "      <td>43.94</td>\n",
       "      <td>1003200.00</td>\n",
       "      <td>26.45</td>\n",
       "    </tr>\n",
       "    <tr>\n",
       "      <th>1993-02-01</th>\n",
       "      <td>44.25</td>\n",
       "      <td>43.97</td>\n",
       "      <td>43.97</td>\n",
       "      <td>44.25</td>\n",
       "      <td>480500.00</td>\n",
       "      <td>26.64</td>\n",
       "    </tr>\n",
       "    <tr>\n",
       "      <th>1993-02-02</th>\n",
       "      <td>44.38</td>\n",
       "      <td>44.12</td>\n",
       "      <td>44.22</td>\n",
       "      <td>44.34</td>\n",
       "      <td>201300.00</td>\n",
       "      <td>26.70</td>\n",
       "    </tr>\n",
       "    <tr>\n",
       "      <th>1993-02-03</th>\n",
       "      <td>44.84</td>\n",
       "      <td>44.38</td>\n",
       "      <td>44.41</td>\n",
       "      <td>44.81</td>\n",
       "      <td>529400.00</td>\n",
       "      <td>26.98</td>\n",
       "    </tr>\n",
       "    <tr>\n",
       "      <th>1993-02-04</th>\n",
       "      <td>45.09</td>\n",
       "      <td>44.47</td>\n",
       "      <td>44.97</td>\n",
       "      <td>45.00</td>\n",
       "      <td>531500.00</td>\n",
       "      <td>27.09</td>\n",
       "    </tr>\n",
       "  </tbody>\n",
       "</table>\n",
       "</div>"
      ],
      "text/plain": [
       "            high   low  open  close     volume  adj_close\n",
       "date                                                     \n",
       "1993-01-29 43.97 43.75 43.97  43.94 1003200.00      26.45\n",
       "1993-02-01 44.25 43.97 43.97  44.25  480500.00      26.64\n",
       "1993-02-02 44.38 44.12 44.22  44.34  201300.00      26.70\n",
       "1993-02-03 44.84 44.38 44.41  44.81  529400.00      26.98\n",
       "1993-02-04 45.09 44.47 44.97  45.00  531500.00      27.09"
      ]
     },
     "execution_count": 6,
     "metadata": {},
     "output_type": "execute_result"
    }
   ],
   "source": [
    "ts = pf.fetch_timeseries(symbol, use_cache=use_cache)\n",
    "ts.head()"
   ]
  },
  {
   "cell_type": "markdown",
   "metadata": {},
   "source": [
    "Select timeseries between start and end. Back adjust prices relative to adj_close for dividends and splits."
   ]
  },
  {
   "cell_type": "code",
   "execution_count": 7,
   "metadata": {
    "ExecuteTime": {
     "end_time": "2020-02-17T05:42:10.411604Z",
     "start_time": "2020-02-17T05:42:10.375058Z"
    }
   },
   "outputs": [
    {
     "data": {
      "text/html": [
       "<div>\n",
       "<style scoped>\n",
       "    .dataframe tbody tr th:only-of-type {\n",
       "        vertical-align: middle;\n",
       "    }\n",
       "\n",
       "    .dataframe tbody tr th {\n",
       "        vertical-align: top;\n",
       "    }\n",
       "\n",
       "    .dataframe thead th {\n",
       "        text-align: right;\n",
       "    }\n",
       "</style>\n",
       "<table border=\"1\" class=\"dataframe\">\n",
       "  <thead>\n",
       "    <tr style=\"text-align: right;\">\n",
       "      <th></th>\n",
       "      <th>high</th>\n",
       "      <th>low</th>\n",
       "      <th>open</th>\n",
       "      <th>close</th>\n",
       "      <th>volume</th>\n",
       "      <th>adj_close</th>\n",
       "    </tr>\n",
       "    <tr>\n",
       "      <th>date</th>\n",
       "      <th></th>\n",
       "      <th></th>\n",
       "      <th></th>\n",
       "      <th></th>\n",
       "      <th></th>\n",
       "      <th></th>\n",
       "    </tr>\n",
       "  </thead>\n",
       "  <tbody>\n",
       "    <tr>\n",
       "      <th>1993-01-29</th>\n",
       "      <td>26.47</td>\n",
       "      <td>26.34</td>\n",
       "      <td>26.47</td>\n",
       "      <td>26.45</td>\n",
       "      <td>1003200.00</td>\n",
       "      <td>26.45</td>\n",
       "    </tr>\n",
       "    <tr>\n",
       "      <th>1993-02-01</th>\n",
       "      <td>26.64</td>\n",
       "      <td>26.47</td>\n",
       "      <td>26.47</td>\n",
       "      <td>26.64</td>\n",
       "      <td>480500.00</td>\n",
       "      <td>26.64</td>\n",
       "    </tr>\n",
       "    <tr>\n",
       "      <th>1993-02-02</th>\n",
       "      <td>26.72</td>\n",
       "      <td>26.57</td>\n",
       "      <td>26.62</td>\n",
       "      <td>26.70</td>\n",
       "      <td>201300.00</td>\n",
       "      <td>26.70</td>\n",
       "    </tr>\n",
       "    <tr>\n",
       "      <th>1993-02-03</th>\n",
       "      <td>27.00</td>\n",
       "      <td>26.72</td>\n",
       "      <td>26.74</td>\n",
       "      <td>26.98</td>\n",
       "      <td>529400.00</td>\n",
       "      <td>26.98</td>\n",
       "    </tr>\n",
       "    <tr>\n",
       "      <th>1993-02-04</th>\n",
       "      <td>27.15</td>\n",
       "      <td>26.77</td>\n",
       "      <td>27.07</td>\n",
       "      <td>27.09</td>\n",
       "      <td>531500.00</td>\n",
       "      <td>27.09</td>\n",
       "    </tr>\n",
       "  </tbody>\n",
       "</table>\n",
       "</div>"
      ],
      "text/plain": [
       "            high   low  open  close     volume  adj_close\n",
       "date                                                     \n",
       "1993-01-29 26.47 26.34 26.47  26.45 1003200.00      26.45\n",
       "1993-02-01 26.64 26.47 26.47  26.64  480500.00      26.64\n",
       "1993-02-02 26.72 26.57 26.62  26.70  201300.00      26.70\n",
       "1993-02-03 27.00 26.72 26.74  26.98  529400.00      26.98\n",
       "1993-02-04 27.15 26.77 27.07  27.09  531500.00      27.09"
      ]
     },
     "execution_count": 7,
     "metadata": {},
     "output_type": "execute_result"
    }
   ],
   "source": [
    "ts = pf.select_tradeperiod(ts, start, end, use_adj)\n",
    "ts.head()"
   ]
  },
  {
   "cell_type": "markdown",
   "metadata": {},
   "source": [
    "Add technical indicator: 50 day ma and 200 day ma"
   ]
  },
  {
   "cell_type": "code",
   "execution_count": 8,
   "metadata": {
    "ExecuteTime": {
     "end_time": "2020-02-17T05:42:10.557853Z",
     "start_time": "2020-02-17T05:42:10.417909Z"
    }
   },
   "outputs": [
    {
     "data": {
      "text/html": [
       "<div>\n",
       "<style scoped>\n",
       "    .dataframe tbody tr th:only-of-type {\n",
       "        vertical-align: middle;\n",
       "    }\n",
       "\n",
       "    .dataframe tbody tr th {\n",
       "        vertical-align: top;\n",
       "    }\n",
       "\n",
       "    .dataframe thead th {\n",
       "        text-align: right;\n",
       "    }\n",
       "</style>\n",
       "<table border=\"1\" class=\"dataframe\">\n",
       "  <thead>\n",
       "    <tr style=\"text-align: right;\">\n",
       "      <th></th>\n",
       "      <th>high</th>\n",
       "      <th>low</th>\n",
       "      <th>open</th>\n",
       "      <th>close</th>\n",
       "      <th>volume</th>\n",
       "      <th>adj_close</th>\n",
       "      <th>sma50</th>\n",
       "      <th>sma200</th>\n",
       "    </tr>\n",
       "    <tr>\n",
       "      <th>date</th>\n",
       "      <th></th>\n",
       "      <th></th>\n",
       "      <th></th>\n",
       "      <th></th>\n",
       "      <th></th>\n",
       "      <th></th>\n",
       "      <th></th>\n",
       "      <th></th>\n",
       "    </tr>\n",
       "  </thead>\n",
       "  <tbody>\n",
       "    <tr>\n",
       "      <th>2020-02-10</th>\n",
       "      <td>334.75</td>\n",
       "      <td>331.19</td>\n",
       "      <td>331.23</td>\n",
       "      <td>334.68</td>\n",
       "      <td>42070000.00</td>\n",
       "      <td>334.68</td>\n",
       "      <td>322.52</td>\n",
       "      <td>299.89</td>\n",
       "    </tr>\n",
       "    <tr>\n",
       "      <th>2020-02-11</th>\n",
       "      <td>337.02</td>\n",
       "      <td>334.68</td>\n",
       "      <td>336.16</td>\n",
       "      <td>335.26</td>\n",
       "      <td>54864500.00</td>\n",
       "      <td>335.26</td>\n",
       "      <td>322.94</td>\n",
       "      <td>300.12</td>\n",
       "    </tr>\n",
       "    <tr>\n",
       "      <th>2020-02-12</th>\n",
       "      <td>337.65</td>\n",
       "      <td>336.43</td>\n",
       "      <td>336.83</td>\n",
       "      <td>337.42</td>\n",
       "      <td>43992700.00</td>\n",
       "      <td>337.42</td>\n",
       "      <td>323.43</td>\n",
       "      <td>300.35</td>\n",
       "    </tr>\n",
       "    <tr>\n",
       "      <th>2020-02-13</th>\n",
       "      <td>338.12</td>\n",
       "      <td>335.56</td>\n",
       "      <td>335.86</td>\n",
       "      <td>337.06</td>\n",
       "      <td>54501900.00</td>\n",
       "      <td>337.06</td>\n",
       "      <td>323.97</td>\n",
       "      <td>300.59</td>\n",
       "    </tr>\n",
       "    <tr>\n",
       "      <th>2020-02-14</th>\n",
       "      <td>337.73</td>\n",
       "      <td>336.20</td>\n",
       "      <td>337.51</td>\n",
       "      <td>337.60</td>\n",
       "      <td>64524200.00</td>\n",
       "      <td>337.60</td>\n",
       "      <td>324.57</td>\n",
       "      <td>300.84</td>\n",
       "    </tr>\n",
       "  </tbody>\n",
       "</table>\n",
       "</div>"
      ],
      "text/plain": [
       "             high    low   open  close      volume  adj_close  sma50  sma200\n",
       "date                                                                        \n",
       "2020-02-10 334.75 331.19 331.23 334.68 42070000.00     334.68 322.52  299.89\n",
       "2020-02-11 337.02 334.68 336.16 335.26 54864500.00     335.26 322.94  300.12\n",
       "2020-02-12 337.65 336.43 336.83 337.42 43992700.00     337.42 323.43  300.35\n",
       "2020-02-13 338.12 335.56 335.86 337.06 54501900.00     337.06 323.97  300.59\n",
       "2020-02-14 337.73 336.20 337.51 337.60 64524200.00     337.60 324.57  300.84"
      ]
     },
     "execution_count": 8,
     "metadata": {},
     "output_type": "execute_result"
    }
   ],
   "source": [
    "sma50 = SMA(ts, timeperiod=50)\n",
    "ts['sma50'] = sma50\n",
    "\n",
    "sma200 = SMA(ts, timeperiod=200)\n",
    "ts['sma200'] = sma200\n",
    "\n",
    "ts.tail()"
   ]
  },
  {
   "cell_type": "markdown",
   "metadata": {},
   "source": [
    "Add additional symbols and their indicators"
   ]
  },
  {
   "cell_type": "code",
   "execution_count": 9,
   "metadata": {
    "ExecuteTime": {
     "end_time": "2020-02-17T05:42:11.522593Z",
     "start_time": "2020-02-17T05:42:10.571173Z"
    }
   },
   "outputs": [
    {
     "data": {
      "text/html": [
       "<div>\n",
       "<style scoped>\n",
       "    .dataframe tbody tr th:only-of-type {\n",
       "        vertical-align: middle;\n",
       "    }\n",
       "\n",
       "    .dataframe tbody tr th {\n",
       "        vertical-align: top;\n",
       "    }\n",
       "\n",
       "    .dataframe thead th {\n",
       "        text-align: right;\n",
       "    }\n",
       "</style>\n",
       "<table border=\"1\" class=\"dataframe\">\n",
       "  <thead>\n",
       "    <tr style=\"text-align: right;\">\n",
       "      <th></th>\n",
       "      <th>high</th>\n",
       "      <th>low</th>\n",
       "      <th>open</th>\n",
       "      <th>close</th>\n",
       "      <th>volume</th>\n",
       "      <th>adj_close</th>\n",
       "      <th>sma50</th>\n",
       "      <th>sma200</th>\n",
       "      <th>GLD_high</th>\n",
       "      <th>GLD_low</th>\n",
       "      <th>GLD_close</th>\n",
       "      <th>GLD_sma200</th>\n",
       "    </tr>\n",
       "    <tr>\n",
       "      <th>date</th>\n",
       "      <th></th>\n",
       "      <th></th>\n",
       "      <th></th>\n",
       "      <th></th>\n",
       "      <th></th>\n",
       "      <th></th>\n",
       "      <th></th>\n",
       "      <th></th>\n",
       "      <th></th>\n",
       "      <th></th>\n",
       "      <th></th>\n",
       "      <th></th>\n",
       "    </tr>\n",
       "  </thead>\n",
       "  <tbody>\n",
       "    <tr>\n",
       "      <th>1993-01-29</th>\n",
       "      <td>26.47</td>\n",
       "      <td>26.34</td>\n",
       "      <td>26.47</td>\n",
       "      <td>26.45</td>\n",
       "      <td>1003200.00</td>\n",
       "      <td>26.45</td>\n",
       "      <td>nan</td>\n",
       "      <td>nan</td>\n",
       "      <td>nan</td>\n",
       "      <td>nan</td>\n",
       "      <td>nan</td>\n",
       "      <td>nan</td>\n",
       "    </tr>\n",
       "    <tr>\n",
       "      <th>1993-02-01</th>\n",
       "      <td>26.64</td>\n",
       "      <td>26.47</td>\n",
       "      <td>26.47</td>\n",
       "      <td>26.64</td>\n",
       "      <td>480500.00</td>\n",
       "      <td>26.64</td>\n",
       "      <td>nan</td>\n",
       "      <td>nan</td>\n",
       "      <td>nan</td>\n",
       "      <td>nan</td>\n",
       "      <td>nan</td>\n",
       "      <td>nan</td>\n",
       "    </tr>\n",
       "    <tr>\n",
       "      <th>1993-02-02</th>\n",
       "      <td>26.72</td>\n",
       "      <td>26.57</td>\n",
       "      <td>26.62</td>\n",
       "      <td>26.70</td>\n",
       "      <td>201300.00</td>\n",
       "      <td>26.70</td>\n",
       "      <td>nan</td>\n",
       "      <td>nan</td>\n",
       "      <td>nan</td>\n",
       "      <td>nan</td>\n",
       "      <td>nan</td>\n",
       "      <td>nan</td>\n",
       "    </tr>\n",
       "    <tr>\n",
       "      <th>1993-02-03</th>\n",
       "      <td>27.00</td>\n",
       "      <td>26.72</td>\n",
       "      <td>26.74</td>\n",
       "      <td>26.98</td>\n",
       "      <td>529400.00</td>\n",
       "      <td>26.98</td>\n",
       "      <td>nan</td>\n",
       "      <td>nan</td>\n",
       "      <td>nan</td>\n",
       "      <td>nan</td>\n",
       "      <td>nan</td>\n",
       "      <td>nan</td>\n",
       "    </tr>\n",
       "    <tr>\n",
       "      <th>1993-02-04</th>\n",
       "      <td>27.15</td>\n",
       "      <td>26.77</td>\n",
       "      <td>27.07</td>\n",
       "      <td>27.09</td>\n",
       "      <td>531500.00</td>\n",
       "      <td>27.09</td>\n",
       "      <td>nan</td>\n",
       "      <td>nan</td>\n",
       "      <td>nan</td>\n",
       "      <td>nan</td>\n",
       "      <td>nan</td>\n",
       "      <td>nan</td>\n",
       "    </tr>\n",
       "  </tbody>\n",
       "</table>\n",
       "</div>"
      ],
      "text/plain": [
       "            high   low  open  close     volume  adj_close  sma50  sma200  \\\n",
       "date                                                                       \n",
       "1993-01-29 26.47 26.34 26.47  26.45 1003200.00      26.45    nan     nan   \n",
       "1993-02-01 26.64 26.47 26.47  26.64  480500.00      26.64    nan     nan   \n",
       "1993-02-02 26.72 26.57 26.62  26.70  201300.00      26.70    nan     nan   \n",
       "1993-02-03 27.00 26.72 26.74  26.98  529400.00      26.98    nan     nan   \n",
       "1993-02-04 27.15 26.77 27.07  27.09  531500.00      27.09    nan     nan   \n",
       "\n",
       "            GLD_high  GLD_low  GLD_close  GLD_sma200  \n",
       "date                                                  \n",
       "1993-01-29       nan      nan        nan         nan  \n",
       "1993-02-01       nan      nan        nan         nan  \n",
       "1993-02-02       nan      nan        nan         nan  \n",
       "1993-02-03       nan      nan        nan         nan  \n",
       "1993-02-04       nan      nan        nan         nan  "
      ]
     },
     "execution_count": 9,
     "metadata": {},
     "output_type": "execute_result"
    }
   ],
   "source": [
    "def add_symbol_columns(ts, symbol, symbol_ts, fields):\n",
    "    \n",
    "    for field in fields:\n",
    "        column = symbol + '_' + field\n",
    "        ts[column] = symbol_ts[field]\n",
    "    return ts\n",
    "\n",
    "def add_symbols(ts, symbols):\n",
    "    \n",
    "    for symbol in symbols:\n",
    "        \n",
    "        # add another symbol\n",
    "        _ts = pf.fetch_timeseries(symbol, use_cache=use_cache)\n",
    "        _ts = pf.select_tradeperiod(_ts, start, end, use_adj=use_adj)\n",
    "    \n",
    "        # Add technical indicator: 200 day ma\n",
    "        # we are not actually going to use this in the algorithm\n",
    "        # including this for demonstration purposes\n",
    "        sma200 = SMA(_ts, timeperiod=200)\n",
    "        _ts['sma200'] = sma200\n",
    "        \n",
    "        ts = add_symbol_columns(ts, symbol, _ts, fields=['high', 'low', 'close', 'sma200'])\n",
    "    return ts\n",
    "\n",
    "ts = add_symbols(ts, symbols=[other_symbol])\n",
    "ts.head()"
   ]
  },
  {
   "cell_type": "markdown",
   "metadata": {},
   "source": [
    "Finalize time series"
   ]
  },
  {
   "cell_type": "code",
   "execution_count": 10,
   "metadata": {
    "ExecuteTime": {
     "end_time": "2020-02-17T05:42:11.552826Z",
     "start_time": "2020-02-17T05:42:11.531756Z"
    }
   },
   "outputs": [],
   "source": [
    "ts, start = pf.finalize_timeseries(ts, start)"
   ]
  },
  {
   "cell_type": "markdown",
   "metadata": {},
   "source": [
    "Create Trade Log (tlog); Create Daily Balance (dbal)"
   ]
  },
  {
   "cell_type": "code",
   "execution_count": 11,
   "metadata": {
    "ExecuteTime": {
     "end_time": "2020-02-17T05:42:11.569572Z",
     "start_time": "2020-02-17T05:42:11.559717Z"
    }
   },
   "outputs": [],
   "source": [
    "tlog = pf.TradeLog()\n",
    "dbal = pf.DailyBal()"
   ]
  },
  {
   "cell_type": "markdown",
   "metadata": {},
   "source": [
    "Algo: Buy SPY when 50 day ma crosses above 200 day ma.  Sell when 50 day ma crosses below 200 day ma. \n",
    "Hold GLD when not in SPY."
   ]
  },
  {
   "cell_type": "code",
   "execution_count": 12,
   "metadata": {
    "ExecuteTime": {
     "end_time": "2020-02-17T05:42:11.920977Z",
     "start_time": "2020-02-17T05:42:11.575769Z"
    },
    "scrolled": false
   },
   "outputs": [
    {
     "name": "stdout",
     "output_type": "stream",
     "text": [
      "0.266080141068\n"
     ]
    }
   ],
   "source": [
    "tlog.cash = capital\n",
    "tlog.position = None\n",
    "\n",
    "import time\n",
    "t0 = time.time()\n",
    "\n",
    "for i, row in enumerate(ts.itertuples()):\n",
    "\n",
    "    date = row.Index.to_pydatetime()\n",
    "    high = row.high\n",
    "    low = row.low\n",
    "    close = row.close\n",
    "    sma50 = row.sma50\n",
    "    sma200 = row.sma200\n",
    "    other_high = getattr(row, other_symbol + '_high')\n",
    "    other_low = getattr(row, other_symbol + '_low')\n",
    "    other_close = getattr(row, other_symbol + '_close')\n",
    "    end_flag = True if (i == len(ts) - 1) else False\n",
    "        \n",
    "    # last row\n",
    "    if end_flag:\n",
    "        if tlog.position == symbol:\n",
    "            tlog.exit_trade(date, close, symbol=symbol)\n",
    "        elif tlog.position == other_symbol:\n",
    "            tlog.exit_trade(date, other_close, symbol=other_symbol)\n",
    "        tlog.position = None\n",
    "    else:\n",
    "        # buy SPY and sell GLD\n",
    "        if (sma50 > sma200 and ts['sma50'][i-1] <= ts['sma200'][i-1]):\n",
    "            if tlog.position == other_symbol:\n",
    "                tlog.exit_trade(date, other_close, symbol=other_symbol)\n",
    "            tlog.enter_trade(date, close, symbol=symbol)\n",
    "            tlog.position = symbol\n",
    "        # sell SPY and buy GLD\n",
    "        elif (sma50 < sma200 and ts['sma50'][i-1] >= ts['sma200'][i-1]):\n",
    "            if tlog.position == symbol:\n",
    "                tlog.exit_trade(date, close, symbol=symbol)\n",
    "                tlog.position = None\n",
    "        \n",
    "        # No position yet, so buy GLD\n",
    "        if tlog.position is None:\n",
    "            tlog.enter_trade(date, other_close, symbol=other_symbol)\n",
    "            tlog.position = other_symbol\n",
    "\n",
    "    # record daily balance\n",
    "    if tlog.position == other_symbol:\n",
    "        dbal.append(date, other_high, other_low, other_close, tlog.shares, tlog.cash)\n",
    "    else:\n",
    "        dbal.append(date, high, low, close, tlog.shares, tlog.cash)\n",
    "\n",
    "t1 = time.time()\n",
    "total = t1-t0\n",
    "print(total)\n",
    "        "
   ]
  },
  {
   "cell_type": "markdown",
   "metadata": {},
   "source": [
    "Retrieve raw log and trade log DataFrames"
   ]
  },
  {
   "cell_type": "code",
   "execution_count": 13,
   "metadata": {
    "ExecuteTime": {
     "end_time": "2020-02-17T05:42:11.943593Z",
     "start_time": "2020-02-17T05:42:11.930529Z"
    }
   },
   "outputs": [],
   "source": [
    "rlog = tlog.get_log_raw()\n",
    "tlog = tlog.get_log()"
   ]
  },
  {
   "cell_type": "code",
   "execution_count": 14,
   "metadata": {
    "ExecuteTime": {
     "end_time": "2020-02-17T05:42:11.990621Z",
     "start_time": "2020-02-17T05:42:11.947894Z"
    }
   },
   "outputs": [
    {
     "data": {
      "text/html": [
       "<div>\n",
       "<style scoped>\n",
       "    .dataframe tbody tr th:only-of-type {\n",
       "        vertical-align: middle;\n",
       "    }\n",
       "\n",
       "    .dataframe tbody tr th {\n",
       "        vertical-align: top;\n",
       "    }\n",
       "\n",
       "    .dataframe thead th {\n",
       "        text-align: right;\n",
       "    }\n",
       "</style>\n",
       "<table border=\"1\" class=\"dataframe\">\n",
       "  <thead>\n",
       "    <tr style=\"text-align: right;\">\n",
       "      <th></th>\n",
       "      <th>date</th>\n",
       "      <th>price</th>\n",
       "      <th>shares</th>\n",
       "      <th>entry_exit</th>\n",
       "      <th>symbol</th>\n",
       "    </tr>\n",
       "  </thead>\n",
       "  <tbody>\n",
       "    <tr>\n",
       "      <th>8</th>\n",
       "      <td>2010-07-07</td>\n",
       "      <td>117.73</td>\n",
       "      <td>176</td>\n",
       "      <td>entry</td>\n",
       "      <td>GLD</td>\n",
       "    </tr>\n",
       "    <tr>\n",
       "      <th>9</th>\n",
       "      <td>2010-10-13</td>\n",
       "      <td>134.07</td>\n",
       "      <td>176</td>\n",
       "      <td>exit</td>\n",
       "      <td>GLD</td>\n",
       "    </tr>\n",
       "    <tr>\n",
       "      <th>10</th>\n",
       "      <td>2010-10-13</td>\n",
       "      <td>97.93</td>\n",
       "      <td>241</td>\n",
       "      <td>entry</td>\n",
       "      <td>SPY</td>\n",
       "    </tr>\n",
       "    <tr>\n",
       "      <th>11</th>\n",
       "      <td>2011-08-17</td>\n",
       "      <td>100.83</td>\n",
       "      <td>241</td>\n",
       "      <td>exit</td>\n",
       "      <td>SPY</td>\n",
       "    </tr>\n",
       "    <tr>\n",
       "      <th>12</th>\n",
       "      <td>2011-08-17</td>\n",
       "      <td>174.42</td>\n",
       "      <td>139</td>\n",
       "      <td>entry</td>\n",
       "      <td>GLD</td>\n",
       "    </tr>\n",
       "    <tr>\n",
       "      <th>13</th>\n",
       "      <td>2012-01-23</td>\n",
       "      <td>163.16</td>\n",
       "      <td>139</td>\n",
       "      <td>exit</td>\n",
       "      <td>GLD</td>\n",
       "    </tr>\n",
       "    <tr>\n",
       "      <th>14</th>\n",
       "      <td>2012-01-23</td>\n",
       "      <td>112.18</td>\n",
       "      <td>202</td>\n",
       "      <td>entry</td>\n",
       "      <td>SPY</td>\n",
       "    </tr>\n",
       "    <tr>\n",
       "      <th>15</th>\n",
       "      <td>2015-09-03</td>\n",
       "      <td>178.86</td>\n",
       "      <td>202</td>\n",
       "      <td>exit</td>\n",
       "      <td>SPY</td>\n",
       "    </tr>\n",
       "    <tr>\n",
       "      <th>16</th>\n",
       "      <td>2015-09-03</td>\n",
       "      <td>107.84</td>\n",
       "      <td>335</td>\n",
       "      <td>entry</td>\n",
       "      <td>GLD</td>\n",
       "    </tr>\n",
       "    <tr>\n",
       "      <th>17</th>\n",
       "      <td>2015-12-09</td>\n",
       "      <td>102.64</td>\n",
       "      <td>335</td>\n",
       "      <td>exit</td>\n",
       "      <td>GLD</td>\n",
       "    </tr>\n",
       "    <tr>\n",
       "      <th>18</th>\n",
       "      <td>2015-12-09</td>\n",
       "      <td>188.79</td>\n",
       "      <td>182</td>\n",
       "      <td>entry</td>\n",
       "      <td>SPY</td>\n",
       "    </tr>\n",
       "    <tr>\n",
       "      <th>19</th>\n",
       "      <td>2016-01-15</td>\n",
       "      <td>173.70</td>\n",
       "      <td>182</td>\n",
       "      <td>exit</td>\n",
       "      <td>SPY</td>\n",
       "    </tr>\n",
       "    <tr>\n",
       "      <th>20</th>\n",
       "      <td>2016-01-15</td>\n",
       "      <td>104.08</td>\n",
       "      <td>304</td>\n",
       "      <td>entry</td>\n",
       "      <td>GLD</td>\n",
       "    </tr>\n",
       "    <tr>\n",
       "      <th>21</th>\n",
       "      <td>2016-04-20</td>\n",
       "      <td>118.97</td>\n",
       "      <td>304</td>\n",
       "      <td>exit</td>\n",
       "      <td>GLD</td>\n",
       "    </tr>\n",
       "    <tr>\n",
       "      <th>22</th>\n",
       "      <td>2016-04-20</td>\n",
       "      <td>195.32</td>\n",
       "      <td>185</td>\n",
       "      <td>entry</td>\n",
       "      <td>SPY</td>\n",
       "    </tr>\n",
       "    <tr>\n",
       "      <th>23</th>\n",
       "      <td>2018-12-12</td>\n",
       "      <td>259.01</td>\n",
       "      <td>185</td>\n",
       "      <td>exit</td>\n",
       "      <td>SPY</td>\n",
       "    </tr>\n",
       "    <tr>\n",
       "      <th>24</th>\n",
       "      <td>2018-12-12</td>\n",
       "      <td>117.79</td>\n",
       "      <td>407</td>\n",
       "      <td>entry</td>\n",
       "      <td>GLD</td>\n",
       "    </tr>\n",
       "    <tr>\n",
       "      <th>25</th>\n",
       "      <td>2019-03-26</td>\n",
       "      <td>124.30</td>\n",
       "      <td>407</td>\n",
       "      <td>exit</td>\n",
       "      <td>GLD</td>\n",
       "    </tr>\n",
       "    <tr>\n",
       "      <th>26</th>\n",
       "      <td>2019-03-26</td>\n",
       "      <td>277.11</td>\n",
       "      <td>182</td>\n",
       "      <td>entry</td>\n",
       "      <td>SPY</td>\n",
       "    </tr>\n",
       "    <tr>\n",
       "      <th>27</th>\n",
       "      <td>2020-02-14</td>\n",
       "      <td>337.60</td>\n",
       "      <td>182</td>\n",
       "      <td>exit</td>\n",
       "      <td>SPY</td>\n",
       "    </tr>\n",
       "  </tbody>\n",
       "</table>\n",
       "</div>"
      ],
      "text/plain": [
       "         date  price  shares entry_exit symbol\n",
       "8  2010-07-07 117.73     176      entry    GLD\n",
       "9  2010-10-13 134.07     176       exit    GLD\n",
       "10 2010-10-13  97.93     241      entry    SPY\n",
       "11 2011-08-17 100.83     241       exit    SPY\n",
       "12 2011-08-17 174.42     139      entry    GLD\n",
       "13 2012-01-23 163.16     139       exit    GLD\n",
       "14 2012-01-23 112.18     202      entry    SPY\n",
       "15 2015-09-03 178.86     202       exit    SPY\n",
       "16 2015-09-03 107.84     335      entry    GLD\n",
       "17 2015-12-09 102.64     335       exit    GLD\n",
       "18 2015-12-09 188.79     182      entry    SPY\n",
       "19 2016-01-15 173.70     182       exit    SPY\n",
       "20 2016-01-15 104.08     304      entry    GLD\n",
       "21 2016-04-20 118.97     304       exit    GLD\n",
       "22 2016-04-20 195.32     185      entry    SPY\n",
       "23 2018-12-12 259.01     185       exit    SPY\n",
       "24 2018-12-12 117.79     407      entry    GLD\n",
       "25 2019-03-26 124.30     407       exit    GLD\n",
       "26 2019-03-26 277.11     182      entry    SPY\n",
       "27 2020-02-14 337.60     182       exit    SPY"
      ]
     },
     "execution_count": 14,
     "metadata": {},
     "output_type": "execute_result"
    }
   ],
   "source": [
    "rlog.tail(20)"
   ]
  },
  {
   "cell_type": "code",
   "execution_count": 15,
   "metadata": {
    "ExecuteTime": {
     "end_time": "2020-02-17T05:42:12.039561Z",
     "start_time": "2020-02-17T05:42:11.997153Z"
    }
   },
   "outputs": [
    {
     "data": {
      "text/html": [
       "<div>\n",
       "<style scoped>\n",
       "    .dataframe tbody tr th:only-of-type {\n",
       "        vertical-align: middle;\n",
       "    }\n",
       "\n",
       "    .dataframe tbody tr th {\n",
       "        vertical-align: top;\n",
       "    }\n",
       "\n",
       "    .dataframe thead th {\n",
       "        text-align: right;\n",
       "    }\n",
       "</style>\n",
       "<table border=\"1\" class=\"dataframe\">\n",
       "  <thead>\n",
       "    <tr style=\"text-align: right;\">\n",
       "      <th></th>\n",
       "      <th>entry_date</th>\n",
       "      <th>entry_price</th>\n",
       "      <th>exit_date</th>\n",
       "      <th>exit_price</th>\n",
       "      <th>pl_points</th>\n",
       "      <th>pl_cash</th>\n",
       "      <th>qty</th>\n",
       "      <th>cumul_total</th>\n",
       "      <th>symbol</th>\n",
       "    </tr>\n",
       "  </thead>\n",
       "  <tbody>\n",
       "    <tr>\n",
       "      <th>4</th>\n",
       "      <td>2010-07-07</td>\n",
       "      <td>117.73</td>\n",
       "      <td>2010-10-13</td>\n",
       "      <td>134.07</td>\n",
       "      <td>16.34</td>\n",
       "      <td>2875.84</td>\n",
       "      <td>176</td>\n",
       "      <td>13623.95</td>\n",
       "      <td>GLD</td>\n",
       "    </tr>\n",
       "    <tr>\n",
       "      <th>5</th>\n",
       "      <td>2010-10-13</td>\n",
       "      <td>97.93</td>\n",
       "      <td>2011-08-17</td>\n",
       "      <td>100.83</td>\n",
       "      <td>2.91</td>\n",
       "      <td>700.68</td>\n",
       "      <td>241</td>\n",
       "      <td>14324.63</td>\n",
       "      <td>SPY</td>\n",
       "    </tr>\n",
       "    <tr>\n",
       "      <th>6</th>\n",
       "      <td>2011-08-17</td>\n",
       "      <td>174.42</td>\n",
       "      <td>2012-01-23</td>\n",
       "      <td>163.16</td>\n",
       "      <td>-11.26</td>\n",
       "      <td>-1565.14</td>\n",
       "      <td>139</td>\n",
       "      <td>12759.49</td>\n",
       "      <td>GLD</td>\n",
       "    </tr>\n",
       "    <tr>\n",
       "      <th>7</th>\n",
       "      <td>2012-01-23</td>\n",
       "      <td>112.18</td>\n",
       "      <td>2015-09-03</td>\n",
       "      <td>178.86</td>\n",
       "      <td>66.69</td>\n",
       "      <td>13470.87</td>\n",
       "      <td>202</td>\n",
       "      <td>26230.36</td>\n",
       "      <td>SPY</td>\n",
       "    </tr>\n",
       "    <tr>\n",
       "      <th>8</th>\n",
       "      <td>2015-09-03</td>\n",
       "      <td>107.84</td>\n",
       "      <td>2015-12-09</td>\n",
       "      <td>102.64</td>\n",
       "      <td>-5.20</td>\n",
       "      <td>-1742.00</td>\n",
       "      <td>335</td>\n",
       "      <td>24488.36</td>\n",
       "      <td>GLD</td>\n",
       "    </tr>\n",
       "    <tr>\n",
       "      <th>9</th>\n",
       "      <td>2015-12-09</td>\n",
       "      <td>188.79</td>\n",
       "      <td>2016-01-15</td>\n",
       "      <td>173.70</td>\n",
       "      <td>-15.09</td>\n",
       "      <td>-2746.33</td>\n",
       "      <td>182</td>\n",
       "      <td>21742.02</td>\n",
       "      <td>SPY</td>\n",
       "    </tr>\n",
       "    <tr>\n",
       "      <th>10</th>\n",
       "      <td>2016-01-15</td>\n",
       "      <td>104.08</td>\n",
       "      <td>2016-04-20</td>\n",
       "      <td>118.97</td>\n",
       "      <td>14.89</td>\n",
       "      <td>4526.56</td>\n",
       "      <td>304</td>\n",
       "      <td>26268.58</td>\n",
       "      <td>GLD</td>\n",
       "    </tr>\n",
       "    <tr>\n",
       "      <th>11</th>\n",
       "      <td>2016-04-20</td>\n",
       "      <td>195.32</td>\n",
       "      <td>2018-12-12</td>\n",
       "      <td>259.01</td>\n",
       "      <td>63.69</td>\n",
       "      <td>11782.99</td>\n",
       "      <td>185</td>\n",
       "      <td>38051.57</td>\n",
       "      <td>SPY</td>\n",
       "    </tr>\n",
       "    <tr>\n",
       "      <th>12</th>\n",
       "      <td>2018-12-12</td>\n",
       "      <td>117.79</td>\n",
       "      <td>2019-03-26</td>\n",
       "      <td>124.30</td>\n",
       "      <td>6.51</td>\n",
       "      <td>2649.57</td>\n",
       "      <td>407</td>\n",
       "      <td>40701.14</td>\n",
       "      <td>GLD</td>\n",
       "    </tr>\n",
       "    <tr>\n",
       "      <th>13</th>\n",
       "      <td>2019-03-26</td>\n",
       "      <td>277.11</td>\n",
       "      <td>2020-02-14</td>\n",
       "      <td>337.60</td>\n",
       "      <td>60.49</td>\n",
       "      <td>11009.01</td>\n",
       "      <td>182</td>\n",
       "      <td>51710.15</td>\n",
       "      <td>SPY</td>\n",
       "    </tr>\n",
       "  </tbody>\n",
       "</table>\n",
       "</div>"
      ],
      "text/plain": [
       "   entry_date  entry_price  exit_date  exit_price  pl_points  pl_cash  qty  \\\n",
       "4  2010-07-07       117.73 2010-10-13      134.07      16.34  2875.84  176   \n",
       "5  2010-10-13        97.93 2011-08-17      100.83       2.91   700.68  241   \n",
       "6  2011-08-17       174.42 2012-01-23      163.16     -11.26 -1565.14  139   \n",
       "7  2012-01-23       112.18 2015-09-03      178.86      66.69 13470.87  202   \n",
       "8  2015-09-03       107.84 2015-12-09      102.64      -5.20 -1742.00  335   \n",
       "9  2015-12-09       188.79 2016-01-15      173.70     -15.09 -2746.33  182   \n",
       "10 2016-01-15       104.08 2016-04-20      118.97      14.89  4526.56  304   \n",
       "11 2016-04-20       195.32 2018-12-12      259.01      63.69 11782.99  185   \n",
       "12 2018-12-12       117.79 2019-03-26      124.30       6.51  2649.57  407   \n",
       "13 2019-03-26       277.11 2020-02-14      337.60      60.49 11009.01  182   \n",
       "\n",
       "    cumul_total symbol  \n",
       "4      13623.95    GLD  \n",
       "5      14324.63    SPY  \n",
       "6      12759.49    GLD  \n",
       "7      26230.36    SPY  \n",
       "8      24488.36    GLD  \n",
       "9      21742.02    SPY  \n",
       "10     26268.58    GLD  \n",
       "11     38051.57    SPY  \n",
       "12     40701.14    GLD  \n",
       "13     51710.15    SPY  "
      ]
     },
     "execution_count": 15,
     "metadata": {},
     "output_type": "execute_result"
    }
   ],
   "source": [
    "tlog.tail(10)"
   ]
  },
  {
   "cell_type": "code",
   "execution_count": 16,
   "metadata": {
    "ExecuteTime": {
     "end_time": "2020-02-17T05:42:12.391141Z",
     "start_time": "2020-02-17T05:42:12.047210Z"
    }
   },
   "outputs": [
    {
     "data": {
      "text/html": [
       "<div>\n",
       "<style scoped>\n",
       "    .dataframe tbody tr th:only-of-type {\n",
       "        vertical-align: middle;\n",
       "    }\n",
       "\n",
       "    .dataframe tbody tr th {\n",
       "        vertical-align: top;\n",
       "    }\n",
       "\n",
       "    .dataframe thead th {\n",
       "        text-align: right;\n",
       "    }\n",
       "</style>\n",
       "<table border=\"1\" class=\"dataframe\">\n",
       "  <thead>\n",
       "    <tr style=\"text-align: right;\">\n",
       "      <th></th>\n",
       "      <th>high</th>\n",
       "      <th>low</th>\n",
       "      <th>close</th>\n",
       "      <th>shares</th>\n",
       "      <th>cash</th>\n",
       "      <th>state</th>\n",
       "    </tr>\n",
       "    <tr>\n",
       "      <th>date</th>\n",
       "      <th></th>\n",
       "      <th></th>\n",
       "      <th></th>\n",
       "      <th></th>\n",
       "      <th></th>\n",
       "      <th></th>\n",
       "    </tr>\n",
       "  </thead>\n",
       "  <tbody>\n",
       "    <tr>\n",
       "      <th>2020-02-10</th>\n",
       "      <td>61191.45</td>\n",
       "      <td>60543.53</td>\n",
       "      <td>61178.71</td>\n",
       "      <td>182</td>\n",
       "      <td>266.95</td>\n",
       "      <td>-</td>\n",
       "    </tr>\n",
       "    <tr>\n",
       "      <th>2020-02-11</th>\n",
       "      <td>61604.59</td>\n",
       "      <td>61178.71</td>\n",
       "      <td>61284.27</td>\n",
       "      <td>182</td>\n",
       "      <td>266.95</td>\n",
       "      <td>-</td>\n",
       "    </tr>\n",
       "    <tr>\n",
       "      <th>2020-02-12</th>\n",
       "      <td>61719.25</td>\n",
       "      <td>61497.21</td>\n",
       "      <td>61677.39</td>\n",
       "      <td>182</td>\n",
       "      <td>266.95</td>\n",
       "      <td>-</td>\n",
       "    </tr>\n",
       "    <tr>\n",
       "      <th>2020-02-13</th>\n",
       "      <td>61804.79</td>\n",
       "      <td>61338.87</td>\n",
       "      <td>61611.87</td>\n",
       "      <td>182</td>\n",
       "      <td>266.95</td>\n",
       "      <td>-</td>\n",
       "    </tr>\n",
       "    <tr>\n",
       "      <th>2020-02-14</th>\n",
       "      <td>61710.15</td>\n",
       "      <td>61710.15</td>\n",
       "      <td>61710.15</td>\n",
       "      <td>0</td>\n",
       "      <td>61710.15</td>\n",
       "      <td>X</td>\n",
       "    </tr>\n",
       "  </tbody>\n",
       "</table>\n",
       "</div>"
      ],
      "text/plain": [
       "               high      low    close  shares     cash state\n",
       "date                                                        \n",
       "2020-02-10 61191.45 60543.53 61178.71     182   266.95     -\n",
       "2020-02-11 61604.59 61178.71 61284.27     182   266.95     -\n",
       "2020-02-12 61719.25 61497.21 61677.39     182   266.95     -\n",
       "2020-02-13 61804.79 61338.87 61611.87     182   266.95     -\n",
       "2020-02-14 61710.15 61710.15 61710.15       0 61710.15     X"
      ]
     },
     "execution_count": 16,
     "metadata": {},
     "output_type": "execute_result"
    }
   ],
   "source": [
    "dbal = dbal.get_log(tlog)\n",
    "dbal.tail()"
   ]
  },
  {
   "cell_type": "markdown",
   "metadata": {},
   "source": [
    "Generate strategy stats - display all available stats"
   ]
  },
  {
   "cell_type": "code",
   "execution_count": 17,
   "metadata": {
    "ExecuteTime": {
     "end_time": "2020-02-17T05:42:12.720788Z",
     "start_time": "2020-02-17T05:42:12.398480Z"
    }
   },
   "outputs": [
    {
     "name": "stdout",
     "output_type": "stream",
     "text": [
      "start                                                   2005-09-02\n",
      "end                                                     2020-02-14\n",
      "beginning_balance                                            10000\n",
      "ending_balance                                            61710.15\n",
      "total_net_profit                                          51710.15\n",
      "gross_profit                                              57763.62\n",
      "gross_loss                                                -6053.47\n",
      "profit_factor                                                 9.54\n",
      "return_on_initial_capital                                   517.10\n",
      "annual_return_rate                                           13.42\n",
      "trading_period                           14 years 5 months 12 days\n",
      "pct_time_in_market                                          100.00\n",
      "total_num_trades                                                14\n",
      "trades_per_year                                               0.97\n",
      "num_winning_trades                                              11\n",
      "num_losing_trades                                                3\n",
      "num_even_trades                                                  0\n",
      "pct_profitable_trades                                        78.57\n",
      "avg_profit_per_trade                                       3693.58\n",
      "avg_profit_per_winning_trade                               5251.24\n",
      "avg_loss_per_losing_trade                                 -2017.82\n",
      "ratio_avg_profit_win_loss                                     2.60\n",
      "largest_profit_winning_trade                              13470.87\n",
      "largest_loss_losing_trade                                 -2746.33\n",
      "num_winning_points                                          286.05\n",
      "num_losing_points                                           -31.55\n",
      "total_net_points                                            254.50\n",
      "avg_points                                                   18.18\n",
      "largest_points_winning_trade                                 66.69\n",
      "largest_points_losing_trade                                 -15.09\n",
      "avg_pct_gain_per_trade                                       15.24\n",
      "largest_pct_winning_trade                                    59.45\n",
      "largest_pct_losing_trade                                     -7.99\n",
      "max_consecutive_winning_trades                                   6\n",
      "max_consecutive_losing_trades                                    2\n",
      "avg_bars_winning_trades                                     313.36\n",
      "avg_bars_losing_trades                                       67.67\n",
      "max_closed_out_drawdown                                     -29.39\n",
      "max_closed_out_drawdown_start_date                      2008-03-17\n",
      "max_closed_out_drawdown_end_date                        2008-11-12\n",
      "max_closed_out_drawdown_recovery_date                   2009-08-03\n",
      "drawdown_recovery                                            -0.66\n",
      "drawdown_annualized_return                                   -2.19\n",
      "max_intra_day_drawdown                                      -34.26\n",
      "avg_yearly_closed_out_drawdown                              -12.75\n",
      "max_yearly_closed_out_drawdown                              -29.39\n",
      "avg_monthly_closed_out_drawdown                              -3.76\n",
      "max_monthly_closed_out_drawdown                             -21.40\n",
      "avg_weekly_closed_out_drawdown                               -1.50\n",
      "max_weekly_closed_out_drawdown                              -13.91\n",
      "avg_yearly_closed_out_runup                                  25.34\n",
      "max_yearly_closed_out_runup                                  60.46\n",
      "avg_monthly_closed_out_runup                                  4.81\n",
      "max_monthly_closed_out_runup                                 22.99\n",
      "avg_weekly_closed_out_runup                                   1.78\n",
      "max_weekly_closed_out_runup                                  16.92\n",
      "pct_profitable_years                                         81.89\n",
      "best_year                                                    56.21\n",
      "worst_year                                                  -17.26\n",
      "avg_year                                                     12.23\n",
      "annual_std                                                   12.60\n",
      "pct_profitable_months                                        66.46\n",
      "best_month                                                   22.99\n",
      "worst_month                                                 -19.65\n",
      "avg_month                                                     1.08\n",
      "monthly_std                                                   4.48\n",
      "pct_profitable_weeks                                         60.41\n",
      "best_week                                                    15.13\n",
      "worst_week                                                  -13.91\n",
      "avg_week                                                      0.28\n",
      "weekly_std                                                    2.37\n",
      "sharpe_ratio                                                  0.81\n",
      "sortino_ratio                                                 1.03\n",
      "dtype: object\n"
     ]
    }
   ],
   "source": [
    "stats = pf.stats(ts, tlog, dbal, capital)\n",
    "pf.print_full(stats)"
   ]
  },
  {
   "cell_type": "markdown",
   "metadata": {},
   "source": [
    "Run Benchmark"
   ]
  },
  {
   "cell_type": "code",
   "execution_count": 18,
   "metadata": {
    "ExecuteTime": {
     "end_time": "2020-02-17T05:42:12.845575Z",
     "start_time": "2020-02-17T05:42:12.731797Z"
    }
   },
   "outputs": [
    {
     "name": "stdout",
     "output_type": "stream",
     "text": [
      "2005-09-02 00:00:00 BUY  109 SPY @ 91.23\n",
      "2020-02-14 00:00:00 SELL 109 SPY @ 337.60\n"
     ]
    }
   ],
   "source": [
    "benchmark = pf.Benchmark(symbol, capital, start, end, use_adj)\n",
    "benchmark.run()"
   ]
  },
  {
   "cell_type": "markdown",
   "metadata": {},
   "source": [
    "Retrieve benchmark logs"
   ]
  },
  {
   "cell_type": "code",
   "execution_count": 19,
   "metadata": {
    "ExecuteTime": {
     "end_time": "2020-02-17T05:42:13.128511Z",
     "start_time": "2020-02-17T05:42:12.849732Z"
    }
   },
   "outputs": [],
   "source": [
    "benchmark.tlog, benchmark.dbal = benchmark.get_logs()"
   ]
  },
  {
   "cell_type": "markdown",
   "metadata": {},
   "source": [
    "Generate benchmark stats"
   ]
  },
  {
   "cell_type": "code",
   "execution_count": 20,
   "metadata": {
    "ExecuteTime": {
     "end_time": "2020-02-17T05:42:13.335808Z",
     "start_time": "2020-02-17T05:42:13.137325Z"
    },
    "scrolled": false
   },
   "outputs": [],
   "source": [
    "benchmark.stats = benchmark.get_stats()"
   ]
  },
  {
   "cell_type": "markdown",
   "metadata": {},
   "source": [
    "Plot Equity Curves: Strategy vs Benchmark"
   ]
  },
  {
   "cell_type": "code",
   "execution_count": 21,
   "metadata": {
    "ExecuteTime": {
     "end_time": "2020-02-17T05:42:13.662863Z",
     "start_time": "2020-02-17T05:42:13.340868Z"
    }
   },
   "outputs": [
    {
     "data": {
      "image/png": "[encoded data removed]",
      "text/plain": [
       "<Figure size 720x504 with 1 Axes>"
      ]
     },
     "metadata": {
      "needs_background": "light"
     },
     "output_type": "display_data"
    }
   ],
   "source": [
    "pf.plot_equity_curve(dbal, benchmark=benchmark.dbal)"
   ]
  },
  {
   "cell_type": "markdown",
   "metadata": {},
   "source": [
    "Plot Trades - this graph requires some interpretation.  The black up arrows represent a sell/buy pair.  Either SPY/GLD sell/buy or GLD/SPY sell/buy.  These will alternate.  If the market is starting to fall, SPY is traded out for GLD.  If the market is starting to rise, the GLD is traded out for SPY."
   ]
  },
  {
   "cell_type": "code",
   "execution_count": 22,
   "metadata": {
    "ExecuteTime": {
     "end_time": "2020-02-17T05:42:13.995723Z",
     "start_time": "2020-02-17T05:42:13.670168Z"
    }
   },
   "outputs": [
    {
     "data": {
      "image/png": "[encoded data removed]",
      "text/plain": [
       "<Figure size 720x504 with 1 Axes>"
      ]
     },
     "metadata": {
      "needs_background": "light"
     },
     "output_type": "display_data"
    }
   ],
   "source": [
    "\n",
    "pf.plot_trades(dbal, benchmark=benchmark.dbal)"
   ]
  },
  {
   "cell_type": "markdown",
   "metadata": {},
   "source": [
    "Strategy vs Benchmark"
   ]
  },
  {
   "cell_type": "code",
   "execution_count": 23,
   "metadata": {
    "ExecuteTime": {
     "end_time": "2020-02-17T05:42:14.027499Z",
     "start_time": "2020-02-17T05:42:14.003783Z"
    }
   },
   "outputs": [
    {
     "data": {
      "text/html": [
       "<div>\n",
       "<style scoped>\n",
       "    .dataframe tbody tr th:only-of-type {\n",
       "        vertical-align: middle;\n",
       "    }\n",
       "\n",
       "    .dataframe tbody tr th {\n",
       "        vertical-align: top;\n",
       "    }\n",
       "\n",
       "    .dataframe thead th {\n",
       "        text-align: right;\n",
       "    }\n",
       "</style>\n",
       "<table border=\"1\" class=\"dataframe\">\n",
       "  <thead>\n",
       "    <tr style=\"text-align: right;\">\n",
       "      <th></th>\n",
       "      <th>strategy</th>\n",
       "      <th>benchmark</th>\n",
       "    </tr>\n",
       "  </thead>\n",
       "  <tbody>\n",
       "    <tr>\n",
       "      <th>beginning_balance</th>\n",
       "      <td>$10,000.00</td>\n",
       "      <td>$10,000.00</td>\n",
       "    </tr>\n",
       "    <tr>\n",
       "      <th>ending_balance</th>\n",
       "      <td>$61,710.15</td>\n",
       "      <td>$36,853.81</td>\n",
       "    </tr>\n",
       "    <tr>\n",
       "      <th>total_net_profit</th>\n",
       "      <td>$51,710.15</td>\n",
       "      <td>$26,853.81</td>\n",
       "    </tr>\n",
       "    <tr>\n",
       "      <th>gross_profit</th>\n",
       "      <td>$57,763.62</td>\n",
       "      <td>$26,853.81</td>\n",
       "    </tr>\n",
       "    <tr>\n",
       "      <th>gross_loss</th>\n",
       "      <td>-$6,053.47</td>\n",
       "      <td>$0.00</td>\n",
       "    </tr>\n",
       "  </tbody>\n",
       "</table>\n",
       "</div>"
      ],
      "text/plain": [
       "                     strategy   benchmark\n",
       "beginning_balance  $10,000.00  $10,000.00\n",
       "ending_balance     $61,710.15  $36,853.81\n",
       "total_net_profit   $51,710.15  $26,853.81\n",
       "gross_profit       $57,763.62  $26,853.81\n",
       "gross_loss         -$6,053.47       $0.00"
      ]
     },
     "execution_count": 23,
     "metadata": {},
     "output_type": "execute_result"
    }
   ],
   "source": [
    "df = pf.summary5(stats, benchmark.stats)\n",
    "df"
   ]
  },
  {
   "cell_type": "code",
   "execution_count": 24,
   "metadata": {
    "ExecuteTime": {
     "end_time": "2020-02-17T05:42:14.446464Z",
     "start_time": "2020-02-17T05:42:14.037319Z"
    },
    "scrolled": false
   },
   "outputs": [
    {
     "data": {
      "text/html": [
       "<div>\n",
       "<style scoped>\n",
       "    .dataframe tbody tr th:only-of-type {\n",
       "        vertical-align: middle;\n",
       "    }\n",
       "\n",
       "    .dataframe tbody tr th {\n",
       "        vertical-align: top;\n",
       "    }\n",
       "\n",
       "    .dataframe thead th {\n",
       "        text-align: right;\n",
       "    }\n",
       "</style>\n",
       "<table border=\"1\" class=\"dataframe\">\n",
       "  <thead>\n",
       "    <tr style=\"text-align: right;\">\n",
       "      <th></th>\n",
       "      <th>strategy</th>\n",
       "      <th>benchmark</th>\n",
       "    </tr>\n",
       "  </thead>\n",
       "  <tbody>\n",
       "    <tr>\n",
       "      <th>annual_return_rate</th>\n",
       "      <td>13.42</td>\n",
       "      <td>9.45</td>\n",
       "    </tr>\n",
       "    <tr>\n",
       "      <th>max_closed_out_drawdown</th>\n",
       "      <td>-29.39</td>\n",
       "      <td>-54.96</td>\n",
       "    </tr>\n",
       "    <tr>\n",
       "      <th>drawdown_annualized_return</th>\n",
       "      <td>-2.19</td>\n",
       "      <td>-5.82</td>\n",
       "    </tr>\n",
       "    <tr>\n",
       "      <th>drawdown_recovery</th>\n",
       "      <td>-0.66</td>\n",
       "      <td>-1.42</td>\n",
       "    </tr>\n",
       "    <tr>\n",
       "      <th>best_month</th>\n",
       "      <td>22.99</td>\n",
       "      <td>23.40</td>\n",
       "    </tr>\n",
       "    <tr>\n",
       "      <th>worst_month</th>\n",
       "      <td>-19.65</td>\n",
       "      <td>-29.26</td>\n",
       "    </tr>\n",
       "    <tr>\n",
       "      <th>sharpe_ratio</th>\n",
       "      <td>0.81</td>\n",
       "      <td>0.58</td>\n",
       "    </tr>\n",
       "    <tr>\n",
       "      <th>sortino_ratio</th>\n",
       "      <td>1.03</td>\n",
       "      <td>0.71</td>\n",
       "    </tr>\n",
       "    <tr>\n",
       "      <th>monthly_std</th>\n",
       "      <td>4.48</td>\n",
       "      <td>4.24</td>\n",
       "    </tr>\n",
       "    <tr>\n",
       "      <th>trades_per_year</th>\n",
       "      <td>0.97</td>\n",
       "      <td>0.07</td>\n",
       "    </tr>\n",
       "  </tbody>\n",
       "</table>\n",
       "</div>"
      ],
      "text/plain": [
       "                            strategy  benchmark\n",
       "annual_return_rate             13.42       9.45\n",
       "max_closed_out_drawdown       -29.39     -54.96\n",
       "drawdown_annualized_return     -2.19      -5.82\n",
       "drawdown_recovery              -0.66      -1.42\n",
       "best_month                     22.99      23.40\n",
       "worst_month                   -19.65     -29.26\n",
       "sharpe_ratio                    0.81       0.58\n",
       "sortino_ratio                   1.03       0.71\n",
       "monthly_std                     4.48       4.24\n",
       "trades_per_year                 0.97       0.07"
      ]
     },
     "execution_count": 24,
     "metadata": {},
     "output_type": "execute_result"
    },
    {
     "data": {
      "image/png": "[encoded data removed]",
      "text/plain": [
       "<Figure size 720x504 with 1 Axes>"
      ]
     },
     "metadata": {
      "needs_background": "light"
     },
     "output_type": "display_data"
    }
   ],
   "source": [
    "metrics = ('annual_return_rate',\n",
    "           'max_closed_out_drawdown',\n",
    "           'drawdown_annualized_return',\n",
    "           'drawdown_recovery',\n",
    "           'best_month',\n",
    "           'worst_month',\n",
    "           'sharpe_ratio',\n",
    "           'sortino_ratio',\n",
    "           'monthly_std',\n",
    "           'trades_per_year')\n",
    "\n",
    "df = pf.plot_bar_graph(stats, benchmark.stats, *metrics)\n",
    "df"
   ]
  }
 ],
 "metadata": {
  "kernelspec": {
   "display_name": "Python 2",
   "language": "python",
   "name": "python2"
  },
  "language_info": {
   "codemirror_mode": {
    "name": "ipython",
    "version": 2
   },
   "file_extension": ".py",
   "mimetype": "text/x-python",
   "name": "python",
   "nbconvert_exporter": "python",
   "pygments_lexer": "ipython2",
   "version": "2.7.15+"
  },
  "latex_envs": {
   "LaTeX_envs_menu_present": true,
   "autoclose": false,
   "autocomplete": true,
   "bibliofile": "biblio.bib",
   "cite_by": "apalike",
   "current_citInitial": 1,
   "eqLabelWithNumbers": true,
   "eqNumInitial": 1,
   "hotkeys": {
    "equation": "Ctrl-E",
    "itemize": "Ctrl-I"
   },
   "labels_anchors": false,
   "latex_user_defs": false,
   "report_style_numbering": false,
   "user_envs_cfg": false
  }
 },
 "nbformat": 4,
 "nbformat_minor": 1
}
