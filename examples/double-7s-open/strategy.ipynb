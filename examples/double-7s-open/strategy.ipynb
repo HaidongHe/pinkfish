{
 "cells": [
  {
   "cell_type": "markdown",
   "metadata": {},
   "source": [
    "# Double 7's (Short Term Trading Strategies that Work)\n",
    "\n",
    "    1. The SPY is above its 200-day moving average\n",
    "    2. The SPY closes at a 7-day low, buy.\n",
    "    3. If the SPY closes at a 7-day high, sell your long position."
   ]
  },
  {
   "cell_type": "code",
   "execution_count": 14,
   "metadata": {
    "ExecuteTime": {
     "end_time": "2020-02-16T23:54:34.849000Z",
     "start_time": "2020-02-16T23:54:33.871420Z"
    }
   },
   "outputs": [],
   "source": [
    "# other imports\n",
    "import pandas as pd\n",
    "import matplotlib.pyplot as plt\n",
    "import datetime\n",
    "from talib.abstract import *\n",
    "\n",
    "# project imports\n",
    "import pinkfish as pf\n",
    "import strategy\n",
    "\n",
    "# format price data\n",
    "pd.options.display.float_format = '{:0.2f}'.format\n",
    "\n",
    "%matplotlib inline"
   ]
  },
  {
   "cell_type": "code",
   "execution_count": 15,
   "metadata": {
    "ExecuteTime": {
     "end_time": "2020-02-16T23:54:34.870544Z",
     "start_time": "2020-02-16T23:54:34.859356Z"
    }
   },
   "outputs": [],
   "source": [
    "# set size of inline plots\n",
    "'''note: rcParams can't be in same cell as import matplotlib\n",
    "   or %matplotlib inline\n",
    "   \n",
    "   %matplotlib notebook: will lead to interactive plots embedded within\n",
    "   the notebook, you can zoom and resize the figure\n",
    "   \n",
    "   %matplotlib inline: only draw static images in the notebook\n",
    "'''\n",
    "plt.rcParams[\"figure.figsize\"] = (10, 7)"
   ]
  },
  {
   "cell_type": "markdown",
   "metadata": {},
   "source": [
    "Some global data"
   ]
  },
  {
   "cell_type": "code",
   "execution_count": 16,
   "metadata": {
    "ExecuteTime": {
     "end_time": "2020-02-16T23:54:34.885762Z",
     "start_time": "2020-02-16T23:54:34.874875Z"
    }
   },
   "outputs": [],
   "source": [
    "symbol = '^GSPC'\n",
    "#symbol = 'SPY'\n",
    "#symbol = 'DIA'\n",
    "#symbol = 'QQQ'\n",
    "#symbol = 'IWM'\n",
    "#symbol = 'TLT'\n",
    "#symbol = 'GLD'\n",
    "#symbol = 'AAPL'\n",
    "#symbol = 'BBRY'\n",
    "#symbol = 'GDX'\n",
    "capital = 10000\n",
    "start = datetime.datetime(2000, 1, 1)\n",
    "end = datetime.datetime.now()"
   ]
  },
  {
   "cell_type": "markdown",
   "metadata": {},
   "source": [
    "Define high low trade periods"
   ]
  },
  {
   "cell_type": "code",
   "execution_count": 17,
   "metadata": {
    "ExecuteTime": {
     "end_time": "2020-02-16T23:54:34.899766Z",
     "start_time": "2020-02-16T23:54:34.887458Z"
    }
   },
   "outputs": [],
   "source": [
    "period = 7"
   ]
  },
  {
   "cell_type": "markdown",
   "metadata": {},
   "source": [
    "Run Strategy"
   ]
  },
  {
   "cell_type": "code",
   "execution_count": 18,
   "metadata": {
    "ExecuteTime": {
     "end_time": "2020-02-16T23:54:35.119119Z",
     "start_time": "2020-02-16T23:54:34.901990Z"
    },
    "scrolled": false
   },
   "outputs": [],
   "source": [
    "s = strategy.Strategy(symbol, capital, start, end, period)\n",
    "s.run()"
   ]
  },
  {
   "cell_type": "markdown",
   "metadata": {},
   "source": [
    "Retrieve log DataFrames"
   ]
  },
  {
   "cell_type": "code",
   "execution_count": 19,
   "metadata": {
    "ExecuteTime": {
     "end_time": "2020-02-16T23:54:35.703518Z",
     "start_time": "2020-02-16T23:54:35.128830Z"
    }
   },
   "outputs": [],
   "source": [
    "tlog, dbal = s.get_logs()\n",
    "stats = s.get_stats()"
   ]
  },
  {
   "cell_type": "code",
   "execution_count": 20,
   "metadata": {
    "ExecuteTime": {
     "end_time": "2020-02-16T23:54:35.758755Z",
     "start_time": "2020-02-16T23:54:35.713024Z"
    }
   },
   "outputs": [
    {
     "data": {
      "text/html": [
       "<div>\n",
       "<style scoped>\n",
       "    .dataframe tbody tr th:only-of-type {\n",
       "        vertical-align: middle;\n",
       "    }\n",
       "\n",
       "    .dataframe tbody tr th {\n",
       "        vertical-align: top;\n",
       "    }\n",
       "\n",
       "    .dataframe thead th {\n",
       "        text-align: right;\n",
       "    }\n",
       "</style>\n",
       "<table border=\"1\" class=\"dataframe\">\n",
       "  <thead>\n",
       "    <tr style=\"text-align: right;\">\n",
       "      <th></th>\n",
       "      <th>entry_date</th>\n",
       "      <th>entry_price</th>\n",
       "      <th>exit_date</th>\n",
       "      <th>exit_price</th>\n",
       "      <th>pl_points</th>\n",
       "      <th>pl_cash</th>\n",
       "      <th>qty</th>\n",
       "      <th>cumul_total</th>\n",
       "      <th>symbol</th>\n",
       "    </tr>\n",
       "  </thead>\n",
       "  <tbody>\n",
       "    <tr>\n",
       "      <th>176</th>\n",
       "      <td>2019-03-06</td>\n",
       "      <td>2771.45</td>\n",
       "      <td>2019-03-14</td>\n",
       "      <td>2810.38</td>\n",
       "      <td>38.93</td>\n",
       "      <td>350.37</td>\n",
       "      <td>9</td>\n",
       "      <td>16088.33</td>\n",
       "      <td></td>\n",
       "    </tr>\n",
       "    <tr>\n",
       "      <th>177</th>\n",
       "      <td>2019-03-22</td>\n",
       "      <td>2800.71</td>\n",
       "      <td>2019-04-02</td>\n",
       "      <td>2868.24</td>\n",
       "      <td>67.53</td>\n",
       "      <td>607.77</td>\n",
       "      <td>9</td>\n",
       "      <td>16696.10</td>\n",
       "      <td></td>\n",
       "    </tr>\n",
       "    <tr>\n",
       "      <th>178</th>\n",
       "      <td>2019-05-01</td>\n",
       "      <td>2923.73</td>\n",
       "      <td>2019-06-06</td>\n",
       "      <td>2828.51</td>\n",
       "      <td>-95.22</td>\n",
       "      <td>-856.98</td>\n",
       "      <td>9</td>\n",
       "      <td>15839.12</td>\n",
       "      <td></td>\n",
       "    </tr>\n",
       "    <tr>\n",
       "      <th>179</th>\n",
       "      <td>2019-06-26</td>\n",
       "      <td>2913.78</td>\n",
       "      <td>2019-07-02</td>\n",
       "      <td>2964.66</td>\n",
       "      <td>50.88</td>\n",
       "      <td>407.04</td>\n",
       "      <td>8</td>\n",
       "      <td>16246.16</td>\n",
       "      <td></td>\n",
       "    </tr>\n",
       "    <tr>\n",
       "      <th>180</th>\n",
       "      <td>2019-07-19</td>\n",
       "      <td>2976.61</td>\n",
       "      <td>2019-07-25</td>\n",
       "      <td>3016.26</td>\n",
       "      <td>39.65</td>\n",
       "      <td>317.20</td>\n",
       "      <td>8</td>\n",
       "      <td>16563.36</td>\n",
       "      <td></td>\n",
       "    </tr>\n",
       "    <tr>\n",
       "      <th>181</th>\n",
       "      <td>2019-07-31</td>\n",
       "      <td>2980.38</td>\n",
       "      <td>2019-08-30</td>\n",
       "      <td>2937.09</td>\n",
       "      <td>-43.29</td>\n",
       "      <td>-346.32</td>\n",
       "      <td>8</td>\n",
       "      <td>16217.04</td>\n",
       "      <td></td>\n",
       "    </tr>\n",
       "    <tr>\n",
       "      <th>182</th>\n",
       "      <td>2019-09-20</td>\n",
       "      <td>2992.07</td>\n",
       "      <td>2019-10-14</td>\n",
       "      <td>2965.81</td>\n",
       "      <td>-26.26</td>\n",
       "      <td>-210.08</td>\n",
       "      <td>8</td>\n",
       "      <td>16006.96</td>\n",
       "      <td></td>\n",
       "    </tr>\n",
       "    <tr>\n",
       "      <th>183</th>\n",
       "      <td>2019-12-03</td>\n",
       "      <td>3093.20</td>\n",
       "      <td>2019-12-13</td>\n",
       "      <td>3166.65</td>\n",
       "      <td>73.45</td>\n",
       "      <td>587.60</td>\n",
       "      <td>8</td>\n",
       "      <td>16594.56</td>\n",
       "      <td></td>\n",
       "    </tr>\n",
       "    <tr>\n",
       "      <th>184</th>\n",
       "      <td>2020-01-27</td>\n",
       "      <td>3243.63</td>\n",
       "      <td>2020-02-05</td>\n",
       "      <td>3324.91</td>\n",
       "      <td>81.28</td>\n",
       "      <td>650.24</td>\n",
       "      <td>8</td>\n",
       "      <td>17244.80</td>\n",
       "      <td></td>\n",
       "    </tr>\n",
       "    <tr>\n",
       "      <th>185</th>\n",
       "      <td>2020-02-21</td>\n",
       "      <td>3337.75</td>\n",
       "      <td>2020-03-05</td>\n",
       "      <td>3075.70</td>\n",
       "      <td>-262.05</td>\n",
       "      <td>-2096.40</td>\n",
       "      <td>8</td>\n",
       "      <td>15148.40</td>\n",
       "      <td></td>\n",
       "    </tr>\n",
       "  </tbody>\n",
       "</table>\n",
       "</div>"
      ],
      "text/plain": [
       "    entry_date  entry_price  exit_date  exit_price  pl_points  pl_cash  qty  \\\n",
       "176 2019-03-06      2771.45 2019-03-14     2810.38      38.93   350.37    9   \n",
       "177 2019-03-22      2800.71 2019-04-02     2868.24      67.53   607.77    9   \n",
       "178 2019-05-01      2923.73 2019-06-06     2828.51     -95.22  -856.98    9   \n",
       "179 2019-06-26      2913.78 2019-07-02     2964.66      50.88   407.04    8   \n",
       "180 2019-07-19      2976.61 2019-07-25     3016.26      39.65   317.20    8   \n",
       "181 2019-07-31      2980.38 2019-08-30     2937.09     -43.29  -346.32    8   \n",
       "182 2019-09-20      2992.07 2019-10-14     2965.81     -26.26  -210.08    8   \n",
       "183 2019-12-03      3093.20 2019-12-13     3166.65      73.45   587.60    8   \n",
       "184 2020-01-27      3243.63 2020-02-05     3324.91      81.28   650.24    8   \n",
       "185 2020-02-21      3337.75 2020-03-05     3075.70    -262.05 -2096.40    8   \n",
       "\n",
       "     cumul_total symbol  \n",
       "176     16088.33         \n",
       "177     16696.10         \n",
       "178     15839.12         \n",
       "179     16246.16         \n",
       "180     16563.36         \n",
       "181     16217.04         \n",
       "182     16006.96         \n",
       "183     16594.56         \n",
       "184     17244.80         \n",
       "185     15148.40         "
      ]
     },
     "execution_count": 20,
     "metadata": {},
     "output_type": "execute_result"
    }
   ],
   "source": [
    "tlog.tail(10)"
   ]
  },
  {
   "cell_type": "code",
   "execution_count": 21,
   "metadata": {
    "ExecuteTime": {
     "end_time": "2020-02-16T23:54:35.795793Z",
     "start_time": "2020-02-16T23:54:35.767974Z"
    }
   },
   "outputs": [
    {
     "data": {
      "text/html": [
       "<div>\n",
       "<style scoped>\n",
       "    .dataframe tbody tr th:only-of-type {\n",
       "        vertical-align: middle;\n",
       "    }\n",
       "\n",
       "    .dataframe tbody tr th {\n",
       "        vertical-align: top;\n",
       "    }\n",
       "\n",
       "    .dataframe thead th {\n",
       "        text-align: right;\n",
       "    }\n",
       "</style>\n",
       "<table border=\"1\" class=\"dataframe\">\n",
       "  <thead>\n",
       "    <tr style=\"text-align: right;\">\n",
       "      <th></th>\n",
       "      <th>high</th>\n",
       "      <th>low</th>\n",
       "      <th>close</th>\n",
       "      <th>shares</th>\n",
       "      <th>cash</th>\n",
       "      <th>state</th>\n",
       "    </tr>\n",
       "    <tr>\n",
       "      <th>date</th>\n",
       "      <th></th>\n",
       "      <th></th>\n",
       "      <th></th>\n",
       "      <th></th>\n",
       "      <th></th>\n",
       "      <th></th>\n",
       "    </tr>\n",
       "  </thead>\n",
       "  <tbody>\n",
       "    <tr>\n",
       "      <th>2020-06-02</th>\n",
       "      <td>25148.40</td>\n",
       "      <td>25148.40</td>\n",
       "      <td>25148.40</td>\n",
       "      <td>0</td>\n",
       "      <td>25148.40</td>\n",
       "      <td>-</td>\n",
       "    </tr>\n",
       "    <tr>\n",
       "      <th>2020-06-03</th>\n",
       "      <td>25148.40</td>\n",
       "      <td>25148.40</td>\n",
       "      <td>25148.40</td>\n",
       "      <td>0</td>\n",
       "      <td>25148.40</td>\n",
       "      <td>-</td>\n",
       "    </tr>\n",
       "    <tr>\n",
       "      <th>2020-06-04</th>\n",
       "      <td>25148.40</td>\n",
       "      <td>25148.40</td>\n",
       "      <td>25148.40</td>\n",
       "      <td>0</td>\n",
       "      <td>25148.40</td>\n",
       "      <td>-</td>\n",
       "    </tr>\n",
       "    <tr>\n",
       "      <th>2020-06-05</th>\n",
       "      <td>25148.40</td>\n",
       "      <td>25148.40</td>\n",
       "      <td>25148.40</td>\n",
       "      <td>0</td>\n",
       "      <td>25148.40</td>\n",
       "      <td>-</td>\n",
       "    </tr>\n",
       "    <tr>\n",
       "      <th>2020-06-08</th>\n",
       "      <td>25148.40</td>\n",
       "      <td>25148.40</td>\n",
       "      <td>25148.40</td>\n",
       "      <td>0</td>\n",
       "      <td>25148.40</td>\n",
       "      <td>-</td>\n",
       "    </tr>\n",
       "  </tbody>\n",
       "</table>\n",
       "</div>"
      ],
      "text/plain": [
       "               high      low    close  shares     cash state\n",
       "date                                                        \n",
       "2020-06-02 25148.40 25148.40 25148.40       0 25148.40     -\n",
       "2020-06-03 25148.40 25148.40 25148.40       0 25148.40     -\n",
       "2020-06-04 25148.40 25148.40 25148.40       0 25148.40     -\n",
       "2020-06-05 25148.40 25148.40 25148.40       0 25148.40     -\n",
       "2020-06-08 25148.40 25148.40 25148.40       0 25148.40     -"
      ]
     },
     "execution_count": 21,
     "metadata": {},
     "output_type": "execute_result"
    }
   ],
   "source": [
    "dbal.tail()"
   ]
  },
  {
   "cell_type": "markdown",
   "metadata": {},
   "source": [
    "Generate strategy stats - display all available stats"
   ]
  },
  {
   "cell_type": "code",
   "execution_count": 22,
   "metadata": {
    "ExecuteTime": {
     "end_time": "2020-02-16T23:54:35.843276Z",
     "start_time": "2020-02-16T23:54:35.802363Z"
    }
   },
   "outputs": [
    {
     "name": "stdout",
     "output_type": "stream",
     "text": [
      "start                                                  2000-01-03\n",
      "end                                                    2020-06-08\n",
      "beginning_balance                                           10000\n",
      "ending_balance                                           25148.40\n",
      "total_net_profit                                         15148.40\n",
      "gross_profit                                             31845.83\n",
      "gross_loss                                              -16697.43\n",
      "profit_factor                                                1.91\n",
      "return_on_initial_capital                                  151.48\n",
      "annual_return_rate                                           4.62\n",
      "trading_period                           20 years 5 months 5 days\n",
      "pct_time_in_market                                          31.17\n",
      "total_num_trades                                              186\n",
      "trades_per_year                                              9.10\n",
      "num_winning_trades                                            143\n",
      "num_losing_trades                                              43\n",
      "num_even_trades                                                 0\n",
      "pct_profitable_trades                                       76.88\n",
      "avg_profit_per_trade                                        81.44\n",
      "avg_profit_per_winning_trade                               222.70\n",
      "avg_loss_per_losing_trade                                 -388.31\n",
      "ratio_avg_profit_win_loss                                    0.57\n",
      "largest_profit_winning_trade                               943.10\n",
      "largest_loss_losing_trade                                -2096.40\n",
      "num_winning_points                                        3218.58\n",
      "num_losing_points                                        -1789.93\n",
      "total_net_points                                          1428.65\n",
      "avg_points                                                   7.68\n",
      "largest_points_winning_trade                                94.31\n",
      "largest_points_losing_trade                               -262.05\n",
      "avg_pct_gain_per_trade                                       0.54\n",
      "largest_pct_winning_trade                                    4.78\n",
      "largest_pct_losing_trade                                    -7.85\n",
      "max_consecutive_winning_trades                                 14\n",
      "max_consecutive_losing_trades                                   3\n",
      "avg_bars_winning_trades                                      7.76\n",
      "avg_bars_losing_trades                                      15.77\n",
      "max_closed_out_drawdown                                    -14.36\n",
      "max_closed_out_drawdown_start_date                     2011-05-10\n",
      "max_closed_out_drawdown_end_date                       2011-08-08\n",
      "max_closed_out_drawdown_recovery_date                  2012-07-13\n",
      "drawdown_recovery                                           -0.25\n",
      "drawdown_annualized_return                                  -3.11\n",
      "max_intra_day_drawdown                                     -16.01\n",
      "avg_yearly_closed_out_drawdown                              -6.16\n",
      "max_yearly_closed_out_drawdown                             -14.36\n",
      "avg_monthly_closed_out_drawdown                             -1.31\n",
      "max_monthly_closed_out_drawdown                            -13.13\n",
      "avg_weekly_closed_out_drawdown                              -0.43\n",
      "max_weekly_closed_out_drawdown                             -12.02\n",
      "avg_yearly_closed_out_runup                                 10.13\n",
      "max_yearly_closed_out_runup                                 29.62\n",
      "avg_monthly_closed_out_runup                                 1.59\n",
      "max_monthly_closed_out_runup                                10.29\n",
      "avg_weekly_closed_out_runup                                  0.53\n",
      "max_weekly_closed_out_runup                                  6.93\n",
      "pct_profitable_years                                        70.58\n",
      "best_year                                                   29.20\n",
      "worst_year                                                  -7.21\n",
      "avg_year                                                     5.00\n",
      "annual_std                                                   6.97\n",
      "pct_profitable_months                                       47.91\n",
      "best_month                                                  10.29\n",
      "worst_month                                                -12.57\n",
      "avg_month                                                    0.38\n",
      "monthly_std                                                  1.84\n",
      "pct_profitable_weeks                                        27.54\n",
      "best_week                                                    6.93\n",
      "worst_week                                                 -12.02\n",
      "avg_week                                                     0.10\n",
      "weekly_std                                                   1.09\n",
      "sharpe_ratio                                                 0.56\n",
      "sortino_ratio                                                0.39\n",
      "dtype: object\n"
     ]
    }
   ],
   "source": [
    "pf.print_full(stats)"
   ]
  },
  {
   "cell_type": "markdown",
   "metadata": {},
   "source": [
    "Equity curve"
   ]
  },
  {
   "cell_type": "markdown",
   "metadata": {},
   "source": [
    "Run Benchmark, Retrieve benchmark logs, and Generate benchmark stats"
   ]
  },
  {
   "cell_type": "code",
   "execution_count": 23,
   "metadata": {
    "ExecuteTime": {
     "end_time": "2020-02-16T23:54:36.469515Z",
     "start_time": "2020-02-16T23:54:35.850343Z"
    }
   },
   "outputs": [
    {
     "name": "stdout",
     "output_type": "stream",
     "text": [
      "2000-01-03 00:00:00 BUY  6 ^GSPC @ 1455.22\n",
      "2020-06-08 00:00:00 SELL 6 ^GSPC @ 3232.39\n"
     ]
    }
   ],
   "source": [
    "benchmark = pf.Benchmark(symbol, capital, s._start, s._end)\n",
    "benchmark.run()\n",
    "benchmark.tlog, benchmark.dbal = benchmark.get_logs()\n",
    "benchmark.stats = benchmark.get_stats()"
   ]
  },
  {
   "cell_type": "markdown",
   "metadata": {},
   "source": [
    "Plot Equity Curves: Strategy vs Benchmark"
   ]
  },
  {
   "cell_type": "code",
   "execution_count": 24,
   "metadata": {
    "ExecuteTime": {
     "end_time": "2020-02-16T23:54:36.760025Z",
     "start_time": "2020-02-16T23:54:36.481940Z"
    }
   },
   "outputs": [
    {
     "data": {
      "image/png": "[encoded data removed]",
      "text/plain": [
       "<Figure size 720x504 with 1 Axes>"
      ]
     },
     "metadata": {
      "needs_background": "light"
     },
     "output_type": "display_data"
    }
   ],
   "source": [
    "pf.plot_equity_curve(dbal, benchmark=benchmark.dbal)"
   ]
  },
  {
   "cell_type": "markdown",
   "metadata": {},
   "source": [
    "Plot Trades"
   ]
  },
  {
   "cell_type": "code",
   "execution_count": 25,
   "metadata": {
    "ExecuteTime": {
     "end_time": "2020-02-16T23:54:37.066487Z",
     "start_time": "2020-02-16T23:54:36.764041Z"
    },
    "scrolled": false
   },
   "outputs": [
    {
     "data": {
      "image/png": "[encoded data removed]",
      "text/plain": [
       "<Figure size 720x504 with 1 Axes>"
      ]
     },
     "metadata": {
      "needs_background": "light"
     },
     "output_type": "display_data"
    }
   ],
   "source": [
    "pf.plot_trades(s.dbal, benchmark=benchmark.dbal)"
   ]
  },
  {
   "cell_type": "markdown",
   "metadata": {},
   "source": [
    "Bar Graph: Strategy vs Benchmark"
   ]
  },
  {
   "cell_type": "code",
   "execution_count": 26,
   "metadata": {
    "ExecuteTime": {
     "end_time": "2020-02-16T23:54:37.528837Z",
     "start_time": "2020-02-16T23:54:37.073971Z"
    }
   },
   "outputs": [
    {
     "data": {
      "text/html": [
       "<div>\n",
       "<style scoped>\n",
       "    .dataframe tbody tr th:only-of-type {\n",
       "        vertical-align: middle;\n",
       "    }\n",
       "\n",
       "    .dataframe tbody tr th {\n",
       "        vertical-align: top;\n",
       "    }\n",
       "\n",
       "    .dataframe thead th {\n",
       "        text-align: right;\n",
       "    }\n",
       "</style>\n",
       "<table border=\"1\" class=\"dataframe\">\n",
       "  <thead>\n",
       "    <tr style=\"text-align: right;\">\n",
       "      <th></th>\n",
       "      <th>strategy</th>\n",
       "      <th>benchmark</th>\n",
       "    </tr>\n",
       "  </thead>\n",
       "  <tbody>\n",
       "    <tr>\n",
       "      <th>annual_return_rate</th>\n",
       "      <td>4.62</td>\n",
       "      <td>3.62</td>\n",
       "    </tr>\n",
       "    <tr>\n",
       "      <th>max_closed_out_drawdown</th>\n",
       "      <td>-14.36</td>\n",
       "      <td>-50.02</td>\n",
       "    </tr>\n",
       "    <tr>\n",
       "      <th>drawdown_annualized_return</th>\n",
       "      <td>-3.11</td>\n",
       "      <td>-13.83</td>\n",
       "    </tr>\n",
       "    <tr>\n",
       "      <th>drawdown_recovery</th>\n",
       "      <td>-0.25</td>\n",
       "      <td>-1.42</td>\n",
       "    </tr>\n",
       "    <tr>\n",
       "      <th>best_month</th>\n",
       "      <td>10.29</td>\n",
       "      <td>20.59</td>\n",
       "    </tr>\n",
       "    <tr>\n",
       "      <th>worst_month</th>\n",
       "      <td>-12.57</td>\n",
       "      <td>-29.10</td>\n",
       "    </tr>\n",
       "    <tr>\n",
       "      <th>sharpe_ratio</th>\n",
       "      <td>0.56</td>\n",
       "      <td>0.29</td>\n",
       "    </tr>\n",
       "    <tr>\n",
       "      <th>sortino_ratio</th>\n",
       "      <td>0.39</td>\n",
       "      <td>0.37</td>\n",
       "    </tr>\n",
       "    <tr>\n",
       "      <th>monthly_std</th>\n",
       "      <td>1.84</td>\n",
       "      <td>4.08</td>\n",
       "    </tr>\n",
       "  </tbody>\n",
       "</table>\n",
       "</div>"
      ],
      "text/plain": [
       "                            strategy  benchmark\n",
       "annual_return_rate              4.62       3.62\n",
       "max_closed_out_drawdown       -14.36     -50.02\n",
       "drawdown_annualized_return     -3.11     -13.83\n",
       "drawdown_recovery              -0.25      -1.42\n",
       "best_month                     10.29      20.59\n",
       "worst_month                   -12.57     -29.10\n",
       "sharpe_ratio                    0.56       0.29\n",
       "sortino_ratio                   0.39       0.37\n",
       "monthly_std                     1.84       4.08"
      ]
     },
     "execution_count": 26,
     "metadata": {},
     "output_type": "execute_result"
    },
    {
     "data": {
      "image/png": "[encoded data removed]",
      "text/plain": [
       "<Figure size 720x504 with 1 Axes>"
      ]
     },
     "metadata": {
      "needs_background": "light"
     },
     "output_type": "display_data"
    }
   ],
   "source": [
    "metrics = ('annual_return_rate',\n",
    "           'max_closed_out_drawdown',\n",
    "           'drawdown_annualized_return',\n",
    "           'drawdown_recovery',\n",
    "           'best_month',\n",
    "           'worst_month',\n",
    "           'sharpe_ratio',\n",
    "           'sortino_ratio',\n",
    "           'monthly_std')\n",
    "\n",
    "df = pf.plot_bar_graph(stats, benchmark.stats, *metrics)\n",
    "df"
   ]
  }
 ],
 "metadata": {
  "kernelspec": {
   "display_name": "Python 3",
   "language": "python",
   "name": "python3"
  },
  "language_info": {
   "codemirror_mode": {
    "name": "ipython",
    "version": 3
   },
   "file_extension": ".py",
   "mimetype": "text/x-python",
   "name": "python",
   "nbconvert_exporter": "python",
   "pygments_lexer": "ipython3",
   "version": "3.8.2"
  },
  "latex_envs": {
   "LaTeX_envs_menu_present": true,
   "autoclose": false,
   "autocomplete": true,
   "bibliofile": "biblio.bib",
   "cite_by": "apalike",
   "current_citInitial": 1,
   "eqLabelWithNumbers": true,
   "eqNumInitial": 1,
   "hotkeys": {
    "equation": "Ctrl-E",
    "itemize": "Ctrl-I"
   },
   "labels_anchors": false,
   "latex_user_defs": false,
   "report_style_numbering": false,
   "user_envs_cfg": false
  }
 },
 "nbformat": 4,
 "nbformat_minor": 1
}
