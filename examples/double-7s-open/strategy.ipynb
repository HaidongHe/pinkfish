{
 "cells": [
  {
   "cell_type": "markdown",
   "metadata": {},
   "source": [
    "# Double 7's (Short Term Trading Strategies that Work)\n",
    "\n",
    "    1. The SPY is above its 200-day moving average\n",
    "    2. The SPY closes at a 7-day low, buy.\n",
    "    3. If the SPY closes at a 7-day high, sell your long position."
   ]
  },
  {
   "cell_type": "code",
   "execution_count": 1,
   "metadata": {
    "ExecuteTime": {
     "end_time": "2020-02-16T23:54:34.849000Z",
     "start_time": "2020-02-16T23:54:33.871420Z"
    }
   },
   "outputs": [],
   "source": [
    "import pandas as pd\n",
    "import matplotlib.pyplot as plt\n",
    "import datetime\n",
    "from talib.abstract import *\n",
    "\n",
    "import pinkfish as pf\n",
    "import strategy\n",
    "\n",
    "# format price data\n",
    "pd.options.display.float_format = '{:0.2f}'.format\n",
    "\n",
    "%matplotlib inline"
   ]
  },
  {
   "cell_type": "code",
   "execution_count": 2,
   "metadata": {
    "ExecuteTime": {
     "end_time": "2020-02-16T23:54:34.870544Z",
     "start_time": "2020-02-16T23:54:34.859356Z"
    }
   },
   "outputs": [],
   "source": [
    "# set size of inline plots\n",
    "'''note: rcParams can't be in same cell as import matplotlib\n",
    "   or %matplotlib inline\n",
    "   \n",
    "   %matplotlib notebook: will lead to interactive plots embedded within\n",
    "   the notebook, you can zoom and resize the figure\n",
    "   \n",
    "   %matplotlib inline: only draw static images in the notebook\n",
    "'''\n",
    "plt.rcParams[\"figure.figsize\"] = (10, 7)"
   ]
  },
  {
   "cell_type": "markdown",
   "metadata": {},
   "source": [
    "Some global data"
   ]
  },
  {
   "cell_type": "code",
   "execution_count": 3,
   "metadata": {
    "ExecuteTime": {
     "end_time": "2020-02-16T23:54:34.885762Z",
     "start_time": "2020-02-16T23:54:34.874875Z"
    }
   },
   "outputs": [],
   "source": [
    "#symbol = '^GSPC'\n",
    "symbol = 'SPY'\n",
    "#symbol = 'DIA'\n",
    "#symbol = 'QQQ'\n",
    "#symbol = 'IWM'\n",
    "#symbol = 'TLT'\n",
    "#symbol = 'GLD'\n",
    "#symbol = 'AAPL'\n",
    "#symbol = 'BBRY'\n",
    "#symbol = 'GDX'\n",
    "capital = 10000\n",
    "start = datetime.datetime(1900, 1, 1)\n",
    "end = datetime.datetime.now()"
   ]
  },
  {
   "cell_type": "markdown",
   "metadata": {},
   "source": [
    "Define high low trade periods"
   ]
  },
  {
   "cell_type": "code",
   "execution_count": 4,
   "metadata": {
    "ExecuteTime": {
     "end_time": "2020-02-16T23:54:34.899766Z",
     "start_time": "2020-02-16T23:54:34.887458Z"
    }
   },
   "outputs": [],
   "source": [
    "period = 7"
   ]
  },
  {
   "cell_type": "markdown",
   "metadata": {},
   "source": [
    "Run Strategy"
   ]
  },
  {
   "cell_type": "code",
   "execution_count": 5,
   "metadata": {
    "ExecuteTime": {
     "end_time": "2020-02-16T23:54:35.119119Z",
     "start_time": "2020-02-16T23:54:34.901990Z"
    },
    "scrolled": false
   },
   "outputs": [],
   "source": [
    "s = strategy.Strategy(symbol, capital, start, end, period)\n",
    "s.run()"
   ]
  },
  {
   "cell_type": "markdown",
   "metadata": {},
   "source": [
    "Retrieve log DataFrames"
   ]
  },
  {
   "cell_type": "code",
   "execution_count": 6,
   "metadata": {
    "ExecuteTime": {
     "end_time": "2020-02-16T23:54:35.703518Z",
     "start_time": "2020-02-16T23:54:35.128830Z"
    }
   },
   "outputs": [],
   "source": [
    "tlog, dbal = s.get_logs()\n",
    "stats = s.get_stats()"
   ]
  },
  {
   "cell_type": "code",
   "execution_count": 7,
   "metadata": {
    "ExecuteTime": {
     "end_time": "2020-02-16T23:54:35.758755Z",
     "start_time": "2020-02-16T23:54:35.713024Z"
    }
   },
   "outputs": [
    {
     "data": {
      "text/html": [
       "<div>\n",
       "<style scoped>\n",
       "    .dataframe tbody tr th:only-of-type {\n",
       "        vertical-align: middle;\n",
       "    }\n",
       "\n",
       "    .dataframe tbody tr th {\n",
       "        vertical-align: top;\n",
       "    }\n",
       "\n",
       "    .dataframe thead th {\n",
       "        text-align: right;\n",
       "    }\n",
       "</style>\n",
       "<table border=\"1\" class=\"dataframe\">\n",
       "  <thead>\n",
       "    <tr style=\"text-align: right;\">\n",
       "      <th></th>\n",
       "      <th>entry_date</th>\n",
       "      <th>entry_price</th>\n",
       "      <th>exit_date</th>\n",
       "      <th>exit_price</th>\n",
       "      <th>pl_points</th>\n",
       "      <th>pl_cash</th>\n",
       "      <th>qty</th>\n",
       "      <th>cumul_total</th>\n",
       "      <th>direction</th>\n",
       "      <th>symbol</th>\n",
       "    </tr>\n",
       "  </thead>\n",
       "  <tbody>\n",
       "    <tr>\n",
       "      <th>252</th>\n",
       "      <td>2019-05-01</td>\n",
       "      <td>291.81</td>\n",
       "      <td>2019-05-06</td>\n",
       "      <td>289.25</td>\n",
       "      <td>-2.56</td>\n",
       "      <td>-532.48</td>\n",
       "      <td>208</td>\n",
       "      <td>50386.34</td>\n",
       "      <td>LONG</td>\n",
       "      <td>SPY</td>\n",
       "    </tr>\n",
       "    <tr>\n",
       "      <th>253</th>\n",
       "      <td>2019-05-07</td>\n",
       "      <td>287.93</td>\n",
       "      <td>2019-06-06</td>\n",
       "      <td>283.29</td>\n",
       "      <td>-4.64</td>\n",
       "      <td>-969.76</td>\n",
       "      <td>209</td>\n",
       "      <td>49416.59</td>\n",
       "      <td>LONG</td>\n",
       "      <td>SPY</td>\n",
       "    </tr>\n",
       "    <tr>\n",
       "      <th>254</th>\n",
       "      <td>2019-06-26</td>\n",
       "      <td>290.47</td>\n",
       "      <td>2019-07-02</td>\n",
       "      <td>295.61</td>\n",
       "      <td>5.14</td>\n",
       "      <td>1048.56</td>\n",
       "      <td>204</td>\n",
       "      <td>50465.14</td>\n",
       "      <td>LONG</td>\n",
       "      <td>SPY</td>\n",
       "    </tr>\n",
       "    <tr>\n",
       "      <th>255</th>\n",
       "      <td>2019-07-19</td>\n",
       "      <td>297.17</td>\n",
       "      <td>2019-07-25</td>\n",
       "      <td>300.94</td>\n",
       "      <td>3.77</td>\n",
       "      <td>765.31</td>\n",
       "      <td>203</td>\n",
       "      <td>51230.45</td>\n",
       "      <td>LONG</td>\n",
       "      <td>SPY</td>\n",
       "    </tr>\n",
       "    <tr>\n",
       "      <th>256</th>\n",
       "      <td>2019-07-31</td>\n",
       "      <td>297.43</td>\n",
       "      <td>2019-08-30</td>\n",
       "      <td>294.22</td>\n",
       "      <td>-3.21</td>\n",
       "      <td>-658.05</td>\n",
       "      <td>205</td>\n",
       "      <td>50572.40</td>\n",
       "      <td>LONG</td>\n",
       "      <td>SPY</td>\n",
       "    </tr>\n",
       "    <tr>\n",
       "      <th>257</th>\n",
       "      <td>2019-09-20</td>\n",
       "      <td>298.28</td>\n",
       "      <td>2019-10-14</td>\n",
       "      <td>295.93</td>\n",
       "      <td>-2.35</td>\n",
       "      <td>-477.05</td>\n",
       "      <td>203</td>\n",
       "      <td>50095.35</td>\n",
       "      <td>LONG</td>\n",
       "      <td>SPY</td>\n",
       "    </tr>\n",
       "    <tr>\n",
       "      <th>258</th>\n",
       "      <td>2019-12-03</td>\n",
       "      <td>309.55</td>\n",
       "      <td>2019-12-13</td>\n",
       "      <td>316.87</td>\n",
       "      <td>7.32</td>\n",
       "      <td>1420.08</td>\n",
       "      <td>194</td>\n",
       "      <td>51515.43</td>\n",
       "      <td>LONG</td>\n",
       "      <td>SPY</td>\n",
       "    </tr>\n",
       "    <tr>\n",
       "      <th>259</th>\n",
       "      <td>2020-01-27</td>\n",
       "      <td>323.50</td>\n",
       "      <td>2020-02-05</td>\n",
       "      <td>332.27</td>\n",
       "      <td>8.77</td>\n",
       "      <td>1666.30</td>\n",
       "      <td>190</td>\n",
       "      <td>53181.73</td>\n",
       "      <td>LONG</td>\n",
       "      <td>SPY</td>\n",
       "    </tr>\n",
       "    <tr>\n",
       "      <th>260</th>\n",
       "      <td>2020-02-21</td>\n",
       "      <td>333.48</td>\n",
       "      <td>2020-03-05</td>\n",
       "      <td>304.98</td>\n",
       "      <td>-28.50</td>\n",
       "      <td>-5386.50</td>\n",
       "      <td>189</td>\n",
       "      <td>47795.23</td>\n",
       "      <td>LONG</td>\n",
       "      <td>SPY</td>\n",
       "    </tr>\n",
       "    <tr>\n",
       "      <th>261</th>\n",
       "      <td>2020-06-24</td>\n",
       "      <td>304.09</td>\n",
       "      <td>2020-07-06</td>\n",
       "      <td>316.37</td>\n",
       "      <td>12.28</td>\n",
       "      <td>2333.20</td>\n",
       "      <td>190</td>\n",
       "      <td>50128.43</td>\n",
       "      <td>LONG</td>\n",
       "      <td>SPY</td>\n",
       "    </tr>\n",
       "  </tbody>\n",
       "</table>\n",
       "</div>"
      ],
      "text/plain": [
       "    entry_date  entry_price  exit_date  exit_price  pl_points  pl_cash  qty  \\\n",
       "252 2019-05-01       291.81 2019-05-06      289.25      -2.56  -532.48  208   \n",
       "253 2019-05-07       287.93 2019-06-06      283.29      -4.64  -969.76  209   \n",
       "254 2019-06-26       290.47 2019-07-02      295.61       5.14  1048.56  204   \n",
       "255 2019-07-19       297.17 2019-07-25      300.94       3.77   765.31  203   \n",
       "256 2019-07-31       297.43 2019-08-30      294.22      -3.21  -658.05  205   \n",
       "257 2019-09-20       298.28 2019-10-14      295.93      -2.35  -477.05  203   \n",
       "258 2019-12-03       309.55 2019-12-13      316.87       7.32  1420.08  194   \n",
       "259 2020-01-27       323.50 2020-02-05      332.27       8.77  1666.30  190   \n",
       "260 2020-02-21       333.48 2020-03-05      304.98     -28.50 -5386.50  189   \n",
       "261 2020-06-24       304.09 2020-07-06      316.37      12.28  2333.20  190   \n",
       "\n",
       "     cumul_total direction symbol  \n",
       "252     50386.34      LONG    SPY  \n",
       "253     49416.59      LONG    SPY  \n",
       "254     50465.14      LONG    SPY  \n",
       "255     51230.45      LONG    SPY  \n",
       "256     50572.40      LONG    SPY  \n",
       "257     50095.35      LONG    SPY  \n",
       "258     51515.43      LONG    SPY  \n",
       "259     53181.73      LONG    SPY  \n",
       "260     47795.23      LONG    SPY  \n",
       "261     50128.43      LONG    SPY  "
      ]
     },
     "execution_count": 7,
     "metadata": {},
     "output_type": "execute_result"
    }
   ],
   "source": [
    "tlog.tail(10)"
   ]
  },
  {
   "cell_type": "code",
   "execution_count": 8,
   "metadata": {
    "ExecuteTime": {
     "end_time": "2020-02-16T23:54:35.795793Z",
     "start_time": "2020-02-16T23:54:35.767974Z"
    }
   },
   "outputs": [
    {
     "data": {
      "text/html": [
       "<div>\n",
       "<style scoped>\n",
       "    .dataframe tbody tr th:only-of-type {\n",
       "        vertical-align: middle;\n",
       "    }\n",
       "\n",
       "    .dataframe tbody tr th {\n",
       "        vertical-align: top;\n",
       "    }\n",
       "\n",
       "    .dataframe thead th {\n",
       "        text-align: right;\n",
       "    }\n",
       "</style>\n",
       "<table border=\"1\" class=\"dataframe\">\n",
       "  <thead>\n",
       "    <tr style=\"text-align: right;\">\n",
       "      <th></th>\n",
       "      <th>high</th>\n",
       "      <th>low</th>\n",
       "      <th>close</th>\n",
       "      <th>shares</th>\n",
       "      <th>cash</th>\n",
       "      <th>leverage</th>\n",
       "      <th>state</th>\n",
       "    </tr>\n",
       "    <tr>\n",
       "      <th>date</th>\n",
       "      <th></th>\n",
       "      <th></th>\n",
       "      <th></th>\n",
       "      <th></th>\n",
       "      <th></th>\n",
       "      <th></th>\n",
       "      <th></th>\n",
       "    </tr>\n",
       "  </thead>\n",
       "  <tbody>\n",
       "    <tr>\n",
       "      <th>2020-07-08</th>\n",
       "      <td>60128.43</td>\n",
       "      <td>60128.43</td>\n",
       "      <td>60128.43</td>\n",
       "      <td>0</td>\n",
       "      <td>60128.43</td>\n",
       "      <td>0.00</td>\n",
       "      <td>-</td>\n",
       "    </tr>\n",
       "    <tr>\n",
       "      <th>2020-07-09</th>\n",
       "      <td>60128.43</td>\n",
       "      <td>60128.43</td>\n",
       "      <td>60128.43</td>\n",
       "      <td>0</td>\n",
       "      <td>60128.43</td>\n",
       "      <td>0.00</td>\n",
       "      <td>-</td>\n",
       "    </tr>\n",
       "    <tr>\n",
       "      <th>2020-07-10</th>\n",
       "      <td>60128.43</td>\n",
       "      <td>60128.43</td>\n",
       "      <td>60128.43</td>\n",
       "      <td>0</td>\n",
       "      <td>60128.43</td>\n",
       "      <td>0.00</td>\n",
       "      <td>-</td>\n",
       "    </tr>\n",
       "    <tr>\n",
       "      <th>2020-07-13</th>\n",
       "      <td>60128.43</td>\n",
       "      <td>60128.43</td>\n",
       "      <td>60128.43</td>\n",
       "      <td>0</td>\n",
       "      <td>60128.43</td>\n",
       "      <td>0.00</td>\n",
       "      <td>-</td>\n",
       "    </tr>\n",
       "    <tr>\n",
       "      <th>2020-07-14</th>\n",
       "      <td>60128.43</td>\n",
       "      <td>60128.43</td>\n",
       "      <td>60128.43</td>\n",
       "      <td>0</td>\n",
       "      <td>60128.43</td>\n",
       "      <td>0.00</td>\n",
       "      <td>-</td>\n",
       "    </tr>\n",
       "  </tbody>\n",
       "</table>\n",
       "</div>"
      ],
      "text/plain": [
       "               high      low    close  shares     cash  leverage state\n",
       "date                                                                  \n",
       "2020-07-08 60128.43 60128.43 60128.43       0 60128.43      0.00     -\n",
       "2020-07-09 60128.43 60128.43 60128.43       0 60128.43      0.00     -\n",
       "2020-07-10 60128.43 60128.43 60128.43       0 60128.43      0.00     -\n",
       "2020-07-13 60128.43 60128.43 60128.43       0 60128.43      0.00     -\n",
       "2020-07-14 60128.43 60128.43 60128.43       0 60128.43      0.00     -"
      ]
     },
     "execution_count": 8,
     "metadata": {},
     "output_type": "execute_result"
    }
   ],
   "source": [
    "dbal.tail()"
   ]
  },
  {
   "cell_type": "markdown",
   "metadata": {},
   "source": [
    "Generate strategy stats - display all available stats"
   ]
  },
  {
   "cell_type": "code",
   "execution_count": 9,
   "metadata": {
    "ExecuteTime": {
     "end_time": "2020-02-16T23:54:35.843276Z",
     "start_time": "2020-02-16T23:54:35.802363Z"
    }
   },
   "outputs": [
    {
     "name": "stdout",
     "output_type": "stream",
     "text": [
      "start                                                  1993-11-11\n",
      "end                                                    2020-07-14\n",
      "beginning_balance                                           10000\n",
      "ending_balance                                           60128.43\n",
      "total_net_profit                                         50128.43\n",
      "gross_profit                                            101104.89\n",
      "gross_loss                                              -50976.46\n",
      "profit_factor                                                1.98\n",
      "return_on_initial_capital                                  501.28\n",
      "annual_return_rate                                           6.96\n",
      "trading_period                           26 years 8 months 3 days\n",
      "pct_time_in_market                                          33.24\n",
      "margin                                                          1\n",
      "avg_leverage                                                 1.00\n",
      "max_leverage                                                 1.00\n",
      "min_leverage                                                 0.99\n",
      "total_num_trades                                              262\n",
      "trades_per_year                                              9.82\n",
      "num_winning_trades                                            197\n",
      "num_losing_trades                                              65\n",
      "num_even_trades                                                 0\n",
      "pct_profitable_trades                                       75.19\n",
      "avg_profit_per_trade                                       191.33\n",
      "avg_profit_per_winning_trade                               513.22\n",
      "avg_loss_per_losing_trade                                 -784.25\n",
      "ratio_avg_profit_win_loss                                    0.65\n",
      "largest_profit_winning_trade                              2333.20\n",
      "largest_loss_losing_trade                                -5386.50\n",
      "num_winning_points                                         434.04\n",
      "num_losing_points                                         -216.93\n",
      "total_net_points                                           217.11\n",
      "avg_points                                                   0.83\n",
      "largest_points_winning_trade                                12.28\n",
      "largest_points_losing_trade                                -28.50\n",
      "avg_pct_gain_per_trade                                       0.71\n",
      "largest_pct_winning_trade                                    6.53\n",
      "largest_pct_losing_trade                                    -8.55\n",
      "max_consecutive_winning_trades                                 15\n",
      "max_consecutive_losing_trades                                   4\n",
      "avg_bars_winning_trades                                      7.55\n",
      "avg_bars_losing_trades                                      15.48\n",
      "max_closed_out_drawdown                                    -16.06\n",
      "max_closed_out_drawdown_start_date                     2000-07-03\n",
      "max_closed_out_drawdown_end_date                       2002-05-07\n",
      "max_closed_out_drawdown_recovery_date                  2004-03-01\n",
      "drawdown_recovery                                           -1.84\n",
      "drawdown_annualized_return                                  -2.31\n",
      "max_intra_day_drawdown                                     -16.86\n",
      "avg_yearly_closed_out_drawdown                              -6.68\n",
      "max_yearly_closed_out_drawdown                             -14.03\n",
      "avg_monthly_closed_out_drawdown                             -1.51\n",
      "max_monthly_closed_out_drawdown                            -14.03\n",
      "avg_weekly_closed_out_drawdown                              -0.50\n",
      "max_weekly_closed_out_drawdown                             -12.82\n",
      "avg_yearly_closed_out_runup                                 12.76\n",
      "max_yearly_closed_out_runup                                 45.94\n",
      "avg_monthly_closed_out_runup                                 1.98\n",
      "max_monthly_closed_out_runup                                12.77\n",
      "avg_weekly_closed_out_runup                                  0.65\n",
      "max_weekly_closed_out_runup                                  7.79\n",
      "pct_profitable_years                                        73.45\n",
      "best_year                                                   45.20\n",
      "worst_year                                                  -8.63\n",
      "avg_year                                                     7.56\n",
      "annual_std                                                   9.52\n",
      "pct_profitable_months                                       50.75\n",
      "best_month                                                  12.77\n",
      "worst_month                                                -13.32\n",
      "avg_month                                                    0.55\n",
      "monthly_std                                                  2.18\n",
      "pct_profitable_weeks                                        30.24\n",
      "best_week                                                    7.79\n",
      "worst_week                                                 -12.82\n",
      "avg_week                                                     0.14\n",
      "weekly_std                                                   1.23\n",
      "sharpe_ratio                                                 0.72\n",
      "sortino_ratio                                                0.55\n",
      "dtype: object\n"
     ]
    }
   ],
   "source": [
    "pf.print_full(stats)"
   ]
  },
  {
   "cell_type": "markdown",
   "metadata": {},
   "source": [
    "Equity curve"
   ]
  },
  {
   "cell_type": "markdown",
   "metadata": {},
   "source": [
    "Run Benchmark, Retrieve benchmark logs, and Generate benchmark stats"
   ]
  },
  {
   "cell_type": "code",
   "execution_count": 10,
   "metadata": {
    "ExecuteTime": {
     "end_time": "2020-02-16T23:54:36.469515Z",
     "start_time": "2020-02-16T23:54:35.850343Z"
    }
   },
   "outputs": [
    {
     "name": "stdout",
     "output_type": "stream",
     "text": [
      "1993-11-11 00:00:00 BUY  215 SPY @ 46.38\n",
      "2020-07-14 00:00:00 SELL 215 SPY @ 316.03\n"
     ]
    }
   ],
   "source": [
    "benchmark = pf.Benchmark(symbol, capital, s._start, s._end)\n",
    "benchmark.run()\n",
    "benchmark.tlog, benchmark.dbal = benchmark.get_logs()\n",
    "benchmark.stats = benchmark.get_stats()"
   ]
  },
  {
   "cell_type": "markdown",
   "metadata": {},
   "source": [
    "Plot Equity Curves: Strategy vs Benchmark"
   ]
  },
  {
   "cell_type": "code",
   "execution_count": 11,
   "metadata": {
    "ExecuteTime": {
     "end_time": "2020-02-16T23:54:36.760025Z",
     "start_time": "2020-02-16T23:54:36.481940Z"
    }
   },
   "outputs": [
    {
     "data": {
      "image/png": "[encoded data removed]",
      "text/plain": [
       "<Figure size 720x504 with 1 Axes>"
      ]
     },
     "metadata": {
      "needs_background": "light"
     },
     "output_type": "display_data"
    }
   ],
   "source": [
    "pf.plot_equity_curve(dbal, benchmark=benchmark.dbal)"
   ]
  },
  {
   "cell_type": "markdown",
   "metadata": {},
   "source": [
    "Plot Trades"
   ]
  },
  {
   "cell_type": "code",
   "execution_count": 12,
   "metadata": {
    "ExecuteTime": {
     "end_time": "2020-02-16T23:54:37.066487Z",
     "start_time": "2020-02-16T23:54:36.764041Z"
    },
    "scrolled": false
   },
   "outputs": [
    {
     "data": {
      "image/png": "[encoded data removed]",
      "text/plain": [
       "<Figure size 720x504 with 1 Axes>"
      ]
     },
     "metadata": {
      "needs_background": "light"
     },
     "output_type": "display_data"
    }
   ],
   "source": [
    "pf.plot_trades(s.dbal, benchmark=benchmark.dbal)"
   ]
  },
  {
   "cell_type": "markdown",
   "metadata": {},
   "source": [
    "Bar Graph: Strategy vs Benchmark"
   ]
  },
  {
   "cell_type": "code",
   "execution_count": 13,
   "metadata": {
    "ExecuteTime": {
     "end_time": "2020-02-16T23:54:37.528837Z",
     "start_time": "2020-02-16T23:54:37.073971Z"
    }
   },
   "outputs": [
    {
     "data": {
      "text/html": [
       "<div>\n",
       "<style scoped>\n",
       "    .dataframe tbody tr th:only-of-type {\n",
       "        vertical-align: middle;\n",
       "    }\n",
       "\n",
       "    .dataframe tbody tr th {\n",
       "        vertical-align: top;\n",
       "    }\n",
       "\n",
       "    .dataframe thead th {\n",
       "        text-align: right;\n",
       "    }\n",
       "</style>\n",
       "<table border=\"1\" class=\"dataframe\">\n",
       "  <thead>\n",
       "    <tr style=\"text-align: right;\">\n",
       "      <th></th>\n",
       "      <th>strategy</th>\n",
       "      <th>benchmark</th>\n",
       "    </tr>\n",
       "  </thead>\n",
       "  <tbody>\n",
       "    <tr>\n",
       "      <th>annual_return_rate</th>\n",
       "      <td>6.96</td>\n",
       "      <td>7.45</td>\n",
       "    </tr>\n",
       "    <tr>\n",
       "      <th>max_closed_out_drawdown</th>\n",
       "      <td>-16.06</td>\n",
       "      <td>-56.42</td>\n",
       "    </tr>\n",
       "    <tr>\n",
       "      <th>drawdown_annualized_return</th>\n",
       "      <td>-2.31</td>\n",
       "      <td>-7.57</td>\n",
       "    </tr>\n",
       "    <tr>\n",
       "      <th>drawdown_recovery</th>\n",
       "      <td>-1.84</td>\n",
       "      <td>-1.42</td>\n",
       "    </tr>\n",
       "    <tr>\n",
       "      <th>best_month</th>\n",
       "      <td>12.77</td>\n",
       "      <td>23.06</td>\n",
       "    </tr>\n",
       "    <tr>\n",
       "      <th>worst_month</th>\n",
       "      <td>-13.32</td>\n",
       "      <td>-31.38</td>\n",
       "    </tr>\n",
       "    <tr>\n",
       "      <th>sharpe_ratio</th>\n",
       "      <td>0.72</td>\n",
       "      <td>0.47</td>\n",
       "    </tr>\n",
       "    <tr>\n",
       "      <th>sortino_ratio</th>\n",
       "      <td>0.55</td>\n",
       "      <td>0.60</td>\n",
       "    </tr>\n",
       "    <tr>\n",
       "      <th>monthly_std</th>\n",
       "      <td>2.18</td>\n",
       "      <td>4.54</td>\n",
       "    </tr>\n",
       "  </tbody>\n",
       "</table>\n",
       "</div>"
      ],
      "text/plain": [
       "                            strategy  benchmark\n",
       "annual_return_rate              6.96       7.45\n",
       "max_closed_out_drawdown       -16.06     -56.42\n",
       "drawdown_annualized_return     -2.31      -7.57\n",
       "drawdown_recovery              -1.84      -1.42\n",
       "best_month                     12.77      23.06\n",
       "worst_month                   -13.32     -31.38\n",
       "sharpe_ratio                    0.72       0.47\n",
       "sortino_ratio                   0.55       0.60\n",
       "monthly_std                     2.18       4.54"
      ]
     },
     "execution_count": 13,
     "metadata": {},
     "output_type": "execute_result"
    },
    {
     "data": {
      "image/png": "[encoded data removed]",
      "text/plain": [
       "<Figure size 720x504 with 1 Axes>"
      ]
     },
     "metadata": {
      "needs_background": "light"
     },
     "output_type": "display_data"
    }
   ],
   "source": [
    "metrics = ('annual_return_rate',\n",
    "           'max_closed_out_drawdown',\n",
    "           'drawdown_annualized_return',\n",
    "           'drawdown_recovery',\n",
    "           'best_month',\n",
    "           'worst_month',\n",
    "           'sharpe_ratio',\n",
    "           'sortino_ratio',\n",
    "           'monthly_std')\n",
    "\n",
    "df = pf.plot_bar_graph(stats, benchmark.stats, metrics)\n",
    "df"
   ]
  }
 ],
 "metadata": {
  "kernelspec": {
   "display_name": "Python 3",
   "language": "python",
   "name": "python3"
  },
  "language_info": {
   "codemirror_mode": {
    "name": "ipython",
    "version": 3
   },
   "file_extension": ".py",
   "mimetype": "text/x-python",
   "name": "python",
   "nbconvert_exporter": "python",
   "pygments_lexer": "ipython3",
   "version": "3.8.2"
  },
  "latex_envs": {
   "LaTeX_envs_menu_present": true,
   "autoclose": false,
   "autocomplete": true,
   "bibliofile": "biblio.bib",
   "cite_by": "apalike",
   "current_citInitial": 1,
   "eqLabelWithNumbers": true,
   "eqNumInitial": 1,
   "hotkeys": {
    "equation": "Ctrl-E",
    "itemize": "Ctrl-I"
   },
   "labels_anchors": false,
   "latex_user_defs": false,
   "report_style_numbering": false,
   "user_envs_cfg": false
  }
 },
 "nbformat": 4,
 "nbformat_minor": 1
}
