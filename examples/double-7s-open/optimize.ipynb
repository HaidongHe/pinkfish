{
 "cells": [
  {
   "cell_type": "markdown",
   "metadata": {},
   "source": [
    "# Double 7's (Short Term Trading Strategies that Work)\n",
    "\n",
    "    1. The SPY is above its 200-day moving average\n",
    "    2. The SPY closes at a X-day low, buy.\n",
    "    3. If the SPY closes at a X-day high, sell your long position.\n",
    "    \n",
    "    (optimize for number of days)"
   ]
  },
  {
   "cell_type": "code",
   "execution_count": 1,
   "metadata": {
    "ExecuteTime": {
     "end_time": "2020-02-16T23:55:45.449424Z",
     "start_time": "2020-02-16T23:55:44.629295Z"
    }
   },
   "outputs": [],
   "source": [
    "import pandas as pd\n",
    "import matplotlib.pyplot as plt\n",
    "import datetime\n",
    "from talib.abstract import *\n",
    "\n",
    "import pinkfish as pf\n",
    "import strategy\n",
    "\n",
    "# format price data\n",
    "pd.options.display.float_format = '{:0.2f}'.format\n",
    "\n",
    "%matplotlib inline"
   ]
  },
  {
   "cell_type": "code",
   "execution_count": 2,
   "metadata": {
    "ExecuteTime": {
     "end_time": "2020-02-16T23:55:45.467350Z",
     "start_time": "2020-02-16T23:55:45.459959Z"
    }
   },
   "outputs": [],
   "source": [
    "# set size of inline plots\n",
    "'''note: rcParams can't be in same cell as import matplotlib\n",
    "   or %matplotlib inline\n",
    "   \n",
    "   %matplotlib notebook: will lead to interactive plots embedded within\n",
    "   the notebook, you can zoom and resize the figure\n",
    "   \n",
    "   %matplotlib inline: only draw static images in the notebook\n",
    "'''\n",
    "plt.rcParams[\"figure.figsize\"] = (10, 7)"
   ]
  },
  {
   "cell_type": "markdown",
   "metadata": {},
   "source": [
    "Some global data"
   ]
  },
  {
   "cell_type": "code",
   "execution_count": 3,
   "metadata": {
    "ExecuteTime": {
     "end_time": "2020-02-16T23:55:45.491511Z",
     "start_time": "2020-02-16T23:55:45.480099Z"
    }
   },
   "outputs": [],
   "source": [
    "#symbol = '^GSPC'\n",
    "symbol = 'SPY'\n",
    "#symbol = 'DIA'\n",
    "#symbol = 'QQQ'\n",
    "#symbol = 'IWM'\n",
    "#symbol = 'TLT'\n",
    "#symbol = 'GLD'\n",
    "#symbol = 'AAPL'\n",
    "#symbol = 'BBRY'\n",
    "#symbol = 'GDX'\n",
    "capital = 10000\n",
    "start = datetime.datetime(1900, 1, 1)\n",
    "#end = datetime.datetime(2005, 12, 1)\n",
    "end = datetime.datetime.now()"
   ]
  },
  {
   "cell_type": "markdown",
   "metadata": {},
   "source": [
    "Define high low trade periods"
   ]
  },
  {
   "cell_type": "code",
   "execution_count": 4,
   "metadata": {
    "ExecuteTime": {
     "end_time": "2020-02-16T23:55:45.509993Z",
     "start_time": "2020-02-16T23:55:45.500620Z"
    }
   },
   "outputs": [],
   "source": [
    "periods = range(2, 16)\n",
    "periods = [str(period) for period in periods]"
   ]
  },
  {
   "cell_type": "markdown",
   "metadata": {},
   "source": [
    "Run Strategy"
   ]
  },
  {
   "cell_type": "code",
   "execution_count": 5,
   "metadata": {
    "ExecuteTime": {
     "end_time": "2020-02-16T23:55:52.367461Z",
     "start_time": "2020-02-16T23:55:45.516192Z"
    },
    "scrolled": true
   },
   "outputs": [
    {
     "name": "stdout",
     "output_type": "stream",
     "text": [
      "2 3 4 5 6 7 8 9 10 11 12 13 14 15 "
     ]
    }
   ],
   "source": [
    "strategies = pd.Series(dtype=object)\n",
    "for period in periods:\n",
    "    print(\"{0}\".format(period), end=\" \")\n",
    "    strategies[period] = strategy.Strategy(symbol, capital, start, end, int(period))\n",
    "    strategies[period].run()\n",
    "    strategies[period].tlog, strategies[period].dbal = strategies[period].get_logs()\n",
    "    strategies[period].stats = strategies[period].get_stats()"
   ]
  },
  {
   "cell_type": "markdown",
   "metadata": {},
   "source": [
    "Summarize results"
   ]
  },
  {
   "cell_type": "code",
   "execution_count": 6,
   "metadata": {
    "ExecuteTime": {
     "end_time": "2020-02-16T23:55:52.460173Z",
     "start_time": "2020-02-16T23:55:52.383578Z"
    },
    "scrolled": false
   },
   "outputs": [
    {
     "data": {
      "text/html": [
       "<div>\n",
       "<style scoped>\n",
       "    .dataframe tbody tr th:only-of-type {\n",
       "        vertical-align: middle;\n",
       "    }\n",
       "\n",
       "    .dataframe tbody tr th {\n",
       "        vertical-align: top;\n",
       "    }\n",
       "\n",
       "    .dataframe thead th {\n",
       "        text-align: right;\n",
       "    }\n",
       "</style>\n",
       "<table border=\"1\" class=\"dataframe\">\n",
       "  <thead>\n",
       "    <tr style=\"text-align: right;\">\n",
       "      <th></th>\n",
       "      <th>2</th>\n",
       "      <th>3</th>\n",
       "      <th>4</th>\n",
       "      <th>5</th>\n",
       "      <th>6</th>\n",
       "      <th>7</th>\n",
       "      <th>8</th>\n",
       "      <th>9</th>\n",
       "      <th>10</th>\n",
       "      <th>11</th>\n",
       "      <th>12</th>\n",
       "      <th>13</th>\n",
       "      <th>14</th>\n",
       "      <th>15</th>\n",
       "    </tr>\n",
       "  </thead>\n",
       "  <tbody>\n",
       "    <tr>\n",
       "      <th>annual_return_rate</th>\n",
       "      <td>4.44</td>\n",
       "      <td>6.29</td>\n",
       "      <td>6.86</td>\n",
       "      <td>5.99</td>\n",
       "      <td>7.01</td>\n",
       "      <td>6.96</td>\n",
       "      <td>6.26</td>\n",
       "      <td>5.70</td>\n",
       "      <td>5.72</td>\n",
       "      <td>6.29</td>\n",
       "      <td>6.09</td>\n",
       "      <td>5.65</td>\n",
       "      <td>4.87</td>\n",
       "      <td>5.06</td>\n",
       "    </tr>\n",
       "    <tr>\n",
       "      <th>max_closed_out_drawdown</th>\n",
       "      <td>-24.51</td>\n",
       "      <td>-16.37</td>\n",
       "      <td>-15.79</td>\n",
       "      <td>-14.00</td>\n",
       "      <td>-14.03</td>\n",
       "      <td>-16.06</td>\n",
       "      <td>-33.03</td>\n",
       "      <td>-33.07</td>\n",
       "      <td>-30.82</td>\n",
       "      <td>-30.79</td>\n",
       "      <td>-30.75</td>\n",
       "      <td>-30.85</td>\n",
       "      <td>-30.74</td>\n",
       "      <td>-30.67</td>\n",
       "    </tr>\n",
       "    <tr>\n",
       "      <th>drawdown_annualized_return</th>\n",
       "      <td>-5.53</td>\n",
       "      <td>-2.60</td>\n",
       "      <td>-2.30</td>\n",
       "      <td>-2.34</td>\n",
       "      <td>-2.00</td>\n",
       "      <td>-2.31</td>\n",
       "      <td>-5.27</td>\n",
       "      <td>-5.80</td>\n",
       "      <td>-5.39</td>\n",
       "      <td>-4.89</td>\n",
       "      <td>-5.05</td>\n",
       "      <td>-5.46</td>\n",
       "      <td>-6.31</td>\n",
       "      <td>-6.07</td>\n",
       "    </tr>\n",
       "    <tr>\n",
       "      <th>drawdown_recovery</th>\n",
       "      <td>-1.13</td>\n",
       "      <td>-0.24</td>\n",
       "      <td>-0.05</td>\n",
       "      <td>-0.05</td>\n",
       "      <td>-0.05</td>\n",
       "      <td>-1.84</td>\n",
       "      <td>-0.13</td>\n",
       "      <td>-0.13</td>\n",
       "      <td>-0.13</td>\n",
       "      <td>-0.13</td>\n",
       "      <td>-0.13</td>\n",
       "      <td>-0.13</td>\n",
       "      <td>-0.13</td>\n",
       "      <td>-0.13</td>\n",
       "    </tr>\n",
       "    <tr>\n",
       "      <th>best_month</th>\n",
       "      <td>10.00</td>\n",
       "      <td>12.79</td>\n",
       "      <td>12.38</td>\n",
       "      <td>9.94</td>\n",
       "      <td>9.96</td>\n",
       "      <td>12.77</td>\n",
       "      <td>13.53</td>\n",
       "      <td>13.55</td>\n",
       "      <td>16.85</td>\n",
       "      <td>16.82</td>\n",
       "      <td>22.88</td>\n",
       "      <td>22.99</td>\n",
       "      <td>22.87</td>\n",
       "      <td>22.80</td>\n",
       "    </tr>\n",
       "    <tr>\n",
       "      <th>worst_month</th>\n",
       "      <td>-11.52</td>\n",
       "      <td>-15.37</td>\n",
       "      <td>-15.09</td>\n",
       "      <td>-13.28</td>\n",
       "      <td>-13.32</td>\n",
       "      <td>-13.32</td>\n",
       "      <td>-31.28</td>\n",
       "      <td>-31.32</td>\n",
       "      <td>-30.82</td>\n",
       "      <td>-30.79</td>\n",
       "      <td>-30.75</td>\n",
       "      <td>-30.85</td>\n",
       "      <td>-30.74</td>\n",
       "      <td>-30.67</td>\n",
       "    </tr>\n",
       "    <tr>\n",
       "      <th>sharpe_ratio</th>\n",
       "      <td>0.55</td>\n",
       "      <td>0.71</td>\n",
       "      <td>0.74</td>\n",
       "      <td>0.65</td>\n",
       "      <td>0.75</td>\n",
       "      <td>0.72</td>\n",
       "      <td>0.61</td>\n",
       "      <td>0.57</td>\n",
       "      <td>0.57</td>\n",
       "      <td>0.62</td>\n",
       "      <td>0.59</td>\n",
       "      <td>0.55</td>\n",
       "      <td>0.48</td>\n",
       "      <td>0.51</td>\n",
       "    </tr>\n",
       "    <tr>\n",
       "      <th>sortino_ratio</th>\n",
       "      <td>0.41</td>\n",
       "      <td>0.53</td>\n",
       "      <td>0.56</td>\n",
       "      <td>0.49</td>\n",
       "      <td>0.56</td>\n",
       "      <td>0.55</td>\n",
       "      <td>0.42</td>\n",
       "      <td>0.38</td>\n",
       "      <td>0.39</td>\n",
       "      <td>0.42</td>\n",
       "      <td>0.39</td>\n",
       "      <td>0.37</td>\n",
       "      <td>0.32</td>\n",
       "      <td>0.33</td>\n",
       "    </tr>\n",
       "    <tr>\n",
       "      <th>monthly_std</th>\n",
       "      <td>2.11</td>\n",
       "      <td>2.08</td>\n",
       "      <td>2.09</td>\n",
       "      <td>2.00</td>\n",
       "      <td>2.06</td>\n",
       "      <td>2.18</td>\n",
       "      <td>2.52</td>\n",
       "      <td>2.41</td>\n",
       "      <td>2.34</td>\n",
       "      <td>2.35</td>\n",
       "      <td>2.42</td>\n",
       "      <td>2.47</td>\n",
       "      <td>2.39</td>\n",
       "      <td>2.34</td>\n",
       "    </tr>\n",
       "    <tr>\n",
       "      <th>pct_time_in_market</th>\n",
       "      <td>41.62</td>\n",
       "      <td>38.56</td>\n",
       "      <td>36.49</td>\n",
       "      <td>34.83</td>\n",
       "      <td>33.51</td>\n",
       "      <td>33.24</td>\n",
       "      <td>32.52</td>\n",
       "      <td>30.65</td>\n",
       "      <td>30.68</td>\n",
       "      <td>30.31</td>\n",
       "      <td>30.04</td>\n",
       "      <td>29.93</td>\n",
       "      <td>28.80</td>\n",
       "      <td>27.62</td>\n",
       "    </tr>\n",
       "    <tr>\n",
       "      <th>total_num_trades</th>\n",
       "      <td>1016.00</td>\n",
       "      <td>675.00</td>\n",
       "      <td>479.00</td>\n",
       "      <td>374.00</td>\n",
       "      <td>317.00</td>\n",
       "      <td>262.00</td>\n",
       "      <td>231.00</td>\n",
       "      <td>193.00</td>\n",
       "      <td>175.00</td>\n",
       "      <td>159.00</td>\n",
       "      <td>146.00</td>\n",
       "      <td>132.00</td>\n",
       "      <td>119.00</td>\n",
       "      <td>108.00</td>\n",
       "    </tr>\n",
       "    <tr>\n",
       "      <th>pct_profitable_trades</th>\n",
       "      <td>64.86</td>\n",
       "      <td>70.07</td>\n",
       "      <td>73.28</td>\n",
       "      <td>72.99</td>\n",
       "      <td>75.71</td>\n",
       "      <td>75.19</td>\n",
       "      <td>76.19</td>\n",
       "      <td>75.65</td>\n",
       "      <td>77.71</td>\n",
       "      <td>79.25</td>\n",
       "      <td>80.14</td>\n",
       "      <td>82.58</td>\n",
       "      <td>83.19</td>\n",
       "      <td>84.26</td>\n",
       "    </tr>\n",
       "    <tr>\n",
       "      <th>avg_points</th>\n",
       "      <td>0.14</td>\n",
       "      <td>0.30</td>\n",
       "      <td>0.44</td>\n",
       "      <td>0.50</td>\n",
       "      <td>0.70</td>\n",
       "      <td>0.83</td>\n",
       "      <td>0.76</td>\n",
       "      <td>0.86</td>\n",
       "      <td>1.01</td>\n",
       "      <td>1.30</td>\n",
       "      <td>1.36</td>\n",
       "      <td>1.43</td>\n",
       "      <td>1.42</td>\n",
       "      <td>1.59</td>\n",
       "    </tr>\n",
       "  </tbody>\n",
       "</table>\n",
       "</div>"
      ],
      "text/plain": [
       "                                 2      3      4      5      6      7      8  \\\n",
       "annual_return_rate            4.44   6.29   6.86   5.99   7.01   6.96   6.26   \n",
       "max_closed_out_drawdown     -24.51 -16.37 -15.79 -14.00 -14.03 -16.06 -33.03   \n",
       "drawdown_annualized_return   -5.53  -2.60  -2.30  -2.34  -2.00  -2.31  -5.27   \n",
       "drawdown_recovery            -1.13  -0.24  -0.05  -0.05  -0.05  -1.84  -0.13   \n",
       "best_month                   10.00  12.79  12.38   9.94   9.96  12.77  13.53   \n",
       "worst_month                 -11.52 -15.37 -15.09 -13.28 -13.32 -13.32 -31.28   \n",
       "sharpe_ratio                  0.55   0.71   0.74   0.65   0.75   0.72   0.61   \n",
       "sortino_ratio                 0.41   0.53   0.56   0.49   0.56   0.55   0.42   \n",
       "monthly_std                   2.11   2.08   2.09   2.00   2.06   2.18   2.52   \n",
       "pct_time_in_market           41.62  38.56  36.49  34.83  33.51  33.24  32.52   \n",
       "total_num_trades           1016.00 675.00 479.00 374.00 317.00 262.00 231.00   \n",
       "pct_profitable_trades        64.86  70.07  73.28  72.99  75.71  75.19  76.19   \n",
       "avg_points                    0.14   0.30   0.44   0.50   0.70   0.83   0.76   \n",
       "\n",
       "                                9     10     11     12     13     14     15  \n",
       "annual_return_rate           5.70   5.72   6.29   6.09   5.65   4.87   5.06  \n",
       "max_closed_out_drawdown    -33.07 -30.82 -30.79 -30.75 -30.85 -30.74 -30.67  \n",
       "drawdown_annualized_return  -5.80  -5.39  -4.89  -5.05  -5.46  -6.31  -6.07  \n",
       "drawdown_recovery           -0.13  -0.13  -0.13  -0.13  -0.13  -0.13  -0.13  \n",
       "best_month                  13.55  16.85  16.82  22.88  22.99  22.87  22.80  \n",
       "worst_month                -31.32 -30.82 -30.79 -30.75 -30.85 -30.74 -30.67  \n",
       "sharpe_ratio                 0.57   0.57   0.62   0.59   0.55   0.48   0.51  \n",
       "sortino_ratio                0.38   0.39   0.42   0.39   0.37   0.32   0.33  \n",
       "monthly_std                  2.41   2.34   2.35   2.42   2.47   2.39   2.34  \n",
       "pct_time_in_market          30.65  30.68  30.31  30.04  29.93  28.80  27.62  \n",
       "total_num_trades           193.00 175.00 159.00 146.00 132.00 119.00 108.00  \n",
       "pct_profitable_trades       75.65  77.71  79.25  80.14  82.58  83.19  84.26  \n",
       "avg_points                   0.86   1.01   1.30   1.36   1.43   1.42   1.59  "
      ]
     },
     "execution_count": 6,
     "metadata": {},
     "output_type": "execute_result"
    }
   ],
   "source": [
    "metrics = ('annual_return_rate',\n",
    "           'max_closed_out_drawdown',\n",
    "           'drawdown_annualized_return',\n",
    "           'drawdown_recovery',\n",
    "           'best_month',\n",
    "           'worst_month',\n",
    "           'sharpe_ratio',\n",
    "           'sortino_ratio',\n",
    "           'monthly_std',\n",
    "           'pct_time_in_market',\n",
    "           'total_num_trades',\n",
    "           'pct_profitable_trades',\n",
    "           'avg_points')\n",
    "\n",
    "df = strategy.summary(strategies, metrics)\n",
    "df"
   ]
  },
  {
   "cell_type": "markdown",
   "metadata": {},
   "source": [
    "Bar graphs"
   ]
  },
  {
   "cell_type": "code",
   "execution_count": 7,
   "metadata": {
    "ExecuteTime": {
     "end_time": "2020-02-16T23:55:53.335407Z",
     "start_time": "2020-02-16T23:55:52.469406Z"
    }
   },
   "outputs": [
    {
     "data": {
      "image/png": "[encoded data removed]",
      "text/plain": [
       "<Figure size 720x504 with 1 Axes>"
      ]
     },
     "metadata": {
      "needs_background": "light"
     },
     "output_type": "display_data"
    },
    {
     "data": {
      "image/png": "[encoded data removed]",
      "text/plain": [
       "<Figure size 720x504 with 1 Axes>"
      ]
     },
     "metadata": {
      "needs_background": "light"
     },
     "output_type": "display_data"
    },
    {
     "data": {
      "image/png": "[encoded data removed]",
      "text/plain": [
       "<Figure size 720x504 with 1 Axes>"
      ]
     },
     "metadata": {
      "needs_background": "light"
     },
     "output_type": "display_data"
    }
   ],
   "source": [
    "strategy.plot_bar_graph(df, 'annual_return_rate')\n",
    "strategy.plot_bar_graph(df, 'sharpe_ratio')\n",
    "strategy.plot_bar_graph(df, 'max_closed_out_drawdown')"
   ]
  },
  {
   "cell_type": "markdown",
   "metadata": {},
   "source": [
    "Run Benchmark"
   ]
  },
  {
   "cell_type": "code",
   "execution_count": 8,
   "metadata": {
    "ExecuteTime": {
     "end_time": "2020-02-16T23:55:53.799986Z",
     "start_time": "2020-02-16T23:55:53.343324Z"
    }
   },
   "outputs": [
    {
     "name": "stdout",
     "output_type": "stream",
     "text": [
      "1993-11-11 00:00:00 BUY  215 SPY @ 46.38\n",
      "2020-07-14 00:00:00 SELL 215 SPY @ 316.03\n"
     ]
    }
   ],
   "source": [
    "s = strategies[periods[0]]\n",
    "benchmark = pf.Benchmark(symbol, capital, s._start, s._end)\n",
    "benchmark.run()\n",
    "benchmark.tlog, benchmark.dbal = benchmark.get_logs()\n",
    "benchmark.stats = benchmark.get_stats()"
   ]
  },
  {
   "cell_type": "markdown",
   "metadata": {},
   "source": [
    "Equity curve"
   ]
  },
  {
   "cell_type": "code",
   "execution_count": 9,
   "metadata": {
    "ExecuteTime": {
     "end_time": "2020-02-16T23:55:54.064467Z",
     "start_time": "2020-02-16T23:55:53.811070Z"
    },
    "scrolled": false
   },
   "outputs": [
    {
     "data": {
      "image/png": "[encoded data removed]",
      "text/plain": [
       "<Figure size 720x504 with 1 Axes>"
      ]
     },
     "metadata": {
      "needs_background": "light"
     },
     "output_type": "display_data"
    }
   ],
   "source": [
    "pf.plot_equity_curve(strategies['8'].dbal, benchmark=benchmark.dbal)"
   ]
  }
 ],
 "metadata": {
  "kernelspec": {
   "display_name": "Python 3",
   "language": "python",
   "name": "python3"
  },
  "language_info": {
   "codemirror_mode": {
    "name": "ipython",
    "version": 3
   },
   "file_extension": ".py",
   "mimetype": "text/x-python",
   "name": "python",
   "nbconvert_exporter": "python",
   "pygments_lexer": "ipython3",
   "version": "3.8.2"
  },
  "latex_envs": {
   "LaTeX_envs_menu_present": true,
   "autoclose": false,
   "autocomplete": true,
   "bibliofile": "biblio.bib",
   "cite_by": "apalike",
   "current_citInitial": 1,
   "eqLabelWithNumbers": true,
   "eqNumInitial": 1,
   "hotkeys": {
    "equation": "Ctrl-E",
    "itemize": "Ctrl-I"
   },
   "labels_anchors": false,
   "latex_user_defs": false,
   "report_style_numbering": false,
   "user_envs_cfg": false
  }
 },
 "nbformat": 4,
 "nbformat_minor": 1
}
