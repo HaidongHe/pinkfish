{
 "cells": [
  {
   "cell_type": "markdown",
   "metadata": {},
   "source": [
    "# Double 7's (Short Term Trading Strategies that Work)\n",
    "\n",
    "    1. The SPY is above its 200-day moving average\n",
    "    2. The SPY closes at a X-day low, buy.\n",
    "    3. If the SPY closes at a X-day high, sell your long position.\n",
    "    \n",
    "    (optimize for number of days)"
   ]
  },
  {
   "cell_type": "code",
   "execution_count": 1,
   "metadata": {
    "ExecuteTime": {
     "end_time": "2020-02-16T23:55:45.449424Z",
     "start_time": "2020-02-16T23:55:44.629295Z"
    }
   },
   "outputs": [],
   "source": [
    "# use future imports for python 3.x forward compatibility\n",
    "from __future__ import print_function\n",
    "from __future__ import unicode_literals\n",
    "from __future__ import division\n",
    "from __future__ import absolute_import\n",
    "\n",
    "# other imports\n",
    "import pandas as pd\n",
    "import matplotlib.pyplot as plt\n",
    "import datetime\n",
    "from talib.abstract import *\n",
    "\n",
    "# project imports\n",
    "import pinkfish as pf\n",
    "import strategy\n",
    "\n",
    "# format price data\n",
    "pd.options.display.float_format = '{:0.2f}'.format\n",
    "\n",
    "%matplotlib inline"
   ]
  },
  {
   "cell_type": "code",
   "execution_count": 2,
   "metadata": {
    "ExecuteTime": {
     "end_time": "2020-02-16T23:55:45.467350Z",
     "start_time": "2020-02-16T23:55:45.459959Z"
    }
   },
   "outputs": [],
   "source": [
    "# set size of inline plots\n",
    "'''note: rcParams can't be in same cell as import matplotlib\n",
    "   or %matplotlib inline\n",
    "   \n",
    "   %matplotlib notebook: will lead to interactive plots embedded within\n",
    "   the notebook, you can zoom and resize the figure\n",
    "   \n",
    "   %matplotlib inline: only draw static images in the notebook\n",
    "'''\n",
    "plt.rcParams[\"figure.figsize\"] = (10, 7)"
   ]
  },
  {
   "cell_type": "markdown",
   "metadata": {},
   "source": [
    "Some global data"
   ]
  },
  {
   "cell_type": "code",
   "execution_count": 3,
   "metadata": {
    "ExecuteTime": {
     "end_time": "2020-02-16T23:55:45.491511Z",
     "start_time": "2020-02-16T23:55:45.480099Z"
    }
   },
   "outputs": [],
   "source": [
    "#symbol = '^GSPC'\n",
    "#symbol = 'SPY'\n",
    "#symbol = 'DIA'\n",
    "#symbol = 'QQQ'\n",
    "#symbol = 'IWM'\n",
    "#symbol = 'TLT'\n",
    "#symbol = 'GLD'\n",
    "#symbol = 'AAPL'\n",
    "#symbol = 'BBRY'\n",
    "symbol = 'GDX'\n",
    "capital = 10000\n",
    "start = datetime.datetime(1900, 1, 1)\n",
    "#end = datetime.datetime(2005, 12, 1)\n",
    "end = datetime.datetime.now()"
   ]
  },
  {
   "cell_type": "markdown",
   "metadata": {},
   "source": [
    "Define high low trade periods"
   ]
  },
  {
   "cell_type": "code",
   "execution_count": 4,
   "metadata": {
    "ExecuteTime": {
     "end_time": "2020-02-16T23:55:45.509993Z",
     "start_time": "2020-02-16T23:55:45.500620Z"
    }
   },
   "outputs": [],
   "source": [
    "periods = range(2, 16)\n",
    "periods = [str(period) for period in periods]"
   ]
  },
  {
   "cell_type": "markdown",
   "metadata": {},
   "source": [
    "Run Strategy"
   ]
  },
  {
   "cell_type": "code",
   "execution_count": 5,
   "metadata": {
    "ExecuteTime": {
     "end_time": "2020-02-16T23:55:52.367461Z",
     "start_time": "2020-02-16T23:55:45.516192Z"
    },
    "scrolled": true
   },
   "outputs": [
    {
     "name": "stdout",
     "output_type": "stream",
     "text": [
      "2 3 4 5 6 7 8 9 10 11 12 13 14 15 "
     ]
    }
   ],
   "source": [
    "strategies = pd.Series()\n",
    "for period in periods:\n",
    "    print(\"{0}\".format(period), end=\" \")\n",
    "    strategies[period] = strategy.Strategy(symbol, capital, start, end, int(period))\n",
    "    strategies[period].run()\n",
    "    strategies[period].tlog, strategies[period].dbal = strategies[period].get_logs()\n",
    "    strategies[period].stats = strategies[period].get_stats()"
   ]
  },
  {
   "cell_type": "markdown",
   "metadata": {},
   "source": [
    "Summarize results"
   ]
  },
  {
   "cell_type": "code",
   "execution_count": 6,
   "metadata": {
    "ExecuteTime": {
     "end_time": "2020-02-16T23:55:52.460173Z",
     "start_time": "2020-02-16T23:55:52.383578Z"
    },
    "scrolled": false
   },
   "outputs": [
    {
     "data": {
      "text/html": [
       "<div>\n",
       "<style scoped>\n",
       "    .dataframe tbody tr th:only-of-type {\n",
       "        vertical-align: middle;\n",
       "    }\n",
       "\n",
       "    .dataframe tbody tr th {\n",
       "        vertical-align: top;\n",
       "    }\n",
       "\n",
       "    .dataframe thead th {\n",
       "        text-align: right;\n",
       "    }\n",
       "</style>\n",
       "<table border=\"1\" class=\"dataframe\">\n",
       "  <thead>\n",
       "    <tr style=\"text-align: right;\">\n",
       "      <th></th>\n",
       "      <th>2</th>\n",
       "      <th>3</th>\n",
       "      <th>4</th>\n",
       "      <th>5</th>\n",
       "      <th>6</th>\n",
       "      <th>7</th>\n",
       "      <th>8</th>\n",
       "      <th>9</th>\n",
       "      <th>10</th>\n",
       "      <th>11</th>\n",
       "      <th>12</th>\n",
       "      <th>13</th>\n",
       "      <th>14</th>\n",
       "      <th>15</th>\n",
       "    </tr>\n",
       "  </thead>\n",
       "  <tbody>\n",
       "    <tr>\n",
       "      <th>annual_return_rate</th>\n",
       "      <td>7.01</td>\n",
       "      <td>5.86</td>\n",
       "      <td>8.29</td>\n",
       "      <td>6.98</td>\n",
       "      <td>4.54</td>\n",
       "      <td>9.29</td>\n",
       "      <td>10.38</td>\n",
       "      <td>7.85</td>\n",
       "      <td>4.33</td>\n",
       "      <td>2.16</td>\n",
       "      <td>2.42</td>\n",
       "      <td>2.09</td>\n",
       "      <td>0.95</td>\n",
       "      <td>2.20</td>\n",
       "    </tr>\n",
       "    <tr>\n",
       "      <th>max_closed_out_drawdown</th>\n",
       "      <td>-30.62</td>\n",
       "      <td>-42.61</td>\n",
       "      <td>-24.94</td>\n",
       "      <td>-24.76</td>\n",
       "      <td>-28.23</td>\n",
       "      <td>-19.82</td>\n",
       "      <td>-33.01</td>\n",
       "      <td>-48.53</td>\n",
       "      <td>-50.44</td>\n",
       "      <td>-49.66</td>\n",
       "      <td>-50.17</td>\n",
       "      <td>-46.48</td>\n",
       "      <td>-60.50</td>\n",
       "      <td>-58.98</td>\n",
       "    </tr>\n",
       "    <tr>\n",
       "      <th>drawdown_annualized_return</th>\n",
       "      <td>-4.37</td>\n",
       "      <td>-7.27</td>\n",
       "      <td>-3.01</td>\n",
       "      <td>-3.55</td>\n",
       "      <td>-6.22</td>\n",
       "      <td>-2.13</td>\n",
       "      <td>-3.18</td>\n",
       "      <td>-6.18</td>\n",
       "      <td>-11.66</td>\n",
       "      <td>-23.03</td>\n",
       "      <td>-20.70</td>\n",
       "      <td>-22.27</td>\n",
       "      <td>-63.95</td>\n",
       "      <td>-26.79</td>\n",
       "    </tr>\n",
       "    <tr>\n",
       "      <th>drawdown_recovery</th>\n",
       "      <td>-0.50</td>\n",
       "      <td>-3.18</td>\n",
       "      <td>-0.57</td>\n",
       "      <td>-0.90</td>\n",
       "      <td>-1.28</td>\n",
       "      <td>-3.44</td>\n",
       "      <td>-3.77</td>\n",
       "      <td>-3.85</td>\n",
       "      <td>-3.54</td>\n",
       "      <td>-3.52</td>\n",
       "      <td>-3.52</td>\n",
       "      <td>-3.52</td>\n",
       "      <td>-3.52</td>\n",
       "      <td>-3.52</td>\n",
       "    </tr>\n",
       "    <tr>\n",
       "      <th>best_month</th>\n",
       "      <td>26.90</td>\n",
       "      <td>30.31</td>\n",
       "      <td>29.96</td>\n",
       "      <td>26.94</td>\n",
       "      <td>26.95</td>\n",
       "      <td>22.74</td>\n",
       "      <td>22.73</td>\n",
       "      <td>22.73</td>\n",
       "      <td>22.73</td>\n",
       "      <td>24.40</td>\n",
       "      <td>22.73</td>\n",
       "      <td>21.90</td>\n",
       "      <td>21.89</td>\n",
       "      <td>21.93</td>\n",
       "    </tr>\n",
       "    <tr>\n",
       "      <th>worst_month</th>\n",
       "      <td>-16.77</td>\n",
       "      <td>-21.29</td>\n",
       "      <td>-17.70</td>\n",
       "      <td>-17.70</td>\n",
       "      <td>-17.70</td>\n",
       "      <td>-17.70</td>\n",
       "      <td>-17.70</td>\n",
       "      <td>-24.38</td>\n",
       "      <td>-24.36</td>\n",
       "      <td>-24.32</td>\n",
       "      <td>-24.33</td>\n",
       "      <td>-24.37</td>\n",
       "      <td>-24.34</td>\n",
       "      <td>-24.37</td>\n",
       "    </tr>\n",
       "    <tr>\n",
       "      <th>sharpe_ratio</th>\n",
       "      <td>0.49</td>\n",
       "      <td>0.40</td>\n",
       "      <td>0.52</td>\n",
       "      <td>0.46</td>\n",
       "      <td>0.34</td>\n",
       "      <td>0.60</td>\n",
       "      <td>0.65</td>\n",
       "      <td>0.51</td>\n",
       "      <td>0.32</td>\n",
       "      <td>0.21</td>\n",
       "      <td>0.22</td>\n",
       "      <td>0.20</td>\n",
       "      <td>0.14</td>\n",
       "      <td>0.21</td>\n",
       "    </tr>\n",
       "    <tr>\n",
       "      <th>sortino_ratio</th>\n",
       "      <td>0.36</td>\n",
       "      <td>0.32</td>\n",
       "      <td>0.42</td>\n",
       "      <td>0.35</td>\n",
       "      <td>0.25</td>\n",
       "      <td>0.45</td>\n",
       "      <td>0.49</td>\n",
       "      <td>0.38</td>\n",
       "      <td>0.25</td>\n",
       "      <td>0.16</td>\n",
       "      <td>0.17</td>\n",
       "      <td>0.16</td>\n",
       "      <td>0.12</td>\n",
       "      <td>0.17</td>\n",
       "    </tr>\n",
       "    <tr>\n",
       "      <th>monthly_std</th>\n",
       "      <td>4.81</td>\n",
       "      <td>5.45</td>\n",
       "      <td>4.86</td>\n",
       "      <td>4.55</td>\n",
       "      <td>4.10</td>\n",
       "      <td>3.95</td>\n",
       "      <td>4.17</td>\n",
       "      <td>4.28</td>\n",
       "      <td>4.47</td>\n",
       "      <td>4.39</td>\n",
       "      <td>4.28</td>\n",
       "      <td>4.17</td>\n",
       "      <td>4.42</td>\n",
       "      <td>4.49</td>\n",
       "    </tr>\n",
       "    <tr>\n",
       "      <th>pct_time_in_market</th>\n",
       "      <td>28.05</td>\n",
       "      <td>28.81</td>\n",
       "      <td>28.47</td>\n",
       "      <td>26.60</td>\n",
       "      <td>24.36</td>\n",
       "      <td>24.30</td>\n",
       "      <td>23.69</td>\n",
       "      <td>24.49</td>\n",
       "      <td>26.48</td>\n",
       "      <td>25.81</td>\n",
       "      <td>25.84</td>\n",
       "      <td>25.07</td>\n",
       "      <td>27.46</td>\n",
       "      <td>27.62</td>\n",
       "    </tr>\n",
       "    <tr>\n",
       "      <th>total_num_trades</th>\n",
       "      <td>318.00</td>\n",
       "      <td>214.00</td>\n",
       "      <td>158.00</td>\n",
       "      <td>119.00</td>\n",
       "      <td>100.00</td>\n",
       "      <td>86.00</td>\n",
       "      <td>78.00</td>\n",
       "      <td>69.00</td>\n",
       "      <td>57.00</td>\n",
       "      <td>49.00</td>\n",
       "      <td>45.00</td>\n",
       "      <td>38.00</td>\n",
       "      <td>35.00</td>\n",
       "      <td>34.00</td>\n",
       "    </tr>\n",
       "    <tr>\n",
       "      <th>pct_profitable_trades</th>\n",
       "      <td>60.69</td>\n",
       "      <td>64.02</td>\n",
       "      <td>66.46</td>\n",
       "      <td>67.23</td>\n",
       "      <td>68.00</td>\n",
       "      <td>69.77</td>\n",
       "      <td>70.51</td>\n",
       "      <td>65.22</td>\n",
       "      <td>63.16</td>\n",
       "      <td>61.22</td>\n",
       "      <td>62.22</td>\n",
       "      <td>55.26</td>\n",
       "      <td>54.29</td>\n",
       "      <td>61.76</td>\n",
       "    </tr>\n",
       "    <tr>\n",
       "      <th>avg_points</th>\n",
       "      <td>0.10</td>\n",
       "      <td>0.14</td>\n",
       "      <td>0.28</td>\n",
       "      <td>0.27</td>\n",
       "      <td>0.23</td>\n",
       "      <td>0.51</td>\n",
       "      <td>0.57</td>\n",
       "      <td>0.52</td>\n",
       "      <td>0.34</td>\n",
       "      <td>0.21</td>\n",
       "      <td>0.27</td>\n",
       "      <td>0.28</td>\n",
       "      <td>0.20</td>\n",
       "      <td>0.45</td>\n",
       "    </tr>\n",
       "  </tbody>\n",
       "</table>\n",
       "</div>"
      ],
      "text/plain": [
       "                                2      3      4      5      6      7      8  \\\n",
       "annual_return_rate           7.01   5.86   8.29   6.98   4.54   9.29  10.38   \n",
       "max_closed_out_drawdown    -30.62 -42.61 -24.94 -24.76 -28.23 -19.82 -33.01   \n",
       "drawdown_annualized_return  -4.37  -7.27  -3.01  -3.55  -6.22  -2.13  -3.18   \n",
       "drawdown_recovery           -0.50  -3.18  -0.57  -0.90  -1.28  -3.44  -3.77   \n",
       "best_month                  26.90  30.31  29.96  26.94  26.95  22.74  22.73   \n",
       "worst_month                -16.77 -21.29 -17.70 -17.70 -17.70 -17.70 -17.70   \n",
       "sharpe_ratio                 0.49   0.40   0.52   0.46   0.34   0.60   0.65   \n",
       "sortino_ratio                0.36   0.32   0.42   0.35   0.25   0.45   0.49   \n",
       "monthly_std                  4.81   5.45   4.86   4.55   4.10   3.95   4.17   \n",
       "pct_time_in_market          28.05  28.81  28.47  26.60  24.36  24.30  23.69   \n",
       "total_num_trades           318.00 214.00 158.00 119.00 100.00  86.00  78.00   \n",
       "pct_profitable_trades       60.69  64.02  66.46  67.23  68.00  69.77  70.51   \n",
       "avg_points                   0.10   0.14   0.28   0.27   0.23   0.51   0.57   \n",
       "\n",
       "                                9     10     11     12     13     14     15  \n",
       "annual_return_rate           7.85   4.33   2.16   2.42   2.09   0.95   2.20  \n",
       "max_closed_out_drawdown    -48.53 -50.44 -49.66 -50.17 -46.48 -60.50 -58.98  \n",
       "drawdown_annualized_return  -6.18 -11.66 -23.03 -20.70 -22.27 -63.95 -26.79  \n",
       "drawdown_recovery           -3.85  -3.54  -3.52  -3.52  -3.52  -3.52  -3.52  \n",
       "best_month                  22.73  22.73  24.40  22.73  21.90  21.89  21.93  \n",
       "worst_month                -24.38 -24.36 -24.32 -24.33 -24.37 -24.34 -24.37  \n",
       "sharpe_ratio                 0.51   0.32   0.21   0.22   0.20   0.14   0.21  \n",
       "sortino_ratio                0.38   0.25   0.16   0.17   0.16   0.12   0.17  \n",
       "monthly_std                  4.28   4.47   4.39   4.28   4.17   4.42   4.49  \n",
       "pct_time_in_market          24.49  26.48  25.81  25.84  25.07  27.46  27.62  \n",
       "total_num_trades            69.00  57.00  49.00  45.00  38.00  35.00  34.00  \n",
       "pct_profitable_trades       65.22  63.16  61.22  62.22  55.26  54.29  61.76  \n",
       "avg_points                   0.52   0.34   0.21   0.27   0.28   0.20   0.45  "
      ]
     },
     "execution_count": 6,
     "metadata": {},
     "output_type": "execute_result"
    }
   ],
   "source": [
    "metrics = ('annual_return_rate',\n",
    "           'max_closed_out_drawdown',\n",
    "           'drawdown_annualized_return',\n",
    "           'drawdown_recovery',\n",
    "           'best_month',\n",
    "           'worst_month',\n",
    "           'sharpe_ratio',\n",
    "           'sortino_ratio',\n",
    "           'monthly_std',\n",
    "           'pct_time_in_market',\n",
    "           'total_num_trades',\n",
    "           'pct_profitable_trades',\n",
    "           'avg_points')\n",
    "\n",
    "df = strategy.summary(strategies, *metrics)\n",
    "df"
   ]
  },
  {
   "cell_type": "markdown",
   "metadata": {},
   "source": [
    "Bar graphs"
   ]
  },
  {
   "cell_type": "code",
   "execution_count": 7,
   "metadata": {
    "ExecuteTime": {
     "end_time": "2020-02-16T23:55:53.335407Z",
     "start_time": "2020-02-16T23:55:52.469406Z"
    }
   },
   "outputs": [
    {
     "data": {
      "image/png": "[encoded data removed]",
      "text/plain": [
       "<Figure size 720x504 with 1 Axes>"
      ]
     },
     "metadata": {
      "needs_background": "light"
     },
     "output_type": "display_data"
    },
    {
     "data": {
      "image/png": "[encoded data removed]",
      "text/plain": [
       "<Figure size 720x504 with 1 Axes>"
      ]
     },
     "metadata": {
      "needs_background": "light"
     },
     "output_type": "display_data"
    },
    {
     "data": {
      "image/png": "[encoded data removed]",
      "text/plain": [
       "<Figure size 720x504 with 1 Axes>"
      ]
     },
     "metadata": {
      "needs_background": "light"
     },
     "output_type": "display_data"
    }
   ],
   "source": [
    "strategy.plot_bar_graph(df, 'annual_return_rate')\n",
    "strategy.plot_bar_graph(df, 'sharpe_ratio')\n",
    "strategy.plot_bar_graph(df, 'max_closed_out_drawdown')"
   ]
  },
  {
   "cell_type": "markdown",
   "metadata": {},
   "source": [
    "Run Benchmark"
   ]
  },
  {
   "cell_type": "code",
   "execution_count": 8,
   "metadata": {
    "ExecuteTime": {
     "end_time": "2020-02-16T23:55:53.799986Z",
     "start_time": "2020-02-16T23:55:53.343324Z"
    }
   },
   "outputs": [
    {
     "name": "stdout",
     "output_type": "stream",
     "text": [
      "2007-03-08 00:00:00 BUY  260 GDX @ 38.35\n",
      "2020-02-14 00:00:00 SELL 260 GDX @ 28.31\n"
     ]
    }
   ],
   "source": [
    "s = strategies[periods[0]]\n",
    "benchmark = pf.Benchmark(symbol, capital, s._start, s._end)\n",
    "benchmark.run()\n",
    "benchmark.tlog, benchmark.dbal = benchmark.get_logs()\n",
    "benchmark.stats = benchmark.get_stats()"
   ]
  },
  {
   "cell_type": "markdown",
   "metadata": {},
   "source": [
    "Equity curve"
   ]
  },
  {
   "cell_type": "code",
   "execution_count": 9,
   "metadata": {
    "ExecuteTime": {
     "end_time": "2020-02-16T23:55:54.064467Z",
     "start_time": "2020-02-16T23:55:53.811070Z"
    },
    "scrolled": false
   },
   "outputs": [
    {
     "data": {
      "image/png": "[encoded data removed]",
      "text/plain": [
       "<Figure size 720x504 with 1 Axes>"
      ]
     },
     "metadata": {
      "needs_background": "light"
     },
     "output_type": "display_data"
    }
   ],
   "source": [
    "pf.plot_equity_curve(strategies['8'].dbal, benchmark=benchmark.dbal)"
   ]
  }
 ],
 "metadata": {
  "kernelspec": {
   "display_name": "Python 2",
   "language": "python",
   "name": "python2"
  },
  "language_info": {
   "codemirror_mode": {
    "name": "ipython",
    "version": 2
   },
   "file_extension": ".py",
   "mimetype": "text/x-python",
   "name": "python",
   "nbconvert_exporter": "python",
   "pygments_lexer": "ipython2",
   "version": "2.7.15+"
  },
  "latex_envs": {
   "LaTeX_envs_menu_present": true,
   "autoclose": false,
   "autocomplete": true,
   "bibliofile": "biblio.bib",
   "cite_by": "apalike",
   "current_citInitial": 1,
   "eqLabelWithNumbers": true,
   "eqNumInitial": 1,
   "hotkeys": {
    "equation": "Ctrl-E",
    "itemize": "Ctrl-I"
   },
   "labels_anchors": false,
   "latex_user_defs": false,
   "report_style_numbering": false,
   "user_envs_cfg": false
  }
 },
 "nbformat": 4,
 "nbformat_minor": 1
}
