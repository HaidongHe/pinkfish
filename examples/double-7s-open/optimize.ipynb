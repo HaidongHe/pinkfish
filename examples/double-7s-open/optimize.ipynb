{
 "cells": [
  {
   "cell_type": "markdown",
   "metadata": {},
   "source": [
    "# Double 7's (Short Term Trading Strategies that Work)\n",
    "\n",
    "    1. The SPY is above its 200-day moving average\n",
    "    2. The SPY closes at a X-day low, buy.\n",
    "    3. If the SPY closes at a X-day high, sell your long position.\n",
    "    \n",
    "    (optimize for number of days)"
   ]
  },
  {
   "cell_type": "code",
   "execution_count": 1,
   "metadata": {
    "ExecuteTime": {
     "end_time": "2020-02-16T23:55:45.449424Z",
     "start_time": "2020-02-16T23:55:44.629295Z"
    }
   },
   "outputs": [],
   "source": [
    "import pandas as pd\n",
    "import matplotlib.pyplot as plt\n",
    "import datetime\n",
    "from talib.abstract import *\n",
    "\n",
    "import pinkfish as pf\n",
    "import strategy\n",
    "\n",
    "# format price data\n",
    "pd.options.display.float_format = '{:0.2f}'.format\n",
    "\n",
    "%matplotlib inline"
   ]
  },
  {
   "cell_type": "code",
   "execution_count": 2,
   "metadata": {
    "ExecuteTime": {
     "end_time": "2020-02-16T23:55:45.467350Z",
     "start_time": "2020-02-16T23:55:45.459959Z"
    }
   },
   "outputs": [],
   "source": [
    "# set size of inline plots\n",
    "'''note: rcParams can't be in same cell as import matplotlib\n",
    "   or %matplotlib inline\n",
    "   \n",
    "   %matplotlib notebook: will lead to interactive plots embedded within\n",
    "   the notebook, you can zoom and resize the figure\n",
    "   \n",
    "   %matplotlib inline: only draw static images in the notebook\n",
    "'''\n",
    "plt.rcParams[\"figure.figsize\"] = (10, 7)"
   ]
  },
  {
   "cell_type": "markdown",
   "metadata": {},
   "source": [
    "Some global data"
   ]
  },
  {
   "cell_type": "code",
   "execution_count": 3,
   "metadata": {
    "ExecuteTime": {
     "end_time": "2020-02-16T23:55:45.491511Z",
     "start_time": "2020-02-16T23:55:45.480099Z"
    }
   },
   "outputs": [],
   "source": [
    "#symbol = '^GSPC'\n",
    "#symbol = 'SPY'\n",
    "#symbol = 'DIA'\n",
    "#symbol = 'QQQ'\n",
    "#symbol = 'IWM'\n",
    "#symbol = 'TLT'\n",
    "#symbol = 'GLD'\n",
    "#symbol = 'AAPL'\n",
    "#symbol = 'BBRY'\n",
    "symbol = 'GDX'\n",
    "capital = 10000\n",
    "start = datetime.datetime(1900, 1, 1)\n",
    "#end = datetime.datetime(2005, 12, 1)\n",
    "end = datetime.datetime.now()"
   ]
  },
  {
   "cell_type": "markdown",
   "metadata": {},
   "source": [
    "Define high low trade periods"
   ]
  },
  {
   "cell_type": "code",
   "execution_count": 4,
   "metadata": {
    "ExecuteTime": {
     "end_time": "2020-02-16T23:55:45.509993Z",
     "start_time": "2020-02-16T23:55:45.500620Z"
    }
   },
   "outputs": [],
   "source": [
    "periods = range(2, 16)\n",
    "periods = [str(period) for period in periods]"
   ]
  },
  {
   "cell_type": "markdown",
   "metadata": {},
   "source": [
    "Run Strategy"
   ]
  },
  {
   "cell_type": "code",
   "execution_count": 5,
   "metadata": {
    "ExecuteTime": {
     "end_time": "2020-02-16T23:55:52.367461Z",
     "start_time": "2020-02-16T23:55:45.516192Z"
    },
    "scrolled": true
   },
   "outputs": [
    {
     "name": "stdout",
     "output_type": "stream",
     "text": [
      "2 3 4 5 6 7 8 9 10 11 12 13 14 15 "
     ]
    }
   ],
   "source": [
    "strategies = pd.Series(dtype=object)\n",
    "for period in periods:\n",
    "    print(\"{0}\".format(period), end=\" \")\n",
    "    strategies[period] = strategy.Strategy(symbol, capital, start, end, int(period))\n",
    "    strategies[period].run()\n",
    "    strategies[period].tlog, strategies[period].dbal = strategies[period].get_logs()\n",
    "    strategies[period].stats = strategies[period].get_stats()"
   ]
  },
  {
   "cell_type": "markdown",
   "metadata": {},
   "source": [
    "Summarize results"
   ]
  },
  {
   "cell_type": "code",
   "execution_count": 6,
   "metadata": {
    "ExecuteTime": {
     "end_time": "2020-02-16T23:55:52.460173Z",
     "start_time": "2020-02-16T23:55:52.383578Z"
    },
    "scrolled": false
   },
   "outputs": [
    {
     "data": {
      "text/html": [
       "<div>\n",
       "<style scoped>\n",
       "    .dataframe tbody tr th:only-of-type {\n",
       "        vertical-align: middle;\n",
       "    }\n",
       "\n",
       "    .dataframe tbody tr th {\n",
       "        vertical-align: top;\n",
       "    }\n",
       "\n",
       "    .dataframe thead th {\n",
       "        text-align: right;\n",
       "    }\n",
       "</style>\n",
       "<table border=\"1\" class=\"dataframe\">\n",
       "  <thead>\n",
       "    <tr style=\"text-align: right;\">\n",
       "      <th></th>\n",
       "      <th>2</th>\n",
       "      <th>3</th>\n",
       "      <th>4</th>\n",
       "      <th>5</th>\n",
       "      <th>6</th>\n",
       "      <th>7</th>\n",
       "      <th>8</th>\n",
       "      <th>9</th>\n",
       "      <th>10</th>\n",
       "      <th>11</th>\n",
       "      <th>12</th>\n",
       "      <th>13</th>\n",
       "      <th>14</th>\n",
       "      <th>15</th>\n",
       "    </tr>\n",
       "  </thead>\n",
       "  <tbody>\n",
       "    <tr>\n",
       "      <th>annual_return_rate</th>\n",
       "      <td>6.86</td>\n",
       "      <td>6.15</td>\n",
       "      <td>9.80</td>\n",
       "      <td>8.84</td>\n",
       "      <td>5.10</td>\n",
       "      <td>9.46</td>\n",
       "      <td>9.82</td>\n",
       "      <td>7.36</td>\n",
       "      <td>4.02</td>\n",
       "      <td>2.32</td>\n",
       "      <td>2.58</td>\n",
       "      <td>2.25</td>\n",
       "      <td>1.14</td>\n",
       "      <td>2.57</td>\n",
       "    </tr>\n",
       "    <tr>\n",
       "      <th>max_closed_out_drawdown</th>\n",
       "      <td>-32.95</td>\n",
       "      <td>-43.41</td>\n",
       "      <td>-26.36</td>\n",
       "      <td>-21.90</td>\n",
       "      <td>-29.48</td>\n",
       "      <td>-24.83</td>\n",
       "      <td>-31.73</td>\n",
       "      <td>-47.27</td>\n",
       "      <td>-48.60</td>\n",
       "      <td>-47.72</td>\n",
       "      <td>-48.24</td>\n",
       "      <td>-44.41</td>\n",
       "      <td>-58.97</td>\n",
       "      <td>-57.40</td>\n",
       "    </tr>\n",
       "    <tr>\n",
       "      <th>drawdown_annualized_return</th>\n",
       "      <td>-4.80</td>\n",
       "      <td>-7.06</td>\n",
       "      <td>-2.69</td>\n",
       "      <td>-2.48</td>\n",
       "      <td>-5.78</td>\n",
       "      <td>-2.63</td>\n",
       "      <td>-3.23</td>\n",
       "      <td>-6.42</td>\n",
       "      <td>-12.08</td>\n",
       "      <td>-20.56</td>\n",
       "      <td>-18.69</td>\n",
       "      <td>-19.72</td>\n",
       "      <td>-51.85</td>\n",
       "      <td>-22.35</td>\n",
       "    </tr>\n",
       "    <tr>\n",
       "      <th>drawdown_recovery</th>\n",
       "      <td>-0.48</td>\n",
       "      <td>-2.87</td>\n",
       "      <td>-0.46</td>\n",
       "      <td>-0.18</td>\n",
       "      <td>-1.31</td>\n",
       "      <td>-0.06</td>\n",
       "      <td>-3.75</td>\n",
       "      <td>-3.84</td>\n",
       "      <td>-3.55</td>\n",
       "      <td>-3.52</td>\n",
       "      <td>-3.52</td>\n",
       "      <td>-3.52</td>\n",
       "      <td>-3.52</td>\n",
       "      <td>-3.52</td>\n",
       "    </tr>\n",
       "    <tr>\n",
       "      <th>best_month</th>\n",
       "      <td>28.47</td>\n",
       "      <td>30.94</td>\n",
       "      <td>29.30</td>\n",
       "      <td>27.86</td>\n",
       "      <td>27.32</td>\n",
       "      <td>20.67</td>\n",
       "      <td>20.67</td>\n",
       "      <td>20.16</td>\n",
       "      <td>19.24</td>\n",
       "      <td>22.86</td>\n",
       "      <td>19.25</td>\n",
       "      <td>18.44</td>\n",
       "      <td>17.89</td>\n",
       "      <td>17.92</td>\n",
       "    </tr>\n",
       "    <tr>\n",
       "      <th>worst_month</th>\n",
       "      <td>-18.05</td>\n",
       "      <td>-21.99</td>\n",
       "      <td>-16.52</td>\n",
       "      <td>-16.52</td>\n",
       "      <td>-16.43</td>\n",
       "      <td>-18.82</td>\n",
       "      <td>-18.81</td>\n",
       "      <td>-21.75</td>\n",
       "      <td>-21.73</td>\n",
       "      <td>-21.70</td>\n",
       "      <td>-21.70</td>\n",
       "      <td>-21.73</td>\n",
       "      <td>-21.71</td>\n",
       "      <td>-21.74</td>\n",
       "    </tr>\n",
       "    <tr>\n",
       "      <th>sharpe_ratio</th>\n",
       "      <td>0.43</td>\n",
       "      <td>0.40</td>\n",
       "      <td>0.58</td>\n",
       "      <td>0.55</td>\n",
       "      <td>0.37</td>\n",
       "      <td>0.58</td>\n",
       "      <td>0.60</td>\n",
       "      <td>0.48</td>\n",
       "      <td>0.31</td>\n",
       "      <td>0.22</td>\n",
       "      <td>0.24</td>\n",
       "      <td>0.22</td>\n",
       "      <td>0.15</td>\n",
       "      <td>0.24</td>\n",
       "    </tr>\n",
       "    <tr>\n",
       "      <th>sortino_ratio</th>\n",
       "      <td>0.39</td>\n",
       "      <td>0.37</td>\n",
       "      <td>0.52</td>\n",
       "      <td>0.47</td>\n",
       "      <td>0.29</td>\n",
       "      <td>0.46</td>\n",
       "      <td>0.46</td>\n",
       "      <td>0.36</td>\n",
       "      <td>0.24</td>\n",
       "      <td>0.17</td>\n",
       "      <td>0.18</td>\n",
       "      <td>0.17</td>\n",
       "      <td>0.12</td>\n",
       "      <td>0.20</td>\n",
       "    </tr>\n",
       "    <tr>\n",
       "      <th>monthly_std</th>\n",
       "      <td>5.13</td>\n",
       "      <td>5.58</td>\n",
       "      <td>5.01</td>\n",
       "      <td>4.63</td>\n",
       "      <td>4.02</td>\n",
       "      <td>3.96</td>\n",
       "      <td>4.14</td>\n",
       "      <td>4.18</td>\n",
       "      <td>4.33</td>\n",
       "      <td>4.13</td>\n",
       "      <td>3.99</td>\n",
       "      <td>3.79</td>\n",
       "      <td>4.04</td>\n",
       "      <td>4.11</td>\n",
       "    </tr>\n",
       "    <tr>\n",
       "      <th>pct_time_in_market</th>\n",
       "      <td>28.40</td>\n",
       "      <td>29.03</td>\n",
       "      <td>28.61</td>\n",
       "      <td>26.73</td>\n",
       "      <td>24.45</td>\n",
       "      <td>24.81</td>\n",
       "      <td>24.15</td>\n",
       "      <td>24.93</td>\n",
       "      <td>26.85</td>\n",
       "      <td>25.59</td>\n",
       "      <td>25.62</td>\n",
       "      <td>24.87</td>\n",
       "      <td>27.21</td>\n",
       "      <td>27.21</td>\n",
       "    </tr>\n",
       "    <tr>\n",
       "      <th>total_num_trades</th>\n",
       "      <td>331.00</td>\n",
       "      <td>222.00</td>\n",
       "      <td>164.00</td>\n",
       "      <td>124.00</td>\n",
       "      <td>103.00</td>\n",
       "      <td>89.00</td>\n",
       "      <td>80.00</td>\n",
       "      <td>71.00</td>\n",
       "      <td>59.00</td>\n",
       "      <td>50.00</td>\n",
       "      <td>46.00</td>\n",
       "      <td>39.00</td>\n",
       "      <td>36.00</td>\n",
       "      <td>35.00</td>\n",
       "    </tr>\n",
       "    <tr>\n",
       "      <th>pct_profitable_trades</th>\n",
       "      <td>60.42</td>\n",
       "      <td>63.51</td>\n",
       "      <td>66.46</td>\n",
       "      <td>67.74</td>\n",
       "      <td>67.96</td>\n",
       "      <td>69.66</td>\n",
       "      <td>68.75</td>\n",
       "      <td>63.38</td>\n",
       "      <td>61.02</td>\n",
       "      <td>60.00</td>\n",
       "      <td>60.87</td>\n",
       "      <td>53.85</td>\n",
       "      <td>52.78</td>\n",
       "      <td>62.86</td>\n",
       "    </tr>\n",
       "    <tr>\n",
       "      <th>avg_points</th>\n",
       "      <td>0.10</td>\n",
       "      <td>0.15</td>\n",
       "      <td>0.31</td>\n",
       "      <td>0.33</td>\n",
       "      <td>0.24</td>\n",
       "      <td>0.51</td>\n",
       "      <td>0.55</td>\n",
       "      <td>0.49</td>\n",
       "      <td>0.32</td>\n",
       "      <td>0.22</td>\n",
       "      <td>0.28</td>\n",
       "      <td>0.29</td>\n",
       "      <td>0.22</td>\n",
       "      <td>0.48</td>\n",
       "    </tr>\n",
       "  </tbody>\n",
       "</table>\n",
       "</div>"
      ],
      "text/plain": [
       "                                2      3      4      5      6      7      8  \\\n",
       "annual_return_rate           6.86   6.15   9.80   8.84   5.10   9.46   9.82   \n",
       "max_closed_out_drawdown    -32.95 -43.41 -26.36 -21.90 -29.48 -24.83 -31.73   \n",
       "drawdown_annualized_return  -4.80  -7.06  -2.69  -2.48  -5.78  -2.63  -3.23   \n",
       "drawdown_recovery           -0.48  -2.87  -0.46  -0.18  -1.31  -0.06  -3.75   \n",
       "best_month                  28.47  30.94  29.30  27.86  27.32  20.67  20.67   \n",
       "worst_month                -18.05 -21.99 -16.52 -16.52 -16.43 -18.82 -18.81   \n",
       "sharpe_ratio                 0.43   0.40   0.58   0.55   0.37   0.58   0.60   \n",
       "sortino_ratio                0.39   0.37   0.52   0.47   0.29   0.46   0.46   \n",
       "monthly_std                  5.13   5.58   5.01   4.63   4.02   3.96   4.14   \n",
       "pct_time_in_market          28.40  29.03  28.61  26.73  24.45  24.81  24.15   \n",
       "total_num_trades           331.00 222.00 164.00 124.00 103.00  89.00  80.00   \n",
       "pct_profitable_trades       60.42  63.51  66.46  67.74  67.96  69.66  68.75   \n",
       "avg_points                   0.10   0.15   0.31   0.33   0.24   0.51   0.55   \n",
       "\n",
       "                                9     10     11     12     13     14     15  \n",
       "annual_return_rate           7.36   4.02   2.32   2.58   2.25   1.14   2.57  \n",
       "max_closed_out_drawdown    -47.27 -48.60 -47.72 -48.24 -44.41 -58.97 -57.40  \n",
       "drawdown_annualized_return  -6.42 -12.08 -20.56 -18.69 -19.72 -51.85 -22.35  \n",
       "drawdown_recovery           -3.84  -3.55  -3.52  -3.52  -3.52  -3.52  -3.52  \n",
       "best_month                  20.16  19.24  22.86  19.25  18.44  17.89  17.92  \n",
       "worst_month                -21.75 -21.73 -21.70 -21.70 -21.73 -21.71 -21.74  \n",
       "sharpe_ratio                 0.48   0.31   0.22   0.24   0.22   0.15   0.24  \n",
       "sortino_ratio                0.36   0.24   0.17   0.18   0.17   0.12   0.20  \n",
       "monthly_std                  4.18   4.33   4.13   3.99   3.79   4.04   4.11  \n",
       "pct_time_in_market          24.93  26.85  25.59  25.62  24.87  27.21  27.21  \n",
       "total_num_trades            71.00  59.00  50.00  46.00  39.00  36.00  35.00  \n",
       "pct_profitable_trades       63.38  61.02  60.00  60.87  53.85  52.78  62.86  \n",
       "avg_points                   0.49   0.32   0.22   0.28   0.29   0.22   0.48  "
      ]
     },
     "execution_count": 6,
     "metadata": {},
     "output_type": "execute_result"
    }
   ],
   "source": [
    "metrics = ('annual_return_rate',\n",
    "           'max_closed_out_drawdown',\n",
    "           'drawdown_annualized_return',\n",
    "           'drawdown_recovery',\n",
    "           'best_month',\n",
    "           'worst_month',\n",
    "           'sharpe_ratio',\n",
    "           'sortino_ratio',\n",
    "           'monthly_std',\n",
    "           'pct_time_in_market',\n",
    "           'total_num_trades',\n",
    "           'pct_profitable_trades',\n",
    "           'avg_points')\n",
    "\n",
    "df = strategy.summary(strategies, metrics)\n",
    "df"
   ]
  },
  {
   "cell_type": "markdown",
   "metadata": {},
   "source": [
    "Bar graphs"
   ]
  },
  {
   "cell_type": "code",
   "execution_count": 7,
   "metadata": {
    "ExecuteTime": {
     "end_time": "2020-02-16T23:55:53.335407Z",
     "start_time": "2020-02-16T23:55:52.469406Z"
    }
   },
   "outputs": [
    {
     "data": {
      "image/png": "[encoded data removed]",
      "text/plain": [
       "<Figure size 720x504 with 1 Axes>"
      ]
     },
     "metadata": {
      "needs_background": "light"
     },
     "output_type": "display_data"
    },
    {
     "data": {
      "image/png": "[encoded data removed]",
      "text/plain": [
       "<Figure size 720x504 with 1 Axes>"
      ]
     },
     "metadata": {
      "needs_background": "light"
     },
     "output_type": "display_data"
    },
    {
     "data": {
      "image/png": "[encoded data removed]",
      "text/plain": [
       "<Figure size 720x504 with 1 Axes>"
      ]
     },
     "metadata": {
      "needs_background": "light"
     },
     "output_type": "display_data"
    }
   ],
   "source": [
    "strategy.plot_bar_graph(df, 'annual_return_rate')\n",
    "strategy.plot_bar_graph(df, 'sharpe_ratio')\n",
    "strategy.plot_bar_graph(df, 'max_closed_out_drawdown')"
   ]
  },
  {
   "cell_type": "markdown",
   "metadata": {},
   "source": [
    "Run Benchmark"
   ]
  },
  {
   "cell_type": "code",
   "execution_count": 8,
   "metadata": {
    "ExecuteTime": {
     "end_time": "2020-02-16T23:55:53.799986Z",
     "start_time": "2020-02-16T23:55:53.343324Z"
    }
   },
   "outputs": [
    {
     "name": "stdout",
     "output_type": "stream",
     "text": [
      "2007-03-08 00:00:00 BUY  260 GDX @ 38.35\n",
      "2020-06-12 00:00:00 SELL 260 GDX @ 32.64\n"
     ]
    }
   ],
   "source": [
    "s = strategies[periods[0]]\n",
    "benchmark = pf.Benchmark(symbol, capital, s._start, s._end)\n",
    "benchmark.run()\n",
    "benchmark.tlog, benchmark.dbal = benchmark.get_logs()\n",
    "benchmark.stats = benchmark.get_stats()"
   ]
  },
  {
   "cell_type": "markdown",
   "metadata": {},
   "source": [
    "Equity curve"
   ]
  },
  {
   "cell_type": "code",
   "execution_count": 9,
   "metadata": {
    "ExecuteTime": {
     "end_time": "2020-02-16T23:55:54.064467Z",
     "start_time": "2020-02-16T23:55:53.811070Z"
    },
    "scrolled": false
   },
   "outputs": [
    {
     "data": {
      "image/png": "[encoded data removed]",
      "text/plain": [
       "<Figure size 720x504 with 1 Axes>"
      ]
     },
     "metadata": {
      "needs_background": "light"
     },
     "output_type": "display_data"
    }
   ],
   "source": [
    "pf.plot_equity_curve(strategies['8'].dbal, benchmark=benchmark.dbal)"
   ]
  }
 ],
 "metadata": {
  "kernelspec": {
   "display_name": "Python 3",
   "language": "python",
   "name": "python3"
  },
  "language_info": {
   "codemirror_mode": {
    "name": "ipython",
    "version": 3
   },
   "file_extension": ".py",
   "mimetype": "text/x-python",
   "name": "python",
   "nbconvert_exporter": "python",
   "pygments_lexer": "ipython3",
   "version": "3.8.2"
  },
  "latex_envs": {
   "LaTeX_envs_menu_present": true,
   "autoclose": false,
   "autocomplete": true,
   "bibliofile": "biblio.bib",
   "cite_by": "apalike",
   "current_citInitial": 1,
   "eqLabelWithNumbers": true,
   "eqNumInitial": 1,
   "hotkeys": {
    "equation": "Ctrl-E",
    "itemize": "Ctrl-I"
   },
   "labels_anchors": false,
   "latex_user_defs": false,
   "report_style_numbering": false,
   "user_envs_cfg": false
  }
 },
 "nbformat": 4,
 "nbformat_minor": 1
}
